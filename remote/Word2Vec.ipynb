{
 "cells": [
  {
   "cell_type": "code",
   "execution_count": 2,
   "metadata": {},
   "outputs": [],
   "source": [
    "import gensim\n",
    "from sklearn.manifold import TSNE\n",
    "from gensim.models import Word2Vec\n",
    "from gensim.models import KeyedVectors\n",
    "import gensim.downloader as api\n",
    "import numpy as np\n",
    "import re\n",
    "\n",
    "import string\n",
    "import nltk"
   ]
  },
  {
   "cell_type": "code",
   "execution_count": 3,
   "metadata": {},
   "outputs": [],
   "source": [
    "pathToDatasets = '../datasets/'\n",
    "filePath = '../datasets/GoogleNews-vectors-negative300.bin'\n",
    "word_vectors = api.load(\"glove-wiki-gigaword-100\")"
   ]
  },
  {
   "cell_type": "code",
   "execution_count": 4,
   "metadata": {},
   "outputs": [],
   "source": [
    "# positiveWordList = ['affability', 'affable', 'affably', 'affectation', 'affection', 'affectionate', 'affinity', 'affirm', 'affirmation', 'affirmative']\n",
    "# negativeWordList = ['varice', 'avaricious', 'avariciously', 'avenge', 'averse', 'aversion', 'aweful', 'awful', 'awfully', 'awfulness']\n",
    "\n",
    "# dimensionsDictionary = {}\n",
    "# countOfWords = 0;\n",
    "\n",
    "# def countDimensions(listOfDimensions):\n",
    "#   for dimension in listOfDimensions:\n",
    "#     if (dimensionsDictionary.get(dimension) == None):\n",
    "#       dimensionsDictionary[dimension] = 1;\n",
    "#     else:\n",
    "#       dimensionsDictionary[dimension] +=1;\n"
   ]
  },
  {
   "cell_type": "code",
   "execution_count": 5,
   "metadata": {},
   "outputs": [],
   "source": [
    "# def sortedDictionary(dictUnsorted):\n",
    "#   sorted_d = sorted(dictUnsorted.items(), key=lambda x: x[1], reverse=True)\n",
    "#   return sorted_d;\n",
    "\n"
   ]
  },
  {
   "cell_type": "code",
   "execution_count": 6,
   "metadata": {},
   "outputs": [],
   "source": [
    "# vocabulary = word_vectors.vocab;\n",
    "# for posWord in positiveWordList:\n",
    "#   if(posWord not in vocabulary):\n",
    "#     continue  \n",
    "#   posVector = word_vectors.word_vec(posWord)\n",
    "#   for negWord in negativeWordList:\n",
    "#     if(negWord not in vocabulary):\n",
    "#       continue\n",
    "#     negVector = word_vectors.word_vec(negWord)\n",
    "#     diffBetween = posVector - negVector\n",
    "#     sortedList = sorted(range(len(diffBetween)), key=lambda k: diffBetween[k], reverse=True)\n",
    "#     similarityScore = word_vectors.similarity(posWord, negWord);\n",
    "# #     print(\"Dimensions for word {0} and word {1} is {2} with similarity scores: {3}\".format(posWord, negWord, sortedList[0:3], similarityScore))\n",
    "#     countDimensions(sortedList[0:3]);\n",
    "#     countOfWords+=1;\n",
    "#     # print(\"----- {} -----\".format(diffBetween));\n",
    "\n",
    "# # # print(dimensionsDictionary);\n",
    "# print(sortedDictionary(dimensionsDictionary));\n",
    "# print(\"Count of number of word pairs : {0}\".format(countOfWords))\n",
    "\n"
   ]
  },
  {
   "cell_type": "code",
   "execution_count": 7,
   "metadata": {},
   "outputs": [
    {
     "name": "stderr",
     "output_type": "stream",
     "text": [
      "/cm/shared/languages/Anaconda3-5.2.0/lib/python3.6/site-packages/nltk/twitter/__init__.py:20: UserWarning: The twython library has not been installed. Some functionality from the twitter package will not be available.\n",
      "  warnings.warn(\"The twython library has not been installed. \"\n"
     ]
    }
   ],
   "source": [
    "from nltk.sentiment.vader import SentimentIntensityAnalyzer\n",
    "from nltk.tokenize import word_tokenize\n",
    "\n",
    "\n",
    "\n",
    "senty = SentimentIntensityAnalyzer()\n"
   ]
  },
  {
   "cell_type": "code",
   "execution_count": 8,
   "metadata": {},
   "outputs": [],
   "source": [
    "def listReplacements(word):\n",
    "    possibleReplacements = [word[0] for word in word_vectors.most_similar(word,topn=5)]\n",
    "    \n",
    "    return possibleReplacements\n",
    "\n",
    "def cleanAndTokenizeText(text):\n",
    "    text = text.lower()\n",
    "    newString = \"\"\n",
    "    for char in text:\n",
    "        if char not in string.punctuation:\n",
    "            newString += char\n",
    "    text = word_tokenize(newString)\n",
    "    return text;"
   ]
  },
  {
   "cell_type": "code",
   "execution_count": 11,
   "metadata": {},
   "outputs": [
    {
     "name": "stdout",
     "output_type": "stream",
     "text": [
      "Original Sentence :# Hi Lucy! Welcome to this program, after this I need an excuse to get drunk : 0.2942 #\n",
      "Alternatives: \n",
      "Word being changed : welcome\n",
      "hi lucy welcoming to this program after this i need an excuse to get drunk : 0.2023 --NEG--\n",
      "hi lucy welcomed to this program after this i need an excuse to get drunk : 0.0772 --NEG--\n",
      "hi lucy opportunity to this program after this i need an excuse to get drunk : 0.1779 --NEG--\n",
      "hi lucy wish to this program after this i need an excuse to get drunk : 0.1531 --NEG--\n",
      "hi lucy hope to this program after this i need an excuse to get drunk : 0.2023 --NEG--\n",
      "Word being changed : excuse\n",
      "hi lucy welcome to this program after this i need an pretext to get drunk : 0.1531 --NEG--\n",
      "hi lucy welcome to this program after this i need an justify to get drunk : 0.1531 --NEG--\n",
      "hi lucy welcome to this program after this i need an excuses to get drunk : 0.1531 --NEG--\n",
      "hi lucy welcome to this program after this i need an justification to get drunk : 0.1531 --NEG--\n",
      "hi lucy welcome to this program after this i need an ignore to get drunk : -0.2263 --NEG--\n",
      "Word being changed : drunk\n",
      "hi lucy welcome to this program after this i need an excuse to get intoxicated : 0.5106 ++POS++\n",
      "hi lucy welcome to this program after this i need an excuse to get drunken : 0.5106 ++POS++\n",
      "hi lucy welcome to this program after this i need an excuse to get driving : 0.5106 ++POS++\n",
      "hi lucy welcome to this program after this i need an excuse to get drugged : 0.5106 ++POS++\n",
      "hi lucy welcome to this program after this i need an excuse to get careless : 0.2023 --NEG--\n"
     ]
    }
   ],
   "source": [
    "# userInput = input()\n",
    "userInput = \"Hi Lucy! Welcome to this program, after this I need an excuse to get drunk\"\n",
    "\n",
    "increasePositive = True\n",
    "mainSentiment = senty.polarity_scores(userInput)['compound']\n",
    "\n",
    "userInputTokens = cleanAndTokenizeText(userInput)\n",
    "print(\"Original Sentence :# {0} : {1} #\".format(userInput,mainSentiment))\n",
    "print(\"Alternatives: \")\n",
    "for ind,word in enumerate(userInputTokens):\n",
    "    score = senty.polarity_scores(word)['compound']\n",
    "    newUserTokens = userInputTokens[:];\n",
    "    if(score != 0.0 ):\n",
    "        replacements = listReplacements(word)        \n",
    "        print(\"Word being changed : {0}\".format(word));\n",
    "        for newWord in replacements:\n",
    "            newUserTokens[ind] = newWord;\n",
    "            newString = ' '.join(newUserTokens)\n",
    "            sentimentOfNewString = senty.polarity_scores(newString)['compound']\n",
    "            if(abs(sentimentOfNewString) >= abs(mainSentiment)):\n",
    "                print(\"{0} : {1} ++POS++\".format(newString,sentimentOfNewString))\n",
    "            else:\n",
    "                print(\"{0} : {1} --NEG--\".format(newString,sentimentOfNewString))\n",
    "        newUserTokens = userInputTokens[:];\n"
   ]
  },
  {
   "cell_type": "code",
   "execution_count": null,
   "metadata": {},
   "outputs": [],
   "source": []
  }
 ],
 "metadata": {
  "kernelspec": {
   "display_name": "Python 3",
   "language": "python",
   "name": "python3"
  },
  "language_info": {
   "codemirror_mode": {
    "name": "ipython",
    "version": 3
   },
   "file_extension": ".py",
   "mimetype": "text/x-python",
   "name": "python",
   "nbconvert_exporter": "python",
   "pygments_lexer": "ipython3",
   "version": "3.6.5"
  }
 },
 "nbformat": 4,
 "nbformat_minor": 2
}
