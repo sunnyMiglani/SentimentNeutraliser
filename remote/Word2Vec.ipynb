{
 "cells": [
  {
   "cell_type": "code",
   "execution_count": 2,
   "metadata": {},
   "outputs": [],
   "source": [
    "import gensim\n",
    "from sklearn.manifold import TSNE\n",
    "from gensim.models import Word2Vec\n",
    "from gensim.models import KeyedVectors\n",
    "import gensim.downloader as api\n",
    "import numpy as np\n",
    "import re\n",
    "\n",
    "import string\n",
    "import nltk"
   ]
  },
  {
   "cell_type": "code",
   "execution_count": 3,
   "metadata": {},
   "outputs": [],
   "source": [
    "pathToDatasets = '../datasets/'\n",
    "filePath = '../datasets/GoogleNews-vectors-negative300.bin'\n",
    "word_vectors = api.load(\"glove-wiki-gigaword-100\")"
   ]
  },
  {
   "cell_type": "code",
   "execution_count": 4,
   "metadata": {},
   "outputs": [],
   "source": [
    "positiveWordList = ['affability', 'affable', 'affably', 'affectation', 'affection', 'affectionate', 'affinity', 'affirm', 'affirmation', 'affirmative']\n",
    "negativeWordList = ['varice', 'avaricious', 'avariciously', 'avenge', 'averse', 'aversion', 'aweful', 'awful', 'awfully', 'awfulness']\n",
    "\n",
    "dimensionsDictionary = {}\n",
    "countOfWords = 0;\n",
    "\n",
    "def countDimensions(listOfDimensions):\n",
    "  for dimension in listOfDimensions:\n",
    "    if (dimensionsDictionary.get(dimension) == None):\n",
    "      dimensionsDictionary[dimension] = 1;\n",
    "    else:\n",
    "      dimensionsDictionary[dimension] +=1;\n"
   ]
  },
  {
   "cell_type": "code",
   "execution_count": 5,
   "metadata": {},
   "outputs": [],
   "source": [
    "def sortedDictionary(dictUnsorted):\n",
    "  sorted_d = sorted(dictUnsorted.items(), key=lambda x: x[1], reverse=True)\n",
    "  return sorted_d;\n",
    "\n"
   ]
  },
  {
   "cell_type": "code",
   "execution_count": 6,
   "metadata": {},
   "outputs": [
    {
     "name": "stdout",
     "output_type": "stream",
     "text": [
      "[(55, 12), (18, 9), (31, 9), (52, 8), (72, 8), (67, 7), (21, 7), (70, 7), (3, 7), (75, 6), (93, 6), (54, 5), (49, 5), (62, 5), (51, 5), (5, 5), (32, 5), (19, 5), (0, 5), (35, 4), (4, 4), (85, 4), (14, 4), (68, 4), (71, 4), (58, 4), (33, 3), (9, 3), (74, 3), (29, 3), (27, 3), (34, 3), (40, 2), (39, 2), (42, 2), (78, 2), (24, 2), (87, 2), (66, 2), (84, 2), (1, 2), (36, 2), (28, 2), (88, 2), (99, 2), (43, 1), (69, 1), (89, 1), (2, 1), (63, 1), (48, 1), (16, 1), (37, 1), (79, 1), (7, 1), (23, 1), (20, 1)]\n",
      "Count of number of word pairs : 70\n"
     ]
    }
   ],
   "source": [
    "vocabulary = word_vectors.vocab;\n",
    "for posWord in positiveWordList:\n",
    "  if(posWord not in vocabulary):\n",
    "    continue  \n",
    "  posVector = word_vectors.word_vec(posWord)\n",
    "  for negWord in negativeWordList:\n",
    "    if(negWord not in vocabulary):\n",
    "      continue\n",
    "    negVector = word_vectors.word_vec(negWord)\n",
    "    diffBetween = posVector - negVector\n",
    "    sortedList = sorted(range(len(diffBetween)), key=lambda k: diffBetween[k], reverse=True)\n",
    "    similarityScore = word_vectors.similarity(posWord, negWord);\n",
    "#     print(\"Dimensions for word {0} and word {1} is {2} with similarity scores: {3}\".format(posWord, negWord, sortedList[0:3], similarityScore))\n",
    "    countDimensions(sortedList[0:3]);\n",
    "    countOfWords+=1;\n",
    "    # print(\"----- {} -----\".format(diffBetween));\n",
    "\n",
    "# # print(dimensionsDictionary);\n",
    "print(sortedDictionary(dimensionsDictionary));\n",
    "print(\"Count of number of word pairs : {0}\".format(countOfWords))\n",
    "\n"
   ]
  },
  {
   "cell_type": "code",
   "execution_count": 7,
   "metadata": {},
   "outputs": [
    {
     "name": "stderr",
     "output_type": "stream",
     "text": [
      "/cm/shared/languages/Anaconda3-5.2.0/lib/python3.6/site-packages/nltk/twitter/__init__.py:20: UserWarning: The twython library has not been installed. Some functionality from the twitter package will not be available.\n",
      "  warnings.warn(\"The twython library has not been installed. \"\n"
     ]
    }
   ],
   "source": [
    "from nltk.sentiment.vader import SentimentIntensityAnalyzer\n",
    "from nltk.tokenize import word_tokenize\n",
    "\n",
    "\n",
    "\n",
    "sid = SentimentIntensityAnalyzer()\n"
   ]
  },
  {
   "cell_type": "code",
   "execution_count": 12,
   "metadata": {},
   "outputs": [],
   "source": [
    "def listReplacements(word):\n",
    "    possibleReplacements = [word[0] for word in word_vectors.most_similar(word,topn=5)]\n",
    "    \n",
    "    return possibleReplacements"
   ]
  },
  {
   "cell_type": "code",
   "execution_count": 18,
   "metadata": {},
   "outputs": [
    {
     "name": "stdout",
     "output_type": "stream",
     "text": [
      "['this', 'is', 'the', 'best', 'sentence', 'i', 'have', 'ever', 'heard']\n",
      "'best' at score 0.6369: ['good', 'well', 'better', 'winning', 'one']\n",
      "'sentence' at score 0.0772: ['sentences', 'imprisonment', 'jail', 'sentencing', 'conviction']\n"
     ]
    }
   ],
   "source": [
    "# userInput = input()\n",
    "userInput = \"This is the best sentence i have ever heard!\"\n",
    "\n",
    "userInput = userInput.lower()\n",
    "newString = \"\"\n",
    "for char in userInput:\n",
    "    if char not in string.punctuation:\n",
    "        newString += char\n",
    "userInputTokens = word_tokenize(newString)\n",
    "print(userInputTokens)\n",
    "\n",
    "for token in userInputTokens:\n",
    "    score = sid.polarity_scores(token)['compound']\n",
    "    if(score >= 0.5 or score <= 0.5 and score !=0.0 ):\n",
    "        lists = listReplacements(token)\n",
    "        print(\"'{0}' at score {2}: {1}\".format( token, lists, score) )"
   ]
  },
  {
   "cell_type": "code",
   "execution_count": null,
   "metadata": {},
   "outputs": [],
   "source": []
  }
 ],
 "metadata": {
  "kernelspec": {
   "display_name": "Python 3",
   "language": "python",
   "name": "python3"
  },
  "language_info": {
   "codemirror_mode": {
    "name": "ipython",
    "version": 3
   },
   "file_extension": ".py",
   "mimetype": "text/x-python",
   "name": "python",
   "nbconvert_exporter": "python",
   "pygments_lexer": "ipython3",
   "version": "3.6.5"
  }
 },
 "nbformat": 4,
 "nbformat_minor": 2
}
