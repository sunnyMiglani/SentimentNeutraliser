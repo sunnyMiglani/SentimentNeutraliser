{
 "cells": [
  {
   "cell_type": "code",
   "execution_count": 1,
   "metadata": {},
   "outputs": [],
   "source": [
    "import nltk# imports nltk\n",
    "import numpy\n",
    "import matplotlib.pyplot\n",
    "import TwitterSearch\n",
    "import unidecode\n",
    "import langdetect\n",
    "import langid\n",
    "import string\n",
    "import gensim\n"
   ]
  },
  {
   "cell_type": "code",
   "execution_count": 3,
   "metadata": {},
   "outputs": [
    {
     "name": "stdout",
     "output_type": "stream",
     "text": [
      "showing info https://raw.githubusercontent.com/nltk/nltk_data/gh-pages/index.xml\n"
     ]
    },
    {
     "data": {
      "text/plain": [
       "True"
      ]
     },
     "execution_count": 3,
     "metadata": {},
     "output_type": "execute_result"
    }
   ],
   "source": [
    "nltk.download()"
   ]
  },
  {
   "cell_type": "code",
   "execution_count": 15,
   "metadata": {},
   "outputs": [
    {
     "name": "stdout",
     "output_type": "stream",
     "text": [
      "<Text: scenemessina act scene orchard leonatos house enter leonato...>\n"
     ]
    }
   ],
   "source": [
    "from nltk.tokenize import word_tokenize\n",
    "from nltk.text import Text\n",
    "from nltk.stem.porter import PorterStemmer\n",
    "\n",
    "with open('muchAdoAboutNothing.txt', 'r', newline=None) as f:\n",
    "    raw = f.read()\n",
    "raw = raw.replace(\"\\n\",\" \").replace(\"    \",\" \").replace(\":\",\" \");\n",
    "raw = raw.translate(str.maketrans(' ',' ', string.punctuation))\n",
    "raw = raw.split()\n",
    "stop_words = (nltk.corpus.stopwords.words('english'))\n",
    "stop_words.append('i');\n",
    "\n",
    "raw = [str(word.lower()) for word in raw if (word.isalpha() and word.lower() not in stop_words)]\n",
    "# print(raw)\n",
    "\n",
    "text = nltk.Text(raw)\n",
    "\n",
    "print(text)"
   ]
  },
  {
   "cell_type": "code",
   "execution_count": 16,
   "metadata": {},
   "outputs": [
    {
     "name": "stdout",
     "output_type": "stream",
     "text": [
      "signior benedick; leonatos house; exeunt scene; chamber window; house\n",
      "enter; pray thee; good morrow; prince claudio; master constable; thou\n",
      "wilt; count claudio; come hither; margaret ursula; thou art; thou\n",
      "hast; dost thou; hall leonatos; fare well; dogberry verges; scene iii\n"
     ]
    }
   ],
   "source": [
    "text.collocations()"
   ]
  },
  {
   "cell_type": "code",
   "execution_count": 32,
   "metadata": {},
   "outputs": [
    {
     "name": "stdout",
     "output_type": "stream",
     "text": [
      "pray thee beat good morrow masters watch dog come hither orchard enter pedro claudio benedick bene aside look pedro claudio benedick bene aside look pedro claudio benedick bene aside look "
     ]
    }
   ],
   "source": [
    "from nltk.probability import ConditionalFreqDist\n",
    "bigrams = nltk.bigrams(text)\n",
    "cfDist = ConditionalFreqDist(bigrams)\n",
    "# print(list(cfDist['claudio']))\n",
    "\n",
    "tstWord = 'pray'\n",
    "for i in range(0,30):\n",
    "    print(\"{0} \".format(tstWord), end = \"\")\n",
    "    tstWord = cfDist[tstWord].max()"
   ]
  },
  {
   "cell_type": "code",
   "execution_count": 42,
   "metadata": {},
   "outputs": [
    {
     "name": "stdout",
     "output_type": "stream",
     "text": [
      "[Synset('potato.n.01'), Synset('potato.n.02')]\n",
      "['potato', 'white_potato', 'Irish_potato', 'murphy', 'spud', 'tater']\n",
      "an edible tuber native to South America; a staple food of Ireland\n"
     ]
    }
   ],
   "source": [
    "from nltk.corpus import wordnet as wn\n",
    "syns = wn.synsets('potato')\n",
    "print(syns)\n",
    "potatoSynset = wn.synset('potato.n.01').lemma_names()\n",
    "print(potatoSynset)\n",
    "meaning = wn.synset('potato.n.01').definition()\n",
    "print(meaning)"
   ]
  },
  {
   "cell_type": "code",
   "execution_count": null,
   "metadata": {},
   "outputs": [],
   "source": []
  }
 ],
 "metadata": {
  "kernelspec": {
   "display_name": "Python 3",
   "language": "python",
   "name": "python3"
  },
  "language_info": {
   "codemirror_mode": {
    "name": "ipython",
    "version": 3
   },
   "file_extension": ".py",
   "mimetype": "text/x-python",
   "name": "python",
   "nbconvert_exporter": "python",
   "pygments_lexer": "ipython3",
   "version": "3.6.5"
  }
 },
 "nbformat": 4,
 "nbformat_minor": 2
}
