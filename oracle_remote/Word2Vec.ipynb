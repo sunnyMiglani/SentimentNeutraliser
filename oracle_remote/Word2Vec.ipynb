{
 "cells": [
  {
   "cell_type": "code",
   "execution_count": 1,
   "metadata": {},
   "outputs": [],
   "source": [
    "import gensim\n",
    "from sklearn.manifold import TSNE\n",
    "from gensim.models import Word2Vec\n",
    "from gensim.models import KeyedVectors\n",
    "import gensim.downloader as api\n",
    "import numpy as np\n",
    "import re\n",
    "import csv\n",
    "\n",
    "import pandas as pd\n",
    "import pprint\n",
    "\n",
    "import string\n",
    "import nltk\n",
    "\n",
    "\n",
    "from IPython.display import HTML\n"
   ]
  },
  {
   "cell_type": "code",
   "execution_count": 2,
   "metadata": {
    "scrolled": true
   },
   "outputs": [
    {
     "name": "stdout",
     "output_type": "stream",
     "text": [
      "[nltk_data] Downloading package vader_lexicon to\n",
      "[nltk_data]     /home/ubuntu/nltk_data...\n",
      "[nltk_data]   Package vader_lexicon is already up-to-date!\n",
      "[nltk_data] Downloading package punkt to /home/ubuntu/nltk_data...\n",
      "[nltk_data]   Package punkt is already up-to-date!\n",
      "[nltk_data] Downloading package averaged_perceptron_tagger to\n",
      "[nltk_data]     /home/ubuntu/nltk_data...\n",
      "[nltk_data]   Package averaged_perceptron_tagger is already up-to-\n",
      "[nltk_data]       date!\n"
     ]
    },
    {
     "data": {
      "text/plain": [
       "True"
      ]
     },
     "execution_count": 2,
     "metadata": {},
     "output_type": "execute_result"
    }
   ],
   "source": [
    "pathToDatasets = '../datasets/'\n",
    "filePath = '../datasets/GoogleNews-vectors-negative300.bin'\n",
    "word_vectors = api.load(\"glove-wiki-gigaword-100\")\n",
    "nltk.download('vader_lexicon')\n",
    "nltk.download('punkt')\n",
    "nltk.download('averaged_perceptron_tagger')"
   ]
  },
  {
   "cell_type": "code",
   "execution_count": 3,
   "metadata": {},
   "outputs": [
    {
     "name": "stderr",
     "output_type": "stream",
     "text": [
      "/home/ubuntu/anaconda3/lib/python3.6/site-packages/nltk/twitter/__init__.py:20: UserWarning: The twython library has not been installed. Some functionality from the twitter package will not be available.\n",
      "  warnings.warn(\"The twython library has not been installed. \"\n"
     ]
    }
   ],
   "source": [
    "from nltk.sentiment.vader import SentimentIntensityAnalyzer\n",
    "from nltk.tokenize import word_tokenize\n",
    "\n",
    "\n",
    "\n",
    "senty = SentimentIntensityAnalyzer()\n",
    "vocabulary = word_vectors.vocab;\n",
    "\n",
    "\n",
    "NUMBER_OF_ALTERNATIVES = 7\n",
    "TWEET_START = 50\n",
    "NUM_OF_TWEETS = 50"
   ]
  },
  {
   "cell_type": "code",
   "execution_count": 4,
   "metadata": {},
   "outputs": [],
   "source": [
    "def cstr(s, color='black'):\n",
    "    return \"<text style=color:{}>{}</text>\".format(color, s)"
   ]
  },
  {
   "cell_type": "markdown",
   "metadata": {},
   "source": [
    "## Utility Code"
   ]
  },
  {
   "cell_type": "code",
   "execution_count": 5,
   "metadata": {},
   "outputs": [],
   "source": [
    "def cleanAndTokenizeText(text):\n",
    "    text = text.lower()\n",
    "    newString = \"\"\n",
    "    for char in text:\n",
    "        if char not in string.punctuation:\n",
    "            newString += char\n",
    "    text = word_tokenize(newString)\n",
    "    return text;\n",
    "\n",
    "def listReplacements(word):\n",
    "    if(word not in vocabulary):\n",
    "        return []\n",
    "    possibleReplacements = [word[0] for word in word_vectors.most_similar(word,topn=NUMBER_OF_ALTERNATIVES)]\n",
    "    return possibleReplacements\n",
    "\n",
    "def getPOSTags(tweet):\n",
    "    tags = nltk.pos_tag(tweet)\n",
    "    return(tags)"
   ]
  },
  {
   "cell_type": "markdown",
   "metadata": {},
   "source": [
    "## NLP Utility Code"
   ]
  },
  {
   "cell_type": "code",
   "execution_count": 6,
   "metadata": {},
   "outputs": [],
   "source": [
    "def listReplacements(word):\n",
    "    if(word not in vocabulary):\n",
    "        return []\n",
    "    possibleReplacements = [word[0] for word in word_vectors.most_similar(word,topn=NUMBER_OF_ALTERNATIVES)]\n",
    "    return possibleReplacements\n",
    "\n",
    "\n",
    "def posApprovedReplacements(alternativeWords, userTokens, indexOfToken):\n",
    "    if(alternativeWords == []):\n",
    "        return []\n",
    "    tempTokens = userTokens[:]\n",
    "    truePOSTokens = getPOSTags(tempTokens)\n",
    "    validWords = []\n",
    "    \n",
    "    mainTag = truePOSTokens[indexOfToken][1]\n",
    "    mainWord = userTokens[indexOfToken]\n",
    "    \n",
    "    for ind,word in enumerate(alternativeWords):\n",
    "        tempTokens[indexOfToken] = word\n",
    "        posTags = getPOSTags(tempTokens)\n",
    "        newTag = (posTags[indexOfToken])[1]\n",
    "\n",
    "        if(str(newTag) == str(mainTag)):\n",
    "            print(\"Word {0}[{1}] replaced with {2}[{3}]\".format(mainWord, mainTag, word,newTag))\n",
    "            validWords.append(word)\n",
    "    return validWords\n",
    "        "
   ]
  },
  {
   "cell_type": "code",
   "execution_count": 7,
   "metadata": {},
   "outputs": [],
   "source": [
    "def getAlternativeSentences(tweet, sentimentOfTweet):\n",
    "    userInputTokens = cleanAndTokenizeText(tweet)\n",
    "    \n",
    "   \n",
    "    alternativeStrings = []\n",
    "    for ind,word in enumerate(userInputTokens):\n",
    "        \n",
    "        score = senty.polarity_scores(word)['compound'] # get the aggregated score!\n",
    "        newUserTokens = userInputTokens[:]\n",
    "        \n",
    "        if(score != 0.0):\n",
    "            replacements = listReplacements(word)       \n",
    "            replacements = posApprovedReplacements(replacements[:], newUserTokens[:], ind)\n",
    "            if(replacements == []):\n",
    "                continue          \n",
    "            print(\"Word changed: {0}\".format(word));\n",
    "            for newWord in replacements:\n",
    "                \n",
    "                newUserTokens[ind] = cstr(\" <i>[{0}]</i> \".format(newWord), 'blue');\n",
    "                newString = ' '.join(newUserTokens)\n",
    "                sentimentOfNewString = senty.polarity_scores(newString)['compound']\n",
    "             \n",
    "            \n",
    "                if(sentimentOfNewString == 0):\n",
    "                    continue\n",
    "                \n",
    "                alternativeStrings.append(newString)\n",
    "    return alternativeStrings;"
   ]
  },
  {
   "cell_type": "markdown",
   "metadata": {},
   "source": [
    "## Main Cells"
   ]
  },
  {
   "cell_type": "code",
   "execution_count": 8,
   "metadata": {
    "scrolled": false
   },
   "outputs": [
    {
     "name": "stdout",
     "output_type": "stream",
     "text": [
      "Word broken[NN] replaced with breaking[NN]\n",
      "Word broken[NN] replaced with broke[NN]\n",
      "Word broken[NN] replaced with apart[NN]\n",
      "Word broken[NN] replaced with neck[NN]\n",
      "Word changed: broken\n",
      "Word promise[NN] replaced with pledge[NN]\n",
      "Word promise[NN] replaced with commitment[NN]\n",
      "Word promise[NN] replaced with hope[NN]\n",
      "Word promise[NN] replaced with give[NN]\n",
      "Word promise[NN] replaced with desire[NN]\n",
      "Word changed: promise\n",
      "\n",
      "NUM(0) broadband plan 'a massive broken promise'  via  still waiting for broadband we are :-0.2023\n",
      "\n"
     ]
    },
    {
     "data": {
      "text/html": [
       "<text style=color:green>broadband plan a massive <text style=color:blue> <i>[breaking]</i> </text> promise via still waiting for broadband we are: 0.3182</text>"
      ],
      "text/plain": [
       "<IPython.core.display.HTML object>"
      ]
     },
     "metadata": {},
     "output_type": "display_data"
    },
    {
     "data": {
      "text/html": [
       "<text style=color:green>broadband plan a massive <text style=color:blue> <i>[broke]</i> </text> promise via still waiting for broadband we are: 0.3182</text>"
      ],
      "text/plain": [
       "<IPython.core.display.HTML object>"
      ]
     },
     "metadata": {},
     "output_type": "display_data"
    },
    {
     "data": {
      "text/html": [
       "<text style=color:green>broadband plan a massive <text style=color:blue> <i>[apart]</i> </text> promise via still waiting for broadband we are: 0.3182</text>"
      ],
      "text/plain": [
       "<IPython.core.display.HTML object>"
      ]
     },
     "metadata": {},
     "output_type": "display_data"
    },
    {
     "data": {
      "text/html": [
       "<text style=color:green>broadband plan a massive <text style=color:blue> <i>[neck]</i> </text> promise via still waiting for broadband we are: 0.3182</text>"
      ],
      "text/plain": [
       "<IPython.core.display.HTML object>"
      ]
     },
     "metadata": {},
     "output_type": "display_data"
    },
    {
     "data": {
      "text/html": [
       "<text style=color:red>broadband plan a massive broken <text style=color:blue> <i>[pledge]</i> </text> via still waiting for broadband we are: -0.4767</text>"
      ],
      "text/plain": [
       "<IPython.core.display.HTML object>"
      ]
     },
     "metadata": {},
     "output_type": "display_data"
    },
    {
     "data": {
      "text/html": [
       "<text style=color:red>broadband plan a massive broken <text style=color:blue> <i>[commitment]</i> </text> via still waiting for broadband we are: -0.4767</text>"
      ],
      "text/plain": [
       "<IPython.core.display.HTML object>"
      ]
     },
     "metadata": {},
     "output_type": "display_data"
    },
    {
     "data": {
      "text/html": [
       "<text style=color:red>broadband plan a massive broken <text style=color:blue> <i>[hope]</i> </text> via still waiting for broadband we are: -0.4767</text>"
      ],
      "text/plain": [
       "<IPython.core.display.HTML object>"
      ]
     },
     "metadata": {},
     "output_type": "display_data"
    },
    {
     "data": {
      "text/html": [
       "<text style=color:red>broadband plan a massive broken <text style=color:blue> <i>[give]</i> </text> via still waiting for broadband we are: -0.4767</text>"
      ],
      "text/plain": [
       "<IPython.core.display.HTML object>"
      ]
     },
     "metadata": {},
     "output_type": "display_data"
    },
    {
     "data": {
      "text/html": [
       "<text style=color:red>broadband plan a massive broken <text style=color:blue> <i>[desire]</i> </text> via still waiting for broadband we are: -0.4767</text>"
      ],
      "text/plain": [
       "<IPython.core.display.HTML object>"
      ]
     },
     "metadata": {},
     "output_type": "display_data"
    },
    {
     "name": "stdout",
     "output_type": "stream",
     "text": [
      "Word wow[JJ] replaced with c'mon[JJ]\n",
      "Word wow[JJ] replaced with hey[JJ]\n",
      "Word wow[JJ] replaced with gosh[JJ]\n",
      "Word wow[JJ] replaced with whew[JJ]\n",
      "Word changed: wow\n",
      "Word friends[NNS] replaced with parents[NNS]\n",
      "Word friends[NNS] replaced with relatives[NNS]\n",
      "Word friends[NNS] replaced with others[NNS]\n",
      "Word changed: friends\n",
      "\n",
      "NUM(1)  wow tons of replies from you may have to unfollow so i can see my friends' tweets you're scrolling the feed a lot. :0.7845\n",
      "\n"
     ]
    },
    {
     "data": {
      "text/html": [
       "<text style=color:red><text style=color:blue> <i>[c'mon]</i> </text> tons of replies from you may have to unfollow so i can see my friends tweets youre scrolling the feed a lot: 0.4767</text>"
      ],
      "text/plain": [
       "<IPython.core.display.HTML object>"
      ]
     },
     "metadata": {},
     "output_type": "display_data"
    },
    {
     "data": {
      "text/html": [
       "<text style=color:red><text style=color:blue> <i>[hey]</i> </text> tons of replies from you may have to unfollow so i can see my friends tweets youre scrolling the feed a lot: 0.4767</text>"
      ],
      "text/plain": [
       "<IPython.core.display.HTML object>"
      ]
     },
     "metadata": {},
     "output_type": "display_data"
    },
    {
     "data": {
      "text/html": [
       "<text style=color:red><text style=color:blue> <i>[gosh]</i> </text> tons of replies from you may have to unfollow so i can see my friends tweets youre scrolling the feed a lot: 0.4767</text>"
      ],
      "text/plain": [
       "<IPython.core.display.HTML object>"
      ]
     },
     "metadata": {},
     "output_type": "display_data"
    },
    {
     "data": {
      "text/html": [
       "<text style=color:red><text style=color:blue> <i>[whew]</i> </text> tons of replies from you may have to unfollow so i can see my friends tweets youre scrolling the feed a lot: 0.4767</text>"
      ],
      "text/plain": [
       "<IPython.core.display.HTML object>"
      ]
     },
     "metadata": {},
     "output_type": "display_data"
    },
    {
     "data": {
      "text/html": [
       "<text style=color:red>wow tons of replies from you may have to unfollow so i can see my <text style=color:blue> <i>[parents]</i> </text> tweets youre scrolling the feed a lot: 0.5859</text>"
      ],
      "text/plain": [
       "<IPython.core.display.HTML object>"
      ]
     },
     "metadata": {},
     "output_type": "display_data"
    },
    {
     "data": {
      "text/html": [
       "<text style=color:red>wow tons of replies from you may have to unfollow so i can see my <text style=color:blue> <i>[relatives]</i> </text> tweets youre scrolling the feed a lot: 0.5859</text>"
      ],
      "text/plain": [
       "<IPython.core.display.HTML object>"
      ]
     },
     "metadata": {},
     "output_type": "display_data"
    },
    {
     "data": {
      "text/html": [
       "<text style=color:red>wow tons of replies from you may have to unfollow so i can see my <text style=color:blue> <i>[others]</i> </text> tweets youre scrolling the feed a lot: 0.5859</text>"
      ],
      "text/plain": [
       "<IPython.core.display.HTML object>"
      ]
     },
     "metadata": {},
     "output_type": "display_data"
    },
    {
     "name": "stdout",
     "output_type": "stream",
     "text": [
      "Word forget[VBP] replaced with remember[VBP]\n",
      "Word forget[VBP] replaced with tell[VBP]\n",
      "Word forget[VBP] replaced with imagine[VBP]\n",
      "Word forget[VBP] replaced with know[VBP]\n",
      "Word changed: forget\n",
      "Word hug[NN] replaced with hugs[NN]\n",
      "Word hug[NN] replaced with kiss[NN]\n",
      "Word hug[NN] replaced with hugged[NN]\n",
      "Word hug[NN] replaced with goodbye[NN]\n",
      "Word changed: hug\n",
      "Word want[VBP] replaced with do[VBP]\n",
      "Word want[VBP] replaced with know[VBP]\n",
      "Word want[VBP] replaced with get[VBP]\n",
      "Word changed: want\n",
      "Word assets[NNS] replaced with investments[NNS]\n",
      "Word assets[NNS] replaced with funds[NNS]\n",
      "Word assets[NNS] replaced with debts[NNS]\n",
      "Word changed: assets\n",
      "Word sorry[VBP] replaced with 'm[VBP]\n",
      "Word sorry[VBP] replaced with glad[VBP]\n",
      "Word sorry[VBP] replaced with sad[VBP]\n",
      "Word sorry[VBP] replaced with regret[VBP]\n",
      "Word changed: sorry\n",
      "\n",
      "NUM(5)  not sure what they are only that they are pos! as much as i want to i dont think can trade away company assets sorry andy! :-0.2134\n",
      "\n"
     ]
    },
    {
     "data": {
      "text/html": [
       "<text style=color:green>not sure what they are only that they are pos as much as i <text style=color:blue> <i>[do]</i> </text> to i dont think can trade away company assets sorry andy: -0.1436</text>"
      ],
      "text/plain": [
       "<IPython.core.display.HTML object>"
      ]
     },
     "metadata": {},
     "output_type": "display_data"
    },
    {
     "data": {
      "text/html": [
       "<text style=color:green>not sure what they are only that they are pos as much as i <text style=color:blue> <i>[know]</i> </text> to i dont think can trade away company assets sorry andy: -0.1436</text>"
      ],
      "text/plain": [
       "<IPython.core.display.HTML object>"
      ]
     },
     "metadata": {},
     "output_type": "display_data"
    },
    {
     "data": {
      "text/html": [
       "<text style=color:green>not sure what they are only that they are pos as much as i <text style=color:blue> <i>[get]</i> </text> to i dont think can trade away company assets sorry andy: -0.1436</text>"
      ],
      "text/plain": [
       "<IPython.core.display.HTML object>"
      ]
     },
     "metadata": {},
     "output_type": "display_data"
    },
    {
     "data": {
      "text/html": [
       "<text style=color:red>not sure what they are only that they are pos as much as i want to i dont think can trade away company <text style=color:blue> <i>[investments]</i> </text> sorry andy: -0.2411</text>"
      ],
      "text/plain": [
       "<IPython.core.display.HTML object>"
      ]
     },
     "metadata": {},
     "output_type": "display_data"
    },
    {
     "data": {
      "text/html": [
       "<text style=color:red>not sure what they are only that they are pos as much as i want to i dont think can trade away company <text style=color:blue> <i>[funds]</i> </text> sorry andy: -0.2411</text>"
      ],
      "text/plain": [
       "<IPython.core.display.HTML object>"
      ]
     },
     "metadata": {},
     "output_type": "display_data"
    },
    {
     "data": {
      "text/html": [
       "<text style=color:red>not sure what they are only that they are pos as much as i want to i dont think can trade away company <text style=color:blue> <i>[debts]</i> </text> sorry andy: -0.2411</text>"
      ],
      "text/plain": [
       "<IPython.core.display.HTML object>"
      ]
     },
     "metadata": {},
     "output_type": "display_data"
    },
    {
     "data": {
      "text/html": [
       "<text style=color:green>not sure what they are only that they are pos as much as i want to i dont think can trade away company assets <text style=color:blue> <i>['m]</i> </text> andy: 0.0098</text>"
      ],
      "text/plain": [
       "<IPython.core.display.HTML object>"
      ]
     },
     "metadata": {},
     "output_type": "display_data"
    },
    {
     "data": {
      "text/html": [
       "<text style=color:green>not sure what they are only that they are pos as much as i want to i dont think can trade away company assets <text style=color:blue> <i>[glad]</i> </text> andy: 0.0098</text>"
      ],
      "text/plain": [
       "<IPython.core.display.HTML object>"
      ]
     },
     "metadata": {},
     "output_type": "display_data"
    },
    {
     "data": {
      "text/html": [
       "<text style=color:green>not sure what they are only that they are pos as much as i want to i dont think can trade away company assets <text style=color:blue> <i>[sad]</i> </text> andy: 0.0098</text>"
      ],
      "text/plain": [
       "<IPython.core.display.HTML object>"
      ]
     },
     "metadata": {},
     "output_type": "display_data"
    },
    {
     "data": {
      "text/html": [
       "<text style=color:green>not sure what they are only that they are pos as much as i want to i dont think can trade away company assets <text style=color:blue> <i>[regret]</i> </text> andy: 0.0098</text>"
      ],
      "text/plain": [
       "<IPython.core.display.HTML object>"
      ]
     },
     "metadata": {},
     "output_type": "display_data"
    },
    {
     "name": "stdout",
     "output_type": "stream",
     "text": [
      "Word hate[NN] replaced with anyone[NN]\n",
      "Word hate[NN] replaced with crime[NN]\n",
      "Word changed: hate\n",
      "Word sad[JJ] replaced with awful[JJ]\n",
      "Word sad[JJ] replaced with tragic[JJ]\n",
      "Word sad[JJ] replaced with horrible[JJ]\n",
      "Word sad[JJ] replaced with happy[JJ]\n",
      "Word sad[JJ] replaced with poignant[JJ]\n",
      "Word changed: sad\n",
      "Word feeling[NN] replaced with feel[NN]\n",
      "Word feeling[NN] replaced with felt[NN]\n",
      "Word feeling[NN] replaced with sense[NN]\n",
      "Word changed: feeling\n",
      "\n",
      "NUM(7) i have a sad feeling that dallas is not going to show up  i gotta say though you'd think more shows would use music from the game. mmm:-0.3818\n",
      "\n"
     ]
    },
    {
     "data": {
      "text/html": [
       "<text style=color:green>i have a <text style=color:blue> <i>[awful]</i> </text> feeling that dallas is not going to show up i got ta say though youd think more shows would use music from the game mmm: 0.128</text>"
      ],
      "text/plain": [
       "<IPython.core.display.HTML object>"
      ]
     },
     "metadata": {},
     "output_type": "display_data"
    },
    {
     "data": {
      "text/html": [
       "<text style=color:green>i have a <text style=color:blue> <i>[tragic]</i> </text> feeling that dallas is not going to show up i got ta say though youd think more shows would use music from the game mmm: 0.128</text>"
      ],
      "text/plain": [
       "<IPython.core.display.HTML object>"
      ]
     },
     "metadata": {},
     "output_type": "display_data"
    },
    {
     "data": {
      "text/html": [
       "<text style=color:green>i have a <text style=color:blue> <i>[horrible]</i> </text> feeling that dallas is not going to show up i got ta say though youd think more shows would use music from the game mmm: 0.128</text>"
      ],
      "text/plain": [
       "<IPython.core.display.HTML object>"
      ]
     },
     "metadata": {},
     "output_type": "display_data"
    },
    {
     "data": {
      "text/html": [
       "<text style=color:green>i have a <text style=color:blue> <i>[happy]</i> </text> feeling that dallas is not going to show up i got ta say though youd think more shows would use music from the game mmm: 0.128</text>"
      ],
      "text/plain": [
       "<IPython.core.display.HTML object>"
      ]
     },
     "metadata": {},
     "output_type": "display_data"
    },
    {
     "data": {
      "text/html": [
       "<text style=color:green>i have a <text style=color:blue> <i>[poignant]</i> </text> feeling that dallas is not going to show up i got ta say though youd think more shows would use music from the game mmm: 0.128</text>"
      ],
      "text/plain": [
       "<IPython.core.display.HTML object>"
      ]
     },
     "metadata": {},
     "output_type": "display_data"
    },
    {
     "data": {
      "text/html": [
       "<text style=color:red>i have a sad <text style=color:blue> <i>[feel]</i> </text> that dallas is not going to show up i got ta say though youd think more shows would use music from the game mmm: -0.4767</text>"
      ],
      "text/plain": [
       "<IPython.core.display.HTML object>"
      ]
     },
     "metadata": {},
     "output_type": "display_data"
    },
    {
     "data": {
      "text/html": [
       "<text style=color:red>i have a sad <text style=color:blue> <i>[felt]</i> </text> that dallas is not going to show up i got ta say though youd think more shows would use music from the game mmm: -0.4767</text>"
      ],
      "text/plain": [
       "<IPython.core.display.HTML object>"
      ]
     },
     "metadata": {},
     "output_type": "display_data"
    },
    {
     "data": {
      "text/html": [
       "<text style=color:red>i have a sad <text style=color:blue> <i>[sense]</i> </text> that dallas is not going to show up i got ta say though youd think more shows would use music from the game mmm: -0.4767</text>"
      ],
      "text/plain": [
       "<IPython.core.display.HTML object>"
      ]
     },
     "metadata": {},
     "output_type": "display_data"
    },
    {
     "name": "stdout",
     "output_type": "stream",
     "text": [
      "Word glad[JJ] replaced with thankful[JJ]\n",
      "Word glad[JJ] replaced with pleased[JJ]\n",
      "Word glad[JJ] replaced with happy[JJ]\n",
      "Word changed: glad\n",
      "Word well[RB] replaced with so[RB]\n",
      "Word well[RB] replaced with even[RB]\n",
      "Word changed: well\n",
      "\n",
      "NUM(9) where did u move to?  i thought u were already in sd. ?? hmmm. random u found me. glad to hear yer doing well.:0.6848\n",
      "\n"
     ]
    },
    {
     "data": {
      "text/html": [
       "<text style=color:red>where did u move to i thought u were already in sd hmmm random u found me <text style=color:blue> <i>[thankful]</i> </text> to hear yer doing well: 0.2732</text>"
      ],
      "text/plain": [
       "<IPython.core.display.HTML object>"
      ]
     },
     "metadata": {},
     "output_type": "display_data"
    },
    {
     "data": {
      "text/html": [
       "<text style=color:red>where did u move to i thought u were already in sd hmmm random u found me <text style=color:blue> <i>[pleased]</i> </text> to hear yer doing well: 0.2732</text>"
      ],
      "text/plain": [
       "<IPython.core.display.HTML object>"
      ]
     },
     "metadata": {},
     "output_type": "display_data"
    },
    {
     "data": {
      "text/html": [
       "<text style=color:red>where did u move to i thought u were already in sd hmmm random u found me <text style=color:blue> <i>[happy]</i> </text> to hear yer doing well: 0.2732</text>"
      ],
      "text/plain": [
       "<IPython.core.display.HTML object>"
      ]
     },
     "metadata": {},
     "output_type": "display_data"
    },
    {
     "data": {
      "text/html": [
       "<text style=color:red>where did u move to i thought u were already in sd hmmm random u found me glad to hear yer doing <text style=color:blue> <i>[so]</i> </text>: 0.4588</text>"
      ],
      "text/plain": [
       "<IPython.core.display.HTML object>"
      ]
     },
     "metadata": {},
     "output_type": "display_data"
    },
    {
     "data": {
      "text/html": [
       "<text style=color:red>where did u move to i thought u were already in sd hmmm random u found me glad to hear yer doing <text style=color:blue> <i>[even]</i> </text>: 0.4588</text>"
      ],
      "text/plain": [
       "<IPython.core.display.HTML object>"
      ]
     },
     "metadata": {},
     "output_type": "display_data"
    },
    {
     "name": "stdout",
     "output_type": "stream",
     "text": [
      "Word miss[VBP] replaced with play[VBP]\n",
      "Word changed: miss\n",
      "Word playing[VBG] replaced with having[VBG]\n",
      "Word changed: playing\n",
      "\n",
      "NUM(10)  i miss my ps3 it's out of commission  wutcha playing? have you copped 'blood on the sand'?:0.1431\n",
      "\n"
     ]
    },
    {
     "data": {
      "text/html": [
       "<text style=color:green>i <text style=color:blue> <i>[play]</i> </text> my ps3 its out of commission wutcha playing have you copped blood on the sand: 0.2023</text>"
      ],
      "text/plain": [
       "<IPython.core.display.HTML object>"
      ]
     },
     "metadata": {},
     "output_type": "display_data"
    },
    {
     "data": {
      "text/html": [
       "<text style=color:red>i miss my ps3 its out of commission wutcha <text style=color:blue> <i>[having]</i> </text> have you copped blood on the sand: -0.1531</text>"
      ],
      "text/plain": [
       "<IPython.core.display.HTML object>"
      ]
     },
     "metadata": {},
     "output_type": "display_data"
    },
    {
     "name": "stdout",
     "output_type": "stream",
     "text": [
      "Word cool[JJ] replaced with hot[JJ]\n",
      "Word cool[JJ] replaced with warm[JJ]\n",
      "Word cool[JJ] replaced with dry[JJ]\n",
      "Word cool[JJ] replaced with cold[JJ]\n",
      "Word cool[JJ] replaced with chill[JJ]\n",
      "Word cool[JJ] replaced with heat[JJ]\n",
      "Word changed: cool\n",
      "Word sadly[RB] replaced with thankfully[RB]\n",
      "Word sadly[RB] replaced with terribly[RB]\n",
      "Word sadly[RB] replaced with frankly[RB]\n",
      "Word sadly[RB] replaced with curiously[RB]\n",
      "Word sadly[RB] replaced with painfully[RB]\n",
      "Word sadly[RB] replaced with strangely[RB]\n",
      "Word changed: sadly\n",
      "Word nice[JJ] replaced with good[JJ]\n",
      "Word nice[JJ] replaced with happy[JJ]\n",
      "Word nice[JJ] replaced with perfect[JJ]\n",
      "Word nice[JJ] replaced with pretty[JJ]\n",
      "Word nice[JJ] replaced with wonderful[JJ]\n",
      "Word nice[JJ] replaced with lovely[JJ]\n",
      "Word nice[JJ] replaced with guy[JJ]\n",
      "Word changed: nice\n",
      "Word bad[JJ] replaced with good[JJ]\n",
      "Word changed: bad\n",
      "\n",
      "NUM(14) i had such a nice day. too bad the rain comes in tomorrow at 5am :-0.1779\n",
      "\n"
     ]
    },
    {
     "data": {
      "text/html": [
       "<text style=color:red>i had such a <text style=color:blue> <i>[good]</i> </text> day too bad the rain comes in tomorrow at 5am: -0.5423</text>"
      ],
      "text/plain": [
       "<IPython.core.display.HTML object>"
      ]
     },
     "metadata": {},
     "output_type": "display_data"
    },
    {
     "data": {
      "text/html": [
       "<text style=color:red>i had such a <text style=color:blue> <i>[happy]</i> </text> day too bad the rain comes in tomorrow at 5am: -0.5423</text>"
      ],
      "text/plain": [
       "<IPython.core.display.HTML object>"
      ]
     },
     "metadata": {},
     "output_type": "display_data"
    },
    {
     "data": {
      "text/html": [
       "<text style=color:red>i had such a <text style=color:blue> <i>[perfect]</i> </text> day too bad the rain comes in tomorrow at 5am: -0.5423</text>"
      ],
      "text/plain": [
       "<IPython.core.display.HTML object>"
      ]
     },
     "metadata": {},
     "output_type": "display_data"
    },
    {
     "data": {
      "text/html": [
       "<text style=color:red>i had such a <text style=color:blue> <i>[pretty]</i> </text> day too bad the rain comes in tomorrow at 5am: -0.5423</text>"
      ],
      "text/plain": [
       "<IPython.core.display.HTML object>"
      ]
     },
     "metadata": {},
     "output_type": "display_data"
    },
    {
     "data": {
      "text/html": [
       "<text style=color:red>i had such a <text style=color:blue> <i>[wonderful]</i> </text> day too bad the rain comes in tomorrow at 5am: -0.5423</text>"
      ],
      "text/plain": [
       "<IPython.core.display.HTML object>"
      ]
     },
     "metadata": {},
     "output_type": "display_data"
    },
    {
     "data": {
      "text/html": [
       "<text style=color:red>i had such a <text style=color:blue> <i>[lovely]</i> </text> day too bad the rain comes in tomorrow at 5am: -0.5423</text>"
      ],
      "text/plain": [
       "<IPython.core.display.HTML object>"
      ]
     },
     "metadata": {},
     "output_type": "display_data"
    },
    {
     "data": {
      "text/html": [
       "<text style=color:red>i had such a <text style=color:blue> <i>[guy]</i> </text> day too bad the rain comes in tomorrow at 5am: -0.5423</text>"
      ],
      "text/plain": [
       "<IPython.core.display.HTML object>"
      ]
     },
     "metadata": {},
     "output_type": "display_data"
    },
    {
     "data": {
      "text/html": [
       "<text style=color:green>i had such a nice day too <text style=color:blue> <i>[good]</i> </text> the rain comes in tomorrow at 5am: 0.4215</text>"
      ],
      "text/plain": [
       "<IPython.core.display.HTML object>"
      ]
     },
     "metadata": {},
     "output_type": "display_data"
    },
    {
     "name": "stdout",
     "output_type": "stream",
     "text": [
      "Word bad[JJ] replaced with good[JJ]\n",
      "Word changed: bad\n",
      "Word lost[VBD] replaced with won[VBD]\n",
      "Word changed: lost\n",
      "Word pay[VB] replaced with cost[VB]\n",
      "Word pay[VB] replaced with receive[VB]\n",
      "Word changed: pay\n",
      "\n",
      "NUM(15)  too bad i won't be around i lost my job and can't even pay my phone bill lmao aw shucks :0.3935\n",
      "\n"
     ]
    },
    {
     "data": {
      "text/html": [
       "<text style=color:green>too <text style=color:blue> <i>[good]</i> </text> i wont be around i lost my job and cant even pay my phone bill lmao aw shucks: 0.7317</text>"
      ],
      "text/plain": [
       "<IPython.core.display.HTML object>"
      ]
     },
     "metadata": {},
     "output_type": "display_data"
    },
    {
     "data": {
      "text/html": [
       "<text style=color:red>too bad i wont be around i <text style=color:blue> <i>[won]</i> </text> my job and cant even pay my phone bill lmao aw shucks: 0.1769</text>"
      ],
      "text/plain": [
       "<IPython.core.display.HTML object>"
      ]
     },
     "metadata": {},
     "output_type": "display_data"
    },
    {
     "data": {
      "text/html": [
       "<text style=color:red>too bad i wont be around i lost my job and cant even <text style=color:blue> <i>[cost]</i> </text> my phone bill lmao aw shucks: 0.3318</text>"
      ],
      "text/plain": [
       "<IPython.core.display.HTML object>"
      ]
     },
     "metadata": {},
     "output_type": "display_data"
    },
    {
     "data": {
      "text/html": [
       "<text style=color:red>too bad i wont be around i lost my job and cant even <text style=color:blue> <i>[receive]</i> </text> my phone bill lmao aw shucks: 0.3318</text>"
      ],
      "text/plain": [
       "<IPython.core.display.HTML object>"
      ]
     },
     "metadata": {},
     "output_type": "display_data"
    },
    {
     "name": "stdout",
     "output_type": "stream",
     "text": [
      "Word no[DT] replaced with any[DT]\n",
      "Word changed: no\n",
      "Word hell[NN] replaced with heaven[NN]\n",
      "Word hell[NN] replaced with crazy[NN]\n",
      "Word changed: hell\n",
      "\n",
      "NUM(17) mo jobs no money.  how in the hell is min wage here 4 f'n clams an hour?:-0.7783\n",
      "\n"
     ]
    },
    {
     "data": {
      "text/html": [
       "<text style=color:green>mo jobs <text style=color:blue> <i>[any]</i> </text> money how in the hell is min wage here 4 fn clams an hour: -0.6808</text>"
      ],
      "text/plain": [
       "<IPython.core.display.HTML object>"
      ]
     },
     "metadata": {},
     "output_type": "display_data"
    },
    {
     "data": {
      "text/html": [
       "<text style=color:green>mo jobs no money how in the <text style=color:blue> <i>[heaven]</i> </text> is min wage here 4 fn clams an hour: -0.296</text>"
      ],
      "text/plain": [
       "<IPython.core.display.HTML object>"
      ]
     },
     "metadata": {},
     "output_type": "display_data"
    },
    {
     "data": {
      "text/html": [
       "<text style=color:green>mo jobs no money how in the <text style=color:blue> <i>[crazy]</i> </text> is min wage here 4 fn clams an hour: -0.296</text>"
      ],
      "text/plain": [
       "<IPython.core.display.HTML object>"
      ]
     },
     "metadata": {},
     "output_type": "display_data"
    },
    {
     "name": "stdout",
     "output_type": "stream",
     "text": [
      "Word haha[JJ] replaced with será[JJ]\n",
      "Word changed: haha\n",
      "Word sorry[VBP] replaced with 'm[VBP]\n",
      "Word sorry[VBP] replaced with glad[VBP]\n",
      "Word sorry[VBP] replaced with sad[VBP]\n",
      "Word sorry[VBP] replaced with regret[VBP]\n",
      "Word changed: sorry\n",
      "Word terrible[JJ] replaced with horrible[JJ]\n",
      "Word terrible[JJ] replaced with awful[JJ]\n",
      "Word terrible[JJ] replaced with dreadful[JJ]\n",
      "Word terrible[JJ] replaced with horrendous[JJ]\n",
      "Word terrible[JJ] replaced with horrific[JJ]\n",
      "Word terrible[JJ] replaced with tragic[JJ]\n",
      "Word changed: terrible\n",
      "\n",
      "NUM(20)  oh! haha... dude i dont really look at em unless someone says hey i added you. sorry  i'm so terrible at that. i need a pop up!:-0.6459\n",
      "\n"
     ]
    },
    {
     "data": {
      "text/html": [
       "<text style=color:green>oh <text style=color:blue> <i>[será]</i> </text> dude i dont really look at em unless someone says hey i added you sorry im so terrible at that i need a pop up: -0.5709</text>"
      ],
      "text/plain": [
       "<IPython.core.display.HTML object>"
      ]
     },
     "metadata": {},
     "output_type": "display_data"
    },
    {
     "data": {
      "text/html": [
       "<text style=color:green>oh haha dude i dont really look at em unless someone says hey i added you <text style=color:blue> <i>['m]</i> </text> im so terrible at that i need a pop up: -0.2479</text>"
      ],
      "text/plain": [
       "<IPython.core.display.HTML object>"
      ]
     },
     "metadata": {},
     "output_type": "display_data"
    },
    {
     "data": {
      "text/html": [
       "<text style=color:green>oh haha dude i dont really look at em unless someone says hey i added you <text style=color:blue> <i>[glad]</i> </text> im so terrible at that i need a pop up: -0.2479</text>"
      ],
      "text/plain": [
       "<IPython.core.display.HTML object>"
      ]
     },
     "metadata": {},
     "output_type": "display_data"
    },
    {
     "data": {
      "text/html": [
       "<text style=color:green>oh haha dude i dont really look at em unless someone says hey i added you <text style=color:blue> <i>[sad]</i> </text> im so terrible at that i need a pop up: -0.2479</text>"
      ],
      "text/plain": [
       "<IPython.core.display.HTML object>"
      ]
     },
     "metadata": {},
     "output_type": "display_data"
    },
    {
     "data": {
      "text/html": [
       "<text style=color:green>oh haha dude i dont really look at em unless someone says hey i added you <text style=color:blue> <i>[regret]</i> </text> im so terrible at that i need a pop up: -0.2479</text>"
      ],
      "text/plain": [
       "<IPython.core.display.HTML object>"
      ]
     },
     "metadata": {},
     "output_type": "display_data"
    },
    {
     "data": {
      "text/html": [
       "<text style=color:green>oh haha dude i dont really look at em unless someone says hey i added you sorry im so <text style=color:blue> <i>[horrible]</i> </text> at that i need a pop up: 0.4019</text>"
      ],
      "text/plain": [
       "<IPython.core.display.HTML object>"
      ]
     },
     "metadata": {},
     "output_type": "display_data"
    },
    {
     "data": {
      "text/html": [
       "<text style=color:green>oh haha dude i dont really look at em unless someone says hey i added you sorry im so <text style=color:blue> <i>[awful]</i> </text> at that i need a pop up: 0.4019</text>"
      ],
      "text/plain": [
       "<IPython.core.display.HTML object>"
      ]
     },
     "metadata": {},
     "output_type": "display_data"
    },
    {
     "data": {
      "text/html": [
       "<text style=color:green>oh haha dude i dont really look at em unless someone says hey i added you sorry im so <text style=color:blue> <i>[dreadful]</i> </text> at that i need a pop up: 0.4019</text>"
      ],
      "text/plain": [
       "<IPython.core.display.HTML object>"
      ]
     },
     "metadata": {},
     "output_type": "display_data"
    },
    {
     "data": {
      "text/html": [
       "<text style=color:green>oh haha dude i dont really look at em unless someone says hey i added you sorry im so <text style=color:blue> <i>[horrendous]</i> </text> at that i need a pop up: 0.4019</text>"
      ],
      "text/plain": [
       "<IPython.core.display.HTML object>"
      ]
     },
     "metadata": {},
     "output_type": "display_data"
    },
    {
     "data": {
      "text/html": [
       "<text style=color:green>oh haha dude i dont really look at em unless someone says hey i added you sorry im so <text style=color:blue> <i>[horrific]</i> </text> at that i need a pop up: 0.4019</text>"
      ],
      "text/plain": [
       "<IPython.core.display.HTML object>"
      ]
     },
     "metadata": {},
     "output_type": "display_data"
    },
    {
     "data": {
      "text/html": [
       "<text style=color:green>oh haha dude i dont really look at em unless someone says hey i added you sorry im so <text style=color:blue> <i>[tragic]</i> </text> at that i need a pop up: 0.4019</text>"
      ],
      "text/plain": [
       "<IPython.core.display.HTML object>"
      ]
     },
     "metadata": {},
     "output_type": "display_data"
    },
    {
     "name": "stdout",
     "output_type": "stream",
     "text": [
      "Word hate[VB] replaced with racist[VB]\n",
      "Word hate[VB] replaced with racism[VB]\n",
      "Word hate[VB] replaced with fear[VB]\n",
      "Word hate[VB] replaced with bigotry[VB]\n",
      "Word changed: hate\n",
      "Word clearly[RB] replaced with obviously[RB]\n",
      "Word clearly[RB] replaced with certainly[RB]\n",
      "Word clearly[RB] replaced with indeed[RB]\n",
      "Word clearly[RB] replaced with nonetheless[RB]\n",
      "Word changed: clearly\n",
      "\n",
      "NUM(22) i really hate how people diss my bands!  trace is clearly not ugly!:0.2484\n",
      "\n"
     ]
    },
    {
     "data": {
      "text/html": [
       "<text style=color:green>i really <text style=color:blue> <i>[racist]</i> </text> how people diss my bands trace is clearly not ugly: 0.6599</text>"
      ],
      "text/plain": [
       "<IPython.core.display.HTML object>"
      ]
     },
     "metadata": {},
     "output_type": "display_data"
    },
    {
     "data": {
      "text/html": [
       "<text style=color:green>i really <text style=color:blue> <i>[racism]</i> </text> how people diss my bands trace is clearly not ugly: 0.6599</text>"
      ],
      "text/plain": [
       "<IPython.core.display.HTML object>"
      ]
     },
     "metadata": {},
     "output_type": "display_data"
    },
    {
     "data": {
      "text/html": [
       "<text style=color:green>i really <text style=color:blue> <i>[fear]</i> </text> how people diss my bands trace is clearly not ugly: 0.6599</text>"
      ],
      "text/plain": [
       "<IPython.core.display.HTML object>"
      ]
     },
     "metadata": {},
     "output_type": "display_data"
    },
    {
     "data": {
      "text/html": [
       "<text style=color:green>i really <text style=color:blue> <i>[bigotry]</i> </text> how people diss my bands trace is clearly not ugly: 0.6599</text>"
      ],
      "text/plain": [
       "<IPython.core.display.HTML object>"
      ]
     },
     "metadata": {},
     "output_type": "display_data"
    },
    {
     "data": {
      "text/html": [
       "<text style=color:red>i really hate how people diss my bands trace is <text style=color:blue> <i>[obviously]</i> </text> not ugly: -0.3162</text>"
      ],
      "text/plain": [
       "<IPython.core.display.HTML object>"
      ]
     },
     "metadata": {},
     "output_type": "display_data"
    },
    {
     "data": {
      "text/html": [
       "<text style=color:red>i really hate how people diss my bands trace is <text style=color:blue> <i>[certainly]</i> </text> not ugly: -0.3162</text>"
      ],
      "text/plain": [
       "<IPython.core.display.HTML object>"
      ]
     },
     "metadata": {},
     "output_type": "display_data"
    },
    {
     "data": {
      "text/html": [
       "<text style=color:red>i really hate how people diss my bands trace is <text style=color:blue> <i>[indeed]</i> </text> not ugly: -0.3162</text>"
      ],
      "text/plain": [
       "<IPython.core.display.HTML object>"
      ]
     },
     "metadata": {},
     "output_type": "display_data"
    },
    {
     "data": {
      "text/html": [
       "<text style=color:red>i really hate how people diss my bands trace is <text style=color:blue> <i>[nonetheless]</i> </text> not ugly: -0.3162</text>"
      ],
      "text/plain": [
       "<IPython.core.display.HTML object>"
      ]
     },
     "metadata": {},
     "output_type": "display_data"
    },
    {
     "name": "stdout",
     "output_type": "stream",
     "text": [
      "Word lucky[RB] replaced with unlucky[RB]\n",
      "Word lucky[RB] replaced with maybe[RB]\n",
      "Word changed: lucky\n",
      "Word cute[JJ] replaced with adorable[JJ]\n",
      "Word cute[JJ] replaced with goofy[JJ]\n",
      "Word cute[JJ] replaced with sexy[JJ]\n",
      "Word cute[JJ] replaced with cuddly[JJ]\n",
      "Word cute[JJ] replaced with funny[JJ]\n",
      "Word cute[JJ] replaced with perky[JJ]\n",
      "Word cute[JJ] replaced with naughty[JJ]\n",
      "Word changed: cute\n",
      "\n",
      "NUM(23) gym attire today was: puma singlet adidas shorts.......and black business socks and leather shoes  lucky did not run into any cute girls.:0.7003\n",
      "\n"
     ]
    },
    {
     "data": {
      "text/html": [
       "<text style=color:red>gym attire today was puma singlet adidas shortsand black business socks and leather shoes <text style=color:blue> <i>[unlucky]</i> </text> did not run into any cute girls: 0.4588</text>"
      ],
      "text/plain": [
       "<IPython.core.display.HTML object>"
      ]
     },
     "metadata": {},
     "output_type": "display_data"
    },
    {
     "data": {
      "text/html": [
       "<text style=color:red>gym attire today was puma singlet adidas shortsand black business socks and leather shoes <text style=color:blue> <i>[maybe]</i> </text> did not run into any cute girls: 0.4588</text>"
      ],
      "text/plain": [
       "<IPython.core.display.HTML object>"
      ]
     },
     "metadata": {},
     "output_type": "display_data"
    },
    {
     "data": {
      "text/html": [
       "<text style=color:red>gym attire today was puma singlet adidas shortsand black business socks and leather shoes lucky did not run into any <text style=color:blue> <i>[adorable]</i> </text> girls: 0.4215</text>"
      ],
      "text/plain": [
       "<IPython.core.display.HTML object>"
      ]
     },
     "metadata": {},
     "output_type": "display_data"
    },
    {
     "data": {
      "text/html": [
       "<text style=color:red>gym attire today was puma singlet adidas shortsand black business socks and leather shoes lucky did not run into any <text style=color:blue> <i>[goofy]</i> </text> girls: 0.4215</text>"
      ],
      "text/plain": [
       "<IPython.core.display.HTML object>"
      ]
     },
     "metadata": {},
     "output_type": "display_data"
    },
    {
     "data": {
      "text/html": [
       "<text style=color:red>gym attire today was puma singlet adidas shortsand black business socks and leather shoes lucky did not run into any <text style=color:blue> <i>[sexy]</i> </text> girls: 0.4215</text>"
      ],
      "text/plain": [
       "<IPython.core.display.HTML object>"
      ]
     },
     "metadata": {},
     "output_type": "display_data"
    },
    {
     "data": {
      "text/html": [
       "<text style=color:red>gym attire today was puma singlet adidas shortsand black business socks and leather shoes lucky did not run into any <text style=color:blue> <i>[cuddly]</i> </text> girls: 0.4215</text>"
      ],
      "text/plain": [
       "<IPython.core.display.HTML object>"
      ]
     },
     "metadata": {},
     "output_type": "display_data"
    },
    {
     "data": {
      "text/html": [
       "<text style=color:red>gym attire today was puma singlet adidas shortsand black business socks and leather shoes lucky did not run into any <text style=color:blue> <i>[funny]</i> </text> girls: 0.4215</text>"
      ],
      "text/plain": [
       "<IPython.core.display.HTML object>"
      ]
     },
     "metadata": {},
     "output_type": "display_data"
    },
    {
     "data": {
      "text/html": [
       "<text style=color:red>gym attire today was puma singlet adidas shortsand black business socks and leather shoes lucky did not run into any <text style=color:blue> <i>[perky]</i> </text> girls: 0.4215</text>"
      ],
      "text/plain": [
       "<IPython.core.display.HTML object>"
      ]
     },
     "metadata": {},
     "output_type": "display_data"
    },
    {
     "data": {
      "text/html": [
       "<text style=color:red>gym attire today was puma singlet adidas shortsand black business socks and leather shoes lucky did not run into any <text style=color:blue> <i>[naughty]</i> </text> girls: 0.4215</text>"
      ],
      "text/plain": [
       "<IPython.core.display.HTML object>"
      ]
     },
     "metadata": {},
     "output_type": "display_data"
    },
    {
     "name": "stdout",
     "output_type": "stream",
     "text": [
      "Word no[DT] replaced with any[DT]\n",
      "Word changed: no\n",
      "\n",
      "NUM(25) no picnic  my phone smells like citrus.:0.0772\n",
      "\n"
     ]
    },
    {
     "data": {
      "text/html": [
       "<text style=color:green><text style=color:blue> <i>[any]</i> </text> picnic my phone smells like citrus: 0.3612</text>"
      ],
      "text/plain": [
       "<IPython.core.display.HTML object>"
      ]
     },
     "metadata": {},
     "output_type": "display_data"
    },
    {
     "name": "stdout",
     "output_type": "stream",
     "text": [
      "Word glad[JJ] replaced with thankful[JJ]\n",
      "Word glad[JJ] replaced with happy[JJ]\n",
      "Word glad[JJ] replaced with i[JJ]\n",
      "Word changed: glad\n",
      "Word awol[JJ] replaced with unacknowledged[JJ]\n",
      "Word awol[JJ] replaced with unmentioned[JJ]\n",
      "Word awol[JJ] replaced with unreported[JJ]\n",
      "Word awol[JJ] replaced with berserk[JJ]\n",
      "Word awol[JJ] replaced with unrewarded[JJ]\n",
      "Word changed: awol\n",
      "\n",
      "NUM(26)  my donkey is sensitive about such comments. nevertheless he'd (and me'd) be glad to see your mug asap. charger is still awol. :0.1779\n",
      "\n"
     ]
    },
    {
     "data": {
      "text/html": [
       "<text style=color:red>my donkey is sensitive about such comments nevertheless hed and med be <text style=color:blue> <i>[thankful]</i> </text> to see your mug asap charger is still awol: -0.3182</text>"
      ],
      "text/plain": [
       "<IPython.core.display.HTML object>"
      ]
     },
     "metadata": {},
     "output_type": "display_data"
    },
    {
     "data": {
      "text/html": [
       "<text style=color:red>my donkey is sensitive about such comments nevertheless hed and med be <text style=color:blue> <i>[happy]</i> </text> to see your mug asap charger is still awol: -0.3182</text>"
      ],
      "text/plain": [
       "<IPython.core.display.HTML object>"
      ]
     },
     "metadata": {},
     "output_type": "display_data"
    },
    {
     "data": {
      "text/html": [
       "<text style=color:red>my donkey is sensitive about such comments nevertheless hed and med be <text style=color:blue> <i>[i]</i> </text> to see your mug asap charger is still awol: -0.3182</text>"
      ],
      "text/plain": [
       "<IPython.core.display.HTML object>"
      ]
     },
     "metadata": {},
     "output_type": "display_data"
    },
    {
     "data": {
      "text/html": [
       "<text style=color:green>my donkey is sensitive about such comments nevertheless hed and med be glad to see your mug asap charger is still <text style=color:blue> <i>[unacknowledged]</i> </text>: 0.4588</text>"
      ],
      "text/plain": [
       "<IPython.core.display.HTML object>"
      ]
     },
     "metadata": {},
     "output_type": "display_data"
    },
    {
     "data": {
      "text/html": [
       "<text style=color:green>my donkey is sensitive about such comments nevertheless hed and med be glad to see your mug asap charger is still <text style=color:blue> <i>[unmentioned]</i> </text>: 0.4588</text>"
      ],
      "text/plain": [
       "<IPython.core.display.HTML object>"
      ]
     },
     "metadata": {},
     "output_type": "display_data"
    },
    {
     "data": {
      "text/html": [
       "<text style=color:green>my donkey is sensitive about such comments nevertheless hed and med be glad to see your mug asap charger is still <text style=color:blue> <i>[unreported]</i> </text>: 0.4588</text>"
      ],
      "text/plain": [
       "<IPython.core.display.HTML object>"
      ]
     },
     "metadata": {},
     "output_type": "display_data"
    },
    {
     "data": {
      "text/html": [
       "<text style=color:green>my donkey is sensitive about such comments nevertheless hed and med be glad to see your mug asap charger is still <text style=color:blue> <i>[berserk]</i> </text>: 0.4588</text>"
      ],
      "text/plain": [
       "<IPython.core.display.HTML object>"
      ]
     },
     "metadata": {},
     "output_type": "display_data"
    },
    {
     "data": {
      "text/html": [
       "<text style=color:green>my donkey is sensitive about such comments nevertheless hed and med be glad to see your mug asap charger is still <text style=color:blue> <i>[unrewarded]</i> </text>: 0.4588</text>"
      ],
      "text/plain": [
       "<IPython.core.display.HTML object>"
      ]
     },
     "metadata": {},
     "output_type": "display_data"
    },
    {
     "name": "stdout",
     "output_type": "stream",
     "text": [
      "Word no[DT] replaced with any[DT]\n",
      "Word changed: no\n",
      "Word unhappy[JJ] replaced with disappointed[JJ]\n",
      "Word unhappy[JJ] replaced with anxious[JJ]\n",
      "Word unhappy[JJ] replaced with happy[JJ]\n",
      "Word changed: unhappy\n",
      "Word depressed[VBD] replaced with distressed[VBD]\n",
      "Word depressed[VBD] replaced with worried[VBD]\n",
      "Word changed: depressed\n",
      "\n",
      "NUM(29) wonders why someone that u like so much can make you so unhappy in a split seccond . depressed . :-0.6615\n",
      "\n"
     ]
    },
    {
     "data": {
      "text/html": [
       "<text style=color:green>wonders why someone that u like so much can make you so <text style=color:blue> <i>[disappointed]</i> </text> in a split seccond depressed: -0.2023</text>"
      ],
      "text/plain": [
       "<IPython.core.display.HTML object>"
      ]
     },
     "metadata": {},
     "output_type": "display_data"
    },
    {
     "data": {
      "text/html": [
       "<text style=color:green>wonders why someone that u like so much can make you so <text style=color:blue> <i>[anxious]</i> </text> in a split seccond depressed: -0.2023</text>"
      ],
      "text/plain": [
       "<IPython.core.display.HTML object>"
      ]
     },
     "metadata": {},
     "output_type": "display_data"
    },
    {
     "data": {
      "text/html": [
       "<text style=color:green>wonders why someone that u like so much can make you so <text style=color:blue> <i>[happy]</i> </text> in a split seccond depressed: -0.2023</text>"
      ],
      "text/plain": [
       "<IPython.core.display.HTML object>"
      ]
     },
     "metadata": {},
     "output_type": "display_data"
    },
    {
     "data": {
      "text/html": [
       "<text style=color:green>wonders why someone that u like so much can make you so unhappy in a split seccond <text style=color:blue> <i>[distressed]</i> </text>: -0.2769</text>"
      ],
      "text/plain": [
       "<IPython.core.display.HTML object>"
      ]
     },
     "metadata": {},
     "output_type": "display_data"
    },
    {
     "data": {
      "text/html": [
       "<text style=color:green>wonders why someone that u like so much can make you so unhappy in a split seccond <text style=color:blue> <i>[worried]</i> </text>: -0.2769</text>"
      ],
      "text/plain": [
       "<IPython.core.display.HTML object>"
      ]
     },
     "metadata": {},
     "output_type": "display_data"
    },
    {
     "name": "stdout",
     "output_type": "stream",
     "text": [
      "Word unbelievable[JJ] replaced with incredible[JJ]\n",
      "Word unbelievable[JJ] replaced with awesome[JJ]\n",
      "Word unbelievable[JJ] replaced with fantastic[JJ]\n",
      "Word unbelievable[JJ] replaced with awful[JJ]\n",
      "Word unbelievable[JJ] replaced with phenomenal[JJ]\n",
      "Word changed: unbelievable\n",
      "Word shame[NN] replaced with disgrace[NN]\n",
      "Word shame[NN] replaced with pity[NN]\n",
      "Word shame[NN] replaced with sorrow[NN]\n",
      "Word shame[NN] replaced with disgust[NN]\n",
      "Word shame[NN] replaced with despair[NN]\n",
      "Word changed: shame\n",
      "\n",
      "NUM(31)  just got ur newsletter those fares really are unbelievable shame i already booked and paid for mine :-0.315\n",
      "\n"
     ]
    },
    {
     "data": {
      "text/html": [
       "<text style=color:red>just got ur newsletter those fares really are <text style=color:blue> <i>[incredible]</i> </text> shame i already booked and paid for mine: -0.4767</text>"
      ],
      "text/plain": [
       "<IPython.core.display.HTML object>"
      ]
     },
     "metadata": {},
     "output_type": "display_data"
    },
    {
     "data": {
      "text/html": [
       "<text style=color:red>just got ur newsletter those fares really are <text style=color:blue> <i>[awesome]</i> </text> shame i already booked and paid for mine: -0.4767</text>"
      ],
      "text/plain": [
       "<IPython.core.display.HTML object>"
      ]
     },
     "metadata": {},
     "output_type": "display_data"
    },
    {
     "data": {
      "text/html": [
       "<text style=color:red>just got ur newsletter those fares really are <text style=color:blue> <i>[fantastic]</i> </text> shame i already booked and paid for mine: -0.4767</text>"
      ],
      "text/plain": [
       "<IPython.core.display.HTML object>"
      ]
     },
     "metadata": {},
     "output_type": "display_data"
    },
    {
     "data": {
      "text/html": [
       "<text style=color:red>just got ur newsletter those fares really are <text style=color:blue> <i>[awful]</i> </text> shame i already booked and paid for mine: -0.4767</text>"
      ],
      "text/plain": [
       "<IPython.core.display.HTML object>"
      ]
     },
     "metadata": {},
     "output_type": "display_data"
    },
    {
     "data": {
      "text/html": [
       "<text style=color:red>just got ur newsletter those fares really are <text style=color:blue> <i>[phenomenal]</i> </text> shame i already booked and paid for mine: -0.4767</text>"
      ],
      "text/plain": [
       "<IPython.core.display.HTML object>"
      ]
     },
     "metadata": {},
     "output_type": "display_data"
    },
    {
     "data": {
      "text/html": [
       "<text style=color:green>just got ur newsletter those fares really are unbelievable <text style=color:blue> <i>[disgrace]</i> </text> i already booked and paid for mine: 0.2682</text>"
      ],
      "text/plain": [
       "<IPython.core.display.HTML object>"
      ]
     },
     "metadata": {},
     "output_type": "display_data"
    },
    {
     "data": {
      "text/html": [
       "<text style=color:green>just got ur newsletter those fares really are unbelievable <text style=color:blue> <i>[pity]</i> </text> i already booked and paid for mine: 0.2682</text>"
      ],
      "text/plain": [
       "<IPython.core.display.HTML object>"
      ]
     },
     "metadata": {},
     "output_type": "display_data"
    },
    {
     "data": {
      "text/html": [
       "<text style=color:green>just got ur newsletter those fares really are unbelievable <text style=color:blue> <i>[sorrow]</i> </text> i already booked and paid for mine: 0.2682</text>"
      ],
      "text/plain": [
       "<IPython.core.display.HTML object>"
      ]
     },
     "metadata": {},
     "output_type": "display_data"
    },
    {
     "data": {
      "text/html": [
       "<text style=color:green>just got ur newsletter those fares really are unbelievable <text style=color:blue> <i>[disgust]</i> </text> i already booked and paid for mine: 0.2682</text>"
      ],
      "text/plain": [
       "<IPython.core.display.HTML object>"
      ]
     },
     "metadata": {},
     "output_type": "display_data"
    },
    {
     "data": {
      "text/html": [
       "<text style=color:green>just got ur newsletter those fares really are unbelievable <text style=color:blue> <i>[despair]</i> </text> i already booked and paid for mine: 0.2682</text>"
      ],
      "text/plain": [
       "<IPython.core.display.HTML object>"
      ]
     },
     "metadata": {},
     "output_type": "display_data"
    },
    {
     "name": "stdout",
     "output_type": "stream",
     "text": [
      "Word damn[NN] replaced with darn[NN]\n",
      "Word damn[NN] replaced with yeah[NN]\n",
      "Word damn[NN] replaced with heck[NN]\n",
      "Word changed: damn\n",
      "Word useless[JJ] replaced with irrelevant[JJ]\n",
      "Word useless[JJ] replaced with meaningless[JJ]\n",
      "Word useless[JJ] replaced with superfluous[JJ]\n",
      "Word useless[JJ] replaced with impractical[JJ]\n",
      "Word useless[JJ] replaced with pointless[JJ]\n",
      "Word useless[JJ] replaced with worthless[JJ]\n",
      "Word useless[JJ] replaced with harmless[JJ]\n",
      "Word changed: useless\n",
      "\n",
      "NUM(34) damn... i don't have any chalk! my chalkboard is useless :-0.4753\n",
      "\n"
     ]
    },
    {
     "data": {
      "text/html": [
       "<text style=color:green><text style=color:blue> <i>[darn]</i> </text> i dont have any chalk my chalkboard is useless: -0.4215</text>"
      ],
      "text/plain": [
       "<IPython.core.display.HTML object>"
      ]
     },
     "metadata": {},
     "output_type": "display_data"
    },
    {
     "data": {
      "text/html": [
       "<text style=color:green><text style=color:blue> <i>[yeah]</i> </text> i dont have any chalk my chalkboard is useless: -0.4215</text>"
      ],
      "text/plain": [
       "<IPython.core.display.HTML object>"
      ]
     },
     "metadata": {},
     "output_type": "display_data"
    },
    {
     "data": {
      "text/html": [
       "<text style=color:green><text style=color:blue> <i>[heck]</i> </text> i dont have any chalk my chalkboard is useless: -0.4215</text>"
      ],
      "text/plain": [
       "<IPython.core.display.HTML object>"
      ]
     },
     "metadata": {},
     "output_type": "display_data"
    },
    {
     "data": {
      "text/html": [
       "<text style=color:green>damn i dont have any chalk my chalkboard is <text style=color:blue> <i>[irrelevant]</i> </text>: -0.4019</text>"
      ],
      "text/plain": [
       "<IPython.core.display.HTML object>"
      ]
     },
     "metadata": {},
     "output_type": "display_data"
    },
    {
     "data": {
      "text/html": [
       "<text style=color:green>damn i dont have any chalk my chalkboard is <text style=color:blue> <i>[meaningless]</i> </text>: -0.4019</text>"
      ],
      "text/plain": [
       "<IPython.core.display.HTML object>"
      ]
     },
     "metadata": {},
     "output_type": "display_data"
    },
    {
     "data": {
      "text/html": [
       "<text style=color:green>damn i dont have any chalk my chalkboard is <text style=color:blue> <i>[superfluous]</i> </text>: -0.4019</text>"
      ],
      "text/plain": [
       "<IPython.core.display.HTML object>"
      ]
     },
     "metadata": {},
     "output_type": "display_data"
    },
    {
     "data": {
      "text/html": [
       "<text style=color:green>damn i dont have any chalk my chalkboard is <text style=color:blue> <i>[impractical]</i> </text>: -0.4019</text>"
      ],
      "text/plain": [
       "<IPython.core.display.HTML object>"
      ]
     },
     "metadata": {},
     "output_type": "display_data"
    },
    {
     "data": {
      "text/html": [
       "<text style=color:green>damn i dont have any chalk my chalkboard is <text style=color:blue> <i>[pointless]</i> </text>: -0.4019</text>"
      ],
      "text/plain": [
       "<IPython.core.display.HTML object>"
      ]
     },
     "metadata": {},
     "output_type": "display_data"
    },
    {
     "data": {
      "text/html": [
       "<text style=color:green>damn i dont have any chalk my chalkboard is <text style=color:blue> <i>[worthless]</i> </text>: -0.4019</text>"
      ],
      "text/plain": [
       "<IPython.core.display.HTML object>"
      ]
     },
     "metadata": {},
     "output_type": "display_data"
    },
    {
     "data": {
      "text/html": [
       "<text style=color:green>damn i dont have any chalk my chalkboard is <text style=color:blue> <i>[harmless]</i> </text>: -0.4019</text>"
      ],
      "text/plain": [
       "<IPython.core.display.HTML object>"
      ]
     },
     "metadata": {},
     "output_type": "display_data"
    },
    {
     "name": "stdout",
     "output_type": "stream",
     "text": [
      "Word hates[VBZ] replaced with loves[VBZ]\n",
      "Word hates[VBZ] replaced with thinks[VBZ]\n",
      "Word hates[VBZ] replaced with cares[VBZ]\n",
      "Word hates[VBZ] replaced with despises[VBZ]\n",
      "Word hates[VBZ] replaced with likes[VBZ]\n",
      "Word hates[VBZ] replaced with adores[VBZ]\n",
      "Word changed: hates\n",
      "Word sore[NN] replaced with shoulder[NN]\n",
      "Word sore[NN] replaced with tendinitis[NN]\n",
      "Word sore[NN] replaced with knee[NN]\n",
      "Word sore[NN] replaced with groin[NN]\n",
      "Word changed: sore\n",
      "\n",
      "NUM(35) had a blast at the getty villa but hates that she's had a sore throat all day. it's just getting worse too :-0.9052\n",
      "\n"
     ]
    },
    {
     "data": {
      "text/html": [
       "<text style=color:green>had a blast at the getty villa but <text style=color:blue> <i>[loves]</i> </text> that shes had a sore throat all day its just getting worse too: -0.8126</text>"
      ],
      "text/plain": [
       "<IPython.core.display.HTML object>"
      ]
     },
     "metadata": {},
     "output_type": "display_data"
    },
    {
     "data": {
      "text/html": [
       "<text style=color:green>had a blast at the getty villa but <text style=color:blue> <i>[thinks]</i> </text> that shes had a sore throat all day its just getting worse too: -0.8126</text>"
      ],
      "text/plain": [
       "<IPython.core.display.HTML object>"
      ]
     },
     "metadata": {},
     "output_type": "display_data"
    },
    {
     "data": {
      "text/html": [
       "<text style=color:green>had a blast at the getty villa but <text style=color:blue> <i>[cares]</i> </text> that shes had a sore throat all day its just getting worse too: -0.8126</text>"
      ],
      "text/plain": [
       "<IPython.core.display.HTML object>"
      ]
     },
     "metadata": {},
     "output_type": "display_data"
    },
    {
     "data": {
      "text/html": [
       "<text style=color:green>had a blast at the getty villa but <text style=color:blue> <i>[despises]</i> </text> that shes had a sore throat all day its just getting worse too: -0.8126</text>"
      ],
      "text/plain": [
       "<IPython.core.display.HTML object>"
      ]
     },
     "metadata": {},
     "output_type": "display_data"
    },
    {
     "data": {
      "text/html": [
       "<text style=color:green>had a blast at the getty villa but <text style=color:blue> <i>[likes]</i> </text> that shes had a sore throat all day its just getting worse too: -0.8126</text>"
      ],
      "text/plain": [
       "<IPython.core.display.HTML object>"
      ]
     },
     "metadata": {},
     "output_type": "display_data"
    },
    {
     "data": {
      "text/html": [
       "<text style=color:green>had a blast at the getty villa but <text style=color:blue> <i>[adores]</i> </text> that shes had a sore throat all day its just getting worse too: -0.8126</text>"
      ],
      "text/plain": [
       "<IPython.core.display.HTML object>"
      ]
     },
     "metadata": {},
     "output_type": "display_data"
    },
    {
     "data": {
      "text/html": [
       "<text style=color:green>had a blast at the getty villa but hates that shes had a <text style=color:blue> <i>[shoulder]</i> </text> throat all day its just getting worse too: -0.8402</text>"
      ],
      "text/plain": [
       "<IPython.core.display.HTML object>"
      ]
     },
     "metadata": {},
     "output_type": "display_data"
    },
    {
     "data": {
      "text/html": [
       "<text style=color:green>had a blast at the getty villa but hates that shes had a <text style=color:blue> <i>[tendinitis]</i> </text> throat all day its just getting worse too: -0.8402</text>"
      ],
      "text/plain": [
       "<IPython.core.display.HTML object>"
      ]
     },
     "metadata": {},
     "output_type": "display_data"
    },
    {
     "data": {
      "text/html": [
       "<text style=color:green>had a blast at the getty villa but hates that shes had a <text style=color:blue> <i>[knee]</i> </text> throat all day its just getting worse too: -0.8402</text>"
      ],
      "text/plain": [
       "<IPython.core.display.HTML object>"
      ]
     },
     "metadata": {},
     "output_type": "display_data"
    },
    {
     "data": {
      "text/html": [
       "<text style=color:green>had a blast at the getty villa but hates that shes had a <text style=color:blue> <i>[groin]</i> </text> throat all day its just getting worse too: -0.8402</text>"
      ],
      "text/plain": [
       "<IPython.core.display.HTML object>"
      ]
     },
     "metadata": {},
     "output_type": "display_data"
    },
    {
     "name": "stdout",
     "output_type": "stream",
     "text": [
      "Word missed[VBD] replaced with scored[VBD]\n",
      "Word missed[VBD] replaced with shot[VBD]\n",
      "Word missed[VBD] replaced with got[VBD]\n",
      "Word changed: missed\n",
      "Word hurts[VBZ] replaced with weakens[VBZ]\n",
      "Word hurts[VBZ] replaced with pleases[VBZ]\n",
      "Word changed: hurts\n",
      "\n",
      "NUM(37) my tummy hurts.  i wonder if the hypnosis has anything to do with it? if so it's working i get it stop smoking!!!:-0.7332\n",
      "\n"
     ]
    },
    {
     "data": {
      "text/html": [
       "<text style=color:green>my tummy <text style=color:blue> <i>[weakens]</i> </text> i wonder if the hypnosis has anything to do with it if so its working i get it stop smoking: -0.296</text>"
      ],
      "text/plain": [
       "<IPython.core.display.HTML object>"
      ]
     },
     "metadata": {},
     "output_type": "display_data"
    },
    {
     "data": {
      "text/html": [
       "<text style=color:green>my tummy <text style=color:blue> <i>[pleases]</i> </text> i wonder if the hypnosis has anything to do with it if so its working i get it stop smoking: -0.296</text>"
      ],
      "text/plain": [
       "<IPython.core.display.HTML object>"
      ]
     },
     "metadata": {},
     "output_type": "display_data"
    },
    {
     "name": "stdout",
     "output_type": "stream",
     "text": [
      "Word sorry[NN] replaced with glad[NN]\n",
      "Word sorry[NN] replaced with regret[NN]\n",
      "Word changed: sorry\n",
      "Word thankfully[RB] replaced with luckily[RB]\n",
      "Word thankfully[RB] replaced with fortunately[RB]\n",
      "Word thankfully[RB] replaced with sadly[RB]\n",
      "Word thankfully[RB] replaced with regrettably[RB]\n",
      "Word thankfully[RB] replaced with admittedly[RB]\n",
      "Word thankfully[RB] replaced with oftentimes[RB]\n",
      "Word changed: thankfully\n",
      "Word evil[NNS] replaced with enemies[NNS]\n",
      "Word evil[NNS] replaced with god[NNS]\n",
      "Word evil[NNS] replaced with demons[NNS]\n",
      "Word evil[NNS] replaced with beings[NNS]\n",
      "Word changed: evil\n",
      "\n",
      "NUM(39)  sorry babe!!  my fam annoys me too. thankfully they're asleep right now. muahaha. *evil laugh*:-0.2225\n",
      "\n"
     ]
    },
    {
     "data": {
      "text/html": [
       "<text style=color:green><text style=color:blue> <i>[glad]</i> </text> babe my fam annoys me too thankfully theyre asleep right now muahaha evil laugh: -0.2023</text>"
      ],
      "text/plain": [
       "<IPython.core.display.HTML object>"
      ]
     },
     "metadata": {},
     "output_type": "display_data"
    },
    {
     "data": {
      "text/html": [
       "<text style=color:green><text style=color:blue> <i>[regret]</i> </text> babe my fam annoys me too thankfully theyre asleep right now muahaha evil laugh: -0.2023</text>"
      ],
      "text/plain": [
       "<IPython.core.display.HTML object>"
      ]
     },
     "metadata": {},
     "output_type": "display_data"
    },
    {
     "data": {
      "text/html": [
       "<text style=color:red>sorry babe my fam annoys me too <text style=color:blue> <i>[luckily]</i> </text> theyre asleep right now muahaha evil laugh: -0.5994</text>"
      ],
      "text/plain": [
       "<IPython.core.display.HTML object>"
      ]
     },
     "metadata": {},
     "output_type": "display_data"
    },
    {
     "data": {
      "text/html": [
       "<text style=color:red>sorry babe my fam annoys me too <text style=color:blue> <i>[fortunately]</i> </text> theyre asleep right now muahaha evil laugh: -0.5994</text>"
      ],
      "text/plain": [
       "<IPython.core.display.HTML object>"
      ]
     },
     "metadata": {},
     "output_type": "display_data"
    },
    {
     "data": {
      "text/html": [
       "<text style=color:red>sorry babe my fam annoys me too <text style=color:blue> <i>[sadly]</i> </text> theyre asleep right now muahaha evil laugh: -0.5994</text>"
      ],
      "text/plain": [
       "<IPython.core.display.HTML object>"
      ]
     },
     "metadata": {},
     "output_type": "display_data"
    },
    {
     "data": {
      "text/html": [
       "<text style=color:red>sorry babe my fam annoys me too <text style=color:blue> <i>[regrettably]</i> </text> theyre asleep right now muahaha evil laugh: -0.5994</text>"
      ],
      "text/plain": [
       "<IPython.core.display.HTML object>"
      ]
     },
     "metadata": {},
     "output_type": "display_data"
    },
    {
     "data": {
      "text/html": [
       "<text style=color:red>sorry babe my fam annoys me too <text style=color:blue> <i>[admittedly]</i> </text> theyre asleep right now muahaha evil laugh: -0.5994</text>"
      ],
      "text/plain": [
       "<IPython.core.display.HTML object>"
      ]
     },
     "metadata": {},
     "output_type": "display_data"
    },
    {
     "data": {
      "text/html": [
       "<text style=color:red>sorry babe my fam annoys me too <text style=color:blue> <i>[oftentimes]</i> </text> theyre asleep right now muahaha evil laugh: -0.5994</text>"
      ],
      "text/plain": [
       "<IPython.core.display.HTML object>"
      ]
     },
     "metadata": {},
     "output_type": "display_data"
    },
    {
     "data": {
      "text/html": [
       "<text style=color:green>sorry babe my fam annoys me too thankfully theyre asleep right now muahaha <text style=color:blue> <i>[enemies]</i> </text> laugh: 0.5106</text>"
      ],
      "text/plain": [
       "<IPython.core.display.HTML object>"
      ]
     },
     "metadata": {},
     "output_type": "display_data"
    },
    {
     "data": {
      "text/html": [
       "<text style=color:green>sorry babe my fam annoys me too thankfully theyre asleep right now muahaha <text style=color:blue> <i>[god]</i> </text> laugh: 0.5106</text>"
      ],
      "text/plain": [
       "<IPython.core.display.HTML object>"
      ]
     },
     "metadata": {},
     "output_type": "display_data"
    },
    {
     "data": {
      "text/html": [
       "<text style=color:green>sorry babe my fam annoys me too thankfully theyre asleep right now muahaha <text style=color:blue> <i>[demons]</i> </text> laugh: 0.5106</text>"
      ],
      "text/plain": [
       "<IPython.core.display.HTML object>"
      ]
     },
     "metadata": {},
     "output_type": "display_data"
    },
    {
     "data": {
      "text/html": [
       "<text style=color:green>sorry babe my fam annoys me too thankfully theyre asleep right now muahaha <text style=color:blue> <i>[beings]</i> </text> laugh: 0.5106</text>"
      ],
      "text/plain": [
       "<IPython.core.display.HTML object>"
      ]
     },
     "metadata": {},
     "output_type": "display_data"
    },
    {
     "name": "stdout",
     "output_type": "stream",
     "text": [
      "Word poor[JJ] replaced with bad[JJ]\n",
      "Word poor[JJ] replaced with low[JJ]\n",
      "Word changed: poor\n",
      "Word pray[NN] replaced with prayed[NN]\n",
      "Word pray[NN] replaced with god[NN]\n",
      "Word pray[NN] replaced with mourn[NN]\n",
      "Word pray[NN] replaced with prayer[NN]\n",
      "Word changed: pray\n",
      "Word please[VB] replaced with wish[VB]\n",
      "Word please[VB] replaced with call[VB]\n",
      "Word please[VB] replaced with forget[VB]\n",
      "Word changed: please\n",
      "Word threatening[VBG] replaced with causing[VBG]\n",
      "Word changed: threatening\n",
      "Word party[NN] replaced with opposition[NN]\n",
      "Word party[NN] replaced with coalition[NN]\n",
      "Word party[NN] replaced with leader[NN]\n",
      "Word party[NN] replaced with election[NN]\n",
      "Word changed: party\n",
      "Word jerk[NN] replaced with snatch[NN]\n",
      "Word jerk[NN] replaced with kgs[NN]\n",
      "Word jerk[NN] replaced with lifter[NN]\n",
      "Word jerk[NN] replaced with goetschl[NN]\n",
      "Word changed: jerk\n",
      "\n",
      "NUM(43) pray for me please the ex is threatening to start sh** at my/our babies 1st birthday party. what a jerk. and i still have a headache :0.128\n",
      "\n"
     ]
    },
    {
     "data": {
      "text/html": [
       "<text style=color:red><text style=color:blue> <i>[prayed]</i> </text> for me please the ex is threatening to start sh at myour babies 1st birthday party what a jerk and i still have a headache: -0.2023</text>"
      ],
      "text/plain": [
       "<IPython.core.display.HTML object>"
      ]
     },
     "metadata": {},
     "output_type": "display_data"
    },
    {
     "data": {
      "text/html": [
       "<text style=color:red><text style=color:blue> <i>[god]</i> </text> for me please the ex is threatening to start sh at myour babies 1st birthday party what a jerk and i still have a headache: -0.2023</text>"
      ],
      "text/plain": [
       "<IPython.core.display.HTML object>"
      ]
     },
     "metadata": {},
     "output_type": "display_data"
    },
    {
     "data": {
      "text/html": [
       "<text style=color:red><text style=color:blue> <i>[mourn]</i> </text> for me please the ex is threatening to start sh at myour babies 1st birthday party what a jerk and i still have a headache: -0.2023</text>"
      ],
      "text/plain": [
       "<IPython.core.display.HTML object>"
      ]
     },
     "metadata": {},
     "output_type": "display_data"
    },
    {
     "data": {
      "text/html": [
       "<text style=color:red><text style=color:blue> <i>[prayer]</i> </text> for me please the ex is threatening to start sh at myour babies 1st birthday party what a jerk and i still have a headache: -0.2023</text>"
      ],
      "text/plain": [
       "<IPython.core.display.HTML object>"
      ]
     },
     "metadata": {},
     "output_type": "display_data"
    },
    {
     "data": {
      "text/html": [
       "<text style=color:red>pray for me <text style=color:blue> <i>[wish]</i> </text> the ex is threatening to start sh at myour babies 1st birthday party what a jerk and i still have a headache: -0.2023</text>"
      ],
      "text/plain": [
       "<IPython.core.display.HTML object>"
      ]
     },
     "metadata": {},
     "output_type": "display_data"
    },
    {
     "data": {
      "text/html": [
       "<text style=color:red>pray for me <text style=color:blue> <i>[call]</i> </text> the ex is threatening to start sh at myour babies 1st birthday party what a jerk and i still have a headache: -0.2023</text>"
      ],
      "text/plain": [
       "<IPython.core.display.HTML object>"
      ]
     },
     "metadata": {},
     "output_type": "display_data"
    },
    {
     "data": {
      "text/html": [
       "<text style=color:red>pray for me <text style=color:blue> <i>[forget]</i> </text> the ex is threatening to start sh at myour babies 1st birthday party what a jerk and i still have a headache: -0.2023</text>"
      ],
      "text/plain": [
       "<IPython.core.display.HTML object>"
      ]
     },
     "metadata": {},
     "output_type": "display_data"
    },
    {
     "data": {
      "text/html": [
       "<text style=color:green>pray for me please the ex is <text style=color:blue> <i>[causing]</i> </text> to start sh at myour babies 1st birthday party what a jerk and i still have a headache: 0.5994</text>"
      ],
      "text/plain": [
       "<IPython.core.display.HTML object>"
      ]
     },
     "metadata": {},
     "output_type": "display_data"
    },
    {
     "data": {
      "text/html": [
       "<text style=color:red>pray for me please the ex is threatening to start sh at myour babies 1st birthday <text style=color:blue> <i>[opposition]</i> </text> what a jerk and i still have a headache: -0.296</text>"
      ],
      "text/plain": [
       "<IPython.core.display.HTML object>"
      ]
     },
     "metadata": {},
     "output_type": "display_data"
    },
    {
     "data": {
      "text/html": [
       "<text style=color:red>pray for me please the ex is threatening to start sh at myour babies 1st birthday <text style=color:blue> <i>[coalition]</i> </text> what a jerk and i still have a headache: -0.296</text>"
      ],
      "text/plain": [
       "<IPython.core.display.HTML object>"
      ]
     },
     "metadata": {},
     "output_type": "display_data"
    },
    {
     "data": {
      "text/html": [
       "<text style=color:red>pray for me please the ex is threatening to start sh at myour babies 1st birthday <text style=color:blue> <i>[leader]</i> </text> what a jerk and i still have a headache: -0.296</text>"
      ],
      "text/plain": [
       "<IPython.core.display.HTML object>"
      ]
     },
     "metadata": {},
     "output_type": "display_data"
    },
    {
     "data": {
      "text/html": [
       "<text style=color:red>pray for me please the ex is threatening to start sh at myour babies 1st birthday <text style=color:blue> <i>[election]</i> </text> what a jerk and i still have a headache: -0.296</text>"
      ],
      "text/plain": [
       "<IPython.core.display.HTML object>"
      ]
     },
     "metadata": {},
     "output_type": "display_data"
    },
    {
     "data": {
      "text/html": [
       "<text style=color:green>pray for me please the ex is threatening to start sh at myour babies 1st birthday party what a <text style=color:blue> <i>[snatch]</i> </text> and i still have a headache: 0.4404</text>"
      ],
      "text/plain": [
       "<IPython.core.display.HTML object>"
      ]
     },
     "metadata": {},
     "output_type": "display_data"
    },
    {
     "data": {
      "text/html": [
       "<text style=color:green>pray for me please the ex is threatening to start sh at myour babies 1st birthday party what a <text style=color:blue> <i>[kgs]</i> </text> and i still have a headache: 0.4404</text>"
      ],
      "text/plain": [
       "<IPython.core.display.HTML object>"
      ]
     },
     "metadata": {},
     "output_type": "display_data"
    },
    {
     "data": {
      "text/html": [
       "<text style=color:green>pray for me please the ex is threatening to start sh at myour babies 1st birthday party what a <text style=color:blue> <i>[lifter]</i> </text> and i still have a headache: 0.4404</text>"
      ],
      "text/plain": [
       "<IPython.core.display.HTML object>"
      ]
     },
     "metadata": {},
     "output_type": "display_data"
    },
    {
     "data": {
      "text/html": [
       "<text style=color:green>pray for me please the ex is threatening to start sh at myour babies 1st birthday party what a <text style=color:blue> <i>[goetschl]</i> </text> and i still have a headache: 0.4404</text>"
      ],
      "text/plain": [
       "<IPython.core.display.HTML object>"
      ]
     },
     "metadata": {},
     "output_type": "display_data"
    },
    {
     "name": "stdout",
     "output_type": "stream",
     "text": [
      "Word enjoy[VB] replaced with prefer[VB]\n",
      "Word enjoy[VB] replaced with feel[VB]\n",
      "Word changed: enjoy\n",
      "Word problems[NNS] replaced with difficulties[NNS]\n",
      "Word problems[NNS] replaced with troubles[NNS]\n",
      "Word problems[NNS] replaced with concerns[NNS]\n",
      "Word changed: problems\n",
      "\n",
      "NUM(44)  hmm   do u really enjoy being with him ? if the problems are too constants u should think things more  find someone ulike:0.2006\n",
      "\n"
     ]
    },
    {
     "data": {
      "text/html": [
       "<text style=color:red>hmm do u really <text style=color:blue> <i>[prefer]</i> </text> being with him if the problems are too constants u should think things more find someone ulike: -0.4019</text>"
      ],
      "text/plain": [
       "<IPython.core.display.HTML object>"
      ]
     },
     "metadata": {},
     "output_type": "display_data"
    },
    {
     "data": {
      "text/html": [
       "<text style=color:red>hmm do u really <text style=color:blue> <i>[feel]</i> </text> being with him if the problems are too constants u should think things more find someone ulike: -0.4019</text>"
      ],
      "text/plain": [
       "<IPython.core.display.HTML object>"
      ]
     },
     "metadata": {},
     "output_type": "display_data"
    },
    {
     "data": {
      "text/html": [
       "<text style=color:green>hmm do u really enjoy being with him if the <text style=color:blue> <i>[difficulties]</i> </text> are too constants u should think things more find someone ulike: 0.5413</text>"
      ],
      "text/plain": [
       "<IPython.core.display.HTML object>"
      ]
     },
     "metadata": {},
     "output_type": "display_data"
    },
    {
     "data": {
      "text/html": [
       "<text style=color:green>hmm do u really enjoy being with him if the <text style=color:blue> <i>[troubles]</i> </text> are too constants u should think things more find someone ulike: 0.5413</text>"
      ],
      "text/plain": [
       "<IPython.core.display.HTML object>"
      ]
     },
     "metadata": {},
     "output_type": "display_data"
    },
    {
     "data": {
      "text/html": [
       "<text style=color:green>hmm do u really enjoy being with him if the <text style=color:blue> <i>[concerns]</i> </text> are too constants u should think things more find someone ulike: 0.5413</text>"
      ],
      "text/plain": [
       "<IPython.core.display.HTML object>"
      ]
     },
     "metadata": {},
     "output_type": "display_data"
    },
    {
     "name": "stdout",
     "output_type": "stream",
     "text": [
      "Word sick[JJ] replaced with ill[JJ]\n",
      "Word sick[JJ] replaced with pregnant[JJ]\n",
      "Word sick[JJ] replaced with elderly[JJ]\n",
      "Word sick[JJ] replaced with infected[JJ]\n",
      "Word sick[JJ] replaced with tired[JJ]\n",
      "Word changed: sick\n",
      "Word party[NN] replaced with opposition[NN]\n",
      "Word party[NN] replaced with coalition[NN]\n",
      "Word party[NN] replaced with leader[NN]\n",
      "Word party[NN] replaced with election[NN]\n",
      "Word party[NN] replaced with candidate[NN]\n",
      "Word changed: party\n",
      "Word sadly[RB] replaced with thankfully[RB]\n",
      "Word sadly[RB] replaced with terribly[RB]\n",
      "Word sadly[RB] replaced with frankly[RB]\n",
      "Word sadly[RB] replaced with curiously[RB]\n",
      "Word sadly[RB] replaced with painfully[RB]\n",
      "Word sadly[RB] replaced with strangely[RB]\n",
      "Word changed: sadly\n",
      "Word well[RB] replaced with so[RB]\n",
      "Word well[RB] replaced with even[RB]\n",
      "Word changed: well\n",
      "\n",
      "NUM(46) so ryleegrace...wana go steve's party or not?? sadly since its easter i wnt b able 2 do much  but ohh well.....:0.4359\n",
      "\n"
     ]
    },
    {
     "data": {
      "text/html": [
       "<text style=color:green>so ryleegracewana go steves <text style=color:blue> <i>[opposition]</i> </text> or not sadly since its easter i wnt b able 2 do much but ohh well: 0.5132</text>"
      ],
      "text/plain": [
       "<IPython.core.display.HTML object>"
      ]
     },
     "metadata": {},
     "output_type": "display_data"
    },
    {
     "data": {
      "text/html": [
       "<text style=color:green>so ryleegracewana go steves <text style=color:blue> <i>[coalition]</i> </text> or not sadly since its easter i wnt b able 2 do much but ohh well: 0.5132</text>"
      ],
      "text/plain": [
       "<IPython.core.display.HTML object>"
      ]
     },
     "metadata": {},
     "output_type": "display_data"
    },
    {
     "data": {
      "text/html": [
       "<text style=color:green>so ryleegracewana go steves <text style=color:blue> <i>[leader]</i> </text> or not sadly since its easter i wnt b able 2 do much but ohh well: 0.5132</text>"
      ],
      "text/plain": [
       "<IPython.core.display.HTML object>"
      ]
     },
     "metadata": {},
     "output_type": "display_data"
    },
    {
     "data": {
      "text/html": [
       "<text style=color:green>so ryleegracewana go steves <text style=color:blue> <i>[election]</i> </text> or not sadly since its easter i wnt b able 2 do much but ohh well: 0.5132</text>"
      ],
      "text/plain": [
       "<IPython.core.display.HTML object>"
      ]
     },
     "metadata": {},
     "output_type": "display_data"
    },
    {
     "data": {
      "text/html": [
       "<text style=color:green>so ryleegracewana go steves <text style=color:blue> <i>[candidate]</i> </text> or not sadly since its easter i wnt b able 2 do much but ohh well: 0.5132</text>"
      ],
      "text/plain": [
       "<IPython.core.display.HTML object>"
      ]
     },
     "metadata": {},
     "output_type": "display_data"
    },
    {
     "data": {
      "text/html": [
       "<text style=color:green>so ryleegracewana go steves party or not <text style=color:blue> <i>[thankfully]</i> </text> since its easter i wnt b able 2 do much but ohh well: 0.5423</text>"
      ],
      "text/plain": [
       "<IPython.core.display.HTML object>"
      ]
     },
     "metadata": {},
     "output_type": "display_data"
    },
    {
     "data": {
      "text/html": [
       "<text style=color:green>so ryleegracewana go steves party or not <text style=color:blue> <i>[terribly]</i> </text> since its easter i wnt b able 2 do much but ohh well: 0.5423</text>"
      ],
      "text/plain": [
       "<IPython.core.display.HTML object>"
      ]
     },
     "metadata": {},
     "output_type": "display_data"
    },
    {
     "data": {
      "text/html": [
       "<text style=color:green>so ryleegracewana go steves party or not <text style=color:blue> <i>[frankly]</i> </text> since its easter i wnt b able 2 do much but ohh well: 0.5423</text>"
      ],
      "text/plain": [
       "<IPython.core.display.HTML object>"
      ]
     },
     "metadata": {},
     "output_type": "display_data"
    },
    {
     "data": {
      "text/html": [
       "<text style=color:green>so ryleegracewana go steves party or not <text style=color:blue> <i>[curiously]</i> </text> since its easter i wnt b able 2 do much but ohh well: 0.5423</text>"
      ],
      "text/plain": [
       "<IPython.core.display.HTML object>"
      ]
     },
     "metadata": {},
     "output_type": "display_data"
    },
    {
     "data": {
      "text/html": [
       "<text style=color:green>so ryleegracewana go steves party or not <text style=color:blue> <i>[painfully]</i> </text> since its easter i wnt b able 2 do much but ohh well: 0.5423</text>"
      ],
      "text/plain": [
       "<IPython.core.display.HTML object>"
      ]
     },
     "metadata": {},
     "output_type": "display_data"
    },
    {
     "data": {
      "text/html": [
       "<text style=color:green>so ryleegracewana go steves party or not <text style=color:blue> <i>[strangely]</i> </text> since its easter i wnt b able 2 do much but ohh well: 0.5423</text>"
      ],
      "text/plain": [
       "<IPython.core.display.HTML object>"
      ]
     },
     "metadata": {},
     "output_type": "display_data"
    },
    {
     "data": {
      "text/html": [
       "<text style=color:red>so ryleegracewana go steves party or not sadly since its easter i wnt b able 2 do much but ohh <text style=color:blue> <i>[so]</i> </text>: 0.3645</text>"
      ],
      "text/plain": [
       "<IPython.core.display.HTML object>"
      ]
     },
     "metadata": {},
     "output_type": "display_data"
    },
    {
     "data": {
      "text/html": [
       "<text style=color:red>so ryleegracewana go steves party or not sadly since its easter i wnt b able 2 do much but ohh <text style=color:blue> <i>[even]</i> </text>: 0.3645</text>"
      ],
      "text/plain": [
       "<IPython.core.display.HTML object>"
      ]
     },
     "metadata": {},
     "output_type": "display_data"
    },
    {
     "name": "stdout",
     "output_type": "stream",
     "text": [
      "Word bad[JJ] replaced with good[JJ]\n",
      "Word changed: bad\n",
      "\n",
      "NUM(47) hey i actually won one of my bracket pools! too bad it wasn't the one for money :0.126\n",
      "\n"
     ]
    },
    {
     "data": {
      "text/html": [
       "<text style=color:green>hey i actually won one of my bracket pools too <text style=color:blue> <i>[good]</i> </text> it wasnt the one for money: 0.5719</text>"
      ],
      "text/plain": [
       "<IPython.core.display.HTML object>"
      ]
     },
     "metadata": {},
     "output_type": "display_data"
    },
    {
     "name": "stdout",
     "output_type": "stream",
     "text": [
      "Word bad[JJ] replaced with good[JJ]\n",
      "Word changed: bad\n",
      "Word favorite[JJ] replaced with favourite[JJ]\n",
      "Word favorite[JJ] replaced with popular[JJ]\n",
      "Word favorite[JJ] replaced with famous[JJ]\n",
      "Word changed: favorite\n",
      "Word lose[VBP] replaced with get[VBP]\n",
      "Word lose[VBP] replaced with want[VBP]\n",
      "Word changed: lose\n",
      "Word good[JJ] replaced with sure[JJ]\n",
      "Word changed: good\n",
      "\n",
      "NUM(49) a bad nite for the favorite teams: astros and spartans lose.  the nite out with t.w. was good.:-0.0772\n",
      "\n"
     ]
    },
    {
     "data": {
      "text/html": [
       "<text style=color:green>a <text style=color:blue> <i>[good]</i> </text> nite for the favorite teams astros and spartans lose the nite out with tw was good: 0.4939</text>"
      ],
      "text/plain": [
       "<IPython.core.display.HTML object>"
      ]
     },
     "metadata": {},
     "output_type": "display_data"
    },
    {
     "data": {
      "text/html": [
       "<text style=color:red>a bad nite for the <text style=color:blue> <i>[favourite]</i> </text> teams astros and spartans lose the nite out with tw was good: -0.5106</text>"
      ],
      "text/plain": [
       "<IPython.core.display.HTML object>"
      ]
     },
     "metadata": {},
     "output_type": "display_data"
    },
    {
     "data": {
      "text/html": [
       "<text style=color:red>a bad nite for the <text style=color:blue> <i>[popular]</i> </text> teams astros and spartans lose the nite out with tw was good: -0.5106</text>"
      ],
      "text/plain": [
       "<IPython.core.display.HTML object>"
      ]
     },
     "metadata": {},
     "output_type": "display_data"
    },
    {
     "data": {
      "text/html": [
       "<text style=color:red>a bad nite for the <text style=color:blue> <i>[famous]</i> </text> teams astros and spartans lose the nite out with tw was good: -0.5106</text>"
      ],
      "text/plain": [
       "<IPython.core.display.HTML object>"
      ]
     },
     "metadata": {},
     "output_type": "display_data"
    },
    {
     "data": {
      "text/html": [
       "<text style=color:green>a bad nite for the favorite teams astros and spartans <text style=color:blue> <i>[get]</i> </text> the nite out with tw was good: 0.34</text>"
      ],
      "text/plain": [
       "<IPython.core.display.HTML object>"
      ]
     },
     "metadata": {},
     "output_type": "display_data"
    },
    {
     "data": {
      "text/html": [
       "<text style=color:green>a bad nite for the favorite teams astros and spartans <text style=color:blue> <i>[want]</i> </text> the nite out with tw was good: 0.34</text>"
      ],
      "text/plain": [
       "<IPython.core.display.HTML object>"
      ]
     },
     "metadata": {},
     "output_type": "display_data"
    },
    {
     "data": {
      "text/html": [
       "<text style=color:red>a bad nite for the favorite teams astros and spartans lose the nite out with tw was <text style=color:blue> <i>[sure]</i> </text>: -0.4939</text>"
      ],
      "text/plain": [
       "<IPython.core.display.HTML object>"
      ]
     },
     "metadata": {},
     "output_type": "display_data"
    }
   ],
   "source": [
    "def runThroughTweets():\n",
    "\n",
    "    tweets_df = pd.read_csv( pathToDatasets + 'cleanedTweets.csv' , nrows=NUM_OF_TWEETS, skiprows=TWEET_START)\n",
    "\n",
    "    tweets = tweets_df.values\n",
    "\n",
    "    \n",
    "    for counter,tweet in enumerate(tweets):\n",
    "        tweet = tweet[0]\n",
    "        mainSentiment = senty.polarity_scores(tweet)['compound']\n",
    "        if(mainSentiment == 0):\n",
    "            continue\n",
    "       \n",
    "        newStrings = getAlternativeSentences(tweet, mainSentiment)\n",
    "        if(newStrings == [] or newStrings == None):\n",
    "            continue\n",
    "        print(\"\\nNUM({2}) {0}:{1}\\n\".format(tweet,mainSentiment, counter))\n",
    "        for alteredTweet in newStrings:\n",
    "            sentimentOfNewString = senty.polarity_scores(alteredTweet)['compound']\n",
    "            if((sentimentOfNewString) >= (mainSentiment)):\n",
    "                display(HTML(cstr(\"{0}: {1}\".format(alteredTweet,sentimentOfNewString),'green')))\n",
    "            else:\n",
    "                display(HTML(cstr(\"{0}: {1}\".format(alteredTweet,sentimentOfNewString),'red')))\n",
    "    \n",
    "    \n",
    "runThroughTweets()"
   ]
  },
  {
   "cell_type": "code",
   "execution_count": null,
   "metadata": {},
   "outputs": [],
   "source": []
  }
 ],
 "metadata": {
  "kernelspec": {
   "display_name": "Python 3",
   "language": "python",
   "name": "python3"
  },
  "language_info": {
   "codemirror_mode": {
    "name": "ipython",
    "version": 3
   },
   "file_extension": ".py",
   "mimetype": "text/x-python",
   "name": "python",
   "nbconvert_exporter": "python",
   "pygments_lexer": "ipython3",
   "version": "3.6.5"
  }
 },
 "nbformat": 4,
 "nbformat_minor": 2
}
