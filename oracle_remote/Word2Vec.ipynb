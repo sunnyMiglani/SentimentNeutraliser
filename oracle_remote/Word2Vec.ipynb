{
 "cells": [
  {
   "cell_type": "code",
   "execution_count": 12,
   "metadata": {},
   "outputs": [],
   "source": [
    "import gensim\n",
    "from sklearn.manifold import TSNE\n",
    "from gensim.models import Word2Vec\n",
    "from gensim.models import KeyedVectors\n",
    "import gensim.downloader as api\n",
    "import numpy as np\n",
    "import re\n",
    "import csv\n",
    "\n",
    "import pandas as pd\n",
    "import pprint\n",
    "\n",
    "import string\n",
    "import nltk\n",
    "\n",
    "\n",
    "from IPython.display import HTML\n",
    "from nltk.corpus import wordnet \n"
   ]
  },
  {
   "cell_type": "code",
   "execution_count": 23,
   "metadata": {
    "scrolled": true
   },
   "outputs": [
    {
     "name": "stdout",
     "output_type": "stream",
     "text": [
      "[nltk_data] Downloading package vader_lexicon to\n",
      "[nltk_data]     /home/ubuntu/nltk_data...\n",
      "[nltk_data]   Package vader_lexicon is already up-to-date!\n",
      "[nltk_data] Downloading package punkt to /home/ubuntu/nltk_data...\n",
      "[nltk_data]   Package punkt is already up-to-date!\n",
      "[nltk_data] Downloading package averaged_perceptron_tagger to\n",
      "[nltk_data]     /home/ubuntu/nltk_data...\n",
      "[nltk_data]   Package averaged_perceptron_tagger is already up-to-\n",
      "[nltk_data]       date!\n",
      "[nltk_data] Downloading package wordnet to /home/ubuntu/nltk_data...\n",
      "[nltk_data]   Unzipping corpora/wordnet.zip.\n"
     ]
    },
    {
     "data": {
      "text/plain": [
       "True"
      ]
     },
     "execution_count": 23,
     "metadata": {},
     "output_type": "execute_result"
    }
   ],
   "source": [
    "pathToDatasets = '../datasets/'\n",
    "filePath = '../datasets/GoogleNews-vectors-negative300.bin'\n",
    "word_vectors = api.load(\"glove-wiki-gigaword-100\")\n",
    "nltk.download('vader_lexicon')\n",
    "nltk.download('punkt')\n",
    "nltk.download('averaged_perceptron_tagger')\n",
    "nltk.download('wordnet')"
   ]
  },
  {
   "cell_type": "code",
   "execution_count": 91,
   "metadata": {},
   "outputs": [],
   "source": [
    "from nltk.sentiment.vader import SentimentIntensityAnalyzer\n",
    "from nltk.tokenize import word_tokenize\n",
    "\n",
    "\n",
    "\n",
    "senty = SentimentIntensityAnalyzer()\n",
    "vocabulary = word_vectors.vocab;\n",
    "\n",
    "\n",
    "NUMBER_OF_ALTERNATIVES = 7\n",
    "TWEET_START = 75\n",
    "NUM_OF_TWEETS = 15\n",
    "\n",
    "punctuation = r\"\\\"#$%&'()+-/:;<=>?@[\\]^_`{|}~\""
   ]
  },
  {
   "cell_type": "code",
   "execution_count": 4,
   "metadata": {
    "scrolled": true
   },
   "outputs": [],
   "source": [
    "def cstr(s, color='black'):\n",
    "    return \"<text style=color:{}>{}</text>\".format(color, s)"
   ]
  },
  {
   "cell_type": "markdown",
   "metadata": {},
   "source": [
    "## Utility Code"
   ]
  },
  {
   "cell_type": "code",
   "execution_count": 89,
   "metadata": {},
   "outputs": [],
   "source": [
    "def cleanAndTokenizeText(text):\n",
    "    text = text.lower()\n",
    "    newString = \"\"\n",
    "    for char in text:\n",
    "        if char not in punctuation:\n",
    "            newString += char\n",
    "    text = word_tokenize(newString)\n",
    "    return text;\n",
    "\n",
    "def listReplacements(word):\n",
    "    if(word not in vocabulary):\n",
    "        return []\n",
    "    possibleReplacements = [word[0] for word in word_vectors.most_similar(word,topn=NUMBER_OF_ALTERNATIVES)]\n",
    "    antonyms = getAntonymsOfWords(word)\n",
    "    if(antonyms != []):\n",
    "        print(\"For word [{1}]: antonyms - {0}\".format(antonyms, word))\n",
    "        possibleReplacements.extend(antonyms)\n",
    "    return possibleReplacements\n",
    "\n",
    "def getPOSTags(tweet):\n",
    "    tags = nltk.pos_tag(tweet)\n",
    "    return(tags)\n",
    "\n",
    "def getAntonymsOfWords(word):\n",
    "    if (word not in vocabulary):\n",
    "        return []\n",
    "    listOfAntonyms = []\n",
    "    for syn in wordnet.synsets(word):\n",
    "        for l in syn.lemmas():\n",
    "            anton = l.antonyms()\n",
    "            if(anton != []):\n",
    "                listOfAntonyms.append(anton[0].name())\n",
    "    return list(set(listOfAntonyms))"
   ]
  },
  {
   "cell_type": "code",
   "execution_count": 83,
   "metadata": {
    "scrolled": false
   },
   "outputs": [
    {
     "name": "stdout",
     "output_type": "stream",
     "text": [
      "['badness', 'bad', 'evilness', 'ill', 'evil']\n"
     ]
    }
   ],
   "source": [
    "specificWord = \"good\"\n",
    "def testOneWord(word = \"\"):\n",
    "    if(word == \"\"):\n",
    "        return\n",
    "    else:\n",
    "        print(getAntonymsOfWords(word))\n",
    "\n",
    "testOneWord(specificWord)"
   ]
  },
  {
   "cell_type": "markdown",
   "metadata": {},
   "source": [
    "## NLP Utility Code"
   ]
  },
  {
   "cell_type": "code",
   "execution_count": 51,
   "metadata": {},
   "outputs": [],
   "source": [
    "def posApprovedReplacements(alternativeWords, userTokens, indexOfToken):\n",
    "    if(alternativeWords == []):\n",
    "        print(\"--- No alternative words! ---\")\n",
    "        return []\n",
    "    tempTokens = userTokens[:]\n",
    "    truePOSTokens = getPOSTags(tempTokens)\n",
    "    validWords = []\n",
    "    \n",
    "    mainTag = truePOSTokens[indexOfToken][1]\n",
    "    mainWord = userTokens[indexOfToken]\n",
    "    \n",
    "    for ind,word in enumerate(alternativeWords):\n",
    "        tempTokens[indexOfToken] = word\n",
    "        posTags = getPOSTags(tempTokens)\n",
    "        newTag = (posTags[indexOfToken])[1]\n",
    "\n",
    "        if(str(newTag) == str(mainTag)):\n",
    "            print(\"Word {0}[{1}] replaced with {2}[{3}]\".format(mainWord, mainTag, word,newTag))\n",
    "            validWords.append(word)\n",
    "    return validWords\n",
    "        "
   ]
  },
  {
   "cell_type": "code",
   "execution_count": 52,
   "metadata": {},
   "outputs": [],
   "source": [
    "def getAlternativeSentences(tweet, sentimentOfTweet):\n",
    "    userInputTokens = cleanAndTokenizeText(tweet)\n",
    "    \n",
    "   \n",
    "    alternativeStrings = []\n",
    "    for ind,word in enumerate(userInputTokens):\n",
    "        \n",
    "        score = senty.polarity_scores(word)['compound'] # get the aggregated score!\n",
    "        newUserTokens = userInputTokens[:]\n",
    "        \n",
    "        if(score != 0.0):\n",
    "            replacements = listReplacements(word)       \n",
    "            replacements = posApprovedReplacements(replacements[:], newUserTokens[:], ind)\n",
    "            \n",
    "            if(replacements == []):\n",
    "                print(\"--- No pos approved words! ---\")\n",
    "                continue          \n",
    "            for newWord in replacements:\n",
    "                \n",
    "                htmlFriendlyTokens = newUserTokens[:]\n",
    "                newUserTokens[ind] = newWord\n",
    "                htmlFriendlyTokens[ind] = cstr(\" <i>[{0}]</i> \".format(newWord), 'blue');\n",
    "                newString = ' '.join(newUserTokens)\n",
    "                sentimentOfNewString = senty.polarity_scores(newString)['compound']\n",
    "                \n",
    "#                 if(sentimentOfNewString == 0):\n",
    "#                     continue\n",
    "                \n",
    "                alternativeStrings.append(' '.join(htmlFriendlyTokens))\n",
    "    return alternativeStrings;"
   ]
  },
  {
   "cell_type": "markdown",
   "metadata": {},
   "source": [
    "## Test Cells"
   ]
  },
  {
   "cell_type": "code",
   "execution_count": 95,
   "metadata": {},
   "outputs": [
    {
     "name": "stdout",
     "output_type": "stream",
     "text": [
      "just got ur newsletter those fares really are [fantastic] shame i already booked and paid for mine: -0.5209\n",
      "\n",
      "Word fantastic[JJ] replaced with incredible[JJ]\n",
      "Word fantastic[JJ] replaced with wonderful[JJ]\n",
      "Word fantastic[JJ] replaced with terrific[JJ]\n",
      "Word fantastic[JJ] replaced with marvelous[JJ]\n",
      "Word fantastic[JJ] replaced with unbelievable[JJ]\n",
      "For word [shame]: antonyms - ['honor']\n",
      "Word shame[NN] replaced with disgrace[NN]\n",
      "Word shame[NN] replaced with pity[NN]\n",
      "Word shame[NN] replaced with embarrassment[NN]\n",
      "Word shame[NN] replaced with sorrow[NN]\n",
      "Word shame[NN] replaced with sadness[NN]\n",
      "Word shame[NN] replaced with disgust[NN]\n",
      "Word shame[NN] replaced with despair[NN]\n",
      "Word shame[NN] replaced with honor[NN]\n"
     ]
    },
    {
     "data": {
      "text/html": [
       "<text style=color:green>just got ur newsletter those fares really are <text style=color:blue> <i>[incredible]</i> </text> shame i already booked and paid for mine: -0.4767</text>"
      ],
      "text/plain": [
       "<IPython.core.display.HTML object>"
      ]
     },
     "metadata": {},
     "output_type": "display_data"
    },
    {
     "data": {
      "text/html": [
       "<text style=color:green>just got ur newsletter those fares really are <text style=color:blue> <i>[wonderful]</i> </text> shame i already booked and paid for mine: -0.4767</text>"
      ],
      "text/plain": [
       "<IPython.core.display.HTML object>"
      ]
     },
     "metadata": {},
     "output_type": "display_data"
    },
    {
     "data": {
      "text/html": [
       "<text style=color:green>just got ur newsletter those fares really are <text style=color:blue> <i>[terrific]</i> </text> shame i already booked and paid for mine: -0.4767</text>"
      ],
      "text/plain": [
       "<IPython.core.display.HTML object>"
      ]
     },
     "metadata": {},
     "output_type": "display_data"
    },
    {
     "data": {
      "text/html": [
       "<text style=color:green>just got ur newsletter those fares really are <text style=color:blue> <i>[marvelous]</i> </text> shame i already booked and paid for mine: -0.4767</text>"
      ],
      "text/plain": [
       "<IPython.core.display.HTML object>"
      ]
     },
     "metadata": {},
     "output_type": "display_data"
    },
    {
     "data": {
      "text/html": [
       "<text style=color:green>just got ur newsletter those fares really are <text style=color:blue> <i>[unbelievable]</i> </text> shame i already booked and paid for mine: -0.4767</text>"
      ],
      "text/plain": [
       "<IPython.core.display.HTML object>"
      ]
     },
     "metadata": {},
     "output_type": "display_data"
    },
    {
     "data": {
      "text/html": [
       "<text style=color:green>just got ur newsletter those fares really are fantastic <text style=color:blue> <i>[disgrace]</i> </text> i already booked and paid for mine: 0.5965</text>"
      ],
      "text/plain": [
       "<IPython.core.display.HTML object>"
      ]
     },
     "metadata": {},
     "output_type": "display_data"
    },
    {
     "data": {
      "text/html": [
       "<text style=color:green>just got ur newsletter those fares really are fantastic <text style=color:blue> <i>[pity]</i> </text> i already booked and paid for mine: 0.5965</text>"
      ],
      "text/plain": [
       "<IPython.core.display.HTML object>"
      ]
     },
     "metadata": {},
     "output_type": "display_data"
    },
    {
     "data": {
      "text/html": [
       "<text style=color:green>just got ur newsletter those fares really are fantastic <text style=color:blue> <i>[embarrassment]</i> </text> i already booked and paid for mine: 0.5965</text>"
      ],
      "text/plain": [
       "<IPython.core.display.HTML object>"
      ]
     },
     "metadata": {},
     "output_type": "display_data"
    },
    {
     "data": {
      "text/html": [
       "<text style=color:green>just got ur newsletter those fares really are fantastic <text style=color:blue> <i>[sorrow]</i> </text> i already booked and paid for mine: 0.5965</text>"
      ],
      "text/plain": [
       "<IPython.core.display.HTML object>"
      ]
     },
     "metadata": {},
     "output_type": "display_data"
    },
    {
     "data": {
      "text/html": [
       "<text style=color:green>just got ur newsletter those fares really are fantastic <text style=color:blue> <i>[sadness]</i> </text> i already booked and paid for mine: 0.5965</text>"
      ],
      "text/plain": [
       "<IPython.core.display.HTML object>"
      ]
     },
     "metadata": {},
     "output_type": "display_data"
    },
    {
     "data": {
      "text/html": [
       "<text style=color:green>just got ur newsletter those fares really are fantastic <text style=color:blue> <i>[disgust]</i> </text> i already booked and paid for mine: 0.5965</text>"
      ],
      "text/plain": [
       "<IPython.core.display.HTML object>"
      ]
     },
     "metadata": {},
     "output_type": "display_data"
    },
    {
     "data": {
      "text/html": [
       "<text style=color:green>just got ur newsletter those fares really are fantastic <text style=color:blue> <i>[despair]</i> </text> i already booked and paid for mine: 0.5965</text>"
      ],
      "text/plain": [
       "<IPython.core.display.HTML object>"
      ]
     },
     "metadata": {},
     "output_type": "display_data"
    },
    {
     "data": {
      "text/html": [
       "<text style=color:green>just got ur newsletter those fares really are fantastic <text style=color:blue> <i>[honor]</i> </text> i already booked and paid for mine: 0.5965</text>"
      ],
      "text/plain": [
       "<IPython.core.display.HTML object>"
      ]
     },
     "metadata": {},
     "output_type": "display_data"
    }
   ],
   "source": [
    "specificString = \"\"\n",
    "def specificString(textString=\"\"):\n",
    "    if(textString == \"\" or textString == None):\n",
    "        return\n",
    "    mainSentiment = senty.polarity_scores(textString)['compound']\n",
    "    if(mainSentiment == 0):\n",
    "        print(\" Sentiment of String shows completely neutral \");\n",
    "        return\n",
    "    else:\n",
    "        print(\"{0}: {1}\\n\".format(textString, mainSentiment))\n",
    "        newStrings = getAlternativeSentences(textString, mainSentiment)\n",
    "        if(newStrings == [] or newStrings == None):\n",
    "            print(\"--- No new strings generated ---\")\n",
    "            return\n",
    "        for newStr in newStrings:\n",
    "            sentimentOfNewString = senty.polarity_scores(newStr)['compound']\n",
    "            if(sentimentOfNewString == mainSentiment or sentimentOfNewString == 0):\n",
    "                display(HTML(cstr(\"{0}: {1}\".format(newStr,sentimentOfNewString),'DarkGray')))\n",
    "            elif(sentimentOfNewString > mainSentiment):\n",
    "                display(HTML(cstr(\"{0}: {1}\".format(newStr,sentimentOfNewString),'green')))\n",
    "            else:\n",
    "                display(HTML(cstr(\"{0}: {1}\".format(newStr,sentimentOfNewString),'red')))\n",
    "\n",
    "                \n",
    "                \n",
    "\n",
    "# specificString = \"I bought this for my husband who plays the piano.  \\\n",
    "# He is having a wonderful time playing these old hymns.  \\\n",
    "# The music  is at times hard to read because we think the book was \\\n",
    "# published for singing from more than playing from.  Great purchase though!\"\n",
    "specificString(\"just got ur newsletter those fares really are [fantastic] shame i already booked and paid for mine\")\n"
   ]
  },
  {
   "cell_type": "markdown",
   "metadata": {},
   "source": [
    "## Main Cells"
   ]
  },
  {
   "cell_type": "code",
   "execution_count": 92,
   "metadata": {
    "scrolled": false
   },
   "outputs": [
    {
     "name": "stdout",
     "output_type": "stream",
     "text": [
      "\n",
      "NUM(0) no picnic  my phone smells like citrus.:0.0772\n",
      "\n",
      "For word [no]: antonyms - ['yes', 'all']\n",
      "Word no[DT] replaced with any[DT]\n",
      "Word no[DT] replaced with all[DT]\n",
      "For word [like]: antonyms - ['unlike', 'unalike', 'dislike']\n",
      "Word like[IN] replaced with unlike[IN]\n"
     ]
    },
    {
     "data": {
      "text/html": [
       "<text style=color:green><text style=color:blue> <i>[any]</i> </text> picnic my phone smells like citrus .: 0.3612</text>"
      ],
      "text/plain": [
       "<IPython.core.display.HTML object>"
      ]
     },
     "metadata": {},
     "output_type": "display_data"
    },
    {
     "data": {
      "text/html": [
       "<text style=color:green><text style=color:blue> <i>[all]</i> </text> picnic my phone smells like citrus .: 0.3612</text>"
      ],
      "text/plain": [
       "<IPython.core.display.HTML object>"
      ]
     },
     "metadata": {},
     "output_type": "display_data"
    },
    {
     "data": {
      "text/html": [
       "<text style=color:red>no picnic my phone smells <text style=color:blue> <i>[unlike]</i> </text> citrus .: -0.296</text>"
      ],
      "text/plain": [
       "<IPython.core.display.HTML object>"
      ]
     },
     "metadata": {},
     "output_type": "display_data"
    },
    {
     "name": "stdout",
     "output_type": "stream",
     "text": [
      "\n",
      "NUM(1)  my donkey is sensitive about such comments. nevertheless he would and me would be glad to see your mug asap. charger is still awol. :0.1779\n",
      "\n",
      "For word [glad]: antonyms - ['sad']\n",
      "Word glad[JJ] replaced with thankful[JJ]\n",
      "Word glad[JJ] replaced with happy[JJ]\n",
      "Word glad[JJ] replaced with i[JJ]\n",
      "Word glad[JJ] replaced with sad[JJ]\n",
      "Word awol[JJ] replaced with unmentioned[JJ]\n",
      "Word awol[JJ] replaced with unreported[JJ]\n",
      "Word awol[JJ] replaced with unrewarded[JJ]\n"
     ]
    },
    {
     "data": {
      "text/html": [
       "<text style=color:red>my donkey is sensitive about such comments . nevertheless he would and me would be <text style=color:blue> <i>[thankful]</i> </text> to see your mug asap . charger is still awol .: -0.3182</text>"
      ],
      "text/plain": [
       "<IPython.core.display.HTML object>"
      ]
     },
     "metadata": {},
     "output_type": "display_data"
    },
    {
     "data": {
      "text/html": [
       "<text style=color:red>my donkey is sensitive about such comments . nevertheless he would and me would be <text style=color:blue> <i>[happy]</i> </text> to see your mug asap . charger is still awol .: -0.3182</text>"
      ],
      "text/plain": [
       "<IPython.core.display.HTML object>"
      ]
     },
     "metadata": {},
     "output_type": "display_data"
    },
    {
     "data": {
      "text/html": [
       "<text style=color:red>my donkey is sensitive about such comments . nevertheless he would and me would be <text style=color:blue> <i>[i]</i> </text> to see your mug asap . charger is still awol .: -0.3182</text>"
      ],
      "text/plain": [
       "<IPython.core.display.HTML object>"
      ]
     },
     "metadata": {},
     "output_type": "display_data"
    },
    {
     "data": {
      "text/html": [
       "<text style=color:red>my donkey is sensitive about such comments . nevertheless he would and me would be <text style=color:blue> <i>[sad]</i> </text> to see your mug asap . charger is still awol .: -0.3182</text>"
      ],
      "text/plain": [
       "<IPython.core.display.HTML object>"
      ]
     },
     "metadata": {},
     "output_type": "display_data"
    },
    {
     "data": {
      "text/html": [
       "<text style=color:green>my donkey is sensitive about such comments . nevertheless he would and me would be glad to see your mug asap . charger is still <text style=color:blue> <i>[unmentioned]</i> </text> .: 0.4588</text>"
      ],
      "text/plain": [
       "<IPython.core.display.HTML object>"
      ]
     },
     "metadata": {},
     "output_type": "display_data"
    },
    {
     "data": {
      "text/html": [
       "<text style=color:green>my donkey is sensitive about such comments . nevertheless he would and me would be glad to see your mug asap . charger is still <text style=color:blue> <i>[unreported]</i> </text> .: 0.4588</text>"
      ],
      "text/plain": [
       "<IPython.core.display.HTML object>"
      ]
     },
     "metadata": {},
     "output_type": "display_data"
    },
    {
     "data": {
      "text/html": [
       "<text style=color:green>my donkey is sensitive about such comments . nevertheless he would and me would be glad to see your mug asap . charger is still <text style=color:blue> <i>[unrewarded]</i> </text> .: 0.4588</text>"
      ],
      "text/plain": [
       "<IPython.core.display.HTML object>"
      ]
     },
     "metadata": {},
     "output_type": "display_data"
    },
    {
     "name": "stdout",
     "output_type": "stream",
     "text": [
      "\n",
      "NUM(2) no new csi tonight.  fml:-0.296\n",
      "\n",
      "For word [no]: antonyms - ['yes', 'all']\n",
      "Word no[DT] replaced with any[DT]\n",
      "Word no[DT] replaced with all[DT]\n"
     ]
    },
    {
     "data": {
      "text/html": [
       "<text style=color:DarkGray><text style=color:blue> <i>[any]</i> </text> new csi tonight . fml: 0.0</text>"
      ],
      "text/plain": [
       "<IPython.core.display.HTML object>"
      ]
     },
     "metadata": {},
     "output_type": "display_data"
    },
    {
     "data": {
      "text/html": [
       "<text style=color:DarkGray><text style=color:blue> <i>[all]</i> </text> new csi tonight . fml: 0.0</text>"
      ],
      "text/plain": [
       "<IPython.core.display.HTML object>"
      ]
     },
     "metadata": {},
     "output_type": "display_data"
    },
    {
     "name": "stdout",
     "output_type": "stream",
     "text": [
      "\n",
      "NUM(3) i think my arms are sore from tennis :-0.3612\n",
      "\n",
      "--- No pos approved words! ---\n",
      "--- No new strings generated ---\n",
      "\n",
      "\n",
      "\n",
      "NUM(4) wonders why someone that u like so much can make you so unhappy in a split seccond . depressed . :-0.6615\n",
      "\n",
      "For word [like]: antonyms - ['unlike', 'unalike', 'dislike']\n",
      "Word like[IN] replaced with unlike[IN]\n",
      "Word like[IN] replaced with unalike[IN]\n",
      "For word [unhappy]: antonyms - ['euphoric', 'happy']\n",
      "Word unhappy[JJ] replaced with disappointed[JJ]\n",
      "Word unhappy[JJ] replaced with anxious[JJ]\n",
      "Word unhappy[JJ] replaced with happy[JJ]\n",
      "Word unhappy[JJ] replaced with euphoric[JJ]\n",
      "Word unhappy[JJ] replaced with happy[JJ]\n",
      "For word [depressed]: antonyms - ['elate']\n",
      "Word depressed[VBN] replaced with distressed[VBN]\n",
      "Word depressed[VBN] replaced with worried[VBN]\n"
     ]
    },
    {
     "data": {
      "text/html": [
       "<text style=color:red>wonders why someone that u <text style=color:blue> <i>[unlike]</i> </text> so much can make you so unhappy in a split seccond . depressed .: -0.7855</text>"
      ],
      "text/plain": [
       "<IPython.core.display.HTML object>"
      ]
     },
     "metadata": {},
     "output_type": "display_data"
    },
    {
     "data": {
      "text/html": [
       "<text style=color:red>wonders why someone that u <text style=color:blue> <i>[unalike]</i> </text> so much can make you so unhappy in a split seccond . depressed .: -0.7855</text>"
      ],
      "text/plain": [
       "<IPython.core.display.HTML object>"
      ]
     },
     "metadata": {},
     "output_type": "display_data"
    },
    {
     "data": {
      "text/html": [
       "<text style=color:green>wonders why someone that u like so much can make you so <text style=color:blue> <i>[disappointed]</i> </text> in a split seccond . depressed .: -0.2023</text>"
      ],
      "text/plain": [
       "<IPython.core.display.HTML object>"
      ]
     },
     "metadata": {},
     "output_type": "display_data"
    },
    {
     "data": {
      "text/html": [
       "<text style=color:green>wonders why someone that u like so much can make you so <text style=color:blue> <i>[anxious]</i> </text> in a split seccond . depressed .: -0.2023</text>"
      ],
      "text/plain": [
       "<IPython.core.display.HTML object>"
      ]
     },
     "metadata": {},
     "output_type": "display_data"
    },
    {
     "data": {
      "text/html": [
       "<text style=color:green>wonders why someone that u like so much can make you so <text style=color:blue> <i>[happy]</i> </text> in a split seccond . depressed .: -0.2023</text>"
      ],
      "text/plain": [
       "<IPython.core.display.HTML object>"
      ]
     },
     "metadata": {},
     "output_type": "display_data"
    },
    {
     "data": {
      "text/html": [
       "<text style=color:green>wonders why someone that u like so much can make you so <text style=color:blue> <i>[euphoric]</i> </text> in a split seccond . depressed .: -0.2023</text>"
      ],
      "text/plain": [
       "<IPython.core.display.HTML object>"
      ]
     },
     "metadata": {},
     "output_type": "display_data"
    },
    {
     "data": {
      "text/html": [
       "<text style=color:green>wonders why someone that u like so much can make you so <text style=color:blue> <i>[happy]</i> </text> in a split seccond . depressed .: -0.2023</text>"
      ],
      "text/plain": [
       "<IPython.core.display.HTML object>"
      ]
     },
     "metadata": {},
     "output_type": "display_data"
    },
    {
     "data": {
      "text/html": [
       "<text style=color:green>wonders why someone that u like so much can make you so unhappy in a split seccond . <text style=color:blue> <i>[distressed]</i> </text> .: -0.2769</text>"
      ],
      "text/plain": [
       "<IPython.core.display.HTML object>"
      ]
     },
     "metadata": {},
     "output_type": "display_data"
    },
    {
     "data": {
      "text/html": [
       "<text style=color:green>wonders why someone that u like so much can make you so unhappy in a split seccond . <text style=color:blue> <i>[worried]</i> </text> .: -0.2769</text>"
      ],
      "text/plain": [
       "<IPython.core.display.HTML object>"
      ]
     },
     "metadata": {},
     "output_type": "display_data"
    },
    {
     "name": "stdout",
     "output_type": "stream",
     "text": [
      "\n",
      "NUM(5) sleep soon... i just hate saying bye and see you tomorrow for the night. :-0.5719\n",
      "\n",
      "For word [hate]: antonyms - ['love']\n",
      "Word hate[VB] replaced with love[VB]\n"
     ]
    },
    {
     "data": {
      "text/html": [
       "<text style=color:DarkGray>sleep soon ... i just <text style=color:blue> <i>[love]</i> </text> saying bye and see you tomorrow for the night .: 0.0</text>"
      ],
      "text/plain": [
       "<IPython.core.display.HTML object>"
      ]
     },
     "metadata": {},
     "output_type": "display_data"
    },
    {
     "name": "stdout",
     "output_type": "stream",
     "text": [
      "\n",
      "NUM(6)  just got ur newsletter those fares really are unbelievable shame i already booked and paid for mine :-0.315\n",
      "\n",
      "For word [unbelievable]: antonyms - ['credible']\n",
      "Word unbelievable[JJ] replaced with incredible[JJ]\n",
      "Word unbelievable[JJ] replaced with awesome[JJ]\n",
      "Word unbelievable[JJ] replaced with fantastic[JJ]\n",
      "Word unbelievable[JJ] replaced with awful[JJ]\n",
      "Word unbelievable[JJ] replaced with phenomenal[JJ]\n",
      "Word unbelievable[JJ] replaced with credible[JJ]\n",
      "For word [shame]: antonyms - ['honor']\n",
      "Word shame[NN] replaced with disgrace[NN]\n",
      "Word shame[NN] replaced with pity[NN]\n",
      "Word shame[NN] replaced with sorrow[NN]\n",
      "Word shame[NN] replaced with disgust[NN]\n",
      "Word shame[NN] replaced with despair[NN]\n",
      "Word shame[NN] replaced with honor[NN]\n"
     ]
    },
    {
     "data": {
      "text/html": [
       "<text style=color:red>just got ur newsletter those fares really are <text style=color:blue> <i>[incredible]</i> </text> shame i already booked and paid for mine: -0.4767</text>"
      ],
      "text/plain": [
       "<IPython.core.display.HTML object>"
      ]
     },
     "metadata": {},
     "output_type": "display_data"
    },
    {
     "data": {
      "text/html": [
       "<text style=color:red>just got ur newsletter those fares really are <text style=color:blue> <i>[awesome]</i> </text> shame i already booked and paid for mine: -0.4767</text>"
      ],
      "text/plain": [
       "<IPython.core.display.HTML object>"
      ]
     },
     "metadata": {},
     "output_type": "display_data"
    },
    {
     "data": {
      "text/html": [
       "<text style=color:red>just got ur newsletter those fares really are <text style=color:blue> <i>[fantastic]</i> </text> shame i already booked and paid for mine: -0.4767</text>"
      ],
      "text/plain": [
       "<IPython.core.display.HTML object>"
      ]
     },
     "metadata": {},
     "output_type": "display_data"
    },
    {
     "data": {
      "text/html": [
       "<text style=color:red>just got ur newsletter those fares really are <text style=color:blue> <i>[awful]</i> </text> shame i already booked and paid for mine: -0.4767</text>"
      ],
      "text/plain": [
       "<IPython.core.display.HTML object>"
      ]
     },
     "metadata": {},
     "output_type": "display_data"
    },
    {
     "data": {
      "text/html": [
       "<text style=color:red>just got ur newsletter those fares really are <text style=color:blue> <i>[phenomenal]</i> </text> shame i already booked and paid for mine: -0.4767</text>"
      ],
      "text/plain": [
       "<IPython.core.display.HTML object>"
      ]
     },
     "metadata": {},
     "output_type": "display_data"
    },
    {
     "data": {
      "text/html": [
       "<text style=color:red>just got ur newsletter those fares really are <text style=color:blue> <i>[credible]</i> </text> shame i already booked and paid for mine: -0.4767</text>"
      ],
      "text/plain": [
       "<IPython.core.display.HTML object>"
      ]
     },
     "metadata": {},
     "output_type": "display_data"
    },
    {
     "data": {
      "text/html": [
       "<text style=color:green>just got ur newsletter those fares really are unbelievable <text style=color:blue> <i>[disgrace]</i> </text> i already booked and paid for mine: 0.2682</text>"
      ],
      "text/plain": [
       "<IPython.core.display.HTML object>"
      ]
     },
     "metadata": {},
     "output_type": "display_data"
    },
    {
     "data": {
      "text/html": [
       "<text style=color:green>just got ur newsletter those fares really are unbelievable <text style=color:blue> <i>[pity]</i> </text> i already booked and paid for mine: 0.2682</text>"
      ],
      "text/plain": [
       "<IPython.core.display.HTML object>"
      ]
     },
     "metadata": {},
     "output_type": "display_data"
    },
    {
     "data": {
      "text/html": [
       "<text style=color:green>just got ur newsletter those fares really are unbelievable <text style=color:blue> <i>[sorrow]</i> </text> i already booked and paid for mine: 0.2682</text>"
      ],
      "text/plain": [
       "<IPython.core.display.HTML object>"
      ]
     },
     "metadata": {},
     "output_type": "display_data"
    },
    {
     "data": {
      "text/html": [
       "<text style=color:green>just got ur newsletter those fares really are unbelievable <text style=color:blue> <i>[disgust]</i> </text> i already booked and paid for mine: 0.2682</text>"
      ],
      "text/plain": [
       "<IPython.core.display.HTML object>"
      ]
     },
     "metadata": {},
     "output_type": "display_data"
    },
    {
     "data": {
      "text/html": [
       "<text style=color:green>just got ur newsletter those fares really are unbelievable <text style=color:blue> <i>[despair]</i> </text> i already booked and paid for mine: 0.2682</text>"
      ],
      "text/plain": [
       "<IPython.core.display.HTML object>"
      ]
     },
     "metadata": {},
     "output_type": "display_data"
    },
    {
     "data": {
      "text/html": [
       "<text style=color:green>just got ur newsletter those fares really are unbelievable <text style=color:blue> <i>[honor]</i> </text> i already booked and paid for mine: 0.2682</text>"
      ],
      "text/plain": [
       "<IPython.core.display.HTML object>"
      ]
     },
     "metadata": {},
     "output_type": "display_data"
    },
    {
     "name": "stdout",
     "output_type": "stream",
     "text": [
      "\n",
      "NUM(9) damn... i do not have any chalk! my chalkboard is useless :-0.4753\n",
      "\n",
      "For word [damn]: antonyms - ['bless']\n",
      "Word damn[NN] replaced with darn[NN]\n",
      "Word damn[NN] replaced with yeah[NN]\n",
      "Word damn[NN] replaced with heck[NN]\n",
      "Word damn[NN] replaced with bless[NN]\n",
      "For word [useless]: antonyms - ['useful']\n",
      "Word useless[JJ] replaced with irrelevant[JJ]\n",
      "Word useless[JJ] replaced with meaningless[JJ]\n",
      "Word useless[JJ] replaced with superfluous[JJ]\n",
      "Word useless[JJ] replaced with impractical[JJ]\n",
      "Word useless[JJ] replaced with pointless[JJ]\n",
      "Word useless[JJ] replaced with worthless[JJ]\n",
      "Word useless[JJ] replaced with harmless[JJ]\n",
      "Word useless[JJ] replaced with useful[JJ]\n"
     ]
    },
    {
     "data": {
      "text/html": [
       "<text style=color:DarkGray><text style=color:blue> <i>[darn]</i> </text> ... i do not have any chalk ! my chalkboard is useless: -0.4753</text>"
      ],
      "text/plain": [
       "<IPython.core.display.HTML object>"
      ]
     },
     "metadata": {},
     "output_type": "display_data"
    },
    {
     "data": {
      "text/html": [
       "<text style=color:DarkGray><text style=color:blue> <i>[yeah]</i> </text> ... i do not have any chalk ! my chalkboard is useless: -0.4753</text>"
      ],
      "text/plain": [
       "<IPython.core.display.HTML object>"
      ]
     },
     "metadata": {},
     "output_type": "display_data"
    },
    {
     "data": {
      "text/html": [
       "<text style=color:DarkGray><text style=color:blue> <i>[heck]</i> </text> ... i do not have any chalk ! my chalkboard is useless: -0.4753</text>"
      ],
      "text/plain": [
       "<IPython.core.display.HTML object>"
      ]
     },
     "metadata": {},
     "output_type": "display_data"
    },
    {
     "data": {
      "text/html": [
       "<text style=color:DarkGray><text style=color:blue> <i>[bless]</i> </text> ... i do not have any chalk ! my chalkboard is useless: -0.4753</text>"
      ],
      "text/plain": [
       "<IPython.core.display.HTML object>"
      ]
     },
     "metadata": {},
     "output_type": "display_data"
    },
    {
     "data": {
      "text/html": [
       "<text style=color:green>damn ... i do not have any chalk ! my chalkboard is <text style=color:blue> <i>[irrelevant]</i> </text>: -0.4574</text>"
      ],
      "text/plain": [
       "<IPython.core.display.HTML object>"
      ]
     },
     "metadata": {},
     "output_type": "display_data"
    },
    {
     "data": {
      "text/html": [
       "<text style=color:green>damn ... i do not have any chalk ! my chalkboard is <text style=color:blue> <i>[meaningless]</i> </text>: -0.4574</text>"
      ],
      "text/plain": [
       "<IPython.core.display.HTML object>"
      ]
     },
     "metadata": {},
     "output_type": "display_data"
    },
    {
     "data": {
      "text/html": [
       "<text style=color:green>damn ... i do not have any chalk ! my chalkboard is <text style=color:blue> <i>[superfluous]</i> </text>: -0.4574</text>"
      ],
      "text/plain": [
       "<IPython.core.display.HTML object>"
      ]
     },
     "metadata": {},
     "output_type": "display_data"
    },
    {
     "data": {
      "text/html": [
       "<text style=color:green>damn ... i do not have any chalk ! my chalkboard is <text style=color:blue> <i>[impractical]</i> </text>: -0.4574</text>"
      ],
      "text/plain": [
       "<IPython.core.display.HTML object>"
      ]
     },
     "metadata": {},
     "output_type": "display_data"
    },
    {
     "data": {
      "text/html": [
       "<text style=color:green>damn ... i do not have any chalk ! my chalkboard is <text style=color:blue> <i>[pointless]</i> </text>: -0.4574</text>"
      ],
      "text/plain": [
       "<IPython.core.display.HTML object>"
      ]
     },
     "metadata": {},
     "output_type": "display_data"
    },
    {
     "data": {
      "text/html": [
       "<text style=color:green>damn ... i do not have any chalk ! my chalkboard is <text style=color:blue> <i>[worthless]</i> </text>: -0.4574</text>"
      ],
      "text/plain": [
       "<IPython.core.display.HTML object>"
      ]
     },
     "metadata": {},
     "output_type": "display_data"
    },
    {
     "data": {
      "text/html": [
       "<text style=color:green>damn ... i do not have any chalk ! my chalkboard is <text style=color:blue> <i>[harmless]</i> </text>: -0.4574</text>"
      ],
      "text/plain": [
       "<IPython.core.display.HTML object>"
      ]
     },
     "metadata": {},
     "output_type": "display_data"
    },
    {
     "data": {
      "text/html": [
       "<text style=color:green>damn ... i do not have any chalk ! my chalkboard is <text style=color:blue> <i>[useful]</i> </text>: -0.4574</text>"
      ],
      "text/plain": [
       "<IPython.core.display.HTML object>"
      ]
     },
     "metadata": {},
     "output_type": "display_data"
    },
    {
     "name": "stdout",
     "output_type": "stream",
     "text": [
      "\n",
      "NUM(10) had a blast at the getty villa but hates that she is had a sore throat all day. it is just getting worse too :-0.9052\n",
      "\n",
      "For word [hates]: antonyms - ['love']\n",
      "Word hates[VBZ] replaced with loves[VBZ]\n",
      "Word hates[VBZ] replaced with thinks[VBZ]\n",
      "Word hates[VBZ] replaced with cares[VBZ]\n",
      "Word hates[VBZ] replaced with despises[VBZ]\n",
      "Word hates[VBZ] replaced with likes[VBZ]\n",
      "Word hates[VBZ] replaced with adores[VBZ]\n",
      "Word sore[NN] replaced with shoulder[NN]\n",
      "Word sore[NN] replaced with tendinitis[NN]\n",
      "Word sore[NN] replaced with knee[NN]\n",
      "Word sore[NN] replaced with groin[NN]\n",
      "For word [worse]: antonyms - ['good', 'unregretful', 'better']\n",
      "--- No pos approved words! ---\n"
     ]
    },
    {
     "data": {
      "text/html": [
       "<text style=color:green>had a blast at the getty villa but <text style=color:blue> <i>[loves]</i> </text> that she is had a sore throat all day . it is just getting worse too: -0.8126</text>"
      ],
      "text/plain": [
       "<IPython.core.display.HTML object>"
      ]
     },
     "metadata": {},
     "output_type": "display_data"
    },
    {
     "data": {
      "text/html": [
       "<text style=color:green>had a blast at the getty villa but <text style=color:blue> <i>[thinks]</i> </text> that she is had a sore throat all day . it is just getting worse too: -0.8126</text>"
      ],
      "text/plain": [
       "<IPython.core.display.HTML object>"
      ]
     },
     "metadata": {},
     "output_type": "display_data"
    },
    {
     "data": {
      "text/html": [
       "<text style=color:green>had a blast at the getty villa but <text style=color:blue> <i>[cares]</i> </text> that she is had a sore throat all day . it is just getting worse too: -0.8126</text>"
      ],
      "text/plain": [
       "<IPython.core.display.HTML object>"
      ]
     },
     "metadata": {},
     "output_type": "display_data"
    },
    {
     "data": {
      "text/html": [
       "<text style=color:green>had a blast at the getty villa but <text style=color:blue> <i>[despises]</i> </text> that she is had a sore throat all day . it is just getting worse too: -0.8126</text>"
      ],
      "text/plain": [
       "<IPython.core.display.HTML object>"
      ]
     },
     "metadata": {},
     "output_type": "display_data"
    },
    {
     "data": {
      "text/html": [
       "<text style=color:green>had a blast at the getty villa but <text style=color:blue> <i>[likes]</i> </text> that she is had a sore throat all day . it is just getting worse too: -0.8126</text>"
      ],
      "text/plain": [
       "<IPython.core.display.HTML object>"
      ]
     },
     "metadata": {},
     "output_type": "display_data"
    },
    {
     "data": {
      "text/html": [
       "<text style=color:green>had a blast at the getty villa but <text style=color:blue> <i>[adores]</i> </text> that she is had a sore throat all day . it is just getting worse too: -0.8126</text>"
      ],
      "text/plain": [
       "<IPython.core.display.HTML object>"
      ]
     },
     "metadata": {},
     "output_type": "display_data"
    },
    {
     "data": {
      "text/html": [
       "<text style=color:green>had a blast at the getty villa but hates that she is had a <text style=color:blue> <i>[shoulder]</i> </text> throat all day . it is just getting worse too: -0.8402</text>"
      ],
      "text/plain": [
       "<IPython.core.display.HTML object>"
      ]
     },
     "metadata": {},
     "output_type": "display_data"
    },
    {
     "data": {
      "text/html": [
       "<text style=color:green>had a blast at the getty villa but hates that she is had a <text style=color:blue> <i>[tendinitis]</i> </text> throat all day . it is just getting worse too: -0.8402</text>"
      ],
      "text/plain": [
       "<IPython.core.display.HTML object>"
      ]
     },
     "metadata": {},
     "output_type": "display_data"
    },
    {
     "data": {
      "text/html": [
       "<text style=color:green>had a blast at the getty villa but hates that she is had a <text style=color:blue> <i>[knee]</i> </text> throat all day . it is just getting worse too: -0.8402</text>"
      ],
      "text/plain": [
       "<IPython.core.display.HTML object>"
      ]
     },
     "metadata": {},
     "output_type": "display_data"
    },
    {
     "data": {
      "text/html": [
       "<text style=color:green>had a blast at the getty villa but hates that she is had a <text style=color:blue> <i>[groin]</i> </text> throat all day . it is just getting worse too: -0.8402</text>"
      ],
      "text/plain": [
       "<IPython.core.display.HTML object>"
      ]
     },
     "metadata": {},
     "output_type": "display_data"
    },
    {
     "name": "stdout",
     "output_type": "stream",
     "text": [
      "\n",
      "NUM(11)  hey missed ya at the meeting  sup mama:-0.296\n",
      "\n",
      "For word [missed]: antonyms - ['have', 'hit', 'attend_to', 'attend']\n",
      "Word missed[VBD] replaced with scored[VBD]\n",
      "Word missed[VBD] replaced with shot[VBD]\n",
      "Word missed[VBD] replaced with got[VBD]\n",
      "Word missed[VBD] replaced with hit[VBD]\n",
      "Word missed[VBD] replaced with attend_to[VBD]\n"
     ]
    },
    {
     "data": {
      "text/html": [
       "<text style=color:DarkGray>hey <text style=color:blue> <i>[scored]</i> </text> ya at the meeting sup mama: 0.0</text>"
      ],
      "text/plain": [
       "<IPython.core.display.HTML object>"
      ]
     },
     "metadata": {},
     "output_type": "display_data"
    },
    {
     "data": {
      "text/html": [
       "<text style=color:DarkGray>hey <text style=color:blue> <i>[shot]</i> </text> ya at the meeting sup mama: 0.0</text>"
      ],
      "text/plain": [
       "<IPython.core.display.HTML object>"
      ]
     },
     "metadata": {},
     "output_type": "display_data"
    },
    {
     "data": {
      "text/html": [
       "<text style=color:DarkGray>hey <text style=color:blue> <i>[got]</i> </text> ya at the meeting sup mama: 0.0</text>"
      ],
      "text/plain": [
       "<IPython.core.display.HTML object>"
      ]
     },
     "metadata": {},
     "output_type": "display_data"
    },
    {
     "data": {
      "text/html": [
       "<text style=color:DarkGray>hey <text style=color:blue> <i>[hit]</i> </text> ya at the meeting sup mama: 0.0</text>"
      ],
      "text/plain": [
       "<IPython.core.display.HTML object>"
      ]
     },
     "metadata": {},
     "output_type": "display_data"
    },
    {
     "data": {
      "text/html": [
       "<text style=color:DarkGray>hey <text style=color:blue> <i>[attend_to]</i> </text> ya at the meeting sup mama: 0.0</text>"
      ],
      "text/plain": [
       "<IPython.core.display.HTML object>"
      ]
     },
     "metadata": {},
     "output_type": "display_data"
    },
    {
     "name": "stdout",
     "output_type": "stream",
     "text": [
      "\n",
      "NUM(12) my tummy hurts.  i wonder if the hypnosis has anything to do with it if so it is working i get it stop smoking!!!:-0.7332\n",
      "\n",
      "For word [hurts]: antonyms - ['be_well']\n",
      "Word hurts[VBZ] replaced with weakens[VBZ]\n",
      "For word [stop]: antonyms - ['start', 'continuant_consonant', 'continue', 'begin']\n",
      "Word stop[VB] replaced with start[VB]\n",
      "Word stop[VB] replaced with continue[VB]\n",
      "Word stop[VB] replaced with begin[VB]\n"
     ]
    },
    {
     "data": {
      "text/html": [
       "<text style=color:green>my tummy <text style=color:blue> <i>[weakens]</i> </text> . i wonder if the hypnosis has anything to do with it if so it is working i get it stop smoking ! ! !: -0.4724</text>"
      ],
      "text/plain": [
       "<IPython.core.display.HTML object>"
      ]
     },
     "metadata": {},
     "output_type": "display_data"
    },
    {
     "data": {
      "text/html": [
       "<text style=color:green>my tummy hurts . i wonder if the hypnosis has anything to do with it if so it is working i get it <text style=color:blue> <i>[start]</i> </text> smoking ! ! !: -0.6093</text>"
      ],
      "text/plain": [
       "<IPython.core.display.HTML object>"
      ]
     },
     "metadata": {},
     "output_type": "display_data"
    },
    {
     "data": {
      "text/html": [
       "<text style=color:green>my tummy hurts . i wonder if the hypnosis has anything to do with it if so it is working i get it <text style=color:blue> <i>[continue]</i> </text> smoking ! ! !: -0.6093</text>"
      ],
      "text/plain": [
       "<IPython.core.display.HTML object>"
      ]
     },
     "metadata": {},
     "output_type": "display_data"
    },
    {
     "data": {
      "text/html": [
       "<text style=color:green>my tummy hurts . i wonder if the hypnosis has anything to do with it if so it is working i get it <text style=color:blue> <i>[begin]</i> </text> smoking ! ! !: -0.6093</text>"
      ],
      "text/plain": [
       "<IPython.core.display.HTML object>"
      ]
     },
     "metadata": {},
     "output_type": "display_data"
    },
    {
     "name": "stdout",
     "output_type": "stream",
     "text": [
      "\n",
      "NUM(14)  sorry babe!!  my fam annoys me too. thankfully they are asleep right now. muahaha. *evil laugh*:-0.2225\n",
      "\n",
      "For word [sorry]: antonyms - ['unregretful']\n",
      "Word sorry[JJ] replaced with glad[JJ]\n",
      "Word sorry[JJ] replaced with sad[JJ]\n",
      "Word sorry[JJ] replaced with disappointed[JJ]\n",
      "Word sorry[JJ] replaced with happy[JJ]\n",
      "Word sorry[JJ] replaced with regret[JJ]\n",
      "Word sorry[JJ] replaced with unregretful[JJ]\n",
      "--- No pos approved words! ---\n",
      "Word thankfully[RB] replaced with luckily[RB]\n",
      "Word thankfully[RB] replaced with fortunately[RB]\n",
      "Word thankfully[RB] replaced with sadly[RB]\n",
      "Word thankfully[RB] replaced with regrettably[RB]\n",
      "Word thankfully[RB] replaced with admittedly[RB]\n"
     ]
    },
    {
     "data": {
      "text/html": [
       "<text style=color:DarkGray><text style=color:blue> <i>[glad]</i> </text> babe ! ! my fam annoys me too . thankfully they are asleep right now . muahaha . *evil laugh*: 0.0</text>"
      ],
      "text/plain": [
       "<IPython.core.display.HTML object>"
      ]
     },
     "metadata": {},
     "output_type": "display_data"
    },
    {
     "data": {
      "text/html": [
       "<text style=color:DarkGray><text style=color:blue> <i>[sad]</i> </text> babe ! ! my fam annoys me too . thankfully they are asleep right now . muahaha . *evil laugh*: 0.0</text>"
      ],
      "text/plain": [
       "<IPython.core.display.HTML object>"
      ]
     },
     "metadata": {},
     "output_type": "display_data"
    },
    {
     "data": {
      "text/html": [
       "<text style=color:DarkGray><text style=color:blue> <i>[disappointed]</i> </text> babe ! ! my fam annoys me too . thankfully they are asleep right now . muahaha . *evil laugh*: 0.0</text>"
      ],
      "text/plain": [
       "<IPython.core.display.HTML object>"
      ]
     },
     "metadata": {},
     "output_type": "display_data"
    },
    {
     "data": {
      "text/html": [
       "<text style=color:DarkGray><text style=color:blue> <i>[happy]</i> </text> babe ! ! my fam annoys me too . thankfully they are asleep right now . muahaha . *evil laugh*: 0.0</text>"
      ],
      "text/plain": [
       "<IPython.core.display.HTML object>"
      ]
     },
     "metadata": {},
     "output_type": "display_data"
    },
    {
     "data": {
      "text/html": [
       "<text style=color:DarkGray><text style=color:blue> <i>[regret]</i> </text> babe ! ! my fam annoys me too . thankfully they are asleep right now . muahaha . *evil laugh*: 0.0</text>"
      ],
      "text/plain": [
       "<IPython.core.display.HTML object>"
      ]
     },
     "metadata": {},
     "output_type": "display_data"
    },
    {
     "data": {
      "text/html": [
       "<text style=color:DarkGray><text style=color:blue> <i>[unregretful]</i> </text> babe ! ! my fam annoys me too . thankfully they are asleep right now . muahaha . *evil laugh*: 0.0</text>"
      ],
      "text/plain": [
       "<IPython.core.display.HTML object>"
      ]
     },
     "metadata": {},
     "output_type": "display_data"
    },
    {
     "data": {
      "text/html": [
       "<text style=color:red>sorry babe ! ! my fam annoys me too . <text style=color:blue> <i>[luckily]</i> </text> they are asleep right now . muahaha . *evil laugh*: -0.5696</text>"
      ],
      "text/plain": [
       "<IPython.core.display.HTML object>"
      ]
     },
     "metadata": {},
     "output_type": "display_data"
    },
    {
     "data": {
      "text/html": [
       "<text style=color:red>sorry babe ! ! my fam annoys me too . <text style=color:blue> <i>[fortunately]</i> </text> they are asleep right now . muahaha . *evil laugh*: -0.5696</text>"
      ],
      "text/plain": [
       "<IPython.core.display.HTML object>"
      ]
     },
     "metadata": {},
     "output_type": "display_data"
    },
    {
     "data": {
      "text/html": [
       "<text style=color:red>sorry babe ! ! my fam annoys me too . <text style=color:blue> <i>[sadly]</i> </text> they are asleep right now . muahaha . *evil laugh*: -0.5696</text>"
      ],
      "text/plain": [
       "<IPython.core.display.HTML object>"
      ]
     },
     "metadata": {},
     "output_type": "display_data"
    },
    {
     "data": {
      "text/html": [
       "<text style=color:red>sorry babe ! ! my fam annoys me too . <text style=color:blue> <i>[regrettably]</i> </text> they are asleep right now . muahaha . *evil laugh*: -0.5696</text>"
      ],
      "text/plain": [
       "<IPython.core.display.HTML object>"
      ]
     },
     "metadata": {},
     "output_type": "display_data"
    },
    {
     "data": {
      "text/html": [
       "<text style=color:red>sorry babe ! ! my fam annoys me too . <text style=color:blue> <i>[admittedly]</i> </text> they are asleep right now . muahaha . *evil laugh*: -0.5696</text>"
      ],
      "text/plain": [
       "<IPython.core.display.HTML object>"
      ]
     },
     "metadata": {},
     "output_type": "display_data"
    }
   ],
   "source": [
    "def runThroughTweets():\n",
    "\n",
    "    tweets_df = pd.read_csv( pathToDatasets + 'cleanedTweets.csv' , nrows=NUM_OF_TWEETS, skiprows=TWEET_START)\n",
    "\n",
    "    tweets = tweets_df.values\n",
    "\n",
    "    \n",
    "    for counter,tweet in enumerate(tweets):\n",
    "        tweet = tweet[0]\n",
    "        \n",
    "        mainSentiment = senty.polarity_scores(tweet)['compound']\n",
    "        if(mainSentiment == 0):\n",
    "            continue\n",
    "        print(\"\\nNUM({2}) {0}:{1}\\n\".format(tweet,mainSentiment, counter))       \n",
    "        newStrings = getAlternativeSentences(tweet, mainSentiment)\n",
    "        if(newStrings == [] or newStrings == None):\n",
    "            print(\"--- No new strings generated ---\\n\\n\")\n",
    "            continue\n",
    "        for alteredTweet in newStrings:\n",
    "            sentimentOfNewString = senty.polarity_scores(alteredTweet)['compound']\n",
    "            if(sentimentOfNewString == mainSentiment or sentimentOfNewString == 0):\n",
    "                display(HTML(cstr(\"{0}: {1}\".format(alteredTweet,sentimentOfNewString),'DarkGray')))\n",
    "            elif(sentimentOfNewString > mainSentiment):\n",
    "                display(HTML(cstr(\"{0}: {1}\".format(alteredTweet,sentimentOfNewString),'green')))\n",
    "            else:\n",
    "                display(HTML(cstr(\"{0}: {1}\".format(alteredTweet,sentimentOfNewString),'red')))\n",
    "    \n",
    "    \n",
    "runThroughTweets()"
   ]
  },
  {
   "cell_type": "code",
   "execution_count": null,
   "metadata": {},
   "outputs": [],
   "source": []
  }
 ],
 "metadata": {
  "kernelspec": {
   "display_name": "Python 3",
   "language": "python",
   "name": "python3"
  },
  "language_info": {
   "codemirror_mode": {
    "name": "ipython",
    "version": 3
   },
   "file_extension": ".py",
   "mimetype": "text/x-python",
   "name": "python",
   "nbconvert_exporter": "python",
   "pygments_lexer": "ipython3",
   "version": "3.6.5"
  }
 },
 "nbformat": 4,
 "nbformat_minor": 2
}
