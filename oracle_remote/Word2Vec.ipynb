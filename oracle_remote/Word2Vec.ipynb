{
 "cells": [
  {
   "cell_type": "code",
   "execution_count": 1,
   "metadata": {},
   "outputs": [],
   "source": [
    "import gensim\n",
    "import gensim.downloader as api\n",
    "import numpy as np\n",
    "import re\n",
    "import csv\n",
    "import pandas as pd\n",
    "import pprint\n",
    "import string\n",
    "import nltk\n",
    "import sys\n",
    "\n",
    "from IPython.display import HTML\n",
    "from nltk.corpus import wordnet \n",
    "from sklearn.manifold import TSNE\n",
    "from gensim.models import Word2Vec\n",
    "from gensim.models import KeyedVectors\n"
   ]
  },
  {
   "cell_type": "code",
   "execution_count": 2,
   "metadata": {
    "scrolled": true
   },
   "outputs": [
    {
     "name": "stdout",
     "output_type": "stream",
     "text": [
      "[nltk_data] Downloading package vader_lexicon to\n",
      "[nltk_data]     /home/ubuntu/nltk_data...\n",
      "[nltk_data]   Package vader_lexicon is already up-to-date!\n",
      "[nltk_data] Downloading package punkt to /home/ubuntu/nltk_data...\n",
      "[nltk_data]   Package punkt is already up-to-date!\n",
      "[nltk_data] Downloading package averaged_perceptron_tagger to\n",
      "[nltk_data]     /home/ubuntu/nltk_data...\n",
      "[nltk_data]   Package averaged_perceptron_tagger is already up-to-\n",
      "[nltk_data]       date!\n",
      "[nltk_data] Downloading package wordnet to /home/ubuntu/nltk_data...\n",
      "[nltk_data]   Package wordnet is already up-to-date!\n"
     ]
    },
    {
     "data": {
      "text/plain": [
       "True"
      ]
     },
     "execution_count": 2,
     "metadata": {},
     "output_type": "execute_result"
    }
   ],
   "source": [
    "pathToDatasets = '../datasets/'\n",
    "pathToDataScripts = '../datasets/scripts/'\n",
    "filePath = '../datasets/GoogleNews-vectors-negative300.bin'\n",
    "word_vectors = api.load(\"glove-wiki-gigaword-100\")\n",
    "nltk.download('vader_lexicon')\n",
    "nltk.download('punkt')\n",
    "nltk.download('averaged_perceptron_tagger')\n",
    "nltk.download('wordnet')"
   ]
  },
  {
   "cell_type": "code",
   "execution_count": 3,
   "metadata": {},
   "outputs": [
    {
     "name": "stderr",
     "output_type": "stream",
     "text": [
      "/home/ubuntu/anaconda3/lib/python3.6/site-packages/nltk/twitter/__init__.py:20: UserWarning: The twython library has not been installed. Some functionality from the twitter package will not be available.\n",
      "  warnings.warn(\"The twython library has not been installed. \"\n"
     ]
    }
   ],
   "source": [
    "from nltk.sentiment.vader import SentimentIntensityAnalyzer\n",
    "from nltk.tokenize import word_tokenize\n",
    "sys.path.insert(0, pathToDataScripts)\n",
    "from cleanDataset import tokenize_words \n",
    "\n",
    "\n",
    "\n",
    "senty = SentimentIntensityAnalyzer()\n",
    "vocabulary = word_vectors.vocab;\n",
    "\n",
    "\n",
    "NUMBER_OF_ALTERNATIVES = 7\n",
    "TWEET_START = 50\n",
    "NUM_OF_TWEETS = 25\n",
    "\n",
    "punctuation = r\"\\\"#$%&'()+-/:;<=>?@[\\]*^_`{|}~\""
   ]
  },
  {
   "cell_type": "code",
   "execution_count": 4,
   "metadata": {
    "scrolled": true
   },
   "outputs": [],
   "source": [
    "def cstr(s, color='black'):\n",
    "    return \"<text style=color:{}>{}</text>\".format(color, s)"
   ]
  },
  {
   "cell_type": "markdown",
   "metadata": {},
   "source": [
    "## Utility Code"
   ]
  },
  {
   "cell_type": "code",
   "execution_count": 5,
   "metadata": {},
   "outputs": [],
   "source": [
    "def cleanAndTokenizeText(text):\n",
    "    text = text.lower()\n",
    "    newString = \"\"\n",
    "    for char in text:\n",
    "        if char not in punctuation:\n",
    "            newString += char\n",
    "    text = word_tokenize(newString)\n",
    "    return text;\n",
    "\n",
    "def listReplacements(word):\n",
    "    if(word not in vocabulary):\n",
    "        return []\n",
    "    possibleReplacements = [word[0] for word in word_vectors.most_similar(word,topn=NUMBER_OF_ALTERNATIVES)]\n",
    "    antonyms = getAntonymsOfWords(word)\n",
    "    if(antonyms != []):\n",
    "        print(\"For word [{1}]: antonyms - {0}\".format(antonyms, word))\n",
    "        possibleReplacements.extend(antonyms)\n",
    "    return possibleReplacements\n",
    "\n",
    "def getPOSTags(tweet):\n",
    "    tags = nltk.pos_tag(tweet)\n",
    "    return(tags)\n",
    "\n",
    "def getAntonymsOfWords(word):\n",
    "    if (word not in vocabulary):\n",
    "        return []\n",
    "    listOfAntonyms = []\n",
    "    for syn in wordnet.synsets(word):\n",
    "        for l in syn.lemmas():\n",
    "            anton = l.antonyms()\n",
    "            if(anton != []):\n",
    "                listOfAntonyms.append(anton[0].name())\n",
    "    return list(set(listOfAntonyms))"
   ]
  },
  {
   "cell_type": "markdown",
   "metadata": {},
   "source": [
    "## NLP Utility Code"
   ]
  },
  {
   "cell_type": "code",
   "execution_count": 6,
   "metadata": {},
   "outputs": [],
   "source": [
    "def posApprovedReplacements(alternativeWords, userTokens, indexOfToken):\n",
    "    if(alternativeWords == []):\n",
    "        print(\"--- No alternative words! ---\")\n",
    "        return []\n",
    "    tempTokens = userTokens[:]\n",
    "    truePOSTokens = getPOSTags(tempTokens)\n",
    "    validWords = []\n",
    "    \n",
    "    mainTag = truePOSTokens[indexOfToken][1]\n",
    "    mainWord = userTokens[indexOfToken]\n",
    "    \n",
    "    for ind,word in enumerate(alternativeWords):\n",
    "        tempTokens[indexOfToken] = word\n",
    "        posTags = getPOSTags(tempTokens)\n",
    "        newTag = (posTags[indexOfToken])[1]\n",
    "\n",
    "        if(str(newTag) == str(mainTag)):\n",
    "            print(\"Word {0}[{1}] replaced with {2}[{3}]\".format(mainWord, mainTag, word,newTag))\n",
    "            validWords.append(word)\n",
    "    return validWords\n",
    "        "
   ]
  },
  {
   "cell_type": "code",
   "execution_count": 7,
   "metadata": {},
   "outputs": [],
   "source": [
    "def getAlternativeSentences(tweet, sentimentOfTweet):\n",
    "    userInputTokens = cleanAndTokenizeText(tweet)\n",
    "    \n",
    "   \n",
    "    alternativeStrings = []\n",
    "    for ind,word in enumerate(userInputTokens):\n",
    "        \n",
    "        score = senty.polarity_scores(word)['compound'] # get the aggregated score!\n",
    "        newUserTokens = userInputTokens[:]\n",
    "        \n",
    "        if(score != 0.0):\n",
    "            replacements = listReplacements(word)       \n",
    "            replacements = posApprovedReplacements(replacements[:], newUserTokens[:], ind)\n",
    "            \n",
    "            if(replacements == []):\n",
    "                print(\"--- No pos approved words! ---\")\n",
    "                continue          \n",
    "            for newWord in replacements:\n",
    "                \n",
    "                htmlFriendlyTokens = newUserTokens[:]\n",
    "                newUserTokens[ind] = newWord\n",
    "                htmlFriendlyTokens[ind] = cstr(\" <i>[{0}]</i> \".format(newWord), 'blue');\n",
    "                newString = ' '.join(newUserTokens)\n",
    "                print(newString)\n",
    "                sentimentOfNewString = senty.polarity_scores(newString)['compound']\n",
    "                \n",
    "#                 if(sentimentOfNewString == 0):\n",
    "#                     continue\n",
    "                \n",
    "                alternativeStrings.append(' '.join(htmlFriendlyTokens))\n",
    "    return alternativeStrings;"
   ]
  },
  {
   "cell_type": "markdown",
   "metadata": {},
   "source": [
    "## Test Cells"
   ]
  },
  {
   "cell_type": "code",
   "execution_count": 8,
   "metadata": {
    "scrolled": false
   },
   "outputs": [
    {
     "name": "stdout",
     "output_type": "stream",
     "text": [
      "['evilness', 'evil', 'bad', 'badness', 'ill']\n"
     ]
    }
   ],
   "source": [
    "specificWord = \"good\"\n",
    "def testOneWord(word = \"\"):\n",
    "    if(word == \"\"):\n",
    "        return\n",
    "    else:\n",
    "        print(getAntonymsOfWords(word))\n",
    "\n",
    "testOneWord(specificWord)"
   ]
  },
  {
   "cell_type": "code",
   "execution_count": 9,
   "metadata": {
    "scrolled": false
   },
   "outputs": [
    {
     "name": "stdout",
     "output_type": "stream",
     "text": [
      "This is a very good phrase that needs to be understood by everyone!: 0.54\n",
      "\n",
      "For word [good]: antonyms - ['evilness', 'evil', 'bad', 'badness', 'ill']\n",
      "Word good[JJ] replaced with better[JJ]\n",
      "Word good[JJ] replaced with sure[JJ]\n",
      "Word good[JJ] replaced with evilness[JJ]\n",
      "Word good[JJ] replaced with evil[JJ]\n",
      "Word good[JJ] replaced with bad[JJ]\n",
      "Word good[JJ] replaced with badness[JJ]\n",
      "Word good[JJ] replaced with ill[JJ]\n",
      "this is a very better phrase that needs to be understood by everyone !\n",
      "this is a very sure phrase that needs to be understood by everyone !\n",
      "this is a very evilness phrase that needs to be understood by everyone !\n",
      "this is a very evil phrase that needs to be understood by everyone !\n",
      "this is a very bad phrase that needs to be understood by everyone !\n",
      "this is a very badness phrase that needs to be understood by everyone !\n",
      "this is a very ill phrase that needs to be understood by everyone !\n"
     ]
    },
    {
     "data": {
      "text/html": [
       "<text style=color:DarkGray>this is a very <text style=color:blue> <i>[better]</i> </text> phrase that needs to be understood by everyone !: 0.0</text>"
      ],
      "text/plain": [
       "<IPython.core.display.HTML object>"
      ]
     },
     "metadata": {},
     "output_type": "display_data"
    },
    {
     "data": {
      "text/html": [
       "<text style=color:DarkGray>this is a very <text style=color:blue> <i>[sure]</i> </text> phrase that needs to be understood by everyone !: 0.0</text>"
      ],
      "text/plain": [
       "<IPython.core.display.HTML object>"
      ]
     },
     "metadata": {},
     "output_type": "display_data"
    },
    {
     "data": {
      "text/html": [
       "<text style=color:DarkGray>this is a very <text style=color:blue> <i>[evilness]</i> </text> phrase that needs to be understood by everyone !: 0.0</text>"
      ],
      "text/plain": [
       "<IPython.core.display.HTML object>"
      ]
     },
     "metadata": {},
     "output_type": "display_data"
    },
    {
     "data": {
      "text/html": [
       "<text style=color:DarkGray>this is a very <text style=color:blue> <i>[evil]</i> </text> phrase that needs to be understood by everyone !: 0.0</text>"
      ],
      "text/plain": [
       "<IPython.core.display.HTML object>"
      ]
     },
     "metadata": {},
     "output_type": "display_data"
    },
    {
     "data": {
      "text/html": [
       "<text style=color:DarkGray>this is a very <text style=color:blue> <i>[bad]</i> </text> phrase that needs to be understood by everyone !: 0.0</text>"
      ],
      "text/plain": [
       "<IPython.core.display.HTML object>"
      ]
     },
     "metadata": {},
     "output_type": "display_data"
    },
    {
     "data": {
      "text/html": [
       "<text style=color:DarkGray>this is a very <text style=color:blue> <i>[badness]</i> </text> phrase that needs to be understood by everyone !: 0.0</text>"
      ],
      "text/plain": [
       "<IPython.core.display.HTML object>"
      ]
     },
     "metadata": {},
     "output_type": "display_data"
    },
    {
     "data": {
      "text/html": [
       "<text style=color:DarkGray>this is a very <text style=color:blue> <i>[ill]</i> </text> phrase that needs to be understood by everyone !: 0.0</text>"
      ],
      "text/plain": [
       "<IPython.core.display.HTML object>"
      ]
     },
     "metadata": {},
     "output_type": "display_data"
    },
    {
     "data": {
      "text/html": [
       "<text style=color:DarkGray>this is a very [good] phrase that needs to be understood by everyone !: 0.0</text>"
      ],
      "text/plain": [
       "<IPython.core.display.HTML object>"
      ]
     },
     "metadata": {},
     "output_type": "display_data"
    },
    {
     "name": "stdout",
     "output_type": "stream",
     "text": [
      "This is a pretty good phrase that needs to be understood by everyone!: 0.75\n",
      "\n",
      "For word [pretty]: antonyms - ['unreasonably', 'immoderately']\n",
      "Word pretty[RB] replaced with quite[RB]\n",
      "Word pretty[RB] replaced with really[RB]\n",
      "Word pretty[RB] replaced with very[RB]\n",
      "Word pretty[RB] replaced with too[RB]\n",
      "Word pretty[RB] replaced with incredibly[RB]\n",
      "Word pretty[RB] replaced with unreasonably[RB]\n",
      "Word pretty[RB] replaced with immoderately[RB]\n",
      "this is a quite good phrase that needs to be understood by everyone !\n",
      "this is a really good phrase that needs to be understood by everyone !\n",
      "this is a very good phrase that needs to be understood by everyone !\n",
      "this is a too good phrase that needs to be understood by everyone !\n",
      "this is a incredibly good phrase that needs to be understood by everyone !\n",
      "this is a unreasonably good phrase that needs to be understood by everyone !\n",
      "this is a immoderately good phrase that needs to be understood by everyone !\n",
      "For word [good]: antonyms - ['evilness', 'evil', 'bad', 'badness', 'ill']\n",
      "Word good[JJ] replaced with sure[JJ]\n",
      "Word good[JJ] replaced with evilness[JJ]\n",
      "Word good[JJ] replaced with evil[JJ]\n",
      "Word good[JJ] replaced with bad[JJ]\n",
      "Word good[JJ] replaced with badness[JJ]\n",
      "Word good[JJ] replaced with ill[JJ]\n",
      "this is a pretty sure phrase that needs to be understood by everyone !\n",
      "this is a pretty evilness phrase that needs to be understood by everyone !\n",
      "this is a pretty evil phrase that needs to be understood by everyone !\n",
      "this is a pretty bad phrase that needs to be understood by everyone !\n",
      "this is a pretty badness phrase that needs to be understood by everyone !\n",
      "this is a pretty ill phrase that needs to be understood by everyone !\n"
     ]
    },
    {
     "data": {
      "text/html": [
       "<text style=color:red>this is a <text style=color:blue> <i>[quite]</i> </text> good phrase that needs to be understood by everyone !: 0.4926</text>"
      ],
      "text/plain": [
       "<IPython.core.display.HTML object>"
      ]
     },
     "metadata": {},
     "output_type": "display_data"
    },
    {
     "data": {
      "text/html": [
       "<text style=color:red>this is a <text style=color:blue> <i>[really]</i> </text> good phrase that needs to be understood by everyone !: 0.4926</text>"
      ],
      "text/plain": [
       "<IPython.core.display.HTML object>"
      ]
     },
     "metadata": {},
     "output_type": "display_data"
    },
    {
     "data": {
      "text/html": [
       "<text style=color:red>this is a <text style=color:blue> <i>[very]</i> </text> good phrase that needs to be understood by everyone !: 0.4926</text>"
      ],
      "text/plain": [
       "<IPython.core.display.HTML object>"
      ]
     },
     "metadata": {},
     "output_type": "display_data"
    },
    {
     "data": {
      "text/html": [
       "<text style=color:red>this is a <text style=color:blue> <i>[too]</i> </text> good phrase that needs to be understood by everyone !: 0.4926</text>"
      ],
      "text/plain": [
       "<IPython.core.display.HTML object>"
      ]
     },
     "metadata": {},
     "output_type": "display_data"
    },
    {
     "data": {
      "text/html": [
       "<text style=color:red>this is a <text style=color:blue> <i>[incredibly]</i> </text> good phrase that needs to be understood by everyone !: 0.4926</text>"
      ],
      "text/plain": [
       "<IPython.core.display.HTML object>"
      ]
     },
     "metadata": {},
     "output_type": "display_data"
    },
    {
     "data": {
      "text/html": [
       "<text style=color:red>this is a <text style=color:blue> <i>[unreasonably]</i> </text> good phrase that needs to be understood by everyone !: 0.4926</text>"
      ],
      "text/plain": [
       "<IPython.core.display.HTML object>"
      ]
     },
     "metadata": {},
     "output_type": "display_data"
    },
    {
     "data": {
      "text/html": [
       "<text style=color:red>this is a <text style=color:blue> <i>[immoderately]</i> </text> good phrase that needs to be understood by everyone !: 0.4926</text>"
      ],
      "text/plain": [
       "<IPython.core.display.HTML object>"
      ]
     },
     "metadata": {},
     "output_type": "display_data"
    },
    {
     "data": {
      "text/html": [
       "<text style=color:red>this is a pretty <text style=color:blue> <i>[sure]</i> </text> phrase that needs to be understood by everyone !: 0.5411</text>"
      ],
      "text/plain": [
       "<IPython.core.display.HTML object>"
      ]
     },
     "metadata": {},
     "output_type": "display_data"
    },
    {
     "data": {
      "text/html": [
       "<text style=color:red>this is a pretty <text style=color:blue> <i>[evilness]</i> </text> phrase that needs to be understood by everyone !: 0.5411</text>"
      ],
      "text/plain": [
       "<IPython.core.display.HTML object>"
      ]
     },
     "metadata": {},
     "output_type": "display_data"
    },
    {
     "data": {
      "text/html": [
       "<text style=color:red>this is a pretty <text style=color:blue> <i>[evil]</i> </text> phrase that needs to be understood by everyone !: 0.5411</text>"
      ],
      "text/plain": [
       "<IPython.core.display.HTML object>"
      ]
     },
     "metadata": {},
     "output_type": "display_data"
    },
    {
     "data": {
      "text/html": [
       "<text style=color:red>this is a pretty <text style=color:blue> <i>[bad]</i> </text> phrase that needs to be understood by everyone !: 0.5411</text>"
      ],
      "text/plain": [
       "<IPython.core.display.HTML object>"
      ]
     },
     "metadata": {},
     "output_type": "display_data"
    },
    {
     "data": {
      "text/html": [
       "<text style=color:red>this is a pretty <text style=color:blue> <i>[badness]</i> </text> phrase that needs to be understood by everyone !: 0.5411</text>"
      ],
      "text/plain": [
       "<IPython.core.display.HTML object>"
      ]
     },
     "metadata": {},
     "output_type": "display_data"
    },
    {
     "data": {
      "text/html": [
       "<text style=color:red>this is a pretty <text style=color:blue> <i>[ill]</i> </text> phrase that needs to be understood by everyone !: 0.5411</text>"
      ],
      "text/plain": [
       "<IPython.core.display.HTML object>"
      ]
     },
     "metadata": {},
     "output_type": "display_data"
    },
    {
     "data": {
      "text/html": [
       "<text style=color:DarkGray>this is a very [good] phrase that needs to be understood by everyone !: 0.0</text>"
      ],
      "text/plain": [
       "<IPython.core.display.HTML object>"
      ]
     },
     "metadata": {},
     "output_type": "display_data"
    },
    {
     "name": "stdout",
     "output_type": "stream",
     "text": [
      "This is a kinda good phrase that needs to be understood by everyone!: 0.4402\n",
      "\n",
      "For word [good]: antonyms - ['evilness', 'evil', 'bad', 'badness', 'ill']\n",
      "Word good[JJ] replaced with sure[JJ]\n",
      "Word good[JJ] replaced with evil[JJ]\n",
      "Word good[JJ] replaced with bad[JJ]\n",
      "this is a kinda sure phrase that needs to be understood by everyone !\n",
      "this is a kinda evil phrase that needs to be understood by everyone !\n",
      "this is a kinda bad phrase that needs to be understood by everyone !\n"
     ]
    },
    {
     "data": {
      "text/html": [
       "<text style=color:DarkGray>this is a kinda <text style=color:blue> <i>[sure]</i> </text> phrase that needs to be understood by everyone !: 0.0</text>"
      ],
      "text/plain": [
       "<IPython.core.display.HTML object>"
      ]
     },
     "metadata": {},
     "output_type": "display_data"
    },
    {
     "data": {
      "text/html": [
       "<text style=color:DarkGray>this is a kinda <text style=color:blue> <i>[evil]</i> </text> phrase that needs to be understood by everyone !: 0.0</text>"
      ],
      "text/plain": [
       "<IPython.core.display.HTML object>"
      ]
     },
     "metadata": {},
     "output_type": "display_data"
    },
    {
     "data": {
      "text/html": [
       "<text style=color:DarkGray>this is a kinda <text style=color:blue> <i>[bad]</i> </text> phrase that needs to be understood by everyone !: 0.0</text>"
      ],
      "text/plain": [
       "<IPython.core.display.HTML object>"
      ]
     },
     "metadata": {},
     "output_type": "display_data"
    },
    {
     "data": {
      "text/html": [
       "<text style=color:DarkGray>this is a very [good] phrase that needs to be understood by everyone !: 0.0</text>"
      ],
      "text/plain": [
       "<IPython.core.display.HTML object>"
      ]
     },
     "metadata": {},
     "output_type": "display_data"
    },
    {
     "name": "stdout",
     "output_type": "stream",
     "text": [
      "This is a good phrase that needs to be understood by everyone!: 0.4926\n",
      "\n",
      "For word [good]: antonyms - ['evilness', 'evil', 'bad', 'badness', 'ill']\n",
      "Word good[JJ] replaced with sure[JJ]\n",
      "Word good[JJ] replaced with evilness[JJ]\n",
      "Word good[JJ] replaced with evil[JJ]\n",
      "Word good[JJ] replaced with bad[JJ]\n",
      "Word good[JJ] replaced with badness[JJ]\n",
      "Word good[JJ] replaced with ill[JJ]\n",
      "this is a sure phrase that needs to be understood by everyone !\n",
      "this is a evilness phrase that needs to be understood by everyone !\n",
      "this is a evil phrase that needs to be understood by everyone !\n",
      "this is a bad phrase that needs to be understood by everyone !\n",
      "this is a badness phrase that needs to be understood by everyone !\n",
      "this is a ill phrase that needs to be understood by everyone !\n"
     ]
    },
    {
     "data": {
      "text/html": [
       "<text style=color:DarkGray>this is a <text style=color:blue> <i>[sure]</i> </text> phrase that needs to be understood by everyone !: 0.0</text>"
      ],
      "text/plain": [
       "<IPython.core.display.HTML object>"
      ]
     },
     "metadata": {},
     "output_type": "display_data"
    },
    {
     "data": {
      "text/html": [
       "<text style=color:DarkGray>this is a <text style=color:blue> <i>[evilness]</i> </text> phrase that needs to be understood by everyone !: 0.0</text>"
      ],
      "text/plain": [
       "<IPython.core.display.HTML object>"
      ]
     },
     "metadata": {},
     "output_type": "display_data"
    },
    {
     "data": {
      "text/html": [
       "<text style=color:DarkGray>this is a <text style=color:blue> <i>[evil]</i> </text> phrase that needs to be understood by everyone !: 0.0</text>"
      ],
      "text/plain": [
       "<IPython.core.display.HTML object>"
      ]
     },
     "metadata": {},
     "output_type": "display_data"
    },
    {
     "data": {
      "text/html": [
       "<text style=color:DarkGray>this is a <text style=color:blue> <i>[bad]</i> </text> phrase that needs to be understood by everyone !: 0.0</text>"
      ],
      "text/plain": [
       "<IPython.core.display.HTML object>"
      ]
     },
     "metadata": {},
     "output_type": "display_data"
    },
    {
     "data": {
      "text/html": [
       "<text style=color:DarkGray>this is a <text style=color:blue> <i>[badness]</i> </text> phrase that needs to be understood by everyone !: 0.0</text>"
      ],
      "text/plain": [
       "<IPython.core.display.HTML object>"
      ]
     },
     "metadata": {},
     "output_type": "display_data"
    },
    {
     "data": {
      "text/html": [
       "<text style=color:DarkGray>this is a <text style=color:blue> <i>[ill]</i> </text> phrase that needs to be understood by everyone !: 0.0</text>"
      ],
      "text/plain": [
       "<IPython.core.display.HTML object>"
      ]
     },
     "metadata": {},
     "output_type": "display_data"
    },
    {
     "data": {
      "text/html": [
       "<text style=color:DarkGray>this is a very [good] phrase that needs to be understood by everyone !: 0.0</text>"
      ],
      "text/plain": [
       "<IPython.core.display.HTML object>"
      ]
     },
     "metadata": {},
     "output_type": "display_data"
    },
    {
     "name": "stdout",
     "output_type": "stream",
     "text": [
      "MVB has unpleasant weather. That's why I got a fan!: -0.2714\n",
      "\n",
      "For word [unpleasant]: antonyms - ['pleasant']\n",
      "Word unpleasant[JJ] replaced with uncomfortable[JJ]\n",
      "Word unpleasant[JJ] replaced with painful[JJ]\n",
      "Word unpleasant[JJ] replaced with disagreeable[JJ]\n",
      "Word unpleasant[JJ] replaced with pleasant[JJ]\n",
      "mvb has uncomfortable weather . thats why i got a fan !\n",
      "mvb has painful weather . thats why i got a fan !\n",
      "mvb has disagreeable weather . thats why i got a fan !\n",
      "mvb has pleasant weather . thats why i got a fan !\n",
      "Word fan[NN] replaced with star[NN]\n",
      "Word fan[NN] replaced with player[NN]\n",
      "Word fan[NN] replaced with crowd[NN]\n",
      "Word fan[NN] replaced with fame[NN]\n",
      "Word fan[NN] replaced with game[NN]\n",
      "mvb has unpleasant weather . thats why i got a star !\n",
      "mvb has unpleasant weather . thats why i got a player !\n",
      "mvb has unpleasant weather . thats why i got a crowd !\n",
      "mvb has unpleasant weather . thats why i got a fame !\n",
      "mvb has unpleasant weather . thats why i got a game !\n"
     ]
    },
    {
     "data": {
      "text/html": [
       "<text style=color:green>mvb has <text style=color:blue> <i>[uncomfortable]</i> </text> weather . thats why i got a fan !: 0.3802</text>"
      ],
      "text/plain": [
       "<IPython.core.display.HTML object>"
      ]
     },
     "metadata": {},
     "output_type": "display_data"
    },
    {
     "data": {
      "text/html": [
       "<text style=color:green>mvb has <text style=color:blue> <i>[painful]</i> </text> weather . thats why i got a fan !: 0.3802</text>"
      ],
      "text/plain": [
       "<IPython.core.display.HTML object>"
      ]
     },
     "metadata": {},
     "output_type": "display_data"
    },
    {
     "data": {
      "text/html": [
       "<text style=color:green>mvb has <text style=color:blue> <i>[disagreeable]</i> </text> weather . thats why i got a fan !: 0.3802</text>"
      ],
      "text/plain": [
       "<IPython.core.display.HTML object>"
      ]
     },
     "metadata": {},
     "output_type": "display_data"
    },
    {
     "data": {
      "text/html": [
       "<text style=color:green>mvb has <text style=color:blue> <i>[pleasant]</i> </text> weather . thats why i got a fan !: 0.3802</text>"
      ],
      "text/plain": [
       "<IPython.core.display.HTML object>"
      ]
     },
     "metadata": {},
     "output_type": "display_data"
    },
    {
     "data": {
      "text/html": [
       "<text style=color:red>mvb has unpleasant weather . thats why i got a <text style=color:blue> <i>[star]</i> </text> !: -0.5255</text>"
      ],
      "text/plain": [
       "<IPython.core.display.HTML object>"
      ]
     },
     "metadata": {},
     "output_type": "display_data"
    },
    {
     "data": {
      "text/html": [
       "<text style=color:red>mvb has unpleasant weather . thats why i got a <text style=color:blue> <i>[player]</i> </text> !: -0.5255</text>"
      ],
      "text/plain": [
       "<IPython.core.display.HTML object>"
      ]
     },
     "metadata": {},
     "output_type": "display_data"
    },
    {
     "data": {
      "text/html": [
       "<text style=color:red>mvb has unpleasant weather . thats why i got a <text style=color:blue> <i>[crowd]</i> </text> !: -0.5255</text>"
      ],
      "text/plain": [
       "<IPython.core.display.HTML object>"
      ]
     },
     "metadata": {},
     "output_type": "display_data"
    },
    {
     "data": {
      "text/html": [
       "<text style=color:red>mvb has unpleasant weather . thats why i got a <text style=color:blue> <i>[fame]</i> </text> !: -0.5255</text>"
      ],
      "text/plain": [
       "<IPython.core.display.HTML object>"
      ]
     },
     "metadata": {},
     "output_type": "display_data"
    },
    {
     "data": {
      "text/html": [
       "<text style=color:red>mvb has unpleasant weather . thats why i got a <text style=color:blue> <i>[game]</i> </text> !: -0.5255</text>"
      ],
      "text/plain": [
       "<IPython.core.display.HTML object>"
      ]
     },
     "metadata": {},
     "output_type": "display_data"
    },
    {
     "data": {
      "text/html": [
       "<text style=color:DarkGray>this is a very [good] phrase that needs to be understood by everyone !: 0.0</text>"
      ],
      "text/plain": [
       "<IPython.core.display.HTML object>"
      ]
     },
     "metadata": {},
     "output_type": "display_data"
    }
   ],
   "source": [
    "specificString = \"\"\n",
    "def specificString(textString=\"\"):\n",
    "    if(textString == \"\" or textString == None):\n",
    "        return\n",
    "    mainSentiment = senty.polarity_scores(textString)['compound']\n",
    "    if(mainSentiment == 0):\n",
    "        print(\" Sentiment of String shows completely neutral \");\n",
    "        return\n",
    "    else:\n",
    "        print(\"{0}: {1}\\n\".format(textString, mainSentiment))\n",
    "        newStrings = getAlternativeSentences(textString, mainSentiment)\n",
    "        newStrings.append(\"this is a very [good] phrase that needs to be understood by everyone !\")\n",
    "        if(newStrings == [] or newStrings == None):\n",
    "            print(\"--- No new strings generated ---\")\n",
    "            return\n",
    "        for newStr in newStrings:\n",
    "            sentimentOfNewString = senty.polarity_scores(newStr)['compound']\n",
    "            if(sentimentOfNewString == mainSentiment or sentimentOfNewString == 0):\n",
    "                display(HTML(cstr(\"{0}: {1}\".format(newStr,sentimentOfNewString),'DarkGray')))\n",
    "            elif(sentimentOfNewString > mainSentiment):\n",
    "                display(HTML(cstr(\"{0}: {1}\".format(newStr,sentimentOfNewString),'green')))\n",
    "            else:\n",
    "                display(HTML(cstr(\"{0}: {1}\".format(newStr,sentimentOfNewString),'red')))\n",
    "\n",
    "                \n",
    "                \n",
    "\n",
    "# specificString = \"I bought this for my husband who plays the piano.  \\\n",
    "# He is having a wonderful time playing these old hymns.  \\\n",
    "# The music  is at times hard to read because we think the book was \\\n",
    "# published for singing from more than playing from.  Great purchase though!\"\n",
    "specificString(\"This is a very good phrase that needs to be understood by everyone!\")\n",
    "specificString(\"This is a pretty good phrase that needs to be understood by everyone!\")\n",
    "specificString(\"This is a kinda good phrase that needs to be understood by everyone!\")\n",
    "specificString(\"This is a good phrase that needs to be understood by everyone!\")\n",
    "specificString(\"MVB has unpleasant weather. That's why I got a fan!\")\n"
   ]
  },
  {
   "cell_type": "markdown",
   "metadata": {},
   "source": [
    "## Main Cells"
   ]
  },
  {
   "cell_type": "code",
   "execution_count": 10,
   "metadata": {},
   "outputs": [],
   "source": [
    "def shiftSentiment(actualTweet,mainSentiment, alternateTweets, positive=True):\n",
    "\n",
    "    happiestTweet = \"\"\n",
    "    saddestTweet = \"\"\n",
    "    happiestScore = -sys.maxsize - 1\n",
    "    saddestScore = sys.maxsize\n",
    "    correctTweets = []\n",
    "    \n",
    "    for tweet in alternateTweets:\n",
    "        newSenty = senty.polarity_scores(tweet)['compound']\n",
    "        \n",
    "        if(newSenty < saddestScore):\n",
    "            saddestTweet = tweet\n",
    "            saddestScore = newSenty\n",
    "        if(newSenty > happiestScore):\n",
    "            happiestTweet = tweet\n",
    "            happiestScore = newSenty\n",
    "            \n",
    "        if(positive):\n",
    "            if(newSenty > mainSentiment):\n",
    "                correctTweets.append(tweet)\n",
    "                continue\n",
    "            \n",
    "            elif(newSenty < mainSentiment):\n",
    "                continue\n",
    "                # Grab happiest tweet and if it's not \"\", then generate more happy tweets from it\n",
    "        if(positive == False):\n",
    "            if(newSenty < mainSentiment):\n",
    "                correctTweets.append(tweet)\n",
    "                continue\n",
    "            \n",
    "            elif(newSenty > mainSentiment):\n",
    "                continue\n",
    "                # grab happiest tweet, and if it's not \"\", then generate more happy tweets from it\n",
    "                \n",
    "    if(correctTweets == []):\n",
    "        print(\"\\n\\nNo tweets found when trying to do Positive={}\\n\\n\".format(positive))\n",
    "    return correctTweets;\n",
    "        "
   ]
  },
  {
   "cell_type": "code",
   "execution_count": 11,
   "metadata": {},
   "outputs": [],
   "source": [
    "def printStrings(newStrings, mainSentiment):\n",
    "    for alteredTweet in newStrings:\n",
    "            sentimentOfNewString = senty.polarity_scores(alteredTweet)['compound']\n",
    "            if(sentimentOfNewString == mainSentiment or sentimentOfNewString == 0):\n",
    "                display(HTML(cstr(\"{0}: {1}\".format(alteredTweet,sentimentOfNewString),'DarkGray')))\n",
    "            elif(sentimentOfNewString > mainSentiment):\n",
    "                display(HTML(cstr(\"{0}: {1}\".format(alteredTweet,sentimentOfNewString),'green')))\n",
    "            else:\n",
    "                display(HTML(cstr(\"{0}: {1}\".format(alteredTweet,sentimentOfNewString),'red')))"
   ]
  },
  {
   "cell_type": "code",
   "execution_count": 12,
   "metadata": {
    "scrolled": false
   },
   "outputs": [
    {
     "name": "stdout",
     "output_type": "stream",
     "text": [
      "\n",
      "NUM(0) broadband plan a massive broken promise  via  still waiting for broadband we are :-0.2023\n",
      "\n",
      "For word [broken]: antonyms - ['keep', 'unbroken', 'conform_to', 'make', 'promote', 'repair']\n",
      "Word broken[NN] replaced with breaking[NN]\n",
      "Word broken[NN] replaced with broke[NN]\n",
      "Word broken[NN] replaced with apart[NN]\n",
      "Word broken[NN] replaced with neck[NN]\n",
      "Word broken[NN] replaced with keep[NN]\n",
      "Word broken[NN] replaced with conform_to[NN]\n",
      "Word broken[NN] replaced with make[NN]\n",
      "Word broken[NN] replaced with promote[NN]\n",
      "Word broken[NN] replaced with repair[NN]\n",
      "broadband plan a massive breaking promise via still waiting for broadband we are\n",
      "broadband plan a massive broke promise via still waiting for broadband we are\n",
      "broadband plan a massive apart promise via still waiting for broadband we are\n",
      "broadband plan a massive neck promise via still waiting for broadband we are\n",
      "broadband plan a massive keep promise via still waiting for broadband we are\n",
      "broadband plan a massive conform_to promise via still waiting for broadband we are\n",
      "broadband plan a massive make promise via still waiting for broadband we are\n",
      "broadband plan a massive promote promise via still waiting for broadband we are\n",
      "broadband plan a massive repair promise via still waiting for broadband we are\n",
      "Word promise[NN] replaced with pledge[NN]\n",
      "Word promise[NN] replaced with commitment[NN]\n",
      "Word promise[NN] replaced with hope[NN]\n",
      "Word promise[NN] replaced with give[NN]\n",
      "Word promise[NN] replaced with desire[NN]\n",
      "broadband plan a massive broken pledge via still waiting for broadband we are\n",
      "broadband plan a massive broken commitment via still waiting for broadband we are\n",
      "broadband plan a massive broken hope via still waiting for broadband we are\n",
      "broadband plan a massive broken give via still waiting for broadband we are\n",
      "broadband plan a massive broken desire via still waiting for broadband we are\n"
     ]
    },
    {
     "data": {
      "text/html": [
       "<text style=color:green>broadband plan a massive <text style=color:blue> <i>[breaking]</i> </text> promise via still waiting for broadband we are: 0.3182</text>"
      ],
      "text/plain": [
       "<IPython.core.display.HTML object>"
      ]
     },
     "metadata": {},
     "output_type": "display_data"
    },
    {
     "data": {
      "text/html": [
       "<text style=color:green>broadband plan a massive <text style=color:blue> <i>[broke]</i> </text> promise via still waiting for broadband we are: 0.3182</text>"
      ],
      "text/plain": [
       "<IPython.core.display.HTML object>"
      ]
     },
     "metadata": {},
     "output_type": "display_data"
    },
    {
     "data": {
      "text/html": [
       "<text style=color:green>broadband plan a massive <text style=color:blue> <i>[apart]</i> </text> promise via still waiting for broadband we are: 0.3182</text>"
      ],
      "text/plain": [
       "<IPython.core.display.HTML object>"
      ]
     },
     "metadata": {},
     "output_type": "display_data"
    },
    {
     "data": {
      "text/html": [
       "<text style=color:green>broadband plan a massive <text style=color:blue> <i>[neck]</i> </text> promise via still waiting for broadband we are: 0.3182</text>"
      ],
      "text/plain": [
       "<IPython.core.display.HTML object>"
      ]
     },
     "metadata": {},
     "output_type": "display_data"
    },
    {
     "data": {
      "text/html": [
       "<text style=color:green>broadband plan a massive <text style=color:blue> <i>[keep]</i> </text> promise via still waiting for broadband we are: 0.3182</text>"
      ],
      "text/plain": [
       "<IPython.core.display.HTML object>"
      ]
     },
     "metadata": {},
     "output_type": "display_data"
    },
    {
     "data": {
      "text/html": [
       "<text style=color:green>broadband plan a massive <text style=color:blue> <i>[conform_to]</i> </text> promise via still waiting for broadband we are: 0.3182</text>"
      ],
      "text/plain": [
       "<IPython.core.display.HTML object>"
      ]
     },
     "metadata": {},
     "output_type": "display_data"
    },
    {
     "data": {
      "text/html": [
       "<text style=color:green>broadband plan a massive <text style=color:blue> <i>[make]</i> </text> promise via still waiting for broadband we are: 0.3182</text>"
      ],
      "text/plain": [
       "<IPython.core.display.HTML object>"
      ]
     },
     "metadata": {},
     "output_type": "display_data"
    },
    {
     "data": {
      "text/html": [
       "<text style=color:green>broadband plan a massive <text style=color:blue> <i>[promote]</i> </text> promise via still waiting for broadband we are: 0.3182</text>"
      ],
      "text/plain": [
       "<IPython.core.display.HTML object>"
      ]
     },
     "metadata": {},
     "output_type": "display_data"
    },
    {
     "data": {
      "text/html": [
       "<text style=color:green>broadband plan a massive <text style=color:blue> <i>[repair]</i> </text> promise via still waiting for broadband we are: 0.3182</text>"
      ],
      "text/plain": [
       "<IPython.core.display.HTML object>"
      ]
     },
     "metadata": {},
     "output_type": "display_data"
    },
    {
     "data": {
      "text/html": [
       "<text style=color:red>broadband plan a massive broken <text style=color:blue> <i>[pledge]</i> </text> via still waiting for broadband we are: -0.4767</text>"
      ],
      "text/plain": [
       "<IPython.core.display.HTML object>"
      ]
     },
     "metadata": {},
     "output_type": "display_data"
    },
    {
     "data": {
      "text/html": [
       "<text style=color:red>broadband plan a massive broken <text style=color:blue> <i>[commitment]</i> </text> via still waiting for broadband we are: -0.4767</text>"
      ],
      "text/plain": [
       "<IPython.core.display.HTML object>"
      ]
     },
     "metadata": {},
     "output_type": "display_data"
    },
    {
     "data": {
      "text/html": [
       "<text style=color:red>broadband plan a massive broken <text style=color:blue> <i>[hope]</i> </text> via still waiting for broadband we are: -0.4767</text>"
      ],
      "text/plain": [
       "<IPython.core.display.HTML object>"
      ]
     },
     "metadata": {},
     "output_type": "display_data"
    },
    {
     "data": {
      "text/html": [
       "<text style=color:red>broadband plan a massive broken <text style=color:blue> <i>[give]</i> </text> via still waiting for broadband we are: -0.4767</text>"
      ],
      "text/plain": [
       "<IPython.core.display.HTML object>"
      ]
     },
     "metadata": {},
     "output_type": "display_data"
    },
    {
     "data": {
      "text/html": [
       "<text style=color:red>broadband plan a massive broken <text style=color:blue> <i>[desire]</i> </text> via still waiting for broadband we are: -0.4767</text>"
      ],
      "text/plain": [
       "<IPython.core.display.HTML object>"
      ]
     },
     "metadata": {},
     "output_type": "display_data"
    },
    {
     "name": "stdout",
     "output_type": "stream",
     "text": [
      "\n",
      "NUM(1)  wow tons of replies from you may have to unfollow so i can see my friends tweets you are scrolling the feed a lot. :0.7845\n",
      "\n",
      "Word wow[JJ] replaced with c'mon[JJ]\n",
      "Word wow[JJ] replaced with hey[JJ]\n",
      "Word wow[JJ] replaced with gosh[JJ]\n",
      "Word wow[JJ] replaced with whew[JJ]\n",
      "c'mon tons of replies from you may have to unfollow so i can see my friends tweets you are scrolling the feed a lot .\n",
      "hey tons of replies from you may have to unfollow so i can see my friends tweets you are scrolling the feed a lot .\n",
      "gosh tons of replies from you may have to unfollow so i can see my friends tweets you are scrolling the feed a lot .\n",
      "whew tons of replies from you may have to unfollow so i can see my friends tweets you are scrolling the feed a lot .\n",
      "For word [friends]: antonyms - ['stranger', 'foe']\n",
      "Word friends[NNS] replaced with parents[NNS]\n",
      "Word friends[NNS] replaced with relatives[NNS]\n",
      "Word friends[NNS] replaced with others[NNS]\n",
      "wow tons of replies from you may have to unfollow so i can see my parents tweets you are scrolling the feed a lot .\n",
      "wow tons of replies from you may have to unfollow so i can see my relatives tweets you are scrolling the feed a lot .\n",
      "wow tons of replies from you may have to unfollow so i can see my others tweets you are scrolling the feed a lot .\n",
      "\n",
      "\n",
      "No tweets found when trying to do Positive=True\n",
      "\n",
      "\n"
     ]
    },
    {
     "data": {
      "text/html": [
       "<text style=color:red><text style=color:blue> <i>[c'mon]</i> </text> tons of replies from you may have to unfollow so i can see my friends tweets you are scrolling the feed a lot .: 0.4767</text>"
      ],
      "text/plain": [
       "<IPython.core.display.HTML object>"
      ]
     },
     "metadata": {},
     "output_type": "display_data"
    },
    {
     "data": {
      "text/html": [
       "<text style=color:red><text style=color:blue> <i>[hey]</i> </text> tons of replies from you may have to unfollow so i can see my friends tweets you are scrolling the feed a lot .: 0.4767</text>"
      ],
      "text/plain": [
       "<IPython.core.display.HTML object>"
      ]
     },
     "metadata": {},
     "output_type": "display_data"
    },
    {
     "data": {
      "text/html": [
       "<text style=color:red><text style=color:blue> <i>[gosh]</i> </text> tons of replies from you may have to unfollow so i can see my friends tweets you are scrolling the feed a lot .: 0.4767</text>"
      ],
      "text/plain": [
       "<IPython.core.display.HTML object>"
      ]
     },
     "metadata": {},
     "output_type": "display_data"
    },
    {
     "data": {
      "text/html": [
       "<text style=color:red><text style=color:blue> <i>[whew]</i> </text> tons of replies from you may have to unfollow so i can see my friends tweets you are scrolling the feed a lot .: 0.4767</text>"
      ],
      "text/plain": [
       "<IPython.core.display.HTML object>"
      ]
     },
     "metadata": {},
     "output_type": "display_data"
    },
    {
     "data": {
      "text/html": [
       "<text style=color:red>wow tons of replies from you may have to unfollow so i can see my <text style=color:blue> <i>[parents]</i> </text> tweets you are scrolling the feed a lot .: 0.5859</text>"
      ],
      "text/plain": [
       "<IPython.core.display.HTML object>"
      ]
     },
     "metadata": {},
     "output_type": "display_data"
    },
    {
     "data": {
      "text/html": [
       "<text style=color:red>wow tons of replies from you may have to unfollow so i can see my <text style=color:blue> <i>[relatives]</i> </text> tweets you are scrolling the feed a lot .: 0.5859</text>"
      ],
      "text/plain": [
       "<IPython.core.display.HTML object>"
      ]
     },
     "metadata": {},
     "output_type": "display_data"
    },
    {
     "data": {
      "text/html": [
       "<text style=color:red>wow tons of replies from you may have to unfollow so i can see my <text style=color:blue> <i>[others]</i> </text> tweets you are scrolling the feed a lot .: 0.5859</text>"
      ],
      "text/plain": [
       "<IPython.core.display.HTML object>"
      ]
     },
     "metadata": {},
     "output_type": "display_data"
    },
    {
     "name": "stdout",
     "output_type": "stream",
     "text": [
      "\n",
      "NUM(3) put vacation photos online a few yrs ago. pc crashed and now i forget the name of the site. :-0.2263\n",
      "\n",
      "For word [forget]: antonyms - ['mind', 'remember']\n",
      "Word forget[VBP] replaced with remember[VBP]\n",
      "Word forget[VBP] replaced with tell[VBP]\n",
      "Word forget[VBP] replaced with imagine[VBP]\n",
      "Word forget[VBP] replaced with know[VBP]\n",
      "Word forget[VBP] replaced with mind[VBP]\n",
      "Word forget[VBP] replaced with remember[VBP]\n",
      "put vacation photos online a few yrs ago . pc crashed and now i remember the name of the site .\n",
      "put vacation photos online a few yrs ago . pc crashed and now i tell the name of the site .\n",
      "put vacation photos online a few yrs ago . pc crashed and now i imagine the name of the site .\n",
      "put vacation photos online a few yrs ago . pc crashed and now i know the name of the site .\n",
      "put vacation photos online a few yrs ago . pc crashed and now i mind the name of the site .\n",
      "put vacation photos online a few yrs ago . pc crashed and now i remember the name of the site .\n"
     ]
    },
    {
     "data": {
      "text/html": [
       "<text style=color:DarkGray>put vacation photos online a few yrs ago . pc crashed and now i <text style=color:blue> <i>[remember]</i> </text> the name of the site .: 0.0</text>"
      ],
      "text/plain": [
       "<IPython.core.display.HTML object>"
      ]
     },
     "metadata": {},
     "output_type": "display_data"
    },
    {
     "data": {
      "text/html": [
       "<text style=color:DarkGray>put vacation photos online a few yrs ago . pc crashed and now i <text style=color:blue> <i>[tell]</i> </text> the name of the site .: 0.0</text>"
      ],
      "text/plain": [
       "<IPython.core.display.HTML object>"
      ]
     },
     "metadata": {},
     "output_type": "display_data"
    },
    {
     "data": {
      "text/html": [
       "<text style=color:DarkGray>put vacation photos online a few yrs ago . pc crashed and now i <text style=color:blue> <i>[imagine]</i> </text> the name of the site .: 0.0</text>"
      ],
      "text/plain": [
       "<IPython.core.display.HTML object>"
      ]
     },
     "metadata": {},
     "output_type": "display_data"
    },
    {
     "data": {
      "text/html": [
       "<text style=color:DarkGray>put vacation photos online a few yrs ago . pc crashed and now i <text style=color:blue> <i>[know]</i> </text> the name of the site .: 0.0</text>"
      ],
      "text/plain": [
       "<IPython.core.display.HTML object>"
      ]
     },
     "metadata": {},
     "output_type": "display_data"
    },
    {
     "data": {
      "text/html": [
       "<text style=color:DarkGray>put vacation photos online a few yrs ago . pc crashed and now i <text style=color:blue> <i>[mind]</i> </text> the name of the site .: 0.0</text>"
      ],
      "text/plain": [
       "<IPython.core.display.HTML object>"
      ]
     },
     "metadata": {},
     "output_type": "display_data"
    },
    {
     "data": {
      "text/html": [
       "<text style=color:DarkGray>put vacation photos online a few yrs ago . pc crashed and now i <text style=color:blue> <i>[remember]</i> </text> the name of the site .: 0.0</text>"
      ],
      "text/plain": [
       "<IPython.core.display.HTML object>"
      ]
     },
     "metadata": {},
     "output_type": "display_data"
    },
    {
     "name": "stdout",
     "output_type": "stream",
     "text": [
      "\n",
      "\n",
      "No tweets found when trying to do Positive=False\n",
      "\n",
      "\n",
      "\n",
      "NUM(4) i need a hug :0.4767\n",
      "\n",
      "Word hug[NN] replaced with hugs[NN]\n",
      "Word hug[NN] replaced with kiss[NN]\n",
      "Word hug[NN] replaced with hugged[NN]\n",
      "Word hug[NN] replaced with goodbye[NN]\n",
      "i need a hugs\n",
      "i need a kiss\n",
      "i need a hugged\n",
      "i need a goodbye\n",
      "\n",
      "\n",
      "No tweets found when trying to do Positive=True\n",
      "\n",
      "\n"
     ]
    },
    {
     "data": {
      "text/html": [
       "<text style=color:DarkGray>i need a <text style=color:blue> <i>[hugs]</i> </text>: 0.0</text>"
      ],
      "text/plain": [
       "<IPython.core.display.HTML object>"
      ]
     },
     "metadata": {},
     "output_type": "display_data"
    },
    {
     "data": {
      "text/html": [
       "<text style=color:DarkGray>i need a <text style=color:blue> <i>[kiss]</i> </text>: 0.0</text>"
      ],
      "text/plain": [
       "<IPython.core.display.HTML object>"
      ]
     },
     "metadata": {},
     "output_type": "display_data"
    },
    {
     "data": {
      "text/html": [
       "<text style=color:DarkGray>i need a <text style=color:blue> <i>[hugged]</i> </text>: 0.0</text>"
      ],
      "text/plain": [
       "<IPython.core.display.HTML object>"
      ]
     },
     "metadata": {},
     "output_type": "display_data"
    },
    {
     "data": {
      "text/html": [
       "<text style=color:DarkGray>i need a <text style=color:blue> <i>[goodbye]</i> </text>: 0.0</text>"
      ],
      "text/plain": [
       "<IPython.core.display.HTML object>"
      ]
     },
     "metadata": {},
     "output_type": "display_data"
    },
    {
     "name": "stdout",
     "output_type": "stream",
     "text": [
      "\n",
      "NUM(5)  not sure what they are only that they are pos! as much as i want to i dont think can trade away company assets sorry andy! :-0.2134\n",
      "\n",
      "For word [sure]: antonyms - ['uncertain', 'unsure']\n",
      "Word sure[JJ] replaced with uncertain[JJ]\n",
      "Word sure[JJ] replaced with unsure[JJ]\n",
      "not uncertain what they are only that they are pos ! as much as i want to i dont think can trade away company assets sorry andy !\n",
      "not unsure what they are only that they are pos ! as much as i want to i dont think can trade away company assets sorry andy !\n",
      "Word want[VBP] replaced with do[VBP]\n",
      "Word want[VBP] replaced with know[VBP]\n",
      "Word want[VBP] replaced with get[VBP]\n",
      "not sure what they are only that they are pos ! as much as i do to i dont think can trade away company assets sorry andy !\n",
      "not sure what they are only that they are pos ! as much as i know to i dont think can trade away company assets sorry andy !\n",
      "not sure what they are only that they are pos ! as much as i get to i dont think can trade away company assets sorry andy !\n",
      "For word [assets]: antonyms - ['liability']\n",
      "Word assets[NNS] replaced with investments[NNS]\n",
      "Word assets[NNS] replaced with funds[NNS]\n",
      "Word assets[NNS] replaced with debts[NNS]\n",
      "not sure what they are only that they are pos ! as much as i want to i dont think can trade away company investments sorry andy !\n",
      "not sure what they are only that they are pos ! as much as i want to i dont think can trade away company funds sorry andy !\n",
      "not sure what they are only that they are pos ! as much as i want to i dont think can trade away company debts sorry andy !\n",
      "For word [sorry]: antonyms - ['unregretful']\n",
      "Word sorry[VBP] replaced with 'm[VBP]\n",
      "Word sorry[VBP] replaced with glad[VBP]\n",
      "Word sorry[VBP] replaced with regret[VBP]\n",
      "not sure what they are only that they are pos ! as much as i want to i dont think can trade away company assets 'm andy !\n",
      "not sure what they are only that they are pos ! as much as i want to i dont think can trade away company assets glad andy !\n",
      "not sure what they are only that they are pos ! as much as i want to i dont think can trade away company assets regret andy !\n"
     ]
    },
    {
     "data": {
      "text/html": [
       "<text style=color:green>not <text style=color:blue> <i>[uncertain]</i> </text> what they are only that they are pos ! as much as i want to i dont think can trade away company assets sorry andy !: 0.3147</text>"
      ],
      "text/plain": [
       "<IPython.core.display.HTML object>"
      ]
     },
     "metadata": {},
     "output_type": "display_data"
    },
    {
     "data": {
      "text/html": [
       "<text style=color:green>not <text style=color:blue> <i>[unsure]</i> </text> what they are only that they are pos ! as much as i want to i dont think can trade away company assets sorry andy !: 0.3147</text>"
      ],
      "text/plain": [
       "<IPython.core.display.HTML object>"
      ]
     },
     "metadata": {},
     "output_type": "display_data"
    },
    {
     "data": {
      "text/html": [
       "<text style=color:green>not sure what they are only that they are pos ! as much as i want to i dont think can trade away company assets <text style=color:blue> <i>['m]</i> </text> andy !: 0.1586</text>"
      ],
      "text/plain": [
       "<IPython.core.display.HTML object>"
      ]
     },
     "metadata": {},
     "output_type": "display_data"
    },
    {
     "data": {
      "text/html": [
       "<text style=color:green>not sure what they are only that they are pos ! as much as i want to i dont think can trade away company assets <text style=color:blue> <i>[glad]</i> </text> andy !: 0.1586</text>"
      ],
      "text/plain": [
       "<IPython.core.display.HTML object>"
      ]
     },
     "metadata": {},
     "output_type": "display_data"
    },
    {
     "data": {
      "text/html": [
       "<text style=color:green>not sure what they are only that they are pos ! as much as i want to i dont think can trade away company assets <text style=color:blue> <i>[regret]</i> </text> andy !: 0.1586</text>"
      ],
      "text/plain": [
       "<IPython.core.display.HTML object>"
      ]
     },
     "metadata": {},
     "output_type": "display_data"
    },
    {
     "data": {
      "text/html": [
       "<text style=color:red>not sure what they are only that they are pos ! as much as i <text style=color:blue> <i>[do]</i> </text> to i dont think can trade away company assets sorry andy !: -0.2837</text>"
      ],
      "text/plain": [
       "<IPython.core.display.HTML object>"
      ]
     },
     "metadata": {},
     "output_type": "display_data"
    },
    {
     "data": {
      "text/html": [
       "<text style=color:red>not sure what they are only that they are pos ! as much as i <text style=color:blue> <i>[know]</i> </text> to i dont think can trade away company assets sorry andy !: -0.2837</text>"
      ],
      "text/plain": [
       "<IPython.core.display.HTML object>"
      ]
     },
     "metadata": {},
     "output_type": "display_data"
    },
    {
     "data": {
      "text/html": [
       "<text style=color:red>not sure what they are only that they are pos ! as much as i <text style=color:blue> <i>[get]</i> </text> to i dont think can trade away company assets sorry andy !: -0.2837</text>"
      ],
      "text/plain": [
       "<IPython.core.display.HTML object>"
      ]
     },
     "metadata": {},
     "output_type": "display_data"
    },
    {
     "data": {
      "text/html": [
       "<text style=color:red>not sure what they are only that they are pos ! as much as i want to i dont think can trade away company <text style=color:blue> <i>[investments]</i> </text> sorry andy !: -0.3707</text>"
      ],
      "text/plain": [
       "<IPython.core.display.HTML object>"
      ]
     },
     "metadata": {},
     "output_type": "display_data"
    },
    {
     "data": {
      "text/html": [
       "<text style=color:red>not sure what they are only that they are pos ! as much as i want to i dont think can trade away company <text style=color:blue> <i>[funds]</i> </text> sorry andy !: -0.3707</text>"
      ],
      "text/plain": [
       "<IPython.core.display.HTML object>"
      ]
     },
     "metadata": {},
     "output_type": "display_data"
    },
    {
     "data": {
      "text/html": [
       "<text style=color:red>not sure what they are only that they are pos ! as much as i want to i dont think can trade away company <text style=color:blue> <i>[debts]</i> </text> sorry andy !: -0.3707</text>"
      ],
      "text/plain": [
       "<IPython.core.display.HTML object>"
      ]
     },
     "metadata": {},
     "output_type": "display_data"
    },
    {
     "name": "stdout",
     "output_type": "stream",
     "text": [
      "\n",
      "NUM(6)  i hate when that happens... :-0.5719\n",
      "\n",
      "For word [hate]: antonyms - ['love']\n",
      "Word hate[NN] replaced with anyone[NN]\n",
      "Word hate[NN] replaced with crime[NN]\n",
      "i anyone when that happens ...\n",
      "i crime when that happens ...\n"
     ]
    },
    {
     "data": {
      "text/html": [
       "<text style=color:DarkGray>i <text style=color:blue> <i>[anyone]</i> </text> when that happens ...: 0.0</text>"
      ],
      "text/plain": [
       "<IPython.core.display.HTML object>"
      ]
     },
     "metadata": {},
     "output_type": "display_data"
    },
    {
     "data": {
      "text/html": [
       "<text style=color:DarkGray>i <text style=color:blue> <i>[crime]</i> </text> when that happens ...: 0.0</text>"
      ],
      "text/plain": [
       "<IPython.core.display.HTML object>"
      ]
     },
     "metadata": {},
     "output_type": "display_data"
    },
    {
     "name": "stdout",
     "output_type": "stream",
     "text": [
      "\n",
      "\n",
      "No tweets found when trying to do Positive=False\n",
      "\n",
      "\n",
      "\n",
      "NUM(7) i have a sad feeling that dallas is not going to show up  i gotta say though you would think more shows would use music from the game. mmm:-0.3818\n",
      "\n",
      "For word [sad]: antonyms - ['glad']\n",
      "Word sad[JJ] replaced with awful[JJ]\n",
      "Word sad[JJ] replaced with tragic[JJ]\n",
      "Word sad[JJ] replaced with horrible[JJ]\n",
      "Word sad[JJ] replaced with happy[JJ]\n",
      "Word sad[JJ] replaced with poignant[JJ]\n",
      "Word sad[JJ] replaced with glad[JJ]\n",
      "i have a awful feeling that dallas is not going to show up i got ta say though you would think more shows would use music from the game . mmm\n",
      "i have a tragic feeling that dallas is not going to show up i got ta say though you would think more shows would use music from the game . mmm\n",
      "i have a horrible feeling that dallas is not going to show up i got ta say though you would think more shows would use music from the game . mmm\n",
      "i have a happy feeling that dallas is not going to show up i got ta say though you would think more shows would use music from the game . mmm\n",
      "i have a poignant feeling that dallas is not going to show up i got ta say though you would think more shows would use music from the game . mmm\n",
      "i have a glad feeling that dallas is not going to show up i got ta say though you would think more shows would use music from the game . mmm\n",
      "Word feeling[NN] replaced with feel[NN]\n",
      "Word feeling[NN] replaced with felt[NN]\n",
      "Word feeling[NN] replaced with sense[NN]\n",
      "i have a sad feel that dallas is not going to show up i got ta say though you would think more shows would use music from the game . mmm\n",
      "i have a sad felt that dallas is not going to show up i got ta say though you would think more shows would use music from the game . mmm\n",
      "i have a sad sense that dallas is not going to show up i got ta say though you would think more shows would use music from the game . mmm\n"
     ]
    },
    {
     "data": {
      "text/html": [
       "<text style=color:green>i have a <text style=color:blue> <i>[awful]</i> </text> feeling that dallas is not going to show up i got ta say though you would think more shows would use music from the game . mmm: 0.128</text>"
      ],
      "text/plain": [
       "<IPython.core.display.HTML object>"
      ]
     },
     "metadata": {},
     "output_type": "display_data"
    },
    {
     "data": {
      "text/html": [
       "<text style=color:green>i have a <text style=color:blue> <i>[tragic]</i> </text> feeling that dallas is not going to show up i got ta say though you would think more shows would use music from the game . mmm: 0.128</text>"
      ],
      "text/plain": [
       "<IPython.core.display.HTML object>"
      ]
     },
     "metadata": {},
     "output_type": "display_data"
    },
    {
     "data": {
      "text/html": [
       "<text style=color:green>i have a <text style=color:blue> <i>[horrible]</i> </text> feeling that dallas is not going to show up i got ta say though you would think more shows would use music from the game . mmm: 0.128</text>"
      ],
      "text/plain": [
       "<IPython.core.display.HTML object>"
      ]
     },
     "metadata": {},
     "output_type": "display_data"
    },
    {
     "data": {
      "text/html": [
       "<text style=color:green>i have a <text style=color:blue> <i>[happy]</i> </text> feeling that dallas is not going to show up i got ta say though you would think more shows would use music from the game . mmm: 0.128</text>"
      ],
      "text/plain": [
       "<IPython.core.display.HTML object>"
      ]
     },
     "metadata": {},
     "output_type": "display_data"
    },
    {
     "data": {
      "text/html": [
       "<text style=color:green>i have a <text style=color:blue> <i>[poignant]</i> </text> feeling that dallas is not going to show up i got ta say though you would think more shows would use music from the game . mmm: 0.128</text>"
      ],
      "text/plain": [
       "<IPython.core.display.HTML object>"
      ]
     },
     "metadata": {},
     "output_type": "display_data"
    },
    {
     "data": {
      "text/html": [
       "<text style=color:green>i have a <text style=color:blue> <i>[glad]</i> </text> feeling that dallas is not going to show up i got ta say though you would think more shows would use music from the game . mmm: 0.128</text>"
      ],
      "text/plain": [
       "<IPython.core.display.HTML object>"
      ]
     },
     "metadata": {},
     "output_type": "display_data"
    },
    {
     "data": {
      "text/html": [
       "<text style=color:red>i have a sad <text style=color:blue> <i>[feel]</i> </text> that dallas is not going to show up i got ta say though you would think more shows would use music from the game . mmm: -0.4767</text>"
      ],
      "text/plain": [
       "<IPython.core.display.HTML object>"
      ]
     },
     "metadata": {},
     "output_type": "display_data"
    },
    {
     "data": {
      "text/html": [
       "<text style=color:red>i have a sad <text style=color:blue> <i>[felt]</i> </text> that dallas is not going to show up i got ta say though you would think more shows would use music from the game . mmm: -0.4767</text>"
      ],
      "text/plain": [
       "<IPython.core.display.HTML object>"
      ]
     },
     "metadata": {},
     "output_type": "display_data"
    },
    {
     "data": {
      "text/html": [
       "<text style=color:red>i have a sad <text style=color:blue> <i>[sense]</i> </text> that dallas is not going to show up i got ta say though you would think more shows would use music from the game . mmm: -0.4767</text>"
      ],
      "text/plain": [
       "<IPython.core.display.HTML object>"
      ]
     },
     "metadata": {},
     "output_type": "display_data"
    },
    {
     "name": "stdout",
     "output_type": "stream",
     "text": [
      "\n",
      "NUM(9) where did u move to  i thought u were already in sd.  hmmm. random u found me. glad to hear yer doing well.:0.6249\n",
      "\n",
      "For word [glad]: antonyms - ['sad']\n",
      "Word glad[NN] replaced with i[NN]\n",
      "where did u move to i thought u were already in sd . hmmm . random u found me . i to hear yer doing well .\n",
      "For word [well]: antonyms - ['ill', 'badly', 'disadvantageously']\n",
      "Word well[RB] replaced with so[RB]\n",
      "Word well[RB] replaced with even[RB]\n",
      "Word well[RB] replaced with badly[RB]\n",
      "Word well[RB] replaced with disadvantageously[RB]\n",
      "where did u move to i thought u were already in sd . hmmm . random u found me . glad to hear yer doing so .\n",
      "where did u move to i thought u were already in sd . hmmm . random u found me . glad to hear yer doing even .\n",
      "where did u move to i thought u were already in sd . hmmm . random u found me . glad to hear yer doing badly .\n",
      "where did u move to i thought u were already in sd . hmmm . random u found me . glad to hear yer doing disadvantageously .\n",
      "\n",
      "\n",
      "No tweets found when trying to do Positive=True\n",
      "\n",
      "\n"
     ]
    },
    {
     "data": {
      "text/html": [
       "<text style=color:red>where did u move to i thought u were already in sd . hmmm . random u found me . <text style=color:blue> <i>[i]</i> </text> to hear yer doing well .: 0.2732</text>"
      ],
      "text/plain": [
       "<IPython.core.display.HTML object>"
      ]
     },
     "metadata": {},
     "output_type": "display_data"
    },
    {
     "data": {
      "text/html": [
       "<text style=color:red>where did u move to i thought u were already in sd . hmmm . random u found me . glad to hear yer doing <text style=color:blue> <i>[so]</i> </text> .: 0.4588</text>"
      ],
      "text/plain": [
       "<IPython.core.display.HTML object>"
      ]
     },
     "metadata": {},
     "output_type": "display_data"
    },
    {
     "data": {
      "text/html": [
       "<text style=color:red>where did u move to i thought u were already in sd . hmmm . random u found me . glad to hear yer doing <text style=color:blue> <i>[even]</i> </text> .: 0.4588</text>"
      ],
      "text/plain": [
       "<IPython.core.display.HTML object>"
      ]
     },
     "metadata": {},
     "output_type": "display_data"
    },
    {
     "data": {
      "text/html": [
       "<text style=color:red>where did u move to i thought u were already in sd . hmmm . random u found me . glad to hear yer doing <text style=color:blue> <i>[badly]</i> </text> .: 0.4588</text>"
      ],
      "text/plain": [
       "<IPython.core.display.HTML object>"
      ]
     },
     "metadata": {},
     "output_type": "display_data"
    },
    {
     "data": {
      "text/html": [
       "<text style=color:red>where did u move to i thought u were already in sd . hmmm . random u found me . glad to hear yer doing <text style=color:blue> <i>[disadvantageously]</i> </text> .: 0.4588</text>"
      ],
      "text/plain": [
       "<IPython.core.display.HTML object>"
      ]
     },
     "metadata": {},
     "output_type": "display_data"
    },
    {
     "name": "stdout",
     "output_type": "stream",
     "text": [
      "\n",
      "NUM(10)  i miss my ps3 it is out of commission  wutcha playing have you copped blood on the sand:0.0516\n",
      "\n",
      "For word [miss]: antonyms - ['attend', 'hit', 'attend_to', 'have']\n",
      "Word miss[VBP] replaced with play[VBP]\n",
      "Word miss[VBP] replaced with attend[VBP]\n",
      "Word miss[VBP] replaced with attend_to[VBP]\n",
      "Word miss[VBP] replaced with have[VBP]\n",
      "i play my ps3 it is out of commission wutcha playing have you copped blood on the sand\n",
      "i attend my ps3 it is out of commission wutcha playing have you copped blood on the sand\n",
      "i attend_to my ps3 it is out of commission wutcha playing have you copped blood on the sand\n",
      "i have my ps3 it is out of commission wutcha playing have you copped blood on the sand\n",
      "Word playing[VBG] replaced with having[VBG]\n",
      "i miss my ps3 it is out of commission wutcha having have you copped blood on the sand\n"
     ]
    },
    {
     "data": {
      "text/html": [
       "<text style=color:green>i <text style=color:blue> <i>[play]</i> </text> my ps3 it is out of commission wutcha playing have you copped blood on the sand: 0.2023</text>"
      ],
      "text/plain": [
       "<IPython.core.display.HTML object>"
      ]
     },
     "metadata": {},
     "output_type": "display_data"
    },
    {
     "data": {
      "text/html": [
       "<text style=color:green>i <text style=color:blue> <i>[attend]</i> </text> my ps3 it is out of commission wutcha playing have you copped blood on the sand: 0.2023</text>"
      ],
      "text/plain": [
       "<IPython.core.display.HTML object>"
      ]
     },
     "metadata": {},
     "output_type": "display_data"
    },
    {
     "data": {
      "text/html": [
       "<text style=color:green>i <text style=color:blue> <i>[attend_to]</i> </text> my ps3 it is out of commission wutcha playing have you copped blood on the sand: 0.2023</text>"
      ],
      "text/plain": [
       "<IPython.core.display.HTML object>"
      ]
     },
     "metadata": {},
     "output_type": "display_data"
    },
    {
     "data": {
      "text/html": [
       "<text style=color:green>i <text style=color:blue> <i>[have]</i> </text> my ps3 it is out of commission wutcha playing have you copped blood on the sand: 0.2023</text>"
      ],
      "text/plain": [
       "<IPython.core.display.HTML object>"
      ]
     },
     "metadata": {},
     "output_type": "display_data"
    },
    {
     "data": {
      "text/html": [
       "<text style=color:red>i miss my ps3 it is out of commission wutcha <text style=color:blue> <i>[having]</i> </text> have you copped blood on the sand: -0.1531</text>"
      ],
      "text/plain": [
       "<IPython.core.display.HTML object>"
      ]
     },
     "metadata": {},
     "output_type": "display_data"
    },
    {
     "name": "stdout",
     "output_type": "stream",
     "text": [
      "\n",
      "NUM(12) the life is cool. but not for me. :0.1655\n",
      "\n",
      "For word [cool]: antonyms - ['warm', 'heat']\n",
      "Word cool[JJ] replaced with hot[JJ]\n",
      "Word cool[JJ] replaced with warm[JJ]\n",
      "Word cool[JJ] replaced with dry[JJ]\n",
      "Word cool[JJ] replaced with cold[JJ]\n",
      "Word cool[JJ] replaced with chill[JJ]\n",
      "Word cool[JJ] replaced with cooler[JJ]\n",
      "Word cool[JJ] replaced with heat[JJ]\n",
      "Word cool[JJ] replaced with warm[JJ]\n",
      "Word cool[JJ] replaced with heat[JJ]\n",
      "the life is hot . but not for me .\n",
      "the life is warm . but not for me .\n",
      "the life is dry . but not for me .\n",
      "the life is cold . but not for me .\n",
      "the life is chill . but not for me .\n",
      "the life is cooler . but not for me .\n",
      "the life is heat . but not for me .\n",
      "the life is warm . but not for me .\n",
      "the life is heat . but not for me .\n",
      "\n",
      "\n",
      "No tweets found when trying to do Positive=True\n",
      "\n",
      "\n"
     ]
    },
    {
     "data": {
      "text/html": [
       "<text style=color:DarkGray>the life is <text style=color:blue> <i>[hot]</i> </text> . but not for me .: 0.0</text>"
      ],
      "text/plain": [
       "<IPython.core.display.HTML object>"
      ]
     },
     "metadata": {},
     "output_type": "display_data"
    },
    {
     "data": {
      "text/html": [
       "<text style=color:DarkGray>the life is <text style=color:blue> <i>[warm]</i> </text> . but not for me .: 0.0</text>"
      ],
      "text/plain": [
       "<IPython.core.display.HTML object>"
      ]
     },
     "metadata": {},
     "output_type": "display_data"
    },
    {
     "data": {
      "text/html": [
       "<text style=color:DarkGray>the life is <text style=color:blue> <i>[dry]</i> </text> . but not for me .: 0.0</text>"
      ],
      "text/plain": [
       "<IPython.core.display.HTML object>"
      ]
     },
     "metadata": {},
     "output_type": "display_data"
    },
    {
     "data": {
      "text/html": [
       "<text style=color:DarkGray>the life is <text style=color:blue> <i>[cold]</i> </text> . but not for me .: 0.0</text>"
      ],
      "text/plain": [
       "<IPython.core.display.HTML object>"
      ]
     },
     "metadata": {},
     "output_type": "display_data"
    },
    {
     "data": {
      "text/html": [
       "<text style=color:DarkGray>the life is <text style=color:blue> <i>[chill]</i> </text> . but not for me .: 0.0</text>"
      ],
      "text/plain": [
       "<IPython.core.display.HTML object>"
      ]
     },
     "metadata": {},
     "output_type": "display_data"
    },
    {
     "data": {
      "text/html": [
       "<text style=color:DarkGray>the life is <text style=color:blue> <i>[cooler]</i> </text> . but not for me .: 0.0</text>"
      ],
      "text/plain": [
       "<IPython.core.display.HTML object>"
      ]
     },
     "metadata": {},
     "output_type": "display_data"
    },
    {
     "data": {
      "text/html": [
       "<text style=color:DarkGray>the life is <text style=color:blue> <i>[heat]</i> </text> . but not for me .: 0.0</text>"
      ],
      "text/plain": [
       "<IPython.core.display.HTML object>"
      ]
     },
     "metadata": {},
     "output_type": "display_data"
    },
    {
     "data": {
      "text/html": [
       "<text style=color:DarkGray>the life is <text style=color:blue> <i>[warm]</i> </text> . but not for me .: 0.0</text>"
      ],
      "text/plain": [
       "<IPython.core.display.HTML object>"
      ]
     },
     "metadata": {},
     "output_type": "display_data"
    },
    {
     "data": {
      "text/html": [
       "<text style=color:DarkGray>the life is <text style=color:blue> <i>[heat]</i> </text> . but not for me .: 0.0</text>"
      ],
      "text/plain": [
       "<IPython.core.display.HTML object>"
      ]
     },
     "metadata": {},
     "output_type": "display_data"
    },
    {
     "name": "stdout",
     "output_type": "stream",
     "text": [
      "\n",
      "NUM(13) sadly though i have never gotten to experience the post coitus cigarette before and now i never will. :-0.4215\n",
      "\n",
      "For word [sadly]: antonyms - ['happily']\n",
      "Word sadly[RB] replaced with thankfully[RB]\n",
      "Word sadly[RB] replaced with terribly[RB]\n",
      "Word sadly[RB] replaced with frankly[RB]\n",
      "Word sadly[RB] replaced with curiously[RB]\n",
      "Word sadly[RB] replaced with painfully[RB]\n",
      "Word sadly[RB] replaced with strangely[RB]\n",
      "Word sadly[RB] replaced with happily[RB]\n",
      "thankfully though i have never gotten to experience the post coitus cigarette before and now i never will .\n",
      "terribly though i have never gotten to experience the post coitus cigarette before and now i never will .\n",
      "frankly though i have never gotten to experience the post coitus cigarette before and now i never will .\n",
      "curiously though i have never gotten to experience the post coitus cigarette before and now i never will .\n",
      "painfully though i have never gotten to experience the post coitus cigarette before and now i never will .\n",
      "strangely though i have never gotten to experience the post coitus cigarette before and now i never will .\n",
      "happily though i have never gotten to experience the post coitus cigarette before and now i never will .\n"
     ]
    },
    {
     "data": {
      "text/html": [
       "<text style=color:DarkGray><text style=color:blue> <i>[thankfully]</i> </text> though i have never gotten to experience the post coitus cigarette before and now i never will .: 0.0</text>"
      ],
      "text/plain": [
       "<IPython.core.display.HTML object>"
      ]
     },
     "metadata": {},
     "output_type": "display_data"
    },
    {
     "data": {
      "text/html": [
       "<text style=color:DarkGray><text style=color:blue> <i>[terribly]</i> </text> though i have never gotten to experience the post coitus cigarette before and now i never will .: 0.0</text>"
      ],
      "text/plain": [
       "<IPython.core.display.HTML object>"
      ]
     },
     "metadata": {},
     "output_type": "display_data"
    },
    {
     "data": {
      "text/html": [
       "<text style=color:DarkGray><text style=color:blue> <i>[frankly]</i> </text> though i have never gotten to experience the post coitus cigarette before and now i never will .: 0.0</text>"
      ],
      "text/plain": [
       "<IPython.core.display.HTML object>"
      ]
     },
     "metadata": {},
     "output_type": "display_data"
    },
    {
     "data": {
      "text/html": [
       "<text style=color:DarkGray><text style=color:blue> <i>[curiously]</i> </text> though i have never gotten to experience the post coitus cigarette before and now i never will .: 0.0</text>"
      ],
      "text/plain": [
       "<IPython.core.display.HTML object>"
      ]
     },
     "metadata": {},
     "output_type": "display_data"
    },
    {
     "data": {
      "text/html": [
       "<text style=color:DarkGray><text style=color:blue> <i>[painfully]</i> </text> though i have never gotten to experience the post coitus cigarette before and now i never will .: 0.0</text>"
      ],
      "text/plain": [
       "<IPython.core.display.HTML object>"
      ]
     },
     "metadata": {},
     "output_type": "display_data"
    },
    {
     "data": {
      "text/html": [
       "<text style=color:DarkGray><text style=color:blue> <i>[strangely]</i> </text> though i have never gotten to experience the post coitus cigarette before and now i never will .: 0.0</text>"
      ],
      "text/plain": [
       "<IPython.core.display.HTML object>"
      ]
     },
     "metadata": {},
     "output_type": "display_data"
    },
    {
     "data": {
      "text/html": [
       "<text style=color:DarkGray><text style=color:blue> <i>[happily]</i> </text> though i have never gotten to experience the post coitus cigarette before and now i never will .: 0.0</text>"
      ],
      "text/plain": [
       "<IPython.core.display.HTML object>"
      ]
     },
     "metadata": {},
     "output_type": "display_data"
    },
    {
     "name": "stdout",
     "output_type": "stream",
     "text": [
      "\n",
      "\n",
      "No tweets found when trying to do Positive=False\n",
      "\n",
      "\n",
      "\n",
      "NUM(14) i had such a nice day. too bad the rain comes in tomorrow at 5am :-0.1779\n",
      "\n",
      "For word [nice]: antonyms - ['nasty']\n",
      "Word nice[JJ] replaced with good[JJ]\n",
      "Word nice[JJ] replaced with happy[JJ]\n",
      "Word nice[JJ] replaced with perfect[JJ]\n",
      "Word nice[JJ] replaced with pretty[JJ]\n",
      "Word nice[JJ] replaced with wonderful[JJ]\n",
      "Word nice[JJ] replaced with lovely[JJ]\n",
      "Word nice[JJ] replaced with guy[JJ]\n",
      "Word nice[JJ] replaced with nasty[JJ]\n",
      "i had such a good day . too bad the rain comes in tomorrow at 5am\n",
      "i had such a happy day . too bad the rain comes in tomorrow at 5am\n",
      "i had such a perfect day . too bad the rain comes in tomorrow at 5am\n",
      "i had such a pretty day . too bad the rain comes in tomorrow at 5am\n",
      "i had such a wonderful day . too bad the rain comes in tomorrow at 5am\n",
      "i had such a lovely day . too bad the rain comes in tomorrow at 5am\n",
      "i had such a guy day . too bad the rain comes in tomorrow at 5am\n",
      "i had such a nasty day . too bad the rain comes in tomorrow at 5am\n",
      "For word [bad]: antonyms - ['good', 'unregretful', 'goodness']\n",
      "Word bad[JJ] replaced with good[JJ]\n",
      "Word bad[JJ] replaced with good[JJ]\n",
      "Word bad[JJ] replaced with unregretful[JJ]\n",
      "Word bad[JJ] replaced with goodness[JJ]\n",
      "i had such a nice day . too good the rain comes in tomorrow at 5am\n",
      "i had such a nice day . too good the rain comes in tomorrow at 5am\n",
      "i had such a nice day . too unregretful the rain comes in tomorrow at 5am\n",
      "i had such a nice day . too goodness the rain comes in tomorrow at 5am\n"
     ]
    },
    {
     "data": {
      "text/html": [
       "<text style=color:green>i had such a nice day . too <text style=color:blue> <i>[good]</i> </text> the rain comes in tomorrow at 5am: 0.4215</text>"
      ],
      "text/plain": [
       "<IPython.core.display.HTML object>"
      ]
     },
     "metadata": {},
     "output_type": "display_data"
    },
    {
     "data": {
      "text/html": [
       "<text style=color:green>i had such a nice day . too <text style=color:blue> <i>[good]</i> </text> the rain comes in tomorrow at 5am: 0.4215</text>"
      ],
      "text/plain": [
       "<IPython.core.display.HTML object>"
      ]
     },
     "metadata": {},
     "output_type": "display_data"
    },
    {
     "data": {
      "text/html": [
       "<text style=color:green>i had such a nice day . too <text style=color:blue> <i>[unregretful]</i> </text> the rain comes in tomorrow at 5am: 0.4215</text>"
      ],
      "text/plain": [
       "<IPython.core.display.HTML object>"
      ]
     },
     "metadata": {},
     "output_type": "display_data"
    },
    {
     "data": {
      "text/html": [
       "<text style=color:green>i had such a nice day . too <text style=color:blue> <i>[goodness]</i> </text> the rain comes in tomorrow at 5am: 0.4215</text>"
      ],
      "text/plain": [
       "<IPython.core.display.HTML object>"
      ]
     },
     "metadata": {},
     "output_type": "display_data"
    },
    {
     "data": {
      "text/html": [
       "<text style=color:red>i had such a <text style=color:blue> <i>[good]</i> </text> day . too bad the rain comes in tomorrow at 5am: -0.5423</text>"
      ],
      "text/plain": [
       "<IPython.core.display.HTML object>"
      ]
     },
     "metadata": {},
     "output_type": "display_data"
    },
    {
     "data": {
      "text/html": [
       "<text style=color:red>i had such a <text style=color:blue> <i>[happy]</i> </text> day . too bad the rain comes in tomorrow at 5am: -0.5423</text>"
      ],
      "text/plain": [
       "<IPython.core.display.HTML object>"
      ]
     },
     "metadata": {},
     "output_type": "display_data"
    },
    {
     "data": {
      "text/html": [
       "<text style=color:red>i had such a <text style=color:blue> <i>[perfect]</i> </text> day . too bad the rain comes in tomorrow at 5am: -0.5423</text>"
      ],
      "text/plain": [
       "<IPython.core.display.HTML object>"
      ]
     },
     "metadata": {},
     "output_type": "display_data"
    },
    {
     "data": {
      "text/html": [
       "<text style=color:red>i had such a <text style=color:blue> <i>[pretty]</i> </text> day . too bad the rain comes in tomorrow at 5am: -0.5423</text>"
      ],
      "text/plain": [
       "<IPython.core.display.HTML object>"
      ]
     },
     "metadata": {},
     "output_type": "display_data"
    },
    {
     "data": {
      "text/html": [
       "<text style=color:red>i had such a <text style=color:blue> <i>[wonderful]</i> </text> day . too bad the rain comes in tomorrow at 5am: -0.5423</text>"
      ],
      "text/plain": [
       "<IPython.core.display.HTML object>"
      ]
     },
     "metadata": {},
     "output_type": "display_data"
    },
    {
     "data": {
      "text/html": [
       "<text style=color:red>i had such a <text style=color:blue> <i>[lovely]</i> </text> day . too bad the rain comes in tomorrow at 5am: -0.5423</text>"
      ],
      "text/plain": [
       "<IPython.core.display.HTML object>"
      ]
     },
     "metadata": {},
     "output_type": "display_data"
    },
    {
     "data": {
      "text/html": [
       "<text style=color:red>i had such a <text style=color:blue> <i>[guy]</i> </text> day . too bad the rain comes in tomorrow at 5am: -0.5423</text>"
      ],
      "text/plain": [
       "<IPython.core.display.HTML object>"
      ]
     },
     "metadata": {},
     "output_type": "display_data"
    },
    {
     "data": {
      "text/html": [
       "<text style=color:red>i had such a <text style=color:blue> <i>[nasty]</i> </text> day . too bad the rain comes in tomorrow at 5am: -0.5423</text>"
      ],
      "text/plain": [
       "<IPython.core.display.HTML object>"
      ]
     },
     "metadata": {},
     "output_type": "display_data"
    },
    {
     "name": "stdout",
     "output_type": "stream",
     "text": [
      "\n",
      "NUM(15)  too bad i will not be around i lost my job and can not even pay my phone bill lmao aw shucks :0.3935\n",
      "\n",
      "For word [bad]: antonyms - ['good', 'unregretful', 'goodness']\n",
      "Word bad[JJ] replaced with good[JJ]\n",
      "Word bad[JJ] replaced with good[JJ]\n",
      "Word bad[JJ] replaced with unregretful[JJ]\n",
      "Word bad[JJ] replaced with goodness[JJ]\n",
      "too good i will not be around i lost my job and can not even pay my phone bill lmao aw shucks\n",
      "too good i will not be around i lost my job and can not even pay my phone bill lmao aw shucks\n",
      "too unregretful i will not be around i lost my job and can not even pay my phone bill lmao aw shucks\n",
      "too goodness i will not be around i lost my job and can not even pay my phone bill lmao aw shucks\n",
      "For word [lost]: antonyms - ['found', 'profit', 'keep', 'find', 'gain', 'win', 'won', 'saved']\n",
      "Word lost[VBD] replaced with won[VBD]\n",
      "Word lost[VBD] replaced with found[VBD]\n",
      "Word lost[VBD] replaced with won[VBD]\n",
      "Word lost[VBD] replaced with saved[VBD]\n",
      "too bad i will not be around i won my job and can not even pay my phone bill lmao aw shucks\n",
      "too bad i will not be around i found my job and can not even pay my phone bill lmao aw shucks\n",
      "too bad i will not be around i won my job and can not even pay my phone bill lmao aw shucks\n",
      "too bad i will not be around i saved my job and can not even pay my phone bill lmao aw shucks\n",
      "For word [pay]: antonyms - ['default']\n",
      "Word pay[VB] replaced with cost[VB]\n",
      "Word pay[VB] replaced with receive[VB]\n",
      "Word pay[VB] replaced with default[VB]\n",
      "too bad i will not be around i lost my job and can not even cost my phone bill lmao aw shucks\n",
      "too bad i will not be around i lost my job and can not even receive my phone bill lmao aw shucks\n",
      "too bad i will not be around i lost my job and can not even default my phone bill lmao aw shucks\n",
      "--- No alternative words! ---\n",
      "--- No pos approved words! ---\n"
     ]
    },
    {
     "data": {
      "text/html": [
       "<text style=color:green>too <text style=color:blue> <i>[good]</i> </text> i will not be around i lost my job and can not even pay my phone bill lmao aw shucks: 0.7317</text>"
      ],
      "text/plain": [
       "<IPython.core.display.HTML object>"
      ]
     },
     "metadata": {},
     "output_type": "display_data"
    },
    {
     "data": {
      "text/html": [
       "<text style=color:green>too <text style=color:blue> <i>[good]</i> </text> i will not be around i lost my job and can not even pay my phone bill lmao aw shucks: 0.7317</text>"
      ],
      "text/plain": [
       "<IPython.core.display.HTML object>"
      ]
     },
     "metadata": {},
     "output_type": "display_data"
    },
    {
     "data": {
      "text/html": [
       "<text style=color:green>too <text style=color:blue> <i>[unregretful]</i> </text> i will not be around i lost my job and can not even pay my phone bill lmao aw shucks: 0.7317</text>"
      ],
      "text/plain": [
       "<IPython.core.display.HTML object>"
      ]
     },
     "metadata": {},
     "output_type": "display_data"
    },
    {
     "data": {
      "text/html": [
       "<text style=color:green>too <text style=color:blue> <i>[goodness]</i> </text> i will not be around i lost my job and can not even pay my phone bill lmao aw shucks: 0.7317</text>"
      ],
      "text/plain": [
       "<IPython.core.display.HTML object>"
      ]
     },
     "metadata": {},
     "output_type": "display_data"
    },
    {
     "data": {
      "text/html": [
       "<text style=color:red>too bad i will not be around i <text style=color:blue> <i>[won]</i> </text> my job and can not even pay my phone bill lmao aw shucks: 0.1769</text>"
      ],
      "text/plain": [
       "<IPython.core.display.HTML object>"
      ]
     },
     "metadata": {},
     "output_type": "display_data"
    },
    {
     "data": {
      "text/html": [
       "<text style=color:red>too bad i will not be around i <text style=color:blue> <i>[found]</i> </text> my job and can not even pay my phone bill lmao aw shucks: 0.1769</text>"
      ],
      "text/plain": [
       "<IPython.core.display.HTML object>"
      ]
     },
     "metadata": {},
     "output_type": "display_data"
    },
    {
     "data": {
      "text/html": [
       "<text style=color:red>too bad i will not be around i <text style=color:blue> <i>[won]</i> </text> my job and can not even pay my phone bill lmao aw shucks: 0.1769</text>"
      ],
      "text/plain": [
       "<IPython.core.display.HTML object>"
      ]
     },
     "metadata": {},
     "output_type": "display_data"
    },
    {
     "data": {
      "text/html": [
       "<text style=color:red>too bad i will not be around i <text style=color:blue> <i>[saved]</i> </text> my job and can not even pay my phone bill lmao aw shucks: 0.1769</text>"
      ],
      "text/plain": [
       "<IPython.core.display.HTML object>"
      ]
     },
     "metadata": {},
     "output_type": "display_data"
    },
    {
     "data": {
      "text/html": [
       "<text style=color:red>too bad i will not be around i lost my job and can not even <text style=color:blue> <i>[cost]</i> </text> my phone bill lmao aw shucks: 0.3318</text>"
      ],
      "text/plain": [
       "<IPython.core.display.HTML object>"
      ]
     },
     "metadata": {},
     "output_type": "display_data"
    },
    {
     "data": {
      "text/html": [
       "<text style=color:red>too bad i will not be around i lost my job and can not even <text style=color:blue> <i>[receive]</i> </text> my phone bill lmao aw shucks: 0.3318</text>"
      ],
      "text/plain": [
       "<IPython.core.display.HTML object>"
      ]
     },
     "metadata": {},
     "output_type": "display_data"
    },
    {
     "data": {
      "text/html": [
       "<text style=color:red>too bad i will not be around i lost my job and can not even <text style=color:blue> <i>[default]</i> </text> my phone bill lmao aw shucks: 0.3318</text>"
      ],
      "text/plain": [
       "<IPython.core.display.HTML object>"
      ]
     },
     "metadata": {},
     "output_type": "display_data"
    },
    {
     "name": "stdout",
     "output_type": "stream",
     "text": [
      "\n",
      "NUM(17) mo jobs no money.  how in the hell is min wage here 4 fn clams an hour:-0.7783\n",
      "\n",
      "For word [no]: antonyms - ['all', 'yes']\n",
      "Word no[DT] replaced with any[DT]\n",
      "Word no[DT] replaced with all[DT]\n",
      "mo jobs any money . how in the hell is min wage here 4 fn clams an hour\n",
      "mo jobs all money . how in the hell is min wage here 4 fn clams an hour\n",
      "For word [hell]: antonyms - ['Heaven']\n",
      "Word hell[NN] replaced with heaven[NN]\n",
      "Word hell[NN] replaced with crazy[NN]\n",
      "mo jobs no money . how in the heaven is min wage here 4 fn clams an hour\n",
      "mo jobs no money . how in the crazy is min wage here 4 fn clams an hour\n"
     ]
    },
    {
     "data": {
      "text/html": [
       "<text style=color:green>mo jobs <text style=color:blue> <i>[any]</i> </text> money . how in the hell is min wage here 4 fn clams an hour: -0.6808</text>"
      ],
      "text/plain": [
       "<IPython.core.display.HTML object>"
      ]
     },
     "metadata": {},
     "output_type": "display_data"
    },
    {
     "data": {
      "text/html": [
       "<text style=color:green>mo jobs <text style=color:blue> <i>[all]</i> </text> money . how in the hell is min wage here 4 fn clams an hour: -0.6808</text>"
      ],
      "text/plain": [
       "<IPython.core.display.HTML object>"
      ]
     },
     "metadata": {},
     "output_type": "display_data"
    },
    {
     "data": {
      "text/html": [
       "<text style=color:green>mo jobs no money . how in the <text style=color:blue> <i>[heaven]</i> </text> is min wage here 4 fn clams an hour: -0.296</text>"
      ],
      "text/plain": [
       "<IPython.core.display.HTML object>"
      ]
     },
     "metadata": {},
     "output_type": "display_data"
    },
    {
     "data": {
      "text/html": [
       "<text style=color:green>mo jobs no money . how in the <text style=color:blue> <i>[crazy]</i> </text> is min wage here 4 fn clams an hour: -0.296</text>"
      ],
      "text/plain": [
       "<IPython.core.display.HTML object>"
      ]
     },
     "metadata": {},
     "output_type": "display_data"
    },
    {
     "name": "stdout",
     "output_type": "stream",
     "text": [
      "\n",
      "\n",
      "No tweets found when trying to do Positive=False\n",
      "\n",
      "\n",
      "\n",
      "NUM(19)  agreed i saw the failwhale allllll day today. :0.2732\n",
      "\n",
      "For word [agreed]: antonyms - ['disagree']\n",
      "--- No pos approved words! ---\n",
      "--- No new strings generated ---\n",
      "\n",
      "\n",
      "\n",
      "NUM(20)  oh! haha... dude i dont really look at em unless someone says hey i added you. sorry  i am so terrible at that. i need a pop up!:-0.6459\n",
      "\n",
      "Word haha[NN] replaced with prude[NN]\n",
      "Word haha[NN] replaced with porpoise[NN]\n",
      "Word haha[NN] replaced with será[NN]\n",
      "Word haha[NN] replaced with clavaria[NN]\n",
      "Word haha[NN] replaced with thunderer[NN]\n",
      "oh ! prude ... dude i dont really look at em unless someone says hey i added you . sorry i am so terrible at that . i need a pop up !\n",
      "oh ! porpoise ... dude i dont really look at em unless someone says hey i added you . sorry i am so terrible at that . i need a pop up !\n",
      "oh ! será ... dude i dont really look at em unless someone says hey i added you . sorry i am so terrible at that . i need a pop up !\n",
      "oh ! clavaria ... dude i dont really look at em unless someone says hey i added you . sorry i am so terrible at that . i need a pop up !\n",
      "oh ! thunderer ... dude i dont really look at em unless someone says hey i added you . sorry i am so terrible at that . i need a pop up !\n",
      "For word [sorry]: antonyms - ['unregretful']\n",
      "Word sorry[VB] replaced with glad[VB]\n",
      "Word sorry[VB] replaced with sad[VB]\n",
      "Word sorry[VB] replaced with regret[VB]\n",
      "oh ! haha ... dude i dont really look at em unless someone says hey i added you . glad i am so terrible at that . i need a pop up !\n",
      "oh ! haha ... dude i dont really look at em unless someone says hey i added you . sad i am so terrible at that . i need a pop up !\n",
      "oh ! haha ... dude i dont really look at em unless someone says hey i added you . regret i am so terrible at that . i need a pop up !\n",
      "Word terrible[JJ] replaced with horrible[JJ]\n",
      "Word terrible[JJ] replaced with awful[JJ]\n",
      "Word terrible[JJ] replaced with dreadful[JJ]\n",
      "Word terrible[JJ] replaced with horrendous[JJ]\n",
      "Word terrible[JJ] replaced with horrific[JJ]\n",
      "Word terrible[JJ] replaced with tragic[JJ]\n",
      "Word terrible[JJ] replaced with appalling[JJ]\n",
      "oh ! haha ... dude i dont really look at em unless someone says hey i added you . sorry i am so horrible at that . i need a pop up !\n",
      "oh ! haha ... dude i dont really look at em unless someone says hey i added you . sorry i am so awful at that . i need a pop up !\n",
      "oh ! haha ... dude i dont really look at em unless someone says hey i added you . sorry i am so dreadful at that . i need a pop up !\n",
      "oh ! haha ... dude i dont really look at em unless someone says hey i added you . sorry i am so horrendous at that . i need a pop up !\n",
      "oh ! haha ... dude i dont really look at em unless someone says hey i added you . sorry i am so horrific at that . i need a pop up !\n",
      "oh ! haha ... dude i dont really look at em unless someone says hey i added you . sorry i am so tragic at that . i need a pop up !\n",
      "oh ! haha ... dude i dont really look at em unless someone says hey i added you . sorry i am so appalling at that . i need a pop up !\n"
     ]
    },
    {
     "data": {
      "text/html": [
       "<text style=color:green>oh ! haha ... dude i dont really look at em unless someone says hey i added you . <text style=color:blue> <i>[glad]</i> </text> i am so terrible at that . i need a pop up !: -0.3768</text>"
      ],
      "text/plain": [
       "<IPython.core.display.HTML object>"
      ]
     },
     "metadata": {},
     "output_type": "display_data"
    },
    {
     "data": {
      "text/html": [
       "<text style=color:green>oh ! haha ... dude i dont really look at em unless someone says hey i added you . <text style=color:blue> <i>[sad]</i> </text> i am so terrible at that . i need a pop up !: -0.3768</text>"
      ],
      "text/plain": [
       "<IPython.core.display.HTML object>"
      ]
     },
     "metadata": {},
     "output_type": "display_data"
    },
    {
     "data": {
      "text/html": [
       "<text style=color:green>oh ! haha ... dude i dont really look at em unless someone says hey i added you . <text style=color:blue> <i>[regret]</i> </text> i am so terrible at that . i need a pop up !: -0.3768</text>"
      ],
      "text/plain": [
       "<IPython.core.display.HTML object>"
      ]
     },
     "metadata": {},
     "output_type": "display_data"
    },
    {
     "data": {
      "text/html": [
       "<text style=color:green>oh ! haha ... dude i dont really look at em unless someone says hey i added you . sorry i am so <text style=color:blue> <i>[horrible]</i> </text> at that . i need a pop up !: 0.508</text>"
      ],
      "text/plain": [
       "<IPython.core.display.HTML object>"
      ]
     },
     "metadata": {},
     "output_type": "display_data"
    },
    {
     "data": {
      "text/html": [
       "<text style=color:green>oh ! haha ... dude i dont really look at em unless someone says hey i added you . sorry i am so <text style=color:blue> <i>[awful]</i> </text> at that . i need a pop up !: 0.508</text>"
      ],
      "text/plain": [
       "<IPython.core.display.HTML object>"
      ]
     },
     "metadata": {},
     "output_type": "display_data"
    },
    {
     "data": {
      "text/html": [
       "<text style=color:green>oh ! haha ... dude i dont really look at em unless someone says hey i added you . sorry i am so <text style=color:blue> <i>[dreadful]</i> </text> at that . i need a pop up !: 0.508</text>"
      ],
      "text/plain": [
       "<IPython.core.display.HTML object>"
      ]
     },
     "metadata": {},
     "output_type": "display_data"
    },
    {
     "data": {
      "text/html": [
       "<text style=color:green>oh ! haha ... dude i dont really look at em unless someone says hey i added you . sorry i am so <text style=color:blue> <i>[horrendous]</i> </text> at that . i need a pop up !: 0.508</text>"
      ],
      "text/plain": [
       "<IPython.core.display.HTML object>"
      ]
     },
     "metadata": {},
     "output_type": "display_data"
    },
    {
     "data": {
      "text/html": [
       "<text style=color:green>oh ! haha ... dude i dont really look at em unless someone says hey i added you . sorry i am so <text style=color:blue> <i>[horrific]</i> </text> at that . i need a pop up !: 0.508</text>"
      ],
      "text/plain": [
       "<IPython.core.display.HTML object>"
      ]
     },
     "metadata": {},
     "output_type": "display_data"
    },
    {
     "data": {
      "text/html": [
       "<text style=color:green>oh ! haha ... dude i dont really look at em unless someone says hey i added you . sorry i am so <text style=color:blue> <i>[tragic]</i> </text> at that . i need a pop up !: 0.508</text>"
      ],
      "text/plain": [
       "<IPython.core.display.HTML object>"
      ]
     },
     "metadata": {},
     "output_type": "display_data"
    },
    {
     "data": {
      "text/html": [
       "<text style=color:green>oh ! haha ... dude i dont really look at em unless someone says hey i added you . sorry i am so <text style=color:blue> <i>[appalling]</i> </text> at that . i need a pop up !: 0.508</text>"
      ],
      "text/plain": [
       "<IPython.core.display.HTML object>"
      ]
     },
     "metadata": {},
     "output_type": "display_data"
    },
    {
     "name": "stdout",
     "output_type": "stream",
     "text": [
      "\n",
      "\n",
      "No tweets found when trying to do Positive=False\n",
      "\n",
      "\n",
      "\n",
      "NUM(21)  i am sure you are right...    i need to start working out with you and the nikster... or jared at least!:0.3802\n",
      "\n",
      "For word [sure]: antonyms - ['uncertain', 'unsure']\n",
      "Word sure[JJ] replaced with uncertain[JJ]\n",
      "i am uncertain you are right ... i need to start working out with you and the nikster ... or jared at least !\n",
      "\n",
      "\n",
      "No tweets found when trying to do Positive=True\n",
      "\n",
      "\n"
     ]
    },
    {
     "data": {
      "text/html": [
       "<text style=color:DarkGray>i am <text style=color:blue> <i>[uncertain]</i> </text> you are right ... i need to start working out with you and the nikster ... or jared at least !: 0.0</text>"
      ],
      "text/plain": [
       "<IPython.core.display.HTML object>"
      ]
     },
     "metadata": {},
     "output_type": "display_data"
    },
    {
     "name": "stdout",
     "output_type": "stream",
     "text": [
      "\n",
      "NUM(22) i really hate how people diss my bands!  trace is clearly not ugly!:0.2484\n",
      "\n",
      "For word [hate]: antonyms - ['love']\n",
      "Word hate[VB] replaced with racist[VB]\n",
      "Word hate[VB] replaced with racism[VB]\n",
      "Word hate[VB] replaced with fear[VB]\n",
      "Word hate[VB] replaced with bigotry[VB]\n",
      "Word hate[VB] replaced with love[VB]\n",
      "i really racist how people diss my bands ! trace is clearly not ugly !\n",
      "i really racism how people diss my bands ! trace is clearly not ugly !\n",
      "i really fear how people diss my bands ! trace is clearly not ugly !\n",
      "i really bigotry how people diss my bands ! trace is clearly not ugly !\n",
      "i really love how people diss my bands ! trace is clearly not ugly !\n",
      "For word [clearly]: antonyms - ['unintelligibly']\n",
      "Word clearly[RB] replaced with obviously[RB]\n",
      "Word clearly[RB] replaced with certainly[RB]\n",
      "Word clearly[RB] replaced with indeed[RB]\n",
      "Word clearly[RB] replaced with nonetheless[RB]\n",
      "Word clearly[RB] replaced with unintelligibly[RB]\n",
      "i really hate how people diss my bands ! trace is obviously not ugly !\n",
      "i really hate how people diss my bands ! trace is certainly not ugly !\n",
      "i really hate how people diss my bands ! trace is indeed not ugly !\n",
      "i really hate how people diss my bands ! trace is nonetheless not ugly !\n",
      "i really hate how people diss my bands ! trace is unintelligibly not ugly !\n",
      "For word [ugly]: antonyms - ['beautiful']\n",
      "--- No pos approved words! ---\n"
     ]
    },
    {
     "data": {
      "text/html": [
       "<text style=color:green>i really <text style=color:blue> <i>[racist]</i> </text> how people diss my bands ! trace is clearly not ugly !: 0.7172</text>"
      ],
      "text/plain": [
       "<IPython.core.display.HTML object>"
      ]
     },
     "metadata": {},
     "output_type": "display_data"
    },
    {
     "data": {
      "text/html": [
       "<text style=color:green>i really <text style=color:blue> <i>[racism]</i> </text> how people diss my bands ! trace is clearly not ugly !: 0.7172</text>"
      ],
      "text/plain": [
       "<IPython.core.display.HTML object>"
      ]
     },
     "metadata": {},
     "output_type": "display_data"
    },
    {
     "data": {
      "text/html": [
       "<text style=color:green>i really <text style=color:blue> <i>[fear]</i> </text> how people diss my bands ! trace is clearly not ugly !: 0.7172</text>"
      ],
      "text/plain": [
       "<IPython.core.display.HTML object>"
      ]
     },
     "metadata": {},
     "output_type": "display_data"
    },
    {
     "data": {
      "text/html": [
       "<text style=color:green>i really <text style=color:blue> <i>[bigotry]</i> </text> how people diss my bands ! trace is clearly not ugly !: 0.7172</text>"
      ],
      "text/plain": [
       "<IPython.core.display.HTML object>"
      ]
     },
     "metadata": {},
     "output_type": "display_data"
    },
    {
     "data": {
      "text/html": [
       "<text style=color:green>i really <text style=color:blue> <i>[love]</i> </text> how people diss my bands ! trace is clearly not ugly !: 0.7172</text>"
      ],
      "text/plain": [
       "<IPython.core.display.HTML object>"
      ]
     },
     "metadata": {},
     "output_type": "display_data"
    },
    {
     "data": {
      "text/html": [
       "<text style=color:red>i really hate how people diss my bands ! trace is <text style=color:blue> <i>[obviously]</i> </text> not ugly !: -0.4357</text>"
      ],
      "text/plain": [
       "<IPython.core.display.HTML object>"
      ]
     },
     "metadata": {},
     "output_type": "display_data"
    },
    {
     "data": {
      "text/html": [
       "<text style=color:red>i really hate how people diss my bands ! trace is <text style=color:blue> <i>[certainly]</i> </text> not ugly !: -0.4357</text>"
      ],
      "text/plain": [
       "<IPython.core.display.HTML object>"
      ]
     },
     "metadata": {},
     "output_type": "display_data"
    },
    {
     "data": {
      "text/html": [
       "<text style=color:red>i really hate how people diss my bands ! trace is <text style=color:blue> <i>[indeed]</i> </text> not ugly !: -0.4357</text>"
      ],
      "text/plain": [
       "<IPython.core.display.HTML object>"
      ]
     },
     "metadata": {},
     "output_type": "display_data"
    },
    {
     "data": {
      "text/html": [
       "<text style=color:red>i really hate how people diss my bands ! trace is <text style=color:blue> <i>[nonetheless]</i> </text> not ugly !: -0.4357</text>"
      ],
      "text/plain": [
       "<IPython.core.display.HTML object>"
      ]
     },
     "metadata": {},
     "output_type": "display_data"
    },
    {
     "data": {
      "text/html": [
       "<text style=color:red>i really hate how people diss my bands ! trace is <text style=color:blue> <i>[unintelligibly]</i> </text> not ugly !: -0.4357</text>"
      ],
      "text/plain": [
       "<IPython.core.display.HTML object>"
      ]
     },
     "metadata": {},
     "output_type": "display_data"
    },
    {
     "name": "stdout",
     "output_type": "stream",
     "text": [
      "\n",
      "NUM(23) gym attire today was puma singlet adidas shorts.......and black business socks and leather shoes  lucky did not run into any cute girls.:0.7003\n",
      "\n",
      "For word [lucky]: antonyms - ['unlucky']\n",
      "Word lucky[RB] replaced with unlucky[RB]\n",
      "Word lucky[RB] replaced with maybe[RB]\n",
      "Word lucky[RB] replaced with unlucky[RB]\n",
      "gym attire today was puma singlet adidas shorts ... ... .and black business socks and leather shoes unlucky did not run into any cute girls .\n",
      "gym attire today was puma singlet adidas shorts ... ... .and black business socks and leather shoes maybe did not run into any cute girls .\n",
      "gym attire today was puma singlet adidas shorts ... ... .and black business socks and leather shoes unlucky did not run into any cute girls .\n",
      "Word cute[JJ] replaced with adorable[JJ]\n",
      "Word cute[JJ] replaced with goofy[JJ]\n",
      "Word cute[JJ] replaced with sexy[JJ]\n",
      "Word cute[JJ] replaced with cuddly[JJ]\n",
      "Word cute[JJ] replaced with funny[JJ]\n",
      "Word cute[JJ] replaced with perky[JJ]\n",
      "Word cute[JJ] replaced with naughty[JJ]\n",
      "gym attire today was puma singlet adidas shorts ... ... .and black business socks and leather shoes lucky did not run into any adorable girls .\n",
      "gym attire today was puma singlet adidas shorts ... ... .and black business socks and leather shoes lucky did not run into any goofy girls .\n",
      "gym attire today was puma singlet adidas shorts ... ... .and black business socks and leather shoes lucky did not run into any sexy girls .\n",
      "gym attire today was puma singlet adidas shorts ... ... .and black business socks and leather shoes lucky did not run into any cuddly girls .\n",
      "gym attire today was puma singlet adidas shorts ... ... .and black business socks and leather shoes lucky did not run into any funny girls .\n",
      "gym attire today was puma singlet adidas shorts ... ... .and black business socks and leather shoes lucky did not run into any perky girls .\n",
      "gym attire today was puma singlet adidas shorts ... ... .and black business socks and leather shoes lucky did not run into any naughty girls .\n",
      "\n",
      "\n",
      "No tweets found when trying to do Positive=True\n",
      "\n",
      "\n"
     ]
    },
    {
     "data": {
      "text/html": [
       "<text style=color:red>gym attire today was puma singlet adidas shorts ... ... .and black business socks and leather shoes <text style=color:blue> <i>[unlucky]</i> </text> did not run into any cute girls .: 0.4588</text>"
      ],
      "text/plain": [
       "<IPython.core.display.HTML object>"
      ]
     },
     "metadata": {},
     "output_type": "display_data"
    },
    {
     "data": {
      "text/html": [
       "<text style=color:red>gym attire today was puma singlet adidas shorts ... ... .and black business socks and leather shoes <text style=color:blue> <i>[maybe]</i> </text> did not run into any cute girls .: 0.4588</text>"
      ],
      "text/plain": [
       "<IPython.core.display.HTML object>"
      ]
     },
     "metadata": {},
     "output_type": "display_data"
    },
    {
     "data": {
      "text/html": [
       "<text style=color:red>gym attire today was puma singlet adidas shorts ... ... .and black business socks and leather shoes <text style=color:blue> <i>[unlucky]</i> </text> did not run into any cute girls .: 0.4588</text>"
      ],
      "text/plain": [
       "<IPython.core.display.HTML object>"
      ]
     },
     "metadata": {},
     "output_type": "display_data"
    },
    {
     "data": {
      "text/html": [
       "<text style=color:red>gym attire today was puma singlet adidas shorts ... ... .and black business socks and leather shoes lucky did not run into any <text style=color:blue> <i>[adorable]</i> </text> girls .: 0.4215</text>"
      ],
      "text/plain": [
       "<IPython.core.display.HTML object>"
      ]
     },
     "metadata": {},
     "output_type": "display_data"
    },
    {
     "data": {
      "text/html": [
       "<text style=color:red>gym attire today was puma singlet adidas shorts ... ... .and black business socks and leather shoes lucky did not run into any <text style=color:blue> <i>[goofy]</i> </text> girls .: 0.4215</text>"
      ],
      "text/plain": [
       "<IPython.core.display.HTML object>"
      ]
     },
     "metadata": {},
     "output_type": "display_data"
    },
    {
     "data": {
      "text/html": [
       "<text style=color:red>gym attire today was puma singlet adidas shorts ... ... .and black business socks and leather shoes lucky did not run into any <text style=color:blue> <i>[sexy]</i> </text> girls .: 0.4215</text>"
      ],
      "text/plain": [
       "<IPython.core.display.HTML object>"
      ]
     },
     "metadata": {},
     "output_type": "display_data"
    },
    {
     "data": {
      "text/html": [
       "<text style=color:red>gym attire today was puma singlet adidas shorts ... ... .and black business socks and leather shoes lucky did not run into any <text style=color:blue> <i>[cuddly]</i> </text> girls .: 0.4215</text>"
      ],
      "text/plain": [
       "<IPython.core.display.HTML object>"
      ]
     },
     "metadata": {},
     "output_type": "display_data"
    },
    {
     "data": {
      "text/html": [
       "<text style=color:red>gym attire today was puma singlet adidas shorts ... ... .and black business socks and leather shoes lucky did not run into any <text style=color:blue> <i>[funny]</i> </text> girls .: 0.4215</text>"
      ],
      "text/plain": [
       "<IPython.core.display.HTML object>"
      ]
     },
     "metadata": {},
     "output_type": "display_data"
    },
    {
     "data": {
      "text/html": [
       "<text style=color:red>gym attire today was puma singlet adidas shorts ... ... .and black business socks and leather shoes lucky did not run into any <text style=color:blue> <i>[perky]</i> </text> girls .: 0.4215</text>"
      ],
      "text/plain": [
       "<IPython.core.display.HTML object>"
      ]
     },
     "metadata": {},
     "output_type": "display_data"
    },
    {
     "data": {
      "text/html": [
       "<text style=color:red>gym attire today was puma singlet adidas shorts ... ... .and black business socks and leather shoes lucky did not run into any <text style=color:blue> <i>[naughty]</i> </text> girls .: 0.4215</text>"
      ],
      "text/plain": [
       "<IPython.core.display.HTML object>"
      ]
     },
     "metadata": {},
     "output_type": "display_data"
    }
   ],
   "source": [
    "def runThroughTweets():\n",
    "\n",
    "    tweets_df = pd.read_csv( pathToDatasets + 'cleanedTweets.csv' , nrows=NUM_OF_TWEETS, skiprows=TWEET_START)\n",
    "\n",
    "    tweets = tweets_df.values\n",
    "\n",
    "    \n",
    "    for counter,tweet in enumerate(tweets):\n",
    "        tweet = tweet[0]\n",
    "        \n",
    "        mainSentiment = senty.polarity_scores(tweet)['compound']\n",
    "        if(mainSentiment == 0):\n",
    "            continue\n",
    "        print(\"\\nNUM({2}) {0}:{1}\\n\".format(tweet,mainSentiment, counter))       \n",
    "        alternateTweets = getAlternativeSentences(tweet, mainSentiment)\n",
    "        if(alternateTweets == [] or alternateTweets == None):\n",
    "            print(\"--- No new strings generated ---\\n\\n\")\n",
    "            continue\n",
    "        newStrings = shiftSentiment(tweet, mainSentiment, alternateTweets, True);\n",
    "        printStrings(newStrings, mainSentiment)\n",
    "        newStringsAgain = shiftSentiment(tweet, mainSentiment, alternateTweets, False);\n",
    "        printStrings(newStringsAgain, mainSentiment)\n",
    "    \n",
    "runThroughTweets()"
   ]
  },
  {
   "cell_type": "code",
   "execution_count": null,
   "metadata": {},
   "outputs": [],
   "source": []
  }
 ],
 "metadata": {
  "kernelspec": {
   "display_name": "Python 3",
   "language": "python",
   "name": "python3"
  },
  "language_info": {
   "codemirror_mode": {
    "name": "ipython",
    "version": 3
   },
   "file_extension": ".py",
   "mimetype": "text/x-python",
   "name": "python",
   "nbconvert_exporter": "python",
   "pygments_lexer": "ipython3",
   "version": "3.6.5"
  }
 },
 "nbformat": 4,
 "nbformat_minor": 2
}
