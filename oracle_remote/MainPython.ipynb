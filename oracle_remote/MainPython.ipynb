{
 "cells": [
  {
   "cell_type": "markdown",
   "metadata": {},
   "source": [
    "## Import Statements"
   ]
  },
  {
   "cell_type": "code",
   "execution_count": 21,
   "metadata": {},
   "outputs": [
    {
     "data": {
      "text/html": [
       "<style>.container { width:85% !important; }</style>"
      ],
      "text/plain": [
       "<IPython.core.display.HTML object>"
      ]
     },
     "metadata": {},
     "output_type": "display_data"
    }
   ],
   "source": [
    "import gensim.downloader as api\n",
    "import numpy as np\n",
    "import re\n",
    "import csv\n",
    "import pandas as pd\n",
    "import pprint\n",
    "import string\n",
    "import nltk\n",
    "import sys\n",
    "import spacy\n",
    "import os\n",
    "import pickle\n",
    "import random     \n",
    "\n",
    "from IPython.display import HTML\n",
    "from nltk.corpus import wordnet \n",
    "from sklearn.manifold import TSNE\n",
    "from gensim.models import Word2Vec\n",
    "from gensim.models import KeyedVectors\n",
    "\n",
    "from nltk.sentiment.vader import SentimentIntensityAnalyzer\n",
    "from nltk.tokenize import word_tokenize\n",
    "\n",
    "pathToDatasets = '../datasets/'\n",
    "pathToDataScripts = '../datasets/scripts/'\n",
    "filePath = '../datasets/GoogleNews-vectors-negative300.bin'\n",
    "# modelBeingUsed = \"glove-wiki-gigaword-300\"\n",
    "# modelBeingUsed = \"glove-wiki-gigaword-100\"\n",
    "# modelBeingUsed = \"glove-twitter-50\"\n",
    "modelBeingUsed = \"glove-twitter-100\"\n",
    "# modelBeingUsed = \"glove-twitter-200\"\n",
    "\n",
    "DATASET_FILE_NAME = \"shuffled_twitter_corpus_output\"\n",
    "# DATASET_FILE_NAME = \"airplane_tweets\"\n",
    "# DATASET_FILE_NAME = \"cleanedTweets\"\n",
    "\n",
    "\n",
    "\n",
    "sys.path.insert(0, pathToDataScripts)\n",
    "from cleanDataset import tokenize_words, dataClean\n",
    "\n",
    "\n",
    "from IPython.core.display import display, HTML\n",
    "display(HTML(\"<style>.container { width:85% !important; }</style>\"))"
   ]
  },
  {
   "cell_type": "markdown",
   "metadata": {},
   "source": [
    "## Downloading binaries and models\n"
   ]
  },
  {
   "cell_type": "code",
   "execution_count": 22,
   "metadata": {},
   "outputs": [
    {
     "name": "stdout",
     "output_type": "stream",
     "text": [
      "Should I reload the model?\n",
      "no\n",
      " didnt reload model! \n",
      "{'definitely', 'completely', 'especially', 'absolutely'}\n"
     ]
    }
   ],
   "source": [
    "print(\"Should I reload the model?\")\n",
    "tstString = input()\n",
    "if(\"no\" in tstString.lower() or \"n\" in tstString.lower()):\n",
    "    print(\" didnt reload model! \")\n",
    "else:\n",
    "    print(\"loading {0}!\".format(modelBeingUsed));\n",
    "    fileName = \"{}.pickle\".format(modelBeingUsed)\n",
    "    if(os.path.exists(pathToDatasets+fileName)):\n",
    "        print(\"loading via pickle!\")\n",
    "        pickle_in = open(pathToDatasets+fileName, \"rb\")\n",
    "        word_vectors = pickle.load(pickle_in);\n",
    "    else:\n",
    "        print(\"Pickle didn't exist, therefore loading model!\")\n",
    "        word_vectors = api.load(\"{0}\".format(modelBeingUsed))\n",
    "        print(\"-- Saving to pickle file for next time! --\")\n",
    "        pickle_out = open(pathToDatasets+fileName,\"wb\")\n",
    "        pickle.dump(word_vectors, pickle_out)\n",
    "        pickle_out.close()\n",
    "        \n",
    "    nltk.download('vader_lexicon')\n",
    "    nltk.download('punkt')\n",
    "    nltk.download('averaged_perceptron_tagger')\n",
    "    nltk.download('wordnet')\n",
    "    print(\"Model Loaded!\")\n",
    "\n",
    "setOfBoosterWords = set()\n",
    "with open(pathToDatasets + \"BoosterWordList.txt\") as bwf:\n",
    "    pd_booster = pd.read_csv(bwf, sep='\\t');\n",
    "    listOfBoosterWords = (pd_booster.iloc[:,0]).tolist() \n",
    "    setOfBoosterWords = set(listOfBoosterWords[:4])\n",
    "print(setOfBoosterWords)"
   ]
  },
  {
   "cell_type": "markdown",
   "metadata": {},
   "source": [
    "## Global Variables and Global Objects"
   ]
  },
  {
   "cell_type": "code",
   "execution_count": 23,
   "metadata": {},
   "outputs": [],
   "source": [
    "senty = SentimentIntensityAnalyzer()\n",
    "vocabulary = word_vectors.vocab;\n",
    "\n",
    "nlp = spacy.load('en')\n",
    "\n",
    "\n",
    "'''\n",
    "Good sets -> {100+20}\n",
    "'''\n",
    "TWEET_START = 10\n",
    "NUM_OF_TWEETS = 150\n",
    "\n",
    "# VERBOSE_PRINTING = True\n",
    "VERBOSE_PRINTING = False\n",
    "\n",
    "# USE_SPACY = False\n",
    "USE_SPACY = True\n",
    "\n",
    "COLOR_PRINTING = True\n",
    "# COLOR_PRINTING = False\n",
    "\n",
    "PRINT_NEUTRAL = True\n",
    "# PRINT_NEUTRAL = False\n",
    "\n",
    "# PRINT_ALL_STRINGS = True\n",
    "PRINT_ALL_STRINGS = False\n",
    "\n",
    "HANDLE_NEGATIONS = True\n",
    "# HANDLE_NEGATIONS = False\n",
    "\n",
    "HANDLE_BOOSTERS = True\n",
    "# HANDLE_BOOSTERS = False\n",
    "\n",
    "# KEEP_SENSE = True\n",
    "KEEP_SENSE = False\n",
    "\n",
    "SHOW_ALTS = 35\n",
    "\n",
    "NUMBER_OF_NEAR = 10\n",
    "MAX_SENTIMENT_HEAVY_WORDS = 6\n",
    "MAX_REPLACEMENTS = 8 # increasing this has a x(NUM_OF_SENTIMENT_WORDS) effect.\n",
    "\n",
    "PROB_ADDING_BOOSTER = 0.25 # Keep between 0 and 1, if you want all possible, use 1. If you want none, use 0\n",
    "\n",
    "\n",
    "punctuation = r\"\\\"#$%&'+-/;<=>?@[\\]*^_`{|}~\"\n",
    "LIST_OF_NEGATIONS = [\"not\", \"no\"]\n",
    "BANNED_WORDS = [\"fuck\",\"bitch\", \"motherfucker\"]"
   ]
  },
  {
   "cell_type": "markdown",
   "metadata": {},
   "source": [
    "## Class for Sentences\n"
   ]
  },
  {
   "cell_type": "code",
   "execution_count": 24,
   "metadata": {},
   "outputs": [],
   "source": [
    "from SentenceClass import *"
   ]
  },
  {
   "cell_type": "markdown",
   "metadata": {},
   "source": [
    "## Utility Code"
   ]
  },
  {
   "cell_type": "code",
   "execution_count": 25,
   "metadata": {},
   "outputs": [],
   "source": [
    "def printStrings(sentenceObj):\n",
    "    \n",
    "    numberOfPrints = 0\n",
    "    newStrings = generateHTMLObjectsFromSentence(sentenceObj)\n",
    "    mainSentiment = sentenceObj.ogSentiment;\n",
    "    listOfSentencesWithSentiments = []\n",
    "    bestSentiment = -sys.maxsize - 1\n",
    "    worstSentiment = sys.maxsize\n",
    "    \n",
    "    isPositiveSentence = True if(mainSentiment >= 0) else False\n",
    "    \n",
    "    bestSentimentString = \"\";\n",
    "    worstSentimentString = \"\";\n",
    "    \n",
    "    \n",
    "    numberOfSentimentHeavyWordsYet = 0;\n",
    "    for ind, tSentence in enumerate(newStrings):\n",
    "            alteredTweet = tSentence.getSentence()\n",
    "            htmlText = tSentence.getHTML()\n",
    "            numberOfPrints+=1;\n",
    "            \n",
    "            \n",
    "            sentimentOfNewString = tSentence.getSentiment() #senty.polarity_scores(alteredTweet)['compound']\n",
    "            \n",
    "            thisStringPositive = True if(sentimentOfNewString >= 0) else False\n",
    "            if(thisStringPositive != isPositiveSentence and KEEP_SENSE):\n",
    "                continue\n",
    "            \n",
    "            newObj = SentenceWithSentiment(alteredTweet, sentimentOfNewString, htmlText)\n",
    "            listOfSentencesWithSentiments.append(newObj)\n",
    "            \n",
    "            if(sentimentOfNewString >= bestSentiment):\n",
    "                bestSentiment = sentimentOfNewString\n",
    "                bestSentimentString = htmlText;\n",
    "            elif(sentimentOfNewString < worstSentiment):\n",
    "                worstSentiment = sentimentOfNewString\n",
    "                worstSentimentString = htmlText;\n",
    "            \n",
    "            \n",
    "#             if(numberOfPrints > SHOW_ALTS): break\n",
    "            if(numberOfPrints > SHOW_ALTS or PRINT_ALL_STRINGS == False): continue\n",
    "            if(sentimentOfNewString == mainSentiment or sentimentOfNewString == 0.0):\n",
    "                if(PRINT_ALL_STRINGS and numberOfPrints <= SHOW_ALTS): displayText(\"{0}: {1}\".format(htmlText,sentimentOfNewString),'black')\n",
    "            elif(sentimentOfNewString > mainSentiment):\n",
    "                if(PRINT_ALL_STRINGS and numberOfPrints <= SHOW_ALTS): displayText(\"{0}: {1}\".format(htmlText,sentimentOfNewString),'green')\n",
    "            elif(sentimentOfNewString < mainSentiment and sentimentOfNewString != 0.0):\n",
    "                if(PRINT_ALL_STRINGS and numberOfPrints <= SHOW_ALTS): displayText(\"{0}: {1}\".format(htmlText,sentimentOfNewString),'red')\n",
    "                \n",
    "#     if(numberOfPrints > SHOW_ALTS): print(\"--- More options (total: {0}) possible, but not printed ---\".format(numberOfPrints));\n",
    "    print(\"--- More options (total: {0}) possible ---\".format(numberOfPrints));\n",
    "    displayText(\"Actual Sentence: {0} :{1}\".format(sentenceObj.ogSentence, sentenceObj.ogSentiment))\n",
    "    if (worstSentimentString != \"\"): displayText(\"Worst Sentence: {0} : {1}\".format(worstSentimentString, worstSentiment), color='red')\n",
    "    if (bestSentimentString != \"\"): displayText(\"Best Sentence: {0} : {1}\".format(bestSentimentString, bestSentiment), color='green') \n",
    "        \n",
    "    \n",
    "    \n",
    "   \n",
    "    sentenceObj.addFinalSentences(listOfSentencesWithSentiments)\n",
    "    return listOfSentencesWithSentiments, sentenceObj;\n",
    "\n",
    "def cstr(s, color='black', italics=False):\n",
    "    if(COLOR_PRINTING):\n",
    "        if(italics):\n",
    "            return cstr(\"{0}\".format(s), color);\n",
    "        return \"<text style=color:{}>{}</text>\".format(color, s)\n",
    "    else:\n",
    "        return \"{}\".format(s)\n",
    "\n",
    "def displayText(text, color='black'):\n",
    "    if(COLOR_PRINTING):\n",
    "        display(HTML(cstr(text, color)));\n",
    "        return\n",
    "    print(\"{}\".format(text));\n",
    "    \n",
    "    \n",
    "def cleanAndTokenizeText(text):\n",
    "    text = text.lower();\n",
    "    newString = \"\"\n",
    "    for char in text:\n",
    "        if char not in punctuation:\n",
    "            newString += char\n",
    "    text = word_tokenize(newString)\n",
    "    return text;\n",
    "\n",
    "def getPOSTags(tweet):\n",
    "    if(USE_SPACY == False):\n",
    "        tags = nltk.pos_tag(tweet)\n",
    "        return tags;    \n",
    "    tweet = ' '.join(tweet)\n",
    "    doc = nlp(tweet)\n",
    "    tags = [(token.text, token.tag_) for token in doc] # since the format expected is [text,tag]\n",
    "    return tags\n",
    "\n",
    "def getAntonymsAndSynonymsOfWords(word):\n",
    "    if(word not in vocabulary):\n",
    "        return [], []\n",
    "    setOfAntonyms = set()\n",
    "    setOfSynonyms = set()\n",
    "    for syn in wordnet.synsets(word):\n",
    "        for l in syn.lemmas():\n",
    "            setOfSynonyms.add(l.name().lower())\n",
    "            anton = l.antonyms()\n",
    "            if(anton!=[]):\n",
    "                setOfAntonyms.add(anton[0].name().lower())\n",
    "    if(len(setOfAntonyms) == 0):\n",
    "        if(VERBOSE_PRINTING): print(\"No antonyms found for word {0}\".format(word))\n",
    "    if(len(setOfSynonyms) == 0):\n",
    "        if(VERBOSE_PRINTING): print(\"No synonyms found for word {0}\".format(word))\n",
    "            \n",
    "    return [], list(setOfSynonyms)\n",
    "#     return list(setOfAntonyms), list(setOfSynonyms)\n",
    "\n",
    "\n",
    "def returnReplacementsForWord(word):\n",
    "    \n",
    "    if(word not in vocabulary):\n",
    "        print(\" --- {0} not in vocabulary ---\".format(word))\n",
    "        return []\n",
    "    possibleReplacements = [word[0] for word in word_vectors.most_similar(word,topn=NUMBER_OF_NEAR)]\n",
    "    \n",
    "    if(possibleReplacements == []):\n",
    "        print(\" --- No replacements for word {0} ---\".format(word))\n",
    "    antonyms,synonyms = getAntonymsAndSynonymsOfWords(word)\n",
    "    \n",
    "    if(antonyms != []):\n",
    "        possibleReplacements.extend(antonyms)\n",
    "        if(VERBOSE_PRINTING): print(\"Some antonyms for word {0} are {1}\".format(word, antonyms[:3]))\n",
    "    if(synonyms != []):\n",
    "        possibleReplacements.extend(synonyms)\n",
    "        if(VERBOSE_PRINTING): print(\"Some synonyms for word {0} are {1}\".format(word, synonyms[:3]))\n",
    "    return possibleReplacements\n",
    "    \n",
    "def posApprovedReplacements(alternativeWords, userTokens, indexOfToken):\n",
    "    if(alternativeWords == []):\n",
    "        return []\n",
    "    tempTokens = userTokens[:]\n",
    "    POSTokens = getPOSTags(tempTokens)\n",
    "    validWords = []\n",
    "    \n",
    "    mainTag = POSTokens[indexOfToken][1]\n",
    "    mainWord = userTokens[indexOfToken]\n",
    "    \n",
    "    for ind,word in enumerate(alternativeWords):\n",
    "        if(\"_\" in word): continue\n",
    "        tempTokens[indexOfToken] = word\n",
    "        posTags = getPOSTags(tempTokens)\n",
    "        newTag = (posTags[indexOfToken])[1]\n",
    "        if(str(newTag) == str(mainTag)):\n",
    "            validWords.append(word)\n",
    "    if(validWords == [] and VERBOSE_PRINTING):\n",
    "        print(\"No POS words found for word {} with tag {}\".format(mainWord, mainTag));\n",
    "    return validWords\n",
    "    \n",
    "def editBoosterWords(sentenceObj):\n",
    "    if(HANDLE_BOOSTERS == False): return sentenceObj;\n",
    "    ogSentence = sentenceObj.ogSentence;\n",
    "    \n",
    "    tokenizedSentence = sentenceObj.getSentenceTokens()\n",
    "    \n",
    "    '''\n",
    "        Use the indexToAlternatives dictionary to add words into the sentences, as part of the chunking process \n",
    "        The problem with this instinctively is how do you have an index \"between\" two variables \n",
    "        You can't really. You'd have to have a flag that says which places it's meant to go \n",
    "        You could do it _before_ the sentiment heavy word (this makes more natural sense) or \n",
    "            you could do it _after_ the word before the sentiment heavy word (this could have its own advantages) \n",
    "    '''\n",
    "    \n",
    "    posTagsForWords = getPOSTags(tokenizedSentence)    \n",
    "    for ind,(word,tag) in enumerate(posTagsForWords):\n",
    "        tmp = ' '.join(tokenizedSentence[ind:ind+2])    \n",
    "        if(word in setOfBoosterWords):\n",
    "            if(senty.polarity_scores(tmp)['compound'] != 0):\n",
    "                sentenceObj.addAlternativesByIndex(ind, [\"IGNORE_FLAG\", word]);\n",
    "                continue\n",
    "        elif(senty.polarity_scores(word)['compound'] != 0 and (\"RB\" in tag or \"JJ\" in tag or \"VB\" in tag)):  # \"JJ\" in tag and\n",
    "            newInd = ind-1 if ((ind-1) >= 0 ) else 0\n",
    "            randNum = random.uniform(0,1)\n",
    "            if(randNum < PROB_ADDING_BOOSTER):\n",
    "                sentenceObj.addAlternativesByIndex(newInd, [\"BOOSTER_FLAG\"]);\n",
    "#                 if(VERBOSE_PRINTING): print(\"Placed booster at {0} from word {1} on word {2}\".format(newInd, word,tokenizedSentence[newInd] ))\n",
    "    \n",
    "    return sentenceObj\n",
    "\n",
    "\n",
    "def generateHTMLObjectsFromSentence(sentenceObj):\n",
    "    \n",
    "    allSentences = sentenceObj.getFinalSentences()\n",
    "    indexToAlts = sentenceObj.indexToSetOfWords;\n",
    "    indexToChange = list(indexToAlts.keys());\n",
    "    \n",
    "    numberOfNegationsRemoved = 0;\n",
    "    listOfSentenceObjs = []\n",
    "    for t_sentenceObj in allSentences:\n",
    "        sentence = t_sentenceObj.getSentence()\n",
    "        copySentence = t_sentenceObj.getSentenceTokens()\n",
    "        subIndex = 0\n",
    "        addIndex = 0\n",
    "        for index in sorted(indexToChange):\n",
    "            if(index > len(copySentence)):  \n",
    "                copySentence[len(copySentence) - index] = cstr(\"{0}\".format(copySentence[len(copySentence) - index]), \"blue\", italics=True);\n",
    "                continue\n",
    "            else:\n",
    "                if(\"IGNORE_FLAG\" in indexToAlts[index]):\n",
    "                    if(copySentence[index] in LIST_OF_NEGATIONS):\n",
    "                        continue; ## Word that _should_ be removed is present.\n",
    "                    else:\n",
    "                        subIndex +=1\n",
    "                        numberOfNegationsRemoved +=1;\n",
    "                        continue;\n",
    "                elif(\"BOOSTER_FLAG\" in indexToAlts[index]):\n",
    "                    addIndex +=1;\n",
    "\n",
    "            newIndex = index + addIndex - subIndex;\n",
    "            if(newIndex >= len(copySentence)):\n",
    "                newIndex = len(copySentence)-1\n",
    "            elif(newIndex < 0):\n",
    "                newIndex = 0;\n",
    "            \n",
    "            \n",
    "            copySentence[newIndex] = cstr(\"{0}\".format(copySentence[newIndex]), \"blue\", italics=True);\n",
    "        listOfSentenceObjs.append(SentenceWithHTML(sentence, ' '.join(copySentence), t_sentenceObj.getSentiment()));\n",
    "    \n",
    "    if(VERBOSE_PRINTING): print(\"Number of negations removed : {0}\".format(numberOfNegationsRemoved))\n",
    "    return listOfSentenceObjs\n",
    "                "
   ]
  },
  {
   "cell_type": "markdown",
   "metadata": {},
   "source": [
    "## Sentence Chunking and Appending"
   ]
  },
  {
   "cell_type": "code",
   "execution_count": 26,
   "metadata": {},
   "outputs": [],
   "source": [
    "def helper_combine(mainList, myList):\n",
    "    '''\n",
    "    helper function for CombineSentenceChunks\n",
    "    '''\n",
    "    newList = []\n",
    "    for val in myList:\n",
    "        for mainVal in mainList:\n",
    "#             if(VERBOSE_PRINTING): print(\"Combining {0} with {1}\".format(' '.join(val), ' '.join(mainVal)));\n",
    "            newList.append(val + mainVal);\n",
    "    return newList;\n",
    "\n",
    "def combineSentenceChunks(wholeSentence, dictOfChunks):\n",
    "    '''\n",
    "        Uses the helper_combine function to generate all possible combinatios and permuations of the chunks\n",
    "        and any alternatives.\n",
    "        \n",
    "        The logic is to use the end of the sentence, apply each possible chunk from the previous key's chunks\n",
    "        to every possible chunk of this key's.\n",
    "        \n",
    "        The helper function is used to allow us to reuse the list of alreadyGeneratedChunks and constantly\n",
    "        append to them.\n",
    "        \n",
    "        To understand the logic better, take a look at this gist:\n",
    "        https://gist.github.com/sunnyMiglani/cf85407a9e6928237b1436cc2bc95fa4\n",
    "        \n",
    "    '''\n",
    "    reversedKeys = sorted(dictOfChunks.keys(), reverse=True)\n",
    "    completeSentences = [];\n",
    "    mainArr = dictOfChunks[reversedKeys[0]]\n",
    "    for ind in range(1, len(reversedKeys)):\n",
    "        key = reversedKeys[ind];\n",
    "        mainArr = helper_combine(mainArr, dictOfChunks[key]);\n",
    "        \n",
    "    return mainArr;\n",
    "        \n",
    "def generateSentenceChunks(wholeSentence, keyToChange, nextKey, listOfMyAlternatives):\n",
    "    '''\n",
    "        Generates sentence chunks by iterating through the list of alternatives\n",
    "        Chunking the sentence to start from current key to next key.\n",
    "        This means that the sentence always goes from key 'x' to key 'y'\n",
    "        \n",
    "        Example:\n",
    "        \"I really <hate> hot chocolate, but I <prefer> hot coffee\"\n",
    "        Calling generateSentenceChunks will create an example sentence:\n",
    "            - \"<altWordForHate> hot chocolate , but I \"\n",
    "        \n",
    "        Remember to append the first stretch of the string to the first key's chunk for proper use!\n",
    "    '''\n",
    "    \n",
    "    newList = list(listOfMyAlternatives)\n",
    "    newList.append(wholeSentence[keyToChange]);\n",
    "    generatedSentences = []\n",
    "    \n",
    "        \n",
    "    for myAlt in newList:\n",
    "        if(\"IGNORE_FLAG\" == myAlt):\n",
    "            newSentence = wholeSentence[keyToChange+1:nextKey];\n",
    "            generatedSentences.append(newSentence)\n",
    "            continue\n",
    "        elif(\"BOOSTER_FLAG\" == myAlt): \n",
    "            for booster in setOfBoosterWords:\n",
    "                newSentence = wholeSentence[:]\n",
    "                newSentence.insert(keyToChange+1, booster)\n",
    "                generatedSentences.append(newSentence[keyToChange:nextKey+1]);\n",
    "        else:\n",
    "            newSentence = wholeSentence[:]\n",
    "            newSentence[keyToChange] = myAlt\n",
    "            generatedSentences.append(newSentence[keyToChange:nextKey]);\n",
    "        \n",
    "    return generatedSentences\n",
    "    \n",
    "def returnCombinationsOfStrings(sentenceObj):\n",
    "    \n",
    "    indexToWordDict = sentenceObj.indexToSetOfWords;\n",
    "    originalSentence = sentenceObj.ogSentence;\n",
    "    tokenizedSentence = sentenceObj.getSentenceTokens() \n",
    "    reversedKeys = sorted(indexToWordDict.keys(), reverse=True)\n",
    "    dictAlternatives  = {}\n",
    "\n",
    "    sortedKeys = sorted(indexToWordDict.keys())\n",
    "    sentenceChunks = {}\n",
    "    htmlChunks = {}\n",
    "    \n",
    "    for ind in range(0,len(sortedKeys)):\n",
    "        key = sortedKeys[ind]\n",
    "        nextKey = sortedKeys[ind+1] if ind+1 < len(sortedKeys) else len(tokenizedSentence)\n",
    "        sentenceChunks[key] = generateSentenceChunks(tokenizedSentence, key, nextKey, indexToWordDict[key])\n",
    "\n",
    "    if(sortedKeys[0] != 0):\n",
    "        newList = []\n",
    "        for thislist in sentenceChunks[sortedKeys[0]]:\n",
    "            newList.append(tokenizedSentence[0:sortedKeys[0]] + thislist)\n",
    "        sentenceChunks[sortedKeys[0]] = newList;\n",
    "        \n",
    "    finalOptions = combineSentenceChunks(tokenizedSentence, sentenceChunks)\n",
    "    \n",
    "    finalSentences = []\n",
    "    for val in finalOptions:\n",
    "        sentence = ' '.join(val)\n",
    "        sentiment = senty.polarity_scores(sentence)['compound']\n",
    "        newSentenceObj = SentenceWithSentiment(sentence,sentiment)\n",
    "        newSentenceObj.setSentenceTokens(val)\n",
    "        finalSentences.append(newSentenceObj)\n",
    "    \n",
    "    sentenceObj.addFinalSentences(finalSentences)   \n",
    "    return sentenceObj"
   ]
  },
  {
   "cell_type": "code",
   "execution_count": 27,
   "metadata": {},
   "outputs": [],
   "source": [
    "def trimSuggestions(sentenceObj, mainWord, listOfAlternatives):\n",
    "    mainSentiment = senty.polarity_scores(mainWord)['compound']\n",
    "    isPositive = True if(mainSentiment > 0) else False\n",
    "    finalWords = []\n",
    "    for word in listOfAlternatives:\n",
    "        if(word) in BANNED_WORDS: continue\n",
    "        senty_suggestion = senty.polarity_scores(word)['compound'];\n",
    "        isPositive_suggestion = True if senty_suggestion > 0 else False\n",
    "        if(KEEP_SENSE and isPositive_suggestion != isPositive): continue\n",
    "        if(senty_suggestion == 0):\n",
    "            continue\n",
    "        else:\n",
    "            finalWords.append(word)\n",
    "    if(len(finalWords) == 1):\n",
    "        if(finalWords[0] == mainWord): return []\n",
    "    return finalWords\n",
    "\n",
    "def getAlternativeWords(sentenceObj):\n",
    "    mainSentence = sentenceObj.ogSentence;\n",
    "    mainSentiment = sentenceObj.ogSentiment;\n",
    "\n",
    "    sentenceTokens = cleanAndTokenizeText(mainSentence)\n",
    "    sentenceObj.setSentenceTokens(sentenceTokens)\n",
    "\n",
    "    numberOfSentimentHeavyWords = 0;\n",
    "    for ind, word in enumerate(sentenceTokens):\n",
    "        alternativeSentenceWithHTML = []\n",
    "        copyOfTokens = sentenceTokens[:]\n",
    "        replacements = []\n",
    "        replacements = sentenceObj.checkIfWordExists(word)\n",
    "        if(replacements != []):\n",
    "            print(\"FOUND REPEATED WORD {0}\".format(word))\n",
    "            sentenceObj.addAlternativesByIndex(ind, replacements)\n",
    "            continue;\n",
    "        \n",
    "        if(HANDLE_NEGATIONS):\n",
    "            if(word in LIST_OF_NEGATIONS):\n",
    "                \n",
    "                '''\n",
    "                    If the word is in the list of negations\n",
    "                    We add a [IGNORE_FLAG] tag to the alternatives\n",
    "                    Which will be grabbed in the future by the sentence generation algorithm. (chunking)\n",
    "                '''\n",
    "                \n",
    "                tmp = ' '.join(sentenceTokens[ind:ind+3])\n",
    "                if(senty.polarity_scores(tmp)['compound'] != 0):\n",
    "                    sentenceObj.addAlternativesByIndex(ind, [\"IGNORE_FLAG\", word]);\n",
    "                    continue\n",
    "\n",
    "        score = senty.polarity_scores(word)['compound']\n",
    "        if(score != 0.0):\n",
    "            if(numberOfSentimentHeavyWords < MAX_SENTIMENT_HEAVY_WORDS):\n",
    "                numberOfSentimentHeavyWords+=1;\n",
    "            else:\n",
    "                print(\"Sentiment heavy words:  {0}/{1}\".format(numberOfSentimentHeavyWords, MAX_SENTIMENT_HEAVY_WORDS))\n",
    "                return sentenceObj\n",
    "            \n",
    "            tempReplacements = returnReplacementsForWord(word) # get embedding based relations\n",
    "            \n",
    "            if(VERBOSE_PRINTING): print(\"Some early replacements for word {0} are {1}\".format(word, tempReplacements[0:8]))\n",
    "            if(tempReplacements == []):\n",
    "                print(\"No replacements found at all for word {0}\".format(word))\n",
    "                continue\n",
    "            \n",
    "            replacements = posApprovedReplacements(tempReplacements[:], copyOfTokens[:], ind)\n",
    "            finalReplacements = trimSuggestions(sentenceObj,word, replacements)\n",
    "            \n",
    "            if(finalReplacements == []):\n",
    "                if(VERBOSE_PRINTING): print(\" -- No POS approved words after trimming! -- for word {0}\\n some non-trimmed:{1}\".format(word, tempReplacements[:4]))\n",
    "                continue\n",
    "            \n",
    "            # Trimming until max replacements to ensure efficiency\n",
    "            finalReplacements = finalReplacements[:MAX_REPLACEMENTS]\n",
    "            sentenceObj.addAlternativesByIndex(ind, finalReplacements)\n",
    "            sentenceObj.addWordToAlternatives(word, finalReplacements)\n",
    "    print(\"Sentiment heavy words:  {0}/{1}\".format(numberOfSentimentHeavyWords, MAX_SENTIMENT_HEAVY_WORDS))\n",
    "    return sentenceObj\n",
    "\n",
    "\n"
   ]
  },
  {
   "cell_type": "code",
   "execution_count": 28,
   "metadata": {},
   "outputs": [],
   "source": [
    "def interactionHelper(dictOfAltObjs, sentiments, thisSent, lastWorkingIndex=0):\n",
    "    if(thisSent in sentiments):\n",
    "        mainIndex = sentiments.index(thisSent)\n",
    "        \n",
    "    else:\n",
    "        mainIndex = lastWorkingIndex\n",
    "    \n",
    "    numLower =  mainIndex  # Mod to keep it in range 0 -> val \n",
    "    numHigher = len(sentiments) - mainIndex - 1\n",
    "\n",
    "    print(\"There are totally {0} possible sentences\".format(len(sentiments)))\n",
    "    print(\"Current sentiment is at index {0}, and length of sentiments is {1}\".format(mainIndex, len(sentiments)));\n",
    "    print(\" <--- {0} lower and {1} ---> higher \".format(numLower, numHigher))\n",
    "    print(\"Would you like to see a lower sentiment or higher sentiment or ALL?\")\n",
    "    print(\"Please enter 1 for lower, 2 for higher or 0 for all\")\n",
    "    \n",
    "    targetSentiment = thisSent\n",
    "    textInput = input()\n",
    "    if(textInput == \"\"):\n",
    "        print(\"You entered nothing! exiting\")\n",
    "        return\n",
    "        \n",
    "    if(textInput.isdigit()):\n",
    "        textInput = int(textInput)\n",
    "        if(textInput == 0):\n",
    "            if(VERBOSE_PRINTING): print(\"Printing sentiments from : {0}\".format(sentiments))\n",
    "            for sentiment in sentiments:\n",
    "                obj = dictOfAltObjs[sentiment][0];\n",
    "                displayText(\"{0}  : {1}\".format(obj.getHTML(), sentiment))\n",
    "            return\n",
    "        elif(textInput == 1 and numLower > 0 and (mainIndex - 1) >= 0):\n",
    "            targetSentiment = sentiments[mainIndex - 1]\n",
    "            htmlSentence = dictOfAltObjs[targetSentiment][0].getHTML();\n",
    "            displayText(\"{0} : {1}\".format(htmlSentence, targetSentiment))\n",
    "            \n",
    "        elif(textInput == 2 and numHigher < len(sentiments) and (mainIndex + 1) < len(sentiments)):\n",
    "            targetSentiment = sentiments[mainIndex + 1]\n",
    "            htmlSentence = dictOfAltObjs[targetSentiment][0].getHTML();\n",
    "            displayText(\"{0} : {1}\".format(htmlSentence, targetSentiment))\n",
    "            \n",
    "        else:\n",
    "            print(\"You entered an invalid option\")\n",
    "            interactionHelper(dictOfAltObjs, sentiments, thisSent, mainIndex)\n",
    "            return\n",
    "        \n",
    "    interactionHelper(dictOfAltObjs, sentiments, targetSentiment,mainIndex)\n",
    "\n",
    "\n",
    "\n",
    "def interactionWithUser(mainSentenceObj, dictOfAltObjs,sentiments, isUser=False):\n",
    "    if(isUser == False):\n",
    "        return\n",
    "    else:\n",
    "        mainSentence = mainSentenceObj.ogSentence;\n",
    "        mainSent = mainSentenceObj.ogSentiment;\n",
    "        if(VERBOSE_PRINTING):\n",
    "            print(\"The following are the sentiment values for the input\")\n",
    "            for ind,sent in enumerate(sentiments):\n",
    "                print(\"{0} - {1}\".format(ind+1,sent))\n",
    "        \n",
    "        interactionHelper(dictOfAltObjs, sentiments, mainSent) "
   ]
  },
  {
   "cell_type": "code",
   "execution_count": 29,
   "metadata": {
    "scrolled": false
   },
   "outputs": [
    {
     "name": "stdout",
     "output_type": "stream",
     "text": [
      "\n",
      "\n",
      " 2 Tweet: just registered as an  developer... heres hoping i can actually do it... any help greatly appreciated!:0.855\n",
      "\n",
      "Sentiment heavy words:  3/6\n",
      "--- More options (total: 60) possible ---\n"
     ]
    },
    {
     "data": {
      "text/html": [
       "<text style=color:black>Actual Sentence: just registered as an  developer... heres hoping i can actually do it... any help greatly appreciated! :0.855</text>"
      ],
      "text/plain": [
       "<IPython.core.display.HTML object>"
      ]
     },
     "metadata": {},
     "output_type": "display_data"
    },
    {
     "data": {
      "text/html": [
       "<text style=color:red>Worst Sentence: just registered as an developer ... heres <text style=color:blue>wishing</text> i can actually do it ... any <text style=color:blue>supporter</text> greatly <text style=color:blue>respected</text> ! : 0.7707</text>"
      ],
      "text/plain": [
       "<IPython.core.display.HTML object>"
      ]
     },
     "metadata": {},
     "output_type": "display_data"
    },
    {
     "data": {
      "text/html": [
       "<text style=color:green>Best Sentence: just registered as an developer ... heres <text style=color:blue>hoping</text> i can actually do it ... any <text style=color:blue>help</text> greatly <text style=color:blue>loved</text> ! : 0.8746</text>"
      ],
      "text/plain": [
       "<IPython.core.display.HTML object>"
      ]
     },
     "metadata": {},
     "output_type": "display_data"
    },
    {
     "name": "stdout",
     "output_type": "stream",
     "text": [
      "\n",
      "\n",
      " 3 Tweet: thought about changing my twitter profile to i am tall dark  single but do not think i could take the responses if any! lol. night folks.:0.6114\n",
      "\n",
      "Sentiment heavy words:  1/6\n",
      "--- More options (total: 3) possible ---\n"
     ]
    },
    {
     "data": {
      "text/html": [
       "<text style=color:black>Actual Sentence: thought about changing my twitter profile to i am tall dark  single but do not think i could take the responses if any! lol. night folks. :0.6114</text>"
      ],
      "text/plain": [
       "<IPython.core.display.HTML object>"
      ]
     },
     "metadata": {},
     "output_type": "display_data"
    },
    {
     "data": {
      "text/html": [
       "<text style=color:red>Worst Sentence: thought about changing my twitter profile to i am tall dark single but do not think i could take the responses if any ! <text style=color:blue>shit</text> . night folks . : -0.7345</text>"
      ],
      "text/plain": [
       "<IPython.core.display.HTML object>"
      ]
     },
     "metadata": {},
     "output_type": "display_data"
    },
    {
     "data": {
      "text/html": [
       "<text style=color:green>Best Sentence: thought about changing my twitter profile to i am tall dark single but do not think i could take the responses if any ! <text style=color:blue>lol</text> . night folks . : 0.6114</text>"
      ],
      "text/plain": [
       "<IPython.core.display.HTML object>"
      ]
     },
     "metadata": {},
     "output_type": "display_data"
    },
    {
     "name": "stdout",
     "output_type": "stream",
     "text": [
      "\n",
      "\n",
      " 4 Tweet: new galaxy nexus app improvements   inbuilt panoramic pictures nexus samsung google android bit.lynejbye:0.3182\n",
      "\n",
      "Sentiment heavy words:  1/6\n",
      " -- No new Strings generated ---\n",
      "\n",
      "\n",
      "\n",
      "\n",
      " 6 Tweet: technology 4 startup britain week attracting customers with seo and ppc  microsoft:0.4767\n",
      "\n",
      "Sentiment heavy words:  1/6\n",
      " -- No new Strings generated ---\n",
      "\n",
      "\n",
      "\n",
      "\n",
      " 7 Tweet: hide the women and children break out the guns google is going to encrypt your searches by default!  seo:-0.2481\n",
      "\n",
      "Sentiment heavy words:  1/6\n",
      "--- More options (total: 3) possible ---\n"
     ]
    },
    {
     "data": {
      "text/html": [
       "<text style=color:black>Actual Sentence: hide the women and children break out the guns google is going to encrypt your searches by default!  seo :-0.2481</text>"
      ],
      "text/plain": [
       "<IPython.core.display.HTML object>"
      ]
     },
     "metadata": {},
     "output_type": "display_data"
    },
    {
     "data": {
      "text/html": [
       "<text style=color:red>Worst Sentence: <text style=color:blue>steal</text> the women and children break out the guns google is going to encrypt your searches by default ! seo : -0.5411</text>"
      ],
      "text/plain": [
       "<IPython.core.display.HTML object>"
      ]
     },
     "metadata": {},
     "output_type": "display_data"
    },
    {
     "data": {
      "text/html": [
       "<text style=color:green>Best Sentence: <text style=color:blue>hide</text> the women and children break out the guns google is going to encrypt your searches by default ! seo : -0.2481</text>"
      ],
      "text/plain": [
       "<IPython.core.display.HTML object>"
      ]
     },
     "metadata": {},
     "output_type": "display_data"
    },
    {
     "name": "stdout",
     "output_type": "stream",
     "text": [
      "\n",
      "\n",
      " 8 Tweet: microsofts ballmer promises nokia windows phones next week slams android.   wp7 windowsphone:0.3818\n",
      "\n",
      "Sentiment heavy words:  1/6\n",
      "--- More options (total: 10) possible ---\n"
     ]
    },
    {
     "data": {
      "text/html": [
       "<text style=color:black>Actual Sentence: microsofts ballmer promises nokia windows phones next week slams android.   wp7 windowsphone :0.3818</text>"
      ],
      "text/plain": [
       "<IPython.core.display.HTML object>"
      ]
     },
     "metadata": {},
     "output_type": "display_data"
    },
    {
     "data": {
      "text/html": [
       "<text style=color:red>Worst Sentence: microsofts ballmer <text style=color:blue>promises</text> <text style=color:blue>nokia</text> windows phones next week slams android . wp7 windowsphone : 0.3818</text>"
      ],
      "text/plain": [
       "<IPython.core.display.HTML object>"
      ]
     },
     "metadata": {},
     "output_type": "display_data"
    },
    {
     "data": {
      "text/html": [
       "<text style=color:green>Best Sentence: microsofts ballmer <text style=color:blue>definitely</text> <text style=color:blue>hopes</text> nokia windows phones next week slams android . wp7 windowsphone : 0.6705</text>"
      ],
      "text/plain": [
       "<IPython.core.display.HTML object>"
      ]
     },
     "metadata": {},
     "output_type": "display_data"
    },
    {
     "name": "stdout",
     "output_type": "stream",
     "text": [
      "\n",
      "\n",
      " 10 Tweet: google has made search more secure this change encrypts your search queries and googles result pages.  read more :0.4005\n",
      "\n",
      "Sentiment heavy words:  1/6\n",
      "--- More options (total: 30) possible ---\n"
     ]
    },
    {
     "data": {
      "text/html": [
       "<text style=color:black>Actual Sentence: google has made search more secure this change encrypts your search queries and googles result pages.  read more  :0.4005</text>"
      ],
      "text/plain": [
       "<IPython.core.display.HTML object>"
      ]
     },
     "metadata": {},
     "output_type": "display_data"
    },
    {
     "data": {
      "text/html": [
       "<text style=color:red>Worst Sentence: google has made search more <text style=color:blue>secure</text> <text style=color:blue>this</text> change encrypts your search queries and googles result pages . read more : 0.4005</text>"
      ],
      "text/plain": [
       "<IPython.core.display.HTML object>"
      ]
     },
     "metadata": {},
     "output_type": "display_data"
    },
    {
     "data": {
      "text/html": [
       "<text style=color:green>Best Sentence: google has made search more <text style=color:blue>definitely</text> <text style=color:blue>strong</text> this change encrypts your search queries and googles result pages . read more : 0.763</text>"
      ],
      "text/plain": [
       "<IPython.core.display.HTML object>"
      ]
     },
     "metadata": {},
     "output_type": "display_data"
    },
    {
     "name": "stdout",
     "output_type": "stream",
     "text": [
      "\n",
      "\n",
      " 12 Tweet: microsoft freezes some xbox accounts after hack reports    via :-0.0258\n",
      "\n",
      "Sentiment heavy words:  1/6\n",
      "--- More options (total: 3) possible ---\n"
     ]
    },
    {
     "data": {
      "text/html": [
       "<text style=color:black>Actual Sentence: microsoft freezes some xbox accounts after hack reports    via  :-0.0258</text>"
      ],
      "text/plain": [
       "<IPython.core.display.HTML object>"
      ]
     },
     "metadata": {},
     "output_type": "display_data"
    },
    {
     "data": {
      "text/html": [
       "<text style=color:green>Best Sentence: microsoft <text style=color:blue>freezes</text> some xbox accounts after hack reports via : -0.0258</text>"
      ],
      "text/plain": [
       "<IPython.core.display.HTML object>"
      ]
     },
     "metadata": {},
     "output_type": "display_data"
    },
    {
     "name": "stdout",
     "output_type": "stream",
     "text": [
      "\n",
      "\n",
      " 13 Tweet: apparently fuzzball crashes on ios5. congratulations  on another incompatible upgrade:0.5994\n",
      "\n",
      "Sentiment heavy words:  1/6\n",
      "--- More options (total: 5) possible ---\n"
     ]
    },
    {
     "data": {
      "text/html": [
       "<text style=color:black>Actual Sentence: apparently fuzzball crashes on ios5. congratulations  on another incompatible upgrade :0.5994</text>"
      ],
      "text/plain": [
       "<IPython.core.display.HTML object>"
      ]
     },
     "metadata": {},
     "output_type": "display_data"
    },
    {
     "data": {
      "text/html": [
       "<text style=color:red>Worst Sentence: apparently fuzzball crashes on ios5 . <text style=color:blue>thanks</text> on another incompatible upgrade : 0.4404</text>"
      ],
      "text/plain": [
       "<IPython.core.display.HTML object>"
      ]
     },
     "metadata": {},
     "output_type": "display_data"
    },
    {
     "data": {
      "text/html": [
       "<text style=color:green>Best Sentence: apparently fuzzball crashes on ios5 . <text style=color:blue>congratulations</text> on another incompatible upgrade : 0.5994</text>"
      ],
      "text/plain": [
       "<IPython.core.display.HTML object>"
      ]
     },
     "metadata": {},
     "output_type": "display_data"
    },
    {
     "name": "stdout",
     "output_type": "stream",
     "text": [
      "\n",
      "\n",
      " 14 Tweet: olha o tamanho desse crãnio! xd google android:0.6239\n",
      "\n",
      "Sentiment heavy words:  1/6\n",
      " -- No new Strings generated ---\n",
      "\n",
      "\n",
      "\n",
      "\n",
      " 18 Tweet: 1*birthday* shoutout to 2 of my favorite people on twitter!!    happy birthday girls!:0.8213\n",
      "\n",
      "Sentiment heavy words:  2/6\n",
      "--- More options (total: 28) possible ---\n"
     ]
    },
    {
     "data": {
      "text/html": [
       "<text style=color:black>Actual Sentence: 1*birthday* shoutout to 2 of my favorite people on twitter!!    happy birthday girls! :0.8213</text>"
      ],
      "text/plain": [
       "<IPython.core.display.HTML object>"
      ]
     },
     "metadata": {},
     "output_type": "display_data"
    },
    {
     "data": {
      "text/html": [
       "<text style=color:red>Worst Sentence: 1birthday shoutout to 2 of my <text style=color:blue>favored</text> people on twitter ! ! <text style=color:blue>glad</text> birthday girls ! : 0.7701</text>"
      ],
      "text/plain": [
       "<IPython.core.display.HTML object>"
      ]
     },
     "metadata": {},
     "output_type": "display_data"
    },
    {
     "data": {
      "text/html": [
       "<text style=color:green>Best Sentence: 1birthday shoutout to 2 of my <text style=color:blue>awesome</text> people on twitter ! ! <text style=color:blue>happy</text> birthday girls ! : 0.865</text>"
      ],
      "text/plain": [
       "<IPython.core.display.HTML object>"
      ]
     },
     "metadata": {},
     "output_type": "display_data"
    },
    {
     "name": "stdout",
     "output_type": "stream",
     "text": [
      "\n",
      "\n",
      " 19 Tweet: microsoft dynamics nav is a cesspit. extreme consultingware. to be avoided...:0.2732\n",
      "\n",
      "Sentiment heavy words:  2/6\n",
      "--- More options (total: 5) possible ---\n"
     ]
    },
    {
     "data": {
      "text/html": [
       "<text style=color:black>Actual Sentence: microsoft dynamics nav is a cesspit. extreme consultingware. to be avoided... :0.2732</text>"
      ],
      "text/plain": [
       "<IPython.core.display.HTML object>"
      ]
     },
     "metadata": {},
     "output_type": "display_data"
    },
    {
     "data": {
      "text/html": [
       "<text style=color:red>Worst Sentence: microsoft dynamics nav is a cesspit . extreme consultingware . to be <text style=color:blue>blamed</text> ... : -0.25</text>"
      ],
      "text/plain": [
       "<IPython.core.display.HTML object>"
      ]
     },
     "metadata": {},
     "output_type": "display_data"
    },
    {
     "data": {
      "text/html": [
       "<text style=color:green>Best Sentence: microsoft dynamics nav is a cesspit . extreme consultingware . to be <text style=color:blue>prevented</text> ... : 0.296</text>"
      ],
      "text/plain": [
       "<IPython.core.display.HTML object>"
      ]
     },
     "metadata": {},
     "output_type": "display_data"
    },
    {
     "name": "stdout",
     "output_type": "stream",
     "text": [
      "\n",
      "\n",
      " 20 Tweet:  wstarr earlier  upstairs in the huge soho store and all of a sudden she sprung to attention... \":0.3182\n",
      "\n",
      "Sentiment heavy words:  1/6\n",
      "--- More options (total: 3) possible ---\n"
     ]
    },
    {
     "data": {
      "text/html": [
       "<text style=color:black>Actual Sentence:  wstarr earlier  upstairs in the huge soho store and all of a sudden she sprung to attention... \" :0.3182</text>"
      ],
      "text/plain": [
       "<IPython.core.display.HTML object>"
      ]
     },
     "metadata": {},
     "output_type": "display_data"
    },
    {
     "data": {
      "text/html": [
       "<text style=color:red>Worst Sentence: wstarr earlier upstairs in the <text style=color:blue>huge</text> soho store and all of a sudden she sprung to attention ... : 0.3182</text>"
      ],
      "text/plain": [
       "<IPython.core.display.HTML object>"
      ]
     },
     "metadata": {},
     "output_type": "display_data"
    },
    {
     "data": {
      "text/html": [
       "<text style=color:green>Best Sentence: wstarr earlier upstairs in the <text style=color:blue>great</text> soho store and all of a sudden she sprung to attention ... : 0.6249</text>"
      ],
      "text/plain": [
       "<IPython.core.display.HTML object>"
      ]
     },
     "metadata": {},
     "output_type": "display_data"
    },
    {
     "name": "stdout",
     "output_type": "stream",
     "text": [
      "\n",
      "\n",
      " 24 Tweet: dear   twitter fix your shit. we cant see our retweets or mentions!:-0.3164\n",
      "\n",
      "Sentiment heavy words:  2/6\n",
      "--- More options (total: 80) possible ---\n"
     ]
    },
    {
     "data": {
      "text/html": [
       "<text style=color:black>Actual Sentence: dear   twitter fix your shit. we cant see our retweets or mentions! :-0.3164</text>"
      ],
      "text/plain": [
       "<IPython.core.display.HTML object>"
      ]
     },
     "metadata": {},
     "output_type": "display_data"
    },
    {
     "data": {
      "text/html": [
       "<text style=color:red>Worst Sentence: costly <text style=color:blue>twitter</text> fix your hell <text style=color:blue>.</text> we cant see our retweets or mentions ! : -0.7424</text>"
      ],
      "text/plain": [
       "<IPython.core.display.HTML object>"
      ]
     },
     "metadata": {},
     "output_type": "display_data"
    },
    {
     "data": {
      "text/html": [
       "<text style=color:green>Best Sentence: dear <text style=color:blue>definitely</text> twitter fix your <text style=color:blue>smh</text> . we cant see our retweets or mentions ! : 0.5093</text>"
      ],
      "text/plain": [
       "<IPython.core.display.HTML object>"
      ]
     },
     "metadata": {},
     "output_type": "display_data"
    },
    {
     "name": "stdout",
     "output_type": "stream",
     "text": [
      "\n",
      "\n",
      " 27 Tweet: follow your interests twitter:0.25\n",
      "\n",
      "Sentiment heavy words:  1/6\n",
      "--- More options (total: 2) possible ---\n"
     ]
    },
    {
     "data": {
      "text/html": [
       "<text style=color:black>Actual Sentence: follow your interests twitter :0.25</text>"
      ],
      "text/plain": [
       "<IPython.core.display.HTML object>"
      ]
     },
     "metadata": {},
     "output_type": "display_data"
    },
    {
     "data": {
      "text/html": [
       "<text style=color:red>Worst Sentence: follow your <text style=color:blue>interests</text> twitter : 0.25</text>"
      ],
      "text/plain": [
       "<IPython.core.display.HTML object>"
      ]
     },
     "metadata": {},
     "output_type": "display_data"
    },
    {
     "data": {
      "text/html": [
       "<text style=color:green>Best Sentence: follow your <text style=color:blue>values</text> twitter : 0.4019</text>"
      ],
      "text/plain": [
       "<IPython.core.display.HTML object>"
      ]
     },
     "metadata": {},
     "output_type": "display_data"
    },
    {
     "name": "stdout",
     "output_type": "stream",
     "text": [
      "\n",
      "\n",
      " 29 Tweet: love ios5 easter eggs. pull down from middle top to bottom and see what pulls down. awesome little feature! ios5 :0.8858\n",
      "\n",
      "Sentiment heavy words:  3/6\n",
      "--- More options (total: 135) possible ---\n"
     ]
    },
    {
     "data": {
      "text/html": [
       "<text style=color:black>Actual Sentence: love ios5 easter eggs. pull down from middle top to bottom and see what pulls down. awesome little feature! ios5  :0.8858</text>"
      ],
      "text/plain": [
       "<IPython.core.display.HTML object>"
      ]
     },
     "metadata": {},
     "output_type": "display_data"
    },
    {
     "data": {
      "text/html": [
       "<text style=color:red>Worst Sentence: love ios5 easter eggs . pull down from middle <text style=color:blue>top</text> to bottom and see what pulls down . <text style=color:blue>completely</text> <text style=color:blue>awful</text> little feature ! ios5 : 0.4587</text>"
      ],
      "text/plain": [
       "<IPython.core.display.HTML object>"
      ]
     },
     "metadata": {},
     "output_type": "display_data"
    },
    {
     "data": {
      "text/html": [
       "<text style=color:green>Best Sentence: love ios5 easter eggs . pull down from middle <text style=color:blue>super</text> to bottom and see what pulls down . <text style=color:blue>definitely</text> <text style=color:blue>awesome</text> little feature ! ios5 : 0.945</text>"
      ],
      "text/plain": [
       "<IPython.core.display.HTML object>"
      ]
     },
     "metadata": {},
     "output_type": "display_data"
    },
    {
     "name": "stdout",
     "output_type": "stream",
     "text": [
      "\n",
      "\n",
      " 32 Tweet: love love love ios 5!! :0.9347\n",
      "\n",
      "FOUND REPEATED WORD love\n",
      "Sentiment heavy words:  2/6\n",
      "--- More options (total: 125) possible ---\n"
     ]
    },
    {
     "data": {
      "text/html": [
       "<text style=color:black>Actual Sentence: love love love ios 5!!  :0.9347</text>"
      ],
      "text/plain": [
       "<IPython.core.display.HTML object>"
      ]
     },
     "metadata": {},
     "output_type": "display_data"
    },
    {
     "data": {
      "text/html": [
       "<text style=color:red>Worst Sentence: love <text style=color:blue>completely</text> <text style=color:blue>screw</text> <text style=color:blue>screw</text> ios 5 ! ! : 0.5264</text>"
      ],
      "text/plain": [
       "<IPython.core.display.HTML object>"
      ]
     },
     "metadata": {},
     "output_type": "display_data"
    },
    {
     "data": {
      "text/html": [
       "<text style=color:green>Best Sentence: love <text style=color:blue>definitely</text> <text style=color:blue>love</text> <text style=color:blue>love</text> ios 5 ! ! : 0.9508</text>"
      ],
      "text/plain": [
       "<IPython.core.display.HTML object>"
      ]
     },
     "metadata": {},
     "output_type": "display_data"
    },
    {
     "name": "stdout",
     "output_type": "stream",
     "text": [
      "\n",
      "\n",
      " 33 Tweet: ud alguna vez ha llamado al servicio de  support se nota!! con razon le gusta apple  @:0.6892\n",
      "\n",
      "Sentiment heavy words:  2/6\n",
      "--- More options (total: 12) possible ---\n"
     ]
    },
    {
     "data": {
      "text/html": [
       "<text style=color:black>Actual Sentence: ud alguna vez ha llamado al servicio de  support se nota!! con razon le gusta apple  @ :0.6892</text>"
      ],
      "text/plain": [
       "<IPython.core.display.HTML object>"
      ]
     },
     "metadata": {},
     "output_type": "display_data"
    },
    {
     "data": {
      "text/html": [
       "<text style=color:red>Worst Sentence: ud alguna vez <text style=color:blue>ha</text> llamado al servicio de <text style=color:blue>livelihood</text> se nota ! ! con razon le gusta apple : 0.5837</text>"
      ],
      "text/plain": [
       "<IPython.core.display.HTML object>"
      ]
     },
     "metadata": {},
     "output_type": "display_data"
    },
    {
     "data": {
      "text/html": [
       "<text style=color:green>Best Sentence: ud alguna vez <text style=color:blue>lol</text> llamado al servicio de <text style=color:blue>support</text> se nota ! ! con razon le gusta apple : 0.7256</text>"
      ],
      "text/plain": [
       "<IPython.core.display.HTML object>"
      ]
     },
     "metadata": {},
     "output_type": "display_data"
    },
    {
     "name": "stdout",
     "output_type": "stream",
     "text": [
      "\n",
      "\n",
      " 34 Tweet: microsoft boxes up two new xbox 360 holiday bundles with the holiday season just around theâ¦ :0.6597\n",
      "\n",
      "Sentiment heavy words:  2/6\n",
      " -- No new Strings generated ---\n",
      "\n",
      "\n",
      "\n",
      "\n",
      " 39 Tweet: twitter scientists use twitter to track flu epidemics how to stay healthy this flu season rt this :-0.3612\n",
      "\n",
      "Sentiment heavy words:  3/6\n",
      "--- More options (total: 5) possible ---\n"
     ]
    },
    {
     "data": {
      "text/html": [
       "<text style=color:black>Actual Sentence: twitter scientists use twitter to track flu epidemics how to stay healthy this flu season rt this  :-0.3612</text>"
      ],
      "text/plain": [
       "<IPython.core.display.HTML object>"
      ]
     },
     "metadata": {},
     "output_type": "display_data"
    },
    {
     "data": {
      "text/html": [
       "<text style=color:red>Worst Sentence: twitter scientists use twitter to track flu epidemics how to stay <text style=color:blue>healthy</text> this flu season rt this : -0.3612</text>"
      ],
      "text/plain": [
       "<IPython.core.display.HTML object>"
      ]
     },
     "metadata": {},
     "output_type": "display_data"
    },
    {
     "data": {
      "text/html": [
       "<text style=color:green>Best Sentence: twitter scientists use twitter to track flu epidemics how to stay <text style=color:blue>delicious</text> this flu season rt this : -0.128</text>"
      ],
      "text/plain": [
       "<IPython.core.display.HTML object>"
      ]
     },
     "metadata": {},
     "output_type": "display_data"
    },
    {
     "name": "stdout",
     "output_type": "stream",
     "text": [
      "\n",
      "\n",
      " 40 Tweet: wendywilliams just said she was a woman bitch please stop lien on twitter and on nationaltv we all know your a man:-0.5719\n",
      "\n",
      "Sentiment heavy words:  3/6\n",
      "--- More options (total: 96) possible ---\n"
     ]
    },
    {
     "data": {
      "text/html": [
       "<text style=color:black>Actual Sentence: wendywilliams just said she was a woman bitch please stop lien on twitter and on nationaltv we all know your a man :-0.5719</text>"
      ],
      "text/plain": [
       "<IPython.core.display.HTML object>"
      ]
     },
     "metadata": {},
     "output_type": "display_data"
    },
    {
     "data": {
      "text/html": [
       "<text style=color:red>Worst Sentence: wendywilliams just said she was a woman <text style=color:blue>hell</text> <text style=color:blue>plz</text> <text style=color:blue>block</text> lien on twitter and on nationaltv we all know your a man : -0.802</text>"
      ],
      "text/plain": [
       "<IPython.core.display.HTML object>"
      ]
     },
     "metadata": {},
     "output_type": "display_data"
    },
    {
     "data": {
      "text/html": [
       "<text style=color:green>Best Sentence: wendywilliams just said she was a woman <text style=color:blue>lmao</text> <text style=color:blue>please</text> <text style=color:blue>stop</text> lien on twitter and on nationaltv we all know your a man : 0.6124</text>"
      ],
      "text/plain": [
       "<IPython.core.display.HTML object>"
      ]
     },
     "metadata": {},
     "output_type": "display_data"
    },
    {
     "name": "stdout",
     "output_type": "stream",
     "text": [
      "\n",
      "\n",
      " 41 Tweet:  colokei no google pra saber !:-0.3595\n",
      "\n",
      "Sentiment heavy words:  0/6\n",
      "--- More options (total: 3) possible ---\n"
     ]
    },
    {
     "data": {
      "text/html": [
       "<text style=color:black>Actual Sentence:  colokei no google pra saber ! :-0.3595</text>"
      ],
      "text/plain": [
       "<IPython.core.display.HTML object>"
      ]
     },
     "metadata": {},
     "output_type": "display_data"
    },
    {
     "data": {
      "text/html": [
       "<text style=color:red>Worst Sentence: colokei no google pra saber ! : -0.3595</text>"
      ],
      "text/plain": [
       "<IPython.core.display.HTML object>"
      ]
     },
     "metadata": {},
     "output_type": "display_data"
    },
    {
     "data": {
      "text/html": [
       "<text style=color:green>Best Sentence: colokei google pra saber ! : 0.0</text>"
      ],
      "text/plain": [
       "<IPython.core.display.HTML object>"
      ]
     },
     "metadata": {},
     "output_type": "display_data"
    },
    {
     "name": "stdout",
     "output_type": "stream",
     "text": [
      "\n",
      "\n",
      " 42 Tweet: dear invisible internassistant please go pick up my computer from the  hospital so i can upgrade to ios5. thanks!:0.7959\n",
      "\n",
      "Sentiment heavy words:  3/6\n",
      "--- More options (total: 84) possible ---\n"
     ]
    },
    {
     "data": {
      "text/html": [
       "<text style=color:black>Actual Sentence: dear invisible internassistant please go pick up my computer from the  hospital so i can upgrade to ios5. thanks! :0.7959</text>"
      ],
      "text/plain": [
       "<IPython.core.display.HTML object>"
      ]
     },
     "metadata": {},
     "output_type": "display_data"
    },
    {
     "data": {
      "text/html": [
       "<text style=color:red>Worst Sentence: <text style=color:blue>costly</text> invisible internassistant <text style=color:blue>plz</text> go pick up my computer from the hospital so i can upgrade to ios5 . <text style=color:blue>thanks</text> ! : 0.4753</text>"
      ],
      "text/plain": [
       "<IPython.core.display.HTML object>"
      ]
     },
     "metadata": {},
     "output_type": "display_data"
    },
    {
     "data": {
      "text/html": [
       "<text style=color:green>Best Sentence: <text style=color:blue>heartfelt</text> invisible internassistant <text style=color:blue>please</text> go pick up my computer from the hospital so i can upgrade to ios5 . <text style=color:blue>cheers</text> ! : 0.8478</text>"
      ],
      "text/plain": [
       "<IPython.core.display.HTML object>"
      ]
     },
     "metadata": {},
     "output_type": "display_data"
    },
    {
     "name": "stdout",
     "output_type": "stream",
     "text": [
      "\n",
      "\n",
      " 45 Tweet: a court in sydney banned the sale of  s galaxy tab in australia over intellectual property infringement claims by   ipwars:-0.4215\n",
      "\n",
      "Sentiment heavy words:  3/6\n",
      "--- More options (total: 240) possible ---\n"
     ]
    },
    {
     "data": {
      "text/html": [
       "<text style=color:black>Actual Sentence: a court in sydney banned the sale of  s galaxy tab in australia over intellectual property infringement claims by   ipwars :-0.4215</text>"
      ],
      "text/plain": [
       "<IPython.core.display.HTML object>"
      ]
     },
     "metadata": {},
     "output_type": "display_data"
    },
    {
     "data": {
      "text/html": [
       "<text style=color:red>Worst Sentence: a court in sydney <text style=color:blue>completely</text> <text style=color:blue>arrested</text> the sale of s galaxy tab in australia over <text style=color:blue>intelligent</text> property <text style=color:blue>violation</text> claims by ipwars : -0.5563</text>"
      ],
      "text/plain": [
       "<IPython.core.display.HTML object>"
      ]
     },
     "metadata": {},
     "output_type": "display_data"
    },
    {
     "data": {
      "text/html": [
       "<text style=color:green>Best Sentence: a court in sydney <text style=color:blue>definitely</text> <text style=color:blue>banned</text> the sale of s galaxy tab in australia over <text style=color:blue>intellectual</text> property <text style=color:blue>lawsuit</text> claims by ipwars : 0.2732</text>"
      ],
      "text/plain": [
       "<IPython.core.display.HTML object>"
      ]
     },
     "metadata": {},
     "output_type": "display_data"
    },
    {
     "name": "stdout",
     "output_type": "stream",
     "text": [
      "\n",
      "\n",
      " 46 Tweet: car is sweet sync is epicfail\":0.4588\n",
      "\n",
      "Sentiment heavy words:  1/6\n",
      "--- More options (total: 9) possible ---\n"
     ]
    },
    {
     "data": {
      "text/html": [
       "<text style=color:black>Actual Sentence: car is sweet sync is epicfail\" :0.4588</text>"
      ],
      "text/plain": [
       "<IPython.core.display.HTML object>"
      ]
     },
     "metadata": {},
     "output_type": "display_data"
    },
    {
     "data": {
      "text/html": [
       "<text style=color:red>Worst Sentence: car is <text style=color:blue>fresh</text> sync is epicfail : 0.3182</text>"
      ],
      "text/plain": [
       "<IPython.core.display.HTML object>"
      ]
     },
     "metadata": {},
     "output_type": "display_data"
    },
    {
     "data": {
      "text/html": [
       "<text style=color:green>Best Sentence: car is <text style=color:blue>awesome</text> sync is epicfail : 0.6249</text>"
      ],
      "text/plain": [
       "<IPython.core.display.HTML object>"
      ]
     },
     "metadata": {},
     "output_type": "display_data"
    },
    {
     "name": "stdout",
     "output_type": "stream",
     "text": [
      "\n",
      "\n",
      " 49 Tweet: dear twitter i fucking missed you today gtgt internet was down :0.0276\n",
      "\n",
      "Sentiment heavy words:  2/6\n",
      "--- More options (total: 21) possible ---\n"
     ]
    },
    {
     "data": {
      "text/html": [
       "<text style=color:black>Actual Sentence: dear twitter i fucking missed you today gtgt internet was down  :0.0276</text>"
      ],
      "text/plain": [
       "<IPython.core.display.HTML object>"
      ]
     },
     "metadata": {},
     "output_type": "display_data"
    },
    {
     "data": {
      "text/html": [
       "<text style=color:red>Worst Sentence: <text style=color:blue>costly</text> twitter i fucking <text style=color:blue>lost</text> you today gtgt internet was down : -0.4576</text>"
      ],
      "text/plain": [
       "<IPython.core.display.HTML object>"
      ]
     },
     "metadata": {},
     "output_type": "display_data"
    },
    {
     "data": {
      "text/html": [
       "<text style=color:green>Best Sentence: <text style=color:blue>heartfelt</text> twitter i fucking <text style=color:blue>missed</text> you today gtgt internet was down : 0.2516</text>"
      ],
      "text/plain": [
       "<IPython.core.display.HTML object>"
      ]
     },
     "metadata": {},
     "output_type": "display_data"
    },
    {
     "name": "stdout",
     "output_type": "stream",
     "text": [
      "\n",
      "\n",
      " 50 Tweet:  apple stock down despite iphone monumental sales  ocuupy google  verizoni smell a conspiracy!:-0.5707\n",
      "\n",
      "Sentiment heavy words:  1/6\n",
      "--- More options (total: 5) possible ---\n"
     ]
    },
    {
     "data": {
      "text/html": [
       "<text style=color:black>Actual Sentence:  apple stock down despite iphone monumental sales  ocuupy google  verizoni smell a conspiracy! :-0.5707</text>"
      ],
      "text/plain": [
       "<IPython.core.display.HTML object>"
      ]
     },
     "metadata": {},
     "output_type": "display_data"
    },
    {
     "data": {
      "text/html": [
       "<text style=color:red>Worst Sentence: apple stock down despite iphone monumental sales ocuupy google verizoni smell a <text style=color:blue>terrorist</text> ! : -0.7177</text>"
      ],
      "text/plain": [
       "<IPython.core.display.HTML object>"
      ]
     },
     "metadata": {},
     "output_type": "display_data"
    },
    {
     "data": {
      "text/html": [
       "<text style=color:green>Best Sentence: apple stock down despite iphone monumental sales ocuupy google verizoni smell a <text style=color:blue>conspiracy</text> ! : -0.5707</text>"
      ],
      "text/plain": [
       "<IPython.core.display.HTML object>"
      ]
     },
     "metadata": {},
     "output_type": "display_data"
    },
    {
     "name": "stdout",
     "output_type": "stream",
     "text": [
      "\n",
      "\n",
      " 54 Tweet:  can you look at problem on ipad where it will not open @ messages. it just crashes the app. you too  maybe your fault.:-0.6597\n",
      "\n",
      "Sentiment heavy words:  2/6\n",
      "--- More options (total: 40) possible ---\n"
     ]
    },
    {
     "data": {
      "text/html": [
       "<text style=color:black>Actual Sentence:  can you look at problem on ipad where it will not open @ messages. it just crashes the app. you too  maybe your fault. :-0.6597</text>"
      ],
      "text/plain": [
       "<IPython.core.display.HTML object>"
      ]
     },
     "metadata": {},
     "output_type": "display_data"
    },
    {
     "data": {
      "text/html": [
       "<text style=color:red>Worst Sentence: can you look at <text style=color:blue>wrong</text> on ipad where it will not open messages . it just crashes the app . you too maybe your <text style=color:blue>dumbass</text> . : -0.7717</text>"
      ],
      "text/plain": [
       "<IPython.core.display.HTML object>"
      ]
     },
     "metadata": {},
     "output_type": "display_data"
    },
    {
     "data": {
      "text/html": [
       "<text style=color:green>Best Sentence: can you look at <text style=color:blue>problem</text> on ipad where it will not open messages . it just crashes the app . you too maybe your <text style=color:blue>defect</text> . : -0.6249</text>"
      ],
      "text/plain": [
       "<IPython.core.display.HTML object>"
      ]
     },
     "metadata": {},
     "output_type": "display_data"
    },
    {
     "name": "stdout",
     "output_type": "stream",
     "text": [
      "\n",
      "\n",
      " 55 Tweet: in my opinion .... bullshit .\":-0.5859\n",
      "\n",
      "Sentiment heavy words:  1/6\n",
      " -- No new Strings generated ---\n",
      "\n",
      "\n",
      "\n",
      "\n",
      " 56 Tweet: deus ajuda quem no twitter madruga haha:0.2023\n",
      "\n",
      "Sentiment heavy words:  1/6\n",
      "--- More options (total: 3) possible ---\n"
     ]
    },
    {
     "data": {
      "text/html": [
       "<text style=color:black>Actual Sentence: deus ajuda quem no twitter madruga haha :0.2023</text>"
      ],
      "text/plain": [
       "<IPython.core.display.HTML object>"
      ]
     },
     "metadata": {},
     "output_type": "display_data"
    },
    {
     "data": {
      "text/html": [
       "<text style=color:red>Worst Sentence: deus ajuda quem no twitter madruga haha : 0.2023</text>"
      ],
      "text/plain": [
       "<IPython.core.display.HTML object>"
      ]
     },
     "metadata": {},
     "output_type": "display_data"
    },
    {
     "data": {
      "text/html": [
       "<text style=color:green>Best Sentence: deus ajuda quem twitter madruga haha : 0.4588</text>"
      ],
      "text/plain": [
       "<IPython.core.display.HTML object>"
      ]
     },
     "metadata": {},
     "output_type": "display_data"
    },
    {
     "name": "stdout",
     "output_type": "stream",
     "text": [
      "\n",
      "\n",
      " 58 Tweet: 1 rt  dear google  samsung... learn some presentation 101 first. please.:0.5994\n",
      "\n",
      "Sentiment heavy words:  2/6\n",
      "--- More options (total: 140) possible ---\n"
     ]
    },
    {
     "data": {
      "text/html": [
       "<text style=color:black>Actual Sentence: 1 rt  dear google  samsung... learn some presentation 101 first. please. :0.5994</text>"
      ],
      "text/plain": [
       "<IPython.core.display.HTML object>"
      ]
     },
     "metadata": {},
     "output_type": "display_data"
    },
    {
     "data": {
      "text/html": [
       "<text style=color:red>Worst Sentence: 1 rt <text style=color:blue>completely</text> <text style=color:blue>costly</text> google samsung ... learn some presentation 101 first . <text style=color:blue>plz</text> . : -0.101</text>"
      ],
      "text/plain": [
       "<IPython.core.display.HTML object>"
      ]
     },
     "metadata": {},
     "output_type": "display_data"
    },
    {
     "data": {
      "text/html": [
       "<text style=color:green>Best Sentence: 1 rt <text style=color:blue>definitely</text> <text style=color:blue>heartfelt</text> google samsung ... learn some presentation 101 first . <text style=color:blue>please</text> . : 0.8176</text>"
      ],
      "text/plain": [
       "<IPython.core.display.HTML object>"
      ]
     },
     "metadata": {},
     "output_type": "display_data"
    },
    {
     "name": "stdout",
     "output_type": "stream",
     "text": [
      "\n",
      "\n",
      " 59 Tweet: impressive service  genius bar metro centre. power cable replaced free n booked in for screen replacement for free  d:0.872\n",
      "\n",
      "FOUND REPEATED WORD free\n",
      "Sentiment heavy words:  2/6\n",
      "--- More options (total: 2880) possible ---\n"
     ]
    },
    {
     "data": {
      "text/html": [
       "<text style=color:black>Actual Sentence: impressive service  genius bar metro centre. power cable replaced free n booked in for screen replacement for free  d :0.872</text>"
      ],
      "text/plain": [
       "<IPython.core.display.HTML object>"
      ]
     },
     "metadata": {},
     "output_type": "display_data"
    },
    {
     "data": {
      "text/html": [
       "<text style=color:red>Worst Sentence: <text style=color:blue>unbelievable</text> service genius bar metro centre . power cable replaced <text style=color:blue>loose</text> n booked in for screen replacement for <text style=color:blue>completely</text> <text style=color:blue>resign</text> d : -0.4927</text>"
      ],
      "text/plain": [
       "<IPython.core.display.HTML object>"
      ]
     },
     "metadata": {},
     "output_type": "display_data"
    },
    {
     "data": {
      "text/html": [
       "<text style=color:green>Best Sentence: <text style=color:blue>outstanding</text> service genius bar metro centre . power cable replaced <text style=color:blue>free</text> n booked in for screen replacement for <text style=color:blue>definitely</text> <text style=color:blue>free</text> d : 0.9231</text>"
      ],
      "text/plain": [
       "<IPython.core.display.HTML object>"
      ]
     },
     "metadata": {},
     "output_type": "display_data"
    },
    {
     "name": "stdout",
     "output_type": "stream",
     "text": [
      "\n",
      "\n",
      " 60 Tweet: this coming from a guy who is microsoft pc mug pen everything rt   both fail phones.windows phone 7 to the rescue:-0.0516\n",
      "\n",
      "Sentiment heavy words:  2/6\n",
      "--- More options (total: 4) possible ---\n"
     ]
    },
    {
     "data": {
      "text/html": [
       "<text style=color:black>Actual Sentence: this coming from a guy who is microsoft pc mug pen everything rt   both fail phones.windows phone 7 to the rescue :-0.0516</text>"
      ],
      "text/plain": [
       "<IPython.core.display.HTML object>"
      ]
     },
     "metadata": {},
     "output_type": "display_data"
    },
    {
     "data": {
      "text/html": [
       "<text style=color:red>Worst Sentence: this coming from a guy who is microsoft pc mug pen everything rt both fail phones.windows phone 7 to the <text style=color:blue>emergency</text> : -0.7269</text>"
      ],
      "text/plain": [
       "<IPython.core.display.HTML object>"
      ]
     },
     "metadata": {},
     "output_type": "display_data"
    },
    {
     "data": {
      "text/html": [
       "<text style=color:green>Best Sentence: this coming from a guy who is microsoft pc mug pen everything rt both fail phones.windows phone 7 to the <text style=color:blue>rescue</text> : -0.0516</text>"
      ],
      "text/plain": [
       "<IPython.core.display.HTML object>"
      ]
     },
     "metadata": {},
     "output_type": "display_data"
    },
    {
     "name": "stdout",
     "output_type": "stream",
     "text": [
      "\n",
      "\n",
      " 61 Tweet: senews  ballmer on not buying yahoo sometimes you are lucky microsoft yahoo  :0.4215\n",
      "\n",
      "Sentiment heavy words:  1/6\n",
      "--- More options (total: 20) possible ---\n"
     ]
    },
    {
     "data": {
      "text/html": [
       "<text style=color:black>Actual Sentence: senews  ballmer on not buying yahoo sometimes you are lucky microsoft yahoo   :0.4215</text>"
      ],
      "text/plain": [
       "<IPython.core.display.HTML object>"
      ]
     },
     "metadata": {},
     "output_type": "display_data"
    },
    {
     "data": {
      "text/html": [
       "<text style=color:red>Worst Sentence: senews ballmer on not buying yahoo sometimes you are <text style=color:blue>lucky</text> <text style=color:blue>microsoft</text> yahoo : 0.4215</text>"
      ],
      "text/plain": [
       "<IPython.core.display.HTML object>"
      ]
     },
     "metadata": {},
     "output_type": "display_data"
    },
    {
     "data": {
      "text/html": [
       "<text style=color:green>Best Sentence: senews ballmer on not buying yahoo sometimes you are <text style=color:blue>definitely</text> <text style=color:blue>favorable</text> microsoft yahoo : 0.7003</text>"
      ],
      "text/plain": [
       "<IPython.core.display.HTML object>"
      ]
     },
     "metadata": {},
     "output_type": "display_data"
    },
    {
     "name": "stdout",
     "output_type": "stream",
     "text": [
      "\n",
      "\n",
      " 63 Tweet:  â¿viste que ya html5.com no es de apple sino de microsoft:-0.296\n",
      "\n",
      "Sentiment heavy words:  0/6\n",
      "--- More options (total: 3) possible ---\n"
     ]
    },
    {
     "data": {
      "text/html": [
       "<text style=color:black>Actual Sentence:  â¿viste que ya html5.com no es de apple sino de microsoft :-0.296</text>"
      ],
      "text/plain": [
       "<IPython.core.display.HTML object>"
      ]
     },
     "metadata": {},
     "output_type": "display_data"
    },
    {
     "data": {
      "text/html": [
       "<text style=color:red>Worst Sentence: â¿viste que ya html5.com no es de apple sino de microsoft : -0.296</text>"
      ],
      "text/plain": [
       "<IPython.core.display.HTML object>"
      ]
     },
     "metadata": {},
     "output_type": "display_data"
    },
    {
     "data": {
      "text/html": [
       "<text style=color:green>Best Sentence: â¿viste que ya html5.com es de apple sino de microsoft : 0.0</text>"
      ],
      "text/plain": [
       "<IPython.core.display.HTML object>"
      ]
     },
     "metadata": {},
     "output_type": "display_data"
    },
    {
     "name": "stdout",
     "output_type": "stream",
     "text": [
      "\n",
      "\n",
      " 72 Tweet: thanks  now even more people on the bus are talking to inanimate objects. harder than ever to tell whos crazy and whos hip.:0.128\n",
      "\n",
      "Sentiment heavy words:  2/6\n",
      "--- More options (total: 27) possible ---\n"
     ]
    },
    {
     "data": {
      "text/html": [
       "<text style=color:black>Actual Sentence: thanks  now even more people on the bus are talking to inanimate objects. harder than ever to tell whos crazy and whos hip. :0.128</text>"
      ],
      "text/plain": [
       "<IPython.core.display.HTML object>"
      ]
     },
     "metadata": {},
     "output_type": "display_data"
    },
    {
     "data": {
      "text/html": [
       "<text style=color:red>Worst Sentence: <text style=color:blue>thanks</text> now even more people on the bus are talking to inanimate objects . harder than ever to tell whos <text style=color:blue>shit</text> and whos hip . : -0.1779</text>"
      ],
      "text/plain": [
       "<IPython.core.display.HTML object>"
      ]
     },
     "metadata": {},
     "output_type": "display_data"
    },
    {
     "data": {
      "text/html": [
       "<text style=color:green>Best Sentence: <text style=color:blue>cheers</text> now even more people on the bus are talking to inanimate objects . harder than ever to tell whos <text style=color:blue>funny</text> and whos hip . : 0.7184</text>"
      ],
      "text/plain": [
       "<IPython.core.display.HTML object>"
      ]
     },
     "metadata": {},
     "output_type": "display_data"
    },
    {
     "name": "stdout",
     "output_type": "stream",
     "text": [
      "\n",
      "\n",
      " 76 Tweet: twitter be making my ass stay up later than planed:-0.5423\n",
      "\n",
      "Sentiment heavy words:  1/6\n",
      "--- More options (total: 7) possible ---\n"
     ]
    },
    {
     "data": {
      "text/html": [
       "<text style=color:black>Actual Sentence: twitter be making my ass stay up later than planed :-0.5423</text>"
      ],
      "text/plain": [
       "<IPython.core.display.HTML object>"
      ]
     },
     "metadata": {},
     "output_type": "display_data"
    },
    {
     "data": {
      "text/html": [
       "<text style=color:red>Worst Sentence: twitter be making my <text style=color:blue>shit</text> stay up later than planed : -0.5574</text>"
      ],
      "text/plain": [
       "<IPython.core.display.HTML object>"
      ]
     },
     "metadata": {},
     "output_type": "display_data"
    },
    {
     "data": {
      "text/html": [
       "<text style=color:green>Best Sentence: twitter be making my <text style=color:blue>screw</text> stay up later than planed : -0.1027</text>"
      ],
      "text/plain": [
       "<IPython.core.display.HTML object>"
      ]
     },
     "metadata": {},
     "output_type": "display_data"
    },
    {
     "name": "stdout",
     "output_type": "stream",
     "text": [
      "\n",
      "\n",
      " 78 Tweet: i am nowhere near to be a scientst but thks to steve balmer 4 declarng me a scientst. been using android frm last 3yrs. microsoft google:0.4767\n",
      "\n",
      "Sentiment heavy words:  1/6\n",
      " -- No new Strings generated ---\n",
      "\n",
      "\n",
      "\n",
      "\n",
      " 83 Tweet:    apple sells 4 million iphone 4s units in first weekend ... steve jobs brilliance lives on for ever! iphone rva:0.636\n",
      "\n",
      "Sentiment heavy words:  1/6\n",
      "--- More options (total: 6) possible ---\n"
     ]
    },
    {
     "data": {
      "text/html": [
       "<text style=color:black>Actual Sentence:    apple sells 4 million iphone 4s units in first weekend ... steve jobs brilliance lives on for ever! iphone rva :0.636</text>"
      ],
      "text/plain": [
       "<IPython.core.display.HTML object>"
      ]
     },
     "metadata": {},
     "output_type": "display_data"
    },
    {
     "data": {
      "text/html": [
       "<text style=color:red>Worst Sentence: apple sells 4 million iphone 4s units in first weekend ... steve jobs <text style=color:blue>trickery</text> lives on for ever ! iphone rva : -0.3382</text>"
      ],
      "text/plain": [
       "<IPython.core.display.HTML object>"
      ]
     },
     "metadata": {},
     "output_type": "display_data"
    },
    {
     "data": {
      "text/html": [
       "<text style=color:green>Best Sentence: apple sells 4 million iphone 4s units in first weekend ... steve jobs <text style=color:blue>brilliance</text> lives on for ever ! iphone rva : 0.636</text>"
      ],
      "text/plain": [
       "<IPython.core.display.HTML object>"
      ]
     },
     "metadata": {},
     "output_type": "display_data"
    },
    {
     "name": "stdout",
     "output_type": "stream",
     "text": [
      "\n",
      "\n",
      " 92 Tweet: macbook pros constrained new models appear in appleâs inventory system   :-0.1027\n",
      "\n",
      "Sentiment heavy words:  1/6\n",
      "--- More options (total: 5) possible ---\n"
     ]
    },
    {
     "data": {
      "text/html": [
       "<text style=color:black>Actual Sentence: macbook pros constrained new models appear in appleâs inventory system    :-0.1027</text>"
      ],
      "text/plain": [
       "<IPython.core.display.HTML object>"
      ]
     },
     "metadata": {},
     "output_type": "display_data"
    },
    {
     "data": {
      "text/html": [
       "<text style=color:red>Worst Sentence: macbook pros <text style=color:blue>strained</text> new models appear in appleâs inventory system : -0.4019</text>"
      ],
      "text/plain": [
       "<IPython.core.display.HTML object>"
      ]
     },
     "metadata": {},
     "output_type": "display_data"
    },
    {
     "data": {
      "text/html": [
       "<text style=color:green>Best Sentence: macbook pros <text style=color:blue>constrained</text> new models appear in appleâs inventory system : -0.1027</text>"
      ],
      "text/plain": [
       "<IPython.core.display.HTML object>"
      ]
     },
     "metadata": {},
     "output_type": "display_data"
    },
    {
     "name": "stdout",
     "output_type": "stream",
     "text": [
      "\n",
      "\n",
      " 95 Tweet: un nouvel accord signã© entre quanta computer et microsoft\n",
      "sistema de fotos panorã¢micas na camera do icecream sandwich icecreamsandwich galaxynexus google samsung\n",
      "   overwhelmed by reaction to  founders death  telegraph \n",
      "kind of excited. on my way to my last class right now and then going to the  store so buy macosc snow leopard and lion \n",
      "yoconfieso que llevo 2 dias fuera de twitter y mi vida no ha sido la misma. los extranã© î\n",
      "for being the inventor of the computer mouse â why is it that  has never made one that is not a complete piece of fucking shit!!\n",
      "tecnologia technology la visiã³n de microsoft research sobre el control tã¡ctil de dispositivos:-0.7827\n",
      "\n",
      "Sentiment heavy words:  6/6\n",
      "--- More options (total: 314928) possible ---\n"
     ]
    },
    {
     "data": {
      "text/html": [
       "<text style=color:black>Actual Sentence: un nouvel accord signã© entre quanta computer et microsoft\n",
       "sistema de fotos panorã¢micas na camera do icecream sandwich icecreamsandwich galaxynexus google samsung\n",
       "   overwhelmed by reaction to  founders death  telegraph \n",
       "kind of excited. on my way to my last class right now and then going to the  store so buy macosc snow leopard and lion \n",
       "yoconfieso que llevo 2 dias fuera de twitter y mi vida no ha sido la misma. los extranã© î\n",
       "for being the inventor of the computer mouse â why is it that  has never made one that is not a complete piece of fucking shit!!\n",
       "tecnologia technology la visiã³n de microsoft research sobre el control tã¡ctil de dispositivos :-0.7827</text>"
      ],
      "text/plain": [
       "<IPython.core.display.HTML object>"
      ]
     },
     "metadata": {},
     "output_type": "display_data"
    },
    {
     "data": {
      "text/html": [
       "<text style=color:red>Worst Sentence: un nouvel accord signã© entre quanta computer et microsoft sistema de fotos panorã¢micas na camera do icecream sandwich icecreamsandwich galaxynexus google samsung <text style=color:blue>frustrated</text> by reaction to founders <text style=color:blue>murder</text> telegraph weird <text style=color:blue>of</text> agitate <text style=color:blue>.</text> on my way to my last class right now and then going to the store so buy macosc snow leopard and lion yoconfieso que llevo 2 dias fuera de twitter y mi vida no ha <text style=color:blue>sido</text> la misma . los extranã© î for being the inventor of the computer mouse â why is it that has never made one that is not a complete piece of fucking hell <text style=color:blue>!</text> ! tecnologia technology la visiã³n de microsoft research sobre el control tã¡ctil de dispositivos : -0.957</text>"
      ],
      "text/plain": [
       "<IPython.core.display.HTML object>"
      ]
     },
     "metadata": {},
     "output_type": "display_data"
    },
    {
     "data": {
      "text/html": [
       "<text style=color:green>Best Sentence: un nouvel accord signã© entre quanta computer et microsoft sistema de fotos panorã¢micas na camera do icecream sandwich icecreamsandwich galaxynexus google samsung <text style=color:blue>ecstatic</text> by reaction to founders <text style=color:blue>victim</text> telegraph kind <text style=color:blue>definitely</text> of <text style=color:blue>exciting</text> . on my way to my last class right now and then going to the store so buy macosc snow leopard and lion yoconfieso que llevo 2 dias fuera de twitter y mi vida <text style=color:blue>lol</text> sido la misma . los extranã© î for being the inventor of the computer mouse â why is it that has never made one that is not a complete piece of fucking <text style=color:blue>like</text> ! ! tecnologia technology la visiã³n de microsoft research sobre el control tã¡ctil de dispositivos : 0.9492</text>"
      ],
      "text/plain": [
       "<IPython.core.display.HTML object>"
      ]
     },
     "metadata": {},
     "output_type": "display_data"
    },
    {
     "name": "stdout",
     "output_type": "stream",
     "text": [
      "\n",
      "\n",
      " 96 Tweet: twitter thank you.read those great tweets.helps live better!  bows.:0.8687\n",
      "\n",
      "Sentiment heavy words:  3/6\n",
      "--- More options (total: 180) possible ---\n"
     ]
    },
    {
     "data": {
      "text/html": [
       "<text style=color:black>Actual Sentence: twitter thank you.read those great tweets.helps live better!  bows. :0.8687</text>"
      ],
      "text/plain": [
       "<IPython.core.display.HTML object>"
      ]
     },
     "metadata": {},
     "output_type": "display_data"
    },
    {
     "data": {
      "text/html": [
       "<text style=color:red>Worst Sentence: twitter <text style=color:blue>thank</text> <text style=color:blue>you.read</text> those nifty <text style=color:blue>tweets.helps</text> live better ! bows . : 0.8122</text>"
      ],
      "text/plain": [
       "<IPython.core.display.HTML object>"
      ]
     },
     "metadata": {},
     "output_type": "display_data"
    },
    {
     "data": {
      "text/html": [
       "<text style=color:green>Best Sentence: twitter <text style=color:blue>definitely</text> <text style=color:blue>welcome</text> you.read those <text style=color:blue>great</text> tweets.helps live better ! bows . : 0.9184</text>"
      ],
      "text/plain": [
       "<IPython.core.display.HTML object>"
      ]
     },
     "metadata": {},
     "output_type": "display_data"
    },
    {
     "name": "stdout",
     "output_type": "stream",
     "text": [
      "\n",
      "\n",
      " 97 Tweet: what no one more thing!  samsung google nexus:-0.3595\n",
      "\n",
      "Sentiment heavy words:  0/6\n",
      "--- More options (total: 3) possible ---\n"
     ]
    },
    {
     "data": {
      "text/html": [
       "<text style=color:black>Actual Sentence: what no one more thing!  samsung google nexus :-0.3595</text>"
      ],
      "text/plain": [
       "<IPython.core.display.HTML object>"
      ]
     },
     "metadata": {},
     "output_type": "display_data"
    },
    {
     "data": {
      "text/html": [
       "<text style=color:red>Worst Sentence: what no one more thing ! samsung google nexus : -0.3595</text>"
      ],
      "text/plain": [
       "<IPython.core.display.HTML object>"
      ]
     },
     "metadata": {},
     "output_type": "display_data"
    },
    {
     "data": {
      "text/html": [
       "<text style=color:green>Best Sentence: what one more thing ! samsung google nexus : 0.0</text>"
      ],
      "text/plain": [
       "<IPython.core.display.HTML object>"
      ]
     },
     "metadata": {},
     "output_type": "display_data"
    },
    {
     "name": "stdout",
     "output_type": "stream",
     "text": [
      "\n",
      "\n",
      " 100 Tweet:  multiple times siri is having trouble connecting to the network.  siri needs servers and some exercise!:-0.4574\n",
      "\n",
      "Sentiment heavy words:  1/6\n",
      "--- More options (total: 9) possible ---\n"
     ]
    },
    {
     "data": {
      "text/html": [
       "<text style=color:black>Actual Sentence:  multiple times siri is having trouble connecting to the network.  siri needs servers and some exercise! :-0.4574</text>"
      ],
      "text/plain": [
       "<IPython.core.display.HTML object>"
      ]
     },
     "metadata": {},
     "output_type": "display_data"
    },
    {
     "data": {
      "text/html": [
       "<text style=color:red>Worst Sentence: multiple times siri is having <text style=color:blue>pain</text> connecting to the network . siri needs servers and some exercise ! : -0.5562</text>"
      ],
      "text/plain": [
       "<IPython.core.display.HTML object>"
      ]
     },
     "metadata": {},
     "output_type": "display_data"
    },
    {
     "data": {
      "text/html": [
       "<text style=color:green>Best Sentence: multiple times siri is having <text style=color:blue>distract</text> connecting to the network . siri needs servers and some exercise ! : -0.3595</text>"
      ],
      "text/plain": [
       "<IPython.core.display.HTML object>"
      ]
     },
     "metadata": {},
     "output_type": "display_data"
    },
    {
     "name": "stdout",
     "output_type": "stream",
     "text": [
      "\n",
      "\n",
      " 101 Tweet: mofucka i dont give a fuck it its facebook or twitter i express my self how ever da fuck i can..so go suck a dick u bitch.! haha:0.4199\n",
      "\n",
      "FOUND REPEATED WORD fuck\n",
      " --- bitch. not in vocabulary ---\n",
      "No replacements found at all for word bitch.\n",
      "Sentiment heavy words:  5/6\n",
      "--- More options (total: 9720) possible ---\n"
     ]
    },
    {
     "data": {
      "text/html": [
       "<text style=color:black>Actual Sentence: mofucka i dont give a fuck it its facebook or twitter i express my self how ever da fuck i can..so go suck a dick u bitch.! haha :0.4199</text>"
      ],
      "text/plain": [
       "<IPython.core.display.HTML object>"
      ]
     },
     "metadata": {},
     "output_type": "display_data"
    },
    {
     "data": {
      "text/html": [
       "<text style=color:red>Worst Sentence: mofucka i dont give a <text style=color:blue>like</text> it its facebook or twitter i express my self how ever da <text style=color:blue>hell</text> i can..so go <text style=color:blue>hell</text> a ass <text style=color:blue>u</text> bitch. ! <text style=color:blue>haha</text> : -0.9509</text>"
      ],
      "text/plain": [
       "<IPython.core.display.HTML object>"
      ]
     },
     "metadata": {},
     "output_type": "display_data"
    },
    {
     "data": {
      "text/html": [
       "<text style=color:green>Best Sentence: mofucka i dont give a <text style=color:blue>hell</text> it its facebook or twitter i express my self how ever da <text style=color:blue>hell</text> i can..so go <text style=color:blue>hell</text> a cock <text style=color:blue>u</text> bitch. ! <text style=color:blue>hahaha</text> : 0.8881</text>"
      ],
      "text/plain": [
       "<IPython.core.display.HTML object>"
      ]
     },
     "metadata": {},
     "output_type": "display_data"
    },
    {
     "name": "stdout",
     "output_type": "stream",
     "text": [
      "\n",
      "\n",
      " 103 Tweet: i cnt get over that shit lol hell naw twitter:-0.7506\n",
      "\n",
      "Sentiment heavy words:  3/6\n",
      "--- More options (total: 16) possible ---\n"
     ]
    },
    {
     "data": {
      "text/html": [
       "<text style=color:black>Actual Sentence: i cnt get over that shit lol hell naw twitter :-0.7506</text>"
      ],
      "text/plain": [
       "<IPython.core.display.HTML object>"
      ]
     },
     "metadata": {},
     "output_type": "display_data"
    },
    {
     "data": {
      "text/html": [
       "<text style=color:red>Worst Sentence: i cnt get over that <text style=color:blue>hell</text> <text style=color:blue>yeah</text> hell naw twitter : -0.8402</text>"
      ],
      "text/plain": [
       "<IPython.core.display.HTML object>"
      ]
     },
     "metadata": {},
     "output_type": "display_data"
    },
    {
     "data": {
      "text/html": [
       "<text style=color:green>Best Sentence: i cnt get over that <text style=color:blue>smh</text> <text style=color:blue>lol</text> hell naw twitter : -0.6249</text>"
      ],
      "text/plain": [
       "<IPython.core.display.HTML object>"
      ]
     },
     "metadata": {},
     "output_type": "display_data"
    },
    {
     "name": "stdout",
     "output_type": "stream",
     "text": [
      "\n",
      "\n",
      " 104 Tweet:  cards app notifies me the card i sent has arrived at local post office and should be delivered today... sunday. truly is magic.:0.4404\n",
      "\n",
      "Sentiment heavy words:  1/6\n",
      "--- More options (total: 5) possible ---\n"
     ]
    },
    {
     "data": {
      "text/html": [
       "<text style=color:black>Actual Sentence:  cards app notifies me the card i sent has arrived at local post office and should be delivered today... sunday. truly is magic. :0.4404</text>"
      ],
      "text/plain": [
       "<IPython.core.display.HTML object>"
      ]
     },
     "metadata": {},
     "output_type": "display_data"
    },
    {
     "data": {
      "text/html": [
       "<text style=color:red>Worst Sentence: cards app notifies me the card i sent has arrived at local post office and should be delivered today ... sunday . <text style=color:blue>certainly</text> is magic . : 0.34</text>"
      ],
      "text/plain": [
       "<IPython.core.display.HTML object>"
      ]
     },
     "metadata": {},
     "output_type": "display_data"
    },
    {
     "data": {
      "text/html": [
       "<text style=color:green>Best Sentence: cards app notifies me the card i sent has arrived at local post office and should be delivered today ... sunday . <text style=color:blue>sincerely</text> is magic . : 0.4767</text>"
      ],
      "text/plain": [
       "<IPython.core.display.HTML object>"
      ]
     },
     "metadata": {},
     "output_type": "display_data"
    },
    {
     "name": "stdout",
     "output_type": "stream",
     "text": [
      "\n",
      "\n",
      " 110 Tweet: nette fã¼hrung durch die neuen microsoft ãsterreich bã¼ros gehabt danke an cornelia kã¶nig dasneuearbeiten microsoft:-0.5994\n",
      "\n",
      "Sentiment heavy words:  1/6\n",
      "--- More options (total: 4) possible ---\n"
     ]
    },
    {
     "data": {
      "text/html": [
       "<text style=color:black>Actual Sentence: nette fã¼hrung durch die neuen microsoft ãsterreich bã¼ros gehabt danke an cornelia kã¶nig dasneuearbeiten microsoft :-0.5994</text>"
      ],
      "text/plain": [
       "<IPython.core.display.HTML object>"
      ]
     },
     "metadata": {},
     "output_type": "display_data"
    },
    {
     "data": {
      "text/html": [
       "<text style=color:red>Worst Sentence: nette fã¼hrung durch <text style=color:blue>die</text> neuen microsoft ãsterreich bã¼ros gehabt danke an cornelia kã¶nig dasneuearbeiten microsoft : -0.5994</text>"
      ],
      "text/plain": [
       "<IPython.core.display.HTML object>"
      ]
     },
     "metadata": {},
     "output_type": "display_data"
    },
    {
     "data": {
      "text/html": [
       "<text style=color:green>Best Sentence: nette fã¼hrung durch <text style=color:blue>fail</text> neuen microsoft ãsterreich bã¼ros gehabt danke an cornelia kã¶nig dasneuearbeiten microsoft : -0.5423</text>"
      ],
      "text/plain": [
       "<IPython.core.display.HTML object>"
      ]
     },
     "metadata": {},
     "output_type": "display_data"
    },
    {
     "name": "stdout",
     "output_type": "stream",
     "text": [
      "\n",
      "\n",
      " 111 Tweet: you know what would be awesome if  sold  ipads on easy pay. yesplease:0.765\n",
      "\n",
      "Sentiment heavy words:  3/6\n",
      "--- More options (total: 1215) possible ---\n"
     ]
    },
    {
     "data": {
      "text/html": [
       "<text style=color:black>Actual Sentence: you know what would be awesome if  sold  ipads on easy pay. yesplease :0.765</text>"
      ],
      "text/plain": [
       "<IPython.core.display.HTML object>"
      ]
     },
     "metadata": {},
     "output_type": "display_data"
    },
    {
     "data": {
      "text/html": [
       "<text style=color:red>Worst Sentence: you know what would be <text style=color:blue>nice</text> <text style=color:blue>if</text> sold ipads on sluttish <text style=color:blue>pay</text> <text style=color:blue>.</text> yesplease : -0.2023</text>"
      ],
      "text/plain": [
       "<IPython.core.display.HTML object>"
      ]
     },
     "metadata": {},
     "output_type": "display_data"
    },
    {
     "data": {
      "text/html": [
       "<text style=color:green>Best Sentence: you know what would be <text style=color:blue>definitely</text> <text style=color:blue>awesome</text> if sold ipads on <text style=color:blue>comfortable</text> <text style=color:blue>devote</text> . yesplease : 0.91</text>"
      ],
      "text/plain": [
       "<IPython.core.display.HTML object>"
      ]
     },
     "metadata": {},
     "output_type": "display_data"
    },
    {
     "name": "stdout",
     "output_type": "stream",
     "text": [
      "\n",
      "\n",
      " 112 Tweet: ios5 update submitted to  thanks for all the support!:0.7088\n",
      "\n",
      "Sentiment heavy words:  2/6\n",
      "--- More options (total: 36) possible ---\n"
     ]
    },
    {
     "data": {
      "text/html": [
       "<text style=color:black>Actual Sentence: ios5 update submitted to  thanks for all the support! :0.7088</text>"
      ],
      "text/plain": [
       "<IPython.core.display.HTML object>"
      ]
     },
     "metadata": {},
     "output_type": "display_data"
    },
    {
     "data": {
      "text/html": [
       "<text style=color:red>Worst Sentence: ios5 update submitted to <text style=color:blue>thx</text> for all the <text style=color:blue>suffer</text> ! : -0.3164</text>"
      ],
      "text/plain": [
       "<IPython.core.display.HTML object>"
      ]
     },
     "metadata": {},
     "output_type": "display_data"
    },
    {
     "data": {
      "text/html": [
       "<text style=color:green>Best Sentence: ios5 update submitted to <text style=color:blue>cheers</text> for all the <text style=color:blue>support</text> ! : 0.7263</text>"
      ],
      "text/plain": [
       "<IPython.core.display.HTML object>"
      ]
     },
     "metadata": {},
     "output_type": "display_data"
    },
    {
     "name": "stdout",
     "output_type": "stream",
     "text": [
      "\n",
      "\n",
      " 114 Tweet: lovatics! wanna be in a fan book for  let me know and ill send wat needs2b in it via twitter:-0.2003\n",
      "\n",
      "Sentiment heavy words:  2/6\n",
      "--- More options (total: 15) possible ---\n"
     ]
    },
    {
     "data": {
      "text/html": [
       "<text style=color:black>Actual Sentence: lovatics! wanna be in a fan book for  let me know and ill send wat needs2b in it via twitter :-0.2003</text>"
      ],
      "text/plain": [
       "<IPython.core.display.HTML object>"
      ]
     },
     "metadata": {},
     "output_type": "display_data"
    },
    {
     "data": {
      "text/html": [
       "<text style=color:red>Worst Sentence: lovatics ! wan na be in a <text style=color:blue>fan</text> book for let me know and <text style=color:blue>badly</text> send wat needs2b in it via twitter : -0.2714</text>"
      ],
      "text/plain": [
       "<IPython.core.display.HTML object>"
      ]
     },
     "metadata": {},
     "output_type": "display_data"
    },
    {
     "data": {
      "text/html": [
       "<text style=color:green>Best Sentence: lovatics ! wan na be in a <text style=color:blue>lover</text> book for let me know and <text style=color:blue>ill</text> send wat needs2b in it via twitter : 0.3164</text>"
      ],
      "text/plain": [
       "<IPython.core.display.HTML object>"
      ]
     },
     "metadata": {},
     "output_type": "display_data"
    },
    {
     "name": "stdout",
     "output_type": "stream",
     "text": [
      "\n",
      "\n",
      " 115 Tweet:  so i went to the 5th ave store and was told i could wait about 4 hours to get a 4s. needless to say i am back at the hotel relaxing.:0.4939\n",
      "\n",
      "Sentiment heavy words:  1/6\n",
      "--- More options (total: 4) possible ---\n"
     ]
    },
    {
     "data": {
      "text/html": [
       "<text style=color:black>Actual Sentence:  so i went to the 5th ave store and was told i could wait about 4 hours to get a 4s. needless to say i am back at the hotel relaxing. :0.4939</text>"
      ],
      "text/plain": [
       "<IPython.core.display.HTML object>"
      ]
     },
     "metadata": {},
     "output_type": "display_data"
    },
    {
     "data": {
      "text/html": [
       "<text style=color:red>Worst Sentence: so i went to the 5th ave store and was told i could wait about 4 hours to get a 4s . needless to say i am back at the hotel <text style=color:blue>chilling</text> . : -0.0258</text>"
      ],
      "text/plain": [
       "<IPython.core.display.HTML object>"
      ]
     },
     "metadata": {},
     "output_type": "display_data"
    },
    {
     "data": {
      "text/html": [
       "<text style=color:green>Best Sentence: so i went to the 5th ave store and was told i could wait about 4 hours to get a 4s . needless to say i am back at the hotel <text style=color:blue>relaxing</text> . : 0.4939</text>"
      ],
      "text/plain": [
       "<IPython.core.display.HTML object>"
      ]
     },
     "metadata": {},
     "output_type": "display_data"
    },
    {
     "name": "stdout",
     "output_type": "stream",
     "text": [
      "\n",
      "\n",
      " 120 Tweet: i just installed the new twidroyd for twitter on my android phone  its free give it a try. :0.5106\n",
      "\n",
      "Sentiment heavy words:  1/6\n",
      "--- More options (total: 6) possible ---\n"
     ]
    },
    {
     "data": {
      "text/html": [
       "<text style=color:black>Actual Sentence: i just installed the new twidroyd for twitter on my android phone  its free give it a try.  :0.5106</text>"
      ],
      "text/plain": [
       "<IPython.core.display.HTML object>"
      ]
     },
     "metadata": {},
     "output_type": "display_data"
    },
    {
     "data": {
      "text/html": [
       "<text style=color:red>Worst Sentence: i just installed the new twidroyd for twitter on my android phone its <text style=color:blue>exempt</text> give it a try . : 0.1027</text>"
      ],
      "text/plain": [
       "<IPython.core.display.HTML object>"
      ]
     },
     "metadata": {},
     "output_type": "display_data"
    },
    {
     "data": {
      "text/html": [
       "<text style=color:green>Best Sentence: i just installed the new twidroyd for twitter on my android phone its <text style=color:blue>free</text> give it a try . : 0.5106</text>"
      ],
      "text/plain": [
       "<IPython.core.display.HTML object>"
      ]
     },
     "metadata": {},
     "output_type": "display_data"
    },
    {
     "name": "stdout",
     "output_type": "stream",
     "text": [
      "\n",
      "\n",
      " 121 Tweet: i just installed the new twidroyd for twitter on my android phone  its free give it a try. :0.5106\n",
      "\n",
      "Sentiment heavy words:  1/6\n",
      "--- More options (total: 6) possible ---\n"
     ]
    },
    {
     "data": {
      "text/html": [
       "<text style=color:black>Actual Sentence: i just installed the new twidroyd for twitter on my android phone  its free give it a try.  :0.5106</text>"
      ],
      "text/plain": [
       "<IPython.core.display.HTML object>"
      ]
     },
     "metadata": {},
     "output_type": "display_data"
    },
    {
     "data": {
      "text/html": [
       "<text style=color:red>Worst Sentence: i just installed the new twidroyd for twitter on my android phone its <text style=color:blue>exempt</text> give it a try . : 0.1027</text>"
      ],
      "text/plain": [
       "<IPython.core.display.HTML object>"
      ]
     },
     "metadata": {},
     "output_type": "display_data"
    },
    {
     "data": {
      "text/html": [
       "<text style=color:green>Best Sentence: i just installed the new twidroyd for twitter on my android phone its <text style=color:blue>free</text> give it a try . : 0.5106</text>"
      ],
      "text/plain": [
       "<IPython.core.display.HTML object>"
      ]
     },
     "metadata": {},
     "output_type": "display_data"
    },
    {
     "name": "stdout",
     "output_type": "stream",
     "text": [
      "\n",
      "\n",
      " 122 Tweet: i just installed the new twidroyd for twitter on my android phone  its free give it a try. :0.5106\n",
      "\n",
      "Sentiment heavy words:  1/6\n",
      "--- More options (total: 30) possible ---\n"
     ]
    },
    {
     "data": {
      "text/html": [
       "<text style=color:black>Actual Sentence: i just installed the new twidroyd for twitter on my android phone  its free give it a try.  :0.5106</text>"
      ],
      "text/plain": [
       "<IPython.core.display.HTML object>"
      ]
     },
     "metadata": {},
     "output_type": "display_data"
    },
    {
     "data": {
      "text/html": [
       "<text style=color:red>Worst Sentence: i just installed the new twidroyd for twitter on my android phone its <text style=color:blue>completely</text> <text style=color:blue>loose</text> give it a try . : -0.3804</text>"
      ],
      "text/plain": [
       "<IPython.core.display.HTML object>"
      ]
     },
     "metadata": {},
     "output_type": "display_data"
    },
    {
     "data": {
      "text/html": [
       "<text style=color:green>Best Sentence: i just installed the new twidroyd for twitter on my android phone its <text style=color:blue>definitely</text> <text style=color:blue>free</text> give it a try . : 0.7184</text>"
      ],
      "text/plain": [
       "<IPython.core.display.HTML object>"
      ]
     },
     "metadata": {},
     "output_type": "display_data"
    },
    {
     "name": "stdout",
     "output_type": "stream",
     "text": [
      "\n",
      "\n",
      " 123 Tweet: i just installed the new twidroyd for twitter on my android phone  its free give it a try. :0.5106\n",
      "\n",
      "Sentiment heavy words:  1/6\n",
      "--- More options (total: 30) possible ---\n"
     ]
    },
    {
     "data": {
      "text/html": [
       "<text style=color:black>Actual Sentence: i just installed the new twidroyd for twitter on my android phone  its free give it a try.  :0.5106</text>"
      ],
      "text/plain": [
       "<IPython.core.display.HTML object>"
      ]
     },
     "metadata": {},
     "output_type": "display_data"
    },
    {
     "data": {
      "text/html": [
       "<text style=color:red>Worst Sentence: i just installed the new twidroyd for twitter on my android phone its <text style=color:blue>completely</text> <text style=color:blue>loose</text> give it a try . : -0.3804</text>"
      ],
      "text/plain": [
       "<IPython.core.display.HTML object>"
      ]
     },
     "metadata": {},
     "output_type": "display_data"
    },
    {
     "data": {
      "text/html": [
       "<text style=color:green>Best Sentence: i just installed the new twidroyd for twitter on my android phone its <text style=color:blue>definitely</text> <text style=color:blue>free</text> give it a try . : 0.7184</text>"
      ],
      "text/plain": [
       "<IPython.core.display.HTML object>"
      ]
     },
     "metadata": {},
     "output_type": "display_data"
    },
    {
     "name": "stdout",
     "output_type": "stream",
     "text": [
      "\n",
      "\n",
      " 124 Tweet: i just installed the new twidroyd for twitter on my android phone  its free give it a try. :0.5106\n",
      "\n",
      "Sentiment heavy words:  1/6\n",
      "--- More options (total: 30) possible ---\n"
     ]
    },
    {
     "data": {
      "text/html": [
       "<text style=color:black>Actual Sentence: i just installed the new twidroyd for twitter on my android phone  its free give it a try.  :0.5106</text>"
      ],
      "text/plain": [
       "<IPython.core.display.HTML object>"
      ]
     },
     "metadata": {},
     "output_type": "display_data"
    },
    {
     "data": {
      "text/html": [
       "<text style=color:red>Worst Sentence: i just installed the new twidroyd for twitter on my android phone its <text style=color:blue>completely</text> <text style=color:blue>loose</text> give it a try . : -0.3804</text>"
      ],
      "text/plain": [
       "<IPython.core.display.HTML object>"
      ]
     },
     "metadata": {},
     "output_type": "display_data"
    },
    {
     "data": {
      "text/html": [
       "<text style=color:green>Best Sentence: i just installed the new twidroyd for twitter on my android phone its <text style=color:blue>definitely</text> <text style=color:blue>free</text> give it a try . : 0.7184</text>"
      ],
      "text/plain": [
       "<IPython.core.display.HTML object>"
      ]
     },
     "metadata": {},
     "output_type": "display_data"
    },
    {
     "name": "stdout",
     "output_type": "stream",
     "text": [
      "\n",
      "\n",
      " 125 Tweet: i just installed the new twidroyd for twitter on my android phone  its free give it a try. :0.5106\n",
      "\n",
      "Sentiment heavy words:  1/6\n",
      "--- More options (total: 6) possible ---\n"
     ]
    },
    {
     "data": {
      "text/html": [
       "<text style=color:black>Actual Sentence: i just installed the new twidroyd for twitter on my android phone  its free give it a try.  :0.5106</text>"
      ],
      "text/plain": [
       "<IPython.core.display.HTML object>"
      ]
     },
     "metadata": {},
     "output_type": "display_data"
    },
    {
     "data": {
      "text/html": [
       "<text style=color:red>Worst Sentence: i just installed the new twidroyd for twitter on my android phone its <text style=color:blue>exempt</text> give it a try . : 0.1027</text>"
      ],
      "text/plain": [
       "<IPython.core.display.HTML object>"
      ]
     },
     "metadata": {},
     "output_type": "display_data"
    },
    {
     "data": {
      "text/html": [
       "<text style=color:green>Best Sentence: i just installed the new twidroyd for twitter on my android phone its <text style=color:blue>free</text> give it a try . : 0.5106</text>"
      ],
      "text/plain": [
       "<IPython.core.display.HTML object>"
      ]
     },
     "metadata": {},
     "output_type": "display_data"
    },
    {
     "name": "stdout",
     "output_type": "stream",
     "text": [
      "\n",
      "\n",
      " 126 Tweet: i just installed the new twidroyd for twitter on my android phone  its free give it a try. :0.5106\n",
      "\n",
      "Sentiment heavy words:  1/6\n",
      "--- More options (total: 6) possible ---\n"
     ]
    },
    {
     "data": {
      "text/html": [
       "<text style=color:black>Actual Sentence: i just installed the new twidroyd for twitter on my android phone  its free give it a try.  :0.5106</text>"
      ],
      "text/plain": [
       "<IPython.core.display.HTML object>"
      ]
     },
     "metadata": {},
     "output_type": "display_data"
    },
    {
     "data": {
      "text/html": [
       "<text style=color:red>Worst Sentence: i just installed the new twidroyd for twitter on my android phone its <text style=color:blue>exempt</text> give it a try . : 0.1027</text>"
      ],
      "text/plain": [
       "<IPython.core.display.HTML object>"
      ]
     },
     "metadata": {},
     "output_type": "display_data"
    },
    {
     "data": {
      "text/html": [
       "<text style=color:green>Best Sentence: i just installed the new twidroyd for twitter on my android phone its <text style=color:blue>free</text> give it a try . : 0.5106</text>"
      ],
      "text/plain": [
       "<IPython.core.display.HTML object>"
      ]
     },
     "metadata": {},
     "output_type": "display_data"
    },
    {
     "name": "stdout",
     "output_type": "stream",
     "text": [
      "\n",
      "\n",
      " 131 Tweet: night twitter lord please let that girl get some sleep:0.3182\n",
      "\n",
      "Sentiment heavy words:  1/6\n",
      "--- More options (total: 4) possible ---\n"
     ]
    },
    {
     "data": {
      "text/html": [
       "<text style=color:black>Actual Sentence: night twitter lord please let that girl get some sleep :0.3182</text>"
      ],
      "text/plain": [
       "<IPython.core.display.HTML object>"
      ]
     },
     "metadata": {},
     "output_type": "display_data"
    },
    {
     "data": {
      "text/html": [
       "<text style=color:green>Best Sentence: night twitter lord <text style=color:blue>please</text> let that girl get some sleep : 0.3182</text>"
      ],
      "text/plain": [
       "<IPython.core.display.HTML object>"
      ]
     },
     "metadata": {},
     "output_type": "display_data"
    },
    {
     "name": "stdout",
     "output_type": "stream",
     "text": [
      "\n",
      "\n",
      " 132 Tweet: en daar gaan we weer *pakt vergrootglas erbij* zoeken naar die leuke nieuwe collega!  vacature microsoft:-0.636\n",
      "\n",
      "Sentiment heavy words:  1/6\n",
      "--- More options (total: 4) possible ---\n"
     ]
    },
    {
     "data": {
      "text/html": [
       "<text style=color:black>Actual Sentence: en daar gaan we weer *pakt vergrootglas erbij* zoeken naar die leuke nieuwe collega!  vacature microsoft :-0.636</text>"
      ],
      "text/plain": [
       "<IPython.core.display.HTML object>"
      ]
     },
     "metadata": {},
     "output_type": "display_data"
    },
    {
     "data": {
      "text/html": [
       "<text style=color:red>Worst Sentence: en daar gaan we weer pakt vergrootglas erbij zoeken naar <text style=color:blue>die</text> leuke nieuwe collega ! vacature microsoft : -0.636</text>"
      ],
      "text/plain": [
       "<IPython.core.display.HTML object>"
      ]
     },
     "metadata": {},
     "output_type": "display_data"
    },
    {
     "data": {
      "text/html": [
       "<text style=color:green>Best Sentence: en daar gaan we weer pakt vergrootglas erbij zoeken naar <text style=color:blue>fail</text> leuke nieuwe collega ! vacature microsoft : -0.5848</text>"
      ],
      "text/plain": [
       "<IPython.core.display.HTML object>"
      ]
     },
     "metadata": {},
     "output_type": "display_data"
    },
    {
     "name": "stdout",
     "output_type": "stream",
     "text": [
      "\n",
      "\n",
      " 135 Tweet: schaue mir wmi performance counters auf deutsch an und kriege schmerzenâ¦ ich will schmerzensgeld von microsoft!!! fail:-0.6571\n",
      "\n",
      "Sentiment heavy words:  1/6\n",
      "--- More options (total: 8) possible ---\n"
     ]
    },
    {
     "data": {
      "text/html": [
       "<text style=color:black>Actual Sentence: schaue mir wmi performance counters auf deutsch an und kriege schmerzenâ¦ ich will schmerzensgeld von microsoft!!! fail :-0.6571</text>"
      ],
      "text/plain": [
       "<IPython.core.display.HTML object>"
      ]
     },
     "metadata": {},
     "output_type": "display_data"
    },
    {
     "data": {
      "text/html": [
       "<text style=color:red>Worst Sentence: schaue mir wmi performance counters auf deutsch an und kriege schmerzenâ¦ ich will schmerzensgeld von microsoft ! ! ! <text style=color:blue>betray</text> : -0.7249</text>"
      ],
      "text/plain": [
       "<IPython.core.display.HTML object>"
      ]
     },
     "metadata": {},
     "output_type": "display_data"
    },
    {
     "data": {
      "text/html": [
       "<text style=color:green>Best Sentence: schaue mir wmi performance counters auf deutsch an und kriege schmerzenâ¦ ich will schmerzensgeld von microsoft ! ! ! <text style=color:blue>flunk</text> : -0.4898</text>"
      ],
      "text/plain": [
       "<IPython.core.display.HTML object>"
      ]
     },
     "metadata": {},
     "output_type": "display_data"
    },
    {
     "name": "stdout",
     "output_type": "stream",
     "text": [
      "\n",
      "\n",
      " 136 Tweet: wishing i can sleep all day 2morrow but i got practice... gn twitter:0.5023\n",
      "\n",
      "Sentiment heavy words:  2/6\n",
      "--- More options (total: 5) possible ---\n"
     ]
    },
    {
     "data": {
      "text/html": [
       "<text style=color:black>Actual Sentence: wishing i can sleep all day 2morrow but i got practice... gn twitter :0.5023</text>"
      ],
      "text/plain": [
       "<IPython.core.display.HTML object>"
      ]
     },
     "metadata": {},
     "output_type": "display_data"
    },
    {
     "data": {
      "text/html": [
       "<text style=color:red>Worst Sentence: <text style=color:blue>wishing</text> i can sleep all day 2morrow but i got practice ... gn twitter : 0.5023</text>"
      ],
      "text/plain": [
       "<IPython.core.display.HTML object>"
      ]
     },
     "metadata": {},
     "output_type": "display_data"
    },
    {
     "data": {
      "text/html": [
       "<text style=color:green>Best Sentence: <text style=color:blue>hoping</text> i can sleep all day 2morrow but i got practice ... gn twitter : 0.5719</text>"
      ],
      "text/plain": [
       "<IPython.core.display.HTML object>"
      ]
     },
     "metadata": {},
     "output_type": "display_data"
    },
    {
     "name": "stdout",
     "output_type": "stream",
     "text": [
      "\n",
      "\n",
      " 139 Tweet: following dear microsoft ceos logic 550000 android devices activated each day need to belong to computer scientists. i am enlightened!!:0.7494\n",
      "\n",
      "Sentiment heavy words:  2/6\n",
      "--- More options (total: 35) possible ---\n"
     ]
    },
    {
     "data": {
      "text/html": [
       "<text style=color:black>Actual Sentence: following dear microsoft ceos logic 550000 android devices activated each day need to belong to computer scientists. i am enlightened!! :0.7494</text>"
      ],
      "text/plain": [
       "<IPython.core.display.HTML object>"
      ]
     },
     "metadata": {},
     "output_type": "display_data"
    },
    {
     "data": {
      "text/html": [
       "<text style=color:red>Worst Sentence: following <text style=color:blue>costly</text> microsoft ceos logic 550000 android devices activated each day need to belong to computer scientists . i am <text style=color:blue>oppressed</text> ! ! : -0.6229</text>"
      ],
      "text/plain": [
       "<IPython.core.display.HTML object>"
      ]
     },
     "metadata": {},
     "output_type": "display_data"
    },
    {
     "data": {
      "text/html": [
       "<text style=color:green>Best Sentence: following <text style=color:blue>heartfelt</text> microsoft ceos logic 550000 android devices activated each day need to belong to computer scientists . i am <text style=color:blue>enlighten</text> ! ! : 0.8118</text>"
      ],
      "text/plain": [
       "<IPython.core.display.HTML object>"
      ]
     },
     "metadata": {},
     "output_type": "display_data"
    },
    {
     "name": "stdout",
     "output_type": "stream",
     "text": [
      "\n",
      "\n",
      " 143 Tweet: getting ready 4 bed... school tomorrow. we have an evacuation at school! night twitter :0.4199\n",
      "\n",
      "Sentiment heavy words:  1/6\n",
      " -- No new Strings generated ---\n",
      "\n",
      "\n",
      "\n",
      "\n",
      " 147 Tweet:  q nada vc q ã© linda mesmo!   sã³ no me lenbro o dia q eu segui vc mais ta bom mais uma pessoal especial no meu twitter:-0.5707\n",
      "\n",
      "Sentiment heavy words:  0/6\n",
      "--- More options (total: 9) possible ---\n"
     ]
    },
    {
     "data": {
      "text/html": [
       "<text style=color:black>Actual Sentence:  q nada vc q ã© linda mesmo!   sã³ no me lenbro o dia q eu segui vc mais ta bom mais uma pessoal especial no meu twitter :-0.5707</text>"
      ],
      "text/plain": [
       "<IPython.core.display.HTML object>"
      ]
     },
     "metadata": {},
     "output_type": "display_data"
    },
    {
     "data": {
      "text/html": [
       "<text style=color:red>Worst Sentence: q nada vc q ã© linda mesmo ! sã³ no me lenbro o dia q eu segui vc mais ta bom mais uma pessoal especial no meu twitter : -0.5707</text>"
      ],
      "text/plain": [
       "<IPython.core.display.HTML object>"
      ]
     },
     "metadata": {},
     "output_type": "display_data"
    },
    {
     "data": {
      "text/html": [
       "<text style=color:green>Best Sentence: q nada vc q ã© linda mesmo ! sã³ me lenbro o dia q eu segui vc mais ta bom mais uma pessoal especial meu twitter : 0.0</text>"
      ],
      "text/plain": [
       "<IPython.core.display.HTML object>"
      ]
     },
     "metadata": {},
     "output_type": "display_data"
    },
    {
     "name": "stdout",
     "output_type": "stream",
     "text": [
      "\n",
      "\n",
      " 149 Tweet: wtf is a tweet  sounds like tha dam cartoon network tweeted tweeter twitter twitterer:-0.3182\n",
      "\n",
      "Sentiment heavy words:  2/6\n",
      "--- More options (total: 5) possible ---\n"
     ]
    },
    {
     "data": {
      "text/html": [
       "<text style=color:black>Actual Sentence: wtf is a tweet  sounds like tha dam cartoon network tweeted tweeter twitter twitterer :-0.3182</text>"
      ],
      "text/plain": [
       "<IPython.core.display.HTML object>"
      ]
     },
     "metadata": {},
     "output_type": "display_data"
    },
    {
     "data": {
      "text/html": [
       "<text style=color:red>Worst Sentence: <text style=color:blue>hell</text> is a tweet sounds like tha dam cartoon network tweeted tweeter twitter twitterer : -0.4767</text>"
      ],
      "text/plain": [
       "<IPython.core.display.HTML object>"
      ]
     },
     "metadata": {},
     "output_type": "display_data"
    },
    {
     "data": {
      "text/html": [
       "<text style=color:green>Best Sentence: <text style=color:blue>lmao</text> is a tweet sounds like tha dam cartoon network tweeted tweeter twitter twitterer : 0.7506</text>"
      ],
      "text/plain": [
       "<IPython.core.display.HTML object>"
      ]
     },
     "metadata": {},
     "output_type": "display_data"
    },
    {
     "name": "stdout",
     "output_type": "stream",
     "text": [
      "num of tweets done : 150\n"
     ]
    }
   ],
   "source": [
    "def extractTwitterDataset():\n",
    "#     df_tweets = pd.read_csv( pathToDatasets + 'cleanedTweets.csv', nrows=NUM_OF_TWEETS, skiprows =TWEET_START)\n",
    "    df_tweets = pd.read_csv( pathToDatasets + \"{0}.csv\".format(DATASET_FILE_NAME), nrows=NUM_OF_TWEETS, skiprows =TWEET_START)\n",
    "    tweets = df_tweets.values\n",
    "    return tweets;\n",
    "\n",
    "def createDictionaryOfSentStrings(sentencesWithSentiment):\n",
    "    dict_sentimentToStringObjects = {}\n",
    "    for obj in sentencesWithSentiment:\n",
    "        sent = obj.getSentiment()\n",
    "        if(dict_sentimentToStringObjects.get(sent) == None):\n",
    "            dict_sentimentToStringObjects[sent] = [obj]\n",
    "        else:\n",
    "            (dict_sentimentToStringObjects[sent]).append(obj)\n",
    "\n",
    "    return dict_sentimentToStringObjects;\n",
    "\n",
    "def runThroughTweets():\n",
    "    tweets = extractTwitterDataset()\n",
    "    \n",
    "    counterOfTweets = 0;\n",
    "    for counter,tweet in enumerate(tweets):\n",
    "        counterOfTweets +=1;\n",
    "        tweet = tweet[0]\n",
    "        tweetTokens = cleanAndTokenizeText(tweet)\n",
    "        mainSentiment = senty.polarity_scores(tweet)['compound']\n",
    "        if(mainSentiment == 0):\n",
    "            continue\n",
    "        print(\"\\n\\n {2} Tweet: {0}:{1}\\n\".format(tweet,mainSentiment, counterOfTweets))   \n",
    "        \n",
    "        sentenceObj = Sentence(tweet, mainSentiment)\n",
    "        sentenceObj = getAlternativeWords(sentenceObj)\n",
    "        sentenceObj = editBoosterWords(sentenceObj)\n",
    "        \n",
    "        replacementDictionary = sentenceObj.getDictOfIndexWords();\n",
    "        if(len(replacementDictionary) <= 0):        \n",
    "            print(\" -- No new Strings generated ---\\n\\n\")\n",
    "            continue\n",
    "\n",
    "        keysToChange = replacementDictionary.keys();\n",
    "        if(VERBOSE_PRINTING):\n",
    "            for key in keysToChange:\n",
    "                print(\"{0}'th word's ({2}) options: {1}\".format(key,replacementDictionary[key],tweetTokens[key]))\n",
    "\n",
    "        sentenceObj = returnCombinationsOfStrings(sentenceObj)\n",
    "        sentencesWithSentiment, sentenceObj = printStrings(sentenceObj)\n",
    "       \n",
    "        dict_sentimentToStringObjects = createDictionaryOfSentStrings(sentencesWithSentiment)\n",
    "        \n",
    "        sentiments = sorted(dict_sentimentToStringObjects.keys())\n",
    "        \n",
    "    return counterOfTweets;\n",
    "        \n",
    "numOfTweets = runThroughTweets()\n",
    "print(\"num of tweets done : {0}\".format(numOfTweets))"
   ]
  },
  {
   "cell_type": "markdown",
   "metadata": {},
   "source": [
    "## Testing Code\n"
   ]
  },
  {
   "cell_type": "code",
   "execution_count": 30,
   "metadata": {},
   "outputs": [],
   "source": [
    "specificWord = \"good\"\n",
    "def testOneWord(word=\"\"):\n",
    "    if(word==\"\"):\n",
    "        return\n",
    "    print(word)"
   ]
  },
  {
   "cell_type": "code",
   "execution_count": 31,
   "metadata": {
    "scrolled": false
   },
   "outputs": [
    {
     "name": "stdout",
     "output_type": "stream",
     "text": [
      "Enter a string to use\n",
      "\n"
     ]
    }
   ],
   "source": [
    "from IPython.core.debugger import set_trace\n",
    "\n",
    "\n",
    "specificString = \"\"\n",
    "def specificString(textString=\"\"):\n",
    "    if(textString == \"\" or textString == None):\n",
    "        return\n",
    "    textString = dataClean(textString)\n",
    "    textTokens = cleanAndTokenizeText(textString)\n",
    "    mainSentiment = senty.polarity_scores(textString)['compound']\n",
    "    if(mainSentiment == 0):\n",
    "        print(\"{} \\n No sentiment found in sentence\".format(textString));\n",
    "        return;\n",
    "    print(\"\\n {0}:{1}\\n\".format(textString,mainSentiment))   \n",
    "    sentenceObj = Sentence(textString, mainSentiment)\n",
    "    sentenceObj = getAlternativeWords(sentenceObj)\n",
    "    sentenceObj = editBoosterWords(sentenceObj)\n",
    "    \n",
    "    \n",
    "    replacementDictionary = sentenceObj.getDictOfIndexWords();\n",
    "    if(len(replacementDictionary) <= 0):        \n",
    "        print(\" -- No new Strings generated ---\\n\\n\")\n",
    "        return\n",
    "    \n",
    "    keysToChange = replacementDictionary.keys();\n",
    "    if(VERBOSE_PRINTING):\n",
    "        for key in keysToChange:\n",
    "               print(\"{0}'th word's ({2}) options: {1}\".format(key,replacementDictionary[key],textTokens[key]))\n",
    "    \n",
    "    sentenceObj = returnCombinationsOfStrings(sentenceObj)\n",
    "    allPossibleSentences, sentenceObj = printStrings(sentenceObj)\n",
    "    \n",
    "print(\"Enter a string to use\")\n",
    "\n",
    "\n",
    "inputText = \"\"\n",
    "inputText = input()\n",
    "if(inputText == \"\"):\n",
    "    return\n",
    "elif(inputText == \"t\"):\n",
    "#     specificString(\"hot chocolate really angers me and it should sadden you too\")\n",
    "#     specificString(\"the grind is inspirational and saddening at the same time. do not want you to stop cuz i like what u do!\")\n",
    "    specificString(\"i hope they will increase the capacity fast yesterday was such a pain. got the fail whale 15 times in 2 hours....\");\n",
    "#     specificString(\"I would love to post the exec summary I raised >$3M with in first round, but its quite frankly a fucking embarrassment. I feel bad for the investors. actually I dont, because well, fuck them. wasnt their money anyway.\")\n",
    "else:\n",
    "    specificString(inputText)\n",
    "# I really love hot chocolate, but I'm not good with hot coffee "
   ]
  },
  {
   "cell_type": "code",
   "execution_count": null,
   "metadata": {},
   "outputs": [],
   "source": []
  }
 ],
 "metadata": {
  "kernelspec": {
   "display_name": "Python 3",
   "language": "python",
   "name": "python3"
  },
  "language_info": {
   "codemirror_mode": {
    "name": "ipython",
    "version": 3
   },
   "file_extension": ".py",
   "mimetype": "text/x-python",
   "name": "python",
   "nbconvert_exporter": "python",
   "pygments_lexer": "ipython3",
   "version": "3.6.7"
  }
 },
 "nbformat": 4,
 "nbformat_minor": 2
}
