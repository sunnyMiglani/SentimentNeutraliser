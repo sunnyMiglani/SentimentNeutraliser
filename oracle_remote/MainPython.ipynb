{
 "cells": [
  {
   "cell_type": "markdown",
   "metadata": {},
   "source": [
    "## Import Statements"
   ]
  },
  {
   "cell_type": "code",
   "execution_count": 145,
   "metadata": {},
   "outputs": [
    {
     "data": {
      "text/html": [
       "<style>.container { width:85% !important; }</style>"
      ],
      "text/plain": [
       "<IPython.core.display.HTML object>"
      ]
     },
     "metadata": {},
     "output_type": "display_data"
    }
   ],
   "source": [
    "import gensim.downloader as api\n",
    "import numpy as np\n",
    "import re\n",
    "import csv\n",
    "import pandas as pd\n",
    "import pprint\n",
    "import string\n",
    "import nltk\n",
    "import sys\n",
    "import spacy\n",
    "\n",
    "from IPython.display import HTML\n",
    "from nltk.corpus import wordnet \n",
    "from sklearn.manifold import TSNE\n",
    "from gensim.models import Word2Vec\n",
    "from gensim.models import KeyedVectors\n",
    "\n",
    "from nltk.sentiment.vader import SentimentIntensityAnalyzer\n",
    "from nltk.tokenize import word_tokenize\n",
    "\n",
    "pathToDatasets = '../datasets/'\n",
    "pathToDataScripts = '../datasets/scripts/'\n",
    "filePath = '../datasets/GoogleNews-vectors-negative300.bin'\n",
    "\n",
    "sys.path.insert(0, pathToDataScripts)\n",
    "from cleanDataset import tokenize_words \n",
    "\n",
    "\n",
    "\n",
    "from IPython.core.display import display, HTML\n",
    "display(HTML(\"<style>.container { width:85% !important; }</style>\"))"
   ]
  },
  {
   "cell_type": "markdown",
   "metadata": {},
   "source": [
    "## Downloading binaries and models\n"
   ]
  },
  {
   "cell_type": "code",
   "execution_count": 146,
   "metadata": {},
   "outputs": [
    {
     "name": "stdout",
     "output_type": "stream",
     "text": [
      "no\n",
      " didnt reload model! \n"
     ]
    }
   ],
   "source": [
    "tstString = input()\n",
    "if(\"no\" in tstString.lower()):\n",
    "    print(\" didnt reload model! \")\n",
    "else:\n",
    "    word_vectors = api.load(\"glove-wiki-gigaword-100\")\n",
    "    nltk.download('vader_lexicon')\n",
    "    nltk.download('punkt')\n",
    "    nltk.download('averaged_perceptron_tagger')\n",
    "    nltk.download('wordnet')"
   ]
  },
  {
   "cell_type": "markdown",
   "metadata": {},
   "source": [
    "## Global Variables and Global Objects"
   ]
  },
  {
   "cell_type": "code",
   "execution_count": 147,
   "metadata": {},
   "outputs": [],
   "source": [
    "senty = SentimentIntensityAnalyzer()\n",
    "vocabulary = word_vectors.vocab;\n",
    "\n",
    "nlp = spacy.load('en')\n",
    "\n",
    "\n",
    "NUMBER_OF_ALTERNATIVES = 5\n",
    "TWEET_START = 50\n",
    "NUM_OF_TWEETS = 50\n",
    "VERBOSE_PRINTING = True\n",
    "# VERBOSE_PRINTING = False\n",
    "\n",
    "USE_SPACY = False\n",
    "# USE_SPACY = True\n",
    "\n",
    "\n",
    "punctuation = r\"\\\"#$%&'+-/;<=>?@[\\]*^_`{|}~\""
   ]
  },
  {
   "cell_type": "markdown",
   "metadata": {},
   "source": [
    "## Class for Sentences\n"
   ]
  },
  {
   "cell_type": "code",
   "execution_count": 148,
   "metadata": {},
   "outputs": [],
   "source": [
    "class SentenceWithHTML():\n",
    "    \n",
    "    def __init__(self,sentence,html):\n",
    "        self.sentence = sentence;\n",
    "        self.html = html;\n",
    "    \n",
    "    def getHTML(self):\n",
    "        return self.html;\n",
    "    \n",
    "    def getSentence(self):\n",
    "        return self.sentence\n",
    "    \n",
    "    def setHTML(self, html):\n",
    "        self.html = html;\n",
    "    \n",
    "    def setSentence(self, sentence):\n",
    "        self.sentence = sentence\n",
    "\n",
    "class Sentence:\n",
    "    \n",
    "    \n",
    "    def __init__(self, sentence, sentiment):\n",
    "        self.ogSentence = sentence;\n",
    "        self.ogSentiment = sentiment;\n",
    "        self.indexToSetOfWords = {}\n",
    "        self.alternateSentences = [];\n",
    "        self.finalShiftSentences = [];\n",
    "\n",
    "    def addAlternativesByIndex(self, index, listOfAlternatives):\n",
    "        '''\n",
    "            Adds the list of possible alternative words that \n",
    "            can be used per word based on the index of the word in the tokenized \n",
    "            sentence. (from cleanAndTokenizeText())\n",
    "        '''\n",
    "        if(self.indexToSetOfWords.get(index)):\n",
    "            self.indexToSetOfWords[index] = self.indexToSetOfWords.union(set(listOfAlternatives))\n",
    "        else:\n",
    "            self.indexToSetOfWords[index] = set(listOfAlternatives)\n",
    "        \n",
    "    def addAlternativeStrings(self, strings):\n",
    "        if(isinstance(strings,str)):\n",
    "            self.alternateStrings = list(set(self.alternateStrings.append(strings)))\n",
    "            self.alternateSentences.append(strings)\n",
    "        else:\n",
    "            self.alternateSentences.extend(strings)\n",
    "    \n",
    "\n",
    "    \n",
    "    def addFinalSentences(self, sentences):\n",
    "        if(isinstance(sentences, str)):\n",
    "            self.finalShiftSentences.append(sentences)\n",
    "        else:\n",
    "            self.finalShiftSentences.extend(sentences)\n",
    "\n",
    "    def resetFinalSentences(self):\n",
    "        self.finalShiftSentences = [];\n",
    "        \n",
    "            "
   ]
  },
  {
   "cell_type": "markdown",
   "metadata": {},
   "source": [
    "## Utility Code"
   ]
  },
  {
   "cell_type": "code",
   "execution_count": 149,
   "metadata": {},
   "outputs": [],
   "source": [
    "def cstr(s, color='black'):\n",
    "    return \"<text style=color:{}>{}</text>\".format(color, s)\n",
    "\n",
    "def cleanAndTokenizeText(text):\n",
    "    text = text.lower();\n",
    "    newString = \"\"\n",
    "    for char in text:\n",
    "        if char not in punctuation:\n",
    "            newString += char\n",
    "    text = word_tokenize(newString)\n",
    "    return text;\n",
    "\n",
    "def getPOSTags(tweet):\n",
    "    if(USE_SPACY == False):\n",
    "        tags = nltk.pos_tag(tweet)\n",
    "        return tags;    \n",
    "    tweet = ' '.join(tweet)\n",
    "    doc = nlp(tweet)\n",
    "    tags = [(token.text, token.pos_) for token in doc] # since the format expected is [text,tag]\n",
    "    return tags;\n",
    "    \n",
    "\n",
    "def getAntonymsOfWords(word):\n",
    "    if(word not in vocabulary):\n",
    "        return []\n",
    "    setOfAntonyms = set()\n",
    "    for syn in wordnet.synsets(word):\n",
    "        for l in syn.lemmas():\n",
    "            anton = l.antonyms()\n",
    "            if(anton!=[]):\n",
    "                setOfAntonyms.add(anton[0].name())\n",
    "    if(len(setOfAntonyms) == 0):\n",
    "        if(VERBOSE_PRINTING): print(\"No antonyms found for word {0}\".format(word))\n",
    "    return list(setOfAntonyms)\n",
    "\n",
    "def listReplacements(word):\n",
    "    if(word not in vocabulary):\n",
    "        print(\" --- {0} not in vocabulary ---\".format(word))\n",
    "        return []\n",
    "    possibleReplacements = [word[0] for word in word_vectors.most_similar(word,topn=NUMBER_OF_ALTERNATIVES)]\n",
    "    if(possibleReplacements == []):\n",
    "        print(\" --- No replacements for word {0} ---\".format(word))\n",
    "    antonyms = getAntonymsOfWords(word)\n",
    "    if(antonyms != []):\n",
    "        possibleReplacements.extend(antonyms)\n",
    "        if(VERBOSE_PRINTING): print(\"Some antonyms for word {0} are {1}\".format(word, antonyms[:3]))\n",
    "        return possibleReplacements\n",
    "    return possibleReplacements\n",
    "    \n",
    "def posApprovedReplacements(alternativeWords, userTokens, indexOfToken):\n",
    "    if(alternativeWords == []):\n",
    "        return []\n",
    "    tempTokens = userTokens[:]\n",
    "    POSTokens = getPOSTags(tempTokens)\n",
    "    validWords = []\n",
    "    \n",
    "    mainTag = POSTokens[indexOfToken][1]\n",
    "    mainWord = userTokens[indexOfToken]\n",
    "    \n",
    "    for ind,word in enumerate(alternativeWords):\n",
    "        tempTokens[indexOfToken] = word\n",
    "        posTags = getPOSTags(tempTokens)\n",
    "        newTag = (posTags[indexOfToken])[1]\n",
    "        \n",
    "        if(str(newTag) == str(mainTag)):\n",
    "            if(VERBOSE_PRINTING): print(\"Word {0}[{1}] replaced with {2}[{3}]\".format(mainWord, mainTag, word,newTag))\n",
    "            validWords.append(word)\n",
    "    if(validWords == [] and VERBOSE_PRINTING):\n",
    "        print(\"No POS words found for word {} with tag {}\".format(mainWord, mainTag));\n",
    "    return validWords\n",
    "        \n",
    "    \n",
    "    \n",
    "def getAlternativeSentences(sentenceObj):\n",
    "    mainSentence = sentenceObj.ogSentence;\n",
    "    mainSentiment = sentenceObj.ogSentiment;\n",
    "    \n",
    "    sentenceTokens = cleanAndTokenizeText(mainSentence)\n",
    "   \n",
    "    for ind, word in enumerate(sentenceTokens):\n",
    "        alternativeSentenceWithHTML = []\n",
    "        \n",
    "        score = senty.polarity_scores(word)['compound']\n",
    "        copyOfTokens = sentenceTokens[:]\n",
    "        replacements = []\n",
    "        if(score != 0.0):\n",
    "            tempReplacements = listReplacements(word) # get embedding based relations\n",
    "            if(tempReplacements == []):\n",
    "                print(\"No replacements found at all for word {0}\".format(word))\n",
    "                continue\n",
    "            replacements = posApprovedReplacements(tempReplacements[:], copyOfTokens[:], ind)\n",
    "            if(replacements == []):\n",
    "                print(\" -- No POS approved words! -- for word {0}\\n some non-POS:{1}\".format(word, tempReplacements[:4]))\n",
    "                continue\n",
    "            sentenceObj.addAlternativesByIndex(ind, replacements)\n",
    "            \n",
    "            ## Generate new sentences by switching that word\n",
    "            for newWord in replacements:\n",
    "                htmlFriendlyTokens = copyOfTokens[:]\n",
    "                copyOfTokens[ind] = newWord\n",
    "                htmlFriendlyTokens[ind] = cstr(\" <i>[{0}]</i>\".format(newWord), \"blue\");\n",
    "                newString = ' '.join(copyOfTokens)\n",
    "                tSentence = SentenceWithHTML(newString, ' '.join(htmlFriendlyTokens))\n",
    "                alternativeSentenceWithHTML.append(tSentence)\n",
    "        sentenceObj.addAlternativeStrings(alternativeSentenceWithHTML)\n",
    "    return sentenceObj\n",
    "\n",
    "def shiftSentiment(sentenceObj, positive=True):\n",
    "    \n",
    "    actualTweet = sentenceObj.ogSentence;\n",
    "    mainSentiment = sentenceObj.ogSentiment;\n",
    "    alternateTweets = sentenceObj.alternateSentences;\n",
    "    \n",
    "    \n",
    "    happiestTweet = \"\"\n",
    "    saddestTweet = \"\"\n",
    "    happiestScore = -sys.maxsize - 1\n",
    "    saddestScore = sys.maxsize\n",
    "    correctTweets = []\n",
    "    \n",
    "    for tSentence in alternateTweets:\n",
    "        tweet = tSentence.getSentence();\n",
    "        newSenty = senty.polarity_scores(tweet)['compound']\n",
    "        \n",
    "        if(newSenty < saddestScore):\n",
    "            saddestTweet = tSentence\n",
    "            saddestScore = newSenty\n",
    "        if(newSenty > happiestScore):\n",
    "            happiestTweet = tSentence\n",
    "            happiestScore = newSenty\n",
    "            \n",
    "        if(newSenty == mainSentiment):\n",
    "            continue\n",
    "        if(positive == True):\n",
    "            if(newSenty > mainSentiment):\n",
    "                correctTweets.append(tSentence)\n",
    "                continue\n",
    "            \n",
    "            elif(newSenty < mainSentiment):\n",
    "                continue\n",
    "                # Grab happiest tweet and if it's not \"\", then generate more happy tweets from it\n",
    "        if(positive == False):\n",
    "            if(newSenty < mainSentiment):\n",
    "                correctTweets.append(tSentence)\n",
    "                continue\n",
    "            \n",
    "            elif(newSenty > mainSentiment):\n",
    "                continue\n",
    "                # grab happiest tweet, and if it's not \"\", then generate more happy tweets from it\n",
    "                \n",
    "    if(correctTweets == []):\n",
    "        print(\"\\n\\nNo tweets found when trying to do Positive={}\\n\\n\".format(positive))\n",
    "    sentenceObj.resetFinalSentences();\n",
    "    sentenceObj.addFinalSentences(correctTweets);\n",
    "    return sentenceObj;"
   ]
  },
  {
   "cell_type": "code",
   "execution_count": 150,
   "metadata": {},
   "outputs": [],
   "source": [
    "def printStrings(sentenceObj):\n",
    "    newStrings = sentenceObj.finalShiftSentences;\n",
    "    mainSentiment = sentenceObj.ogSentiment;    \n",
    "    for ind, tSentence in enumerate(newStrings):\n",
    "            alteredTweet = tSentence.getSentence()\n",
    "            htmlText = tSentence.getHTML()\n",
    "            sentimentOfNewString = senty.polarity_scores(alteredTweet)['compound']\n",
    "            if(sentimentOfNewString == mainSentiment or sentimentOfNewString == 0):\n",
    "                display(HTML(cstr(\"{0}: {1}\".format(htmlText,sentimentOfNewString),'DarkGray')))\n",
    "            elif(sentimentOfNewString > mainSentiment):\n",
    "                display(HTML(cstr(\"{0}: {1}\".format(htmlText,sentimentOfNewString),'green')))\n",
    "            else:\n",
    "                display(HTML(cstr(\"{0}: {1}\".format(htmlText,sentimentOfNewString),'red')))"
   ]
  },
  {
   "cell_type": "code",
   "execution_count": 151,
   "metadata": {
    "scrolled": false
   },
   "outputs": [
    {
     "name": "stdout",
     "output_type": "stream",
     "text": [
      "\n",
      " broadband plan a massive broken promise  via  still waiting for broadband we are :-0.2023\n",
      "\n",
      "Some antonyms for word broken are ['promote', 'unbroken', 'repair']\n",
      "Word broken[NN] replaced with breaking[NN]\n",
      "Word broken[NN] replaced with broke[NN]\n",
      "Word broken[NN] replaced with apart[NN]\n",
      "Word broken[NN] replaced with promote[NN]\n",
      "Word broken[NN] replaced with repair[NN]\n",
      "Word broken[NN] replaced with conform_to[NN]\n",
      "Word broken[NN] replaced with keep[NN]\n",
      "Word broken[NN] replaced with make[NN]\n",
      "No antonyms found for word promise\n",
      "Word promise[NN] replaced with pledge[NN]\n",
      "Word promise[NN] replaced with commitment[NN]\n",
      "Word promise[NN] replaced with hope[NN]\n"
     ]
    },
    {
     "data": {
      "text/html": [
       "<text style=color:green>broadband plan a massive <text style=color:blue> <i>[breaking]</i></text> promise via still waiting for broadband we are: 0.3182</text>"
      ],
      "text/plain": [
       "<IPython.core.display.HTML object>"
      ]
     },
     "metadata": {},
     "output_type": "display_data"
    },
    {
     "data": {
      "text/html": [
       "<text style=color:green>broadband plan a massive <text style=color:blue> <i>[broke]</i></text> promise via still waiting for broadband we are: -0.128</text>"
      ],
      "text/plain": [
       "<IPython.core.display.HTML object>"
      ]
     },
     "metadata": {},
     "output_type": "display_data"
    },
    {
     "data": {
      "text/html": [
       "<text style=color:green>broadband plan a massive <text style=color:blue> <i>[apart]</i></text> promise via still waiting for broadband we are: 0.3182</text>"
      ],
      "text/plain": [
       "<IPython.core.display.HTML object>"
      ]
     },
     "metadata": {},
     "output_type": "display_data"
    },
    {
     "data": {
      "text/html": [
       "<text style=color:green>broadband plan a massive <text style=color:blue> <i>[promote]</i></text> promise via still waiting for broadband we are: 0.5994</text>"
      ],
      "text/plain": [
       "<IPython.core.display.HTML object>"
      ]
     },
     "metadata": {},
     "output_type": "display_data"
    },
    {
     "data": {
      "text/html": [
       "<text style=color:green>broadband plan a massive <text style=color:blue> <i>[repair]</i></text> promise via still waiting for broadband we are: 0.3182</text>"
      ],
      "text/plain": [
       "<IPython.core.display.HTML object>"
      ]
     },
     "metadata": {},
     "output_type": "display_data"
    },
    {
     "data": {
      "text/html": [
       "<text style=color:green>broadband plan a massive <text style=color:blue> <i>[conform_to]</i></text> promise via still waiting for broadband we are: 0.3182</text>"
      ],
      "text/plain": [
       "<IPython.core.display.HTML object>"
      ]
     },
     "metadata": {},
     "output_type": "display_data"
    },
    {
     "data": {
      "text/html": [
       "<text style=color:green>broadband plan a massive <text style=color:blue> <i>[keep]</i></text> promise via still waiting for broadband we are: 0.3182</text>"
      ],
      "text/plain": [
       "<IPython.core.display.HTML object>"
      ]
     },
     "metadata": {},
     "output_type": "display_data"
    },
    {
     "data": {
      "text/html": [
       "<text style=color:green>broadband plan a massive <text style=color:blue> <i>[make]</i></text> promise via still waiting for broadband we are: 0.3182</text>"
      ],
      "text/plain": [
       "<IPython.core.display.HTML object>"
      ]
     },
     "metadata": {},
     "output_type": "display_data"
    },
    {
     "data": {
      "text/html": [
       "<text style=color:green>broadband plan a massive broken <text style=color:blue> <i>[commitment]</i></text> via still waiting for broadband we are: -0.128</text>"
      ],
      "text/plain": [
       "<IPython.core.display.HTML object>"
      ]
     },
     "metadata": {},
     "output_type": "display_data"
    },
    {
     "data": {
      "text/html": [
       "<text style=color:green>broadband plan a massive broken <text style=color:blue> <i>[hope]</i></text> via still waiting for broadband we are: -0.0516</text>"
      ],
      "text/plain": [
       "<IPython.core.display.HTML object>"
      ]
     },
     "metadata": {},
     "output_type": "display_data"
    },
    {
     "data": {
      "text/html": [
       "<text style=color:red>broadband plan a massive broken <text style=color:blue> <i>[pledge]</i></text> via still waiting for broadband we are: -0.4767</text>"
      ],
      "text/plain": [
       "<IPython.core.display.HTML object>"
      ]
     },
     "metadata": {},
     "output_type": "display_data"
    },
    {
     "name": "stdout",
     "output_type": "stream",
     "text": [
      "\n",
      "  wow tons of replies from you may have to unfollow so i can see my friends tweets you are scrolling the feed a lot. :0.7845\n",
      "\n",
      "No antonyms found for word wow\n",
      "Word wow[JJ] replaced with c'mon[JJ]\n",
      "Word wow[JJ] replaced with hey[JJ]\n",
      "Some antonyms for word friends are ['foe', 'stranger']\n",
      "Word friends[NNS] replaced with parents[NNS]\n",
      "Word friends[NNS] replaced with relatives[NNS]\n",
      "\n",
      "\n",
      "No tweets found when trying to do Positive=True\n",
      "\n",
      "\n"
     ]
    },
    {
     "data": {
      "text/html": [
       "<text style=color:red><text style=color:blue> <i>[c'mon]</i></text> tons of replies from you may have to unfollow so i can see my friends tweets you are scrolling the feed a lot .: 0.4767</text>"
      ],
      "text/plain": [
       "<IPython.core.display.HTML object>"
      ]
     },
     "metadata": {},
     "output_type": "display_data"
    },
    {
     "data": {
      "text/html": [
       "<text style=color:red><text style=color:blue> <i>[hey]</i></text> tons of replies from you may have to unfollow so i can see my friends tweets you are scrolling the feed a lot .: 0.4767</text>"
      ],
      "text/plain": [
       "<IPython.core.display.HTML object>"
      ]
     },
     "metadata": {},
     "output_type": "display_data"
    },
    {
     "data": {
      "text/html": [
       "<text style=color:red>wow tons of replies from you may have to unfollow so i can see my <text style=color:blue> <i>[parents]</i></text> tweets you are scrolling the feed a lot .: 0.5859</text>"
      ],
      "text/plain": [
       "<IPython.core.display.HTML object>"
      ]
     },
     "metadata": {},
     "output_type": "display_data"
    },
    {
     "data": {
      "text/html": [
       "<text style=color:red>wow tons of replies from you may have to unfollow so i can see my <text style=color:blue> <i>[relatives]</i></text> tweets you are scrolling the feed a lot .: 0.5859</text>"
      ],
      "text/plain": [
       "<IPython.core.display.HTML object>"
      ]
     },
     "metadata": {},
     "output_type": "display_data"
    },
    {
     "name": "stdout",
     "output_type": "stream",
     "text": [
      "\n",
      " put vacation photos online a few yrs ago. pc crashed and now i forget the name of the site. :-0.2263\n",
      "\n",
      "Some antonyms for word forget are ['mind', 'remember']\n",
      "Word forget[VBP] replaced with remember[VBP]\n",
      "Word forget[VBP] replaced with tell[VBP]\n",
      "Word forget[VBP] replaced with imagine[VBP]\n",
      "Word forget[VBP] replaced with mind[VBP]\n",
      "Word forget[VBP] replaced with remember[VBP]\n"
     ]
    },
    {
     "data": {
      "text/html": [
       "<text style=color:DarkGray>put vacation photos online a few yrs ago . pc crashed and now i <text style=color:blue> <i>[remember]</i></text> the name of the site .: 0.0</text>"
      ],
      "text/plain": [
       "<IPython.core.display.HTML object>"
      ]
     },
     "metadata": {},
     "output_type": "display_data"
    },
    {
     "data": {
      "text/html": [
       "<text style=color:DarkGray>put vacation photos online a few yrs ago . pc crashed and now i <text style=color:blue> <i>[tell]</i></text> the name of the site .: 0.0</text>"
      ],
      "text/plain": [
       "<IPython.core.display.HTML object>"
      ]
     },
     "metadata": {},
     "output_type": "display_data"
    },
    {
     "data": {
      "text/html": [
       "<text style=color:DarkGray>put vacation photos online a few yrs ago . pc crashed and now i <text style=color:blue> <i>[imagine]</i></text> the name of the site .: 0.0</text>"
      ],
      "text/plain": [
       "<IPython.core.display.HTML object>"
      ]
     },
     "metadata": {},
     "output_type": "display_data"
    },
    {
     "data": {
      "text/html": [
       "<text style=color:DarkGray>put vacation photos online a few yrs ago . pc crashed and now i <text style=color:blue> <i>[mind]</i></text> the name of the site .: 0.0</text>"
      ],
      "text/plain": [
       "<IPython.core.display.HTML object>"
      ]
     },
     "metadata": {},
     "output_type": "display_data"
    },
    {
     "data": {
      "text/html": [
       "<text style=color:DarkGray>put vacation photos online a few yrs ago . pc crashed and now i <text style=color:blue> <i>[remember]</i></text> the name of the site .: 0.0</text>"
      ],
      "text/plain": [
       "<IPython.core.display.HTML object>"
      ]
     },
     "metadata": {},
     "output_type": "display_data"
    },
    {
     "name": "stdout",
     "output_type": "stream",
     "text": [
      "\n",
      "\n",
      "No tweets found when trying to do Positive=False\n",
      "\n",
      "\n",
      "\n",
      " i need a hug :0.4767\n",
      "\n",
      "No antonyms found for word hug\n",
      "Word hug[NN] replaced with hugs[NN]\n",
      "Word hug[NN] replaced with kiss[NN]\n",
      "Word hug[NN] replaced with hugged[NN]\n",
      "Word hug[NN] replaced with goodbye[NN]\n"
     ]
    },
    {
     "data": {
      "text/html": [
       "<text style=color:green>i need a <text style=color:blue> <i>[hugs]</i></text>: 0.4939</text>"
      ],
      "text/plain": [
       "<IPython.core.display.HTML object>"
      ]
     },
     "metadata": {},
     "output_type": "display_data"
    },
    {
     "data": {
      "text/html": [
       "<text style=color:red>i need a <text style=color:blue> <i>[kiss]</i></text>: 0.4215</text>"
      ],
      "text/plain": [
       "<IPython.core.display.HTML object>"
      ]
     },
     "metadata": {},
     "output_type": "display_data"
    },
    {
     "data": {
      "text/html": [
       "<text style=color:red>i need a <text style=color:blue> <i>[hugged]</i></text>: 0.4019</text>"
      ],
      "text/plain": [
       "<IPython.core.display.HTML object>"
      ]
     },
     "metadata": {},
     "output_type": "display_data"
    },
    {
     "data": {
      "text/html": [
       "<text style=color:DarkGray>i need a <text style=color:blue> <i>[goodbye]</i></text>: 0.0</text>"
      ],
      "text/plain": [
       "<IPython.core.display.HTML object>"
      ]
     },
     "metadata": {},
     "output_type": "display_data"
    },
    {
     "name": "stdout",
     "output_type": "stream",
     "text": [
      "\n",
      "  not sure what they are only that they are pos! as much as i want to i dont think can trade away company assets sorry andy! :-0.2134\n",
      "\n",
      "Some antonyms for word sure are ['uncertain', 'unsure']\n",
      "Word sure[JJ] replaced with uncertain[JJ]\n",
      "Word sure[JJ] replaced with unsure[JJ]\n",
      "No antonyms found for word want\n",
      "Word want[VBP] replaced with do[VBP]\n",
      "Word want[VBP] replaced with know[VBP]\n",
      "Word want[VBP] replaced with get[VBP]\n",
      "Some antonyms for word assets are ['liability']\n",
      "Word assets[NNS] replaced with investments[NNS]\n",
      "Word assets[NNS] replaced with funds[NNS]\n",
      "Some antonyms for word sorry are ['unregretful']\n",
      "Word sorry[VBP] replaced with 'm[VBP]\n",
      "Word sorry[VBP] replaced with glad[VBP]\n"
     ]
    },
    {
     "data": {
      "text/html": [
       "<text style=color:green>not <text style=color:blue> <i>[uncertain]</i></text> what they are only that they are pos ! as much as i want to i dont think can trade away company assets sorry andy !: 0.4891</text>"
      ],
      "text/plain": [
       "<IPython.core.display.HTML object>"
      ]
     },
     "metadata": {},
     "output_type": "display_data"
    },
    {
     "data": {
      "text/html": [
       "<text style=color:green>not <text style=color:blue> <i>[unsure]</i></text> what they are only that they are pos ! as much as i want to i dont think can trade away company assets sorry andy !: 0.4632</text>"
      ],
      "text/plain": [
       "<IPython.core.display.HTML object>"
      ]
     },
     "metadata": {},
     "output_type": "display_data"
    },
    {
     "data": {
      "text/html": [
       "<text style=color:green>not sure what they are only that they are pos ! as much as i want to i dont think can trade away company assets <text style=color:blue> <i>['m]</i></text> andy !: 0.1586</text>"
      ],
      "text/plain": [
       "<IPython.core.display.HTML object>"
      ]
     },
     "metadata": {},
     "output_type": "display_data"
    },
    {
     "data": {
      "text/html": [
       "<text style=color:green>not sure what they are only that they are pos ! as much as i want to i dont think can trade away company assets <text style=color:blue> <i>[glad]</i></text> andy !: 0.5606</text>"
      ],
      "text/plain": [
       "<IPython.core.display.HTML object>"
      ]
     },
     "metadata": {},
     "output_type": "display_data"
    },
    {
     "data": {
      "text/html": [
       "<text style=color:red>not sure what they are only that they are pos ! as much as i <text style=color:blue> <i>[do]</i></text> to i dont think can trade away company assets sorry andy !: -0.2837</text>"
      ],
      "text/plain": [
       "<IPython.core.display.HTML object>"
      ]
     },
     "metadata": {},
     "output_type": "display_data"
    },
    {
     "data": {
      "text/html": [
       "<text style=color:red>not sure what they are only that they are pos ! as much as i <text style=color:blue> <i>[know]</i></text> to i dont think can trade away company assets sorry andy !: -0.2837</text>"
      ],
      "text/plain": [
       "<IPython.core.display.HTML object>"
      ]
     },
     "metadata": {},
     "output_type": "display_data"
    },
    {
     "data": {
      "text/html": [
       "<text style=color:red>not sure what they are only that they are pos ! as much as i <text style=color:blue> <i>[get]</i></text> to i dont think can trade away company assets sorry andy !: -0.2837</text>"
      ],
      "text/plain": [
       "<IPython.core.display.HTML object>"
      ]
     },
     "metadata": {},
     "output_type": "display_data"
    },
    {
     "data": {
      "text/html": [
       "<text style=color:red>not sure what they are only that they are pos ! as much as i want to i dont think can trade away company <text style=color:blue> <i>[investments]</i></text> sorry andy !: -0.3707</text>"
      ],
      "text/plain": [
       "<IPython.core.display.HTML object>"
      ]
     },
     "metadata": {},
     "output_type": "display_data"
    },
    {
     "data": {
      "text/html": [
       "<text style=color:red>not sure what they are only that they are pos ! as much as i want to i dont think can trade away company <text style=color:blue> <i>[funds]</i></text> sorry andy !: -0.3707</text>"
      ],
      "text/plain": [
       "<IPython.core.display.HTML object>"
      ]
     },
     "metadata": {},
     "output_type": "display_data"
    },
    {
     "name": "stdout",
     "output_type": "stream",
     "text": [
      "\n",
      "  i hate when that happens... :-0.5719\n",
      "\n",
      "Some antonyms for word hate are ['love']\n",
      "Word hate[NN] replaced with anyone[NN]\n"
     ]
    },
    {
     "data": {
      "text/html": [
       "<text style=color:DarkGray>i <text style=color:blue> <i>[anyone]</i></text> when that happens ...: 0.0</text>"
      ],
      "text/plain": [
       "<IPython.core.display.HTML object>"
      ]
     },
     "metadata": {},
     "output_type": "display_data"
    },
    {
     "name": "stdout",
     "output_type": "stream",
     "text": [
      "\n",
      "\n",
      "No tweets found when trying to do Positive=False\n",
      "\n",
      "\n",
      "\n",
      " i have a sad feeling that dallas is not going to show up  i gotta say though you would think more shows would use music from the game. mmm:-0.3818\n",
      "\n",
      "Some antonyms for word sad are ['glad']\n",
      "Word sad[JJ] replaced with awful[JJ]\n",
      "Word sad[JJ] replaced with tragic[JJ]\n",
      "Word sad[JJ] replaced with horrible[JJ]\n",
      "Word sad[JJ] replaced with happy[JJ]\n",
      "Word sad[JJ] replaced with glad[JJ]\n",
      "No antonyms found for word feeling\n",
      "Word feeling[NN] replaced with feel[NN]\n",
      "Word feeling[NN] replaced with felt[NN]\n",
      "Word feeling[NN] replaced with sense[NN]\n"
     ]
    },
    {
     "data": {
      "text/html": [
       "<text style=color:green>i have a <text style=color:blue> <i>[awful]</i></text> feeling that dallas is not going to show up i got ta say though you would think more shows would use music from the game . mmm: -0.3612</text>"
      ],
      "text/plain": [
       "<IPython.core.display.HTML object>"
      ]
     },
     "metadata": {},
     "output_type": "display_data"
    },
    {
     "data": {
      "text/html": [
       "<text style=color:green>i have a <text style=color:blue> <i>[tragic]</i></text> feeling that dallas is not going to show up i got ta say though you would think more shows would use music from the game . mmm: -0.3612</text>"
      ],
      "text/plain": [
       "<IPython.core.display.HTML object>"
      ]
     },
     "metadata": {},
     "output_type": "display_data"
    },
    {
     "data": {
      "text/html": [
       "<text style=color:green>i have a <text style=color:blue> <i>[happy]</i></text> feeling that dallas is not going to show up i got ta say though you would think more shows would use music from the game . mmm: 0.6369</text>"
      ],
      "text/plain": [
       "<IPython.core.display.HTML object>"
      ]
     },
     "metadata": {},
     "output_type": "display_data"
    },
    {
     "data": {
      "text/html": [
       "<text style=color:green>i have a <text style=color:blue> <i>[glad]</i></text> feeling that dallas is not going to show up i got ta say though you would think more shows would use music from the game . mmm: 0.5423</text>"
      ],
      "text/plain": [
       "<IPython.core.display.HTML object>"
      ]
     },
     "metadata": {},
     "output_type": "display_data"
    },
    {
     "data": {
      "text/html": [
       "<text style=color:red>i have a <text style=color:blue> <i>[horrible]</i></text> feeling that dallas is not going to show up i got ta say though you would think more shows would use music from the game . mmm: -0.4588</text>"
      ],
      "text/plain": [
       "<IPython.core.display.HTML object>"
      ]
     },
     "metadata": {},
     "output_type": "display_data"
    },
    {
     "data": {
      "text/html": [
       "<text style=color:red>i have a sad <text style=color:blue> <i>[feel]</i></text> that dallas is not going to show up i got ta say though you would think more shows would use music from the game . mmm: -0.4767</text>"
      ],
      "text/plain": [
       "<IPython.core.display.HTML object>"
      ]
     },
     "metadata": {},
     "output_type": "display_data"
    },
    {
     "data": {
      "text/html": [
       "<text style=color:red>i have a sad <text style=color:blue> <i>[felt]</i></text> that dallas is not going to show up i got ta say though you would think more shows would use music from the game . mmm: -0.4767</text>"
      ],
      "text/plain": [
       "<IPython.core.display.HTML object>"
      ]
     },
     "metadata": {},
     "output_type": "display_data"
    },
    {
     "data": {
      "text/html": [
       "<text style=color:red>i have a sad <text style=color:blue> <i>[sense]</i></text> that dallas is not going to show up i got ta say though you would think more shows would use music from the game . mmm: -0.4767</text>"
      ],
      "text/plain": [
       "<IPython.core.display.HTML object>"
      ]
     },
     "metadata": {},
     "output_type": "display_data"
    },
    {
     "name": "stdout",
     "output_type": "stream",
     "text": [
      "\n",
      " where did u move to  i thought u were already in sd.  hmmm. random u found me. glad to hear yer doing well.:0.6249\n",
      "\n",
      "Some antonyms for word glad are ['sad']\n",
      "No POS words found for word glad with tag NN\n",
      " -- No POS approved words! -- for word glad\n",
      " some non-POS:[\"'m\", 'thankful', 'pleased', 'happy']\n",
      "Some antonyms for word well are ['badly', 'ill', 'disadvantageously']\n",
      "Word well[RB] replaced with so[RB]\n",
      "Word well[RB] replaced with badly[RB]\n",
      "Word well[RB] replaced with disadvantageously[RB]\n",
      "\n",
      "\n",
      "No tweets found when trying to do Positive=True\n",
      "\n",
      "\n"
     ]
    },
    {
     "data": {
      "text/html": [
       "<text style=color:red>where did u move to i thought u were already in sd . hmmm . random u found me . glad to hear yer doing <text style=color:blue> <i>[so]</i></text> .: 0.4588</text>"
      ],
      "text/plain": [
       "<IPython.core.display.HTML object>"
      ]
     },
     "metadata": {},
     "output_type": "display_data"
    },
    {
     "data": {
      "text/html": [
       "<text style=color:red>where did u move to i thought u were already in sd . hmmm . random u found me . glad to hear yer doing <text style=color:blue> <i>[badly]</i></text> .: -0.0258</text>"
      ],
      "text/plain": [
       "<IPython.core.display.HTML object>"
      ]
     },
     "metadata": {},
     "output_type": "display_data"
    },
    {
     "data": {
      "text/html": [
       "<text style=color:red>where did u move to i thought u were already in sd . hmmm . random u found me . glad to hear yer doing <text style=color:blue> <i>[disadvantageously]</i></text> .: -0.0258</text>"
      ],
      "text/plain": [
       "<IPython.core.display.HTML object>"
      ]
     },
     "metadata": {},
     "output_type": "display_data"
    },
    {
     "name": "stdout",
     "output_type": "stream",
     "text": [
      "\n",
      "  i miss my ps3 it is out of commission  wutcha playing have you copped blood on the sand:0.0516\n",
      "\n",
      "Some antonyms for word miss are ['have', 'attend_to', 'hit']\n",
      "Word miss[VBP] replaced with play[VBP]\n",
      "Word miss[VBP] replaced with have[VBP]\n",
      "Word miss[VBP] replaced with attend_to[VBP]\n",
      "Word miss[VBP] replaced with attend[VBP]\n",
      "No antonyms found for word playing\n",
      "No POS words found for word playing with tag VBG\n",
      " -- No POS approved words! -- for word playing\n",
      " some non-POS:['played', 'play', 'plays', 'player']\n"
     ]
    },
    {
     "data": {
      "text/html": [
       "<text style=color:green>i <text style=color:blue> <i>[play]</i></text> my ps3 it is out of commission wutcha playing have you copped blood on the sand: 0.4939</text>"
      ],
      "text/plain": [
       "<IPython.core.display.HTML object>"
      ]
     },
     "metadata": {},
     "output_type": "display_data"
    },
    {
     "data": {
      "text/html": [
       "<text style=color:green>i <text style=color:blue> <i>[have]</i></text> my ps3 it is out of commission wutcha playing have you copped blood on the sand: 0.2023</text>"
      ],
      "text/plain": [
       "<IPython.core.display.HTML object>"
      ]
     },
     "metadata": {},
     "output_type": "display_data"
    },
    {
     "data": {
      "text/html": [
       "<text style=color:green>i <text style=color:blue> <i>[attend_to]</i></text> my ps3 it is out of commission wutcha playing have you copped blood on the sand: 0.2023</text>"
      ],
      "text/plain": [
       "<IPython.core.display.HTML object>"
      ]
     },
     "metadata": {},
     "output_type": "display_data"
    },
    {
     "data": {
      "text/html": [
       "<text style=color:green>i <text style=color:blue> <i>[attend]</i></text> my ps3 it is out of commission wutcha playing have you copped blood on the sand: 0.2023</text>"
      ],
      "text/plain": [
       "<IPython.core.display.HTML object>"
      ]
     },
     "metadata": {},
     "output_type": "display_data"
    },
    {
     "name": "stdout",
     "output_type": "stream",
     "text": [
      "\n",
      "\n",
      "No tweets found when trying to do Positive=False\n",
      "\n",
      "\n",
      "\n",
      " the life is cool. but not for me. :0.1655\n",
      "\n",
      "Some antonyms for word cool are ['heat', 'warm']\n",
      "Word cool[JJ] replaced with hot[JJ]\n",
      "Word cool[JJ] replaced with warm[JJ]\n",
      "Word cool[JJ] replaced with dry[JJ]\n",
      "Word cool[JJ] replaced with cold[JJ]\n",
      "Word cool[JJ] replaced with chill[JJ]\n",
      "Word cool[JJ] replaced with heat[JJ]\n",
      "Word cool[JJ] replaced with warm[JJ]\n",
      "\n",
      "\n",
      "No tweets found when trying to do Positive=True\n",
      "\n",
      "\n"
     ]
    },
    {
     "data": {
      "text/html": [
       "<text style=color:DarkGray>the life is <text style=color:blue> <i>[hot]</i></text> . but not for me .: 0.0</text>"
      ],
      "text/plain": [
       "<IPython.core.display.HTML object>"
      ]
     },
     "metadata": {},
     "output_type": "display_data"
    },
    {
     "data": {
      "text/html": [
       "<text style=color:red>the life is <text style=color:blue> <i>[warm]</i></text> . but not for me .: 0.1154</text>"
      ],
      "text/plain": [
       "<IPython.core.display.HTML object>"
      ]
     },
     "metadata": {},
     "output_type": "display_data"
    },
    {
     "data": {
      "text/html": [
       "<text style=color:DarkGray>the life is <text style=color:blue> <i>[dry]</i></text> . but not for me .: 0.0</text>"
      ],
      "text/plain": [
       "<IPython.core.display.HTML object>"
      ]
     },
     "metadata": {},
     "output_type": "display_data"
    },
    {
     "data": {
      "text/html": [
       "<text style=color:DarkGray>the life is <text style=color:blue> <i>[cold]</i></text> . but not for me .: 0.0</text>"
      ],
      "text/plain": [
       "<IPython.core.display.HTML object>"
      ]
     },
     "metadata": {},
     "output_type": "display_data"
    },
    {
     "data": {
      "text/html": [
       "<text style=color:DarkGray>the life is <text style=color:blue> <i>[chill]</i></text> . but not for me .: 0.0</text>"
      ],
      "text/plain": [
       "<IPython.core.display.HTML object>"
      ]
     },
     "metadata": {},
     "output_type": "display_data"
    },
    {
     "data": {
      "text/html": [
       "<text style=color:DarkGray>the life is <text style=color:blue> <i>[heat]</i></text> . but not for me .: 0.0</text>"
      ],
      "text/plain": [
       "<IPython.core.display.HTML object>"
      ]
     },
     "metadata": {},
     "output_type": "display_data"
    },
    {
     "data": {
      "text/html": [
       "<text style=color:red>the life is <text style=color:blue> <i>[warm]</i></text> . but not for me .: 0.1154</text>"
      ],
      "text/plain": [
       "<IPython.core.display.HTML object>"
      ]
     },
     "metadata": {},
     "output_type": "display_data"
    },
    {
     "name": "stdout",
     "output_type": "stream",
     "text": [
      "\n",
      " sadly though i have never gotten to experience the post coitus cigarette before and now i never will. :-0.4215\n",
      "\n",
      "Some antonyms for word sadly are ['happily']\n",
      "Word sadly[RB] replaced with thankfully[RB]\n",
      "Word sadly[RB] replaced with terribly[RB]\n",
      "Word sadly[RB] replaced with frankly[RB]\n",
      "Word sadly[RB] replaced with curiously[RB]\n",
      "Word sadly[RB] replaced with painfully[RB]\n",
      "Word sadly[RB] replaced with happily[RB]\n"
     ]
    },
    {
     "data": {
      "text/html": [
       "<text style=color:green><text style=color:blue> <i>[thankfully]</i></text> though i have never gotten to experience the post coitus cigarette before and now i never will .: 0.4215</text>"
      ],
      "text/plain": [
       "<IPython.core.display.HTML object>"
      ]
     },
     "metadata": {},
     "output_type": "display_data"
    },
    {
     "data": {
      "text/html": [
       "<text style=color:DarkGray><text style=color:blue> <i>[frankly]</i></text> though i have never gotten to experience the post coitus cigarette before and now i never will .: 0.0</text>"
      ],
      "text/plain": [
       "<IPython.core.display.HTML object>"
      ]
     },
     "metadata": {},
     "output_type": "display_data"
    },
    {
     "data": {
      "text/html": [
       "<text style=color:DarkGray><text style=color:blue> <i>[curiously]</i></text> though i have never gotten to experience the post coitus cigarette before and now i never will .: 0.0</text>"
      ],
      "text/plain": [
       "<IPython.core.display.HTML object>"
      ]
     },
     "metadata": {},
     "output_type": "display_data"
    },
    {
     "data": {
      "text/html": [
       "<text style=color:green><text style=color:blue> <i>[happily]</i></text> though i have never gotten to experience the post coitus cigarette before and now i never will .: 0.5574</text>"
      ],
      "text/plain": [
       "<IPython.core.display.HTML object>"
      ]
     },
     "metadata": {},
     "output_type": "display_data"
    },
    {
     "data": {
      "text/html": [
       "<text style=color:red><text style=color:blue> <i>[terribly]</i></text> though i have never gotten to experience the post coitus cigarette before and now i never will .: -0.5574</text>"
      ],
      "text/plain": [
       "<IPython.core.display.HTML object>"
      ]
     },
     "metadata": {},
     "output_type": "display_data"
    },
    {
     "data": {
      "text/html": [
       "<text style=color:red><text style=color:blue> <i>[painfully]</i></text> though i have never gotten to experience the post coitus cigarette before and now i never will .: -0.5267</text>"
      ],
      "text/plain": [
       "<IPython.core.display.HTML object>"
      ]
     },
     "metadata": {},
     "output_type": "display_data"
    },
    {
     "name": "stdout",
     "output_type": "stream",
     "text": [
      "\n",
      " i had such a nice day. too bad the rain comes in tomorrow at 5am :-0.1779\n",
      "\n",
      "Some antonyms for word nice are ['nasty']\n",
      "Word nice[JJ] replaced with good[JJ]\n",
      "Word nice[JJ] replaced with happy[JJ]\n",
      "Word nice[JJ] replaced with perfect[JJ]\n",
      "Word nice[JJ] replaced with pretty[JJ]\n",
      "Word nice[JJ] replaced with wonderful[JJ]\n",
      "Word nice[JJ] replaced with nasty[JJ]\n",
      "Some antonyms for word bad are ['goodness', 'good', 'unregretful']\n",
      "Word bad[JJ] replaced with good[JJ]\n",
      "Word bad[JJ] replaced with goodness[JJ]\n",
      "Word bad[JJ] replaced with good[JJ]\n",
      "Word bad[JJ] replaced with unregretful[JJ]\n"
     ]
    },
    {
     "data": {
      "text/html": [
       "<text style=color:green>i had such a <text style=color:blue> <i>[good]</i></text> day . too bad the rain comes in tomorrow at 5am: -0.1531</text>"
      ],
      "text/plain": [
       "<IPython.core.display.HTML object>"
      ]
     },
     "metadata": {},
     "output_type": "display_data"
    },
    {
     "data": {
      "text/html": [
       "<text style=color:green>i had such a <text style=color:blue> <i>[happy]</i></text> day . too bad the rain comes in tomorrow at 5am: 0.0516</text>"
      ],
      "text/plain": [
       "<IPython.core.display.HTML object>"
      ]
     },
     "metadata": {},
     "output_type": "display_data"
    },
    {
     "data": {
      "text/html": [
       "<text style=color:green>i had such a <text style=color:blue> <i>[perfect]</i></text> day . too bad the rain comes in tomorrow at 5am: 0.0516</text>"
      ],
      "text/plain": [
       "<IPython.core.display.HTML object>"
      ]
     },
     "metadata": {},
     "output_type": "display_data"
    },
    {
     "data": {
      "text/html": [
       "<text style=color:green>i had such a <text style=color:blue> <i>[pretty]</i></text> day . too bad the rain comes in tomorrow at 5am: -0.0772</text>"
      ],
      "text/plain": [
       "<IPython.core.display.HTML object>"
      ]
     },
     "metadata": {},
     "output_type": "display_data"
    },
    {
     "data": {
      "text/html": [
       "<text style=color:green>i had such a <text style=color:blue> <i>[wonderful]</i></text> day . too bad the rain comes in tomorrow at 5am: 0.0516</text>"
      ],
      "text/plain": [
       "<IPython.core.display.HTML object>"
      ]
     },
     "metadata": {},
     "output_type": "display_data"
    },
    {
     "data": {
      "text/html": [
       "<text style=color:green>i had such a nice day . too <text style=color:blue> <i>[good]</i></text> the rain comes in tomorrow at 5am: 0.6908</text>"
      ],
      "text/plain": [
       "<IPython.core.display.HTML object>"
      ]
     },
     "metadata": {},
     "output_type": "display_data"
    },
    {
     "data": {
      "text/html": [
       "<text style=color:green>i had such a nice day . too <text style=color:blue> <i>[goodness]</i></text> the rain comes in tomorrow at 5am: 0.7003</text>"
      ],
      "text/plain": [
       "<IPython.core.display.HTML object>"
      ]
     },
     "metadata": {},
     "output_type": "display_data"
    },
    {
     "data": {
      "text/html": [
       "<text style=color:green>i had such a nice day . too <text style=color:blue> <i>[good]</i></text> the rain comes in tomorrow at 5am: 0.6908</text>"
      ],
      "text/plain": [
       "<IPython.core.display.HTML object>"
      ]
     },
     "metadata": {},
     "output_type": "display_data"
    },
    {
     "data": {
      "text/html": [
       "<text style=color:green>i had such a nice day . too <text style=color:blue> <i>[unregretful]</i></text> the rain comes in tomorrow at 5am: 0.4215</text>"
      ],
      "text/plain": [
       "<IPython.core.display.HTML object>"
      ]
     },
     "metadata": {},
     "output_type": "display_data"
    },
    {
     "data": {
      "text/html": [
       "<text style=color:red>i had such a <text style=color:blue> <i>[nasty]</i></text> day . too bad the rain comes in tomorrow at 5am: -0.7964</text>"
      ],
      "text/plain": [
       "<IPython.core.display.HTML object>"
      ]
     },
     "metadata": {},
     "output_type": "display_data"
    },
    {
     "name": "stdout",
     "output_type": "stream",
     "text": [
      "\n",
      "  too bad i will not be around i lost my job and can not even pay my phone bill lmao aw shucks :0.3935\n",
      "\n",
      "Some antonyms for word bad are ['goodness', 'good', 'unregretful']\n",
      "Word bad[JJ] replaced with good[JJ]\n",
      "Word bad[JJ] replaced with goodness[JJ]\n",
      "Word bad[JJ] replaced with good[JJ]\n",
      "Word bad[JJ] replaced with unregretful[JJ]\n",
      "Some antonyms for word lost are ['profit', 'won', 'keep']\n",
      "Word lost[VBD] replaced with won[VBD]\n",
      "Word lost[VBD] replaced with saved[VBD]\n",
      "Word lost[VBD] replaced with found[VBD]\n",
      "Some antonyms for word pay are ['default']\n",
      "Word pay[VB] replaced with default[VB]\n",
      " --- lmao not in vocabulary ---\n",
      "No replacements found at all for word lmao\n"
     ]
    },
    {
     "data": {
      "text/html": [
       "<text style=color:green>too <text style=color:blue> <i>[good]</i></text> i will not be around i lost my job and can not even pay my phone bill lmao aw shucks: 0.8425</text>"
      ],
      "text/plain": [
       "<IPython.core.display.HTML object>"
      ]
     },
     "metadata": {},
     "output_type": "display_data"
    },
    {
     "data": {
      "text/html": [
       "<text style=color:green>too <text style=color:blue> <i>[goodness]</i></text> i will not be around i lost my job and can not even pay my phone bill lmao aw shucks: 0.8465</text>"
      ],
      "text/plain": [
       "<IPython.core.display.HTML object>"
      ]
     },
     "metadata": {},
     "output_type": "display_data"
    },
    {
     "data": {
      "text/html": [
       "<text style=color:green>too <text style=color:blue> <i>[good]</i></text> i will not be around i lost my job and can not even pay my phone bill lmao aw shucks: 0.8425</text>"
      ],
      "text/plain": [
       "<IPython.core.display.HTML object>"
      ]
     },
     "metadata": {},
     "output_type": "display_data"
    },
    {
     "data": {
      "text/html": [
       "<text style=color:green>too <text style=color:blue> <i>[unregretful]</i></text> i will not be around i lost my job and can not even pay my phone bill lmao aw shucks: 0.7317</text>"
      ],
      "text/plain": [
       "<IPython.core.display.HTML object>"
      ]
     },
     "metadata": {},
     "output_type": "display_data"
    },
    {
     "data": {
      "text/html": [
       "<text style=color:red>too bad i will not be around i <text style=color:blue> <i>[won]</i></text> my job and can not even pay my phone bill lmao aw shucks: -0.3187</text>"
      ],
      "text/plain": [
       "<IPython.core.display.HTML object>"
      ]
     },
     "metadata": {},
     "output_type": "display_data"
    },
    {
     "data": {
      "text/html": [
       "<text style=color:red>too bad i will not be around i <text style=color:blue> <i>[saved]</i></text> my job and can not even pay my phone bill lmao aw shucks: -0.162</text>"
      ],
      "text/plain": [
       "<IPython.core.display.HTML object>"
      ]
     },
     "metadata": {},
     "output_type": "display_data"
    },
    {
     "data": {
      "text/html": [
       "<text style=color:red>too bad i will not be around i <text style=color:blue> <i>[found]</i></text> my job and can not even pay my phone bill lmao aw shucks: 0.1769</text>"
      ],
      "text/plain": [
       "<IPython.core.display.HTML object>"
      ]
     },
     "metadata": {},
     "output_type": "display_data"
    },
    {
     "data": {
      "text/html": [
       "<text style=color:red>too bad i will not be around i lost my job and can not even <text style=color:blue> <i>[default]</i></text> my phone bill lmao aw shucks: 0.3318</text>"
      ],
      "text/plain": [
       "<IPython.core.display.HTML object>"
      ]
     },
     "metadata": {},
     "output_type": "display_data"
    },
    {
     "name": "stdout",
     "output_type": "stream",
     "text": [
      "\n",
      " mo jobs no money.  how in the hell is min wage here 4 fn clams an hour:-0.7783\n",
      "\n",
      "Some antonyms for word no are ['all', 'yes']\n",
      "Word no[DT] replaced with any[DT]\n",
      "Word no[DT] replaced with all[DT]\n",
      "Some antonyms for word hell are ['Heaven']\n",
      "Word hell[NN] replaced with heaven[NN]\n",
      "Word hell[NN] replaced with crazy[NN]\n"
     ]
    },
    {
     "data": {
      "text/html": [
       "<text style=color:green>mo jobs <text style=color:blue> <i>[any]</i></text> money . how in the hell is min wage here 4 fn clams an hour: -0.6808</text>"
      ],
      "text/plain": [
       "<IPython.core.display.HTML object>"
      ]
     },
     "metadata": {},
     "output_type": "display_data"
    },
    {
     "data": {
      "text/html": [
       "<text style=color:green>mo jobs <text style=color:blue> <i>[all]</i></text> money . how in the hell is min wage here 4 fn clams an hour: -0.6808</text>"
      ],
      "text/plain": [
       "<IPython.core.display.HTML object>"
      ]
     },
     "metadata": {},
     "output_type": "display_data"
    },
    {
     "data": {
      "text/html": [
       "<text style=color:green>mo jobs no money . how in the <text style=color:blue> <i>[heaven]</i></text> is min wage here 4 fn clams an hour: 0.2732</text>"
      ],
      "text/plain": [
       "<IPython.core.display.HTML object>"
      ]
     },
     "metadata": {},
     "output_type": "display_data"
    },
    {
     "data": {
      "text/html": [
       "<text style=color:green>mo jobs no money . how in the <text style=color:blue> <i>[crazy]</i></text> is min wage here 4 fn clams an hour: -0.5574</text>"
      ],
      "text/plain": [
       "<IPython.core.display.HTML object>"
      ]
     },
     "metadata": {},
     "output_type": "display_data"
    },
    {
     "name": "stdout",
     "output_type": "stream",
     "text": [
      "\n",
      "\n",
      "No tweets found when trying to do Positive=False\n",
      "\n",
      "\n",
      "\n",
      "  agreed i saw the failwhale allllll day today. :0.2732\n",
      "\n",
      "Some antonyms for word agreed are ['disagree']\n",
      "No POS words found for word agreed with tag VBN\n",
      " -- No POS approved words! -- for word agreed\n",
      " some non-POS:['agree', 'agreement', 'decided', 'agreeing']\n",
      " -- No new Strings generated ---\n",
      "\n",
      "\n",
      "\n",
      "  oh! haha... dude i dont really look at em unless someone says hey i added you. sorry  i am so terrible at that. i need a pop up!:-0.6459\n",
      "\n",
      "No antonyms found for word haha\n",
      "Word haha[NN] replaced with prude[NN]\n",
      "Word haha[NN] replaced with porpoise[NN]\n",
      "Word haha[NN] replaced with será[NN]\n",
      "Some antonyms for word sorry are ['unregretful']\n",
      "Word sorry[VB] replaced with glad[VB]\n",
      "Word sorry[VB] replaced with sad[VB]\n",
      "No antonyms found for word terrible\n",
      "Word terrible[JJ] replaced with horrible[JJ]\n",
      "Word terrible[JJ] replaced with awful[JJ]\n",
      "Word terrible[JJ] replaced with dreadful[JJ]\n",
      "Word terrible[JJ] replaced with horrendous[JJ]\n",
      "Word terrible[JJ] replaced with horrific[JJ]\n"
     ]
    },
    {
     "data": {
      "text/html": [
       "<text style=color:green>oh ! haha ... dude i dont really look at em unless someone says hey i added you . <text style=color:blue> <i>[glad]</i></text> i am so terrible at that . i need a pop up !: 0.4924</text>"
      ],
      "text/plain": [
       "<IPython.core.display.HTML object>"
      ]
     },
     "metadata": {},
     "output_type": "display_data"
    },
    {
     "data": {
      "text/html": [
       "<text style=color:green>oh ! haha ... dude i dont really look at em unless someone says hey i added you . <text style=color:blue> <i>[sad]</i></text> i am so terrible at that . i need a pop up !: -0.6221</text>"
      ],
      "text/plain": [
       "<IPython.core.display.HTML object>"
      ]
     },
     "metadata": {},
     "output_type": "display_data"
    },
    {
     "data": {
      "text/html": [
       "<text style=color:green>oh ! haha ... dude i dont really look at em unless someone says hey i added you . sorry i am so <text style=color:blue> <i>[horrible]</i></text> at that . i need a pop up !: -0.3973</text>"
      ],
      "text/plain": [
       "<IPython.core.display.HTML object>"
      ]
     },
     "metadata": {},
     "output_type": "display_data"
    },
    {
     "data": {
      "text/html": [
       "<text style=color:green>oh ! haha ... dude i dont really look at em unless someone says hey i added you . sorry i am so <text style=color:blue> <i>[awful]</i></text> at that . i need a pop up !: -0.2908</text>"
      ],
      "text/plain": [
       "<IPython.core.display.HTML object>"
      ]
     },
     "metadata": {},
     "output_type": "display_data"
    },
    {
     "data": {
      "text/html": [
       "<text style=color:green>oh ! haha ... dude i dont really look at em unless someone says hey i added you . sorry i am so <text style=color:blue> <i>[dreadful]</i></text> at that . i need a pop up !: -0.2679</text>"
      ],
      "text/plain": [
       "<IPython.core.display.HTML object>"
      ]
     },
     "metadata": {},
     "output_type": "display_data"
    },
    {
     "data": {
      "text/html": [
       "<text style=color:green>oh ! haha ... dude i dont really look at em unless someone says hey i added you . sorry i am so <text style=color:blue> <i>[horrendous]</i></text> at that . i need a pop up !: -0.4547</text>"
      ],
      "text/plain": [
       "<IPython.core.display.HTML object>"
      ]
     },
     "metadata": {},
     "output_type": "display_data"
    },
    {
     "data": {
      "text/html": [
       "<text style=color:green>oh ! haha ... dude i dont really look at em unless someone says hey i added you . sorry i am so <text style=color:blue> <i>[horrific]</i></text> at that . i need a pop up !: -0.554</text>"
      ],
      "text/plain": [
       "<IPython.core.display.HTML object>"
      ]
     },
     "metadata": {},
     "output_type": "display_data"
    },
    {
     "name": "stdout",
     "output_type": "stream",
     "text": [
      "\n",
      "\n",
      "No tweets found when trying to do Positive=False\n",
      "\n",
      "\n",
      "\n",
      "  i am sure you are right...    i need to start working out with you and the nikster... or jared at least!:0.3802\n",
      "\n",
      "Some antonyms for word sure are ['uncertain', 'unsure']\n",
      "Word sure[JJ] replaced with uncertain[JJ]\n",
      "\n",
      "\n",
      "No tweets found when trying to do Positive=True\n",
      "\n",
      "\n"
     ]
    },
    {
     "data": {
      "text/html": [
       "<text style=color:red>i am <text style=color:blue> <i>[uncertain]</i></text> you are right ... i need to start working out with you and the nikster ... or jared at least !: -0.3595</text>"
      ],
      "text/plain": [
       "<IPython.core.display.HTML object>"
      ]
     },
     "metadata": {},
     "output_type": "display_data"
    },
    {
     "name": "stdout",
     "output_type": "stream",
     "text": [
      "\n",
      " i really hate how people diss my bands!  trace is clearly not ugly!:0.2484\n",
      "\n",
      "Some antonyms for word hate are ['love']\n",
      "Word hate[VB] replaced with racist[VB]\n",
      "Word hate[VB] replaced with racism[VB]\n",
      "Word hate[VB] replaced with fear[VB]\n",
      "Word hate[VB] replaced with love[VB]\n",
      "Some antonyms for word clearly are ['unintelligibly']\n",
      "Word clearly[RB] replaced with obviously[RB]\n",
      "Word clearly[RB] replaced with certainly[RB]\n",
      "Word clearly[RB] replaced with indeed[RB]\n",
      "Word clearly[RB] replaced with unintelligibly[RB]\n",
      "Some antonyms for word ugly are ['beautiful']\n",
      "No POS words found for word ugly with tag RB\n",
      " -- No POS approved words! -- for word ugly\n",
      " some non-POS:['nasty', 'awful', 'horrible', 'stupid']\n"
     ]
    },
    {
     "data": {
      "text/html": [
       "<text style=color:green>i really <text style=color:blue> <i>[fear]</i></text> how people diss my bands ! trace is clearly not ugly !: 0.3597</text>"
      ],
      "text/plain": [
       "<IPython.core.display.HTML object>"
      ]
     },
     "metadata": {},
     "output_type": "display_data"
    },
    {
     "data": {
      "text/html": [
       "<text style=color:green>i really <text style=color:blue> <i>[love]</i></text> how people diss my bands ! trace is clearly not ugly !: 0.888</text>"
      ],
      "text/plain": [
       "<IPython.core.display.HTML object>"
      ]
     },
     "metadata": {},
     "output_type": "display_data"
    },
    {
     "data": {
      "text/html": [
       "<text style=color:red>i really <text style=color:blue> <i>[racist]</i></text> how people diss my bands ! trace is clearly not ugly !: 0.1761</text>"
      ],
      "text/plain": [
       "<IPython.core.display.HTML object>"
      ]
     },
     "metadata": {},
     "output_type": "display_data"
    },
    {
     "data": {
      "text/html": [
       "<text style=color:red>i really <text style=color:blue> <i>[racism]</i></text> how people diss my bands ! trace is clearly not ugly !: 0.1513</text>"
      ],
      "text/plain": [
       "<IPython.core.display.HTML object>"
      ]
     },
     "metadata": {},
     "output_type": "display_data"
    },
    {
     "data": {
      "text/html": [
       "<text style=color:red>i really hate how people diss my bands ! trace is <text style=color:blue> <i>[obviously]</i></text> not ugly !: -0.4357</text>"
      ],
      "text/plain": [
       "<IPython.core.display.HTML object>"
      ]
     },
     "metadata": {},
     "output_type": "display_data"
    },
    {
     "data": {
      "text/html": [
       "<text style=color:red>i really hate how people diss my bands ! trace is <text style=color:blue> <i>[certainly]</i></text> not ugly !: 0.1761</text>"
      ],
      "text/plain": [
       "<IPython.core.display.HTML object>"
      ]
     },
     "metadata": {},
     "output_type": "display_data"
    },
    {
     "data": {
      "text/html": [
       "<text style=color:red>i really hate how people diss my bands ! trace is <text style=color:blue> <i>[indeed]</i></text> not ugly !: -0.4357</text>"
      ],
      "text/plain": [
       "<IPython.core.display.HTML object>"
      ]
     },
     "metadata": {},
     "output_type": "display_data"
    },
    {
     "data": {
      "text/html": [
       "<text style=color:red>i really hate how people diss my bands ! trace is <text style=color:blue> <i>[unintelligibly]</i></text> not ugly !: -0.4357</text>"
      ],
      "text/plain": [
       "<IPython.core.display.HTML object>"
      ]
     },
     "metadata": {},
     "output_type": "display_data"
    },
    {
     "name": "stdout",
     "output_type": "stream",
     "text": [
      "\n",
      " gym attire today was puma singlet adidas shorts.......and black business socks and leather shoes  lucky did not run into any cute girls.:0.7003\n",
      "\n",
      "Some antonyms for word lucky are ['unlucky']\n",
      "Word lucky[RB] replaced with unlucky[RB]\n",
      "Word lucky[RB] replaced with unlucky[RB]\n",
      "No antonyms found for word cute\n",
      "Word cute[JJ] replaced with adorable[JJ]\n",
      "Word cute[JJ] replaced with goofy[JJ]\n",
      "Word cute[JJ] replaced with sexy[JJ]\n",
      "Word cute[JJ] replaced with cuddly[JJ]\n",
      "Word cute[JJ] replaced with funny[JJ]\n"
     ]
    },
    {
     "data": {
      "text/html": [
       "<text style=color:green>gym attire today was puma singlet adidas shorts ... ... .and black business socks and leather shoes lucky did not run into any <text style=color:blue> <i>[adorable]</i></text> girls .: 0.7184</text>"
      ],
      "text/plain": [
       "<IPython.core.display.HTML object>"
      ]
     },
     "metadata": {},
     "output_type": "display_data"
    },
    {
     "data": {
      "text/html": [
       "<text style=color:green>gym attire today was puma singlet adidas shorts ... ... .and black business socks and leather shoes lucky did not run into any <text style=color:blue> <i>[sexy]</i></text> girls .: 0.7351</text>"
      ],
      "text/plain": [
       "<IPython.core.display.HTML object>"
      ]
     },
     "metadata": {},
     "output_type": "display_data"
    },
    {
     "data": {
      "text/html": [
       "<text style=color:red>gym attire today was puma singlet adidas shorts ... ... .and black business socks and leather shoes <text style=color:blue> <i>[unlucky]</i></text> did not run into any cute girls .: 0.4588</text>"
      ],
      "text/plain": [
       "<IPython.core.display.HTML object>"
      ]
     },
     "metadata": {},
     "output_type": "display_data"
    },
    {
     "data": {
      "text/html": [
       "<text style=color:red>gym attire today was puma singlet adidas shorts ... ... .and black business socks and leather shoes <text style=color:blue> <i>[unlucky]</i></text> did not run into any cute girls .: 0.4588</text>"
      ],
      "text/plain": [
       "<IPython.core.display.HTML object>"
      ]
     },
     "metadata": {},
     "output_type": "display_data"
    },
    {
     "data": {
      "text/html": [
       "<text style=color:red>gym attire today was puma singlet adidas shorts ... ... .and black business socks and leather shoes lucky did not run into any <text style=color:blue> <i>[goofy]</i></text> girls .: 0.4215</text>"
      ],
      "text/plain": [
       "<IPython.core.display.HTML object>"
      ]
     },
     "metadata": {},
     "output_type": "display_data"
    },
    {
     "data": {
      "text/html": [
       "<text style=color:red>gym attire today was puma singlet adidas shorts ... ... .and black business socks and leather shoes lucky did not run into any <text style=color:blue> <i>[cuddly]</i></text> girls .: 0.4215</text>"
      ],
      "text/plain": [
       "<IPython.core.display.HTML object>"
      ]
     },
     "metadata": {},
     "output_type": "display_data"
    },
    {
     "data": {
      "text/html": [
       "<text style=color:red>gym attire today was puma singlet adidas shorts ... ... .and black business socks and leather shoes lucky did not run into any <text style=color:blue> <i>[funny]</i></text> girls .: 0.6908</text>"
      ],
      "text/plain": [
       "<IPython.core.display.HTML object>"
      ]
     },
     "metadata": {},
     "output_type": "display_data"
    },
    {
     "name": "stdout",
     "output_type": "stream",
     "text": [
      "\n",
      " no picnic  my phone smells like citrus.:0.0772\n",
      "\n",
      "Some antonyms for word no are ['all', 'yes']\n",
      "Word no[DT] replaced with any[DT]\n",
      "Word no[DT] replaced with all[DT]\n",
      "Some antonyms for word like are ['dislike', 'unalike', 'unlike']\n",
      "Word like[IN] replaced with unlike[IN]\n"
     ]
    },
    {
     "data": {
      "text/html": [
       "<text style=color:green><text style=color:blue> <i>[any]</i></text> picnic my phone smells like citrus .: 0.3612</text>"
      ],
      "text/plain": [
       "<IPython.core.display.HTML object>"
      ]
     },
     "metadata": {},
     "output_type": "display_data"
    },
    {
     "data": {
      "text/html": [
       "<text style=color:green><text style=color:blue> <i>[all]</i></text> picnic my phone smells like citrus .: 0.3612</text>"
      ],
      "text/plain": [
       "<IPython.core.display.HTML object>"
      ]
     },
     "metadata": {},
     "output_type": "display_data"
    },
    {
     "data": {
      "text/html": [
       "<text style=color:red>no picnic my phone smells <text style=color:blue> <i>[unlike]</i></text> citrus .: -0.296</text>"
      ],
      "text/plain": [
       "<IPython.core.display.HTML object>"
      ]
     },
     "metadata": {},
     "output_type": "display_data"
    },
    {
     "name": "stdout",
     "output_type": "stream",
     "text": [
      "\n",
      "  my donkey is sensitive about such comments. nevertheless he would and me would be glad to see your mug asap. charger is still awol. :0.1779\n",
      "\n",
      "Some antonyms for word glad are ['sad']\n",
      "Word glad[JJ] replaced with thankful[JJ]\n",
      "Word glad[JJ] replaced with happy[JJ]\n",
      "Word glad[JJ] replaced with sad[JJ]\n",
      "No antonyms found for word awol\n",
      "Word awol[JJ] replaced with unmentioned[JJ]\n",
      "Word awol[JJ] replaced with unreported[JJ]\n"
     ]
    },
    {
     "data": {
      "text/html": [
       "<text style=color:green>my donkey is sensitive about such comments . nevertheless he would and me would be <text style=color:blue> <i>[thankful]</i></text> to see your mug asap . charger is still awol .: 0.34</text>"
      ],
      "text/plain": [
       "<IPython.core.display.HTML object>"
      ]
     },
     "metadata": {},
     "output_type": "display_data"
    },
    {
     "data": {
      "text/html": [
       "<text style=color:green>my donkey is sensitive about such comments . nevertheless he would and me would be <text style=color:blue> <i>[happy]</i></text> to see your mug asap . charger is still awol .: 0.34</text>"
      ],
      "text/plain": [
       "<IPython.core.display.HTML object>"
      ]
     },
     "metadata": {},
     "output_type": "display_data"
    },
    {
     "data": {
      "text/html": [
       "<text style=color:green>my donkey is sensitive about such comments . nevertheless he would and me would be glad to see your mug asap . charger is still <text style=color:blue> <i>[unmentioned]</i></text> .: 0.4588</text>"
      ],
      "text/plain": [
       "<IPython.core.display.HTML object>"
      ]
     },
     "metadata": {},
     "output_type": "display_data"
    },
    {
     "data": {
      "text/html": [
       "<text style=color:green>my donkey is sensitive about such comments . nevertheless he would and me would be glad to see your mug asap . charger is still <text style=color:blue> <i>[unreported]</i></text> .: 0.4588</text>"
      ],
      "text/plain": [
       "<IPython.core.display.HTML object>"
      ]
     },
     "metadata": {},
     "output_type": "display_data"
    },
    {
     "data": {
      "text/html": [
       "<text style=color:red>my donkey is sensitive about such comments . nevertheless he would and me would be <text style=color:blue> <i>[sad]</i></text> to see your mug asap . charger is still awol .: -0.6597</text>"
      ],
      "text/plain": [
       "<IPython.core.display.HTML object>"
      ]
     },
     "metadata": {},
     "output_type": "display_data"
    },
    {
     "name": "stdout",
     "output_type": "stream",
     "text": [
      "\n",
      " no new csi tonight.  fml:-0.296\n",
      "\n",
      "Some antonyms for word no are ['all', 'yes']\n",
      "Word no[DT] replaced with any[DT]\n",
      "Word no[DT] replaced with all[DT]\n"
     ]
    },
    {
     "data": {
      "text/html": [
       "<text style=color:DarkGray><text style=color:blue> <i>[any]</i></text> new csi tonight . fml: 0.0</text>"
      ],
      "text/plain": [
       "<IPython.core.display.HTML object>"
      ]
     },
     "metadata": {},
     "output_type": "display_data"
    },
    {
     "data": {
      "text/html": [
       "<text style=color:DarkGray><text style=color:blue> <i>[all]</i></text> new csi tonight . fml: 0.0</text>"
      ],
      "text/plain": [
       "<IPython.core.display.HTML object>"
      ]
     },
     "metadata": {},
     "output_type": "display_data"
    },
    {
     "name": "stdout",
     "output_type": "stream",
     "text": [
      "\n",
      "\n",
      "No tweets found when trying to do Positive=False\n",
      "\n",
      "\n",
      "\n",
      " i think my arms are sore from tennis :-0.3612\n",
      "\n",
      "No antonyms found for word sore\n",
      "No POS words found for word sore with tag RB\n",
      " -- No POS approved words! -- for word sore\n",
      " some non-POS:['shoulder', 'elbow', 'tendinitis', 'knee']\n",
      " -- No new Strings generated ---\n",
      "\n",
      "\n",
      "\n",
      " wonders why someone that u like so much can make you so unhappy in a split seccond . depressed . :-0.6615\n",
      "\n",
      "Some antonyms for word like are ['dislike', 'unalike', 'unlike']\n",
      "Word like[IN] replaced with unalike[IN]\n",
      "Word like[IN] replaced with unlike[IN]\n",
      "Some antonyms for word unhappy are ['euphoric', 'happy']\n",
      "Word unhappy[JJ] replaced with disappointed[JJ]\n",
      "Word unhappy[JJ] replaced with anxious[JJ]\n",
      "Word unhappy[JJ] replaced with euphoric[JJ]\n",
      "Word unhappy[JJ] replaced with happy[JJ]\n",
      "Some antonyms for word depressed are ['elate']\n",
      "Word depressed[VBN] replaced with distressed[VBN]\n"
     ]
    },
    {
     "data": {
      "text/html": [
       "<text style=color:green>wonders why someone that u like so much can make you so <text style=color:blue> <i>[anxious]</i></text> in a split seccond . depressed .: -0.5293</text>"
      ],
      "text/plain": [
       "<IPython.core.display.HTML object>"
      ]
     },
     "metadata": {},
     "output_type": "display_data"
    },
    {
     "data": {
      "text/html": [
       "<text style=color:green>wonders why someone that u like so much can make you so <text style=color:blue> <i>[euphoric]</i></text> in a split seccond . depressed .: 0.6774</text>"
      ],
      "text/plain": [
       "<IPython.core.display.HTML object>"
      ]
     },
     "metadata": {},
     "output_type": "display_data"
    },
    {
     "data": {
      "text/html": [
       "<text style=color:green>wonders why someone that u like so much can make you so <text style=color:blue> <i>[happy]</i></text> in a split seccond . depressed .: 0.6048</text>"
      ],
      "text/plain": [
       "<IPython.core.display.HTML object>"
      ]
     },
     "metadata": {},
     "output_type": "display_data"
    },
    {
     "data": {
      "text/html": [
       "<text style=color:green>wonders why someone that u like so much can make you so unhappy in a split seccond . <text style=color:blue> <i>[distressed]</i></text> .: -0.6015</text>"
      ],
      "text/plain": [
       "<IPython.core.display.HTML object>"
      ]
     },
     "metadata": {},
     "output_type": "display_data"
    },
    {
     "data": {
      "text/html": [
       "<text style=color:red>wonders why someone that u <text style=color:blue> <i>[unalike]</i></text> so much can make you so unhappy in a split seccond . depressed .: -0.7855</text>"
      ],
      "text/plain": [
       "<IPython.core.display.HTML object>"
      ]
     },
     "metadata": {},
     "output_type": "display_data"
    },
    {
     "data": {
      "text/html": [
       "<text style=color:red>wonders why someone that u <text style=color:blue> <i>[unlike]</i></text> so much can make you so unhappy in a split seccond . depressed .: -0.7855</text>"
      ],
      "text/plain": [
       "<IPython.core.display.HTML object>"
      ]
     },
     "metadata": {},
     "output_type": "display_data"
    },
    {
     "data": {
      "text/html": [
       "<text style=color:red>wonders why someone that u like so much can make you so <text style=color:blue> <i>[disappointed]</i></text> in a split seccond . depressed .: -0.6995</text>"
      ],
      "text/plain": [
       "<IPython.core.display.HTML object>"
      ]
     },
     "metadata": {},
     "output_type": "display_data"
    },
    {
     "name": "stdout",
     "output_type": "stream",
     "text": [
      "\n",
      " sleep soon... i just hate saying bye and see you tomorrow for the night. :-0.5719\n",
      "\n",
      "Some antonyms for word hate are ['love']\n",
      "Word hate[VB] replaced with love[VB]\n"
     ]
    },
    {
     "data": {
      "text/html": [
       "<text style=color:green>sleep soon ... i just <text style=color:blue> <i>[love]</i></text> saying bye and see you tomorrow for the night .: 0.6369</text>"
      ],
      "text/plain": [
       "<IPython.core.display.HTML object>"
      ]
     },
     "metadata": {},
     "output_type": "display_data"
    },
    {
     "name": "stdout",
     "output_type": "stream",
     "text": [
      "\n",
      "\n",
      "No tweets found when trying to do Positive=False\n",
      "\n",
      "\n",
      "\n",
      "  just got ur newsletter those fares really are unbelievable shame i already booked and paid for mine :-0.315\n",
      "\n",
      "Some antonyms for word unbelievable are ['credible']\n",
      "Word unbelievable[JJ] replaced with incredible[JJ]\n",
      "Word unbelievable[JJ] replaced with awesome[JJ]\n",
      "Word unbelievable[JJ] replaced with fantastic[JJ]\n",
      "Word unbelievable[JJ] replaced with awful[JJ]\n",
      "Word unbelievable[JJ] replaced with credible[JJ]\n",
      "Some antonyms for word shame are ['honor']\n",
      "Word shame[NN] replaced with disgrace[NN]\n",
      "Word shame[NN] replaced with pity[NN]\n",
      "Word shame[NN] replaced with sorrow[NN]\n",
      "Word shame[NN] replaced with honor[NN]\n"
     ]
    },
    {
     "data": {
      "text/html": [
       "<text style=color:green>just got ur newsletter those fares really are <text style=color:blue> <i>[awesome]</i></text> shame i already booked and paid for mine: 0.2534</text>"
      ],
      "text/plain": [
       "<IPython.core.display.HTML object>"
      ]
     },
     "metadata": {},
     "output_type": "display_data"
    },
    {
     "data": {
      "text/html": [
       "<text style=color:green>just got ur newsletter those fares really are <text style=color:blue> <i>[fantastic]</i></text> shame i already booked and paid for mine: 0.1317</text>"
      ],
      "text/plain": [
       "<IPython.core.display.HTML object>"
      ]
     },
     "metadata": {},
     "output_type": "display_data"
    },
    {
     "data": {
      "text/html": [
       "<text style=color:green>just got ur newsletter those fares really are unbelievable <text style=color:blue> <i>[pity]</i></text> i already booked and paid for mine: -0.099</text>"
      ],
      "text/plain": [
       "<IPython.core.display.HTML object>"
      ]
     },
     "metadata": {},
     "output_type": "display_data"
    },
    {
     "data": {
      "text/html": [
       "<text style=color:green>just got ur newsletter those fares really are unbelievable <text style=color:blue> <i>[honor]</i></text> i already booked and paid for mine: 0.6749</text>"
      ],
      "text/plain": [
       "<IPython.core.display.HTML object>"
      ]
     },
     "metadata": {},
     "output_type": "display_data"
    },
    {
     "data": {
      "text/html": [
       "<text style=color:red>just got ur newsletter those fares really are <text style=color:blue> <i>[incredible]</i></text> shame i already booked and paid for mine: -0.5209</text>"
      ],
      "text/plain": [
       "<IPython.core.display.HTML object>"
      ]
     },
     "metadata": {},
     "output_type": "display_data"
    },
    {
     "data": {
      "text/html": [
       "<text style=color:red>just got ur newsletter those fares really are <text style=color:blue> <i>[awful]</i></text> shame i already booked and paid for mine: -0.7678</text>"
      ],
      "text/plain": [
       "<IPython.core.display.HTML object>"
      ]
     },
     "metadata": {},
     "output_type": "display_data"
    },
    {
     "data": {
      "text/html": [
       "<text style=color:red>just got ur newsletter those fares really are <text style=color:blue> <i>[credible]</i></text> shame i already booked and paid for mine: -0.5209</text>"
      ],
      "text/plain": [
       "<IPython.core.display.HTML object>"
      ]
     },
     "metadata": {},
     "output_type": "display_data"
    },
    {
     "data": {
      "text/html": [
       "<text style=color:red>just got ur newsletter those fares really are unbelievable <text style=color:blue> <i>[disgrace]</i></text> i already booked and paid for mine: -0.3368</text>"
      ],
      "text/plain": [
       "<IPython.core.display.HTML object>"
      ]
     },
     "metadata": {},
     "output_type": "display_data"
    },
    {
     "data": {
      "text/html": [
       "<text style=color:red>just got ur newsletter those fares really are unbelievable <text style=color:blue> <i>[sorrow]</i></text> i already booked and paid for mine: -0.3788</text>"
      ],
      "text/plain": [
       "<IPython.core.display.HTML object>"
      ]
     },
     "metadata": {},
     "output_type": "display_data"
    },
    {
     "name": "stdout",
     "output_type": "stream",
     "text": [
      "\n",
      " damn... i do not have any chalk! my chalkboard is useless :-0.4753\n",
      "\n",
      "Some antonyms for word damn are ['bless']\n",
      "Word damn[NN] replaced with darn[NN]\n",
      "Word damn[NN] replaced with yeah[NN]\n",
      "Word damn[NN] replaced with heck[NN]\n",
      "Word damn[NN] replaced with bless[NN]\n",
      "Some antonyms for word useless are ['useful']\n",
      "Word useless[JJ] replaced with irrelevant[JJ]\n",
      "Word useless[JJ] replaced with meaningless[JJ]\n",
      "Word useless[JJ] replaced with superfluous[JJ]\n",
      "Word useless[JJ] replaced with impractical[JJ]\n",
      "Word useless[JJ] replaced with pointless[JJ]\n",
      "Word useless[JJ] replaced with useful[JJ]\n"
     ]
    },
    {
     "data": {
      "text/html": [
       "<text style=color:green><text style=color:blue> <i>[yeah]</i></text> ... i do not have any chalk ! my chalkboard is useless: -0.2244</text>"
      ],
      "text/plain": [
       "<IPython.core.display.HTML object>"
      ]
     },
     "metadata": {},
     "output_type": "display_data"
    },
    {
     "data": {
      "text/html": [
       "<text style=color:DarkGray><text style=color:blue> <i>[bless]</i></text> ... i do not have any chalk ! my chalkboard is useless: 0.0</text>"
      ],
      "text/plain": [
       "<IPython.core.display.HTML object>"
      ]
     },
     "metadata": {},
     "output_type": "display_data"
    },
    {
     "data": {
      "text/html": [
       "<text style=color:green>damn ... i do not have any chalk ! my chalkboard is <text style=color:blue> <i>[irrelevant]</i></text>: -0.4574</text>"
      ],
      "text/plain": [
       "<IPython.core.display.HTML object>"
      ]
     },
     "metadata": {},
     "output_type": "display_data"
    },
    {
     "data": {
      "text/html": [
       "<text style=color:green>damn ... i do not have any chalk ! my chalkboard is <text style=color:blue> <i>[superfluous]</i></text>: -0.4574</text>"
      ],
      "text/plain": [
       "<IPython.core.display.HTML object>"
      ]
     },
     "metadata": {},
     "output_type": "display_data"
    },
    {
     "data": {
      "text/html": [
       "<text style=color:green>damn ... i do not have any chalk ! my chalkboard is <text style=color:blue> <i>[impractical]</i></text>: -0.4574</text>"
      ],
      "text/plain": [
       "<IPython.core.display.HTML object>"
      ]
     },
     "metadata": {},
     "output_type": "display_data"
    },
    {
     "data": {
      "text/html": [
       "<text style=color:green>damn ... i do not have any chalk ! my chalkboard is <text style=color:blue> <i>[pointless]</i></text>: -0.4574</text>"
      ],
      "text/plain": [
       "<IPython.core.display.HTML object>"
      ]
     },
     "metadata": {},
     "output_type": "display_data"
    },
    {
     "data": {
      "text/html": [
       "<text style=color:green>damn ... i do not have any chalk ! my chalkboard is <text style=color:blue> <i>[useful]</i></text>: 0.126</text>"
      ],
      "text/plain": [
       "<IPython.core.display.HTML object>"
      ]
     },
     "metadata": {},
     "output_type": "display_data"
    },
    {
     "data": {
      "text/html": [
       "<text style=color:red>damn ... i do not have any chalk ! my chalkboard is <text style=color:blue> <i>[meaningless]</i></text>: -0.7088</text>"
      ],
      "text/plain": [
       "<IPython.core.display.HTML object>"
      ]
     },
     "metadata": {},
     "output_type": "display_data"
    },
    {
     "name": "stdout",
     "output_type": "stream",
     "text": [
      "\n",
      " had a blast at the getty villa but hates that she is had a sore throat all day. it is just getting worse too :-0.9052\n",
      "\n",
      "Some antonyms for word hates are ['love']\n",
      "Word hates[VBZ] replaced with loves[VBZ]\n",
      "Word hates[VBZ] replaced with thinks[VBZ]\n",
      "Word hates[VBZ] replaced with cares[VBZ]\n",
      "Word hates[VBZ] replaced with despises[VBZ]\n",
      "No antonyms found for word sore\n",
      "Word sore[NN] replaced with shoulder[NN]\n",
      "Word sore[NN] replaced with tendinitis[NN]\n",
      "Word sore[NN] replaced with knee[NN]\n",
      "Word sore[NN] replaced with groin[NN]\n",
      "Some antonyms for word worse are ['unregretful', 'better', 'good']\n",
      "No POS words found for word worse with tag JJR\n",
      " -- No POS approved words! -- for word worse\n",
      " some non-POS:['bad', 'even', 'mean', 'unfortunately']\n"
     ]
    },
    {
     "data": {
      "text/html": [
       "<text style=color:green>had a blast at the getty villa but <text style=color:blue> <i>[loves]</i></text> that she is had a sore throat all day . it is just getting worse too: -0.3291</text>"
      ],
      "text/plain": [
       "<IPython.core.display.HTML object>"
      ]
     },
     "metadata": {},
     "output_type": "display_data"
    },
    {
     "data": {
      "text/html": [
       "<text style=color:green>had a blast at the getty villa but <text style=color:blue> <i>[thinks]</i></text> that she is had a sore throat all day . it is just getting worse too: -0.8126</text>"
      ],
      "text/plain": [
       "<IPython.core.display.HTML object>"
      ]
     },
     "metadata": {},
     "output_type": "display_data"
    },
    {
     "data": {
      "text/html": [
       "<text style=color:green>had a blast at the getty villa but <text style=color:blue> <i>[cares]</i></text> that she is had a sore throat all day . it is just getting worse too: -0.5267</text>"
      ],
      "text/plain": [
       "<IPython.core.display.HTML object>"
      ]
     },
     "metadata": {},
     "output_type": "display_data"
    },
    {
     "data": {
      "text/html": [
       "<text style=color:green>had a blast at the getty villa but hates that she is had a <text style=color:blue> <i>[shoulder]</i></text> throat all day . it is just getting worse too: -0.8402</text>"
      ],
      "text/plain": [
       "<IPython.core.display.HTML object>"
      ]
     },
     "metadata": {},
     "output_type": "display_data"
    },
    {
     "data": {
      "text/html": [
       "<text style=color:green>had a blast at the getty villa but hates that she is had a <text style=color:blue> <i>[tendinitis]</i></text> throat all day . it is just getting worse too: -0.8402</text>"
      ],
      "text/plain": [
       "<IPython.core.display.HTML object>"
      ]
     },
     "metadata": {},
     "output_type": "display_data"
    },
    {
     "data": {
      "text/html": [
       "<text style=color:green>had a blast at the getty villa but hates that she is had a <text style=color:blue> <i>[knee]</i></text> throat all day . it is just getting worse too: -0.8402</text>"
      ],
      "text/plain": [
       "<IPython.core.display.HTML object>"
      ]
     },
     "metadata": {},
     "output_type": "display_data"
    },
    {
     "data": {
      "text/html": [
       "<text style=color:green>had a blast at the getty villa but hates that she is had a <text style=color:blue> <i>[groin]</i></text> throat all day . it is just getting worse too: -0.8402</text>"
      ],
      "text/plain": [
       "<IPython.core.display.HTML object>"
      ]
     },
     "metadata": {},
     "output_type": "display_data"
    },
    {
     "data": {
      "text/html": [
       "<text style=color:red>had a blast at the getty villa but <text style=color:blue> <i>[despises]</i></text> that she is had a sore throat all day . it is just getting worse too: -0.9081</text>"
      ],
      "text/plain": [
       "<IPython.core.display.HTML object>"
      ]
     },
     "metadata": {},
     "output_type": "display_data"
    },
    {
     "name": "stdout",
     "output_type": "stream",
     "text": [
      "\n",
      "  hey missed ya at the meeting  sup mama:-0.296\n",
      "\n",
      "Some antonyms for word missed are ['have', 'attend_to', 'hit']\n",
      "Word missed[VBD] replaced with scored[VBD]\n",
      "Word missed[VBD] replaced with attend_to[VBD]\n",
      "Word missed[VBD] replaced with hit[VBD]\n"
     ]
    },
    {
     "data": {
      "text/html": [
       "<text style=color:DarkGray>hey <text style=color:blue> <i>[scored]</i></text> ya at the meeting sup mama: 0.0</text>"
      ],
      "text/plain": [
       "<IPython.core.display.HTML object>"
      ]
     },
     "metadata": {},
     "output_type": "display_data"
    },
    {
     "data": {
      "text/html": [
       "<text style=color:DarkGray>hey <text style=color:blue> <i>[attend_to]</i></text> ya at the meeting sup mama: 0.0</text>"
      ],
      "text/plain": [
       "<IPython.core.display.HTML object>"
      ]
     },
     "metadata": {},
     "output_type": "display_data"
    },
    {
     "data": {
      "text/html": [
       "<text style=color:DarkGray>hey <text style=color:blue> <i>[hit]</i></text> ya at the meeting sup mama: 0.0</text>"
      ],
      "text/plain": [
       "<IPython.core.display.HTML object>"
      ]
     },
     "metadata": {},
     "output_type": "display_data"
    },
    {
     "name": "stdout",
     "output_type": "stream",
     "text": [
      "\n",
      "\n",
      "No tweets found when trying to do Positive=False\n",
      "\n",
      "\n",
      "\n",
      " my tummy hurts.  i wonder if the hypnosis has anything to do with it if so it is working i get it stop smoking!!!:-0.7332\n",
      "\n",
      "Some antonyms for word hurts are ['be_well']\n",
      "No POS words found for word hurts with tag VBZ\n",
      " -- No POS approved words! -- for word hurts\n",
      " some non-POS:['hurting', 'hurt', 'undermines', 'bothers']\n",
      "Some antonyms for word stop are ['begin', 'start', 'continuant_consonant']\n",
      "Word stop[VB] replaced with begin[VB]\n",
      "Word stop[VB] replaced with start[VB]\n",
      "Word stop[VB] replaced with continue[VB]\n"
     ]
    },
    {
     "data": {
      "text/html": [
       "<text style=color:green>my tummy hurts . i wonder if the hypnosis has anything to do with it if so it is working i get it <text style=color:blue> <i>[begin]</i></text> smoking ! ! !: -0.6093</text>"
      ],
      "text/plain": [
       "<IPython.core.display.HTML object>"
      ]
     },
     "metadata": {},
     "output_type": "display_data"
    },
    {
     "data": {
      "text/html": [
       "<text style=color:green>my tummy hurts . i wonder if the hypnosis has anything to do with it if so it is working i get it <text style=color:blue> <i>[start]</i></text> smoking ! ! !: -0.6093</text>"
      ],
      "text/plain": [
       "<IPython.core.display.HTML object>"
      ]
     },
     "metadata": {},
     "output_type": "display_data"
    },
    {
     "data": {
      "text/html": [
       "<text style=color:green>my tummy hurts . i wonder if the hypnosis has anything to do with it if so it is working i get it <text style=color:blue> <i>[continue]</i></text> smoking ! ! !: -0.6093</text>"
      ],
      "text/plain": [
       "<IPython.core.display.HTML object>"
      ]
     },
     "metadata": {},
     "output_type": "display_data"
    },
    {
     "name": "stdout",
     "output_type": "stream",
     "text": [
      "\n",
      "\n",
      "No tweets found when trying to do Positive=False\n",
      "\n",
      "\n",
      "\n",
      "  sorry babe!!  my fam annoys me too. thankfully they are asleep right now. muahaha. *evil laugh*:-0.2225\n",
      "\n",
      "Some antonyms for word sorry are ['unregretful']\n",
      "Word sorry[JJ] replaced with glad[JJ]\n",
      "Word sorry[JJ] replaced with sad[JJ]\n",
      "Word sorry[JJ] replaced with disappointed[JJ]\n",
      "Word sorry[JJ] replaced with unregretful[JJ]\n",
      "No antonyms found for word annoys\n",
      "No POS words found for word annoys with tag IN\n",
      " -- No POS approved words! -- for word annoys\n",
      " some non-POS:['infuriates', 'irritates', 'bothers', 'irks']\n",
      "No antonyms found for word thankfully\n",
      "Word thankfully[RB] replaced with luckily[RB]\n",
      "Word thankfully[RB] replaced with fortunately[RB]\n",
      "Word thankfully[RB] replaced with sadly[RB]\n",
      "Word thankfully[RB] replaced with regrettably[RB]\n",
      "Word thankfully[RB] replaced with admittedly[RB]\n",
      "Some antonyms for word evil are ['goodness', 'good']\n",
      "No POS words found for word evil with tag CC\n",
      " -- No POS approved words! -- for word evil\n",
      " some non-POS:['enemies', 'god', 'demons', 'beings']\n",
      "Some antonyms for word laugh are ['cry']\n",
      "Word laugh[NN] replaced with laughs[NN]\n",
      "Word laugh[NN] replaced with joke[NN]\n",
      "Word laugh[NN] replaced with chuckle[NN]\n",
      "Word laugh[NN] replaced with cry[NN]\n",
      "Word laugh[NN] replaced with laughing[NN]\n",
      "Word laugh[NN] replaced with cry[NN]\n"
     ]
    },
    {
     "data": {
      "text/html": [
       "<text style=color:green><text style=color:blue> <i>[glad]</i></text> babe ! ! my fam annoys me too . thankfully they are asleep right now . muahaha . evil laugh: 0.4184</text>"
      ],
      "text/plain": [
       "<IPython.core.display.HTML object>"
      ]
     },
     "metadata": {},
     "output_type": "display_data"
    },
    {
     "data": {
      "text/html": [
       "<text style=color:red><text style=color:blue> <i>[sad]</i></text> babe ! ! my fam annoys me too . thankfully they are asleep right now . muahaha . evil laugh: -0.6688</text>"
      ],
      "text/plain": [
       "<IPython.core.display.HTML object>"
      ]
     },
     "metadata": {},
     "output_type": "display_data"
    },
    {
     "data": {
      "text/html": [
       "<text style=color:red><text style=color:blue> <i>[disappointed]</i></text> babe ! ! my fam annoys me too . thankfully they are asleep right now . muahaha . evil laugh: -0.6688</text>"
      ],
      "text/plain": [
       "<IPython.core.display.HTML object>"
      ]
     },
     "metadata": {},
     "output_type": "display_data"
    },
    {
     "data": {
      "text/html": [
       "<text style=color:red><text style=color:blue> <i>[unregretful]</i></text> babe ! ! my fam annoys me too . thankfully they are asleep right now . muahaha . evil laugh: -0.3365</text>"
      ],
      "text/plain": [
       "<IPython.core.display.HTML object>"
      ]
     },
     "metadata": {},
     "output_type": "display_data"
    },
    {
     "data": {
      "text/html": [
       "<text style=color:red>sorry babe ! ! my fam annoys me too . <text style=color:blue> <i>[luckily]</i></text> they are asleep right now . muahaha . evil laugh: -0.2924</text>"
      ],
      "text/plain": [
       "<IPython.core.display.HTML object>"
      ]
     },
     "metadata": {},
     "output_type": "display_data"
    },
    {
     "data": {
      "text/html": [
       "<text style=color:red>sorry babe ! ! my fam annoys me too . <text style=color:blue> <i>[fortunately]</i></text> they are asleep right now . muahaha . evil laugh: -0.6688</text>"
      ],
      "text/plain": [
       "<IPython.core.display.HTML object>"
      ]
     },
     "metadata": {},
     "output_type": "display_data"
    },
    {
     "data": {
      "text/html": [
       "<text style=color:red>sorry babe ! ! my fam annoys me too . <text style=color:blue> <i>[sadly]</i></text> they are asleep right now . muahaha . evil laugh: -0.8065</text>"
      ],
      "text/plain": [
       "<IPython.core.display.HTML object>"
      ]
     },
     "metadata": {},
     "output_type": "display_data"
    },
    {
     "data": {
      "text/html": [
       "<text style=color:red>sorry babe ! ! my fam annoys me too . <text style=color:blue> <i>[regrettably]</i></text> they are asleep right now . muahaha . evil laugh: -0.8168</text>"
      ],
      "text/plain": [
       "<IPython.core.display.HTML object>"
      ]
     },
     "metadata": {},
     "output_type": "display_data"
    },
    {
     "data": {
      "text/html": [
       "<text style=color:red>sorry babe ! ! my fam annoys me too . <text style=color:blue> <i>[admittedly]</i></text> they are asleep right now . muahaha . evil laugh: -0.6688</text>"
      ],
      "text/plain": [
       "<IPython.core.display.HTML object>"
      ]
     },
     "metadata": {},
     "output_type": "display_data"
    },
    {
     "data": {
      "text/html": [
       "<text style=color:red>sorry babe ! ! my fam annoys me too . thankfully they are asleep right now . muahaha . evil <text style=color:blue> <i>[laughs]</i></text>: -0.4738</text>"
      ],
      "text/plain": [
       "<IPython.core.display.HTML object>"
      ]
     },
     "metadata": {},
     "output_type": "display_data"
    },
    {
     "data": {
      "text/html": [
       "<text style=color:red>sorry babe ! ! my fam annoys me too . thankfully they are asleep right now . muahaha . evil <text style=color:blue> <i>[joke]</i></text>: -0.6229</text>"
      ],
      "text/plain": [
       "<IPython.core.display.HTML object>"
      ]
     },
     "metadata": {},
     "output_type": "display_data"
    },
    {
     "data": {
      "text/html": [
       "<text style=color:red>sorry babe ! ! my fam annoys me too . thankfully they are asleep right now . muahaha . evil <text style=color:blue> <i>[chuckle]</i></text>: -0.555</text>"
      ],
      "text/plain": [
       "<IPython.core.display.HTML object>"
      ]
     },
     "metadata": {},
     "output_type": "display_data"
    },
    {
     "data": {
      "text/html": [
       "<text style=color:red>sorry babe ! ! my fam annoys me too . thankfully they are asleep right now . muahaha . evil <text style=color:blue> <i>[cry]</i></text>: -0.855</text>"
      ],
      "text/plain": [
       "<IPython.core.display.HTML object>"
      ]
     },
     "metadata": {},
     "output_type": "display_data"
    },
    {
     "data": {
      "text/html": [
       "<text style=color:red>sorry babe ! ! my fam annoys me too . thankfully they are asleep right now . muahaha . evil <text style=color:blue> <i>[laughing]</i></text>: -0.4738</text>"
      ],
      "text/plain": [
       "<IPython.core.display.HTML object>"
      ]
     },
     "metadata": {},
     "output_type": "display_data"
    },
    {
     "data": {
      "text/html": [
       "<text style=color:red>sorry babe ! ! my fam annoys me too . thankfully they are asleep right now . muahaha . evil <text style=color:blue> <i>[cry]</i></text>: -0.855</text>"
      ],
      "text/plain": [
       "<IPython.core.display.HTML object>"
      ]
     },
     "metadata": {},
     "output_type": "display_data"
    },
    {
     "name": "stdout",
     "output_type": "stream",
     "text": [
      "\n",
      " poor cameron the hills :-0.4767\n",
      "\n",
      "Some antonyms for word poor are ['rich_people', 'rich']\n",
      "Word poor[JJ] replaced with bad[JJ]\n",
      "Word poor[JJ] replaced with rich[JJ]\n"
     ]
    },
    {
     "data": {
      "text/html": [
       "<text style=color:green><text style=color:blue> <i>[rich]</i></text> cameron the hills: 0.5574</text>"
      ],
      "text/plain": [
       "<IPython.core.display.HTML object>"
      ]
     },
     "metadata": {},
     "output_type": "display_data"
    },
    {
     "data": {
      "text/html": [
       "<text style=color:red><text style=color:blue> <i>[bad]</i></text> cameron the hills: -0.5423</text>"
      ],
      "text/plain": [
       "<IPython.core.display.HTML object>"
      ]
     },
     "metadata": {},
     "output_type": "display_data"
    },
    {
     "name": "stdout",
     "output_type": "stream",
     "text": [
      "\n",
      " pray for me please the ex is threatening to start sh** at myour babies 1st birthday party. what a jerk. and i still have a headache :0.128\n",
      "\n",
      "No antonyms found for word pray\n",
      "Word pray[NN] replaced with prayed[NN]\n",
      "Word pray[NN] replaced with god[NN]\n",
      "Some antonyms for word please are ['displease']\n",
      "Word please[VB] replaced with wish[VB]\n",
      "Word please[VB] replaced with call[VB]\n",
      "Word please[VB] replaced with displease[VB]\n",
      "No antonyms found for word threatening\n",
      "Word threatening[VBG] replaced with causing[VBG]\n",
      "No antonyms found for word party\n",
      "Word party[NN] replaced with opposition[NN]\n",
      "Word party[NN] replaced with coalition[NN]\n",
      "Word party[NN] replaced with leader[NN]\n",
      "No antonyms found for word jerk\n",
      "Word jerk[NN] replaced with snatch[NN]\n",
      "Word jerk[NN] replaced with jerked[NN]\n",
      "Word jerk[NN] replaced with kgs[NN]\n",
      "Word jerk[NN] replaced with lifter[NN]\n"
     ]
    },
    {
     "data": {
      "text/html": [
       "<text style=color:green>pray for me <text style=color:blue> <i>[wish]</i></text> the ex is threatening to start sh at myour babies 1st birthday party . what a jerk . and i still have a headache: 0.2263</text>"
      ],
      "text/plain": [
       "<IPython.core.display.HTML object>"
      ]
     },
     "metadata": {},
     "output_type": "display_data"
    },
    {
     "data": {
      "text/html": [
       "<text style=color:green>pray for me please the ex is <text style=color:blue> <i>[causing]</i></text> to start sh at myour babies 1st birthday party . what a jerk . and i still have a headache: 0.5994</text>"
      ],
      "text/plain": [
       "<IPython.core.display.HTML object>"
      ]
     },
     "metadata": {},
     "output_type": "display_data"
    },
    {
     "data": {
      "text/html": [
       "<text style=color:green>pray for me please the ex is threatening to start sh at myour babies 1st birthday party . what a <text style=color:blue> <i>[snatch]</i></text> . and i still have a headache: 0.4404</text>"
      ],
      "text/plain": [
       "<IPython.core.display.HTML object>"
      ]
     },
     "metadata": {},
     "output_type": "display_data"
    },
    {
     "data": {
      "text/html": [
       "<text style=color:green>pray for me please the ex is threatening to start sh at myour babies 1st birthday party . what a <text style=color:blue> <i>[jerked]</i></text> . and i still have a headache: 0.2732</text>"
      ],
      "text/plain": [
       "<IPython.core.display.HTML object>"
      ]
     },
     "metadata": {},
     "output_type": "display_data"
    },
    {
     "data": {
      "text/html": [
       "<text style=color:green>pray for me please the ex is threatening to start sh at myour babies 1st birthday party . what a <text style=color:blue> <i>[kgs]</i></text> . and i still have a headache: 0.4404</text>"
      ],
      "text/plain": [
       "<IPython.core.display.HTML object>"
      ]
     },
     "metadata": {},
     "output_type": "display_data"
    },
    {
     "data": {
      "text/html": [
       "<text style=color:green>pray for me please the ex is threatening to start sh at myour babies 1st birthday party . what a <text style=color:blue> <i>[lifter]</i></text> . and i still have a headache: 0.4404</text>"
      ],
      "text/plain": [
       "<IPython.core.display.HTML object>"
      ]
     },
     "metadata": {},
     "output_type": "display_data"
    },
    {
     "data": {
      "text/html": [
       "<text style=color:red><text style=color:blue> <i>[prayed]</i></text> for me please the ex is threatening to start sh at myour babies 1st birthday party . what a jerk . and i still have a headache: -0.2023</text>"
      ],
      "text/plain": [
       "<IPython.core.display.HTML object>"
      ]
     },
     "metadata": {},
     "output_type": "display_data"
    },
    {
     "data": {
      "text/html": [
       "<text style=color:red><text style=color:blue> <i>[god]</i></text> for me please the ex is threatening to start sh at myour babies 1st birthday party . what a jerk . and i still have a headache: 0.0772</text>"
      ],
      "text/plain": [
       "<IPython.core.display.HTML object>"
      ]
     },
     "metadata": {},
     "output_type": "display_data"
    },
    {
     "data": {
      "text/html": [
       "<text style=color:red>pray for me <text style=color:blue> <i>[call]</i></text> the ex is threatening to start sh at myour babies 1st birthday party . what a jerk . and i still have a headache: -0.2023</text>"
      ],
      "text/plain": [
       "<IPython.core.display.HTML object>"
      ]
     },
     "metadata": {},
     "output_type": "display_data"
    },
    {
     "data": {
      "text/html": [
       "<text style=color:red>pray for me <text style=color:blue> <i>[displease]</i></text> the ex is threatening to start sh at myour babies 1st birthday party . what a jerk . and i still have a headache: -0.2023</text>"
      ],
      "text/plain": [
       "<IPython.core.display.HTML object>"
      ]
     },
     "metadata": {},
     "output_type": "display_data"
    },
    {
     "data": {
      "text/html": [
       "<text style=color:red>pray for me please the ex is threatening to start sh at myour babies 1st birthday <text style=color:blue> <i>[opposition]</i></text> . what a jerk . and i still have a headache: -0.296</text>"
      ],
      "text/plain": [
       "<IPython.core.display.HTML object>"
      ]
     },
     "metadata": {},
     "output_type": "display_data"
    },
    {
     "data": {
      "text/html": [
       "<text style=color:red>pray for me please the ex is threatening to start sh at myour babies 1st birthday <text style=color:blue> <i>[coalition]</i></text> . what a jerk . and i still have a headache: -0.296</text>"
      ],
      "text/plain": [
       "<IPython.core.display.HTML object>"
      ]
     },
     "metadata": {},
     "output_type": "display_data"
    },
    {
     "data": {
      "text/html": [
       "<text style=color:red>pray for me please the ex is threatening to start sh at myour babies 1st birthday <text style=color:blue> <i>[leader]</i></text> . what a jerk . and i still have a headache: -0.296</text>"
      ],
      "text/plain": [
       "<IPython.core.display.HTML object>"
      ]
     },
     "metadata": {},
     "output_type": "display_data"
    },
    {
     "name": "stdout",
     "output_type": "stream",
     "text": [
      "\n",
      "  hmm   do u really enjoy being with him  if the problems are too constants u should think things more  find someone ulike:0.2006\n",
      "\n",
      "Some antonyms for word enjoy are ['suffer']\n",
      "Word enjoy[VB] replaced with prefer[VB]\n",
      "Word enjoy[VB] replaced with feel[VB]\n",
      "Word enjoy[VB] replaced with suffer[VB]\n",
      "No antonyms found for word problems\n",
      "Word problems[NNS] replaced with difficulties[NNS]\n",
      "Word problems[NNS] replaced with troubles[NNS]\n"
     ]
    },
    {
     "data": {
      "text/html": [
       "<text style=color:green>hmm do u really enjoy being with him if the <text style=color:blue> <i>[difficulties]</i></text> are too constants u should think things more find someone ulike: 0.3167</text>"
      ],
      "text/plain": [
       "<IPython.core.display.HTML object>"
      ]
     },
     "metadata": {},
     "output_type": "display_data"
    },
    {
     "data": {
      "text/html": [
       "<text style=color:red>hmm do u really <text style=color:blue> <i>[prefer]</i></text> being with him if the problems are too constants u should think things more find someone ulike: -0.4019</text>"
      ],
      "text/plain": [
       "<IPython.core.display.HTML object>"
      ]
     },
     "metadata": {},
     "output_type": "display_data"
    },
    {
     "data": {
      "text/html": [
       "<text style=color:red>hmm do u really <text style=color:blue> <i>[feel]</i></text> being with him if the problems are too constants u should think things more find someone ulike: -0.4019</text>"
      ],
      "text/plain": [
       "<IPython.core.display.HTML object>"
      ]
     },
     "metadata": {},
     "output_type": "display_data"
    },
    {
     "data": {
      "text/html": [
       "<text style=color:red>hmm do u really <text style=color:blue> <i>[suffer]</i></text> being with him if the problems are too constants u should think things more find someone ulike: -0.7574</text>"
      ],
      "text/plain": [
       "<IPython.core.display.HTML object>"
      ]
     },
     "metadata": {},
     "output_type": "display_data"
    },
    {
     "data": {
      "text/html": [
       "<text style=color:red>hmm do u really enjoy being with him if the <text style=color:blue> <i>[troubles]</i></text> are too constants u should think things more find someone ulike: 0.1263</text>"
      ],
      "text/plain": [
       "<IPython.core.display.HTML object>"
      ]
     },
     "metadata": {},
     "output_type": "display_data"
    },
    {
     "name": "stdout",
     "output_type": "stream",
     "text": [
      "\n",
      " strider is a sick little puppy  :-0.5106\n",
      "\n",
      "Some antonyms for word sick are ['well', 'keep_down']\n",
      "Word sick[JJ] replaced with ill[JJ]\n",
      "Word sick[JJ] replaced with pregnant[JJ]\n",
      "Word sick[JJ] replaced with elderly[JJ]\n",
      "Word sick[JJ] replaced with keep_down[JJ]\n"
     ]
    },
    {
     "data": {
      "text/html": [
       "<text style=color:green>strider is a <text style=color:blue> <i>[ill]</i></text> little puppy: -0.4215</text>"
      ],
      "text/plain": [
       "<IPython.core.display.HTML object>"
      ]
     },
     "metadata": {},
     "output_type": "display_data"
    },
    {
     "data": {
      "text/html": [
       "<text style=color:DarkGray>strider is a <text style=color:blue> <i>[pregnant]</i></text> little puppy: 0.0</text>"
      ],
      "text/plain": [
       "<IPython.core.display.HTML object>"
      ]
     },
     "metadata": {},
     "output_type": "display_data"
    },
    {
     "data": {
      "text/html": [
       "<text style=color:DarkGray>strider is a <text style=color:blue> <i>[elderly]</i></text> little puppy: 0.0</text>"
      ],
      "text/plain": [
       "<IPython.core.display.HTML object>"
      ]
     },
     "metadata": {},
     "output_type": "display_data"
    },
    {
     "data": {
      "text/html": [
       "<text style=color:DarkGray>strider is a <text style=color:blue> <i>[keep_down]</i></text> little puppy: 0.0</text>"
      ],
      "text/plain": [
       "<IPython.core.display.HTML object>"
      ]
     },
     "metadata": {},
     "output_type": "display_data"
    },
    {
     "name": "stdout",
     "output_type": "stream",
     "text": [
      "\n",
      "\n",
      "No tweets found when trying to do Positive=False\n",
      "\n",
      "\n",
      "\n",
      " so ryleegrace...wana go steve is party or not sadly since its easter i wnt b able 2 do much  but ohh well.....:0.3645\n",
      "\n",
      "No antonyms found for word party\n",
      "Word party[NN] replaced with opposition[NN]\n",
      "Word party[NN] replaced with coalition[NN]\n",
      "Word party[NN] replaced with leader[NN]\n",
      "Some antonyms for word sadly are ['happily']\n",
      "Word sadly[RB] replaced with thankfully[RB]\n",
      "Word sadly[RB] replaced with terribly[RB]\n",
      "Word sadly[RB] replaced with frankly[RB]\n",
      "Word sadly[RB] replaced with curiously[RB]\n",
      "Word sadly[RB] replaced with painfully[RB]\n",
      "Word sadly[RB] replaced with happily[RB]\n",
      "Some antonyms for word well are ['badly', 'ill', 'disadvantageously']\n",
      "Word well[RB] replaced with so[RB]\n",
      "Word well[RB] replaced with badly[RB]\n",
      "Word well[RB] replaced with disadvantageously[RB]\n"
     ]
    },
    {
     "data": {
      "text/html": [
       "<text style=color:green>so ryleegrace ... wana go steve is <text style=color:blue> <i>[opposition]</i></text> or not sadly since its easter i wnt b able 2 do much but ohh well ... ..: 0.5132</text>"
      ],
      "text/plain": [
       "<IPython.core.display.HTML object>"
      ]
     },
     "metadata": {},
     "output_type": "display_data"
    },
    {
     "data": {
      "text/html": [
       "<text style=color:green>so ryleegrace ... wana go steve is <text style=color:blue> <i>[coalition]</i></text> or not sadly since its easter i wnt b able 2 do much but ohh well ... ..: 0.5132</text>"
      ],
      "text/plain": [
       "<IPython.core.display.HTML object>"
      ]
     },
     "metadata": {},
     "output_type": "display_data"
    },
    {
     "data": {
      "text/html": [
       "<text style=color:green>so ryleegrace ... wana go steve is <text style=color:blue> <i>[leader]</i></text> or not sadly since its easter i wnt b able 2 do much but ohh well ... ..: 0.5132</text>"
      ],
      "text/plain": [
       "<IPython.core.display.HTML object>"
      ]
     },
     "metadata": {},
     "output_type": "display_data"
    },
    {
     "data": {
      "text/html": [
       "<text style=color:green>so ryleegrace ... wana go steve is party or not <text style=color:blue> <i>[thankfully]</i></text> since its easter i wnt b able 2 do much but ohh well ... ..: 0.428</text>"
      ],
      "text/plain": [
       "<IPython.core.display.HTML object>"
      ]
     },
     "metadata": {},
     "output_type": "display_data"
    },
    {
     "data": {
      "text/html": [
       "<text style=color:green>so ryleegrace ... wana go steve is party or not <text style=color:blue> <i>[terribly]</i></text> since its easter i wnt b able 2 do much but ohh well ... ..: 0.6664</text>"
      ],
      "text/plain": [
       "<IPython.core.display.HTML object>"
      ]
     },
     "metadata": {},
     "output_type": "display_data"
    },
    {
     "data": {
      "text/html": [
       "<text style=color:green>so ryleegrace ... wana go steve is party or not <text style=color:blue> <i>[frankly]</i></text> since its easter i wnt b able 2 do much but ohh well ... ..: 0.5423</text>"
      ],
      "text/plain": [
       "<IPython.core.display.HTML object>"
      ]
     },
     "metadata": {},
     "output_type": "display_data"
    },
    {
     "data": {
      "text/html": [
       "<text style=color:green>so ryleegrace ... wana go steve is party or not <text style=color:blue> <i>[curiously]</i></text> since its easter i wnt b able 2 do much but ohh well ... ..: 0.5423</text>"
      ],
      "text/plain": [
       "<IPython.core.display.HTML object>"
      ]
     },
     "metadata": {},
     "output_type": "display_data"
    },
    {
     "data": {
      "text/html": [
       "<text style=color:green>so ryleegrace ... wana go steve is party or not <text style=color:blue> <i>[painfully]</i></text> since its easter i wnt b able 2 do much but ohh well ... ..: 0.6584</text>"
      ],
      "text/plain": [
       "<IPython.core.display.HTML object>"
      ]
     },
     "metadata": {},
     "output_type": "display_data"
    },
    {
     "data": {
      "text/html": [
       "<text style=color:green>so ryleegrace ... wana go steve is party or not <text style=color:blue> <i>[happily]</i></text> since its easter i wnt b able 2 do much but ohh well ... ..: 0.3691</text>"
      ],
      "text/plain": [
       "<IPython.core.display.HTML object>"
      ]
     },
     "metadata": {},
     "output_type": "display_data"
    },
    {
     "data": {
      "text/html": [
       "<text style=color:red>so ryleegrace ... wana go steve is party or not sadly since its easter i wnt b able 2 do much but ohh <text style=color:blue> <i>[badly]</i></text> ... ..: -0.3887</text>"
      ],
      "text/plain": [
       "<IPython.core.display.HTML object>"
      ]
     },
     "metadata": {},
     "output_type": "display_data"
    },
    {
     "data": {
      "text/html": [
       "<text style=color:red>so ryleegrace ... wana go steve is party or not sadly since its easter i wnt b able 2 do much but ohh <text style=color:blue> <i>[disadvantageously]</i></text> ... ..: -0.3887</text>"
      ],
      "text/plain": [
       "<IPython.core.display.HTML object>"
      ]
     },
     "metadata": {},
     "output_type": "display_data"
    },
    {
     "name": "stdout",
     "output_type": "stream",
     "text": [
      "\n",
      " hey i actually won one of my bracket pools! too bad it was not the one for money :0.126\n",
      "\n",
      "Some antonyms for word won are ['fail', 'fall_back', 'lost']\n",
      "No POS words found for word won with tag VBD\n",
      " -- No POS approved words! -- for word won\n",
      " some non-POS:['winning', 'win', 'wins', 'winner']\n",
      "Some antonyms for word bad are ['goodness', 'good', 'unregretful']\n",
      "Word bad[JJ] replaced with good[JJ]\n",
      "Word bad[JJ] replaced with goodness[JJ]\n",
      "Word bad[JJ] replaced with good[JJ]\n",
      "Word bad[JJ] replaced with unregretful[JJ]\n"
     ]
    },
    {
     "data": {
      "text/html": [
       "<text style=color:green>hey i actually won one of my bracket pools ! too <text style=color:blue> <i>[good]</i></text> it was not the one for money: 0.784</text>"
      ],
      "text/plain": [
       "<IPython.core.display.HTML object>"
      ]
     },
     "metadata": {},
     "output_type": "display_data"
    },
    {
     "data": {
      "text/html": [
       "<text style=color:green>hey i actually won one of my bracket pools ! too <text style=color:blue> <i>[goodness]</i></text> it was not the one for money: 0.7901</text>"
      ],
      "text/plain": [
       "<IPython.core.display.HTML object>"
      ]
     },
     "metadata": {},
     "output_type": "display_data"
    },
    {
     "data": {
      "text/html": [
       "<text style=color:green>hey i actually won one of my bracket pools ! too <text style=color:blue> <i>[good]</i></text> it was not the one for money: 0.784</text>"
      ],
      "text/plain": [
       "<IPython.core.display.HTML object>"
      ]
     },
     "metadata": {},
     "output_type": "display_data"
    },
    {
     "data": {
      "text/html": [
       "<text style=color:green>hey i actually won one of my bracket pools ! too <text style=color:blue> <i>[unregretful]</i></text> it was not the one for money: 0.6114</text>"
      ],
      "text/plain": [
       "<IPython.core.display.HTML object>"
      ]
     },
     "metadata": {},
     "output_type": "display_data"
    },
    {
     "name": "stdout",
     "output_type": "stream",
     "text": [
      "\n",
      "\n",
      "No tweets found when trying to do Positive=False\n",
      "\n",
      "\n",
      "\n",
      " a bad nite for the favorite teams astros and spartans lose.  the nite out with t.w. was good.:-0.0772\n",
      "\n",
      "Some antonyms for word bad are ['goodness', 'good', 'unregretful']\n",
      "Word bad[JJ] replaced with good[JJ]\n",
      "Word bad[JJ] replaced with good[JJ]\n",
      "Word bad[JJ] replaced with unregretful[JJ]\n",
      "No antonyms found for word favorite\n",
      "Word favorite[JJ] replaced with favourite[JJ]\n",
      "Word favorite[JJ] replaced with popular[JJ]\n",
      "Word favorite[JJ] replaced with famous[JJ]\n",
      "Some antonyms for word lose are ['profit', 'keep', 'find']\n",
      "Word lose[VBP] replaced with get[VBP]\n",
      "Word lose[VBP] replaced with keep[VBP]\n",
      "Word lose[VBP] replaced with find[VBP]\n",
      "Word lose[VBP] replaced with gain[VBP]\n",
      "Word lose[VBP] replaced with win[VBP]\n",
      "Some antonyms for word good are ['evilness', 'bad', 'evil']\n",
      "Word good[JJ] replaced with sure[JJ]\n",
      "Word good[JJ] replaced with bad[JJ]\n",
      "Word good[JJ] replaced with evil[JJ]\n",
      "Word good[JJ] replaced with ill[JJ]\n"
     ]
    },
    {
     "data": {
      "text/html": [
       "<text style=color:green>a <text style=color:blue> <i>[good]</i></text> nite for the favorite teams astros and spartans lose . the nite out with t.w . was good .: 0.7269</text>"
      ],
      "text/plain": [
       "<IPython.core.display.HTML object>"
      ]
     },
     "metadata": {},
     "output_type": "display_data"
    },
    {
     "data": {
      "text/html": [
       "<text style=color:green>a <text style=color:blue> <i>[good]</i></text> nite for the favorite teams astros and spartans lose . the nite out with t.w . was good .: 0.7269</text>"
      ],
      "text/plain": [
       "<IPython.core.display.HTML object>"
      ]
     },
     "metadata": {},
     "output_type": "display_data"
    },
    {
     "data": {
      "text/html": [
       "<text style=color:green>a <text style=color:blue> <i>[unregretful]</i></text> nite for the favorite teams astros and spartans lose . the nite out with t.w . was good .: 0.4939</text>"
      ],
      "text/plain": [
       "<IPython.core.display.HTML object>"
      ]
     },
     "metadata": {},
     "output_type": "display_data"
    },
    {
     "data": {
      "text/html": [
       "<text style=color:green>a bad nite for the favorite teams astros and spartans <text style=color:blue> <i>[get]</i></text> . the nite out with t.w . was good .: 0.34</text>"
      ],
      "text/plain": [
       "<IPython.core.display.HTML object>"
      ]
     },
     "metadata": {},
     "output_type": "display_data"
    },
    {
     "data": {
      "text/html": [
       "<text style=color:green>a bad nite for the favorite teams astros and spartans <text style=color:blue> <i>[keep]</i></text> . the nite out with t.w . was good .: 0.34</text>"
      ],
      "text/plain": [
       "<IPython.core.display.HTML object>"
      ]
     },
     "metadata": {},
     "output_type": "display_data"
    },
    {
     "data": {
      "text/html": [
       "<text style=color:green>a bad nite for the favorite teams astros and spartans <text style=color:blue> <i>[find]</i></text> . the nite out with t.w . was good .: 0.34</text>"
      ],
      "text/plain": [
       "<IPython.core.display.HTML object>"
      ]
     },
     "metadata": {},
     "output_type": "display_data"
    },
    {
     "data": {
      "text/html": [
       "<text style=color:green>a bad nite for the favorite teams astros and spartans <text style=color:blue> <i>[gain]</i></text> . the nite out with t.w . was good .: 0.7003</text>"
      ],
      "text/plain": [
       "<IPython.core.display.HTML object>"
      ]
     },
     "metadata": {},
     "output_type": "display_data"
    },
    {
     "data": {
      "text/html": [
       "<text style=color:green>a bad nite for the favorite teams astros and spartans <text style=color:blue> <i>[win]</i></text> . the nite out with t.w . was good .: 0.7351</text>"
      ],
      "text/plain": [
       "<IPython.core.display.HTML object>"
      ]
     },
     "metadata": {},
     "output_type": "display_data"
    },
    {
     "data": {
      "text/html": [
       "<text style=color:red>a bad nite for the <text style=color:blue> <i>[favourite]</i></text> teams astros and spartans lose . the nite out with t.w . was good .: -0.5106</text>"
      ],
      "text/plain": [
       "<IPython.core.display.HTML object>"
      ]
     },
     "metadata": {},
     "output_type": "display_data"
    },
    {
     "data": {
      "text/html": [
       "<text style=color:red>a bad nite for the <text style=color:blue> <i>[popular]</i></text> teams astros and spartans lose . the nite out with t.w . was good .: -0.128</text>"
      ],
      "text/plain": [
       "<IPython.core.display.HTML object>"
      ]
     },
     "metadata": {},
     "output_type": "display_data"
    },
    {
     "data": {
      "text/html": [
       "<text style=color:red>a bad nite for the <text style=color:blue> <i>[famous]</i></text> teams astros and spartans lose . the nite out with t.w . was good .: -0.5106</text>"
      ],
      "text/plain": [
       "<IPython.core.display.HTML object>"
      ]
     },
     "metadata": {},
     "output_type": "display_data"
    },
    {
     "data": {
      "text/html": [
       "<text style=color:red>a bad nite for the favorite teams astros and spartans lose . the nite out with t.w . was <text style=color:blue> <i>[sure]</i></text> .: -0.2263</text>"
      ],
      "text/plain": [
       "<IPython.core.display.HTML object>"
      ]
     },
     "metadata": {},
     "output_type": "display_data"
    },
    {
     "data": {
      "text/html": [
       "<text style=color:red>a bad nite for the favorite teams astros and spartans lose . the nite out with t.w . was <text style=color:blue> <i>[bad]</i></text> .: -0.7717</text>"
      ],
      "text/plain": [
       "<IPython.core.display.HTML object>"
      ]
     },
     "metadata": {},
     "output_type": "display_data"
    },
    {
     "data": {
      "text/html": [
       "<text style=color:red>a bad nite for the favorite teams astros and spartans lose . the nite out with t.w . was <text style=color:blue> <i>[evil]</i></text> .: -0.8225</text>"
      ],
      "text/plain": [
       "<IPython.core.display.HTML object>"
      ]
     },
     "metadata": {},
     "output_type": "display_data"
    },
    {
     "data": {
      "text/html": [
       "<text style=color:red>a bad nite for the favorite teams astros and spartans lose . the nite out with t.w . was <text style=color:blue> <i>[ill]</i></text> .: -0.7184</text>"
      ],
      "text/plain": [
       "<IPython.core.display.HTML object>"
      ]
     },
     "metadata": {},
     "output_type": "display_data"
    }
   ],
   "source": [
    "def runThroughTweets():\n",
    "    \n",
    "    tweets_df = pd.read_csv( pathToDatasets + 'cleanedTweets.csv' , nrows=NUM_OF_TWEETS, skiprows=TWEET_START)\n",
    "\n",
    "    tweets = tweets_df.values\n",
    "\n",
    "    listOfObjects = []\n",
    "    for counter,tweet in enumerate(tweets):\n",
    "        tweet = tweet[0]\n",
    "        mainSentiment = senty.polarity_scores(tweet)['compound']\n",
    "        if(mainSentiment == 0):\n",
    "            continue\n",
    "        print(\"\\n {0}:{1}\\n\".format(tweet,mainSentiment))   \n",
    "        sentenceObj = Sentence(tweet, mainSentiment)\n",
    "        sentenceObj = getAlternativeSentences(sentenceObj)\n",
    "        alternateTweets = (sentenceObj.alternateSentences)[:]\n",
    "        if(alternateTweets == [] or alternateTweets == None):\n",
    "            print(\" -- No new Strings generated ---\\n\\n\")\n",
    "            continue\n",
    "        sentenceObj = shiftSentiment(sentenceObj, True);\n",
    "        printStrings(sentenceObj)\n",
    "        sentenceObj = shiftSentiment(sentenceObj, False);\n",
    "        printStrings(sentenceObj)\n",
    "    \n",
    "runThroughTweets()"
   ]
  },
  {
   "cell_type": "markdown",
   "metadata": {},
   "source": [
    "## Testing Code\n"
   ]
  },
  {
   "cell_type": "code",
   "execution_count": 152,
   "metadata": {},
   "outputs": [],
   "source": [
    "specificWord = \"good\"\n",
    "def testOneWord(word=\"\"):\n",
    "    if(word==\"\"):\n",
    "        return\n",
    "    print(word)"
   ]
  },
  {
   "cell_type": "markdown",
   "metadata": {},
   "source": [
    "## Main Cell\n"
   ]
  },
  {
   "cell_type": "code",
   "execution_count": 153,
   "metadata": {
    "scrolled": false
   },
   "outputs": [
    {
     "name": "stdout",
     "output_type": "stream",
     "text": [
      "\n",
      " This was hard but fun to make!:0.6749\n",
      "\n",
      "Some antonyms for word hard are ['voiced', 'soft', 'easy']\n",
      "Word hard[JJ] replaced with tough[JJ]\n",
      "Word hard[JJ] replaced with difficult[JJ]\n",
      "Word hard[JJ] replaced with soft[JJ]\n",
      "Word hard[JJ] replaced with easy[JJ]\n",
      "No antonyms found for word fun\n",
      "No POS words found for word fun with tag NN\n",
      " -- No POS approved words! -- for word fun\n",
      " some non-POS:['stuff', 'wonderful', 'entertaining', 'really']\n"
     ]
    },
    {
     "data": {
      "text/html": [
       "<text style=color:green>this was <text style=color:blue> <i>[soft]</i></text> but fun to make !: 0.6948</text>"
      ],
      "text/plain": [
       "<IPython.core.display.HTML object>"
      ]
     },
     "metadata": {},
     "output_type": "display_data"
    },
    {
     "data": {
      "text/html": [
       "<text style=color:green>this was <text style=color:blue> <i>[easy]</i></text> but fun to make !: 0.7712</text>"
      ],
      "text/plain": [
       "<IPython.core.display.HTML object>"
      ]
     },
     "metadata": {},
     "output_type": "display_data"
    },
    {
     "data": {
      "text/html": [
       "<text style=color:red>this was <text style=color:blue> <i>[tough]</i></text> but fun to make !: 0.6696</text>"
      ],
      "text/plain": [
       "<IPython.core.display.HTML object>"
      ]
     },
     "metadata": {},
     "output_type": "display_data"
    },
    {
     "data": {
      "text/html": [
       "<text style=color:red>this was <text style=color:blue> <i>[difficult]</i></text> but fun to make !: 0.6114</text>"
      ],
      "text/plain": [
       "<IPython.core.display.HTML object>"
      ]
     },
     "metadata": {},
     "output_type": "display_data"
    }
   ],
   "source": [
    "specificString = \"\"\n",
    "def specificString(textString=\"\"):\n",
    "    if(textString == \"\" or textString == None):\n",
    "        return\n",
    "    mainSentiment = senty.polarity_scores(textString)['compound']\n",
    "    if(mainSentiment == 0):\n",
    "        print(\"{} \\n No sentiment found in sentence\".format(textString));\n",
    "        return;\n",
    "    print(\"\\n {0}:{1}\\n\".format(textString,mainSentiment))   \n",
    "    sentenceObj = Sentence(textString, mainSentiment)\n",
    "    sentenceObj = getAlternativeSentences(sentenceObj)\n",
    "    alternateTweets = (sentenceObj.alternateSentences)[:]\n",
    "    if(alternateTweets == [] or alternateTweets == None):\n",
    "        print(\" -- No new Strings generated ---\\n\\n\")\n",
    "        return\n",
    "    sentenceObj = shiftSentiment(sentenceObj, True);\n",
    "    printStrings(sentenceObj)\n",
    "    sentenceObj = shiftSentiment(sentenceObj, False);\n",
    "    printStrings(sentenceObj)\n",
    "    \n",
    "# specificString(\"Bristol University has a wonderful worklife balance\")\n",
    "# specificString(\"Bristol University has an incredibly good worklife balance\")\n",
    "# specificString(\"Bristol University has a good worklife balance\")\n",
    "# specificString(\"Bristol University has an incredible worklife balance\")\n",
    "specificString(\"This was hard but fun to make!\")"
   ]
  },
  {
   "cell_type": "code",
   "execution_count": null,
   "metadata": {},
   "outputs": [],
   "source": []
  }
 ],
 "metadata": {
  "kernelspec": {
   "display_name": "Python 3",
   "language": "python",
   "name": "python3"
  },
  "language_info": {
   "codemirror_mode": {
    "name": "ipython",
    "version": 3
   },
   "file_extension": ".py",
   "mimetype": "text/x-python",
   "name": "python",
   "nbconvert_exporter": "python",
   "pygments_lexer": "ipython3",
   "version": "3.6.5"
  }
 },
 "nbformat": 4,
 "nbformat_minor": 2
}
