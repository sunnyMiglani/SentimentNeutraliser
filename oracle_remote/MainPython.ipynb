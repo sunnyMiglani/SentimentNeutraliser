{
 "cells": [
  {
   "cell_type": "markdown",
   "metadata": {},
   "source": [
    "## Import Statements"
   ]
  },
  {
   "cell_type": "code",
   "execution_count": 1,
   "metadata": {},
   "outputs": [
    {
     "name": "stdout",
     "output_type": "stream",
     "text": [
      "cleanDataset\n",
      "Imported clean dataset!\n"
     ]
    },
    {
     "data": {
      "text/html": [
       "<style>.container { width:70% !important; }</style>"
      ],
      "text/plain": [
       "<IPython.core.display.HTML object>"
      ]
     },
     "metadata": {},
     "output_type": "display_data"
    }
   ],
   "source": [
    "import gensim.downloader as api\n",
    "import numpy as np\n",
    "import re\n",
    "import csv\n",
    "import pandas as pd\n",
    "import pprint\n",
    "import string\n",
    "import nltk\n",
    "import sys\n",
    "import spacy\n",
    "import os\n",
    "import pickle\n",
    "    \n",
    "from IPython.display import HTML\n",
    "from nltk.corpus import wordnet \n",
    "from sklearn.manifold import TSNE\n",
    "from gensim.models import Word2Vec\n",
    "from gensim.models import KeyedVectors\n",
    "\n",
    "from nltk.sentiment.vader import SentimentIntensityAnalyzer\n",
    "from nltk.tokenize import word_tokenize\n",
    "\n",
    "pathToDatasets = '../datasets/'\n",
    "pathToDataScripts = '../datasets/scripts/'\n",
    "filePath = '../datasets/GoogleNews-vectors-negative300.bin'\n",
    "\n",
    "sys.path.insert(0, pathToDataScripts)\n",
    "from cleanDataset import tokenize_words, dataClean\n",
    "\n",
    "\n",
    "from IPython.core.display import display, HTML\n",
    "display(HTML(\"<style>.container { width:70% !important; }</style>\"))"
   ]
  },
  {
   "cell_type": "markdown",
   "metadata": {},
   "source": [
    "## Downloading binaries and models\n"
   ]
  },
  {
   "cell_type": "code",
   "execution_count": 2,
   "metadata": {},
   "outputs": [
    {
     "name": "stdout",
     "output_type": "stream",
     "text": [
      "Should I reload the model?\n",
      "yeet\n",
      "loading the model!\n",
      "loading via pickle!\n",
      "Model Loaded!\n"
     ]
    },
    {
     "name": "stderr",
     "output_type": "stream",
     "text": [
      "[nltk_data] Downloading package vader_lexicon to\n",
      "[nltk_data]     /home/ubuntu/nltk_data...\n",
      "[nltk_data]   Package vader_lexicon is already up-to-date!\n",
      "[nltk_data] Downloading package punkt to /home/ubuntu/nltk_data...\n",
      "[nltk_data]   Package punkt is already up-to-date!\n",
      "[nltk_data] Downloading package averaged_perceptron_tagger to\n",
      "[nltk_data]     /home/ubuntu/nltk_data...\n",
      "[nltk_data]   Package averaged_perceptron_tagger is already up-to-\n",
      "[nltk_data]       date!\n",
      "[nltk_data] Downloading package wordnet to /home/ubuntu/nltk_data...\n",
      "[nltk_data]   Package wordnet is already up-to-date!\n"
     ]
    }
   ],
   "source": [
    "print(\"Should I reload the model?\")\n",
    "tstString = input()\n",
    "if(\"no\" in tstString.lower() or \"n\" in tstString.lower()):\n",
    "    print(\" didnt reload model! \")\n",
    "else:\n",
    "    print(\"loading the model!\");\n",
    "    if(os.path.exists(pathToDatasets+\"word_vectors-300.pickle\")):\n",
    "        print(\"loading via pickle!\")\n",
    "        pickle_in = open(pathToDatasets+\"word_vectors-300.pickle\", \"rb\")\n",
    "        word_vectors = pickle.load(pickle_in);\n",
    "    else:\n",
    "        print(\"Path didn't exist, therefore loading model!\")\n",
    "        word_vectors = api.load(\"glove-wiki-gigaword-300\")\n",
    "    nltk.download('vader_lexicon')\n",
    "    nltk.download('punkt')\n",
    "    nltk.download('averaged_perceptron_tagger')\n",
    "    nltk.download('wordnet')\n",
    "    print(\"Model Loaded!\")"
   ]
  },
  {
   "cell_type": "markdown",
   "metadata": {},
   "source": [
    "## Global Variables and Global Objects"
   ]
  },
  {
   "cell_type": "code",
   "execution_count": 3,
   "metadata": {},
   "outputs": [],
   "source": [
    "senty = SentimentIntensityAnalyzer()\n",
    "vocabulary = word_vectors.vocab;\n",
    "\n",
    "nlp = spacy.load('en')\n",
    "\n",
    "\n",
    "NUMBER_OF_ALTERNATIVES = 5\n",
    "TWEET_START = 1\n",
    "NUM_OF_TWEETS = 30\n",
    "\n",
    "\n",
    "VERBOSE_PRINTING = True\n",
    "# VERBOSE_PRINTING = False\n",
    "\n",
    "# USE_SPACY = False\n",
    "USE_SPACY = True\n",
    "\n",
    "COLOR_PRINTING = True\n",
    "#COLOR_PRINTING = False\n",
    "\n",
    "# PRINT_NEUTRAL = True\n",
    "PRINT_NEUTRAL = False\n",
    "\n",
    "PRINT_ALL_STRINGS = True\n",
    "# PRINT_ALL_STRINGS = False\n",
    "\n",
    "SHOW_ALTS = 30\n",
    "\n",
    "punctuation = r\"\\\"#$%&'+-/;<=>?@[\\]*^_`{|}~\""
   ]
  },
  {
   "cell_type": "markdown",
   "metadata": {},
   "source": [
    "## Class for Sentences\n"
   ]
  },
  {
   "cell_type": "code",
   "execution_count": 4,
   "metadata": {},
   "outputs": [
    {
     "name": "stdout",
     "output_type": "stream",
     "text": [
      "Imported class file!\n"
     ]
    }
   ],
   "source": [
    "from SentenceClass import *"
   ]
  },
  {
   "cell_type": "markdown",
   "metadata": {},
   "source": [
    "## Utility Code"
   ]
  },
  {
   "cell_type": "code",
   "execution_count": 5,
   "metadata": {},
   "outputs": [],
   "source": [
    "def printStrings(sentenceObj):\n",
    "    \n",
    "    numberOfPrints = 0\n",
    "    newStrings = generateHTMLObjectsFromSentence(sentenceObj)\n",
    "    mainSentiment = sentenceObj.ogSentiment;\n",
    "    listOfSentencesWithSentiments = []\n",
    "    bestSentiment = -sys.maxsize - 1\n",
    "    worstSentiment = sys.maxsize\n",
    "    \n",
    "    bestSentimentString = \"\";\n",
    "    worstSentimentString = \"\";\n",
    "    \n",
    "    \n",
    "    for ind, tSentence in enumerate(newStrings):\n",
    "            alteredTweet = tSentence.getSentence()\n",
    "            htmlText = tSentence.getHTML()\n",
    "            sentimentOfNewString = senty.polarity_scores(alteredTweet)['compound']\n",
    "            newObj = SentenceWithSentiment(alteredTweet, sentimentOfNewString, htmlText)\n",
    "            listOfSentencesWithSentiments.append(newObj)\n",
    "            \n",
    "            if(sentimentOfNewString >= bestSentiment):\n",
    "                bestSentiment = sentimentOfNewString\n",
    "                bestSentimentString = htmlText;\n",
    "            elif(sentimentOfNewString < worstSentiment):\n",
    "                worstSentiment = sentimentOfNewString\n",
    "                worstSentimentString = htmlText;\n",
    "                \n",
    "            \n",
    "            if(sentimentOfNewString == mainSentiment or sentimentOfNewString == 0.0):\n",
    "                if(PRINT_ALL_STRINGS and numberOfPrints <= SHOW_ALTS): displayText(\"{0}: {1}\".format(htmlText,sentimentOfNewString),'black')\n",
    "                numberOfPrints+=1;\n",
    "            elif(sentimentOfNewString > mainSentiment):\n",
    "                if(PRINT_ALL_STRINGS and numberOfPrints <= SHOW_ALTS): displayText(\"{0}: {1}\".format(htmlText,sentimentOfNewString),'green')\n",
    "                numberOfPrints+=1;\n",
    "            elif(sentimentOfNewString < mainSentiment and sentimentOfNewString != 0.0):\n",
    "                if(PRINT_ALL_STRINGS and numberOfPrints <= SHOW_ALTS): displayText(\"{0}: {1}\".format(htmlText,sentimentOfNewString),'red')\n",
    "                numberOfPrints+=1;\n",
    "                \n",
    "    if(numberOfPrints > SHOW_ALTS): print(\"--- More options (total: {0}) possible, but not printed ---\".format(numberOfPrints));\n",
    "    if (worstSentimentString != \"\"): displayText(\"Worst Sentence: {0} : {1}\".format(worstSentimentString, worstSentiment), color='red')\n",
    "    if (bestSentimentString != \"\"): displayText(\"Best Sentence: {0} : {1}\".format(bestSentimentString, bestSentiment), color='green') \n",
    "    \n",
    "    \n",
    "    return listOfSentencesWithSentiments;\n",
    "\n",
    "def cstr(s, color='black', italics=False):\n",
    "    if(COLOR_PRINTING):\n",
    "        if(italics):\n",
    "            return cstr(\"<i>{0}</i>\".format(s), color);\n",
    "        return \"<text style=color:{}>{}</text>\".format(color, s)\n",
    "    else:\n",
    "        return \"{}\".format(s)\n",
    "\n",
    "def displayText(text, color='black'):\n",
    "    if(COLOR_PRINTING):\n",
    "        display(HTML(cstr(text, color)));\n",
    "        return\n",
    "    print(\"{}\".format(text));\n",
    "    \n",
    "    \n",
    "def cleanAndTokenizeText(text):\n",
    "    text = text.lower();\n",
    "    newString = \"\"\n",
    "    for char in text:\n",
    "        if char not in punctuation:\n",
    "            newString += char\n",
    "    text = word_tokenize(newString)\n",
    "    return text;\n",
    "\n",
    "def getPOSTags(tweet):\n",
    "    if(USE_SPACY == False):\n",
    "        tags = nltk.pos_tag(tweet)\n",
    "        return tags;    \n",
    "    tweet = ' '.join(tweet)\n",
    "    doc = nlp(tweet)\n",
    "    tags = [(token.text, token.tag_) for token in doc] # since the format expected is [text,tag]\n",
    "    return tags\n",
    "\n",
    "def getAntonymsOfWords(word):\n",
    "    if(word not in vocabulary):\n",
    "        return []\n",
    "    setOfAntonyms = set()\n",
    "    for syn in wordnet.synsets(word):\n",
    "        for l in syn.lemmas():\n",
    "            anton = l.antonyms()\n",
    "            if(anton!=[]):\n",
    "                setOfAntonyms.add(anton[0].name())\n",
    "    if(len(setOfAntonyms) == 0):\n",
    "        if(VERBOSE_PRINTING): print(\"No antonyms found for word {0}\".format(word))\n",
    "    return list(setOfAntonyms)\n",
    "\n",
    "def returnReplacementsForWord(word):\n",
    "    \n",
    "    if(word not in vocabulary):\n",
    "        print(\" --- {0} not in vocabulary ---\".format(word))\n",
    "        return []\n",
    "    possibleReplacements = [word[0] for word in word_vectors.most_similar(word,topn=NUMBER_OF_ALTERNATIVES)]\n",
    "    \n",
    "    if(possibleReplacements == []):\n",
    "        print(\" --- No replacements for word {0} ---\".format(word))\n",
    "    antonyms = getAntonymsOfWords(word)\n",
    "    if(antonyms != []):\n",
    "        possibleReplacements.extend(antonyms)\n",
    "        if(VERBOSE_PRINTING): print(\"Some antonyms for word {0} are {1}\".format(word, antonyms[:3]))\n",
    "        return possibleReplacements\n",
    "    return possibleReplacements\n",
    "    \n",
    "def posApprovedReplacements(alternativeWords, userTokens, indexOfToken):\n",
    "    if(alternativeWords == []):\n",
    "        return []\n",
    "    tempTokens = userTokens[:]\n",
    "    POSTokens = getPOSTags(tempTokens)\n",
    "    validWords = []\n",
    "    \n",
    "    mainTag = POSTokens[indexOfToken][1]\n",
    "    mainWord = userTokens[indexOfToken]\n",
    "    \n",
    "    for ind,word in enumerate(alternativeWords):\n",
    "        tempTokens[indexOfToken] = word\n",
    "        posTags = getPOSTags(tempTokens)\n",
    "        newTag = (posTags[indexOfToken])[1]\n",
    "        \n",
    "        if(str(newTag) == str(mainTag)):\n",
    "            if(VERBOSE_PRINTING): print(\"Word {0}[{1}] replaced with {2}[{3}]\".format(mainWord, mainTag, word,newTag))\n",
    "            validWords.append(word)\n",
    "    if(validWords == [] and VERBOSE_PRINTING):\n",
    "        print(\"No POS words found for word {} with tag {}\".format(mainWord, mainTag));\n",
    "    return validWords\n",
    "    \n",
    "def generateHTMLObjectsFromSentence(sentenceObj):\n",
    "    \n",
    "    allSentences = sentenceObj.getFinalSentences()\n",
    "    indexToAlts = sentenceObj.indexToSetOfWords;\n",
    "    indexToChange = list(indexToAlts.keys());\n",
    "    \n",
    "    listOfSentenceObjs = []\n",
    "    for sentence in allSentences:\n",
    "        copySentence = cleanAndTokenizeText(sentence)\n",
    "        for index in indexToChange:\n",
    "            copySentence[index] = cstr(\"[{0}]\".format(copySentence[index]), \"blue\", italics=True);\n",
    "        listOfSentenceObjs.append(SentenceWithHTML(sentence, ' '.join(copySentence)));\n",
    "    \n",
    "    return listOfSentenceObjs\n",
    "    \n",
    "    \n",
    "    "
   ]
  },
  {
   "cell_type": "markdown",
   "metadata": {},
   "source": [
    "## Sentence Chunking and Appending"
   ]
  },
  {
   "cell_type": "code",
   "execution_count": 6,
   "metadata": {},
   "outputs": [],
   "source": [
    "def helper_combine(mainList, myList):\n",
    "    '''\n",
    "    helper function for CombineSentenceChunks\n",
    "    '''\n",
    "    newList = []\n",
    "    for val in myList:\n",
    "        for mainVal in mainList:\n",
    "#             if(VERBOSE_PRINTING): print(\"Combining {0} with {1}\".format(' '.join(val), ' '.join(mainVal)));\n",
    "            newList.append(val + mainVal);\n",
    "    return newList;\n",
    "\n",
    "def combineSentenceChunks(wholeSentence, dictOfChunks):\n",
    "    '''\n",
    "        Uses the helper_combine function to generate all possible combinatios and permuations of the chunks\n",
    "        and any alternatives.\n",
    "        \n",
    "        The logic is to use the end of the sentence, apply each possible chunk from the previous key's chunks\n",
    "        to every possible chunk of this key's.\n",
    "        \n",
    "        The helper function is used to allow us to reuse the list of alreadyGeneratedChunks and constantly\n",
    "        append to them.\n",
    "        \n",
    "        To understand the logic better, take a look at this gist:\n",
    "        https://gist.github.com/sunnyMiglani/cf85407a9e6928237b1436cc2bc95fa4\n",
    "        \n",
    "    '''\n",
    "    reversedKeys = sorted(dictOfChunks.keys(), reverse=True)\n",
    "    completeSentences = [];\n",
    "    mainArr = dictOfChunks[reversedKeys[0]]\n",
    "    for ind in range(1, len(reversedKeys)):\n",
    "        key = reversedKeys[ind];\n",
    "        mainArr = helper_combine(mainArr, dictOfChunks[key]);\n",
    "        \n",
    "    return mainArr;\n",
    "        \n",
    "def generateSentenceChunks(wholeSentence, keyToChange, nextKey, listOfMyAlternatives):\n",
    "    '''\n",
    "        Generates sentence chunks by iterating through the list of alternatives\n",
    "        Chunking the sentence to start from current key to next key.\n",
    "        This means that the sentence always goes from key 'x' to key 'y'\n",
    "        \n",
    "        Example:\n",
    "        \"I really <hate> hot chocolate, but I <prefer> hot coffee\"\n",
    "        Calling generateSentenceChunks will create an example sentence:\n",
    "            - \"<altWordForHate> hot chocolate , but I \"\n",
    "        \n",
    "        Remember to append the first stretch of the string to the first key's chunk for proper use!\n",
    "    '''\n",
    "    newList = list(listOfMyAlternatives)\n",
    "    newList.append(wholeSentence[keyToChange]);\n",
    "    generatedSentences = []\n",
    "    for myAlt in newList:\n",
    "        newSentence = wholeSentence[:]\n",
    "        newSentence[keyToChange] = myAlt\n",
    "        if(VERBOSE_PRINTING): print(\"Generated : {}\".format(newSentence[keyToChange:nextKey]))\n",
    "        generatedSentences.append(newSentence[keyToChange:nextKey]);\n",
    "        \n",
    "    return generatedSentences\n",
    "    \n",
    "def returnCombinationsOfStrings(sentenceObj):\n",
    "    \n",
    "    indexToWordDict = sentenceObj.indexToSetOfWords;\n",
    "    originalSentence = sentenceObj.ogSentence;\n",
    "    tokenizedSentence = cleanAndTokenizeText(originalSentence)\n",
    "    reversedKeys = sorted(indexToWordDict.keys(), reverse=True)\n",
    "    dictAlternatives  = {}\n",
    "\n",
    "    sortedKeys = sorted(indexToWordDict.keys())\n",
    "    sentenceChunks = {}\n",
    "    htmlChunks = {}\n",
    "    \n",
    "    for ind in range(0,len(sortedKeys)):\n",
    "        key = sortedKeys[ind]\n",
    "        nextKey = sortedKeys[ind+1] if ind+1 < len(sortedKeys) else len(tokenizedSentence)\n",
    "        sentenceChunks[key] = generateSentenceChunks(tokenizedSentence, key, nextKey, indexToWordDict[key])\n",
    "\n",
    "    if(sortedKeys[0] != 0):\n",
    "        newList = []\n",
    "        for thislist in sentenceChunks[sortedKeys[0]]:\n",
    "            newList.append(tokenizedSentence[0:sortedKeys[0]] + thislist)\n",
    "        sentenceChunks[sortedKeys[0]] = newList;\n",
    "        \n",
    "    finalOptions = combineSentenceChunks(tokenizedSentence, sentenceChunks)\n",
    "    \n",
    "    finalSentences = []\n",
    "    for val in finalOptions:\n",
    "        sentence = ' '.join(val)\n",
    "        finalSentences.append(sentence)\n",
    "    \n",
    "    sentenceObj.resetFinalSentences()\n",
    "    sentenceObj.addFinalSentences(finalSentences)   \n",
    "    return sentenceObj"
   ]
  },
  {
   "cell_type": "code",
   "execution_count": 7,
   "metadata": {},
   "outputs": [],
   "source": [
    "def getAlternativeSentences(sentenceObj):\n",
    "    mainSentence = sentenceObj.ogSentence;\n",
    "    mainSentiment = sentenceObj.ogSentiment;\n",
    "\n",
    "    sentenceTokens = cleanAndTokenizeText(mainSentence)\n",
    "\n",
    "    for ind, word in enumerate(sentenceTokens):\n",
    "        alternativeSentenceWithHTML = []\n",
    "        copyOfTokens = sentenceTokens[:]\n",
    "        replacements = []\n",
    "        \n",
    "        score = senty.polarity_scores(word)['compound']\n",
    "        if(score != 0.0):\n",
    "            tempReplacements = returnReplacementsForWord(word) # get embedding based relations\n",
    "            if(tempReplacements == []):\n",
    "                print(\"No replacements found at all for word {0}\".format(word))\n",
    "                continue\n",
    "            replacements = posApprovedReplacements(tempReplacements[:], copyOfTokens[:], ind)\n",
    "            finalReplacements = []\n",
    "            if(VERBOSE_PRINTING): skippedWords = []\n",
    "            for word in replacements:\n",
    "                thisSentiment = senty.polarity_scores(word)['compound']\n",
    "                if(thisSentiment != 0.0):\n",
    "                    finalReplacements.append(word)\n",
    "                else:\n",
    "                    if(VERBOSE_PRINTING):\n",
    "#                         print(\"Sentiment of Skipped word {} is {}\".format(word, senty.polarity_scores(word)))\n",
    "                        skippedWords.append(word)\n",
    "            if(VERBOSE_PRINTING and len(skippedWords) > 0):\n",
    "                print(\"some skipped words: {0}\".format(skippedWords[:5]));\n",
    "            if(finalReplacements == []):\n",
    "                if(VERBOSE_PRINTING): print(\" -- No POS approved words! -- for word {0}\\n some non-POS:{1}\".format(word, tempReplacements[:4]))\n",
    "                continue\n",
    "            sentenceObj.addAlternativesByIndex(ind, finalReplacements)\n",
    "    return sentenceObj\n",
    "\n",
    "\n"
   ]
  },
  {
   "cell_type": "code",
   "execution_count": 8,
   "metadata": {},
   "outputs": [],
   "source": [
    "def interactionHelper(dictOfAltObjs, sentiments, thisSent, lastWorkingIndex=0):\n",
    "    if(thisSent in sentiments):\n",
    "        mainIndex = sentiments.index(thisSent)\n",
    "        \n",
    "    else:\n",
    "        mainIndex = lastWorkingIndex\n",
    "    \n",
    "    numLower =  mainIndex  # Mod to keep it in range 0 -> val \n",
    "    numHigher = len(sentiments) - mainIndex - 1\n",
    "\n",
    "    print(\"There are totally {0} possible sentences\".format(len(sentiments)))\n",
    "    print(\"Current sentiment is at index {0}, and length of sentiments is {1}\".format(mainIndex, len(sentiments)));\n",
    "    print(\" <--- {0} lower and {1} ---> higher \".format(numLower, numHigher))\n",
    "    print(\"Would you like to see a lower sentiment or higher sentiment or ALL?\")\n",
    "    print(\"Please enter 1 for lower, 2 for higher or 0 for all\")\n",
    "    \n",
    "    targetSentiment = thisSent\n",
    "    textInput = input()\n",
    "    if(textInput == \"\"):\n",
    "        print(\"You entered nothing! exiting\")\n",
    "        return\n",
    "        \n",
    "    if(textInput.isdigit()):\n",
    "        textInput = int(textInput)\n",
    "        if(textInput == 0):\n",
    "            if(VERBOSE_PRINTING): print(\"Printing sentiments from : {0}\".format(sentiments))\n",
    "            for sentiment in sentiments:\n",
    "                obj = dictOfAltObjs[sentiment][0];\n",
    "                displayText(\"{0}  : {1}\".format(obj.getHTML(), sentiment))\n",
    "            return\n",
    "        elif(textInput == 1 and numLower > 0 and (mainIndex - 1) >= 0):\n",
    "            targetSentiment = sentiments[mainIndex - 1]\n",
    "            htmlSentence = dictOfAltObjs[targetSentiment][0].getHTML();\n",
    "            displayText(\"{0} : {1}\".format(htmlSentence, targetSentiment))\n",
    "            \n",
    "        elif(textInput == 2 and numHigher < len(sentiments) and (mainIndex + 1) < len(sentiments)):\n",
    "            targetSentiment = sentiments[mainIndex + 1]\n",
    "            htmlSentence = dictOfAltObjs[targetSentiment][0].getHTML();\n",
    "            displayText(\"{0} : {1}\".format(htmlSentence, targetSentiment))\n",
    "            \n",
    "        else:\n",
    "            print(\"You entered an invalid option\")\n",
    "            interactionHelper(dictOfAltObjs, sentiments, thisSent, mainIndex)\n",
    "            return\n",
    "        \n",
    "    interactionHelper(dictOfAltObjs, sentiments, targetSentiment,mainIndex)\n",
    "\n",
    "\n",
    "\n",
    "def interactionWithUser(mainSentenceObj, dictOfAltObjs,sentiments, isUser=False):\n",
    "    if(isUser == False):\n",
    "        return\n",
    "    else:\n",
    "        mainSentence = mainSentenceObj.ogSentence;\n",
    "        mainSent = mainSentenceObj.ogSentiment;\n",
    "        if(VERBOSE_PRINTING):\n",
    "            print(\"The following are the sentiment values for the input\")\n",
    "            for ind,sent in enumerate(sentiments):\n",
    "                print(\"{0} - {1}\".format(ind+1,sent))\n",
    "        \n",
    "        interactionHelper(dictOfAltObjs, sentiments, mainSent) "
   ]
  },
  {
   "cell_type": "code",
   "execution_count": 9,
   "metadata": {
    "scrolled": false
   },
   "outputs": [
    {
     "name": "stdout",
     "output_type": "stream",
     "text": [
      "\n",
      "\n",
      " Tweet: is upset that he can not update his facebook by texting it... and might cry as a result  school today also. blah!:-0.75\n",
      "\n",
      "No antonyms found for word upset\n",
      "Word upset[VBN] replaced with shocked[VBN]\n",
      "Some antonyms for word cry are ['laugh']\n",
      "Word cry[VB] replaced with scream[VB]\n",
      "Word cry[VB] replaced with shout[VB]\n",
      "Word cry[VB] replaced with laugh[VB]\n",
      "some skipped words: ['shout']\n",
      "No antonyms found for word blah\n",
      "Word blah[UH] replaced with goy[UH]\n",
      "Word blah[UH] replaced with vich[UH]\n",
      "some skipped words: ['goy', 'vich']\n",
      " -- No POS approved words! -- for word vich\n",
      " some non-POS:['goy', 'stuh', 'blagojevich', 'vich']\n",
      "1'th word's (upset) options: {'shocked'}\n",
      "15'th word's (cry) options: {'scream', 'laugh'}\n",
      "Generated : ['shocked', 'that', 'he', 'can', 'not', 'update', 'his', 'facebook', 'by', 'texting', 'it', '...', 'and', 'might']\n",
      "Generated : ['upset', 'that', 'he', 'can', 'not', 'update', 'his', 'facebook', 'by', 'texting', 'it', '...', 'and', 'might']\n",
      "Generated : ['scream', 'as', 'a', 'result', 'school', 'today', 'also', '.', 'blah', '!']\n",
      "Generated : ['laugh', 'as', 'a', 'result', 'school', 'today', 'also', '.', 'blah', '!']\n",
      "Generated : ['cry', 'as', 'a', 'result', 'school', 'today', 'also', '.', 'blah', '!']\n"
     ]
    },
    {
     "data": {
      "text/html": [
       "<text style=color:green>is <text style=color:blue><i>[shocked]</i></text> that he can not update his facebook by texting it ... and might <text style=color:blue><i>[scream]</i></text> as a result school today also . blah !: -0.69</text>"
      ],
      "text/plain": [
       "<IPython.core.display.HTML object>"
      ]
     },
     "metadata": {},
     "output_type": "display_data"
    },
    {
     "data": {
      "text/html": [
       "<text style=color:green>is <text style=color:blue><i>[shocked]</i></text> that he can not update his facebook by texting it ... and might <text style=color:blue><i>[laugh]</i></text> as a result school today also . blah !: 0.2942</text>"
      ],
      "text/plain": [
       "<IPython.core.display.HTML object>"
      ]
     },
     "metadata": {},
     "output_type": "display_data"
    },
    {
     "data": {
      "text/html": [
       "<text style=color:green>is <text style=color:blue><i>[shocked]</i></text> that he can not update his facebook by texting it ... and might <text style=color:blue><i>[cry]</i></text> as a result school today also . blah !: -0.7263</text>"
      ],
      "text/plain": [
       "<IPython.core.display.HTML object>"
      ]
     },
     "metadata": {},
     "output_type": "display_data"
    },
    {
     "data": {
      "text/html": [
       "<text style=color:green>is <text style=color:blue><i>[upset]</i></text> that he can not update his facebook by texting it ... and might <text style=color:blue><i>[scream]</i></text> as a result school today also . blah !: -0.7177</text>"
      ],
      "text/plain": [
       "<IPython.core.display.HTML object>"
      ]
     },
     "metadata": {},
     "output_type": "display_data"
    },
    {
     "data": {
      "text/html": [
       "<text style=color:green>is <text style=color:blue><i>[upset]</i></text> that he can not update his facebook by texting it ... and might <text style=color:blue><i>[laugh]</i></text> as a result school today also . blah !: 0.2244</text>"
      ],
      "text/plain": [
       "<IPython.core.display.HTML object>"
      ]
     },
     "metadata": {},
     "output_type": "display_data"
    },
    {
     "data": {
      "text/html": [
       "<text style=color:black>is <text style=color:blue><i>[upset]</i></text> that he can not update his facebook by texting it ... and might <text style=color:blue><i>[cry]</i></text> as a result school today also . blah !: -0.75</text>"
      ],
      "text/plain": [
       "<IPython.core.display.HTML object>"
      ]
     },
     "metadata": {},
     "output_type": "display_data"
    },
    {
     "data": {
      "text/html": [
       "<text style=color:red>Worst Sentence: is <text style=color:blue><i>[upset]</i></text> that he can not update his facebook by texting it ... and might <text style=color:blue><i>[cry]</i></text> as a result school today also . blah ! : -0.75</text>"
      ],
      "text/plain": [
       "<IPython.core.display.HTML object>"
      ]
     },
     "metadata": {},
     "output_type": "display_data"
    },
    {
     "data": {
      "text/html": [
       "<text style=color:green>Best Sentence: is <text style=color:blue><i>[shocked]</i></text> that he can not update his facebook by texting it ... and might <text style=color:blue><i>[laugh]</i></text> as a result school today also . blah ! : 0.2942</text>"
      ],
      "text/plain": [
       "<IPython.core.display.HTML object>"
      ]
     },
     "metadata": {},
     "output_type": "display_data"
    },
    {
     "name": "stdout",
     "output_type": "stream",
     "text": [
      "sentiments:[-0.75, -0.7263, -0.7177, -0.69, 0.2244, 0.2942]\n",
      "\n",
      "\n",
      " Tweet:  i dived many times for the ball. managed to save 50  the rest go out of bounds:0.4939\n",
      "\n",
      "No antonyms found for word save\n",
      "Word save[VB] replaced with help[VB]\n",
      "Word save[VB] replaced with effort[VB]\n",
      "some skipped words: ['effort']\n",
      "10'th word's (save) options: {'help'}\n",
      "Generated : ['help', '50', 'the', 'rest', 'go', 'out', 'of', 'bounds']\n",
      "Generated : ['save', '50', 'the', 'rest', 'go', 'out', 'of', 'bounds']\n"
     ]
    },
    {
     "data": {
      "text/html": [
       "<text style=color:red>i dived many times for the ball . managed to <text style=color:blue><i>[help]</i></text> 50 the rest go out of bounds: 0.4019</text>"
      ],
      "text/plain": [
       "<IPython.core.display.HTML object>"
      ]
     },
     "metadata": {},
     "output_type": "display_data"
    },
    {
     "data": {
      "text/html": [
       "<text style=color:black>i dived many times for the ball . managed to <text style=color:blue><i>[save]</i></text> 50 the rest go out of bounds: 0.4939</text>"
      ],
      "text/plain": [
       "<IPython.core.display.HTML object>"
      ]
     },
     "metadata": {},
     "output_type": "display_data"
    },
    {
     "data": {
      "text/html": [
       "<text style=color:green>Best Sentence: i dived many times for the ball . managed to <text style=color:blue><i>[save]</i></text> 50 the rest go out of bounds : 0.4939</text>"
      ],
      "text/plain": [
       "<IPython.core.display.HTML object>"
      ]
     },
     "metadata": {},
     "output_type": "display_data"
    },
    {
     "name": "stdout",
     "output_type": "stream",
     "text": [
      "sentiments:[0.4019, 0.4939]\n",
      "\n",
      "\n",
      " Tweet: my whole body feels itchy and like its on fire :-0.25\n",
      "\n",
      "No antonyms found for word itchy\n",
      "Word itchy[JJ] replaced with scratchy[JJ]\n",
      "Word itchy[JJ] replaced with runny[JJ]\n",
      "some skipped words: ['scratchy', 'runny']\n",
      " -- No POS approved words! -- for word runny\n",
      " some non-POS:['scratchy', 'itching', 'blisters', 'rashes']\n",
      "Some antonyms for word like are ['unalike', 'dislike', 'unlike']\n",
      "Word like[IN] replaced with unlike[IN]\n",
      "some skipped words: ['unlike']\n",
      " -- No POS approved words! -- for word unlike\n",
      " some non-POS:['such', 'even', 'you', '?']\n",
      "Some antonyms for word fire are ['hire']\n",
      "Word fire[NN] replaced with blaze[NN]\n",
      "Word fire[NN] replaced with firing[NN]\n",
      "Word fire[NN] replaced with hire[NN]\n",
      "some skipped words: ['blaze', 'hire']\n",
      "9'th word's (fire) options: {'firing'}\n",
      "Generated : ['firing']\n",
      "Generated : ['fire']\n"
     ]
    },
    {
     "data": {
      "text/html": [
       "<text style=color:black>my whole body feels itchy and like its on <text style=color:blue><i>[firing]</i></text>: -0.25</text>"
      ],
      "text/plain": [
       "<IPython.core.display.HTML object>"
      ]
     },
     "metadata": {},
     "output_type": "display_data"
    },
    {
     "data": {
      "text/html": [
       "<text style=color:black>my whole body feels itchy and like its on <text style=color:blue><i>[fire]</i></text>: -0.25</text>"
      ],
      "text/plain": [
       "<IPython.core.display.HTML object>"
      ]
     },
     "metadata": {},
     "output_type": "display_data"
    },
    {
     "data": {
      "text/html": [
       "<text style=color:green>Best Sentence: my whole body feels itchy and like its on <text style=color:blue><i>[fire]</i></text> : -0.25</text>"
      ],
      "text/plain": [
       "<IPython.core.display.HTML object>"
      ]
     },
     "metadata": {},
     "output_type": "display_data"
    },
    {
     "name": "stdout",
     "output_type": "stream",
     "text": [
      "sentiments:[-0.25]\n",
      "\n",
      "\n",
      " Tweet:  no it is not behaving at all. i am mad. why am i here because i can not see you all over there. :-0.6597\n",
      "\n",
      "Some antonyms for word no are ['yes', 'all']\n",
      "Word no[UH] replaced with yes[UH]\n",
      "No antonyms found for word mad\n",
      "Word mad[JJ] replaced with bovine[JJ]\n",
      "Word mad[JJ] replaced with bse[JJ]\n",
      "Word mad[JJ] replaced with spongiform[JJ]\n",
      "Word mad[JJ] replaced with crazy[JJ]\n",
      "some skipped words: ['bovine', 'bse', 'spongiform']\n",
      "0'th word's (no) options: {'yes'}\n",
      "10'th word's (mad) options: {'crazy'}\n",
      "Generated : ['yes', 'it', 'is', 'not', 'behaving', 'at', 'all', '.', 'i', 'am']\n",
      "Generated : ['no', 'it', 'is', 'not', 'behaving', 'at', 'all', '.', 'i', 'am']\n",
      "Generated : ['crazy', '.', 'why', 'am', 'i', 'here', 'because', 'i', 'can', 'not', 'see', 'you', 'all', 'over', 'there', '.']\n",
      "Generated : ['mad', '.', 'why', 'am', 'i', 'here', 'because', 'i', 'can', 'not', 'see', 'you', 'all', 'over', 'there', '.']\n"
     ]
    },
    {
     "data": {
      "text/html": [
       "<text style=color:green><text style=color:blue><i>[yes]</i></text> it is not behaving at all . i am <text style=color:blue><i>[crazy]</i></text> . why am i here because i can not see you all over there .: 0.0772</text>"
      ],
      "text/plain": [
       "<IPython.core.display.HTML object>"
      ]
     },
     "metadata": {},
     "output_type": "display_data"
    },
    {
     "data": {
      "text/html": [
       "<text style=color:green><text style=color:blue><i>[yes]</i></text> it is not behaving at all . i am <text style=color:blue><i>[mad]</i></text> . why am i here because i can not see you all over there .: -0.128</text>"
      ],
      "text/plain": [
       "<IPython.core.display.HTML object>"
      ]
     },
     "metadata": {},
     "output_type": "display_data"
    },
    {
     "data": {
      "text/html": [
       "<text style=color:green><text style=color:blue><i>[no]</i></text> it is not behaving at all . i am <text style=color:blue><i>[crazy]</i></text> . why am i here because i can not see you all over there .: -0.5574</text>"
      ],
      "text/plain": [
       "<IPython.core.display.HTML object>"
      ]
     },
     "metadata": {},
     "output_type": "display_data"
    },
    {
     "data": {
      "text/html": [
       "<text style=color:black><text style=color:blue><i>[no]</i></text> it is not behaving at all . i am <text style=color:blue><i>[mad]</i></text> . why am i here because i can not see you all over there .: -0.6597</text>"
      ],
      "text/plain": [
       "<IPython.core.display.HTML object>"
      ]
     },
     "metadata": {},
     "output_type": "display_data"
    },
    {
     "data": {
      "text/html": [
       "<text style=color:red>Worst Sentence: <text style=color:blue><i>[no]</i></text> it is not behaving at all . i am <text style=color:blue><i>[mad]</i></text> . why am i here because i can not see you all over there . : -0.6597</text>"
      ],
      "text/plain": [
       "<IPython.core.display.HTML object>"
      ]
     },
     "metadata": {},
     "output_type": "display_data"
    },
    {
     "data": {
      "text/html": [
       "<text style=color:green>Best Sentence: <text style=color:blue><i>[yes]</i></text> it is not behaving at all . i am <text style=color:blue><i>[crazy]</i></text> . why am i here because i can not see you all over there . : 0.0772</text>"
      ],
      "text/plain": [
       "<IPython.core.display.HTML object>"
      ]
     },
     "metadata": {},
     "output_type": "display_data"
    },
    {
     "name": "stdout",
     "output_type": "stream",
     "text": [
      "sentiments:[-0.6597, -0.5574, -0.128, 0.0772]\n",
      "\n",
      "\n",
      " Tweet: need a hug :0.4767\n",
      "\n",
      "No antonyms found for word hug\n",
      "Word hug[NN] replaced with goodbye[NN]\n",
      "Word hug[NN] replaced with kiss[NN]\n",
      "some skipped words: ['goodbye']\n",
      "2'th word's (hug) options: {'kiss'}\n",
      "Generated : ['kiss']\n",
      "Generated : ['hug']\n"
     ]
    },
    {
     "data": {
      "text/html": [
       "<text style=color:red>need a <text style=color:blue><i>[kiss]</i></text>: 0.4215</text>"
      ],
      "text/plain": [
       "<IPython.core.display.HTML object>"
      ]
     },
     "metadata": {},
     "output_type": "display_data"
    },
    {
     "data": {
      "text/html": [
       "<text style=color:black>need a <text style=color:blue><i>[hug]</i></text>: 0.4767</text>"
      ],
      "text/plain": [
       "<IPython.core.display.HTML object>"
      ]
     },
     "metadata": {},
     "output_type": "display_data"
    },
    {
     "data": {
      "text/html": [
       "<text style=color:green>Best Sentence: need a <text style=color:blue><i>[hug]</i></text> : 0.4767</text>"
      ],
      "text/plain": [
       "<IPython.core.display.HTML object>"
      ]
     },
     "metadata": {},
     "output_type": "display_data"
    },
    {
     "name": "stdout",
     "output_type": "stream",
     "text": [
      "sentiments:[0.4215, 0.4767]\n",
      "\n",
      "\n",
      " Tweet:  hey  long time no see! yes.. rains a bit only a bit  lol  i am fine thanks  how is you :0.68\n",
      "\n",
      "Some antonyms for word no are ['yes', 'all']\n",
      "Word no[UH] replaced with yes[UH]\n",
      "No antonyms found for word lol\n",
      "Word lol[NN] replaced with choua[NN]\n",
      "Word lol[NN] replaced with coxhill[NN]\n",
      "Word lol[NN] replaced with creme[NN]\n",
      "Word lol[NN] replaced with 10cc[NN]\n",
      "Word lol[NN] replaced with godley[NN]\n",
      "some skipped words: ['choua', 'coxhill', 'creme', '10cc', 'godley']\n",
      " -- No POS approved words! -- for word godley\n",
      " some non-POS:['choua', 'coxhill', 'creme', '10cc']\n",
      "Some antonyms for word fine are ['coarse']\n",
      "Word fine[VBP] replaced with fines[VBP]\n",
      "Word fine[VBP] replaced with art[VBP]\n",
      "Word fine[VBP] replaced with well[VBP]\n",
      "Word fine[VBP] replaced with arts[VBP]\n",
      "Word fine[VBP] replaced with 'll[VBP]\n",
      "Word fine[VBP] replaced with coarse[VBP]\n",
      "some skipped words: ['fines', 'art', 'arts', \"'ll\", 'coarse']\n",
      "No antonyms found for word thanks\n",
      "Word thanks[JJ] replaced with despite[JJ]\n",
      "Word thanks[JJ] replaced with success[JJ]\n",
      "Word thanks[JJ] replaced with good[JJ]\n",
      "some skipped words: ['despite']\n",
      "3'th word's (no) options: {'yes'}\n",
      "16'th word's (fine) options: {'well'}\n",
      "17'th word's (thanks) options: {'good', 'success'}\n",
      "Generated : ['yes', 'see', '!', 'yes..', 'rains', 'a', 'bit', 'only', 'a', 'bit', 'lol', 'i', 'am']\n",
      "Generated : ['no', 'see', '!', 'yes..', 'rains', 'a', 'bit', 'only', 'a', 'bit', 'lol', 'i', 'am']\n",
      "Generated : ['well']\n",
      "Generated : ['fine']\n",
      "Generated : ['good', 'how', 'is', 'you']\n",
      "Generated : ['success', 'how', 'is', 'you']\n",
      "Generated : ['thanks', 'how', 'is', 'you']\n"
     ]
    },
    {
     "data": {
      "text/html": [
       "<text style=color:green>hey long time <text style=color:blue><i>[yes]</i></text> see ! yes.. rains a bit only a bit lol i am <text style=color:blue><i>[well]</i></text> <text style=color:blue><i>[good]</i></text> how is you: 0.8687</text>"
      ],
      "text/plain": [
       "<IPython.core.display.HTML object>"
      ]
     },
     "metadata": {},
     "output_type": "display_data"
    },
    {
     "data": {
      "text/html": [
       "<text style=color:green>hey long time <text style=color:blue><i>[yes]</i></text> see ! yes.. rains a bit only a bit lol i am <text style=color:blue><i>[well]</i></text> <text style=color:blue><i>[success]</i></text> how is you: 0.8908</text>"
      ],
      "text/plain": [
       "<IPython.core.display.HTML object>"
      ]
     },
     "metadata": {},
     "output_type": "display_data"
    },
    {
     "data": {
      "text/html": [
       "<text style=color:green>hey long time <text style=color:blue><i>[yes]</i></text> see ! yes.. rains a bit only a bit lol i am <text style=color:blue><i>[well]</i></text> <text style=color:blue><i>[thanks]</i></text> how is you: 0.8687</text>"
      ],
      "text/plain": [
       "<IPython.core.display.HTML object>"
      ]
     },
     "metadata": {},
     "output_type": "display_data"
    },
    {
     "data": {
      "text/html": [
       "<text style=color:green>hey long time <text style=color:blue><i>[yes]</i></text> see ! yes.. rains a bit only a bit lol i am <text style=color:blue><i>[fine]</i></text> <text style=color:blue><i>[good]</i></text> how is you: 0.8588</text>"
      ],
      "text/plain": [
       "<IPython.core.display.HTML object>"
      ]
     },
     "metadata": {},
     "output_type": "display_data"
    },
    {
     "data": {
      "text/html": [
       "<text style=color:green>hey long time <text style=color:blue><i>[yes]</i></text> see ! yes.. rains a bit only a bit lol i am <text style=color:blue><i>[fine]</i></text> <text style=color:blue><i>[success]</i></text> how is you: 0.8832</text>"
      ],
      "text/plain": [
       "<IPython.core.display.HTML object>"
      ]
     },
     "metadata": {},
     "output_type": "display_data"
    },
    {
     "data": {
      "text/html": [
       "<text style=color:green>hey long time <text style=color:blue><i>[yes]</i></text> see ! yes.. rains a bit only a bit lol i am <text style=color:blue><i>[fine]</i></text> <text style=color:blue><i>[thanks]</i></text> how is you: 0.8588</text>"
      ],
      "text/plain": [
       "<IPython.core.display.HTML object>"
      ]
     },
     "metadata": {},
     "output_type": "display_data"
    },
    {
     "data": {
      "text/html": [
       "<text style=color:green>hey long time <text style=color:blue><i>[no]</i></text> see ! yes.. rains a bit only a bit lol i am <text style=color:blue><i>[well]</i></text> <text style=color:blue><i>[good]</i></text> how is you: 0.7088</text>"
      ],
      "text/plain": [
       "<IPython.core.display.HTML object>"
      ]
     },
     "metadata": {},
     "output_type": "display_data"
    },
    {
     "data": {
      "text/html": [
       "<text style=color:green>hey long time <text style=color:blue><i>[no]</i></text> see ! yes.. rains a bit only a bit lol i am <text style=color:blue><i>[well]</i></text> <text style=color:blue><i>[success]</i></text> how is you: 0.7712</text>"
      ],
      "text/plain": [
       "<IPython.core.display.HTML object>"
      ]
     },
     "metadata": {},
     "output_type": "display_data"
    },
    {
     "data": {
      "text/html": [
       "<text style=color:green>hey long time <text style=color:blue><i>[no]</i></text> see ! yes.. rains a bit only a bit lol i am <text style=color:blue><i>[well]</i></text> <text style=color:blue><i>[thanks]</i></text> how is you: 0.7088</text>"
      ],
      "text/plain": [
       "<IPython.core.display.HTML object>"
      ]
     },
     "metadata": {},
     "output_type": "display_data"
    },
    {
     "data": {
      "text/html": [
       "<text style=color:black>hey long time <text style=color:blue><i>[no]</i></text> see ! yes.. rains a bit only a bit lol i am <text style=color:blue><i>[fine]</i></text> <text style=color:blue><i>[good]</i></text> how is you: 0.68</text>"
      ],
      "text/plain": [
       "<IPython.core.display.HTML object>"
      ]
     },
     "metadata": {},
     "output_type": "display_data"
    },
    {
     "data": {
      "text/html": [
       "<text style=color:green>hey long time <text style=color:blue><i>[no]</i></text> see ! yes.. rains a bit only a bit lol i am <text style=color:blue><i>[fine]</i></text> <text style=color:blue><i>[success]</i></text> how is you: 0.75</text>"
      ],
      "text/plain": [
       "<IPython.core.display.HTML object>"
      ]
     },
     "metadata": {},
     "output_type": "display_data"
    },
    {
     "data": {
      "text/html": [
       "<text style=color:black>hey long time <text style=color:blue><i>[no]</i></text> see ! yes.. rains a bit only a bit lol i am <text style=color:blue><i>[fine]</i></text> <text style=color:blue><i>[thanks]</i></text> how is you: 0.68</text>"
      ],
      "text/plain": [
       "<IPython.core.display.HTML object>"
      ]
     },
     "metadata": {},
     "output_type": "display_data"
    },
    {
     "data": {
      "text/html": [
       "<text style=color:red>Worst Sentence: hey long time <text style=color:blue><i>[no]</i></text> see ! yes.. rains a bit only a bit lol i am <text style=color:blue><i>[fine]</i></text> <text style=color:blue><i>[good]</i></text> how is you : 0.68</text>"
      ],
      "text/plain": [
       "<IPython.core.display.HTML object>"
      ]
     },
     "metadata": {},
     "output_type": "display_data"
    },
    {
     "data": {
      "text/html": [
       "<text style=color:green>Best Sentence: hey long time <text style=color:blue><i>[yes]</i></text> see ! yes.. rains a bit only a bit lol i am <text style=color:blue><i>[well]</i></text> <text style=color:blue><i>[success]</i></text> how is you : 0.8908</text>"
      ],
      "text/plain": [
       "<IPython.core.display.HTML object>"
      ]
     },
     "metadata": {},
     "output_type": "display_data"
    },
    {
     "name": "stdout",
     "output_type": "stream",
     "text": [
      "sentiments:[0.68, 0.7088, 0.75, 0.7712, 0.8588, 0.8687, 0.8832, 0.8908]\n",
      "\n",
      "\n",
      " Tweet:  i could not bear to watch it.  and i thought the ua loss was embarrassing . . . . .:-0.5994\n",
      "\n",
      "Some antonyms for word loss are ['gain']\n",
      "Word loss[NN] replaced with losing[NN]\n",
      "Word loss[NN] replaced with result[NN]\n",
      "Word loss[NN] replaced with lose[NN]\n",
      "Word loss[NN] replaced with gain[NN]\n",
      "some skipped words: ['result']\n",
      "No antonyms found for word embarrassing\n",
      "Word embarrassing[JJ] replaced with humiliating[JJ]\n",
      "Word embarrassing[JJ] replaced with embarrassed[JJ]\n",
      "Word embarrassing[JJ] replaced with shocking[JJ]\n",
      "13'th word's (loss) options: {'lose', 'gain', 'losing'}\n",
      "15'th word's (embarrassing) options: {'shocking', 'embarrassed', 'humiliating'}\n",
      "Generated : ['lose', 'was']\n",
      "Generated : ['gain', 'was']\n",
      "Generated : ['losing', 'was']\n",
      "Generated : ['loss', 'was']\n",
      "Generated : ['shocking', '.', '.', '.', '.', '.']\n",
      "Generated : ['embarrassed', '.', '.', '.', '.', '.']\n",
      "Generated : ['humiliating', '.', '.', '.', '.', '.']\n",
      "Generated : ['embarrassing', '.', '.', '.', '.', '.']\n"
     ]
    },
    {
     "data": {
      "text/html": [
       "<text style=color:red>i could not bear to watch it . and i thought the ua <text style=color:blue><i>[lose]</i></text> was <text style=color:blue><i>[shocking]</i></text> . . . . .: -0.6597</text>"
      ],
      "text/plain": [
       "<IPython.core.display.HTML object>"
      ]
     },
     "metadata": {},
     "output_type": "display_data"
    },
    {
     "data": {
      "text/html": [
       "<text style=color:red>i could not bear to watch it . and i thought the ua <text style=color:blue><i>[lose]</i></text> was <text style=color:blue><i>[embarrassed]</i></text> . . . . .: -0.6369</text>"
      ],
      "text/plain": [
       "<IPython.core.display.HTML object>"
      ]
     },
     "metadata": {},
     "output_type": "display_data"
    },
    {
     "data": {
      "text/html": [
       "<text style=color:black>i could not bear to watch it . and i thought the ua <text style=color:blue><i>[lose]</i></text> was <text style=color:blue><i>[humiliating]</i></text> . . . . .: -0.5994</text>"
      ],
      "text/plain": [
       "<IPython.core.display.HTML object>"
      ]
     },
     "metadata": {},
     "output_type": "display_data"
    },
    {
     "data": {
      "text/html": [
       "<text style=color:red>i could not bear to watch it . and i thought the ua <text style=color:blue><i>[lose]</i></text> was <text style=color:blue><i>[embarrassing]</i></text> . . . . .: -0.6486</text>"
      ],
      "text/plain": [
       "<IPython.core.display.HTML object>"
      ]
     },
     "metadata": {},
     "output_type": "display_data"
    },
    {
     "data": {
      "text/html": [
       "<text style=color:green>i could not bear to watch it . and i thought the ua <text style=color:blue><i>[gain]</i></text> was <text style=color:blue><i>[shocking]</i></text> . . . . .: 0.1779</text>"
      ],
      "text/plain": [
       "<IPython.core.display.HTML object>"
      ]
     },
     "metadata": {},
     "output_type": "display_data"
    },
    {
     "data": {
      "text/html": [
       "<text style=color:green>i could not bear to watch it . and i thought the ua <text style=color:blue><i>[gain]</i></text> was <text style=color:blue><i>[embarrassed]</i></text> . . . . .: 0.2263</text>"
      ],
      "text/plain": [
       "<IPython.core.display.HTML object>"
      ]
     },
     "metadata": {},
     "output_type": "display_data"
    },
    {
     "data": {
      "text/html": [
       "<text style=color:green>i could not bear to watch it . and i thought the ua <text style=color:blue><i>[gain]</i></text> was <text style=color:blue><i>[humiliating]</i></text> . . . . .: 0.296</text>"
      ],
      "text/plain": [
       "<IPython.core.display.HTML object>"
      ]
     },
     "metadata": {},
     "output_type": "display_data"
    },
    {
     "data": {
      "text/html": [
       "<text style=color:green>i could not bear to watch it . and i thought the ua <text style=color:blue><i>[gain]</i></text> was <text style=color:blue><i>[embarrassing]</i></text> . . . . .: 0.2023</text>"
      ],
      "text/plain": [
       "<IPython.core.display.HTML object>"
      ]
     },
     "metadata": {},
     "output_type": "display_data"
    },
    {
     "data": {
      "text/html": [
       "<text style=color:red>i could not bear to watch it . and i thought the ua <text style=color:blue><i>[losing]</i></text> was <text style=color:blue><i>[shocking]</i></text> . . . . .: -0.6486</text>"
      ],
      "text/plain": [
       "<IPython.core.display.HTML object>"
      ]
     },
     "metadata": {},
     "output_type": "display_data"
    },
    {
     "data": {
      "text/html": [
       "<text style=color:red>i could not bear to watch it . and i thought the ua <text style=color:blue><i>[losing]</i></text> was <text style=color:blue><i>[embarrassed]</i></text> . . . . .: -0.6249</text>"
      ],
      "text/plain": [
       "<IPython.core.display.HTML object>"
      ]
     },
     "metadata": {},
     "output_type": "display_data"
    },
    {
     "data": {
      "text/html": [
       "<text style=color:green>i could not bear to watch it . and i thought the ua <text style=color:blue><i>[losing]</i></text> was <text style=color:blue><i>[humiliating]</i></text> . . . . .: -0.5859</text>"
      ],
      "text/plain": [
       "<IPython.core.display.HTML object>"
      ]
     },
     "metadata": {},
     "output_type": "display_data"
    },
    {
     "data": {
      "text/html": [
       "<text style=color:red>i could not bear to watch it . and i thought the ua <text style=color:blue><i>[losing]</i></text> was <text style=color:blue><i>[embarrassing]</i></text> . . . . .: -0.6369</text>"
      ],
      "text/plain": [
       "<IPython.core.display.HTML object>"
      ]
     },
     "metadata": {},
     "output_type": "display_data"
    },
    {
     "data": {
      "text/html": [
       "<text style=color:red>i could not bear to watch it . and i thought the ua <text style=color:blue><i>[loss]</i></text> was <text style=color:blue><i>[shocking]</i></text> . . . . .: -0.6124</text>"
      ],
      "text/plain": [
       "<IPython.core.display.HTML object>"
      ]
     },
     "metadata": {},
     "output_type": "display_data"
    },
    {
     "data": {
      "text/html": [
       "<text style=color:green>i could not bear to watch it . and i thought the ua <text style=color:blue><i>[loss]</i></text> was <text style=color:blue><i>[embarrassed]</i></text> . . . . .: -0.5859</text>"
      ],
      "text/plain": [
       "<IPython.core.display.HTML object>"
      ]
     },
     "metadata": {},
     "output_type": "display_data"
    },
    {
     "data": {
      "text/html": [
       "<text style=color:green>i could not bear to watch it . and i thought the ua <text style=color:blue><i>[loss]</i></text> was <text style=color:blue><i>[humiliating]</i></text> . . . . .: -0.5423</text>"
      ],
      "text/plain": [
       "<IPython.core.display.HTML object>"
      ]
     },
     "metadata": {},
     "output_type": "display_data"
    },
    {
     "data": {
      "text/html": [
       "<text style=color:black>i could not bear to watch it . and i thought the ua <text style=color:blue><i>[loss]</i></text> was <text style=color:blue><i>[embarrassing]</i></text> . . . . .: -0.5994</text>"
      ],
      "text/plain": [
       "<IPython.core.display.HTML object>"
      ]
     },
     "metadata": {},
     "output_type": "display_data"
    },
    {
     "data": {
      "text/html": [
       "<text style=color:red>Worst Sentence: i could not bear to watch it . and i thought the ua <text style=color:blue><i>[lose]</i></text> was <text style=color:blue><i>[embarrassing]</i></text> . . . . . : -0.6486</text>"
      ],
      "text/plain": [
       "<IPython.core.display.HTML object>"
      ]
     },
     "metadata": {},
     "output_type": "display_data"
    },
    {
     "data": {
      "text/html": [
       "<text style=color:green>Best Sentence: i could not bear to watch it . and i thought the ua <text style=color:blue><i>[gain]</i></text> was <text style=color:blue><i>[humiliating]</i></text> . . . . . : 0.296</text>"
      ],
      "text/plain": [
       "<IPython.core.display.HTML object>"
      ]
     },
     "metadata": {},
     "output_type": "display_data"
    },
    {
     "name": "stdout",
     "output_type": "stream",
     "text": [
      "sentiments:[-0.6597, -0.6486, -0.6369, -0.6249, -0.6124, -0.5994, -0.5859, -0.5423, 0.1779, 0.2023, 0.2263, 0.296]\n",
      "\n",
      "\n",
      " Tweet:  it it counts idk why i did either. you never talk to me anymore :-0.1027\n",
      "\n",
      " --- idk not in vocabulary ---\n",
      "No replacements found at all for word idk\n",
      " -- No new Strings generated ---\n",
      "\n",
      "\n",
      "\n",
      "\n",
      " Tweet:  i would have been the first but i did not have a gun.    not really though zac snyder is just a doucheclown.:0.3724\n",
      "\n",
      "No antonyms found for word gun\n",
      "Word gun[NN] replaced with handgun[NN]\n",
      "Word gun[NN] replaced with rifle[NN]\n",
      "some skipped words: ['handgun', 'rifle']\n",
      " -- No POS approved words! -- for word rifle\n",
      " some non-POS:['guns', 'handgun', 'firearms', 'rifle']\n",
      " -- No new Strings generated ---\n",
      "\n",
      "\n",
      "\n",
      "\n",
      " Tweet:  i wish i got to watch it with you!! i miss you and @iamlilnicki  how was the premiere!:0.4545\n",
      "\n",
      "Some antonyms for word wish are ['begrudge']\n",
      "Word wish[VBP] replaced with want[VBP]\n",
      "Word wish[VBP] replaced with begrudge[VBP]\n",
      "some skipped words: ['begrudge']\n",
      "Some antonyms for word miss are ['have', 'hit', 'attend_to']\n",
      "Word miss[VBP] replaced with pageant[VBP]\n",
      "Word miss[VBP] replaced with play[VBP]\n",
      "Word miss[VBP] replaced with beauty[VBP]\n",
      "Word miss[VBP] replaced with have[VBP]\n",
      "Word miss[VBP] replaced with attend_to[VBP]\n",
      "Word miss[VBP] replaced with attend[VBP]\n",
      "some skipped words: ['pageant', 'have', 'attend_to', 'attend']\n",
      "1'th word's (wish) options: {'want'}\n",
      "12'th word's (miss) options: {'beauty', 'play'}\n",
      "Generated : ['want', 'i', 'got', 'to', 'watch', 'it', 'with', 'you', '!', '!', 'i']\n",
      "Generated : ['wish', 'i', 'got', 'to', 'watch', 'it', 'with', 'you', '!', '!', 'i']\n",
      "Generated : ['beauty', 'you', 'and', 'iamlilnicki', 'how', 'was', 'the', 'premiere', '!']\n",
      "Generated : ['play', 'you', 'and', 'iamlilnicki', 'how', 'was', 'the', 'premiere', '!']\n",
      "Generated : ['miss', 'you', 'and', 'iamlilnicki', 'how', 'was', 'the', 'premiere', '!']\n"
     ]
    },
    {
     "data": {
      "text/html": [
       "<text style=color:green>i <text style=color:blue><i>[want]</i></text> i got to watch it with you ! ! i <text style=color:blue><i>[beauty]</i></text> you and iamlilnicki how was the premiere !: 0.7163</text>"
      ],
      "text/plain": [
       "<IPython.core.display.HTML object>"
      ]
     },
     "metadata": {},
     "output_type": "display_data"
    },
    {
     "data": {
      "text/html": [
       "<text style=color:green>i <text style=color:blue><i>[want]</i></text> i got to watch it with you ! ! i <text style=color:blue><i>[play]</i></text> you and iamlilnicki how was the premiere !: 0.5538</text>"
      ],
      "text/plain": [
       "<IPython.core.display.HTML object>"
      ]
     },
     "metadata": {},
     "output_type": "display_data"
    },
    {
     "data": {
      "text/html": [
       "<text style=color:red>i <text style=color:blue><i>[want]</i></text> i got to watch it with you ! ! i <text style=color:blue><i>[miss]</i></text> you and iamlilnicki how was the premiere !: -0.2905</text>"
      ],
      "text/plain": [
       "<IPython.core.display.HTML object>"
      ]
     },
     "metadata": {},
     "output_type": "display_data"
    },
    {
     "data": {
      "text/html": [
       "<text style=color:green>i <text style=color:blue><i>[wish]</i></text> i got to watch it with you ! ! i <text style=color:blue><i>[beauty]</i></text> you and iamlilnicki how was the premiere !: 0.8114</text>"
      ],
      "text/plain": [
       "<IPython.core.display.HTML object>"
      ]
     },
     "metadata": {},
     "output_type": "display_data"
    },
    {
     "data": {
      "text/html": [
       "<text style=color:green>i <text style=color:blue><i>[wish]</i></text> i got to watch it with you ! ! i <text style=color:blue><i>[play]</i></text> you and iamlilnicki how was the premiere !: 0.7163</text>"
      ],
      "text/plain": [
       "<IPython.core.display.HTML object>"
      ]
     },
     "metadata": {},
     "output_type": "display_data"
    },
    {
     "data": {
      "text/html": [
       "<text style=color:black>i <text style=color:blue><i>[wish]</i></text> i got to watch it with you ! ! i <text style=color:blue><i>[miss]</i></text> you and iamlilnicki how was the premiere !: 0.4545</text>"
      ],
      "text/plain": [
       "<IPython.core.display.HTML object>"
      ]
     },
     "metadata": {},
     "output_type": "display_data"
    },
    {
     "data": {
      "text/html": [
       "<text style=color:red>Worst Sentence: i <text style=color:blue><i>[want]</i></text> i got to watch it with you ! ! i <text style=color:blue><i>[miss]</i></text> you and iamlilnicki how was the premiere ! : -0.2905</text>"
      ],
      "text/plain": [
       "<IPython.core.display.HTML object>"
      ]
     },
     "metadata": {},
     "output_type": "display_data"
    },
    {
     "data": {
      "text/html": [
       "<text style=color:green>Best Sentence: i <text style=color:blue><i>[wish]</i></text> i got to watch it with you ! ! i <text style=color:blue><i>[beauty]</i></text> you and iamlilnicki how was the premiere ! : 0.8114</text>"
      ],
      "text/plain": [
       "<IPython.core.display.HTML object>"
      ]
     },
     "metadata": {},
     "output_type": "display_data"
    },
    {
     "name": "stdout",
     "output_type": "stream",
     "text": [
      "sentiments:[-0.2905, 0.4545, 0.5538, 0.7163, 0.8114]\n",
      "\n",
      "\n",
      " Tweet: hollis death scene will hurt me severely to watch on film  wry is directors cut not out now:-0.9081\n",
      "\n",
      "Some antonyms for word death are ['birth']\n",
      "Word death[NN] replaced with murder[NN]\n",
      "Word death[NN] replaced with birth[NN]\n",
      "some skipped words: ['birth']\n",
      "Some antonyms for word hurt are ['be_well']\n",
      "Word hurt[VB] replaced with be_well[VB]\n",
      "some skipped words: ['be_well']\n",
      " -- No POS approved words! -- for word be_well\n",
      " some non-POS:['hurting', 'seriously', 'hurts', 'badly']\n",
      "No antonyms found for word severely\n",
      "Word severely[RB] replaced with seriously[RB]\n",
      "Word severely[RB] replaced with badly[RB]\n",
      "Some antonyms for word cut are ['untrimmed', 'uncut', 'switch_on']\n",
      "Word cut[VBN] replaced with unmown[VBN]\n",
      "some skipped words: ['unmown']\n",
      " -- No POS approved words! -- for word unmown\n",
      " some non-POS:['cutting', 'cuts', 'slash', 'slashed']\n",
      "1'th word's (death) options: {'murder'}\n",
      "6'th word's (severely) options: {'seriously', 'badly'}\n",
      "Generated : ['murder', 'scene', 'will', 'hurt', 'me']\n",
      "Generated : ['death', 'scene', 'will', 'hurt', 'me']\n",
      "Generated : ['seriously', 'to', 'watch', 'on', 'film', 'wry', 'is', 'directors', 'cut', 'not', 'out', 'now']\n",
      "Generated : ['badly', 'to', 'watch', 'on', 'film', 'wry', 'is', 'directors', 'cut', 'not', 'out', 'now']\n",
      "Generated : ['severely', 'to', 'watch', 'on', 'film', 'wry', 'is', 'directors', 'cut', 'not', 'out', 'now']\n"
     ]
    },
    {
     "data": {
      "text/html": [
       "<text style=color:green>hollis <text style=color:blue><i>[murder]</i></text> scene will hurt me <text style=color:blue><i>[seriously]</i></text> to watch on film wry is directors cut not out now: -0.8979</text>"
      ],
      "text/plain": [
       "<IPython.core.display.HTML object>"
      ]
     },
     "metadata": {},
     "output_type": "display_data"
    },
    {
     "data": {
      "text/html": [
       "<text style=color:red>hollis <text style=color:blue><i>[murder]</i></text> scene will hurt me <text style=color:blue><i>[badly]</i></text> to watch on film wry is directors cut not out now: -0.9231</text>"
      ],
      "text/plain": [
       "<IPython.core.display.HTML object>"
      ]
     },
     "metadata": {},
     "output_type": "display_data"
    },
    {
     "data": {
      "text/html": [
       "<text style=color:red>hollis <text style=color:blue><i>[murder]</i></text> scene will hurt me <text style=color:blue><i>[severely]</i></text> to watch on film wry is directors cut not out now: -0.9217</text>"
      ],
      "text/plain": [
       "<IPython.core.display.HTML object>"
      ]
     },
     "metadata": {},
     "output_type": "display_data"
    },
    {
     "data": {
      "text/html": [
       "<text style=color:green>hollis <text style=color:blue><i>[death]</i></text> scene will hurt me <text style=color:blue><i>[seriously]</i></text> to watch on film wry is directors cut not out now: -0.8779</text>"
      ],
      "text/plain": [
       "<IPython.core.display.HTML object>"
      ]
     },
     "metadata": {},
     "output_type": "display_data"
    },
    {
     "data": {
      "text/html": [
       "<text style=color:red>hollis <text style=color:blue><i>[death]</i></text> scene will hurt me <text style=color:blue><i>[badly]</i></text> to watch on film wry is directors cut not out now: -0.91</text>"
      ],
      "text/plain": [
       "<IPython.core.display.HTML object>"
      ]
     },
     "metadata": {},
     "output_type": "display_data"
    },
    {
     "data": {
      "text/html": [
       "<text style=color:black>hollis <text style=color:blue><i>[death]</i></text> scene will hurt me <text style=color:blue><i>[severely]</i></text> to watch on film wry is directors cut not out now: -0.9081</text>"
      ],
      "text/plain": [
       "<IPython.core.display.HTML object>"
      ]
     },
     "metadata": {},
     "output_type": "display_data"
    },
    {
     "data": {
      "text/html": [
       "<text style=color:red>Worst Sentence: hollis <text style=color:blue><i>[murder]</i></text> scene will hurt me <text style=color:blue><i>[badly]</i></text> to watch on film wry is directors cut not out now : -0.9231</text>"
      ],
      "text/plain": [
       "<IPython.core.display.HTML object>"
      ]
     },
     "metadata": {},
     "output_type": "display_data"
    },
    {
     "data": {
      "text/html": [
       "<text style=color:green>Best Sentence: hollis <text style=color:blue><i>[death]</i></text> scene will hurt me <text style=color:blue><i>[seriously]</i></text> to watch on film wry is directors cut not out now : -0.8779</text>"
      ],
      "text/plain": [
       "<IPython.core.display.HTML object>"
      ]
     },
     "metadata": {},
     "output_type": "display_data"
    },
    {
     "name": "stdout",
     "output_type": "stream",
     "text": [
      "sentiments:[-0.9231, -0.9217, -0.91, -0.9081, -0.8979, -0.8779]\n",
      "\n",
      "\n",
      " Tweet:  ahh ive always wanted to see rent  love the soundtrack!!:0.6988\n",
      "\n",
      "Some antonyms for word love are ['hate']\n",
      "Word love[NN] replaced with loves[NN]\n",
      "Word love[NN] replaced with passion[NN]\n",
      "Word love[NN] replaced with loved[NN]\n",
      "Word love[NN] replaced with romantic[NN]\n",
      "Word love[NN] replaced with lovers[NN]\n",
      "Word love[NN] replaced with hate[NN]\n",
      "7'th word's (love) options: {'passion', 'romantic', 'loves', 'hate', 'loved', 'lovers'}\n",
      "Generated : ['passion', 'the', 'soundtrack', '!', '!']\n",
      "Generated : ['romantic', 'the', 'soundtrack', '!', '!']\n",
      "Generated : ['loves', 'the', 'soundtrack', '!', '!']\n",
      "Generated : ['hate', 'the', 'soundtrack', '!', '!']\n",
      "Generated : ['loved', 'the', 'soundtrack', '!', '!']\n",
      "Generated : ['lovers', 'the', 'soundtrack', '!', '!']\n",
      "Generated : ['love', 'the', 'soundtrack', '!', '!']\n"
     ]
    },
    {
     "data": {
      "text/html": [
       "<text style=color:red>ahh ive always wanted to see rent <text style=color:blue><i>[passion]</i></text> the soundtrack ! !: 0.555</text>"
      ],
      "text/plain": [
       "<IPython.core.display.HTML object>"
      ]
     },
     "metadata": {},
     "output_type": "display_data"
    },
    {
     "data": {
      "text/html": [
       "<text style=color:red>ahh ive always wanted to see rent <text style=color:blue><i>[romantic]</i></text> the soundtrack ! !: 0.508</text>"
      ],
      "text/plain": [
       "<IPython.core.display.HTML object>"
      ]
     },
     "metadata": {},
     "output_type": "display_data"
    },
    {
     "data": {
      "text/html": [
       "<text style=color:red>ahh ive always wanted to see rent <text style=color:blue><i>[loves]</i></text> the soundtrack ! !: 0.6467</text>"
      ],
      "text/plain": [
       "<IPython.core.display.HTML object>"
      ]
     },
     "metadata": {},
     "output_type": "display_data"
    },
    {
     "data": {
      "text/html": [
       "<text style=color:red>ahh ive always wanted to see rent <text style=color:blue><i>[hate]</i></text> the soundtrack ! !: -0.6467</text>"
      ],
      "text/plain": [
       "<IPython.core.display.HTML object>"
      ]
     },
     "metadata": {},
     "output_type": "display_data"
    },
    {
     "data": {
      "text/html": [
       "<text style=color:red>ahh ive always wanted to see rent <text style=color:blue><i>[loved]</i></text> the soundtrack ! !: 0.6688</text>"
      ],
      "text/plain": [
       "<IPython.core.display.HTML object>"
      ]
     },
     "metadata": {},
     "output_type": "display_data"
    },
    {
     "data": {
      "text/html": [
       "<text style=color:red>ahh ive always wanted to see rent <text style=color:blue><i>[lovers]</i></text> the soundtrack ! !: 0.6103</text>"
      ],
      "text/plain": [
       "<IPython.core.display.HTML object>"
      ]
     },
     "metadata": {},
     "output_type": "display_data"
    },
    {
     "data": {
      "text/html": [
       "<text style=color:black>ahh ive always wanted to see rent <text style=color:blue><i>[love]</i></text> the soundtrack ! !: 0.6988</text>"
      ],
      "text/plain": [
       "<IPython.core.display.HTML object>"
      ]
     },
     "metadata": {},
     "output_type": "display_data"
    },
    {
     "data": {
      "text/html": [
       "<text style=color:red>Worst Sentence: ahh ive always wanted to see rent <text style=color:blue><i>[hate]</i></text> the soundtrack ! ! : -0.6467</text>"
      ],
      "text/plain": [
       "<IPython.core.display.HTML object>"
      ]
     },
     "metadata": {},
     "output_type": "display_data"
    },
    {
     "data": {
      "text/html": [
       "<text style=color:green>Best Sentence: ahh ive always wanted to see rent <text style=color:blue><i>[love]</i></text> the soundtrack ! ! : 0.6988</text>"
      ],
      "text/plain": [
       "<IPython.core.display.HTML object>"
      ]
     },
     "metadata": {},
     "output_type": "display_data"
    },
    {
     "name": "stdout",
     "output_type": "stream",
     "text": [
      "sentiments:[-0.6467, 0.508, 0.555, 0.6103, 0.6467, 0.6688, 0.6988]\n",
      "\n",
      "\n",
      " Tweet:  oh dear. were you drinking out of the forgotten table drinks :0.1779\n",
      "\n",
      "No antonyms found for word dear\n",
      "Word dear[UH] replaced with sorry[UH]\n",
      "Word dear[UH] replaced with hey[UH]\n",
      "some skipped words: ['hey']\n",
      "Some antonyms for word forgotten are ['remember', 'mind']\n",
      "Word forgotten[VBN] replaced with neglected[VBN]\n",
      "Word forgotten[VBN] replaced with overlooked[VBN]\n",
      "1'th word's (dear) options: {'sorry'}\n",
      "9'th word's (forgotten) options: {'neglected', 'overlooked'}\n",
      "Generated : ['sorry', '.', 'were', 'you', 'drinking', 'out', 'of', 'the']\n",
      "Generated : ['dear', '.', 'were', 'you', 'drinking', 'out', 'of', 'the']\n",
      "Generated : ['neglected', 'table', 'drinks']\n",
      "Generated : ['overlooked', 'table', 'drinks']\n",
      "Generated : ['forgotten', 'table', 'drinks']\n"
     ]
    },
    {
     "data": {
      "text/html": [
       "<text style=color:red>oh <text style=color:blue><i>[sorry]</i></text> . were you drinking out of the <text style=color:blue><i>[neglected]</i></text> table drinks: -0.5719</text>"
      ],
      "text/plain": [
       "<IPython.core.display.HTML object>"
      ]
     },
     "metadata": {},
     "output_type": "display_data"
    },
    {
     "data": {
      "text/html": [
       "<text style=color:red>oh <text style=color:blue><i>[sorry]</i></text> . were you drinking out of the <text style=color:blue><i>[overlooked]</i></text> table drinks: -0.1027</text>"
      ],
      "text/plain": [
       "<IPython.core.display.HTML object>"
      ]
     },
     "metadata": {},
     "output_type": "display_data"
    },
    {
     "data": {
      "text/html": [
       "<text style=color:red>oh <text style=color:blue><i>[sorry]</i></text> . were you drinking out of the <text style=color:blue><i>[forgotten]</i></text> table drinks: -0.296</text>"
      ],
      "text/plain": [
       "<IPython.core.display.HTML object>"
      ]
     },
     "metadata": {},
     "output_type": "display_data"
    },
    {
     "data": {
      "text/html": [
       "<text style=color:red>oh <text style=color:blue><i>[dear]</i></text> . were you drinking out of the <text style=color:blue><i>[neglected]</i></text> table drinks: -0.2023</text>"
      ],
      "text/plain": [
       "<IPython.core.display.HTML object>"
      ]
     },
     "metadata": {},
     "output_type": "display_data"
    },
    {
     "data": {
      "text/html": [
       "<text style=color:green>oh <text style=color:blue><i>[dear]</i></text> . were you drinking out of the <text style=color:blue><i>[overlooked]</i></text> table drinks: 0.3612</text>"
      ],
      "text/plain": [
       "<IPython.core.display.HTML object>"
      ]
     },
     "metadata": {},
     "output_type": "display_data"
    },
    {
     "data": {
      "text/html": [
       "<text style=color:black>oh <text style=color:blue><i>[dear]</i></text> . were you drinking out of the <text style=color:blue><i>[forgotten]</i></text> table drinks: 0.1779</text>"
      ],
      "text/plain": [
       "<IPython.core.display.HTML object>"
      ]
     },
     "metadata": {},
     "output_type": "display_data"
    },
    {
     "data": {
      "text/html": [
       "<text style=color:red>Worst Sentence: oh <text style=color:blue><i>[sorry]</i></text> . were you drinking out of the <text style=color:blue><i>[forgotten]</i></text> table drinks : -0.296</text>"
      ],
      "text/plain": [
       "<IPython.core.display.HTML object>"
      ]
     },
     "metadata": {},
     "output_type": "display_data"
    },
    {
     "data": {
      "text/html": [
       "<text style=color:green>Best Sentence: oh <text style=color:blue><i>[dear]</i></text> . were you drinking out of the <text style=color:blue><i>[overlooked]</i></text> table drinks : 0.3612</text>"
      ],
      "text/plain": [
       "<IPython.core.display.HTML object>"
      ]
     },
     "metadata": {},
     "output_type": "display_data"
    },
    {
     "name": "stdout",
     "output_type": "stream",
     "text": [
      "sentiments:[-0.5719, -0.296, -0.2023, -0.1027, 0.1779, 0.3612]\n",
      "\n",
      "\n",
      " Tweet: one of my friend called me and asked to meet with her at mid valley today...but i have no time *sigh* :0.25\n",
      "\n",
      "Some antonyms for word friend are ['stranger', 'foe']\n",
      "Word friend[NN] replaced with husband[NN]\n",
      "Word friend[NN] replaced with boyfriend[NN]\n",
      "Word friend[NN] replaced with lover[NN]\n",
      "Word friend[NN] replaced with father[NN]\n",
      "Word friend[NN] replaced with stranger[NN]\n",
      "Word friend[NN] replaced with foe[NN]\n",
      "some skipped words: ['husband', 'boyfriend', 'father', 'stranger']\n",
      "Some antonyms for word no are ['yes', 'all']\n",
      "Word no[DT] replaced with any[DT]\n",
      "Word no[DT] replaced with all[DT]\n",
      "some skipped words: ['any', 'all']\n",
      " -- No POS approved words! -- for word all\n",
      " some non-POS:['any', 'there', 'not', 'without']\n",
      "No antonyms found for word sigh\n",
      "Word sigh[NN] replaced with breathe[NN]\n",
      "Word sigh[NN] replaced with groan[NN]\n",
      "some skipped words: ['breathe', 'groan']\n",
      " -- No POS approved words! -- for word groan\n",
      " some non-POS:['breathed', 'sighs', 'heaved', 'breathe']\n",
      "3'th word's (friend) options: {'foe', 'lover'}\n",
      "Generated : ['foe', 'called', 'me', 'and', 'asked', 'to', 'meet', 'with', 'her', 'at', 'mid', 'valley', 'today', '...', 'but', 'i', 'have', 'no', 'time', 'sigh']\n",
      "Generated : ['lover', 'called', 'me', 'and', 'asked', 'to', 'meet', 'with', 'her', 'at', 'mid', 'valley', 'today', '...', 'but', 'i', 'have', 'no', 'time', 'sigh']\n",
      "Generated : ['friend', 'called', 'me', 'and', 'asked', 'to', 'meet', 'with', 'her', 'at', 'mid', 'valley', 'today', '...', 'but', 'i', 'have', 'no', 'time', 'sigh']\n"
     ]
    },
    {
     "data": {
      "text/html": [
       "<text style=color:red>one of my <text style=color:blue><i>[foe]</i></text> called me and asked to meet with her at mid valley today ... but i have no time sigh: -0.5574</text>"
      ],
      "text/plain": [
       "<IPython.core.display.HTML object>"
      ]
     },
     "metadata": {},
     "output_type": "display_data"
    },
    {
     "data": {
      "text/html": [
       "<text style=color:red>one of my <text style=color:blue><i>[lover]</i></text> called me and asked to meet with her at mid valley today ... but i have no time sigh: -0.0644</text>"
      ],
      "text/plain": [
       "<IPython.core.display.HTML object>"
      ]
     },
     "metadata": {},
     "output_type": "display_data"
    },
    {
     "data": {
      "text/html": [
       "<text style=color:red>one of my <text style=color:blue><i>[friend]</i></text> called me and asked to meet with her at mid valley today ... but i have no time sigh: -0.1406</text>"
      ],
      "text/plain": [
       "<IPython.core.display.HTML object>"
      ]
     },
     "metadata": {},
     "output_type": "display_data"
    },
    {
     "data": {
      "text/html": [
       "<text style=color:red>Worst Sentence: one of my <text style=color:blue><i>[friend]</i></text> called me and asked to meet with her at mid valley today ... but i have no time sigh : -0.1406</text>"
      ],
      "text/plain": [
       "<IPython.core.display.HTML object>"
      ]
     },
     "metadata": {},
     "output_type": "display_data"
    },
    {
     "data": {
      "text/html": [
       "<text style=color:green>Best Sentence: one of my <text style=color:blue><i>[lover]</i></text> called me and asked to meet with her at mid valley today ... but i have no time sigh : -0.0644</text>"
      ],
      "text/plain": [
       "<IPython.core.display.HTML object>"
      ]
     },
     "metadata": {},
     "output_type": "display_data"
    },
    {
     "name": "stdout",
     "output_type": "stream",
     "text": [
      "sentiments:[-0.5574, -0.1406, -0.0644]\n",
      "\n",
      "\n",
      " Tweet: this week is not going as i had hoped :0.3818\n",
      "\n",
      "Some antonyms for word hoped are ['despair']\n",
      "Word hoped[VBN] replaced with wanted[VBN]\n",
      "some skipped words: ['wanted']\n",
      " -- No POS approved words! -- for word wanted\n",
      " some non-POS:['hoping', 'hope', 'would', 'wanted']\n",
      " -- No new Strings generated ---\n",
      "\n",
      "\n",
      "\n",
      "\n",
      " Tweet: i hate when i have to call and wake people up :-0.5719\n",
      "\n",
      "Some antonyms for word hate are ['love']\n",
      "Word hate[VBP] replaced with racist[VBP]\n",
      "Word hate[VBP] replaced with racism[VBP]\n",
      "Word hate[VBP] replaced with bigotry[VBP]\n",
      "Word hate[VBP] replaced with love[VBP]\n",
      "some skipped words: ['bigotry']\n",
      "1'th word's (hate) options: {'racism', 'racist', 'love'}\n",
      "Generated : ['racism', 'when', 'i', 'have', 'to', 'call', 'and', 'wake', 'people', 'up']\n",
      "Generated : ['racist', 'when', 'i', 'have', 'to', 'call', 'and', 'wake', 'people', 'up']\n",
      "Generated : ['love', 'when', 'i', 'have', 'to', 'call', 'and', 'wake', 'people', 'up']\n",
      "Generated : ['hate', 'when', 'i', 'have', 'to', 'call', 'and', 'wake', 'people', 'up']\n"
     ]
    },
    {
     "data": {
      "text/html": [
       "<text style=color:red>i <text style=color:blue><i>[racism]</i></text> when i have to call and wake people up: -0.6249</text>"
      ],
      "text/plain": [
       "<IPython.core.display.HTML object>"
      ]
     },
     "metadata": {},
     "output_type": "display_data"
    },
    {
     "data": {
      "text/html": [
       "<text style=color:red>i <text style=color:blue><i>[racist]</i></text> when i have to call and wake people up: -0.6124</text>"
      ],
      "text/plain": [
       "<IPython.core.display.HTML object>"
      ]
     },
     "metadata": {},
     "output_type": "display_data"
    },
    {
     "data": {
      "text/html": [
       "<text style=color:green>i <text style=color:blue><i>[love]</i></text> when i have to call and wake people up: 0.6369</text>"
      ],
      "text/plain": [
       "<IPython.core.display.HTML object>"
      ]
     },
     "metadata": {},
     "output_type": "display_data"
    },
    {
     "data": {
      "text/html": [
       "<text style=color:black>i <text style=color:blue><i>[hate]</i></text> when i have to call and wake people up: -0.5719</text>"
      ],
      "text/plain": [
       "<IPython.core.display.HTML object>"
      ]
     },
     "metadata": {},
     "output_type": "display_data"
    },
    {
     "data": {
      "text/html": [
       "<text style=color:red>Worst Sentence: i <text style=color:blue><i>[hate]</i></text> when i have to call and wake people up : -0.5719</text>"
      ],
      "text/plain": [
       "<IPython.core.display.HTML object>"
      ]
     },
     "metadata": {},
     "output_type": "display_data"
    },
    {
     "data": {
      "text/html": [
       "<text style=color:green>Best Sentence: i <text style=color:blue><i>[love]</i></text> when i have to call and wake people up : 0.6369</text>"
      ],
      "text/plain": [
       "<IPython.core.display.HTML object>"
      ]
     },
     "metadata": {},
     "output_type": "display_data"
    },
    {
     "name": "stdout",
     "output_type": "stream",
     "text": [
      "sentiments:[-0.6249, -0.6124, -0.5719, 0.6369]\n",
      "\n",
      "\n",
      " Tweet: just going to cry myself to sleep after watching marley and me.  :-0.4767\n",
      "\n",
      "Some antonyms for word cry are ['laugh']\n",
      "Word cry[VB] replaced with scream[VB]\n",
      "Word cry[VB] replaced with shout[VB]\n",
      "Word cry[VB] replaced with laugh[VB]\n",
      "some skipped words: ['shout']\n",
      "3'th word's (cry) options: {'scream', 'laugh'}\n",
      "Generated : ['scream', 'myself', 'to', 'sleep', 'after', 'watching', 'marley', 'and', 'me', '.']\n",
      "Generated : ['laugh', 'myself', 'to', 'sleep', 'after', 'watching', 'marley', 'and', 'me', '.']\n",
      "Generated : ['cry', 'myself', 'to', 'sleep', 'after', 'watching', 'marley', 'and', 'me', '.']\n"
     ]
    },
    {
     "data": {
      "text/html": [
       "<text style=color:green>just going to <text style=color:blue><i>[scream]</i></text> myself to sleep after watching marley and me .: -0.4019</text>"
      ],
      "text/plain": [
       "<IPython.core.display.HTML object>"
      ]
     },
     "metadata": {},
     "output_type": "display_data"
    },
    {
     "data": {
      "text/html": [
       "<text style=color:green>just going to <text style=color:blue><i>[laugh]</i></text> myself to sleep after watching marley and me .: 0.5574</text>"
      ],
      "text/plain": [
       "<IPython.core.display.HTML object>"
      ]
     },
     "metadata": {},
     "output_type": "display_data"
    },
    {
     "data": {
      "text/html": [
       "<text style=color:black>just going to <text style=color:blue><i>[cry]</i></text> myself to sleep after watching marley and me .: -0.4767</text>"
      ],
      "text/plain": [
       "<IPython.core.display.HTML object>"
      ]
     },
     "metadata": {},
     "output_type": "display_data"
    },
    {
     "data": {
      "text/html": [
       "<text style=color:red>Worst Sentence: just going to <text style=color:blue><i>[cry]</i></text> myself to sleep after watching marley and me . : -0.4767</text>"
      ],
      "text/plain": [
       "<IPython.core.display.HTML object>"
      ]
     },
     "metadata": {},
     "output_type": "display_data"
    },
    {
     "data": {
      "text/html": [
       "<text style=color:green>Best Sentence: just going to <text style=color:blue><i>[laugh]</i></text> myself to sleep after watching marley and me . : 0.5574</text>"
      ],
      "text/plain": [
       "<IPython.core.display.HTML object>"
      ]
     },
     "metadata": {},
     "output_type": "display_data"
    },
    {
     "name": "stdout",
     "output_type": "stream",
     "text": [
      "sentiments:[-0.4767, -0.4019, 0.5574]\n",
      "\n",
      "\n",
      " Tweet: im sad now  miss.lilly:-0.4767\n",
      "\n",
      "Some antonyms for word sad are ['glad']\n",
      "Word sad[VBP] replaced with sorry[VBP]\n",
      "Word sad[VBP] replaced with tragic[VBP]\n",
      "Word sad[VBP] replaced with happy[VBP]\n",
      "Word sad[VBP] replaced with unfortunate[VBP]\n",
      "Word sad[VBP] replaced with terribly[VBP]\n",
      "Word sad[VBP] replaced with glad[VBP]\n",
      "1'th word's (sad) options: {'tragic', 'sorry', 'terribly', 'happy', 'unfortunate', 'glad'}\n",
      "Generated : ['tragic', 'now', 'miss.lilly']\n",
      "Generated : ['sorry', 'now', 'miss.lilly']\n",
      "Generated : ['terribly', 'now', 'miss.lilly']\n",
      "Generated : ['happy', 'now', 'miss.lilly']\n",
      "Generated : ['unfortunate', 'now', 'miss.lilly']\n",
      "Generated : ['glad', 'now', 'miss.lilly']\n",
      "Generated : ['sad', 'now', 'miss.lilly']\n"
     ]
    },
    {
     "data": {
      "text/html": [
       "<text style=color:green>im <text style=color:blue><i>[tragic]</i></text> now miss.lilly: -0.4588</text>"
      ],
      "text/plain": [
       "<IPython.core.display.HTML object>"
      ]
     },
     "metadata": {},
     "output_type": "display_data"
    },
    {
     "data": {
      "text/html": [
       "<text style=color:green>im <text style=color:blue><i>[sorry]</i></text> now miss.lilly: -0.0772</text>"
      ],
      "text/plain": [
       "<IPython.core.display.HTML object>"
      ]
     },
     "metadata": {},
     "output_type": "display_data"
    },
    {
     "data": {
      "text/html": [
       "<text style=color:red>im <text style=color:blue><i>[terribly]</i></text> now miss.lilly: -0.5574</text>"
      ],
      "text/plain": [
       "<IPython.core.display.HTML object>"
      ]
     },
     "metadata": {},
     "output_type": "display_data"
    },
    {
     "data": {
      "text/html": [
       "<text style=color:green>im <text style=color:blue><i>[happy]</i></text> now miss.lilly: 0.5719</text>"
      ],
      "text/plain": [
       "<IPython.core.display.HTML object>"
      ]
     },
     "metadata": {},
     "output_type": "display_data"
    },
    {
     "data": {
      "text/html": [
       "<text style=color:green>im <text style=color:blue><i>[unfortunate]</i></text> now miss.lilly: -0.4588</text>"
      ],
      "text/plain": [
       "<IPython.core.display.HTML object>"
      ]
     },
     "metadata": {},
     "output_type": "display_data"
    },
    {
     "data": {
      "text/html": [
       "<text style=color:green>im <text style=color:blue><i>[glad]</i></text> now miss.lilly: 0.4588</text>"
      ],
      "text/plain": [
       "<IPython.core.display.HTML object>"
      ]
     },
     "metadata": {},
     "output_type": "display_data"
    },
    {
     "data": {
      "text/html": [
       "<text style=color:black>im <text style=color:blue><i>[sad]</i></text> now miss.lilly: -0.4767</text>"
      ],
      "text/plain": [
       "<IPython.core.display.HTML object>"
      ]
     },
     "metadata": {},
     "output_type": "display_data"
    },
    {
     "data": {
      "text/html": [
       "<text style=color:red>Worst Sentence: im <text style=color:blue><i>[terribly]</i></text> now miss.lilly : -0.5574</text>"
      ],
      "text/plain": [
       "<IPython.core.display.HTML object>"
      ]
     },
     "metadata": {},
     "output_type": "display_data"
    },
    {
     "data": {
      "text/html": [
       "<text style=color:green>Best Sentence: im <text style=color:blue><i>[happy]</i></text> now miss.lilly : 0.5719</text>"
      ],
      "text/plain": [
       "<IPython.core.display.HTML object>"
      ]
     },
     "metadata": {},
     "output_type": "display_data"
    },
    {
     "name": "stdout",
     "output_type": "stream",
     "text": [
      "sentiments:[-0.5574, -0.4767, -0.4588, -0.0772, 0.4588, 0.5719]\n",
      "\n",
      "\n",
      " Tweet: ooooh.... lol  that leslie.... and ok i will not do it again so leslie will not  get mad again :0.7669\n",
      "\n",
      "No antonyms found for word lol\n",
      "Word lol[VB] replaced with coxhill[VB]\n",
      "some skipped words: ['coxhill']\n",
      " -- No POS approved words! -- for word coxhill\n",
      " some non-POS:['choua', 'coxhill', 'creme', '10cc']\n",
      "No antonyms found for word ok\n",
      "Word ok[UH] replaced with okay[UH]\n",
      "Word ok[UH] replaced with yeah[UH]\n",
      "No antonyms found for word mad\n",
      "Word mad[JJ] replaced with bovine[JJ]\n",
      "Word mad[JJ] replaced with crazy[JJ]\n",
      "some skipped words: ['bovine']\n",
      "9'th word's (ok) options: {'yeah', 'okay'}\n",
      "21'th word's (mad) options: {'crazy'}\n",
      "Generated : ['yeah', 'i', 'will', 'not', 'do', 'it', 'again', 'so', 'leslie', 'will', 'not', 'get']\n",
      "Generated : ['okay', 'i', 'will', 'not', 'do', 'it', 'again', 'so', 'leslie', 'will', 'not', 'get']\n",
      "Generated : ['ok', 'i', 'will', 'not', 'do', 'it', 'again', 'so', 'leslie', 'will', 'not', 'get']\n",
      "Generated : ['crazy', 'again']\n",
      "Generated : ['mad', 'again']\n"
     ]
    },
    {
     "data": {
      "text/html": [
       "<text style=color:red>ooooh ... . lol that leslie ... . and <text style=color:blue><i>[yeah]</i></text> i will not do it again so leslie will not get <text style=color:blue><i>[crazy]</i></text> again: 0.7215</text>"
      ],
      "text/plain": [
       "<IPython.core.display.HTML object>"
      ]
     },
     "metadata": {},
     "output_type": "display_data"
    },
    {
     "data": {
      "text/html": [
       "<text style=color:black>ooooh ... . lol that leslie ... . and <text style=color:blue><i>[yeah]</i></text> i will not do it again so leslie will not get <text style=color:blue><i>[mad]</i></text> again: 0.7669</text>"
      ],
      "text/plain": [
       "<IPython.core.display.HTML object>"
      ]
     },
     "metadata": {},
     "output_type": "display_data"
    },
    {
     "data": {
      "text/html": [
       "<text style=color:red>ooooh ... . lol that leslie ... . and <text style=color:blue><i>[okay]</i></text> i will not do it again so leslie will not get <text style=color:blue><i>[crazy]</i></text> again: 0.6943</text>"
      ],
      "text/plain": [
       "<IPython.core.display.HTML object>"
      ]
     },
     "metadata": {},
     "output_type": "display_data"
    },
    {
     "data": {
      "text/html": [
       "<text style=color:red>ooooh ... . lol that leslie ... . and <text style=color:blue><i>[okay]</i></text> i will not do it again so leslie will not get <text style=color:blue><i>[mad]</i></text> again: 0.7452</text>"
      ],
      "text/plain": [
       "<IPython.core.display.HTML object>"
      ]
     },
     "metadata": {},
     "output_type": "display_data"
    },
    {
     "data": {
      "text/html": [
       "<text style=color:red>ooooh ... . lol that leslie ... . and <text style=color:blue><i>[ok]</i></text> i will not do it again so leslie will not get <text style=color:blue><i>[crazy]</i></text> again: 0.7215</text>"
      ],
      "text/plain": [
       "<IPython.core.display.HTML object>"
      ]
     },
     "metadata": {},
     "output_type": "display_data"
    },
    {
     "data": {
      "text/html": [
       "<text style=color:black>ooooh ... . lol that leslie ... . and <text style=color:blue><i>[ok]</i></text> i will not do it again so leslie will not get <text style=color:blue><i>[mad]</i></text> again: 0.7669</text>"
      ],
      "text/plain": [
       "<IPython.core.display.HTML object>"
      ]
     },
     "metadata": {},
     "output_type": "display_data"
    },
    {
     "data": {
      "text/html": [
       "<text style=color:red>Worst Sentence: ooooh ... . lol that leslie ... . and <text style=color:blue><i>[okay]</i></text> i will not do it again so leslie will not get <text style=color:blue><i>[crazy]</i></text> again : 0.6943</text>"
      ],
      "text/plain": [
       "<IPython.core.display.HTML object>"
      ]
     },
     "metadata": {},
     "output_type": "display_data"
    },
    {
     "data": {
      "text/html": [
       "<text style=color:green>Best Sentence: ooooh ... . lol that leslie ... . and <text style=color:blue><i>[ok]</i></text> i will not do it again so leslie will not get <text style=color:blue><i>[mad]</i></text> again : 0.7669</text>"
      ],
      "text/plain": [
       "<IPython.core.display.HTML object>"
      ]
     },
     "metadata": {},
     "output_type": "display_data"
    },
    {
     "name": "stdout",
     "output_type": "stream",
     "text": [
      "sentiments:[0.6943, 0.7215, 0.7452, 0.7669]\n",
      "\n",
      "\n",
      " Tweet: meh... almost lover is the exception... this track gets me depressed every time. :0.0534\n",
      "\n",
      "No antonyms found for word meh\n",
      "Word meh[NN] replaced with lehs[NN]\n",
      "some skipped words: ['lehs']\n",
      " -- No POS approved words! -- for word lehs\n",
      " some non-POS:['stee', 'kahl', 'tehr', 'lahl']\n",
      "No antonyms found for word lover\n",
      "Word lover[NN] replaced with boyfriend[NN]\n",
      "Word lover[NN] replaced with girlfriend[NN]\n",
      "Word lover[NN] replaced with friend[NN]\n",
      "Word lover[NN] replaced with mistress[NN]\n",
      "some skipped words: ['boyfriend', 'girlfriend', 'mistress']\n",
      "Some antonyms for word depressed are ['elate']\n",
      "Word depressed[JJ] replaced with weak[JJ]\n",
      "Word depressed[JJ] replaced with distressed[JJ]\n",
      "Word depressed[JJ] replaced with insecure[JJ]\n",
      "Word depressed[JJ] replaced with worried[JJ]\n",
      "Word depressed[JJ] replaced with disturbed[JJ]\n",
      "3'th word's (lover) options: {'friend'}\n",
      "12'th word's (depressed) options: {'insecure', 'worried', 'disturbed', 'weak', 'distressed'}\n",
      "Generated : ['friend', 'is', 'the', 'exception', '...', 'this', 'track', 'gets', 'me']\n",
      "Generated : ['lover', 'is', 'the', 'exception', '...', 'this', 'track', 'gets', 'me']\n",
      "Generated : ['insecure', 'every', 'time', '.']\n",
      "Generated : ['worried', 'every', 'time', '.']\n",
      "Generated : ['disturbed', 'every', 'time', '.']\n",
      "Generated : ['weak', 'every', 'time', '.']\n",
      "Generated : ['distressed', 'every', 'time', '.']\n",
      "Generated : ['depressed', 'every', 'time', '.']\n"
     ]
    },
    {
     "data": {
      "text/html": [
       "<text style=color:red>meh ... almost <text style=color:blue><i>[friend]</i></text> is the exception ... this track gets me <text style=color:blue><i>[insecure]</i></text> every time .: -0.0498</text>"
      ],
      "text/plain": [
       "<IPython.core.display.HTML object>"
      ]
     },
     "metadata": {},
     "output_type": "display_data"
    },
    {
     "data": {
      "text/html": [
       "<text style=color:green>meh ... almost <text style=color:blue><i>[friend]</i></text> is the exception ... this track gets me <text style=color:blue><i>[worried]</i></text> every time .: 0.1045</text>"
      ],
      "text/plain": [
       "<IPython.core.display.HTML object>"
      ]
     },
     "metadata": {},
     "output_type": "display_data"
    },
    {
     "data": {
      "text/html": [
       "<text style=color:red>meh ... almost <text style=color:blue><i>[friend]</i></text> is the exception ... this track gets me <text style=color:blue><i>[disturbed]</i></text> every time .: 0.0018</text>"
      ],
      "text/plain": [
       "<IPython.core.display.HTML object>"
      ]
     },
     "metadata": {},
     "output_type": "display_data"
    },
    {
     "data": {
      "text/html": [
       "<text style=color:red>meh ... almost <text style=color:blue><i>[friend]</i></text> is the exception ... this track gets me <text style=color:blue><i>[weak]</i></text> every time .: -0.0754</text>"
      ],
      "text/plain": [
       "<IPython.core.display.HTML object>"
      ]
     },
     "metadata": {},
     "output_type": "display_data"
    },
    {
     "data": {
      "text/html": [
       "<text style=color:red>meh ... almost <text style=color:blue><i>[friend]</i></text> is the exception ... this track gets me <text style=color:blue><i>[distressed]</i></text> every time .: -0.0498</text>"
      ],
      "text/plain": [
       "<IPython.core.display.HTML object>"
      ]
     },
     "metadata": {},
     "output_type": "display_data"
    },
    {
     "data": {
      "text/html": [
       "<text style=color:red>meh ... almost <text style=color:blue><i>[friend]</i></text> is the exception ... this track gets me <text style=color:blue><i>[depressed]</i></text> every time .: -0.1761</text>"
      ],
      "text/plain": [
       "<IPython.core.display.HTML object>"
      ]
     },
     "metadata": {},
     "output_type": "display_data"
    },
    {
     "data": {
      "text/html": [
       "<text style=color:green>meh ... almost <text style=color:blue><i>[lover]</i></text> is the exception ... this track gets me <text style=color:blue><i>[insecure]</i></text> every time .: 0.1045</text>"
      ],
      "text/plain": [
       "<IPython.core.display.HTML object>"
      ]
     },
     "metadata": {},
     "output_type": "display_data"
    },
    {
     "data": {
      "text/html": [
       "<text style=color:green>meh ... almost <text style=color:blue><i>[lover]</i></text> is the exception ... this track gets me <text style=color:blue><i>[worried]</i></text> every time .: 0.2516</text>"
      ],
      "text/plain": [
       "<IPython.core.display.HTML object>"
      ]
     },
     "metadata": {},
     "output_type": "display_data"
    },
    {
     "data": {
      "text/html": [
       "<text style=color:green>meh ... almost <text style=color:blue><i>[lover]</i></text> is the exception ... this track gets me <text style=color:blue><i>[disturbed]</i></text> every time .: 0.1548</text>"
      ],
      "text/plain": [
       "<IPython.core.display.HTML object>"
      ]
     },
     "metadata": {},
     "output_type": "display_data"
    },
    {
     "data": {
      "text/html": [
       "<text style=color:green>meh ... almost <text style=color:blue><i>[lover]</i></text> is the exception ... this track gets me <text style=color:blue><i>[weak]</i></text> every time .: 0.079</text>"
      ],
      "text/plain": [
       "<IPython.core.display.HTML object>"
      ]
     },
     "metadata": {},
     "output_type": "display_data"
    },
    {
     "data": {
      "text/html": [
       "<text style=color:green>meh ... almost <text style=color:blue><i>[lover]</i></text> is the exception ... this track gets me <text style=color:blue><i>[distressed]</i></text> every time .: 0.1045</text>"
      ],
      "text/plain": [
       "<IPython.core.display.HTML object>"
      ]
     },
     "metadata": {},
     "output_type": "display_data"
    },
    {
     "data": {
      "text/html": [
       "<text style=color:red>meh ... almost <text style=color:blue><i>[lover]</i></text> is the exception ... this track gets me <text style=color:blue><i>[depressed]</i></text> every time .: -0.024</text>"
      ],
      "text/plain": [
       "<IPython.core.display.HTML object>"
      ]
     },
     "metadata": {},
     "output_type": "display_data"
    },
    {
     "data": {
      "text/html": [
       "<text style=color:red>Worst Sentence: meh ... almost <text style=color:blue><i>[friend]</i></text> is the exception ... this track gets me <text style=color:blue><i>[depressed]</i></text> every time . : -0.1761</text>"
      ],
      "text/plain": [
       "<IPython.core.display.HTML object>"
      ]
     },
     "metadata": {},
     "output_type": "display_data"
    },
    {
     "data": {
      "text/html": [
       "<text style=color:green>Best Sentence: meh ... almost <text style=color:blue><i>[lover]</i></text> is the exception ... this track gets me <text style=color:blue><i>[worried]</i></text> every time . : 0.2516</text>"
      ],
      "text/plain": [
       "<IPython.core.display.HTML object>"
      ]
     },
     "metadata": {},
     "output_type": "display_data"
    },
    {
     "name": "stdout",
     "output_type": "stream",
     "text": [
      "sentiments:[-0.1761, -0.0754, -0.0498, -0.024, 0.0018, 0.079, 0.1045, 0.1548, 0.2516]\n",
      "\n",
      "\n",
      " Tweet: some1 hacked my account on aim  now i have to make a new one:-0.4019\n",
      "\n",
      "No antonyms found for word hacked\n",
      "Word hacked[VBD] replaced with bludgeoned[VBD]\n",
      "Word hacked[VBD] replaced with mutilated[VBD]\n",
      "Word hacked[VBD] replaced with butchered[VBD]\n",
      "some skipped words: ['bludgeoned', 'mutilated', 'butchered']\n",
      " -- No POS approved words! -- for word butchered\n",
      " some non-POS:['machetes', 'bludgeoned', 'mutilated', 'hacking']\n",
      " -- No new Strings generated ---\n",
      "\n",
      "\n",
      "num of tweets done : 30\n"
     ]
    }
   ],
   "source": [
    "def extractTwitterDataset():\n",
    "    df_tweets = pd.read_csv( pathToDatasets + 'cleanedTweets.csv', nrows=NUM_OF_TWEETS, skiprows =TWEET_START)\n",
    "    tweets = df_tweets.values\n",
    "    return tweets;\n",
    "\n",
    "def createDictionaryOfSentStrings(sentencesWithSentiment):\n",
    "    dict_sentimentToStringObjects = {}\n",
    "    for obj in sentencesWithSentiment:\n",
    "        sent = obj.getSentiment()\n",
    "        if(dict_sentimentToStringObjects.get(sent) == None):\n",
    "            dict_sentimentToStringObjects[sent] = [obj]\n",
    "        else:\n",
    "            (dict_sentimentToStringObjects[sent]).append(obj)\n",
    "\n",
    "    return dict_sentimentToStringObjects;\n",
    "\n",
    "def runThroughTweets():\n",
    "    tweets = extractTwitterDataset()\n",
    "    \n",
    "    counterOfTweets = 0;\n",
    "    for counter,tweet in enumerate(tweets):\n",
    "        counterOfTweets +=1;\n",
    "        tweet = tweet[0]\n",
    "        tweetTokens = cleanAndTokenizeText(tweet)\n",
    "        mainSentiment = senty.polarity_scores(tweet)['compound']\n",
    "        if(mainSentiment == 0):\n",
    "            continue\n",
    "        print(\"\\n\\n Tweet: {0}:{1}\\n\".format(tweet,mainSentiment))   \n",
    "        sentenceObj = Sentence(tweet, mainSentiment)\n",
    "        sentenceObj = getAlternativeSentences(sentenceObj)\n",
    "        replacementDictionary = sentenceObj.getDictOfIndexWords();\n",
    "        if(len(replacementDictionary) <= 0):        \n",
    "            print(\" -- No new Strings generated ---\\n\\n\")\n",
    "            continue\n",
    "\n",
    "        keysToChange = replacementDictionary.keys();\n",
    "        for key in keysToChange:\n",
    "            if(VERBOSE_PRINTING):print(\"{0}'th word's ({2}) options: {1}\".format(key,replacementDictionary[key],tweetTokens[key]))\n",
    "\n",
    "        sentenceObj = returnCombinationsOfStrings(sentenceObj)\n",
    "        sentencesWithSentiment = printStrings(sentenceObj)\n",
    "       \n",
    "        dict_sentimentToStringObjects = createDictionaryOfSentStrings(sentencesWithSentiment)\n",
    "        \n",
    "        sentiments = sorted(dict_sentimentToStringObjects.keys())\n",
    "        if(VERBOSE_PRINTING):print(\"sentiments:{0}\".format(sentiments))\n",
    "        \n",
    "    return counterOfTweets;\n",
    "        \n",
    "numOfTweets = runThroughTweets()\n",
    "print(\"num of tweets done : {0}\".format(numOfTweets))"
   ]
  },
  {
   "cell_type": "markdown",
   "metadata": {},
   "source": [
    "## Testing Code\n"
   ]
  },
  {
   "cell_type": "code",
   "execution_count": 10,
   "metadata": {},
   "outputs": [],
   "source": [
    "specificWord = \"good\"\n",
    "def testOneWord(word=\"\"):\n",
    "    if(word==\"\"):\n",
    "        return\n",
    "    print(word)"
   ]
  },
  {
   "cell_type": "code",
   "execution_count": null,
   "metadata": {
    "scrolled": false
   },
   "outputs": [
    {
     "name": "stdout",
     "output_type": "stream",
     "text": [
      "Enter a string to use\n"
     ]
    }
   ],
   "source": [
    "specificString = \"\"\n",
    "def specificString(textString=\"\"):\n",
    "    if(textString == \"\" or textString == None):\n",
    "        return\n",
    "    textString = dataClean(textString)\n",
    "    mainSentiment = senty.polarity_scores(textString)['compound']\n",
    "    if(mainSentiment == 0):\n",
    "        print(\"{} \\n No sentiment found in sentence\".format(textString));\n",
    "        return;\n",
    "    print(\"\\n {0}:{1}\\n\".format(textString,mainSentiment))   \n",
    "    sentenceObj = Sentence(textString, mainSentiment)\n",
    "    sentenceObj = getAlternativeSentences(sentenceObj)\n",
    "    replacementDictionary = sentenceObj.getDictOfIndexWords();\n",
    "    if(len(replacementDictionary) <= 0):        \n",
    "        print(\" -- No new Strings generated ---\\n\\n\")\n",
    "        return\n",
    "    \n",
    "    keysToChange = replacementDictionary.keys();\n",
    "    if(VERBOSE_PRINTING):\n",
    "        for key in keysToChange:\n",
    "            print(\"{0}'th word's options: {1}\".format(key,replacementDictionary[key]))\n",
    "        \n",
    "    sentenceObj = returnCombinationsOfStrings(sentenceObj)\n",
    "    allPossibleSentences = printStrings(sentenceObj)\n",
    "    \n",
    "    dict_sentimentToStringObjects = createDictionaryOfSentStrings(allPossibleSentences)\n",
    "        \n",
    "    sentiments = sorted(dict_sentimentToStringObjects.keys())\n",
    "\n",
    "    \n",
    "    interactionWithUser(sentenceObj, dict_sentimentToStringObjects, sentiments[0:10], True);\n",
    "\n",
    "print(\"Enter a string to use\")\n",
    "\n",
    "\n",
    "inputText = input()\n",
    "if(inputText == \"\"):\n",
    "    return\n",
    "else:\n",
    "    specificString(inputText)"
   ]
  },
  {
   "cell_type": "code",
   "execution_count": null,
   "metadata": {},
   "outputs": [],
   "source": []
  }
 ],
 "metadata": {
  "kernelspec": {
   "display_name": "Python 3",
   "language": "python",
   "name": "python3"
  },
  "language_info": {
   "codemirror_mode": {
    "name": "ipython",
    "version": 3
   },
   "file_extension": ".py",
   "mimetype": "text/x-python",
   "name": "python",
   "nbconvert_exporter": "python",
   "pygments_lexer": "ipython3",
   "version": "3.6.7"
  }
 },
 "nbformat": 4,
 "nbformat_minor": 2
}
