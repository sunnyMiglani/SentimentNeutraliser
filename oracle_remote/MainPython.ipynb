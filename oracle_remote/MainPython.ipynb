{
 "cells": [
  {
   "cell_type": "markdown",
   "metadata": {},
   "source": [
    "## Import Statements"
   ]
  },
  {
   "cell_type": "code",
   "execution_count": 1,
   "metadata": {},
   "outputs": [
    {
     "name": "stderr",
     "output_type": "stream",
     "text": [
      "/home/ubuntu/anaconda3/lib/python3.6/site-packages/nltk/twitter/__init__.py:20: UserWarning: The twython library has not been installed. Some functionality from the twitter package will not be available.\n",
      "  warnings.warn(\"The twython library has not been installed. \"\n"
     ]
    }
   ],
   "source": [
    "import gensim.downloader as api\n",
    "import numpy as np\n",
    "import re\n",
    "import csv\n",
    "import pandas as pd\n",
    "import pprint\n",
    "import string\n",
    "import nltk\n",
    "import sys\n",
    "\n",
    "from IPython.display import HTML\n",
    "from nltk.corpus import wordnet \n",
    "from sklearn.manifold import TSNE\n",
    "from gensim.models import Word2Vec\n",
    "from gensim.models import KeyedVectors\n",
    "\n",
    "from nltk.sentiment.vader import SentimentIntensityAnalyzer\n",
    "from nltk.tokenize import word_tokenize\n",
    "\n",
    "pathToDatasets = '../datasets/'\n",
    "pathToDataScripts = '../datasets/scripts/'\n",
    "filePath = '../datasets/GoogleNews-vectors-negative300.bin'\n",
    "\n",
    "sys.path.insert(0, pathToDataScripts)\n",
    "from cleanDataset import tokenize_words "
   ]
  },
  {
   "cell_type": "markdown",
   "metadata": {},
   "source": [
    "## Downloading binaries and models\n"
   ]
  },
  {
   "cell_type": "code",
   "execution_count": 2,
   "metadata": {},
   "outputs": [
    {
     "name": "stdout",
     "output_type": "stream",
     "text": [
      "[nltk_data] Downloading package vader_lexicon to\n",
      "[nltk_data]     /home/ubuntu/nltk_data...\n",
      "[nltk_data]   Package vader_lexicon is already up-to-date!\n",
      "[nltk_data] Downloading package punkt to /home/ubuntu/nltk_data...\n",
      "[nltk_data]   Package punkt is already up-to-date!\n",
      "[nltk_data] Downloading package averaged_perceptron_tagger to\n",
      "[nltk_data]     /home/ubuntu/nltk_data...\n",
      "[nltk_data]   Package averaged_perceptron_tagger is already up-to-\n",
      "[nltk_data]       date!\n",
      "[nltk_data] Downloading package wordnet to /home/ubuntu/nltk_data...\n",
      "[nltk_data]   Package wordnet is already up-to-date!\n"
     ]
    },
    {
     "data": {
      "text/plain": [
       "True"
      ]
     },
     "execution_count": 2,
     "metadata": {},
     "output_type": "execute_result"
    }
   ],
   "source": [
    "word_vectors = api.load(\"glove-wiki-gigaword-100\")\n",
    "nltk.download('vader_lexicon')\n",
    "nltk.download('punkt')\n",
    "nltk.download('averaged_perceptron_tagger')\n",
    "nltk.download('wordnet')"
   ]
  },
  {
   "cell_type": "markdown",
   "metadata": {},
   "source": [
    "## Global Variables and Global Objects"
   ]
  },
  {
   "cell_type": "code",
   "execution_count": 3,
   "metadata": {},
   "outputs": [],
   "source": [
    "senty = SentimentIntensityAnalyzer()\n",
    "vocabulary = word_vectors.vocab;\n",
    "\n",
    "\n",
    "NUMBER_OF_ALTERNATIVES = 7\n",
    "TWEET_START = 50\n",
    "NUM_OF_TWEETS = 25\n",
    "\n",
    "punctuation = r\"\\\"#$%&'()+-/:;<=>?@[\\]*^_`{|}~\""
   ]
  },
  {
   "cell_type": "markdown",
   "metadata": {},
   "source": [
    "## Class for Sentences\n"
   ]
  },
  {
   "cell_type": "code",
   "execution_count": 4,
   "metadata": {},
   "outputs": [],
   "source": [
    "class Sentence:\n",
    "    \n",
    "    def __init__(self, sentence, sentiment):\n",
    "        self.ogSentence = sentence;\n",
    "        self.ogSentiment = sentiment;\n",
    "        self.indexToSetOfWords = {}\n",
    "        self.alternateSentences = [];\n",
    "        self.alternateHTMLs = [];\n",
    "        self.finalShiftSentences = [];\n",
    "\n",
    "    def addAlternativesByIndex(self, index, listOfAlternatives):\n",
    "        '''\n",
    "            Adds the list of possible alternative words that \n",
    "            can be used per word based on the index of the word in the tokenized \n",
    "            sentence. (from cleanAndTokenizeText())\n",
    "        '''\n",
    "        if(self.indexToSetOfWords.get(index)):\n",
    "            self.indexToSetOfWords[index] = self.indexToSetOfWords.union(set(listOfAlternatives))\n",
    "        else:\n",
    "            self.indexToSetOfWords[index] = set(listOfAlternatives)\n",
    "        \n",
    "    def addAlternativeStrings(self, strings):\n",
    "        if(isinstance(strings,str)):\n",
    "            self.alternateSentences.append(strings)\n",
    "        else:\n",
    "            self.alternateSentences.extend(strings)\n",
    "    \n",
    "    def addHTMLStrings(self, htmls):\n",
    "        if(isinstance(htmls, str)):\n",
    "            self.alternateHTMLS.append(htmls)\n",
    "        else:\n",
    "            self.alternateHTMLs.extend(htmls)\n",
    "    \n",
    "    def addFinalSentences(self, sentences):\n",
    "        self.finalShiftSentences.extend(sentences)\n",
    "        if(isinstance(sentences, str)):\n",
    "            self.finalShiftSentences.append(sentences)\n",
    "        else:\n",
    "            self.finalShiftSentences.extend(sentences)\n",
    "            "
   ]
  },
  {
   "cell_type": "markdown",
   "metadata": {},
   "source": [
    "## Utility Code"
   ]
  },
  {
   "cell_type": "code",
   "execution_count": 35,
   "metadata": {},
   "outputs": [],
   "source": [
    "def cstr(s, color='black'):\n",
    "    return \"<text style=color:{}>{}</text>\".format(color, s)\n",
    "\n",
    "def cleanAndTokenizeText(text):\n",
    "    text = text.lower();\n",
    "    newString = \"\"\n",
    "    for char in text:\n",
    "        if char not in punctuation:\n",
    "            newString += char\n",
    "    text = word_tokenize(newString)\n",
    "    return text;\n",
    "\n",
    "def getPOSTags(tweet):\n",
    "    tags = nltk.pos_tag(tweet)\n",
    "    return tags;\n",
    "\n",
    "def getAntonymsOfWords(word):\n",
    "    if(word not in vocabulary):\n",
    "        return []\n",
    "    setOfAntonyms = set()\n",
    "    for syn in wordnet.synsets(word):\n",
    "        for l in syn.lemmas():\n",
    "            anton = l.antonyms()\n",
    "            if(anton!=[]):\n",
    "                setOfAntonyms.add(anton[0].name())\n",
    "    if(len(setOfAntonyms) == 0):\n",
    "        print(\"No antonyms found for word {0}\".format(word))\n",
    "    return list(setOfAntonyms)\n",
    "\n",
    "def listReplacements(word):\n",
    "    if(word not in vocabulary):\n",
    "        print(\" --- {0} not in vocabulary ---\".format(word))\n",
    "        return []\n",
    "    possibleReplacements = [word[0] for word in word_vectors.most_similar(word,topn=NUMBER_OF_ALTERNATIVES)]\n",
    "    if(possibleReplacements == []):\n",
    "        print(\" --- No replacements for word {0} ---\".format(word))\n",
    "    antonyms = getAntonymsOfWords(word)\n",
    "    if(antonyms != []):\n",
    "        possibleReplacements.extend(antonyms)\n",
    "        print(\"Some antonyms for word {0} are {1}\".format(word, antonyms[:3]))\n",
    "        return possibleReplacements\n",
    "    return possibleReplacements\n",
    "    \n",
    "def posApprovedReplacements(alternativeWords, userTokens, indexOfToken):\n",
    "    if(alternativeWords == []):\n",
    "        return []\n",
    "    tempTokens = userTokens[:]\n",
    "    POSTokens = getPOSTags(tempTokens)\n",
    "    validWords = []\n",
    "    \n",
    "    mainTag = POSTokens[indexOfToken][1]\n",
    "    mainWord = userTokens[indexOfToken]\n",
    "    \n",
    "    for ind,word in enumerate(alternativeWords):\n",
    "        tempTokens[indexOfToken] = word\n",
    "        posTags = getPOSTags(tempTokens)\n",
    "        newTag = (posTags[indexOfToken])[1]\n",
    "        \n",
    "        if(str(newTag) == str(mainTag)):\n",
    "            print(\"Word {0}[{1}] replaced with {2}[{3}]\".format(mainWord, mainTag, word,newTag))\n",
    "            validWords.append(word)\n",
    "    return validWords\n",
    "        \n",
    "    \n",
    "    \n",
    "def getAlternativeSentences(sentenceObj):\n",
    "    mainSentence = sentenceObj.ogSentence;\n",
    "    mainSentiment = sentenceObj.ogSentiment;\n",
    "    \n",
    "    sentenceTokens = cleanAndTokenizeText(mainSentence)\n",
    "   \n",
    "    for ind, word in enumerate(sentenceTokens):\n",
    "        alternativeStrings = []\n",
    "        alternativeHTMLs = []\n",
    "        \n",
    "        score = senty.polarity_scores(word)['compound']\n",
    "        copyOfTokens = sentenceTokens[:]\n",
    "        replacements = []\n",
    "        if(score != 0.0):\n",
    "            tempReplacements = listReplacements(word) # get embedding based relations\n",
    "            if(tempReplacements == []):\n",
    "                print(\"No replacements found at all for word {0}\".format(word))\n",
    "                continue\n",
    "            replacements = posApprovedReplacements(tempReplacements[:], copyOfTokens[:], ind)\n",
    "            if(replacements == []):\n",
    "                print(\" -- No POS approved words! -- for word {0}\\n some non-POS:{1}\".format(word, tempReplacements[:4]))\n",
    "                continue\n",
    "            sentenceObj.addAlternativesByIndex(ind, replacements)\n",
    "            \n",
    "            ## Generate new sentences by switching that word\n",
    "            for newWord in replacements:\n",
    "                htmlFriendlyTokens = copyOfTokens[:]\n",
    "                copyOfTokens[ind] = newWord\n",
    "                htmlFriendlyTokens[ind] = cstr(\" <i>[{0}]</i>\".format(newWord), \"blue\");\n",
    "                newString = ' '.join(copyOfTokens)\n",
    "                alternativeStrings.append(newString);\n",
    "                alternativeHTMLs.append(' '.join(htmlFriendlyTokens))\n",
    "        sentenceObj.addAlternativeStrings(alternativeStrings)\n",
    "        sentenceObj.addHTMLStrings(alternativeHTMLs)\n",
    "    return sentenceObj\n",
    "\n"
   ]
  },
  {
   "cell_type": "markdown",
   "metadata": {},
   "source": [
    "## Testing Code\n"
   ]
  },
  {
   "cell_type": "code",
   "execution_count": 31,
   "metadata": {},
   "outputs": [],
   "source": [
    "specificWord = \"good\"\n",
    "def testOneWord(word=\"\"):\n",
    "    if(word==\"\"):\n",
    "        return\n",
    "    print(word)\n"
   ]
  },
  {
   "cell_type": "code",
   "execution_count": 34,
   "metadata": {},
   "outputs": [
    {
     "name": "stdout",
     "output_type": "stream",
     "text": [
      "\n",
      " You are such a wonderful person for looking at this poster!:0.6114\n",
      "\n",
      "No antonyms found for word wonderful\n",
      "Word wonderful[JJ] replaced with amazing[JJ]\n",
      "Word wonderful[JJ] replaced with terrific[JJ]\n",
      "Word wonderful[JJ] replaced with lovely[JJ]\n",
      "Word wonderful[JJ] replaced with marvelous[JJ]\n",
      "Word wonderful[JJ] replaced with beautiful[JJ]\n",
      "Word wonderful[JJ] replaced with fantastic[JJ]\n",
      "Word wonderful[JJ] replaced with fabulous[JJ]\n"
     ]
    },
    {
     "data": {
      "text/html": [
       "<text style=color:green>you are such a <text style=color:blue> <i>[amazing]</i></text> person for looking at this poster !: 0.6239</text>"
      ],
      "text/plain": [
       "<IPython.core.display.HTML object>"
      ]
     },
     "metadata": {},
     "output_type": "display_data"
    },
    {
     "data": {
      "text/html": [
       "<text style=color:red>you are such a <text style=color:blue> <i>[terrific]</i></text> person for looking at this poster !: 0.5255</text>"
      ],
      "text/plain": [
       "<IPython.core.display.HTML object>"
      ]
     },
     "metadata": {},
     "output_type": "display_data"
    },
    {
     "data": {
      "text/html": [
       "<text style=color:green>you are such a <text style=color:blue> <i>[lovely]</i></text> person for looking at this poster !: 0.6239</text>"
      ],
      "text/plain": [
       "<IPython.core.display.HTML object>"
      ]
     },
     "metadata": {},
     "output_type": "display_data"
    },
    {
     "data": {
      "text/html": [
       "<text style=color:green>you are such a <text style=color:blue> <i>[marvelous]</i></text> person for looking at this poster !: 0.636</text>"
      ],
      "text/plain": [
       "<IPython.core.display.HTML object>"
      ]
     },
     "metadata": {},
     "output_type": "display_data"
    },
    {
     "data": {
      "text/html": [
       "<text style=color:green>you are such a <text style=color:blue> <i>[beautiful]</i></text> person for looking at this poster !: 0.636</text>"
      ],
      "text/plain": [
       "<IPython.core.display.HTML object>"
      ]
     },
     "metadata": {},
     "output_type": "display_data"
    },
    {
     "data": {
      "text/html": [
       "<text style=color:red>you are such a <text style=color:blue> <i>[fantastic]</i></text> person for looking at this poster !: 0.5983</text>"
      ],
      "text/plain": [
       "<IPython.core.display.HTML object>"
      ]
     },
     "metadata": {},
     "output_type": "display_data"
    },
    {
     "data": {
      "text/html": [
       "<text style=color:red>you are such a <text style=color:blue> <i>[fabulous]</i></text> person for looking at this poster !: 0.5707</text>"
      ],
      "text/plain": [
       "<IPython.core.display.HTML object>"
      ]
     },
     "metadata": {},
     "output_type": "display_data"
    },
    {
     "name": "stdout",
     "output_type": "stream",
     "text": [
      "\n",
      " You are such a horrible person for looking at this poster:-0.5423\n",
      "\n",
      "No antonyms found for word horrible\n",
      "Word horrible[JJ] replaced with awful[JJ]\n",
      "Word horrible[JJ] replaced with terrible[JJ]\n",
      "Word horrible[JJ] replaced with horrendous[JJ]\n",
      "Word horrible[JJ] replaced with dreadful[JJ]\n",
      "Word horrible[JJ] replaced with horrific[JJ]\n",
      "Word horrible[JJ] replaced with appalling[JJ]\n"
     ]
    },
    {
     "data": {
      "text/html": [
       "<text style=color:green>you are such a <text style=color:blue> <i>[awful]</i></text> person for looking at this poster: -0.4588</text>"
      ],
      "text/plain": [
       "<IPython.core.display.HTML object>"
      ]
     },
     "metadata": {},
     "output_type": "display_data"
    },
    {
     "data": {
      "text/html": [
       "<text style=color:green>you are such a <text style=color:blue> <i>[terrible]</i></text> person for looking at this poster: -0.4767</text>"
      ],
      "text/plain": [
       "<IPython.core.display.HTML object>"
      ]
     },
     "metadata": {},
     "output_type": "display_data"
    },
    {
     "data": {
      "text/html": [
       "<text style=color:red>you are such a <text style=color:blue> <i>[horrendous]</i></text> person for looking at this poster: -0.5859</text>"
      ],
      "text/plain": [
       "<IPython.core.display.HTML object>"
      ]
     },
     "metadata": {},
     "output_type": "display_data"
    },
    {
     "data": {
      "text/html": [
       "<text style=color:green>you are such a <text style=color:blue> <i>[dreadful]</i></text> person for looking at this poster: -0.4404</text>"
      ],
      "text/plain": [
       "<IPython.core.display.HTML object>"
      ]
     },
     "metadata": {},
     "output_type": "display_data"
    },
    {
     "data": {
      "text/html": [
       "<text style=color:red>you are such a <text style=color:blue> <i>[horrific]</i></text> person for looking at this poster: -0.6597</text>"
      ],
      "text/plain": [
       "<IPython.core.display.HTML object>"
      ]
     },
     "metadata": {},
     "output_type": "display_data"
    },
    {
     "data": {
      "text/html": [
       "<text style=color:green>you are such a <text style=color:blue> <i>[appalling]</i></text> person for looking at this poster: -0.3612</text>"
      ],
      "text/plain": [
       "<IPython.core.display.HTML object>"
      ]
     },
     "metadata": {},
     "output_type": "display_data"
    },
    {
     "name": "stdout",
     "output_type": "stream",
     "text": [
      "\n",
      " You are such a good and nice person for looking at this poster!:0.7177\n",
      "\n",
      "Some antonyms for word good are ['badness', 'bad']\n",
      "Word good[JJ] replaced with sure[JJ]\n",
      "Word good[JJ] replaced with bad[JJ]\n",
      "Word good[JJ] replaced with evil[JJ]\n",
      "Some antonyms for word nice are []\n",
      "Word nice[JJ] replaced with good[JJ]\n",
      "Word nice[JJ] replaced with happy[JJ]\n",
      "Word nice[JJ] replaced with perfect[JJ]\n",
      "Word nice[JJ] replaced with pretty[JJ]\n",
      "Word nice[JJ] replaced with wonderful[JJ]\n",
      "Word nice[JJ] replaced with lovely[JJ]\n",
      "Word nice[JJ] replaced with guy[JJ]\n",
      "Word nice[JJ] replaced with nasty[JJ]\n"
     ]
    },
    {
     "data": {
      "text/html": [
       "<text style=color:red>you are such a <text style=color:blue> <i>[sure]</i></text> and nice person for looking at this poster !: 0.6588</text>"
      ],
      "text/plain": [
       "<IPython.core.display.HTML object>"
      ]
     },
     "metadata": {},
     "output_type": "display_data"
    },
    {
     "data": {
      "text/html": [
       "<text style=color:red>you are such a <text style=color:blue> <i>[bad]</i></text> and nice person for looking at this poster !: -0.2481</text>"
      ],
      "text/plain": [
       "<IPython.core.display.HTML object>"
      ]
     },
     "metadata": {},
     "output_type": "display_data"
    },
    {
     "data": {
      "text/html": [
       "<text style=color:red>you are such a <text style=color:blue> <i>[evil]</i></text> and nice person for looking at this poster !: -0.4389</text>"
      ],
      "text/plain": [
       "<IPython.core.display.HTML object>"
      ]
     },
     "metadata": {},
     "output_type": "display_data"
    },
    {
     "data": {
      "text/html": [
       "<text style=color:green>you are such a good and <text style=color:blue> <i>[good]</i></text> person for looking at this poster !: 0.7263</text>"
      ],
      "text/plain": [
       "<IPython.core.display.HTML object>"
      ]
     },
     "metadata": {},
     "output_type": "display_data"
    },
    {
     "data": {
      "text/html": [
       "<text style=color:green>you are such a good and <text style=color:blue> <i>[happy]</i></text> person for looking at this poster !: 0.784</text>"
      ],
      "text/plain": [
       "<IPython.core.display.HTML object>"
      ]
     },
     "metadata": {},
     "output_type": "display_data"
    },
    {
     "data": {
      "text/html": [
       "<text style=color:green>you are such a good and <text style=color:blue> <i>[perfect]</i></text> person for looking at this poster !: 0.784</text>"
      ],
      "text/plain": [
       "<IPython.core.display.HTML object>"
      ]
     },
     "metadata": {},
     "output_type": "display_data"
    },
    {
     "data": {
      "text/html": [
       "<text style=color:green>you are such a good and <text style=color:blue> <i>[pretty]</i></text> person for looking at this poster !: 0.75</text>"
      ],
      "text/plain": [
       "<IPython.core.display.HTML object>"
      ]
     },
     "metadata": {},
     "output_type": "display_data"
    },
    {
     "data": {
      "text/html": [
       "<text style=color:green>you are such a good and <text style=color:blue> <i>[wonderful]</i></text> person for looking at this poster !: 0.784</text>"
      ],
      "text/plain": [
       "<IPython.core.display.HTML object>"
      ]
     },
     "metadata": {},
     "output_type": "display_data"
    },
    {
     "data": {
      "text/html": [
       "<text style=color:green>you are such a good and <text style=color:blue> <i>[lovely]</i></text> person for looking at this poster !: 0.7901</text>"
      ],
      "text/plain": [
       "<IPython.core.display.HTML object>"
      ]
     },
     "metadata": {},
     "output_type": "display_data"
    },
    {
     "data": {
      "text/html": [
       "<text style=color:red>you are such a good and <text style=color:blue> <i>[guy]</i></text> person for looking at this poster !: 0.4926</text>"
      ],
      "text/plain": [
       "<IPython.core.display.HTML object>"
      ]
     },
     "metadata": {},
     "output_type": "display_data"
    },
    {
     "data": {
      "text/html": [
       "<text style=color:red>you are such a good and <text style=color:blue> <i>[nasty]</i></text> person for looking at this poster !: -0.2481</text>"
      ],
      "text/plain": [
       "<IPython.core.display.HTML object>"
      ]
     },
     "metadata": {},
     "output_type": "display_data"
    }
   ],
   "source": [
    "specificString = \"\"\n",
    "def specificString(textString=\"\"):\n",
    "    if(textString == \"\" or textString == None):\n",
    "        return\n",
    "    mainSentiment = senty.polarity_scores(textString)['compound']\n",
    "    if(mainSentiment == 0):\n",
    "        print(\"No sentiment found in sentence\");\n",
    "        return;\n",
    "    print(\"\\n {0}:{1}\\n\".format(textString,mainSentiment))   \n",
    "    sentenceObj = Sentence(textString, mainSentiment)\n",
    "    sentenceObj = getAlternativeSentences(sentenceObj)\n",
    "    \n",
    "    alternateTweets = (sentenceObj.alternateSentences)[:]\n",
    "    if(alternateTweets == [] or alternateTweets == None):\n",
    "        print(\" -- No new Strings generated ---\\n\\n\")\n",
    "        return\n",
    "        #         sentenceObj = shiftSentiment(sentenceObj, True);\n",
    "#         printStrings(sentenceObj)\n",
    "    sentenceObj = shiftSentiment(sentenceObj, False);\n",
    "    printStrings(sentenceObj)\n",
    "    \n",
    "specificString(\"You are such a wonderful person for looking at this poster!\")\n",
    "specificString(\"You are such a horrible person for looking at this poster\")\n",
    "specificString(\"You are such a good and nice person for looking at this poster!\")"
   ]
  },
  {
   "cell_type": "markdown",
   "metadata": {},
   "source": [
    "## Main Cell\n"
   ]
  },
  {
   "cell_type": "code",
   "execution_count": 6,
   "metadata": {},
   "outputs": [],
   "source": [
    "def shiftSentiment(sentenceObj, positive=True):\n",
    "    \n",
    "    actualTweet = sentenceObj.ogSentence;\n",
    "    mainSentiment = sentenceObj.ogSentiment;\n",
    "    alternateTweets = sentenceObj.alternateSentences;\n",
    "    \n",
    "    \n",
    "    happiestTweet = \"\"\n",
    "    saddestTweet = \"\"\n",
    "    happiestScore = -sys.maxsize - 1\n",
    "    saddestScore = sys.maxsize\n",
    "    correctTweets = []\n",
    "    \n",
    "    for tweet in alternateTweets:\n",
    "        newSenty = senty.polarity_scores(tweet)['compound']\n",
    "        \n",
    "        if(newSenty < saddestScore):\n",
    "            saddestTweet = tweet\n",
    "            saddestScore = newSenty\n",
    "        if(newSenty > happiestScore):\n",
    "            happiestTweet = tweet\n",
    "            happiestScore = newSenty\n",
    "            \n",
    "        if(positive):\n",
    "            if(newSenty > mainSentiment):\n",
    "                correctTweets.append(tweet)\n",
    "                continue\n",
    "            \n",
    "            elif(newSenty < mainSentiment):\n",
    "                continue\n",
    "                # Grab happiest tweet and if it's not \"\", then generate more happy tweets from it\n",
    "        if(positive == False):\n",
    "            if(newSenty < mainSentiment):\n",
    "                correctTweets.append(tweet)\n",
    "                continue\n",
    "            \n",
    "            elif(newSenty > mainSentiment):\n",
    "                continue\n",
    "                # grab happiest tweet, and if it's not \"\", then generate more happy tweets from it\n",
    "                \n",
    "#     if(correctTweets == []):\n",
    "#         print(\"\\n\\nNo tweets found when trying to do Positive={}\\n\\n\".format(positive))\n",
    "    \n",
    "    sentenceObj.addFinalSentences(correctTweets);\n",
    "    return sentenceObj;\n",
    "        \n",
    "def printStrings(sentenceObj):\n",
    "    newStringsHTML = sentenceObj.alternateHTMLs;\n",
    "    newStrings = sentenceObj.alternateSentences;\n",
    "    mainSentiment = sentenceObj.ogSentiment;    \n",
    "    for ind,alteredTweet in enumerate(newStrings):\n",
    "            sentimentOfNewString = senty.polarity_scores(alteredTweet)['compound']\n",
    "            htmlText = newStringsHTML[ind]\n",
    "            if(sentimentOfNewString == mainSentiment or sentimentOfNewString == 0):\n",
    "                display(HTML(cstr(\"{0}: {1}\".format(htmlText,sentimentOfNewString),'DarkGray')))\n",
    "            elif(sentimentOfNewString > mainSentiment):\n",
    "                display(HTML(cstr(\"{0}: {1}\".format(htmlText,sentimentOfNewString),'green')))\n",
    "            else:\n",
    "                display(HTML(cstr(\"{0}: {1}\".format(htmlText,sentimentOfNewString),'red')))"
   ]
  },
  {
   "cell_type": "code",
   "execution_count": 27,
   "metadata": {
    "scrolled": false
   },
   "outputs": [
    {
     "name": "stdout",
     "output_type": "stream",
     "text": [
      "\n",
      " broadband plan a massive broken promise  via  still waiting for broadband we are :-0.2023\n",
      "\n",
      "Some antonyms for word broken are ['keep', 'repair', 'make']\n",
      "Word broken[NN] replaced with breaking[NN]\n",
      "Word broken[NN] replaced with broke[NN]\n",
      "Word broken[NN] replaced with apart[NN]\n",
      "Word broken[NN] replaced with neck[NN]\n",
      "Word broken[NN] replaced with keep[NN]\n",
      "Word broken[NN] replaced with repair[NN]\n",
      "Word broken[NN] replaced with make[NN]\n",
      "Word broken[NN] replaced with promote[NN]\n",
      "Word broken[NN] replaced with conform_to[NN]\n",
      "No antonyms found for word promise\n",
      "Word promise[NN] replaced with pledge[NN]\n",
      "Word promise[NN] replaced with commitment[NN]\n",
      "Word promise[NN] replaced with hope[NN]\n",
      "Word promise[NN] replaced with give[NN]\n",
      "Word promise[NN] replaced with desire[NN]\n"
     ]
    },
    {
     "data": {
      "text/html": [
       "<text style=color:green>broadband plan a massive <text style=color:blue> <i>[breaking]</i></text> promise via still waiting for broadband we are: 0.3182</text>"
      ],
      "text/plain": [
       "<IPython.core.display.HTML object>"
      ]
     },
     "metadata": {},
     "output_type": "display_data"
    },
    {
     "data": {
      "text/html": [
       "<text style=color:green>broadband plan a massive <text style=color:blue> <i>[broke]</i></text> promise via still waiting for broadband we are: -0.128</text>"
      ],
      "text/plain": [
       "<IPython.core.display.HTML object>"
      ]
     },
     "metadata": {},
     "output_type": "display_data"
    },
    {
     "data": {
      "text/html": [
       "<text style=color:green>broadband plan a massive <text style=color:blue> <i>[apart]</i></text> promise via still waiting for broadband we are: 0.3182</text>"
      ],
      "text/plain": [
       "<IPython.core.display.HTML object>"
      ]
     },
     "metadata": {},
     "output_type": "display_data"
    },
    {
     "data": {
      "text/html": [
       "<text style=color:green>broadband plan a massive <text style=color:blue> <i>[neck]</i></text> promise via still waiting for broadband we are: 0.3182</text>"
      ],
      "text/plain": [
       "<IPython.core.display.HTML object>"
      ]
     },
     "metadata": {},
     "output_type": "display_data"
    },
    {
     "data": {
      "text/html": [
       "<text style=color:green>broadband plan a massive <text style=color:blue> <i>[keep]</i></text> promise via still waiting for broadband we are: 0.3182</text>"
      ],
      "text/plain": [
       "<IPython.core.display.HTML object>"
      ]
     },
     "metadata": {},
     "output_type": "display_data"
    },
    {
     "data": {
      "text/html": [
       "<text style=color:green>broadband plan a massive <text style=color:blue> <i>[repair]</i></text> promise via still waiting for broadband we are: 0.3182</text>"
      ],
      "text/plain": [
       "<IPython.core.display.HTML object>"
      ]
     },
     "metadata": {},
     "output_type": "display_data"
    },
    {
     "data": {
      "text/html": [
       "<text style=color:green>broadband plan a massive <text style=color:blue> <i>[make]</i></text> promise via still waiting for broadband we are: 0.3182</text>"
      ],
      "text/plain": [
       "<IPython.core.display.HTML object>"
      ]
     },
     "metadata": {},
     "output_type": "display_data"
    },
    {
     "data": {
      "text/html": [
       "<text style=color:green>broadband plan a massive <text style=color:blue> <i>[promote]</i></text> promise via still waiting for broadband we are: 0.5994</text>"
      ],
      "text/plain": [
       "<IPython.core.display.HTML object>"
      ]
     },
     "metadata": {},
     "output_type": "display_data"
    },
    {
     "data": {
      "text/html": [
       "<text style=color:green>broadband plan a massive <text style=color:blue> <i>[conform_to]</i></text> promise via still waiting for broadband we are: 0.3182</text>"
      ],
      "text/plain": [
       "<IPython.core.display.HTML object>"
      ]
     },
     "metadata": {},
     "output_type": "display_data"
    },
    {
     "data": {
      "text/html": [
       "<text style=color:red>broadband plan a massive broken <text style=color:blue> <i>[pledge]</i></text> via still waiting for broadband we are: -0.4767</text>"
      ],
      "text/plain": [
       "<IPython.core.display.HTML object>"
      ]
     },
     "metadata": {},
     "output_type": "display_data"
    },
    {
     "data": {
      "text/html": [
       "<text style=color:green>broadband plan a massive broken <text style=color:blue> <i>[commitment]</i></text> via still waiting for broadband we are: -0.128</text>"
      ],
      "text/plain": [
       "<IPython.core.display.HTML object>"
      ]
     },
     "metadata": {},
     "output_type": "display_data"
    },
    {
     "data": {
      "text/html": [
       "<text style=color:green>broadband plan a massive broken <text style=color:blue> <i>[hope]</i></text> via still waiting for broadband we are: -0.0516</text>"
      ],
      "text/plain": [
       "<IPython.core.display.HTML object>"
      ]
     },
     "metadata": {},
     "output_type": "display_data"
    },
    {
     "data": {
      "text/html": [
       "<text style=color:red>broadband plan a massive broken <text style=color:blue> <i>[give]</i></text> via still waiting for broadband we are: -0.4767</text>"
      ],
      "text/plain": [
       "<IPython.core.display.HTML object>"
      ]
     },
     "metadata": {},
     "output_type": "display_data"
    },
    {
     "data": {
      "text/html": [
       "<text style=color:green>broadband plan a massive broken <text style=color:blue> <i>[desire]</i></text> via still waiting for broadband we are: -0.1027</text>"
      ],
      "text/plain": [
       "<IPython.core.display.HTML object>"
      ]
     },
     "metadata": {},
     "output_type": "display_data"
    },
    {
     "name": "stdout",
     "output_type": "stream",
     "text": [
      "\n",
      "  wow tons of replies from you may have to unfollow so i can see my friends tweets you are scrolling the feed a lot. :0.7845\n",
      "\n",
      "No antonyms found for word wow\n",
      "Word wow[JJ] replaced with c'mon[JJ]\n",
      "Word wow[JJ] replaced with hey[JJ]\n",
      "Word wow[JJ] replaced with gosh[JJ]\n",
      "Word wow[JJ] replaced with whew[JJ]\n",
      "Some antonyms for word friends are ['stranger', 'foe']\n",
      "Word friends[NNS] replaced with parents[NNS]\n",
      "Word friends[NNS] replaced with relatives[NNS]\n",
      "Word friends[NNS] replaced with others[NNS]\n"
     ]
    },
    {
     "data": {
      "text/html": [
       "<text style=color:red><text style=color:blue> <i>[c'mon]</i></text> tons of replies from you may have to unfollow so i can see my friends tweets you are scrolling the feed a lot .: 0.4767</text>"
      ],
      "text/plain": [
       "<IPython.core.display.HTML object>"
      ]
     },
     "metadata": {},
     "output_type": "display_data"
    },
    {
     "data": {
      "text/html": [
       "<text style=color:red><text style=color:blue> <i>[hey]</i></text> tons of replies from you may have to unfollow so i can see my friends tweets you are scrolling the feed a lot .: 0.4767</text>"
      ],
      "text/plain": [
       "<IPython.core.display.HTML object>"
      ]
     },
     "metadata": {},
     "output_type": "display_data"
    },
    {
     "data": {
      "text/html": [
       "<text style=color:red><text style=color:blue> <i>[gosh]</i></text> tons of replies from you may have to unfollow so i can see my friends tweets you are scrolling the feed a lot .: 0.4767</text>"
      ],
      "text/plain": [
       "<IPython.core.display.HTML object>"
      ]
     },
     "metadata": {},
     "output_type": "display_data"
    },
    {
     "data": {
      "text/html": [
       "<text style=color:red><text style=color:blue> <i>[whew]</i></text> tons of replies from you may have to unfollow so i can see my friends tweets you are scrolling the feed a lot .: 0.4767</text>"
      ],
      "text/plain": [
       "<IPython.core.display.HTML object>"
      ]
     },
     "metadata": {},
     "output_type": "display_data"
    },
    {
     "data": {
      "text/html": [
       "<text style=color:red>wow tons of replies from you may have to unfollow so i can see my <text style=color:blue> <i>[parents]</i></text> tweets you are scrolling the feed a lot .: 0.5859</text>"
      ],
      "text/plain": [
       "<IPython.core.display.HTML object>"
      ]
     },
     "metadata": {},
     "output_type": "display_data"
    },
    {
     "data": {
      "text/html": [
       "<text style=color:red>wow tons of replies from you may have to unfollow so i can see my <text style=color:blue> <i>[relatives]</i></text> tweets you are scrolling the feed a lot .: 0.5859</text>"
      ],
      "text/plain": [
       "<IPython.core.display.HTML object>"
      ]
     },
     "metadata": {},
     "output_type": "display_data"
    },
    {
     "data": {
      "text/html": [
       "<text style=color:red>wow tons of replies from you may have to unfollow so i can see my <text style=color:blue> <i>[others]</i></text> tweets you are scrolling the feed a lot .: 0.5859</text>"
      ],
      "text/plain": [
       "<IPython.core.display.HTML object>"
      ]
     },
     "metadata": {},
     "output_type": "display_data"
    },
    {
     "name": "stdout",
     "output_type": "stream",
     "text": [
      "\n",
      " put vacation photos online a few yrs ago. pc crashed and now i forget the name of the site. :-0.2263\n",
      "\n",
      "Some antonyms for word forget are ['mind', 'remember']\n",
      "Word forget[VBP] replaced with remember[VBP]\n",
      "Word forget[VBP] replaced with tell[VBP]\n",
      "Word forget[VBP] replaced with imagine[VBP]\n",
      "Word forget[VBP] replaced with know[VBP]\n",
      "Word forget[VBP] replaced with mind[VBP]\n",
      "Word forget[VBP] replaced with remember[VBP]\n"
     ]
    },
    {
     "data": {
      "text/html": [
       "<text style=color:DarkGray>put vacation photos online a few yrs ago . pc crashed and now i <text style=color:blue> <i>[remember]</i></text> the name of the site .: 0.0</text>"
      ],
      "text/plain": [
       "<IPython.core.display.HTML object>"
      ]
     },
     "metadata": {},
     "output_type": "display_data"
    },
    {
     "data": {
      "text/html": [
       "<text style=color:DarkGray>put vacation photos online a few yrs ago . pc crashed and now i <text style=color:blue> <i>[tell]</i></text> the name of the site .: 0.0</text>"
      ],
      "text/plain": [
       "<IPython.core.display.HTML object>"
      ]
     },
     "metadata": {},
     "output_type": "display_data"
    },
    {
     "data": {
      "text/html": [
       "<text style=color:DarkGray>put vacation photos online a few yrs ago . pc crashed and now i <text style=color:blue> <i>[imagine]</i></text> the name of the site .: 0.0</text>"
      ],
      "text/plain": [
       "<IPython.core.display.HTML object>"
      ]
     },
     "metadata": {},
     "output_type": "display_data"
    },
    {
     "data": {
      "text/html": [
       "<text style=color:DarkGray>put vacation photos online a few yrs ago . pc crashed and now i <text style=color:blue> <i>[know]</i></text> the name of the site .: 0.0</text>"
      ],
      "text/plain": [
       "<IPython.core.display.HTML object>"
      ]
     },
     "metadata": {},
     "output_type": "display_data"
    },
    {
     "data": {
      "text/html": [
       "<text style=color:DarkGray>put vacation photos online a few yrs ago . pc crashed and now i <text style=color:blue> <i>[mind]</i></text> the name of the site .: 0.0</text>"
      ],
      "text/plain": [
       "<IPython.core.display.HTML object>"
      ]
     },
     "metadata": {},
     "output_type": "display_data"
    },
    {
     "data": {
      "text/html": [
       "<text style=color:DarkGray>put vacation photos online a few yrs ago . pc crashed and now i <text style=color:blue> <i>[remember]</i></text> the name of the site .: 0.0</text>"
      ],
      "text/plain": [
       "<IPython.core.display.HTML object>"
      ]
     },
     "metadata": {},
     "output_type": "display_data"
    },
    {
     "name": "stdout",
     "output_type": "stream",
     "text": [
      "\n",
      " i need a hug :0.4767\n",
      "\n",
      "No antonyms found for word hug\n",
      "Word hug[NN] replaced with hugs[NN]\n",
      "Word hug[NN] replaced with kiss[NN]\n",
      "Word hug[NN] replaced with hugged[NN]\n",
      "Word hug[NN] replaced with goodbye[NN]\n"
     ]
    },
    {
     "data": {
      "text/html": [
       "<text style=color:green>i need a <text style=color:blue> <i>[hugs]</i></text>: 0.4939</text>"
      ],
      "text/plain": [
       "<IPython.core.display.HTML object>"
      ]
     },
     "metadata": {},
     "output_type": "display_data"
    },
    {
     "data": {
      "text/html": [
       "<text style=color:red>i need a <text style=color:blue> <i>[kiss]</i></text>: 0.4215</text>"
      ],
      "text/plain": [
       "<IPython.core.display.HTML object>"
      ]
     },
     "metadata": {},
     "output_type": "display_data"
    },
    {
     "data": {
      "text/html": [
       "<text style=color:red>i need a <text style=color:blue> <i>[hugged]</i></text>: 0.4019</text>"
      ],
      "text/plain": [
       "<IPython.core.display.HTML object>"
      ]
     },
     "metadata": {},
     "output_type": "display_data"
    },
    {
     "data": {
      "text/html": [
       "<text style=color:DarkGray>i need a <text style=color:blue> <i>[goodbye]</i></text>: 0.0</text>"
      ],
      "text/plain": [
       "<IPython.core.display.HTML object>"
      ]
     },
     "metadata": {},
     "output_type": "display_data"
    },
    {
     "name": "stdout",
     "output_type": "stream",
     "text": [
      "\n",
      "  not sure what they are only that they are pos! as much as i want to i dont think can trade away company assets sorry andy! :-0.2134\n",
      "\n",
      "Some antonyms for word sure are ['unsure', 'uncertain']\n",
      "Word sure[JJ] replaced with unsure[JJ]\n",
      "Word sure[JJ] replaced with uncertain[JJ]\n",
      "No antonyms found for word want\n",
      "Word want[VBP] replaced with do[VBP]\n",
      "Word want[VBP] replaced with know[VBP]\n",
      "Word want[VBP] replaced with get[VBP]\n",
      "Some antonyms for word assets are ['liability']\n",
      "Word assets[NNS] replaced with investments[NNS]\n",
      "Word assets[NNS] replaced with funds[NNS]\n",
      "Word assets[NNS] replaced with debts[NNS]\n",
      "Some antonyms for word sorry are ['unregretful']\n",
      "Word sorry[VBP] replaced with 'm[VBP]\n",
      "Word sorry[VBP] replaced with glad[VBP]\n",
      "Word sorry[VBP] replaced with regret[VBP]\n"
     ]
    },
    {
     "data": {
      "text/html": [
       "<text style=color:green>not <text style=color:blue> <i>[unsure]</i></text> what they are only that they are pos ! as much as i want to i dont think can trade away company assets sorry andy !: 0.4632</text>"
      ],
      "text/plain": [
       "<IPython.core.display.HTML object>"
      ]
     },
     "metadata": {},
     "output_type": "display_data"
    },
    {
     "data": {
      "text/html": [
       "<text style=color:green>not <text style=color:blue> <i>[uncertain]</i></text> what they are only that they are pos ! as much as i want to i dont think can trade away company assets sorry andy !: 0.4891</text>"
      ],
      "text/plain": [
       "<IPython.core.display.HTML object>"
      ]
     },
     "metadata": {},
     "output_type": "display_data"
    },
    {
     "data": {
      "text/html": [
       "<text style=color:red>not sure what they are only that they are pos ! as much as i <text style=color:blue> <i>[do]</i></text> to i dont think can trade away company assets sorry andy !: -0.2837</text>"
      ],
      "text/plain": [
       "<IPython.core.display.HTML object>"
      ]
     },
     "metadata": {},
     "output_type": "display_data"
    },
    {
     "data": {
      "text/html": [
       "<text style=color:red>not sure what they are only that they are pos ! as much as i <text style=color:blue> <i>[know]</i></text> to i dont think can trade away company assets sorry andy !: -0.2837</text>"
      ],
      "text/plain": [
       "<IPython.core.display.HTML object>"
      ]
     },
     "metadata": {},
     "output_type": "display_data"
    },
    {
     "data": {
      "text/html": [
       "<text style=color:red>not sure what they are only that they are pos ! as much as i <text style=color:blue> <i>[get]</i></text> to i dont think can trade away company assets sorry andy !: -0.2837</text>"
      ],
      "text/plain": [
       "<IPython.core.display.HTML object>"
      ]
     },
     "metadata": {},
     "output_type": "display_data"
    },
    {
     "data": {
      "text/html": [
       "<text style=color:red>not sure what they are only that they are pos ! as much as i want to i dont think can trade away company <text style=color:blue> <i>[investments]</i></text> sorry andy !: -0.3707</text>"
      ],
      "text/plain": [
       "<IPython.core.display.HTML object>"
      ]
     },
     "metadata": {},
     "output_type": "display_data"
    },
    {
     "data": {
      "text/html": [
       "<text style=color:red>not sure what they are only that they are pos ! as much as i want to i dont think can trade away company <text style=color:blue> <i>[funds]</i></text> sorry andy !: -0.3707</text>"
      ],
      "text/plain": [
       "<IPython.core.display.HTML object>"
      ]
     },
     "metadata": {},
     "output_type": "display_data"
    },
    {
     "data": {
      "text/html": [
       "<text style=color:red>not sure what they are only that they are pos ! as much as i want to i dont think can trade away company <text style=color:blue> <i>[debts]</i></text> sorry andy !: -0.3707</text>"
      ],
      "text/plain": [
       "<IPython.core.display.HTML object>"
      ]
     },
     "metadata": {},
     "output_type": "display_data"
    },
    {
     "data": {
      "text/html": [
       "<text style=color:green>not sure what they are only that they are pos ! as much as i want to i dont think can trade away company assets <text style=color:blue> <i>['m]</i></text> andy !: 0.1586</text>"
      ],
      "text/plain": [
       "<IPython.core.display.HTML object>"
      ]
     },
     "metadata": {},
     "output_type": "display_data"
    },
    {
     "data": {
      "text/html": [
       "<text style=color:green>not sure what they are only that they are pos ! as much as i want to i dont think can trade away company assets <text style=color:blue> <i>[glad]</i></text> andy !: 0.5606</text>"
      ],
      "text/plain": [
       "<IPython.core.display.HTML object>"
      ]
     },
     "metadata": {},
     "output_type": "display_data"
    },
    {
     "data": {
      "text/html": [
       "<text style=color:red>not sure what they are only that they are pos ! as much as i want to i dont think can trade away company assets <text style=color:blue> <i>[regret]</i></text> andy !: -0.5181</text>"
      ],
      "text/plain": [
       "<IPython.core.display.HTML object>"
      ]
     },
     "metadata": {},
     "output_type": "display_data"
    },
    {
     "name": "stdout",
     "output_type": "stream",
     "text": [
      "\n",
      "  i hate when that happens... :-0.5719\n",
      "\n",
      "Some antonyms for word hate are ['love']\n",
      "Word hate[NN] replaced with anyone[NN]\n",
      "Word hate[NN] replaced with crime[NN]\n"
     ]
    },
    {
     "data": {
      "text/html": [
       "<text style=color:DarkGray>i <text style=color:blue> <i>[anyone]</i></text> when that happens ...: 0.0</text>"
      ],
      "text/plain": [
       "<IPython.core.display.HTML object>"
      ]
     },
     "metadata": {},
     "output_type": "display_data"
    },
    {
     "data": {
      "text/html": [
       "<text style=color:green>i <text style=color:blue> <i>[crime]</i></text> when that happens ...: -0.5423</text>"
      ],
      "text/plain": [
       "<IPython.core.display.HTML object>"
      ]
     },
     "metadata": {},
     "output_type": "display_data"
    },
    {
     "name": "stdout",
     "output_type": "stream",
     "text": [
      "\n",
      " i have a sad feeling that dallas is not going to show up  i gotta say though you would think more shows would use music from the game. mmm:-0.3818\n",
      "\n",
      "Some antonyms for word sad are ['glad']\n",
      "Word sad[JJ] replaced with awful[JJ]\n",
      "Word sad[JJ] replaced with tragic[JJ]\n",
      "Word sad[JJ] replaced with horrible[JJ]\n",
      "Word sad[JJ] replaced with happy[JJ]\n",
      "Word sad[JJ] replaced with poignant[JJ]\n",
      "Word sad[JJ] replaced with glad[JJ]\n",
      "No antonyms found for word feeling\n",
      "Word feeling[NN] replaced with feel[NN]\n",
      "Word feeling[NN] replaced with felt[NN]\n",
      "Word feeling[NN] replaced with sense[NN]\n"
     ]
    },
    {
     "data": {
      "text/html": [
       "<text style=color:green>i have a <text style=color:blue> <i>[awful]</i></text> feeling that dallas is not going to show up i got ta say though you would think more shows would use music from the game . mmm: -0.3612</text>"
      ],
      "text/plain": [
       "<IPython.core.display.HTML object>"
      ]
     },
     "metadata": {},
     "output_type": "display_data"
    },
    {
     "data": {
      "text/html": [
       "<text style=color:green>i have a <text style=color:blue> <i>[tragic]</i></text> feeling that dallas is not going to show up i got ta say though you would think more shows would use music from the game . mmm: -0.3612</text>"
      ],
      "text/plain": [
       "<IPython.core.display.HTML object>"
      ]
     },
     "metadata": {},
     "output_type": "display_data"
    },
    {
     "data": {
      "text/html": [
       "<text style=color:red>i have a <text style=color:blue> <i>[horrible]</i></text> feeling that dallas is not going to show up i got ta say though you would think more shows would use music from the game . mmm: -0.4588</text>"
      ],
      "text/plain": [
       "<IPython.core.display.HTML object>"
      ]
     },
     "metadata": {},
     "output_type": "display_data"
    },
    {
     "data": {
      "text/html": [
       "<text style=color:green>i have a <text style=color:blue> <i>[happy]</i></text> feeling that dallas is not going to show up i got ta say though you would think more shows would use music from the game . mmm: 0.6369</text>"
      ],
      "text/plain": [
       "<IPython.core.display.HTML object>"
      ]
     },
     "metadata": {},
     "output_type": "display_data"
    },
    {
     "data": {
      "text/html": [
       "<text style=color:green>i have a <text style=color:blue> <i>[poignant]</i></text> feeling that dallas is not going to show up i got ta say though you would think more shows would use music from the game . mmm: 0.128</text>"
      ],
      "text/plain": [
       "<IPython.core.display.HTML object>"
      ]
     },
     "metadata": {},
     "output_type": "display_data"
    },
    {
     "data": {
      "text/html": [
       "<text style=color:green>i have a <text style=color:blue> <i>[glad]</i></text> feeling that dallas is not going to show up i got ta say though you would think more shows would use music from the game . mmm: 0.5423</text>"
      ],
      "text/plain": [
       "<IPython.core.display.HTML object>"
      ]
     },
     "metadata": {},
     "output_type": "display_data"
    },
    {
     "data": {
      "text/html": [
       "<text style=color:red>i have a sad <text style=color:blue> <i>[feel]</i></text> that dallas is not going to show up i got ta say though you would think more shows would use music from the game . mmm: -0.4767</text>"
      ],
      "text/plain": [
       "<IPython.core.display.HTML object>"
      ]
     },
     "metadata": {},
     "output_type": "display_data"
    },
    {
     "data": {
      "text/html": [
       "<text style=color:red>i have a sad <text style=color:blue> <i>[felt]</i></text> that dallas is not going to show up i got ta say though you would think more shows would use music from the game . mmm: -0.4767</text>"
      ],
      "text/plain": [
       "<IPython.core.display.HTML object>"
      ]
     },
     "metadata": {},
     "output_type": "display_data"
    },
    {
     "data": {
      "text/html": [
       "<text style=color:red>i have a sad <text style=color:blue> <i>[sense]</i></text> that dallas is not going to show up i got ta say though you would think more shows would use music from the game . mmm: -0.4767</text>"
      ],
      "text/plain": [
       "<IPython.core.display.HTML object>"
      ]
     },
     "metadata": {},
     "output_type": "display_data"
    },
    {
     "name": "stdout",
     "output_type": "stream",
     "text": [
      "\n",
      " where did u move to  i thought u were already in sd.  hmmm. random u found me. glad to hear yer doing well.:0.6249\n",
      "\n",
      "Some antonyms for word glad are ['sad']\n",
      "Word glad[NN] replaced with i[NN]\n",
      "Some antonyms for word well are ['disadvantageously', 'badly', 'ill']\n",
      "Word well[RB] replaced with so[RB]\n",
      "Word well[RB] replaced with even[RB]\n",
      "Word well[RB] replaced with disadvantageously[RB]\n",
      "Word well[RB] replaced with badly[RB]\n"
     ]
    },
    {
     "data": {
      "text/html": [
       "<text style=color:red>where did u move to i thought u were already in sd . hmmm . random u found me . <text style=color:blue> <i>[i]</i></text> to hear yer doing well .: 0.2732</text>"
      ],
      "text/plain": [
       "<IPython.core.display.HTML object>"
      ]
     },
     "metadata": {},
     "output_type": "display_data"
    },
    {
     "data": {
      "text/html": [
       "<text style=color:red>where did u move to i thought u were already in sd . hmmm . random u found me . glad to hear yer doing <text style=color:blue> <i>[so]</i></text> .: 0.4588</text>"
      ],
      "text/plain": [
       "<IPython.core.display.HTML object>"
      ]
     },
     "metadata": {},
     "output_type": "display_data"
    },
    {
     "data": {
      "text/html": [
       "<text style=color:red>where did u move to i thought u were already in sd . hmmm . random u found me . glad to hear yer doing <text style=color:blue> <i>[even]</i></text> .: 0.4588</text>"
      ],
      "text/plain": [
       "<IPython.core.display.HTML object>"
      ]
     },
     "metadata": {},
     "output_type": "display_data"
    },
    {
     "data": {
      "text/html": [
       "<text style=color:red>where did u move to i thought u were already in sd . hmmm . random u found me . glad to hear yer doing <text style=color:blue> <i>[disadvantageously]</i></text> .: -0.0258</text>"
      ],
      "text/plain": [
       "<IPython.core.display.HTML object>"
      ]
     },
     "metadata": {},
     "output_type": "display_data"
    },
    {
     "data": {
      "text/html": [
       "<text style=color:red>where did u move to i thought u were already in sd . hmmm . random u found me . glad to hear yer doing <text style=color:blue> <i>[badly]</i></text> .: -0.0258</text>"
      ],
      "text/plain": [
       "<IPython.core.display.HTML object>"
      ]
     },
     "metadata": {},
     "output_type": "display_data"
    },
    {
     "name": "stdout",
     "output_type": "stream",
     "text": [
      "\n",
      "  i miss my ps3 it is out of commission  wutcha playing have you copped blood on the sand:0.0516\n",
      "\n",
      "Some antonyms for word miss are ['have', 'attend_to', 'attend']\n",
      "Word miss[VBP] replaced with play[VBP]\n",
      "Word miss[VBP] replaced with have[VBP]\n",
      "Word miss[VBP] replaced with attend_to[VBP]\n",
      "Word miss[VBP] replaced with attend[VBP]\n",
      "No antonyms found for word playing\n",
      "Word playing[VBG] replaced with having[VBG]\n"
     ]
    },
    {
     "data": {
      "text/html": [
       "<text style=color:green>i <text style=color:blue> <i>[play]</i></text> my ps3 it is out of commission wutcha playing have you copped blood on the sand: 0.4939</text>"
      ],
      "text/plain": [
       "<IPython.core.display.HTML object>"
      ]
     },
     "metadata": {},
     "output_type": "display_data"
    },
    {
     "data": {
      "text/html": [
       "<text style=color:green>i <text style=color:blue> <i>[have]</i></text> my ps3 it is out of commission wutcha playing have you copped blood on the sand: 0.2023</text>"
      ],
      "text/plain": [
       "<IPython.core.display.HTML object>"
      ]
     },
     "metadata": {},
     "output_type": "display_data"
    },
    {
     "data": {
      "text/html": [
       "<text style=color:green>i <text style=color:blue> <i>[attend_to]</i></text> my ps3 it is out of commission wutcha playing have you copped blood on the sand: 0.2023</text>"
      ],
      "text/plain": [
       "<IPython.core.display.HTML object>"
      ]
     },
     "metadata": {},
     "output_type": "display_data"
    },
    {
     "data": {
      "text/html": [
       "<text style=color:green>i <text style=color:blue> <i>[attend]</i></text> my ps3 it is out of commission wutcha playing have you copped blood on the sand: 0.2023</text>"
      ],
      "text/plain": [
       "<IPython.core.display.HTML object>"
      ]
     },
     "metadata": {},
     "output_type": "display_data"
    },
    {
     "data": {
      "text/html": [
       "<text style=color:red>i miss my ps3 it is out of commission wutcha <text style=color:blue> <i>[having]</i></text> have you copped blood on the sand: -0.1531</text>"
      ],
      "text/plain": [
       "<IPython.core.display.HTML object>"
      ]
     },
     "metadata": {},
     "output_type": "display_data"
    },
    {
     "name": "stdout",
     "output_type": "stream",
     "text": [
      "\n",
      " the life is cool. but not for me. :0.1655\n",
      "\n",
      "Some antonyms for word cool are ['warm', 'heat']\n",
      "Word cool[JJ] replaced with hot[JJ]\n",
      "Word cool[JJ] replaced with warm[JJ]\n",
      "Word cool[JJ] replaced with dry[JJ]\n",
      "Word cool[JJ] replaced with cold[JJ]\n",
      "Word cool[JJ] replaced with chill[JJ]\n",
      "Word cool[JJ] replaced with cooler[JJ]\n",
      "Word cool[JJ] replaced with heat[JJ]\n",
      "Word cool[JJ] replaced with warm[JJ]\n",
      "Word cool[JJ] replaced with heat[JJ]\n"
     ]
    },
    {
     "data": {
      "text/html": [
       "<text style=color:DarkGray>the life is <text style=color:blue> <i>[hot]</i></text> . but not for me .: 0.0</text>"
      ],
      "text/plain": [
       "<IPython.core.display.HTML object>"
      ]
     },
     "metadata": {},
     "output_type": "display_data"
    },
    {
     "data": {
      "text/html": [
       "<text style=color:red>the life is <text style=color:blue> <i>[warm]</i></text> . but not for me .: 0.1154</text>"
      ],
      "text/plain": [
       "<IPython.core.display.HTML object>"
      ]
     },
     "metadata": {},
     "output_type": "display_data"
    },
    {
     "data": {
      "text/html": [
       "<text style=color:DarkGray>the life is <text style=color:blue> <i>[dry]</i></text> . but not for me .: 0.0</text>"
      ],
      "text/plain": [
       "<IPython.core.display.HTML object>"
      ]
     },
     "metadata": {},
     "output_type": "display_data"
    },
    {
     "data": {
      "text/html": [
       "<text style=color:DarkGray>the life is <text style=color:blue> <i>[cold]</i></text> . but not for me .: 0.0</text>"
      ],
      "text/plain": [
       "<IPython.core.display.HTML object>"
      ]
     },
     "metadata": {},
     "output_type": "display_data"
    },
    {
     "data": {
      "text/html": [
       "<text style=color:DarkGray>the life is <text style=color:blue> <i>[chill]</i></text> . but not for me .: 0.0</text>"
      ],
      "text/plain": [
       "<IPython.core.display.HTML object>"
      ]
     },
     "metadata": {},
     "output_type": "display_data"
    },
    {
     "data": {
      "text/html": [
       "<text style=color:DarkGray>the life is <text style=color:blue> <i>[cooler]</i></text> . but not for me .: 0.0</text>"
      ],
      "text/plain": [
       "<IPython.core.display.HTML object>"
      ]
     },
     "metadata": {},
     "output_type": "display_data"
    },
    {
     "data": {
      "text/html": [
       "<text style=color:DarkGray>the life is <text style=color:blue> <i>[heat]</i></text> . but not for me .: 0.0</text>"
      ],
      "text/plain": [
       "<IPython.core.display.HTML object>"
      ]
     },
     "metadata": {},
     "output_type": "display_data"
    },
    {
     "data": {
      "text/html": [
       "<text style=color:red>the life is <text style=color:blue> <i>[warm]</i></text> . but not for me .: 0.1154</text>"
      ],
      "text/plain": [
       "<IPython.core.display.HTML object>"
      ]
     },
     "metadata": {},
     "output_type": "display_data"
    },
    {
     "data": {
      "text/html": [
       "<text style=color:DarkGray>the life is <text style=color:blue> <i>[heat]</i></text> . but not for me .: 0.0</text>"
      ],
      "text/plain": [
       "<IPython.core.display.HTML object>"
      ]
     },
     "metadata": {},
     "output_type": "display_data"
    },
    {
     "name": "stdout",
     "output_type": "stream",
     "text": [
      "\n",
      " sadly though i have never gotten to experience the post coitus cigarette before and now i never will. :-0.4215\n",
      "\n",
      "Some antonyms for word sadly are ['happily']\n",
      "Word sadly[RB] replaced with thankfully[RB]\n",
      "Word sadly[RB] replaced with terribly[RB]\n",
      "Word sadly[RB] replaced with frankly[RB]\n",
      "Word sadly[RB] replaced with curiously[RB]\n",
      "Word sadly[RB] replaced with painfully[RB]\n",
      "Word sadly[RB] replaced with strangely[RB]\n",
      "Word sadly[RB] replaced with happily[RB]\n"
     ]
    },
    {
     "data": {
      "text/html": [
       "<text style=color:green><text style=color:blue> <i>[thankfully]</i></text> though i have never gotten to experience the post coitus cigarette before and now i never will .: 0.4215</text>"
      ],
      "text/plain": [
       "<IPython.core.display.HTML object>"
      ]
     },
     "metadata": {},
     "output_type": "display_data"
    },
    {
     "data": {
      "text/html": [
       "<text style=color:red><text style=color:blue> <i>[terribly]</i></text> though i have never gotten to experience the post coitus cigarette before and now i never will .: -0.5574</text>"
      ],
      "text/plain": [
       "<IPython.core.display.HTML object>"
      ]
     },
     "metadata": {},
     "output_type": "display_data"
    },
    {
     "data": {
      "text/html": [
       "<text style=color:DarkGray><text style=color:blue> <i>[frankly]</i></text> though i have never gotten to experience the post coitus cigarette before and now i never will .: 0.0</text>"
      ],
      "text/plain": [
       "<IPython.core.display.HTML object>"
      ]
     },
     "metadata": {},
     "output_type": "display_data"
    },
    {
     "data": {
      "text/html": [
       "<text style=color:DarkGray><text style=color:blue> <i>[curiously]</i></text> though i have never gotten to experience the post coitus cigarette before and now i never will .: 0.0</text>"
      ],
      "text/plain": [
       "<IPython.core.display.HTML object>"
      ]
     },
     "metadata": {},
     "output_type": "display_data"
    },
    {
     "data": {
      "text/html": [
       "<text style=color:red><text style=color:blue> <i>[painfully]</i></text> though i have never gotten to experience the post coitus cigarette before and now i never will .: -0.5267</text>"
      ],
      "text/plain": [
       "<IPython.core.display.HTML object>"
      ]
     },
     "metadata": {},
     "output_type": "display_data"
    },
    {
     "data": {
      "text/html": [
       "<text style=color:green><text style=color:blue> <i>[strangely]</i></text> though i have never gotten to experience the post coitus cigarette before and now i never will .: -0.296</text>"
      ],
      "text/plain": [
       "<IPython.core.display.HTML object>"
      ]
     },
     "metadata": {},
     "output_type": "display_data"
    },
    {
     "data": {
      "text/html": [
       "<text style=color:green><text style=color:blue> <i>[happily]</i></text> though i have never gotten to experience the post coitus cigarette before and now i never will .: 0.5574</text>"
      ],
      "text/plain": [
       "<IPython.core.display.HTML object>"
      ]
     },
     "metadata": {},
     "output_type": "display_data"
    },
    {
     "name": "stdout",
     "output_type": "stream",
     "text": [
      "\n",
      " i had such a nice day. too bad the rain comes in tomorrow at 5am :-0.1779\n",
      "\n",
      "Some antonyms for word nice are ['nasty']\n",
      "Word nice[JJ] replaced with good[JJ]\n",
      "Word nice[JJ] replaced with happy[JJ]\n",
      "Word nice[JJ] replaced with perfect[JJ]\n",
      "Word nice[JJ] replaced with pretty[JJ]\n",
      "Word nice[JJ] replaced with wonderful[JJ]\n",
      "Word nice[JJ] replaced with lovely[JJ]\n",
      "Word nice[JJ] replaced with guy[JJ]\n",
      "Word nice[JJ] replaced with nasty[JJ]\n",
      "Some antonyms for word bad are ['unregretful', 'good', 'goodness']\n",
      "Word bad[JJ] replaced with good[JJ]\n",
      "Word bad[JJ] replaced with unregretful[JJ]\n",
      "Word bad[JJ] replaced with good[JJ]\n",
      "Word bad[JJ] replaced with goodness[JJ]\n"
     ]
    },
    {
     "data": {
      "text/html": [
       "<text style=color:green>i had such a <text style=color:blue> <i>[good]</i></text> day . too bad the rain comes in tomorrow at 5am: -0.1531</text>"
      ],
      "text/plain": [
       "<IPython.core.display.HTML object>"
      ]
     },
     "metadata": {},
     "output_type": "display_data"
    },
    {
     "data": {
      "text/html": [
       "<text style=color:green>i had such a <text style=color:blue> <i>[happy]</i></text> day . too bad the rain comes in tomorrow at 5am: 0.0516</text>"
      ],
      "text/plain": [
       "<IPython.core.display.HTML object>"
      ]
     },
     "metadata": {},
     "output_type": "display_data"
    },
    {
     "data": {
      "text/html": [
       "<text style=color:green>i had such a <text style=color:blue> <i>[perfect]</i></text> day . too bad the rain comes in tomorrow at 5am: 0.0516</text>"
      ],
      "text/plain": [
       "<IPython.core.display.HTML object>"
      ]
     },
     "metadata": {},
     "output_type": "display_data"
    },
    {
     "data": {
      "text/html": [
       "<text style=color:green>i had such a <text style=color:blue> <i>[pretty]</i></text> day . too bad the rain comes in tomorrow at 5am: -0.0772</text>"
      ],
      "text/plain": [
       "<IPython.core.display.HTML object>"
      ]
     },
     "metadata": {},
     "output_type": "display_data"
    },
    {
     "data": {
      "text/html": [
       "<text style=color:green>i had such a <text style=color:blue> <i>[wonderful]</i></text> day . too bad the rain comes in tomorrow at 5am: 0.0516</text>"
      ],
      "text/plain": [
       "<IPython.core.display.HTML object>"
      ]
     },
     "metadata": {},
     "output_type": "display_data"
    },
    {
     "data": {
      "text/html": [
       "<text style=color:green>i had such a <text style=color:blue> <i>[lovely]</i></text> day . too bad the rain comes in tomorrow at 5am: 0.0772</text>"
      ],
      "text/plain": [
       "<IPython.core.display.HTML object>"
      ]
     },
     "metadata": {},
     "output_type": "display_data"
    },
    {
     "data": {
      "text/html": [
       "<text style=color:red>i had such a <text style=color:blue> <i>[guy]</i></text> day . too bad the rain comes in tomorrow at 5am: -0.5423</text>"
      ],
      "text/plain": [
       "<IPython.core.display.HTML object>"
      ]
     },
     "metadata": {},
     "output_type": "display_data"
    },
    {
     "data": {
      "text/html": [
       "<text style=color:red>i had such a <text style=color:blue> <i>[nasty]</i></text> day . too bad the rain comes in tomorrow at 5am: -0.7964</text>"
      ],
      "text/plain": [
       "<IPython.core.display.HTML object>"
      ]
     },
     "metadata": {},
     "output_type": "display_data"
    },
    {
     "data": {
      "text/html": [
       "<text style=color:green>i had such a nice day . too <text style=color:blue> <i>[good]</i></text> the rain comes in tomorrow at 5am: 0.6908</text>"
      ],
      "text/plain": [
       "<IPython.core.display.HTML object>"
      ]
     },
     "metadata": {},
     "output_type": "display_data"
    },
    {
     "data": {
      "text/html": [
       "<text style=color:green>i had such a nice day . too <text style=color:blue> <i>[unregretful]</i></text> the rain comes in tomorrow at 5am: 0.4215</text>"
      ],
      "text/plain": [
       "<IPython.core.display.HTML object>"
      ]
     },
     "metadata": {},
     "output_type": "display_data"
    },
    {
     "data": {
      "text/html": [
       "<text style=color:green>i had such a nice day . too <text style=color:blue> <i>[good]</i></text> the rain comes in tomorrow at 5am: 0.6908</text>"
      ],
      "text/plain": [
       "<IPython.core.display.HTML object>"
      ]
     },
     "metadata": {},
     "output_type": "display_data"
    },
    {
     "data": {
      "text/html": [
       "<text style=color:green>i had such a nice day . too <text style=color:blue> <i>[goodness]</i></text> the rain comes in tomorrow at 5am: 0.7003</text>"
      ],
      "text/plain": [
       "<IPython.core.display.HTML object>"
      ]
     },
     "metadata": {},
     "output_type": "display_data"
    },
    {
     "name": "stdout",
     "output_type": "stream",
     "text": [
      "\n",
      "  too bad i will not be around i lost my job and can not even pay my phone bill lmao aw shucks :0.3935\n",
      "\n",
      "Some antonyms for word bad are ['unregretful', 'good', 'goodness']\n",
      "Word bad[JJ] replaced with good[JJ]\n",
      "Word bad[JJ] replaced with unregretful[JJ]\n",
      "Word bad[JJ] replaced with good[JJ]\n",
      "Word bad[JJ] replaced with goodness[JJ]\n",
      "Some antonyms for word lost are ['profit', 'gain', 'won']\n",
      "Word lost[VBD] replaced with won[VBD]\n",
      "Word lost[VBD] replaced with won[VBD]\n",
      "Word lost[VBD] replaced with found[VBD]\n",
      "Word lost[VBD] replaced with saved[VBD]\n",
      "Some antonyms for word pay are ['default']\n",
      "Word pay[VB] replaced with cost[VB]\n",
      "Word pay[VB] replaced with receive[VB]\n",
      "Word pay[VB] replaced with default[VB]\n",
      " --- lmao not in vocabulary ---\n",
      "No replacements found at all for word lmao\n"
     ]
    },
    {
     "data": {
      "text/html": [
       "<text style=color:green>too <text style=color:blue> <i>[good]</i></text> i will not be around i lost my job and can not even pay my phone bill lmao aw shucks: 0.8425</text>"
      ],
      "text/plain": [
       "<IPython.core.display.HTML object>"
      ]
     },
     "metadata": {},
     "output_type": "display_data"
    },
    {
     "data": {
      "text/html": [
       "<text style=color:green>too <text style=color:blue> <i>[unregretful]</i></text> i will not be around i lost my job and can not even pay my phone bill lmao aw shucks: 0.7317</text>"
      ],
      "text/plain": [
       "<IPython.core.display.HTML object>"
      ]
     },
     "metadata": {},
     "output_type": "display_data"
    },
    {
     "data": {
      "text/html": [
       "<text style=color:green>too <text style=color:blue> <i>[good]</i></text> i will not be around i lost my job and can not even pay my phone bill lmao aw shucks: 0.8425</text>"
      ],
      "text/plain": [
       "<IPython.core.display.HTML object>"
      ]
     },
     "metadata": {},
     "output_type": "display_data"
    },
    {
     "data": {
      "text/html": [
       "<text style=color:green>too <text style=color:blue> <i>[goodness]</i></text> i will not be around i lost my job and can not even pay my phone bill lmao aw shucks: 0.8465</text>"
      ],
      "text/plain": [
       "<IPython.core.display.HTML object>"
      ]
     },
     "metadata": {},
     "output_type": "display_data"
    },
    {
     "data": {
      "text/html": [
       "<text style=color:red>too bad i will not be around i <text style=color:blue> <i>[won]</i></text> my job and can not even pay my phone bill lmao aw shucks: -0.3187</text>"
      ],
      "text/plain": [
       "<IPython.core.display.HTML object>"
      ]
     },
     "metadata": {},
     "output_type": "display_data"
    },
    {
     "data": {
      "text/html": [
       "<text style=color:red>too bad i will not be around i <text style=color:blue> <i>[won]</i></text> my job and can not even pay my phone bill lmao aw shucks: -0.3187</text>"
      ],
      "text/plain": [
       "<IPython.core.display.HTML object>"
      ]
     },
     "metadata": {},
     "output_type": "display_data"
    },
    {
     "data": {
      "text/html": [
       "<text style=color:red>too bad i will not be around i <text style=color:blue> <i>[found]</i></text> my job and can not even pay my phone bill lmao aw shucks: 0.1769</text>"
      ],
      "text/plain": [
       "<IPython.core.display.HTML object>"
      ]
     },
     "metadata": {},
     "output_type": "display_data"
    },
    {
     "data": {
      "text/html": [
       "<text style=color:red>too bad i will not be around i <text style=color:blue> <i>[saved]</i></text> my job and can not even pay my phone bill lmao aw shucks: -0.162</text>"
      ],
      "text/plain": [
       "<IPython.core.display.HTML object>"
      ]
     },
     "metadata": {},
     "output_type": "display_data"
    },
    {
     "data": {
      "text/html": [
       "<text style=color:red>too bad i will not be around i lost my job and can not even <text style=color:blue> <i>[cost]</i></text> my phone bill lmao aw shucks: 0.3318</text>"
      ],
      "text/plain": [
       "<IPython.core.display.HTML object>"
      ]
     },
     "metadata": {},
     "output_type": "display_data"
    },
    {
     "data": {
      "text/html": [
       "<text style=color:red>too bad i will not be around i lost my job and can not even <text style=color:blue> <i>[receive]</i></text> my phone bill lmao aw shucks: 0.3318</text>"
      ],
      "text/plain": [
       "<IPython.core.display.HTML object>"
      ]
     },
     "metadata": {},
     "output_type": "display_data"
    },
    {
     "data": {
      "text/html": [
       "<text style=color:red>too bad i will not be around i lost my job and can not even <text style=color:blue> <i>[default]</i></text> my phone bill lmao aw shucks: 0.3318</text>"
      ],
      "text/plain": [
       "<IPython.core.display.HTML object>"
      ]
     },
     "metadata": {},
     "output_type": "display_data"
    },
    {
     "name": "stdout",
     "output_type": "stream",
     "text": [
      "\n",
      " mo jobs no money.  how in the hell is min wage here 4 fn clams an hour:-0.7783\n",
      "\n",
      "Some antonyms for word no are ['yes', 'all']\n",
      "Word no[DT] replaced with any[DT]\n",
      "Word no[DT] replaced with all[DT]\n",
      "Some antonyms for word hell are ['Heaven']\n",
      "Word hell[NN] replaced with heaven[NN]\n",
      "Word hell[NN] replaced with crazy[NN]\n"
     ]
    },
    {
     "data": {
      "text/html": [
       "<text style=color:green>mo jobs <text style=color:blue> <i>[any]</i></text> money . how in the hell is min wage here 4 fn clams an hour: -0.6808</text>"
      ],
      "text/plain": [
       "<IPython.core.display.HTML object>"
      ]
     },
     "metadata": {},
     "output_type": "display_data"
    },
    {
     "data": {
      "text/html": [
       "<text style=color:green>mo jobs <text style=color:blue> <i>[all]</i></text> money . how in the hell is min wage here 4 fn clams an hour: -0.6808</text>"
      ],
      "text/plain": [
       "<IPython.core.display.HTML object>"
      ]
     },
     "metadata": {},
     "output_type": "display_data"
    },
    {
     "data": {
      "text/html": [
       "<text style=color:green>mo jobs no money . how in the <text style=color:blue> <i>[heaven]</i></text> is min wage here 4 fn clams an hour: 0.2732</text>"
      ],
      "text/plain": [
       "<IPython.core.display.HTML object>"
      ]
     },
     "metadata": {},
     "output_type": "display_data"
    },
    {
     "data": {
      "text/html": [
       "<text style=color:green>mo jobs no money . how in the <text style=color:blue> <i>[crazy]</i></text> is min wage here 4 fn clams an hour: -0.5574</text>"
      ],
      "text/plain": [
       "<IPython.core.display.HTML object>"
      ]
     },
     "metadata": {},
     "output_type": "display_data"
    },
    {
     "name": "stdout",
     "output_type": "stream",
     "text": [
      "\n",
      "  agreed i saw the failwhale allllll day today. :0.2732\n",
      "\n",
      "Some antonyms for word agreed are ['disagree']\n",
      " -- No POS approved words! -- for word agreed\n",
      " some non-POS:['agree', 'agreement', 'decided', 'agreeing']\n",
      " -- No new Strings generated ---\n",
      "\n",
      "\n",
      "\n",
      "  oh! haha... dude i dont really look at em unless someone says hey i added you. sorry  i am so terrible at that. i need a pop up!:-0.6459\n",
      "\n",
      "No antonyms found for word haha\n",
      "Word haha[NN] replaced with prude[NN]\n",
      "Word haha[NN] replaced with porpoise[NN]\n",
      "Word haha[NN] replaced with será[NN]\n",
      "Word haha[NN] replaced with clavaria[NN]\n",
      "Word haha[NN] replaced with thunderer[NN]\n",
      "Some antonyms for word sorry are ['unregretful']\n",
      "Word sorry[VB] replaced with glad[VB]\n",
      "Word sorry[VB] replaced with sad[VB]\n",
      "Word sorry[VB] replaced with regret[VB]\n",
      "No antonyms found for word terrible\n",
      "Word terrible[JJ] replaced with horrible[JJ]\n",
      "Word terrible[JJ] replaced with awful[JJ]\n",
      "Word terrible[JJ] replaced with dreadful[JJ]\n",
      "Word terrible[JJ] replaced with horrendous[JJ]\n",
      "Word terrible[JJ] replaced with horrific[JJ]\n",
      "Word terrible[JJ] replaced with tragic[JJ]\n",
      "Word terrible[JJ] replaced with appalling[JJ]\n"
     ]
    },
    {
     "data": {
      "text/html": [
       "<text style=color:DarkGray>oh ! <text style=color:blue> <i>[prude]</i></text> ... dude i dont really look at em unless someone says hey i added you . sorry i am so terrible at that . i need a pop up !: -0.6459</text>"
      ],
      "text/plain": [
       "<IPython.core.display.HTML object>"
      ]
     },
     "metadata": {},
     "output_type": "display_data"
    },
    {
     "data": {
      "text/html": [
       "<text style=color:DarkGray>oh ! <text style=color:blue> <i>[porpoise]</i></text> ... dude i dont really look at em unless someone says hey i added you . sorry i am so terrible at that . i need a pop up !: -0.6459</text>"
      ],
      "text/plain": [
       "<IPython.core.display.HTML object>"
      ]
     },
     "metadata": {},
     "output_type": "display_data"
    },
    {
     "data": {
      "text/html": [
       "<text style=color:DarkGray>oh ! <text style=color:blue> <i>[será]</i></text> ... dude i dont really look at em unless someone says hey i added you . sorry i am so terrible at that . i need a pop up !: -0.6459</text>"
      ],
      "text/plain": [
       "<IPython.core.display.HTML object>"
      ]
     },
     "metadata": {},
     "output_type": "display_data"
    },
    {
     "data": {
      "text/html": [
       "<text style=color:DarkGray>oh ! <text style=color:blue> <i>[clavaria]</i></text> ... dude i dont really look at em unless someone says hey i added you . sorry i am so terrible at that . i need a pop up !: -0.6459</text>"
      ],
      "text/plain": [
       "<IPython.core.display.HTML object>"
      ]
     },
     "metadata": {},
     "output_type": "display_data"
    },
    {
     "data": {
      "text/html": [
       "<text style=color:DarkGray>oh ! <text style=color:blue> <i>[thunderer]</i></text> ... dude i dont really look at em unless someone says hey i added you . sorry i am so terrible at that . i need a pop up !: -0.6459</text>"
      ],
      "text/plain": [
       "<IPython.core.display.HTML object>"
      ]
     },
     "metadata": {},
     "output_type": "display_data"
    },
    {
     "data": {
      "text/html": [
       "<text style=color:green>oh ! haha ... dude i dont really look at em unless someone says hey i added you . <text style=color:blue> <i>[glad]</i></text> i am so terrible at that . i need a pop up !: 0.4924</text>"
      ],
      "text/plain": [
       "<IPython.core.display.HTML object>"
      ]
     },
     "metadata": {},
     "output_type": "display_data"
    },
    {
     "data": {
      "text/html": [
       "<text style=color:green>oh ! haha ... dude i dont really look at em unless someone says hey i added you . <text style=color:blue> <i>[sad]</i></text> i am so terrible at that . i need a pop up !: -0.6221</text>"
      ],
      "text/plain": [
       "<IPython.core.display.HTML object>"
      ]
     },
     "metadata": {},
     "output_type": "display_data"
    },
    {
     "data": {
      "text/html": [
       "<text style=color:green>oh ! haha ... dude i dont really look at em unless someone says hey i added you . <text style=color:blue> <i>[regret]</i></text> i am so terrible at that . i need a pop up !: -0.5827</text>"
      ],
      "text/plain": [
       "<IPython.core.display.HTML object>"
      ]
     },
     "metadata": {},
     "output_type": "display_data"
    },
    {
     "data": {
      "text/html": [
       "<text style=color:green>oh ! haha ... dude i dont really look at em unless someone says hey i added you . sorry i am so <text style=color:blue> <i>[horrible]</i></text> at that . i need a pop up !: -0.3973</text>"
      ],
      "text/plain": [
       "<IPython.core.display.HTML object>"
      ]
     },
     "metadata": {},
     "output_type": "display_data"
    },
    {
     "data": {
      "text/html": [
       "<text style=color:green>oh ! haha ... dude i dont really look at em unless someone says hey i added you . sorry i am so <text style=color:blue> <i>[awful]</i></text> at that . i need a pop up !: -0.2908</text>"
      ],
      "text/plain": [
       "<IPython.core.display.HTML object>"
      ]
     },
     "metadata": {},
     "output_type": "display_data"
    },
    {
     "data": {
      "text/html": [
       "<text style=color:green>oh ! haha ... dude i dont really look at em unless someone says hey i added you . sorry i am so <text style=color:blue> <i>[dreadful]</i></text> at that . i need a pop up !: -0.2679</text>"
      ],
      "text/plain": [
       "<IPython.core.display.HTML object>"
      ]
     },
     "metadata": {},
     "output_type": "display_data"
    },
    {
     "data": {
      "text/html": [
       "<text style=color:green>oh ! haha ... dude i dont really look at em unless someone says hey i added you . sorry i am so <text style=color:blue> <i>[horrendous]</i></text> at that . i need a pop up !: -0.4547</text>"
      ],
      "text/plain": [
       "<IPython.core.display.HTML object>"
      ]
     },
     "metadata": {},
     "output_type": "display_data"
    },
    {
     "data": {
      "text/html": [
       "<text style=color:green>oh ! haha ... dude i dont really look at em unless someone says hey i added you . sorry i am so <text style=color:blue> <i>[horrific]</i></text> at that . i need a pop up !: -0.554</text>"
      ],
      "text/plain": [
       "<IPython.core.display.HTML object>"
      ]
     },
     "metadata": {},
     "output_type": "display_data"
    },
    {
     "data": {
      "text/html": [
       "<text style=color:green>oh ! haha ... dude i dont really look at em unless someone says hey i added you . sorry i am so <text style=color:blue> <i>[tragic]</i></text> at that . i need a pop up !: -0.2908</text>"
      ],
      "text/plain": [
       "<IPython.core.display.HTML object>"
      ]
     },
     "metadata": {},
     "output_type": "display_data"
    },
    {
     "data": {
      "text/html": [
       "<text style=color:green>oh ! haha ... dude i dont really look at em unless someone says hey i added you . sorry i am so <text style=color:blue> <i>[appalling]</i></text> at that . i need a pop up !: -0.1722</text>"
      ],
      "text/plain": [
       "<IPython.core.display.HTML object>"
      ]
     },
     "metadata": {},
     "output_type": "display_data"
    },
    {
     "name": "stdout",
     "output_type": "stream",
     "text": [
      "\n",
      "  i am sure you are right...    i need to start working out with you and the nikster... or jared at least!:0.3802\n",
      "\n",
      "Some antonyms for word sure are ['unsure', 'uncertain']\n",
      "Word sure[JJ] replaced with uncertain[JJ]\n"
     ]
    },
    {
     "data": {
      "text/html": [
       "<text style=color:red>i am <text style=color:blue> <i>[uncertain]</i></text> you are right ... i need to start working out with you and the nikster ... or jared at least !: -0.3595</text>"
      ],
      "text/plain": [
       "<IPython.core.display.HTML object>"
      ]
     },
     "metadata": {},
     "output_type": "display_data"
    },
    {
     "name": "stdout",
     "output_type": "stream",
     "text": [
      "\n",
      " i really hate how people diss my bands!  trace is clearly not ugly!:0.2484\n",
      "\n",
      "Some antonyms for word hate are ['love']\n",
      "Word hate[VB] replaced with racist[VB]\n",
      "Word hate[VB] replaced with racism[VB]\n",
      "Word hate[VB] replaced with fear[VB]\n",
      "Word hate[VB] replaced with bigotry[VB]\n",
      "Word hate[VB] replaced with love[VB]\n",
      "Some antonyms for word clearly are ['unintelligibly']\n",
      "Word clearly[RB] replaced with obviously[RB]\n",
      "Word clearly[RB] replaced with certainly[RB]\n",
      "Word clearly[RB] replaced with indeed[RB]\n",
      "Word clearly[RB] replaced with nonetheless[RB]\n",
      "Word clearly[RB] replaced with unintelligibly[RB]\n",
      "Some antonyms for word ugly are ['beautiful']\n",
      " -- No POS approved words! -- for word ugly\n",
      " some non-POS:['nasty', 'awful', 'horrible', 'stupid']\n"
     ]
    },
    {
     "data": {
      "text/html": [
       "<text style=color:red>i really <text style=color:blue> <i>[racist]</i></text> how people diss my bands ! trace is clearly not ugly !: 0.1761</text>"
      ],
      "text/plain": [
       "<IPython.core.display.HTML object>"
      ]
     },
     "metadata": {},
     "output_type": "display_data"
    },
    {
     "data": {
      "text/html": [
       "<text style=color:red>i really <text style=color:blue> <i>[racism]</i></text> how people diss my bands ! trace is clearly not ugly !: 0.1513</text>"
      ],
      "text/plain": [
       "<IPython.core.display.HTML object>"
      ]
     },
     "metadata": {},
     "output_type": "display_data"
    },
    {
     "data": {
      "text/html": [
       "<text style=color:green>i really <text style=color:blue> <i>[fear]</i></text> how people diss my bands ! trace is clearly not ugly !: 0.3597</text>"
      ],
      "text/plain": [
       "<IPython.core.display.HTML object>"
      ]
     },
     "metadata": {},
     "output_type": "display_data"
    },
    {
     "data": {
      "text/html": [
       "<text style=color:green>i really <text style=color:blue> <i>[bigotry]</i></text> how people diss my bands ! trace is clearly not ugly !: 0.7172</text>"
      ],
      "text/plain": [
       "<IPython.core.display.HTML object>"
      ]
     },
     "metadata": {},
     "output_type": "display_data"
    },
    {
     "data": {
      "text/html": [
       "<text style=color:green>i really <text style=color:blue> <i>[love]</i></text> how people diss my bands ! trace is clearly not ugly !: 0.888</text>"
      ],
      "text/plain": [
       "<IPython.core.display.HTML object>"
      ]
     },
     "metadata": {},
     "output_type": "display_data"
    },
    {
     "data": {
      "text/html": [
       "<text style=color:red>i really hate how people diss my bands ! trace is <text style=color:blue> <i>[obviously]</i></text> not ugly !: -0.4357</text>"
      ],
      "text/plain": [
       "<IPython.core.display.HTML object>"
      ]
     },
     "metadata": {},
     "output_type": "display_data"
    },
    {
     "data": {
      "text/html": [
       "<text style=color:red>i really hate how people diss my bands ! trace is <text style=color:blue> <i>[certainly]</i></text> not ugly !: 0.1761</text>"
      ],
      "text/plain": [
       "<IPython.core.display.HTML object>"
      ]
     },
     "metadata": {},
     "output_type": "display_data"
    },
    {
     "data": {
      "text/html": [
       "<text style=color:red>i really hate how people diss my bands ! trace is <text style=color:blue> <i>[indeed]</i></text> not ugly !: -0.4357</text>"
      ],
      "text/plain": [
       "<IPython.core.display.HTML object>"
      ]
     },
     "metadata": {},
     "output_type": "display_data"
    },
    {
     "data": {
      "text/html": [
       "<text style=color:red>i really hate how people diss my bands ! trace is <text style=color:blue> <i>[nonetheless]</i></text> not ugly !: -0.4357</text>"
      ],
      "text/plain": [
       "<IPython.core.display.HTML object>"
      ]
     },
     "metadata": {},
     "output_type": "display_data"
    },
    {
     "data": {
      "text/html": [
       "<text style=color:red>i really hate how people diss my bands ! trace is <text style=color:blue> <i>[unintelligibly]</i></text> not ugly !: -0.4357</text>"
      ],
      "text/plain": [
       "<IPython.core.display.HTML object>"
      ]
     },
     "metadata": {},
     "output_type": "display_data"
    },
    {
     "name": "stdout",
     "output_type": "stream",
     "text": [
      "\n",
      " gym attire today was puma singlet adidas shorts.......and black business socks and leather shoes  lucky did not run into any cute girls.:0.7003\n",
      "\n",
      "Some antonyms for word lucky are ['unlucky']\n",
      "Word lucky[RB] replaced with unlucky[RB]\n",
      "Word lucky[RB] replaced with maybe[RB]\n",
      "Word lucky[RB] replaced with unlucky[RB]\n",
      "No antonyms found for word cute\n",
      "Word cute[JJ] replaced with adorable[JJ]\n",
      "Word cute[JJ] replaced with goofy[JJ]\n",
      "Word cute[JJ] replaced with sexy[JJ]\n",
      "Word cute[JJ] replaced with cuddly[JJ]\n",
      "Word cute[JJ] replaced with funny[JJ]\n",
      "Word cute[JJ] replaced with perky[JJ]\n",
      "Word cute[JJ] replaced with naughty[JJ]\n"
     ]
    },
    {
     "data": {
      "text/html": [
       "<text style=color:red>gym attire today was puma singlet adidas shorts ... ... .and black business socks and leather shoes <text style=color:blue> <i>[unlucky]</i></text> did not run into any cute girls .: 0.4588</text>"
      ],
      "text/plain": [
       "<IPython.core.display.HTML object>"
      ]
     },
     "metadata": {},
     "output_type": "display_data"
    },
    {
     "data": {
      "text/html": [
       "<text style=color:red>gym attire today was puma singlet adidas shorts ... ... .and black business socks and leather shoes <text style=color:blue> <i>[maybe]</i></text> did not run into any cute girls .: 0.4588</text>"
      ],
      "text/plain": [
       "<IPython.core.display.HTML object>"
      ]
     },
     "metadata": {},
     "output_type": "display_data"
    },
    {
     "data": {
      "text/html": [
       "<text style=color:red>gym attire today was puma singlet adidas shorts ... ... .and black business socks and leather shoes <text style=color:blue> <i>[unlucky]</i></text> did not run into any cute girls .: 0.4588</text>"
      ],
      "text/plain": [
       "<IPython.core.display.HTML object>"
      ]
     },
     "metadata": {},
     "output_type": "display_data"
    },
    {
     "data": {
      "text/html": [
       "<text style=color:green>gym attire today was puma singlet adidas shorts ... ... .and black business socks and leather shoes lucky did not run into any <text style=color:blue> <i>[adorable]</i></text> girls .: 0.7184</text>"
      ],
      "text/plain": [
       "<IPython.core.display.HTML object>"
      ]
     },
     "metadata": {},
     "output_type": "display_data"
    },
    {
     "data": {
      "text/html": [
       "<text style=color:red>gym attire today was puma singlet adidas shorts ... ... .and black business socks and leather shoes lucky did not run into any <text style=color:blue> <i>[goofy]</i></text> girls .: 0.4215</text>"
      ],
      "text/plain": [
       "<IPython.core.display.HTML object>"
      ]
     },
     "metadata": {},
     "output_type": "display_data"
    },
    {
     "data": {
      "text/html": [
       "<text style=color:green>gym attire today was puma singlet adidas shorts ... ... .and black business socks and leather shoes lucky did not run into any <text style=color:blue> <i>[sexy]</i></text> girls .: 0.7351</text>"
      ],
      "text/plain": [
       "<IPython.core.display.HTML object>"
      ]
     },
     "metadata": {},
     "output_type": "display_data"
    },
    {
     "data": {
      "text/html": [
       "<text style=color:red>gym attire today was puma singlet adidas shorts ... ... .and black business socks and leather shoes lucky did not run into any <text style=color:blue> <i>[cuddly]</i></text> girls .: 0.4215</text>"
      ],
      "text/plain": [
       "<IPython.core.display.HTML object>"
      ]
     },
     "metadata": {},
     "output_type": "display_data"
    },
    {
     "data": {
      "text/html": [
       "<text style=color:red>gym attire today was puma singlet adidas shorts ... ... .and black business socks and leather shoes lucky did not run into any <text style=color:blue> <i>[funny]</i></text> girls .: 0.6908</text>"
      ],
      "text/plain": [
       "<IPython.core.display.HTML object>"
      ]
     },
     "metadata": {},
     "output_type": "display_data"
    },
    {
     "data": {
      "text/html": [
       "<text style=color:red>gym attire today was puma singlet adidas shorts ... ... .and black business socks and leather shoes lucky did not run into any <text style=color:blue> <i>[perky]</i></text> girls .: 0.4215</text>"
      ],
      "text/plain": [
       "<IPython.core.display.HTML object>"
      ]
     },
     "metadata": {},
     "output_type": "display_data"
    },
    {
     "data": {
      "text/html": [
       "<text style=color:red>gym attire today was puma singlet adidas shorts ... ... .and black business socks and leather shoes lucky did not run into any <text style=color:blue> <i>[naughty]</i></text> girls .: 0.4215</text>"
      ],
      "text/plain": [
       "<IPython.core.display.HTML object>"
      ]
     },
     "metadata": {},
     "output_type": "display_data"
    }
   ],
   "source": [
    "def runThroughTweets():\n",
    "    \n",
    "    tweets_df = pd.read_csv( pathToDatasets + 'cleanedTweets.csv' , nrows=NUM_OF_TWEETS, skiprows=TWEET_START)\n",
    "\n",
    "    tweets = tweets_df.values\n",
    "\n",
    "    listOfObjects = []\n",
    "    for counter,tweet in enumerate(tweets):\n",
    "        tweet = tweet[0]\n",
    "        mainSentiment = senty.polarity_scores(tweet)['compound']\n",
    "        if(mainSentiment == 0):\n",
    "            continue\n",
    "        print(\"\\n {0}:{1}\\n\".format(tweet,mainSentiment))   \n",
    "        sentenceObj = Sentence(tweet, mainSentiment)\n",
    "        sentenceObj = getAlternativeSentences(sentenceObj)\n",
    "        alternateTweets = (sentenceObj.alternateSentences)[:]\n",
    "        if(alternateTweets == [] or alternateTweets == None):\n",
    "            print(\" -- No new Strings generated ---\\n\\n\")\n",
    "            continue\n",
    "#         sentenceObj = shiftSentiment(sentenceObj, True);\n",
    "#         printStrings(sentenceObj)\n",
    "        sentenceObj = shiftSentiment(sentenceObj, False);\n",
    "        printStrings(sentenceObj)\n",
    "    \n",
    "runThroughTweets()\n",
    "        \n",
    "        \n",
    "    "
   ]
  },
  {
   "cell_type": "code",
   "execution_count": null,
   "metadata": {},
   "outputs": [],
   "source": []
  }
 ],
 "metadata": {
  "kernelspec": {
   "display_name": "Python 3",
   "language": "python",
   "name": "python3"
  },
  "language_info": {
   "codemirror_mode": {
    "name": "ipython",
    "version": 3
   },
   "file_extension": ".py",
   "mimetype": "text/x-python",
   "name": "python",
   "nbconvert_exporter": "python",
   "pygments_lexer": "ipython3",
   "version": "3.6.5"
  }
 },
 "nbformat": 4,
 "nbformat_minor": 2
}
