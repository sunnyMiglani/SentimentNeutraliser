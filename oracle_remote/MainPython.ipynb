{
 "cells": [
  {
   "cell_type": "markdown",
   "metadata": {},
   "source": [
    "## Import Statements"
   ]
  },
  {
   "cell_type": "code",
   "execution_count": 118,
   "metadata": {},
   "outputs": [
    {
     "data": {
      "text/html": [
       "<style>.container { width:85% !important; }</style>"
      ],
      "text/plain": [
       "<IPython.core.display.HTML object>"
      ]
     },
     "metadata": {},
     "output_type": "display_data"
    }
   ],
   "source": [
    "import gensim.downloader as api\n",
    "import numpy as np\n",
    "import re\n",
    "import csv\n",
    "import pandas as pd\n",
    "import pprint\n",
    "import string\n",
    "import nltk\n",
    "import sys\n",
    "import spacy\n",
    "import os\n",
    "import pickle\n",
    "    \n",
    "from IPython.display import HTML\n",
    "from nltk.corpus import wordnet \n",
    "from sklearn.manifold import TSNE\n",
    "from gensim.models import Word2Vec\n",
    "from gensim.models import KeyedVectors\n",
    "\n",
    "from nltk.sentiment.vader import SentimentIntensityAnalyzer\n",
    "from nltk.tokenize import word_tokenize\n",
    "\n",
    "pathToDatasets = '../datasets/'\n",
    "pathToDataScripts = '../datasets/scripts/'\n",
    "filePath = '../datasets/GoogleNews-vectors-negative300.bin'\n",
    "# modelBeingUsed = \"glove-wiki-gigaword-300\"\n",
    "# modelBeingUsed = \"glove-wiki-gigaword-100\"\n",
    "# modelBeingUsed = \"glove-twitter-50\"\n",
    "# modelBeingUsed = \"glove-twitter-100\"\n",
    "modelBeingUsed = \"glove-twitter-200\"\n",
    "\n",
    "sys.path.insert(0, pathToDataScripts)\n",
    "from cleanDataset import tokenize_words, dataClean\n",
    "\n",
    "\n",
    "from IPython.core.display import display, HTML\n",
    "display(HTML(\"<style>.container { width:85% !important; }</style>\"))"
   ]
  },
  {
   "cell_type": "markdown",
   "metadata": {},
   "source": [
    "## Downloading binaries and models\n"
   ]
  },
  {
   "cell_type": "code",
   "execution_count": 119,
   "metadata": {},
   "outputs": [
    {
     "name": "stdout",
     "output_type": "stream",
     "text": [
      "Should I reload the model?\n",
      "\n",
      "loading glove-twitter-200!\n",
      "loading via pickle!\n",
      "Model Loaded!\n"
     ]
    },
    {
     "name": "stderr",
     "output_type": "stream",
     "text": [
      "[nltk_data] Downloading package vader_lexicon to\n",
      "[nltk_data]     /home/ubuntu/nltk_data...\n",
      "[nltk_data]   Package vader_lexicon is already up-to-date!\n",
      "[nltk_data] Downloading package punkt to /home/ubuntu/nltk_data...\n",
      "[nltk_data]   Package punkt is already up-to-date!\n",
      "[nltk_data] Downloading package averaged_perceptron_tagger to\n",
      "[nltk_data]     /home/ubuntu/nltk_data...\n",
      "[nltk_data]   Package averaged_perceptron_tagger is already up-to-\n",
      "[nltk_data]       date!\n",
      "[nltk_data] Downloading package wordnet to /home/ubuntu/nltk_data...\n",
      "[nltk_data]   Package wordnet is already up-to-date!\n"
     ]
    }
   ],
   "source": [
    "print(\"Should I reload the model?\")\n",
    "tstString = input()\n",
    "if(\"no\" in tstString.lower() or \"n\" in tstString.lower()):\n",
    "    print(\" didnt reload model! \")\n",
    "else:\n",
    "    print(\"loading {0}!\".format(modelBeingUsed));\n",
    "    fileName = \"{}.pickle\".format(modelBeingUsed)\n",
    "    if(os.path.exists(pathToDatasets+fileName)):\n",
    "        print(\"loading via pickle!\")\n",
    "        pickle_in = open(pathToDatasets+fileName, \"rb\")\n",
    "        word_vectors = pickle.load(pickle_in);\n",
    "    else:\n",
    "        print(\"Pickle didn't exist, therefore loading model!\")\n",
    "        word_vectors = api.load(\"{0}\".format(modelBeingUsed))\n",
    "        print(\"-- Saving to pickle file for next time! --\")\n",
    "        pickle_out = open(pathToDatasets+fileName,\"wb\")\n",
    "        pickle.dump(word_vectors, pickle_out)\n",
    "        pickle_out.close()\n",
    "    nltk.download('vader_lexicon')\n",
    "    nltk.download('punkt')\n",
    "    nltk.download('averaged_perceptron_tagger')\n",
    "    nltk.download('wordnet')\n",
    "    print(\"Model Loaded!\")"
   ]
  },
  {
   "cell_type": "markdown",
   "metadata": {},
   "source": [
    "## Global Variables and Global Objects"
   ]
  },
  {
   "cell_type": "code",
   "execution_count": 120,
   "metadata": {},
   "outputs": [],
   "source": [
    "senty = SentimentIntensityAnalyzer()\n",
    "vocabulary = word_vectors.vocab;\n",
    "\n",
    "nlp = spacy.load('en')\n",
    "\n",
    "\n",
    "NUMBER_OF_ALTERNATIVES = 7\n",
    "TWEET_START = 300\n",
    "NUM_OF_TWEETS = 100\n",
    "\n",
    "\n",
    "VERBOSE_PRINTING = True\n",
    "# VERBOSE_PRINTING = False\n",
    "\n",
    "# USE_SPACY = False\n",
    "USE_SPACY = True\n",
    "\n",
    "COLOR_PRINTING = True\n",
    "#COLOR_PRINTING = False\n",
    "\n",
    "PRINT_NEUTRAL = True\n",
    "# PRINT_NEUTRAL = False\n",
    "\n",
    "# PRINT_ALL_STRINGS = True\n",
    "PRINT_ALL_STRINGS = False\n",
    "\n",
    "SHOW_ALTS = 10\n",
    "\n",
    "punctuation = r\"\\\"#$%&'+-/;<=>?@[\\]*^_`{|}~\"\n",
    "LIST_OF_NEGATIONS = [\"not\"]"
   ]
  },
  {
   "cell_type": "markdown",
   "metadata": {},
   "source": [
    "## Class for Sentences\n"
   ]
  },
  {
   "cell_type": "code",
   "execution_count": 121,
   "metadata": {},
   "outputs": [],
   "source": [
    "from SentenceClass import *"
   ]
  },
  {
   "cell_type": "markdown",
   "metadata": {},
   "source": [
    "## Utility Code"
   ]
  },
  {
   "cell_type": "code",
   "execution_count": 122,
   "metadata": {},
   "outputs": [],
   "source": [
    "def printStrings(sentenceObj):\n",
    "    \n",
    "    numberOfPrints = 0\n",
    "    newStrings = generateHTMLObjectsFromSentence(sentenceObj)\n",
    "    mainSentiment = sentenceObj.ogSentiment;\n",
    "    listOfSentencesWithSentiments = []\n",
    "    bestSentiment = -sys.maxsize - 1\n",
    "    worstSentiment = sys.maxsize\n",
    "    \n",
    "    bestSentimentString = \"\";\n",
    "    worstSentimentString = \"\";\n",
    "    \n",
    "    for ind, tSentence in enumerate(newStrings):\n",
    "            alteredTweet = tSentence.getSentence()\n",
    "            htmlText = tSentence.getHTML()\n",
    "            sentimentOfNewString = senty.polarity_scores(alteredTweet)['compound']\n",
    "            newObj = SentenceWithSentiment(alteredTweet, sentimentOfNewString, htmlText)\n",
    "            listOfSentencesWithSentiments.append(newObj)\n",
    "            \n",
    "            if(sentimentOfNewString >= bestSentiment):\n",
    "                bestSentiment = sentimentOfNewString\n",
    "                bestSentimentString = htmlText;\n",
    "            elif(sentimentOfNewString < worstSentiment):\n",
    "                worstSentiment = sentimentOfNewString\n",
    "                worstSentimentString = htmlText;\n",
    "            \n",
    "            \n",
    "            numberOfPrints+=1;\n",
    "            if(numberOfPrints > SHOW_ALTS or PRINT_ALL_STRINGS == False): continue\n",
    "            if(sentimentOfNewString == mainSentiment or sentimentOfNewString == 0.0):\n",
    "                if(PRINT_ALL_STRINGS and numberOfPrints <= SHOW_ALTS): displayText(\"{0}: {1}\".format(htmlText,sentimentOfNewString),'black')\n",
    "            elif(sentimentOfNewString > mainSentiment):\n",
    "                if(PRINT_ALL_STRINGS and numberOfPrints <= SHOW_ALTS): displayText(\"{0}: {1}\".format(htmlText,sentimentOfNewString),'green')\n",
    "            elif(sentimentOfNewString < mainSentiment and sentimentOfNewString != 0.0):\n",
    "                if(PRINT_ALL_STRINGS and numberOfPrints <= SHOW_ALTS): displayText(\"{0}: {1}\".format(htmlText,sentimentOfNewString),'red')\n",
    "                \n",
    "    if(numberOfPrints > SHOW_ALTS): print(\"--- More options (total: {0}) possible, but not printed ---\".format(numberOfPrints));\n",
    "    displayText(\"Actual Sentence: {0} :{1}\".format(sentenceObj.ogSentence, sentenceObj.ogSentiment))\n",
    "    if (worstSentimentString != \"\"): displayText(\"Worst Sentence: {0} : {1}\".format(worstSentimentString, worstSentiment), color='red')\n",
    "    if (bestSentimentString != \"\"): displayText(\"Best Sentence: {0} : {1}\".format(bestSentimentString, bestSentiment), color='green') \n",
    "    \n",
    "    \n",
    "    sentenceObj.addFinalSentences(listOfSentencesWithSentiments)\n",
    "    return listOfSentencesWithSentiments, sentenceObj;\n",
    "\n",
    "def cstr(s, color='black', italics=False):\n",
    "    if(COLOR_PRINTING):\n",
    "        if(italics):\n",
    "            return cstr(\"<i>{0}</i>\".format(s), color);\n",
    "        return \"<text style=color:{}>{}</text>\".format(color, s)\n",
    "    else:\n",
    "        return \"{}\".format(s)\n",
    "\n",
    "def displayText(text, color='black'):\n",
    "    if(COLOR_PRINTING):\n",
    "        display(HTML(cstr(text, color)));\n",
    "        return\n",
    "    print(\"{}\".format(text));\n",
    "    \n",
    "    \n",
    "def cleanAndTokenizeText(text):\n",
    "    text = text.lower();\n",
    "    newString = \"\"\n",
    "    for char in text:\n",
    "        if char not in punctuation:\n",
    "            newString += char\n",
    "    text = word_tokenize(newString)\n",
    "    return text;\n",
    "\n",
    "def getPOSTags(tweet):\n",
    "    if(USE_SPACY == False):\n",
    "        tags = nltk.pos_tag(tweet)\n",
    "        return tags;    \n",
    "    tweet = ' '.join(tweet)\n",
    "    doc = nlp(tweet)\n",
    "    tags = [(token.text, token.tag_) for token in doc] # since the format expected is [text,tag]\n",
    "    return tags\n",
    "\n",
    "def getAntonymsAndSynonymsOfWords(word):\n",
    "    if(word not in vocabulary):\n",
    "        return [], []\n",
    "    setOfAntonyms = set()\n",
    "    setOfSynonyms = set()\n",
    "    for syn in wordnet.synsets(word):\n",
    "        for l in syn.lemmas():\n",
    "            setOfSynonyms.add(l.name().lower())\n",
    "            anton = l.antonyms()\n",
    "            if(anton!=[]):\n",
    "                setOfAntonyms.add(anton[0].name().lower())\n",
    "    if(len(setOfAntonyms) == 0):\n",
    "        if(VERBOSE_PRINTING): print(\"No antonyms found for word {0}\".format(word))\n",
    "    if(len(setOfSynonyms) == 0):\n",
    "        if(VERBOSE_PRINTING): print(\"No synonyms found for word {0}\".format(word))\n",
    "            \n",
    "    return list(setOfAntonyms), list(setOfSynonyms)\n",
    "\n",
    "\n",
    "def returnReplacementsForWord(word):\n",
    "    \n",
    "    if(word not in vocabulary):\n",
    "        print(\" --- {0} not in vocabulary ---\".format(word))\n",
    "        return []\n",
    "    possibleReplacements = [word[0] for word in word_vectors.most_similar(word,topn=NUMBER_OF_ALTERNATIVES)]\n",
    "    \n",
    "    if(possibleReplacements == []):\n",
    "        print(\" --- No replacements for word {0} ---\".format(word))\n",
    "    antonyms,synonyms = getAntonymsAndSynonymsOfWords(word)\n",
    "    \n",
    "    if(antonyms != []):\n",
    "        possibleReplacements.extend(antonyms)\n",
    "        if(VERBOSE_PRINTING): print(\"Some antonyms for word {0} are {1}\".format(word, antonyms[:3]))\n",
    "    if(synonyms != []):\n",
    "        possibleReplacements.extend(synonyms)\n",
    "        if(VERBOSE_PRINTING): print(\"Some synonyms for word {0} are {1}\".format(word, synonyms[:3]))\n",
    "    return possibleReplacements\n",
    "    \n",
    "def posApprovedReplacements(alternativeWords, userTokens, indexOfToken):\n",
    "    if(alternativeWords == []):\n",
    "        return []\n",
    "    tempTokens = userTokens[:]\n",
    "    POSTokens = getPOSTags(tempTokens)\n",
    "    validWords = []\n",
    "    \n",
    "    mainTag = POSTokens[indexOfToken][1]\n",
    "    mainWord = userTokens[indexOfToken]\n",
    "    \n",
    "    for ind,word in enumerate(alternativeWords):\n",
    "        if(\"_\" in word): continue\n",
    "        tempTokens[indexOfToken] = word\n",
    "        posTags = getPOSTags(tempTokens)\n",
    "        newTag = (posTags[indexOfToken])[1]\n",
    "        if(str(newTag) == str(mainTag)):\n",
    "#             if(VERBOSE_PRINTING): print(\"Word {0}[{1}] matched with {2}[{3}]\".format(mainWord, mainTag, word,newTag))\n",
    "            validWords.append(word)\n",
    "    if(validWords == [] and VERBOSE_PRINTING):\n",
    "        print(\"No POS words found for word {} with tag {}\".format(mainWord, mainTag));\n",
    "    return validWords\n",
    "    \n",
    "\n",
    "def removeNegationsFromSentence(sentenceObj):\n",
    "    finalSentenceObjects = sentenceObj.getFinalSentences();\n",
    "    newObjs = []\n",
    "    counterOfRemovals = 0\n",
    "    for obj in finalSentenceObjects:\n",
    "        thisSentence = cleanAndTokenizeText(obj.getSentence());\n",
    "        for word in LIST_OF_NEGATIONS:\n",
    "            if(word in thisSentence):\n",
    "                notIndex = thisSentence.index(word)\n",
    "                if(notIndex >= len(thisSentence) - 1): continue\n",
    "#                 if(senty.polarity_scores(thisSentence[notIndex+1])['compound'] != 0):\n",
    "                newSentence = thisSentence[:notIndex] + thisSentence[notIndex+1:] # indexing works as [)\n",
    "                newSentence = ' '.join(newSentence)\n",
    "                newSentiment = senty.polarity_scores(newSentence)['compound']\n",
    "                newObjs.append(SentenceWithSentiment(newSentence, newSentiment))\n",
    "                sentenceObj.addAlternativesByIndex(notIndex,[\"IGNORE_FLAG\"])\n",
    "                counterOfRemovals+=1\n",
    "    if(VERBOSE_PRINTING): print(\"number of negations removed: {0}\".format(counterOfRemovals))\n",
    "    sentenceObj.addFinalSentences(newObjs)\n",
    "    return sentenceObj\n",
    "\n",
    "\n",
    "def generateHTMLObjectsFromSentence(sentenceObj):\n",
    "    \n",
    "    allSentences = sentenceObj.getFinalSentences()\n",
    "    indexToAlts = sentenceObj.indexToSetOfWords;\n",
    "    indexToChange = list(indexToAlts.keys());\n",
    "    \n",
    "    listOfSentenceObjs = []\n",
    "    for t_sentenceObj in allSentences:\n",
    "        sentence = t_sentenceObj.getSentence()\n",
    "        copySentence = cleanAndTokenizeText(sentence)\n",
    "        for index in indexToChange:\n",
    "            if(index >= len(copySentence)): continue\n",
    "            if(\"IGNORE_FLAG\" in indexToAlts[index] and copySentence[index] in LIST_OF_NEGATIONS): continue\n",
    "            copySentence[index] = cstr(\"[{0}]\".format(copySentence[index]), \"blue\", italics=True);\n",
    "        listOfSentenceObjs.append(SentenceWithHTML(sentence, ' '.join(copySentence)));\n",
    "    \n",
    "    return listOfSentenceObjs\n",
    "\n",
    "    \n",
    "    "
   ]
  },
  {
   "cell_type": "markdown",
   "metadata": {},
   "source": [
    "## Sentence Chunking and Appending"
   ]
  },
  {
   "cell_type": "code",
   "execution_count": 123,
   "metadata": {},
   "outputs": [],
   "source": [
    "def helper_combine(mainList, myList):\n",
    "    '''\n",
    "    helper function for CombineSentenceChunks\n",
    "    '''\n",
    "    newList = []\n",
    "    for val in myList:\n",
    "        for mainVal in mainList:\n",
    "#             if(VERBOSE_PRINTING): print(\"Combining {0} with {1}\".format(' '.join(val), ' '.join(mainVal)));\n",
    "            newList.append(val + mainVal);\n",
    "    return newList;\n",
    "\n",
    "def combineSentenceChunks(wholeSentence, dictOfChunks):\n",
    "    '''\n",
    "        Uses the helper_combine function to generate all possible combinatios and permuations of the chunks\n",
    "        and any alternatives.\n",
    "        \n",
    "        The logic is to use the end of the sentence, apply each possible chunk from the previous key's chunks\n",
    "        to every possible chunk of this key's.\n",
    "        \n",
    "        The helper function is used to allow us to reuse the list of alreadyGeneratedChunks and constantly\n",
    "        append to them.\n",
    "        \n",
    "        To understand the logic better, take a look at this gist:\n",
    "        https://gist.github.com/sunnyMiglani/cf85407a9e6928237b1436cc2bc95fa4\n",
    "        \n",
    "    '''\n",
    "    reversedKeys = sorted(dictOfChunks.keys(), reverse=True)\n",
    "    completeSentences = [];\n",
    "    mainArr = dictOfChunks[reversedKeys[0]]\n",
    "    for ind in range(1, len(reversedKeys)):\n",
    "        key = reversedKeys[ind];\n",
    "        mainArr = helper_combine(mainArr, dictOfChunks[key]);\n",
    "        \n",
    "    return mainArr;\n",
    "        \n",
    "def generateSentenceChunks(wholeSentence, keyToChange, nextKey, listOfMyAlternatives):\n",
    "    '''\n",
    "        Generates sentence chunks by iterating through the list of alternatives\n",
    "        Chunking the sentence to start from current key to next key.\n",
    "        This means that the sentence always goes from key 'x' to key 'y'\n",
    "        \n",
    "        Example:\n",
    "        \"I really <hate> hot chocolate, but I <prefer> hot coffee\"\n",
    "        Calling generateSentenceChunks will create an example sentence:\n",
    "            - \"<altWordForHate> hot chocolate , but I \"\n",
    "        \n",
    "        Remember to append the first stretch of the string to the first key's chunk for proper use!\n",
    "    '''\n",
    "    \n",
    "    newList = list(listOfMyAlternatives)\n",
    "    newList.append(wholeSentence[keyToChange]);\n",
    "    generatedSentences = []\n",
    "    for myAlt in newList:\n",
    "        newSentence = wholeSentence[:]\n",
    "        newSentence[keyToChange] = myAlt\n",
    "#         if(VERBOSE_PRINTING): print(\"Generated : {}\".format(newSentence[keyToChange:nextKey]))\n",
    "        generatedSentences.append(newSentence[keyToChange:nextKey]);\n",
    "        \n",
    "    return generatedSentences\n",
    "    \n",
    "def returnCombinationsOfStrings(sentenceObj):\n",
    "    \n",
    "    indexToWordDict = sentenceObj.indexToSetOfWords;\n",
    "    originalSentence = sentenceObj.ogSentence;\n",
    "    tokenizedSentence = cleanAndTokenizeText(originalSentence)\n",
    "    reversedKeys = sorted(indexToWordDict.keys(), reverse=True)\n",
    "    dictAlternatives  = {}\n",
    "\n",
    "    sortedKeys = sorted(indexToWordDict.keys())\n",
    "    sentenceChunks = {}\n",
    "    htmlChunks = {}\n",
    "    \n",
    "    for ind in range(0,len(sortedKeys)):\n",
    "        key = sortedKeys[ind]\n",
    "        nextKey = sortedKeys[ind+1] if ind+1 < len(sortedKeys) else len(tokenizedSentence)\n",
    "        sentenceChunks[key] = generateSentenceChunks(tokenizedSentence, key, nextKey, indexToWordDict[key])\n",
    "\n",
    "    if(sortedKeys[0] != 0):\n",
    "        newList = []\n",
    "        for thislist in sentenceChunks[sortedKeys[0]]:\n",
    "            newList.append(tokenizedSentence[0:sortedKeys[0]] + thislist)\n",
    "        sentenceChunks[sortedKeys[0]] = newList;\n",
    "        \n",
    "    finalOptions = combineSentenceChunks(tokenizedSentence, sentenceChunks)\n",
    "    \n",
    "    finalSentences = []\n",
    "    for val in finalOptions:\n",
    "        sentence = ' '.join(val)\n",
    "        sentiment = senty.polarity_scores(sentence)['compound']\n",
    "        finalSentences.append(SentenceWithSentiment(sentence,sentiment))\n",
    "    \n",
    "    sentenceObj.addFinalSentences(finalSentences)   \n",
    "    return sentenceObj\n",
    "\n",
    "\n",
    "\n",
    "        "
   ]
  },
  {
   "cell_type": "code",
   "execution_count": 124,
   "metadata": {},
   "outputs": [],
   "source": [
    "def getAlternativeWords(sentenceObj):\n",
    "    mainSentence = sentenceObj.ogSentence;\n",
    "    mainSentiment = sentenceObj.ogSentiment;\n",
    "\n",
    "    sentenceTokens = cleanAndTokenizeText(mainSentence)\n",
    "\n",
    "    for ind, word in enumerate(sentenceTokens):\n",
    "        alternativeSentenceWithHTML = []\n",
    "        copyOfTokens = sentenceTokens[:]\n",
    "        replacements = []\n",
    "        \n",
    "        score = senty.polarity_scores(word)['compound']\n",
    "        if(score != 0.0):\n",
    "            replacements = sentenceObj.checkIfWordExists(word)\n",
    "            if(replacements != []):\n",
    "                print(\"FOUND REPEATED WORD {0}\".format(word))\n",
    "                sentenceObj.addAlternativesByIndex(ind, replacements)\n",
    "                continue;\n",
    "            tempReplacements = returnReplacementsForWord(word) # get embedding based relations\n",
    "            if(VERBOSE_PRINTING): print(\"Some early replacements for word [{0}] are {1}\".format(word, tempReplacements[0:8]))\n",
    "            if(tempReplacements == []):\n",
    "                print(\"No replacements found at all for word {0}\".format(word))\n",
    "                continue\n",
    "            replacements = posApprovedReplacements(tempReplacements[:], copyOfTokens[:], ind)\n",
    "            finalReplacements = []\n",
    "            if(VERBOSE_PRINTING): skippedWords = []\n",
    "            for new_word in replacements:\n",
    "                thisSentiment = senty.polarity_scores(new_word)['compound']\n",
    "                if(thisSentiment != 0.0):\n",
    "                    finalReplacements.append(new_word)\n",
    "                else:\n",
    "                    if(VERBOSE_PRINTING):\n",
    "#                         print(\"Sentiment of Skipped word {} is {}\".format(word, senty.polarity_scores(word)))\n",
    "                        skippedWords.append(new_word)\n",
    "            if(VERBOSE_PRINTING and len(skippedWords) > 0):\n",
    "                print(\"some skipped words: {0}\".format(skippedWords[:5]));\n",
    "            if(finalReplacements == []):\n",
    "                if(VERBOSE_PRINTING): print(\" -- No POS approved words! -- for word {0}\\n some non-POS:{1}\".format(word, tempReplacements[:4]))\n",
    "                continue\n",
    "            sentenceObj.addAlternativesByIndex(ind, finalReplacements)\n",
    "            sentenceObj.addWordToAlternatives(word, finalReplacements)\n",
    "    return sentenceObj\n",
    "\n",
    "\n"
   ]
  },
  {
   "cell_type": "code",
   "execution_count": 125,
   "metadata": {},
   "outputs": [],
   "source": [
    "def interactionHelper(dictOfAltObjs, sentiments, thisSent, lastWorkingIndex=0):\n",
    "    if(thisSent in sentiments):\n",
    "        mainIndex = sentiments.index(thisSent)\n",
    "        \n",
    "    else:\n",
    "        mainIndex = lastWorkingIndex\n",
    "    \n",
    "    numLower =  mainIndex  # Mod to keep it in range 0 -> val \n",
    "    numHigher = len(sentiments) - mainIndex - 1\n",
    "\n",
    "    print(\"There are totally {0} possible sentences\".format(len(sentiments)))\n",
    "    print(\"Current sentiment is at index {0}, and length of sentiments is {1}\".format(mainIndex, len(sentiments)));\n",
    "    print(\" <--- {0} lower and {1} ---> higher \".format(numLower, numHigher))\n",
    "    print(\"Would you like to see a lower sentiment or higher sentiment or ALL?\")\n",
    "    print(\"Please enter 1 for lower, 2 for higher or 0 for all\")\n",
    "    \n",
    "    targetSentiment = thisSent\n",
    "    textInput = input()\n",
    "    if(textInput == \"\"):\n",
    "        print(\"You entered nothing! exiting\")\n",
    "        return\n",
    "        \n",
    "    if(textInput.isdigit()):\n",
    "        textInput = int(textInput)\n",
    "        if(textInput == 0):\n",
    "            if(VERBOSE_PRINTING): print(\"Printing sentiments from : {0}\".format(sentiments))\n",
    "            for sentiment in sentiments:\n",
    "                obj = dictOfAltObjs[sentiment][0];\n",
    "                displayText(\"{0}  : {1}\".format(obj.getHTML(), sentiment))\n",
    "            return\n",
    "        elif(textInput == 1 and numLower > 0 and (mainIndex - 1) >= 0):\n",
    "            targetSentiment = sentiments[mainIndex - 1]\n",
    "            htmlSentence = dictOfAltObjs[targetSentiment][0].getHTML();\n",
    "            displayText(\"{0} : {1}\".format(htmlSentence, targetSentiment))\n",
    "            \n",
    "        elif(textInput == 2 and numHigher < len(sentiments) and (mainIndex + 1) < len(sentiments)):\n",
    "            targetSentiment = sentiments[mainIndex + 1]\n",
    "            htmlSentence = dictOfAltObjs[targetSentiment][0].getHTML();\n",
    "            displayText(\"{0} : {1}\".format(htmlSentence, targetSentiment))\n",
    "            \n",
    "        else:\n",
    "            print(\"You entered an invalid option\")\n",
    "            interactionHelper(dictOfAltObjs, sentiments, thisSent, mainIndex)\n",
    "            return\n",
    "        \n",
    "    interactionHelper(dictOfAltObjs, sentiments, targetSentiment,mainIndex)\n",
    "\n",
    "\n",
    "\n",
    "def interactionWithUser(mainSentenceObj, dictOfAltObjs,sentiments, isUser=False):\n",
    "    if(isUser == False):\n",
    "        return\n",
    "    else:\n",
    "        mainSentence = mainSentenceObj.ogSentence;\n",
    "        mainSent = mainSentenceObj.ogSentiment;\n",
    "        if(VERBOSE_PRINTING):\n",
    "            print(\"The following are the sentiment values for the input\")\n",
    "            for ind,sent in enumerate(sentiments):\n",
    "                print(\"{0} - {1}\".format(ind+1,sent))\n",
    "        \n",
    "        interactionHelper(dictOfAltObjs, sentiments, mainSent) "
   ]
  },
  {
   "cell_type": "code",
   "execution_count": 126,
   "metadata": {
    "scrolled": false
   },
   "outputs": [
    {
     "name": "stdout",
     "output_type": "stream",
     "text": [
      "\n",
      "\n",
      " Tweet: mraow i feel like dancing but first art school wants to rape me some more. :-0.7783\n",
      "\n",
      "Some antonyms for word like are ['unlike', 'unalike', 'dislike']\n",
      "Some synonyms for word like are ['similar', 'alike', 'comparable']\n",
      "Some early replacements for word [like] are ['that', 'look', 'just', \"n't\", 'it', 'think', 'know', 'unlike']\n",
      "some skipped words: ['that', 'unlike']\n",
      "No antonyms found for word rape\n",
      "Some synonyms for word rape are ['despoil', 'violate', 'spoil']\n",
      "Some early replacements for word [rape] are ['murder', 'abuse', 'victim', 'assault', 'raped', 'raping', 'harassment', 'despoil']\n",
      "some skipped words: ['despoil', 'spoil', 'dishonour', 'colza', 'ravishment']\n",
      "3'th word's (like) options: {'like'}\n",
      "11'th word's (rape) options: {'violate', 'abuse', 'harassment', 'rape', 'assault', 'murder', 'violation', 'outrage', 'victim'}\n",
      "number of negations removed: 0\n",
      "--- More options (total: 20) possible, but not printed ---\n"
     ]
    },
    {
     "data": {
      "text/html": [
       "<text style=color:black>Actual Sentence: mraow i feel like dancing but first art school wants to rape me some more.  :-0.7783</text>"
      ],
      "text/plain": [
       "<IPython.core.display.HTML object>"
      ]
     },
     "metadata": {},
     "output_type": "display_data"
    },
    {
     "data": {
      "text/html": [
       "<text style=color:red>Worst Sentence: mraow i feel <text style=color:blue><i>[like]</i></text> dancing but first art school wants to <text style=color:blue><i>[rape]</i></text> me some more . : -0.7783</text>"
      ],
      "text/plain": [
       "<IPython.core.display.HTML object>"
      ]
     },
     "metadata": {},
     "output_type": "display_data"
    },
    {
     "data": {
      "text/html": [
       "<text style=color:green>Best Sentence: mraow i feel <text style=color:blue><i>[like]</i></text> dancing but first art school wants to <text style=color:blue><i>[victim]</i></text> me some more . : -0.2263</text>"
      ],
      "text/plain": [
       "<IPython.core.display.HTML object>"
      ]
     },
     "metadata": {},
     "output_type": "display_data"
    },
    {
     "name": "stdout",
     "output_type": "stream",
     "text": [
      "\n",
      "\n",
      " Tweet:  ah! i bet it does i have been like craving to play softball or basketball !!! but i have noo time :0.56\n",
      "\n",
      "Some antonyms for word like are ['unlike', 'unalike', 'dislike']\n",
      "Some synonyms for word like are ['similar', 'alike', 'comparable']\n",
      "Some early replacements for word [like] are ['that', 'look', 'just', \"n't\", 'it', 'think', 'know', 'unlike']\n",
      "some skipped words: ['unlike']\n",
      "Some antonyms for word play are ['tightness']\n",
      "Some synonyms for word play are ['gambol', 'roleplay', 'bid']\n",
      "Some early replacements for word [play] are ['playing', 'game', 'played', 'plays', 'games', 'let', 'beat', 'tightness']\n",
      "some skipped words: ['let', 'beat', 'gambol', 'roleplay', 'bid']\n",
      "9'th word's (like) options: {'like'}\n",
      "12'th word's (play) options: {'fun', 'play'}\n",
      "number of negations removed: 0\n"
     ]
    },
    {
     "data": {
      "text/html": [
       "<text style=color:black>Actual Sentence:  ah! i bet it does i have been like craving to play softball or basketball !!! but i have noo time  :0.56</text>"
      ],
      "text/plain": [
       "<IPython.core.display.HTML object>"
      ]
     },
     "metadata": {},
     "output_type": "display_data"
    },
    {
     "data": {
      "text/html": [
       "<text style=color:red>Worst Sentence: ah ! i bet it does i have been <text style=color:blue><i>[like]</i></text> craving to <text style=color:blue><i>[play]</i></text> softball or basketball ! ! ! but i have noo time : 0.56</text>"
      ],
      "text/plain": [
       "<IPython.core.display.HTML object>"
      ]
     },
     "metadata": {},
     "output_type": "display_data"
    },
    {
     "data": {
      "text/html": [
       "<text style=color:green>Best Sentence: ah ! i bet it does i have been <text style=color:blue><i>[like]</i></text> craving to <text style=color:blue><i>[fun]</i></text> softball or basketball ! ! ! but i have noo time : 0.6209</text>"
      ],
      "text/plain": [
       "<IPython.core.display.HTML object>"
      ]
     },
     "metadata": {},
     "output_type": "display_data"
    },
    {
     "name": "stdout",
     "output_type": "stream",
     "text": [
      "\n",
      "\n",
      " Tweet: is terrified she accidentally deleted a reference in her management assignment and hopes she doesnt get in trouble when she gets back :-0.3274\n",
      "\n",
      "No antonyms found for word terrified\n",
      "Some synonyms for word terrified are ['panicky', 'panic-struck', 'terrified']\n",
      "Some early replacements for word [terrified] are ['scared', 'afraid', 'shitless', 'frightened', 'terrifying', 'freaked', 'embarrassed', 'panicky']\n",
      "Some antonyms for word accidentally are ['intentionally', 'deliberately']\n",
      "Some synonyms for word accidentally are ['incidentally', 'unexpectedly', 'unintentionally']\n",
      "Some early replacements for word [accidentally] are ['accidently', 'randomly', 'tried', 'purposely', 'casually', 'forgot', 'caught', 'intentionally']\n",
      "some skipped words: ['accidently', 'randomly', 'purposely', 'intentionally', 'deliberately']\n",
      "Some antonyms for word hopes are ['despair']\n",
      "Some synonyms for word hopes are ['go_for', 'hop-skip', 'promise']\n",
      "Some early replacements for word [hopes] are ['fears', 'hoping', 'ahead', 'dreams', 'despite', 'expectations', 'promises', 'despair']\n",
      "No antonyms found for word trouble\n",
      "Some synonyms for word trouble are ['disorder', 'problem', 'inconvenience_oneself']\n",
      "Some early replacements for word [trouble] are ['cause', 'having', 'might', 'mind', 'there', 'nothing', 'problems', 'disorder']\n",
      "some skipped words: ['cause', 'might', 'mind', 'nothing', 'ail']\n",
      "1'th word's (terrified) options: {'scared', 'terrified', 'freaked', 'panicked', 'frightened'}\n",
      "3'th word's (accidentally) options: {'accidentally', 'casually'}\n",
      "12'th word's (hopes) options: {'fears', 'promises', 'dreams'}\n",
      "17'th word's (trouble) options: {'disorder', 'distract', 'disquiet', 'problem', 'disturb', 'problems', 'inconvenience', 'bother', 'worry', 'trouble', 'upset', 'pain', 'difficulty'}\n",
      "number of negations removed: 0\n",
      "--- More options (total: 1008) possible, but not printed ---\n"
     ]
    },
    {
     "data": {
      "text/html": [
       "<text style=color:black>Actual Sentence: is terrified she accidentally deleted a reference in her management assignment and hopes she doesnt get in trouble when she gets back  :-0.3274</text>"
      ],
      "text/plain": [
       "<IPython.core.display.HTML object>"
      ]
     },
     "metadata": {},
     "output_type": "display_data"
    },
    {
     "data": {
      "text/html": [
       "<text style=color:red>Worst Sentence: is <text style=color:blue><i>[terrified]</i></text> she <text style=color:blue><i>[accidentally]</i></text> deleted a reference in her management assignment and <text style=color:blue><i>[fears]</i></text> she doesnt get in <text style=color:blue><i>[distract]</i></text> when she gets back : -0.808</text>"
      ],
      "text/plain": [
       "<IPython.core.display.HTML object>"
      ]
     },
     "metadata": {},
     "output_type": "display_data"
    },
    {
     "data": {
      "text/html": [
       "<text style=color:green>Best Sentence: is <text style=color:blue><i>[freaked]</i></text> she <text style=color:blue><i>[casually]</i></text> deleted a reference in her management assignment and <text style=color:blue><i>[hopes]</i></text> she doesnt get in <text style=color:blue><i>[pain]</i></text> when she gets back : 0.6126</text>"
      ],
      "text/plain": [
       "<IPython.core.display.HTML object>"
      ]
     },
     "metadata": {},
     "output_type": "display_data"
    },
    {
     "name": "stdout",
     "output_type": "stream",
     "text": [
      "\n",
      "\n",
      " Tweet: amazon s3 plugin not worked in my website . it need php 5 . but my hosting provider has only php 4.4  . very sad.:-0.6416\n",
      "\n",
      "No antonyms found for word amazon\n",
      "Some synonyms for word amazon are ['virago', 'amazon_river', 'amazon']\n",
      "Some early replacements for word [amazon] are ['kindle', 'ebay', 'ebook', 'store', 'blu-ray', 'deals', 'gc', 'virago']\n",
      "some skipped words: ['kindle', 'ebook']\n",
      "Some antonyms for word sad are ['glad']\n",
      "Some synonyms for word sad are ['distressing', 'sorry', 'lamentable']\n",
      "Some early replacements for word [sad] are ['depressing', 'really', 'depressed', 'sick', 'feel', 'cry', 'upset', 'glad']\n",
      "some skipped words: ['deplorable']\n",
      "0'th word's (amazon) options: {'amazon'}\n",
      "24'th word's (sad) options: {'distressing', 'depressing', 'sorry', 'sick', 'lamentable', 'upset', 'depressed', 'sad', 'pitiful', 'glad'}\n",
      "number of negations removed: 22\n",
      "--- More options (total: 44) possible, but not printed ---\n"
     ]
    },
    {
     "data": {
      "text/html": [
       "<text style=color:black>Actual Sentence: amazon s3 plugin not worked in my website . it need php 5 . but my hosting provider has only php 4.4  . very sad. :-0.6416</text>"
      ],
      "text/plain": [
       "<IPython.core.display.HTML object>"
      ]
     },
     "metadata": {},
     "output_type": "display_data"
    },
    {
     "data": {
      "text/html": [
       "<text style=color:red>Worst Sentence: <text style=color:blue><i>[amazon]</i></text> s3 plugin not worked in my website . it need php 5 . but my hosting provider has only php 4.4 . very <text style=color:blue><i>[sick]</i></text> . : -0.6746</text>"
      ],
      "text/plain": [
       "<IPython.core.display.HTML object>"
      ]
     },
     "metadata": {},
     "output_type": "display_data"
    },
    {
     "data": {
      "text/html": [
       "<text style=color:green>Best Sentence: <text style=color:blue><i>[amazon]</i></text> s3 plugin <text style=color:blue><i>[worked]</i></text> in my website . it need php 5 . but my hosting provider has only php 4.4 . very glad <text style=color:blue><i>[.]</i></text> : 0.6994</text>"
      ],
      "text/plain": [
       "<IPython.core.display.HTML object>"
      ]
     },
     "metadata": {},
     "output_type": "display_data"
    },
    {
     "name": "stdout",
     "output_type": "stream",
     "text": [
      "\n",
      "\n",
      " Tweet: argh! i was suuuper sleepy an hour ago now i am wide awake.  hope i do not stay up all night. :0.4926\n",
      "\n",
      "Some antonyms for word hope are ['despair']\n",
      "Some synonyms for word hope are ['go_for', 'promise', 'desire']\n",
      "Some early replacements for word [hope] are ['hopefully', 'well', 'hoping', 'everyone', \"'ll\", 'sure', 'see', 'despair']\n",
      "15'th word's (hope) options: {'hope'}\n",
      "number of negations removed: 2\n"
     ]
    },
    {
     "data": {
      "text/html": [
       "<text style=color:black>Actual Sentence: argh! i was suuuper sleepy an hour ago now i am wide awake.  hope i do not stay up all night.  :0.4926</text>"
      ],
      "text/plain": [
       "<IPython.core.display.HTML object>"
      ]
     },
     "metadata": {},
     "output_type": "display_data"
    },
    {
     "data": {
      "text/html": [
       "<text style=color:green>Best Sentence: argh ! i was suuuper sleepy an hour ago now i am wide awake . <text style=color:blue><i>[hope]</i></text> i do <text style=color:blue><i>[stay]</i></text> up all night . : 0.4926</text>"
      ],
      "text/plain": [
       "<IPython.core.display.HTML object>"
      ]
     },
     "metadata": {},
     "output_type": "display_data"
    },
    {
     "name": "stdout",
     "output_type": "stream",
     "text": [
      "\n",
      "\n",
      " Tweet:  i wish i was!  sold out   if you have some time let me know i would love to hear more about what you are up to!:0.8168\n",
      "\n",
      "Some antonyms for word wish are ['begrudge']\n",
      "Some synonyms for word wish are ['want', 'wishing', 'indirect_request']\n",
      "Some early replacements for word [wish] are ['hope', 'happy', 'have', 'wishes', 'think', 'you', 'could', 'begrudge']\n",
      "some skipped words: ['have', 'think', 'begrudge', 'regard']\n",
      "Some antonyms for word love are ['hate']\n",
      "Some synonyms for word love are ['erotic_love', 'hump', 'beloved']\n",
      "Some early replacements for word [love] are ['you', 'much', 'always', 'know', 'my', 'and', 'loves', 'hate']\n",
      "some skipped words: ['know', 'hump', 'bed', 'honey', 'bang']\n",
      "1'th word's (wish) options: {'want', 'care', 'wish', 'hope'}\n",
      "17'th word's (love) options: {'hate', 'love', 'beloved', 'enjoy', 'passion', 'fuck', 'dearest', 'screw', 'dear'}\n",
      "number of negations removed: 0\n",
      "--- More options (total: 50) possible, but not printed ---\n"
     ]
    },
    {
     "data": {
      "text/html": [
       "<text style=color:black>Actual Sentence:  i wish i was!  sold out   if you have some time let me know i would love to hear more about what you are up to! :0.8168</text>"
      ],
      "text/plain": [
       "<IPython.core.display.HTML object>"
      ]
     },
     "metadata": {},
     "output_type": "display_data"
    },
    {
     "data": {
      "text/html": [
       "<text style=color:red>Worst Sentence: i <text style=color:blue><i>[want]</i></text> i was ! sold out if you have some time let me know i would <text style=color:blue><i>[fuck]</i></text> to hear more about what you are up to ! : -0.5837</text>"
      ],
      "text/plain": [
       "<IPython.core.display.HTML object>"
      ]
     },
     "metadata": {},
     "output_type": "display_data"
    },
    {
     "data": {
      "text/html": [
       "<text style=color:green>Best Sentence: i <text style=color:blue><i>[care]</i></text> i was ! sold out if you have some time let me know i would <text style=color:blue><i>[love]</i></text> to hear more about what you are up to ! : 0.8395</text>"
      ],
      "text/plain": [
       "<IPython.core.display.HTML object>"
      ]
     },
     "metadata": {},
     "output_type": "display_data"
    },
    {
     "name": "stdout",
     "output_type": "stream",
     "text": [
      "\n",
      "\n",
      " Tweet: just watched tropic thunder. dreading tomorrow :-0.5267\n",
      "\n",
      "No antonyms found for word dreading\n",
      "Some synonyms for word dreading are ['fear', 'dread']\n",
      "Some early replacements for word [dreading] are ['contemplating', 'revising', 'hungover', 'exhausted', 'debating', 'regretting', 'knackered', 'fear']\n",
      "some skipped words: ['contemplating', 'revising', 'debating']\n",
      "5'th word's (dreading) options: {'regretting'}\n",
      "number of negations removed: 0\n"
     ]
    },
    {
     "data": {
      "text/html": [
       "<text style=color:black>Actual Sentence: just watched tropic thunder. dreading tomorrow  :-0.5267</text>"
      ],
      "text/plain": [
       "<IPython.core.display.HTML object>"
      ]
     },
     "metadata": {},
     "output_type": "display_data"
    },
    {
     "data": {
      "text/html": [
       "<text style=color:red>Worst Sentence: just watched tropic thunder . <text style=color:blue><i>[dreading]</i></text> tomorrow : -0.5267</text>"
      ],
      "text/plain": [
       "<IPython.core.display.HTML object>"
      ]
     },
     "metadata": {},
     "output_type": "display_data"
    },
    {
     "data": {
      "text/html": [
       "<text style=color:green>Best Sentence: just watched tropic thunder . <text style=color:blue><i>[regretting]</i></text> tomorrow : -0.4019</text>"
      ],
      "text/plain": [
       "<IPython.core.display.HTML object>"
      ]
     },
     "metadata": {},
     "output_type": "display_data"
    },
    {
     "name": "stdout",
     "output_type": "stream",
     "text": [
      "\n",
      "\n",
      " Tweet:   according to my bro our new puppy had a poo fight and was covered in poop  picture stolen from him:-0.7003\n",
      "\n",
      "No antonyms found for word fight\n",
      "Some synonyms for word fight are ['contend', 'scrap', 'campaign']\n",
      "Some early replacements for word [fight] are ['fighting', 'fights', 'battle', 'let', 'talk', 'end', 'fought', 'contend']\n",
      "some skipped words: ['let', 'talk', 'end', 'scrap', 'campaign']\n",
      "No antonyms found for word stolen\n",
      "Some synonyms for word stolen are ['slip', 'steal']\n",
      "Some early replacements for word [stolen] are ['stole', 'stealing', 'steal', 'found', 'missing', 'seized', 'recovered', 'slip']\n",
      "some skipped words: ['found', 'seized', 'recovered']\n",
      " -- No POS approved words! -- for word stolen\n",
      " some non-POS:['stole', 'stealing', 'steal', 'found']\n",
      "10'th word's (fight) options: {'contend', 'combat', 'engagement', 'conflict', 'fight', 'battle', 'struggle', 'fighting'}\n",
      "number of negations removed: 0\n"
     ]
    },
    {
     "data": {
      "text/html": [
       "<text style=color:black>Actual Sentence:   according to my bro our new puppy had a poo fight and was covered in poop  picture stolen from him :-0.7003</text>"
      ],
      "text/plain": [
       "<IPython.core.display.HTML object>"
      ]
     },
     "metadata": {},
     "output_type": "display_data"
    },
    {
     "data": {
      "text/html": [
       "<text style=color:red>Worst Sentence: according to my bro our new puppy had a poo <text style=color:blue><i>[fight]</i></text> and was covered in poop picture stolen from him : -0.7003</text>"
      ],
      "text/plain": [
       "<IPython.core.display.HTML object>"
      ]
     },
     "metadata": {},
     "output_type": "display_data"
    },
    {
     "data": {
      "text/html": [
       "<text style=color:green>Best Sentence: according to my bro our new puppy had a poo <text style=color:blue><i>[engagement]</i></text> and was covered in poop picture stolen from him : -0.0516</text>"
      ],
      "text/plain": [
       "<IPython.core.display.HTML object>"
      ]
     },
     "metadata": {},
     "output_type": "display_data"
    },
    {
     "name": "stdout",
     "output_type": "stream",
     "text": [
      "\n",
      "\n",
      " Tweet: playing game at home! my new boss did not call me yet... :0.2714\n",
      "\n",
      "No antonyms found for word playing\n",
      "Some synonyms for word playing are ['roleplay', 'recreate', 'meet']\n",
      "Some early replacements for word [playing] are ['play', 'played', 'now', 'plays', 'playin', 'listening', 'singing', 'roleplay']\n",
      "some skipped words: ['listening', 'singing', 'performing', 'playacting', 'acting']\n",
      "0'th word's (playing) options: {'playing'}\n",
      "number of negations removed: 2\n"
     ]
    },
    {
     "data": {
      "text/html": [
       "<text style=color:black>Actual Sentence: playing game at home! my new boss did not call me yet...  :0.2714</text>"
      ],
      "text/plain": [
       "<IPython.core.display.HTML object>"
      ]
     },
     "metadata": {},
     "output_type": "display_data"
    },
    {
     "data": {
      "text/html": [
       "<text style=color:green>Best Sentence: <text style=color:blue><i>[playing]</i></text> game at home ! my new boss did <text style=color:blue><i>[call]</i></text> me yet ... : 0.2714</text>"
      ],
      "text/plain": [
       "<IPython.core.display.HTML object>"
      ]
     },
     "metadata": {},
     "output_type": "display_data"
    },
    {
     "name": "stdout",
     "output_type": "stream",
     "text": [
      "\n",
      "\n",
      " Tweet: su yin huen tweeted i feel unbearable guilt. i made my staff cry  :-0.6369\n",
      "\n",
      "Some antonyms for word guilt are ['innocence']\n",
      "Some synonyms for word guilt are ['guilt_feelings', 'guiltiness', 'guilty_conscience']\n",
      "Some early replacements for word [guilt] are ['anger', 'remorse', 'bitterness', 'loneliness', 'fear', 'hatred', 'grief', 'innocence']\n",
      "Some antonyms for word cry are ['laugh']\n",
      "Some synonyms for word cry are ['rallying_cry', 'outcry', 'cry_out']\n",
      "Some early replacements for word [cry] are ['crying', 'tears', 'laugh', 'cried', 'scream', 'wanna', 'everytime', 'laugh']\n",
      "some skipped words: ['call', 'vociferation', 'shout', 'yell', 'watchword']\n",
      "7'th word's (guilt) options: {'hatred', 'loneliness', 'guiltiness', 'remorse', 'grief', 'bitterness', 'fear', 'innocence', 'guilt', 'anger'}\n",
      "13'th word's (cry) options: {'outcry', 'weep', 'laugh', 'scream', 'cry'}\n",
      "number of negations removed: 0\n",
      "--- More options (total: 66) possible, but not printed ---\n"
     ]
    },
    {
     "data": {
      "text/html": [
       "<text style=color:black>Actual Sentence: su yin huen tweeted i feel unbearable guilt. i made my staff cry   :-0.6369</text>"
      ],
      "text/plain": [
       "<IPython.core.display.HTML object>"
      ]
     },
     "metadata": {},
     "output_type": "display_data"
    },
    {
     "data": {
      "text/html": [
       "<text style=color:red>Worst Sentence: su yin huen tweeted i feel unbearable <text style=color:blue><i>[hatred]</i></text> . i made my staff <text style=color:blue><i>[weep]</i></text> : -0.836</text>"
      ],
      "text/plain": [
       "<IPython.core.display.HTML object>"
      ]
     },
     "metadata": {},
     "output_type": "display_data"
    },
    {
     "data": {
      "text/html": [
       "<text style=color:green>Best Sentence: su yin huen tweeted i feel unbearable <text style=color:blue><i>[innocence]</i></text> . i made my staff <text style=color:blue><i>[laugh]</i></text> : 0.7351</text>"
      ],
      "text/plain": [
       "<IPython.core.display.HTML object>"
      ]
     },
     "metadata": {},
     "output_type": "display_data"
    },
    {
     "name": "stdout",
     "output_type": "stream",
     "text": [
      "\n",
      "\n",
      " Tweet: poor joshy is sick   those damn tejanos!:-0.8553\n",
      "\n",
      "Some antonyms for word poor are ['rich', 'rich_people']\n",
      "Some synonyms for word poor are ['poor_people', 'piteous', 'wretched']\n",
      "Some early replacements for word [poor] are ['bad', 'shame', 'well', 'why', 'but', 'too', 'not', 'rich']\n",
      "some skipped words: ['wretched', 'short']\n",
      "Some antonyms for word sick are ['well', 'keep_down']\n",
      "Some synonyms for word sick are ['pale', 'disgorge', 'be_sick']\n",
      "Some early replacements for word [sick] are ['tired', 'feel', 'really', 'ugh', 'bad', 'seriously', 'fucking', 'well']\n",
      "some skipped words: ['pale', 'nauseous', 'macabre', 'pallid', 'gruesome']\n",
      "Some antonyms for word damn are ['bless']\n",
      "Some synonyms for word damn are ['shit', 'blasted', 'blame']\n",
      "Some early replacements for word [damn] are ['shit', 'fuckin', 'fuck', 'smh', 'hell', 'fucking', 'lmao', 'bless']\n",
      "some skipped words: ['fucking', 'bedamn', 'infernal']\n",
      "0'th word's (poor) options: {'piteous', 'rich', 'bad', 'pathetic', 'poor', 'hapless', 'pitiable', 'inadequate', 'miserable', 'pitiful'}\n",
      "3'th word's (sick) options: {'mad', 'bad', 'sick', 'tired', 'crazy', 'puke', 'grim', 'ill'}\n",
      "5'th word's (damn) options: {'bloody', 'damn', 'fuck', 'goddam'}\n",
      "number of negations removed: 0\n",
      "--- More options (total: 495) possible, but not printed ---\n"
     ]
    },
    {
     "data": {
      "text/html": [
       "<text style=color:black>Actual Sentence: poor joshy is sick   those damn tejanos! :-0.8553</text>"
      ],
      "text/plain": [
       "<IPython.core.display.HTML object>"
      ]
     },
     "metadata": {},
     "output_type": "display_data"
    },
    {
     "data": {
      "text/html": [
       "<text style=color:red>Worst Sentence: <text style=color:blue><i>[pathetic]</i></text> joshy is <text style=color:blue><i>[grim]</i></text> those <text style=color:blue><i>[fuck]</i></text> tejanos ! : -0.9041</text>"
      ],
      "text/plain": [
       "<IPython.core.display.HTML object>"
      ]
     },
     "metadata": {},
     "output_type": "display_data"
    },
    {
     "data": {
      "text/html": [
       "<text style=color:green>Best Sentence: <text style=color:blue><i>[rich]</i></text> joshy is <text style=color:blue><i>[crazy]</i></text> those <text style=color:blue><i>[damn]</i></text> tejanos ! : -0.2003</text>"
      ],
      "text/plain": [
       "<IPython.core.display.HTML object>"
      ]
     },
     "metadata": {},
     "output_type": "display_data"
    },
    {
     "name": "stdout",
     "output_type": "stream",
     "text": [
      "\n",
      "\n",
      " Tweet: my thoughts are with sandra cantu is family at this difficult and sad time :-0.7162\n",
      "\n",
      "Some antonyms for word difficult are ['easy', 'manageable']\n",
      "Some synonyms for word difficult are ['hard', 'difficult', 'unmanageable']\n",
      "Some early replacements for word [difficult] are ['frustrating', 'easier', 'confusing', 'challenging', 'stressful', 'sometimes', 'complicated', 'easy']\n",
      "some skipped words: ['complicated', 'manageable', 'unmanageable']\n",
      "Some antonyms for word sad are ['glad']\n",
      "Some synonyms for word sad are ['distressing', 'sorry', 'lamentable']\n",
      "Some early replacements for word [sad] are ['depressing', 'really', 'depressed', 'sick', 'feel', 'cry', 'upset', 'glad']\n",
      "some skipped words: ['deplorable']\n",
      "10'th word's (difficult) options: {'challenging', 'difficult', 'easy', 'stressful', 'confusing', 'frustrating', 'hard'}\n",
      "12'th word's (sad) options: {'distressing', 'depressing', 'sorry', 'sick', 'lamentable', 'upset', 'depressed', 'sad', 'pitiful', 'glad'}\n",
      "number of negations removed: 0\n",
      "--- More options (total: 88) possible, but not printed ---\n"
     ]
    },
    {
     "data": {
      "text/html": [
       "<text style=color:black>Actual Sentence: my thoughts are with sandra cantu is family at this difficult and sad time  :-0.7162</text>"
      ],
      "text/plain": [
       "<IPython.core.display.HTML object>"
      ]
     },
     "metadata": {},
     "output_type": "display_data"
    },
    {
     "data": {
      "text/html": [
       "<text style=color:red>Worst Sentence: my thoughts are with sandra cantu is family at this <text style=color:blue><i>[stressful]</i></text> and <text style=color:blue><i>[sick]</i></text> time : -0.8006</text>"
      ],
      "text/plain": [
       "<IPython.core.display.HTML object>"
      ]
     },
     "metadata": {},
     "output_type": "display_data"
    },
    {
     "data": {
      "text/html": [
       "<text style=color:green>Best Sentence: my thoughts are with sandra cantu is family at this <text style=color:blue><i>[easy]</i></text> and <text style=color:blue><i>[glad]</i></text> time : 0.7488</text>"
      ],
      "text/plain": [
       "<IPython.core.display.HTML object>"
      ]
     },
     "metadata": {},
     "output_type": "display_data"
    },
    {
     "name": "stdout",
     "output_type": "stream",
     "text": [
      "\n",
      "\n",
      " Tweet: michigan who  i do not know them.                   *sigh*   shameful!:-0.5411\n",
      "\n",
      "No antonyms found for word sigh\n",
      "Some synonyms for word sigh are ['suspiration', 'sigh', 'suspire']\n",
      "Some early replacements for word [sigh] are ['ugh', 'sighs', 'urgh', 'sobs', 'seriously', 'fml', 'again', 'suspiration']\n",
      "No antonyms found for word shameful\n",
      "Some synonyms for word shameful are ['ignominious', 'inglorious', 'disgraceful']\n",
      "Some early replacements for word [shameful] are ['disgraceful', 'sickening', 'appalling', 'unacceptable', 'shocking', 'disgusting', 'pathetic', 'ignominious']\n",
      "some skipped words: ['disgraceful', 'ignominious', 'inglorious', 'disgraceful', 'black']\n",
      "8'th word's (sigh) options: {'sigh'}\n",
      "9'th word's (shameful) options: {'pathetic', 'unacceptable', 'appalling', 'shameful', 'scandalous', 'shocking', 'disgusting'}\n",
      "number of negations removed: 16\n",
      "--- More options (total: 32) possible, but not printed ---\n"
     ]
    },
    {
     "data": {
      "text/html": [
       "<text style=color:black>Actual Sentence: michigan who  i do not know them.                   *sigh*   shameful! :-0.5411</text>"
      ],
      "text/plain": [
       "<IPython.core.display.HTML object>"
      ]
     },
     "metadata": {},
     "output_type": "display_data"
    },
    {
     "data": {
      "text/html": [
       "<text style=color:red>Worst Sentence: michigan who i do not know them . <text style=color:blue><i>[sigh]</i></text> <text style=color:blue><i>[pathetic]</i></text> ! : -0.6207</text>"
      ],
      "text/plain": [
       "<IPython.core.display.HTML object>"
      ]
     },
     "metadata": {},
     "output_type": "display_data"
    },
    {
     "data": {
      "text/html": [
       "<text style=color:green>Best Sentence: michigan who i do <text style=color:blue><i>[know]</i></text> them . sigh <text style=color:blue><i>[appalling]</i></text> <text style=color:blue><i>[!]</i></text> : -0.4003</text>"
      ],
      "text/plain": [
       "<IPython.core.display.HTML object>"
      ]
     },
     "metadata": {},
     "output_type": "display_data"
    },
    {
     "name": "stdout",
     "output_type": "stream",
     "text": [
      "\n",
      "\n",
      " Tweet:  so cuuute! hey i miss you na!  its not the same not seeing you girls everyday :-0.3501\n",
      "\n",
      "Some antonyms for word miss are ['attend', 'attend_to', 'hit']\n",
      "Some synonyms for word miss are ['young_woman', 'young_lady', 'missy']\n",
      "Some early replacements for word [miss] are ['love', 'you', 'missed', 'know', 'too', 'really', 'much', 'attend']\n",
      "some skipped words: ['know', 'attend', 'have', 'missy', 'girl']\n",
      "5'th word's (miss) options: {'neglect', 'escape', 'love', 'drop', 'lack', 'lose', 'miss'}\n",
      "number of negations removed: 8\n",
      "--- More options (total: 16) possible, but not printed ---\n"
     ]
    },
    {
     "data": {
      "text/html": [
       "<text style=color:black>Actual Sentence:  so cuuute! hey i miss you na!  its not the same not seeing you girls everyday  :-0.3501</text>"
      ],
      "text/plain": [
       "<IPython.core.display.HTML object>"
      ]
     },
     "metadata": {},
     "output_type": "display_data"
    },
    {
     "data": {
      "text/html": [
       "<text style=color:red>Worst Sentence: so cuuute ! hey i <text style=color:blue><i>[neglect]</i></text> you na ! its <text style=color:blue><i>[the]</i></text> same not seeing you girls everyday : -0.5924</text>"
      ],
      "text/plain": [
       "<IPython.core.display.HTML object>"
      ]
     },
     "metadata": {},
     "output_type": "display_data"
    },
    {
     "data": {
      "text/html": [
       "<text style=color:green>Best Sentence: so cuuute ! hey i <text style=color:blue><i>[love]</i></text> you na ! its <text style=color:blue><i>[the]</i></text> same not seeing you girls everyday : 0.7225</text>"
      ],
      "text/plain": [
       "<IPython.core.display.HTML object>"
      ]
     },
     "metadata": {},
     "output_type": "display_data"
    },
    {
     "name": "stdout",
     "output_type": "stream",
     "text": [
      "\n",
      "\n",
      " Tweet: throat is closing up and i had some string cheese. not a good idea :-0.3412\n",
      "\n",
      "Some antonyms for word good are ['bad', 'evil', 'evilness']\n",
      "Some synonyms for word good are ['in_effect', 'salutary', 'trade_good']\n",
      "Some early replacements for word [good] are ['great', 'well', 'nice', 'better', 'night', 'morning', 'but', 'bad']\n",
      "some skipped words: ['salutary', 'adept', 'skillful', 'estimable', 'expert']\n",
      "13'th word's (good) options: {'dear', 'serious', 'evil', 'bad', 'nice', 'evilness', 'good', 'honorable', 'beneficial', 'honest', 'great', 'safe', 'well', 'secure', 'effective', 'respectable', 'ill'}\n",
      "number of negations removed: 18\n",
      "--- More options (total: 36) possible, but not printed ---\n"
     ]
    },
    {
     "data": {
      "text/html": [
       "<text style=color:black>Actual Sentence: throat is closing up and i had some string cheese. not a good idea  :-0.3412</text>"
      ],
      "text/plain": [
       "<IPython.core.display.HTML object>"
      ]
     },
     "metadata": {},
     "output_type": "display_data"
    },
    {
     "data": {
      "text/html": [
       "<text style=color:red>Worst Sentence: throat is closing up and i had some string cheese . <text style=color:blue><i>[a]</i></text> evil <text style=color:blue><i>[idea]</i></text> : -0.6597</text>"
      ],
      "text/plain": [
       "<IPython.core.display.HTML object>"
      ]
     },
     "metadata": {},
     "output_type": "display_data"
    },
    {
     "data": {
      "text/html": [
       "<text style=color:green>Best Sentence: throat is closing up and i had some string cheese . <text style=color:blue><i>[a]</i></text> great <text style=color:blue><i>[idea]</i></text> : 0.6249</text>"
      ],
      "text/plain": [
       "<IPython.core.display.HTML object>"
      ]
     },
     "metadata": {},
     "output_type": "display_data"
    },
    {
     "name": "stdout",
     "output_type": "stream",
     "text": [
      "\n",
      "\n",
      " Tweet: aww sandra cantu is found dead in a suitcase  missing children stories never seem to go good. poor family.:-0.7717\n",
      "\n",
      "Some antonyms for word dead are ['alive', 'live', 'living']\n",
      "Some synonyms for word dead are ['drained', 'all_in', 'short']\n",
      "Some early replacements for word [dead] are ['walking', 'dying', 'died', 'death', 'kill', 'killed', 'now', 'alive']\n",
      "some skipped words: ['live', 'short', 'utter', 'stagnant', 'idle']\n",
      "Some antonyms for word missing are ['attend', 'attend_to', 'hit']\n",
      "Some synonyms for word missing are ['wanting', 'neglect', 'leave_out']\n",
      "Some early replacements for word [missing] are ['missed', 'lost', 'found', 'been', 'missin', 'seeing', 'miss', 'attend']\n",
      "some skipped words: ['seeing', 'wanting', 'lacking']\n",
      "Some antonyms for word good are ['bad', 'evil', 'evilness']\n",
      "Some synonyms for word good are ['in_effect', 'salutary', 'trade_good']\n",
      "Some early replacements for word [good] are ['great', 'well', 'nice', 'better', 'night', 'morning', 'but', 'bad']\n",
      "some skipped words: ['salutary', 'adept', 'skillful', 'estimable', 'undecomposed']\n",
      "Some antonyms for word poor are ['rich', 'rich_people']\n",
      "Some synonyms for word poor are ['poor_people', 'piteous', 'wretched']\n",
      "Some early replacements for word [poor] are ['bad', 'shame', 'well', 'why', 'but', 'too', 'not', 'rich']\n",
      "some skipped words: ['wretched', 'short']\n",
      "5'th word's (dead) options: {'dead', 'alive', 'numb'}\n",
      "9'th word's (missing) options: {'missing'}\n",
      "16'th word's (good) options: {'serious', 'evil', 'bad', 'nice', 'good', 'honorable', 'beneficial', 'honest', 'great', 'safe', 'secure', 'effective', 'respectable', 'dear'}\n",
      "18'th word's (poor) options: {'piteous', 'rich', 'bad', 'pathetic', 'poor', 'hapless', 'pitiable', 'inadequate', 'miserable', 'pitiful'}\n",
      "number of negations removed: 0\n",
      "--- More options (total: 1320) possible, but not printed ---\n"
     ]
    },
    {
     "data": {
      "text/html": [
       "<text style=color:black>Actual Sentence: aww sandra cantu is found dead in a suitcase  missing children stories never seem to go good. poor family. :-0.7717</text>"
      ],
      "text/plain": [
       "<IPython.core.display.HTML object>"
      ]
     },
     "metadata": {},
     "output_type": "display_data"
    },
    {
     "data": {
      "text/html": [
       "<text style=color:red>Worst Sentence: aww sandra cantu is found <text style=color:blue><i>[dead]</i></text> in a suitcase <text style=color:blue><i>[missing]</i></text> children stories never seem to go <text style=color:blue><i>[evil]</i></text> . <text style=color:blue><i>[pathetic]</i></text> family . : -0.9393</text>"
      ],
      "text/plain": [
       "<IPython.core.display.HTML object>"
      ]
     },
     "metadata": {},
     "output_type": "display_data"
    },
    {
     "data": {
      "text/html": [
       "<text style=color:green>Best Sentence: aww sandra cantu is found <text style=color:blue><i>[alive]</i></text> in a suitcase <text style=color:blue><i>[missing]</i></text> children stories never seem to go <text style=color:blue><i>[great]</i></text> . <text style=color:blue><i>[rich]</i></text> family . : 0.8442</text>"
      ],
      "text/plain": [
       "<IPython.core.display.HTML object>"
      ]
     },
     "metadata": {},
     "output_type": "display_data"
    },
    {
     "name": "stdout",
     "output_type": "stream",
     "text": [
      "\n",
      "\n",
      " Tweet: wishing i was home underneath my covers :0.2263\n",
      "\n",
      "Some antonyms for word wishing are ['begrudge']\n",
      "Some synonyms for word wishing are ['want', 'wishing', 'like']\n",
      "Some early replacements for word [wishing] are ['hoping', 'wish', 'wishes', 'hope', 'wished', 'praying', 'seeing', 'begrudge']\n",
      "some skipped words: ['seeing']\n",
      "0'th word's (wishing) options: {'praying', 'hoping', 'wishing'}\n",
      "number of negations removed: 0\n"
     ]
    },
    {
     "data": {
      "text/html": [
       "<text style=color:black>Actual Sentence: wishing i was home underneath my covers  :0.2263</text>"
      ],
      "text/plain": [
       "<IPython.core.display.HTML object>"
      ]
     },
     "metadata": {},
     "output_type": "display_data"
    },
    {
     "data": {
      "text/html": [
       "<text style=color:red>Worst Sentence: <text style=color:blue><i>[wishing]</i></text> i was home underneath my covers : 0.2263</text>"
      ],
      "text/plain": [
       "<IPython.core.display.HTML object>"
      ]
     },
     "metadata": {},
     "output_type": "display_data"
    },
    {
     "data": {
      "text/html": [
       "<text style=color:green>Best Sentence: <text style=color:blue><i>[hoping]</i></text> i was home underneath my covers : 0.4215</text>"
      ],
      "text/plain": [
       "<IPython.core.display.HTML object>"
      ]
     },
     "metadata": {},
     "output_type": "display_data"
    },
    {
     "name": "stdout",
     "output_type": "stream",
     "text": [
      "\n",
      "\n",
      " Tweet: walking home from school drains all my energy :0.2732\n",
      "\n",
      "No antonyms found for word energy\n",
      "Some synonyms for word energy are ['vitality', 'energy', 'muscularity']\n",
      "Some early replacements for word [energy] are ['power', 'fuel', 'boost', 'renewable', 'electricity', 'water', 'focus', 'vitality']\n",
      "some skipped words: ['power', 'fuel', 'electricity', 'water', 'focus']\n",
      "7'th word's (energy) options: {'vitality', 'energy', 'boost', 'vigour', 'vigor'}\n",
      "number of negations removed: 0\n"
     ]
    },
    {
     "data": {
      "text/html": [
       "<text style=color:black>Actual Sentence: walking home from school drains all my energy  :0.2732</text>"
      ],
      "text/plain": [
       "<IPython.core.display.HTML object>"
      ]
     },
     "metadata": {},
     "output_type": "display_data"
    },
    {
     "data": {
      "text/html": [
       "<text style=color:red>Worst Sentence: walking home from school drains all my <text style=color:blue><i>[vigour]</i></text> : 0.2263</text>"
      ],
      "text/plain": [
       "<IPython.core.display.HTML object>"
      ]
     },
     "metadata": {},
     "output_type": "display_data"
    },
    {
     "data": {
      "text/html": [
       "<text style=color:green>Best Sentence: walking home from school drains all my <text style=color:blue><i>[boost]</i></text> : 0.4019</text>"
      ],
      "text/plain": [
       "<IPython.core.display.HTML object>"
      ]
     },
     "metadata": {},
     "output_type": "display_data"
    },
    {
     "name": "stdout",
     "output_type": "stream",
     "text": [
      "\n",
      "\n",
      " Tweet:  i agree. the shapeshifting is a copout. i was so excited for angela is ep i thought it was this week.  noah was awesome tho!:0.8752\n",
      "\n",
      "Some antonyms for word agree are ['disagree']\n",
      "Some synonyms for word agree are ['gibe', 'correspond', 'concur']\n",
      "Some early replacements for word [agree] are ['agreed', 'disagree', 'think', 'both', 'understand', 'definitely', 'totally', 'disagree']\n",
      "some skipped words: ['think', 'understand', 'correspond', 'concur', 'concord']\n",
      "Some antonyms for word excited are ['calm', 'stifle', 'unexcited']\n",
      "Some synonyms for word excited are ['excited', 'unrestrained', 'agitate']\n",
      "Some early replacements for word [excited] are ['exited', 'wait', 'stoked', 'pumped', 'ready', 'next', 'nervous', 'calm']\n",
      "some skipped words: ['next', 'unexcited', 'unrestrained', 'delirious']\n",
      "No antonyms found for word awesome\n",
      "Some synonyms for word awesome are ['awful', 'awe-inspiring', 'awing']\n",
      "Some early replacements for word [awesome] are ['amazing', 'great', 'fantastic', 'fun', 'best', 'cool', 'good', 'awful']\n",
      "1'th word's (agree) options: {'disagree', 'agree', 'harmonize', 'fit'}\n",
      "12'th word's (excited) options: {'nervous', 'excited', 'mad', 'frantic', 'calm', 'agitate', 'ready', 'emotional'}\n",
      "26'th word's (awesome) options: {'fantastic', 'good', 'awful', 'great', 'fun', 'cool', 'amazing', 'awesome'}\n",
      "number of negations removed: 0\n",
      "--- More options (total: 405) possible, but not printed ---\n"
     ]
    },
    {
     "data": {
      "text/html": [
       "<text style=color:black>Actual Sentence:  i agree. the shapeshifting is a copout. i was so excited for angela is ep i thought it was this week.  noah was awesome tho! :0.8752</text>"
      ],
      "text/plain": [
       "<IPython.core.display.HTML object>"
      ]
     },
     "metadata": {},
     "output_type": "display_data"
    },
    {
     "data": {
      "text/html": [
       "<text style=color:red>Worst Sentence: i <text style=color:blue><i>[disagree]</i></text> . the shapeshifting is a copout . i was so <text style=color:blue><i>[mad]</i></text> for angela is ep i thought it was this week . noah was <text style=color:blue><i>[awful]</i></text> tho ! : -0.8752</text>"
      ],
      "text/plain": [
       "<IPython.core.display.HTML object>"
      ]
     },
     "metadata": {},
     "output_type": "display_data"
    },
    {
     "data": {
      "text/html": [
       "<text style=color:green>Best Sentence: i <text style=color:blue><i>[harmonize]</i></text> . the shapeshifting is a copout . i was so <text style=color:blue><i>[ready]</i></text> for angela is ep i thought it was this week . noah was <text style=color:blue><i>[awesome]</i></text> tho ! : 0.8843</text>"
      ],
      "text/plain": [
       "<IPython.core.display.HTML object>"
      ]
     },
     "metadata": {},
     "output_type": "display_data"
    },
    {
     "name": "stdout",
     "output_type": "stream",
     "text": [
      "\n",
      "\n",
      " Tweet: i wish i was better at writing. it is taking me so long to write this paper. :0.6808\n",
      "\n",
      "Some antonyms for word wish are ['begrudge']\n",
      "Some synonyms for word wish are ['want', 'wishing', 'indirect_request']\n",
      "Some early replacements for word [wish] are ['hope', 'happy', 'have', 'wishes', 'think', 'you', 'could', 'begrudge']\n",
      "some skipped words: ['have', 'think', 'begrudge', 'regard']\n",
      "Some antonyms for word better are ['evil', 'bad', 'disadvantageously']\n",
      "Some synonyms for word better are ['in_effect', 'salutary', 'considerably']\n",
      "Some early replacements for word [better] are ['than', 'think', 'but', 'should', 'way', 'good', 'get', 'evil']\n",
      "1'th word's (wish) options: {'want', 'care', 'wish', 'hope'}\n",
      "4'th word's (better) options: {'worse', 'better'}\n",
      "number of negations removed: 0\n",
      "--- More options (total: 15) possible, but not printed ---\n"
     ]
    },
    {
     "data": {
      "text/html": [
       "<text style=color:black>Actual Sentence: i wish i was better at writing. it is taking me so long to write this paper.  :0.6808</text>"
      ],
      "text/plain": [
       "<IPython.core.display.HTML object>"
      ]
     },
     "metadata": {},
     "output_type": "display_data"
    },
    {
     "data": {
      "text/html": [
       "<text style=color:red>Worst Sentence: i <text style=color:blue><i>[wish]</i></text> i was <text style=color:blue><i>[worse]</i></text> at writing . it is taking me so long to write this paper . : -0.1027</text>"
      ],
      "text/plain": [
       "<IPython.core.display.HTML object>"
      ]
     },
     "metadata": {},
     "output_type": "display_data"
    },
    {
     "data": {
      "text/html": [
       "<text style=color:green>Best Sentence: i <text style=color:blue><i>[care]</i></text> i was <text style=color:blue><i>[better]</i></text> at writing . it is taking me so long to write this paper . : 0.7269</text>"
      ],
      "text/plain": [
       "<IPython.core.display.HTML object>"
      ]
     },
     "metadata": {},
     "output_type": "display_data"
    },
    {
     "name": "stdout",
     "output_type": "stream",
     "text": [
      "\n",
      "\n",
      " Tweet: ..and of course... i have access to my halo 3 mythic map pack redownload.. but bad news.. not the legendary map pack... ugh.. 600ms... :-0.6956\n",
      "\n",
      "Some antonyms for word bad are ['good', 'goodness', 'unregretful']\n",
      "Some synonyms for word bad are ['speculative', 'risky', 'forged']\n",
      "Some early replacements for word [bad] are ['good', 'but', 'shit', 'really', \"n't\", 'damn', 'think', 'good']\n",
      "some skipped words: ['but', 'really', \"n't\", 'think', 'unregretful']\n",
      "16'th word's (bad) options: {'risky', 'bad', 'good', 'goodness', 'sorry', 'tough', 'badly', 'damn', 'regretful'}\n",
      "number of negations removed: 10\n",
      "--- More options (total: 20) possible, but not printed ---\n"
     ]
    },
    {
     "data": {
      "text/html": [
       "<text style=color:black>Actual Sentence: ..and of course... i have access to my halo 3 mythic map pack redownload.. but bad news.. not the legendary map pack... ugh.. 600ms...  :-0.6956</text>"
      ],
      "text/plain": [
       "<IPython.core.display.HTML object>"
      ]
     },
     "metadata": {},
     "output_type": "display_data"
    },
    {
     "data": {
      "text/html": [
       "<text style=color:red>Worst Sentence: ..and of course ... i have access to my halo 3 mythic map pack redownload.. but <text style=color:blue><i>[bad]</i></text> news.. not the legendary map pack ... ugh.. 600ms ... : -0.6956</text>"
      ],
      "text/plain": [
       "<IPython.core.display.HTML object>"
      ]
     },
     "metadata": {},
     "output_type": "display_data"
    },
    {
     "data": {
      "text/html": [
       "<text style=color:green>Best Sentence: ..and of course ... i have access to my halo 3 mythic map pack redownload.. but <text style=color:blue><i>[goodness]</i></text> news.. <text style=color:blue><i>[the]</i></text> legendary map pack ... ugh.. 600ms ... : 0.6124</text>"
      ],
      "text/plain": [
       "<IPython.core.display.HTML object>"
      ]
     },
     "metadata": {},
     "output_type": "display_data"
    },
    {
     "name": "stdout",
     "output_type": "stream",
     "text": [
      "\n",
      "\n",
      " Tweet:  ...not yet unfortunately another few weeks i have been told  how are you i have been a little bit busy with my latest project.:-0.34\n",
      "\n",
      "Some antonyms for word unfortunately are ['fortunately', 'luckily']\n",
      "Some synonyms for word unfortunately are ['regrettably', 'unfortunately', 'alas']\n",
      "Some early replacements for word [unfortunately] are ['sadly', 'however', 'although', 'luckily', 'apparently', 'thankfully', 'perhaps', 'fortunately']\n",
      "some skipped words: ['however', 'apparently', 'perhaps', 'fortunately', 'unluckily']\n",
      "3'th word's (unfortunately) options: {'thankfully', 'luckily', 'sadly', 'unfortunately', 'regrettably'}\n",
      "number of negations removed: 6\n",
      "--- More options (total: 12) possible, but not printed ---\n"
     ]
    },
    {
     "data": {
      "text/html": [
       "<text style=color:black>Actual Sentence:  ...not yet unfortunately another few weeks i have been told  how are you i have been a little bit busy with my latest project. :-0.34</text>"
      ],
      "text/plain": [
       "<IPython.core.display.HTML object>"
      ]
     },
     "metadata": {},
     "output_type": "display_data"
    },
    {
     "data": {
      "text/html": [
       "<text style=color:red>Worst Sentence: ... <text style=color:blue><i>[yet]</i></text> regrettably <text style=color:blue><i>[another]</i></text> few weeks i have been told how are you i have been a little bit busy with my latest project . : -0.4588</text>"
      ],
      "text/plain": [
       "<IPython.core.display.HTML object>"
      ]
     },
     "metadata": {},
     "output_type": "display_data"
    },
    {
     "data": {
      "text/html": [
       "<text style=color:green>Best Sentence: ... <text style=color:blue><i>[yet]</i></text> luckily <text style=color:blue><i>[another]</i></text> few weeks i have been told how are you i have been a little bit busy with my latest project . : 0.5106</text>"
      ],
      "text/plain": [
       "<IPython.core.display.HTML object>"
      ]
     },
     "metadata": {},
     "output_type": "display_data"
    },
    {
     "name": "stdout",
     "output_type": "stream",
     "text": [
      "\n",
      "\n",
      " Tweet:  ha the sun is already gone :0.34\n",
      "\n",
      "No antonyms found for word ha\n",
      "Some synonyms for word ha are ['hour_angle', 'ha']\n",
      "Some early replacements for word [ha] are ['han', 'he', 'eh', 'ho', 'haa', 'lol', 'hahahaha', 'hour_angle']\n",
      "some skipped words: ['eh']\n",
      "0'th word's (ha) options: {'ha'}\n",
      "number of negations removed: 0\n"
     ]
    },
    {
     "data": {
      "text/html": [
       "<text style=color:black>Actual Sentence:  ha the sun is already gone  :0.34</text>"
      ],
      "text/plain": [
       "<IPython.core.display.HTML object>"
      ]
     },
     "metadata": {},
     "output_type": "display_data"
    },
    {
     "data": {
      "text/html": [
       "<text style=color:green>Best Sentence: <text style=color:blue><i>[ha]</i></text> the sun is already gone : 0.34</text>"
      ],
      "text/plain": [
       "<IPython.core.display.HTML object>"
      ]
     },
     "metadata": {},
     "output_type": "display_data"
    },
    {
     "name": "stdout",
     "output_type": "stream",
     "text": [
      "\n",
      "\n",
      " Tweet: my man crush jake peavy let me down  gayforpeavy:-0.1531\n",
      "\n",
      "No antonyms found for word crush\n",
      "Some synonyms for word crush are ['calf_love', 'press', 'beat']\n",
      "Some early replacements for word [crush] are ['boyfriend', 'bf', 'friend', 'gf', 'girl', 'candy', 'bestfriend', 'calf_love']\n",
      "some skipped words: ['boyfriend', 'bf', 'girl', 'candy', 'press']\n",
      "2'th word's (crush) options: {'infatuation', 'friend', 'crush'}\n",
      "number of negations removed: 0\n"
     ]
    },
    {
     "data": {
      "text/html": [
       "<text style=color:black>Actual Sentence: my man crush jake peavy let me down  gayforpeavy :-0.1531</text>"
      ],
      "text/plain": [
       "<IPython.core.display.HTML object>"
      ]
     },
     "metadata": {},
     "output_type": "display_data"
    },
    {
     "data": {
      "text/html": [
       "<text style=color:red>Worst Sentence: my man <text style=color:blue><i>[crush]</i></text> jake peavy let me down gayforpeavy : -0.1531</text>"
      ],
      "text/plain": [
       "<IPython.core.display.HTML object>"
      ]
     },
     "metadata": {},
     "output_type": "display_data"
    },
    {
     "data": {
      "text/html": [
       "<text style=color:green>Best Sentence: my man <text style=color:blue><i>[friend]</i></text> jake peavy let me down gayforpeavy : 0.4939</text>"
      ],
      "text/plain": [
       "<IPython.core.display.HTML object>"
      ]
     },
     "metadata": {},
     "output_type": "display_data"
    },
    {
     "name": "stdout",
     "output_type": "stream",
     "text": [
      "\n",
      "\n",
      " Tweet:  megafast trip you have time during day tomweds or you going out tonight want to see you bad. tried to warn you tech fail :-0.7964\n",
      "\n",
      "No antonyms found for word want\n",
      "Some synonyms for word want are ['want', 'privation', 'wishing']\n",
      "Some early replacements for word [want] are ['need', 'wanna', 'if', \"n't\", 'know', 'get', 'think', 'want']\n",
      "some skipped words: ['need', 'know', 'get', 'think', 'need']\n",
      "Some antonyms for word bad are ['good', 'goodness', 'unregretful']\n",
      "Some synonyms for word bad are ['speculative', 'risky', 'forged']\n",
      "Some early replacements for word [bad] are ['good', 'but', 'shit', 'really', \"n't\", 'damn', 'think', 'good']\n",
      "some skipped words: ['unregretful', 'unfit', 'high-risk', 'big', 'uncollectible']\n",
      "No antonyms found for word warn\n",
      "Some synonyms for word warn are ['admonish', 'discourage', 'monish']\n",
      "Some early replacements for word [warn] are ['warned', 'threaten', 'warns', 'tell', 'officials', 'feds', 'advise', 'admonish']\n",
      "some skipped words: ['tell', 'advise', 'admonish', 'monish']\n",
      "Some antonyms for word fail are ['pass', 'manage', 'succeed']\n",
      "Some synonyms for word fail are ['break', 'neglect', 'conk_out']\n",
      "Some early replacements for word [fail] are ['failed', 'fails', 'failing', 'try', 'never', 'not', \"n't\", 'pass']\n",
      "some skipped words: ['try', 'pass', 'manage', 'break', 'miscarry']\n",
      "13'th word's (want) options: {'want', 'wish'}\n",
      "17'th word's (bad) options: {'speculative', 'risky', 'bad', 'good', 'sorry', 'tough', 'defective', 'regretful'}\n",
      "21'th word's (warn) options: {'discourage', 'threaten', 'warn'}\n",
      "24'th word's (fail) options: {'neglect', 'flunk', 'fail', 'die', 'succeed', 'bomb'}\n",
      "number of negations removed: 0\n",
      "--- More options (total: 756) possible, but not printed ---\n"
     ]
    },
    {
     "data": {
      "text/html": [
       "<text style=color:black>Actual Sentence:  megafast trip you have time during day tomweds or you going out tonight want to see you bad. tried to warn you tech fail  :-0.7964</text>"
      ],
      "text/plain": [
       "<IPython.core.display.HTML object>"
      ]
     },
     "metadata": {},
     "output_type": "display_data"
    },
    {
     "data": {
      "text/html": [
       "<text style=color:red>Worst Sentence: megafast trip you have time during day tomweds or you going out tonight <text style=color:blue><i>[want]</i></text> to see you <text style=color:blue><i>[bad]</i></text> . tried to <text style=color:blue><i>[discourage]</i></text> you tech <text style=color:blue><i>[die]</i></text> : -0.872</text>"
      ],
      "text/plain": [
       "<IPython.core.display.HTML object>"
      ]
     },
     "metadata": {},
     "output_type": "display_data"
    },
    {
     "data": {
      "text/html": [
       "<text style=color:green>Best Sentence: megafast trip you have time during day tomweds or you going out tonight <text style=color:blue><i>[wish]</i></text> to see you <text style=color:blue><i>[good]</i></text> . tried to <text style=color:blue><i>[warn]</i></text> you tech <text style=color:blue><i>[succeed]</i></text> : 0.8126</text>"
      ],
      "text/plain": [
       "<IPython.core.display.HTML object>"
      ]
     },
     "metadata": {},
     "output_type": "display_data"
    },
    {
     "name": "stdout",
     "output_type": "stream",
     "text": [
      "\n",
      "\n",
      " Tweet: michigan state you make me sad :-0.4767\n",
      "\n",
      "Some antonyms for word sad are ['glad']\n",
      "Some synonyms for word sad are ['distressing', 'sorry', 'lamentable']\n",
      "Some early replacements for word [sad] are ['depressing', 'really', 'depressed', 'sick', 'feel', 'cry', 'upset', 'glad']\n",
      "some skipped words: ['deplorable']\n",
      "5'th word's (sad) options: {'distressing', 'depressing', 'sorry', 'sick', 'lamentable', 'upset', 'depressed', 'sad', 'pitiful', 'glad'}\n",
      "number of negations removed: 0\n",
      "--- More options (total: 11) possible, but not printed ---\n"
     ]
    },
    {
     "data": {
      "text/html": [
       "<text style=color:black>Actual Sentence: michigan state you make me sad  :-0.4767</text>"
      ],
      "text/plain": [
       "<IPython.core.display.HTML object>"
      ]
     },
     "metadata": {},
     "output_type": "display_data"
    },
    {
     "data": {
      "text/html": [
       "<text style=color:red>Worst Sentence: michigan state you make me <text style=color:blue><i>[sick]</i></text> : -0.5106</text>"
      ],
      "text/plain": [
       "<IPython.core.display.HTML object>"
      ]
     },
     "metadata": {},
     "output_type": "display_data"
    },
    {
     "data": {
      "text/html": [
       "<text style=color:green>Best Sentence: michigan state you make me <text style=color:blue><i>[glad]</i></text> : 0.4588</text>"
      ],
      "text/plain": [
       "<IPython.core.display.HTML object>"
      ]
     },
     "metadata": {},
     "output_type": "display_data"
    },
    {
     "name": "stdout",
     "output_type": "stream",
     "text": [
      "\n",
      "\n",
      " Tweet: omg. my mouth is in so much pain  i just wanna sleep untill its time to take my braces off.:-0.5542\n",
      "\n",
      "Some antonyms for word pain are ['pleasure']\n",
      "Some synonyms for word pain are ['pain_sensation', 'annoyance', 'painfulness']\n",
      "Some early replacements for word [pain] are ['hurts', 'pains', 'hurt', 'stress', 'sadness', 'suffering', 'painful', 'pleasure']\n",
      "some skipped words: ['infliction', 'ail', 'nuisance']\n",
      "8'th word's (pain) options: {'annoyance', 'pleasure', 'painfulness', 'trouble', 'hurt', 'anguish', 'sadness', 'stress', 'botheration', 'pain', 'bother'}\n",
      "number of negations removed: 0\n",
      "--- More options (total: 12) possible, but not printed ---\n"
     ]
    },
    {
     "data": {
      "text/html": [
       "<text style=color:black>Actual Sentence: omg. my mouth is in so much pain  i just wanna sleep untill its time to take my braces off. :-0.5542</text>"
      ],
      "text/plain": [
       "<IPython.core.display.HTML object>"
      ]
     },
     "metadata": {},
     "output_type": "display_data"
    },
    {
     "data": {
      "text/html": [
       "<text style=color:red>Worst Sentence: omg . my mouth is in so much <text style=color:blue><i>[anguish]</i></text> i just wan na sleep untill its time to take my braces off . : -0.6344</text>"
      ],
      "text/plain": [
       "<IPython.core.display.HTML object>"
      ]
     },
     "metadata": {},
     "output_type": "display_data"
    },
    {
     "data": {
      "text/html": [
       "<text style=color:green>Best Sentence: omg . my mouth is in so much <text style=color:blue><i>[pleasure]</i></text> i just wan na sleep untill its time to take my braces off . : 0.6096</text>"
      ],
      "text/plain": [
       "<IPython.core.display.HTML object>"
      ]
     },
     "metadata": {},
     "output_type": "display_data"
    },
    {
     "name": "stdout",
     "output_type": "stream",
     "text": [
      "\n",
      "\n",
      " Tweet: getting annoyed easily today  gtgtgt biofuel proposal getting annoyed easily today  gtgtgt biof.. :-0.1027\n",
      "\n",
      "No antonyms found for word annoyed\n",
      "Some synonyms for word annoyed are ['annoy', 'get_to', 'miffed']\n",
      "Some early replacements for word [annoyed] are ['pissed', 'irritated', 'frustrated', 'annoying', 'upset', 'confused', 'tired', 'annoy']\n",
      "some skipped words: ['miffed', 'pestered', 'stung', 'vexed', 'steamed']\n",
      "No antonyms found for word easily\n",
      "Some synonyms for word easily are ['well', 'easily', 'easy']\n",
      "Some early replacements for word [easily] are ['quickly', 'annoyed', 'often', 'upset', 'usually', 'sometimes', 'able', 'well']\n",
      "some skipped words: ['quickly', 'often', 'usually', 'sometimes']\n",
      "FOUND REPEATED WORD annoyed\n",
      "FOUND REPEATED WORD easily\n",
      "1'th word's (annoyed) options: {'harassed', 'confused', 'annoyed', 'upset', 'frustrated', 'harried'}\n",
      "2'th word's (easily) options: {'well', 'easily'}\n",
      "8'th word's (annoyed) options: {'harassed', 'confused', 'annoyed', 'frustrated', 'upset', 'harried'}\n",
      "9'th word's (easily) options: {'well', 'easily'}\n",
      "number of negations removed: 0\n",
      "--- More options (total: 441) possible, but not printed ---\n"
     ]
    },
    {
     "data": {
      "text/html": [
       "<text style=color:black>Actual Sentence: getting annoyed easily today  gtgtgt biofuel proposal getting annoyed easily today  gtgtgt biof..  :-0.1027</text>"
      ],
      "text/plain": [
       "<IPython.core.display.HTML object>"
      ]
     },
     "metadata": {},
     "output_type": "display_data"
    },
    {
     "data": {
      "text/html": [
       "<text style=color:red>Worst Sentence: getting <text style=color:blue><i>[harassed]</i></text> <text style=color:blue><i>[well]</i></text> today gtgtgt biofuel proposal getting <text style=color:blue><i>[frustrated]</i></text> <text style=color:blue><i>[well]</i></text> today gtgtgt biof.. : -0.5719</text>"
      ],
      "text/plain": [
       "<IPython.core.display.HTML object>"
      ]
     },
     "metadata": {},
     "output_type": "display_data"
    },
    {
     "data": {
      "text/html": [
       "<text style=color:green>Best Sentence: getting <text style=color:blue><i>[confused]</i></text> <text style=color:blue><i>[easily]</i></text> today gtgtgt biofuel proposal getting <text style=color:blue><i>[confused]</i></text> <text style=color:blue><i>[easily]</i></text> today gtgtgt biof.. : 0.0516</text>"
      ],
      "text/plain": [
       "<IPython.core.display.HTML object>"
      ]
     },
     "metadata": {},
     "output_type": "display_data"
    },
    {
     "name": "stdout",
     "output_type": "stream",
     "text": [
      "\n",
      "\n",
      " Tweet:  i am spending time with my grandma early tomorrow and i can not leave skittles by herself. :0.0382\n",
      "\n",
      "Some antonyms for word leave are ['arrive', 'enter', 'disinherit']\n",
      "Some synonyms for word leave are ['leave_alone', 'allow', 'will']\n",
      "Some early replacements for word [leave] are ['leaving', 'tell', \"'ll\", 'take', \"n't\", 'left', 'let', 'arrive']\n",
      "some skipped words: ['tell', 'take', 'left', 'let', 'arrive']\n",
      "13'th word's (leave) options: {'allow', 'forget', 'leave'}\n",
      "number of negations removed: 4\n"
     ]
    },
    {
     "data": {
      "text/html": [
       "<text style=color:black>Actual Sentence:  i am spending time with my grandma early tomorrow and i can not leave skittles by herself.  :0.0382</text>"
      ],
      "text/plain": [
       "<IPython.core.display.HTML object>"
      ]
     },
     "metadata": {},
     "output_type": "display_data"
    },
    {
     "data": {
      "text/html": [
       "<text style=color:red>Worst Sentence: i am spending time with my grandma early tomorrow and i can <text style=color:blue><i>[forget]</i></text> <text style=color:blue><i>[skittles]</i></text> by herself . : -0.2263</text>"
      ],
      "text/plain": [
       "<IPython.core.display.HTML object>"
      ]
     },
     "metadata": {},
     "output_type": "display_data"
    },
    {
     "data": {
      "text/html": [
       "<text style=color:green>Best Sentence: i am spending time with my grandma early tomorrow and i can <text style=color:blue><i>[allow]</i></text> <text style=color:blue><i>[skittles]</i></text> by herself . : 0.2263</text>"
      ],
      "text/plain": [
       "<IPython.core.display.HTML object>"
      ]
     },
     "metadata": {},
     "output_type": "display_data"
    },
    {
     "name": "stdout",
     "output_type": "stream",
     "text": [
      "\n",
      "\n",
      " Tweet: oh jewbus! two years worth of classes work is alot to organize gtlt i am not finishing tonight it is not possible...my bones ache :0.5229\n",
      "\n",
      "Some antonyms for word worth are ['worthlessness']\n",
      "Some synonyms for word worth are ['deserving', 'charles_frederick_worth', 'worth']\n",
      "Some early replacements for word [worth] are ['spend', 'giving', 'enough', 'nothing', 'anything', 'means', 'only', 'worthlessness']\n",
      "some skipped words: ['enough']\n",
      "No antonyms found for word ache\n",
      "Some synonyms for word ache are ['languish', 'suffer', 'yen']\n",
      "Some early replacements for word [ache] are ['headache', 'aches', 'aching', 'hurts', 'stomach', 'migraine', 'hurting', 'languish']\n",
      "some skipped words: ['headache', 'stomach', 'pine']\n",
      "5'th word's (worth) options: {'worth'}\n",
      "26'th word's (ache) options: {'ache'}\n",
      "number of negations removed: 4\n"
     ]
    },
    {
     "data": {
      "text/html": [
       "<text style=color:black>Actual Sentence: oh jewbus! two years worth of classes work is alot to organize gtlt i am not finishing tonight it is not possible...my bones ache  :0.5229</text>"
      ],
      "text/plain": [
       "<IPython.core.display.HTML object>"
      ]
     },
     "metadata": {},
     "output_type": "display_data"
    },
    {
     "data": {
      "text/html": [
       "<text style=color:green>Best Sentence: oh jewbus ! two years <text style=color:blue><i>[worth]</i></text> of classes work is alot to organize gtlt i am <text style=color:blue><i>[finishing]</i></text> tonight it is not possible ... my bones ache : -0.2481</text>"
      ],
      "text/plain": [
       "<IPython.core.display.HTML object>"
      ]
     },
     "metadata": {},
     "output_type": "display_data"
    },
    {
     "name": "stdout",
     "output_type": "stream",
     "text": [
      "\n",
      "\n",
      " Tweet:  no exchanging for me my laptop has not arrived :-0.296\n",
      "\n",
      "Some antonyms for word no are ['all', 'yes']\n",
      "Some synonyms for word no are ['atomic_number_102', 'no_more', 'no']\n",
      "Some early replacements for word [no] are ['nno', 'me', 'noo', 'do', 'yo', 'q', 'nada', 'all']\n",
      "some skipped words: ['all']\n",
      "0'th word's (no) options: {'no'}\n",
      "number of negations removed: 2\n"
     ]
    },
    {
     "data": {
      "text/html": [
       "<text style=color:black>Actual Sentence:  no exchanging for me my laptop has not arrived  :-0.296</text>"
      ],
      "text/plain": [
       "<IPython.core.display.HTML object>"
      ]
     },
     "metadata": {},
     "output_type": "display_data"
    },
    {
     "data": {
      "text/html": [
       "<text style=color:green>Best Sentence: <text style=color:blue><i>[no]</i></text> exchanging for me my laptop has <text style=color:blue><i>[arrived]</i></text> : -0.296</text>"
      ],
      "text/plain": [
       "<IPython.core.display.HTML object>"
      ]
     },
     "metadata": {},
     "output_type": "display_data"
    },
    {
     "name": "stdout",
     "output_type": "stream",
     "text": [
      "\n",
      "\n",
      " Tweet:  i hope this does not last too long.  i feel miserable!:-0.1511\n",
      "\n",
      "Some antonyms for word hope are ['despair']\n",
      "Some synonyms for word hope are ['go_for', 'promise', 'desire']\n",
      "Some early replacements for word [hope] are ['hopefully', 'well', 'hoping', 'everyone', \"'ll\", 'sure', 'see', 'despair']\n",
      "some skipped words: ['see']\n",
      "No antonyms found for word miserable\n",
      "Some synonyms for word miserable are ['suffering', 'piteous', 'wretched']\n",
      "Some early replacements for word [miserable] are ['unhappy', 'depressed', 'lonely', 'pathetic', 'horrible', 'mediocre', 'lazy', 'suffering']\n",
      "some skipped words: ['mediocre', 'wretched', 'low-down', 'execrable', 'abject']\n",
      "1'th word's (hope) options: {'promise', 'desire', 'hope', 'trust', 'despair'}\n",
      "11'th word's (miserable) options: {'unhappy', 'miserable', 'piteous', 'pathetic', 'poor', 'low', 'lonely', 'hapless', 'pitiable', 'woeful', 'horrible', 'depressed', 'lazy', 'pitiful'}\n",
      "number of negations removed: 90\n",
      "--- More options (total: 180) possible, but not printed ---\n"
     ]
    },
    {
     "data": {
      "text/html": [
       "<text style=color:black>Actual Sentence:  i hope this does not last too long.  i feel miserable! :-0.1511</text>"
      ],
      "text/plain": [
       "<IPython.core.display.HTML object>"
      ]
     },
     "metadata": {},
     "output_type": "display_data"
    },
    {
     "data": {
      "text/html": [
       "<text style=color:red>Worst Sentence: i <text style=color:blue><i>[despair]</i></text> this does not last too long . i feel <text style=color:blue><i>[pathetic]</i></text> ! : -0.7424</text>"
      ],
      "text/plain": [
       "<IPython.core.display.HTML object>"
      ]
     },
     "metadata": {},
     "output_type": "display_data"
    },
    {
     "data": {
      "text/html": [
       "<text style=color:green>Best Sentence: i <text style=color:blue><i>[trust]</i></text> this does <text style=color:blue><i>[last]</i></text> too long . i feel pitiable <text style=color:blue><i>[!]</i></text> : 0.3595</text>"
      ],
      "text/plain": [
       "<IPython.core.display.HTML object>"
      ]
     },
     "metadata": {},
     "output_type": "display_data"
    },
    {
     "name": "stdout",
     "output_type": "stream",
     "text": [
      "\n",
      "\n",
      " Tweet:  rachel! hang outage is neccessary  i was gonna be home this wekend but dumb folk make me work   so im free f and sat until 4...:0.1802\n",
      "\n",
      "No antonyms found for word dumb\n",
      "Some synonyms for word dumb are ['dense', 'silent', 'dim']\n",
      "Some early replacements for word [dumb] are ['stupid', 'dumbass', 'silly', 'ass', 'ignorant', 'shit', 'smh', 'dense']\n",
      "some skipped words: ['dense', 'silent', 'dim', 'speechless', 'slow']\n",
      "Some antonyms for word free are ['freeze', 'lodge', 'unfree']\n",
      "Some synonyms for word free are ['liberate', 'innocent', 'barren']\n",
      "Some early replacements for word [free] are ['check', 'get', 'available', 'only', 'download', 'or', 'now', 'freeze']\n",
      "some skipped words: ['check', 'get', 'available', 'only', 'download']\n",
      "15'th word's (dumb) options: {'ignorant', 'silly', 'dull', 'stupid', 'dumb'}\n",
      "22'th word's (free) options: {'innocent', 'block', 'gratis', 'free', 'resign', 'detached', 'loose', 'freeze', 'blame', 'absolve', 'complimentary', 'relieve', 'exempt'}\n",
      "number of negations removed: 0\n",
      "--- More options (total: 84) possible, but not printed ---\n"
     ]
    },
    {
     "data": {
      "text/html": [
       "<text style=color:black>Actual Sentence:  rachel! hang outage is neccessary  i was gonna be home this wekend but dumb folk make me work   so im free f and sat until 4... :0.1802</text>"
      ],
      "text/plain": [
       "<IPython.core.display.HTML object>"
      ]
     },
     "metadata": {},
     "output_type": "display_data"
    },
    {
     "data": {
      "text/html": [
       "<text style=color:red>Worst Sentence: rachel ! hang outage is neccessary i was gon na be home this wekend but <text style=color:blue><i>[stupid]</i></text> folk make me work so im <text style=color:blue><i>[block]</i></text> f and sat until 4 ... : -0.8796</text>"
      ],
      "text/plain": [
       "<IPython.core.display.HTML object>"
      ]
     },
     "metadata": {},
     "output_type": "display_data"
    },
    {
     "data": {
      "text/html": [
       "<text style=color:green>Best Sentence: rachel ! hang outage is neccessary i was gon na be home this wekend but <text style=color:blue><i>[silly]</i></text> folk make me work so im <text style=color:blue><i>[free]</i></text> f and sat until 4 ... : 0.7438</text>"
      ],
      "text/plain": [
       "<IPython.core.display.HTML object>"
      ]
     },
     "metadata": {},
     "output_type": "display_data"
    },
    {
     "name": "stdout",
     "output_type": "stream",
     "text": [
      "\n",
      "\n",
      " Tweet:  not fun amp furious the new mantra for the bay 2 breakers it was getting 2 rambunctiousthe city overreacted amp clamped down :-0.3408\n",
      "\n",
      "No antonyms found for word fun\n",
      "Some synonyms for word fun are ['playfulness', 'merriment', 'play']\n",
      "Some early replacements for word [fun] are ['awesome', 'great', 'enjoy', 'night', 'weekend', 'friends', 'good', 'playfulness']\n",
      "some skipped words: ['night', 'weekend', 'sport']\n",
      "No antonyms found for word furious\n",
      "Some synonyms for word furious are ['angered', 'infuriated', 'raging']\n",
      "Some early replacements for word [furious] are ['walker', 'fast', 'paul', 'fastandfurious', 'fastand', 'movie', 'furioso', 'angered']\n",
      "some skipped words: ['fastandfurious', 'furioso', 'tempestuous', 'wild']\n",
      "No antonyms found for word overreacted\n",
      "Some synonyms for word overreacted are ['overreact']\n",
      "Some early replacements for word [overreacted] are ['overreacting', 'ranted', 'swooned', 'exaggerating', 'exaggerated', 'miffed', 'disagreed', 'overreact']\n",
      "some skipped words: ['swooned']\n",
      "1'th word's (fun) options: {'playfulness', 'fun'}\n",
      "3'th word's (furious) options: {'furious', 'angry', 'ferocious'}\n",
      "18'th word's (overreacted) options: {'disagreed', 'exaggerated'}\n",
      "number of negations removed: 36\n",
      "--- More options (total: 72) possible, but not printed ---\n"
     ]
    },
    {
     "data": {
      "text/html": [
       "<text style=color:black>Actual Sentence:  not fun amp furious the new mantra for the bay 2 breakers it was getting 2 rambunctiousthe city overreacted amp clamped down  :-0.3408</text>"
      ],
      "text/plain": [
       "<IPython.core.display.HTML object>"
      ]
     },
     "metadata": {},
     "output_type": "display_data"
    },
    {
     "data": {
      "text/html": [
       "<text style=color:red>Worst Sentence: <text style=color:blue><i>[playfulness]</i></text> <text style=color:blue><i>[amp]</i></text> furious <text style=color:blue><i>[the]</i></text> new mantra for the bay 2 breakers it was getting 2 rambunctiousthe city overreacted <text style=color:blue><i>[amp]</i></text> clamped down : -0.6369</text>"
      ],
      "text/plain": [
       "<IPython.core.display.HTML object>"
      ]
     },
     "metadata": {},
     "output_type": "display_data"
    },
    {
     "data": {
      "text/html": [
       "<text style=color:green>Best Sentence: <text style=color:blue><i>[fun]</i></text> <text style=color:blue><i>[amp]</i></text> ferocious <text style=color:blue><i>[the]</i></text> new mantra for the bay 2 breakers it was getting 2 rambunctiousthe city exaggerated <text style=color:blue><i>[amp]</i></text> clamped down : 0.3612</text>"
      ],
      "text/plain": [
       "<IPython.core.display.HTML object>"
      ]
     },
     "metadata": {},
     "output_type": "display_data"
    },
    {
     "name": "stdout",
     "output_type": "stream",
     "text": [
      "\n",
      "\n",
      " Tweet:   my hubby for some reason thinks it is more important he has a good spot for red carpet for the trek movie premiere. sod!:0.6468\n",
      "\n",
      "Some antonyms for word important are ['insignificant', 'noncrucial', 'unimportant']\n",
      "Some synonyms for word important are ['important', 'of_import', 'crucial']\n",
      "Some early replacements for word [important] are ['matter', 'very', 'possible', 'most', 'something', 'question', 'things', 'insignificant']\n",
      "some skipped words: ['possible', 'noncrucial', 'crucial', 'authoritative']\n",
      "Some antonyms for word good are ['bad', 'evil', 'evilness']\n",
      "Some synonyms for word good are ['in_effect', 'salutary', 'trade_good']\n",
      "Some early replacements for word [good] are ['great', 'well', 'nice', 'better', 'night', 'morning', 'but', 'bad']\n",
      "some skipped words: ['salutary', 'adept', 'skillful', 'estimable', 'expert']\n",
      "9'th word's (important) options: {'insignificant', 'important', 'significant', 'unimportant'}\n",
      "13'th word's (good) options: {'dear', 'serious', 'evil', 'bad', 'nice', 'evilness', 'good', 'honorable', 'beneficial', 'honest', 'great', 'safe', 'well', 'secure', 'effective', 'respectable', 'ill'}\n",
      "number of negations removed: 0\n",
      "--- More options (total: 90) possible, but not printed ---\n"
     ]
    },
    {
     "data": {
      "text/html": [
       "<text style=color:black>Actual Sentence:   my hubby for some reason thinks it is more important he has a good spot for red carpet for the trek movie premiere. sod! :0.6468</text>"
      ],
      "text/plain": [
       "<IPython.core.display.HTML object>"
      ]
     },
     "metadata": {},
     "output_type": "display_data"
    },
    {
     "data": {
      "text/html": [
       "<text style=color:red>Worst Sentence: my hubby for some reason thinks it is more <text style=color:blue><i>[insignificant]</i></text> he has a <text style=color:blue><i>[evil]</i></text> spot for red carpet for the trek movie premiere . sod ! : -0.8118</text>"
      ],
      "text/plain": [
       "<IPython.core.display.HTML object>"
      ]
     },
     "metadata": {},
     "output_type": "display_data"
    },
    {
     "data": {
      "text/html": [
       "<text style=color:green>Best Sentence: my hubby for some reason thinks it is more <text style=color:blue><i>[important]</i></text> he has a <text style=color:blue><i>[great]</i></text> spot for red carpet for the trek movie premiere . sod ! : 0.7569</text>"
      ],
      "text/plain": [
       "<IPython.core.display.HTML object>"
      ]
     },
     "metadata": {},
     "output_type": "display_data"
    },
    {
     "name": "stdout",
     "output_type": "stream",
     "text": [
      "\n",
      "\n",
      " Tweet: i swear no matter how long i have been getting up at 5am it never gets any easier. man my eyes hurts wah :-0.7738\n",
      "\n",
      "Some antonyms for word swear are ['mistrust']\n",
      "Some synonyms for word swear are ['curse', 'rely', 'cuss']\n",
      "Some early replacements for word [swear] are ['honestly', 'cuz', 'lmao', 'shit', 'damn', 'seriously', 'lmfao', 'mistrust']\n",
      "some skipped words: ['rely', 'cuss', 'swan', 'bank', 'avow']\n",
      "Some antonyms for word no are ['all', 'yes']\n",
      "Some synonyms for word no are ['atomic_number_102', 'no_more', 'no']\n",
      "Some early replacements for word [no] are ['nno', 'me', 'noo', 'do', 'yo', 'q', 'nada', 'all']\n",
      "some skipped words: ['nno', 'nada', 'all']\n",
      "No antonyms found for word matter\n",
      "Some synonyms for word matter are ['topic', 'weigh', 'matter']\n",
      "Some early replacements for word [matter] are ['regardless', 'anything', 'whatever', 'whether', 'know', 'nothing', 'dont', 'topic']\n",
      "some skipped words: ['regardless']\n",
      "Some antonyms for word easier are ['uneasy', 'difficult']\n",
      "Some synonyms for word easier are ['soft', 'leisurely', 'wanton']\n",
      "Some early replacements for word [easier] are ['harder', 'easy', 'difficult', 'better', 'rather', 'smarter', 'longer', 'uneasy']\n",
      "some skipped words: ['harder', 'rather', 'longer', 'soft', 'leisurely']\n",
      "Some antonyms for word hurts are ['be_well']\n",
      "Some synonyms for word hurts are ['suffering', 'suffer', 'harm']\n",
      "Some early replacements for word [hurts] are ['hurt', 'hurting', 'pain', 'feels', 'ouch', 'feel', 'badly', 'be_well']\n",
      "some skipped words: ['feels', 'ouch', 'feel', 'detriment', 'scathe']\n",
      "1'th word's (swear) options: {'curse', 'shit', 'swear', 'lmao', 'lmfao', 'trust'}\n",
      "2'th word's (no) options: {'no'}\n",
      "3'th word's (matter) options: {'matter'}\n",
      "17'th word's (easier) options: {'better', 'difficult', 'easy', 'comfortable', 'prosperous', 'gentle', 'smarter', 'easygoing', 'uneasy', 'loose', 'sluttish', 'promiscuous'}\n",
      "22'th word's (hurts) options: {'suffering', 'suffer', 'harm', 'damage', 'hurting', 'smart', 'distress', 'badly', 'hurt', 'trauma', 'injury', 'anguish', 'ache', 'offend', 'spite', 'pain'}\n",
      "number of negations removed: 0\n",
      "--- More options (total: 6188) possible, but not printed ---\n"
     ]
    },
    {
     "data": {
      "text/html": [
       "<text style=color:black>Actual Sentence: i swear no matter how long i have been getting up at 5am it never gets any easier. man my eyes hurts wah  :-0.7738</text>"
      ],
      "text/plain": [
       "<IPython.core.display.HTML object>"
      ]
     },
     "metadata": {},
     "output_type": "display_data"
    },
    {
     "data": {
      "text/html": [
       "<text style=color:red>Worst Sentence: i <text style=color:blue><i>[shit]</i></text> <text style=color:blue><i>[no]</i></text> <text style=color:blue><i>[matter]</i></text> how long i have been getting up at 5am it never gets any <text style=color:blue><i>[comfortable]</i></text> . man my eyes <text style=color:blue><i>[anguish]</i></text> wah : -0.9062</text>"
      ],
      "text/plain": [
       "<IPython.core.display.HTML object>"
      ]
     },
     "metadata": {},
     "output_type": "display_data"
    },
    {
     "data": {
      "text/html": [
       "<text style=color:green>Best Sentence: i <text style=color:blue><i>[lmao]</i></text> <text style=color:blue><i>[no]</i></text> <text style=color:blue><i>[matter]</i></text> how long i have been getting up at 5am it never gets any <text style=color:blue><i>[sluttish]</i></text> . man my eyes <text style=color:blue><i>[smart]</i></text> wah : 0.798</text>"
      ],
      "text/plain": [
       "<IPython.core.display.HTML object>"
      ]
     },
     "metadata": {},
     "output_type": "display_data"
    },
    {
     "name": "stdout",
     "output_type": "stream",
     "text": [
      "\n",
      "\n",
      " Tweet: still sick. feeling a bit better got some new medicine.... hope i feel good after a night of sleep. ohh and it is suppose to snow! wtf! :0.3987\n",
      "\n",
      "Some antonyms for word sick are ['well', 'keep_down']\n",
      "Some synonyms for word sick are ['pale', 'disgorge', 'be_sick']\n",
      "Some early replacements for word [sick] are ['tired', 'feel', 'really', 'ugh', 'bad', 'seriously', 'fucking', 'well']\n",
      "some skipped words: ['pale', 'nauseous', 'macabre', 'spue', 'pallid']\n",
      "No antonyms found for word feeling\n",
      "Some synonyms for word feeling are ['spirit', 'impression', 'look']\n",
      "Some early replacements for word [feeling] are ['feel', 'feelin', 'feels', 'bad', 'sick', 'tired', 'good', 'spirit']\n",
      "Some antonyms for word better are ['evil', 'bad', 'disadvantageously']\n",
      "Some synonyms for word better are ['in_effect', 'salutary', 'considerably']\n",
      "Some early replacements for word [better] are ['than', 'think', 'but', 'should', 'way', 'good', 'get', 'evil']\n",
      "Some antonyms for word hope are ['despair']\n",
      "Some synonyms for word hope are ['go_for', 'promise', 'desire']\n",
      "Some early replacements for word [hope] are ['hopefully', 'well', 'hoping', 'everyone', \"'ll\", 'sure', 'see', 'despair']\n",
      "Some antonyms for word good are ['bad', 'evil', 'evilness']\n",
      "Some synonyms for word good are ['in_effect', 'salutary', 'trade_good']\n",
      "Some early replacements for word [good] are ['great', 'well', 'nice', 'better', 'night', 'morning', 'but', 'bad']\n",
      "some skipped words: ['salutary', 'adept', 'skillful', 'estimable', 'expert']\n",
      "No antonyms found for word wtf\n",
      "No synonyms found for word wtf\n",
      "Some early replacements for word [wtf] are ['fuck', 'omg', 'lol', 'lmfao', 'lmao', 'why', 'shit']\n",
      "some skipped words: ['omg']\n",
      "1'th word's (sick) options: {'mad', 'bad', 'sick', 'tired', 'crazy', 'puke', 'disturbed', 'grim', 'ill'}\n",
      "3'th word's (feeling) options: {'feeling'}\n",
      "6'th word's (better) options: {'better'}\n",
      "13'th word's (hope) options: {'promise', 'desire', 'hope'}\n",
      "16'th word's (good) options: {'dear', 'serious', 'evil', 'bad', 'nice', 'evilness', 'good', 'honorable', 'beneficial', 'honest', 'great', 'safe', 'secure', 'effective', 'respectable', 'ill'}\n",
      "31'th word's (wtf) options: {'lmao', 'lmfao'}\n",
      "number of negations removed: 0\n",
      "--- More options (total: 8160) possible, but not printed ---\n"
     ]
    },
    {
     "data": {
      "text/html": [
       "<text style=color:black>Actual Sentence: still sick. feeling a bit better got some new medicine.... hope i feel good after a night of sleep. ohh and it is suppose to snow! wtf!  :0.3987</text>"
      ],
      "text/plain": [
       "<IPython.core.display.HTML object>"
      ]
     },
     "metadata": {},
     "output_type": "display_data"
    },
    {
     "data": {
      "text/html": [
       "<text style=color:red>Worst Sentence: still <text style=color:blue><i>[grim]</i></text> . <text style=color:blue><i>[feeling]</i></text> a bit <text style=color:blue><i>[better]</i></text> got some new medicine ... . <text style=color:blue><i>[promise]</i></text> i feel <text style=color:blue><i>[evil]</i></text> after a night of sleep . ohh and it is suppose to snow ! <text style=color:blue><i>[wtf]</i></text> ! : -0.8309</text>"
      ],
      "text/plain": [
       "<IPython.core.display.HTML object>"
      ]
     },
     "metadata": {},
     "output_type": "display_data"
    },
    {
     "data": {
      "text/html": [
       "<text style=color:green>Best Sentence: still <text style=color:blue><i>[crazy]</i></text> . <text style=color:blue><i>[feeling]</i></text> a bit <text style=color:blue><i>[better]</i></text> got some new medicine ... . <text style=color:blue><i>[hope]</i></text> i feel <text style=color:blue><i>[great]</i></text> after a night of sleep . ohh and it is suppose to snow ! <text style=color:blue><i>[lmao]</i></text> ! : 0.9258</text>"
      ],
      "text/plain": [
       "<IPython.core.display.HTML object>"
      ]
     },
     "metadata": {},
     "output_type": "display_data"
    },
    {
     "name": "stdout",
     "output_type": "stream",
     "text": [
      "\n",
      "\n",
      " Tweet:  i think maybe you should get a couple more hours of sleep hon. how productive can you be right now if ur dog tired i worry :-0.7003\n",
      "\n",
      "Some antonyms for word tired are ['refresh', 'interest', 'rested']\n",
      "Some synonyms for word tired are ['trite', 'run_down', 'wear']\n",
      "Some early replacements for word [tired] are ['sleepy', 'exhausted', 'sick', 'bored', 'hungry', 'sleep', 'ugh', 'refresh']\n",
      "some skipped words: ['hungry', 'banal', 'old-hat']\n",
      "Some antonyms for word worry are ['reassure']\n",
      "Some synonyms for word worry are ['care', 'interest', 'occupy']\n",
      "Some early replacements for word [worry] are ['dont', 'worried', 'know', \"n't\", 'nothing', 'anything', 'forget', 'reassure']\n",
      "some skipped words: ['dont', 'know', 'occupy', 'vex']\n",
      "24'th word's (tired) options: {'weary', 'tired', 'sick'}\n",
      "26'th word's (worry) options: {'care', 'forget', 'worry'}\n",
      "number of negations removed: 0\n",
      "--- More options (total: 16) possible, but not printed ---\n"
     ]
    },
    {
     "data": {
      "text/html": [
       "<text style=color:black>Actual Sentence:  i think maybe you should get a couple more hours of sleep hon. how productive can you be right now if ur dog tired i worry  :-0.7003</text>"
      ],
      "text/plain": [
       "<IPython.core.display.HTML object>"
      ]
     },
     "metadata": {},
     "output_type": "display_data"
    },
    {
     "data": {
      "text/html": [
       "<text style=color:red>Worst Sentence: i think maybe you should get a couple more hours of sleep hon . how productive can you be right now if ur dog <text style=color:blue><i>[sick]</i></text> i <text style=color:blue><i>[worry]</i></text> : -0.7351</text>"
      ],
      "text/plain": [
       "<IPython.core.display.HTML object>"
      ]
     },
     "metadata": {},
     "output_type": "display_data"
    },
    {
     "data": {
      "text/html": [
       "<text style=color:green>Best Sentence: i think maybe you should get a couple more hours of sleep hon . how productive can you be right now if ur dog <text style=color:blue><i>[weary]</i></text> i <text style=color:blue><i>[care]</i></text> : 0.2732</text>"
      ],
      "text/plain": [
       "<IPython.core.display.HTML object>"
      ]
     },
     "metadata": {},
     "output_type": "display_data"
    },
    {
     "name": "stdout",
     "output_type": "stream",
     "text": [
      "\n",
      "\n",
      " Tweet:  thanks a lot. learned a lot of new words but did not find what i was looking for. :0.2382\n",
      "\n",
      "No antonyms found for word thanks\n",
      "Some synonyms for word thanks are ['thanks', 'give_thanks', 'thank']\n",
      "Some early replacements for word [thanks] are ['thank', 'thx', 'thankyou', 'thanx', 'cheers', 'welcome', 'btw', 'thanks']\n",
      "0'th word's (thanks) options: {'thanks', 'cheers'}\n",
      "number of negations removed: 3\n"
     ]
    },
    {
     "data": {
      "text/html": [
       "<text style=color:black>Actual Sentence:  thanks a lot. learned a lot of new words but did not find what i was looking for.  :0.2382</text>"
      ],
      "text/plain": [
       "<IPython.core.display.HTML object>"
      ]
     },
     "metadata": {},
     "output_type": "display_data"
    },
    {
     "data": {
      "text/html": [
       "<text style=color:red>Worst Sentence: <text style=color:blue><i>[thanks]</i></text> a lot . learned a lot of new words but did not find what i was looking for . : 0.2382</text>"
      ],
      "text/plain": [
       "<IPython.core.display.HTML object>"
      ]
     },
     "metadata": {},
     "output_type": "display_data"
    },
    {
     "data": {
      "text/html": [
       "<text style=color:green>Best Sentence: <text style=color:blue><i>[cheers]</i></text> a lot . learned a lot of new words but did <text style=color:blue><i>[find]</i></text> what i was looking for . : 0.2617</text>"
      ],
      "text/plain": [
       "<IPython.core.display.HTML object>"
      ]
     },
     "metadata": {},
     "output_type": "display_data"
    },
    {
     "name": "stdout",
     "output_type": "stream",
     "text": [
      "\n",
      "\n",
      " Tweet: wish i had all the xblm downloads all on the gamertag hitokyri. this 5 gamertag thing is nonsense... and i am tired of it :-0.0516\n",
      "\n",
      "Some antonyms for word wish are ['begrudge']\n",
      "Some synonyms for word wish are ['want', 'wishing', 'indirect_request']\n",
      "Some early replacements for word [wish] are ['hope', 'happy', 'have', 'wishes', 'think', 'you', 'could', 'begrudge']\n",
      "some skipped words: ['have', 'think']\n",
      "No antonyms found for word nonsense\n",
      "Some synonyms for word nonsense are ['folderal', 'trumpery', 'falderol']\n",
      "Some early replacements for word [nonsense] are ['bullshit', 'rubbish', 'pointless', 'crap', 'irrelevant', 'stupid', 'fuckery', 'folderal']\n",
      "some skipped words: ['fuckery', 'falderol', 'meaninglessness', 'gimcrack', 'frill']\n",
      "Some antonyms for word tired are ['refresh', 'interest', 'rested']\n",
      "Some synonyms for word tired are ['trite', 'run_down', 'wear']\n",
      "Some early replacements for word [tired] are ['sleepy', 'exhausted', 'sick', 'bored', 'hungry', 'sleep', 'ugh', 'refresh']\n",
      "some skipped words: ['sleepy', 'hungry', 'timeworn', 'shopworn', 'threadbare']\n",
      "0'th word's (wish) options: {'want', 'wish', 'hope'}\n",
      "18'th word's (nonsense) options: {'nonsense'}\n",
      "23'th word's (tired) options: {'exhaust', 'weary', 'ugh', 'sick', 'bored', 'tired'}\n",
      "number of negations removed: 0\n",
      "--- More options (total: 56) possible, but not printed ---\n"
     ]
    },
    {
     "data": {
      "text/html": [
       "<text style=color:black>Actual Sentence: wish i had all the xblm downloads all on the gamertag hitokyri. this 5 gamertag thing is nonsense... and i am tired of it  :-0.0516</text>"
      ],
      "text/plain": [
       "<IPython.core.display.HTML object>"
      ]
     },
     "metadata": {},
     "output_type": "display_data"
    },
    {
     "data": {
      "text/html": [
       "<text style=color:red>Worst Sentence: <text style=color:blue><i>[want]</i></text> i had all the xblm downloads all on the gamertag hitokyri . this 5 gamertag thing is <text style=color:blue><i>[nonsense]</i></text> ... and i am <text style=color:blue><i>[sick]</i></text> of it : -0.6908</text>"
      ],
      "text/plain": [
       "<IPython.core.display.HTML object>"
      ]
     },
     "metadata": {},
     "output_type": "display_data"
    },
    {
     "data": {
      "text/html": [
       "<text style=color:green>Best Sentence: <text style=color:blue><i>[hope]</i></text> i had all the xblm downloads all on the gamertag hitokyri . this 5 gamertag thing is <text style=color:blue><i>[nonsense]</i></text> ... and i am <text style=color:blue><i>[bored]</i></text> of it : -0.2263</text>"
      ],
      "text/plain": [
       "<IPython.core.display.HTML object>"
      ]
     },
     "metadata": {},
     "output_type": "display_data"
    },
    {
     "name": "stdout",
     "output_type": "stream",
     "text": [
      "\n",
      "\n",
      " Tweet:  tons no hay troll ahhhh :-0.296\n",
      "\n",
      "Some antonyms for word no are ['all', 'yes']\n",
      "Some synonyms for word no are ['atomic_number_102', 'no_more', 'no']\n",
      "Some early replacements for word [no] are ['nno', 'me', 'noo', 'do', 'yo', 'q', 'nada', 'all']\n",
      "some skipped words: ['all']\n",
      "1'th word's (no) options: {'no'}\n",
      "number of negations removed: 0\n"
     ]
    },
    {
     "data": {
      "text/html": [
       "<text style=color:black>Actual Sentence:  tons no hay troll ahhhh  :-0.296</text>"
      ],
      "text/plain": [
       "<IPython.core.display.HTML object>"
      ]
     },
     "metadata": {},
     "output_type": "display_data"
    },
    {
     "data": {
      "text/html": [
       "<text style=color:green>Best Sentence: tons <text style=color:blue><i>[no]</i></text> hay troll ahhhh : -0.296</text>"
      ],
      "text/plain": [
       "<IPython.core.display.HTML object>"
      ]
     },
     "metadata": {},
     "output_type": "display_data"
    },
    {
     "name": "stdout",
     "output_type": "stream",
     "text": [
      "\n",
      "\n",
      " Tweet: stupid movies we watched... mirrors ugggggh... stooopeeed!!! rip off! :-0.6776\n",
      "\n",
      "Some antonyms for word stupid are ['smart', 'intelligent']\n",
      "Some synonyms for word stupid are ['dolt', 'unintelligent', 'dullard']\n",
      "Some early replacements for word [stupid] are ['dumb', 'annoying', 'fucking', 'damn', 'shit', 'dumbass', 'silly', 'smart']\n",
      "some skipped words: ['dolt']\n",
      "0'th word's (stupid) options: {'unintelligent', 'annoying', 'intelligent', 'dazed', 'silly', 'smart', 'damn', 'stunned', 'stupid', 'dumb'}\n",
      "number of negations removed: 0\n",
      "--- More options (total: 11) possible, but not printed ---\n"
     ]
    },
    {
     "data": {
      "text/html": [
       "<text style=color:black>Actual Sentence: stupid movies we watched... mirrors ugggggh... stooopeeed!!! rip off!  :-0.6776</text>"
      ],
      "text/plain": [
       "<IPython.core.display.HTML object>"
      ]
     },
     "metadata": {},
     "output_type": "display_data"
    },
    {
     "data": {
      "text/html": [
       "<text style=color:red>Worst Sentence: <text style=color:blue><i>[stupid]</i></text> movies we watched ... mirrors ugggggh ... stooopeeed ! ! ! rip off ! : -0.6776</text>"
      ],
      "text/plain": [
       "<IPython.core.display.HTML object>"
      ]
     },
     "metadata": {},
     "output_type": "display_data"
    },
    {
     "data": {
      "text/html": [
       "<text style=color:green>Best Sentence: <text style=color:blue><i>[intelligent]</i></text> movies we watched ... mirrors ugggggh ... stooopeeed ! ! ! rip off ! : 0.6331</text>"
      ],
      "text/plain": [
       "<IPython.core.display.HTML object>"
      ]
     },
     "metadata": {},
     "output_type": "display_data"
    },
    {
     "name": "stdout",
     "output_type": "stream",
     "text": [
      "\n",
      "\n",
      " Tweet:   i love you buck. :0.6369\n",
      "\n",
      "Some antonyms for word love are ['hate']\n",
      "Some synonyms for word love are ['erotic_love', 'hump', 'beloved']\n",
      "Some early replacements for word [love] are ['you', 'much', 'always', 'know', 'my', 'and', 'loves', 'hate']\n",
      "some skipped words: ['know', 'hump', 'honey', 'bang', 'know']\n",
      "1'th word's (love) options: {'hate', 'love', 'enjoy', 'fuck', 'dearest', 'dear'}\n",
      "number of negations removed: 0\n"
     ]
    },
    {
     "data": {
      "text/html": [
       "<text style=color:black>Actual Sentence:   i love you buck.  :0.6369</text>"
      ],
      "text/plain": [
       "<IPython.core.display.HTML object>"
      ]
     },
     "metadata": {},
     "output_type": "display_data"
    },
    {
     "data": {
      "text/html": [
       "<text style=color:red>Worst Sentence: i <text style=color:blue><i>[fuck]</i></text> you buck . : -0.5423</text>"
      ],
      "text/plain": [
       "<IPython.core.display.HTML object>"
      ]
     },
     "metadata": {},
     "output_type": "display_data"
    },
    {
     "data": {
      "text/html": [
       "<text style=color:green>Best Sentence: i <text style=color:blue><i>[love]</i></text> you buck . : 0.6369</text>"
      ],
      "text/plain": [
       "<IPython.core.display.HTML object>"
      ]
     },
     "metadata": {},
     "output_type": "display_data"
    },
    {
     "name": "stdout",
     "output_type": "stream",
     "text": [
      "\n",
      "\n",
      " Tweet: i do not understand why things get taken away. i did not have enough time with him its unfair. i want him back!! he was like my baby :-0.2225\n",
      "\n",
      "Some antonyms for word unfair are ['fair']\n",
      "Some synonyms for word unfair are ['unfair', 'unjust']\n",
      "Some early replacements for word [unfair] are ['harsh', 'obvious', 'pathetic', 'ridiculous', 'unjust', 'awful', 'disappointing', 'fair']\n",
      "some skipped words: ['obvious']\n",
      "No antonyms found for word want\n",
      "Some synonyms for word want are ['want', 'privation', 'wishing']\n",
      "Some early replacements for word [want] are ['need', 'wanna', 'if', \"n't\", 'know', 'get', 'think', 'want']\n",
      "some skipped words: ['need', 'know', 'get', 'think', 'privation']\n",
      "Some antonyms for word like are ['unlike', 'unalike', 'dislike']\n",
      "Some synonyms for word like are ['similar', 'alike', 'comparable']\n",
      "Some early replacements for word [like] are ['that', 'look', 'just', \"n't\", 'it', 'think', 'know', 'unlike']\n",
      "some skipped words: ['that', 'unlike']\n",
      "19'th word's (unfair) options: {'ridiculous', 'disappointing', 'awful', 'harsh', 'unfair', 'unjust'}\n",
      "22'th word's (want) options: {'want', 'desire', 'deprivation', 'lack', 'wish'}\n",
      "29'th word's (like) options: {'like'}\n",
      "number of negations removed: 84\n",
      "--- More options (total: 168) possible, but not printed ---\n"
     ]
    },
    {
     "data": {
      "text/html": [
       "<text style=color:black>Actual Sentence: i do not understand why things get taken away. i did not have enough time with him its unfair. i want him back!! he was like my baby  :-0.2225</text>"
      ],
      "text/plain": [
       "<IPython.core.display.HTML object>"
      ]
     },
     "metadata": {},
     "output_type": "display_data"
    },
    {
     "data": {
      "text/html": [
       "<text style=color:red>Worst Sentence: i do not understand why things get taken away . i did not have enough time with him its <text style=color:blue><i>[unjust]</i></text> . i <text style=color:blue><i>[deprivation]</i></text> him back ! ! he was <text style=color:blue><i>[like]</i></text> my baby : -0.6351</text>"
      ],
      "text/plain": [
       "<IPython.core.display.HTML object>"
      ]
     },
     "metadata": {},
     "output_type": "display_data"
    },
    {
     "data": {
      "text/html": [
       "<text style=color:green>Best Sentence: i do <text style=color:blue><i>[understand]</i></text> why things get taken away . i did not have enough time with him its ridiculous <text style=color:blue><i>[.]</i></text> i wish <text style=color:blue><i>[him]</i></text> back ! ! he was like <text style=color:blue><i>[my]</i></text> baby : 0.508</text>"
      ],
      "text/plain": [
       "<IPython.core.display.HTML object>"
      ]
     },
     "metadata": {},
     "output_type": "display_data"
    },
    {
     "name": "stdout",
     "output_type": "stream",
     "text": [
      "\n",
      "\n",
      " Tweet:  i was just listening to the sweets for the first time in forever! i miss them so much  can we go to chi town for visits plz:0.4926\n",
      "\n",
      "No antonyms found for word sweets\n",
      "Some synonyms for word sweets are ['sugariness', 'confection', 'dessert']\n",
      "Some early replacements for word [sweets] are ['cakes', 'snacks', 'yummy', 'candy', 'crisps', 'sweetie', 'cookies', 'sugariness']\n",
      "some skipped words: ['cakes', 'snacks', 'crisps', 'cookies', 'afters']\n",
      " -- No POS approved words! -- for word sweets\n",
      " some non-POS:['cakes', 'snacks', 'yummy', 'candy']\n",
      "Some antonyms for word miss are ['attend', 'attend_to', 'hit']\n",
      "Some synonyms for word miss are ['young_woman', 'young_lady', 'missy']\n",
      "Some early replacements for word [miss] are ['love', 'you', 'missed', 'know', 'too', 'really', 'much', 'attend']\n",
      "some skipped words: ['know', 'attend', 'have', 'missy', 'girl']\n",
      "No antonyms found for word plz\n",
      "No synonyms found for word plz\n",
      "Some early replacements for word [plz] are ['pls', 'plzz', 'please', 'plss', 'help', 'pleasee', 'kindly']\n",
      "15'th word's (miss) options: {'neglect', 'escape', 'love', 'drop', 'lack', 'lose', 'miss'}\n",
      "27'th word's (plz) options: {'please', 'help'}\n",
      "number of negations removed: 0\n",
      "--- More options (total: 24) possible, but not printed ---\n"
     ]
    },
    {
     "data": {
      "text/html": [
       "<text style=color:black>Actual Sentence:  i was just listening to the sweets for the first time in forever! i miss them so much  can we go to chi town for visits plz :0.4926</text>"
      ],
      "text/plain": [
       "<IPython.core.display.HTML object>"
      ]
     },
     "metadata": {},
     "output_type": "display_data"
    },
    {
     "data": {
      "text/html": [
       "<text style=color:red>Worst Sentence: i was just listening to the sweets for the first time in forever ! i <text style=color:blue><i>[neglect]</i></text> them so much can we go to chi town for visits <text style=color:blue><i>[plz]</i></text> : 0.2003</text>"
      ],
      "text/plain": [
       "<IPython.core.display.HTML object>"
      ]
     },
     "metadata": {},
     "output_type": "display_data"
    },
    {
     "data": {
      "text/html": [
       "<text style=color:green>Best Sentence: i was just listening to the sweets for the first time in forever ! i <text style=color:blue><i>[love]</i></text> them so much can we go to chi town for visits <text style=color:blue><i>[help]</i></text> : 0.8858</text>"
      ],
      "text/plain": [
       "<IPython.core.display.HTML object>"
      ]
     },
     "metadata": {},
     "output_type": "display_data"
    },
    {
     "name": "stdout",
     "output_type": "stream",
     "text": [
      "\n",
      "\n",
      " Tweet: dang!!! another spring break!!!  how cool is that  too bad i have to work all week  oh well more money for a phone.  ttyl everbody!!!:-0.3111\n",
      "\n",
      "Some antonyms for word cool are ['heat', 'warm']\n",
      "Some synonyms for word cool are ['sang-froid', 'chill', 'cool_off']\n",
      "Some early replacements for word [cool] are ['nice', 'awesome', 'pretty', 'lol', 'but', 'yeah', 'dude', 'heat']\n",
      "some skipped words: ['nerveless']\n",
      "Some antonyms for word bad are ['good', 'goodness', 'unregretful']\n",
      "Some synonyms for word bad are ['speculative', 'risky', 'forged']\n",
      "Some early replacements for word [bad] are ['good', 'but', 'shit', 'really', \"n't\", 'damn', 'think', 'good']\n",
      "some skipped words: ['unregretful', 'spoilt', 'unfit', 'spoiled', 'high-risk']\n",
      "Some antonyms for word well are ['badly', 'disadvantageously', 'ill']\n",
      "Some synonyms for word well are ['substantially', 'wellspring', 'considerably']\n",
      "Some early replacements for word [well] are ['but', 'yeah', 'good', 'though', 'sure', 'guess', 'hope', 'badly']\n",
      "some skipped words: ['substantially', 'considerably', 'intimately']\n",
      "11'th word's (cool) options: {'nice', 'warm', 'cool', 'awesome'}\n",
      "15'th word's (bad) options: {'speculative', 'risky', 'bad', 'good', 'sorry', 'tough', 'defective', 'regretful'}\n",
      "23'th word's (well) options: {'disadvantageously', 'good', 'advantageously', 'sure', 'badly', 'well', 'easily', 'comfortably', 'ill'}\n",
      "number of negations removed: 0\n",
      "--- More options (total: 450) possible, but not printed ---\n"
     ]
    },
    {
     "data": {
      "text/html": [
       "<text style=color:black>Actual Sentence: dang!!! another spring break!!!  how cool is that  too bad i have to work all week  oh well more money for a phone.  ttyl everbody!!! :-0.3111</text>"
      ],
      "text/plain": [
       "<IPython.core.display.HTML object>"
      ]
     },
     "metadata": {},
     "output_type": "display_data"
    },
    {
     "data": {
      "text/html": [
       "<text style=color:red>Worst Sentence: dang ! ! ! another spring break ! ! ! how <text style=color:blue><i>[warm]</i></text> is that too <text style=color:blue><i>[bad]</i></text> i have to work all week oh <text style=color:blue><i>[disadvantageously]</i></text> more money for a phone . ttyl everbody ! ! ! : -0.7825</text>"
      ],
      "text/plain": [
       "<IPython.core.display.HTML object>"
      ]
     },
     "metadata": {},
     "output_type": "display_data"
    },
    {
     "data": {
      "text/html": [
       "<text style=color:green>Best Sentence: dang ! ! ! another spring break ! ! ! how <text style=color:blue><i>[awesome]</i></text> is that too <text style=color:blue><i>[good]</i></text> i have to work all week oh <text style=color:blue><i>[advantageously]</i></text> more money for a phone . ttyl everbody ! ! ! : 0.9015</text>"
      ],
      "text/plain": [
       "<IPython.core.display.HTML object>"
      ]
     },
     "metadata": {},
     "output_type": "display_data"
    },
    {
     "name": "stdout",
     "output_type": "stream",
     "text": [
      "\n",
      "\n",
      " Tweet: feeling down :0.128\n",
      "\n",
      "No antonyms found for word feeling\n",
      "Some synonyms for word feeling are ['spirit', 'impression', 'look']\n",
      "Some early replacements for word [feeling] are ['feel', 'feelin', 'feels', 'bad', 'sick', 'tired', 'good', 'spirit']\n",
      "0'th word's (feeling) options: {'feeling'}\n",
      "number of negations removed: 0\n"
     ]
    },
    {
     "data": {
      "text/html": [
       "<text style=color:black>Actual Sentence: feeling down  :0.128</text>"
      ],
      "text/plain": [
       "<IPython.core.display.HTML object>"
      ]
     },
     "metadata": {},
     "output_type": "display_data"
    },
    {
     "data": {
      "text/html": [
       "<text style=color:green>Best Sentence: <text style=color:blue><i>[feeling]</i></text> down : 0.128</text>"
      ],
      "text/plain": [
       "<IPython.core.display.HTML object>"
      ]
     },
     "metadata": {},
     "output_type": "display_data"
    },
    {
     "name": "stdout",
     "output_type": "stream",
     "text": [
      "\n",
      "\n",
      " Tweet:  lol they are some emotional ass men!! omg all this late night eating.. both of us are broke :-0.5399\n",
      "\n",
      "No antonyms found for word lol\n",
      "No synonyms found for word lol\n",
      "Some early replacements for word [lol] are ['lmao', 'lmfao', 'lolol', 'yeah', 'but', 'smh', 'aha']\n",
      "No POS words found for word lol with tag IN\n",
      " -- No POS approved words! -- for word lol\n",
      " some non-POS:['lmao', 'lmfao', 'lolol', 'yeah']\n",
      "Some antonyms for word emotional are ['cerebral', 'unemotional']\n",
      "Some synonyms for word emotional are ['worked_up', 'emotional', 'excited']\n",
      "Some early replacements for word [emotional] are ['intense', 'emotions', 'sensitive', 'feelings', 'such', 'physical', 'sad', 'cerebral']\n",
      "some skipped words: ['sensitive', 'such', 'physical', 'cerebral', 'unemotional']\n",
      "No antonyms found for word ass\n",
      "Some synonyms for word ass are ['piece_of_ass', 'tail', 'can']\n",
      "Some early replacements for word [ass] are ['bitch', 'shit', 'nigga', 'dumb', 'damn', 'dick', 'fuck', 'piece_of_ass']\n",
      "some skipped words: ['tail', 'bum', 'posterior', 'derriere', 'nookie']\n",
      "Some antonyms for word broke are ['keep', 'promote', 'repair']\n",
      "Some synonyms for word broke are ['violate', 'founder', 'intermit']\n",
      "Some early replacements for word [broke] are ['broken', 'cuz', 'nigga', 'break', 'niggas', 'aint', 'fucked', 'keep']\n",
      "some skipped words: ['cuz', 'nigga', 'break', 'aint', 'keep']\n",
      "4'th word's (emotional) options: {'excited', 'intense', 'sad', 'emotional'}\n",
      "5'th word's (ass) options: {'shit', 'bitch', 'screwing', 'dick', 'ass', 'screw'}\n",
      "19'th word's (broke) options: {'bankrupt', 'violate', 'collapse', 'broke', 'better', 'ruin', 'broken', 'promote', 'fail', 'die', 'expose', 'fucked', 'interrupt', 'weaken', 'offend', 'niggas', 'stop'}\n",
      "number of negations removed: 0\n",
      "--- More options (total: 630) possible, but not printed ---\n"
     ]
    },
    {
     "data": {
      "text/html": [
       "<text style=color:black>Actual Sentence:  lol they are some emotional ass men!! omg all this late night eating.. both of us are broke  :-0.5399</text>"
      ],
      "text/plain": [
       "<IPython.core.display.HTML object>"
      ]
     },
     "metadata": {},
     "output_type": "display_data"
    },
    {
     "data": {
      "text/html": [
       "<text style=color:red>Worst Sentence: lol they are some <text style=color:blue><i>[sad]</i></text> <text style=color:blue><i>[bitch]</i></text> men ! ! omg all this late night eating.. both of us are <text style=color:blue><i>[fucked]</i></text> : -0.8774</text>"
      ],
      "text/plain": [
       "<IPython.core.display.HTML object>"
      ]
     },
     "metadata": {},
     "output_type": "display_data"
    },
    {
     "data": {
      "text/html": [
       "<text style=color:green>Best Sentence: lol they are some <text style=color:blue><i>[excited]</i></text> <text style=color:blue><i>[screw]</i></text> men ! ! omg all this late night eating.. both of us are <text style=color:blue><i>[better]</i></text> : 0.8065</text>"
      ],
      "text/plain": [
       "<IPython.core.display.HTML object>"
      ]
     },
     "metadata": {},
     "output_type": "display_data"
    },
    {
     "name": "stdout",
     "output_type": "stream",
     "text": [
      "\n",
      "\n",
      " Tweet:  aww nick!! i like your hair longer why did you cut it off  break. my. heart.:0.2462\n",
      "\n",
      "Some antonyms for word like are ['unlike', 'unalike', 'dislike']\n",
      "Some synonyms for word like are ['similar', 'alike', 'comparable']\n",
      "Some early replacements for word [like] are ['that', 'look', 'just', \"n't\", 'it', 'think', 'know', 'unlike']\n",
      "some skipped words: ['look', 'think', 'know', 'unalike', 'similar']\n",
      "Some antonyms for word cut are ['unmown', 'switch_on', 'expand']\n",
      "Some synonyms for word cut are ['swing', 'write_out', 'shortened']\n",
      "Some early replacements for word [cut] are ['cutting', 'cuts', 'put', 'hair', 'get', 'up', 'out', 'unmown']\n",
      "some skipped words: ['put', 'hair', 'get', 'unmown', 'untrimmed']\n",
      "5'th word's (like) options: {'like', 'care', 'wish', 'dislike'}\n",
      "12'th word's (cut) options: {'ignore', 'disregard', 'snub', 'expand', 'slash', 'cut'}\n",
      "number of negations removed: 0\n",
      "--- More options (total: 35) possible, but not printed ---\n"
     ]
    },
    {
     "data": {
      "text/html": [
       "<text style=color:black>Actual Sentence:  aww nick!! i like your hair longer why did you cut it off  break. my. heart. :0.2462</text>"
      ],
      "text/plain": [
       "<IPython.core.display.HTML object>"
      ]
     },
     "metadata": {},
     "output_type": "display_data"
    },
    {
     "data": {
      "text/html": [
       "<text style=color:red>Worst Sentence: aww nick ! ! i <text style=color:blue><i>[dislike]</i></text> your hair longer why did you <text style=color:blue><i>[snub]</i></text> it off break . my . heart . : -0.717</text>"
      ],
      "text/plain": [
       "<IPython.core.display.HTML object>"
      ]
     },
     "metadata": {},
     "output_type": "display_data"
    },
    {
     "data": {
      "text/html": [
       "<text style=color:green>Best Sentence: aww nick ! ! i <text style=color:blue><i>[care]</i></text> your hair longer why did you <text style=color:blue><i>[expand]</i></text> it off break . my . heart . : 0.7256</text>"
      ],
      "text/plain": [
       "<IPython.core.display.HTML object>"
      ]
     },
     "metadata": {},
     "output_type": "display_data"
    },
    {
     "name": "stdout",
     "output_type": "stream",
     "text": [
      "\n",
      "\n",
      " Tweet:  wonder if jon lost the net:-0.3182\n",
      "\n",
      "Some antonyms for word lost are ['find', 'found', 'keep']\n",
      "Some synonyms for word lost are ['turn_a_loss', 'lost', 'befuddled']\n",
      "Some early replacements for word [lost] are ['losing', \"'ve\", 'lose', 'missing', 'had', 'got', 'found', 'find']\n",
      "some skipped words: ['had', 'got', 'found', 'found', 'befuddled']\n",
      "3'th word's (lost) options: {'lost', 'disoriented', 'doomed', 'confused', 'won', 'missed', 'saved'}\n",
      "number of negations removed: 0\n"
     ]
    },
    {
     "data": {
      "text/html": [
       "<text style=color:black>Actual Sentence:  wonder if jon lost the net :-0.3182</text>"
      ],
      "text/plain": [
       "<IPython.core.display.HTML object>"
      ]
     },
     "metadata": {},
     "output_type": "display_data"
    },
    {
     "data": {
      "text/html": [
       "<text style=color:red>Worst Sentence: wonder if jon <text style=color:blue><i>[doomed]</i></text> the net : -0.6369</text>"
      ],
      "text/plain": [
       "<IPython.core.display.HTML object>"
      ]
     },
     "metadata": {},
     "output_type": "display_data"
    },
    {
     "data": {
      "text/html": [
       "<text style=color:green>Best Sentence: wonder if jon <text style=color:blue><i>[won]</i></text> the net : 0.5719</text>"
      ],
      "text/plain": [
       "<IPython.core.display.HTML object>"
      ]
     },
     "metadata": {},
     "output_type": "display_data"
    },
    {
     "name": "stdout",
     "output_type": "stream",
     "text": [
      "\n",
      "\n",
      " Tweet: wow. the most depressing thing in the world is losing a video that you have created in a matter of seconds.  fml:0.1045\n",
      "\n",
      "No antonyms found for word wow\n",
      "Some synonyms for word wow are ['thigh-slapper', 'howler', 'scream']\n",
      "Some early replacements for word [wow] are ['omg', 'wtf', 'oh', 'yes', 'gosh', 'yeah', 'wooow', 'thigh-slapper']\n",
      "some skipped words: ['oh', 'gosh']\n",
      "Some antonyms for word depressing are ['cheerful', 'elate']\n",
      "Some synonyms for word depressing are ['cast_down', 'deject', 'get_down']\n",
      "Some early replacements for word [depressing] are ['sad', 'depressed', 'shitty', 'awful', 'disappointing', 'boring', 'pointless', 'cheerful']\n",
      "some skipped words: ['pointless', 'demoralise', 'uncheerful']\n",
      "Some antonyms for word losing are ['find', 'keep', 'gain']\n",
      "Some synonyms for word losing are ['suffer', 'turn_a_loss', 'drop_off']\n",
      "Some early replacements for word [losing] are ['loosing', 'lose', 'lost', 'loose', 'winning', 'beating', 'gaining', 'find']\n",
      "some skipped words: ['loosing']\n",
      "No antonyms found for word created\n",
      "Some synonyms for word created are ['make', 'create', 'produce']\n",
      "Some early replacements for word [created] are ['create', 'creation', 'designed', 'made', 'which', 'creating', 'built', 'make']\n",
      "some skipped words: ['designed', 'made', 'built', 'make']\n",
      " -- No POS approved words! -- for word created\n",
      " some non-POS:['create', 'creation', 'designed', 'made']\n",
      "No antonyms found for word matter\n",
      "Some synonyms for word matter are ['topic', 'weigh', 'matter']\n",
      "Some early replacements for word [matter] are ['regardless', 'anything', 'whatever', 'whether', 'know', 'nothing', 'dont', 'topic']\n",
      "some skipped words: ['regardless', 'anything', 'know', 'nothing', 'dont']\n",
      "0'th word's (wow) options: {'yeah', 'yes', 'wow'}\n",
      "4'th word's (depressing) options: {'boring', 'depressing', 'shitty', 'disappointing', 'awful', 'depress', 'sad', 'depressed', 'dismay', 'cheerful'}\n",
      "10'th word's (losing) options: {'winning', 'gaining', 'beating'}\n",
      "19'th word's (matter) options: {'matter'}\n",
      "number of negations removed: 0\n",
      "--- More options (total: 352) possible, but not printed ---\n"
     ]
    },
    {
     "data": {
      "text/html": [
       "<text style=color:black>Actual Sentence: wow. the most depressing thing in the world is losing a video that you have created in a matter of seconds.  fml :0.1045</text>"
      ],
      "text/plain": [
       "<IPython.core.display.HTML object>"
      ]
     },
     "metadata": {},
     "output_type": "display_data"
    },
    {
     "data": {
      "text/html": [
       "<text style=color:red>Worst Sentence: <text style=color:blue><i>[yeah]</i></text> . the most <text style=color:blue><i>[shitty]</i></text> thing in the world is <text style=color:blue><i>[beating]</i></text> a video that you have created in a <text style=color:blue><i>[matter]</i></text> of seconds . fml : -0.5563</text>"
      ],
      "text/plain": [
       "<IPython.core.display.HTML object>"
      ]
     },
     "metadata": {},
     "output_type": "display_data"
    },
    {
     "data": {
      "text/html": [
       "<text style=color:green>Best Sentence: <text style=color:blue><i>[wow]</i></text> . the most <text style=color:blue><i>[cheerful]</i></text> thing in the world is <text style=color:blue><i>[winning]</i></text> a video that you have created in a <text style=color:blue><i>[matter]</i></text> of seconds . fml : 0.92</text>"
      ],
      "text/plain": [
       "<IPython.core.display.HTML object>"
      ]
     },
     "metadata": {},
     "output_type": "display_data"
    },
    {
     "name": "stdout",
     "output_type": "stream",
     "text": [
      "\n",
      "\n",
      " Tweet:  lmao im sorry poohpot i ate it all! :0.5983\n",
      "\n",
      "No antonyms found for word lmao\n",
      "No synonyms found for word lmao\n",
      "Some early replacements for word [lmao] are ['lmfao', 'lmaoo', 'lol', 'lmfaoo', 'smh', 'ctfu', 'lolol']\n",
      "some skipped words: ['lmfaoo']\n",
      "Some antonyms for word sorry are ['unregretful']\n",
      "Some synonyms for word sorry are ['dreary', 'dismal', 'lamentable']\n",
      "Some early replacements for word [sorry] are ['okay', 'ok', 'btw', 'haha', 'hahah', 'well', 'lol', 'unregretful']\n",
      "some skipped words: ['btw', 'hahah', 'unregretful', 'meritless', 'deplorable']\n",
      "0'th word's (lmao) options: {'smh', 'lmfao'}\n",
      "2'th word's (sorry) options: {'haha', 'distressing', 'bad', 'sorry', 'dreary', 'ok', 'dismal', 'disconsolate', 'okay', 'lamentable', 'well', 'lol', 'gloomy', 'sad', 'regretful', 'grim', 'pitiful'}\n",
      "number of negations removed: 0\n",
      "--- More options (total: 54) possible, but not printed ---\n"
     ]
    },
    {
     "data": {
      "text/html": [
       "<text style=color:black>Actual Sentence:  lmao im sorry poohpot i ate it all!  :0.5983</text>"
      ],
      "text/plain": [
       "<IPython.core.display.HTML object>"
      ]
     },
     "metadata": {},
     "output_type": "display_data"
    },
    {
     "data": {
      "text/html": [
       "<text style=color:red>Worst Sentence: <text style=color:blue><i>[smh]</i></text> im <text style=color:blue><i>[dismal]</i></text> poohpot i ate it all ! : -0.7644</text>"
      ],
      "text/plain": [
       "<IPython.core.display.HTML object>"
      ]
     },
     "metadata": {},
     "output_type": "display_data"
    },
    {
     "data": {
      "text/html": [
       "<text style=color:green>Best Sentence: <text style=color:blue><i>[lmao]</i></text> im <text style=color:blue><i>[haha]</i></text> poohpot i ate it all ! : 0.8016</text>"
      ],
      "text/plain": [
       "<IPython.core.display.HTML object>"
      ]
     },
     "metadata": {},
     "output_type": "display_data"
    },
    {
     "name": "stdout",
     "output_type": "stream",
     "text": [
      "\n",
      "\n",
      " Tweet: any chance  softbelly for @mtub is not loud :0.25\n",
      "\n",
      "No antonyms found for word chance\n",
      "Some synonyms for word chance are ['encounter', 'find', 'bump']\n",
      "Some early replacements for word [chance] are ['chances', 'win', 'give', 'will', 'enter', \"'ll\", 'away', 'encounter']\n",
      "some skipped words: ['give', 'enter', 'encounter', 'find', 'bump']\n",
      "1'th word's (chance) options: {'casual', 'prospect', 'opportunity', 'risk', 'luck', 'adventure', 'win', 'chance'}\n",
      "number of negations removed: 9\n",
      "--- More options (total: 18) possible, but not printed ---\n"
     ]
    },
    {
     "data": {
      "text/html": [
       "<text style=color:black>Actual Sentence: any chance  softbelly for @mtub is not loud  :0.25</text>"
      ],
      "text/plain": [
       "<IPython.core.display.HTML object>"
      ]
     },
     "metadata": {},
     "output_type": "display_data"
    },
    {
     "data": {
      "text/html": [
       "<text style=color:red>Worst Sentence: any <text style=color:blue><i>[risk]</i></text> softbelly for mtub is not loud : -0.2732</text>"
      ],
      "text/plain": [
       "<IPython.core.display.HTML object>"
      ]
     },
     "metadata": {},
     "output_type": "display_data"
    },
    {
     "data": {
      "text/html": [
       "<text style=color:green>Best Sentence: any <text style=color:blue><i>[win]</i></text> softbelly for mtub is <text style=color:blue><i>[loud]</i></text> : 0.5859</text>"
      ],
      "text/plain": [
       "<IPython.core.display.HTML object>"
      ]
     },
     "metadata": {},
     "output_type": "display_data"
    },
    {
     "name": "stdout",
     "output_type": "stream",
     "text": [
      "\n",
      "\n",
      " Tweet: time to move my posterior  and lose some fat. my articulation are creaking so no more running  but iï¿½m drool for some swimming:-0.4182\n",
      "\n",
      "Some antonyms for word lose are ['find', 'keep', 'gain']\n",
      "Some synonyms for word lose are ['suffer', 'turn_a_loss', 'drop_off']\n",
      "Some early replacements for word [lose] are ['losing', 'lost', 'loose', 'loss', 'loosing', 'weight', 'never', 'find']\n",
      "some skipped words: ['find', 'keep', 'misplace', 'mislay']\n",
      "Some antonyms for word no are ['all', 'yes']\n",
      "Some synonyms for word no are ['atomic_number_102', 'no_more', 'no']\n",
      "Some early replacements for word [no] are ['nno', 'me', 'noo', 'do', 'yo', 'q', 'nada', 'all']\n",
      "some skipped words: ['nno', 'yo', 'q', 'nada', 'all']\n",
      "6'th word's (lose) options: {'loss', 'suffer', 'gain', 'loose', 'lose', 'win', 'profit', 'miss'}\n",
      "15'th word's (no) options: {'no'}\n",
      "number of negations removed: 0\n",
      "--- More options (total: 18) possible, but not printed ---\n"
     ]
    },
    {
     "data": {
      "text/html": [
       "<text style=color:black>Actual Sentence: time to move my posterior  and lose some fat. my articulation are creaking so no more running  but iï¿½m drool for some swimming :-0.4182</text>"
      ],
      "text/plain": [
       "<IPython.core.display.HTML object>"
      ]
     },
     "metadata": {},
     "output_type": "display_data"
    },
    {
     "data": {
      "text/html": [
       "<text style=color:red>Worst Sentence: time to move my posterior and <text style=color:blue><i>[suffer]</i></text> some fat . my articulation are creaking so <text style=color:blue><i>[no]</i></text> more running but iï¿½m drool for some swimming : -0.491</text>"
      ],
      "text/plain": [
       "<IPython.core.display.HTML object>"
      ]
     },
     "metadata": {},
     "output_type": "display_data"
    },
    {
     "data": {
      "text/html": [
       "<text style=color:green>Best Sentence: time to move my posterior and <text style=color:blue><i>[win]</i></text> some fat . my articulation are creaking so <text style=color:blue><i>[no]</i></text> more running but iï¿½m drool for some swimming : 0.1197</text>"
      ],
      "text/plain": [
       "<IPython.core.display.HTML object>"
      ]
     },
     "metadata": {},
     "output_type": "display_data"
    },
    {
     "name": "stdout",
     "output_type": "stream",
     "text": [
      "\n",
      "\n",
      " Tweet: today sucked. i am gonna die without chris and callum!  wahhh!:-0.8168\n",
      "\n",
      "Some antonyms for word sucked are ['bottlefeed']\n",
      "Some synonyms for word sucked are ['fellate', 'absorb', 'sop_up']\n",
      "Some early replacements for word [sucked] are ['suck', 'fucked', 'sucks', 'dick', 'blew', 'ended', 'ruined', 'bottlefeed']\n",
      "some skipped words: ['blew', 'ended', 'breastfeed']\n",
      "Some antonyms for word die are ['be_born']\n",
      "Some synonyms for word die are ['drop_dead', 'become_flat', 'go']\n",
      "Some early replacements for word [die] are ['der', 'als', 'wat', 'wie', 'wil', 'dat', 'ik', 'be_born']\n",
      "some skipped words: ['der', 'wie', 'go', 'pass', 'break']\n",
      "1'th word's (sucked) options: {'fucked'}\n",
      "7'th word's (die) options: {'die', 'choke', 'fail'}\n",
      "number of negations removed: 0\n"
     ]
    },
    {
     "data": {
      "text/html": [
       "<text style=color:black>Actual Sentence: today sucked. i am gonna die without chris and callum!  wahhh! :-0.8168</text>"
      ],
      "text/plain": [
       "<IPython.core.display.HTML object>"
      ]
     },
     "metadata": {},
     "output_type": "display_data"
    },
    {
     "data": {
      "text/html": [
       "<text style=color:red>Worst Sentence: today <text style=color:blue><i>[fucked]</i></text> . i am gon na <text style=color:blue><i>[die]</i></text> without chris and callum ! wahhh ! : -0.8715</text>"
      ],
      "text/plain": [
       "<IPython.core.display.HTML object>"
      ]
     },
     "metadata": {},
     "output_type": "display_data"
    },
    {
     "data": {
      "text/html": [
       "<text style=color:green>Best Sentence: today <text style=color:blue><i>[sucked]</i></text> . i am gon na <text style=color:blue><i>[fail]</i></text> without chris and callum ! wahhh ! : -0.7955</text>"
      ],
      "text/plain": [
       "<IPython.core.display.HTML object>"
      ]
     },
     "metadata": {},
     "output_type": "display_data"
    },
    {
     "name": "stdout",
     "output_type": "stream",
     "text": [
      "\n",
      "\n",
      " Tweet: stou site not update no info about 22552 exam and open course i must wait for mail notices and doc. um... :0.2235\n",
      "\n",
      "Some antonyms for word no are ['all', 'yes']\n",
      "Some synonyms for word no are ['atomic_number_102', 'no_more', 'no']\n",
      "Some early replacements for word [no] are ['nno', 'me', 'noo', 'do', 'yo', 'q', 'nada', 'all']\n",
      "some skipped words: ['q', 'all']\n",
      "4'th word's (no) options: {'no'}\n",
      "number of negations removed: 2\n"
     ]
    },
    {
     "data": {
      "text/html": [
       "<text style=color:black>Actual Sentence: stou site not update no info about 22552 exam and open course i must wait for mail notices and doc. um...  :0.2235</text>"
      ],
      "text/plain": [
       "<IPython.core.display.HTML object>"
      ]
     },
     "metadata": {},
     "output_type": "display_data"
    },
    {
     "data": {
      "text/html": [
       "<text style=color:red>Worst Sentence: stou site <text style=color:blue><i>[update]</i></text> no <text style=color:blue><i>[info]</i></text> about 22552 exam and open course i must wait for mail notices and doc . um ... : -0.296</text>"
      ],
      "text/plain": [
       "<IPython.core.display.HTML object>"
      ]
     },
     "metadata": {},
     "output_type": "display_data"
    },
    {
     "data": {
      "text/html": [
       "<text style=color:green>Best Sentence: stou site not update <text style=color:blue><i>[no]</i></text> info about 22552 exam and open course i must wait for mail notices and doc . um ... : 0.2235</text>"
      ],
      "text/plain": [
       "<IPython.core.display.HTML object>"
      ]
     },
     "metadata": {},
     "output_type": "display_data"
    },
    {
     "name": "stdout",
     "output_type": "stream",
     "text": [
      "\n",
      "\n",
      " Tweet:  am sorry. i am feeling kinda yucky myself. 5am is going to come too quick :-0.3197\n",
      "\n",
      "Some antonyms for word sorry are ['unregretful']\n",
      "Some synonyms for word sorry are ['dreary', 'dismal', 'lamentable']\n",
      "Some early replacements for word [sorry] are ['okay', 'ok', 'btw', 'haha', 'hahah', 'well', 'lol', 'unregretful']\n",
      "some skipped words: ['unregretful', 'meritless', 'deplorable', 'drab', 'drear']\n",
      "No antonyms found for word feeling\n",
      "Some synonyms for word feeling are ['spirit', 'impression', 'look']\n",
      "Some early replacements for word [feeling] are ['feel', 'feelin', 'feels', 'bad', 'sick', 'tired', 'good', 'spirit']\n",
      "No antonyms found for word yucky\n",
      "Some synonyms for word yucky are ['skanky', 'disgustful', 'distasteful']\n",
      "Some early replacements for word [yucky] are ['icky', 'yuck', 'minging', 'eeew', 'discusting', 'gross', 'horrid', 'skanky']\n",
      "some skipped words: ['icky', 'distasteful', 'repellent', 'loathly']\n",
      "1'th word's (sorry) options: {'haha', 'bad', 'sorry', 'dreary', 'ok', 'dismal', 'disconsolate', 'okay', 'lamentable', 'well', 'lol', 'gloomy', 'sad', 'regretful', 'grim', 'pitiful'}\n",
      "5'th word's (feeling) options: {'feeling'}\n",
      "7'th word's (yucky) options: {'disgustful', 'gross', 'wicked', 'yucky', 'disgusting'}\n",
      "number of negations removed: 0\n",
      "--- More options (total: 204) possible, but not printed ---\n"
     ]
    },
    {
     "data": {
      "text/html": [
       "<text style=color:black>Actual Sentence:  am sorry. i am feeling kinda yucky myself. 5am is going to come too quick  :-0.3197</text>"
      ],
      "text/plain": [
       "<IPython.core.display.HTML object>"
      ]
     },
     "metadata": {},
     "output_type": "display_data"
    },
    {
     "data": {
      "text/html": [
       "<text style=color:red>Worst Sentence: am <text style=color:blue><i>[dismal]</i></text> . i am <text style=color:blue><i>[feeling]</i></text> kinda <text style=color:blue><i>[disgustful]</i></text> myself . 5am is going to come too quick : -0.7787</text>"
      ],
      "text/plain": [
       "<IPython.core.display.HTML object>"
      ]
     },
     "metadata": {},
     "output_type": "display_data"
    },
    {
     "data": {
      "text/html": [
       "<text style=color:green>Best Sentence: am <text style=color:blue><i>[haha]</i></text> . i am <text style=color:blue><i>[feeling]</i></text> kinda <text style=color:blue><i>[yucky]</i></text> myself . 5am is going to come too quick : 0.2484</text>"
      ],
      "text/plain": [
       "<IPython.core.display.HTML object>"
      ]
     },
     "metadata": {},
     "output_type": "display_data"
    },
    {
     "name": "stdout",
     "output_type": "stream",
     "text": [
      "\n",
      "\n",
      " Tweet: is in love with scrappy and is missin him already :0.6369\n",
      "\n",
      "Some antonyms for word love are ['hate']\n",
      "Some synonyms for word love are ['erotic_love', 'hump', 'beloved']\n",
      "Some early replacements for word [love] are ['you', 'much', 'always', 'know', 'my', 'and', 'loves', 'hate']\n",
      "some skipped words: ['know', 'hump', 'bed', 'honey', 'bang']\n",
      "2'th word's (love) options: {'hate', 'love', 'enjoy', 'passion', 'fuck', 'dearest', 'screw', 'dear'}\n",
      "number of negations removed: 0\n"
     ]
    },
    {
     "data": {
      "text/html": [
       "<text style=color:black>Actual Sentence: is in love with scrappy and is missin him already  :0.6369</text>"
      ],
      "text/plain": [
       "<IPython.core.display.HTML object>"
      ]
     },
     "metadata": {},
     "output_type": "display_data"
    },
    {
     "data": {
      "text/html": [
       "<text style=color:red>Worst Sentence: is in <text style=color:blue><i>[fuck]</i></text> with scrappy and is missin him already : -0.5423</text>"
      ],
      "text/plain": [
       "<IPython.core.display.HTML object>"
      ]
     },
     "metadata": {},
     "output_type": "display_data"
    },
    {
     "data": {
      "text/html": [
       "<text style=color:green>Best Sentence: is in <text style=color:blue><i>[love]</i></text> with scrappy and is missin him already : 0.6369</text>"
      ],
      "text/plain": [
       "<IPython.core.display.HTML object>"
      ]
     },
     "metadata": {},
     "output_type": "display_data"
    },
    {
     "name": "stdout",
     "output_type": "stream",
     "text": [
      "\n",
      "\n",
      " Tweet: bad news was dad has cancer and is dying   good news new business started and  i am now a life coach practising holistic weight management:-0.7184\n",
      "\n",
      "Some antonyms for word bad are ['good', 'goodness', 'unregretful']\n",
      "Some synonyms for word bad are ['speculative', 'risky', 'forged']\n",
      "Some early replacements for word [bad] are ['good', 'but', 'shit', 'really', \"n't\", 'damn', 'think', 'good']\n",
      "some skipped words: ['unregretful', 'spoilt', 'unfit', 'spoiled', 'high-risk']\n",
      "No antonyms found for word cancer\n",
      "Some synonyms for word cancer are ['cancer', 'genus_cancer', 'crab']\n",
      "Some early replacements for word [cancer] are ['virgo', 'libra', 'pisces', 'aries', 'scorpio', 'capricorn', 'aquarius', 'cancer']\n",
      "some skipped words: ['virgo', 'libra', 'aquarius', 'crab']\n",
      "Some antonyms for word good are ['bad', 'evil', 'evilness']\n",
      "Some synonyms for word good are ['in_effect', 'salutary', 'trade_good']\n",
      "Some early replacements for word [good] are ['great', 'well', 'nice', 'better', 'night', 'morning', 'but', 'bad']\n",
      "some skipped words: ['salutary', 'adept', 'skillful', 'estimable', 'undecomposed']\n",
      "0'th word's (bad) options: {'speculative', 'risky', 'bad', 'good', 'sorry', 'tough', 'defective', 'damn', 'regretful'}\n",
      "5'th word's (cancer) options: {'cancer'}\n",
      "9'th word's (good) options: {'dear', 'serious', 'evil', 'bad', 'nice', 'evilness', 'good', 'honorable', 'beneficial', 'honest', 'great', 'safe', 'secure', 'effective', 'respectable', 'ill'}\n",
      "number of negations removed: 0\n",
      "--- More options (total: 340) possible, but not printed ---\n"
     ]
    },
    {
     "data": {
      "text/html": [
       "<text style=color:black>Actual Sentence: bad news was dad has cancer and is dying   good news new business started and  i am now a life coach practising holistic weight management :-0.7184</text>"
      ],
      "text/plain": [
       "<IPython.core.display.HTML object>"
      ]
     },
     "metadata": {},
     "output_type": "display_data"
    },
    {
     "data": {
      "text/html": [
       "<text style=color:red>Worst Sentence: <text style=color:blue><i>[bad]</i></text> news was dad has <text style=color:blue><i>[cancer]</i></text> and is dying <text style=color:blue><i>[evil]</i></text> news new business started and i am now a life coach practising holistic weight management : -0.9231</text>"
      ],
      "text/plain": [
       "<IPython.core.display.HTML object>"
      ]
     },
     "metadata": {},
     "output_type": "display_data"
    },
    {
     "data": {
      "text/html": [
       "<text style=color:green>Best Sentence: <text style=color:blue><i>[good]</i></text> news was dad has <text style=color:blue><i>[cancer]</i></text> and is dying <text style=color:blue><i>[great]</i></text> news new business started and i am now a life coach practising holistic weight management : 0.3818</text>"
      ],
      "text/plain": [
       "<IPython.core.display.HTML object>"
      ]
     },
     "metadata": {},
     "output_type": "display_data"
    },
    {
     "name": "stdout",
     "output_type": "stream",
     "text": [
      "\n",
      "\n",
      " Tweet:  man... intervention is soo sad :-0.4767\n",
      "\n",
      "Some antonyms for word sad are ['glad']\n",
      "Some synonyms for word sad are ['distressing', 'sorry', 'lamentable']\n",
      "Some early replacements for word [sad] are ['depressing', 'really', 'depressed', 'sick', 'feel', 'cry', 'upset', 'glad']\n",
      "some skipped words: ['deplorable']\n",
      "5'th word's (sad) options: {'distressing', 'depressing', 'sorry', 'sick', 'lamentable', 'upset', 'depressed', 'sad', 'pitiful', 'glad'}\n",
      "number of negations removed: 0\n",
      "--- More options (total: 11) possible, but not printed ---\n"
     ]
    },
    {
     "data": {
      "text/html": [
       "<text style=color:black>Actual Sentence:  man... intervention is soo sad  :-0.4767</text>"
      ],
      "text/plain": [
       "<IPython.core.display.HTML object>"
      ]
     },
     "metadata": {},
     "output_type": "display_data"
    },
    {
     "data": {
      "text/html": [
       "<text style=color:red>Worst Sentence: man ... intervention is soo <text style=color:blue><i>[sick]</i></text> : -0.5106</text>"
      ],
      "text/plain": [
       "<IPython.core.display.HTML object>"
      ]
     },
     "metadata": {},
     "output_type": "display_data"
    },
    {
     "data": {
      "text/html": [
       "<text style=color:green>Best Sentence: man ... intervention is soo <text style=color:blue><i>[glad]</i></text> : 0.4588</text>"
      ],
      "text/plain": [
       "<IPython.core.display.HTML object>"
      ]
     },
     "metadata": {},
     "output_type": "display_data"
    },
    {
     "name": "stdout",
     "output_type": "stream",
     "text": [
      "\n",
      "\n",
      " Tweet: help! i need a new boyfriend... i am stuck in a rut :0.2481\n",
      "\n",
      "No antonyms found for word help\n",
      "Some synonyms for word help are ['assist', 'help_oneself', 'assistant']\n",
      "Some early replacements for word [help] are ['need', 'please', 'helping', 'can', 'pls', 'let', 'us', 'assist']\n",
      "some skipped words: ['let', 'assist', 'serve', 'facilitate']\n",
      "Some antonyms for word stuck are ['dislodge', 'unstuck', 'move']\n",
      "Some synonyms for word stuck are ['baffle', 'bond', 'adhere']\n",
      "Some early replacements for word [stuck] are ['sitting', 'still', 'put', 'around', 'there', 'down', 'up', 'dislodge']\n",
      "some skipped words: ['put', 'dislodge', 'adhere', 'beat', 'puzzle']\n",
      "0'th word's (help) options: {'help'}\n",
      "10'th word's (stuck) options: {'dumbfound', 'stuck'}\n",
      "number of negations removed: 0\n"
     ]
    },
    {
     "data": {
      "text/html": [
       "<text style=color:black>Actual Sentence: help! i need a new boyfriend... i am stuck in a rut  :0.2481</text>"
      ],
      "text/plain": [
       "<IPython.core.display.HTML object>"
      ]
     },
     "metadata": {},
     "output_type": "display_data"
    },
    {
     "data": {
      "text/html": [
       "<text style=color:red>Worst Sentence: <text style=color:blue><i>[help]</i></text> ! i need a new boyfriend ... i am <text style=color:blue><i>[stuck]</i></text> in a rut : 0.2481</text>"
      ],
      "text/plain": [
       "<IPython.core.display.HTML object>"
      ]
     },
     "metadata": {},
     "output_type": "display_data"
    },
    {
     "data": {
      "text/html": [
       "<text style=color:green>Best Sentence: <text style=color:blue><i>[help]</i></text> ! i need a new boyfriend ... i am <text style=color:blue><i>[dumbfound]</i></text> in a rut : 0.4389</text>"
      ],
      "text/plain": [
       "<IPython.core.display.HTML object>"
      ]
     },
     "metadata": {},
     "output_type": "display_data"
    },
    {
     "name": "stdout",
     "output_type": "stream",
     "text": [
      "\n",
      "\n",
      " Tweet: i feel like a complete idiot. i am the only one who does not get how this shit works  help me :-0.5187\n",
      "\n",
      "Some antonyms for word like are ['unlike', 'unalike', 'dislike']\n",
      "Some synonyms for word like are ['similar', 'alike', 'comparable']\n",
      "Some early replacements for word [like] are ['that', 'look', 'just', \"n't\", 'it', 'think', 'know', 'unlike']\n",
      "some skipped words: ['that', 'unlike', 'ilk']\n",
      "No antonyms found for word idiot\n",
      "Some synonyms for word idiot are ['changeling', 'retard', 'cretin']\n",
      "Some early replacements for word [idiot] are ['stupid', 'idiots', 'moron', 'dumbass', 'annoying', 'asshole', 'dumb', 'changeling']\n",
      "some skipped words: ['asshole', 'changeling', 'cretin', 'half-wit']\n",
      "No antonyms found for word shit\n",
      "Some synonyms for word shit are ['stool', 'shit', 'cocksucker']\n",
      "Some early replacements for word [shit] are ['fuck', 'damn', 'that', 'nigga', 'hell', 'thats', 'bitch', 'stool']\n",
      "some skipped words: ['stool', 'horseshit', 'rat', 'shite', 'grass']\n",
      "No antonyms found for word help\n",
      "Some synonyms for word help are ['assist', 'help_oneself', 'assistant']\n",
      "Some early replacements for word [help] are ['need', 'please', 'helping', 'can', 'pls', 'let', 'us', 'assist']\n",
      "some skipped words: ['need', 'assist', 'serve', 'aid', 'service']\n",
      "2'th word's (like) options: {'like'}\n",
      "5'th word's (idiot) options: {'dumbass', 'retard', 'moron', 'idiot', 'imbecile'}\n",
      "18'th word's (shit) options: {'shit', 'bitch', 'cocksucker', 'betray', 'dump', 'bullshit', 'whoreson', 'motherfucker', 'fuck', 'prick', 'sob', 'denounce', 'hell', 'dickhead', 'bastard', 'dirt', 'crap'}\n",
      "20'th word's (help) options: {'pls', 'supporter', 'help', 'please', 'helper'}\n",
      "number of negations removed: 1296\n",
      "--- More options (total: 2592) possible, but not printed ---\n"
     ]
    },
    {
     "data": {
      "text/html": [
       "<text style=color:black>Actual Sentence: i feel like a complete idiot. i am the only one who does not get how this shit works  help me  :-0.5187</text>"
      ],
      "text/plain": [
       "<IPython.core.display.HTML object>"
      ]
     },
     "metadata": {},
     "output_type": "display_data"
    },
    {
     "data": {
      "text/html": [
       "<text style=color:red>Worst Sentence: i feel <text style=color:blue><i>[like]</i></text> a complete <text style=color:blue><i>[dumbass]</i></text> . i am the only one who does not get how this <text style=color:blue><i>[motherfucker]</i></text> works <text style=color:blue><i>[pls]</i></text> me : -0.8074</text>"
      ],
      "text/plain": [
       "<IPython.core.display.HTML object>"
      ]
     },
     "metadata": {},
     "output_type": "display_data"
    },
    {
     "data": {
      "text/html": [
       "<text style=color:green>Best Sentence: i feel <text style=color:blue><i>[like]</i></text> a complete <text style=color:blue><i>[imbecile]</i></text> . i am the only one who does <text style=color:blue><i>[get]</i></text> how this sob <text style=color:blue><i>[works]</i></text> help <text style=color:blue><i>[me]</i></text> : -0.0644</text>"
      ],
      "text/plain": [
       "<IPython.core.display.HTML object>"
      ]
     },
     "metadata": {},
     "output_type": "display_data"
    },
    {
     "name": "stdout",
     "output_type": "stream",
     "text": [
      "\n",
      "\n",
      " Tweet: saw an ad on craigslist for a casting call for a female host on g4. i was totally psyched! but realized it was a hoax :-0.4482\n",
      "\n",
      "No antonyms found for word hoax\n",
      "Some synonyms for word hoax are [\"pull_someone's_leg\", 'fraudulence', 'play_a_joke_on']\n",
      "Some early replacements for word [hoax] are ['beneran', 'scam', 'rumor', 'broadcast', 'nyebar', 'palsu', 'prank', \"pull_someone's_leg\"]\n",
      "some skipped words: ['beneran', 'rumor', 'broadcast', 'nyebar', 'humbug']\n",
      "26'th word's (hoax) options: {'scam', 'hoax', 'fraudulence', 'fraud'}\n",
      "number of negations removed: 0\n"
     ]
    },
    {
     "data": {
      "text/html": [
       "<text style=color:black>Actual Sentence: saw an ad on craigslist for a casting call for a female host on g4. i was totally psyched! but realized it was a hoax  :-0.4482</text>"
      ],
      "text/plain": [
       "<IPython.core.display.HTML object>"
      ]
     },
     "metadata": {},
     "output_type": "display_data"
    },
    {
     "data": {
      "text/html": [
       "<text style=color:red>Worst Sentence: saw an ad on craigslist for a casting call for a female host on g4 . i was totally psyched ! but realized it was a <text style=color:blue><i>[fraud]</i></text> : -0.7574</text>"
      ],
      "text/plain": [
       "<IPython.core.display.HTML object>"
      ]
     },
     "metadata": {},
     "output_type": "display_data"
    },
    {
     "data": {
      "text/html": [
       "<text style=color:green>Best Sentence: saw an ad on craigslist for a casting call for a female host on g4 . i was totally psyched ! but realized it was a <text style=color:blue><i>[hoax]</i></text> : -0.4482</text>"
      ],
      "text/plain": [
       "<IPython.core.display.HTML object>"
      ]
     },
     "metadata": {},
     "output_type": "display_data"
    },
    {
     "name": "stdout",
     "output_type": "stream",
     "text": [
      "\n",
      "\n",
      " Tweet: pepperoni rolls in l.a. i called valentino is  they said that they had sausage rolls but no pepperoni rolls  :-0.4215\n",
      "\n",
      "Some antonyms for word no are ['all', 'yes']\n",
      "Some synonyms for word no are ['atomic_number_102', 'no_more', 'no']\n",
      "Some early replacements for word [no] are ['nno', 'me', 'noo', 'do', 'yo', 'q', 'nada', 'all']\n",
      "some skipped words: ['nno', 'me', 'noo', 'do', 'yo']\n",
      "16'th word's (no) options: {'no', 'yes'}\n",
      "number of negations removed: 0\n"
     ]
    },
    {
     "data": {
      "text/html": [
       "<text style=color:black>Actual Sentence: pepperoni rolls in l.a. i called valentino is  they said that they had sausage rolls but no pepperoni rolls   :-0.4215</text>"
      ],
      "text/plain": [
       "<IPython.core.display.HTML object>"
      ]
     },
     "metadata": {},
     "output_type": "display_data"
    },
    {
     "data": {
      "text/html": [
       "<text style=color:red>Worst Sentence: pepperoni rolls in l.a. i called valentino is they said that they had sausage rolls but <text style=color:blue><i>[no]</i></text> pepperoni rolls : -0.4215</text>"
      ],
      "text/plain": [
       "<IPython.core.display.HTML object>"
      ]
     },
     "metadata": {},
     "output_type": "display_data"
    },
    {
     "data": {
      "text/html": [
       "<text style=color:green>Best Sentence: pepperoni rolls in l.a. i called valentino is they said that they had sausage rolls but <text style=color:blue><i>[yes]</i></text> pepperoni rolls : 0.5499</text>"
      ],
      "text/plain": [
       "<IPython.core.display.HTML object>"
      ]
     },
     "metadata": {},
     "output_type": "display_data"
    },
    {
     "name": "stdout",
     "output_type": "stream",
     "text": [
      "\n",
      "\n",
      " Tweet:  yes it will be. it is only monday :0.4019\n",
      "\n",
      "Some antonyms for word yes are ['no']\n",
      "Some synonyms for word yes are ['yes']\n",
      "Some early replacements for word [yes] are ['yeah', 'yess', 'yep', 'well', 'oh', 'yup', 'maybe', 'no']\n",
      "some skipped words: ['oh', 'yup']\n",
      "0'th word's (yes) options: {'no', 'yeah', 'yep', 'yes', 'well'}\n",
      "number of negations removed: 0\n"
     ]
    },
    {
     "data": {
      "text/html": [
       "<text style=color:black>Actual Sentence:  yes it will be. it is only monday  :0.4019</text>"
      ],
      "text/plain": [
       "<IPython.core.display.HTML object>"
      ]
     },
     "metadata": {},
     "output_type": "display_data"
    },
    {
     "data": {
      "text/html": [
       "<text style=color:red>Worst Sentence: <text style=color:blue><i>[well]</i></text> it will be . it is only monday : 0.2732</text>"
      ],
      "text/plain": [
       "<IPython.core.display.HTML object>"
      ]
     },
     "metadata": {},
     "output_type": "display_data"
    },
    {
     "data": {
      "text/html": [
       "<text style=color:green>Best Sentence: <text style=color:blue><i>[yes]</i></text> it will be . it is only monday : 0.4019</text>"
      ],
      "text/plain": [
       "<IPython.core.display.HTML object>"
      ]
     },
     "metadata": {},
     "output_type": "display_data"
    },
    {
     "name": "stdout",
     "output_type": "stream",
     "text": [
      "\n",
      "\n",
      " Tweet: i want the new gg episode already :0.3612\n",
      "\n",
      "No antonyms found for word want\n",
      "Some synonyms for word want are ['want', 'privation', 'wishing']\n",
      "Some early replacements for word [want] are ['need', 'wanna', 'if', \"n't\", 'know', 'get', 'think', 'want']\n",
      "some skipped words: ['need', 'know', 'get', 'think', 'privation']\n",
      "No antonyms found for word gg\n",
      "No synonyms found for word gg\n",
      "Some early replacements for word [gg] are ['gag', 'gk', 'tw', 'gx', 'g', 'mw', 'aj']\n",
      "No POS words found for word gg with tag IN\n",
      " -- No POS approved words! -- for word gg\n",
      " some non-POS:['gag', 'gk', 'tw', 'gx']\n",
      "1'th word's (want) options: {'lack', 'want', 'desire', 'wish'}\n",
      "number of negations removed: 0\n"
     ]
    },
    {
     "data": {
      "text/html": [
       "<text style=color:black>Actual Sentence: i want the new gg episode already  :0.3612</text>"
      ],
      "text/plain": [
       "<IPython.core.display.HTML object>"
      ]
     },
     "metadata": {},
     "output_type": "display_data"
    },
    {
     "data": {
      "text/html": [
       "<text style=color:red>Worst Sentence: i <text style=color:blue><i>[want]</i></text> the new gg episode already : 0.3612</text>"
      ],
      "text/plain": [
       "<IPython.core.display.HTML object>"
      ]
     },
     "metadata": {},
     "output_type": "display_data"
    },
    {
     "data": {
      "text/html": [
       "<text style=color:green>Best Sentence: i <text style=color:blue><i>[wish]</i></text> the new gg episode already : 0.5994</text>"
      ],
      "text/plain": [
       "<IPython.core.display.HTML object>"
      ]
     },
     "metadata": {},
     "output_type": "display_data"
    },
    {
     "name": "stdout",
     "output_type": "stream",
     "text": [
      "\n",
      "\n",
      " Tweet: i miss watching rocko is modern life. :-0.1531\n",
      "\n",
      "Some antonyms for word miss are ['attend', 'attend_to', 'hit']\n",
      "Some synonyms for word miss are ['young_woman', 'young_lady', 'missy']\n",
      "Some early replacements for word [miss] are ['love', 'you', 'missed', 'know', 'too', 'really', 'much', 'attend']\n",
      "some skipped words: ['know', 'attend', 'have', 'missy', 'omit']\n",
      "1'th word's (miss) options: {'neglect', 'escape', 'love', 'drop', 'lack', 'lose', 'miss'}\n",
      "number of negations removed: 0\n"
     ]
    },
    {
     "data": {
      "text/html": [
       "<text style=color:black>Actual Sentence: i miss watching rocko is modern life.  :-0.1531</text>"
      ],
      "text/plain": [
       "<IPython.core.display.HTML object>"
      ]
     },
     "metadata": {},
     "output_type": "display_data"
    },
    {
     "data": {
      "text/html": [
       "<text style=color:red>Worst Sentence: i <text style=color:blue><i>[lose]</i></text> watching rocko is modern life . : -0.4019</text>"
      ],
      "text/plain": [
       "<IPython.core.display.HTML object>"
      ]
     },
     "metadata": {},
     "output_type": "display_data"
    },
    {
     "data": {
      "text/html": [
       "<text style=color:green>Best Sentence: i <text style=color:blue><i>[love]</i></text> watching rocko is modern life . : 0.6369</text>"
      ],
      "text/plain": [
       "<IPython.core.display.HTML object>"
      ]
     },
     "metadata": {},
     "output_type": "display_data"
    },
    {
     "name": "stdout",
     "output_type": "stream",
     "text": [
      "\n",
      "\n",
      " Tweet: rip sandra....its so sad    how can someone do something like that:-0.3593\n",
      "\n",
      "Some antonyms for word sad are ['glad']\n",
      "Some synonyms for word sad are ['distressing', 'sorry', 'lamentable']\n",
      "Some early replacements for word [sad] are ['depressing', 'really', 'depressed', 'sick', 'feel', 'cry', 'upset', 'glad']\n",
      "some skipped words: ['deplorable']\n",
      "Some antonyms for word like are ['unlike', 'unalike', 'dislike']\n",
      "Some synonyms for word like are ['similar', 'alike', 'comparable']\n",
      "Some early replacements for word [like] are ['that', 'look', 'just', \"n't\", 'it', 'think', 'know', 'unlike']\n",
      "some skipped words: ['unlike']\n",
      "5'th word's (sad) options: {'sorry', 'sick', 'lamentable', 'upset', 'depressed', 'sad', 'pitiful', 'glad'}\n",
      "11'th word's (like) options: {'like'}\n",
      "number of negations removed: 0\n",
      "--- More options (total: 18) possible, but not printed ---\n"
     ]
    },
    {
     "data": {
      "text/html": [
       "<text style=color:black>Actual Sentence: rip sandra....its so sad    how can someone do something like that :-0.3593</text>"
      ],
      "text/plain": [
       "<IPython.core.display.HTML object>"
      ]
     },
     "metadata": {},
     "output_type": "display_data"
    },
    {
     "data": {
      "text/html": [
       "<text style=color:red>Worst Sentence: rip sandra ... .its so <text style=color:blue><i>[sick]</i></text> how can someone do something <text style=color:blue><i>[like]</i></text> that : -0.4101</text>"
      ],
      "text/plain": [
       "<IPython.core.display.HTML object>"
      ]
     },
     "metadata": {},
     "output_type": "display_data"
    },
    {
     "data": {
      "text/html": [
       "<text style=color:green>Best Sentence: rip sandra ... .its so <text style=color:blue><i>[glad]</i></text> how can someone do something <text style=color:blue><i>[like]</i></text> that : 0.7481</text>"
      ],
      "text/plain": [
       "<IPython.core.display.HTML object>"
      ]
     },
     "metadata": {},
     "output_type": "display_data"
    },
    {
     "name": "stdout",
     "output_type": "stream",
     "text": [
      "\n",
      "\n",
      " Tweet: keeping my fingers crossed for my buddy    he is not feeling well.:-0.2924\n",
      "\n",
      "No antonyms found for word feeling\n",
      "Some synonyms for word feeling are ['spirit', 'impression', 'look']\n",
      "Some early replacements for word [feeling] are ['feel', 'feelin', 'feels', 'bad', 'sick', 'tired', 'good', 'spirit']\n",
      "Some antonyms for word well are ['badly', 'disadvantageously', 'ill']\n",
      "Some synonyms for word well are ['substantially', 'wellspring', 'considerably']\n",
      "Some early replacements for word [well] are ['but', 'yeah', 'good', 'though', 'sure', 'guess', 'hope', 'badly']\n",
      "some skipped words: ['though', 'substantially', 'considerably', 'intimately']\n",
      "10'th word's (feeling) options: {'feeling'}\n",
      "11'th word's (well) options: {'disadvantageously', 'advantageously', 'badly', 'well', 'easily', 'comfortably'}\n",
      "number of negations removed: 14\n",
      "--- More options (total: 28) possible, but not printed ---\n"
     ]
    },
    {
     "data": {
      "text/html": [
       "<text style=color:black>Actual Sentence: keeping my fingers crossed for my buddy    he is not feeling well. :-0.2924</text>"
      ],
      "text/plain": [
       "<IPython.core.display.HTML object>"
      ]
     },
     "metadata": {},
     "output_type": "display_data"
    },
    {
     "data": {
      "text/html": [
       "<text style=color:red>Worst Sentence: keeping my fingers crossed for my buddy he is not <text style=color:blue><i>[feeling]</i></text> <text style=color:blue><i>[advantageously]</i></text> . : -0.4168</text>"
      ],
      "text/plain": [
       "<IPython.core.display.HTML object>"
      ]
     },
     "metadata": {},
     "output_type": "display_data"
    },
    {
     "data": {
      "text/html": [
       "<text style=color:green>Best Sentence: keeping my fingers crossed for my buddy he is <text style=color:blue><i>[feeling]</i></text> <text style=color:blue><i>[advantageously]</i></text> <text style=color:blue><i>[.]</i></text> : 0.5267</text>"
      ],
      "text/plain": [
       "<IPython.core.display.HTML object>"
      ]
     },
     "metadata": {},
     "output_type": "display_data"
    },
    {
     "name": "stdout",
     "output_type": "stream",
     "text": [
      "\n",
      "\n",
      " Tweet:  i tried tweetdeck once and i hated it with a passion. or it hated me i am not sure... :-0.7506\n",
      "\n",
      "Some antonyms for word hated are ['love']\n",
      "Some synonyms for word hated are ['hate', 'scorned', 'detested']\n",
      "Some early replacements for word [hated] are ['loved', 'knew', 'thought', 'talked', 'disliked', 'hates', 'remembered', 'love']\n",
      "some skipped words: ['knew', 'thought', 'talked', 'remembered', 'scorned']\n",
      "No antonyms found for word passion\n",
      "Some synonyms for word passion are ['passionateness', 'love', 'passion']\n",
      "Some early replacements for word [passion] are ['desire', 'ambition', 'success', 'motivation', 'dedication', 'talent', 'creativity', 'passionateness']\n",
      "some skipped words: ['ambition', 'dedication', 'mania', 'heat']\n",
      "FOUND REPEATED WORD hated\n",
      "Some antonyms for word sure are ['uncertain', 'unsure']\n",
      "Some synonyms for word sure are ['sure_enough', 'trusted', 'certainly']\n",
      "Some early replacements for word [sure] are ['but', \"'ll\", 'think', 'well', 'know', 'maybe', 'if', 'uncertain']\n",
      "some skipped words: ['indisputable']\n",
      "6'th word's (hated) options: {'disliked', 'despised', 'loved', 'hated'}\n",
      "10'th word's (passion) options: {'passionateness', 'talent', 'love', 'passion', 'warmth', 'desire', 'motivation', 'creativity', 'rage', 'success'}\n",
      "14'th word's (hated) options: {'disliked', 'despised', 'loved', 'hated'}\n",
      "19'th word's (sure) options: {'unsure', 'certain', 'uncertain', 'well', 'sure'}\n",
      "number of negations removed: 1650\n",
      "--- More options (total: 3300) possible, but not printed ---\n"
     ]
    },
    {
     "data": {
      "text/html": [
       "<text style=color:black>Actual Sentence:  i tried tweetdeck once and i hated it with a passion. or it hated me i am not sure...  :-0.7506</text>"
      ],
      "text/plain": [
       "<IPython.core.display.HTML object>"
      ]
     },
     "metadata": {},
     "output_type": "display_data"
    },
    {
     "data": {
      "text/html": [
       "<text style=color:red>Worst Sentence: i tried tweetdeck once and i <text style=color:blue><i>[hated]</i></text> it with a <text style=color:blue><i>[rage]</i></text> . or it <text style=color:blue><i>[hated]</i></text> me i am <text style=color:blue><i>[uncertain]</i></text> <text style=color:blue><i>[...]</i></text> : -0.9349</text>"
      ],
      "text/plain": [
       "<IPython.core.display.HTML object>"
      ]
     },
     "metadata": {},
     "output_type": "display_data"
    },
    {
     "data": {
      "text/html": [
       "<text style=color:green>Best Sentence: i tried tweetdeck once and i <text style=color:blue><i>[loved]</i></text> it with a <text style=color:blue><i>[love]</i></text> . or it <text style=color:blue><i>[loved]</i></text> me i am <text style=color:blue><i>[sure]</i></text> <text style=color:blue><i>[...]</i></text> : 0.936</text>"
      ],
      "text/plain": [
       "<IPython.core.display.HTML object>"
      ]
     },
     "metadata": {},
     "output_type": "display_data"
    },
    {
     "name": "stdout",
     "output_type": "stream",
     "text": [
      "\n",
      "\n",
      " Tweet:  btw my iphone is acting funny dying quickly and freezing and bs.  i am not admitting anything just sayin :0.3612\n",
      "\n",
      "No antonyms found for word funny\n",
      "Some synonyms for word funny are ['queer', 'amusing', 'suspicious']\n",
      "Some early replacements for word [funny] are ['hilarious', 'weird', 'lmao', 'crazy', 'laugh', 'lmfao', 'stupid', 'queer']\n",
      "some skipped words: ['comical', 'fishy', 'comic', 'rummy', 'shady']\n",
      "Some antonyms for word freezing are ['unblock', 'boil', 'unfreeze']\n",
      "Some synonyms for word freezing are ['freezing', 'immobilize', 'freeze_out']\n",
      "Some early replacements for word [freezing] are ['cold', 'weather', 'degrees', 'snowing', 'outside', 'snow', 'raining', 'unblock']\n",
      "some skipped words: ['weather', 'snow', 'unblock', 'unfreeze']\n",
      "5'th word's (funny) options: {'funny', 'suspect', 'amusing', 'mirthful', 'odd', 'crazy', 'weird', 'suspicious', 'hilarious', 'stupid', 'laughable', 'peculiar', 'curious'}\n",
      "9'th word's (freezing) options: {'freezing'}\n",
      "number of negations removed: 28\n",
      "--- More options (total: 56) possible, but not printed ---\n"
     ]
    },
    {
     "data": {
      "text/html": [
       "<text style=color:black>Actual Sentence:  btw my iphone is acting funny dying quickly and freezing and bs.  i am not admitting anything just sayin  :0.3612</text>"
      ],
      "text/plain": [
       "<IPython.core.display.HTML object>"
      ]
     },
     "metadata": {},
     "output_type": "display_data"
    },
    {
     "data": {
      "text/html": [
       "<text style=color:red>Worst Sentence: btw my iphone is acting <text style=color:blue><i>[stupid]</i></text> dying quickly and <text style=color:blue><i>[freezing]</i></text> and bs . i am not admitting anything just sayin : -0.5859</text>"
      ],
      "text/plain": [
       "<IPython.core.display.HTML object>"
      ]
     },
     "metadata": {},
     "output_type": "display_data"
    },
    {
     "data": {
      "text/html": [
       "<text style=color:green>Best Sentence: btw my iphone is acting <text style=color:blue><i>[mirthful]</i></text> dying quickly and <text style=color:blue><i>[freezing]</i></text> and bs . i am <text style=color:blue><i>[admitting]</i></text> anything just sayin : 0.5106</text>"
      ],
      "text/plain": [
       "<IPython.core.display.HTML object>"
      ]
     },
     "metadata": {},
     "output_type": "display_data"
    },
    {
     "name": "stdout",
     "output_type": "stream",
     "text": [
      "\n",
      "\n",
      " Tweet: sitting here wondering why quotedquot still has such a strong hold on me :0.5106\n",
      "\n",
      "Some antonyms for word strong are ['impotent', 'weak']\n",
      "Some synonyms for word strong are ['unassailable', 'potent', 'strong']\n",
      "Some early replacements for word [strong] are ['stay', 'keep', 'enough', 'calm', 'always', 'heart', 'tough', 'impotent']\n",
      "some skipped words: ['enough', 'unassailable', 'potent', 'unattackable', 'firm']\n",
      "9'th word's (strong) options: {'calm', 'impotent', 'weak', 'strong', 'tough', 'secure', 'substantial', 'hard', 'solid', 'warm'}\n",
      "number of negations removed: 0\n",
      "--- More options (total: 11) possible, but not printed ---\n"
     ]
    },
    {
     "data": {
      "text/html": [
       "<text style=color:black>Actual Sentence: sitting here wondering why quotedquot still has such a strong hold on me  :0.5106</text>"
      ],
      "text/plain": [
       "<IPython.core.display.HTML object>"
      ]
     },
     "metadata": {},
     "output_type": "display_data"
    },
    {
     "data": {
      "text/html": [
       "<text style=color:red>Worst Sentence: sitting here wondering why quotedquot still has such a <text style=color:blue><i>[weak]</i></text> hold on me : -0.4404</text>"
      ],
      "text/plain": [
       "<IPython.core.display.HTML object>"
      ]
     },
     "metadata": {},
     "output_type": "display_data"
    },
    {
     "data": {
      "text/html": [
       "<text style=color:green>Best Sentence: sitting here wondering why quotedquot still has such a <text style=color:blue><i>[strong]</i></text> hold on me : 0.5106</text>"
      ],
      "text/plain": [
       "<IPython.core.display.HTML object>"
      ]
     },
     "metadata": {},
     "output_type": "display_data"
    },
    {
     "name": "stdout",
     "output_type": "stream",
     "text": [
      "\n",
      "\n",
      " Tweet:  im sorry i got you sick.  lol. going to bed too. night!:-0.2714\n",
      "\n",
      "Some antonyms for word sorry are ['unregretful']\n",
      "Some synonyms for word sorry are ['dreary', 'dismal', 'lamentable']\n",
      "Some early replacements for word [sorry] are ['okay', 'ok', 'btw', 'haha', 'hahah', 'well', 'lol', 'unregretful']\n",
      "some skipped words: ['btw', 'hahah', 'unregretful', 'meritless', 'deplorable']\n",
      "Some antonyms for word sick are ['well', 'keep_down']\n",
      "Some synonyms for word sick are ['pale', 'disgorge', 'be_sick']\n",
      "Some early replacements for word [sick] are ['tired', 'feel', 'really', 'ugh', 'bad', 'seriously', 'fucking', 'well']\n",
      "some skipped words: ['feel', 'really', 'fucking', 'pale', 'disgorge']\n",
      "No antonyms found for word lol\n",
      "No synonyms found for word lol\n",
      "Some early replacements for word [lol] are ['lmao', 'lmfao', 'lolol', 'yeah', 'but', 'smh', 'aha']\n",
      "some skipped words: ['lolol', 'but', 'aha']\n",
      "1'th word's (sorry) options: {'haha', 'distressing', 'bad', 'sorry', 'dreary', 'ok', 'dismal', 'disconsolate', 'okay', 'lamentable', 'well', 'lol', 'gloomy', 'sad', 'regretful', 'grim', 'pitiful'}\n",
      "5'th word's (sick) options: {'mad', 'bad', 'ill', 'disgusted', 'ugh', 'sick', 'puke', 'crazy', 'well', 'seriously', 'disturbed', 'grim', 'tired'}\n",
      "7'th word's (lol) options: {'smh', 'yeah', 'lmao', 'lmfao'}\n",
      "number of negations removed: 0\n",
      "--- More options (total: 1260) possible, but not printed ---\n"
     ]
    },
    {
     "data": {
      "text/html": [
       "<text style=color:black>Actual Sentence:  im sorry i got you sick.  lol. going to bed too. night! :-0.2714</text>"
      ],
      "text/plain": [
       "<IPython.core.display.HTML object>"
      ]
     },
     "metadata": {},
     "output_type": "display_data"
    },
    {
     "data": {
      "text/html": [
       "<text style=color:red>Worst Sentence: im <text style=color:blue><i>[dismal]</i></text> i got you <text style=color:blue><i>[grim]</i></text> . <text style=color:blue><i>[smh]</i></text> . going to bed too . night ! : -0.8832</text>"
      ],
      "text/plain": [
       "<IPython.core.display.HTML object>"
      ]
     },
     "metadata": {},
     "output_type": "display_data"
    },
    {
     "data": {
      "text/html": [
       "<text style=color:green>Best Sentence: im <text style=color:blue><i>[haha]</i></text> i got you <text style=color:blue><i>[well]</i></text> . <text style=color:blue><i>[lmao]</i></text> . going to bed too . night ! : 0.8516</text>"
      ],
      "text/plain": [
       "<IPython.core.display.HTML object>"
      ]
     },
     "metadata": {},
     "output_type": "display_data"
    },
    {
     "name": "stdout",
     "output_type": "stream",
     "text": [
      "\n",
      "\n",
      " Tweet:  no internet at home have to drive into ox to use internet because of builders! :-0.3595\n",
      "\n",
      "Some antonyms for word no are ['all', 'yes']\n",
      "Some synonyms for word no are ['atomic_number_102', 'no_more', 'no']\n",
      "Some early replacements for word [no] are ['nno', 'me', 'noo', 'do', 'yo', 'q', 'nada', 'all']\n",
      "some skipped words: ['all']\n",
      "0'th word's (no) options: {'no'}\n",
      "number of negations removed: 0\n"
     ]
    },
    {
     "data": {
      "text/html": [
       "<text style=color:black>Actual Sentence:  no internet at home have to drive into ox to use internet because of builders!  :-0.3595</text>"
      ],
      "text/plain": [
       "<IPython.core.display.HTML object>"
      ]
     },
     "metadata": {},
     "output_type": "display_data"
    },
    {
     "data": {
      "text/html": [
       "<text style=color:green>Best Sentence: <text style=color:blue><i>[no]</i></text> internet at home have to drive into ox to use internet because of builders ! : -0.3595</text>"
      ],
      "text/plain": [
       "<IPython.core.display.HTML object>"
      ]
     },
     "metadata": {},
     "output_type": "display_data"
    },
    {
     "name": "stdout",
     "output_type": "stream",
     "text": [
      "\n",
      "\n",
      " Tweet:  the weather in canada is freezing :-0.1027\n",
      "\n",
      "Some antonyms for word freezing are ['unblock', 'boil', 'unfreeze']\n",
      "Some synonyms for word freezing are ['freezing', 'immobilize', 'freeze_out']\n",
      "Some early replacements for word [freezing] are ['cold', 'weather', 'degrees', 'snowing', 'outside', 'snow', 'raining', 'unblock']\n",
      "some skipped words: ['snowing', 'raining']\n",
      "5'th word's (freezing) options: {'freezing'}\n",
      "number of negations removed: 0\n"
     ]
    },
    {
     "data": {
      "text/html": [
       "<text style=color:black>Actual Sentence:  the weather in canada is freezing  :-0.1027</text>"
      ],
      "text/plain": [
       "<IPython.core.display.HTML object>"
      ]
     },
     "metadata": {},
     "output_type": "display_data"
    },
    {
     "data": {
      "text/html": [
       "<text style=color:green>Best Sentence: the weather in canada is <text style=color:blue><i>[freezing]</i></text> : -0.1027</text>"
      ],
      "text/plain": [
       "<IPython.core.display.HTML object>"
      ]
     },
     "metadata": {},
     "output_type": "display_data"
    },
    {
     "name": "stdout",
     "output_type": "stream",
     "text": [
      "\n",
      "\n",
      " Tweet: twiggassssssss i been out of range all day  i am back now and hopefully for good.:0.6808\n",
      "\n",
      "Some antonyms for word hopefully are ['hopelessly']\n",
      "Some synonyms for word hopefully are ['hopefully']\n",
      "Some early replacements for word [hopefully] are ['hope', 'hoping', 'soon', 'maybe', 'well', 'tomorrow', 'ill', 'hopelessly']\n",
      "some skipped words: ['soon', 'maybe']\n",
      "Some antonyms for word good are ['bad', 'evil', 'evilness']\n",
      "Some synonyms for word good are ['in_effect', 'salutary', 'trade_good']\n",
      "Some early replacements for word [good] are ['great', 'well', 'nice', 'better', 'night', 'morning', 'but', 'bad']\n",
      "some skipped words: ['adept', 'skillful', 'undecomposed', 'skilful', 'upright']\n",
      "13'th word's (hopefully) options: {'well', 'hopelessly', 'hopefully', 'ill'}\n",
      "15'th word's (good) options: {'serious', 'bad', 'honorable', 'nice', 'good', 'beneficial', 'honest', 'great', 'safe', 'secure', 'effective', 'respectable', 'ill'}\n",
      "number of negations removed: 0\n",
      "--- More options (total: 70) possible, but not printed ---\n"
     ]
    },
    {
     "data": {
      "text/html": [
       "<text style=color:black>Actual Sentence: twiggassssssss i been out of range all day  i am back now and hopefully for good. :0.6808</text>"
      ],
      "text/plain": [
       "<IPython.core.display.HTML object>"
      ]
     },
     "metadata": {},
     "output_type": "display_data"
    },
    {
     "data": {
      "text/html": [
       "<text style=color:red>Worst Sentence: twiggassssssss i been out of range all day i am back now and <text style=color:blue><i>[hopelessly]</i></text> for <text style=color:blue><i>[bad]</i></text> . : -0.7717</text>"
      ],
      "text/plain": [
       "<IPython.core.display.HTML object>"
      ]
     },
     "metadata": {},
     "output_type": "display_data"
    },
    {
     "data": {
      "text/html": [
       "<text style=color:green>Best Sentence: twiggassssssss i been out of range all day i am back now and <text style=color:blue><i>[hopefully]</i></text> for <text style=color:blue><i>[great]</i></text> . : 0.7783</text>"
      ],
      "text/plain": [
       "<IPython.core.display.HTML object>"
      ]
     },
     "metadata": {},
     "output_type": "display_data"
    },
    {
     "name": "stdout",
     "output_type": "stream",
     "text": [
      "\n",
      "\n",
      " Tweet: anyone who reads this pray for my grandma. she is in pain :-0.1717\n",
      "\n",
      "No antonyms found for word pray\n",
      "Some synonyms for word pray are ['beg', 'pray', 'implore']\n",
      "Some early replacements for word [pray] are ['praying', 'prayers', 'god', 'bless', 'hope', 'prayer', 'prayfor', 'beg']\n",
      "some skipped words: ['prayer', 'prayfor', 'beg', 'implore']\n",
      "Some antonyms for word pain are ['pleasure']\n",
      "Some synonyms for word pain are ['pain_sensation', 'annoyance', 'painfulness']\n",
      "Some early replacements for word [pain] are ['hurts', 'pains', 'hurt', 'stress', 'sadness', 'suffering', 'painful', 'pleasure']\n",
      "some skipped words: ['infliction', 'ail', 'nuisance']\n",
      "4'th word's (pray) options: {'pray', 'god', 'bless', 'hope'}\n",
      "12'th word's (pain) options: {'suffering', 'annoyance', 'pleasure', 'painfulness', 'trouble', 'hurt', 'anguish', 'sadness', 'stress', 'botheration', 'pain', 'bother'}\n",
      "number of negations removed: 0\n",
      "--- More options (total: 65) possible, but not printed ---\n"
     ]
    },
    {
     "data": {
      "text/html": [
       "<text style=color:black>Actual Sentence: anyone who reads this pray for my grandma. she is in pain  :-0.1717</text>"
      ],
      "text/plain": [
       "<IPython.core.display.HTML object>"
      ]
     },
     "metadata": {},
     "output_type": "display_data"
    },
    {
     "data": {
      "text/html": [
       "<text style=color:red>Worst Sentence: anyone who reads this <text style=color:blue><i>[god]</i></text> for my grandma . she is in <text style=color:blue><i>[anguish]</i></text> : -0.3664</text>"
      ],
      "text/plain": [
       "<IPython.core.display.HTML object>"
      ]
     },
     "metadata": {},
     "output_type": "display_data"
    },
    {
     "data": {
      "text/html": [
       "<text style=color:green>Best Sentence: anyone who reads this <text style=color:blue><i>[hope]</i></text> for my grandma . she is in <text style=color:blue><i>[pleasure]</i></text> : 0.795</text>"
      ],
      "text/plain": [
       "<IPython.core.display.HTML object>"
      ]
     },
     "metadata": {},
     "output_type": "display_data"
    },
    {
     "name": "stdout",
     "output_type": "stream",
     "text": [
      "\n",
      "\n",
      " Tweet: 3 woke up and was having an accident  quotit is pushing it is pushing!quot he was crying because he could not stop from wetting his pants.  :-0.6812\n",
      "\n",
      "No antonyms found for word accident\n",
      "Some synonyms for word accident are ['chance_event', 'fortuity', 'accident']\n",
      "Some early replacements for word [accident] are ['crash', 'collision', 'vehicle', 'incident', 'highway', 'near', 'road', 'chance_event']\n",
      "some skipped words: ['vehicle', 'incident', 'highway', 'road', 'stroke']\n",
      "Some antonyms for word crying are ['laugh']\n",
      "Some synonyms for word crying are ['call', 'cry', 'vociferation']\n",
      "Some early replacements for word [crying] are ['laughing', 'cry', 'sobbing', 'dying', 'screaming', 'literally', 'omfg', 'laugh']\n",
      "some skipped words: ['dying', 'glaring']\n",
      "Some antonyms for word stop are ['begin', 'start', 'continuant_consonant']\n",
      "Some synonyms for word stop are ['stopover', 'contain', 'stoppage']\n",
      "Some early replacements for word [stop] are ['trying', \"n't\", 'keep', 'why', 'quit', 'just', 'shut', 'begin']\n",
      "some skipped words: ['keep', 'quit', 'shut', 'begin', 'start']\n",
      "7'th word's (accident) options: {'crash', 'accident', 'collision'}\n",
      "18'th word's (crying) options: {'screaming', 'sobbing', 'crying', 'laughing', 'weeping'}\n",
      "23'th word's (stop) options: {'arrest', 'block', 'stop'}\n",
      "number of negations removed: 96\n",
      "--- More options (total: 192) possible, but not printed ---\n"
     ]
    },
    {
     "data": {
      "text/html": [
       "<text style=color:black>Actual Sentence: 3 woke up and was having an accident  quotit is pushing it is pushing!quot he was crying because he could not stop from wetting his pants.   :-0.6812</text>"
      ],
      "text/plain": [
       "<IPython.core.display.HTML object>"
      ]
     },
     "metadata": {},
     "output_type": "display_data"
    },
    {
     "data": {
      "text/html": [
       "<text style=color:red>Worst Sentence: 3 woke up and was having an <text style=color:blue><i>[accident]</i></text> quotit is pushing it is pushing ! quot he was <text style=color:blue><i>[crying]</i></text> because he could <text style=color:blue><i>[block]</i></text> <text style=color:blue><i>[from]</i></text> wetting his pants . : -0.8553</text>"
      ],
      "text/plain": [
       "<IPython.core.display.HTML object>"
      ]
     },
     "metadata": {},
     "output_type": "display_data"
    },
    {
     "data": {
      "text/html": [
       "<text style=color:green>Best Sentence: 3 woke up and was having an <text style=color:blue><i>[collision]</i></text> quotit is pushing it is pushing ! quot he was <text style=color:blue><i>[laughing]</i></text> because he could not <text style=color:blue><i>[block]</i></text> from wetting his pants . : 0.5264</text>"
      ],
      "text/plain": [
       "<IPython.core.display.HTML object>"
      ]
     },
     "metadata": {},
     "output_type": "display_data"
    },
    {
     "name": "stdout",
     "output_type": "stream",
     "text": [
      "num of tweets done : 100\n"
     ]
    }
   ],
   "source": [
    "def extractTwitterDataset():\n",
    "    df_tweets = pd.read_csv( pathToDatasets + 'cleanedTweets.csv', nrows=NUM_OF_TWEETS, skiprows =TWEET_START)\n",
    "    tweets = df_tweets.values\n",
    "    return tweets;\n",
    "\n",
    "def createDictionaryOfSentStrings(sentencesWithSentiment):\n",
    "    dict_sentimentToStringObjects = {}\n",
    "    for obj in sentencesWithSentiment:\n",
    "        sent = obj.getSentiment()\n",
    "        if(dict_sentimentToStringObjects.get(sent) == None):\n",
    "            dict_sentimentToStringObjects[sent] = [obj]\n",
    "        else:\n",
    "            (dict_sentimentToStringObjects[sent]).append(obj)\n",
    "\n",
    "    return dict_sentimentToStringObjects;\n",
    "\n",
    "def runThroughTweets():\n",
    "    tweets = extractTwitterDataset()\n",
    "    \n",
    "    counterOfTweets = 0;\n",
    "    for counter,tweet in enumerate(tweets):\n",
    "        counterOfTweets +=1;\n",
    "        tweet = tweet[0]\n",
    "        tweetTokens = cleanAndTokenizeText(tweet)\n",
    "        mainSentiment = senty.polarity_scores(tweet)['compound']\n",
    "        if(mainSentiment == 0):\n",
    "            continue\n",
    "        print(\"\\n\\n Tweet: {0}:{1}\\n\".format(tweet,mainSentiment))   \n",
    "        sentenceObj = Sentence(tweet, mainSentiment)\n",
    "        sentenceObj = getAlternativeWords(sentenceObj)\n",
    "        replacementDictionary = sentenceObj.getDictOfIndexWords();\n",
    "        if(len(replacementDictionary) <= 0):        \n",
    "            print(\" -- No new Strings generated ---\\n\\n\")\n",
    "            continue\n",
    "\n",
    "        keysToChange = replacementDictionary.keys();\n",
    "        for key in keysToChange:\n",
    "            if(VERBOSE_PRINTING):print(\"{0}'th word's ({2}) options: {1}\".format(key,replacementDictionary[key],tweetTokens[key]))\n",
    "\n",
    "        sentenceObj = returnCombinationsOfStrings(sentenceObj)\n",
    "        sentenceObj = removeNegationsFromSentence(sentenceObj)\n",
    "        sentencesWithSentiment, sentenceObj = printStrings(sentenceObj)\n",
    "       \n",
    "        dict_sentimentToStringObjects = createDictionaryOfSentStrings(sentencesWithSentiment)\n",
    "        \n",
    "        sentiments = sorted(dict_sentimentToStringObjects.keys())\n",
    "        \n",
    "    return counterOfTweets;\n",
    "        \n",
    "numOfTweets = runThroughTweets()\n",
    "print(\"num of tweets done : {0}\".format(numOfTweets))"
   ]
  },
  {
   "cell_type": "markdown",
   "metadata": {},
   "source": [
    "## Testing Code\n"
   ]
  },
  {
   "cell_type": "code",
   "execution_count": 127,
   "metadata": {},
   "outputs": [],
   "source": [
    "specificWord = \"good\"\n",
    "def testOneWord(word=\"\"):\n",
    "    if(word==\"\"):\n",
    "        return\n",
    "    print(word)"
   ]
  },
  {
   "cell_type": "code",
   "execution_count": 128,
   "metadata": {
    "scrolled": false
   },
   "outputs": [
    {
     "name": "stdout",
     "output_type": "stream",
     "text": [
      "Enter a string to use\n",
      "\n"
     ]
    }
   ],
   "source": [
    "specificString = \"\"\n",
    "def specificString(textString=\"\"):\n",
    "    if(textString == \"\" or textString == None):\n",
    "        return\n",
    "    textString = dataClean(textString)\n",
    "    mainSentiment = senty.polarity_scores(textString)['compound']\n",
    "    if(mainSentiment == 0):\n",
    "        print(\"{} \\n No sentiment found in sentence\".format(textString));\n",
    "        return;\n",
    "    print(\"\\n {0}:{1}\\n\".format(textString,mainSentiment))   \n",
    "    sentenceObj = Sentence(textString, mainSentiment)\n",
    "    sentenceObj = getAlternativeWords(sentenceObj)\n",
    "    replacementDictionary = sentenceObj.getDictOfIndexWords();\n",
    "    if(len(replacementDictionary) <= 0):        \n",
    "        print(\" -- No new Strings generated ---\\n\\n\")\n",
    "        return\n",
    "    \n",
    "    keysToChange = replacementDictionary.keys();\n",
    "    if(VERBOSE_PRINTING):\n",
    "        for key in keysToChange:\n",
    "            print(\"{0}'th word's options: {1}\".format(key,replacementDictionary[key]))\n",
    "        \n",
    "    \n",
    "    sentenceObj = returnCombinationsOfStrings(sentenceObj)\n",
    "    sentenceObj = removeNegationsFromSentence(sentenceObj)\n",
    "    allPossibleSentences, sentenceObj = printStrings(sentenceObj)\n",
    "    \n",
    "    \n",
    "    dict_sentimentToStringObjects = createDictionaryOfSentStrings(allPossibleSentences)\n",
    "        \n",
    "    sentiments = sorted(dict_sentimentToStringObjects.keys())\n",
    "\n",
    "print(\"Enter a string to use\")\n",
    "\n",
    "\n",
    "inputText = input()\n",
    "if(inputText == \"\"):\n",
    "    return\n",
    "elif(inputText == \"t\"):\n",
    "    specificString(\"I really love hot chocolate, but no\")\n",
    "else:\n",
    "    specificString(inputText)\n",
    "# I really love hot chocolate, but I'm not good with hot coffee "
   ]
  },
  {
   "cell_type": "markdown",
   "metadata": {},
   "source": [
    "\n",
    "this is making me feel bad:-0.5423\n",
    "this is making me feel a bit bad:-0.5423\n",
    "\n",
    "this is making me feel very bad:-0.5849\n",
    "this is making me feel quite bad:-0.5849\n",
    "this is making me feel incredibly bad:-0.5849\n",
    "\n",
    "this is making me feel kinda bad:-0.4951\n",
    "this is making me feel slightly bad:-0.4951\n",
    "this is making me feel barely bad:-0.4951\n",
    "\n",
    "this is making me feel not bad:0.431\n"
   ]
  }
 ],
 "metadata": {
  "kernelspec": {
   "display_name": "Python 3",
   "language": "python",
   "name": "python3"
  },
  "language_info": {
   "codemirror_mode": {
    "name": "ipython",
    "version": 3
   },
   "file_extension": ".py",
   "mimetype": "text/x-python",
   "name": "python",
   "nbconvert_exporter": "python",
   "pygments_lexer": "ipython3",
   "version": "3.6.7"
  }
 },
 "nbformat": 4,
 "nbformat_minor": 2
}
