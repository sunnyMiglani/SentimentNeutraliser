{
 "cells": [
  {
   "cell_type": "markdown",
   "metadata": {},
   "source": [
    "## Import Statements"
   ]
  },
  {
   "cell_type": "code",
   "execution_count": 178,
   "metadata": {},
   "outputs": [
    {
     "data": {
      "text/html": [
       "<style>.container { width:85% !important; }</style>"
      ],
      "text/plain": [
       "<IPython.core.display.HTML object>"
      ]
     },
     "metadata": {},
     "output_type": "display_data"
    }
   ],
   "source": [
    "import gensim.downloader as api\n",
    "import numpy as np\n",
    "import re\n",
    "import csv\n",
    "import pandas as pd\n",
    "import pprint\n",
    "import string\n",
    "import nltk\n",
    "import sys\n",
    "import spacy\n",
    "import os\n",
    "import pickle\n",
    "    \n",
    "from IPython.display import HTML\n",
    "from nltk.corpus import wordnet \n",
    "from sklearn.manifold import TSNE\n",
    "from gensim.models import Word2Vec\n",
    "from gensim.models import KeyedVectors\n",
    "\n",
    "from nltk.sentiment.vader import SentimentIntensityAnalyzer\n",
    "from nltk.tokenize import word_tokenize\n",
    "\n",
    "pathToDatasets = '../datasets/'\n",
    "pathToDataScripts = '../datasets/scripts/'\n",
    "filePath = '../datasets/GoogleNews-vectors-negative300.bin'\n",
    "# modelBeingUsed = \"glove-wiki-gigaword-300\"\n",
    "# modelBeingUsed = \"glove-wiki-gigaword-100\"\n",
    "# modelBeingUsed = \"glove-twitter-50\"\n",
    "# modelBeingUsed = \"glove-twitter-100\"\n",
    "modelBeingUsed = \"glove-twitter-200\"\n",
    "\n",
    "sys.path.insert(0, pathToDataScripts)\n",
    "from cleanDataset import tokenize_words, dataClean\n",
    "\n",
    "\n",
    "from IPython.core.display import display, HTML\n",
    "display(HTML(\"<style>.container { width:85% !important; }</style>\"))"
   ]
  },
  {
   "cell_type": "markdown",
   "metadata": {},
   "source": [
    "## Downloading binaries and models\n"
   ]
  },
  {
   "cell_type": "code",
   "execution_count": 179,
   "metadata": {},
   "outputs": [
    {
     "name": "stdout",
     "output_type": "stream",
     "text": [
      "Should I reload the model?\n",
      "no\n",
      " didnt reload model! \n"
     ]
    }
   ],
   "source": [
    "print(\"Should I reload the model?\")\n",
    "tstString = input()\n",
    "if(\"no\" in tstString.lower() or \"n\" in tstString.lower()):\n",
    "    print(\" didnt reload model! \")\n",
    "else:\n",
    "    print(\"loading {0}!\".format(modelBeingUsed));\n",
    "    fileName = \"{}.pickle\".format(modelBeingUsed)\n",
    "    if(os.path.exists(pathToDatasets+fileName)):\n",
    "        print(\"loading via pickle!\")\n",
    "        pickle_in = open(pathToDatasets+fileName, \"rb\")\n",
    "        word_vectors = pickle.load(pickle_in);\n",
    "    else:\n",
    "        print(\"Pickle didn't exist, therefore loading model!\")\n",
    "        word_vectors = api.load(\"{0}\".format(modelBeingUsed))\n",
    "        print(\"-- Saving to pickle file for next time! --\")\n",
    "        pickle_out = open(pathToDatasets+fileName,\"wb\")\n",
    "        pickle.dump(word_vectors, pickle_out)\n",
    "        pickle_out.close()\n",
    "    nltk.download('vader_lexicon')\n",
    "    nltk.download('punkt')\n",
    "    nltk.download('averaged_perceptron_tagger')\n",
    "    nltk.download('wordnet')\n",
    "    print(\"Model Loaded!\")"
   ]
  },
  {
   "cell_type": "markdown",
   "metadata": {},
   "source": [
    "## Global Variables and Global Objects"
   ]
  },
  {
   "cell_type": "code",
   "execution_count": 180,
   "metadata": {},
   "outputs": [],
   "source": [
    "senty = SentimentIntensityAnalyzer()\n",
    "vocabulary = word_vectors.vocab;\n",
    "\n",
    "nlp = spacy.load('en')\n",
    "\n",
    "\n",
    "'''\n",
    "Good sets -> {100+20}\n",
    "'''\n",
    "NUMBER_OF_ALTERNATIVES = 7 \n",
    "TWEET_START = 150\n",
    "NUM_OF_TWEETS = 50\n",
    "\n",
    "\n",
    "# VERBOSE_PRINTING = True\n",
    "VERBOSE_PRINTING = False\n",
    "\n",
    "# USE_SPACY = False\n",
    "USE_SPACY = True\n",
    "\n",
    "COLOR_PRINTING = True\n",
    "#COLOR_PRINTING = False\n",
    "\n",
    "PRINT_NEUTRAL = True\n",
    "# PRINT_NEUTRAL = False\n",
    "\n",
    "PRINT_ALL_STRINGS = True\n",
    "# PRINT_ALL_STRINGS = False\n",
    "\n",
    "SHOW_ALTS = 50\n",
    "\n",
    "punctuation = r\"\\\"#$%&'+-/;<=>?@[\\]*^_`{|}~\"\n",
    "LIST_OF_NEGATIONS = [\"not\"]"
   ]
  },
  {
   "cell_type": "markdown",
   "metadata": {},
   "source": [
    "## Class for Sentences\n"
   ]
  },
  {
   "cell_type": "code",
   "execution_count": 181,
   "metadata": {},
   "outputs": [],
   "source": [
    "from SentenceClass import *"
   ]
  },
  {
   "cell_type": "markdown",
   "metadata": {},
   "source": [
    "## Utility Code"
   ]
  },
  {
   "cell_type": "code",
   "execution_count": 182,
   "metadata": {},
   "outputs": [],
   "source": [
    "def printStrings(sentenceObj):\n",
    "    \n",
    "    numberOfPrints = 0\n",
    "    newStrings = generateHTMLObjectsFromSentence(sentenceObj)\n",
    "    mainSentiment = sentenceObj.ogSentiment;\n",
    "    listOfSentencesWithSentiments = []\n",
    "    bestSentiment = -sys.maxsize - 1\n",
    "    worstSentiment = sys.maxsize\n",
    "    \n",
    "    bestSentimentString = \"\";\n",
    "    worstSentimentString = \"\";\n",
    "    \n",
    "    for ind, tSentence in enumerate(newStrings):\n",
    "            alteredTweet = tSentence.getSentence()\n",
    "            htmlText = tSentence.getHTML()\n",
    "            \n",
    "            if(\"not\" in alteredTweet): continue\n",
    "            \n",
    "            sentimentOfNewString = senty.polarity_scores(alteredTweet)['compound']\n",
    "            newObj = SentenceWithSentiment(alteredTweet, sentimentOfNewString, htmlText)\n",
    "            listOfSentencesWithSentiments.append(newObj)\n",
    "            \n",
    "            if(sentimentOfNewString >= bestSentiment):\n",
    "                bestSentiment = sentimentOfNewString\n",
    "                bestSentimentString = htmlText;\n",
    "            elif(sentimentOfNewString < worstSentiment):\n",
    "                worstSentiment = sentimentOfNewString\n",
    "                worstSentimentString = htmlText;\n",
    "            \n",
    "            \n",
    "            numberOfPrints+=1;\n",
    "            if(numberOfPrints > SHOW_ALTS or PRINT_ALL_STRINGS == False): continue\n",
    "            if(sentimentOfNewString == mainSentiment or sentimentOfNewString == 0.0):\n",
    "                if(PRINT_ALL_STRINGS and numberOfPrints <= SHOW_ALTS): displayText(\"{0}: {1}\".format(htmlText,sentimentOfNewString),'black')\n",
    "            elif(sentimentOfNewString > mainSentiment):\n",
    "                if(PRINT_ALL_STRINGS and numberOfPrints <= SHOW_ALTS): displayText(\"{0}: {1}\".format(htmlText,sentimentOfNewString),'green')\n",
    "            elif(sentimentOfNewString < mainSentiment and sentimentOfNewString != 0.0):\n",
    "                if(PRINT_ALL_STRINGS and numberOfPrints <= SHOW_ALTS): displayText(\"{0}: {1}\".format(htmlText,sentimentOfNewString),'red')\n",
    "                \n",
    "    if(numberOfPrints > SHOW_ALTS): print(\"--- More options (total: {0}) possible, but not printed ---\".format(numberOfPrints));\n",
    "    displayText(\"Actual Sentence: {0} :{1}\".format(sentenceObj.ogSentence, sentenceObj.ogSentiment))\n",
    "    if (worstSentimentString != \"\"): displayText(\"Worst Sentence: {0} : {1}\".format(worstSentimentString, worstSentiment), color='red')\n",
    "    if (bestSentimentString != \"\"): displayText(\"Best Sentence: {0} : {1}\".format(bestSentimentString, bestSentiment), color='green') \n",
    "    \n",
    "    \n",
    "    sentenceObj.addFinalSentences(listOfSentencesWithSentiments)\n",
    "    return listOfSentencesWithSentiments, sentenceObj;\n",
    "\n",
    "def cstr(s, color='black', italics=False):\n",
    "    if(COLOR_PRINTING):\n",
    "        if(italics):\n",
    "            return cstr(\"<i>{0}</i>\".format(s), color);\n",
    "        return \"<text style=color:{}>{}</text>\".format(color, s)\n",
    "    else:\n",
    "        return \"{}\".format(s)\n",
    "\n",
    "def displayText(text, color='black'):\n",
    "    if(COLOR_PRINTING):\n",
    "        display(HTML(cstr(text, color)));\n",
    "        return\n",
    "    print(\"{}\".format(text));\n",
    "    \n",
    "    \n",
    "def cleanAndTokenizeText(text):\n",
    "    text = text.lower();\n",
    "    newString = \"\"\n",
    "    for char in text:\n",
    "        if char not in punctuation:\n",
    "            newString += char\n",
    "    text = word_tokenize(newString)\n",
    "    return text;\n",
    "\n",
    "def getPOSTags(tweet):\n",
    "    if(USE_SPACY == False):\n",
    "        tags = nltk.pos_tag(tweet)\n",
    "        return tags;    \n",
    "    tweet = ' '.join(tweet)\n",
    "    doc = nlp(tweet)\n",
    "    tags = [(token.text, token.tag_) for token in doc] # since the format expected is [text,tag]\n",
    "    return tags\n",
    "\n",
    "def getAntonymsAndSynonymsOfWords(word):\n",
    "    if(word not in vocabulary):\n",
    "        return [], []\n",
    "    setOfAntonyms = set()\n",
    "    setOfSynonyms = set()\n",
    "    for syn in wordnet.synsets(word):\n",
    "        for l in syn.lemmas():\n",
    "            setOfSynonyms.add(l.name().lower())\n",
    "            anton = l.antonyms()\n",
    "            if(anton!=[]):\n",
    "                setOfAntonyms.add(anton[0].name().lower())\n",
    "    if(len(setOfAntonyms) == 0):\n",
    "        if(VERBOSE_PRINTING): print(\"No antonyms found for word {0}\".format(word))\n",
    "    if(len(setOfSynonyms) == 0):\n",
    "        if(VERBOSE_PRINTING): print(\"No synonyms found for word {0}\".format(word))\n",
    "            \n",
    "    return list(setOfAntonyms), list(setOfSynonyms)\n",
    "\n",
    "\n",
    "def returnReplacementsForWord(word):\n",
    "    \n",
    "    if(word not in vocabulary):\n",
    "        print(\" --- {0} not in vocabulary ---\".format(word))\n",
    "        return []\n",
    "    possibleReplacements = [word[0] for word in word_vectors.most_similar(word,topn=NUMBER_OF_ALTERNATIVES)]\n",
    "    \n",
    "    if(possibleReplacements == []):\n",
    "        print(\" --- No replacements for word {0} ---\".format(word))\n",
    "    antonyms,synonyms = getAntonymsAndSynonymsOfWords(word)\n",
    "    \n",
    "    if(antonyms != []):\n",
    "        possibleReplacements.extend(antonyms)\n",
    "        if(VERBOSE_PRINTING): print(\"Some antonyms for word {0} are {1}\".format(word, antonyms[:3]))\n",
    "    if(synonyms != []):\n",
    "        possibleReplacements.extend(synonyms)\n",
    "        if(VERBOSE_PRINTING): print(\"Some synonyms for word {0} are {1}\".format(word, synonyms[:3]))\n",
    "    return possibleReplacements\n",
    "    \n",
    "def posApprovedReplacements(alternativeWords, userTokens, indexOfToken):\n",
    "    if(alternativeWords == []):\n",
    "        return []\n",
    "    tempTokens = userTokens[:]\n",
    "    POSTokens = getPOSTags(tempTokens)\n",
    "    validWords = []\n",
    "    \n",
    "    mainTag = POSTokens[indexOfToken][1]\n",
    "    mainWord = userTokens[indexOfToken]\n",
    "    \n",
    "    for ind,word in enumerate(alternativeWords):\n",
    "        if(\"_\" in word): continue\n",
    "        tempTokens[indexOfToken] = word\n",
    "        posTags = getPOSTags(tempTokens)\n",
    "        newTag = (posTags[indexOfToken])[1]\n",
    "        if(str(newTag) == str(mainTag)):\n",
    "#             if(VERBOSE_PRINTING): print(\"Word {0}[{1}] matched with {2}[{3}]\".format(mainWord, mainTag, word,newTag))\n",
    "            validWords.append(word)\n",
    "    if(validWords == [] and VERBOSE_PRINTING):\n",
    "        print(\"No POS words found for word {} with tag {}\".format(mainWord, mainTag));\n",
    "    return validWords\n",
    "    \n",
    "def addBoostersToSentence(sentenceObj):\n",
    "    finalSentenceObjs = sentenceObj.getFinalSentences();\n",
    "    newObjs = []\n",
    "    counterOfAdditions = 0\n",
    "    '''\n",
    "    \n",
    "    \n",
    "    '''\n",
    "    return\n",
    "    \n",
    "def generateHTMLObjectsFromSentence(sentenceObj):\n",
    "    \n",
    "    allSentences = sentenceObj.getFinalSentences()\n",
    "    indexToAlts = sentenceObj.indexToSetOfWords;\n",
    "    indexToChange = list(indexToAlts.keys());\n",
    "    \n",
    "    numberOfNegationsRemoved = 0;\n",
    "    listOfSentenceObjs = []\n",
    "    for t_sentenceObj in allSentences:\n",
    "        sentence = t_sentenceObj.getSentence()\n",
    "        sentence = t_sentenceObj.getSentence()\n",
    "        copySentence = cleanAndTokenizeText(sentence)\n",
    "        subIndex = 0\n",
    "        for index in sorted(indexToChange):\n",
    "            if(index  len(copySentence)):  \n",
    "                copySentence[len(copySentence) - index] = cstr(\"[{0}]\".format(copySentence[len(copySentence) - index]), \"blue\", italics=True);\n",
    "                continue\n",
    "            else:\n",
    "                if(\"IGNORE_FLAG\" in indexToAlts[index]):\n",
    "                    if(copySentence[index] in LIST_OF_NEGATIONS):\n",
    "                        continue; ## Word that _should_ be removed is present.\n",
    "                    else:\n",
    "                        subIndex +=1\n",
    "                        numberOfNegationsRemoved +=1;\n",
    "                        continue;\n",
    "            copySentence[index-subIndex] = cstr(\"[{0}]\".format(copySentence[index-subIndex]), \"blue\", italics=True);\n",
    "        listOfSentenceObjs.append(SentenceWithHTML(sentence, ' '.join(copySentence)));\n",
    "    \n",
    "    if(VERBOSE_PRINTING): print(\"Number of negations removed : {0}\".format(numberOfNegationsRemoved))\n",
    "    return listOfSentenceObjs\n",
    "                "
   ]
  },
  {
   "cell_type": "markdown",
   "metadata": {},
   "source": [
    "## Sentence Chunking and Appending"
   ]
  },
  {
   "cell_type": "code",
   "execution_count": 183,
   "metadata": {},
   "outputs": [],
   "source": [
    "def helper_combine(mainList, myList):\n",
    "    '''\n",
    "    helper function for CombineSentenceChunks\n",
    "    '''\n",
    "    newList = []\n",
    "    for val in myList:\n",
    "        for mainVal in mainList:\n",
    "#             if(VERBOSE_PRINTING): print(\"Combining {0} with {1}\".format(' '.join(val), ' '.join(mainVal)));\n",
    "            newList.append(val + mainVal);\n",
    "    return newList;\n",
    "\n",
    "def combineSentenceChunks(wholeSentence, dictOfChunks):\n",
    "    '''\n",
    "        Uses the helper_combine function to generate all possible combinatios and permuations of the chunks\n",
    "        and any alternatives.\n",
    "        \n",
    "        The logic is to use the end of the sentence, apply each possible chunk from the previous key's chunks\n",
    "        to every possible chunk of this key's.\n",
    "        \n",
    "        The helper function is used to allow us to reuse the list of alreadyGeneratedChunks and constantly\n",
    "        append to them.\n",
    "        \n",
    "        To understand the logic better, take a look at this gist:\n",
    "        https://gist.github.com/sunnyMiglani/cf85407a9e6928237b1436cc2bc95fa4\n",
    "        \n",
    "    '''\n",
    "    reversedKeys = sorted(dictOfChunks.keys(), reverse=True)\n",
    "    completeSentences = [];\n",
    "    mainArr = dictOfChunks[reversedKeys[0]]\n",
    "    for ind in range(1, len(reversedKeys)):\n",
    "        key = reversedKeys[ind];\n",
    "        mainArr = helper_combine(mainArr, dictOfChunks[key]);\n",
    "        \n",
    "    return mainArr;\n",
    "        \n",
    "def generateSentenceChunks(wholeSentence, keyToChange, nextKey, listOfMyAlternatives):\n",
    "    '''\n",
    "        Generates sentence chunks by iterating through the list of alternatives\n",
    "        Chunking the sentence to start from current key to next key.\n",
    "        This means that the sentence always goes from key 'x' to key 'y'\n",
    "        \n",
    "        Example:\n",
    "        \"I really <hate> hot chocolate, but I <prefer> hot coffee\"\n",
    "        Calling generateSentenceChunks will create an example sentence:\n",
    "            - \"<altWordForHate> hot chocolate , but I \"\n",
    "        \n",
    "        Remember to append the first stretch of the string to the first key's chunk for proper use!\n",
    "    '''\n",
    "    \n",
    "    newList = list(listOfMyAlternatives)\n",
    "    newList.append(wholeSentence[keyToChange]);\n",
    "    generatedSentences = []\n",
    "    \n",
    "        \n",
    "    for myAlt in newList:\n",
    "        if(\"IGNORE_FLAG\" == myAlt):\n",
    "            newSentence = wholeSentence[keyToChange+1:nextKey];\n",
    "            generatedSentences.append(newSentence)\n",
    "            continue\n",
    "        else:\n",
    "            newSentence = wholeSentence[:]\n",
    "            newSentence[keyToChange] = myAlt\n",
    "            generatedSentences.append(newSentence[keyToChange:nextKey]);\n",
    "        \n",
    "    return generatedSentences\n",
    "    \n",
    "def returnCombinationsOfStrings(sentenceObj):\n",
    "    \n",
    "    indexToWordDict = sentenceObj.indexToSetOfWords;\n",
    "    originalSentence = sentenceObj.ogSentence;\n",
    "    tokenizedSentence = cleanAndTokenizeText(originalSentence)\n",
    "    reversedKeys = sorted(indexToWordDict.keys(), reverse=True)\n",
    "    dictAlternatives  = {}\n",
    "\n",
    "    sortedKeys = sorted(indexToWordDict.keys())\n",
    "    sentenceChunks = {}\n",
    "    htmlChunks = {}\n",
    "    \n",
    "    for ind in range(0,len(sortedKeys)):\n",
    "        key = sortedKeys[ind]\n",
    "        nextKey = sortedKeys[ind+1] if ind+1 < len(sortedKeys) else len(tokenizedSentence)\n",
    "        sentenceChunks[key] = generateSentenceChunks(tokenizedSentence, key, nextKey, indexToWordDict[key])\n",
    "\n",
    "    if(sortedKeys[0] != 0):\n",
    "        newList = []\n",
    "        for thislist in sentenceChunks[sortedKeys[0]]:\n",
    "            newList.append(tokenizedSentence[0:sortedKeys[0]] + thislist)\n",
    "        sentenceChunks[sortedKeys[0]] = newList;\n",
    "        \n",
    "    finalOptions = combineSentenceChunks(tokenizedSentence, sentenceChunks)\n",
    "    \n",
    "    finalSentences = []\n",
    "    for val in finalOptions:\n",
    "        sentence = ' '.join(val)\n",
    "        sentiment = senty.polarity_scores(sentence)['compound']\n",
    "        finalSentences.append(SentenceWithSentiment(sentence,sentiment))\n",
    "    \n",
    "    sentenceObj.addFinalSentences(finalSentences)   \n",
    "    return sentenceObj"
   ]
  },
  {
   "cell_type": "code",
   "execution_count": 184,
   "metadata": {},
   "outputs": [],
   "source": [
    "def getAlternativeWords(sentenceObj):\n",
    "    mainSentence = sentenceObj.ogSentence;\n",
    "    mainSentiment = sentenceObj.ogSentiment;\n",
    "\n",
    "    sentenceTokens = cleanAndTokenizeText(mainSentence)\n",
    "\n",
    "    for ind, word in enumerate(sentenceTokens):\n",
    "        alternativeSentenceWithHTML = []\n",
    "        copyOfTokens = sentenceTokens[:]\n",
    "        replacements = []\n",
    "        replacements = sentenceObj.checkIfWordExists(word)\n",
    "        if(replacements != []):\n",
    "            print(\"FOUND REPEATED WORD {0}\".format(word))\n",
    "            sentenceObj.addAlternativesByIndex(ind, replacements)\n",
    "            continue;\n",
    "        \n",
    "        if(word in LIST_OF_NEGATIONS):\n",
    "            '''\n",
    "                If the word is in the list of negations\n",
    "                We add a [IGNORE_FLAG] tag to the alternatives\n",
    "                Which will be grabbed in the future by the sentence generation algorithm. (chunking)\n",
    "            '''\n",
    "            tmp = ' '.join(sentenceTokens[ind:ind+3])\n",
    "            if(senty.polarity_scores(tmp)['compound'] != 0):\n",
    "                sentenceObj.addAlternativesByIndex(ind, [\"IGNORE_FLAG\", word]);\n",
    "                continue\n",
    "        \n",
    "        score = senty.polarity_scores(word)['compound']\n",
    "        if(score != 0.0):\n",
    "            tempReplacements = returnReplacementsForWord(word) # get embedding based relations\n",
    "            if(VERBOSE_PRINTING): print(\"Some early replacements for word [{0}] are {1}\".format(word, tempReplacements[0:8]))\n",
    "            if(tempReplacements == []):\n",
    "                print(\"No replacements found at all for word {0}\".format(word))\n",
    "                continue\n",
    "            replacements = posApprovedReplacements(tempReplacements[:], copyOfTokens[:], ind)\n",
    "            finalReplacements = []\n",
    "            if(VERBOSE_PRINTING): skippedWords = []\n",
    "            for new_word in replacements:\n",
    "                thisSentiment = senty.polarity_scores(new_word)['compound']\n",
    "                if(thisSentiment != 0.0):\n",
    "                    finalReplacements.append(new_word)\n",
    "                else:\n",
    "                    if(VERBOSE_PRINTING):\n",
    "                        skippedWords.append(new_word)\n",
    "            if(VERBOSE_PRINTING and len(skippedWords) > 0):\n",
    "                print(\"some skipped words: {0}\".format(skippedWords[:5]));\n",
    "            if(finalReplacements == []):\n",
    "                if(VERBOSE_PRINTING): print(\" -- No POS approved words! -- for word {0}\\n some non-POS:{1}\".format(word, tempReplacements[:4]))\n",
    "                continue\n",
    "            sentenceObj.addAlternativesByIndex(ind, finalReplacements)\n",
    "            sentenceObj.addWordToAlternatives(word, finalReplacements)\n",
    "    return sentenceObj\n",
    "\n",
    "\n"
   ]
  },
  {
   "cell_type": "code",
   "execution_count": 185,
   "metadata": {},
   "outputs": [],
   "source": [
    "def interactionHelper(dictOfAltObjs, sentiments, thisSent, lastWorkingIndex=0):\n",
    "    if(thisSent in sentiments):\n",
    "        mainIndex = sentiments.index(thisSent)\n",
    "        \n",
    "    else:\n",
    "        mainIndex = lastWorkingIndex\n",
    "    \n",
    "    numLower =  mainIndex  # Mod to keep it in range 0 -> val \n",
    "    numHigher = len(sentiments) - mainIndex - 1\n",
    "\n",
    "    print(\"There are totally {0} possible sentences\".format(len(sentiments)))\n",
    "    print(\"Current sentiment is at index {0}, and length of sentiments is {1}\".format(mainIndex, len(sentiments)));\n",
    "    print(\" <--- {0} lower and {1} ---> higher \".format(numLower, numHigher))\n",
    "    print(\"Would you like to see a lower sentiment or higher sentiment or ALL?\")\n",
    "    print(\"Please enter 1 for lower, 2 for higher or 0 for all\")\n",
    "    \n",
    "    targetSentiment = thisSent\n",
    "    textInput = input()\n",
    "    if(textInput == \"\"):\n",
    "        print(\"You entered nothing! exiting\")\n",
    "        return\n",
    "        \n",
    "    if(textInput.isdigit()):\n",
    "        textInput = int(textInput)\n",
    "        if(textInput == 0):\n",
    "            if(VERBOSE_PRINTING): print(\"Printing sentiments from : {0}\".format(sentiments))\n",
    "            for sentiment in sentiments:\n",
    "                obj = dictOfAltObjs[sentiment][0];\n",
    "                displayText(\"{0}  : {1}\".format(obj.getHTML(), sentiment))\n",
    "            return\n",
    "        elif(textInput == 1 and numLower > 0 and (mainIndex - 1) >= 0):\n",
    "            targetSentiment = sentiments[mainIndex - 1]\n",
    "            htmlSentence = dictOfAltObjs[targetSentiment][0].getHTML();\n",
    "            displayText(\"{0} : {1}\".format(htmlSentence, targetSentiment))\n",
    "            \n",
    "        elif(textInput == 2 and numHigher < len(sentiments) and (mainIndex + 1) < len(sentiments)):\n",
    "            targetSentiment = sentiments[mainIndex + 1]\n",
    "            htmlSentence = dictOfAltObjs[targetSentiment][0].getHTML();\n",
    "            displayText(\"{0} : {1}\".format(htmlSentence, targetSentiment))\n",
    "            \n",
    "        else:\n",
    "            print(\"You entered an invalid option\")\n",
    "            interactionHelper(dictOfAltObjs, sentiments, thisSent, mainIndex)\n",
    "            return\n",
    "        \n",
    "    interactionHelper(dictOfAltObjs, sentiments, targetSentiment,mainIndex)\n",
    "\n",
    "\n",
    "\n",
    "def interactionWithUser(mainSentenceObj, dictOfAltObjs,sentiments, isUser=False):\n",
    "    if(isUser == False):\n",
    "        return\n",
    "    else:\n",
    "        mainSentence = mainSentenceObj.ogSentence;\n",
    "        mainSent = mainSentenceObj.ogSentiment;\n",
    "        if(VERBOSE_PRINTING):\n",
    "            print(\"The following are the sentiment values for the input\")\n",
    "            for ind,sent in enumerate(sentiments):\n",
    "                print(\"{0} - {1}\".format(ind+1,sent))\n",
    "        \n",
    "        interactionHelper(dictOfAltObjs, sentiments, mainSent) "
   ]
  },
  {
   "cell_type": "code",
   "execution_count": 186,
   "metadata": {
    "scrolled": false
   },
   "outputs": [
    {
     "name": "stdout",
     "output_type": "stream",
     "text": [
      "\n",
      "\n",
      " Tweet:  that is lame :-0.4215\n",
      "\n"
     ]
    },
    {
     "data": {
      "text/html": [
       "<text style=color:green>that is <text style=color:blue><i>[annoying]</i></text>: -0.4019</text>"
      ],
      "text/plain": [
       "<IPython.core.display.HTML object>"
      ]
     },
     "metadata": {},
     "output_type": "display_data"
    },
    {
     "data": {
      "text/html": [
       "<text style=color:black>that is <text style=color:blue><i>[lame]</i></text>: -0.4215</text>"
      ],
      "text/plain": [
       "<IPython.core.display.HTML object>"
      ]
     },
     "metadata": {},
     "output_type": "display_data"
    },
    {
     "data": {
      "text/html": [
       "<text style=color:green>that is <text style=color:blue><i>[damn]</i></text>: -0.4019</text>"
      ],
      "text/plain": [
       "<IPython.core.display.HTML object>"
      ]
     },
     "metadata": {},
     "output_type": "display_data"
    },
    {
     "data": {
      "text/html": [
       "<text style=color:red>that is <text style=color:blue><i>[dumb]</i></text>: -0.5106</text>"
      ],
      "text/plain": [
       "<IPython.core.display.HTML object>"
      ]
     },
     "metadata": {},
     "output_type": "display_data"
    },
    {
     "data": {
      "text/html": [
       "<text style=color:green>that is <text style=color:blue><i>[feeble]</i></text>: -0.296</text>"
      ],
      "text/plain": [
       "<IPython.core.display.HTML object>"
      ]
     },
     "metadata": {},
     "output_type": "display_data"
    },
    {
     "data": {
      "text/html": [
       "<text style=color:red>that is <text style=color:blue><i>[stupid]</i></text>: -0.5267</text>"
      ],
      "text/plain": [
       "<IPython.core.display.HTML object>"
      ]
     },
     "metadata": {},
     "output_type": "display_data"
    },
    {
     "data": {
      "text/html": [
       "<text style=color:green>that is <text style=color:blue><i>[boring]</i></text>: -0.3182</text>"
      ],
      "text/plain": [
       "<IPython.core.display.HTML object>"
      ]
     },
     "metadata": {},
     "output_type": "display_data"
    },
    {
     "data": {
      "text/html": [
       "<text style=color:black>that is <text style=color:blue><i>[lame]</i></text>: -0.4215</text>"
      ],
      "text/plain": [
       "<IPython.core.display.HTML object>"
      ]
     },
     "metadata": {},
     "output_type": "display_data"
    },
    {
     "data": {
      "text/html": [
       "<text style=color:black>Actual Sentence:  that is lame  :-0.4215</text>"
      ],
      "text/plain": [
       "<IPython.core.display.HTML object>"
      ]
     },
     "metadata": {},
     "output_type": "display_data"
    },
    {
     "data": {
      "text/html": [
       "<text style=color:red>Worst Sentence: that is <text style=color:blue><i>[stupid]</i></text> : -0.5267</text>"
      ],
      "text/plain": [
       "<IPython.core.display.HTML object>"
      ]
     },
     "metadata": {},
     "output_type": "display_data"
    },
    {
     "data": {
      "text/html": [
       "<text style=color:green>Best Sentence: that is <text style=color:blue><i>[feeble]</i></text> : -0.296</text>"
      ],
      "text/plain": [
       "<IPython.core.display.HTML object>"
      ]
     },
     "metadata": {},
     "output_type": "display_data"
    },
    {
     "name": "stdout",
     "output_type": "stream",
     "text": [
      "\n",
      "\n",
      " Tweet: heroes just is not doing it for me this season... :0.5106\n",
      "\n"
     ]
    },
    {
     "data": {
      "text/html": [
       "<text style=color:black>Actual Sentence: heroes just is not doing it for me this season...  :0.5106</text>"
      ],
      "text/plain": [
       "<IPython.core.display.HTML object>"
      ]
     },
     "metadata": {},
     "output_type": "display_data"
    },
    {
     "name": "stdout",
     "output_type": "stream",
     "text": [
      "\n",
      "\n",
      " Tweet: living not downtown sure is not much fun.  :-0.5667\n",
      "\n"
     ]
    },
    {
     "data": {
      "text/html": [
       "<text style=color:green><text style=color:blue><i>[living]</i></text> downtown <text style=color:blue><i>[certain]</i></text> is much fun .: 0.6597</text>"
      ],
      "text/plain": [
       "<IPython.core.display.HTML object>"
      ]
     },
     "metadata": {},
     "output_type": "display_data"
    },
    {
     "data": {
      "text/html": [
       "<text style=color:green><text style=color:blue><i>[living]</i></text> downtown <text style=color:blue><i>[certain]</i></text> is much playfulness .: 0.5106</text>"
      ],
      "text/plain": [
       "<IPython.core.display.HTML object>"
      ]
     },
     "metadata": {},
     "output_type": "display_data"
    },
    {
     "data": {
      "text/html": [
       "<text style=color:green><text style=color:blue><i>[living]</i></text> downtown <text style=color:blue><i>[certain]</i></text> is much play .: 0.5423</text>"
      ],
      "text/plain": [
       "<IPython.core.display.HTML object>"
      ]
     },
     "metadata": {},
     "output_type": "display_data"
    },
    {
     "data": {
      "text/html": [
       "<text style=color:green><text style=color:blue><i>[living]</i></text> downtown <text style=color:blue><i>[certain]</i></text> is much fun .: 0.6597</text>"
      ],
      "text/plain": [
       "<IPython.core.display.HTML object>"
      ]
     },
     "metadata": {},
     "output_type": "display_data"
    },
    {
     "data": {
      "text/html": [
       "<text style=color:green><text style=color:blue><i>[living]</i></text> downtown <text style=color:blue><i>[sure]</i></text> is much fun .: 0.6808</text>"
      ],
      "text/plain": [
       "<IPython.core.display.HTML object>"
      ]
     },
     "metadata": {},
     "output_type": "display_data"
    },
    {
     "data": {
      "text/html": [
       "<text style=color:green><text style=color:blue><i>[living]</i></text> downtown <text style=color:blue><i>[sure]</i></text> is much playfulness .: 0.5423</text>"
      ],
      "text/plain": [
       "<IPython.core.display.HTML object>"
      ]
     },
     "metadata": {},
     "output_type": "display_data"
    },
    {
     "data": {
      "text/html": [
       "<text style=color:green><text style=color:blue><i>[living]</i></text> downtown <text style=color:blue><i>[sure]</i></text> is much play .: 0.5719</text>"
      ],
      "text/plain": [
       "<IPython.core.display.HTML object>"
      ]
     },
     "metadata": {},
     "output_type": "display_data"
    },
    {
     "data": {
      "text/html": [
       "<text style=color:green><text style=color:blue><i>[living]</i></text> downtown <text style=color:blue><i>[sure]</i></text> is much fun .: 0.6808</text>"
      ],
      "text/plain": [
       "<IPython.core.display.HTML object>"
      ]
     },
     "metadata": {},
     "output_type": "display_data"
    },
    {
     "data": {
      "text/html": [
       "<text style=color:green><text style=color:blue><i>[living]</i></text> downtown <text style=color:blue><i>[uncertain]</i></text> is much fun .: 0.2732</text>"
      ],
      "text/plain": [
       "<IPython.core.display.HTML object>"
      ]
     },
     "metadata": {},
     "output_type": "display_data"
    },
    {
     "data": {
      "text/html": [
       "<text style=color:black><text style=color:blue><i>[living]</i></text> downtown <text style=color:blue><i>[uncertain]</i></text> is much playfulness .: 0.0</text>"
      ],
      "text/plain": [
       "<IPython.core.display.HTML object>"
      ]
     },
     "metadata": {},
     "output_type": "display_data"
    },
    {
     "data": {
      "text/html": [
       "<text style=color:green><text style=color:blue><i>[living]</i></text> downtown <text style=color:blue><i>[uncertain]</i></text> is much play .: 0.0516</text>"
      ],
      "text/plain": [
       "<IPython.core.display.HTML object>"
      ]
     },
     "metadata": {},
     "output_type": "display_data"
    },
    {
     "data": {
      "text/html": [
       "<text style=color:green><text style=color:blue><i>[living]</i></text> downtown <text style=color:blue><i>[uncertain]</i></text> is much fun .: 0.2732</text>"
      ],
      "text/plain": [
       "<IPython.core.display.HTML object>"
      ]
     },
     "metadata": {},
     "output_type": "display_data"
    },
    {
     "data": {
      "text/html": [
       "<text style=color:green><text style=color:blue><i>[living]</i></text> downtown <text style=color:blue><i>[sure]</i></text> is much fun .: 0.6808</text>"
      ],
      "text/plain": [
       "<IPython.core.display.HTML object>"
      ]
     },
     "metadata": {},
     "output_type": "display_data"
    },
    {
     "data": {
      "text/html": [
       "<text style=color:green><text style=color:blue><i>[living]</i></text> downtown <text style=color:blue><i>[sure]</i></text> is much playfulness .: 0.5423</text>"
      ],
      "text/plain": [
       "<IPython.core.display.HTML object>"
      ]
     },
     "metadata": {},
     "output_type": "display_data"
    },
    {
     "data": {
      "text/html": [
       "<text style=color:green><text style=color:blue><i>[living]</i></text> downtown <text style=color:blue><i>[sure]</i></text> is much play .: 0.5719</text>"
      ],
      "text/plain": [
       "<IPython.core.display.HTML object>"
      ]
     },
     "metadata": {},
     "output_type": "display_data"
    },
    {
     "data": {
      "text/html": [
       "<text style=color:green><text style=color:blue><i>[living]</i></text> downtown <text style=color:blue><i>[sure]</i></text> is much fun .: 0.6808</text>"
      ],
      "text/plain": [
       "<IPython.core.display.HTML object>"
      ]
     },
     "metadata": {},
     "output_type": "display_data"
    },
    {
     "data": {
      "text/html": [
       "<text style=color:black>Actual Sentence: living not downtown sure is not much fun.   :-0.5667</text>"
      ],
      "text/plain": [
       "<IPython.core.display.HTML object>"
      ]
     },
     "metadata": {},
     "output_type": "display_data"
    },
    {
     "data": {
      "text/html": [
       "<text style=color:red>Worst Sentence: <text style=color:blue><i>[living]</i></text> downtown <text style=color:blue><i>[uncertain]</i></text> is much playfulness . : 0.0</text>"
      ],
      "text/plain": [
       "<IPython.core.display.HTML object>"
      ]
     },
     "metadata": {},
     "output_type": "display_data"
    },
    {
     "data": {
      "text/html": [
       "<text style=color:green>Best Sentence: <text style=color:blue><i>[living]</i></text> downtown <text style=color:blue><i>[sure]</i></text> is much fun . : 0.6808</text>"
      ],
      "text/plain": [
       "<IPython.core.display.HTML object>"
      ]
     },
     "metadata": {},
     "output_type": "display_data"
    },
    {
     "name": "stdout",
     "output_type": "stream",
     "text": [
      "\n",
      "\n",
      " Tweet:  not calorie wise   i wish junk food was calorie free! i ate a thing of sour skittles and a big ass cherry coke!:-0.6804\n",
      "\n"
     ]
    },
    {
     "data": {
      "text/html": [
       "<text style=color:green>calorie <text style=color:blue><i>[foolish]</i></text> i <text style=color:blue><i>[care]</i></text> junk food was calorie <text style=color:blue><i>[complimentary]</i></text> ! i ate a thing of sour skittles and a big <text style=color:blue><i>[dick]</i></text> cherry coke !: 0.3147</text>"
      ],
      "text/plain": [
       "<IPython.core.display.HTML object>"
      ]
     },
     "metadata": {},
     "output_type": "display_data"
    },
    {
     "data": {
      "text/html": [
       "<text style=color:green>calorie <text style=color:blue><i>[foolish]</i></text> i <text style=color:blue><i>[care]</i></text> junk food was calorie <text style=color:blue><i>[complimentary]</i></text> ! i ate a thing of sour skittles and a big <text style=color:blue><i>[shit]</i></text> cherry coke !: 0.2462</text>"
      ],
      "text/plain": [
       "<IPython.core.display.HTML object>"
      ]
     },
     "metadata": {},
     "output_type": "display_data"
    },
    {
     "data": {
      "text/html": [
       "<text style=color:green>calorie <text style=color:blue><i>[foolish]</i></text> i <text style=color:blue><i>[care]</i></text> junk food was calorie <text style=color:blue><i>[complimentary]</i></text> ! i ate a thing of sour skittles and a big <text style=color:blue><i>[ass]</i></text> cherry coke !: 0.2695</text>"
      ],
      "text/plain": [
       "<IPython.core.display.HTML object>"
      ]
     },
     "metadata": {},
     "output_type": "display_data"
    },
    {
     "data": {
      "text/html": [
       "<text style=color:green>calorie <text style=color:blue><i>[foolish]</i></text> i <text style=color:blue><i>[care]</i></text> junk food was calorie <text style=color:blue><i>[complimentary]</i></text> ! i ate a thing of sour skittles and a big <text style=color:blue><i>[screw]</i></text> cherry coke !: 0.6351</text>"
      ],
      "text/plain": [
       "<IPython.core.display.HTML object>"
      ]
     },
     "metadata": {},
     "output_type": "display_data"
    },
    {
     "data": {
      "text/html": [
       "<text style=color:green>calorie <text style=color:blue><i>[foolish]</i></text> i <text style=color:blue><i>[care]</i></text> junk food was calorie <text style=color:blue><i>[complimentary]</i></text> ! i ate a thing of sour skittles and a big <text style=color:blue><i>[bitch]</i></text> cherry coke !: 0.1984</text>"
      ],
      "text/plain": [
       "<IPython.core.display.HTML object>"
      ]
     },
     "metadata": {},
     "output_type": "display_data"
    },
    {
     "data": {
      "text/html": [
       "<text style=color:green>calorie <text style=color:blue><i>[foolish]</i></text> i <text style=color:blue><i>[care]</i></text> junk food was calorie <text style=color:blue><i>[complimentary]</i></text> ! i ate a thing of sour skittles and a big <text style=color:blue><i>[screwing]</i></text> cherry coke !: 0.5696</text>"
      ],
      "text/plain": [
       "<IPython.core.display.HTML object>"
      ]
     },
     "metadata": {},
     "output_type": "display_data"
    },
    {
     "data": {
      "text/html": [
       "<text style=color:green>calorie <text style=color:blue><i>[foolish]</i></text> i <text style=color:blue><i>[care]</i></text> junk food was calorie <text style=color:blue><i>[complimentary]</i></text> ! i ate a thing of sour skittles and a big <text style=color:blue><i>[ass]</i></text> cherry coke !: 0.2695</text>"
      ],
      "text/plain": [
       "<IPython.core.display.HTML object>"
      ]
     },
     "metadata": {},
     "output_type": "display_data"
    },
    {
     "data": {
      "text/html": [
       "<text style=color:green>calorie <text style=color:blue><i>[foolish]</i></text> i <text style=color:blue><i>[care]</i></text> junk food was calorie <text style=color:blue><i>[innocent]</i></text> ! i ate a thing of sour skittles and a big <text style=color:blue><i>[dick]</i></text> cherry coke !: 0.1984</text>"
      ],
      "text/plain": [
       "<IPython.core.display.HTML object>"
      ]
     },
     "metadata": {},
     "output_type": "display_data"
    },
    {
     "data": {
      "text/html": [
       "<text style=color:green>calorie <text style=color:blue><i>[foolish]</i></text> i <text style=color:blue><i>[care]</i></text> junk food was calorie <text style=color:blue><i>[innocent]</i></text> ! i ate a thing of sour skittles and a big <text style=color:blue><i>[shit]</i></text> cherry coke !: -0.1739</text>"
      ],
      "text/plain": [
       "<IPython.core.display.HTML object>"
      ]
     },
     "metadata": {},
     "output_type": "display_data"
    },
    {
     "data": {
      "text/html": [
       "<text style=color:black>calorie <text style=color:blue><i>[foolish]</i></text> i <text style=color:blue><i>[care]</i></text> junk food was calorie <text style=color:blue><i>[innocent]</i></text> ! i ate a thing of sour skittles and a big <text style=color:blue><i>[ass]</i></text> cherry coke !: 0.0</text>"
      ],
      "text/plain": [
       "<IPython.core.display.HTML object>"
      ]
     },
     "metadata": {},
     "output_type": "display_data"
    },
    {
     "data": {
      "text/html": [
       "<text style=color:green>calorie <text style=color:blue><i>[foolish]</i></text> i <text style=color:blue><i>[care]</i></text> junk food was calorie <text style=color:blue><i>[innocent]</i></text> ! i ate a thing of sour skittles and a big <text style=color:blue><i>[screw]</i></text> cherry coke !: 0.5696</text>"
      ],
      "text/plain": [
       "<IPython.core.display.HTML object>"
      ]
     },
     "metadata": {},
     "output_type": "display_data"
    },
    {
     "data": {
      "text/html": [
       "<text style=color:green>calorie <text style=color:blue><i>[foolish]</i></text> i <text style=color:blue><i>[care]</i></text> junk food was calorie <text style=color:blue><i>[innocent]</i></text> ! i ate a thing of sour skittles and a big <text style=color:blue><i>[bitch]</i></text> cherry coke !: -0.2225</text>"
      ],
      "text/plain": [
       "<IPython.core.display.HTML object>"
      ]
     },
     "metadata": {},
     "output_type": "display_data"
    },
    {
     "data": {
      "text/html": [
       "<text style=color:green>calorie <text style=color:blue><i>[foolish]</i></text> i <text style=color:blue><i>[care]</i></text> junk food was calorie <text style=color:blue><i>[innocent]</i></text> ! i ate a thing of sour skittles and a big <text style=color:blue><i>[screwing]</i></text> cherry coke !: 0.4912</text>"
      ],
      "text/plain": [
       "<IPython.core.display.HTML object>"
      ]
     },
     "metadata": {},
     "output_type": "display_data"
    },
    {
     "data": {
      "text/html": [
       "<text style=color:black>calorie <text style=color:blue><i>[foolish]</i></text> i <text style=color:blue><i>[care]</i></text> junk food was calorie <text style=color:blue><i>[innocent]</i></text> ! i ate a thing of sour skittles and a big <text style=color:blue><i>[ass]</i></text> cherry coke !: 0.0</text>"
      ],
      "text/plain": [
       "<IPython.core.display.HTML object>"
      ]
     },
     "metadata": {},
     "output_type": "display_data"
    },
    {
     "data": {
      "text/html": [
       "<text style=color:green>calorie <text style=color:blue><i>[foolish]</i></text> i <text style=color:blue><i>[care]</i></text> junk food was calorie <text style=color:blue><i>[free]</i></text> ! i ate a thing of sour skittles and a big <text style=color:blue><i>[dick]</i></text> cherry coke !: 0.3987</text>"
      ],
      "text/plain": [
       "<IPython.core.display.HTML object>"
      ]
     },
     "metadata": {},
     "output_type": "display_data"
    },
    {
     "data": {
      "text/html": [
       "<text style=color:green>calorie <text style=color:blue><i>[foolish]</i></text> i <text style=color:blue><i>[care]</i></text> junk food was calorie <text style=color:blue><i>[free]</i></text> ! i ate a thing of sour skittles and a big <text style=color:blue><i>[shit]</i></text> cherry coke !: 0.3365</text>"
      ],
      "text/plain": [
       "<IPython.core.display.HTML object>"
      ]
     },
     "metadata": {},
     "output_type": "display_data"
    },
    {
     "data": {
      "text/html": [
       "<text style=color:green>calorie <text style=color:blue><i>[foolish]</i></text> i <text style=color:blue><i>[care]</i></text> junk food was calorie <text style=color:blue><i>[free]</i></text> ! i ate a thing of sour skittles and a big <text style=color:blue><i>[ass]</i></text> cherry coke !: 0.3578</text>"
      ],
      "text/plain": [
       "<IPython.core.display.HTML object>"
      ]
     },
     "metadata": {},
     "output_type": "display_data"
    },
    {
     "data": {
      "text/html": [
       "<text style=color:green>calorie <text style=color:blue><i>[foolish]</i></text> i <text style=color:blue><i>[care]</i></text> junk food was calorie <text style=color:blue><i>[free]</i></text> ! i ate a thing of sour skittles and a big <text style=color:blue><i>[screw]</i></text> cherry coke !: 0.6792</text>"
      ],
      "text/plain": [
       "<IPython.core.display.HTML object>"
      ]
     },
     "metadata": {},
     "output_type": "display_data"
    },
    {
     "data": {
      "text/html": [
       "<text style=color:green>calorie <text style=color:blue><i>[foolish]</i></text> i <text style=color:blue><i>[care]</i></text> junk food was calorie <text style=color:blue><i>[free]</i></text> ! i ate a thing of sour skittles and a big <text style=color:blue><i>[bitch]</i></text> cherry coke !: 0.2924</text>"
      ],
      "text/plain": [
       "<IPython.core.display.HTML object>"
      ]
     },
     "metadata": {},
     "output_type": "display_data"
    },
    {
     "data": {
      "text/html": [
       "<text style=color:green>calorie <text style=color:blue><i>[foolish]</i></text> i <text style=color:blue><i>[care]</i></text> junk food was calorie <text style=color:blue><i>[free]</i></text> ! i ate a thing of sour skittles and a big <text style=color:blue><i>[screwing]</i></text> cherry coke !: 0.6229</text>"
      ],
      "text/plain": [
       "<IPython.core.display.HTML object>"
      ]
     },
     "metadata": {},
     "output_type": "display_data"
    },
    {
     "data": {
      "text/html": [
       "<text style=color:green>calorie <text style=color:blue><i>[foolish]</i></text> i <text style=color:blue><i>[care]</i></text> junk food was calorie <text style=color:blue><i>[free]</i></text> ! i ate a thing of sour skittles and a big <text style=color:blue><i>[ass]</i></text> cherry coke !: 0.3578</text>"
      ],
      "text/plain": [
       "<IPython.core.display.HTML object>"
      ]
     },
     "metadata": {},
     "output_type": "display_data"
    },
    {
     "data": {
      "text/html": [
       "<text style=color:green>calorie <text style=color:blue><i>[foolish]</i></text> i <text style=color:blue><i>[care]</i></text> junk food was calorie <text style=color:blue><i>[gratis]</i></text> ! i ate a thing of sour skittles and a big <text style=color:blue><i>[dick]</i></text> cherry coke !: -0.3786</text>"
      ],
      "text/plain": [
       "<IPython.core.display.HTML object>"
      ]
     },
     "metadata": {},
     "output_type": "display_data"
    },
    {
     "data": {
      "text/html": [
       "<text style=color:green>calorie <text style=color:blue><i>[foolish]</i></text> i <text style=color:blue><i>[care]</i></text> junk food was calorie <text style=color:blue><i>[gratis]</i></text> ! i ate a thing of sour skittles and a big <text style=color:blue><i>[shit]</i></text> cherry coke !: -0.4374</text>"
      ],
      "text/plain": [
       "<IPython.core.display.HTML object>"
      ]
     },
     "metadata": {},
     "output_type": "display_data"
    },
    {
     "data": {
      "text/html": [
       "<text style=color:green>calorie <text style=color:blue><i>[foolish]</i></text> i <text style=color:blue><i>[care]</i></text> junk food was calorie <text style=color:blue><i>[gratis]</i></text> ! i ate a thing of sour skittles and a big <text style=color:blue><i>[ass]</i></text> cherry coke !: -0.4184</text>"
      ],
      "text/plain": [
       "<IPython.core.display.HTML object>"
      ]
     },
     "metadata": {},
     "output_type": "display_data"
    },
    {
     "data": {
      "text/html": [
       "<text style=color:green>calorie <text style=color:blue><i>[foolish]</i></text> i <text style=color:blue><i>[care]</i></text> junk food was calorie <text style=color:blue><i>[gratis]</i></text> ! i ate a thing of sour skittles and a big <text style=color:blue><i>[screw]</i></text> cherry coke !: 0.3578</text>"
      ],
      "text/plain": [
       "<IPython.core.display.HTML object>"
      ]
     },
     "metadata": {},
     "output_type": "display_data"
    },
    {
     "data": {
      "text/html": [
       "<text style=color:green>calorie <text style=color:blue><i>[foolish]</i></text> i <text style=color:blue><i>[care]</i></text> junk food was calorie <text style=color:blue><i>[gratis]</i></text> ! i ate a thing of sour skittles and a big <text style=color:blue><i>[bitch]</i></text> cherry coke !: -0.4738</text>"
      ],
      "text/plain": [
       "<IPython.core.display.HTML object>"
      ]
     },
     "metadata": {},
     "output_type": "display_data"
    },
    {
     "data": {
      "text/html": [
       "<text style=color:green>calorie <text style=color:blue><i>[foolish]</i></text> i <text style=color:blue><i>[care]</i></text> junk food was calorie <text style=color:blue><i>[gratis]</i></text> ! i ate a thing of sour skittles and a big <text style=color:blue><i>[screwing]</i></text> cherry coke !: 0.2462</text>"
      ],
      "text/plain": [
       "<IPython.core.display.HTML object>"
      ]
     },
     "metadata": {},
     "output_type": "display_data"
    },
    {
     "data": {
      "text/html": [
       "<text style=color:green>calorie <text style=color:blue><i>[foolish]</i></text> i <text style=color:blue><i>[care]</i></text> junk food was calorie <text style=color:blue><i>[gratis]</i></text> ! i ate a thing of sour skittles and a big <text style=color:blue><i>[ass]</i></text> cherry coke !: -0.4184</text>"
      ],
      "text/plain": [
       "<IPython.core.display.HTML object>"
      ]
     },
     "metadata": {},
     "output_type": "display_data"
    },
    {
     "data": {
      "text/html": [
       "<text style=color:green>calorie <text style=color:blue><i>[foolish]</i></text> i <text style=color:blue><i>[care]</i></text> junk food was calorie <text style=color:blue><i>[loose]</i></text> ! i ate a thing of sour skittles and a big <text style=color:blue><i>[dick]</i></text> cherry coke !: -0.6229</text>"
      ],
      "text/plain": [
       "<IPython.core.display.HTML object>"
      ]
     },
     "metadata": {},
     "output_type": "display_data"
    },
    {
     "data": {
      "text/html": [
       "<text style=color:green>calorie <text style=color:blue><i>[foolish]</i></text> i <text style=color:blue><i>[care]</i></text> junk food was calorie <text style=color:blue><i>[loose]</i></text> ! i ate a thing of sour skittles and a big <text style=color:blue><i>[shit]</i></text> cherry coke !: -0.658</text>"
      ],
      "text/plain": [
       "<IPython.core.display.HTML object>"
      ]
     },
     "metadata": {},
     "output_type": "display_data"
    },
    {
     "data": {
      "text/html": [
       "<text style=color:green>calorie <text style=color:blue><i>[foolish]</i></text> i <text style=color:blue><i>[care]</i></text> junk food was calorie <text style=color:blue><i>[loose]</i></text> ! i ate a thing of sour skittles and a big <text style=color:blue><i>[ass]</i></text> cherry coke !: -0.6467</text>"
      ],
      "text/plain": [
       "<IPython.core.display.HTML object>"
      ]
     },
     "metadata": {},
     "output_type": "display_data"
    },
    {
     "data": {
      "text/html": [
       "<text style=color:green>calorie <text style=color:blue><i>[foolish]</i></text> i <text style=color:blue><i>[care]</i></text> junk food was calorie <text style=color:blue><i>[loose]</i></text> ! i ate a thing of sour skittles and a big <text style=color:blue><i>[screw]</i></text> cherry coke !: -0.2924</text>"
      ],
      "text/plain": [
       "<IPython.core.display.HTML object>"
      ]
     },
     "metadata": {},
     "output_type": "display_data"
    },
    {
     "data": {
      "text/html": [
       "<text style=color:green>calorie <text style=color:blue><i>[foolish]</i></text> i <text style=color:blue><i>[care]</i></text> junk food was calorie <text style=color:blue><i>[loose]</i></text> ! i ate a thing of sour skittles and a big <text style=color:blue><i>[bitch]</i></text> cherry coke !: -0.6792</text>"
      ],
      "text/plain": [
       "<IPython.core.display.HTML object>"
      ]
     },
     "metadata": {},
     "output_type": "display_data"
    },
    {
     "data": {
      "text/html": [
       "<text style=color:green>calorie <text style=color:blue><i>[foolish]</i></text> i <text style=color:blue><i>[care]</i></text> junk food was calorie <text style=color:blue><i>[loose]</i></text> ! i ate a thing of sour skittles and a big <text style=color:blue><i>[screwing]</i></text> cherry coke !: -0.3987</text>"
      ],
      "text/plain": [
       "<IPython.core.display.HTML object>"
      ]
     },
     "metadata": {},
     "output_type": "display_data"
    },
    {
     "data": {
      "text/html": [
       "<text style=color:green>calorie <text style=color:blue><i>[foolish]</i></text> i <text style=color:blue><i>[care]</i></text> junk food was calorie <text style=color:blue><i>[loose]</i></text> ! i ate a thing of sour skittles and a big <text style=color:blue><i>[ass]</i></text> cherry coke !: -0.6467</text>"
      ],
      "text/plain": [
       "<IPython.core.display.HTML object>"
      ]
     },
     "metadata": {},
     "output_type": "display_data"
    },
    {
     "data": {
      "text/html": [
       "<text style=color:green>calorie <text style=color:blue><i>[foolish]</i></text> i <text style=color:blue><i>[care]</i></text> junk food was calorie <text style=color:blue><i>[exempt]</i></text> ! i ate a thing of sour skittles and a big <text style=color:blue><i>[dick]</i></text> cherry coke !: -0.3365</text>"
      ],
      "text/plain": [
       "<IPython.core.display.HTML object>"
      ]
     },
     "metadata": {},
     "output_type": "display_data"
    },
    {
     "data": {
      "text/html": [
       "<text style=color:green>calorie <text style=color:blue><i>[foolish]</i></text> i <text style=color:blue><i>[care]</i></text> junk food was calorie <text style=color:blue><i>[exempt]</i></text> ! i ate a thing of sour skittles and a big <text style=color:blue><i>[shit]</i></text> cherry coke !: -0.3987</text>"
      ],
      "text/plain": [
       "<IPython.core.display.HTML object>"
      ]
     },
     "metadata": {},
     "output_type": "display_data"
    },
    {
     "data": {
      "text/html": [
       "<text style=color:green>calorie <text style=color:blue><i>[foolish]</i></text> i <text style=color:blue><i>[care]</i></text> junk food was calorie <text style=color:blue><i>[exempt]</i></text> ! i ate a thing of sour skittles and a big <text style=color:blue><i>[ass]</i></text> cherry coke !: -0.3786</text>"
      ],
      "text/plain": [
       "<IPython.core.display.HTML object>"
      ]
     },
     "metadata": {},
     "output_type": "display_data"
    },
    {
     "data": {
      "text/html": [
       "<text style=color:green>calorie <text style=color:blue><i>[foolish]</i></text> i <text style=color:blue><i>[care]</i></text> junk food was calorie <text style=color:blue><i>[exempt]</i></text> ! i ate a thing of sour skittles and a big <text style=color:blue><i>[screw]</i></text> cherry coke !: 0.3987</text>"
      ],
      "text/plain": [
       "<IPython.core.display.HTML object>"
      ]
     },
     "metadata": {},
     "output_type": "display_data"
    },
    {
     "data": {
      "text/html": [
       "<text style=color:green>calorie <text style=color:blue><i>[foolish]</i></text> i <text style=color:blue><i>[care]</i></text> junk food was calorie <text style=color:blue><i>[exempt]</i></text> ! i ate a thing of sour skittles and a big <text style=color:blue><i>[bitch]</i></text> cherry coke !: -0.4374</text>"
      ],
      "text/plain": [
       "<IPython.core.display.HTML object>"
      ]
     },
     "metadata": {},
     "output_type": "display_data"
    },
    {
     "data": {
      "text/html": [
       "<text style=color:green>calorie <text style=color:blue><i>[foolish]</i></text> i <text style=color:blue><i>[care]</i></text> junk food was calorie <text style=color:blue><i>[exempt]</i></text> ! i ate a thing of sour skittles and a big <text style=color:blue><i>[screwing]</i></text> cherry coke !: 0.2924</text>"
      ],
      "text/plain": [
       "<IPython.core.display.HTML object>"
      ]
     },
     "metadata": {},
     "output_type": "display_data"
    },
    {
     "data": {
      "text/html": [
       "<text style=color:green>calorie <text style=color:blue><i>[foolish]</i></text> i <text style=color:blue><i>[care]</i></text> junk food was calorie <text style=color:blue><i>[exempt]</i></text> ! i ate a thing of sour skittles and a big <text style=color:blue><i>[ass]</i></text> cherry coke !: -0.3786</text>"
      ],
      "text/plain": [
       "<IPython.core.display.HTML object>"
      ]
     },
     "metadata": {},
     "output_type": "display_data"
    },
    {
     "data": {
      "text/html": [
       "<text style=color:green>calorie <text style=color:blue><i>[foolish]</i></text> i <text style=color:blue><i>[care]</i></text> junk food was calorie <text style=color:blue><i>[resign]</i></text> ! i ate a thing of sour skittles and a big <text style=color:blue><i>[dick]</i></text> cherry coke !: -0.6351</text>"
      ],
      "text/plain": [
       "<IPython.core.display.HTML object>"
      ]
     },
     "metadata": {},
     "output_type": "display_data"
    },
    {
     "data": {
      "text/html": [
       "<text style=color:green>calorie <text style=color:blue><i>[foolish]</i></text> i <text style=color:blue><i>[care]</i></text> junk food was calorie <text style=color:blue><i>[resign]</i></text> ! i ate a thing of sour skittles and a big <text style=color:blue><i>[shit]</i></text> cherry coke !: -0.6688</text>"
      ],
      "text/plain": [
       "<IPython.core.display.HTML object>"
      ]
     },
     "metadata": {},
     "output_type": "display_data"
    },
    {
     "data": {
      "text/html": [
       "<text style=color:green>calorie <text style=color:blue><i>[foolish]</i></text> i <text style=color:blue><i>[care]</i></text> junk food was calorie <text style=color:blue><i>[resign]</i></text> ! i ate a thing of sour skittles and a big <text style=color:blue><i>[ass]</i></text> cherry coke !: -0.658</text>"
      ],
      "text/plain": [
       "<IPython.core.display.HTML object>"
      ]
     },
     "metadata": {},
     "output_type": "display_data"
    },
    {
     "data": {
      "text/html": [
       "<text style=color:green>calorie <text style=color:blue><i>[foolish]</i></text> i <text style=color:blue><i>[care]</i></text> junk food was calorie <text style=color:blue><i>[resign]</i></text> ! i ate a thing of sour skittles and a big <text style=color:blue><i>[screw]</i></text> cherry coke !: -0.3147</text>"
      ],
      "text/plain": [
       "<IPython.core.display.HTML object>"
      ]
     },
     "metadata": {},
     "output_type": "display_data"
    },
    {
     "data": {
      "text/html": [
       "<text style=color:red>calorie <text style=color:blue><i>[foolish]</i></text> i <text style=color:blue><i>[care]</i></text> junk food was calorie <text style=color:blue><i>[resign]</i></text> ! i ate a thing of sour skittles and a big <text style=color:blue><i>[bitch]</i></text> cherry coke !: -0.6892</text>"
      ],
      "text/plain": [
       "<IPython.core.display.HTML object>"
      ]
     },
     "metadata": {},
     "output_type": "display_data"
    },
    {
     "data": {
      "text/html": [
       "<text style=color:green>calorie <text style=color:blue><i>[foolish]</i></text> i <text style=color:blue><i>[care]</i></text> junk food was calorie <text style=color:blue><i>[resign]</i></text> ! i ate a thing of sour skittles and a big <text style=color:blue><i>[screwing]</i></text> cherry coke !: -0.4184</text>"
      ],
      "text/plain": [
       "<IPython.core.display.HTML object>"
      ]
     },
     "metadata": {},
     "output_type": "display_data"
    },
    {
     "data": {
      "text/html": [
       "<text style=color:green>calorie <text style=color:blue><i>[foolish]</i></text> i <text style=color:blue><i>[care]</i></text> junk food was calorie <text style=color:blue><i>[resign]</i></text> ! i ate a thing of sour skittles and a big <text style=color:blue><i>[ass]</i></text> cherry coke !: -0.658</text>"
      ],
      "text/plain": [
       "<IPython.core.display.HTML object>"
      ]
     },
     "metadata": {},
     "output_type": "display_data"
    },
    {
     "data": {
      "text/html": [
       "<text style=color:black>calorie <text style=color:blue><i>[foolish]</i></text> i <text style=color:blue><i>[care]</i></text> junk food was calorie <text style=color:blue><i>[absolve]</i></text> ! i ate a thing of sour skittles and a big <text style=color:blue><i>[dick]</i></text> cherry coke !: 0.0</text>"
      ],
      "text/plain": [
       "<IPython.core.display.HTML object>"
      ]
     },
     "metadata": {},
     "output_type": "display_data"
    },
    {
     "name": "stdout",
     "output_type": "stream",
     "text": [
      "--- More options (total: 1575) possible, but not printed ---\n"
     ]
    },
    {
     "data": {
      "text/html": [
       "<text style=color:black>Actual Sentence:  not calorie wise   i wish junk food was calorie free! i ate a thing of sour skittles and a big ass cherry coke! :-0.6804</text>"
      ],
      "text/plain": [
       "<IPython.core.display.HTML object>"
      ]
     },
     "metadata": {},
     "output_type": "display_data"
    },
    {
     "data": {
      "text/html": [
       "<text style=color:red>Worst Sentence: calorie <text style=color:blue><i>[foolish]</i></text> i <text style=color:blue><i>[want]</i></text> junk food was calorie <text style=color:blue><i>[resign]</i></text> ! i ate a thing of sour skittles and a big <text style=color:blue><i>[bitch]</i></text> cherry coke ! : -0.8217</text>"
      ],
      "text/plain": [
       "<IPython.core.display.HTML object>"
      ]
     },
     "metadata": {},
     "output_type": "display_data"
    },
    {
     "data": {
      "text/html": [
       "<text style=color:green>Best Sentence: calorie <text style=color:blue><i>[wise]</i></text> i <text style=color:blue><i>[care]</i></text> junk food was calorie <text style=color:blue><i>[free]</i></text> ! i ate a thing of sour skittles and a big <text style=color:blue><i>[screw]</i></text> cherry coke ! : 0.8684</text>"
      ],
      "text/plain": [
       "<IPython.core.display.HTML object>"
      ]
     },
     "metadata": {},
     "output_type": "display_data"
    },
    {
     "name": "stdout",
     "output_type": "stream",
     "text": [
      "\n",
      "\n",
      " Tweet: man work is hard :-0.1027\n",
      "\n"
     ]
    },
    {
     "data": {
      "text/html": [
       "<text style=color:green>man work is <text style=color:blue><i>[strong]</i></text>: 0.5106</text>"
      ],
      "text/plain": [
       "<IPython.core.display.HTML object>"
      ]
     },
     "metadata": {},
     "output_type": "display_data"
    },
    {
     "data": {
      "text/html": [
       "<text style=color:green>man work is <text style=color:blue><i>[easy]</i></text>: 0.4404</text>"
      ],
      "text/plain": [
       "<IPython.core.display.HTML object>"
      ]
     },
     "metadata": {},
     "output_type": "display_data"
    },
    {
     "data": {
      "text/html": [
       "<text style=color:red>man work is <text style=color:blue><i>[severe]</i></text>: -0.3818</text>"
      ],
      "text/plain": [
       "<IPython.core.display.HTML object>"
      ]
     },
     "metadata": {},
     "output_type": "display_data"
    },
    {
     "data": {
      "text/html": [
       "<text style=color:red>man work is <text style=color:blue><i>[difficult]</i></text>: -0.3612</text>"
      ],
      "text/plain": [
       "<IPython.core.display.HTML object>"
      ]
     },
     "metadata": {},
     "output_type": "display_data"
    },
    {
     "data": {
      "text/html": [
       "<text style=color:red>man work is <text style=color:blue><i>[tough]</i></text>: -0.128</text>"
      ],
      "text/plain": [
       "<IPython.core.display.HTML object>"
      ]
     },
     "metadata": {},
     "output_type": "display_data"
    },
    {
     "data": {
      "text/html": [
       "<text style=color:black>man work is <text style=color:blue><i>[hard]</i></text>: -0.1027</text>"
      ],
      "text/plain": [
       "<IPython.core.display.HTML object>"
      ]
     },
     "metadata": {},
     "output_type": "display_data"
    },
    {
     "data": {
      "text/html": [
       "<text style=color:black>man work is <text style=color:blue><i>[hard]</i></text>: -0.1027</text>"
      ],
      "text/plain": [
       "<IPython.core.display.HTML object>"
      ]
     },
     "metadata": {},
     "output_type": "display_data"
    },
    {
     "data": {
      "text/html": [
       "<text style=color:black>Actual Sentence: man work is hard  :-0.1027</text>"
      ],
      "text/plain": [
       "<IPython.core.display.HTML object>"
      ]
     },
     "metadata": {},
     "output_type": "display_data"
    },
    {
     "data": {
      "text/html": [
       "<text style=color:red>Worst Sentence: man work is <text style=color:blue><i>[severe]</i></text> : -0.3818</text>"
      ],
      "text/plain": [
       "<IPython.core.display.HTML object>"
      ]
     },
     "metadata": {},
     "output_type": "display_data"
    },
    {
     "data": {
      "text/html": [
       "<text style=color:green>Best Sentence: man work is <text style=color:blue><i>[strong]</i></text> : 0.5106</text>"
      ],
      "text/plain": [
       "<IPython.core.display.HTML object>"
      ]
     },
     "metadata": {},
     "output_type": "display_data"
    },
    {
     "name": "stdout",
     "output_type": "stream",
     "text": [
      "\n",
      "\n",
      " Tweet: getting sick  time for some hot tea studying and then sleeeep:-0.5106\n",
      "\n"
     ]
    },
    {
     "data": {
      "text/html": [
       "<text style=color:green>getting <text style=color:blue><i>[mad]</i></text> time for some hot tea studying and then sleeeep: -0.4939</text>"
      ],
      "text/plain": [
       "<IPython.core.display.HTML object>"
      ]
     },
     "metadata": {},
     "output_type": "display_data"
    },
    {
     "data": {
      "text/html": [
       "<text style=color:red>getting <text style=color:blue><i>[bad]</i></text> time for some hot tea studying and then sleeeep: -0.5423</text>"
      ],
      "text/plain": [
       "<IPython.core.display.HTML object>"
      ]
     },
     "metadata": {},
     "output_type": "display_data"
    },
    {
     "data": {
      "text/html": [
       "<text style=color:green>getting <text style=color:blue><i>[well]</i></text> time for some hot tea studying and then sleeeep: 0.2732</text>"
      ],
      "text/plain": [
       "<IPython.core.display.HTML object>"
      ]
     },
     "metadata": {},
     "output_type": "display_data"
    },
    {
     "data": {
      "text/html": [
       "<text style=color:green>getting <text style=color:blue><i>[crazy]</i></text> time for some hot tea studying and then sleeeep: -0.34</text>"
      ],
      "text/plain": [
       "<IPython.core.display.HTML object>"
      ]
     },
     "metadata": {},
     "output_type": "display_data"
    },
    {
     "data": {
      "text/html": [
       "<text style=color:red>getting <text style=color:blue><i>[grim]</i></text> time for some hot tea studying and then sleeeep: -0.5719</text>"
      ],
      "text/plain": [
       "<IPython.core.display.HTML object>"
      ]
     },
     "metadata": {},
     "output_type": "display_data"
    },
    {
     "data": {
      "text/html": [
       "<text style=color:green>getting <text style=color:blue><i>[ill]</i></text> time for some hot tea studying and then sleeeep: -0.4215</text>"
      ],
      "text/plain": [
       "<IPython.core.display.HTML object>"
      ]
     },
     "metadata": {},
     "output_type": "display_data"
    },
    {
     "data": {
      "text/html": [
       "<text style=color:red>getting <text style=color:blue><i>[puke]</i></text> time for some hot tea studying and then sleeeep: -0.5267</text>"
      ],
      "text/plain": [
       "<IPython.core.display.HTML object>"
      ]
     },
     "metadata": {},
     "output_type": "display_data"
    },
    {
     "data": {
      "text/html": [
       "<text style=color:green>getting <text style=color:blue><i>[tired]</i></text> time for some hot tea studying and then sleeeep: -0.4404</text>"
      ],
      "text/plain": [
       "<IPython.core.display.HTML object>"
      ]
     },
     "metadata": {},
     "output_type": "display_data"
    },
    {
     "data": {
      "text/html": [
       "<text style=color:green>getting <text style=color:blue><i>[ugh]</i></text> time for some hot tea studying and then sleeeep: -0.4215</text>"
      ],
      "text/plain": [
       "<IPython.core.display.HTML object>"
      ]
     },
     "metadata": {},
     "output_type": "display_data"
    },
    {
     "data": {
      "text/html": [
       "<text style=color:black>getting <text style=color:blue><i>[sick]</i></text> time for some hot tea studying and then sleeeep: -0.5106</text>"
      ],
      "text/plain": [
       "<IPython.core.display.HTML object>"
      ]
     },
     "metadata": {},
     "output_type": "display_data"
    },
    {
     "data": {
      "text/html": [
       "<text style=color:black>getting <text style=color:blue><i>[sick]</i></text> time for some hot tea studying and then sleeeep: -0.5106</text>"
      ],
      "text/plain": [
       "<IPython.core.display.HTML object>"
      ]
     },
     "metadata": {},
     "output_type": "display_data"
    },
    {
     "data": {
      "text/html": [
       "<text style=color:black>Actual Sentence: getting sick  time for some hot tea studying and then sleeeep :-0.5106</text>"
      ],
      "text/plain": [
       "<IPython.core.display.HTML object>"
      ]
     },
     "metadata": {},
     "output_type": "display_data"
    },
    {
     "data": {
      "text/html": [
       "<text style=color:red>Worst Sentence: getting <text style=color:blue><i>[grim]</i></text> time for some hot tea studying and then sleeeep : -0.5719</text>"
      ],
      "text/plain": [
       "<IPython.core.display.HTML object>"
      ]
     },
     "metadata": {},
     "output_type": "display_data"
    },
    {
     "data": {
      "text/html": [
       "<text style=color:green>Best Sentence: getting <text style=color:blue><i>[well]</i></text> time for some hot tea studying and then sleeeep : 0.2732</text>"
      ],
      "text/plain": [
       "<IPython.core.display.HTML object>"
      ]
     },
     "metadata": {},
     "output_type": "display_data"
    },
    {
     "name": "stdout",
     "output_type": "stream",
     "text": [
      "\n",
      "\n",
      " Tweet: getting eyebrows waxed. more pain :-0.5563\n",
      "\n"
     ]
    },
    {
     "data": {
      "text/html": [
       "<text style=color:green>getting eyebrows waxed . more <text style=color:blue><i>[pleasure]</i></text>: 0.6115</text>"
      ],
      "text/plain": [
       "<IPython.core.display.HTML object>"
      ]
     },
     "metadata": {},
     "output_type": "display_data"
    },
    {
     "data": {
      "text/html": [
       "<text style=color:green>getting eyebrows waxed . more <text style=color:blue><i>[botheration]</i></text>: -0.4576</text>"
      ],
      "text/plain": [
       "<IPython.core.display.HTML object>"
      ]
     },
     "metadata": {},
     "output_type": "display_data"
    },
    {
     "data": {
      "text/html": [
       "<text style=color:green>getting eyebrows waxed . more <text style=color:blue><i>[suffering]</i></text>: -0.5256</text>"
      ],
      "text/plain": [
       "<IPython.core.display.HTML object>"
      ]
     },
     "metadata": {},
     "output_type": "display_data"
    },
    {
     "data": {
      "text/html": [
       "<text style=color:green>getting eyebrows waxed . more <text style=color:blue><i>[hurting]</i></text>: -0.4576</text>"
      ],
      "text/plain": [
       "<IPython.core.display.HTML object>"
      ]
     },
     "metadata": {},
     "output_type": "display_data"
    },
    {
     "data": {
      "text/html": [
       "<text style=color:green>getting eyebrows waxed . more <text style=color:blue><i>[stress]</i></text>: -0.4754</text>"
      ],
      "text/plain": [
       "<IPython.core.display.HTML object>"
      ]
     },
     "metadata": {},
     "output_type": "display_data"
    },
    {
     "data": {
      "text/html": [
       "<text style=color:green>getting eyebrows waxed . more <text style=color:blue><i>[trouble]</i></text>: -0.4576</text>"
      ],
      "text/plain": [
       "<IPython.core.display.HTML object>"
      ]
     },
     "metadata": {},
     "output_type": "display_data"
    },
    {
     "data": {
      "text/html": [
       "<text style=color:green>getting eyebrows waxed . more <text style=color:blue><i>[sadness]</i></text>: -0.4927</text>"
      ],
      "text/plain": [
       "<IPython.core.display.HTML object>"
      ]
     },
     "metadata": {},
     "output_type": "display_data"
    },
    {
     "data": {
      "text/html": [
       "<text style=color:red>getting eyebrows waxed . more <text style=color:blue><i>[anguish]</i></text>: -0.6361</text>"
      ],
      "text/plain": [
       "<IPython.core.display.HTML object>"
      ]
     },
     "metadata": {},
     "output_type": "display_data"
    },
    {
     "data": {
      "text/html": [
       "<text style=color:green>getting eyebrows waxed . more <text style=color:blue><i>[annoyance]</i></text>: -0.3804</text>"
      ],
      "text/plain": [
       "<IPython.core.display.HTML object>"
      ]
     },
     "metadata": {},
     "output_type": "display_data"
    },
    {
     "data": {
      "text/html": [
       "<text style=color:green>getting eyebrows waxed . more <text style=color:blue><i>[bother]</i></text>: -0.4005</text>"
      ],
      "text/plain": [
       "<IPython.core.display.HTML object>"
      ]
     },
     "metadata": {},
     "output_type": "display_data"
    },
    {
     "data": {
      "text/html": [
       "<text style=color:black>getting eyebrows waxed . more <text style=color:blue><i>[pain]</i></text>: -0.5563</text>"
      ],
      "text/plain": [
       "<IPython.core.display.HTML object>"
      ]
     },
     "metadata": {},
     "output_type": "display_data"
    },
    {
     "data": {
      "text/html": [
       "<text style=color:black>getting eyebrows waxed . more <text style=color:blue><i>[pain]</i></text>: -0.5563</text>"
      ],
      "text/plain": [
       "<IPython.core.display.HTML object>"
      ]
     },
     "metadata": {},
     "output_type": "display_data"
    },
    {
     "data": {
      "text/html": [
       "<text style=color:black>Actual Sentence: getting eyebrows waxed. more pain  :-0.5563</text>"
      ],
      "text/plain": [
       "<IPython.core.display.HTML object>"
      ]
     },
     "metadata": {},
     "output_type": "display_data"
    },
    {
     "data": {
      "text/html": [
       "<text style=color:red>Worst Sentence: getting eyebrows waxed . more <text style=color:blue><i>[anguish]</i></text> : -0.6361</text>"
      ],
      "text/plain": [
       "<IPython.core.display.HTML object>"
      ]
     },
     "metadata": {},
     "output_type": "display_data"
    },
    {
     "data": {
      "text/html": [
       "<text style=color:green>Best Sentence: getting eyebrows waxed . more <text style=color:blue><i>[pleasure]</i></text> : 0.6115</text>"
      ],
      "text/plain": [
       "<IPython.core.display.HTML object>"
      ]
     },
     "metadata": {},
     "output_type": "display_data"
    },
    {
     "name": "stdout",
     "output_type": "stream",
     "text": [
      "\n",
      "\n",
      " Tweet: no phantasy star yesterday  going to work...:-0.296\n",
      "\n"
     ]
    },
    {
     "data": {
      "text/html": [
       "<text style=color:black><text style=color:blue><i>[no]</i></text> phantasy star yesterday going to work ...: -0.296</text>"
      ],
      "text/plain": [
       "<IPython.core.display.HTML object>"
      ]
     },
     "metadata": {},
     "output_type": "display_data"
    },
    {
     "data": {
      "text/html": [
       "<text style=color:black><text style=color:blue><i>[no]</i></text> phantasy star yesterday going to work ...: -0.296</text>"
      ],
      "text/plain": [
       "<IPython.core.display.HTML object>"
      ]
     },
     "metadata": {},
     "output_type": "display_data"
    },
    {
     "data": {
      "text/html": [
       "<text style=color:black>Actual Sentence: no phantasy star yesterday  going to work... :-0.296</text>"
      ],
      "text/plain": [
       "<IPython.core.display.HTML object>"
      ]
     },
     "metadata": {},
     "output_type": "display_data"
    },
    {
     "data": {
      "text/html": [
       "<text style=color:green>Best Sentence: <text style=color:blue><i>[no]</i></text> phantasy star yesterday going to work ... : -0.296</text>"
      ],
      "text/plain": [
       "<IPython.core.display.HTML object>"
      ]
     },
     "metadata": {},
     "output_type": "display_data"
    },
    {
     "name": "stdout",
     "output_type": "stream",
     "text": [
      "\n",
      "\n",
      " Tweet: oh  just got all my macheist 3.0 apps  sweet. did not get the espresso serial no though although they said they sent it  oh well :0.4404\n",
      "\n"
     ]
    },
    {
     "data": {
      "text/html": [
       "<text style=color:black>Actual Sentence: oh  just got all my macheist 3.0 apps  sweet. did not get the espresso serial no though although they said they sent it  oh well  :0.4404</text>"
      ],
      "text/plain": [
       "<IPython.core.display.HTML object>"
      ]
     },
     "metadata": {},
     "output_type": "display_data"
    },
    {
     "name": "stdout",
     "output_type": "stream",
     "text": [
      "\n",
      "\n",
      " Tweet: picked mich st to win it all from the get go.  was feeling pretty good about that pick all the way up until......tonight.  a is lost too :0.8442\n",
      "\n"
     ]
    },
    {
     "data": {
      "text/html": [
       "<text style=color:red>picked mich st to <text style=color:blue><i>[chance]</i></text> it all from the get go . was <text style=color:blue><i>[feeling]</i></text> <text style=color:blue><i>[jolly]</i></text> <text style=color:blue><i>[dear]</i></text> about that pick all the way up until ... ... tonight . a is <text style=color:blue><i>[missed]</i></text> too: 0.7351</text>"
      ],
      "text/plain": [
       "<IPython.core.display.HTML object>"
      ]
     },
     "metadata": {},
     "output_type": "display_data"
    },
    {
     "data": {
      "text/html": [
       "<text style=color:red>picked mich st to <text style=color:blue><i>[chance]</i></text> it all from the get go . was <text style=color:blue><i>[feeling]</i></text> <text style=color:blue><i>[jolly]</i></text> <text style=color:blue><i>[dear]</i></text> about that pick all the way up until ... ... tonight . a is <text style=color:blue><i>[lost]</i></text> too: 0.7269</text>"
      ],
      "text/plain": [
       "<IPython.core.display.HTML object>"
      ]
     },
     "metadata": {},
     "output_type": "display_data"
    },
    {
     "data": {
      "text/html": [
       "<text style=color:green>picked mich st to <text style=color:blue><i>[chance]</i></text> it all from the get go . was <text style=color:blue><i>[feeling]</i></text> <text style=color:blue><i>[jolly]</i></text> <text style=color:blue><i>[dear]</i></text> about that pick all the way up until ... ... tonight . a is <text style=color:blue><i>[saved]</i></text> too: 0.8807</text>"
      ],
      "text/plain": [
       "<IPython.core.display.HTML object>"
      ]
     },
     "metadata": {},
     "output_type": "display_data"
    },
    {
     "data": {
      "text/html": [
       "<text style=color:red>picked mich st to <text style=color:blue><i>[chance]</i></text> it all from the get go . was <text style=color:blue><i>[feeling]</i></text> <text style=color:blue><i>[jolly]</i></text> <text style=color:blue><i>[dear]</i></text> about that pick all the way up until ... ... tonight . a is <text style=color:blue><i>[disoriented]</i></text> too: 0.7096</text>"
      ],
      "text/plain": [
       "<IPython.core.display.HTML object>"
      ]
     },
     "metadata": {},
     "output_type": "display_data"
    },
    {
     "data": {
      "text/html": [
       "<text style=color:red>picked mich st to <text style=color:blue><i>[chance]</i></text> it all from the get go . was <text style=color:blue><i>[feeling]</i></text> <text style=color:blue><i>[jolly]</i></text> <text style=color:blue><i>[dear]</i></text> about that pick all the way up until ... ... tonight . a is <text style=color:blue><i>[confused]</i></text> too: 0.7269</text>"
      ],
      "text/plain": [
       "<IPython.core.display.HTML object>"
      ]
     },
     "metadata": {},
     "output_type": "display_data"
    },
    {
     "data": {
      "text/html": [
       "<text style=color:green>picked mich st to <text style=color:blue><i>[chance]</i></text> it all from the get go . was <text style=color:blue><i>[feeling]</i></text> <text style=color:blue><i>[jolly]</i></text> <text style=color:blue><i>[dear]</i></text> about that pick all the way up until ... ... tonight . a is <text style=color:blue><i>[won]</i></text> too: 0.9022</text>"
      ],
      "text/plain": [
       "<IPython.core.display.HTML object>"
      ]
     },
     "metadata": {},
     "output_type": "display_data"
    },
    {
     "data": {
      "text/html": [
       "<text style=color:red>picked mich st to <text style=color:blue><i>[chance]</i></text> it all from the get go . was <text style=color:blue><i>[feeling]</i></text> <text style=color:blue><i>[jolly]</i></text> <text style=color:blue><i>[dear]</i></text> about that pick all the way up until ... ... tonight . a is <text style=color:blue><i>[doomed]</i></text> too: 0.4939</text>"
      ],
      "text/plain": [
       "<IPython.core.display.HTML object>"
      ]
     },
     "metadata": {},
     "output_type": "display_data"
    },
    {
     "data": {
      "text/html": [
       "<text style=color:red>picked mich st to <text style=color:blue><i>[chance]</i></text> it all from the get go . was <text style=color:blue><i>[feeling]</i></text> <text style=color:blue><i>[jolly]</i></text> <text style=color:blue><i>[dear]</i></text> about that pick all the way up until ... ... tonight . a is <text style=color:blue><i>[lost]</i></text> too: 0.7269</text>"
      ],
      "text/plain": [
       "<IPython.core.display.HTML object>"
      ]
     },
     "metadata": {},
     "output_type": "display_data"
    },
    {
     "data": {
      "text/html": [
       "<text style=color:red>picked mich st to <text style=color:blue><i>[chance]</i></text> it all from the get go . was <text style=color:blue><i>[feeling]</i></text> <text style=color:blue><i>[jolly]</i></text> <text style=color:blue><i>[bad]</i></text> about that pick all the way up until ... ... tonight . a is <text style=color:blue><i>[missed]</i></text> too: 0.0258</text>"
      ],
      "text/plain": [
       "<IPython.core.display.HTML object>"
      ]
     },
     "metadata": {},
     "output_type": "display_data"
    },
    {
     "data": {
      "text/html": [
       "<text style=color:black>picked mich st to <text style=color:blue><i>[chance]</i></text> it all from the get go . was <text style=color:blue><i>[feeling]</i></text> <text style=color:blue><i>[jolly]</i></text> <text style=color:blue><i>[bad]</i></text> about that pick all the way up until ... ... tonight . a is <text style=color:blue><i>[lost]</i></text> too: -0.0</text>"
      ],
      "text/plain": [
       "<IPython.core.display.HTML object>"
      ]
     },
     "metadata": {},
     "output_type": "display_data"
    },
    {
     "data": {
      "text/html": [
       "<text style=color:red>picked mich st to <text style=color:blue><i>[chance]</i></text> it all from the get go . was <text style=color:blue><i>[feeling]</i></text> <text style=color:blue><i>[jolly]</i></text> <text style=color:blue><i>[bad]</i></text> about that pick all the way up until ... ... tonight . a is <text style=color:blue><i>[saved]</i></text> too: 0.6249</text>"
      ],
      "text/plain": [
       "<IPython.core.display.HTML object>"
      ]
     },
     "metadata": {},
     "output_type": "display_data"
    },
    {
     "data": {
      "text/html": [
       "<text style=color:red>picked mich st to <text style=color:blue><i>[chance]</i></text> it all from the get go . was <text style=color:blue><i>[feeling]</i></text> <text style=color:blue><i>[jolly]</i></text> <text style=color:blue><i>[bad]</i></text> about that pick all the way up until ... ... tonight . a is <text style=color:blue><i>[disoriented]</i></text> too: -0.0516</text>"
      ],
      "text/plain": [
       "<IPython.core.display.HTML object>"
      ]
     },
     "metadata": {},
     "output_type": "display_data"
    },
    {
     "data": {
      "text/html": [
       "<text style=color:black>picked mich st to <text style=color:blue><i>[chance]</i></text> it all from the get go . was <text style=color:blue><i>[feeling]</i></text> <text style=color:blue><i>[jolly]</i></text> <text style=color:blue><i>[bad]</i></text> about that pick all the way up until ... ... tonight . a is <text style=color:blue><i>[confused]</i></text> too: -0.0</text>"
      ],
      "text/plain": [
       "<IPython.core.display.HTML object>"
      ]
     },
     "metadata": {},
     "output_type": "display_data"
    },
    {
     "data": {
      "text/html": [
       "<text style=color:red>picked mich st to <text style=color:blue><i>[chance]</i></text> it all from the get go . was <text style=color:blue><i>[feeling]</i></text> <text style=color:blue><i>[jolly]</i></text> <text style=color:blue><i>[bad]</i></text> about that pick all the way up until ... ... tonight . a is <text style=color:blue><i>[won]</i></text> too: 0.7184</text>"
      ],
      "text/plain": [
       "<IPython.core.display.HTML object>"
      ]
     },
     "metadata": {},
     "output_type": "display_data"
    },
    {
     "data": {
      "text/html": [
       "<text style=color:red>picked mich st to <text style=color:blue><i>[chance]</i></text> it all from the get go . was <text style=color:blue><i>[feeling]</i></text> <text style=color:blue><i>[jolly]</i></text> <text style=color:blue><i>[bad]</i></text> about that pick all the way up until ... ... tonight . a is <text style=color:blue><i>[doomed]</i></text> too: -0.4404</text>"
      ],
      "text/plain": [
       "<IPython.core.display.HTML object>"
      ]
     },
     "metadata": {},
     "output_type": "display_data"
    },
    {
     "data": {
      "text/html": [
       "<text style=color:black>picked mich st to <text style=color:blue><i>[chance]</i></text> it all from the get go . was <text style=color:blue><i>[feeling]</i></text> <text style=color:blue><i>[jolly]</i></text> <text style=color:blue><i>[bad]</i></text> about that pick all the way up until ... ... tonight . a is <text style=color:blue><i>[lost]</i></text> too: -0.0</text>"
      ],
      "text/plain": [
       "<IPython.core.display.HTML object>"
      ]
     },
     "metadata": {},
     "output_type": "display_data"
    },
    {
     "data": {
      "text/html": [
       "<text style=color:red>picked mich st to <text style=color:blue><i>[chance]</i></text> it all from the get go . was <text style=color:blue><i>[feeling]</i></text> <text style=color:blue><i>[jolly]</i></text> <text style=color:blue><i>[evilness]</i></text> about that pick all the way up until ... ... tonight . a is <text style=color:blue><i>[missed]</i></text> too: -0.128</text>"
      ],
      "text/plain": [
       "<IPython.core.display.HTML object>"
      ]
     },
     "metadata": {},
     "output_type": "display_data"
    },
    {
     "data": {
      "text/html": [
       "<text style=color:red>picked mich st to <text style=color:blue><i>[chance]</i></text> it all from the get go . was <text style=color:blue><i>[feeling]</i></text> <text style=color:blue><i>[jolly]</i></text> <text style=color:blue><i>[evilness]</i></text> about that pick all the way up until ... ... tonight . a is <text style=color:blue><i>[lost]</i></text> too: -0.1531</text>"
      ],
      "text/plain": [
       "<IPython.core.display.HTML object>"
      ]
     },
     "metadata": {},
     "output_type": "display_data"
    },
    {
     "data": {
      "text/html": [
       "<text style=color:red>picked mich st to <text style=color:blue><i>[chance]</i></text> it all from the get go . was <text style=color:blue><i>[feeling]</i></text> <text style=color:blue><i>[jolly]</i></text> <text style=color:blue><i>[evilness]</i></text> about that pick all the way up until ... ... tonight . a is <text style=color:blue><i>[saved]</i></text> too: 0.5423</text>"
      ],
      "text/plain": [
       "<IPython.core.display.HTML object>"
      ]
     },
     "metadata": {},
     "output_type": "display_data"
    },
    {
     "data": {
      "text/html": [
       "<text style=color:red>picked mich st to <text style=color:blue><i>[chance]</i></text> it all from the get go . was <text style=color:blue><i>[feeling]</i></text> <text style=color:blue><i>[jolly]</i></text> <text style=color:blue><i>[evilness]</i></text> about that pick all the way up until ... ... tonight . a is <text style=color:blue><i>[disoriented]</i></text> too: -0.2023</text>"
      ],
      "text/plain": [
       "<IPython.core.display.HTML object>"
      ]
     },
     "metadata": {},
     "output_type": "display_data"
    },
    {
     "data": {
      "text/html": [
       "<text style=color:red>picked mich st to <text style=color:blue><i>[chance]</i></text> it all from the get go . was <text style=color:blue><i>[feeling]</i></text> <text style=color:blue><i>[jolly]</i></text> <text style=color:blue><i>[evilness]</i></text> about that pick all the way up until ... ... tonight . a is <text style=color:blue><i>[confused]</i></text> too: -0.1531</text>"
      ],
      "text/plain": [
       "<IPython.core.display.HTML object>"
      ]
     },
     "metadata": {},
     "output_type": "display_data"
    },
    {
     "data": {
      "text/html": [
       "<text style=color:red>picked mich st to <text style=color:blue><i>[chance]</i></text> it all from the get go . was <text style=color:blue><i>[feeling]</i></text> <text style=color:blue><i>[jolly]</i></text> <text style=color:blue><i>[evilness]</i></text> about that pick all the way up until ... ... tonight . a is <text style=color:blue><i>[won]</i></text> too: 0.6597</text>"
      ],
      "text/plain": [
       "<IPython.core.display.HTML object>"
      ]
     },
     "metadata": {},
     "output_type": "display_data"
    },
    {
     "data": {
      "text/html": [
       "<text style=color:red>picked mich st to <text style=color:blue><i>[chance]</i></text> it all from the get go . was <text style=color:blue><i>[feeling]</i></text> <text style=color:blue><i>[jolly]</i></text> <text style=color:blue><i>[evilness]</i></text> about that pick all the way up until ... ... tonight . a is <text style=color:blue><i>[doomed]</i></text> too: -0.5423</text>"
      ],
      "text/plain": [
       "<IPython.core.display.HTML object>"
      ]
     },
     "metadata": {},
     "output_type": "display_data"
    },
    {
     "data": {
      "text/html": [
       "<text style=color:red>picked mich st to <text style=color:blue><i>[chance]</i></text> it all from the get go . was <text style=color:blue><i>[feeling]</i></text> <text style=color:blue><i>[jolly]</i></text> <text style=color:blue><i>[evilness]</i></text> about that pick all the way up until ... ... tonight . a is <text style=color:blue><i>[lost]</i></text> too: -0.1531</text>"
      ],
      "text/plain": [
       "<IPython.core.display.HTML object>"
      ]
     },
     "metadata": {},
     "output_type": "display_data"
    },
    {
     "data": {
      "text/html": [
       "<text style=color:red>picked mich st to <text style=color:blue><i>[chance]</i></text> it all from the get go . was <text style=color:blue><i>[feeling]</i></text> <text style=color:blue><i>[jolly]</i></text> <text style=color:blue><i>[secure]</i></text> about that pick all the way up until ... ... tonight . a is <text style=color:blue><i>[missed]</i></text> too: 0.7184</text>"
      ],
      "text/plain": [
       "<IPython.core.display.HTML object>"
      ]
     },
     "metadata": {},
     "output_type": "display_data"
    },
    {
     "data": {
      "text/html": [
       "<text style=color:red>picked mich st to <text style=color:blue><i>[chance]</i></text> it all from the get go . was <text style=color:blue><i>[feeling]</i></text> <text style=color:blue><i>[jolly]</i></text> <text style=color:blue><i>[secure]</i></text> about that pick all the way up until ... ... tonight . a is <text style=color:blue><i>[lost]</i></text> too: 0.7096</text>"
      ],
      "text/plain": [
       "<IPython.core.display.HTML object>"
      ]
     },
     "metadata": {},
     "output_type": "display_data"
    },
    {
     "data": {
      "text/html": [
       "<text style=color:green>picked mich st to <text style=color:blue><i>[chance]</i></text> it all from the get go . was <text style=color:blue><i>[feeling]</i></text> <text style=color:blue><i>[jolly]</i></text> <text style=color:blue><i>[secure]</i></text> about that pick all the way up until ... ... tonight . a is <text style=color:blue><i>[saved]</i></text> too: 0.875</text>"
      ],
      "text/plain": [
       "<IPython.core.display.HTML object>"
      ]
     },
     "metadata": {},
     "output_type": "display_data"
    },
    {
     "data": {
      "text/html": [
       "<text style=color:red>picked mich st to <text style=color:blue><i>[chance]</i></text> it all from the get go . was <text style=color:blue><i>[feeling]</i></text> <text style=color:blue><i>[jolly]</i></text> <text style=color:blue><i>[secure]</i></text> about that pick all the way up until ... ... tonight . a is <text style=color:blue><i>[disoriented]</i></text> too: 0.6908</text>"
      ],
      "text/plain": [
       "<IPython.core.display.HTML object>"
      ]
     },
     "metadata": {},
     "output_type": "display_data"
    },
    {
     "data": {
      "text/html": [
       "<text style=color:red>picked mich st to <text style=color:blue><i>[chance]</i></text> it all from the get go . was <text style=color:blue><i>[feeling]</i></text> <text style=color:blue><i>[jolly]</i></text> <text style=color:blue><i>[secure]</i></text> about that pick all the way up until ... ... tonight . a is <text style=color:blue><i>[confused]</i></text> too: 0.7096</text>"
      ],
      "text/plain": [
       "<IPython.core.display.HTML object>"
      ]
     },
     "metadata": {},
     "output_type": "display_data"
    },
    {
     "data": {
      "text/html": [
       "<text style=color:green>picked mich st to <text style=color:blue><i>[chance]</i></text> it all from the get go . was <text style=color:blue><i>[feeling]</i></text> <text style=color:blue><i>[jolly]</i></text> <text style=color:blue><i>[secure]</i></text> about that pick all the way up until ... ... tonight . a is <text style=color:blue><i>[won]</i></text> too: 0.8979</text>"
      ],
      "text/plain": [
       "<IPython.core.display.HTML object>"
      ]
     },
     "metadata": {},
     "output_type": "display_data"
    },
    {
     "data": {
      "text/html": [
       "<text style=color:red>picked mich st to <text style=color:blue><i>[chance]</i></text> it all from the get go . was <text style=color:blue><i>[feeling]</i></text> <text style=color:blue><i>[jolly]</i></text> <text style=color:blue><i>[secure]</i></text> about that pick all the way up until ... ... tonight . a is <text style=color:blue><i>[doomed]</i></text> too: 0.4588</text>"
      ],
      "text/plain": [
       "<IPython.core.display.HTML object>"
      ]
     },
     "metadata": {},
     "output_type": "display_data"
    },
    {
     "data": {
      "text/html": [
       "<text style=color:red>picked mich st to <text style=color:blue><i>[chance]</i></text> it all from the get go . was <text style=color:blue><i>[feeling]</i></text> <text style=color:blue><i>[jolly]</i></text> <text style=color:blue><i>[secure]</i></text> about that pick all the way up until ... ... tonight . a is <text style=color:blue><i>[lost]</i></text> too: 0.7096</text>"
      ],
      "text/plain": [
       "<IPython.core.display.HTML object>"
      ]
     },
     "metadata": {},
     "output_type": "display_data"
    },
    {
     "data": {
      "text/html": [
       "<text style=color:red>picked mich st to <text style=color:blue><i>[chance]</i></text> it all from the get go . was <text style=color:blue><i>[feeling]</i></text> <text style=color:blue><i>[jolly]</i></text> <text style=color:blue><i>[honorable]</i></text> about that pick all the way up until ... ... tonight . a is <text style=color:blue><i>[missed]</i></text> too: 0.7964</text>"
      ],
      "text/plain": [
       "<IPython.core.display.HTML object>"
      ]
     },
     "metadata": {},
     "output_type": "display_data"
    },
    {
     "data": {
      "text/html": [
       "<text style=color:red>picked mich st to <text style=color:blue><i>[chance]</i></text> it all from the get go . was <text style=color:blue><i>[feeling]</i></text> <text style=color:blue><i>[jolly]</i></text> <text style=color:blue><i>[honorable]</i></text> about that pick all the way up until ... ... tonight . a is <text style=color:blue><i>[lost]</i></text> too: 0.7906</text>"
      ],
      "text/plain": [
       "<IPython.core.display.HTML object>"
      ]
     },
     "metadata": {},
     "output_type": "display_data"
    },
    {
     "data": {
      "text/html": [
       "<text style=color:green>picked mich st to <text style=color:blue><i>[chance]</i></text> it all from the get go . was <text style=color:blue><i>[feeling]</i></text> <text style=color:blue><i>[jolly]</i></text> <text style=color:blue><i>[honorable]</i></text> about that pick all the way up until ... ... tonight . a is <text style=color:blue><i>[saved]</i></text> too: 0.9022</text>"
      ],
      "text/plain": [
       "<IPython.core.display.HTML object>"
      ]
     },
     "metadata": {},
     "output_type": "display_data"
    },
    {
     "data": {
      "text/html": [
       "<text style=color:red>picked mich st to <text style=color:blue><i>[chance]</i></text> it all from the get go . was <text style=color:blue><i>[feeling]</i></text> <text style=color:blue><i>[jolly]</i></text> <text style=color:blue><i>[honorable]</i></text> about that pick all the way up until ... ... tonight . a is <text style=color:blue><i>[disoriented]</i></text> too: 0.7783</text>"
      ],
      "text/plain": [
       "<IPython.core.display.HTML object>"
      ]
     },
     "metadata": {},
     "output_type": "display_data"
    },
    {
     "data": {
      "text/html": [
       "<text style=color:red>picked mich st to <text style=color:blue><i>[chance]</i></text> it all from the get go . was <text style=color:blue><i>[feeling]</i></text> <text style=color:blue><i>[jolly]</i></text> <text style=color:blue><i>[honorable]</i></text> about that pick all the way up until ... ... tonight . a is <text style=color:blue><i>[confused]</i></text> too: 0.7906</text>"
      ],
      "text/plain": [
       "<IPython.core.display.HTML object>"
      ]
     },
     "metadata": {},
     "output_type": "display_data"
    },
    {
     "data": {
      "text/html": [
       "<text style=color:green>picked mich st to <text style=color:blue><i>[chance]</i></text> it all from the get go . was <text style=color:blue><i>[feeling]</i></text> <text style=color:blue><i>[jolly]</i></text> <text style=color:blue><i>[honorable]</i></text> about that pick all the way up until ... ... tonight . a is <text style=color:blue><i>[won]</i></text> too: 0.9186</text>"
      ],
      "text/plain": [
       "<IPython.core.display.HTML object>"
      ]
     },
     "metadata": {},
     "output_type": "display_data"
    },
    {
     "data": {
      "text/html": [
       "<text style=color:red>picked mich st to <text style=color:blue><i>[chance]</i></text> it all from the get go . was <text style=color:blue><i>[feeling]</i></text> <text style=color:blue><i>[jolly]</i></text> <text style=color:blue><i>[honorable]</i></text> about that pick all the way up until ... ... tonight . a is <text style=color:blue><i>[doomed]</i></text> too: 0.6249</text>"
      ],
      "text/plain": [
       "<IPython.core.display.HTML object>"
      ]
     },
     "metadata": {},
     "output_type": "display_data"
    },
    {
     "data": {
      "text/html": [
       "<text style=color:red>picked mich st to <text style=color:blue><i>[chance]</i></text> it all from the get go . was <text style=color:blue><i>[feeling]</i></text> <text style=color:blue><i>[jolly]</i></text> <text style=color:blue><i>[honorable]</i></text> about that pick all the way up until ... ... tonight . a is <text style=color:blue><i>[lost]</i></text> too: 0.7906</text>"
      ],
      "text/plain": [
       "<IPython.core.display.HTML object>"
      ]
     },
     "metadata": {},
     "output_type": "display_data"
    },
    {
     "data": {
      "text/html": [
       "<text style=color:red>picked mich st to <text style=color:blue><i>[chance]</i></text> it all from the get go . was <text style=color:blue><i>[feeling]</i></text> <text style=color:blue><i>[jolly]</i></text> <text style=color:blue><i>[nice]</i></text> about that pick all the way up until ... ... tonight . a is <text style=color:blue><i>[missed]</i></text> too: 0.7506</text>"
      ],
      "text/plain": [
       "<IPython.core.display.HTML object>"
      ]
     },
     "metadata": {},
     "output_type": "display_data"
    },
    {
     "data": {
      "text/html": [
       "<text style=color:red>picked mich st to <text style=color:blue><i>[chance]</i></text> it all from the get go . was <text style=color:blue><i>[feeling]</i></text> <text style=color:blue><i>[jolly]</i></text> <text style=color:blue><i>[nice]</i></text> about that pick all the way up until ... ... tonight . a is <text style=color:blue><i>[lost]</i></text> too: 0.743</text>"
      ],
      "text/plain": [
       "<IPython.core.display.HTML object>"
      ]
     },
     "metadata": {},
     "output_type": "display_data"
    },
    {
     "data": {
      "text/html": [
       "<text style=color:green>picked mich st to <text style=color:blue><i>[chance]</i></text> it all from the get go . was <text style=color:blue><i>[feeling]</i></text> <text style=color:blue><i>[jolly]</i></text> <text style=color:blue><i>[nice]</i></text> about that pick all the way up until ... ... tonight . a is <text style=color:blue><i>[saved]</i></text> too: 0.886</text>"
      ],
      "text/plain": [
       "<IPython.core.display.HTML object>"
      ]
     },
     "metadata": {},
     "output_type": "display_data"
    },
    {
     "data": {
      "text/html": [
       "<text style=color:red>picked mich st to <text style=color:blue><i>[chance]</i></text> it all from the get go . was <text style=color:blue><i>[feeling]</i></text> <text style=color:blue><i>[jolly]</i></text> <text style=color:blue><i>[nice]</i></text> about that pick all the way up until ... ... tonight . a is <text style=color:blue><i>[disoriented]</i></text> too: 0.7269</text>"
      ],
      "text/plain": [
       "<IPython.core.display.HTML object>"
      ]
     },
     "metadata": {},
     "output_type": "display_data"
    },
    {
     "data": {
      "text/html": [
       "<text style=color:red>picked mich st to <text style=color:blue><i>[chance]</i></text> it all from the get go . was <text style=color:blue><i>[feeling]</i></text> <text style=color:blue><i>[jolly]</i></text> <text style=color:blue><i>[nice]</i></text> about that pick all the way up until ... ... tonight . a is <text style=color:blue><i>[confused]</i></text> too: 0.743</text>"
      ],
      "text/plain": [
       "<IPython.core.display.HTML object>"
      ]
     },
     "metadata": {},
     "output_type": "display_data"
    },
    {
     "data": {
      "text/html": [
       "<text style=color:green>picked mich st to <text style=color:blue><i>[chance]</i></text> it all from the get go . was <text style=color:blue><i>[feeling]</i></text> <text style=color:blue><i>[jolly]</i></text> <text style=color:blue><i>[nice]</i></text> about that pick all the way up until ... ... tonight . a is <text style=color:blue><i>[won]</i></text> too: 0.9062</text>"
      ],
      "text/plain": [
       "<IPython.core.display.HTML object>"
      ]
     },
     "metadata": {},
     "output_type": "display_data"
    },
    {
     "data": {
      "text/html": [
       "<text style=color:red>picked mich st to <text style=color:blue><i>[chance]</i></text> it all from the get go . was <text style=color:blue><i>[feeling]</i></text> <text style=color:blue><i>[jolly]</i></text> <text style=color:blue><i>[nice]</i></text> about that pick all the way up until ... ... tonight . a is <text style=color:blue><i>[doomed]</i></text> too: 0.5267</text>"
      ],
      "text/plain": [
       "<IPython.core.display.HTML object>"
      ]
     },
     "metadata": {},
     "output_type": "display_data"
    },
    {
     "data": {
      "text/html": [
       "<text style=color:red>picked mich st to <text style=color:blue><i>[chance]</i></text> it all from the get go . was <text style=color:blue><i>[feeling]</i></text> <text style=color:blue><i>[jolly]</i></text> <text style=color:blue><i>[nice]</i></text> about that pick all the way up until ... ... tonight . a is <text style=color:blue><i>[lost]</i></text> too: 0.743</text>"
      ],
      "text/plain": [
       "<IPython.core.display.HTML object>"
      ]
     },
     "metadata": {},
     "output_type": "display_data"
    },
    {
     "data": {
      "text/html": [
       "<text style=color:red>picked mich st to <text style=color:blue><i>[chance]</i></text> it all from the get go . was <text style=color:blue><i>[feeling]</i></text> <text style=color:blue><i>[jolly]</i></text> <text style=color:blue><i>[safe]</i></text> about that pick all the way up until ... ... tonight . a is <text style=color:blue><i>[missed]</i></text> too: 0.7579</text>"
      ],
      "text/plain": [
       "<IPython.core.display.HTML object>"
      ]
     },
     "metadata": {},
     "output_type": "display_data"
    },
    {
     "data": {
      "text/html": [
       "<text style=color:red>picked mich st to <text style=color:blue><i>[chance]</i></text> it all from the get go . was <text style=color:blue><i>[feeling]</i></text> <text style=color:blue><i>[jolly]</i></text> <text style=color:blue><i>[safe]</i></text> about that pick all the way up until ... ... tonight . a is <text style=color:blue><i>[lost]</i></text> too: 0.7506</text>"
      ],
      "text/plain": [
       "<IPython.core.display.HTML object>"
      ]
     },
     "metadata": {},
     "output_type": "display_data"
    },
    {
     "name": "stdout",
     "output_type": "stream",
     "text": [
      "--- More options (total: 5760) possible, but not printed ---\n"
     ]
    },
    {
     "data": {
      "text/html": [
       "<text style=color:black>Actual Sentence: picked mich st to win it all from the get go.  was feeling pretty good about that pick all the way up until......tonight.  a is lost too  :0.8442</text>"
      ],
      "text/plain": [
       "<IPython.core.display.HTML object>"
      ]
     },
     "metadata": {},
     "output_type": "display_data"
    },
    {
     "data": {
      "text/html": [
       "<text style=color:red>Worst Sentence: picked mich st to <text style=color:blue><i>[fail]</i></text> it all from the get go . was <text style=color:blue><i>[feeling]</i></text> <text style=color:blue><i>[pretty]</i></text> <text style=color:blue><i>[evilness]</i></text> about that pick all the way up until ... ... tonight . a is <text style=color:blue><i>[doomed]</i></text> too : -0.8442</text>"
      ],
      "text/plain": [
       "<IPython.core.display.HTML object>"
      ]
     },
     "metadata": {},
     "output_type": "display_data"
    },
    {
     "data": {
      "text/html": [
       "<text style=color:green>Best Sentence: picked mich st to <text style=color:blue><i>[win]</i></text> it all from the get go . was <text style=color:blue><i>[feeling]</i></text> <text style=color:blue><i>[jolly]</i></text> <text style=color:blue><i>[great]</i></text> about that pick all the way up until ... ... tonight . a is <text style=color:blue><i>[won]</i></text> too : 0.9468</text>"
      ],
      "text/plain": [
       "<IPython.core.display.HTML object>"
      ]
     },
     "metadata": {},
     "output_type": "display_data"
    },
    {
     "name": "stdout",
     "output_type": "stream",
     "text": [
      "\n",
      "\n",
      " Tweet: is alone downstairs...working :-0.25\n",
      "\n"
     ]
    },
    {
     "data": {
      "text/html": [
       "<text style=color:black>is <text style=color:blue><i>[alone]</i></text> downstairs ... working: -0.25</text>"
      ],
      "text/plain": [
       "<IPython.core.display.HTML object>"
      ]
     },
     "metadata": {},
     "output_type": "display_data"
    },
    {
     "data": {
      "text/html": [
       "<text style=color:black>is <text style=color:blue><i>[alone]</i></text> downstairs ... working: -0.25</text>"
      ],
      "text/plain": [
       "<IPython.core.display.HTML object>"
      ]
     },
     "metadata": {},
     "output_type": "display_data"
    },
    {
     "data": {
      "text/html": [
       "<text style=color:black>Actual Sentence: is alone downstairs...working  :-0.25</text>"
      ],
      "text/plain": [
       "<IPython.core.display.HTML object>"
      ]
     },
     "metadata": {},
     "output_type": "display_data"
    },
    {
     "data": {
      "text/html": [
       "<text style=color:green>Best Sentence: is <text style=color:blue><i>[alone]</i></text> downstairs ... working : -0.25</text>"
      ],
      "text/plain": [
       "<IPython.core.display.HTML object>"
      ]
     },
     "metadata": {},
     "output_type": "display_data"
    },
    {
     "name": "stdout",
     "output_type": "stream",
     "text": [
      "\n",
      "\n",
      " Tweet: i feel bad for doing it :-0.5423\n",
      "\n"
     ]
    },
    {
     "data": {
      "text/html": [
       "<text style=color:black>i feel <text style=color:blue><i>[bad]</i></text> for doing it: -0.5423</text>"
      ],
      "text/plain": [
       "<IPython.core.display.HTML object>"
      ]
     },
     "metadata": {},
     "output_type": "display_data"
    },
    {
     "data": {
      "text/html": [
       "<text style=color:green>i feel <text style=color:blue><i>[regretful]</i></text> for doing it: -0.4404</text>"
      ],
      "text/plain": [
       "<IPython.core.display.HTML object>"
      ]
     },
     "metadata": {},
     "output_type": "display_data"
    },
    {
     "data": {
      "text/html": [
       "<text style=color:green>i feel <text style=color:blue><i>[good]</i></text> for doing it: 0.4404</text>"
      ],
      "text/plain": [
       "<IPython.core.display.HTML object>"
      ]
     },
     "metadata": {},
     "output_type": "display_data"
    },
    {
     "data": {
      "text/html": [
       "<text style=color:green>i feel <text style=color:blue><i>[defective]</i></text> for doing it: -0.4404</text>"
      ],
      "text/plain": [
       "<IPython.core.display.HTML object>"
      ]
     },
     "metadata": {},
     "output_type": "display_data"
    },
    {
     "data": {
      "text/html": [
       "<text style=color:green>i feel <text style=color:blue><i>[sorry]</i></text> for doing it: -0.0772</text>"
      ],
      "text/plain": [
       "<IPython.core.display.HTML object>"
      ]
     },
     "metadata": {},
     "output_type": "display_data"
    },
    {
     "data": {
      "text/html": [
       "<text style=color:green>i feel <text style=color:blue><i>[speculative]</i></text> for doing it: 0.1027</text>"
      ],
      "text/plain": [
       "<IPython.core.display.HTML object>"
      ]
     },
     "metadata": {},
     "output_type": "display_data"
    },
    {
     "data": {
      "text/html": [
       "<text style=color:green>i feel <text style=color:blue><i>[tough]</i></text> for doing it: -0.128</text>"
      ],
      "text/plain": [
       "<IPython.core.display.HTML object>"
      ]
     },
     "metadata": {},
     "output_type": "display_data"
    },
    {
     "data": {
      "text/html": [
       "<text style=color:green>i feel <text style=color:blue><i>[risky]</i></text> for doing it: -0.2023</text>"
      ],
      "text/plain": [
       "<IPython.core.display.HTML object>"
      ]
     },
     "metadata": {},
     "output_type": "display_data"
    },
    {
     "data": {
      "text/html": [
       "<text style=color:black>i feel <text style=color:blue><i>[bad]</i></text> for doing it: -0.5423</text>"
      ],
      "text/plain": [
       "<IPython.core.display.HTML object>"
      ]
     },
     "metadata": {},
     "output_type": "display_data"
    },
    {
     "data": {
      "text/html": [
       "<text style=color:black>Actual Sentence: i feel bad for doing it  :-0.5423</text>"
      ],
      "text/plain": [
       "<IPython.core.display.HTML object>"
      ]
     },
     "metadata": {},
     "output_type": "display_data"
    },
    {
     "data": {
      "text/html": [
       "<text style=color:red>Worst Sentence: i feel <text style=color:blue><i>[bad]</i></text> for doing it : -0.5423</text>"
      ],
      "text/plain": [
       "<IPython.core.display.HTML object>"
      ]
     },
     "metadata": {},
     "output_type": "display_data"
    },
    {
     "data": {
      "text/html": [
       "<text style=color:green>Best Sentence: i feel <text style=color:blue><i>[good]</i></text> for doing it : 0.4404</text>"
      ],
      "text/plain": [
       "<IPython.core.display.HTML object>"
      ]
     },
     "metadata": {},
     "output_type": "display_data"
    },
    {
     "name": "stdout",
     "output_type": "stream",
     "text": [
      "\n",
      "\n",
      " Tweet:  is it just me or she hates anoop. i mean seriously she is kinda mean to him. :-0.5574\n",
      "\n"
     ]
    },
    {
     "data": {
      "text/html": [
       "<text style=color:green>is it just me or she <text style=color:blue><i>[likes]</i></text> anoop . i mean <text style=color:blue><i>[severely]</i></text> she is kinda mean to him .: -0.0516</text>"
      ],
      "text/plain": [
       "<IPython.core.display.HTML object>"
      ]
     },
     "metadata": {},
     "output_type": "display_data"
    },
    {
     "data": {
      "text/html": [
       "<text style=color:green>is it just me or she <text style=color:blue><i>[likes]</i></text> anoop . i mean <text style=color:blue><i>[gravely]</i></text> she is kinda mean to him .: 0.0772</text>"
      ],
      "text/plain": [
       "<IPython.core.display.HTML object>"
      ]
     },
     "metadata": {},
     "output_type": "display_data"
    },
    {
     "data": {
      "text/html": [
       "<text style=color:green>is it just me or she <text style=color:blue><i>[likes]</i></text> anoop . i mean <text style=color:blue><i>[badly]</i></text> she is kinda mean to him .: -0.0772</text>"
      ],
      "text/plain": [
       "<IPython.core.display.HTML object>"
      ]
     },
     "metadata": {},
     "output_type": "display_data"
    },
    {
     "data": {
      "text/html": [
       "<text style=color:green>is it just me or she <text style=color:blue><i>[likes]</i></text> anoop . i mean <text style=color:blue><i>[honestly]</i></text> she is kinda mean to him .: 0.7003</text>"
      ],
      "text/plain": [
       "<IPython.core.display.HTML object>"
      ]
     },
     "metadata": {},
     "output_type": "display_data"
    },
    {
     "data": {
      "text/html": [
       "<text style=color:green>is it just me or she <text style=color:blue><i>[likes]</i></text> anoop . i mean <text style=color:blue><i>[seriously]</i></text> she is kinda mean to him .: 0.2732</text>"
      ],
      "text/plain": [
       "<IPython.core.display.HTML object>"
      ]
     },
     "metadata": {},
     "output_type": "display_data"
    },
    {
     "data": {
      "text/html": [
       "<text style=color:green>is it just me or she <text style=color:blue><i>[likes]</i></text> anoop . i mean <text style=color:blue><i>[seriously]</i></text> she is kinda mean to him .: 0.2732</text>"
      ],
      "text/plain": [
       "<IPython.core.display.HTML object>"
      ]
     },
     "metadata": {},
     "output_type": "display_data"
    },
    {
     "data": {
      "text/html": [
       "<text style=color:green>is it just me or she <text style=color:blue><i>[loves]</i></text> anoop . i mean <text style=color:blue><i>[severely]</i></text> she is kinda mean to him .: 0.1779</text>"
      ],
      "text/plain": [
       "<IPython.core.display.HTML object>"
      ]
     },
     "metadata": {},
     "output_type": "display_data"
    },
    {
     "data": {
      "text/html": [
       "<text style=color:green>is it just me or she <text style=color:blue><i>[loves]</i></text> anoop . i mean <text style=color:blue><i>[gravely]</i></text> she is kinda mean to him .: 0.296</text>"
      ],
      "text/plain": [
       "<IPython.core.display.HTML object>"
      ]
     },
     "metadata": {},
     "output_type": "display_data"
    },
    {
     "data": {
      "text/html": [
       "<text style=color:green>is it just me or she <text style=color:blue><i>[loves]</i></text> anoop . i mean <text style=color:blue><i>[badly]</i></text> she is kinda mean to him .: 0.1531</text>"
      ],
      "text/plain": [
       "<IPython.core.display.HTML object>"
      ]
     },
     "metadata": {},
     "output_type": "display_data"
    },
    {
     "data": {
      "text/html": [
       "<text style=color:green>is it just me or she <text style=color:blue><i>[loves]</i></text> anoop . i mean <text style=color:blue><i>[honestly]</i></text> she is kinda mean to him .: 0.7717</text>"
      ],
      "text/plain": [
       "<IPython.core.display.HTML object>"
      ]
     },
     "metadata": {},
     "output_type": "display_data"
    },
    {
     "data": {
      "text/html": [
       "<text style=color:green>is it just me or she <text style=color:blue><i>[loves]</i></text> anoop . i mean <text style=color:blue><i>[seriously]</i></text> she is kinda mean to him .: 0.4588</text>"
      ],
      "text/plain": [
       "<IPython.core.display.HTML object>"
      ]
     },
     "metadata": {},
     "output_type": "display_data"
    },
    {
     "data": {
      "text/html": [
       "<text style=color:green>is it just me or she <text style=color:blue><i>[loves]</i></text> anoop . i mean <text style=color:blue><i>[seriously]</i></text> she is kinda mean to him .: 0.4588</text>"
      ],
      "text/plain": [
       "<IPython.core.display.HTML object>"
      ]
     },
     "metadata": {},
     "output_type": "display_data"
    },
    {
     "data": {
      "text/html": [
       "<text style=color:red>is it just me or she <text style=color:blue><i>[hates]</i></text> anoop . i mean <text style=color:blue><i>[severely]</i></text> she is kinda mean to him .: -0.7096</text>"
      ],
      "text/plain": [
       "<IPython.core.display.HTML object>"
      ]
     },
     "metadata": {},
     "output_type": "display_data"
    },
    {
     "data": {
      "text/html": [
       "<text style=color:red>is it just me or she <text style=color:blue><i>[hates]</i></text> anoop . i mean <text style=color:blue><i>[gravely]</i></text> she is kinda mean to him .: -0.6597</text>"
      ],
      "text/plain": [
       "<IPython.core.display.HTML object>"
      ]
     },
     "metadata": {},
     "output_type": "display_data"
    },
    {
     "data": {
      "text/html": [
       "<text style=color:red>is it just me or she <text style=color:blue><i>[hates]</i></text> anoop . i mean <text style=color:blue><i>[badly]</i></text> she is kinda mean to him .: -0.7184</text>"
      ],
      "text/plain": [
       "<IPython.core.display.HTML object>"
      ]
     },
     "metadata": {},
     "output_type": "display_data"
    },
    {
     "data": {
      "text/html": [
       "<text style=color:green>is it just me or she <text style=color:blue><i>[hates]</i></text> anoop . i mean <text style=color:blue><i>[honestly]</i></text> she is kinda mean to him .: 0.0258</text>"
      ],
      "text/plain": [
       "<IPython.core.display.HTML object>"
      ]
     },
     "metadata": {},
     "output_type": "display_data"
    },
    {
     "data": {
      "text/html": [
       "<text style=color:black>is it just me or she <text style=color:blue><i>[hates]</i></text> anoop . i mean <text style=color:blue><i>[seriously]</i></text> she is kinda mean to him .: -0.5574</text>"
      ],
      "text/plain": [
       "<IPython.core.display.HTML object>"
      ]
     },
     "metadata": {},
     "output_type": "display_data"
    },
    {
     "data": {
      "text/html": [
       "<text style=color:black>is it just me or she <text style=color:blue><i>[hates]</i></text> anoop . i mean <text style=color:blue><i>[seriously]</i></text> she is kinda mean to him .: -0.5574</text>"
      ],
      "text/plain": [
       "<IPython.core.display.HTML object>"
      ]
     },
     "metadata": {},
     "output_type": "display_data"
    },
    {
     "data": {
      "text/html": [
       "<text style=color:black>Actual Sentence:  is it just me or she hates anoop. i mean seriously she is kinda mean to him.  :-0.5574</text>"
      ],
      "text/plain": [
       "<IPython.core.display.HTML object>"
      ]
     },
     "metadata": {},
     "output_type": "display_data"
    },
    {
     "data": {
      "text/html": [
       "<text style=color:red>Worst Sentence: is it just me or she <text style=color:blue><i>[hates]</i></text> anoop . i mean <text style=color:blue><i>[badly]</i></text> she is kinda mean to him . : -0.7184</text>"
      ],
      "text/plain": [
       "<IPython.core.display.HTML object>"
      ]
     },
     "metadata": {},
     "output_type": "display_data"
    },
    {
     "data": {
      "text/html": [
       "<text style=color:green>Best Sentence: is it just me or she <text style=color:blue><i>[loves]</i></text> anoop . i mean <text style=color:blue><i>[honestly]</i></text> she is kinda mean to him . : 0.7717</text>"
      ],
      "text/plain": [
       "<IPython.core.display.HTML object>"
      ]
     },
     "metadata": {},
     "output_type": "display_data"
    },
    {
     "name": "stdout",
     "output_type": "stream",
     "text": [
      "\n",
      "\n",
      " Tweet:  yes sprint has 4g only in baltimore and chicago so far :0.4019\n",
      "\n"
     ]
    },
    {
     "data": {
      "text/html": [
       "<text style=color:red><text style=color:blue><i>[yeah]</i></text> sprint has 4g only in baltimore and chicago so far: 0.296</text>"
      ],
      "text/plain": [
       "<IPython.core.display.HTML object>"
      ]
     },
     "metadata": {},
     "output_type": "display_data"
    },
    {
     "data": {
      "text/html": [
       "<text style=color:red><text style=color:blue><i>[yep]</i></text> sprint has 4g only in baltimore and chicago so far: 0.296</text>"
      ],
      "text/plain": [
       "<IPython.core.display.HTML object>"
      ]
     },
     "metadata": {},
     "output_type": "display_data"
    },
    {
     "data": {
      "text/html": [
       "<text style=color:black><text style=color:blue><i>[yes]</i></text> sprint has 4g only in baltimore and chicago so far: 0.4019</text>"
      ],
      "text/plain": [
       "<IPython.core.display.HTML object>"
      ]
     },
     "metadata": {},
     "output_type": "display_data"
    },
    {
     "data": {
      "text/html": [
       "<text style=color:black><text style=color:blue><i>[yes]</i></text> sprint has 4g only in baltimore and chicago so far: 0.4019</text>"
      ],
      "text/plain": [
       "<IPython.core.display.HTML object>"
      ]
     },
     "metadata": {},
     "output_type": "display_data"
    },
    {
     "data": {
      "text/html": [
       "<text style=color:black>Actual Sentence:  yes sprint has 4g only in baltimore and chicago so far  :0.4019</text>"
      ],
      "text/plain": [
       "<IPython.core.display.HTML object>"
      ]
     },
     "metadata": {},
     "output_type": "display_data"
    },
    {
     "data": {
      "text/html": [
       "<text style=color:green>Best Sentence: <text style=color:blue><i>[yes]</i></text> sprint has 4g only in baltimore and chicago so far : 0.4019</text>"
      ],
      "text/plain": [
       "<IPython.core.display.HTML object>"
      ]
     },
     "metadata": {},
     "output_type": "display_data"
    },
    {
     "name": "stdout",
     "output_type": "stream",
     "text": [
      "\n",
      "\n",
      " Tweet: i am stuck awake in the middle of the night for the second day in a row. and i felt terrible yesterday. :-0.6249\n",
      "\n"
     ]
    },
    {
     "data": {
      "text/html": [
       "<text style=color:black>i am <text style=color:blue><i>[stuck]</i></text> awake in the middle of the night for the second day in a row . and i felt <text style=color:blue><i>[terrible]</i></text> yesterday .: -0.6249</text>"
      ],
      "text/plain": [
       "<IPython.core.display.HTML object>"
      ]
     },
     "metadata": {},
     "output_type": "display_data"
    },
    {
     "data": {
      "text/html": [
       "<text style=color:green>i am <text style=color:blue><i>[stuck]</i></text> awake in the middle of the night for the second day in a row . and i felt <text style=color:blue><i>[fearsome]</i></text> yesterday .: -0.5719</text>"
      ],
      "text/plain": [
       "<IPython.core.display.HTML object>"
      ]
     },
     "metadata": {},
     "output_type": "display_data"
    },
    {
     "data": {
      "text/html": [
       "<text style=color:green>i am <text style=color:blue><i>[stuck]</i></text> awake in the middle of the night for the second day in a row . and i felt <text style=color:blue><i>[painful]</i></text> yesterday .: -0.5994</text>"
      ],
      "text/plain": [
       "<IPython.core.display.HTML object>"
      ]
     },
     "metadata": {},
     "output_type": "display_data"
    },
    {
     "data": {
      "text/html": [
       "<text style=color:green>i am <text style=color:blue><i>[stuck]</i></text> awake in the middle of the night for the second day in a row . and i felt <text style=color:blue><i>[dreadful]</i></text> yesterday .: -0.5994</text>"
      ],
      "text/plain": [
       "<IPython.core.display.HTML object>"
      ]
     },
     "metadata": {},
     "output_type": "display_data"
    },
    {
     "data": {
      "text/html": [
       "<text style=color:red>i am <text style=color:blue><i>[stuck]</i></text> awake in the middle of the night for the second day in a row . and i felt <text style=color:blue><i>[wicked]</i></text> yesterday .: -0.6597</text>"
      ],
      "text/plain": [
       "<IPython.core.display.HTML object>"
      ]
     },
     "metadata": {},
     "output_type": "display_data"
    },
    {
     "data": {
      "text/html": [
       "<text style=color:red>i am <text style=color:blue><i>[stuck]</i></text> awake in the middle of the night for the second day in a row . and i felt <text style=color:blue><i>[bad]</i></text> yesterday .: -0.6705</text>"
      ],
      "text/plain": [
       "<IPython.core.display.HTML object>"
      ]
     },
     "metadata": {},
     "output_type": "display_data"
    },
    {
     "data": {
      "text/html": [
       "<text style=color:red>i am <text style=color:blue><i>[stuck]</i></text> awake in the middle of the night for the second day in a row . and i felt <text style=color:blue><i>[frightful]</i></text> yesterday .: -0.6486</text>"
      ],
      "text/plain": [
       "<IPython.core.display.HTML object>"
      ]
     },
     "metadata": {},
     "output_type": "display_data"
    },
    {
     "data": {
      "text/html": [
       "<text style=color:red>i am <text style=color:blue><i>[stuck]</i></text> awake in the middle of the night for the second day in a row . and i felt <text style=color:blue><i>[horrific]</i></text> yesterday .: -0.7506</text>"
      ],
      "text/plain": [
       "<IPython.core.display.HTML object>"
      ]
     },
     "metadata": {},
     "output_type": "display_data"
    },
    {
     "data": {
      "text/html": [
       "<text style=color:green>i am <text style=color:blue><i>[stuck]</i></text> awake in the middle of the night for the second day in a row . and i felt <text style=color:blue><i>[dire]</i></text> yesterday .: -0.6124</text>"
      ],
      "text/plain": [
       "<IPython.core.display.HTML object>"
      ]
     },
     "metadata": {},
     "output_type": "display_data"
    },
    {
     "data": {
      "text/html": [
       "<text style=color:red>i am <text style=color:blue><i>[stuck]</i></text> awake in the middle of the night for the second day in a row . and i felt <text style=color:blue><i>[direful]</i></text> yesterday .: -0.7269</text>"
      ],
      "text/plain": [
       "<IPython.core.display.HTML object>"
      ]
     },
     "metadata": {},
     "output_type": "display_data"
    },
    {
     "data": {
      "text/html": [
       "<text style=color:red>i am <text style=color:blue><i>[stuck]</i></text> awake in the middle of the night for the second day in a row . and i felt <text style=color:blue><i>[fearful]</i></text> yesterday .: -0.6369</text>"
      ],
      "text/plain": [
       "<IPython.core.display.HTML object>"
      ]
     },
     "metadata": {},
     "output_type": "display_data"
    },
    {
     "data": {
      "text/html": [
       "<text style=color:red>i am <text style=color:blue><i>[stuck]</i></text> awake in the middle of the night for the second day in a row . and i felt <text style=color:blue><i>[horrible]</i></text> yesterday .: -0.6705</text>"
      ],
      "text/plain": [
       "<IPython.core.display.HTML object>"
      ]
     },
     "metadata": {},
     "output_type": "display_data"
    },
    {
     "data": {
      "text/html": [
       "<text style=color:red>i am <text style=color:blue><i>[stuck]</i></text> awake in the middle of the night for the second day in a row . and i felt <text style=color:blue><i>[dreaded]</i></text> yesterday .: -0.6908</text>"
      ],
      "text/plain": [
       "<IPython.core.display.HTML object>"
      ]
     },
     "metadata": {},
     "output_type": "display_data"
    },
    {
     "data": {
      "text/html": [
       "<text style=color:red>i am <text style=color:blue><i>[stuck]</i></text> awake in the middle of the night for the second day in a row . and i felt <text style=color:blue><i>[frightening]</i></text> yesterday .: -0.6369</text>"
      ],
      "text/plain": [
       "<IPython.core.display.HTML object>"
      ]
     },
     "metadata": {},
     "output_type": "display_data"
    },
    {
     "data": {
      "text/html": [
       "<text style=color:green>i am <text style=color:blue><i>[stuck]</i></text> awake in the middle of the night for the second day in a row . and i felt <text style=color:blue><i>[severe]</i></text> yesterday .: -0.5574</text>"
      ],
      "text/plain": [
       "<IPython.core.display.HTML object>"
      ]
     },
     "metadata": {},
     "output_type": "display_data"
    },
    {
     "data": {
      "text/html": [
       "<text style=color:red>i am <text style=color:blue><i>[stuck]</i></text> awake in the middle of the night for the second day in a row . and i felt <text style=color:blue><i>[horrendous]</i></text> yesterday .: -0.7003</text>"
      ],
      "text/plain": [
       "<IPython.core.display.HTML object>"
      ]
     },
     "metadata": {},
     "output_type": "display_data"
    },
    {
     "data": {
      "text/html": [
       "<text style=color:green>i am <text style=color:blue><i>[stuck]</i></text> awake in the middle of the night for the second day in a row . and i felt <text style=color:blue><i>[awful]</i></text> yesterday .: -0.6124</text>"
      ],
      "text/plain": [
       "<IPython.core.display.HTML object>"
      ]
     },
     "metadata": {},
     "output_type": "display_data"
    },
    {
     "data": {
      "text/html": [
       "<text style=color:black>i am <text style=color:blue><i>[stuck]</i></text> awake in the middle of the night for the second day in a row . and i felt <text style=color:blue><i>[terrible]</i></text> yesterday .: -0.6249</text>"
      ],
      "text/plain": [
       "<IPython.core.display.HTML object>"
      ]
     },
     "metadata": {},
     "output_type": "display_data"
    },
    {
     "data": {
      "text/html": [
       "<text style=color:green>i am <text style=color:blue><i>[dumbfound]</i></text> awake in the middle of the night for the second day in a row . and i felt <text style=color:blue><i>[terrible]</i></text> yesterday .: -0.4939</text>"
      ],
      "text/plain": [
       "<IPython.core.display.HTML object>"
      ]
     },
     "metadata": {},
     "output_type": "display_data"
    },
    {
     "data": {
      "text/html": [
       "<text style=color:green>i am <text style=color:blue><i>[dumbfound]</i></text> awake in the middle of the night for the second day in a row . and i felt <text style=color:blue><i>[fearsome]</i></text> yesterday .: -0.4215</text>"
      ],
      "text/plain": [
       "<IPython.core.display.HTML object>"
      ]
     },
     "metadata": {},
     "output_type": "display_data"
    },
    {
     "data": {
      "text/html": [
       "<text style=color:green>i am <text style=color:blue><i>[dumbfound]</i></text> awake in the middle of the night for the second day in a row . and i felt <text style=color:blue><i>[painful]</i></text> yesterday .: -0.4588</text>"
      ],
      "text/plain": [
       "<IPython.core.display.HTML object>"
      ]
     },
     "metadata": {},
     "output_type": "display_data"
    },
    {
     "data": {
      "text/html": [
       "<text style=color:green>i am <text style=color:blue><i>[dumbfound]</i></text> awake in the middle of the night for the second day in a row . and i felt <text style=color:blue><i>[dreadful]</i></text> yesterday .: -0.4588</text>"
      ],
      "text/plain": [
       "<IPython.core.display.HTML object>"
      ]
     },
     "metadata": {},
     "output_type": "display_data"
    },
    {
     "data": {
      "text/html": [
       "<text style=color:green>i am <text style=color:blue><i>[dumbfound]</i></text> awake in the middle of the night for the second day in a row . and i felt <text style=color:blue><i>[wicked]</i></text> yesterday .: -0.5423</text>"
      ],
      "text/plain": [
       "<IPython.core.display.HTML object>"
      ]
     },
     "metadata": {},
     "output_type": "display_data"
    },
    {
     "data": {
      "text/html": [
       "<text style=color:green>i am <text style=color:blue><i>[dumbfound]</i></text> awake in the middle of the night for the second day in a row . and i felt <text style=color:blue><i>[bad]</i></text> yesterday .: -0.5574</text>"
      ],
      "text/plain": [
       "<IPython.core.display.HTML object>"
      ]
     },
     "metadata": {},
     "output_type": "display_data"
    },
    {
     "data": {
      "text/html": [
       "<text style=color:green>i am <text style=color:blue><i>[dumbfound]</i></text> awake in the middle of the night for the second day in a row . and i felt <text style=color:blue><i>[frightful]</i></text> yesterday .: -0.5267</text>"
      ],
      "text/plain": [
       "<IPython.core.display.HTML object>"
      ]
     },
     "metadata": {},
     "output_type": "display_data"
    },
    {
     "data": {
      "text/html": [
       "<text style=color:red>i am <text style=color:blue><i>[dumbfound]</i></text> awake in the middle of the night for the second day in a row . and i felt <text style=color:blue><i>[horrific]</i></text> yesterday .: -0.6705</text>"
      ],
      "text/plain": [
       "<IPython.core.display.HTML object>"
      ]
     },
     "metadata": {},
     "output_type": "display_data"
    },
    {
     "data": {
      "text/html": [
       "<text style=color:green>i am <text style=color:blue><i>[dumbfound]</i></text> awake in the middle of the night for the second day in a row . and i felt <text style=color:blue><i>[dire]</i></text> yesterday .: -0.4767</text>"
      ],
      "text/plain": [
       "<IPython.core.display.HTML object>"
      ]
     },
     "metadata": {},
     "output_type": "display_data"
    },
    {
     "data": {
      "text/html": [
       "<text style=color:red>i am <text style=color:blue><i>[dumbfound]</i></text> awake in the middle of the night for the second day in a row . and i felt <text style=color:blue><i>[direful]</i></text> yesterday .: -0.6369</text>"
      ],
      "text/plain": [
       "<IPython.core.display.HTML object>"
      ]
     },
     "metadata": {},
     "output_type": "display_data"
    },
    {
     "data": {
      "text/html": [
       "<text style=color:green>i am <text style=color:blue><i>[dumbfound]</i></text> awake in the middle of the night for the second day in a row . and i felt <text style=color:blue><i>[fearful]</i></text> yesterday .: -0.5106</text>"
      ],
      "text/plain": [
       "<IPython.core.display.HTML object>"
      ]
     },
     "metadata": {},
     "output_type": "display_data"
    },
    {
     "data": {
      "text/html": [
       "<text style=color:green>i am <text style=color:blue><i>[dumbfound]</i></text> awake in the middle of the night for the second day in a row . and i felt <text style=color:blue><i>[horrible]</i></text> yesterday .: -0.5574</text>"
      ],
      "text/plain": [
       "<IPython.core.display.HTML object>"
      ]
     },
     "metadata": {},
     "output_type": "display_data"
    },
    {
     "data": {
      "text/html": [
       "<text style=color:green>i am <text style=color:blue><i>[dumbfound]</i></text> awake in the middle of the night for the second day in a row . and i felt <text style=color:blue><i>[dreaded]</i></text> yesterday .: -0.5859</text>"
      ],
      "text/plain": [
       "<IPython.core.display.HTML object>"
      ]
     },
     "metadata": {},
     "output_type": "display_data"
    },
    {
     "data": {
      "text/html": [
       "<text style=color:green>i am <text style=color:blue><i>[dumbfound]</i></text> awake in the middle of the night for the second day in a row . and i felt <text style=color:blue><i>[frightening]</i></text> yesterday .: -0.5106</text>"
      ],
      "text/plain": [
       "<IPython.core.display.HTML object>"
      ]
     },
     "metadata": {},
     "output_type": "display_data"
    },
    {
     "data": {
      "text/html": [
       "<text style=color:green>i am <text style=color:blue><i>[dumbfound]</i></text> awake in the middle of the night for the second day in a row . and i felt <text style=color:blue><i>[severe]</i></text> yesterday .: -0.4019</text>"
      ],
      "text/plain": [
       "<IPython.core.display.HTML object>"
      ]
     },
     "metadata": {},
     "output_type": "display_data"
    },
    {
     "data": {
      "text/html": [
       "<text style=color:green>i am <text style=color:blue><i>[dumbfound]</i></text> awake in the middle of the night for the second day in a row . and i felt <text style=color:blue><i>[horrendous]</i></text> yesterday .: -0.5994</text>"
      ],
      "text/plain": [
       "<IPython.core.display.HTML object>"
      ]
     },
     "metadata": {},
     "output_type": "display_data"
    },
    {
     "data": {
      "text/html": [
       "<text style=color:green>i am <text style=color:blue><i>[dumbfound]</i></text> awake in the middle of the night for the second day in a row . and i felt <text style=color:blue><i>[awful]</i></text> yesterday .: -0.4767</text>"
      ],
      "text/plain": [
       "<IPython.core.display.HTML object>"
      ]
     },
     "metadata": {},
     "output_type": "display_data"
    },
    {
     "data": {
      "text/html": [
       "<text style=color:green>i am <text style=color:blue><i>[dumbfound]</i></text> awake in the middle of the night for the second day in a row . and i felt <text style=color:blue><i>[terrible]</i></text> yesterday .: -0.4939</text>"
      ],
      "text/plain": [
       "<IPython.core.display.HTML object>"
      ]
     },
     "metadata": {},
     "output_type": "display_data"
    },
    {
     "data": {
      "text/html": [
       "<text style=color:black>i am <text style=color:blue><i>[stuck]</i></text> awake in the middle of the night for the second day in a row . and i felt <text style=color:blue><i>[terrible]</i></text> yesterday .: -0.6249</text>"
      ],
      "text/plain": [
       "<IPython.core.display.HTML object>"
      ]
     },
     "metadata": {},
     "output_type": "display_data"
    },
    {
     "data": {
      "text/html": [
       "<text style=color:green>i am <text style=color:blue><i>[stuck]</i></text> awake in the middle of the night for the second day in a row . and i felt <text style=color:blue><i>[fearsome]</i></text> yesterday .: -0.5719</text>"
      ],
      "text/plain": [
       "<IPython.core.display.HTML object>"
      ]
     },
     "metadata": {},
     "output_type": "display_data"
    },
    {
     "data": {
      "text/html": [
       "<text style=color:green>i am <text style=color:blue><i>[stuck]</i></text> awake in the middle of the night for the second day in a row . and i felt <text style=color:blue><i>[painful]</i></text> yesterday .: -0.5994</text>"
      ],
      "text/plain": [
       "<IPython.core.display.HTML object>"
      ]
     },
     "metadata": {},
     "output_type": "display_data"
    },
    {
     "data": {
      "text/html": [
       "<text style=color:green>i am <text style=color:blue><i>[stuck]</i></text> awake in the middle of the night for the second day in a row . and i felt <text style=color:blue><i>[dreadful]</i></text> yesterday .: -0.5994</text>"
      ],
      "text/plain": [
       "<IPython.core.display.HTML object>"
      ]
     },
     "metadata": {},
     "output_type": "display_data"
    },
    {
     "data": {
      "text/html": [
       "<text style=color:red>i am <text style=color:blue><i>[stuck]</i></text> awake in the middle of the night for the second day in a row . and i felt <text style=color:blue><i>[wicked]</i></text> yesterday .: -0.6597</text>"
      ],
      "text/plain": [
       "<IPython.core.display.HTML object>"
      ]
     },
     "metadata": {},
     "output_type": "display_data"
    },
    {
     "data": {
      "text/html": [
       "<text style=color:red>i am <text style=color:blue><i>[stuck]</i></text> awake in the middle of the night for the second day in a row . and i felt <text style=color:blue><i>[bad]</i></text> yesterday .: -0.6705</text>"
      ],
      "text/plain": [
       "<IPython.core.display.HTML object>"
      ]
     },
     "metadata": {},
     "output_type": "display_data"
    },
    {
     "data": {
      "text/html": [
       "<text style=color:red>i am <text style=color:blue><i>[stuck]</i></text> awake in the middle of the night for the second day in a row . and i felt <text style=color:blue><i>[frightful]</i></text> yesterday .: -0.6486</text>"
      ],
      "text/plain": [
       "<IPython.core.display.HTML object>"
      ]
     },
     "metadata": {},
     "output_type": "display_data"
    },
    {
     "data": {
      "text/html": [
       "<text style=color:red>i am <text style=color:blue><i>[stuck]</i></text> awake in the middle of the night for the second day in a row . and i felt <text style=color:blue><i>[horrific]</i></text> yesterday .: -0.7506</text>"
      ],
      "text/plain": [
       "<IPython.core.display.HTML object>"
      ]
     },
     "metadata": {},
     "output_type": "display_data"
    },
    {
     "data": {
      "text/html": [
       "<text style=color:green>i am <text style=color:blue><i>[stuck]</i></text> awake in the middle of the night for the second day in a row . and i felt <text style=color:blue><i>[dire]</i></text> yesterday .: -0.6124</text>"
      ],
      "text/plain": [
       "<IPython.core.display.HTML object>"
      ]
     },
     "metadata": {},
     "output_type": "display_data"
    },
    {
     "data": {
      "text/html": [
       "<text style=color:red>i am <text style=color:blue><i>[stuck]</i></text> awake in the middle of the night for the second day in a row . and i felt <text style=color:blue><i>[direful]</i></text> yesterday .: -0.7269</text>"
      ],
      "text/plain": [
       "<IPython.core.display.HTML object>"
      ]
     },
     "metadata": {},
     "output_type": "display_data"
    },
    {
     "data": {
      "text/html": [
       "<text style=color:red>i am <text style=color:blue><i>[stuck]</i></text> awake in the middle of the night for the second day in a row . and i felt <text style=color:blue><i>[fearful]</i></text> yesterday .: -0.6369</text>"
      ],
      "text/plain": [
       "<IPython.core.display.HTML object>"
      ]
     },
     "metadata": {},
     "output_type": "display_data"
    },
    {
     "data": {
      "text/html": [
       "<text style=color:red>i am <text style=color:blue><i>[stuck]</i></text> awake in the middle of the night for the second day in a row . and i felt <text style=color:blue><i>[horrible]</i></text> yesterday .: -0.6705</text>"
      ],
      "text/plain": [
       "<IPython.core.display.HTML object>"
      ]
     },
     "metadata": {},
     "output_type": "display_data"
    },
    {
     "data": {
      "text/html": [
       "<text style=color:red>i am <text style=color:blue><i>[stuck]</i></text> awake in the middle of the night for the second day in a row . and i felt <text style=color:blue><i>[dreaded]</i></text> yesterday .: -0.6908</text>"
      ],
      "text/plain": [
       "<IPython.core.display.HTML object>"
      ]
     },
     "metadata": {},
     "output_type": "display_data"
    },
    {
     "data": {
      "text/html": [
       "<text style=color:red>i am <text style=color:blue><i>[stuck]</i></text> awake in the middle of the night for the second day in a row . and i felt <text style=color:blue><i>[frightening]</i></text> yesterday .: -0.6369</text>"
      ],
      "text/plain": [
       "<IPython.core.display.HTML object>"
      ]
     },
     "metadata": {},
     "output_type": "display_data"
    },
    {
     "name": "stdout",
     "output_type": "stream",
     "text": [
      "--- More options (total: 54) possible, but not printed ---\n"
     ]
    },
    {
     "data": {
      "text/html": [
       "<text style=color:black>Actual Sentence: i am stuck awake in the middle of the night for the second day in a row. and i felt terrible yesterday.  :-0.6249</text>"
      ],
      "text/plain": [
       "<IPython.core.display.HTML object>"
      ]
     },
     "metadata": {},
     "output_type": "display_data"
    },
    {
     "data": {
      "text/html": [
       "<text style=color:red>Worst Sentence: i am <text style=color:blue><i>[stuck]</i></text> awake in the middle of the night for the second day in a row . and i felt <text style=color:blue><i>[horrific]</i></text> yesterday . : -0.7506</text>"
      ],
      "text/plain": [
       "<IPython.core.display.HTML object>"
      ]
     },
     "metadata": {},
     "output_type": "display_data"
    },
    {
     "data": {
      "text/html": [
       "<text style=color:green>Best Sentence: i am <text style=color:blue><i>[dumbfound]</i></text> awake in the middle of the night for the second day in a row . and i felt <text style=color:blue><i>[severe]</i></text> yesterday . : -0.4019</text>"
      ],
      "text/plain": [
       "<IPython.core.display.HTML object>"
      ]
     },
     "metadata": {},
     "output_type": "display_data"
    },
    {
     "name": "stdout",
     "output_type": "stream",
     "text": [
      "\n",
      "\n",
      " Tweet: thanks for bursting my bubble :0.4404\n",
      "\n"
     ]
    },
    {
     "data": {
      "text/html": [
       "<text style=color:black><text style=color:blue><i>[thanks]</i></text> for bursting my bubble: 0.4404</text>"
      ],
      "text/plain": [
       "<IPython.core.display.HTML object>"
      ]
     },
     "metadata": {},
     "output_type": "display_data"
    },
    {
     "data": {
      "text/html": [
       "<text style=color:green><text style=color:blue><i>[cheers]</i></text> for bursting my bubble: 0.4767</text>"
      ],
      "text/plain": [
       "<IPython.core.display.HTML object>"
      ]
     },
     "metadata": {},
     "output_type": "display_data"
    },
    {
     "data": {
      "text/html": [
       "<text style=color:black><text style=color:blue><i>[thanks]</i></text> for bursting my bubble: 0.4404</text>"
      ],
      "text/plain": [
       "<IPython.core.display.HTML object>"
      ]
     },
     "metadata": {},
     "output_type": "display_data"
    },
    {
     "data": {
      "text/html": [
       "<text style=color:black>Actual Sentence: thanks for bursting my bubble  :0.4404</text>"
      ],
      "text/plain": [
       "<IPython.core.display.HTML object>"
      ]
     },
     "metadata": {},
     "output_type": "display_data"
    },
    {
     "data": {
      "text/html": [
       "<text style=color:red>Worst Sentence: <text style=color:blue><i>[thanks]</i></text> for bursting my bubble : 0.4404</text>"
      ],
      "text/plain": [
       "<IPython.core.display.HTML object>"
      ]
     },
     "metadata": {},
     "output_type": "display_data"
    },
    {
     "data": {
      "text/html": [
       "<text style=color:green>Best Sentence: <text style=color:blue><i>[cheers]</i></text> for bursting my bubble : 0.4767</text>"
      ],
      "text/plain": [
       "<IPython.core.display.HTML object>"
      ]
     },
     "metadata": {},
     "output_type": "display_data"
    },
    {
     "name": "stdout",
     "output_type": "stream",
     "text": [
      "\n",
      "\n",
      " Tweet: going to school soon... can not find anything to wear!! gosh it is so hard :-0.3507\n",
      "\n"
     ]
    },
    {
     "data": {
      "text/html": [
       "<text style=color:black>Actual Sentence: going to school soon... can not find anything to wear!! gosh it is so hard  :-0.3507</text>"
      ],
      "text/plain": [
       "<IPython.core.display.HTML object>"
      ]
     },
     "metadata": {},
     "output_type": "display_data"
    },
    {
     "name": "stdout",
     "output_type": "stream",
     "text": [
      "\n",
      "\n",
      " Tweet:  i was serious  lol:0.3612\n",
      "\n"
     ]
    },
    {
     "data": {
      "text/html": [
       "<text style=color:green>i was <text style=color:blue><i>[playful]</i></text> <text style=color:blue><i>[lmao]</i></text>: 0.7783</text>"
      ],
      "text/plain": [
       "<IPython.core.display.HTML object>"
      ]
     },
     "metadata": {},
     "output_type": "display_data"
    },
    {
     "data": {
      "text/html": [
       "<text style=color:red>i was <text style=color:blue><i>[playful]</i></text> <text style=color:blue><i>[smh]</i></text>: 0.1531</text>"
      ],
      "text/plain": [
       "<IPython.core.display.HTML object>"
      ]
     },
     "metadata": {},
     "output_type": "display_data"
    },
    {
     "data": {
      "text/html": [
       "<text style=color:green>i was <text style=color:blue><i>[playful]</i></text> <text style=color:blue><i>[lmfao]</i></text>: 0.7506</text>"
      ],
      "text/plain": [
       "<IPython.core.display.HTML object>"
      ]
     },
     "metadata": {},
     "output_type": "display_data"
    },
    {
     "data": {
      "text/html": [
       "<text style=color:green>i was <text style=color:blue><i>[playful]</i></text> <text style=color:blue><i>[lol]</i></text>: 0.6908</text>"
      ],
      "text/plain": [
       "<IPython.core.display.HTML object>"
      ]
     },
     "metadata": {},
     "output_type": "display_data"
    },
    {
     "data": {
      "text/html": [
       "<text style=color:green>i was <text style=color:blue><i>[funny]</i></text> <text style=color:blue><i>[lmao]</i></text>: 0.7783</text>"
      ],
      "text/plain": [
       "<IPython.core.display.HTML object>"
      ]
     },
     "metadata": {},
     "output_type": "display_data"
    },
    {
     "data": {
      "text/html": [
       "<text style=color:red>i was <text style=color:blue><i>[funny]</i></text> <text style=color:blue><i>[smh]</i></text>: 0.1531</text>"
      ],
      "text/plain": [
       "<IPython.core.display.HTML object>"
      ]
     },
     "metadata": {},
     "output_type": "display_data"
    },
    {
     "data": {
      "text/html": [
       "<text style=color:green>i was <text style=color:blue><i>[funny]</i></text> <text style=color:blue><i>[lmfao]</i></text>: 0.7506</text>"
      ],
      "text/plain": [
       "<IPython.core.display.HTML object>"
      ]
     },
     "metadata": {},
     "output_type": "display_data"
    },
    {
     "data": {
      "text/html": [
       "<text style=color:green>i was <text style=color:blue><i>[funny]</i></text> <text style=color:blue><i>[lol]</i></text>: 0.6908</text>"
      ],
      "text/plain": [
       "<IPython.core.display.HTML object>"
      ]
     },
     "metadata": {},
     "output_type": "display_data"
    },
    {
     "data": {
      "text/html": [
       "<text style=color:red>i was <text style=color:blue><i>[dangerous]</i></text> <text style=color:blue><i>[lmao]</i></text>: 0.2023</text>"
      ],
      "text/plain": [
       "<IPython.core.display.HTML object>"
      ]
     },
     "metadata": {},
     "output_type": "display_data"
    },
    {
     "data": {
      "text/html": [
       "<text style=color:red>i was <text style=color:blue><i>[dangerous]</i></text> <text style=color:blue><i>[smh]</i></text>: -0.6597</text>"
      ],
      "text/plain": [
       "<IPython.core.display.HTML object>"
      ]
     },
     "metadata": {},
     "output_type": "display_data"
    },
    {
     "data": {
      "text/html": [
       "<text style=color:red>i was <text style=color:blue><i>[dangerous]</i></text> <text style=color:blue><i>[lmfao]</i></text>: 0.1027</text>"
      ],
      "text/plain": [
       "<IPython.core.display.HTML object>"
      ]
     },
     "metadata": {},
     "output_type": "display_data"
    },
    {
     "data": {
      "text/html": [
       "<text style=color:red>i was <text style=color:blue><i>[dangerous]</i></text> <text style=color:blue><i>[lol]</i></text>: -0.0772</text>"
      ],
      "text/plain": [
       "<IPython.core.display.HTML object>"
      ]
     },
     "metadata": {},
     "output_type": "display_data"
    },
    {
     "data": {
      "text/html": [
       "<text style=color:green>i was <text style=color:blue><i>[good]</i></text> <text style=color:blue><i>[lmao]</i></text>: 0.7783</text>"
      ],
      "text/plain": [
       "<IPython.core.display.HTML object>"
      ]
     },
     "metadata": {},
     "output_type": "display_data"
    },
    {
     "data": {
      "text/html": [
       "<text style=color:red>i was <text style=color:blue><i>[good]</i></text> <text style=color:blue><i>[smh]</i></text>: 0.1531</text>"
      ],
      "text/plain": [
       "<IPython.core.display.HTML object>"
      ]
     },
     "metadata": {},
     "output_type": "display_data"
    },
    {
     "data": {
      "text/html": [
       "<text style=color:green>i was <text style=color:blue><i>[good]</i></text> <text style=color:blue><i>[lmfao]</i></text>: 0.7506</text>"
      ],
      "text/plain": [
       "<IPython.core.display.HTML object>"
      ]
     },
     "metadata": {},
     "output_type": "display_data"
    },
    {
     "data": {
      "text/html": [
       "<text style=color:green>i was <text style=color:blue><i>[good]</i></text> <text style=color:blue><i>[lol]</i></text>: 0.6908</text>"
      ],
      "text/plain": [
       "<IPython.core.display.HTML object>"
      ]
     },
     "metadata": {},
     "output_type": "display_data"
    },
    {
     "data": {
      "text/html": [
       "<text style=color:green>i was <text style=color:blue><i>[serious]</i></text> <text style=color:blue><i>[lmao]</i></text>: 0.5574</text>"
      ],
      "text/plain": [
       "<IPython.core.display.HTML object>"
      ]
     },
     "metadata": {},
     "output_type": "display_data"
    },
    {
     "data": {
      "text/html": [
       "<text style=color:red>i was <text style=color:blue><i>[serious]</i></text> <text style=color:blue><i>[smh]</i></text>: -0.3818</text>"
      ],
      "text/plain": [
       "<IPython.core.display.HTML object>"
      ]
     },
     "metadata": {},
     "output_type": "display_data"
    },
    {
     "data": {
      "text/html": [
       "<text style=color:green>i was <text style=color:blue><i>[serious]</i></text> <text style=color:blue><i>[lmfao]</i></text>: 0.4939</text>"
      ],
      "text/plain": [
       "<IPython.core.display.HTML object>"
      ]
     },
     "metadata": {},
     "output_type": "display_data"
    },
    {
     "data": {
      "text/html": [
       "<text style=color:black>i was <text style=color:blue><i>[serious]</i></text> <text style=color:blue><i>[lol]</i></text>: 0.3612</text>"
      ],
      "text/plain": [
       "<IPython.core.display.HTML object>"
      ]
     },
     "metadata": {},
     "output_type": "display_data"
    },
    {
     "data": {
      "text/html": [
       "<text style=color:red>i was <text style=color:blue><i>[severe]</i></text> <text style=color:blue><i>[lmao]</i></text>: 0.3182</text>"
      ],
      "text/plain": [
       "<IPython.core.display.HTML object>"
      ]
     },
     "metadata": {},
     "output_type": "display_data"
    },
    {
     "data": {
      "text/html": [
       "<text style=color:red>i was <text style=color:blue><i>[severe]</i></text> <text style=color:blue><i>[smh]</i></text>: -0.5994</text>"
      ],
      "text/plain": [
       "<IPython.core.display.HTML object>"
      ]
     },
     "metadata": {},
     "output_type": "display_data"
    },
    {
     "data": {
      "text/html": [
       "<text style=color:red>i was <text style=color:blue><i>[severe]</i></text> <text style=color:blue><i>[lmfao]</i></text>: 0.2263</text>"
      ],
      "text/plain": [
       "<IPython.core.display.HTML object>"
      ]
     },
     "metadata": {},
     "output_type": "display_data"
    },
    {
     "data": {
      "text/html": [
       "<text style=color:red>i was <text style=color:blue><i>[severe]</i></text> <text style=color:blue><i>[lol]</i></text>: 0.0516</text>"
      ],
      "text/plain": [
       "<IPython.core.display.HTML object>"
      ]
     },
     "metadata": {},
     "output_type": "display_data"
    },
    {
     "data": {
      "text/html": [
       "<text style=color:red>i was <text style=color:blue><i>[grave]</i></text> <text style=color:blue><i>[lmao]</i></text>: 0.3182</text>"
      ],
      "text/plain": [
       "<IPython.core.display.HTML object>"
      ]
     },
     "metadata": {},
     "output_type": "display_data"
    },
    {
     "data": {
      "text/html": [
       "<text style=color:red>i was <text style=color:blue><i>[grave]</i></text> <text style=color:blue><i>[smh]</i></text>: -0.5994</text>"
      ],
      "text/plain": [
       "<IPython.core.display.HTML object>"
      ]
     },
     "metadata": {},
     "output_type": "display_data"
    },
    {
     "data": {
      "text/html": [
       "<text style=color:red>i was <text style=color:blue><i>[grave]</i></text> <text style=color:blue><i>[lmfao]</i></text>: 0.2263</text>"
      ],
      "text/plain": [
       "<IPython.core.display.HTML object>"
      ]
     },
     "metadata": {},
     "output_type": "display_data"
    },
    {
     "data": {
      "text/html": [
       "<text style=color:red>i was <text style=color:blue><i>[grave]</i></text> <text style=color:blue><i>[lol]</i></text>: 0.0516</text>"
      ],
      "text/plain": [
       "<IPython.core.display.HTML object>"
      ]
     },
     "metadata": {},
     "output_type": "display_data"
    },
    {
     "data": {
      "text/html": [
       "<text style=color:red>i was <text style=color:blue><i>[grievous]</i></text> <text style=color:blue><i>[lmao]</i></text>: 0.2263</text>"
      ],
      "text/plain": [
       "<IPython.core.display.HTML object>"
      ]
     },
     "metadata": {},
     "output_type": "display_data"
    },
    {
     "data": {
      "text/html": [
       "<text style=color:red>i was <text style=color:blue><i>[grievous]</i></text> <text style=color:blue><i>[smh]</i></text>: -0.6486</text>"
      ],
      "text/plain": [
       "<IPython.core.display.HTML object>"
      ]
     },
     "metadata": {},
     "output_type": "display_data"
    },
    {
     "data": {
      "text/html": [
       "<text style=color:red>i was <text style=color:blue><i>[grievous]</i></text> <text style=color:blue><i>[lmfao]</i></text>: 0.128</text>"
      ],
      "text/plain": [
       "<IPython.core.display.HTML object>"
      ]
     },
     "metadata": {},
     "output_type": "display_data"
    },
    {
     "data": {
      "text/html": [
       "<text style=color:red>i was <text style=color:blue><i>[grievous]</i></text> <text style=color:blue><i>[lol]</i></text>: -0.0516</text>"
      ],
      "text/plain": [
       "<IPython.core.display.HTML object>"
      ]
     },
     "metadata": {},
     "output_type": "display_data"
    },
    {
     "data": {
      "text/html": [
       "<text style=color:green>i was <text style=color:blue><i>[serious]</i></text> <text style=color:blue><i>[lmao]</i></text>: 0.5574</text>"
      ],
      "text/plain": [
       "<IPython.core.display.HTML object>"
      ]
     },
     "metadata": {},
     "output_type": "display_data"
    },
    {
     "data": {
      "text/html": [
       "<text style=color:red>i was <text style=color:blue><i>[serious]</i></text> <text style=color:blue><i>[smh]</i></text>: -0.3818</text>"
      ],
      "text/plain": [
       "<IPython.core.display.HTML object>"
      ]
     },
     "metadata": {},
     "output_type": "display_data"
    },
    {
     "data": {
      "text/html": [
       "<text style=color:green>i was <text style=color:blue><i>[serious]</i></text> <text style=color:blue><i>[lmfao]</i></text>: 0.4939</text>"
      ],
      "text/plain": [
       "<IPython.core.display.HTML object>"
      ]
     },
     "metadata": {},
     "output_type": "display_data"
    },
    {
     "data": {
      "text/html": [
       "<text style=color:black>i was <text style=color:blue><i>[serious]</i></text> <text style=color:blue><i>[lol]</i></text>: 0.3612</text>"
      ],
      "text/plain": [
       "<IPython.core.display.HTML object>"
      ]
     },
     "metadata": {},
     "output_type": "display_data"
    },
    {
     "data": {
      "text/html": [
       "<text style=color:black>Actual Sentence:  i was serious  lol :0.3612</text>"
      ],
      "text/plain": [
       "<IPython.core.display.HTML object>"
      ]
     },
     "metadata": {},
     "output_type": "display_data"
    },
    {
     "data": {
      "text/html": [
       "<text style=color:red>Worst Sentence: i was <text style=color:blue><i>[dangerous]</i></text> <text style=color:blue><i>[smh]</i></text> : -0.6597</text>"
      ],
      "text/plain": [
       "<IPython.core.display.HTML object>"
      ]
     },
     "metadata": {},
     "output_type": "display_data"
    },
    {
     "data": {
      "text/html": [
       "<text style=color:green>Best Sentence: i was <text style=color:blue><i>[good]</i></text> <text style=color:blue><i>[lmao]</i></text> : 0.7783</text>"
      ],
      "text/plain": [
       "<IPython.core.display.HTML object>"
      ]
     },
     "metadata": {},
     "output_type": "display_data"
    },
    {
     "name": "stdout",
     "output_type": "stream",
     "text": [
      "\n",
      "\n",
      " Tweet:  i had on my page for sooooo long!!! until it got deleted  sad day in history:-0.6093\n",
      "\n"
     ]
    },
    {
     "data": {
      "text/html": [
       "<text style=color:green>i had on my page for sooooo long ! ! ! until it got deleted <text style=color:blue><i>[glad]</i></text> day in history: 0.5962</text>"
      ],
      "text/plain": [
       "<IPython.core.display.HTML object>"
      ]
     },
     "metadata": {},
     "output_type": "display_data"
    },
    {
     "data": {
      "text/html": [
       "<text style=color:red>i had on my page for sooooo long ! ! ! until it got deleted <text style=color:blue><i>[pitiful]</i></text> day in history: -0.6219</text>"
      ],
      "text/plain": [
       "<IPython.core.display.HTML object>"
      ]
     },
     "metadata": {},
     "output_type": "display_data"
    },
    {
     "data": {
      "text/html": [
       "<text style=color:black>i had on my page for sooooo long ! ! ! until it got deleted <text style=color:blue><i>[sad]</i></text> day in history: -0.6093</text>"
      ],
      "text/plain": [
       "<IPython.core.display.HTML object>"
      ]
     },
     "metadata": {},
     "output_type": "display_data"
    },
    {
     "data": {
      "text/html": [
       "<text style=color:red>i had on my page for sooooo long ! ! ! until it got deleted <text style=color:blue><i>[depressed]</i></text> day in history: -0.6341</text>"
      ],
      "text/plain": [
       "<IPython.core.display.HTML object>"
      ]
     },
     "metadata": {},
     "output_type": "display_data"
    },
    {
     "data": {
      "text/html": [
       "<text style=color:green>i had on my page for sooooo long ! ! ! until it got deleted <text style=color:blue><i>[lamentable]</i></text> day in history: -0.5229</text>"
      ],
      "text/plain": [
       "<IPython.core.display.HTML object>"
      ]
     },
     "metadata": {},
     "output_type": "display_data"
    },
    {
     "data": {
      "text/html": [
       "<text style=color:green>i had on my page for sooooo long ! ! ! until it got deleted <text style=color:blue><i>[depressing]</i></text> day in history: -0.5386</text>"
      ],
      "text/plain": [
       "<IPython.core.display.HTML object>"
      ]
     },
     "metadata": {},
     "output_type": "display_data"
    },
    {
     "data": {
      "text/html": [
       "<text style=color:green>i had on my page for sooooo long ! ! ! until it got deleted <text style=color:blue><i>[sorry]</i></text> day in history: -0.2905</text>"
      ],
      "text/plain": [
       "<IPython.core.display.HTML object>"
      ]
     },
     "metadata": {},
     "output_type": "display_data"
    },
    {
     "data": {
      "text/html": [
       "<text style=color:green>i had on my page for sooooo long ! ! ! until it got deleted <text style=color:blue><i>[upset]</i></text> day in history: -0.5386</text>"
      ],
      "text/plain": [
       "<IPython.core.display.HTML object>"
      ]
     },
     "metadata": {},
     "output_type": "display_data"
    },
    {
     "data": {
      "text/html": [
       "<text style=color:red>i had on my page for sooooo long ! ! ! until it got deleted <text style=color:blue><i>[sick]</i></text> day in history: -0.6341</text>"
      ],
      "text/plain": [
       "<IPython.core.display.HTML object>"
      ]
     },
     "metadata": {},
     "output_type": "display_data"
    },
    {
     "data": {
      "text/html": [
       "<text style=color:green>i had on my page for sooooo long ! ! ! until it got deleted <text style=color:blue><i>[distressing]</i></text> day in history: -0.5538</text>"
      ],
      "text/plain": [
       "<IPython.core.display.HTML object>"
      ]
     },
     "metadata": {},
     "output_type": "display_data"
    },
    {
     "data": {
      "text/html": [
       "<text style=color:black>i had on my page for sooooo long ! ! ! until it got deleted <text style=color:blue><i>[sad]</i></text> day in history: -0.6093</text>"
      ],
      "text/plain": [
       "<IPython.core.display.HTML object>"
      ]
     },
     "metadata": {},
     "output_type": "display_data"
    },
    {
     "data": {
      "text/html": [
       "<text style=color:black>Actual Sentence:  i had on my page for sooooo long!!! until it got deleted  sad day in history :-0.6093</text>"
      ],
      "text/plain": [
       "<IPython.core.display.HTML object>"
      ]
     },
     "metadata": {},
     "output_type": "display_data"
    },
    {
     "data": {
      "text/html": [
       "<text style=color:red>Worst Sentence: i had on my page for sooooo long ! ! ! until it got deleted <text style=color:blue><i>[depressed]</i></text> day in history : -0.6341</text>"
      ],
      "text/plain": [
       "<IPython.core.display.HTML object>"
      ]
     },
     "metadata": {},
     "output_type": "display_data"
    },
    {
     "data": {
      "text/html": [
       "<text style=color:green>Best Sentence: i had on my page for sooooo long ! ! ! until it got deleted <text style=color:blue><i>[glad]</i></text> day in history : 0.5962</text>"
      ],
      "text/plain": [
       "<IPython.core.display.HTML object>"
      ]
     },
     "metadata": {},
     "output_type": "display_data"
    },
    {
     "name": "stdout",
     "output_type": "stream",
     "text": [
      "\n",
      "\n",
      " Tweet: crazy wind today  no birding  :-0.5574\n",
      "\n"
     ]
    },
    {
     "data": {
      "text/html": [
       "<text style=color:red><text style=color:blue><i>[insane]</i></text> wind today <text style=color:blue><i>[no]</i></text> birding: -0.5994</text>"
      ],
      "text/plain": [
       "<IPython.core.display.HTML object>"
      ]
     },
     "metadata": {},
     "output_type": "display_data"
    },
    {
     "data": {
      "text/html": [
       "<text style=color:red><text style=color:blue><i>[insane]</i></text> wind today <text style=color:blue><i>[no]</i></text> birding: -0.5994</text>"
      ],
      "text/plain": [
       "<IPython.core.display.HTML object>"
      ]
     },
     "metadata": {},
     "output_type": "display_data"
    },
    {
     "data": {
      "text/html": [
       "<text style=color:red><text style=color:blue><i>[mad]</i></text> wind today <text style=color:blue><i>[no]</i></text> birding: -0.6597</text>"
      ],
      "text/plain": [
       "<IPython.core.display.HTML object>"
      ]
     },
     "metadata": {},
     "output_type": "display_data"
    },
    {
     "data": {
      "text/html": [
       "<text style=color:red><text style=color:blue><i>[mad]</i></text> wind today <text style=color:blue><i>[no]</i></text> birding: -0.6597</text>"
      ],
      "text/plain": [
       "<IPython.core.display.HTML object>"
      ]
     },
     "metadata": {},
     "output_type": "display_data"
    },
    {
     "data": {
      "text/html": [
       "<text style=color:green><text style=color:blue><i>[funny]</i></text> wind today <text style=color:blue><i>[no]</i></text> birding: 0.1779</text>"
      ],
      "text/plain": [
       "<IPython.core.display.HTML object>"
      ]
     },
     "metadata": {},
     "output_type": "display_data"
    },
    {
     "data": {
      "text/html": [
       "<text style=color:green><text style=color:blue><i>[funny]</i></text> wind today <text style=color:blue><i>[no]</i></text> birding: 0.1779</text>"
      ],
      "text/plain": [
       "<IPython.core.display.HTML object>"
      ]
     },
     "metadata": {},
     "output_type": "display_data"
    },
    {
     "data": {
      "text/html": [
       "<text style=color:green><text style=color:blue><i>[weird]</i></text> wind today <text style=color:blue><i>[no]</i></text> birding: -0.4404</text>"
      ],
      "text/plain": [
       "<IPython.core.display.HTML object>"
      ]
     },
     "metadata": {},
     "output_type": "display_data"
    },
    {
     "data": {
      "text/html": [
       "<text style=color:green><text style=color:blue><i>[weird]</i></text> wind today <text style=color:blue><i>[no]</i></text> birding: -0.4404</text>"
      ],
      "text/plain": [
       "<IPython.core.display.HTML object>"
      ]
     },
     "metadata": {},
     "output_type": "display_data"
    },
    {
     "data": {
      "text/html": [
       "<text style=color:black><text style=color:blue><i>[crazy]</i></text> wind today <text style=color:blue><i>[no]</i></text> birding: -0.5574</text>"
      ],
      "text/plain": [
       "<IPython.core.display.HTML object>"
      ]
     },
     "metadata": {},
     "output_type": "display_data"
    },
    {
     "data": {
      "text/html": [
       "<text style=color:black><text style=color:blue><i>[crazy]</i></text> wind today <text style=color:blue><i>[no]</i></text> birding: -0.5574</text>"
      ],
      "text/plain": [
       "<IPython.core.display.HTML object>"
      ]
     },
     "metadata": {},
     "output_type": "display_data"
    },
    {
     "data": {
      "text/html": [
       "<text style=color:red><text style=color:blue><i>[disturbed]</i></text> wind today <text style=color:blue><i>[no]</i></text> birding: -0.5859</text>"
      ],
      "text/plain": [
       "<IPython.core.display.HTML object>"
      ]
     },
     "metadata": {},
     "output_type": "display_data"
    },
    {
     "data": {
      "text/html": [
       "<text style=color:red><text style=color:blue><i>[disturbed]</i></text> wind today <text style=color:blue><i>[no]</i></text> birding: -0.5859</text>"
      ],
      "text/plain": [
       "<IPython.core.display.HTML object>"
      ]
     },
     "metadata": {},
     "output_type": "display_data"
    },
    {
     "data": {
      "text/html": [
       "<text style=color:red><text style=color:blue><i>[stupid]</i></text> wind today <text style=color:blue><i>[no]</i></text> birding: -0.6808</text>"
      ],
      "text/plain": [
       "<IPython.core.display.HTML object>"
      ]
     },
     "metadata": {},
     "output_type": "display_data"
    },
    {
     "data": {
      "text/html": [
       "<text style=color:red><text style=color:blue><i>[stupid]</i></text> wind today <text style=color:blue><i>[no]</i></text> birding: -0.6808</text>"
      ],
      "text/plain": [
       "<IPython.core.display.HTML object>"
      ]
     },
     "metadata": {},
     "output_type": "display_data"
    },
    {
     "data": {
      "text/html": [
       "<text style=color:red><text style=color:blue><i>[weirdo]</i></text> wind today <text style=color:blue><i>[no]</i></text> birding: -0.6124</text>"
      ],
      "text/plain": [
       "<IPython.core.display.HTML object>"
      ]
     },
     "metadata": {},
     "output_type": "display_data"
    },
    {
     "data": {
      "text/html": [
       "<text style=color:red><text style=color:blue><i>[weirdo]</i></text> wind today <text style=color:blue><i>[no]</i></text> birding: -0.6124</text>"
      ],
      "text/plain": [
       "<IPython.core.display.HTML object>"
      ]
     },
     "metadata": {},
     "output_type": "display_data"
    },
    {
     "data": {
      "text/html": [
       "<text style=color:red><text style=color:blue><i>[sick]</i></text> wind today <text style=color:blue><i>[no]</i></text> birding: -0.6705</text>"
      ],
      "text/plain": [
       "<IPython.core.display.HTML object>"
      ]
     },
     "metadata": {},
     "output_type": "display_data"
    },
    {
     "data": {
      "text/html": [
       "<text style=color:red><text style=color:blue><i>[sick]</i></text> wind today <text style=color:blue><i>[no]</i></text> birding: -0.6705</text>"
      ],
      "text/plain": [
       "<IPython.core.display.HTML object>"
      ]
     },
     "metadata": {},
     "output_type": "display_data"
    },
    {
     "data": {
      "text/html": [
       "<text style=color:black><text style=color:blue><i>[crazy]</i></text> wind today <text style=color:blue><i>[no]</i></text> birding: -0.5574</text>"
      ],
      "text/plain": [
       "<IPython.core.display.HTML object>"
      ]
     },
     "metadata": {},
     "output_type": "display_data"
    },
    {
     "data": {
      "text/html": [
       "<text style=color:black><text style=color:blue><i>[crazy]</i></text> wind today <text style=color:blue><i>[no]</i></text> birding: -0.5574</text>"
      ],
      "text/plain": [
       "<IPython.core.display.HTML object>"
      ]
     },
     "metadata": {},
     "output_type": "display_data"
    },
    {
     "data": {
      "text/html": [
       "<text style=color:black>Actual Sentence: crazy wind today  no birding   :-0.5574</text>"
      ],
      "text/plain": [
       "<IPython.core.display.HTML object>"
      ]
     },
     "metadata": {},
     "output_type": "display_data"
    },
    {
     "data": {
      "text/html": [
       "<text style=color:red>Worst Sentence: <text style=color:blue><i>[stupid]</i></text> wind today <text style=color:blue><i>[no]</i></text> birding : -0.6808</text>"
      ],
      "text/plain": [
       "<IPython.core.display.HTML object>"
      ]
     },
     "metadata": {},
     "output_type": "display_data"
    },
    {
     "data": {
      "text/html": [
       "<text style=color:green>Best Sentence: <text style=color:blue><i>[funny]</i></text> wind today <text style=color:blue><i>[no]</i></text> birding : 0.1779</text>"
      ],
      "text/plain": [
       "<IPython.core.display.HTML object>"
      ]
     },
     "metadata": {},
     "output_type": "display_data"
    },
    {
     "name": "stdout",
     "output_type": "stream",
     "text": [
      "\n",
      "\n",
      " Tweet: grrr.. my ipods acting weird too! jai ho and thinking of you are not playing the full songs.. ughh. :-0.3786\n",
      "\n"
     ]
    },
    {
     "data": {
      "text/html": [
       "<text style=color:green>grrr.. my ipods acting <text style=color:blue><i>[funny]</i></text> too ! jai ho and thinking of you are <text style=color:blue><i>[played]</i></text> the full songs.. ughh .: 0.68</text>"
      ],
      "text/plain": [
       "<IPython.core.display.HTML object>"
      ]
     },
     "metadata": {},
     "output_type": "display_data"
    },
    {
     "data": {
      "text/html": [
       "<text style=color:green>grrr.. my ipods acting <text style=color:blue><i>[funny]</i></text> too ! jai ho and thinking of you are <text style=color:blue><i>[plays]</i></text> the full songs.. ughh .: 0.636</text>"
      ],
      "text/plain": [
       "<IPython.core.display.HTML object>"
      ]
     },
     "metadata": {},
     "output_type": "display_data"
    },
    {
     "data": {
      "text/html": [
       "<text style=color:green>grrr.. my ipods acting <text style=color:blue><i>[funny]</i></text> too ! jai ho and thinking of you are <text style=color:blue><i>[play]</i></text> the full songs.. ughh .: 0.68</text>"
      ],
      "text/plain": [
       "<IPython.core.display.HTML object>"
      ]
     },
     "metadata": {},
     "output_type": "display_data"
    },
    {
     "data": {
      "text/html": [
       "<text style=color:green>grrr.. my ipods acting <text style=color:blue><i>[funny]</i></text> too ! jai ho and thinking of you are <text style=color:blue><i>[playing]</i></text> the full songs.. ughh .: 0.6114</text>"
      ],
      "text/plain": [
       "<IPython.core.display.HTML object>"
      ]
     },
     "metadata": {},
     "output_type": "display_data"
    },
    {
     "data": {
      "text/html": [
       "<text style=color:green>grrr.. my ipods acting <text style=color:blue><i>[funny]</i></text> too ! jai ho and thinking of you are <text style=color:blue><i>[playing]</i></text> the full songs.. ughh .: 0.6114</text>"
      ],
      "text/plain": [
       "<IPython.core.display.HTML object>"
      ]
     },
     "metadata": {},
     "output_type": "display_data"
    },
    {
     "data": {
      "text/html": [
       "<text style=color:green>grrr.. my ipods acting <text style=color:blue><i>[weird]</i></text> too ! jai ho and thinking of you are <text style=color:blue><i>[played]</i></text> the full songs.. ughh .: 0.2481</text>"
      ],
      "text/plain": [
       "<IPython.core.display.HTML object>"
      ]
     },
     "metadata": {},
     "output_type": "display_data"
    },
    {
     "data": {
      "text/html": [
       "<text style=color:green>grrr.. my ipods acting <text style=color:blue><i>[weird]</i></text> too ! jai ho and thinking of you are <text style=color:blue><i>[plays]</i></text> the full songs.. ughh .: 0.1511</text>"
      ],
      "text/plain": [
       "<IPython.core.display.HTML object>"
      ]
     },
     "metadata": {},
     "output_type": "display_data"
    },
    {
     "data": {
      "text/html": [
       "<text style=color:green>grrr.. my ipods acting <text style=color:blue><i>[weird]</i></text> too ! jai ho and thinking of you are <text style=color:blue><i>[play]</i></text> the full songs.. ughh .: 0.2481</text>"
      ],
      "text/plain": [
       "<IPython.core.display.HTML object>"
      ]
     },
     "metadata": {},
     "output_type": "display_data"
    },
    {
     "data": {
      "text/html": [
       "<text style=color:green>grrr.. my ipods acting <text style=color:blue><i>[weird]</i></text> too ! jai ho and thinking of you are <text style=color:blue><i>[playing]</i></text> the full songs.. ughh .: 0.1007</text>"
      ],
      "text/plain": [
       "<IPython.core.display.HTML object>"
      ]
     },
     "metadata": {},
     "output_type": "display_data"
    },
    {
     "data": {
      "text/html": [
       "<text style=color:green>grrr.. my ipods acting <text style=color:blue><i>[weird]</i></text> too ! jai ho and thinking of you are <text style=color:blue><i>[playing]</i></text> the full songs.. ughh .: 0.1007</text>"
      ],
      "text/plain": [
       "<IPython.core.display.HTML object>"
      ]
     },
     "metadata": {},
     "output_type": "display_data"
    },
    {
     "data": {
      "text/html": [
       "<text style=color:green>grrr.. my ipods acting <text style=color:blue><i>[awkward]</i></text> too ! jai ho and thinking of you are <text style=color:blue><i>[played]</i></text> the full songs.. ughh .: 0.2714</text>"
      ],
      "text/plain": [
       "<IPython.core.display.HTML object>"
      ]
     },
     "metadata": {},
     "output_type": "display_data"
    },
    {
     "data": {
      "text/html": [
       "<text style=color:green>grrr.. my ipods acting <text style=color:blue><i>[awkward]</i></text> too ! jai ho and thinking of you are <text style=color:blue><i>[plays]</i></text> the full songs.. ughh .: 0.1759</text>"
      ],
      "text/plain": [
       "<IPython.core.display.HTML object>"
      ]
     },
     "metadata": {},
     "output_type": "display_data"
    },
    {
     "data": {
      "text/html": [
       "<text style=color:green>grrr.. my ipods acting <text style=color:blue><i>[awkward]</i></text> too ! jai ho and thinking of you are <text style=color:blue><i>[play]</i></text> the full songs.. ughh .: 0.2714</text>"
      ],
      "text/plain": [
       "<IPython.core.display.HTML object>"
      ]
     },
     "metadata": {},
     "output_type": "display_data"
    },
    {
     "data": {
      "text/html": [
       "<text style=color:green>grrr.. my ipods acting <text style=color:blue><i>[awkward]</i></text> too ! jai ho and thinking of you are <text style=color:blue><i>[playing]</i></text> the full songs.. ughh .: 0.126</text>"
      ],
      "text/plain": [
       "<IPython.core.display.HTML object>"
      ]
     },
     "metadata": {},
     "output_type": "display_data"
    },
    {
     "data": {
      "text/html": [
       "<text style=color:green>grrr.. my ipods acting <text style=color:blue><i>[awkward]</i></text> too ! jai ho and thinking of you are <text style=color:blue><i>[playing]</i></text> the full songs.. ughh .: 0.126</text>"
      ],
      "text/plain": [
       "<IPython.core.display.HTML object>"
      ]
     },
     "metadata": {},
     "output_type": "display_data"
    },
    {
     "data": {
      "text/html": [
       "<text style=color:green>grrr.. my ipods acting <text style=color:blue><i>[strange]</i></text> too ! jai ho and thinking of you are <text style=color:blue><i>[played]</i></text> the full songs.. ughh .: 0.2244</text>"
      ],
      "text/plain": [
       "<IPython.core.display.HTML object>"
      ]
     },
     "metadata": {},
     "output_type": "display_data"
    },
    {
     "data": {
      "text/html": [
       "<text style=color:green>grrr.. my ipods acting <text style=color:blue><i>[strange]</i></text> too ! jai ho and thinking of you are <text style=color:blue><i>[plays]</i></text> the full songs.. ughh .: 0.126</text>"
      ],
      "text/plain": [
       "<IPython.core.display.HTML object>"
      ]
     },
     "metadata": {},
     "output_type": "display_data"
    },
    {
     "data": {
      "text/html": [
       "<text style=color:green>grrr.. my ipods acting <text style=color:blue><i>[strange]</i></text> too ! jai ho and thinking of you are <text style=color:blue><i>[play]</i></text> the full songs.. ughh .: 0.2244</text>"
      ],
      "text/plain": [
       "<IPython.core.display.HTML object>"
      ]
     },
     "metadata": {},
     "output_type": "display_data"
    },
    {
     "data": {
      "text/html": [
       "<text style=color:black>grrr.. my ipods acting <text style=color:blue><i>[strange]</i></text> too ! jai ho and thinking of you are <text style=color:blue><i>[playing]</i></text> the full songs.. ughh .: 0.0</text>"
      ],
      "text/plain": [
       "<IPython.core.display.HTML object>"
      ]
     },
     "metadata": {},
     "output_type": "display_data"
    },
    {
     "data": {
      "text/html": [
       "<text style=color:black>grrr.. my ipods acting <text style=color:blue><i>[strange]</i></text> too ! jai ho and thinking of you are <text style=color:blue><i>[playing]</i></text> the full songs.. ughh .: 0.0</text>"
      ],
      "text/plain": [
       "<IPython.core.display.HTML object>"
      ]
     },
     "metadata": {},
     "output_type": "display_data"
    },
    {
     "data": {
      "text/html": [
       "<text style=color:green>grrr.. my ipods acting <text style=color:blue><i>[weird]</i></text> too ! jai ho and thinking of you are <text style=color:blue><i>[played]</i></text> the full songs.. ughh .: 0.2481</text>"
      ],
      "text/plain": [
       "<IPython.core.display.HTML object>"
      ]
     },
     "metadata": {},
     "output_type": "display_data"
    },
    {
     "data": {
      "text/html": [
       "<text style=color:green>grrr.. my ipods acting <text style=color:blue><i>[weird]</i></text> too ! jai ho and thinking of you are <text style=color:blue><i>[plays]</i></text> the full songs.. ughh .: 0.1511</text>"
      ],
      "text/plain": [
       "<IPython.core.display.HTML object>"
      ]
     },
     "metadata": {},
     "output_type": "display_data"
    },
    {
     "data": {
      "text/html": [
       "<text style=color:green>grrr.. my ipods acting <text style=color:blue><i>[weird]</i></text> too ! jai ho and thinking of you are <text style=color:blue><i>[play]</i></text> the full songs.. ughh .: 0.2481</text>"
      ],
      "text/plain": [
       "<IPython.core.display.HTML object>"
      ]
     },
     "metadata": {},
     "output_type": "display_data"
    },
    {
     "data": {
      "text/html": [
       "<text style=color:green>grrr.. my ipods acting <text style=color:blue><i>[weird]</i></text> too ! jai ho and thinking of you are <text style=color:blue><i>[playing]</i></text> the full songs.. ughh .: 0.1007</text>"
      ],
      "text/plain": [
       "<IPython.core.display.HTML object>"
      ]
     },
     "metadata": {},
     "output_type": "display_data"
    },
    {
     "data": {
      "text/html": [
       "<text style=color:green>grrr.. my ipods acting <text style=color:blue><i>[weird]</i></text> too ! jai ho and thinking of you are <text style=color:blue><i>[playing]</i></text> the full songs.. ughh .: 0.1007</text>"
      ],
      "text/plain": [
       "<IPython.core.display.HTML object>"
      ]
     },
     "metadata": {},
     "output_type": "display_data"
    },
    {
     "data": {
      "text/html": [
       "<text style=color:black>Actual Sentence: grrr.. my ipods acting weird too! jai ho and thinking of you are not playing the full songs.. ughh.  :-0.3786</text>"
      ],
      "text/plain": [
       "<IPython.core.display.HTML object>"
      ]
     },
     "metadata": {},
     "output_type": "display_data"
    },
    {
     "data": {
      "text/html": [
       "<text style=color:red>Worst Sentence: grrr.. my ipods acting <text style=color:blue><i>[strange]</i></text> too ! jai ho and thinking of you are <text style=color:blue><i>[playing]</i></text> the full songs.. ughh . : 0.0</text>"
      ],
      "text/plain": [
       "<IPython.core.display.HTML object>"
      ]
     },
     "metadata": {},
     "output_type": "display_data"
    },
    {
     "data": {
      "text/html": [
       "<text style=color:green>Best Sentence: grrr.. my ipods acting <text style=color:blue><i>[funny]</i></text> too ! jai ho and thinking of you are <text style=color:blue><i>[play]</i></text> the full songs.. ughh . : 0.68</text>"
      ],
      "text/plain": [
       "<IPython.core.display.HTML object>"
      ]
     },
     "metadata": {},
     "output_type": "display_data"
    },
    {
     "name": "stdout",
     "output_type": "stream",
     "text": [
      "\n",
      "\n",
      " Tweet:  send me the dvd cos i have missed out on heaps  not happy about that!:-0.6694\n",
      "\n"
     ]
    },
    {
     "data": {
      "text/html": [
       "<text style=color:green>send me the dvd cos i have <text style=color:blue><i>[escape]</i></text> out on heaps <text style=color:blue><i>[glad]</i></text> about that !: 0.6114</text>"
      ],
      "text/plain": [
       "<IPython.core.display.HTML object>"
      ]
     },
     "metadata": {},
     "output_type": "display_data"
    },
    {
     "data": {
      "text/html": [
       "<text style=color:green>send me the dvd cos i have <text style=color:blue><i>[escape]</i></text> out on heaps <text style=color:blue><i>[happy]</i></text> about that !: 0.69</text>"
      ],
      "text/plain": [
       "<IPython.core.display.HTML object>"
      ]
     },
     "metadata": {},
     "output_type": "display_data"
    },
    {
     "data": {
      "text/html": [
       "<text style=color:green>send me the dvd cos i have <text style=color:blue><i>[escape]</i></text> out on heaps <text style=color:blue><i>[unhappy]</i></text> about that !: -0.3382</text>"
      ],
      "text/plain": [
       "<IPython.core.display.HTML object>"
      ]
     },
     "metadata": {},
     "output_type": "display_data"
    },
    {
     "data": {
      "text/html": [
       "<text style=color:green>send me the dvd cos i have <text style=color:blue><i>[escape]</i></text> out on heaps <text style=color:blue><i>[happy]</i></text> about that !: 0.69</text>"
      ],
      "text/plain": [
       "<IPython.core.display.HTML object>"
      ]
     },
     "metadata": {},
     "output_type": "display_data"
    },
    {
     "data": {
      "text/html": [
       "<text style=color:green>send me the dvd cos i have <text style=color:blue><i>[missed]</i></text> out on heaps <text style=color:blue><i>[glad]</i></text> about that !: 0.2714</text>"
      ],
      "text/plain": [
       "<IPython.core.display.HTML object>"
      ]
     },
     "metadata": {},
     "output_type": "display_data"
    },
    {
     "data": {
      "text/html": [
       "<text style=color:green>send me the dvd cos i have <text style=color:blue><i>[missed]</i></text> out on heaps <text style=color:blue><i>[happy]</i></text> about that !: 0.4199</text>"
      ],
      "text/plain": [
       "<IPython.core.display.HTML object>"
      ]
     },
     "metadata": {},
     "output_type": "display_data"
    },
    {
     "data": {
      "text/html": [
       "<text style=color:green>send me the dvd cos i have <text style=color:blue><i>[missed]</i></text> out on heaps <text style=color:blue><i>[unhappy]</i></text> about that !: -0.6476</text>"
      ],
      "text/plain": [
       "<IPython.core.display.HTML object>"
      ]
     },
     "metadata": {},
     "output_type": "display_data"
    },
    {
     "data": {
      "text/html": [
       "<text style=color:green>send me the dvd cos i have <text style=color:blue><i>[missed]</i></text> out on heaps <text style=color:blue><i>[happy]</i></text> about that !: 0.4199</text>"
      ],
      "text/plain": [
       "<IPython.core.display.HTML object>"
      ]
     },
     "metadata": {},
     "output_type": "display_data"
    },
    {
     "data": {
      "text/html": [
       "<text style=color:green>send me the dvd cos i have <text style=color:blue><i>[lost]</i></text> out on heaps <text style=color:blue><i>[glad]</i></text> about that !: 0.2481</text>"
      ],
      "text/plain": [
       "<IPython.core.display.HTML object>"
      ]
     },
     "metadata": {},
     "output_type": "display_data"
    },
    {
     "data": {
      "text/html": [
       "<text style=color:green>send me the dvd cos i have <text style=color:blue><i>[lost]</i></text> out on heaps <text style=color:blue><i>[happy]</i></text> about that !: 0.4003</text>"
      ],
      "text/plain": [
       "<IPython.core.display.HTML object>"
      ]
     },
     "metadata": {},
     "output_type": "display_data"
    },
    {
     "data": {
      "text/html": [
       "<text style=color:green>send me the dvd cos i have <text style=color:blue><i>[lost]</i></text> out on heaps <text style=color:blue><i>[unhappy]</i></text> about that !: -0.6588</text>"
      ],
      "text/plain": [
       "<IPython.core.display.HTML object>"
      ]
     },
     "metadata": {},
     "output_type": "display_data"
    },
    {
     "data": {
      "text/html": [
       "<text style=color:green>send me the dvd cos i have <text style=color:blue><i>[lost]</i></text> out on heaps <text style=color:blue><i>[happy]</i></text> about that !: 0.4003</text>"
      ],
      "text/plain": [
       "<IPython.core.display.HTML object>"
      ]
     },
     "metadata": {},
     "output_type": "display_data"
    },
    {
     "data": {
      "text/html": [
       "<text style=color:green>send me the dvd cos i have <text style=color:blue><i>[drop]</i></text> out on heaps <text style=color:blue><i>[glad]</i></text> about that !: 0.2942</text>"
      ],
      "text/plain": [
       "<IPython.core.display.HTML object>"
      ]
     },
     "metadata": {},
     "output_type": "display_data"
    },
    {
     "data": {
      "text/html": [
       "<text style=color:green>send me the dvd cos i have <text style=color:blue><i>[drop]</i></text> out on heaps <text style=color:blue><i>[happy]</i></text> about that !: 0.4389</text>"
      ],
      "text/plain": [
       "<IPython.core.display.HTML object>"
      ]
     },
     "metadata": {},
     "output_type": "display_data"
    },
    {
     "data": {
      "text/html": [
       "<text style=color:green>send me the dvd cos i have <text style=color:blue><i>[drop]</i></text> out on heaps <text style=color:blue><i>[unhappy]</i></text> about that !: -0.636</text>"
      ],
      "text/plain": [
       "<IPython.core.display.HTML object>"
      ]
     },
     "metadata": {},
     "output_type": "display_data"
    },
    {
     "data": {
      "text/html": [
       "<text style=color:green>send me the dvd cos i have <text style=color:blue><i>[drop]</i></text> out on heaps <text style=color:blue><i>[happy]</i></text> about that !: 0.4389</text>"
      ],
      "text/plain": [
       "<IPython.core.display.HTML object>"
      ]
     },
     "metadata": {},
     "output_type": "display_data"
    },
    {
     "data": {
      "text/html": [
       "<text style=color:green>send me the dvd cos i have <text style=color:blue><i>[lose]</i></text> out on heaps <text style=color:blue><i>[glad]</i></text> about that !: 0.1511</text>"
      ],
      "text/plain": [
       "<IPython.core.display.HTML object>"
      ]
     },
     "metadata": {},
     "output_type": "display_data"
    },
    {
     "data": {
      "text/html": [
       "<text style=color:green>send me the dvd cos i have <text style=color:blue><i>[lose]</i></text> out on heaps <text style=color:blue><i>[happy]</i></text> about that !: 0.3164</text>"
      ],
      "text/plain": [
       "<IPython.core.display.HTML object>"
      ]
     },
     "metadata": {},
     "output_type": "display_data"
    },
    {
     "data": {
      "text/html": [
       "<text style=color:red>send me the dvd cos i have <text style=color:blue><i>[lose]</i></text> out on heaps <text style=color:blue><i>[unhappy]</i></text> about that !: -0.6996</text>"
      ],
      "text/plain": [
       "<IPython.core.display.HTML object>"
      ]
     },
     "metadata": {},
     "output_type": "display_data"
    },
    {
     "data": {
      "text/html": [
       "<text style=color:green>send me the dvd cos i have <text style=color:blue><i>[lose]</i></text> out on heaps <text style=color:blue><i>[happy]</i></text> about that !: 0.3164</text>"
      ],
      "text/plain": [
       "<IPython.core.display.HTML object>"
      ]
     },
     "metadata": {},
     "output_type": "display_data"
    },
    {
     "data": {
      "text/html": [
       "<text style=color:green>send me the dvd cos i have <text style=color:blue><i>[missed]</i></text> out on heaps <text style=color:blue><i>[glad]</i></text> about that !: 0.2714</text>"
      ],
      "text/plain": [
       "<IPython.core.display.HTML object>"
      ]
     },
     "metadata": {},
     "output_type": "display_data"
    },
    {
     "data": {
      "text/html": [
       "<text style=color:green>send me the dvd cos i have <text style=color:blue><i>[missed]</i></text> out on heaps <text style=color:blue><i>[happy]</i></text> about that !: 0.4199</text>"
      ],
      "text/plain": [
       "<IPython.core.display.HTML object>"
      ]
     },
     "metadata": {},
     "output_type": "display_data"
    },
    {
     "data": {
      "text/html": [
       "<text style=color:green>send me the dvd cos i have <text style=color:blue><i>[missed]</i></text> out on heaps <text style=color:blue><i>[unhappy]</i></text> about that !: -0.6476</text>"
      ],
      "text/plain": [
       "<IPython.core.display.HTML object>"
      ]
     },
     "metadata": {},
     "output_type": "display_data"
    },
    {
     "data": {
      "text/html": [
       "<text style=color:green>send me the dvd cos i have <text style=color:blue><i>[missed]</i></text> out on heaps <text style=color:blue><i>[happy]</i></text> about that !: 0.4199</text>"
      ],
      "text/plain": [
       "<IPython.core.display.HTML object>"
      ]
     },
     "metadata": {},
     "output_type": "display_data"
    },
    {
     "data": {
      "text/html": [
       "<text style=color:black>Actual Sentence:  send me the dvd cos i have missed out on heaps  not happy about that! :-0.6694</text>"
      ],
      "text/plain": [
       "<IPython.core.display.HTML object>"
      ]
     },
     "metadata": {},
     "output_type": "display_data"
    },
    {
     "data": {
      "text/html": [
       "<text style=color:red>Worst Sentence: send me the dvd cos i have <text style=color:blue><i>[lose]</i></text> out on heaps <text style=color:blue><i>[unhappy]</i></text> about that ! : -0.6996</text>"
      ],
      "text/plain": [
       "<IPython.core.display.HTML object>"
      ]
     },
     "metadata": {},
     "output_type": "display_data"
    },
    {
     "data": {
      "text/html": [
       "<text style=color:green>Best Sentence: send me the dvd cos i have <text style=color:blue><i>[escape]</i></text> out on heaps <text style=color:blue><i>[happy]</i></text> about that ! : 0.69</text>"
      ],
      "text/plain": [
       "<IPython.core.display.HTML object>"
      ]
     },
     "metadata": {},
     "output_type": "display_data"
    },
    {
     "name": "stdout",
     "output_type": "stream",
     "text": [
      "\n",
      "\n",
      " Tweet:  i am so sorry you are having to go through this. again.  therapyfail:-0.1513\n",
      "\n"
     ]
    },
    {
     "data": {
      "text/html": [
       "<text style=color:red>i am so <text style=color:blue><i>[bad]</i></text> you are having to go through this . again . therapyfail: -0.5849</text>"
      ],
      "text/plain": [
       "<IPython.core.display.HTML object>"
      ]
     },
     "metadata": {},
     "output_type": "display_data"
    },
    {
     "data": {
      "text/html": [
       "<text style=color:red>i am so <text style=color:blue><i>[regretful]</i></text> you are having to go through this . again . therapyfail: -0.4927</text>"
      ],
      "text/plain": [
       "<IPython.core.display.HTML object>"
      ]
     },
     "metadata": {},
     "output_type": "display_data"
    },
    {
     "data": {
      "text/html": [
       "<text style=color:red>i am so <text style=color:blue><i>[dismal]</i></text> you are having to go through this . again . therapyfail: -0.6478</text>"
      ],
      "text/plain": [
       "<IPython.core.display.HTML object>"
      ]
     },
     "metadata": {},
     "output_type": "display_data"
    },
    {
     "data": {
      "text/html": [
       "<text style=color:red>i am so <text style=color:blue><i>[dreary]</i></text> you are having to go through this . again . therapyfail: -0.4005</text>"
      ],
      "text/plain": [
       "<IPython.core.display.HTML object>"
      ]
     },
     "metadata": {},
     "output_type": "display_data"
    },
    {
     "data": {
      "text/html": [
       "<text style=color:red>i am so <text style=color:blue><i>[sad]</i></text> you are having to go through this . again . therapyfail: -0.5256</text>"
      ],
      "text/plain": [
       "<IPython.core.display.HTML object>"
      ]
     },
     "metadata": {},
     "output_type": "display_data"
    },
    {
     "data": {
      "text/html": [
       "<text style=color:red>i am so <text style=color:blue><i>[pitiful]</i></text> you are having to go through this . again . therapyfail: -0.5413</text>"
      ],
      "text/plain": [
       "<IPython.core.display.HTML object>"
      ]
     },
     "metadata": {},
     "output_type": "display_data"
    },
    {
     "data": {
      "text/html": [
       "<text style=color:red>i am so <text style=color:blue><i>[lamentable]</i></text> you are having to go through this . again . therapyfail: -0.4201</text>"
      ],
      "text/plain": [
       "<IPython.core.display.HTML object>"
      ]
     },
     "metadata": {},
     "output_type": "display_data"
    },
    {
     "data": {
      "text/html": [
       "<text style=color:red>i am so <text style=color:blue><i>[grim]</i></text> you are having to go through this . again . therapyfail: -0.6115</text>"
      ],
      "text/plain": [
       "<IPython.core.display.HTML object>"
      ]
     },
     "metadata": {},
     "output_type": "display_data"
    },
    {
     "data": {
      "text/html": [
       "<text style=color:red>i am so <text style=color:blue><i>[disconsolate]</i></text> you are having to go through this . again . therapyfail: -0.5563</text>"
      ],
      "text/plain": [
       "<IPython.core.display.HTML object>"
      ]
     },
     "metadata": {},
     "output_type": "display_data"
    },
    {
     "data": {
      "text/html": [
       "<text style=color:black>i am so <text style=color:blue><i>[sorry]</i></text> you are having to go through this . again . therapyfail: -0.1513</text>"
      ],
      "text/plain": [
       "<IPython.core.display.HTML object>"
      ]
     },
     "metadata": {},
     "output_type": "display_data"
    },
    {
     "data": {
      "text/html": [
       "<text style=color:red>i am so <text style=color:blue><i>[gloomy]</i></text> you are having to go through this . again . therapyfail: -0.2247</text>"
      ],
      "text/plain": [
       "<IPython.core.display.HTML object>"
      ]
     },
     "metadata": {},
     "output_type": "display_data"
    },
    {
     "data": {
      "text/html": [
       "<text style=color:black>i am so <text style=color:blue><i>[sorry]</i></text> you are having to go through this . again . therapyfail: -0.1513</text>"
      ],
      "text/plain": [
       "<IPython.core.display.HTML object>"
      ]
     },
     "metadata": {},
     "output_type": "display_data"
    },
    {
     "data": {
      "text/html": [
       "<text style=color:black>Actual Sentence:  i am so sorry you are having to go through this. again.  therapyfail :-0.1513</text>"
      ],
      "text/plain": [
       "<IPython.core.display.HTML object>"
      ]
     },
     "metadata": {},
     "output_type": "display_data"
    },
    {
     "data": {
      "text/html": [
       "<text style=color:red>Worst Sentence: i am so <text style=color:blue><i>[dismal]</i></text> you are having to go through this . again . therapyfail : -0.6478</text>"
      ],
      "text/plain": [
       "<IPython.core.display.HTML object>"
      ]
     },
     "metadata": {},
     "output_type": "display_data"
    },
    {
     "data": {
      "text/html": [
       "<text style=color:green>Best Sentence: i am so <text style=color:blue><i>[sorry]</i></text> you are having to go through this . again . therapyfail : -0.1513</text>"
      ],
      "text/plain": [
       "<IPython.core.display.HTML object>"
      ]
     },
     "metadata": {},
     "output_type": "display_data"
    },
    {
     "name": "stdout",
     "output_type": "stream",
     "text": [
      "\n",
      "\n",
      " Tweet: i am not still up i swear. why do i keep losing. gaining. losing. gaining. tweeps  so heart wrenching.:0.1401\n",
      "\n",
      "FOUND REPEATED WORD losing\n",
      "FOUND REPEATED WORD gaining\n"
     ]
    },
    {
     "data": {
      "text/html": [
       "<text style=color:black>Actual Sentence: i am not still up i swear. why do i keep losing. gaining. losing. gaining. tweeps  so heart wrenching. :0.1401</text>"
      ],
      "text/plain": [
       "<IPython.core.display.HTML object>"
      ]
     },
     "metadata": {},
     "output_type": "display_data"
    },
    {
     "name": "stdout",
     "output_type": "stream",
     "text": [
      "\n",
      "\n",
      " Tweet: today i realized i am too good at hiding things even i can not find it :0.1779\n",
      "\n"
     ]
    },
    {
     "data": {
      "text/html": [
       "<text style=color:black>Actual Sentence: today i realized i am too good at hiding things even i can not find it  :0.1779</text>"
      ],
      "text/plain": [
       "<IPython.core.display.HTML object>"
      ]
     },
     "metadata": {},
     "output_type": "display_data"
    },
    {
     "name": "stdout",
     "output_type": "stream",
     "text": [
      "\n",
      "\n",
      " Tweet: staying at a friends house...house sitting neighbors are so loudhaving a party :0.7251\n",
      "\n"
     ]
    },
    {
     "data": {
      "text/html": [
       "<text style=color:black>staying at a friends house ... house sitting neighbors are so loudhaving a <text style=color:blue><i>[party]</i></text>: 0.7251</text>"
      ],
      "text/plain": [
       "<IPython.core.display.HTML object>"
      ]
     },
     "metadata": {},
     "output_type": "display_data"
    },
    {
     "data": {
      "text/html": [
       "<text style=color:black>staying at a friends house ... house sitting neighbors are so loudhaving a <text style=color:blue><i>[party]</i></text>: 0.7251</text>"
      ],
      "text/plain": [
       "<IPython.core.display.HTML object>"
      ]
     },
     "metadata": {},
     "output_type": "display_data"
    },
    {
     "data": {
      "text/html": [
       "<text style=color:black>Actual Sentence: staying at a friends house...house sitting neighbors are so loudhaving a party  :0.7251</text>"
      ],
      "text/plain": [
       "<IPython.core.display.HTML object>"
      ]
     },
     "metadata": {},
     "output_type": "display_data"
    },
    {
     "data": {
      "text/html": [
       "<text style=color:green>Best Sentence: staying at a friends house ... house sitting neighbors are so loudhaving a <text style=color:blue><i>[party]</i></text> : 0.7251</text>"
      ],
      "text/plain": [
       "<IPython.core.display.HTML object>"
      ]
     },
     "metadata": {},
     "output_type": "display_data"
    },
    {
     "name": "stdout",
     "output_type": "stream",
     "text": [
      "\n",
      "\n",
      " Tweet:  danny im upset that i wasnt here to watch the live chat  i was in a car. for 3 hours on a trip im soooo upset!!:-0.6988\n",
      "\n",
      "FOUND REPEATED WORD upset\n"
     ]
    },
    {
     "data": {
      "text/html": [
       "<text style=color:red>danny im <text style=color:blue><i>[disturb]</i></text> that i wasnt here to watch the live chat i was in a car . for 3 hours on a trip im soooo <text style=color:blue><i>[disturb]</i></text> ! !: -0.717</text>"
      ],
      "text/plain": [
       "<IPython.core.display.HTML object>"
      ]
     },
     "metadata": {},
     "output_type": "display_data"
    },
    {
     "data": {
      "text/html": [
       "<text style=color:red>danny im <text style=color:blue><i>[disturb]</i></text> that i wasnt here to watch the live chat i was in a car . for 3 hours on a trip im soooo <text style=color:blue><i>[mad]</i></text> ! !: -0.7568</text>"
      ],
      "text/plain": [
       "<IPython.core.display.HTML object>"
      ]
     },
     "metadata": {},
     "output_type": "display_data"
    },
    {
     "data": {
      "text/html": [
       "<text style=color:red>danny im <text style=color:blue><i>[disturb]</i></text> that i wasnt here to watch the live chat i was in a car . for 3 hours on a trip im soooo <text style=color:blue><i>[disturbance]</i></text> ! !: -0.7081</text>"
      ],
      "text/plain": [
       "<IPython.core.display.HTML object>"
      ]
     },
     "metadata": {},
     "output_type": "display_data"
    },
    {
     "data": {
      "text/html": [
       "<text style=color:red>danny im <text style=color:blue><i>[disturb]</i></text> that i wasnt here to watch the live chat i was in a car . for 3 hours on a trip im soooo <text style=color:blue><i>[disorder]</i></text> ! !: -0.717</text>"
      ],
      "text/plain": [
       "<IPython.core.display.HTML object>"
      ]
     },
     "metadata": {},
     "output_type": "display_data"
    },
    {
     "data": {
      "text/html": [
       "<text style=color:green>danny im <text style=color:blue><i>[disturb]</i></text> that i wasnt here to watch the live chat i was in a car . for 3 hours on a trip im soooo <text style=color:blue><i>[worried]</i></text> ! !: -0.6688</text>"
      ],
      "text/plain": [
       "<IPython.core.display.HTML object>"
      ]
     },
     "metadata": {},
     "output_type": "display_data"
    },
    {
     "data": {
      "text/html": [
       "<text style=color:red>danny im <text style=color:blue><i>[disturb]</i></text> that i wasnt here to watch the live chat i was in a car . for 3 hours on a trip im soooo <text style=color:blue><i>[broken]</i></text> ! !: -0.7494</text>"
      ],
      "text/plain": [
       "<IPython.core.display.HTML object>"
      ]
     },
     "metadata": {},
     "output_type": "display_data"
    },
    {
     "data": {
      "text/html": [
       "<text style=color:red>danny im <text style=color:blue><i>[disturb]</i></text> that i wasnt here to watch the live chat i was in a car . for 3 hours on a trip im soooo <text style=color:blue><i>[disappointed]</i></text> ! !: -0.7494</text>"
      ],
      "text/plain": [
       "<IPython.core.display.HTML object>"
      ]
     },
     "metadata": {},
     "output_type": "display_data"
    },
    {
     "data": {
      "text/html": [
       "<text style=color:red>danny im <text style=color:blue><i>[disturb]</i></text> that i wasnt here to watch the live chat i was in a car . for 3 hours on a trip im soooo <text style=color:blue><i>[pissed]</i></text> ! !: -0.8168</text>"
      ],
      "text/plain": [
       "<IPython.core.display.HTML object>"
      ]
     },
     "metadata": {},
     "output_type": "display_data"
    },
    {
     "data": {
      "text/html": [
       "<text style=color:green>danny im <text style=color:blue><i>[disturb]</i></text> that i wasnt here to watch the live chat i was in a car . for 3 hours on a trip im soooo <text style=color:blue><i>[confused]</i></text> ! !: -0.6792</text>"
      ],
      "text/plain": [
       "<IPython.core.display.HTML object>"
      ]
     },
     "metadata": {},
     "output_type": "display_data"
    },
    {
     "data": {
      "text/html": [
       "<text style=color:red>danny im <text style=color:blue><i>[disturb]</i></text> that i wasnt here to watch the live chat i was in a car . for 3 hours on a trip im soooo <text style=color:blue><i>[annoyed]</i></text> ! !: -0.7081</text>"
      ],
      "text/plain": [
       "<IPython.core.display.HTML object>"
      ]
     },
     "metadata": {},
     "output_type": "display_data"
    },
    {
     "data": {
      "text/html": [
       "<text style=color:red>danny im <text style=color:blue><i>[disturb]</i></text> that i wasnt here to watch the live chat i was in a car . for 3 hours on a trip im soooo <text style=color:blue><i>[trouble]</i></text> ! !: -0.717</text>"
      ],
      "text/plain": [
       "<IPython.core.display.HTML object>"
      ]
     },
     "metadata": {},
     "output_type": "display_data"
    },
    {
     "data": {
      "text/html": [
       "<text style=color:red>danny im <text style=color:blue><i>[disturb]</i></text> that i wasnt here to watch the live chat i was in a car . for 3 hours on a trip im soooo <text style=color:blue><i>[disturbed]</i></text> ! !: -0.7081</text>"
      ],
      "text/plain": [
       "<IPython.core.display.HTML object>"
      ]
     },
     "metadata": {},
     "output_type": "display_data"
    },
    {
     "data": {
      "text/html": [
       "<text style=color:red>danny im <text style=color:blue><i>[disturb]</i></text> that i wasnt here to watch the live chat i was in a car . for 3 hours on a trip im soooo <text style=color:blue><i>[distressed]</i></text> ! !: -0.7256</text>"
      ],
      "text/plain": [
       "<IPython.core.display.HTML object>"
      ]
     },
     "metadata": {},
     "output_type": "display_data"
    },
    {
     "data": {
      "text/html": [
       "<text style=color:red>danny im <text style=color:blue><i>[disturb]</i></text> that i wasnt here to watch the live chat i was in a car . for 3 hours on a trip im soooo <text style=color:blue><i>[upset]</i></text> ! !: -0.7081</text>"
      ],
      "text/plain": [
       "<IPython.core.display.HTML object>"
      ]
     },
     "metadata": {},
     "output_type": "display_data"
    },
    {
     "data": {
      "text/html": [
       "<text style=color:green>danny im <text style=color:blue><i>[disturb]</i></text> that i wasnt here to watch the live chat i was in a car . for 3 hours on a trip im soooo <text style=color:blue><i>[surprised]</i></text> ! !: -0.3365</text>"
      ],
      "text/plain": [
       "<IPython.core.display.HTML object>"
      ]
     },
     "metadata": {},
     "output_type": "display_data"
    },
    {
     "data": {
      "text/html": [
       "<text style=color:red>danny im <text style=color:blue><i>[disturb]</i></text> that i wasnt here to watch the live chat i was in a car . for 3 hours on a trip im soooo <text style=color:blue><i>[upset]</i></text> ! !: -0.7081</text>"
      ],
      "text/plain": [
       "<IPython.core.display.HTML object>"
      ]
     },
     "metadata": {},
     "output_type": "display_data"
    },
    {
     "data": {
      "text/html": [
       "<text style=color:red>danny im <text style=color:blue><i>[mad]</i></text> that i wasnt here to watch the live chat i was in a car . for 3 hours on a trip im soooo <text style=color:blue><i>[disturb]</i></text> ! !: -0.7568</text>"
      ],
      "text/plain": [
       "<IPython.core.display.HTML object>"
      ]
     },
     "metadata": {},
     "output_type": "display_data"
    },
    {
     "data": {
      "text/html": [
       "<text style=color:red>danny im <text style=color:blue><i>[mad]</i></text> that i wasnt here to watch the live chat i was in a car . for 3 hours on a trip im soooo <text style=color:blue><i>[mad]</i></text> ! !: -0.7896</text>"
      ],
      "text/plain": [
       "<IPython.core.display.HTML object>"
      ]
     },
     "metadata": {},
     "output_type": "display_data"
    },
    {
     "data": {
      "text/html": [
       "<text style=color:red>danny im <text style=color:blue><i>[mad]</i></text> that i wasnt here to watch the live chat i was in a car . for 3 hours on a trip im soooo <text style=color:blue><i>[disturbance]</i></text> ! !: -0.7494</text>"
      ],
      "text/plain": [
       "<IPython.core.display.HTML object>"
      ]
     },
     "metadata": {},
     "output_type": "display_data"
    },
    {
     "data": {
      "text/html": [
       "<text style=color:red>danny im <text style=color:blue><i>[mad]</i></text> that i wasnt here to watch the live chat i was in a car . for 3 hours on a trip im soooo <text style=color:blue><i>[disorder]</i></text> ! !: -0.7568</text>"
      ],
      "text/plain": [
       "<IPython.core.display.HTML object>"
      ]
     },
     "metadata": {},
     "output_type": "display_data"
    },
    {
     "data": {
      "text/html": [
       "<text style=color:red>danny im <text style=color:blue><i>[mad]</i></text> that i wasnt here to watch the live chat i was in a car . for 3 hours on a trip im soooo <text style=color:blue><i>[worried]</i></text> ! !: -0.717</text>"
      ],
      "text/plain": [
       "<IPython.core.display.HTML object>"
      ]
     },
     "metadata": {},
     "output_type": "display_data"
    },
    {
     "data": {
      "text/html": [
       "<text style=color:red>danny im <text style=color:blue><i>[mad]</i></text> that i wasnt here to watch the live chat i was in a car . for 3 hours on a trip im soooo <text style=color:blue><i>[broken]</i></text> ! !: -0.7835</text>"
      ],
      "text/plain": [
       "<IPython.core.display.HTML object>"
      ]
     },
     "metadata": {},
     "output_type": "display_data"
    },
    {
     "data": {
      "text/html": [
       "<text style=color:red>danny im <text style=color:blue><i>[mad]</i></text> that i wasnt here to watch the live chat i was in a car . for 3 hours on a trip im soooo <text style=color:blue><i>[disappointed]</i></text> ! !: -0.7835</text>"
      ],
      "text/plain": [
       "<IPython.core.display.HTML object>"
      ]
     },
     "metadata": {},
     "output_type": "display_data"
    },
    {
     "data": {
      "text/html": [
       "<text style=color:red>danny im <text style=color:blue><i>[mad]</i></text> that i wasnt here to watch the live chat i was in a car . for 3 hours on a trip im soooo <text style=color:blue><i>[pissed]</i></text> ! !: -0.8395</text>"
      ],
      "text/plain": [
       "<IPython.core.display.HTML object>"
      ]
     },
     "metadata": {},
     "output_type": "display_data"
    },
    {
     "data": {
      "text/html": [
       "<text style=color:red>danny im <text style=color:blue><i>[mad]</i></text> that i wasnt here to watch the live chat i was in a car . for 3 hours on a trip im soooo <text style=color:blue><i>[confused]</i></text> ! !: -0.7256</text>"
      ],
      "text/plain": [
       "<IPython.core.display.HTML object>"
      ]
     },
     "metadata": {},
     "output_type": "display_data"
    },
    {
     "data": {
      "text/html": [
       "<text style=color:red>danny im <text style=color:blue><i>[mad]</i></text> that i wasnt here to watch the live chat i was in a car . for 3 hours on a trip im soooo <text style=color:blue><i>[annoyed]</i></text> ! !: -0.7494</text>"
      ],
      "text/plain": [
       "<IPython.core.display.HTML object>"
      ]
     },
     "metadata": {},
     "output_type": "display_data"
    },
    {
     "data": {
      "text/html": [
       "<text style=color:red>danny im <text style=color:blue><i>[mad]</i></text> that i wasnt here to watch the live chat i was in a car . for 3 hours on a trip im soooo <text style=color:blue><i>[trouble]</i></text> ! !: -0.7568</text>"
      ],
      "text/plain": [
       "<IPython.core.display.HTML object>"
      ]
     },
     "metadata": {},
     "output_type": "display_data"
    },
    {
     "data": {
      "text/html": [
       "<text style=color:red>danny im <text style=color:blue><i>[mad]</i></text> that i wasnt here to watch the live chat i was in a car . for 3 hours on a trip im soooo <text style=color:blue><i>[disturbed]</i></text> ! !: -0.7494</text>"
      ],
      "text/plain": [
       "<IPython.core.display.HTML object>"
      ]
     },
     "metadata": {},
     "output_type": "display_data"
    },
    {
     "data": {
      "text/html": [
       "<text style=color:red>danny im <text style=color:blue><i>[mad]</i></text> that i wasnt here to watch the live chat i was in a car . for 3 hours on a trip im soooo <text style=color:blue><i>[distressed]</i></text> ! !: -0.7639</text>"
      ],
      "text/plain": [
       "<IPython.core.display.HTML object>"
      ]
     },
     "metadata": {},
     "output_type": "display_data"
    },
    {
     "data": {
      "text/html": [
       "<text style=color:red>danny im <text style=color:blue><i>[mad]</i></text> that i wasnt here to watch the live chat i was in a car . for 3 hours on a trip im soooo <text style=color:blue><i>[upset]</i></text> ! !: -0.7494</text>"
      ],
      "text/plain": [
       "<IPython.core.display.HTML object>"
      ]
     },
     "metadata": {},
     "output_type": "display_data"
    },
    {
     "data": {
      "text/html": [
       "<text style=color:green>danny im <text style=color:blue><i>[mad]</i></text> that i wasnt here to watch the live chat i was in a car . for 3 hours on a trip im soooo <text style=color:blue><i>[surprised]</i></text> ! !: -0.4374</text>"
      ],
      "text/plain": [
       "<IPython.core.display.HTML object>"
      ]
     },
     "metadata": {},
     "output_type": "display_data"
    },
    {
     "data": {
      "text/html": [
       "<text style=color:red>danny im <text style=color:blue><i>[mad]</i></text> that i wasnt here to watch the live chat i was in a car . for 3 hours on a trip im soooo <text style=color:blue><i>[upset]</i></text> ! !: -0.7494</text>"
      ],
      "text/plain": [
       "<IPython.core.display.HTML object>"
      ]
     },
     "metadata": {},
     "output_type": "display_data"
    },
    {
     "data": {
      "text/html": [
       "<text style=color:red>danny im <text style=color:blue><i>[disturbance]</i></text> that i wasnt here to watch the live chat i was in a car . for 3 hours on a trip im soooo <text style=color:blue><i>[disturb]</i></text> ! !: -0.7081</text>"
      ],
      "text/plain": [
       "<IPython.core.display.HTML object>"
      ]
     },
     "metadata": {},
     "output_type": "display_data"
    },
    {
     "data": {
      "text/html": [
       "<text style=color:red>danny im <text style=color:blue><i>[disturbance]</i></text> that i wasnt here to watch the live chat i was in a car . for 3 hours on a trip im soooo <text style=color:blue><i>[mad]</i></text> ! !: -0.7494</text>"
      ],
      "text/plain": [
       "<IPython.core.display.HTML object>"
      ]
     },
     "metadata": {},
     "output_type": "display_data"
    },
    {
     "data": {
      "text/html": [
       "<text style=color:black>danny im <text style=color:blue><i>[disturbance]</i></text> that i wasnt here to watch the live chat i was in a car . for 3 hours on a trip im soooo <text style=color:blue><i>[disturbance]</i></text> ! !: -0.6988</text>"
      ],
      "text/plain": [
       "<IPython.core.display.HTML object>"
      ]
     },
     "metadata": {},
     "output_type": "display_data"
    },
    {
     "data": {
      "text/html": [
       "<text style=color:red>danny im <text style=color:blue><i>[disturbance]</i></text> that i wasnt here to watch the live chat i was in a car . for 3 hours on a trip im soooo <text style=color:blue><i>[disorder]</i></text> ! !: -0.7081</text>"
      ],
      "text/plain": [
       "<IPython.core.display.HTML object>"
      ]
     },
     "metadata": {},
     "output_type": "display_data"
    },
    {
     "data": {
      "text/html": [
       "<text style=color:green>danny im <text style=color:blue><i>[disturbance]</i></text> that i wasnt here to watch the live chat i was in a car . for 3 hours on a trip im soooo <text style=color:blue><i>[worried]</i></text> ! !: -0.658</text>"
      ],
      "text/plain": [
       "<IPython.core.display.HTML object>"
      ]
     },
     "metadata": {},
     "output_type": "display_data"
    },
    {
     "data": {
      "text/html": [
       "<text style=color:red>danny im <text style=color:blue><i>[disturbance]</i></text> that i wasnt here to watch the live chat i was in a car . for 3 hours on a trip im soooo <text style=color:blue><i>[broken]</i></text> ! !: -0.7418</text>"
      ],
      "text/plain": [
       "<IPython.core.display.HTML object>"
      ]
     },
     "metadata": {},
     "output_type": "display_data"
    },
    {
     "data": {
      "text/html": [
       "<text style=color:red>danny im <text style=color:blue><i>[disturbance]</i></text> that i wasnt here to watch the live chat i was in a car . for 3 hours on a trip im soooo <text style=color:blue><i>[disappointed]</i></text> ! !: -0.7418</text>"
      ],
      "text/plain": [
       "<IPython.core.display.HTML object>"
      ]
     },
     "metadata": {},
     "output_type": "display_data"
    },
    {
     "data": {
      "text/html": [
       "<text style=color:red>danny im <text style=color:blue><i>[disturbance]</i></text> that i wasnt here to watch the live chat i was in a car . for 3 hours on a trip im soooo <text style=color:blue><i>[pissed]</i></text> ! !: -0.8118</text>"
      ],
      "text/plain": [
       "<IPython.core.display.HTML object>"
      ]
     },
     "metadata": {},
     "output_type": "display_data"
    },
    {
     "data": {
      "text/html": [
       "<text style=color:green>danny im <text style=color:blue><i>[disturbance]</i></text> that i wasnt here to watch the live chat i was in a car . for 3 hours on a trip im soooo <text style=color:blue><i>[confused]</i></text> ! !: -0.6688</text>"
      ],
      "text/plain": [
       "<IPython.core.display.HTML object>"
      ]
     },
     "metadata": {},
     "output_type": "display_data"
    },
    {
     "data": {
      "text/html": [
       "<text style=color:black>danny im <text style=color:blue><i>[disturbance]</i></text> that i wasnt here to watch the live chat i was in a car . for 3 hours on a trip im soooo <text style=color:blue><i>[annoyed]</i></text> ! !: -0.6988</text>"
      ],
      "text/plain": [
       "<IPython.core.display.HTML object>"
      ]
     },
     "metadata": {},
     "output_type": "display_data"
    },
    {
     "data": {
      "text/html": [
       "<text style=color:red>danny im <text style=color:blue><i>[disturbance]</i></text> that i wasnt here to watch the live chat i was in a car . for 3 hours on a trip im soooo <text style=color:blue><i>[trouble]</i></text> ! !: -0.7081</text>"
      ],
      "text/plain": [
       "<IPython.core.display.HTML object>"
      ]
     },
     "metadata": {},
     "output_type": "display_data"
    },
    {
     "data": {
      "text/html": [
       "<text style=color:black>danny im <text style=color:blue><i>[disturbance]</i></text> that i wasnt here to watch the live chat i was in a car . for 3 hours on a trip im soooo <text style=color:blue><i>[disturbed]</i></text> ! !: -0.6988</text>"
      ],
      "text/plain": [
       "<IPython.core.display.HTML object>"
      ]
     },
     "metadata": {},
     "output_type": "display_data"
    },
    {
     "data": {
      "text/html": [
       "<text style=color:red>danny im <text style=color:blue><i>[disturbance]</i></text> that i wasnt here to watch the live chat i was in a car . for 3 hours on a trip im soooo <text style=color:blue><i>[distressed]</i></text> ! !: -0.717</text>"
      ],
      "text/plain": [
       "<IPython.core.display.HTML object>"
      ]
     },
     "metadata": {},
     "output_type": "display_data"
    },
    {
     "data": {
      "text/html": [
       "<text style=color:black>danny im <text style=color:blue><i>[disturbance]</i></text> that i wasnt here to watch the live chat i was in a car . for 3 hours on a trip im soooo <text style=color:blue><i>[upset]</i></text> ! !: -0.6988</text>"
      ],
      "text/plain": [
       "<IPython.core.display.HTML object>"
      ]
     },
     "metadata": {},
     "output_type": "display_data"
    },
    {
     "data": {
      "text/html": [
       "<text style=color:green>danny im <text style=color:blue><i>[disturbance]</i></text> that i wasnt here to watch the live chat i was in a car . for 3 hours on a trip im soooo <text style=color:blue><i>[surprised]</i></text> ! !: -0.3147</text>"
      ],
      "text/plain": [
       "<IPython.core.display.HTML object>"
      ]
     },
     "metadata": {},
     "output_type": "display_data"
    },
    {
     "data": {
      "text/html": [
       "<text style=color:black>danny im <text style=color:blue><i>[disturbance]</i></text> that i wasnt here to watch the live chat i was in a car . for 3 hours on a trip im soooo <text style=color:blue><i>[upset]</i></text> ! !: -0.6988</text>"
      ],
      "text/plain": [
       "<IPython.core.display.HTML object>"
      ]
     },
     "metadata": {},
     "output_type": "display_data"
    },
    {
     "data": {
      "text/html": [
       "<text style=color:red>danny im <text style=color:blue><i>[disorder]</i></text> that i wasnt here to watch the live chat i was in a car . for 3 hours on a trip im soooo <text style=color:blue><i>[disturb]</i></text> ! !: -0.717</text>"
      ],
      "text/plain": [
       "<IPython.core.display.HTML object>"
      ]
     },
     "metadata": {},
     "output_type": "display_data"
    },
    {
     "data": {
      "text/html": [
       "<text style=color:red>danny im <text style=color:blue><i>[disorder]</i></text> that i wasnt here to watch the live chat i was in a car . for 3 hours on a trip im soooo <text style=color:blue><i>[mad]</i></text> ! !: -0.7568</text>"
      ],
      "text/plain": [
       "<IPython.core.display.HTML object>"
      ]
     },
     "metadata": {},
     "output_type": "display_data"
    },
    {
     "name": "stdout",
     "output_type": "stream",
     "text": [
      "--- More options (total: 256) possible, but not printed ---\n"
     ]
    },
    {
     "data": {
      "text/html": [
       "<text style=color:black>Actual Sentence:  danny im upset that i wasnt here to watch the live chat  i was in a car. for 3 hours on a trip im soooo upset!! :-0.6988</text>"
      ],
      "text/plain": [
       "<IPython.core.display.HTML object>"
      ]
     },
     "metadata": {},
     "output_type": "display_data"
    },
    {
     "data": {
      "text/html": [
       "<text style=color:red>Worst Sentence: danny im <text style=color:blue><i>[pissed]</i></text> that i wasnt here to watch the live chat i was in a car . for 3 hours on a trip im soooo <text style=color:blue><i>[pissed]</i></text> ! ! : -0.8745</text>"
      ],
      "text/plain": [
       "<IPython.core.display.HTML object>"
      ]
     },
     "metadata": {},
     "output_type": "display_data"
    },
    {
     "data": {
      "text/html": [
       "<text style=color:green>Best Sentence: danny im <text style=color:blue><i>[surprised]</i></text> that i wasnt here to watch the live chat i was in a car . for 3 hours on a trip im soooo <text style=color:blue><i>[surprised]</i></text> ! ! : 0.5242</text>"
      ],
      "text/plain": [
       "<IPython.core.display.HTML object>"
      ]
     },
     "metadata": {},
     "output_type": "display_data"
    },
    {
     "name": "stdout",
     "output_type": "stream",
     "text": [
      "\n",
      "\n",
      " Tweet: downloading nin is new album quotthe slipquot  when the hell did this come out i am so behind the times these days :-0.6808\n",
      "\n"
     ]
    },
    {
     "data": {
      "text/html": [
       "<text style=color:black>downloading nin is new album quotthe slipquot when the <text style=color:blue><i>[hell]</i></text> did this come out i am so behind the times these days: -0.6808</text>"
      ],
      "text/plain": [
       "<IPython.core.display.HTML object>"
      ]
     },
     "metadata": {},
     "output_type": "display_data"
    },
    {
     "data": {
      "text/html": [
       "<text style=color:green>downloading nin is new album quotthe slipquot when the <text style=color:blue><i>[damn]</i></text> did this come out i am so behind the times these days: -0.4019</text>"
      ],
      "text/plain": [
       "<IPython.core.display.HTML object>"
      ]
     },
     "metadata": {},
     "output_type": "display_data"
    },
    {
     "data": {
      "text/html": [
       "<text style=color:green>downloading nin is new album quotthe slipquot when the <text style=color:blue><i>[shit]</i></text> did this come out i am so behind the times these days: 0.6124</text>"
      ],
      "text/plain": [
       "<IPython.core.display.HTML object>"
      ]
     },
     "metadata": {},
     "output_type": "display_data"
    },
    {
     "data": {
      "text/html": [
       "<text style=color:green>downloading nin is new album quotthe slipquot when the <text style=color:blue><i>[fuck]</i></text> did this come out i am so behind the times these days: -0.5423</text>"
      ],
      "text/plain": [
       "<IPython.core.display.HTML object>"
      ]
     },
     "metadata": {},
     "output_type": "display_data"
    },
    {
     "data": {
      "text/html": [
       "<text style=color:green>downloading nin is new album quotthe slipquot when the <text style=color:blue><i>[sin]</i></text> did this come out i am so behind the times these days: -0.5574</text>"
      ],
      "text/plain": [
       "<IPython.core.display.HTML object>"
      ]
     },
     "metadata": {},
     "output_type": "display_data"
    },
    {
     "data": {
      "text/html": [
       "<text style=color:black>downloading nin is new album quotthe slipquot when the <text style=color:blue><i>[hell]</i></text> did this come out i am so behind the times these days: -0.6808</text>"
      ],
      "text/plain": [
       "<IPython.core.display.HTML object>"
      ]
     },
     "metadata": {},
     "output_type": "display_data"
    },
    {
     "data": {
      "text/html": [
       "<text style=color:black>Actual Sentence: downloading nin is new album quotthe slipquot  when the hell did this come out i am so behind the times these days  :-0.6808</text>"
      ],
      "text/plain": [
       "<IPython.core.display.HTML object>"
      ]
     },
     "metadata": {},
     "output_type": "display_data"
    },
    {
     "data": {
      "text/html": [
       "<text style=color:red>Worst Sentence: downloading nin is new album quotthe slipquot when the <text style=color:blue><i>[hell]</i></text> did this come out i am so behind the times these days : -0.6808</text>"
      ],
      "text/plain": [
       "<IPython.core.display.HTML object>"
      ]
     },
     "metadata": {},
     "output_type": "display_data"
    },
    {
     "data": {
      "text/html": [
       "<text style=color:green>Best Sentence: downloading nin is new album quotthe slipquot when the <text style=color:blue><i>[shit]</i></text> did this come out i am so behind the times these days : 0.6124</text>"
      ],
      "text/plain": [
       "<IPython.core.display.HTML object>"
      ]
     },
     "metadata": {},
     "output_type": "display_data"
    },
    {
     "name": "stdout",
     "output_type": "stream",
     "text": [
      "\n",
      "\n",
      " Tweet: is watching the hill . . .and its making me sad :-0.4767\n",
      "\n"
     ]
    },
    {
     "data": {
      "text/html": [
       "<text style=color:green>is watching the hill . . .and its making me <text style=color:blue><i>[glad]</i></text>: 0.4588</text>"
      ],
      "text/plain": [
       "<IPython.core.display.HTML object>"
      ]
     },
     "metadata": {},
     "output_type": "display_data"
    },
    {
     "data": {
      "text/html": [
       "<text style=color:red>is watching the hill . . .and its making me <text style=color:blue><i>[pitiful]</i></text>: -0.4939</text>"
      ],
      "text/plain": [
       "<IPython.core.display.HTML object>"
      ]
     },
     "metadata": {},
     "output_type": "display_data"
    },
    {
     "data": {
      "text/html": [
       "<text style=color:black>is watching the hill . . .and its making me <text style=color:blue><i>[sad]</i></text>: -0.4767</text>"
      ],
      "text/plain": [
       "<IPython.core.display.HTML object>"
      ]
     },
     "metadata": {},
     "output_type": "display_data"
    },
    {
     "data": {
      "text/html": [
       "<text style=color:red>is watching the hill . . .and its making me <text style=color:blue><i>[depressed]</i></text>: -0.5106</text>"
      ],
      "text/plain": [
       "<IPython.core.display.HTML object>"
      ]
     },
     "metadata": {},
     "output_type": "display_data"
    },
    {
     "data": {
      "text/html": [
       "<text style=color:green>is watching the hill . . .and its making me <text style=color:blue><i>[lamentable]</i></text>: -0.3612</text>"
      ],
      "text/plain": [
       "<IPython.core.display.HTML object>"
      ]
     },
     "metadata": {},
     "output_type": "display_data"
    },
    {
     "data": {
      "text/html": [
       "<text style=color:green>is watching the hill . . .and its making me <text style=color:blue><i>[depressing]</i></text>: -0.3818</text>"
      ],
      "text/plain": [
       "<IPython.core.display.HTML object>"
      ]
     },
     "metadata": {},
     "output_type": "display_data"
    },
    {
     "data": {
      "text/html": [
       "<text style=color:green>is watching the hill . . .and its making me <text style=color:blue><i>[sorry]</i></text>: -0.0772</text>"
      ],
      "text/plain": [
       "<IPython.core.display.HTML object>"
      ]
     },
     "metadata": {},
     "output_type": "display_data"
    },
    {
     "data": {
      "text/html": [
       "<text style=color:green>is watching the hill . . .and its making me <text style=color:blue><i>[upset]</i></text>: -0.3818</text>"
      ],
      "text/plain": [
       "<IPython.core.display.HTML object>"
      ]
     },
     "metadata": {},
     "output_type": "display_data"
    },
    {
     "data": {
      "text/html": [
       "<text style=color:red>is watching the hill . . .and its making me <text style=color:blue><i>[sick]</i></text>: -0.5106</text>"
      ],
      "text/plain": [
       "<IPython.core.display.HTML object>"
      ]
     },
     "metadata": {},
     "output_type": "display_data"
    },
    {
     "data": {
      "text/html": [
       "<text style=color:green>is watching the hill . . .and its making me <text style=color:blue><i>[distressing]</i></text>: -0.4019</text>"
      ],
      "text/plain": [
       "<IPython.core.display.HTML object>"
      ]
     },
     "metadata": {},
     "output_type": "display_data"
    },
    {
     "data": {
      "text/html": [
       "<text style=color:black>is watching the hill . . .and its making me <text style=color:blue><i>[sad]</i></text>: -0.4767</text>"
      ],
      "text/plain": [
       "<IPython.core.display.HTML object>"
      ]
     },
     "metadata": {},
     "output_type": "display_data"
    },
    {
     "data": {
      "text/html": [
       "<text style=color:black>Actual Sentence: is watching the hill . . .and its making me sad  :-0.4767</text>"
      ],
      "text/plain": [
       "<IPython.core.display.HTML object>"
      ]
     },
     "metadata": {},
     "output_type": "display_data"
    },
    {
     "data": {
      "text/html": [
       "<text style=color:red>Worst Sentence: is watching the hill . . .and its making me <text style=color:blue><i>[depressed]</i></text> : -0.5106</text>"
      ],
      "text/plain": [
       "<IPython.core.display.HTML object>"
      ]
     },
     "metadata": {},
     "output_type": "display_data"
    },
    {
     "data": {
      "text/html": [
       "<text style=color:green>Best Sentence: is watching the hill . . .and its making me <text style=color:blue><i>[glad]</i></text> : 0.4588</text>"
      ],
      "text/plain": [
       "<IPython.core.display.HTML object>"
      ]
     },
     "metadata": {},
     "output_type": "display_data"
    },
    {
     "name": "stdout",
     "output_type": "stream",
     "text": [
      "\n",
      "\n",
      " Tweet: so many channels.... yet so so boring... lazy day again  may have to find a hobby:-0.4664\n",
      "\n"
     ]
    },
    {
     "data": {
      "text/html": [
       "<text style=color:red>so many channels ... . yet so so <text style=color:blue><i>[annoying]</i></text> ... <text style=color:blue><i>[stupid]</i></text> day again may have to find a hobby: -0.8178</text>"
      ],
      "text/plain": [
       "<IPython.core.display.HTML object>"
      ]
     },
     "metadata": {},
     "output_type": "display_data"
    },
    {
     "data": {
      "text/html": [
       "<text style=color:red>so many channels ... . yet so so <text style=color:blue><i>[annoying]</i></text> ... <text style=color:blue><i>[lazy]</i></text> day again may have to find a hobby: -0.7652</text>"
      ],
      "text/plain": [
       "<IPython.core.display.HTML object>"
      ]
     },
     "metadata": {},
     "output_type": "display_data"
    },
    {
     "data": {
      "text/html": [
       "<text style=color:red>so many channels ... . yet so so <text style=color:blue><i>[annoying]</i></text> ... <text style=color:blue><i>[tired]</i></text> day again may have to find a hobby: -0.7907</text>"
      ],
      "text/plain": [
       "<IPython.core.display.HTML object>"
      ]
     },
     "metadata": {},
     "output_type": "display_data"
    },
    {
     "data": {
      "text/html": [
       "<text style=color:red>so many channels ... . yet so so <text style=color:blue><i>[annoying]</i></text> ... <text style=color:blue><i>[bored]</i></text> day again may have to find a hobby: -0.7354</text>"
      ],
      "text/plain": [
       "<IPython.core.display.HTML object>"
      ]
     },
     "metadata": {},
     "output_type": "display_data"
    },
    {
     "data": {
      "text/html": [
       "<text style=color:red>so many channels ... . yet so so <text style=color:blue><i>[annoying]</i></text> ... <text style=color:blue><i>[lazy]</i></text> day again may have to find a hobby: -0.7652</text>"
      ],
      "text/plain": [
       "<IPython.core.display.HTML object>"
      ]
     },
     "metadata": {},
     "output_type": "display_data"
    },
    {
     "data": {
      "text/html": [
       "<text style=color:red>so many channels ... . yet so so <text style=color:blue><i>[lame]</i></text> ... <text style=color:blue><i>[stupid]</i></text> day again may have to find a hobby: -0.8238</text>"
      ],
      "text/plain": [
       "<IPython.core.display.HTML object>"
      ]
     },
     "metadata": {},
     "output_type": "display_data"
    },
    {
     "data": {
      "text/html": [
       "<text style=color:red>so many channels ... . yet so so <text style=color:blue><i>[lame]</i></text> ... <text style=color:blue><i>[lazy]</i></text> day again may have to find a hobby: -0.7736</text>"
      ],
      "text/plain": [
       "<IPython.core.display.HTML object>"
      ]
     },
     "metadata": {},
     "output_type": "display_data"
    },
    {
     "data": {
      "text/html": [
       "<text style=color:red>so many channels ... . yet so so <text style=color:blue><i>[lame]</i></text> ... <text style=color:blue><i>[tired]</i></text> day again may have to find a hobby: -0.798</text>"
      ],
      "text/plain": [
       "<IPython.core.display.HTML object>"
      ]
     },
     "metadata": {},
     "output_type": "display_data"
    },
    {
     "data": {
      "text/html": [
       "<text style=color:red>so many channels ... . yet so so <text style=color:blue><i>[lame]</i></text> ... <text style=color:blue><i>[bored]</i></text> day again may have to find a hobby: -0.7452</text>"
      ],
      "text/plain": [
       "<IPython.core.display.HTML object>"
      ]
     },
     "metadata": {},
     "output_type": "display_data"
    },
    {
     "data": {
      "text/html": [
       "<text style=color:red>so many channels ... . yet so so <text style=color:blue><i>[lame]</i></text> ... <text style=color:blue><i>[lazy]</i></text> day again may have to find a hobby: -0.7736</text>"
      ],
      "text/plain": [
       "<IPython.core.display.HTML object>"
      ]
     },
     "metadata": {},
     "output_type": "display_data"
    },
    {
     "data": {
      "text/html": [
       "<text style=color:red>so many channels ... . yet so so <text style=color:blue><i>[dull]</i></text> ... <text style=color:blue><i>[stupid]</i></text> day again may have to find a hobby: -0.8178</text>"
      ],
      "text/plain": [
       "<IPython.core.display.HTML object>"
      ]
     },
     "metadata": {},
     "output_type": "display_data"
    },
    {
     "data": {
      "text/html": [
       "<text style=color:red>so many channels ... . yet so so <text style=color:blue><i>[dull]</i></text> ... <text style=color:blue><i>[lazy]</i></text> day again may have to find a hobby: -0.7652</text>"
      ],
      "text/plain": [
       "<IPython.core.display.HTML object>"
      ]
     },
     "metadata": {},
     "output_type": "display_data"
    },
    {
     "data": {
      "text/html": [
       "<text style=color:red>so many channels ... . yet so so <text style=color:blue><i>[dull]</i></text> ... <text style=color:blue><i>[tired]</i></text> day again may have to find a hobby: -0.7907</text>"
      ],
      "text/plain": [
       "<IPython.core.display.HTML object>"
      ]
     },
     "metadata": {},
     "output_type": "display_data"
    },
    {
     "data": {
      "text/html": [
       "<text style=color:red>so many channels ... . yet so so <text style=color:blue><i>[dull]</i></text> ... <text style=color:blue><i>[bored]</i></text> day again may have to find a hobby: -0.7354</text>"
      ],
      "text/plain": [
       "<IPython.core.display.HTML object>"
      ]
     },
     "metadata": {},
     "output_type": "display_data"
    },
    {
     "data": {
      "text/html": [
       "<text style=color:red>so many channels ... . yet so so <text style=color:blue><i>[dull]</i></text> ... <text style=color:blue><i>[lazy]</i></text> day again may have to find a hobby: -0.7652</text>"
      ],
      "text/plain": [
       "<IPython.core.display.HTML object>"
      ]
     },
     "metadata": {},
     "output_type": "display_data"
    },
    {
     "data": {
      "text/html": [
       "<text style=color:red>so many channels ... . yet so so <text style=color:blue><i>[bore]</i></text> ... <text style=color:blue><i>[stupid]</i></text> day again may have to find a hobby: -0.7669</text>"
      ],
      "text/plain": [
       "<IPython.core.display.HTML object>"
      ]
     },
     "metadata": {},
     "output_type": "display_data"
    },
    {
     "data": {
      "text/html": [
       "<text style=color:red>so many channels ... . yet so so <text style=color:blue><i>[bore]</i></text> ... <text style=color:blue><i>[lazy]</i></text> day again may have to find a hobby: -0.6935</text>"
      ],
      "text/plain": [
       "<IPython.core.display.HTML object>"
      ]
     },
     "metadata": {},
     "output_type": "display_data"
    },
    {
     "data": {
      "text/html": [
       "<text style=color:red>so many channels ... . yet so so <text style=color:blue><i>[bore]</i></text> ... <text style=color:blue><i>[tired]</i></text> day again may have to find a hobby: -0.7293</text>"
      ],
      "text/plain": [
       "<IPython.core.display.HTML object>"
      ]
     },
     "metadata": {},
     "output_type": "display_data"
    },
    {
     "data": {
      "text/html": [
       "<text style=color:red>so many channels ... . yet so so <text style=color:blue><i>[bore]</i></text> ... <text style=color:blue><i>[bored]</i></text> day again may have to find a hobby: -0.6517</text>"
      ],
      "text/plain": [
       "<IPython.core.display.HTML object>"
      ]
     },
     "metadata": {},
     "output_type": "display_data"
    },
    {
     "data": {
      "text/html": [
       "<text style=color:red>so many channels ... . yet so so <text style=color:blue><i>[bore]</i></text> ... <text style=color:blue><i>[lazy]</i></text> day again may have to find a hobby: -0.6935</text>"
      ],
      "text/plain": [
       "<IPython.core.display.HTML object>"
      ]
     },
     "metadata": {},
     "output_type": "display_data"
    },
    {
     "data": {
      "text/html": [
       "<text style=color:red>so many channels ... . yet so so <text style=color:blue><i>[bored]</i></text> ... <text style=color:blue><i>[stupid]</i></text> day again may have to find a hobby: -0.7752</text>"
      ],
      "text/plain": [
       "<IPython.core.display.HTML object>"
      ]
     },
     "metadata": {},
     "output_type": "display_data"
    },
    {
     "data": {
      "text/html": [
       "<text style=color:red>so many channels ... . yet so so <text style=color:blue><i>[bored]</i></text> ... <text style=color:blue><i>[lazy]</i></text> day again may have to find a hobby: -0.7053</text>"
      ],
      "text/plain": [
       "<IPython.core.display.HTML object>"
      ]
     },
     "metadata": {},
     "output_type": "display_data"
    },
    {
     "data": {
      "text/html": [
       "<text style=color:red>so many channels ... . yet so so <text style=color:blue><i>[bored]</i></text> ... <text style=color:blue><i>[tired]</i></text> day again may have to find a hobby: -0.7394</text>"
      ],
      "text/plain": [
       "<IPython.core.display.HTML object>"
      ]
     },
     "metadata": {},
     "output_type": "display_data"
    },
    {
     "data": {
      "text/html": [
       "<text style=color:red>so many channels ... . yet so so <text style=color:blue><i>[bored]</i></text> ... <text style=color:blue><i>[bored]</i></text> day again may have to find a hobby: -0.7334</text>"
      ],
      "text/plain": [
       "<IPython.core.display.HTML object>"
      ]
     },
     "metadata": {},
     "output_type": "display_data"
    },
    {
     "data": {
      "text/html": [
       "<text style=color:red>so many channels ... . yet so so <text style=color:blue><i>[bored]</i></text> ... <text style=color:blue><i>[lazy]</i></text> day again may have to find a hobby: -0.7053</text>"
      ],
      "text/plain": [
       "<IPython.core.display.HTML object>"
      ]
     },
     "metadata": {},
     "output_type": "display_data"
    },
    {
     "data": {
      "text/html": [
       "<text style=color:red>so many channels ... . yet so so <text style=color:blue><i>[tired]</i></text> ... <text style=color:blue><i>[stupid]</i></text> day again may have to find a hobby: -0.8295</text>"
      ],
      "text/plain": [
       "<IPython.core.display.HTML object>"
      ]
     },
     "metadata": {},
     "output_type": "display_data"
    },
    {
     "data": {
      "text/html": [
       "<text style=color:red>so many channels ... . yet so so <text style=color:blue><i>[tired]</i></text> ... <text style=color:blue><i>[lazy]</i></text> day again may have to find a hobby: -0.7816</text>"
      ],
      "text/plain": [
       "<IPython.core.display.HTML object>"
      ]
     },
     "metadata": {},
     "output_type": "display_data"
    },
    {
     "data": {
      "text/html": [
       "<text style=color:red>so many channels ... . yet so so <text style=color:blue><i>[tired]</i></text> ... <text style=color:blue><i>[tired]</i></text> day again may have to find a hobby: -0.8473</text>"
      ],
      "text/plain": [
       "<IPython.core.display.HTML object>"
      ]
     },
     "metadata": {},
     "output_type": "display_data"
    },
    {
     "data": {
      "text/html": [
       "<text style=color:red>so many channels ... . yet so so <text style=color:blue><i>[tired]</i></text> ... <text style=color:blue><i>[bored]</i></text> day again may have to find a hobby: -0.7545</text>"
      ],
      "text/plain": [
       "<IPython.core.display.HTML object>"
      ]
     },
     "metadata": {},
     "output_type": "display_data"
    },
    {
     "data": {
      "text/html": [
       "<text style=color:red>so many channels ... . yet so so <text style=color:blue><i>[tired]</i></text> ... <text style=color:blue><i>[lazy]</i></text> day again may have to find a hobby: -0.7816</text>"
      ],
      "text/plain": [
       "<IPython.core.display.HTML object>"
      ]
     },
     "metadata": {},
     "output_type": "display_data"
    },
    {
     "data": {
      "text/html": [
       "<text style=color:red>so many channels ... . yet so so <text style=color:blue><i>[stupid]</i></text> ... <text style=color:blue><i>[stupid]</i></text> day again may have to find a hobby: -0.8867</text>"
      ],
      "text/plain": [
       "<IPython.core.display.HTML object>"
      ]
     },
     "metadata": {},
     "output_type": "display_data"
    },
    {
     "data": {
      "text/html": [
       "<text style=color:red>so many channels ... . yet so so <text style=color:blue><i>[stupid]</i></text> ... <text style=color:blue><i>[lazy]</i></text> day again may have to find a hobby: -0.8165</text>"
      ],
      "text/plain": [
       "<IPython.core.display.HTML object>"
      ]
     },
     "metadata": {},
     "output_type": "display_data"
    },
    {
     "data": {
      "text/html": [
       "<text style=color:red>so many channels ... . yet so so <text style=color:blue><i>[stupid]</i></text> ... <text style=color:blue><i>[tired]</i></text> day again may have to find a hobby: -0.835</text>"
      ],
      "text/plain": [
       "<IPython.core.display.HTML object>"
      ]
     },
     "metadata": {},
     "output_type": "display_data"
    },
    {
     "data": {
      "text/html": [
       "<text style=color:red>so many channels ... . yet so so <text style=color:blue><i>[stupid]</i></text> ... <text style=color:blue><i>[bored]</i></text> day again may have to find a hobby: -0.7951</text>"
      ],
      "text/plain": [
       "<IPython.core.display.HTML object>"
      ]
     },
     "metadata": {},
     "output_type": "display_data"
    },
    {
     "data": {
      "text/html": [
       "<text style=color:red>so many channels ... . yet so so <text style=color:blue><i>[stupid]</i></text> ... <text style=color:blue><i>[lazy]</i></text> day again may have to find a hobby: -0.8165</text>"
      ],
      "text/plain": [
       "<IPython.core.display.HTML object>"
      ]
     },
     "metadata": {},
     "output_type": "display_data"
    },
    {
     "data": {
      "text/html": [
       "<text style=color:red>so many channels ... . yet so so <text style=color:blue><i>[depressing]</i></text> ... <text style=color:blue><i>[stupid]</i></text> day again may have to find a hobby: -0.8115</text>"
      ],
      "text/plain": [
       "<IPython.core.display.HTML object>"
      ]
     },
     "metadata": {},
     "output_type": "display_data"
    },
    {
     "data": {
      "text/html": [
       "<text style=color:red>so many channels ... . yet so so <text style=color:blue><i>[depressing]</i></text> ... <text style=color:blue><i>[lazy]</i></text> day again may have to find a hobby: -0.7563</text>"
      ],
      "text/plain": [
       "<IPython.core.display.HTML object>"
      ]
     },
     "metadata": {},
     "output_type": "display_data"
    },
    {
     "data": {
      "text/html": [
       "<text style=color:red>so many channels ... . yet so so <text style=color:blue><i>[depressing]</i></text> ... <text style=color:blue><i>[tired]</i></text> day again may have to find a hobby: -0.7832</text>"
      ],
      "text/plain": [
       "<IPython.core.display.HTML object>"
      ]
     },
     "metadata": {},
     "output_type": "display_data"
    },
    {
     "data": {
      "text/html": [
       "<text style=color:red>so many channels ... . yet so so <text style=color:blue><i>[depressing]</i></text> ... <text style=color:blue><i>[bored]</i></text> day again may have to find a hobby: -0.7251</text>"
      ],
      "text/plain": [
       "<IPython.core.display.HTML object>"
      ]
     },
     "metadata": {},
     "output_type": "display_data"
    },
    {
     "data": {
      "text/html": [
       "<text style=color:red>so many channels ... . yet so so <text style=color:blue><i>[depressing]</i></text> ... <text style=color:blue><i>[lazy]</i></text> day again may have to find a hobby: -0.7563</text>"
      ],
      "text/plain": [
       "<IPython.core.display.HTML object>"
      ]
     },
     "metadata": {},
     "output_type": "display_data"
    },
    {
     "data": {
      "text/html": [
       "<text style=color:red>so many channels ... . yet so so <text style=color:blue><i>[boring]</i></text> ... <text style=color:blue><i>[stupid]</i></text> day again may have to find a hobby: -0.7907</text>"
      ],
      "text/plain": [
       "<IPython.core.display.HTML object>"
      ]
     },
     "metadata": {},
     "output_type": "display_data"
    },
    {
     "data": {
      "text/html": [
       "<text style=color:red>so many channels ... . yet so so <text style=color:blue><i>[boring]</i></text> ... <text style=color:blue><i>[lazy]</i></text> day again may have to find a hobby: -0.7272</text>"
      ],
      "text/plain": [
       "<IPython.core.display.HTML object>"
      ]
     },
     "metadata": {},
     "output_type": "display_data"
    },
    {
     "data": {
      "text/html": [
       "<text style=color:red>so many channels ... . yet so so <text style=color:blue><i>[boring]</i></text> ... <text style=color:blue><i>[tired]</i></text> day again may have to find a hobby: -0.7581</text>"
      ],
      "text/plain": [
       "<IPython.core.display.HTML object>"
      ]
     },
     "metadata": {},
     "output_type": "display_data"
    },
    {
     "data": {
      "text/html": [
       "<text style=color:red>so many channels ... . yet so so <text style=color:blue><i>[boring]</i></text> ... <text style=color:blue><i>[bored]</i></text> day again may have to find a hobby: -0.6911</text>"
      ],
      "text/plain": [
       "<IPython.core.display.HTML object>"
      ]
     },
     "metadata": {},
     "output_type": "display_data"
    },
    {
     "data": {
      "text/html": [
       "<text style=color:red>so many channels ... . yet so so <text style=color:blue><i>[boring]</i></text> ... <text style=color:blue><i>[lazy]</i></text> day again may have to find a hobby: -0.7272</text>"
      ],
      "text/plain": [
       "<IPython.core.display.HTML object>"
      ]
     },
     "metadata": {},
     "output_type": "display_data"
    },
    {
     "data": {
      "text/html": [
       "<text style=color:red>so many channels ... . yet so so <text style=color:blue><i>[boring]</i></text> ... <text style=color:blue><i>[stupid]</i></text> day again may have to find a hobby: -0.7907</text>"
      ],
      "text/plain": [
       "<IPython.core.display.HTML object>"
      ]
     },
     "metadata": {},
     "output_type": "display_data"
    },
    {
     "data": {
      "text/html": [
       "<text style=color:red>so many channels ... . yet so so <text style=color:blue><i>[boring]</i></text> ... <text style=color:blue><i>[lazy]</i></text> day again may have to find a hobby: -0.7272</text>"
      ],
      "text/plain": [
       "<IPython.core.display.HTML object>"
      ]
     },
     "metadata": {},
     "output_type": "display_data"
    },
    {
     "data": {
      "text/html": [
       "<text style=color:red>so many channels ... . yet so so <text style=color:blue><i>[boring]</i></text> ... <text style=color:blue><i>[tired]</i></text> day again may have to find a hobby: -0.7581</text>"
      ],
      "text/plain": [
       "<IPython.core.display.HTML object>"
      ]
     },
     "metadata": {},
     "output_type": "display_data"
    },
    {
     "data": {
      "text/html": [
       "<text style=color:red>so many channels ... . yet so so <text style=color:blue><i>[boring]</i></text> ... <text style=color:blue><i>[bored]</i></text> day again may have to find a hobby: -0.6911</text>"
      ],
      "text/plain": [
       "<IPython.core.display.HTML object>"
      ]
     },
     "metadata": {},
     "output_type": "display_data"
    },
    {
     "data": {
      "text/html": [
       "<text style=color:red>so many channels ... . yet so so <text style=color:blue><i>[boring]</i></text> ... <text style=color:blue><i>[lazy]</i></text> day again may have to find a hobby: -0.7272</text>"
      ],
      "text/plain": [
       "<IPython.core.display.HTML object>"
      ]
     },
     "metadata": {},
     "output_type": "display_data"
    },
    {
     "data": {
      "text/html": [
       "<text style=color:black>Actual Sentence: so many channels.... yet so so boring... lazy day again  may have to find a hobby :-0.4664</text>"
      ],
      "text/plain": [
       "<IPython.core.display.HTML object>"
      ]
     },
     "metadata": {},
     "output_type": "display_data"
    },
    {
     "data": {
      "text/html": [
       "<text style=color:red>Worst Sentence: so many channels ... . yet so so <text style=color:blue><i>[stupid]</i></text> ... <text style=color:blue><i>[stupid]</i></text> day again may have to find a hobby : -0.8867</text>"
      ],
      "text/plain": [
       "<IPython.core.display.HTML object>"
      ]
     },
     "metadata": {},
     "output_type": "display_data"
    },
    {
     "data": {
      "text/html": [
       "<text style=color:green>Best Sentence: so many channels ... . yet so so <text style=color:blue><i>[bore]</i></text> ... <text style=color:blue><i>[bored]</i></text> day again may have to find a hobby : -0.6517</text>"
      ],
      "text/plain": [
       "<IPython.core.display.HTML object>"
      ]
     },
     "metadata": {},
     "output_type": "display_data"
    },
    {
     "name": "stdout",
     "output_type": "stream",
     "text": [
      "\n",
      "\n",
      " Tweet:  i miss my buddy  ill be in ny on the 25th:-0.5267\n",
      "\n"
     ]
    },
    {
     "data": {
      "text/html": [
       "<text style=color:green>i <text style=color:blue><i>[miss]</i></text> my buddy <text style=color:blue><i>[complaint]</i></text> be in ny on the 25th: -0.4215</text>"
      ],
      "text/plain": [
       "<IPython.core.display.HTML object>"
      ]
     },
     "metadata": {},
     "output_type": "display_data"
    },
    {
     "data": {
      "text/html": [
       "<text style=color:black>i <text style=color:blue><i>[miss]</i></text> my buddy <text style=color:blue><i>[ill]</i></text> be in ny on the 25th: -0.5267</text>"
      ],
      "text/plain": [
       "<IPython.core.display.HTML object>"
      ]
     },
     "metadata": {},
     "output_type": "display_data"
    },
    {
     "data": {
      "text/html": [
       "<text style=color:red>i <text style=color:blue><i>[miss]</i></text> my buddy <text style=color:blue><i>[sick]</i></text> be in ny on the 25th: -0.5994</text>"
      ],
      "text/plain": [
       "<IPython.core.display.HTML object>"
      ]
     },
     "metadata": {},
     "output_type": "display_data"
    },
    {
     "data": {
      "text/html": [
       "<text style=color:black>i <text style=color:blue><i>[miss]</i></text> my buddy <text style=color:blue><i>[ill]</i></text> be in ny on the 25th: -0.5267</text>"
      ],
      "text/plain": [
       "<IPython.core.display.HTML object>"
      ]
     },
     "metadata": {},
     "output_type": "display_data"
    },
    {
     "data": {
      "text/html": [
       "<text style=color:green>i <text style=color:blue><i>[escape]</i></text> my buddy <text style=color:blue><i>[complaint]</i></text> be in ny on the 25th: -0.128</text>"
      ],
      "text/plain": [
       "<IPython.core.display.HTML object>"
      ]
     },
     "metadata": {},
     "output_type": "display_data"
    },
    {
     "data": {
      "text/html": [
       "<text style=color:green>i <text style=color:blue><i>[escape]</i></text> my buddy <text style=color:blue><i>[ill]</i></text> be in ny on the 25th: -0.2732</text>"
      ],
      "text/plain": [
       "<IPython.core.display.HTML object>"
      ]
     },
     "metadata": {},
     "output_type": "display_data"
    },
    {
     "data": {
      "text/html": [
       "<text style=color:green>i <text style=color:blue><i>[escape]</i></text> my buddy <text style=color:blue><i>[sick]</i></text> be in ny on the 25th: -0.3818</text>"
      ],
      "text/plain": [
       "<IPython.core.display.HTML object>"
      ]
     },
     "metadata": {},
     "output_type": "display_data"
    },
    {
     "data": {
      "text/html": [
       "<text style=color:green>i <text style=color:blue><i>[escape]</i></text> my buddy <text style=color:blue><i>[ill]</i></text> be in ny on the 25th: -0.2732</text>"
      ],
      "text/plain": [
       "<IPython.core.display.HTML object>"
      ]
     },
     "metadata": {},
     "output_type": "display_data"
    },
    {
     "data": {
      "text/html": [
       "<text style=color:green>i <text style=color:blue><i>[drop]</i></text> my buddy <text style=color:blue><i>[complaint]</i></text> be in ny on the 25th: -0.5106</text>"
      ],
      "text/plain": [
       "<IPython.core.display.HTML object>"
      ]
     },
     "metadata": {},
     "output_type": "display_data"
    },
    {
     "data": {
      "text/html": [
       "<text style=color:red>i <text style=color:blue><i>[drop]</i></text> my buddy <text style=color:blue><i>[ill]</i></text> be in ny on the 25th: -0.5994</text>"
      ],
      "text/plain": [
       "<IPython.core.display.HTML object>"
      ]
     },
     "metadata": {},
     "output_type": "display_data"
    },
    {
     "data": {
      "text/html": [
       "<text style=color:red>i <text style=color:blue><i>[drop]</i></text> my buddy <text style=color:blue><i>[sick]</i></text> be in ny on the 25th: -0.6597</text>"
      ],
      "text/plain": [
       "<IPython.core.display.HTML object>"
      ]
     },
     "metadata": {},
     "output_type": "display_data"
    },
    {
     "data": {
      "text/html": [
       "<text style=color:red>i <text style=color:blue><i>[drop]</i></text> my buddy <text style=color:blue><i>[ill]</i></text> be in ny on the 25th: -0.5994</text>"
      ],
      "text/plain": [
       "<IPython.core.display.HTML object>"
      ]
     },
     "metadata": {},
     "output_type": "display_data"
    },
    {
     "data": {
      "text/html": [
       "<text style=color:red>i <text style=color:blue><i>[lose]</i></text> my buddy <text style=color:blue><i>[complaint]</i></text> be in ny on the 25th: -0.5994</text>"
      ],
      "text/plain": [
       "<IPython.core.display.HTML object>"
      ]
     },
     "metadata": {},
     "output_type": "display_data"
    },
    {
     "data": {
      "text/html": [
       "<text style=color:red>i <text style=color:blue><i>[lose]</i></text> my buddy <text style=color:blue><i>[ill]</i></text> be in ny on the 25th: -0.6705</text>"
      ],
      "text/plain": [
       "<IPython.core.display.HTML object>"
      ]
     },
     "metadata": {},
     "output_type": "display_data"
    },
    {
     "data": {
      "text/html": [
       "<text style=color:red>i <text style=color:blue><i>[lose]</i></text> my buddy <text style=color:blue><i>[sick]</i></text> be in ny on the 25th: -0.7184</text>"
      ],
      "text/plain": [
       "<IPython.core.display.HTML object>"
      ]
     },
     "metadata": {},
     "output_type": "display_data"
    },
    {
     "data": {
      "text/html": [
       "<text style=color:red>i <text style=color:blue><i>[lose]</i></text> my buddy <text style=color:blue><i>[ill]</i></text> be in ny on the 25th: -0.6705</text>"
      ],
      "text/plain": [
       "<IPython.core.display.HTML object>"
      ]
     },
     "metadata": {},
     "output_type": "display_data"
    },
    {
     "data": {
      "text/html": [
       "<text style=color:green>i <text style=color:blue><i>[love]</i></text> my buddy <text style=color:blue><i>[complaint]</i></text> be in ny on the 25th: 0.4588</text>"
      ],
      "text/plain": [
       "<IPython.core.display.HTML object>"
      ]
     },
     "metadata": {},
     "output_type": "display_data"
    },
    {
     "data": {
      "text/html": [
       "<text style=color:green>i <text style=color:blue><i>[love]</i></text> my buddy <text style=color:blue><i>[ill]</i></text> be in ny on the 25th: 0.34</text>"
      ],
      "text/plain": [
       "<IPython.core.display.HTML object>"
      ]
     },
     "metadata": {},
     "output_type": "display_data"
    },
    {
     "data": {
      "text/html": [
       "<text style=color:green>i <text style=color:blue><i>[love]</i></text> my buddy <text style=color:blue><i>[sick]</i></text> be in ny on the 25th: 0.2263</text>"
      ],
      "text/plain": [
       "<IPython.core.display.HTML object>"
      ]
     },
     "metadata": {},
     "output_type": "display_data"
    },
    {
     "data": {
      "text/html": [
       "<text style=color:green>i <text style=color:blue><i>[love]</i></text> my buddy <text style=color:blue><i>[ill]</i></text> be in ny on the 25th: 0.34</text>"
      ],
      "text/plain": [
       "<IPython.core.display.HTML object>"
      ]
     },
     "metadata": {},
     "output_type": "display_data"
    },
    {
     "data": {
      "text/html": [
       "<text style=color:red>i <text style=color:blue><i>[lack]</i></text> my buddy <text style=color:blue><i>[complaint]</i></text> be in ny on the 25th: -0.5423</text>"
      ],
      "text/plain": [
       "<IPython.core.display.HTML object>"
      ]
     },
     "metadata": {},
     "output_type": "display_data"
    },
    {
     "data": {
      "text/html": [
       "<text style=color:red>i <text style=color:blue><i>[lack]</i></text> my buddy <text style=color:blue><i>[ill]</i></text> be in ny on the 25th: -0.6249</text>"
      ],
      "text/plain": [
       "<IPython.core.display.HTML object>"
      ]
     },
     "metadata": {},
     "output_type": "display_data"
    },
    {
     "data": {
      "text/html": [
       "<text style=color:red>i <text style=color:blue><i>[lack]</i></text> my buddy <text style=color:blue><i>[sick]</i></text> be in ny on the 25th: -0.6808</text>"
      ],
      "text/plain": [
       "<IPython.core.display.HTML object>"
      ]
     },
     "metadata": {},
     "output_type": "display_data"
    },
    {
     "data": {
      "text/html": [
       "<text style=color:red>i <text style=color:blue><i>[lack]</i></text> my buddy <text style=color:blue><i>[ill]</i></text> be in ny on the 25th: -0.6249</text>"
      ],
      "text/plain": [
       "<IPython.core.display.HTML object>"
      ]
     },
     "metadata": {},
     "output_type": "display_data"
    },
    {
     "data": {
      "text/html": [
       "<text style=color:red>i <text style=color:blue><i>[neglect]</i></text> my buddy <text style=color:blue><i>[complaint]</i></text> be in ny on the 25th: -0.6369</text>"
      ],
      "text/plain": [
       "<IPython.core.display.HTML object>"
      ]
     },
     "metadata": {},
     "output_type": "display_data"
    },
    {
     "data": {
      "text/html": [
       "<text style=color:red>i <text style=color:blue><i>[neglect]</i></text> my buddy <text style=color:blue><i>[ill]</i></text> be in ny on the 25th: -0.7003</text>"
      ],
      "text/plain": [
       "<IPython.core.display.HTML object>"
      ]
     },
     "metadata": {},
     "output_type": "display_data"
    },
    {
     "data": {
      "text/html": [
       "<text style=color:red>i <text style=color:blue><i>[neglect]</i></text> my buddy <text style=color:blue><i>[sick]</i></text> be in ny on the 25th: -0.743</text>"
      ],
      "text/plain": [
       "<IPython.core.display.HTML object>"
      ]
     },
     "metadata": {},
     "output_type": "display_data"
    },
    {
     "data": {
      "text/html": [
       "<text style=color:red>i <text style=color:blue><i>[neglect]</i></text> my buddy <text style=color:blue><i>[ill]</i></text> be in ny on the 25th: -0.7003</text>"
      ],
      "text/plain": [
       "<IPython.core.display.HTML object>"
      ]
     },
     "metadata": {},
     "output_type": "display_data"
    },
    {
     "data": {
      "text/html": [
       "<text style=color:green>i <text style=color:blue><i>[miss]</i></text> my buddy <text style=color:blue><i>[complaint]</i></text> be in ny on the 25th: -0.4215</text>"
      ],
      "text/plain": [
       "<IPython.core.display.HTML object>"
      ]
     },
     "metadata": {},
     "output_type": "display_data"
    },
    {
     "data": {
      "text/html": [
       "<text style=color:black>i <text style=color:blue><i>[miss]</i></text> my buddy <text style=color:blue><i>[ill]</i></text> be in ny on the 25th: -0.5267</text>"
      ],
      "text/plain": [
       "<IPython.core.display.HTML object>"
      ]
     },
     "metadata": {},
     "output_type": "display_data"
    },
    {
     "data": {
      "text/html": [
       "<text style=color:red>i <text style=color:blue><i>[miss]</i></text> my buddy <text style=color:blue><i>[sick]</i></text> be in ny on the 25th: -0.5994</text>"
      ],
      "text/plain": [
       "<IPython.core.display.HTML object>"
      ]
     },
     "metadata": {},
     "output_type": "display_data"
    },
    {
     "data": {
      "text/html": [
       "<text style=color:black>i <text style=color:blue><i>[miss]</i></text> my buddy <text style=color:blue><i>[ill]</i></text> be in ny on the 25th: -0.5267</text>"
      ],
      "text/plain": [
       "<IPython.core.display.HTML object>"
      ]
     },
     "metadata": {},
     "output_type": "display_data"
    },
    {
     "data": {
      "text/html": [
       "<text style=color:black>Actual Sentence:  i miss my buddy  ill be in ny on the 25th :-0.5267</text>"
      ],
      "text/plain": [
       "<IPython.core.display.HTML object>"
      ]
     },
     "metadata": {},
     "output_type": "display_data"
    },
    {
     "data": {
      "text/html": [
       "<text style=color:red>Worst Sentence: i <text style=color:blue><i>[neglect]</i></text> my buddy <text style=color:blue><i>[sick]</i></text> be in ny on the 25th : -0.743</text>"
      ],
      "text/plain": [
       "<IPython.core.display.HTML object>"
      ]
     },
     "metadata": {},
     "output_type": "display_data"
    },
    {
     "data": {
      "text/html": [
       "<text style=color:green>Best Sentence: i <text style=color:blue><i>[love]</i></text> my buddy <text style=color:blue><i>[complaint]</i></text> be in ny on the 25th : 0.4588</text>"
      ],
      "text/plain": [
       "<IPython.core.display.HTML object>"
      ]
     },
     "metadata": {},
     "output_type": "display_data"
    },
    {
     "name": "stdout",
     "output_type": "stream",
     "text": [
      "\n",
      "\n",
      " Tweet:   love the french. i tell people here in the south i am qtr. french and they snarl at me.  french are beautiful people:0.8442\n",
      "\n"
     ]
    },
    {
     "data": {
      "text/html": [
       "<text style=color:red><text style=color:blue><i>[hate]</i></text> the french . i tell people here in the south i am qtr . french and they snarl at me . french are <text style=color:blue><i>[lovely]</i></text> people: 0.0258</text>"
      ],
      "text/plain": [
       "<IPython.core.display.HTML object>"
      ]
     },
     "metadata": {},
     "output_type": "display_data"
    },
    {
     "data": {
      "text/html": [
       "<text style=color:red><text style=color:blue><i>[hate]</i></text> the french . i tell people here in the south i am qtr . french and they snarl at me . french are <text style=color:blue><i>[pretty]</i></text> people: -0.128</text>"
      ],
      "text/plain": [
       "<IPython.core.display.HTML object>"
      ]
     },
     "metadata": {},
     "output_type": "display_data"
    },
    {
     "data": {
      "text/html": [
       "<text style=color:red><text style=color:blue><i>[hate]</i></text> the french . i tell people here in the south i am qtr . french and they snarl at me . french are <text style=color:blue><i>[gorgeous]</i></text> people: 0.0772</text>"
      ],
      "text/plain": [
       "<IPython.core.display.HTML object>"
      ]
     },
     "metadata": {},
     "output_type": "display_data"
    },
    {
     "data": {
      "text/html": [
       "<text style=color:black><text style=color:blue><i>[hate]</i></text> the french . i tell people here in the south i am qtr . french and they snarl at me . french are <text style=color:blue><i>[perfect]</i></text> people: 0.0</text>"
      ],
      "text/plain": [
       "<IPython.core.display.HTML object>"
      ]
     },
     "metadata": {},
     "output_type": "display_data"
    },
    {
     "data": {
      "text/html": [
       "<text style=color:red><text style=color:blue><i>[hate]</i></text> the french . i tell people here in the south i am qtr . french and they snarl at me . french are <text style=color:blue><i>[amazing]</i></text> people: 0.0258</text>"
      ],
      "text/plain": [
       "<IPython.core.display.HTML object>"
      ]
     },
     "metadata": {},
     "output_type": "display_data"
    },
    {
     "data": {
      "text/html": [
       "<text style=color:red><text style=color:blue><i>[hate]</i></text> the french . i tell people here in the south i am qtr . french and they snarl at me . french are <text style=color:blue><i>[beautiful]</i></text> people: 0.0516</text>"
      ],
      "text/plain": [
       "<IPython.core.display.HTML object>"
      ]
     },
     "metadata": {},
     "output_type": "display_data"
    },
    {
     "data": {
      "text/html": [
       "<text style=color:red><text style=color:blue><i>[hate]</i></text> the french . i tell people here in the south i am qtr . french and they snarl at me . french are <text style=color:blue><i>[ugly]</i></text> people: -0.7906</text>"
      ],
      "text/plain": [
       "<IPython.core.display.HTML object>"
      ]
     },
     "metadata": {},
     "output_type": "display_data"
    },
    {
     "data": {
      "text/html": [
       "<text style=color:red><text style=color:blue><i>[hate]</i></text> the french . i tell people here in the south i am qtr . french and they snarl at me . french are <text style=color:blue><i>[stunning]</i></text> people: -0.2732</text>"
      ],
      "text/plain": [
       "<IPython.core.display.HTML object>"
      ]
     },
     "metadata": {},
     "output_type": "display_data"
    },
    {
     "data": {
      "text/html": [
       "<text style=color:black><text style=color:blue><i>[hate]</i></text> the french . i tell people here in the south i am qtr . french and they snarl at me . french are <text style=color:blue><i>[wonderful]</i></text> people: 0.0</text>"
      ],
      "text/plain": [
       "<IPython.core.display.HTML object>"
      ]
     },
     "metadata": {},
     "output_type": "display_data"
    },
    {
     "data": {
      "text/html": [
       "<text style=color:red><text style=color:blue><i>[hate]</i></text> the french . i tell people here in the south i am qtr . french and they snarl at me . french are <text style=color:blue><i>[beautiful]</i></text> people: 0.0516</text>"
      ],
      "text/plain": [
       "<IPython.core.display.HTML object>"
      ]
     },
     "metadata": {},
     "output_type": "display_data"
    },
    {
     "data": {
      "text/html": [
       "<text style=color:red><text style=color:blue><i>[love]</i></text> the french . i tell people here in the south i am qtr . french and they snarl at me . french are <text style=color:blue><i>[lovely]</i></text> people: 0.8402</text>"
      ],
      "text/plain": [
       "<IPython.core.display.HTML object>"
      ]
     },
     "metadata": {},
     "output_type": "display_data"
    },
    {
     "data": {
      "text/html": [
       "<text style=color:red><text style=color:blue><i>[love]</i></text> the french . i tell people here in the south i am qtr . french and they snarl at me . french are <text style=color:blue><i>[pretty]</i></text> people: 0.8126</text>"
      ],
      "text/plain": [
       "<IPython.core.display.HTML object>"
      ]
     },
     "metadata": {},
     "output_type": "display_data"
    },
    {
     "data": {
      "text/html": [
       "<text style=color:green><text style=color:blue><i>[love]</i></text> the french . i tell people here in the south i am qtr . french and they snarl at me . french are <text style=color:blue><i>[gorgeous]</i></text> people: 0.8481</text>"
      ],
      "text/plain": [
       "<IPython.core.display.HTML object>"
      ]
     },
     "metadata": {},
     "output_type": "display_data"
    },
    {
     "data": {
      "text/html": [
       "<text style=color:red><text style=color:blue><i>[love]</i></text> the french . i tell people here in the south i am qtr . french and they snarl at me . french are <text style=color:blue><i>[perfect]</i></text> people: 0.836</text>"
      ],
      "text/plain": [
       "<IPython.core.display.HTML object>"
      ]
     },
     "metadata": {},
     "output_type": "display_data"
    },
    {
     "data": {
      "text/html": [
       "<text style=color:red><text style=color:blue><i>[love]</i></text> the french . i tell people here in the south i am qtr . french and they snarl at me . french are <text style=color:blue><i>[amazing]</i></text> people: 0.8402</text>"
      ],
      "text/plain": [
       "<IPython.core.display.HTML object>"
      ]
     },
     "metadata": {},
     "output_type": "display_data"
    },
    {
     "data": {
      "text/html": [
       "<text style=color:black><text style=color:blue><i>[love]</i></text> the french . i tell people here in the south i am qtr . french and they snarl at me . french are <text style=color:blue><i>[beautiful]</i></text> people: 0.8442</text>"
      ],
      "text/plain": [
       "<IPython.core.display.HTML object>"
      ]
     },
     "metadata": {},
     "output_type": "display_data"
    },
    {
     "data": {
      "text/html": [
       "<text style=color:red><text style=color:blue><i>[love]</i></text> the french . i tell people here in the south i am qtr . french and they snarl at me . french are <text style=color:blue><i>[ugly]</i></text> people: 0.2263</text>"
      ],
      "text/plain": [
       "<IPython.core.display.HTML object>"
      ]
     },
     "metadata": {},
     "output_type": "display_data"
    },
    {
     "data": {
      "text/html": [
       "<text style=color:red><text style=color:blue><i>[love]</i></text> the french . i tell people here in the south i am qtr . french and they snarl at me . french are <text style=color:blue><i>[stunning]</i></text> people: 0.7783</text>"
      ],
      "text/plain": [
       "<IPython.core.display.HTML object>"
      ]
     },
     "metadata": {},
     "output_type": "display_data"
    },
    {
     "data": {
      "text/html": [
       "<text style=color:red><text style=color:blue><i>[love]</i></text> the french . i tell people here in the south i am qtr . french and they snarl at me . french are <text style=color:blue><i>[wonderful]</i></text> people: 0.836</text>"
      ],
      "text/plain": [
       "<IPython.core.display.HTML object>"
      ]
     },
     "metadata": {},
     "output_type": "display_data"
    },
    {
     "data": {
      "text/html": [
       "<text style=color:black><text style=color:blue><i>[love]</i></text> the french . i tell people here in the south i am qtr . french and they snarl at me . french are <text style=color:blue><i>[beautiful]</i></text> people: 0.8442</text>"
      ],
      "text/plain": [
       "<IPython.core.display.HTML object>"
      ]
     },
     "metadata": {},
     "output_type": "display_data"
    },
    {
     "data": {
      "text/html": [
       "<text style=color:red><text style=color:blue><i>[love]</i></text> the french . i tell people here in the south i am qtr . french and they snarl at me . french are <text style=color:blue><i>[lovely]</i></text> people: 0.8402</text>"
      ],
      "text/plain": [
       "<IPython.core.display.HTML object>"
      ]
     },
     "metadata": {},
     "output_type": "display_data"
    },
    {
     "data": {
      "text/html": [
       "<text style=color:red><text style=color:blue><i>[love]</i></text> the french . i tell people here in the south i am qtr . french and they snarl at me . french are <text style=color:blue><i>[pretty]</i></text> people: 0.8126</text>"
      ],
      "text/plain": [
       "<IPython.core.display.HTML object>"
      ]
     },
     "metadata": {},
     "output_type": "display_data"
    },
    {
     "data": {
      "text/html": [
       "<text style=color:green><text style=color:blue><i>[love]</i></text> the french . i tell people here in the south i am qtr . french and they snarl at me . french are <text style=color:blue><i>[gorgeous]</i></text> people: 0.8481</text>"
      ],
      "text/plain": [
       "<IPython.core.display.HTML object>"
      ]
     },
     "metadata": {},
     "output_type": "display_data"
    },
    {
     "data": {
      "text/html": [
       "<text style=color:red><text style=color:blue><i>[love]</i></text> the french . i tell people here in the south i am qtr . french and they snarl at me . french are <text style=color:blue><i>[perfect]</i></text> people: 0.836</text>"
      ],
      "text/plain": [
       "<IPython.core.display.HTML object>"
      ]
     },
     "metadata": {},
     "output_type": "display_data"
    },
    {
     "data": {
      "text/html": [
       "<text style=color:red><text style=color:blue><i>[love]</i></text> the french . i tell people here in the south i am qtr . french and they snarl at me . french are <text style=color:blue><i>[amazing]</i></text> people: 0.8402</text>"
      ],
      "text/plain": [
       "<IPython.core.display.HTML object>"
      ]
     },
     "metadata": {},
     "output_type": "display_data"
    },
    {
     "data": {
      "text/html": [
       "<text style=color:black><text style=color:blue><i>[love]</i></text> the french . i tell people here in the south i am qtr . french and they snarl at me . french are <text style=color:blue><i>[beautiful]</i></text> people: 0.8442</text>"
      ],
      "text/plain": [
       "<IPython.core.display.HTML object>"
      ]
     },
     "metadata": {},
     "output_type": "display_data"
    },
    {
     "data": {
      "text/html": [
       "<text style=color:red><text style=color:blue><i>[love]</i></text> the french . i tell people here in the south i am qtr . french and they snarl at me . french are <text style=color:blue><i>[ugly]</i></text> people: 0.2263</text>"
      ],
      "text/plain": [
       "<IPython.core.display.HTML object>"
      ]
     },
     "metadata": {},
     "output_type": "display_data"
    },
    {
     "data": {
      "text/html": [
       "<text style=color:red><text style=color:blue><i>[love]</i></text> the french . i tell people here in the south i am qtr . french and they snarl at me . french are <text style=color:blue><i>[stunning]</i></text> people: 0.7783</text>"
      ],
      "text/plain": [
       "<IPython.core.display.HTML object>"
      ]
     },
     "metadata": {},
     "output_type": "display_data"
    },
    {
     "data": {
      "text/html": [
       "<text style=color:red><text style=color:blue><i>[love]</i></text> the french . i tell people here in the south i am qtr . french and they snarl at me . french are <text style=color:blue><i>[wonderful]</i></text> people: 0.836</text>"
      ],
      "text/plain": [
       "<IPython.core.display.HTML object>"
      ]
     },
     "metadata": {},
     "output_type": "display_data"
    },
    {
     "data": {
      "text/html": [
       "<text style=color:black><text style=color:blue><i>[love]</i></text> the french . i tell people here in the south i am qtr . french and they snarl at me . french are <text style=color:blue><i>[beautiful]</i></text> people: 0.8442</text>"
      ],
      "text/plain": [
       "<IPython.core.display.HTML object>"
      ]
     },
     "metadata": {},
     "output_type": "display_data"
    },
    {
     "data": {
      "text/html": [
       "<text style=color:black>Actual Sentence:   love the french. i tell people here in the south i am qtr. french and they snarl at me.  french are beautiful people :0.8442</text>"
      ],
      "text/plain": [
       "<IPython.core.display.HTML object>"
      ]
     },
     "metadata": {},
     "output_type": "display_data"
    },
    {
     "data": {
      "text/html": [
       "<text style=color:red>Worst Sentence: <text style=color:blue><i>[hate]</i></text> the french . i tell people here in the south i am qtr . french and they snarl at me . french are <text style=color:blue><i>[ugly]</i></text> people : -0.7906</text>"
      ],
      "text/plain": [
       "<IPython.core.display.HTML object>"
      ]
     },
     "metadata": {},
     "output_type": "display_data"
    },
    {
     "data": {
      "text/html": [
       "<text style=color:green>Best Sentence: <text style=color:blue><i>[love]</i></text> the french . i tell people here in the south i am qtr . french and they snarl at me . french are <text style=color:blue><i>[gorgeous]</i></text> people : 0.8481</text>"
      ],
      "text/plain": [
       "<IPython.core.display.HTML object>"
      ]
     },
     "metadata": {},
     "output_type": "display_data"
    },
    {
     "name": "stdout",
     "output_type": "stream",
     "text": [
      "\n",
      "\n",
      " Tweet: opps.. as i said.. i still got one day remain and now problem come :-0.4019\n",
      "\n"
     ]
    },
    {
     "data": {
      "text/html": [
       "<text style=color:red>opps.. as i said.. i still got one day remain and now <text style=color:blue><i>[wrong]</i></text> come: -0.4767</text>"
      ],
      "text/plain": [
       "<IPython.core.display.HTML object>"
      ]
     },
     "metadata": {},
     "output_type": "display_data"
    },
    {
     "data": {
      "text/html": [
       "<text style=color:black>opps.. as i said.. i still got one day remain and now <text style=color:blue><i>[problems]</i></text> come: -0.4019</text>"
      ],
      "text/plain": [
       "<IPython.core.display.HTML object>"
      ]
     },
     "metadata": {},
     "output_type": "display_data"
    },
    {
     "data": {
      "text/html": [
       "<text style=color:red>opps.. as i said.. i still got one day remain and now <text style=color:blue><i>[worry]</i></text> come: -0.4404</text>"
      ],
      "text/plain": [
       "<IPython.core.display.HTML object>"
      ]
     },
     "metadata": {},
     "output_type": "display_data"
    },
    {
     "data": {
      "text/html": [
       "<text style=color:black>opps.. as i said.. i still got one day remain and now <text style=color:blue><i>[trouble]</i></text> come: -0.4019</text>"
      ],
      "text/plain": [
       "<IPython.core.display.HTML object>"
      ]
     },
     "metadata": {},
     "output_type": "display_data"
    },
    {
     "data": {
      "text/html": [
       "<text style=color:black>opps.. as i said.. i still got one day remain and now <text style=color:blue><i>[problem]</i></text> come: -0.4019</text>"
      ],
      "text/plain": [
       "<IPython.core.display.HTML object>"
      ]
     },
     "metadata": {},
     "output_type": "display_data"
    },
    {
     "data": {
      "text/html": [
       "<text style=color:black>opps.. as i said.. i still got one day remain and now <text style=color:blue><i>[problem]</i></text> come: -0.4019</text>"
      ],
      "text/plain": [
       "<IPython.core.display.HTML object>"
      ]
     },
     "metadata": {},
     "output_type": "display_data"
    },
    {
     "data": {
      "text/html": [
       "<text style=color:black>Actual Sentence: opps.. as i said.. i still got one day remain and now problem come  :-0.4019</text>"
      ],
      "text/plain": [
       "<IPython.core.display.HTML object>"
      ]
     },
     "metadata": {},
     "output_type": "display_data"
    },
    {
     "data": {
      "text/html": [
       "<text style=color:red>Worst Sentence: opps.. as i said.. i still got one day remain and now <text style=color:blue><i>[worry]</i></text> come : -0.4404</text>"
      ],
      "text/plain": [
       "<IPython.core.display.HTML object>"
      ]
     },
     "metadata": {},
     "output_type": "display_data"
    },
    {
     "data": {
      "text/html": [
       "<text style=color:green>Best Sentence: opps.. as i said.. i still got one day remain and now <text style=color:blue><i>[problem]</i></text> come : -0.4019</text>"
      ],
      "text/plain": [
       "<IPython.core.display.HTML object>"
      ]
     },
     "metadata": {},
     "output_type": "display_data"
    },
    {
     "name": "stdout",
     "output_type": "stream",
     "text": [
      "\n",
      "\n",
      " Tweet: i activated my selfcontrol block early meaning i can not check out the new qc.  regularizing my internal clock is might be difficult. fb:-0.6597\n",
      "\n"
     ]
    },
    {
     "data": {
      "text/html": [
       "<text style=color:black>Actual Sentence: i activated my selfcontrol block early meaning i can not check out the new qc.  regularizing my internal clock is might be difficult. fb :-0.6597</text>"
      ],
      "text/plain": [
       "<IPython.core.display.HTML object>"
      ]
     },
     "metadata": {},
     "output_type": "display_data"
    },
    {
     "name": "stdout",
     "output_type": "stream",
     "text": [
      "\n",
      "\n",
      " Tweet:   oh no:-0.296\n",
      "\n"
     ]
    },
    {
     "data": {
      "text/html": [
       "<text style=color:green>oh <text style=color:blue><i>[yes]</i></text>: 0.4019</text>"
      ],
      "text/plain": [
       "<IPython.core.display.HTML object>"
      ]
     },
     "metadata": {},
     "output_type": "display_data"
    },
    {
     "data": {
      "text/html": [
       "<text style=color:black>oh <text style=color:blue><i>[no]</i></text>: -0.296</text>"
      ],
      "text/plain": [
       "<IPython.core.display.HTML object>"
      ]
     },
     "metadata": {},
     "output_type": "display_data"
    },
    {
     "data": {
      "text/html": [
       "<text style=color:black>oh <text style=color:blue><i>[no]</i></text>: -0.296</text>"
      ],
      "text/plain": [
       "<IPython.core.display.HTML object>"
      ]
     },
     "metadata": {},
     "output_type": "display_data"
    },
    {
     "data": {
      "text/html": [
       "<text style=color:black>Actual Sentence:   oh no :-0.296</text>"
      ],
      "text/plain": [
       "<IPython.core.display.HTML object>"
      ]
     },
     "metadata": {},
     "output_type": "display_data"
    },
    {
     "data": {
      "text/html": [
       "<text style=color:red>Worst Sentence: oh <text style=color:blue><i>[no]</i></text> : -0.296</text>"
      ],
      "text/plain": [
       "<IPython.core.display.HTML object>"
      ]
     },
     "metadata": {},
     "output_type": "display_data"
    },
    {
     "data": {
      "text/html": [
       "<text style=color:green>Best Sentence: oh <text style=color:blue><i>[yes]</i></text> : 0.4019</text>"
      ],
      "text/plain": [
       "<IPython.core.display.HTML object>"
      ]
     },
     "metadata": {},
     "output_type": "display_data"
    },
    {
     "name": "stdout",
     "output_type": "stream",
     "text": [
      "\n",
      "\n",
      " Tweet: spencer is not a good guy. :-0.3412\n",
      "\n"
     ]
    },
    {
     "data": {
      "text/html": [
       "<text style=color:green>spencer is a <text style=color:blue><i>[dear]</i></text> guy .: 0.3818</text>"
      ],
      "text/plain": [
       "<IPython.core.display.HTML object>"
      ]
     },
     "metadata": {},
     "output_type": "display_data"
    },
    {
     "data": {
      "text/html": [
       "<text style=color:red>spencer is a <text style=color:blue><i>[bad]</i></text> guy .: -0.5423</text>"
      ],
      "text/plain": [
       "<IPython.core.display.HTML object>"
      ]
     },
     "metadata": {},
     "output_type": "display_data"
    },
    {
     "data": {
      "text/html": [
       "<text style=color:green>spencer is a <text style=color:blue><i>[well]</i></text> guy .: 0.2732</text>"
      ],
      "text/plain": [
       "<IPython.core.display.HTML object>"
      ]
     },
     "metadata": {},
     "output_type": "display_data"
    },
    {
     "data": {
      "text/html": [
       "<text style=color:red>spencer is a <text style=color:blue><i>[evilness]</i></text> guy .: -0.6249</text>"
      ],
      "text/plain": [
       "<IPython.core.display.HTML object>"
      ]
     },
     "metadata": {},
     "output_type": "display_data"
    },
    {
     "data": {
      "text/html": [
       "<text style=color:green>spencer is a <text style=color:blue><i>[honorable]</i></text> guy .: 0.5423</text>"
      ],
      "text/plain": [
       "<IPython.core.display.HTML object>"
      ]
     },
     "metadata": {},
     "output_type": "display_data"
    },
    {
     "data": {
      "text/html": [
       "<text style=color:green>spencer is a <text style=color:blue><i>[secure]</i></text> guy .: 0.34</text>"
      ],
      "text/plain": [
       "<IPython.core.display.HTML object>"
      ]
     },
     "metadata": {},
     "output_type": "display_data"
    },
    {
     "data": {
      "text/html": [
       "<text style=color:green>spencer is a <text style=color:blue><i>[nice]</i></text> guy .: 0.4215</text>"
      ],
      "text/plain": [
       "<IPython.core.display.HTML object>"
      ]
     },
     "metadata": {},
     "output_type": "display_data"
    },
    {
     "data": {
      "text/html": [
       "<text style=color:green>spencer is a <text style=color:blue><i>[safe]</i></text> guy .: 0.4404</text>"
      ],
      "text/plain": [
       "<IPython.core.display.HTML object>"
      ]
     },
     "metadata": {},
     "output_type": "display_data"
    },
    {
     "data": {
      "text/html": [
       "<text style=color:green>spencer is a <text style=color:blue><i>[great]</i></text> guy .: 0.6249</text>"
      ],
      "text/plain": [
       "<IPython.core.display.HTML object>"
      ]
     },
     "metadata": {},
     "output_type": "display_data"
    },
    {
     "data": {
      "text/html": [
       "<text style=color:green>spencer is a <text style=color:blue><i>[honest]</i></text> guy .: 0.5106</text>"
      ],
      "text/plain": [
       "<IPython.core.display.HTML object>"
      ]
     },
     "metadata": {},
     "output_type": "display_data"
    },
    {
     "data": {
      "text/html": [
       "<text style=color:green>spencer is a <text style=color:blue><i>[serious]</i></text> guy .: -0.0772</text>"
      ],
      "text/plain": [
       "<IPython.core.display.HTML object>"
      ]
     },
     "metadata": {},
     "output_type": "display_data"
    },
    {
     "data": {
      "text/html": [
       "<text style=color:green>spencer is a <text style=color:blue><i>[good]</i></text> guy .: 0.4404</text>"
      ],
      "text/plain": [
       "<IPython.core.display.HTML object>"
      ]
     },
     "metadata": {},
     "output_type": "display_data"
    },
    {
     "data": {
      "text/html": [
       "<text style=color:green>spencer is a <text style=color:blue><i>[respectable]</i></text> guy .: 0.4404</text>"
      ],
      "text/plain": [
       "<IPython.core.display.HTML object>"
      ]
     },
     "metadata": {},
     "output_type": "display_data"
    },
    {
     "data": {
      "text/html": [
       "<text style=color:green>spencer is a <text style=color:blue><i>[effective]</i></text> guy .: 0.4767</text>"
      ],
      "text/plain": [
       "<IPython.core.display.HTML object>"
      ]
     },
     "metadata": {},
     "output_type": "display_data"
    },
    {
     "data": {
      "text/html": [
       "<text style=color:red>spencer is a <text style=color:blue><i>[ill]</i></text> guy .: -0.4215</text>"
      ],
      "text/plain": [
       "<IPython.core.display.HTML object>"
      ]
     },
     "metadata": {},
     "output_type": "display_data"
    },
    {
     "data": {
      "text/html": [
       "<text style=color:green>spencer is a <text style=color:blue><i>[beneficial]</i></text> guy .: 0.4404</text>"
      ],
      "text/plain": [
       "<IPython.core.display.HTML object>"
      ]
     },
     "metadata": {},
     "output_type": "display_data"
    },
    {
     "data": {
      "text/html": [
       "<text style=color:red>spencer is a <text style=color:blue><i>[evil]</i></text> guy .: -0.6597</text>"
      ],
      "text/plain": [
       "<IPython.core.display.HTML object>"
      ]
     },
     "metadata": {},
     "output_type": "display_data"
    },
    {
     "data": {
      "text/html": [
       "<text style=color:green>spencer is a <text style=color:blue><i>[good]</i></text> guy .: 0.4404</text>"
      ],
      "text/plain": [
       "<IPython.core.display.HTML object>"
      ]
     },
     "metadata": {},
     "output_type": "display_data"
    },
    {
     "data": {
      "text/html": [
       "<text style=color:black>Actual Sentence: spencer is not a good guy.  :-0.3412</text>"
      ],
      "text/plain": [
       "<IPython.core.display.HTML object>"
      ]
     },
     "metadata": {},
     "output_type": "display_data"
    },
    {
     "data": {
      "text/html": [
       "<text style=color:red>Worst Sentence: spencer is a <text style=color:blue><i>[evil]</i></text> guy . : -0.6597</text>"
      ],
      "text/plain": [
       "<IPython.core.display.HTML object>"
      ]
     },
     "metadata": {},
     "output_type": "display_data"
    },
    {
     "data": {
      "text/html": [
       "<text style=color:green>Best Sentence: spencer is a <text style=color:blue><i>[great]</i></text> guy . : 0.6249</text>"
      ],
      "text/plain": [
       "<IPython.core.display.HTML object>"
      ]
     },
     "metadata": {},
     "output_type": "display_data"
    },
    {
     "name": "stdout",
     "output_type": "stream",
     "text": [
      "\n",
      "\n",
      " Tweet:  what about reese dying on ttsc and season finale next week.  24 boring madame president is a crazy woman.:-0.5719\n",
      "\n"
     ]
    },
    {
     "data": {
      "text/html": [
       "<text style=color:red>what about reese dying on ttsc and season finale next week . 24 <text style=color:blue><i>[annoying]</i></text> madame president is a <text style=color:blue><i>[insane]</i></text> woman .: -0.6597</text>"
      ],
      "text/plain": [
       "<IPython.core.display.HTML object>"
      ]
     },
     "metadata": {},
     "output_type": "display_data"
    },
    {
     "data": {
      "text/html": [
       "<text style=color:red>what about reese dying on ttsc and season finale next week . 24 <text style=color:blue><i>[annoying]</i></text> madame president is a <text style=color:blue><i>[mad]</i></text> woman .: -0.7096</text>"
      ],
      "text/plain": [
       "<IPython.core.display.HTML object>"
      ]
     },
     "metadata": {},
     "output_type": "display_data"
    },
    {
     "data": {
      "text/html": [
       "<text style=color:green>what about reese dying on ttsc and season finale next week . 24 <text style=color:blue><i>[annoying]</i></text> madame president is a <text style=color:blue><i>[funny]</i></text> woman .: 0.0516</text>"
      ],
      "text/plain": [
       "<IPython.core.display.HTML object>"
      ]
     },
     "metadata": {},
     "output_type": "display_data"
    },
    {
     "data": {
      "text/html": [
       "<text style=color:green>what about reese dying on ttsc and season finale next week . 24 <text style=color:blue><i>[annoying]</i></text> madame president is a <text style=color:blue><i>[weird]</i></text> woman .: -0.5267</text>"
      ],
      "text/plain": [
       "<IPython.core.display.HTML object>"
      ]
     },
     "metadata": {},
     "output_type": "display_data"
    },
    {
     "data": {
      "text/html": [
       "<text style=color:red>what about reese dying on ttsc and season finale next week . 24 <text style=color:blue><i>[annoying]</i></text> madame president is a <text style=color:blue><i>[crazy]</i></text> woman .: -0.6249</text>"
      ],
      "text/plain": [
       "<IPython.core.display.HTML object>"
      ]
     },
     "metadata": {},
     "output_type": "display_data"
    },
    {
     "data": {
      "text/html": [
       "<text style=color:red>what about reese dying on ttsc and season finale next week . 24 <text style=color:blue><i>[annoying]</i></text> madame president is a <text style=color:blue><i>[disturbed]</i></text> woman .: -0.6486</text>"
      ],
      "text/plain": [
       "<IPython.core.display.HTML object>"
      ]
     },
     "metadata": {},
     "output_type": "display_data"
    },
    {
     "data": {
      "text/html": [
       "<text style=color:red>what about reese dying on ttsc and season finale next week . 24 <text style=color:blue><i>[annoying]</i></text> madame president is a <text style=color:blue><i>[stupid]</i></text> woman .: -0.7269</text>"
      ],
      "text/plain": [
       "<IPython.core.display.HTML object>"
      ]
     },
     "metadata": {},
     "output_type": "display_data"
    },
    {
     "data": {
      "text/html": [
       "<text style=color:red>what about reese dying on ttsc and season finale next week . 24 <text style=color:blue><i>[annoying]</i></text> madame president is a <text style=color:blue><i>[weirdo]</i></text> woman .: -0.6705</text>"
      ],
      "text/plain": [
       "<IPython.core.display.HTML object>"
      ]
     },
     "metadata": {},
     "output_type": "display_data"
    },
    {
     "data": {
      "text/html": [
       "<text style=color:red>what about reese dying on ttsc and season finale next week . 24 <text style=color:blue><i>[annoying]</i></text> madame president is a <text style=color:blue><i>[sick]</i></text> woman .: -0.7184</text>"
      ],
      "text/plain": [
       "<IPython.core.display.HTML object>"
      ]
     },
     "metadata": {},
     "output_type": "display_data"
    },
    {
     "data": {
      "text/html": [
       "<text style=color:red>what about reese dying on ttsc and season finale next week . 24 <text style=color:blue><i>[annoying]</i></text> madame president is a <text style=color:blue><i>[crazy]</i></text> woman .: -0.6249</text>"
      ],
      "text/plain": [
       "<IPython.core.display.HTML object>"
      ]
     },
     "metadata": {},
     "output_type": "display_data"
    },
    {
     "data": {
      "text/html": [
       "<text style=color:red>what about reese dying on ttsc and season finale next week . 24 <text style=color:blue><i>[lame]</i></text> madame president is a <text style=color:blue><i>[insane]</i></text> woman .: -0.6705</text>"
      ],
      "text/plain": [
       "<IPython.core.display.HTML object>"
      ]
     },
     "metadata": {},
     "output_type": "display_data"
    },
    {
     "data": {
      "text/html": [
       "<text style=color:red>what about reese dying on ttsc and season finale next week . 24 <text style=color:blue><i>[lame]</i></text> madame president is a <text style=color:blue><i>[mad]</i></text> woman .: -0.7184</text>"
      ],
      "text/plain": [
       "<IPython.core.display.HTML object>"
      ]
     },
     "metadata": {},
     "output_type": "display_data"
    },
    {
     "data": {
      "text/html": [
       "<text style=color:green>what about reese dying on ttsc and season finale next week . 24 <text style=color:blue><i>[lame]</i></text> madame president is a <text style=color:blue><i>[funny]</i></text> woman .: 0.0258</text>"
      ],
      "text/plain": [
       "<IPython.core.display.HTML object>"
      ]
     },
     "metadata": {},
     "output_type": "display_data"
    },
    {
     "data": {
      "text/html": [
       "<text style=color:green>what about reese dying on ttsc and season finale next week . 24 <text style=color:blue><i>[lame]</i></text> madame president is a <text style=color:blue><i>[weird]</i></text> woman .: -0.5423</text>"
      ],
      "text/plain": [
       "<IPython.core.display.HTML object>"
      ]
     },
     "metadata": {},
     "output_type": "display_data"
    },
    {
     "data": {
      "text/html": [
       "<text style=color:red>what about reese dying on ttsc and season finale next week . 24 <text style=color:blue><i>[lame]</i></text> madame president is a <text style=color:blue><i>[crazy]</i></text> woman .: -0.6369</text>"
      ],
      "text/plain": [
       "<IPython.core.display.HTML object>"
      ]
     },
     "metadata": {},
     "output_type": "display_data"
    },
    {
     "data": {
      "text/html": [
       "<text style=color:red>what about reese dying on ttsc and season finale next week . 24 <text style=color:blue><i>[lame]</i></text> madame president is a <text style=color:blue><i>[disturbed]</i></text> woman .: -0.6597</text>"
      ],
      "text/plain": [
       "<IPython.core.display.HTML object>"
      ]
     },
     "metadata": {},
     "output_type": "display_data"
    },
    {
     "data": {
      "text/html": [
       "<text style=color:red>what about reese dying on ttsc and season finale next week . 24 <text style=color:blue><i>[lame]</i></text> madame president is a <text style=color:blue><i>[stupid]</i></text> woman .: -0.7351</text>"
      ],
      "text/plain": [
       "<IPython.core.display.HTML object>"
      ]
     },
     "metadata": {},
     "output_type": "display_data"
    },
    {
     "data": {
      "text/html": [
       "<text style=color:red>what about reese dying on ttsc and season finale next week . 24 <text style=color:blue><i>[lame]</i></text> madame president is a <text style=color:blue><i>[weirdo]</i></text> woman .: -0.6808</text>"
      ],
      "text/plain": [
       "<IPython.core.display.HTML object>"
      ]
     },
     "metadata": {},
     "output_type": "display_data"
    },
    {
     "data": {
      "text/html": [
       "<text style=color:red>what about reese dying on ttsc and season finale next week . 24 <text style=color:blue><i>[lame]</i></text> madame president is a <text style=color:blue><i>[sick]</i></text> woman .: -0.7269</text>"
      ],
      "text/plain": [
       "<IPython.core.display.HTML object>"
      ]
     },
     "metadata": {},
     "output_type": "display_data"
    },
    {
     "data": {
      "text/html": [
       "<text style=color:red>what about reese dying on ttsc and season finale next week . 24 <text style=color:blue><i>[lame]</i></text> madame president is a <text style=color:blue><i>[crazy]</i></text> woman .: -0.6369</text>"
      ],
      "text/plain": [
       "<IPython.core.display.HTML object>"
      ]
     },
     "metadata": {},
     "output_type": "display_data"
    },
    {
     "data": {
      "text/html": [
       "<text style=color:red>what about reese dying on ttsc and season finale next week . 24 <text style=color:blue><i>[dull]</i></text> madame president is a <text style=color:blue><i>[insane]</i></text> woman .: -0.6597</text>"
      ],
      "text/plain": [
       "<IPython.core.display.HTML object>"
      ]
     },
     "metadata": {},
     "output_type": "display_data"
    },
    {
     "data": {
      "text/html": [
       "<text style=color:red>what about reese dying on ttsc and season finale next week . 24 <text style=color:blue><i>[dull]</i></text> madame president is a <text style=color:blue><i>[mad]</i></text> woman .: -0.7096</text>"
      ],
      "text/plain": [
       "<IPython.core.display.HTML object>"
      ]
     },
     "metadata": {},
     "output_type": "display_data"
    },
    {
     "data": {
      "text/html": [
       "<text style=color:green>what about reese dying on ttsc and season finale next week . 24 <text style=color:blue><i>[dull]</i></text> madame president is a <text style=color:blue><i>[funny]</i></text> woman .: 0.0516</text>"
      ],
      "text/plain": [
       "<IPython.core.display.HTML object>"
      ]
     },
     "metadata": {},
     "output_type": "display_data"
    },
    {
     "data": {
      "text/html": [
       "<text style=color:green>what about reese dying on ttsc and season finale next week . 24 <text style=color:blue><i>[dull]</i></text> madame president is a <text style=color:blue><i>[weird]</i></text> woman .: -0.5267</text>"
      ],
      "text/plain": [
       "<IPython.core.display.HTML object>"
      ]
     },
     "metadata": {},
     "output_type": "display_data"
    },
    {
     "data": {
      "text/html": [
       "<text style=color:red>what about reese dying on ttsc and season finale next week . 24 <text style=color:blue><i>[dull]</i></text> madame president is a <text style=color:blue><i>[crazy]</i></text> woman .: -0.6249</text>"
      ],
      "text/plain": [
       "<IPython.core.display.HTML object>"
      ]
     },
     "metadata": {},
     "output_type": "display_data"
    },
    {
     "data": {
      "text/html": [
       "<text style=color:red>what about reese dying on ttsc and season finale next week . 24 <text style=color:blue><i>[dull]</i></text> madame president is a <text style=color:blue><i>[disturbed]</i></text> woman .: -0.6486</text>"
      ],
      "text/plain": [
       "<IPython.core.display.HTML object>"
      ]
     },
     "metadata": {},
     "output_type": "display_data"
    },
    {
     "data": {
      "text/html": [
       "<text style=color:red>what about reese dying on ttsc and season finale next week . 24 <text style=color:blue><i>[dull]</i></text> madame president is a <text style=color:blue><i>[stupid]</i></text> woman .: -0.7269</text>"
      ],
      "text/plain": [
       "<IPython.core.display.HTML object>"
      ]
     },
     "metadata": {},
     "output_type": "display_data"
    },
    {
     "data": {
      "text/html": [
       "<text style=color:red>what about reese dying on ttsc and season finale next week . 24 <text style=color:blue><i>[dull]</i></text> madame president is a <text style=color:blue><i>[weirdo]</i></text> woman .: -0.6705</text>"
      ],
      "text/plain": [
       "<IPython.core.display.HTML object>"
      ]
     },
     "metadata": {},
     "output_type": "display_data"
    },
    {
     "data": {
      "text/html": [
       "<text style=color:red>what about reese dying on ttsc and season finale next week . 24 <text style=color:blue><i>[dull]</i></text> madame president is a <text style=color:blue><i>[sick]</i></text> woman .: -0.7184</text>"
      ],
      "text/plain": [
       "<IPython.core.display.HTML object>"
      ]
     },
     "metadata": {},
     "output_type": "display_data"
    },
    {
     "data": {
      "text/html": [
       "<text style=color:red>what about reese dying on ttsc and season finale next week . 24 <text style=color:blue><i>[dull]</i></text> madame president is a <text style=color:blue><i>[crazy]</i></text> woman .: -0.6249</text>"
      ],
      "text/plain": [
       "<IPython.core.display.HTML object>"
      ]
     },
     "metadata": {},
     "output_type": "display_data"
    },
    {
     "data": {
      "text/html": [
       "<text style=color:red>what about reese dying on ttsc and season finale next week . 24 <text style=color:blue><i>[bored]</i></text> madame president is a <text style=color:blue><i>[insane]</i></text> woman .: -0.5859</text>"
      ],
      "text/plain": [
       "<IPython.core.display.HTML object>"
      ]
     },
     "metadata": {},
     "output_type": "display_data"
    },
    {
     "data": {
      "text/html": [
       "<text style=color:red>what about reese dying on ttsc and season finale next week . 24 <text style=color:blue><i>[bored]</i></text> madame president is a <text style=color:blue><i>[mad]</i></text> woman .: -0.6486</text>"
      ],
      "text/plain": [
       "<IPython.core.display.HTML object>"
      ]
     },
     "metadata": {},
     "output_type": "display_data"
    },
    {
     "data": {
      "text/html": [
       "<text style=color:green>what about reese dying on ttsc and season finale next week . 24 <text style=color:blue><i>[bored]</i></text> madame president is a <text style=color:blue><i>[funny]</i></text> woman .: 0.2023</text>"
      ],
      "text/plain": [
       "<IPython.core.display.HTML object>"
      ]
     },
     "metadata": {},
     "output_type": "display_data"
    },
    {
     "data": {
      "text/html": [
       "<text style=color:green>what about reese dying on ttsc and season finale next week . 24 <text style=color:blue><i>[bored]</i></text> madame president is a <text style=color:blue><i>[weird]</i></text> woman .: -0.4215</text>"
      ],
      "text/plain": [
       "<IPython.core.display.HTML object>"
      ]
     },
     "metadata": {},
     "output_type": "display_data"
    },
    {
     "data": {
      "text/html": [
       "<text style=color:green>what about reese dying on ttsc and season finale next week . 24 <text style=color:blue><i>[bored]</i></text> madame president is a <text style=color:blue><i>[crazy]</i></text> woman .: -0.5423</text>"
      ],
      "text/plain": [
       "<IPython.core.display.HTML object>"
      ]
     },
     "metadata": {},
     "output_type": "display_data"
    },
    {
     "data": {
      "text/html": [
       "<text style=color:black>what about reese dying on ttsc and season finale next week . 24 <text style=color:blue><i>[bored]</i></text> madame president is a <text style=color:blue><i>[disturbed]</i></text> woman .: -0.5719</text>"
      ],
      "text/plain": [
       "<IPython.core.display.HTML object>"
      ]
     },
     "metadata": {},
     "output_type": "display_data"
    },
    {
     "data": {
      "text/html": [
       "<text style=color:red>what about reese dying on ttsc and season finale next week . 24 <text style=color:blue><i>[bored]</i></text> madame president is a <text style=color:blue><i>[stupid]</i></text> woman .: -0.6705</text>"
      ],
      "text/plain": [
       "<IPython.core.display.HTML object>"
      ]
     },
     "metadata": {},
     "output_type": "display_data"
    },
    {
     "data": {
      "text/html": [
       "<text style=color:red>what about reese dying on ttsc and season finale next week . 24 <text style=color:blue><i>[bored]</i></text> madame president is a <text style=color:blue><i>[weirdo]</i></text> woman .: -0.5994</text>"
      ],
      "text/plain": [
       "<IPython.core.display.HTML object>"
      ]
     },
     "metadata": {},
     "output_type": "display_data"
    },
    {
     "data": {
      "text/html": [
       "<text style=color:red>what about reese dying on ttsc and season finale next week . 24 <text style=color:blue><i>[bored]</i></text> madame president is a <text style=color:blue><i>[sick]</i></text> woman .: -0.6597</text>"
      ],
      "text/plain": [
       "<IPython.core.display.HTML object>"
      ]
     },
     "metadata": {},
     "output_type": "display_data"
    },
    {
     "data": {
      "text/html": [
       "<text style=color:green>what about reese dying on ttsc and season finale next week . 24 <text style=color:blue><i>[bored]</i></text> madame president is a <text style=color:blue><i>[crazy]</i></text> woman .: -0.5423</text>"
      ],
      "text/plain": [
       "<IPython.core.display.HTML object>"
      ]
     },
     "metadata": {},
     "output_type": "display_data"
    },
    {
     "data": {
      "text/html": [
       "<text style=color:red>what about reese dying on ttsc and season finale next week . 24 <text style=color:blue><i>[tired]</i></text> madame president is a <text style=color:blue><i>[insane]</i></text> woman .: -0.6808</text>"
      ],
      "text/plain": [
       "<IPython.core.display.HTML object>"
      ]
     },
     "metadata": {},
     "output_type": "display_data"
    },
    {
     "data": {
      "text/html": [
       "<text style=color:red>what about reese dying on ttsc and season finale next week . 24 <text style=color:blue><i>[tired]</i></text> madame president is a <text style=color:blue><i>[mad]</i></text> woman .: -0.7269</text>"
      ],
      "text/plain": [
       "<IPython.core.display.HTML object>"
      ]
     },
     "metadata": {},
     "output_type": "display_data"
    },
    {
     "data": {
      "text/html": [
       "<text style=color:black>what about reese dying on ttsc and season finale next week . 24 <text style=color:blue><i>[tired]</i></text> madame president is a <text style=color:blue><i>[funny]</i></text> woman .: 0.0</text>"
      ],
      "text/plain": [
       "<IPython.core.display.HTML object>"
      ]
     },
     "metadata": {},
     "output_type": "display_data"
    },
    {
     "data": {
      "text/html": [
       "<text style=color:green>what about reese dying on ttsc and season finale next week . 24 <text style=color:blue><i>[tired]</i></text> madame president is a <text style=color:blue><i>[weird]</i></text> woman .: -0.5574</text>"
      ],
      "text/plain": [
       "<IPython.core.display.HTML object>"
      ]
     },
     "metadata": {},
     "output_type": "display_data"
    },
    {
     "data": {
      "text/html": [
       "<text style=color:red>what about reese dying on ttsc and season finale next week . 24 <text style=color:blue><i>[tired]</i></text> madame president is a <text style=color:blue><i>[crazy]</i></text> woman .: -0.6486</text>"
      ],
      "text/plain": [
       "<IPython.core.display.HTML object>"
      ]
     },
     "metadata": {},
     "output_type": "display_data"
    },
    {
     "data": {
      "text/html": [
       "<text style=color:red>what about reese dying on ttsc and season finale next week . 24 <text style=color:blue><i>[tired]</i></text> madame president is a <text style=color:blue><i>[disturbed]</i></text> woman .: -0.6705</text>"
      ],
      "text/plain": [
       "<IPython.core.display.HTML object>"
      ]
     },
     "metadata": {},
     "output_type": "display_data"
    },
    {
     "data": {
      "text/html": [
       "<text style=color:red>what about reese dying on ttsc and season finale next week . 24 <text style=color:blue><i>[tired]</i></text> madame president is a <text style=color:blue><i>[stupid]</i></text> woman .: -0.743</text>"
      ],
      "text/plain": [
       "<IPython.core.display.HTML object>"
      ]
     },
     "metadata": {},
     "output_type": "display_data"
    },
    {
     "data": {
      "text/html": [
       "<text style=color:red>what about reese dying on ttsc and season finale next week . 24 <text style=color:blue><i>[tired]</i></text> madame president is a <text style=color:blue><i>[weirdo]</i></text> woman .: -0.6908</text>"
      ],
      "text/plain": [
       "<IPython.core.display.HTML object>"
      ]
     },
     "metadata": {},
     "output_type": "display_data"
    },
    {
     "data": {
      "text/html": [
       "<text style=color:red>what about reese dying on ttsc and season finale next week . 24 <text style=color:blue><i>[tired]</i></text> madame president is a <text style=color:blue><i>[sick]</i></text> woman .: -0.7351</text>"
      ],
      "text/plain": [
       "<IPython.core.display.HTML object>"
      ]
     },
     "metadata": {},
     "output_type": "display_data"
    },
    {
     "data": {
      "text/html": [
       "<text style=color:red>what about reese dying on ttsc and season finale next week . 24 <text style=color:blue><i>[tired]</i></text> madame president is a <text style=color:blue><i>[crazy]</i></text> woman .: -0.6486</text>"
      ],
      "text/plain": [
       "<IPython.core.display.HTML object>"
      ]
     },
     "metadata": {},
     "output_type": "display_data"
    },
    {
     "name": "stdout",
     "output_type": "stream",
     "text": [
      "--- More options (total: 90) possible, but not printed ---\n"
     ]
    },
    {
     "data": {
      "text/html": [
       "<text style=color:black>Actual Sentence:  what about reese dying on ttsc and season finale next week.  24 boring madame president is a crazy woman. :-0.5719</text>"
      ],
      "text/plain": [
       "<IPython.core.display.HTML object>"
      ]
     },
     "metadata": {},
     "output_type": "display_data"
    },
    {
     "data": {
      "text/html": [
       "<text style=color:red>Worst Sentence: what about reese dying on ttsc and season finale next week . 24 <text style=color:blue><i>[stupid]</i></text> madame president is a <text style=color:blue><i>[stupid]</i></text> woman . : -0.7783</text>"
      ],
      "text/plain": [
       "<IPython.core.display.HTML object>"
      ]
     },
     "metadata": {},
     "output_type": "display_data"
    },
    {
     "data": {
      "text/html": [
       "<text style=color:green>Best Sentence: what about reese dying on ttsc and season finale next week . 24 <text style=color:blue><i>[bored]</i></text> madame president is a <text style=color:blue><i>[funny]</i></text> woman . : 0.2023</text>"
      ],
      "text/plain": [
       "<IPython.core.display.HTML object>"
      ]
     },
     "metadata": {},
     "output_type": "display_data"
    },
    {
     "name": "stdout",
     "output_type": "stream",
     "text": [
      "\n",
      "\n",
      " Tweet:  i hate the limited letterstoo.hope you and the guys are finei pray for my dogsheï¿½s not well :-0.6266\n",
      "\n"
     ]
    },
    {
     "data": {
      "text/html": [
       "<text style=color:green><text style=color:blue><i>[i]</i></text> <text style=color:blue><i>[fuck]</i></text> the <text style=color:blue><i>[limited]</i></text> letterstoo.hope you and the guys are finei <text style=color:blue><i>[pray]</i></text> for my dogsheï¿½s easily: -0.1779</text>"
      ],
      "text/plain": [
       "<IPython.core.display.HTML object>"
      ]
     },
     "metadata": {},
     "output_type": "display_data"
    },
    {
     "data": {
      "text/html": [
       "<text style=color:green><text style=color:blue><i>[i]</i></text> <text style=color:blue><i>[fuck]</i></text> the <text style=color:blue><i>[limited]</i></text> letterstoo.hope you and the guys are finei <text style=color:blue><i>[pray]</i></text> for my dogsheï¿½s well: -0.25</text>"
      ],
      "text/plain": [
       "<IPython.core.display.HTML object>"
      ]
     },
     "metadata": {},
     "output_type": "display_data"
    },
    {
     "data": {
      "text/html": [
       "<text style=color:red><text style=color:blue><i>[i]</i></text> <text style=color:blue><i>[fuck]</i></text> the <text style=color:blue><i>[limited]</i></text> letterstoo.hope you and the guys are finei <text style=color:blue><i>[pray]</i></text> for my dogsheï¿½s disadvantageously: -0.7351</text>"
      ],
      "text/plain": [
       "<IPython.core.display.HTML object>"
      ]
     },
     "metadata": {},
     "output_type": "display_data"
    },
    {
     "data": {
      "text/html": [
       "<text style=color:green><text style=color:blue><i>[i]</i></text> <text style=color:blue><i>[fuck]</i></text> the <text style=color:blue><i>[limited]</i></text> letterstoo.hope you and the guys are finei <text style=color:blue><i>[pray]</i></text> for my dogsheï¿½s advantageously: -0.0516</text>"
      ],
      "text/plain": [
       "<IPython.core.display.HTML object>"
      ]
     },
     "metadata": {},
     "output_type": "display_data"
    },
    {
     "data": {
      "text/html": [
       "<text style=color:red><text style=color:blue><i>[i]</i></text> <text style=color:blue><i>[fuck]</i></text> the <text style=color:blue><i>[limited]</i></text> letterstoo.hope you and the guys are finei <text style=color:blue><i>[pray]</i></text> for my dogsheï¿½s badly: -0.7351</text>"
      ],
      "text/plain": [
       "<IPython.core.display.HTML object>"
      ]
     },
     "metadata": {},
     "output_type": "display_data"
    },
    {
     "data": {
      "text/html": [
       "<text style=color:green><text style=color:blue><i>[i]</i></text> <text style=color:blue><i>[fuck]</i></text> the <text style=color:blue><i>[limited]</i></text> letterstoo.hope you and the guys are finei <text style=color:blue><i>[pray]</i></text> for my dogsheï¿½s comfortably: -0.0772</text>"
      ],
      "text/plain": [
       "<IPython.core.display.HTML object>"
      ]
     },
     "metadata": {},
     "output_type": "display_data"
    },
    {
     "data": {
      "text/html": [
       "<text style=color:green><text style=color:blue><i>[i]</i></text> <text style=color:blue><i>[fuck]</i></text> the <text style=color:blue><i>[limited]</i></text> letterstoo.hope you and the guys are finei <text style=color:blue><i>[pray]</i></text> for my dogsheï¿½s well: -0.25</text>"
      ],
      "text/plain": [
       "<IPython.core.display.HTML object>"
      ]
     },
     "metadata": {},
     "output_type": "display_data"
    },
    {
     "data": {
      "text/html": [
       "<text style=color:green><text style=color:blue><i>[i]</i></text> <text style=color:blue><i>[fuck]</i></text> the <text style=color:blue><i>[limited]</i></text> letterstoo.hope you and the guys are finei <text style=color:blue><i>[god]</i></text> for my dogsheï¿½s easily: -0.2263</text>"
      ],
      "text/plain": [
       "<IPython.core.display.HTML object>"
      ]
     },
     "metadata": {},
     "output_type": "display_data"
    },
    {
     "data": {
      "text/html": [
       "<text style=color:green><text style=color:blue><i>[i]</i></text> <text style=color:blue><i>[fuck]</i></text> the <text style=color:blue><i>[limited]</i></text> letterstoo.hope you and the guys are finei <text style=color:blue><i>[god]</i></text> for my dogsheï¿½s well: -0.296</text>"
      ],
      "text/plain": [
       "<IPython.core.display.HTML object>"
      ]
     },
     "metadata": {},
     "output_type": "display_data"
    },
    {
     "data": {
      "text/html": [
       "<text style=color:red><text style=color:blue><i>[i]</i></text> <text style=color:blue><i>[fuck]</i></text> the <text style=color:blue><i>[limited]</i></text> letterstoo.hope you and the guys are finei <text style=color:blue><i>[god]</i></text> for my dogsheï¿½s disadvantageously: -0.7506</text>"
      ],
      "text/plain": [
       "<IPython.core.display.HTML object>"
      ]
     },
     "metadata": {},
     "output_type": "display_data"
    },
    {
     "data": {
      "text/html": [
       "<text style=color:green><text style=color:blue><i>[i]</i></text> <text style=color:blue><i>[fuck]</i></text> the <text style=color:blue><i>[limited]</i></text> letterstoo.hope you and the guys are finei <text style=color:blue><i>[god]</i></text> for my dogsheï¿½s advantageously: -0.1027</text>"
      ],
      "text/plain": [
       "<IPython.core.display.HTML object>"
      ]
     },
     "metadata": {},
     "output_type": "display_data"
    },
    {
     "data": {
      "text/html": [
       "<text style=color:red><text style=color:blue><i>[i]</i></text> <text style=color:blue><i>[fuck]</i></text> the <text style=color:blue><i>[limited]</i></text> letterstoo.hope you and the guys are finei <text style=color:blue><i>[god]</i></text> for my dogsheï¿½s badly: -0.7506</text>"
      ],
      "text/plain": [
       "<IPython.core.display.HTML object>"
      ]
     },
     "metadata": {},
     "output_type": "display_data"
    },
    {
     "data": {
      "text/html": [
       "<text style=color:green><text style=color:blue><i>[i]</i></text> <text style=color:blue><i>[fuck]</i></text> the <text style=color:blue><i>[limited]</i></text> letterstoo.hope you and the guys are finei <text style=color:blue><i>[god]</i></text> for my dogsheï¿½s comfortably: -0.128</text>"
      ],
      "text/plain": [
       "<IPython.core.display.HTML object>"
      ]
     },
     "metadata": {},
     "output_type": "display_data"
    },
    {
     "data": {
      "text/html": [
       "<text style=color:green><text style=color:blue><i>[i]</i></text> <text style=color:blue><i>[fuck]</i></text> the <text style=color:blue><i>[limited]</i></text> letterstoo.hope you and the guys are finei <text style=color:blue><i>[god]</i></text> for my dogsheï¿½s well: -0.296</text>"
      ],
      "text/plain": [
       "<IPython.core.display.HTML object>"
      ]
     },
     "metadata": {},
     "output_type": "display_data"
    },
    {
     "data": {
      "text/html": [
       "<text style=color:green><text style=color:blue><i>[i]</i></text> <text style=color:blue><i>[fuck]</i></text> the <text style=color:blue><i>[limited]</i></text> letterstoo.hope you and the guys are finei <text style=color:blue><i>[hope]</i></text> for my dogsheï¿½s easily: -0.0258</text>"
      ],
      "text/plain": [
       "<IPython.core.display.HTML object>"
      ]
     },
     "metadata": {},
     "output_type": "display_data"
    },
    {
     "data": {
      "text/html": [
       "<text style=color:green><text style=color:blue><i>[i]</i></text> <text style=color:blue><i>[fuck]</i></text> the <text style=color:blue><i>[limited]</i></text> letterstoo.hope you and the guys are finei <text style=color:blue><i>[hope]</i></text> for my dogsheï¿½s well: -0.1027</text>"
      ],
      "text/plain": [
       "<IPython.core.display.HTML object>"
      ]
     },
     "metadata": {},
     "output_type": "display_data"
    },
    {
     "data": {
      "text/html": [
       "<text style=color:red><text style=color:blue><i>[i]</i></text> <text style=color:blue><i>[fuck]</i></text> the <text style=color:blue><i>[limited]</i></text> letterstoo.hope you and the guys are finei <text style=color:blue><i>[hope]</i></text> for my dogsheï¿½s disadvantageously: -0.6808</text>"
      ],
      "text/plain": [
       "<IPython.core.display.HTML object>"
      ]
     },
     "metadata": {},
     "output_type": "display_data"
    },
    {
     "data": {
      "text/html": [
       "<text style=color:green><text style=color:blue><i>[i]</i></text> <text style=color:blue><i>[fuck]</i></text> the <text style=color:blue><i>[limited]</i></text> letterstoo.hope you and the guys are finei <text style=color:blue><i>[hope]</i></text> for my dogsheï¿½s advantageously: 0.1027</text>"
      ],
      "text/plain": [
       "<IPython.core.display.HTML object>"
      ]
     },
     "metadata": {},
     "output_type": "display_data"
    },
    {
     "data": {
      "text/html": [
       "<text style=color:red><text style=color:blue><i>[i]</i></text> <text style=color:blue><i>[fuck]</i></text> the <text style=color:blue><i>[limited]</i></text> letterstoo.hope you and the guys are finei <text style=color:blue><i>[hope]</i></text> for my dogsheï¿½s badly: -0.6808</text>"
      ],
      "text/plain": [
       "<IPython.core.display.HTML object>"
      ]
     },
     "metadata": {},
     "output_type": "display_data"
    },
    {
     "data": {
      "text/html": [
       "<text style=color:green><text style=color:blue><i>[i]</i></text> <text style=color:blue><i>[fuck]</i></text> the <text style=color:blue><i>[limited]</i></text> letterstoo.hope you and the guys are finei <text style=color:blue><i>[hope]</i></text> for my dogsheï¿½s comfortably: 0.0772</text>"
      ],
      "text/plain": [
       "<IPython.core.display.HTML object>"
      ]
     },
     "metadata": {},
     "output_type": "display_data"
    },
    {
     "data": {
      "text/html": [
       "<text style=color:green><text style=color:blue><i>[i]</i></text> <text style=color:blue><i>[fuck]</i></text> the <text style=color:blue><i>[limited]</i></text> letterstoo.hope you and the guys are finei <text style=color:blue><i>[hope]</i></text> for my dogsheï¿½s well: -0.1027</text>"
      ],
      "text/plain": [
       "<IPython.core.display.HTML object>"
      ]
     },
     "metadata": {},
     "output_type": "display_data"
    },
    {
     "data": {
      "text/html": [
       "<text style=color:green><text style=color:blue><i>[i]</i></text> <text style=color:blue><i>[fuck]</i></text> the <text style=color:blue><i>[limited]</i></text> letterstoo.hope you and the guys are finei <text style=color:blue><i>[pray]</i></text> for my dogsheï¿½s easily: -0.1779</text>"
      ],
      "text/plain": [
       "<IPython.core.display.HTML object>"
      ]
     },
     "metadata": {},
     "output_type": "display_data"
    },
    {
     "data": {
      "text/html": [
       "<text style=color:green><text style=color:blue><i>[i]</i></text> <text style=color:blue><i>[fuck]</i></text> the <text style=color:blue><i>[limited]</i></text> letterstoo.hope you and the guys are finei <text style=color:blue><i>[pray]</i></text> for my dogsheï¿½s well: -0.25</text>"
      ],
      "text/plain": [
       "<IPython.core.display.HTML object>"
      ]
     },
     "metadata": {},
     "output_type": "display_data"
    },
    {
     "data": {
      "text/html": [
       "<text style=color:red><text style=color:blue><i>[i]</i></text> <text style=color:blue><i>[fuck]</i></text> the <text style=color:blue><i>[limited]</i></text> letterstoo.hope you and the guys are finei <text style=color:blue><i>[pray]</i></text> for my dogsheï¿½s disadvantageously: -0.7351</text>"
      ],
      "text/plain": [
       "<IPython.core.display.HTML object>"
      ]
     },
     "metadata": {},
     "output_type": "display_data"
    },
    {
     "data": {
      "text/html": [
       "<text style=color:green><text style=color:blue><i>[i]</i></text> <text style=color:blue><i>[fuck]</i></text> the <text style=color:blue><i>[limited]</i></text> letterstoo.hope you and the guys are finei <text style=color:blue><i>[pray]</i></text> for my dogsheï¿½s advantageously: -0.0516</text>"
      ],
      "text/plain": [
       "<IPython.core.display.HTML object>"
      ]
     },
     "metadata": {},
     "output_type": "display_data"
    },
    {
     "data": {
      "text/html": [
       "<text style=color:red><text style=color:blue><i>[i]</i></text> <text style=color:blue><i>[fuck]</i></text> the <text style=color:blue><i>[limited]</i></text> letterstoo.hope you and the guys are finei <text style=color:blue><i>[pray]</i></text> for my dogsheï¿½s badly: -0.7351</text>"
      ],
      "text/plain": [
       "<IPython.core.display.HTML object>"
      ]
     },
     "metadata": {},
     "output_type": "display_data"
    },
    {
     "data": {
      "text/html": [
       "<text style=color:green><text style=color:blue><i>[i]</i></text> <text style=color:blue><i>[fuck]</i></text> the <text style=color:blue><i>[limited]</i></text> letterstoo.hope you and the guys are finei <text style=color:blue><i>[pray]</i></text> for my dogsheï¿½s comfortably: -0.0772</text>"
      ],
      "text/plain": [
       "<IPython.core.display.HTML object>"
      ]
     },
     "metadata": {},
     "output_type": "display_data"
    },
    {
     "data": {
      "text/html": [
       "<text style=color:green><text style=color:blue><i>[i]</i></text> <text style=color:blue><i>[fuck]</i></text> the <text style=color:blue><i>[limited]</i></text> letterstoo.hope you and the guys are finei <text style=color:blue><i>[pray]</i></text> for my dogsheï¿½s well: -0.25</text>"
      ],
      "text/plain": [
       "<IPython.core.display.HTML object>"
      ]
     },
     "metadata": {},
     "output_type": "display_data"
    },
    {
     "data": {
      "text/html": [
       "<text style=color:green><text style=color:blue><i>[i]</i></text> <text style=color:blue><i>[fuck]</i></text> the <text style=color:blue><i>[restrict]</i></text> letterstoo.hope you and the guys are finei <text style=color:blue><i>[pray]</i></text> for my dogsheï¿½s easily: -0.34</text>"
      ],
      "text/plain": [
       "<IPython.core.display.HTML object>"
      ]
     },
     "metadata": {},
     "output_type": "display_data"
    },
    {
     "data": {
      "text/html": [
       "<text style=color:green><text style=color:blue><i>[i]</i></text> <text style=color:blue><i>[fuck]</i></text> the <text style=color:blue><i>[restrict]</i></text> letterstoo.hope you and the guys are finei <text style=color:blue><i>[pray]</i></text> for my dogsheï¿½s well: -0.4019</text>"
      ],
      "text/plain": [
       "<IPython.core.display.HTML object>"
      ]
     },
     "metadata": {},
     "output_type": "display_data"
    },
    {
     "data": {
      "text/html": [
       "<text style=color:red><text style=color:blue><i>[i]</i></text> <text style=color:blue><i>[fuck]</i></text> the <text style=color:blue><i>[restrict]</i></text> letterstoo.hope you and the guys are finei <text style=color:blue><i>[pray]</i></text> for my dogsheï¿½s disadvantageously: -0.7845</text>"
      ],
      "text/plain": [
       "<IPython.core.display.HTML object>"
      ]
     },
     "metadata": {},
     "output_type": "display_data"
    },
    {
     "data": {
      "text/html": [
       "<text style=color:green><text style=color:blue><i>[i]</i></text> <text style=color:blue><i>[fuck]</i></text> the <text style=color:blue><i>[restrict]</i></text> letterstoo.hope you and the guys are finei <text style=color:blue><i>[pray]</i></text> for my dogsheï¿½s advantageously: -0.2263</text>"
      ],
      "text/plain": [
       "<IPython.core.display.HTML object>"
      ]
     },
     "metadata": {},
     "output_type": "display_data"
    },
    {
     "data": {
      "text/html": [
       "<text style=color:red><text style=color:blue><i>[i]</i></text> <text style=color:blue><i>[fuck]</i></text> the <text style=color:blue><i>[restrict]</i></text> letterstoo.hope you and the guys are finei <text style=color:blue><i>[pray]</i></text> for my dogsheï¿½s badly: -0.7845</text>"
      ],
      "text/plain": [
       "<IPython.core.display.HTML object>"
      ]
     },
     "metadata": {},
     "output_type": "display_data"
    },
    {
     "data": {
      "text/html": [
       "<text style=color:green><text style=color:blue><i>[i]</i></text> <text style=color:blue><i>[fuck]</i></text> the <text style=color:blue><i>[restrict]</i></text> letterstoo.hope you and the guys are finei <text style=color:blue><i>[pray]</i></text> for my dogsheï¿½s comfortably: -0.25</text>"
      ],
      "text/plain": [
       "<IPython.core.display.HTML object>"
      ]
     },
     "metadata": {},
     "output_type": "display_data"
    },
    {
     "data": {
      "text/html": [
       "<text style=color:green><text style=color:blue><i>[i]</i></text> <text style=color:blue><i>[fuck]</i></text> the <text style=color:blue><i>[restrict]</i></text> letterstoo.hope you and the guys are finei <text style=color:blue><i>[pray]</i></text> for my dogsheï¿½s well: -0.4019</text>"
      ],
      "text/plain": [
       "<IPython.core.display.HTML object>"
      ]
     },
     "metadata": {},
     "output_type": "display_data"
    },
    {
     "data": {
      "text/html": [
       "<text style=color:green><text style=color:blue><i>[i]</i></text> <text style=color:blue><i>[fuck]</i></text> the <text style=color:blue><i>[restrict]</i></text> letterstoo.hope you and the guys are finei <text style=color:blue><i>[god]</i></text> for my dogsheï¿½s easily: -0.3818</text>"
      ],
      "text/plain": [
       "<IPython.core.display.HTML object>"
      ]
     },
     "metadata": {},
     "output_type": "display_data"
    },
    {
     "data": {
      "text/html": [
       "<text style=color:green><text style=color:blue><i>[i]</i></text> <text style=color:blue><i>[fuck]</i></text> the <text style=color:blue><i>[restrict]</i></text> letterstoo.hope you and the guys are finei <text style=color:blue><i>[god]</i></text> for my dogsheï¿½s well: -0.4404</text>"
      ],
      "text/plain": [
       "<IPython.core.display.HTML object>"
      ]
     },
     "metadata": {},
     "output_type": "display_data"
    },
    {
     "data": {
      "text/html": [
       "<text style=color:red><text style=color:blue><i>[i]</i></text> <text style=color:blue><i>[fuck]</i></text> the <text style=color:blue><i>[restrict]</i></text> letterstoo.hope you and the guys are finei <text style=color:blue><i>[god]</i></text> for my dogsheï¿½s disadvantageously: -0.7964</text>"
      ],
      "text/plain": [
       "<IPython.core.display.HTML object>"
      ]
     },
     "metadata": {},
     "output_type": "display_data"
    },
    {
     "data": {
      "text/html": [
       "<text style=color:green><text style=color:blue><i>[i]</i></text> <text style=color:blue><i>[fuck]</i></text> the <text style=color:blue><i>[restrict]</i></text> letterstoo.hope you and the guys are finei <text style=color:blue><i>[god]</i></text> for my dogsheï¿½s advantageously: -0.2732</text>"
      ],
      "text/plain": [
       "<IPython.core.display.HTML object>"
      ]
     },
     "metadata": {},
     "output_type": "display_data"
    },
    {
     "data": {
      "text/html": [
       "<text style=color:red><text style=color:blue><i>[i]</i></text> <text style=color:blue><i>[fuck]</i></text> the <text style=color:blue><i>[restrict]</i></text> letterstoo.hope you and the guys are finei <text style=color:blue><i>[god]</i></text> for my dogsheï¿½s badly: -0.7964</text>"
      ],
      "text/plain": [
       "<IPython.core.display.HTML object>"
      ]
     },
     "metadata": {},
     "output_type": "display_data"
    },
    {
     "data": {
      "text/html": [
       "<text style=color:green><text style=color:blue><i>[i]</i></text> <text style=color:blue><i>[fuck]</i></text> the <text style=color:blue><i>[restrict]</i></text> letterstoo.hope you and the guys are finei <text style=color:blue><i>[god]</i></text> for my dogsheï¿½s comfortably: -0.296</text>"
      ],
      "text/plain": [
       "<IPython.core.display.HTML object>"
      ]
     },
     "metadata": {},
     "output_type": "display_data"
    },
    {
     "data": {
      "text/html": [
       "<text style=color:green><text style=color:blue><i>[i]</i></text> <text style=color:blue><i>[fuck]</i></text> the <text style=color:blue><i>[restrict]</i></text> letterstoo.hope you and the guys are finei <text style=color:blue><i>[god]</i></text> for my dogsheï¿½s well: -0.4404</text>"
      ],
      "text/plain": [
       "<IPython.core.display.HTML object>"
      ]
     },
     "metadata": {},
     "output_type": "display_data"
    },
    {
     "data": {
      "text/html": [
       "<text style=color:green><text style=color:blue><i>[i]</i></text> <text style=color:blue><i>[fuck]</i></text> the <text style=color:blue><i>[restrict]</i></text> letterstoo.hope you and the guys are finei <text style=color:blue><i>[hope]</i></text> for my dogsheï¿½s easily: -0.2023</text>"
      ],
      "text/plain": [
       "<IPython.core.display.HTML object>"
      ]
     },
     "metadata": {},
     "output_type": "display_data"
    },
    {
     "data": {
      "text/html": [
       "<text style=color:green><text style=color:blue><i>[i]</i></text> <text style=color:blue><i>[fuck]</i></text> the <text style=color:blue><i>[restrict]</i></text> letterstoo.hope you and the guys are finei <text style=color:blue><i>[hope]</i></text> for my dogsheï¿½s well: -0.2732</text>"
      ],
      "text/plain": [
       "<IPython.core.display.HTML object>"
      ]
     },
     "metadata": {},
     "output_type": "display_data"
    },
    {
     "data": {
      "text/html": [
       "<text style=color:red><text style=color:blue><i>[i]</i></text> <text style=color:blue><i>[fuck]</i></text> the <text style=color:blue><i>[restrict]</i></text> letterstoo.hope you and the guys are finei <text style=color:blue><i>[hope]</i></text> for my dogsheï¿½s disadvantageously: -0.743</text>"
      ],
      "text/plain": [
       "<IPython.core.display.HTML object>"
      ]
     },
     "metadata": {},
     "output_type": "display_data"
    },
    {
     "data": {
      "text/html": [
       "<text style=color:green><text style=color:blue><i>[i]</i></text> <text style=color:blue><i>[fuck]</i></text> the <text style=color:blue><i>[restrict]</i></text> letterstoo.hope you and the guys are finei <text style=color:blue><i>[hope]</i></text> for my dogsheï¿½s advantageously: -0.0772</text>"
      ],
      "text/plain": [
       "<IPython.core.display.HTML object>"
      ]
     },
     "metadata": {},
     "output_type": "display_data"
    },
    {
     "data": {
      "text/html": [
       "<text style=color:red><text style=color:blue><i>[i]</i></text> <text style=color:blue><i>[fuck]</i></text> the <text style=color:blue><i>[restrict]</i></text> letterstoo.hope you and the guys are finei <text style=color:blue><i>[hope]</i></text> for my dogsheï¿½s badly: -0.743</text>"
      ],
      "text/plain": [
       "<IPython.core.display.HTML object>"
      ]
     },
     "metadata": {},
     "output_type": "display_data"
    },
    {
     "data": {
      "text/html": [
       "<text style=color:green><text style=color:blue><i>[i]</i></text> <text style=color:blue><i>[fuck]</i></text> the <text style=color:blue><i>[restrict]</i></text> letterstoo.hope you and the guys are finei <text style=color:blue><i>[hope]</i></text> for my dogsheï¿½s comfortably: -0.1027</text>"
      ],
      "text/plain": [
       "<IPython.core.display.HTML object>"
      ]
     },
     "metadata": {},
     "output_type": "display_data"
    },
    {
     "data": {
      "text/html": [
       "<text style=color:green><text style=color:blue><i>[i]</i></text> <text style=color:blue><i>[fuck]</i></text> the <text style=color:blue><i>[restrict]</i></text> letterstoo.hope you and the guys are finei <text style=color:blue><i>[hope]</i></text> for my dogsheï¿½s well: -0.2732</text>"
      ],
      "text/plain": [
       "<IPython.core.display.HTML object>"
      ]
     },
     "metadata": {},
     "output_type": "display_data"
    },
    {
     "data": {
      "text/html": [
       "<text style=color:green><text style=color:blue><i>[i]</i></text> <text style=color:blue><i>[fuck]</i></text> the <text style=color:blue><i>[restrict]</i></text> letterstoo.hope you and the guys are finei <text style=color:blue><i>[pray]</i></text> for my dogsheï¿½s easily: -0.34</text>"
      ],
      "text/plain": [
       "<IPython.core.display.HTML object>"
      ]
     },
     "metadata": {},
     "output_type": "display_data"
    },
    {
     "name": "stdout",
     "output_type": "stream",
     "text": [
      "--- More options (total: 700) possible, but not printed ---\n"
     ]
    },
    {
     "data": {
      "text/html": [
       "<text style=color:black>Actual Sentence:  i hate the limited letterstoo.hope you and the guys are finei pray for my dogsheï¿½s not well  :-0.6266</text>"
      ],
      "text/plain": [
       "<IPython.core.display.HTML object>"
      ]
     },
     "metadata": {},
     "output_type": "display_data"
    },
    {
     "data": {
      "text/html": [
       "<text style=color:red>Worst Sentence: <text style=color:blue><i>[i]</i></text> <text style=color:blue><i>[hate]</i></text> the <text style=color:blue><i>[restrict]</i></text> letterstoo.hope you and the guys are finei <text style=color:blue><i>[god]</i></text> for my dogsheï¿½s disadvantageously : -0.8074</text>"
      ],
      "text/plain": [
       "<IPython.core.display.HTML object>"
      ]
     },
     "metadata": {},
     "output_type": "display_data"
    },
    {
     "data": {
      "text/html": [
       "<text style=color:green>Best Sentence: <text style=color:blue><i>[i]</i></text> <text style=color:blue><i>[love]</i></text> the <text style=color:blue><i>[special]</i></text> letterstoo.hope you and the guys are finei <text style=color:blue><i>[hope]</i></text> for my dogsheï¿½s advantageously : 0.9136</text>"
      ],
      "text/plain": [
       "<IPython.core.display.HTML object>"
      ]
     },
     "metadata": {},
     "output_type": "display_data"
    },
    {
     "name": "stdout",
     "output_type": "stream",
     "text": [
      "\n",
      "\n",
      " Tweet: did not get shit done today  i am so screwed :-0.2942\n",
      "\n"
     ]
    },
    {
     "data": {
      "text/html": [
       "<text style=color:red><text style=color:blue><i>[did]</i></text> get <text style=color:blue><i>[hell]</i></text> done today i am so fucked: -0.9045</text>"
      ],
      "text/plain": [
       "<IPython.core.display.HTML object>"
      ]
     },
     "metadata": {},
     "output_type": "display_data"
    },
    {
     "data": {
      "text/html": [
       "<text style=color:red><text style=color:blue><i>[did]</i></text> get <text style=color:blue><i>[hell]</i></text> done today i am so ruined: -0.8622</text>"
      ],
      "text/plain": [
       "<IPython.core.display.HTML object>"
      ]
     },
     "metadata": {},
     "output_type": "display_data"
    },
    {
     "data": {
      "text/html": [
       "<text style=color:red><text style=color:blue><i>[did]</i></text> get <text style=color:blue><i>[hell]</i></text> done today i am so screwed: -0.8663</text>"
      ],
      "text/plain": [
       "<IPython.core.display.HTML object>"
      ]
     },
     "metadata": {},
     "output_type": "display_data"
    },
    {
     "data": {
      "text/html": [
       "<text style=color:red><text style=color:blue><i>[did]</i></text> get <text style=color:blue><i>[sob]</i></text> done today i am so fucked: -0.8232</text>"
      ],
      "text/plain": [
       "<IPython.core.display.HTML object>"
      ]
     },
     "metadata": {},
     "output_type": "display_data"
    },
    {
     "data": {
      "text/html": [
       "<text style=color:red><text style=color:blue><i>[did]</i></text> get <text style=color:blue><i>[sob]</i></text> done today i am so ruined: -0.7177</text>"
      ],
      "text/plain": [
       "<IPython.core.display.HTML object>"
      ]
     },
     "metadata": {},
     "output_type": "display_data"
    },
    {
     "data": {
      "text/html": [
       "<text style=color:red><text style=color:blue><i>[did]</i></text> get <text style=color:blue><i>[sob]</i></text> done today i am so screwed: -0.7283</text>"
      ],
      "text/plain": [
       "<IPython.core.display.HTML object>"
      ]
     },
     "metadata": {},
     "output_type": "display_data"
    },
    {
     "data": {
      "text/html": [
       "<text style=color:red><text style=color:blue><i>[did]</i></text> get <text style=color:blue><i>[shit]</i></text> done today i am so fucked: -0.8811</text>"
      ],
      "text/plain": [
       "<IPython.core.display.HTML object>"
      ]
     },
     "metadata": {},
     "output_type": "display_data"
    },
    {
     "data": {
      "text/html": [
       "<text style=color:red><text style=color:blue><i>[did]</i></text> get <text style=color:blue><i>[shit]</i></text> done today i am so ruined: -0.822</text>"
      ],
      "text/plain": [
       "<IPython.core.display.HTML object>"
      ]
     },
     "metadata": {},
     "output_type": "display_data"
    },
    {
     "data": {
      "text/html": [
       "<text style=color:red><text style=color:blue><i>[did]</i></text> get <text style=color:blue><i>[shit]</i></text> done today i am so screwed: -0.8279</text>"
      ],
      "text/plain": [
       "<IPython.core.display.HTML object>"
      ]
     },
     "metadata": {},
     "output_type": "display_data"
    },
    {
     "data": {
      "text/html": [
       "<text style=color:red><text style=color:blue><i>[did]</i></text> get <text style=color:blue><i>[denounce]</i></text> done today i am so fucked: -0.8408</text>"
      ],
      "text/plain": [
       "<IPython.core.display.HTML object>"
      ]
     },
     "metadata": {},
     "output_type": "display_data"
    },
    {
     "data": {
      "text/html": [
       "<text style=color:red><text style=color:blue><i>[did]</i></text> get <text style=color:blue><i>[denounce]</i></text> done today i am so ruined: -0.75</text>"
      ],
      "text/plain": [
       "<IPython.core.display.HTML object>"
      ]
     },
     "metadata": {},
     "output_type": "display_data"
    },
    {
     "data": {
      "text/html": [
       "<text style=color:red><text style=color:blue><i>[did]</i></text> get <text style=color:blue><i>[denounce]</i></text> done today i am so screwed: -0.7591</text>"
      ],
      "text/plain": [
       "<IPython.core.display.HTML object>"
      ]
     },
     "metadata": {},
     "output_type": "display_data"
    },
    {
     "data": {
      "text/html": [
       "<text style=color:red><text style=color:blue><i>[did]</i></text> get <text style=color:blue><i>[prick]</i></text> done today i am so fucked: -0.8408</text>"
      ],
      "text/plain": [
       "<IPython.core.display.HTML object>"
      ]
     },
     "metadata": {},
     "output_type": "display_data"
    },
    {
     "data": {
      "text/html": [
       "<text style=color:red><text style=color:blue><i>[did]</i></text> get <text style=color:blue><i>[prick]</i></text> done today i am so ruined: -0.75</text>"
      ],
      "text/plain": [
       "<IPython.core.display.HTML object>"
      ]
     },
     "metadata": {},
     "output_type": "display_data"
    },
    {
     "data": {
      "text/html": [
       "<text style=color:red><text style=color:blue><i>[did]</i></text> get <text style=color:blue><i>[prick]</i></text> done today i am so screwed: -0.7591</text>"
      ],
      "text/plain": [
       "<IPython.core.display.HTML object>"
      ]
     },
     "metadata": {},
     "output_type": "display_data"
    },
    {
     "data": {
      "text/html": [
       "<text style=color:red><text style=color:blue><i>[did]</i></text> get <text style=color:blue><i>[whoreson]</i></text> done today i am so fucked: -0.8695</text>"
      ],
      "text/plain": [
       "<IPython.core.display.HTML object>"
      ]
     },
     "metadata": {},
     "output_type": "display_data"
    },
    {
     "data": {
      "text/html": [
       "<text style=color:red><text style=color:blue><i>[did]</i></text> get <text style=color:blue><i>[whoreson]</i></text> done today i am so ruined: -0.8015</text>"
      ],
      "text/plain": [
       "<IPython.core.display.HTML object>"
      ]
     },
     "metadata": {},
     "output_type": "display_data"
    },
    {
     "data": {
      "text/html": [
       "<text style=color:red><text style=color:blue><i>[did]</i></text> get <text style=color:blue><i>[whoreson]</i></text> done today i am so screwed: -0.8083</text>"
      ],
      "text/plain": [
       "<IPython.core.display.HTML object>"
      ]
     },
     "metadata": {},
     "output_type": "display_data"
    },
    {
     "data": {
      "text/html": [
       "<text style=color:red><text style=color:blue><i>[did]</i></text> get <text style=color:blue><i>[crap]</i></text> done today i am so fucked: -0.8487</text>"
      ],
      "text/plain": [
       "<IPython.core.display.HTML object>"
      ]
     },
     "metadata": {},
     "output_type": "display_data"
    },
    {
     "data": {
      "text/html": [
       "<text style=color:red><text style=color:blue><i>[did]</i></text> get <text style=color:blue><i>[crap]</i></text> done today i am so ruined: -0.7644</text>"
      ],
      "text/plain": [
       "<IPython.core.display.HTML object>"
      ]
     },
     "metadata": {},
     "output_type": "display_data"
    },
    {
     "data": {
      "text/html": [
       "<text style=color:red><text style=color:blue><i>[did]</i></text> get <text style=color:blue><i>[crap]</i></text> done today i am so screwed: -0.7728</text>"
      ],
      "text/plain": [
       "<IPython.core.display.HTML object>"
      ]
     },
     "metadata": {},
     "output_type": "display_data"
    },
    {
     "data": {
      "text/html": [
       "<text style=color:red><text style=color:blue><i>[did]</i></text> get <text style=color:blue><i>[bitch]</i></text> done today i am so fucked: -0.8864</text>"
      ],
      "text/plain": [
       "<IPython.core.display.HTML object>"
      ]
     },
     "metadata": {},
     "output_type": "display_data"
    },
    {
     "data": {
      "text/html": [
       "<text style=color:red><text style=color:blue><i>[did]</i></text> get <text style=color:blue><i>[bitch]</i></text> done today i am so ruined: -0.8312</text>"
      ],
      "text/plain": [
       "<IPython.core.display.HTML object>"
      ]
     },
     "metadata": {},
     "output_type": "display_data"
    },
    {
     "data": {
      "text/html": [
       "<text style=color:red><text style=color:blue><i>[did]</i></text> get <text style=color:blue><i>[bitch]</i></text> done today i am so screwed: -0.8367</text>"
      ],
      "text/plain": [
       "<IPython.core.display.HTML object>"
      ]
     },
     "metadata": {},
     "output_type": "display_data"
    },
    {
     "data": {
      "text/html": [
       "<text style=color:red><text style=color:blue><i>[did]</i></text> get <text style=color:blue><i>[bastard]</i></text> done today i am so fucked: -0.8783</text>"
      ],
      "text/plain": [
       "<IPython.core.display.HTML object>"
      ]
     },
     "metadata": {},
     "output_type": "display_data"
    },
    {
     "data": {
      "text/html": [
       "<text style=color:red><text style=color:blue><i>[did]</i></text> get <text style=color:blue><i>[bastard]</i></text> done today i am so ruined: -0.8172</text>"
      ],
      "text/plain": [
       "<IPython.core.display.HTML object>"
      ]
     },
     "metadata": {},
     "output_type": "display_data"
    },
    {
     "data": {
      "text/html": [
       "<text style=color:red><text style=color:blue><i>[did]</i></text> get <text style=color:blue><i>[bastard]</i></text> done today i am so screwed: -0.8232</text>"
      ],
      "text/plain": [
       "<IPython.core.display.HTML object>"
      ]
     },
     "metadata": {},
     "output_type": "display_data"
    },
    {
     "data": {
      "text/html": [
       "<text style=color:red><text style=color:blue><i>[did]</i></text> get <text style=color:blue><i>[motherfucker]</i></text> done today i am so fucked: -0.9045</text>"
      ],
      "text/plain": [
       "<IPython.core.display.HTML object>"
      ]
     },
     "metadata": {},
     "output_type": "display_data"
    },
    {
     "data": {
      "text/html": [
       "<text style=color:red><text style=color:blue><i>[did]</i></text> get <text style=color:blue><i>[motherfucker]</i></text> done today i am so ruined: -0.8622</text>"
      ],
      "text/plain": [
       "<IPython.core.display.HTML object>"
      ]
     },
     "metadata": {},
     "output_type": "display_data"
    },
    {
     "data": {
      "text/html": [
       "<text style=color:red><text style=color:blue><i>[did]</i></text> get <text style=color:blue><i>[motherfucker]</i></text> done today i am so screwed: -0.8663</text>"
      ],
      "text/plain": [
       "<IPython.core.display.HTML object>"
      ]
     },
     "metadata": {},
     "output_type": "display_data"
    },
    {
     "data": {
      "text/html": [
       "<text style=color:red><text style=color:blue><i>[did]</i></text> get <text style=color:blue><i>[dickhead]</i></text> done today i am so fucked: -0.8937</text>"
      ],
      "text/plain": [
       "<IPython.core.display.HTML object>"
      ]
     },
     "metadata": {},
     "output_type": "display_data"
    },
    {
     "data": {
      "text/html": [
       "<text style=color:red><text style=color:blue><i>[did]</i></text> get <text style=color:blue><i>[dickhead]</i></text> done today i am so ruined: -0.8439</text>"
      ],
      "text/plain": [
       "<IPython.core.display.HTML object>"
      ]
     },
     "metadata": {},
     "output_type": "display_data"
    },
    {
     "data": {
      "text/html": [
       "<text style=color:red><text style=color:blue><i>[did]</i></text> get <text style=color:blue><i>[dickhead]</i></text> done today i am so screwed: -0.8487</text>"
      ],
      "text/plain": [
       "<IPython.core.display.HTML object>"
      ]
     },
     "metadata": {},
     "output_type": "display_data"
    },
    {
     "data": {
      "text/html": [
       "<text style=color:red><text style=color:blue><i>[did]</i></text> get <text style=color:blue><i>[dirt]</i></text> done today i am so fucked: -0.8408</text>"
      ],
      "text/plain": [
       "<IPython.core.display.HTML object>"
      ]
     },
     "metadata": {},
     "output_type": "display_data"
    },
    {
     "data": {
      "text/html": [
       "<text style=color:red><text style=color:blue><i>[did]</i></text> get <text style=color:blue><i>[dirt]</i></text> done today i am so ruined: -0.75</text>"
      ],
      "text/plain": [
       "<IPython.core.display.HTML object>"
      ]
     },
     "metadata": {},
     "output_type": "display_data"
    },
    {
     "data": {
      "text/html": [
       "<text style=color:red><text style=color:blue><i>[did]</i></text> get <text style=color:blue><i>[dirt]</i></text> done today i am so screwed: -0.7591</text>"
      ],
      "text/plain": [
       "<IPython.core.display.HTML object>"
      ]
     },
     "metadata": {},
     "output_type": "display_data"
    },
    {
     "data": {
      "text/html": [
       "<text style=color:red><text style=color:blue><i>[did]</i></text> get <text style=color:blue><i>[dump]</i></text> done today i am so fucked: -0.8487</text>"
      ],
      "text/plain": [
       "<IPython.core.display.HTML object>"
      ]
     },
     "metadata": {},
     "output_type": "display_data"
    },
    {
     "data": {
      "text/html": [
       "<text style=color:red><text style=color:blue><i>[did]</i></text> get <text style=color:blue><i>[dump]</i></text> done today i am so ruined: -0.7644</text>"
      ],
      "text/plain": [
       "<IPython.core.display.HTML object>"
      ]
     },
     "metadata": {},
     "output_type": "display_data"
    },
    {
     "data": {
      "text/html": [
       "<text style=color:red><text style=color:blue><i>[did]</i></text> get <text style=color:blue><i>[dump]</i></text> done today i am so screwed: -0.7728</text>"
      ],
      "text/plain": [
       "<IPython.core.display.HTML object>"
      ]
     },
     "metadata": {},
     "output_type": "display_data"
    },
    {
     "data": {
      "text/html": [
       "<text style=color:red><text style=color:blue><i>[did]</i></text> get <text style=color:blue><i>[cocksucker]</i></text> done today i am so fucked: -0.8937</text>"
      ],
      "text/plain": [
       "<IPython.core.display.HTML object>"
      ]
     },
     "metadata": {},
     "output_type": "display_data"
    },
    {
     "data": {
      "text/html": [
       "<text style=color:red><text style=color:blue><i>[did]</i></text> get <text style=color:blue><i>[cocksucker]</i></text> done today i am so ruined: -0.8439</text>"
      ],
      "text/plain": [
       "<IPython.core.display.HTML object>"
      ]
     },
     "metadata": {},
     "output_type": "display_data"
    },
    {
     "data": {
      "text/html": [
       "<text style=color:red><text style=color:blue><i>[did]</i></text> get <text style=color:blue><i>[cocksucker]</i></text> done today i am so screwed: -0.8487</text>"
      ],
      "text/plain": [
       "<IPython.core.display.HTML object>"
      ]
     },
     "metadata": {},
     "output_type": "display_data"
    },
    {
     "data": {
      "text/html": [
       "<text style=color:red><text style=color:blue><i>[did]</i></text> get <text style=color:blue><i>[shit]</i></text> done today i am so fucked: -0.8811</text>"
      ],
      "text/plain": [
       "<IPython.core.display.HTML object>"
      ]
     },
     "metadata": {},
     "output_type": "display_data"
    },
    {
     "data": {
      "text/html": [
       "<text style=color:red><text style=color:blue><i>[did]</i></text> get <text style=color:blue><i>[shit]</i></text> done today i am so ruined: -0.822</text>"
      ],
      "text/plain": [
       "<IPython.core.display.HTML object>"
      ]
     },
     "metadata": {},
     "output_type": "display_data"
    },
    {
     "data": {
      "text/html": [
       "<text style=color:red><text style=color:blue><i>[did]</i></text> get <text style=color:blue><i>[shit]</i></text> done today i am so screwed: -0.8279</text>"
      ],
      "text/plain": [
       "<IPython.core.display.HTML object>"
      ]
     },
     "metadata": {},
     "output_type": "display_data"
    },
    {
     "data": {
      "text/html": [
       "<text style=color:black>Actual Sentence: did not get shit done today  i am so screwed  :-0.2942</text>"
      ],
      "text/plain": [
       "<IPython.core.display.HTML object>"
      ]
     },
     "metadata": {},
     "output_type": "display_data"
    },
    {
     "data": {
      "text/html": [
       "<text style=color:red>Worst Sentence: <text style=color:blue><i>[did]</i></text> get <text style=color:blue><i>[motherfucker]</i></text> done today i am so fucked : -0.9045</text>"
      ],
      "text/plain": [
       "<IPython.core.display.HTML object>"
      ]
     },
     "metadata": {},
     "output_type": "display_data"
    },
    {
     "data": {
      "text/html": [
       "<text style=color:green>Best Sentence: <text style=color:blue><i>[did]</i></text> get <text style=color:blue><i>[sob]</i></text> done today i am so ruined : -0.7177</text>"
      ],
      "text/plain": [
       "<IPython.core.display.HTML object>"
      ]
     },
     "metadata": {},
     "output_type": "display_data"
    },
    {
     "name": "stdout",
     "output_type": "stream",
     "text": [
      "\n",
      "\n",
      " Tweet: too worried and tired to post tonight :-0.6249\n",
      "\n"
     ]
    },
    {
     "data": {
      "text/html": [
       "<text style=color:green>too <text style=color:blue><i>[worried]</i></text> and <text style=color:blue><i>[weary]</i></text> to post tonight: -0.5106</text>"
      ],
      "text/plain": [
       "<IPython.core.display.HTML object>"
      ]
     },
     "metadata": {},
     "output_type": "display_data"
    },
    {
     "data": {
      "text/html": [
       "<text style=color:green>too <text style=color:blue><i>[worried]</i></text> and <text style=color:blue><i>[bored]</i></text> to post tonight: -0.5106</text>"
      ],
      "text/plain": [
       "<IPython.core.display.HTML object>"
      ]
     },
     "metadata": {},
     "output_type": "display_data"
    },
    {
     "data": {
      "text/html": [
       "<text style=color:black>too <text style=color:blue><i>[worried]</i></text> and <text style=color:blue><i>[tired]</i></text> to post tonight: -0.6249</text>"
      ],
      "text/plain": [
       "<IPython.core.display.HTML object>"
      ]
     },
     "metadata": {},
     "output_type": "display_data"
    },
    {
     "data": {
      "text/html": [
       "<text style=color:green>too <text style=color:blue><i>[worried]</i></text> and <text style=color:blue><i>[ugh]</i></text> to post tonight: -0.6124</text>"
      ],
      "text/plain": [
       "<IPython.core.display.HTML object>"
      ]
     },
     "metadata": {},
     "output_type": "display_data"
    },
    {
     "data": {
      "text/html": [
       "<text style=color:green>too <text style=color:blue><i>[worried]</i></text> and <text style=color:blue><i>[exhausted]</i></text> to post tonight: -0.5719</text>"
      ],
      "text/plain": [
       "<IPython.core.display.HTML object>"
      ]
     },
     "metadata": {},
     "output_type": "display_data"
    },
    {
     "data": {
      "text/html": [
       "<text style=color:red>too <text style=color:blue><i>[worried]</i></text> and <text style=color:blue><i>[sick]</i></text> to post tonight: -0.6705</text>"
      ],
      "text/plain": [
       "<IPython.core.display.HTML object>"
      ]
     },
     "metadata": {},
     "output_type": "display_data"
    },
    {
     "data": {
      "text/html": [
       "<text style=color:black>too <text style=color:blue><i>[worried]</i></text> and <text style=color:blue><i>[tired]</i></text> to post tonight: -0.6249</text>"
      ],
      "text/plain": [
       "<IPython.core.display.HTML object>"
      ]
     },
     "metadata": {},
     "output_type": "display_data"
    },
    {
     "data": {
      "text/html": [
       "<text style=color:green>too <text style=color:blue><i>[scared]</i></text> and <text style=color:blue><i>[weary]</i></text> to post tonight: -0.6124</text>"
      ],
      "text/plain": [
       "<IPython.core.display.HTML object>"
      ]
     },
     "metadata": {},
     "output_type": "display_data"
    },
    {
     "data": {
      "text/html": [
       "<text style=color:green>too <text style=color:blue><i>[scared]</i></text> and <text style=color:blue><i>[bored]</i></text> to post tonight: -0.6124</text>"
      ],
      "text/plain": [
       "<IPython.core.display.HTML object>"
      ]
     },
     "metadata": {},
     "output_type": "display_data"
    },
    {
     "data": {
      "text/html": [
       "<text style=color:red>too <text style=color:blue><i>[scared]</i></text> and <text style=color:blue><i>[tired]</i></text> to post tonight: -0.7003</text>"
      ],
      "text/plain": [
       "<IPython.core.display.HTML object>"
      ]
     },
     "metadata": {},
     "output_type": "display_data"
    },
    {
     "data": {
      "text/html": [
       "<text style=color:red>too <text style=color:blue><i>[scared]</i></text> and <text style=color:blue><i>[ugh]</i></text> to post tonight: -0.6908</text>"
      ],
      "text/plain": [
       "<IPython.core.display.HTML object>"
      ]
     },
     "metadata": {},
     "output_type": "display_data"
    },
    {
     "data": {
      "text/html": [
       "<text style=color:red>too <text style=color:blue><i>[scared]</i></text> and <text style=color:blue><i>[exhausted]</i></text> to post tonight: -0.6597</text>"
      ],
      "text/plain": [
       "<IPython.core.display.HTML object>"
      ]
     },
     "metadata": {},
     "output_type": "display_data"
    },
    {
     "data": {
      "text/html": [
       "<text style=color:red>too <text style=color:blue><i>[scared]</i></text> and <text style=color:blue><i>[sick]</i></text> to post tonight: -0.7351</text>"
      ],
      "text/plain": [
       "<IPython.core.display.HTML object>"
      ]
     },
     "metadata": {},
     "output_type": "display_data"
    },
    {
     "data": {
      "text/html": [
       "<text style=color:red>too <text style=color:blue><i>[scared]</i></text> and <text style=color:blue><i>[tired]</i></text> to post tonight: -0.7003</text>"
      ],
      "text/plain": [
       "<IPython.core.display.HTML object>"
      ]
     },
     "metadata": {},
     "output_type": "display_data"
    },
    {
     "data": {
      "text/html": [
       "<text style=color:green>too <text style=color:blue><i>[reassure]</i></text> and <text style=color:blue><i>[weary]</i></text> to post tonight: 0.0772</text>"
      ],
      "text/plain": [
       "<IPython.core.display.HTML object>"
      ]
     },
     "metadata": {},
     "output_type": "display_data"
    },
    {
     "data": {
      "text/html": [
       "<text style=color:green>too <text style=color:blue><i>[reassure]</i></text> and <text style=color:blue><i>[bored]</i></text> to post tonight: 0.0772</text>"
      ],
      "text/plain": [
       "<IPython.core.display.HTML object>"
      ]
     },
     "metadata": {},
     "output_type": "display_data"
    },
    {
     "data": {
      "text/html": [
       "<text style=color:green>too <text style=color:blue><i>[reassure]</i></text> and <text style=color:blue><i>[tired]</i></text> to post tonight: -0.128</text>"
      ],
      "text/plain": [
       "<IPython.core.display.HTML object>"
      ]
     },
     "metadata": {},
     "output_type": "display_data"
    },
    {
     "data": {
      "text/html": [
       "<text style=color:green>too <text style=color:blue><i>[reassure]</i></text> and <text style=color:blue><i>[ugh]</i></text> to post tonight: -0.1027</text>"
      ],
      "text/plain": [
       "<IPython.core.display.HTML object>"
      ]
     },
     "metadata": {},
     "output_type": "display_data"
    },
    {
     "data": {
      "text/html": [
       "<text style=color:green>too <text style=color:blue><i>[reassure]</i></text> and <text style=color:blue><i>[exhausted]</i></text> to post tonight: -0.0258</text>"
      ],
      "text/plain": [
       "<IPython.core.display.HTML object>"
      ]
     },
     "metadata": {},
     "output_type": "display_data"
    },
    {
     "data": {
      "text/html": [
       "<text style=color:green>too <text style=color:blue><i>[reassure]</i></text> and <text style=color:blue><i>[sick]</i></text> to post tonight: -0.2263</text>"
      ],
      "text/plain": [
       "<IPython.core.display.HTML object>"
      ]
     },
     "metadata": {},
     "output_type": "display_data"
    },
    {
     "data": {
      "text/html": [
       "<text style=color:green>too <text style=color:blue><i>[reassure]</i></text> and <text style=color:blue><i>[tired]</i></text> to post tonight: -0.128</text>"
      ],
      "text/plain": [
       "<IPython.core.display.HTML object>"
      ]
     },
     "metadata": {},
     "output_type": "display_data"
    },
    {
     "data": {
      "text/html": [
       "<text style=color:green>too <text style=color:blue><i>[confused]</i></text> and <text style=color:blue><i>[weary]</i></text> to post tonight: -0.5267</text>"
      ],
      "text/plain": [
       "<IPython.core.display.HTML object>"
      ]
     },
     "metadata": {},
     "output_type": "display_data"
    },
    {
     "data": {
      "text/html": [
       "<text style=color:green>too <text style=color:blue><i>[confused]</i></text> and <text style=color:blue><i>[bored]</i></text> to post tonight: -0.5267</text>"
      ],
      "text/plain": [
       "<IPython.core.display.HTML object>"
      ]
     },
     "metadata": {},
     "output_type": "display_data"
    },
    {
     "data": {
      "text/html": [
       "<text style=color:red>too <text style=color:blue><i>[confused]</i></text> and <text style=color:blue><i>[tired]</i></text> to post tonight: -0.6369</text>"
      ],
      "text/plain": [
       "<IPython.core.display.HTML object>"
      ]
     },
     "metadata": {},
     "output_type": "display_data"
    },
    {
     "data": {
      "text/html": [
       "<text style=color:black>too <text style=color:blue><i>[confused]</i></text> and <text style=color:blue><i>[ugh]</i></text> to post tonight: -0.6249</text>"
      ],
      "text/plain": [
       "<IPython.core.display.HTML object>"
      ]
     },
     "metadata": {},
     "output_type": "display_data"
    },
    {
     "data": {
      "text/html": [
       "<text style=color:green>too <text style=color:blue><i>[confused]</i></text> and <text style=color:blue><i>[exhausted]</i></text> to post tonight: -0.5859</text>"
      ],
      "text/plain": [
       "<IPython.core.display.HTML object>"
      ]
     },
     "metadata": {},
     "output_type": "display_data"
    },
    {
     "data": {
      "text/html": [
       "<text style=color:red>too <text style=color:blue><i>[confused]</i></text> and <text style=color:blue><i>[sick]</i></text> to post tonight: -0.6808</text>"
      ],
      "text/plain": [
       "<IPython.core.display.HTML object>"
      ]
     },
     "metadata": {},
     "output_type": "display_data"
    },
    {
     "data": {
      "text/html": [
       "<text style=color:red>too <text style=color:blue><i>[confused]</i></text> and <text style=color:blue><i>[tired]</i></text> to post tonight: -0.6369</text>"
      ],
      "text/plain": [
       "<IPython.core.display.HTML object>"
      ]
     },
     "metadata": {},
     "output_type": "display_data"
    },
    {
     "data": {
      "text/html": [
       "<text style=color:green>too <text style=color:blue><i>[disturbed]</i></text> and <text style=color:blue><i>[weary]</i></text> to post tonight: -0.5719</text>"
      ],
      "text/plain": [
       "<IPython.core.display.HTML object>"
      ]
     },
     "metadata": {},
     "output_type": "display_data"
    },
    {
     "data": {
      "text/html": [
       "<text style=color:green>too <text style=color:blue><i>[disturbed]</i></text> and <text style=color:blue><i>[bored]</i></text> to post tonight: -0.5719</text>"
      ],
      "text/plain": [
       "<IPython.core.display.HTML object>"
      ]
     },
     "metadata": {},
     "output_type": "display_data"
    },
    {
     "data": {
      "text/html": [
       "<text style=color:red>too <text style=color:blue><i>[disturbed]</i></text> and <text style=color:blue><i>[tired]</i></text> to post tonight: -0.6705</text>"
      ],
      "text/plain": [
       "<IPython.core.display.HTML object>"
      ]
     },
     "metadata": {},
     "output_type": "display_data"
    },
    {
     "data": {
      "text/html": [
       "<text style=color:red>too <text style=color:blue><i>[disturbed]</i></text> and <text style=color:blue><i>[ugh]</i></text> to post tonight: -0.6597</text>"
      ],
      "text/plain": [
       "<IPython.core.display.HTML object>"
      ]
     },
     "metadata": {},
     "output_type": "display_data"
    },
    {
     "data": {
      "text/html": [
       "<text style=color:black>too <text style=color:blue><i>[disturbed]</i></text> and <text style=color:blue><i>[exhausted]</i></text> to post tonight: -0.6249</text>"
      ],
      "text/plain": [
       "<IPython.core.display.HTML object>"
      ]
     },
     "metadata": {},
     "output_type": "display_data"
    },
    {
     "data": {
      "text/html": [
       "<text style=color:red>too <text style=color:blue><i>[disturbed]</i></text> and <text style=color:blue><i>[sick]</i></text> to post tonight: -0.7096</text>"
      ],
      "text/plain": [
       "<IPython.core.display.HTML object>"
      ]
     },
     "metadata": {},
     "output_type": "display_data"
    },
    {
     "data": {
      "text/html": [
       "<text style=color:red>too <text style=color:blue><i>[disturbed]</i></text> and <text style=color:blue><i>[tired]</i></text> to post tonight: -0.6705</text>"
      ],
      "text/plain": [
       "<IPython.core.display.HTML object>"
      ]
     },
     "metadata": {},
     "output_type": "display_data"
    },
    {
     "data": {
      "text/html": [
       "<text style=color:green>too <text style=color:blue><i>[worrying]</i></text> and <text style=color:blue><i>[weary]</i></text> to post tonight: -0.5423</text>"
      ],
      "text/plain": [
       "<IPython.core.display.HTML object>"
      ]
     },
     "metadata": {},
     "output_type": "display_data"
    },
    {
     "data": {
      "text/html": [
       "<text style=color:green>too <text style=color:blue><i>[worrying]</i></text> and <text style=color:blue><i>[bored]</i></text> to post tonight: -0.5423</text>"
      ],
      "text/plain": [
       "<IPython.core.display.HTML object>"
      ]
     },
     "metadata": {},
     "output_type": "display_data"
    },
    {
     "data": {
      "text/html": [
       "<text style=color:red>too <text style=color:blue><i>[worrying]</i></text> and <text style=color:blue><i>[tired]</i></text> to post tonight: -0.6486</text>"
      ],
      "text/plain": [
       "<IPython.core.display.HTML object>"
      ]
     },
     "metadata": {},
     "output_type": "display_data"
    },
    {
     "data": {
      "text/html": [
       "<text style=color:red>too <text style=color:blue><i>[worrying]</i></text> and <text style=color:blue><i>[ugh]</i></text> to post tonight: -0.6369</text>"
      ],
      "text/plain": [
       "<IPython.core.display.HTML object>"
      ]
     },
     "metadata": {},
     "output_type": "display_data"
    },
    {
     "data": {
      "text/html": [
       "<text style=color:green>too <text style=color:blue><i>[worrying]</i></text> and <text style=color:blue><i>[exhausted]</i></text> to post tonight: -0.5994</text>"
      ],
      "text/plain": [
       "<IPython.core.display.HTML object>"
      ]
     },
     "metadata": {},
     "output_type": "display_data"
    },
    {
     "data": {
      "text/html": [
       "<text style=color:red>too <text style=color:blue><i>[worrying]</i></text> and <text style=color:blue><i>[sick]</i></text> to post tonight: -0.6908</text>"
      ],
      "text/plain": [
       "<IPython.core.display.HTML object>"
      ]
     },
     "metadata": {},
     "output_type": "display_data"
    },
    {
     "data": {
      "text/html": [
       "<text style=color:red>too <text style=color:blue><i>[worrying]</i></text> and <text style=color:blue><i>[tired]</i></text> to post tonight: -0.6486</text>"
      ],
      "text/plain": [
       "<IPython.core.display.HTML object>"
      ]
     },
     "metadata": {},
     "output_type": "display_data"
    },
    {
     "data": {
      "text/html": [
       "<text style=color:green>too <text style=color:blue><i>[distressed]</i></text> and <text style=color:blue><i>[weary]</i></text> to post tonight: -0.5994</text>"
      ],
      "text/plain": [
       "<IPython.core.display.HTML object>"
      ]
     },
     "metadata": {},
     "output_type": "display_data"
    },
    {
     "data": {
      "text/html": [
       "<text style=color:green>too <text style=color:blue><i>[distressed]</i></text> and <text style=color:blue><i>[bored]</i></text> to post tonight: -0.5994</text>"
      ],
      "text/plain": [
       "<IPython.core.display.HTML object>"
      ]
     },
     "metadata": {},
     "output_type": "display_data"
    },
    {
     "data": {
      "text/html": [
       "<text style=color:red>too <text style=color:blue><i>[distressed]</i></text> and <text style=color:blue><i>[tired]</i></text> to post tonight: -0.6908</text>"
      ],
      "text/plain": [
       "<IPython.core.display.HTML object>"
      ]
     },
     "metadata": {},
     "output_type": "display_data"
    },
    {
     "data": {
      "text/html": [
       "<text style=color:red>too <text style=color:blue><i>[distressed]</i></text> and <text style=color:blue><i>[ugh]</i></text> to post tonight: -0.6808</text>"
      ],
      "text/plain": [
       "<IPython.core.display.HTML object>"
      ]
     },
     "metadata": {},
     "output_type": "display_data"
    },
    {
     "data": {
      "text/html": [
       "<text style=color:red>too <text style=color:blue><i>[distressed]</i></text> and <text style=color:blue><i>[exhausted]</i></text> to post tonight: -0.6486</text>"
      ],
      "text/plain": [
       "<IPython.core.display.HTML object>"
      ]
     },
     "metadata": {},
     "output_type": "display_data"
    },
    {
     "data": {
      "text/html": [
       "<text style=color:red>too <text style=color:blue><i>[distressed]</i></text> and <text style=color:blue><i>[sick]</i></text> to post tonight: -0.7269</text>"
      ],
      "text/plain": [
       "<IPython.core.display.HTML object>"
      ]
     },
     "metadata": {},
     "output_type": "display_data"
    },
    {
     "data": {
      "text/html": [
       "<text style=color:red>too <text style=color:blue><i>[distressed]</i></text> and <text style=color:blue><i>[tired]</i></text> to post tonight: -0.6908</text>"
      ],
      "text/plain": [
       "<IPython.core.display.HTML object>"
      ]
     },
     "metadata": {},
     "output_type": "display_data"
    },
    {
     "data": {
      "text/html": [
       "<text style=color:green>too <text style=color:blue><i>[upset]</i></text> and <text style=color:blue><i>[weary]</i></text> to post tonight: -0.5719</text>"
      ],
      "text/plain": [
       "<IPython.core.display.HTML object>"
      ]
     },
     "metadata": {},
     "output_type": "display_data"
    },
    {
     "name": "stdout",
     "output_type": "stream",
     "text": [
      "--- More options (total: 63) possible, but not printed ---\n"
     ]
    },
    {
     "data": {
      "text/html": [
       "<text style=color:black>Actual Sentence: too worried and tired to post tonight  :-0.6249</text>"
      ],
      "text/plain": [
       "<IPython.core.display.HTML object>"
      ]
     },
     "metadata": {},
     "output_type": "display_data"
    },
    {
     "data": {
      "text/html": [
       "<text style=color:red>Worst Sentence: too <text style=color:blue><i>[scared]</i></text> and <text style=color:blue><i>[sick]</i></text> to post tonight : -0.7351</text>"
      ],
      "text/plain": [
       "<IPython.core.display.HTML object>"
      ]
     },
     "metadata": {},
     "output_type": "display_data"
    },
    {
     "data": {
      "text/html": [
       "<text style=color:green>Best Sentence: too <text style=color:blue><i>[reassure]</i></text> and <text style=color:blue><i>[bored]</i></text> to post tonight : 0.0772</text>"
      ],
      "text/plain": [
       "<IPython.core.display.HTML object>"
      ]
     },
     "metadata": {},
     "output_type": "display_data"
    },
    {
     "name": "stdout",
     "output_type": "stream",
     "text": [
      "\n",
      "\n",
      " Tweet: could not get shit done today  i am so screwed :-0.2942\n",
      "\n"
     ]
    },
    {
     "data": {
      "text/html": [
       "<text style=color:red><text style=color:blue><i>[could]</i></text> get <text style=color:blue><i>[hell]</i></text> done today i am so fucked: -0.9045</text>"
      ],
      "text/plain": [
       "<IPython.core.display.HTML object>"
      ]
     },
     "metadata": {},
     "output_type": "display_data"
    },
    {
     "data": {
      "text/html": [
       "<text style=color:red><text style=color:blue><i>[could]</i></text> get <text style=color:blue><i>[hell]</i></text> done today i am so ruined: -0.8622</text>"
      ],
      "text/plain": [
       "<IPython.core.display.HTML object>"
      ]
     },
     "metadata": {},
     "output_type": "display_data"
    },
    {
     "data": {
      "text/html": [
       "<text style=color:red><text style=color:blue><i>[could]</i></text> get <text style=color:blue><i>[hell]</i></text> done today i am so screwed: -0.8663</text>"
      ],
      "text/plain": [
       "<IPython.core.display.HTML object>"
      ]
     },
     "metadata": {},
     "output_type": "display_data"
    },
    {
     "data": {
      "text/html": [
       "<text style=color:red><text style=color:blue><i>[could]</i></text> get <text style=color:blue><i>[sob]</i></text> done today i am so fucked: -0.8232</text>"
      ],
      "text/plain": [
       "<IPython.core.display.HTML object>"
      ]
     },
     "metadata": {},
     "output_type": "display_data"
    },
    {
     "data": {
      "text/html": [
       "<text style=color:red><text style=color:blue><i>[could]</i></text> get <text style=color:blue><i>[sob]</i></text> done today i am so ruined: -0.7177</text>"
      ],
      "text/plain": [
       "<IPython.core.display.HTML object>"
      ]
     },
     "metadata": {},
     "output_type": "display_data"
    },
    {
     "data": {
      "text/html": [
       "<text style=color:red><text style=color:blue><i>[could]</i></text> get <text style=color:blue><i>[sob]</i></text> done today i am so screwed: -0.7283</text>"
      ],
      "text/plain": [
       "<IPython.core.display.HTML object>"
      ]
     },
     "metadata": {},
     "output_type": "display_data"
    },
    {
     "data": {
      "text/html": [
       "<text style=color:red><text style=color:blue><i>[could]</i></text> get <text style=color:blue><i>[shit]</i></text> done today i am so fucked: -0.8811</text>"
      ],
      "text/plain": [
       "<IPython.core.display.HTML object>"
      ]
     },
     "metadata": {},
     "output_type": "display_data"
    },
    {
     "data": {
      "text/html": [
       "<text style=color:red><text style=color:blue><i>[could]</i></text> get <text style=color:blue><i>[shit]</i></text> done today i am so ruined: -0.822</text>"
      ],
      "text/plain": [
       "<IPython.core.display.HTML object>"
      ]
     },
     "metadata": {},
     "output_type": "display_data"
    },
    {
     "data": {
      "text/html": [
       "<text style=color:red><text style=color:blue><i>[could]</i></text> get <text style=color:blue><i>[shit]</i></text> done today i am so screwed: -0.8279</text>"
      ],
      "text/plain": [
       "<IPython.core.display.HTML object>"
      ]
     },
     "metadata": {},
     "output_type": "display_data"
    },
    {
     "data": {
      "text/html": [
       "<text style=color:red><text style=color:blue><i>[could]</i></text> get <text style=color:blue><i>[denounce]</i></text> done today i am so fucked: -0.8408</text>"
      ],
      "text/plain": [
       "<IPython.core.display.HTML object>"
      ]
     },
     "metadata": {},
     "output_type": "display_data"
    },
    {
     "data": {
      "text/html": [
       "<text style=color:red><text style=color:blue><i>[could]</i></text> get <text style=color:blue><i>[denounce]</i></text> done today i am so ruined: -0.75</text>"
      ],
      "text/plain": [
       "<IPython.core.display.HTML object>"
      ]
     },
     "metadata": {},
     "output_type": "display_data"
    },
    {
     "data": {
      "text/html": [
       "<text style=color:red><text style=color:blue><i>[could]</i></text> get <text style=color:blue><i>[denounce]</i></text> done today i am so screwed: -0.7591</text>"
      ],
      "text/plain": [
       "<IPython.core.display.HTML object>"
      ]
     },
     "metadata": {},
     "output_type": "display_data"
    },
    {
     "data": {
      "text/html": [
       "<text style=color:red><text style=color:blue><i>[could]</i></text> get <text style=color:blue><i>[prick]</i></text> done today i am so fucked: -0.8408</text>"
      ],
      "text/plain": [
       "<IPython.core.display.HTML object>"
      ]
     },
     "metadata": {},
     "output_type": "display_data"
    },
    {
     "data": {
      "text/html": [
       "<text style=color:red><text style=color:blue><i>[could]</i></text> get <text style=color:blue><i>[prick]</i></text> done today i am so ruined: -0.75</text>"
      ],
      "text/plain": [
       "<IPython.core.display.HTML object>"
      ]
     },
     "metadata": {},
     "output_type": "display_data"
    },
    {
     "data": {
      "text/html": [
       "<text style=color:red><text style=color:blue><i>[could]</i></text> get <text style=color:blue><i>[prick]</i></text> done today i am so screwed: -0.7591</text>"
      ],
      "text/plain": [
       "<IPython.core.display.HTML object>"
      ]
     },
     "metadata": {},
     "output_type": "display_data"
    },
    {
     "data": {
      "text/html": [
       "<text style=color:red><text style=color:blue><i>[could]</i></text> get <text style=color:blue><i>[whoreson]</i></text> done today i am so fucked: -0.8695</text>"
      ],
      "text/plain": [
       "<IPython.core.display.HTML object>"
      ]
     },
     "metadata": {},
     "output_type": "display_data"
    },
    {
     "data": {
      "text/html": [
       "<text style=color:red><text style=color:blue><i>[could]</i></text> get <text style=color:blue><i>[whoreson]</i></text> done today i am so ruined: -0.8015</text>"
      ],
      "text/plain": [
       "<IPython.core.display.HTML object>"
      ]
     },
     "metadata": {},
     "output_type": "display_data"
    },
    {
     "data": {
      "text/html": [
       "<text style=color:red><text style=color:blue><i>[could]</i></text> get <text style=color:blue><i>[whoreson]</i></text> done today i am so screwed: -0.8083</text>"
      ],
      "text/plain": [
       "<IPython.core.display.HTML object>"
      ]
     },
     "metadata": {},
     "output_type": "display_data"
    },
    {
     "data": {
      "text/html": [
       "<text style=color:red><text style=color:blue><i>[could]</i></text> get <text style=color:blue><i>[crap]</i></text> done today i am so fucked: -0.8487</text>"
      ],
      "text/plain": [
       "<IPython.core.display.HTML object>"
      ]
     },
     "metadata": {},
     "output_type": "display_data"
    },
    {
     "data": {
      "text/html": [
       "<text style=color:red><text style=color:blue><i>[could]</i></text> get <text style=color:blue><i>[crap]</i></text> done today i am so ruined: -0.7644</text>"
      ],
      "text/plain": [
       "<IPython.core.display.HTML object>"
      ]
     },
     "metadata": {},
     "output_type": "display_data"
    },
    {
     "data": {
      "text/html": [
       "<text style=color:red><text style=color:blue><i>[could]</i></text> get <text style=color:blue><i>[crap]</i></text> done today i am so screwed: -0.7728</text>"
      ],
      "text/plain": [
       "<IPython.core.display.HTML object>"
      ]
     },
     "metadata": {},
     "output_type": "display_data"
    },
    {
     "data": {
      "text/html": [
       "<text style=color:red><text style=color:blue><i>[could]</i></text> get <text style=color:blue><i>[bitch]</i></text> done today i am so fucked: -0.8864</text>"
      ],
      "text/plain": [
       "<IPython.core.display.HTML object>"
      ]
     },
     "metadata": {},
     "output_type": "display_data"
    },
    {
     "data": {
      "text/html": [
       "<text style=color:red><text style=color:blue><i>[could]</i></text> get <text style=color:blue><i>[bitch]</i></text> done today i am so ruined: -0.8312</text>"
      ],
      "text/plain": [
       "<IPython.core.display.HTML object>"
      ]
     },
     "metadata": {},
     "output_type": "display_data"
    },
    {
     "data": {
      "text/html": [
       "<text style=color:red><text style=color:blue><i>[could]</i></text> get <text style=color:blue><i>[bitch]</i></text> done today i am so screwed: -0.8367</text>"
      ],
      "text/plain": [
       "<IPython.core.display.HTML object>"
      ]
     },
     "metadata": {},
     "output_type": "display_data"
    },
    {
     "data": {
      "text/html": [
       "<text style=color:red><text style=color:blue><i>[could]</i></text> get <text style=color:blue><i>[bastard]</i></text> done today i am so fucked: -0.8783</text>"
      ],
      "text/plain": [
       "<IPython.core.display.HTML object>"
      ]
     },
     "metadata": {},
     "output_type": "display_data"
    },
    {
     "data": {
      "text/html": [
       "<text style=color:red><text style=color:blue><i>[could]</i></text> get <text style=color:blue><i>[bastard]</i></text> done today i am so ruined: -0.8172</text>"
      ],
      "text/plain": [
       "<IPython.core.display.HTML object>"
      ]
     },
     "metadata": {},
     "output_type": "display_data"
    },
    {
     "data": {
      "text/html": [
       "<text style=color:red><text style=color:blue><i>[could]</i></text> get <text style=color:blue><i>[bastard]</i></text> done today i am so screwed: -0.8232</text>"
      ],
      "text/plain": [
       "<IPython.core.display.HTML object>"
      ]
     },
     "metadata": {},
     "output_type": "display_data"
    },
    {
     "data": {
      "text/html": [
       "<text style=color:red><text style=color:blue><i>[could]</i></text> get <text style=color:blue><i>[motherfucker]</i></text> done today i am so fucked: -0.9045</text>"
      ],
      "text/plain": [
       "<IPython.core.display.HTML object>"
      ]
     },
     "metadata": {},
     "output_type": "display_data"
    },
    {
     "data": {
      "text/html": [
       "<text style=color:red><text style=color:blue><i>[could]</i></text> get <text style=color:blue><i>[motherfucker]</i></text> done today i am so ruined: -0.8622</text>"
      ],
      "text/plain": [
       "<IPython.core.display.HTML object>"
      ]
     },
     "metadata": {},
     "output_type": "display_data"
    },
    {
     "data": {
      "text/html": [
       "<text style=color:red><text style=color:blue><i>[could]</i></text> get <text style=color:blue><i>[motherfucker]</i></text> done today i am so screwed: -0.8663</text>"
      ],
      "text/plain": [
       "<IPython.core.display.HTML object>"
      ]
     },
     "metadata": {},
     "output_type": "display_data"
    },
    {
     "data": {
      "text/html": [
       "<text style=color:red><text style=color:blue><i>[could]</i></text> get <text style=color:blue><i>[dickhead]</i></text> done today i am so fucked: -0.8937</text>"
      ],
      "text/plain": [
       "<IPython.core.display.HTML object>"
      ]
     },
     "metadata": {},
     "output_type": "display_data"
    },
    {
     "data": {
      "text/html": [
       "<text style=color:red><text style=color:blue><i>[could]</i></text> get <text style=color:blue><i>[dickhead]</i></text> done today i am so ruined: -0.8439</text>"
      ],
      "text/plain": [
       "<IPython.core.display.HTML object>"
      ]
     },
     "metadata": {},
     "output_type": "display_data"
    },
    {
     "data": {
      "text/html": [
       "<text style=color:red><text style=color:blue><i>[could]</i></text> get <text style=color:blue><i>[dickhead]</i></text> done today i am so screwed: -0.8487</text>"
      ],
      "text/plain": [
       "<IPython.core.display.HTML object>"
      ]
     },
     "metadata": {},
     "output_type": "display_data"
    },
    {
     "data": {
      "text/html": [
       "<text style=color:red><text style=color:blue><i>[could]</i></text> get <text style=color:blue><i>[dirt]</i></text> done today i am so fucked: -0.8408</text>"
      ],
      "text/plain": [
       "<IPython.core.display.HTML object>"
      ]
     },
     "metadata": {},
     "output_type": "display_data"
    },
    {
     "data": {
      "text/html": [
       "<text style=color:red><text style=color:blue><i>[could]</i></text> get <text style=color:blue><i>[dirt]</i></text> done today i am so ruined: -0.75</text>"
      ],
      "text/plain": [
       "<IPython.core.display.HTML object>"
      ]
     },
     "metadata": {},
     "output_type": "display_data"
    },
    {
     "data": {
      "text/html": [
       "<text style=color:red><text style=color:blue><i>[could]</i></text> get <text style=color:blue><i>[dirt]</i></text> done today i am so screwed: -0.7591</text>"
      ],
      "text/plain": [
       "<IPython.core.display.HTML object>"
      ]
     },
     "metadata": {},
     "output_type": "display_data"
    },
    {
     "data": {
      "text/html": [
       "<text style=color:red><text style=color:blue><i>[could]</i></text> get <text style=color:blue><i>[cocksucker]</i></text> done today i am so fucked: -0.8937</text>"
      ],
      "text/plain": [
       "<IPython.core.display.HTML object>"
      ]
     },
     "metadata": {},
     "output_type": "display_data"
    },
    {
     "data": {
      "text/html": [
       "<text style=color:red><text style=color:blue><i>[could]</i></text> get <text style=color:blue><i>[cocksucker]</i></text> done today i am so ruined: -0.8439</text>"
      ],
      "text/plain": [
       "<IPython.core.display.HTML object>"
      ]
     },
     "metadata": {},
     "output_type": "display_data"
    },
    {
     "data": {
      "text/html": [
       "<text style=color:red><text style=color:blue><i>[could]</i></text> get <text style=color:blue><i>[cocksucker]</i></text> done today i am so screwed: -0.8487</text>"
      ],
      "text/plain": [
       "<IPython.core.display.HTML object>"
      ]
     },
     "metadata": {},
     "output_type": "display_data"
    },
    {
     "data": {
      "text/html": [
       "<text style=color:red><text style=color:blue><i>[could]</i></text> get <text style=color:blue><i>[shit]</i></text> done today i am so fucked: -0.8811</text>"
      ],
      "text/plain": [
       "<IPython.core.display.HTML object>"
      ]
     },
     "metadata": {},
     "output_type": "display_data"
    },
    {
     "data": {
      "text/html": [
       "<text style=color:red><text style=color:blue><i>[could]</i></text> get <text style=color:blue><i>[shit]</i></text> done today i am so ruined: -0.822</text>"
      ],
      "text/plain": [
       "<IPython.core.display.HTML object>"
      ]
     },
     "metadata": {},
     "output_type": "display_data"
    },
    {
     "data": {
      "text/html": [
       "<text style=color:red><text style=color:blue><i>[could]</i></text> get <text style=color:blue><i>[shit]</i></text> done today i am so screwed: -0.8279</text>"
      ],
      "text/plain": [
       "<IPython.core.display.HTML object>"
      ]
     },
     "metadata": {},
     "output_type": "display_data"
    },
    {
     "data": {
      "text/html": [
       "<text style=color:black>Actual Sentence: could not get shit done today  i am so screwed  :-0.2942</text>"
      ],
      "text/plain": [
       "<IPython.core.display.HTML object>"
      ]
     },
     "metadata": {},
     "output_type": "display_data"
    },
    {
     "data": {
      "text/html": [
       "<text style=color:red>Worst Sentence: <text style=color:blue><i>[could]</i></text> get <text style=color:blue><i>[motherfucker]</i></text> done today i am so fucked : -0.9045</text>"
      ],
      "text/plain": [
       "<IPython.core.display.HTML object>"
      ]
     },
     "metadata": {},
     "output_type": "display_data"
    },
    {
     "data": {
      "text/html": [
       "<text style=color:green>Best Sentence: <text style=color:blue><i>[could]</i></text> get <text style=color:blue><i>[sob]</i></text> done today i am so ruined : -0.7177</text>"
      ],
      "text/plain": [
       "<IPython.core.display.HTML object>"
      ]
     },
     "metadata": {},
     "output_type": "display_data"
    },
    {
     "name": "stdout",
     "output_type": "stream",
     "text": [
      "num of tweets done : 50\n"
     ]
    }
   ],
   "source": [
    "def extractTwitterDataset():\n",
    "    df_tweets = pd.read_csv( pathToDatasets + 'cleanedTweets.csv', nrows=NUM_OF_TWEETS, skiprows =TWEET_START)\n",
    "    tweets = df_tweets.values\n",
    "    return tweets;\n",
    "\n",
    "def createDictionaryOfSentStrings(sentencesWithSentiment):\n",
    "    dict_sentimentToStringObjects = {}\n",
    "    for obj in sentencesWithSentiment:\n",
    "        sent = obj.getSentiment()\n",
    "        if(dict_sentimentToStringObjects.get(sent) == None):\n",
    "            dict_sentimentToStringObjects[sent] = [obj]\n",
    "        else:\n",
    "            (dict_sentimentToStringObjects[sent]).append(obj)\n",
    "\n",
    "    return dict_sentimentToStringObjects;\n",
    "\n",
    "def runThroughTweets():\n",
    "    tweets = extractTwitterDataset()\n",
    "    \n",
    "    counterOfTweets = 0;\n",
    "    for counter,tweet in enumerate(tweets):\n",
    "        counterOfTweets +=1;\n",
    "        tweet = tweet[0]\n",
    "        tweetTokens = cleanAndTokenizeText(tweet)\n",
    "        mainSentiment = senty.polarity_scores(tweet)['compound']\n",
    "        if(mainSentiment == 0):\n",
    "            continue\n",
    "        print(\"\\n\\n Tweet: {0}:{1}\\n\".format(tweet,mainSentiment))   \n",
    "        sentenceObj = Sentence(tweet, mainSentiment)\n",
    "        sentenceObj = getAlternativeWords(sentenceObj)\n",
    "        replacementDictionary = sentenceObj.getDictOfIndexWords();\n",
    "        if(len(replacementDictionary) <= 0):        \n",
    "            print(\" -- No new Strings generated ---\\n\\n\")\n",
    "            continue\n",
    "\n",
    "        keysToChange = replacementDictionary.keys();\n",
    "        if(VERBOSE_PRINTING):\n",
    "            for key in keysToChange:\n",
    "                print(\"{0}'th word's ({2}) options: {1}\".format(key,replacementDictionary[key],tweetTokens[key]))\n",
    "\n",
    "        sentenceObj = returnCombinationsOfStrings(sentenceObj)\n",
    "        sentencesWithSentiment, sentenceObj = printStrings(sentenceObj)\n",
    "       \n",
    "        dict_sentimentToStringObjects = createDictionaryOfSentStrings(sentencesWithSentiment)\n",
    "        \n",
    "        sentiments = sorted(dict_sentimentToStringObjects.keys())\n",
    "        \n",
    "    return counterOfTweets;\n",
    "        \n",
    "numOfTweets = runThroughTweets()\n",
    "print(\"num of tweets done : {0}\".format(numOfTweets))"
   ]
  },
  {
   "cell_type": "markdown",
   "metadata": {},
   "source": [
    "## Testing Code\n"
   ]
  },
  {
   "cell_type": "code",
   "execution_count": 187,
   "metadata": {},
   "outputs": [],
   "source": [
    "specificWord = \"good\"\n",
    "def testOneWord(word=\"\"):\n",
    "    if(word==\"\"):\n",
    "        return\n",
    "    print(word)"
   ]
  },
  {
   "cell_type": "code",
   "execution_count": 188,
   "metadata": {
    "scrolled": false
   },
   "outputs": [
    {
     "name": "stdout",
     "output_type": "stream",
     "text": [
      "Enter a string to use\n",
      "\n"
     ]
    }
   ],
   "source": [
    "specificString = \"\"\n",
    "def specificString(textString=\"\"):\n",
    "    if(textString == \"\" or textString == None):\n",
    "        return\n",
    "    textString = dataClean(textString)\n",
    "    textTokens = cleanAndTokenizeText(textString)\n",
    "    mainSentiment = senty.polarity_scores(textString)['compound']\n",
    "    if(mainSentiment == 0):\n",
    "        print(\"{} \\n No sentiment found in sentence\".format(textString));\n",
    "        return;\n",
    "    print(\"\\n {0}:{1}\\n\".format(textString,mainSentiment))   \n",
    "    sentenceObj = Sentence(textString, mainSentiment)\n",
    "    sentenceObj = getAlternativeWords(sentenceObj)\n",
    "    replacementDictionary = sentenceObj.getDictOfIndexWords();\n",
    "    if(len(replacementDictionary) <= 0):        \n",
    "        print(\" -- No new Strings generated ---\\n\\n\")\n",
    "        return\n",
    "    \n",
    "    keysToChange = replacementDictionary.keys();\n",
    "    if(VERBOSE_PRINTING):\n",
    "        for key in keysToChange:\n",
    "               print(\"{0}'th word's ({2}) options: {1}\".format(key,replacementDictionary[key],textTokens[key]))\n",
    "    \n",
    "    sentenceObj = returnCombinationsOfStrings(sentenceObj)\n",
    "    allPossibleSentences, sentenceObj = printStrings(sentenceObj)\n",
    "    \n",
    "    \n",
    "    dict_sentimentToStringObjects = createDictionaryOfSentStrings(allPossibleSentences)\n",
    "        \n",
    "    sentiments = sorted(dict_sentimentToStringObjects.keys())\n",
    "\n",
    "print(\"Enter a string to use\")\n",
    "\n",
    "\n",
    "inputText = \"\"\n",
    "# inputText = input()\n",
    "if(inputText == \"\"):\n",
    "    return\n",
    "elif(inputText == \"t\"):\n",
    "#     specificString(\"I really love hot chocolate, but I'm not good with hot coffee\")\n",
    "#     specificString(\"damn! the grind is inspirational and saddening at the same time. do not want you to stop cuz i like what u do! much love\");\n",
    "    specificString(\"the grind is inspirational and saddening at the same time. do not want you to stop cuz i like what u do!\")\n",
    "else:\n",
    "    specificString(inputText)\n",
    "# I really love hot chocolate, but I'm not good with hot coffee "
   ]
  },
  {
   "cell_type": "markdown",
   "metadata": {},
   "source": [
    "\n",
    "this is making me feel bad:-0.5423\n",
    "this is making me feel a bit bad:-0.5423\n",
    "\n",
    "this is making me feel very bad:-0.5849\n",
    "this is making me feel quite bad:-0.5849\n",
    "this is making me feel incredibly bad:-0.5849\n",
    "\n",
    "this is making me feel kinda bad:-0.4951\n",
    "this is making me feel slightly bad:-0.4951\n",
    "this is making me feel barely bad:-0.4951\n",
    "\n",
    "this is making me feel not bad:0.431\n"
   ]
  }
 ],
 "metadata": {
  "kernelspec": {
   "display_name": "Python 3",
   "language": "python",
   "name": "python3"
  },
  "language_info": {
   "codemirror_mode": {
    "name": "ipython",
    "version": 3
   },
   "file_extension": ".py",
   "mimetype": "text/x-python",
   "name": "python",
   "nbconvert_exporter": "python",
   "pygments_lexer": "ipython3",
   "version": "3.6.7"
  }
 },
 "nbformat": 4,
 "nbformat_minor": 2
}
