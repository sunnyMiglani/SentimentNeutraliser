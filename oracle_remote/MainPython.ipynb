{
 "cells": [
  {
   "cell_type": "markdown",
   "metadata": {},
   "source": [
    "## Import Statements"
   ]
  },
  {
   "cell_type": "code",
   "execution_count": 33,
   "metadata": {},
   "outputs": [
    {
     "data": {
      "text/html": [
       "<style>.container { width:70% !important; }</style>"
      ],
      "text/plain": [
       "<IPython.core.display.HTML object>"
      ]
     },
     "metadata": {},
     "output_type": "display_data"
    }
   ],
   "source": [
    "import gensim.downloader as api\n",
    "import numpy as np\n",
    "import re\n",
    "import csv\n",
    "import pandas as pd\n",
    "import pprint\n",
    "import string\n",
    "import nltk\n",
    "import sys\n",
    "import spacy\n",
    "    \n",
    "from IPython.display import HTML\n",
    "from nltk.corpus import wordnet \n",
    "from sklearn.manifold import TSNE\n",
    "from gensim.models import Word2Vec\n",
    "from gensim.models import KeyedVectors\n",
    "\n",
    "from nltk.sentiment.vader import SentimentIntensityAnalyzer\n",
    "from nltk.tokenize import word_tokenize\n",
    "\n",
    "pathToDatasets = '../datasets/'\n",
    "pathToDataScripts = '../datasets/scripts/'\n",
    "filePath = '../datasets/GoogleNews-vectors-negative300.bin'\n",
    "\n",
    "sys.path.insert(0, pathToDataScripts)\n",
    "from cleanDataset import tokenize_words \n",
    "\n",
    "\n",
    "from IPython.core.display import display, HTML\n",
    "display(HTML(\"<style>.container { width:70% !important; }</style>\"))"
   ]
  },
  {
   "cell_type": "markdown",
   "metadata": {},
   "source": [
    "## Downloading binaries and models\n"
   ]
  },
  {
   "cell_type": "code",
   "execution_count": 34,
   "metadata": {},
   "outputs": [
    {
     "name": "stdout",
     "output_type": "stream",
     "text": [
      "Should I reload the model?\n",
      "no\n",
      " didnt reload model! \n"
     ]
    }
   ],
   "source": [
    "print(\"Should I reload the model?\")\n",
    "tstString = input()\n",
    "if(\"no\" in tstString.lower() or \"n\" in tstString.lower()):\n",
    "    print(\" didnt reload model! \")\n",
    "else:\n",
    "    print(\"loading the model!\");\n",
    "    word_vectors = api.load(\"glove-wiki-gigaword-100\")\n",
    "    nltk.download('vader_lexicon')\n",
    "    nltk.download('punkt')\n",
    "    nltk.download('averaged_perceptron_tagger')\n",
    "    nltk.download('wordnet')\n",
    "    print(\"Model Loaded!\")"
   ]
  },
  {
   "cell_type": "markdown",
   "metadata": {},
   "source": [
    "## Global Variables and Global Objects"
   ]
  },
  {
   "cell_type": "code",
   "execution_count": 35,
   "metadata": {},
   "outputs": [],
   "source": [
    "senty = SentimentIntensityAnalyzer()\n",
    "vocabulary = word_vectors.vocab;\n",
    "\n",
    "nlp = spacy.load('en')\n",
    "\n",
    "\n",
    "NUMBER_OF_ALTERNATIVES = 5\n",
    "TWEET_START = 300\n",
    "NUM_OF_TWEETS = 150\n",
    "\n",
    "\n",
    "VERBOSE_PRINTING = True\n",
    "# VERBOSE_PRINTING = False\n",
    "\n",
    "# USE_SPACY = False\n",
    "USE_SPACY = True\n",
    "\n",
    "COLOR_PRINTING = True\n",
    "#COLOR_PRINTING = False\n",
    "\n",
    "# PRINT_NEUTRAL = True\n",
    "PRINT_NEUTRAL = False\n",
    "\n",
    "PRINT_ALL_STRINGS = True\n",
    "# PRINT_ALL_STRINGS = False\n",
    "\n",
    "SHOW_ALTS = 30\n",
    "\n",
    "punctuation = r\"\\\"#$%&'+-/;<=>?@[\\]*^_`{|}~\""
   ]
  },
  {
   "cell_type": "markdown",
   "metadata": {},
   "source": [
    "## Class for Sentences\n"
   ]
  },
  {
   "cell_type": "code",
   "execution_count": 36,
   "metadata": {},
   "outputs": [],
   "source": [
    "from SentenceClass import *"
   ]
  },
  {
   "cell_type": "markdown",
   "metadata": {},
   "source": [
    "## Utility Code"
   ]
  },
  {
   "cell_type": "code",
   "execution_count": 37,
   "metadata": {},
   "outputs": [],
   "source": [
    "def printStrings(sentenceObj):\n",
    "    \n",
    "    numberOfPrints = 0\n",
    "    newStrings = generateHTMLObjectsFromSentence(sentenceObj)\n",
    "    mainSentiment = sentenceObj.ogSentiment;\n",
    "    listOfSentencesWithSentiments = []\n",
    "    bestSentiment = -sys.maxsize - 1\n",
    "    worstSentiment = sys.maxsize\n",
    "    \n",
    "    bestSentimentString = \"\";\n",
    "    worstSentimentString = \"\";\n",
    "    \n",
    "    \n",
    "    \n",
    "    for ind, tSentence in enumerate(newStrings):\n",
    "            alteredTweet = tSentence.getSentence()\n",
    "            htmlText = tSentence.getHTML()\n",
    "            sentimentOfNewString = senty.polarity_scores(alteredTweet)['compound']\n",
    "            listOfSentencesWithSentiments.append(SentenceWithSentiment(alteredTweet, sentimentOfNewString, htmlText))\n",
    "            \n",
    "            if(sentimentOfNewString > bestSentiment):\n",
    "                bestSentiment = sentimentOfNewString\n",
    "                bestSentimentString = htmlText;\n",
    "            elif(sentimentOfNewString < worstSentiment):\n",
    "                worstSentiment = sentimentOfNewString\n",
    "                worstSentimentString = htmlText;\n",
    "                \n",
    "            if(sentimentOfNewString == mainSentiment or sentimentOfNewString == 0.0):\n",
    "                if(PRINT_ALL_STRINGS and numberOfPrints <= SHOW_ALTS): displayText(\"{0}: {1}\".format(htmlText,sentimentOfNewString),'black')\n",
    "                numberOfPrints+=1;\n",
    "            elif(sentimentOfNewString > mainSentiment):\n",
    "                if(PRINT_ALL_STRINGS and numberOfPrints <= SHOW_ALTS): displayText(\"{0}: {1}\".format(htmlText,sentimentOfNewString),'green')\n",
    "                numberOfPrints+=1;\n",
    "            elif(sentimentOfNewString < mainSentiment and sentimentOfNewString != 0.0):\n",
    "                if(PRINT_ALL_STRINGS and numberOfPrints <= SHOW_ALTS): displayText(\"{0}: {1}\".format(htmlText,sentimentOfNewString),'red')\n",
    "                numberOfPrints+=1;\n",
    "                \n",
    "    print(\"\\n\")\n",
    "    if(numberOfPrints > SHOW_ALTS): print(\"--- More options (total: {0}) possible, but not printed ---\".format(numberOfPrints));\n",
    "    if (worstSentimentString != \"\"): displayText(\"Worst Sentence: {0} : {1}\".format(worstSentimentString, worstSentiment), color='red')\n",
    "    if (bestSentimentString != \"\"): displayText(\"Best Sentence: {0} : {1}\".format(bestSentimentString, bestSentiment), color='green') \n",
    "    print(\"\\n\")\n",
    "    \n",
    "    \n",
    "    return listOfSentencesWithSentiments;\n",
    "\n",
    "def cstr(s, color='black', italics=False):\n",
    "    if(COLOR_PRINTING):\n",
    "        if(italics):\n",
    "            return cstr(\"<i>{0}</i>\".format(s), color);\n",
    "        return \"<text style=color:{}>{}</text>\".format(color, s)\n",
    "    else:\n",
    "        return \"{}\".format(s)\n",
    "\n",
    "def displayText(text, color='black'):\n",
    "    if(COLOR_PRINTING):\n",
    "        display(HTML(cstr(text, color)));\n",
    "        return\n",
    "    print(\"{}\".format(text));\n",
    "    \n",
    "    \n",
    "def cleanAndTokenizeText(text):\n",
    "    text = text.lower();\n",
    "    newString = \"\"\n",
    "    for char in text:\n",
    "        if char not in punctuation:\n",
    "            newString += char\n",
    "    text = word_tokenize(newString)\n",
    "    return text;\n",
    "\n",
    "def getPOSTags(tweet):\n",
    "#     if(USE_SPACY == False):\n",
    "    tags = nltk.pos_tag(tweet)\n",
    "    return tags;    \n",
    "#     tweet = ' '.join(tweet)\n",
    "#     doc = nlp(tweet)\n",
    "#     tags = [(token.text, token.pos_) for token in doc] # since the format expected is [text,tag]\n",
    "    return tags;\n",
    "    \n",
    "\n",
    "def getAntonymsOfWords(word):\n",
    "    if(word not in vocabulary):\n",
    "        return []\n",
    "    setOfAntonyms = set()\n",
    "    for syn in wordnet.synsets(word):\n",
    "        for l in syn.lemmas():\n",
    "            anton = l.antonyms()\n",
    "            if(anton!=[]):\n",
    "                setOfAntonyms.add(anton[0].name())\n",
    "    if(len(setOfAntonyms) == 0):\n",
    "        if(VERBOSE_PRINTING): print(\"No antonyms found for word {0}\".format(word))\n",
    "    return list(setOfAntonyms)\n",
    "\n",
    "def returnReplacementsForWord(word):\n",
    "    \n",
    "    if(word not in vocabulary):\n",
    "        print(\" --- {0} not in vocabulary ---\".format(word))\n",
    "        return []\n",
    "    possibleReplacements = [word[0] for word in word_vectors.most_similar(word,topn=NUMBER_OF_ALTERNATIVES)]\n",
    "    \n",
    "    if(possibleReplacements == []):\n",
    "        print(\" --- No replacements for word {0} ---\".format(word))\n",
    "    antonyms = getAntonymsOfWords(word)\n",
    "    if(antonyms != []):\n",
    "        possibleReplacements.extend(antonyms)\n",
    "        if(VERBOSE_PRINTING): print(\"Some antonyms for word {0} are {1}\".format(word, antonyms[:3]))\n",
    "        return possibleReplacements\n",
    "    return possibleReplacements\n",
    "    \n",
    "def posApprovedReplacements(alternativeWords, userTokens, indexOfToken):\n",
    "    if(alternativeWords == []):\n",
    "        return []\n",
    "    tempTokens = userTokens[:]\n",
    "    POSTokens = getPOSTags(tempTokens)\n",
    "    validWords = []\n",
    "    \n",
    "    mainTag = POSTokens[indexOfToken][1]\n",
    "    mainWord = userTokens[indexOfToken]\n",
    "    \n",
    "    for ind,word in enumerate(alternativeWords):\n",
    "        tempTokens[indexOfToken] = word\n",
    "        posTags = getPOSTags(tempTokens)\n",
    "        newTag = (posTags[indexOfToken])[1]\n",
    "        \n",
    "        if(str(newTag) == str(mainTag)):\n",
    "            if(VERBOSE_PRINTING): print(\"Word {0}[{1}] replaced with {2}[{3}]\".format(mainWord, mainTag, word,newTag))\n",
    "            validWords.append(word)\n",
    "    if(validWords == [] and VERBOSE_PRINTING):\n",
    "        print(\"No POS words found for word {} with tag {}\".format(mainWord, mainTag));\n",
    "    return validWords\n",
    "    \n",
    "def generateHTMLObjectsFromSentence(sentenceObj):\n",
    "    \n",
    "    allSentences = sentenceObj.getFinalSentences()\n",
    "    indexToAlts = sentenceObj.indexToSetOfWords;\n",
    "    indexToChange = list(indexToAlts.keys());\n",
    "    \n",
    "    listOfSentenceObjs = []\n",
    "    for sentence in allSentences:\n",
    "        copySentence = cleanAndTokenizeText(sentence)\n",
    "        for index in indexToChange:\n",
    "            copySentence[index] = cstr(\"[{0}]\".format(copySentence[index]), \"blue\", italics=True);\n",
    "        listOfSentenceObjs.append(SentenceWithHTML(sentence, ' '.join(copySentence)));\n",
    "    \n",
    "    return listOfSentenceObjs\n",
    "    \n",
    "    \n",
    "    "
   ]
  },
  {
   "cell_type": "markdown",
   "metadata": {},
   "source": [
    "## Sentence Chunking and Appending"
   ]
  },
  {
   "cell_type": "code",
   "execution_count": 38,
   "metadata": {},
   "outputs": [],
   "source": [
    "def helper_combine(mainList, myList):\n",
    "    '''\n",
    "    helper function for CombineSentenceChunks\n",
    "    '''\n",
    "    newList = []\n",
    "    for val in myList:\n",
    "        for mainVal in mainList:\n",
    "#             if(VERBOSE_PRINTING): print(\"Combining {0} with {1}\".format(' '.join(val), ' '.join(mainVal)));\n",
    "            newList.append(val + mainVal);\n",
    "    return newList;\n",
    "\n",
    "def combineSentenceChunks(wholeSentence, dictOfChunks):\n",
    "    '''\n",
    "        Uses the helper_combine function to generate all possible combinatios and permuations of the chunks\n",
    "        and any alternatives.\n",
    "        \n",
    "        The logic is to use the end of the sentence, apply each possible chunk from the previous key's chunks\n",
    "        to every possible chunk of this key's.\n",
    "        \n",
    "        The helper function is used to allow us to reuse the list of alreadyGeneratedChunks and constantly\n",
    "        append to them.\n",
    "        \n",
    "        To understand the logic better, take a look at this gist:\n",
    "        https://gist.github.com/sunnyMiglani/cf85407a9e6928237b1436cc2bc95fa4\n",
    "        \n",
    "    '''\n",
    "    reversedKeys = sorted(dictOfChunks.keys(), reverse=True)\n",
    "    completeSentences = [];\n",
    "    mainArr = dictOfChunks[reversedKeys[0]]\n",
    "    for ind in range(1, len(reversedKeys)):\n",
    "        key = reversedKeys[ind];\n",
    "        mainArr = helper_combine(mainArr, dictOfChunks[key]);\n",
    "        \n",
    "    return mainArr;\n",
    "        \n",
    "def generateSentenceChunks(wholeSentence, keyToChange, nextKey, listOfMyAlternatives):\n",
    "    '''\n",
    "        Generates sentence chunks by iterating through the list of alternatives\n",
    "        Chunking the sentence to start from current key to next key.\n",
    "        This means that the sentence always goes from key 'x' to key 'y'\n",
    "        \n",
    "        Example:\n",
    "        \"I really <hate> hot chocolate, but I <prefer> hot coffee\"\n",
    "        Calling generateSentenceChunks will create an example sentence:\n",
    "            - \"<altWordForHate> hot chocolate , but I \"\n",
    "        \n",
    "        Remember to append the first stretch of the string to the first key's chunk for proper use!\n",
    "    '''\n",
    "    newList = list(listOfMyAlternatives)\n",
    "    newList.append(wholeSentence[keyToChange]);\n",
    "    generatedSentences = []\n",
    "    for myAlt in newList:\n",
    "        newSentence = wholeSentence[:]\n",
    "        newSentence[keyToChange] = myAlt\n",
    "        if(VERBOSE_PRINTING): print(\"Generated : {}\".format(newSentence[keyToChange:nextKey]))\n",
    "        generatedSentences.append(newSentence[keyToChange:nextKey]);\n",
    "        \n",
    "    return generatedSentences\n",
    "    \n",
    "def returnCombinationsOfStrings(sentenceObj):\n",
    "    \n",
    "    indexToWordDict = sentenceObj.indexToSetOfWords;\n",
    "    originalSentence = sentenceObj.ogSentence;\n",
    "    tokenizedSentence = cleanAndTokenizeText(originalSentence)\n",
    "    reversedKeys = sorted(indexToWordDict.keys(), reverse=True)\n",
    "    dictAlternatives  = {}\n",
    "\n",
    "    sortedKeys = sorted(indexToWordDict.keys())\n",
    "    sentenceChunks = {}\n",
    "    htmlChunks = {}\n",
    "    \n",
    "    for ind in range(0,len(sortedKeys)):\n",
    "        key = sortedKeys[ind]\n",
    "        nextKey = sortedKeys[ind+1] if ind+1 < len(sortedKeys) else len(tokenizedSentence)\n",
    "        sentenceChunks[key] = generateSentenceChunks(tokenizedSentence, key, nextKey, indexToWordDict[key])\n",
    "\n",
    "    if(sortedKeys[0] != 0):\n",
    "        newList = []\n",
    "        for thislist in sentenceChunks[sortedKeys[0]]:\n",
    "            newList.append(tokenizedSentence[0:sortedKeys[0]] + thislist)\n",
    "        sentenceChunks[sortedKeys[0]] = newList;\n",
    "        \n",
    "    finalOptions = combineSentenceChunks(tokenizedSentence, sentenceChunks)\n",
    "    \n",
    "    finalSentences = []\n",
    "    for val in finalOptions:\n",
    "        sentence = ' '.join(val)\n",
    "        finalSentences.append(sentence)\n",
    "    \n",
    "    sentenceObj.resetFinalSentences()\n",
    "    sentenceObj.addFinalSentences(finalSentences)   \n",
    "    return sentenceObj"
   ]
  },
  {
   "cell_type": "code",
   "execution_count": 39,
   "metadata": {},
   "outputs": [],
   "source": [
    "def getAlternativeSentences(sentenceObj):\n",
    "    mainSentence = sentenceObj.ogSentence;\n",
    "    mainSentiment = sentenceObj.ogSentiment;\n",
    "\n",
    "    sentenceTokens = cleanAndTokenizeText(mainSentence)\n",
    "\n",
    "    for ind, word in enumerate(sentenceTokens):\n",
    "        alternativeSentenceWithHTML = []\n",
    "        copyOfTokens = sentenceTokens[:]\n",
    "        replacements = []\n",
    "        \n",
    "        score = senty.polarity_scores(word)['compound']\n",
    "        if(score != 0.0):\n",
    "            tempReplacements = returnReplacementsForWord(word) # get embedding based relations\n",
    "            if(tempReplacements == []):\n",
    "                print(\"No replacements found at all for word {0}\".format(word))\n",
    "                continue\n",
    "            replacements = posApprovedReplacements(tempReplacements[:], copyOfTokens[:], ind)\n",
    "            finalReplacements = []\n",
    "            for word in replacements:\n",
    "                thisSentiment = senty.polarity_scores(word)['compound']\n",
    "                if(thisSentiment != 0.0):\n",
    "                    finalReplacements.append(word)\n",
    "                else:\n",
    "                    if(VERBOSE_PRINTING): print(\"Skipped word : {0}\".format(word))\n",
    "            if(finalReplacements == []):\n",
    "                print(\" -- No POS approved words! -- for word {0}\\n some non-POS:{1}\".format(word, tempReplacements[:4]))\n",
    "                continue\n",
    "            sentenceObj.addAlternativesByIndex(ind, finalReplacements)\n",
    "    return sentenceObj\n",
    "\n",
    "\n"
   ]
  },
  {
   "cell_type": "code",
   "execution_count": 40,
   "metadata": {
    "scrolled": false
   },
   "outputs": [
    {
     "name": "stdout",
     "output_type": "stream",
     "text": [
      "\n",
      " mraow i feel like dancing but first art school wants to rape me some more. :-0.7783\n",
      "\n",
      "Some antonyms for word like are ['dislike', 'unlike', 'unalike']\n",
      "Word like[IN] replaced with dislike[IN]\n",
      "Word like[IN] replaced with unlike[IN]\n",
      "Word like[IN] replaced with unalike[IN]\n",
      "Skipped word : unlike\n",
      "Skipped word : unalike\n",
      "No antonyms found for word rape\n",
      "Word rape[VB] replaced with murder[VB]\n",
      "Word rape[VB] replaced with molestation[VB]\n",
      "Word rape[VB] replaced with kidnapping[VB]\n",
      "Word rape[VB] replaced with abuse[VB]\n",
      "Word rape[VB] replaced with torture[VB]\n",
      "Skipped word : kidnapping\n",
      "3'th word's (like) options: {'dislike'}\n",
      "11'th word's (rape) options: {'murder', 'abuse', 'molestation', 'torture'}\n",
      "Generated : ['dislike', 'dancing', 'but', 'first', 'art', 'school', 'wants', 'to']\n",
      "Generated : ['like', 'dancing', 'but', 'first', 'art', 'school', 'wants', 'to']\n",
      "Generated : ['murder', 'me', 'some', 'more', '.']\n",
      "Generated : ['abuse', 'me', 'some', 'more', '.']\n",
      "Generated : ['molestation', 'me', 'some', 'more', '.']\n",
      "Generated : ['torture', 'me', 'some', 'more', '.']\n",
      "Generated : ['rape', 'me', 'some', 'more', '.']\n"
     ]
    },
    {
     "data": {
      "text/html": [
       "<text style=color:red>mraow i feel <text style=color:blue><i>[dislike]</i></text> dancing but first art school wants to <text style=color:blue><i>[murder]</i></text> me some more .: -0.8537</text>"
      ],
      "text/plain": [
       "<IPython.core.display.HTML object>"
      ]
     },
     "metadata": {},
     "output_type": "display_data"
    },
    {
     "data": {
      "text/html": [
       "<text style=color:red>mraow i feel <text style=color:blue><i>[dislike]</i></text> dancing but first art school wants to <text style=color:blue><i>[abuse]</i></text> me some more .: -0.8225</text>"
      ],
      "text/plain": [
       "<IPython.core.display.HTML object>"
      ]
     },
     "metadata": {},
     "output_type": "display_data"
    },
    {
     "data": {
      "text/html": [
       "<text style=color:green>mraow i feel <text style=color:blue><i>[dislike]</i></text> dancing but first art school wants to <text style=color:blue><i>[molestation]</i></text> me some more .: -0.6858</text>"
      ],
      "text/plain": [
       "<IPython.core.display.HTML object>"
      ]
     },
     "metadata": {},
     "output_type": "display_data"
    },
    {
     "data": {
      "text/html": [
       "<text style=color:red>mraow i feel <text style=color:blue><i>[dislike]</i></text> dancing but first art school wants to <text style=color:blue><i>[torture]</i></text> me some more .: -0.7992</text>"
      ],
      "text/plain": [
       "<IPython.core.display.HTML object>"
      ]
     },
     "metadata": {},
     "output_type": "display_data"
    },
    {
     "data": {
      "text/html": [
       "<text style=color:red>mraow i feel <text style=color:blue><i>[dislike]</i></text> dancing but first art school wants to <text style=color:blue><i>[rape]</i></text> me some more .: -0.8537</text>"
      ],
      "text/plain": [
       "<IPython.core.display.HTML object>"
      ]
     },
     "metadata": {},
     "output_type": "display_data"
    },
    {
     "data": {
      "text/html": [
       "<text style=color:black>mraow i feel <text style=color:blue><i>[like]</i></text> dancing but first art school wants to <text style=color:blue><i>[murder]</i></text> me some more .: -0.7783</text>"
      ],
      "text/plain": [
       "<IPython.core.display.HTML object>"
      ]
     },
     "metadata": {},
     "output_type": "display_data"
    },
    {
     "data": {
      "text/html": [
       "<text style=color:green>mraow i feel <text style=color:blue><i>[like]</i></text> dancing but first art school wants to <text style=color:blue><i>[abuse]</i></text> me some more .: -0.7227</text>"
      ],
      "text/plain": [
       "<IPython.core.display.HTML object>"
      ]
     },
     "metadata": {},
     "output_type": "display_data"
    },
    {
     "data": {
      "text/html": [
       "<text style=color:green>mraow i feel <text style=color:blue><i>[like]</i></text> dancing but first art school wants to <text style=color:blue><i>[molestation]</i></text> me some more .: -0.4767</text>"
      ],
      "text/plain": [
       "<IPython.core.display.HTML object>"
      ]
     },
     "metadata": {},
     "output_type": "display_data"
    },
    {
     "data": {
      "text/html": [
       "<text style=color:green>mraow i feel <text style=color:blue><i>[like]</i></text> dancing but first art school wants to <text style=color:blue><i>[torture]</i></text> me some more .: -0.6808</text>"
      ],
      "text/plain": [
       "<IPython.core.display.HTML object>"
      ]
     },
     "metadata": {},
     "output_type": "display_data"
    },
    {
     "data": {
      "text/html": [
       "<text style=color:black>mraow i feel <text style=color:blue><i>[like]</i></text> dancing but first art school wants to <text style=color:blue><i>[rape]</i></text> me some more .: -0.7783</text>"
      ],
      "text/plain": [
       "<IPython.core.display.HTML object>"
      ]
     },
     "metadata": {},
     "output_type": "display_data"
    },
    {
     "name": "stdout",
     "output_type": "stream",
     "text": [
      "\n",
      "\n"
     ]
    },
    {
     "data": {
      "text/html": [
       "<text style=color:red>Worst Sentence: mraow i feel <text style=color:blue><i>[dislike]</i></text> dancing but first art school wants to <text style=color:blue><i>[rape]</i></text> me some more . : -0.8537</text>"
      ],
      "text/plain": [
       "<IPython.core.display.HTML object>"
      ]
     },
     "metadata": {},
     "output_type": "display_data"
    },
    {
     "data": {
      "text/html": [
       "<text style=color:green>Best Sentence: mraow i feel <text style=color:blue><i>[like]</i></text> dancing but first art school wants to <text style=color:blue><i>[molestation]</i></text> me some more . : -0.4767</text>"
      ],
      "text/plain": [
       "<IPython.core.display.HTML object>"
      ]
     },
     "metadata": {},
     "output_type": "display_data"
    },
    {
     "name": "stdout",
     "output_type": "stream",
     "text": [
      "\n",
      "\n",
      "\n",
      "  ah! i bet it does i have been like craving to play softball or basketball !!! but i have noo time :0.56\n",
      "\n",
      "Some antonyms for word like are ['dislike', 'unlike', 'unalike']\n",
      "Word like[IN] replaced with unlike[IN]\n",
      "Skipped word : unlike\n",
      " -- No POS approved words! -- for word unlike\n",
      " some non-POS:['even', 'well', 'you', 'such']\n",
      "Some antonyms for word play are ['tightness']\n",
      "Word play[VB] replaced with played[VB]\n",
      "Word play[VB] replaced with plays[VB]\n",
      "Word play[VB] replaced with tightness[VB]\n",
      "Skipped word : tightness\n",
      "12'th word's (play) options: {'plays', 'played'}\n",
      "Generated : ['plays', 'softball', 'or', 'basketball', '!', '!', '!', 'but', 'i', 'have', 'noo', 'time']\n",
      "Generated : ['played', 'softball', 'or', 'basketball', '!', '!', '!', 'but', 'i', 'have', 'noo', 'time']\n",
      "Generated : ['play', 'softball', 'or', 'basketball', '!', '!', '!', 'but', 'i', 'have', 'noo', 'time']\n"
     ]
    },
    {
     "data": {
      "text/html": [
       "<text style=color:red>ah ! i bet it does i have been like craving to <text style=color:blue><i>[plays]</i></text> softball or basketball ! ! ! but i have noo time: 0.5296</text>"
      ],
      "text/plain": [
       "<IPython.core.display.HTML object>"
      ]
     },
     "metadata": {},
     "output_type": "display_data"
    },
    {
     "data": {
      "text/html": [
       "<text style=color:black>ah ! i bet it does i have been like craving to <text style=color:blue><i>[played]</i></text> softball or basketball ! ! ! but i have noo time: 0.56</text>"
      ],
      "text/plain": [
       "<IPython.core.display.HTML object>"
      ]
     },
     "metadata": {},
     "output_type": "display_data"
    },
    {
     "data": {
      "text/html": [
       "<text style=color:black>ah ! i bet it does i have been like craving to <text style=color:blue><i>[play]</i></text> softball or basketball ! ! ! but i have noo time: 0.56</text>"
      ],
      "text/plain": [
       "<IPython.core.display.HTML object>"
      ]
     },
     "metadata": {},
     "output_type": "display_data"
    },
    {
     "name": "stdout",
     "output_type": "stream",
     "text": [
      "\n",
      "\n"
     ]
    },
    {
     "data": {
      "text/html": [
       "<text style=color:red>Worst Sentence: ah ! i bet it does i have been like craving to <text style=color:blue><i>[play]</i></text> softball or basketball ! ! ! but i have noo time : 0.56</text>"
      ],
      "text/plain": [
       "<IPython.core.display.HTML object>"
      ]
     },
     "metadata": {},
     "output_type": "display_data"
    },
    {
     "data": {
      "text/html": [
       "<text style=color:green>Best Sentence: ah ! i bet it does i have been like craving to <text style=color:blue><i>[played]</i></text> softball or basketball ! ! ! but i have noo time : 0.56</text>"
      ],
      "text/plain": [
       "<IPython.core.display.HTML object>"
      ]
     },
     "metadata": {},
     "output_type": "display_data"
    },
    {
     "name": "stdout",
     "output_type": "stream",
     "text": [
      "\n",
      "\n",
      "\n",
      " is terrified she accidentally deleted a reference in her management assignment and hopes she doesnt get in trouble when she gets back :-0.3274\n",
      "\n",
      "No antonyms found for word terrified\n",
      "Word terrified[VBN] replaced with frightened[VBN]\n",
      "Word terrified[VBN] replaced with panicked[VBN]\n",
      "Word terrified[VBN] replaced with scared[VBN]\n",
      "Word terrified[VBN] replaced with bewildered[VBN]\n",
      "Skipped word : bewildered\n",
      "Some antonyms for word accidentally are ['deliberately', 'intentionally']\n",
      "Word accidentally[RB] replaced with inadvertently[RB]\n",
      "Word accidentally[RB] replaced with mistakenly[RB]\n",
      "Word accidentally[RB] replaced with apparently[RB]\n",
      "Word accidentally[RB] replaced with fatally[RB]\n",
      "Word accidentally[RB] replaced with intentionally[RB]\n",
      "Word accidentally[RB] replaced with deliberately[RB]\n",
      "Word accidentally[RB] replaced with intentionally[RB]\n",
      "Skipped word : inadvertently\n",
      "Skipped word : apparently\n",
      "Skipped word : intentionally\n",
      "Skipped word : deliberately\n",
      "Skipped word : intentionally\n",
      "Some antonyms for word hopes are ['despair']\n",
      "No POS words found for word hopes with tag VBZ\n",
      " -- No POS approved words! -- for word hopes\n",
      " some non-POS:['hoping', 'hope', 'hoped', 'boost']\n",
      "No antonyms found for word trouble\n",
      "Word trouble[NN] replaced with avoid[NN]\n",
      "Word trouble[NN] replaced with difficulty[NN]\n",
      "1'th word's (terrified) options: {'panicked', 'scared', 'frightened'}\n",
      "3'th word's (accidentally) options: {'fatally', 'mistakenly'}\n",
      "17'th word's (trouble) options: {'difficulty', 'avoid'}\n",
      "Generated : ['panicked', 'she']\n",
      "Generated : ['scared', 'she']\n",
      "Generated : ['frightened', 'she']\n",
      "Generated : ['terrified', 'she']\n",
      "Generated : ['fatally', 'deleted', 'a', 'reference', 'in', 'her', 'management', 'assignment', 'and', 'hopes', 'she', 'doesnt', 'get', 'in']\n",
      "Generated : ['mistakenly', 'deleted', 'a', 'reference', 'in', 'her', 'management', 'assignment', 'and', 'hopes', 'she', 'doesnt', 'get', 'in']\n",
      "Generated : ['accidentally', 'deleted', 'a', 'reference', 'in', 'her', 'management', 'assignment', 'and', 'hopes', 'she', 'doesnt', 'get', 'in']\n",
      "Generated : ['difficulty', 'when', 'she', 'gets', 'back']\n",
      "Generated : ['avoid', 'when', 'she', 'gets', 'back']\n",
      "Generated : ['trouble', 'when', 'she', 'gets', 'back']\n"
     ]
    },
    {
     "data": {
      "text/html": [
       "<text style=color:red>is <text style=color:blue><i>[panicked]</i></text> she <text style=color:blue><i>[fatally]</i></text> deleted a reference in her management assignment and hopes she doesnt get in <text style=color:blue><i>[difficulty]</i></text> when she gets back: -0.521</text>"
      ],
      "text/plain": [
       "<IPython.core.display.HTML object>"
      ]
     },
     "metadata": {},
     "output_type": "display_data"
    },
    {
     "data": {
      "text/html": [
       "<text style=color:red>is <text style=color:blue><i>[panicked]</i></text> she <text style=color:blue><i>[fatally]</i></text> deleted a reference in her management assignment and hopes she doesnt get in <text style=color:blue><i>[avoid]</i></text> when she gets back: -0.5442</text>"
      ],
      "text/plain": [
       "<IPython.core.display.HTML object>"
      ]
     },
     "metadata": {},
     "output_type": "display_data"
    },
    {
     "data": {
      "text/html": [
       "<text style=color:red>is <text style=color:blue><i>[panicked]</i></text> she <text style=color:blue><i>[fatally]</i></text> deleted a reference in her management assignment and hopes she doesnt get in <text style=color:blue><i>[trouble]</i></text> when she gets back: -0.484</text>"
      ],
      "text/plain": [
       "<IPython.core.display.HTML object>"
      ]
     },
     "metadata": {},
     "output_type": "display_data"
    },
    {
     "data": {
      "text/html": [
       "<text style=color:green>is <text style=color:blue><i>[panicked]</i></text> she <text style=color:blue><i>[mistakenly]</i></text> deleted a reference in her management assignment and hopes she doesnt get in <text style=color:blue><i>[difficulty]</i></text> when she gets back: -0.0936</text>"
      ],
      "text/plain": [
       "<IPython.core.display.HTML object>"
      ]
     },
     "metadata": {},
     "output_type": "display_data"
    },
    {
     "data": {
      "text/html": [
       "<text style=color:green>is <text style=color:blue><i>[panicked]</i></text> she <text style=color:blue><i>[mistakenly]</i></text> deleted a reference in her management assignment and hopes she doesnt get in <text style=color:blue><i>[avoid]</i></text> when she gets back: -0.1311</text>"
      ],
      "text/plain": [
       "<IPython.core.display.HTML object>"
      ]
     },
     "metadata": {},
     "output_type": "display_data"
    },
    {
     "data": {
      "text/html": [
       "<text style=color:green>is <text style=color:blue><i>[panicked]</i></text> she <text style=color:blue><i>[mistakenly]</i></text> deleted a reference in her management assignment and hopes she doesnt get in <text style=color:blue><i>[trouble]</i></text> when she gets back: -0.0366</text>"
      ],
      "text/plain": [
       "<IPython.core.display.HTML object>"
      ]
     },
     "metadata": {},
     "output_type": "display_data"
    },
    {
     "data": {
      "text/html": [
       "<text style=color:green>is <text style=color:blue><i>[panicked]</i></text> she <text style=color:blue><i>[accidentally]</i></text> deleted a reference in her management assignment and hopes she doesnt get in <text style=color:blue><i>[difficulty]</i></text> when she gets back: -0.1441</text>"
      ],
      "text/plain": [
       "<IPython.core.display.HTML object>"
      ]
     },
     "metadata": {},
     "output_type": "display_data"
    },
    {
     "data": {
      "text/html": [
       "<text style=color:green>is <text style=color:blue><i>[panicked]</i></text> she <text style=color:blue><i>[accidentally]</i></text> deleted a reference in her management assignment and hopes she doesnt get in <text style=color:blue><i>[avoid]</i></text> when she gets back: -0.1808</text>"
      ],
      "text/plain": [
       "<IPython.core.display.HTML object>"
      ]
     },
     "metadata": {},
     "output_type": "display_data"
    },
    {
     "data": {
      "text/html": [
       "<text style=color:green>is <text style=color:blue><i>[panicked]</i></text> she <text style=color:blue><i>[accidentally]</i></text> deleted a reference in her management assignment and hopes she doesnt get in <text style=color:blue><i>[trouble]</i></text> when she gets back: -0.088</text>"
      ],
      "text/plain": [
       "<IPython.core.display.HTML object>"
      ]
     },
     "metadata": {},
     "output_type": "display_data"
    },
    {
     "data": {
      "text/html": [
       "<text style=color:red>is <text style=color:blue><i>[scared]</i></text> she <text style=color:blue><i>[fatally]</i></text> deleted a reference in her management assignment and hopes she doesnt get in <text style=color:blue><i>[difficulty]</i></text> when she gets back: -0.5047</text>"
      ],
      "text/plain": [
       "<IPython.core.display.HTML object>"
      ]
     },
     "metadata": {},
     "output_type": "display_data"
    },
    {
     "data": {
      "text/html": [
       "<text style=color:red>is <text style=color:blue><i>[scared]</i></text> she <text style=color:blue><i>[fatally]</i></text> deleted a reference in her management assignment and hopes she doesnt get in <text style=color:blue><i>[avoid]</i></text> when she gets back: -0.5286</text>"
      ],
      "text/plain": [
       "<IPython.core.display.HTML object>"
      ]
     },
     "metadata": {},
     "output_type": "display_data"
    },
    {
     "data": {
      "text/html": [
       "<text style=color:red>is <text style=color:blue><i>[scared]</i></text> she <text style=color:blue><i>[fatally]</i></text> deleted a reference in her management assignment and hopes she doesnt get in <text style=color:blue><i>[trouble]</i></text> when she gets back: -0.4664</text>"
      ],
      "text/plain": [
       "<IPython.core.display.HTML object>"
      ]
     },
     "metadata": {},
     "output_type": "display_data"
    },
    {
     "data": {
      "text/html": [
       "<text style=color:green>is <text style=color:blue><i>[scared]</i></text> she <text style=color:blue><i>[mistakenly]</i></text> deleted a reference in her management assignment and hopes she doesnt get in <text style=color:blue><i>[difficulty]</i></text> when she gets back: -0.068</text>"
      ],
      "text/plain": [
       "<IPython.core.display.HTML object>"
      ]
     },
     "metadata": {},
     "output_type": "display_data"
    },
    {
     "data": {
      "text/html": [
       "<text style=color:green>is <text style=color:blue><i>[scared]</i></text> she <text style=color:blue><i>[mistakenly]</i></text> deleted a reference in her management assignment and hopes she doesnt get in <text style=color:blue><i>[avoid]</i></text> when she gets back: -0.1058</text>"
      ],
      "text/plain": [
       "<IPython.core.display.HTML object>"
      ]
     },
     "metadata": {},
     "output_type": "display_data"
    },
    {
     "data": {
      "text/html": [
       "<text style=color:green>is <text style=color:blue><i>[scared]</i></text> she <text style=color:blue><i>[mistakenly]</i></text> deleted a reference in her management assignment and hopes she doesnt get in <text style=color:blue><i>[trouble]</i></text> when she gets back: -0.0108</text>"
      ],
      "text/plain": [
       "<IPython.core.display.HTML object>"
      ]
     },
     "metadata": {},
     "output_type": "display_data"
    },
    {
     "data": {
      "text/html": [
       "<text style=color:green>is <text style=color:blue><i>[scared]</i></text> she <text style=color:blue><i>[accidentally]</i></text> deleted a reference in her management assignment and hopes she doesnt get in <text style=color:blue><i>[difficulty]</i></text> when she gets back: -0.119</text>"
      ],
      "text/plain": [
       "<IPython.core.display.HTML object>"
      ]
     },
     "metadata": {},
     "output_type": "display_data"
    },
    {
     "data": {
      "text/html": [
       "<text style=color:green>is <text style=color:blue><i>[scared]</i></text> she <text style=color:blue><i>[accidentally]</i></text> deleted a reference in her management assignment and hopes she doesnt get in <text style=color:blue><i>[avoid]</i></text> when she gets back: -0.1561</text>"
      ],
      "text/plain": [
       "<IPython.core.display.HTML object>"
      ]
     },
     "metadata": {},
     "output_type": "display_data"
    },
    {
     "data": {
      "text/html": [
       "<text style=color:green>is <text style=color:blue><i>[scared]</i></text> she <text style=color:blue><i>[accidentally]</i></text> deleted a reference in her management assignment and hopes she doesnt get in <text style=color:blue><i>[trouble]</i></text> when she gets back: -0.0624</text>"
      ],
      "text/plain": [
       "<IPython.core.display.HTML object>"
      ]
     },
     "metadata": {},
     "output_type": "display_data"
    },
    {
     "data": {
      "text/html": [
       "<text style=color:red>is <text style=color:blue><i>[frightened]</i></text> she <text style=color:blue><i>[fatally]</i></text> deleted a reference in her management assignment and hopes she doesnt get in <text style=color:blue><i>[difficulty]</i></text> when she gets back: -0.5047</text>"
      ],
      "text/plain": [
       "<IPython.core.display.HTML object>"
      ]
     },
     "metadata": {},
     "output_type": "display_data"
    },
    {
     "data": {
      "text/html": [
       "<text style=color:red>is <text style=color:blue><i>[frightened]</i></text> she <text style=color:blue><i>[fatally]</i></text> deleted a reference in her management assignment and hopes she doesnt get in <text style=color:blue><i>[avoid]</i></text> when she gets back: -0.5286</text>"
      ],
      "text/plain": [
       "<IPython.core.display.HTML object>"
      ]
     },
     "metadata": {},
     "output_type": "display_data"
    },
    {
     "data": {
      "text/html": [
       "<text style=color:red>is <text style=color:blue><i>[frightened]</i></text> she <text style=color:blue><i>[fatally]</i></text> deleted a reference in her management assignment and hopes she doesnt get in <text style=color:blue><i>[trouble]</i></text> when she gets back: -0.4664</text>"
      ],
      "text/plain": [
       "<IPython.core.display.HTML object>"
      ]
     },
     "metadata": {},
     "output_type": "display_data"
    },
    {
     "data": {
      "text/html": [
       "<text style=color:green>is <text style=color:blue><i>[frightened]</i></text> she <text style=color:blue><i>[mistakenly]</i></text> deleted a reference in her management assignment and hopes she doesnt get in <text style=color:blue><i>[difficulty]</i></text> when she gets back: -0.068</text>"
      ],
      "text/plain": [
       "<IPython.core.display.HTML object>"
      ]
     },
     "metadata": {},
     "output_type": "display_data"
    },
    {
     "data": {
      "text/html": [
       "<text style=color:green>is <text style=color:blue><i>[frightened]</i></text> she <text style=color:blue><i>[mistakenly]</i></text> deleted a reference in her management assignment and hopes she doesnt get in <text style=color:blue><i>[avoid]</i></text> when she gets back: -0.1058</text>"
      ],
      "text/plain": [
       "<IPython.core.display.HTML object>"
      ]
     },
     "metadata": {},
     "output_type": "display_data"
    },
    {
     "data": {
      "text/html": [
       "<text style=color:green>is <text style=color:blue><i>[frightened]</i></text> she <text style=color:blue><i>[mistakenly]</i></text> deleted a reference in her management assignment and hopes she doesnt get in <text style=color:blue><i>[trouble]</i></text> when she gets back: -0.0108</text>"
      ],
      "text/plain": [
       "<IPython.core.display.HTML object>"
      ]
     },
     "metadata": {},
     "output_type": "display_data"
    },
    {
     "data": {
      "text/html": [
       "<text style=color:green>is <text style=color:blue><i>[frightened]</i></text> she <text style=color:blue><i>[accidentally]</i></text> deleted a reference in her management assignment and hopes she doesnt get in <text style=color:blue><i>[difficulty]</i></text> when she gets back: -0.119</text>"
      ],
      "text/plain": [
       "<IPython.core.display.HTML object>"
      ]
     },
     "metadata": {},
     "output_type": "display_data"
    },
    {
     "data": {
      "text/html": [
       "<text style=color:green>is <text style=color:blue><i>[frightened]</i></text> she <text style=color:blue><i>[accidentally]</i></text> deleted a reference in her management assignment and hopes she doesnt get in <text style=color:blue><i>[avoid]</i></text> when she gets back: -0.1561</text>"
      ],
      "text/plain": [
       "<IPython.core.display.HTML object>"
      ]
     },
     "metadata": {},
     "output_type": "display_data"
    },
    {
     "data": {
      "text/html": [
       "<text style=color:green>is <text style=color:blue><i>[frightened]</i></text> she <text style=color:blue><i>[accidentally]</i></text> deleted a reference in her management assignment and hopes she doesnt get in <text style=color:blue><i>[trouble]</i></text> when she gets back: -0.0624</text>"
      ],
      "text/plain": [
       "<IPython.core.display.HTML object>"
      ]
     },
     "metadata": {},
     "output_type": "display_data"
    },
    {
     "data": {
      "text/html": [
       "<text style=color:red>is <text style=color:blue><i>[terrified]</i></text> she <text style=color:blue><i>[fatally]</i></text> deleted a reference in her management assignment and hopes she doesnt get in <text style=color:blue><i>[difficulty]</i></text> when she gets back: -0.6558</text>"
      ],
      "text/plain": [
       "<IPython.core.display.HTML object>"
      ]
     },
     "metadata": {},
     "output_type": "display_data"
    },
    {
     "data": {
      "text/html": [
       "<text style=color:red>is <text style=color:blue><i>[terrified]</i></text> she <text style=color:blue><i>[fatally]</i></text> deleted a reference in her management assignment and hopes she doesnt get in <text style=color:blue><i>[avoid]</i></text> when she gets back: -0.6717</text>"
      ],
      "text/plain": [
       "<IPython.core.display.HTML object>"
      ]
     },
     "metadata": {},
     "output_type": "display_data"
    },
    {
     "data": {
      "text/html": [
       "<text style=color:red>is <text style=color:blue><i>[terrified]</i></text> she <text style=color:blue><i>[fatally]</i></text> deleted a reference in her management assignment and hopes she doesnt get in <text style=color:blue><i>[trouble]</i></text> when she gets back: -0.63</text>"
      ],
      "text/plain": [
       "<IPython.core.display.HTML object>"
      ]
     },
     "metadata": {},
     "output_type": "display_data"
    },
    {
     "data": {
      "text/html": [
       "<text style=color:red>is <text style=color:blue><i>[terrified]</i></text> she <text style=color:blue><i>[mistakenly]</i></text> deleted a reference in her management assignment and hopes she doesnt get in <text style=color:blue><i>[difficulty]</i></text> when she gets back: -0.3322</text>"
      ],
      "text/plain": [
       "<IPython.core.display.HTML object>"
      ]
     },
     "metadata": {},
     "output_type": "display_data"
    },
    {
     "name": "stdout",
     "output_type": "stream",
     "text": [
      "\n",
      "\n",
      "--- More options (total: 36) possible, but not printed ---\n"
     ]
    },
    {
     "data": {
      "text/html": [
       "<text style=color:red>Worst Sentence: is <text style=color:blue><i>[terrified]</i></text> she <text style=color:blue><i>[fatally]</i></text> deleted a reference in her management assignment and hopes she doesnt get in <text style=color:blue><i>[avoid]</i></text> when she gets back : -0.6717</text>"
      ],
      "text/plain": [
       "<IPython.core.display.HTML object>"
      ]
     },
     "metadata": {},
     "output_type": "display_data"
    },
    {
     "data": {
      "text/html": [
       "<text style=color:green>Best Sentence: is <text style=color:blue><i>[scared]</i></text> she <text style=color:blue><i>[mistakenly]</i></text> deleted a reference in her management assignment and hopes she doesnt get in <text style=color:blue><i>[trouble]</i></text> when she gets back : -0.0108</text>"
      ],
      "text/plain": [
       "<IPython.core.display.HTML object>"
      ]
     },
     "metadata": {},
     "output_type": "display_data"
    },
    {
     "name": "stdout",
     "output_type": "stream",
     "text": [
      "\n",
      "\n",
      "\n",
      " amazon s3 plugin not worked in my website . it need php 5 . but my hosting provider has only php 4.4  . very sad.:-0.6416\n",
      "\n",
      "No antonyms found for word amazon\n",
      "Word amazon[NN] replaced with amazon.com[NN]\n",
      "Word amazon[NN] replaced with ebay[NN]\n",
      "Word amazon[NN] replaced with bezos[NN]\n",
      "Word amazon[NN] replaced with rainforest[NN]\n",
      "Skipped word : amazon.com\n",
      "Skipped word : ebay\n",
      "Skipped word : bezos\n",
      "Skipped word : rainforest\n",
      " -- No POS approved words! -- for word rainforest\n",
      " some non-POS:['amazon.com', 'ebay', 'bezos', 'rainforest']\n",
      "Some antonyms for word sad are ['glad']\n",
      "Word sad[JJ] replaced with sorry[JJ]\n",
      "Word sad[JJ] replaced with awful[JJ]\n",
      "Word sad[JJ] replaced with tragic[JJ]\n",
      "Word sad[JJ] replaced with horrible[JJ]\n",
      "Word sad[JJ] replaced with happy[JJ]\n",
      "Word sad[JJ] replaced with glad[JJ]\n",
      "24'th word's (sad) options: {'awful', 'tragic', 'glad', 'horrible', 'sorry', 'happy'}\n",
      "Generated : ['awful', '.']\n",
      "Generated : ['tragic', '.']\n",
      "Generated : ['glad', '.']\n",
      "Generated : ['horrible', '.']\n",
      "Generated : ['sorry', '.']\n",
      "Generated : ['happy', '.']\n",
      "Generated : ['sad', '.']\n"
     ]
    },
    {
     "data": {
      "text/html": [
       "<text style=color:green>amazon s3 plugin not worked in my website . it need php 5 . but my hosting provider has only php 4.4 . very <text style=color:blue><i>[awful]</i></text> .: -0.6236</text>"
      ],
      "text/plain": [
       "<IPython.core.display.HTML object>"
      ]
     },
     "metadata": {},
     "output_type": "display_data"
    },
    {
     "data": {
      "text/html": [
       "<text style=color:green>amazon s3 plugin not worked in my website . it need php 5 . but my hosting provider has only php 4.4 . very <text style=color:blue><i>[tragic]</i></text> .: -0.6236</text>"
      ],
      "text/plain": [
       "<IPython.core.display.HTML object>"
      ]
     },
     "metadata": {},
     "output_type": "display_data"
    },
    {
     "data": {
      "text/html": [
       "<text style=color:green>amazon s3 plugin not worked in my website . it need php 5 . but my hosting provider has only php 4.4 . very <text style=color:blue><i>[glad]</i></text> .: 0.6994</text>"
      ],
      "text/plain": [
       "<IPython.core.display.HTML object>"
      ]
     },
     "metadata": {},
     "output_type": "display_data"
    },
    {
     "data": {
      "text/html": [
       "<text style=color:red>amazon s3 plugin not worked in my website . it need php 5 . but my hosting provider has only php 4.4 . very <text style=color:blue><i>[horrible]</i></text> .: -0.704</text>"
      ],
      "text/plain": [
       "<IPython.core.display.HTML object>"
      ]
     },
     "metadata": {},
     "output_type": "display_data"
    },
    {
     "data": {
      "text/html": [
       "<text style=color:green>amazon s3 plugin not worked in my website . it need php 5 . but my hosting provider has only php 4.4 . very <text style=color:blue><i>[sorry]</i></text> .: -0.138</text>"
      ],
      "text/plain": [
       "<IPython.core.display.HTML object>"
      ]
     },
     "metadata": {},
     "output_type": "display_data"
    },
    {
     "data": {
      "text/html": [
       "<text style=color:green>amazon s3 plugin not worked in my website . it need php 5 . but my hosting provider has only php 4.4 . very <text style=color:blue><i>[happy]</i></text> .: 0.7808</text>"
      ],
      "text/plain": [
       "<IPython.core.display.HTML object>"
      ]
     },
     "metadata": {},
     "output_type": "display_data"
    },
    {
     "data": {
      "text/html": [
       "<text style=color:black>amazon s3 plugin not worked in my website . it need php 5 . but my hosting provider has only php 4.4 . very <text style=color:blue><i>[sad]</i></text> .: -0.6416</text>"
      ],
      "text/plain": [
       "<IPython.core.display.HTML object>"
      ]
     },
     "metadata": {},
     "output_type": "display_data"
    },
    {
     "name": "stdout",
     "output_type": "stream",
     "text": [
      "\n",
      "\n"
     ]
    },
    {
     "data": {
      "text/html": [
       "<text style=color:red>Worst Sentence: amazon s3 plugin not worked in my website . it need php 5 . but my hosting provider has only php 4.4 . very <text style=color:blue><i>[horrible]</i></text> . : -0.704</text>"
      ],
      "text/plain": [
       "<IPython.core.display.HTML object>"
      ]
     },
     "metadata": {},
     "output_type": "display_data"
    },
    {
     "data": {
      "text/html": [
       "<text style=color:green>Best Sentence: amazon s3 plugin not worked in my website . it need php 5 . but my hosting provider has only php 4.4 . very <text style=color:blue><i>[happy]</i></text> . : 0.7808</text>"
      ],
      "text/plain": [
       "<IPython.core.display.HTML object>"
      ]
     },
     "metadata": {},
     "output_type": "display_data"
    },
    {
     "name": "stdout",
     "output_type": "stream",
     "text": [
      "\n",
      "\n",
      "\n",
      " argh! i was suuuper sleepy an hour ago now i am wide awake.  hope i do not stay up all night. :0.4926\n",
      "\n",
      "Some antonyms for word hope are ['despair']\n",
      "Word hope[NN] replaced with despair[NN]\n",
      "15'th word's (hope) options: {'despair'}\n",
      "Generated : ['despair', 'i', 'do', 'not', 'stay', 'up', 'all', 'night', '.']\n",
      "Generated : ['hope', 'i', 'do', 'not', 'stay', 'up', 'all', 'night', '.']\n"
     ]
    },
    {
     "data": {
      "text/html": [
       "<text style=color:red>argh ! i was suuuper sleepy an hour ago now i am wide awake . <text style=color:blue><i>[despair]</i></text> i do not stay up all night .: -0.3802</text>"
      ],
      "text/plain": [
       "<IPython.core.display.HTML object>"
      ]
     },
     "metadata": {},
     "output_type": "display_data"
    },
    {
     "data": {
      "text/html": [
       "<text style=color:black>argh ! i was suuuper sleepy an hour ago now i am wide awake . <text style=color:blue><i>[hope]</i></text> i do not stay up all night .: 0.4926</text>"
      ],
      "text/plain": [
       "<IPython.core.display.HTML object>"
      ]
     },
     "metadata": {},
     "output_type": "display_data"
    },
    {
     "name": "stdout",
     "output_type": "stream",
     "text": [
      "\n",
      "\n"
     ]
    },
    {
     "data": {
      "text/html": [
       "<text style=color:green>Best Sentence: argh ! i was suuuper sleepy an hour ago now i am wide awake . <text style=color:blue><i>[hope]</i></text> i do not stay up all night . : 0.4926</text>"
      ],
      "text/plain": [
       "<IPython.core.display.HTML object>"
      ]
     },
     "metadata": {},
     "output_type": "display_data"
    },
    {
     "name": "stdout",
     "output_type": "stream",
     "text": [
      "\n",
      "\n",
      "\n",
      "  i wish i was!  sold out   if you have some time let me know i would love to hear more about what you are up to!:0.8168\n",
      "\n",
      "Some antonyms for word wish are ['begrudge']\n",
      "Word wish[VBP] replaced with want[VBP]\n",
      "Word wish[VBP] replaced with hope[VBP]\n",
      "Word wish[VBP] replaced with tell[VBP]\n",
      "Word wish[VBP] replaced with begrudge[VBP]\n",
      "Skipped word : tell\n",
      "Skipped word : begrudge\n",
      "Some antonyms for word love are ['hate']\n",
      "Word love[VB] replaced with passion[VB]\n",
      "Word love[VB] replaced with dream[VB]\n",
      "Word love[VB] replaced with hate[VB]\n",
      "1'th word's (wish) options: {'hope', 'want'}\n",
      "17'th word's (love) options: {'dream', 'hate', 'passion'}\n",
      "Generated : ['hope', 'i', 'was', '!', 'sold', 'out', 'if', 'you', 'have', 'some', 'time', 'let', 'me', 'know', 'i', 'would']\n",
      "Generated : ['want', 'i', 'was', '!', 'sold', 'out', 'if', 'you', 'have', 'some', 'time', 'let', 'me', 'know', 'i', 'would']\n",
      "Generated : ['wish', 'i', 'was', '!', 'sold', 'out', 'if', 'you', 'have', 'some', 'time', 'let', 'me', 'know', 'i', 'would']\n",
      "Generated : ['dream', 'to', 'hear', 'more', 'about', 'what', 'you', 'are', 'up', 'to', '!']\n",
      "Generated : ['hate', 'to', 'hear', 'more', 'about', 'what', 'you', 'are', 'up', 'to', '!']\n",
      "Generated : ['passion', 'to', 'hear', 'more', 'about', 'what', 'you', 'are', 'up', 'to', '!']\n",
      "Generated : ['love', 'to', 'hear', 'more', 'about', 'what', 'you', 'are', 'up', 'to', '!']\n"
     ]
    },
    {
     "data": {
      "text/html": [
       "<text style=color:red>i <text style=color:blue><i>[hope]</i></text> i was ! sold out if you have some time let me know i would <text style=color:blue><i>[dream]</i></text> to hear more about what you are up to !: 0.6688</text>"
      ],
      "text/plain": [
       "<IPython.core.display.HTML object>"
      ]
     },
     "metadata": {},
     "output_type": "display_data"
    },
    {
     "data": {
      "text/html": [
       "<text style=color:red>i <text style=color:blue><i>[hope]</i></text> i was ! sold out if you have some time let me know i would <text style=color:blue><i>[hate]</i></text> to hear more about what you are up to !: -0.3365</text>"
      ],
      "text/plain": [
       "<IPython.core.display.HTML object>"
      ]
     },
     "metadata": {},
     "output_type": "display_data"
    },
    {
     "data": {
      "text/html": [
       "<text style=color:red>i <text style=color:blue><i>[hope]</i></text> i was ! sold out if you have some time let me know i would <text style=color:blue><i>[passion]</i></text> to hear more about what you are up to !: 0.7568</text>"
      ],
      "text/plain": [
       "<IPython.core.display.HTML object>"
      ]
     },
     "metadata": {},
     "output_type": "display_data"
    },
    {
     "data": {
      "text/html": [
       "<text style=color:green>i <text style=color:blue><i>[hope]</i></text> i was ! sold out if you have some time let me know i would <text style=color:blue><i>[love]</i></text> to hear more about what you are up to !: 0.8264</text>"
      ],
      "text/plain": [
       "<IPython.core.display.HTML object>"
      ]
     },
     "metadata": {},
     "output_type": "display_data"
    },
    {
     "data": {
      "text/html": [
       "<text style=color:red>i <text style=color:blue><i>[want]</i></text> i was ! sold out if you have some time let me know i would <text style=color:blue><i>[dream]</i></text> to hear more about what you are up to !: 0.4374</text>"
      ],
      "text/plain": [
       "<IPython.core.display.HTML object>"
      ]
     },
     "metadata": {},
     "output_type": "display_data"
    },
    {
     "data": {
      "text/html": [
       "<text style=color:red>i <text style=color:blue><i>[want]</i></text> i was ! sold out if you have some time let me know i would <text style=color:blue><i>[hate]</i></text> to hear more about what you are up to !: -0.6103</text>"
      ],
      "text/plain": [
       "<IPython.core.display.HTML object>"
      ]
     },
     "metadata": {},
     "output_type": "display_data"
    },
    {
     "data": {
      "text/html": [
       "<text style=color:red>i <text style=color:blue><i>[want]</i></text> i was ! sold out if you have some time let me know i would <text style=color:blue><i>[passion]</i></text> to hear more about what you are up to !: 0.5972</text>"
      ],
      "text/plain": [
       "<IPython.core.display.HTML object>"
      ]
     },
     "metadata": {},
     "output_type": "display_data"
    },
    {
     "data": {
      "text/html": [
       "<text style=color:red>i <text style=color:blue><i>[want]</i></text> i was ! sold out if you have some time let me know i would <text style=color:blue><i>[love]</i></text> to hear more about what you are up to !: 0.7256</text>"
      ],
      "text/plain": [
       "<IPython.core.display.HTML object>"
      ]
     },
     "metadata": {},
     "output_type": "display_data"
    },
    {
     "data": {
      "text/html": [
       "<text style=color:red>i <text style=color:blue><i>[wish]</i></text> i was ! sold out if you have some time let me know i would <text style=color:blue><i>[dream]</i></text> to hear more about what you are up to !: 0.6467</text>"
      ],
      "text/plain": [
       "<IPython.core.display.HTML object>"
      ]
     },
     "metadata": {},
     "output_type": "display_data"
    },
    {
     "data": {
      "text/html": [
       "<text style=color:red>i <text style=color:blue><i>[wish]</i></text> i was ! sold out if you have some time let me know i would <text style=color:blue><i>[hate]</i></text> to hear more about what you are up to !: -0.3786</text>"
      ],
      "text/plain": [
       "<IPython.core.display.HTML object>"
      ]
     },
     "metadata": {},
     "output_type": "display_data"
    },
    {
     "data": {
      "text/html": [
       "<text style=color:red>i <text style=color:blue><i>[wish]</i></text> i was ! sold out if you have some time let me know i would <text style=color:blue><i>[passion]</i></text> to hear more about what you are up to !: 0.7418</text>"
      ],
      "text/plain": [
       "<IPython.core.display.HTML object>"
      ]
     },
     "metadata": {},
     "output_type": "display_data"
    },
    {
     "data": {
      "text/html": [
       "<text style=color:black>i <text style=color:blue><i>[wish]</i></text> i was ! sold out if you have some time let me know i would <text style=color:blue><i>[love]</i></text> to hear more about what you are up to !: 0.8168</text>"
      ],
      "text/plain": [
       "<IPython.core.display.HTML object>"
      ]
     },
     "metadata": {},
     "output_type": "display_data"
    },
    {
     "name": "stdout",
     "output_type": "stream",
     "text": [
      "\n",
      "\n"
     ]
    },
    {
     "data": {
      "text/html": [
       "<text style=color:red>Worst Sentence: i <text style=color:blue><i>[want]</i></text> i was ! sold out if you have some time let me know i would <text style=color:blue><i>[hate]</i></text> to hear more about what you are up to ! : -0.6103</text>"
      ],
      "text/plain": [
       "<IPython.core.display.HTML object>"
      ]
     },
     "metadata": {},
     "output_type": "display_data"
    },
    {
     "data": {
      "text/html": [
       "<text style=color:green>Best Sentence: i <text style=color:blue><i>[hope]</i></text> i was ! sold out if you have some time let me know i would <text style=color:blue><i>[love]</i></text> to hear more about what you are up to ! : 0.8264</text>"
      ],
      "text/plain": [
       "<IPython.core.display.HTML object>"
      ]
     },
     "metadata": {},
     "output_type": "display_data"
    },
    {
     "name": "stdout",
     "output_type": "stream",
     "text": [
      "\n",
      "\n",
      "\n",
      " just watched tropic thunder. dreading tomorrow :-0.5267\n",
      "\n",
      "No antonyms found for word dreading\n",
      "Word dreading[NN] replaced with reliving[NN]\n",
      "Word dreading[NN] replaced with pondering[NN]\n",
      "Word dreading[NN] replaced with hallucinating[NN]\n",
      "Word dreading[NN] replaced with griping[NN]\n",
      "Word dreading[NN] replaced with regretting[NN]\n",
      "Skipped word : reliving\n",
      "Skipped word : pondering\n",
      "Skipped word : hallucinating\n",
      "Skipped word : griping\n",
      "5'th word's (dreading) options: {'regretting'}\n",
      "Generated : ['regretting', 'tomorrow']\n",
      "Generated : ['dreading', 'tomorrow']\n"
     ]
    },
    {
     "data": {
      "text/html": [
       "<text style=color:green>just watched tropic thunder . <text style=color:blue><i>[regretting]</i></text> tomorrow: -0.4019</text>"
      ],
      "text/plain": [
       "<IPython.core.display.HTML object>"
      ]
     },
     "metadata": {},
     "output_type": "display_data"
    },
    {
     "data": {
      "text/html": [
       "<text style=color:black>just watched tropic thunder . <text style=color:blue><i>[dreading]</i></text> tomorrow: -0.5267</text>"
      ],
      "text/plain": [
       "<IPython.core.display.HTML object>"
      ]
     },
     "metadata": {},
     "output_type": "display_data"
    },
    {
     "name": "stdout",
     "output_type": "stream",
     "text": [
      "\n",
      "\n"
     ]
    },
    {
     "data": {
      "text/html": [
       "<text style=color:red>Worst Sentence: just watched tropic thunder . <text style=color:blue><i>[dreading]</i></text> tomorrow : -0.5267</text>"
      ],
      "text/plain": [
       "<IPython.core.display.HTML object>"
      ]
     },
     "metadata": {},
     "output_type": "display_data"
    },
    {
     "data": {
      "text/html": [
       "<text style=color:green>Best Sentence: just watched tropic thunder . <text style=color:blue><i>[regretting]</i></text> tomorrow : -0.4019</text>"
      ],
      "text/plain": [
       "<IPython.core.display.HTML object>"
      ]
     },
     "metadata": {},
     "output_type": "display_data"
    },
    {
     "name": "stdout",
     "output_type": "stream",
     "text": [
      "\n",
      "\n",
      "\n",
      "   according to my bro our new puppy had a poo fight and was covered in poop  picture stolen from him:-0.7003\n",
      "\n",
      "No antonyms found for word fight\n",
      "Word fight[NN] replaced with fighting[NN]\n",
      "Word fight[NN] replaced with struggle[NN]\n",
      "Word fight[NN] replaced with fought[NN]\n",
      "Word fight[NN] replaced with battle[NN]\n",
      "No antonyms found for word stolen\n",
      "Word stolen[VBN] replaced with confiscated[VBN]\n",
      "Skipped word : confiscated\n",
      " -- No POS approved words! -- for word confiscated\n",
      " some non-POS:['stole', 'stealing', 'confiscated', 'steal']\n",
      "10'th word's (fight) options: {'battle', 'fighting', 'fought', 'struggle'}\n",
      "Generated : ['battle', 'and', 'was', 'covered', 'in', 'poop', 'picture', 'stolen', 'from', 'him']\n",
      "Generated : ['fighting', 'and', 'was', 'covered', 'in', 'poop', 'picture', 'stolen', 'from', 'him']\n",
      "Generated : ['fought', 'and', 'was', 'covered', 'in', 'poop', 'picture', 'stolen', 'from', 'him']\n",
      "Generated : ['struggle', 'and', 'was', 'covered', 'in', 'poop', 'picture', 'stolen', 'from', 'him']\n",
      "Generated : ['fight', 'and', 'was', 'covered', 'in', 'poop', 'picture', 'stolen', 'from', 'him']\n"
     ]
    },
    {
     "data": {
      "text/html": [
       "<text style=color:black>according to my bro our new puppy had a poo <text style=color:blue><i>[battle]</i></text> and was covered in poop picture stolen from him: -0.7003</text>"
      ],
      "text/plain": [
       "<IPython.core.display.HTML object>"
      ]
     },
     "metadata": {},
     "output_type": "display_data"
    },
    {
     "data": {
      "text/html": [
       "<text style=color:green>according to my bro our new puppy had a poo <text style=color:blue><i>[fighting]</i></text> and was covered in poop picture stolen from him: -0.6908</text>"
      ],
      "text/plain": [
       "<IPython.core.display.HTML object>"
      ]
     },
     "metadata": {},
     "output_type": "display_data"
    },
    {
     "data": {
      "text/html": [
       "<text style=color:green>according to my bro our new puppy had a poo <text style=color:blue><i>[fought]</i></text> and was covered in poop picture stolen from him: -0.6705</text>"
      ],
      "text/plain": [
       "<IPython.core.display.HTML object>"
      ]
     },
     "metadata": {},
     "output_type": "display_data"
    },
    {
     "data": {
      "text/html": [
       "<text style=color:green>according to my bro our new puppy had a poo <text style=color:blue><i>[struggle]</i></text> and was covered in poop picture stolen from him: -0.6705</text>"
      ],
      "text/plain": [
       "<IPython.core.display.HTML object>"
      ]
     },
     "metadata": {},
     "output_type": "display_data"
    },
    {
     "data": {
      "text/html": [
       "<text style=color:black>according to my bro our new puppy had a poo <text style=color:blue><i>[fight]</i></text> and was covered in poop picture stolen from him: -0.7003</text>"
      ],
      "text/plain": [
       "<IPython.core.display.HTML object>"
      ]
     },
     "metadata": {},
     "output_type": "display_data"
    },
    {
     "name": "stdout",
     "output_type": "stream",
     "text": [
      "\n",
      "\n"
     ]
    },
    {
     "data": {
      "text/html": [
       "<text style=color:red>Worst Sentence: according to my bro our new puppy had a poo <text style=color:blue><i>[fight]</i></text> and was covered in poop picture stolen from him : -0.7003</text>"
      ],
      "text/plain": [
       "<IPython.core.display.HTML object>"
      ]
     },
     "metadata": {},
     "output_type": "display_data"
    },
    {
     "data": {
      "text/html": [
       "<text style=color:green>Best Sentence: according to my bro our new puppy had a poo <text style=color:blue><i>[fought]</i></text> and was covered in poop picture stolen from him : -0.6705</text>"
      ],
      "text/plain": [
       "<IPython.core.display.HTML object>"
      ]
     },
     "metadata": {},
     "output_type": "display_data"
    },
    {
     "name": "stdout",
     "output_type": "stream",
     "text": [
      "\n",
      "\n",
      "\n",
      " playing game at home! my new boss did not call me yet... :0.2714\n",
      "\n",
      "No antonyms found for word playing\n",
      "No POS words found for word playing with tag VBG\n",
      " -- No POS approved words! -- for word playing\n",
      " some non-POS:['played', 'play', 'plays', 'player']\n",
      " -- No new Strings generated ---\n",
      "\n",
      "\n"
     ]
    }
   ],
   "source": [
    "def extractTwitterDataset():\n",
    "    df_tweets = pd.read_csv( pathToDatasets + 'cleanedTweets.csv', nrows=NUM_OF_TWEETS, skiprows =TWEET_START)\n",
    "    tweets = df_tweets.values\n",
    "    return tweets;\n",
    "\n",
    "\n",
    "def runThroughTweets():\n",
    "    tweets = extractTwitterDataset()\n",
    "    \n",
    "    listOfObjects = []\n",
    "    for counter,tweet in enumerate(tweets):\n",
    "        tweet = tweet[0]\n",
    "        tweetTokens = cleanAndTokenizeText(tweet)\n",
    "        mainSentiment = senty.polarity_scores(tweet)['compound']\n",
    "        if(mainSentiment == 0):\n",
    "            continue\n",
    "        print(\"\\n {0}:{1}\\n\".format(tweet,mainSentiment))   \n",
    "        sentenceObj = Sentence(tweet, mainSentiment)\n",
    "        sentenceObj = getAlternativeSentences(sentenceObj)\n",
    "        replacementDictionary = sentenceObj.getDictOfIndexWords();\n",
    "        if(len(replacementDictionary) <= 0):        \n",
    "            print(\" -- No new Strings generated ---\\n\\n\")\n",
    "            return\n",
    "\n",
    "        keysToChange = replacementDictionary.keys();\n",
    "        for key in keysToChange:\n",
    "            if(VERBOSE_PRINTING):print(\"{0}'th word's ({2}) options: {1}\".format(key,replacementDictionary[key],tweetTokens[key]))\n",
    "\n",
    "        sentenceObj = returnCombinationsOfStrings(sentenceObj)\n",
    "        allPossible = printStrings(sentenceObj)\n",
    "        \n",
    "runThroughTweets()"
   ]
  },
  {
   "cell_type": "markdown",
   "metadata": {},
   "source": [
    "## Testing Code\n"
   ]
  },
  {
   "cell_type": "code",
   "execution_count": 41,
   "metadata": {},
   "outputs": [],
   "source": [
    "specificWord = \"good\"\n",
    "def testOneWord(word=\"\"):\n",
    "    if(word==\"\"):\n",
    "        return\n",
    "    print(word)"
   ]
  },
  {
   "cell_type": "code",
   "execution_count": 42,
   "metadata": {
    "scrolled": false
   },
   "outputs": [],
   "source": [
    "specificString = \"\"\n",
    "def specificString(textString=\"\"):\n",
    "    if(textString == \"\" or textString == None):\n",
    "        return\n",
    "    mainSentiment = senty.polarity_scores(textString)['compound']\n",
    "    if(mainSentiment == 0):\n",
    "        print(\"{} \\n No sentiment found in sentence\".format(textString));\n",
    "        return;\n",
    "    print(\"\\n {0}:{1}\\n\".format(textString,mainSentiment))   \n",
    "    sentenceObj = Sentence(textString, mainSentiment)\n",
    "    sentenceObj = getAlternativeSentences(sentenceObj)\n",
    "    replacementDictionary = sentenceObj.getDictOfIndexWords();\n",
    "    if(len(replacementDictionary) <= 0):        \n",
    "        print(\" -- No new Strings generated ---\\n\\n\")\n",
    "        return\n",
    "    \n",
    "    keysToChange = replacementDictionary.keys();\n",
    "    for key in keysToChange:\n",
    "        print(\"{0}'th word's options: {1}\".format(key,replacementDictionary[key]))\n",
    "        \n",
    "    sentenceObj = returnCombinationsOfStrings(sentenceObj)\n",
    "    allPossibleSentences = printStrings(sentenceObj)\n",
    "    \n",
    "\n",
    "# specificString(\"When they all go eat together, tha's when we should get nervous\")\n",
    "# specificString(\"You're not ready for this!\")"
   ]
  },
  {
   "cell_type": "code",
   "execution_count": null,
   "metadata": {},
   "outputs": [],
   "source": []
  }
 ],
 "metadata": {
  "kernelspec": {
   "display_name": "Python 3",
   "language": "python",
   "name": "python3"
  }
 },
 "nbformat": 4,
 "nbformat_minor": 2
}
