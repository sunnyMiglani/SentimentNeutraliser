{
 "cells": [
  {
   "cell_type": "markdown",
   "metadata": {},
   "source": [
    "## Import Statements"
   ]
  },
  {
   "cell_type": "code",
   "execution_count": 1,
   "metadata": {},
   "outputs": [
    {
     "name": "stdout",
     "output_type": "stream",
     "text": [
      "Welcome to cleaning dataset script! \n",
      "Would you like to enter a string or clean dataset?\n",
      "Press 1. for string, 2. for dataset or 3 for nothing!\n",
      "3\n",
      "Bye\n"
     ]
    },
    {
     "data": {
      "text/html": [
       "<style>.container { width:85% !important; }</style>"
      ],
      "text/plain": [
       "<IPython.core.display.HTML object>"
      ]
     },
     "metadata": {},
     "output_type": "display_data"
    }
   ],
   "source": [
    "import gensim.downloader as api\n",
    "import numpy as np\n",
    "import re\n",
    "import csv\n",
    "import pandas as pd\n",
    "import pprint\n",
    "import string\n",
    "import nltk\n",
    "import sys\n",
    "import spacy\n",
    "\n",
    "from IPython.display import HTML\n",
    "from nltk.corpus import wordnet \n",
    "from sklearn.manifold import TSNE\n",
    "from gensim.models import Word2Vec\n",
    "from gensim.models import KeyedVectors\n",
    "\n",
    "from nltk.sentiment.vader import SentimentIntensityAnalyzer\n",
    "from nltk.tokenize import word_tokenize\n",
    "\n",
    "pathToDatasets = '../datasets/'\n",
    "pathToDataScripts = '../datasets/scripts/'\n",
    "filePath = '../datasets/GoogleNews-vectors-negative300.bin'\n",
    "\n",
    "sys.path.insert(0, pathToDataScripts)\n",
    "from cleanDataset import tokenize_words \n",
    "\n",
    "\n",
    "from IPython.core.display import display, HTML\n",
    "display(HTML(\"<style>.container { width:85% !important; }</style>\"))"
   ]
  },
  {
   "cell_type": "markdown",
   "metadata": {},
   "source": [
    "## Downloading binaries and models\n"
   ]
  },
  {
   "cell_type": "code",
   "execution_count": 2,
   "metadata": {},
   "outputs": [
    {
     "name": "stdout",
     "output_type": "stream",
     "text": [
      "Should I reload the model?\n",
      "yes\n"
     ]
    },
    {
     "name": "stderr",
     "output_type": "stream",
     "text": [
      "[nltk_data] Downloading package vader_lexicon to\n",
      "[nltk_data]     /home/ubuntu/nltk_data...\n",
      "[nltk_data]   Package vader_lexicon is already up-to-date!\n",
      "[nltk_data] Downloading package punkt to /home/ubuntu/nltk_data...\n",
      "[nltk_data]   Package punkt is already up-to-date!\n",
      "[nltk_data] Downloading package averaged_perceptron_tagger to\n",
      "[nltk_data]     /home/ubuntu/nltk_data...\n",
      "[nltk_data]   Package averaged_perceptron_tagger is already up-to-\n",
      "[nltk_data]       date!\n",
      "[nltk_data] Downloading package wordnet to /home/ubuntu/nltk_data...\n",
      "[nltk_data]   Package wordnet is already up-to-date!\n"
     ]
    }
   ],
   "source": [
    "print(\"Should I reload the model?\")\n",
    "tstString = input()\n",
    "if(\"no\" in tstString.lower()):\n",
    "    print(\" didnt reload model! \")\n",
    "else:\n",
    "    word_vectors = api.load(\"glove-wiki-gigaword-100\")\n",
    "    nltk.download('vader_lexicon')\n",
    "    nltk.download('punkt')\n",
    "    nltk.download('averaged_perceptron_tagger')\n",
    "    nltk.download('wordnet')"
   ]
  },
  {
   "cell_type": "markdown",
   "metadata": {},
   "source": [
    "## Global Variables and Global Objects"
   ]
  },
  {
   "cell_type": "code",
   "execution_count": 3,
   "metadata": {},
   "outputs": [],
   "source": [
    "senty = SentimentIntensityAnalyzer()\n",
    "vocabulary = word_vectors.vocab;\n",
    "\n",
    "nlp = spacy.load('en')\n",
    "\n",
    "\n",
    "NUMBER_OF_ALTERNATIVES = 5\n",
    "TWEET_START = 100\n",
    "NUM_OF_TWEETS = 50\n",
    "\n",
    "\n",
    "VERBOSE_PRINTING = True\n",
    "# VERBOSE_PRINTING = False\n",
    "\n",
    "USE_SPACY = False\n",
    "# USE_SPACY = True\n",
    "\n",
    "\n",
    "punctuation = r\"\\\"#$%&'+-/;<=>?@[\\]*^_`{|}~\""
   ]
  },
  {
   "cell_type": "markdown",
   "metadata": {},
   "source": [
    "## Class for Sentences\n"
   ]
  },
  {
   "cell_type": "code",
   "execution_count": 4,
   "metadata": {},
   "outputs": [],
   "source": [
    "class SentenceWithHTML():\n",
    "    \n",
    "    def __init__(self,sentence,html):\n",
    "        self.sentence = sentence;\n",
    "        self.html = html;\n",
    "    \n",
    "    def getHTML(self):\n",
    "        return self.html;\n",
    "    \n",
    "    def getSentence(self):\n",
    "        return self.sentence\n",
    "    \n",
    "    def setHTML(self, html):\n",
    "        self.html = html;\n",
    "    \n",
    "    def setSentence(self, sentence):\n",
    "        self.sentence = sentence\n",
    "\n",
    "\n",
    "class Sentence:\n",
    "    \n",
    "    \n",
    "    def __init__(self, sentence, sentiment):\n",
    "        self.ogSentence = sentence;\n",
    "        self.ogSentiment = sentiment;\n",
    "        self.indexToSetOfWords = {}\n",
    "        self.alternateSentences = [];\n",
    "        self.finalShiftSentences = [];\n",
    "\n",
    "    def addAlternativesByIndex(self, index, listOfAlternatives):\n",
    "        '''\n",
    "            Adds the list of possible alternative words that \n",
    "            can be used per word based on the index of the word in the tokenized \n",
    "            sentence. (from cleanAndTokenizeText())\n",
    "        '''\n",
    "        if(self.indexToSetOfWords.get(index)):\n",
    "            self.indexToSetOfWords[index] = self.indexToSetOfWords.union(set(listOfAlternatives))\n",
    "        else:\n",
    "            self.indexToSetOfWords[index] = set(listOfAlternatives)\n",
    "        \n",
    "    def addAlternativeStrings(self, strings):\n",
    "        if(isinstance(strings,str)):\n",
    "            self.alternateStrings = list(set(self.alternateStrings.append(strings)))\n",
    "            self.alternateSentences.append(strings)\n",
    "        else:\n",
    "            self.alternateSentences.extend(strings)\n",
    "    \n",
    "\n",
    "    \n",
    "    def addFinalSentences(self, sentences):\n",
    "        if(isinstance(sentences, str)):\n",
    "            self.finalShiftSentences.append(sentences)\n",
    "        else:\n",
    "            self.finalShiftSentences.extend(sentences)\n",
    "\n",
    "    def resetFinalSentences(self):\n",
    "        self.finalShiftSentences = [];\n",
    "        \n",
    "            "
   ]
  },
  {
   "cell_type": "markdown",
   "metadata": {},
   "source": [
    "## Utility Code"
   ]
  },
  {
   "cell_type": "code",
   "execution_count": 5,
   "metadata": {},
   "outputs": [],
   "source": [
    "def cstr(s, color='black'):\n",
    "    return \"<text style=color:{}>{}</text>\".format(color, s)\n",
    "\n",
    "def cleanAndTokenizeText(text):\n",
    "    text = text.lower();\n",
    "    newString = \"\"\n",
    "    for char in text:\n",
    "        if char not in punctuation:\n",
    "            newString += char\n",
    "    text = word_tokenize(newString)\n",
    "    return text;\n",
    "\n",
    "def getPOSTags(tweet):\n",
    "    if(USE_SPACY == False):\n",
    "        tags = nltk.pos_tag(tweet)\n",
    "        return tags;    \n",
    "    tweet = ' '.join(tweet)\n",
    "    doc = nlp(tweet)\n",
    "    tags = [(token.text, token.pos_) for token in doc] # since the format expected is [text,tag]\n",
    "    return tags;\n",
    "    \n",
    "\n",
    "def getAntonymsOfWords(word):\n",
    "    if(word not in vocabulary):\n",
    "        return []\n",
    "    setOfAntonyms = set()\n",
    "    for syn in wordnet.synsets(word):\n",
    "        for l in syn.lemmas():\n",
    "            anton = l.antonyms()\n",
    "            if(anton!=[]):\n",
    "                setOfAntonyms.add(anton[0].name())\n",
    "    if(len(setOfAntonyms) == 0):\n",
    "        if(VERBOSE_PRINTING): print(\"No antonyms found for word {0}\".format(word))\n",
    "    return list(setOfAntonyms)\n",
    "\n",
    "def listReplacements(word):\n",
    "    if(word not in vocabulary):\n",
    "        print(\" --- {0} not in vocabulary ---\".format(word))\n",
    "        return []\n",
    "    possibleReplacements = [word[0] for word in word_vectors.most_similar(word,topn=NUMBER_OF_ALTERNATIVES)]\n",
    "    if(possibleReplacements == []):\n",
    "        print(\" --- No replacements for word {0} ---\".format(word))\n",
    "    antonyms = getAntonymsOfWords(word)\n",
    "    if(antonyms != []):\n",
    "        possibleReplacements.extend(antonyms)\n",
    "        if(VERBOSE_PRINTING): print(\"Some antonyms for word {0} are {1}\".format(word, antonyms[:3]))\n",
    "        return possibleReplacements\n",
    "    return possibleReplacements\n",
    "    \n",
    "def posApprovedReplacements(alternativeWords, userTokens, indexOfToken):\n",
    "    if(alternativeWords == []):\n",
    "        return []\n",
    "    tempTokens = userTokens[:]\n",
    "    POSTokens = getPOSTags(tempTokens)\n",
    "    validWords = []\n",
    "    \n",
    "    mainTag = POSTokens[indexOfToken][1]\n",
    "    mainWord = userTokens[indexOfToken]\n",
    "    \n",
    "    for ind,word in enumerate(alternativeWords):\n",
    "        tempTokens[indexOfToken] = word\n",
    "        posTags = getPOSTags(tempTokens)\n",
    "        newTag = (posTags[indexOfToken])[1]\n",
    "        \n",
    "        if(str(newTag) == str(mainTag)):\n",
    "            if(VERBOSE_PRINTING): print(\"Word {0}[{1}] replaced with {2}[{3}]\".format(mainWord, mainTag, word,newTag))\n",
    "            validWords.append(word)\n",
    "    if(validWords == [] and VERBOSE_PRINTING):\n",
    "        print(\"No POS words found for word {} with tag {}\".format(mainWord, mainTag));\n",
    "    return validWords\n",
    "        \n",
    "    \n",
    "    \n",
    "def getAlternativeSentences(sentenceObj):\n",
    "    mainSentence = sentenceObj.ogSentence;\n",
    "    mainSentiment = sentenceObj.ogSentiment;\n",
    "    \n",
    "    sentenceTokens = cleanAndTokenizeText(mainSentence)\n",
    "   \n",
    "    for ind, word in enumerate(sentenceTokens):\n",
    "        alternativeSentenceWithHTML = []\n",
    "        \n",
    "        score = senty.polarity_scores(word)['compound']\n",
    "        copyOfTokens = sentenceTokens[:]\n",
    "        replacements = []\n",
    "        if(score != 0.0):\n",
    "            tempReplacements = listReplacements(word) # get embedding based relations\n",
    "            if(tempReplacements == []):\n",
    "                print(\"No replacements found at all for word {0}\".format(word))\n",
    "                continue\n",
    "            replacements = posApprovedReplacements(tempReplacements[:], copyOfTokens[:], ind)\n",
    "            if(replacements == []):\n",
    "                print(\" -- No POS approved words! -- for word {0}\\n some non-POS:{1}\".format(word, tempReplacements[:4]))\n",
    "                continue\n",
    "            sentenceObj.addAlternativesByIndex(ind, replacements)\n",
    "            \n",
    "            ## Generate new sentences by switching that word\n",
    "            for newWord in replacements:\n",
    "                htmlFriendlyTokens = copyOfTokens[:]\n",
    "                copyOfTokens[ind] = newWord\n",
    "                htmlFriendlyTokens[ind] = cstr(\" <i>[{0}]</i>\".format(newWord), \"blue\");\n",
    "                newString = ' '.join(copyOfTokens)\n",
    "                tSentence = SentenceWithHTML(newString, ' '.join(htmlFriendlyTokens))\n",
    "                alternativeSentenceWithHTML.append(tSentence)\n",
    "        sentenceObj.addAlternativeStrings(alternativeSentenceWithHTML)\n",
    "    return sentenceObj\n",
    "\n",
    "def shiftSentiment(sentenceObj, positive=True):\n",
    "    \n",
    "    actualTweet = sentenceObj.ogSentence;\n",
    "    mainSentiment = sentenceObj.ogSentiment;\n",
    "    alternateTweets = sentenceObj.alternateSentences;\n",
    "    \n",
    "    \n",
    "    happiestTweet = \"\"\n",
    "    saddestTweet = \"\"\n",
    "    happiestScore = -sys.maxsize - 1\n",
    "    saddestScore = sys.maxsize\n",
    "    correctTweets = []\n",
    "    \n",
    "    for tSentence in alternateTweets:\n",
    "        tweet = tSentence.getSentence();\n",
    "        newSenty = senty.polarity_scores(tweet)['compound']\n",
    "        \n",
    "        if(newSenty < saddestScore):\n",
    "            saddestTweet = tSentence\n",
    "            saddestScore = newSenty\n",
    "        if(newSenty > happiestScore):\n",
    "            happiestTweet = tSentence\n",
    "            happiestScore = newSenty\n",
    "            \n",
    "        if(newSenty == mainSentiment):\n",
    "            continue\n",
    "        if(positive == True):\n",
    "            if(newSenty > mainSentiment):\n",
    "                correctTweets.append(tSentence)\n",
    "                continue\n",
    "            \n",
    "            elif(newSenty < mainSentiment):\n",
    "                continue\n",
    "                # Grab happiest tweet and if it's not \"\", then generate more happy tweets from it\n",
    "        if(positive == False):\n",
    "            if(newSenty < mainSentiment):\n",
    "                correctTweets.append(tSentence)\n",
    "                continue\n",
    "            \n",
    "            elif(newSenty > mainSentiment):\n",
    "                continue\n",
    "                # grab happiest tweet, and if it's not \"\", then generate more happy tweets from it\n",
    "                \n",
    "    if(correctTweets == []):\n",
    "        print(\"\\n\\nNo tweets found when trying to do Positive={}\\n\\n\".format(positive))\n",
    "    sentenceObj.resetFinalSentences();\n",
    "    sentenceObj.addFinalSentences(correctTweets);\n",
    "    return sentenceObj;"
   ]
  },
  {
   "cell_type": "code",
   "execution_count": 6,
   "metadata": {},
   "outputs": [],
   "source": [
    "def printStrings(sentenceObj):\n",
    "    newStrings = sentenceObj.finalShiftSentences;\n",
    "    mainSentiment = sentenceObj.ogSentiment;    \n",
    "    for ind, tSentence in enumerate(newStrings):\n",
    "            alteredTweet = tSentence.getSentence()\n",
    "            htmlText = tSentence.getHTML()\n",
    "            sentimentOfNewString = senty.polarity_scores(alteredTweet)['compound']\n",
    "            if(sentimentOfNewString == mainSentiment or sentimentOfNewString == 0):\n",
    "                display(HTML(cstr(\"{0}: {1}\".format(htmlText,sentimentOfNewString),'DarkGray')))\n",
    "            elif(sentimentOfNewString > mainSentiment):\n",
    "                display(HTML(cstr(\"{0}: {1}\".format(htmlText,sentimentOfNewString),'green')))\n",
    "            else:\n",
    "                display(HTML(cstr(\"{0}: {1}\".format(htmlText,sentimentOfNewString),'red')))"
   ]
  },
  {
   "cell_type": "code",
   "execution_count": 7,
   "metadata": {
    "scrolled": false
   },
   "outputs": [
    {
     "name": "stdout",
     "output_type": "stream",
     "text": [
      "\n",
      "  body of missing northern calif. girl found police have found the remains of a missing northern california girl .. :-0.5267\n",
      "\n",
      "Some antonyms for word missing are ['have', 'attend', 'hit']\n",
      "No POS words found for word missing with tag VBG\n",
      " -- No POS approved words! -- for word missing\n",
      " some non-POS:['dead', 'injured', 'trapped', 'rescued']\n",
      "Some antonyms for word missing are ['have', 'attend', 'hit']\n",
      "No POS words found for word missing with tag VBG\n",
      " -- No POS approved words! -- for word missing\n",
      " some non-POS:['dead', 'injured', 'trapped', 'rescued']\n",
      " -- No new Strings generated ---\n",
      "\n",
      "\n",
      "\n",
      "  i hope they will increase the capacity fast yesterday was such a pain. got the fail whale 15 times in 2 hours.... :-0.3818\n",
      "\n",
      "Some antonyms for word hope are ['despair']\n",
      "Word hope[VBP] replaced with come[VBP]\n",
      "Word hope[VBP] replaced with wish[VBP]\n",
      "Word hope[VBP] replaced with despair[VBP]\n",
      "Some antonyms for word increase are ['decrement', 'decrease']\n",
      "Word increase[VB] replaced with increases[VB]\n",
      "Word increase[VB] replaced with decrease[VB]\n",
      "Word increase[VB] replaced with reduce[VB]\n",
      "Word increase[VB] replaced with decrement[VB]\n",
      "Word increase[VB] replaced with decrease[VB]\n",
      "Some antonyms for word pain are ['pleasure']\n",
      "Word pain[NN] replaced with discomfort[NN]\n",
      "Word pain[NN] replaced with suffering[NN]\n",
      "Word pain[NN] replaced with stress[NN]\n",
      "Word pain[NN] replaced with trauma[NN]\n",
      "Word pain[NN] replaced with pleasure[NN]\n",
      "Some antonyms for word fail are ['succeed', 'manage', 'pass']\n",
      "Word fail[JJ] replaced with agree[JJ]\n",
      "Word fail[JJ] replaced with failed[JJ]\n"
     ]
    },
    {
     "data": {
      "text/html": [
       "<text style=color:green>i hope they will increase the capacity fast yesterday was such a <text style=color:blue> <i>[discomfort]</i></text> . got the fail whale 15 times in 2 hours ... .: -0.2732</text>"
      ],
      "text/plain": [
       "<IPython.core.display.HTML object>"
      ]
     },
     "metadata": {},
     "output_type": "display_data"
    },
    {
     "data": {
      "text/html": [
       "<text style=color:green>i hope they will increase the capacity fast yesterday was such a <text style=color:blue> <i>[suffering]</i></text> . got the fail whale 15 times in 2 hours ... .: -0.34</text>"
      ],
      "text/plain": [
       "<IPython.core.display.HTML object>"
      ]
     },
     "metadata": {},
     "output_type": "display_data"
    },
    {
     "data": {
      "text/html": [
       "<text style=color:green>i hope they will increase the capacity fast yesterday was such a <text style=color:blue> <i>[stress]</i></text> . got the fail whale 15 times in 2 hours ... .: -0.2732</text>"
      ],
      "text/plain": [
       "<IPython.core.display.HTML object>"
      ]
     },
     "metadata": {},
     "output_type": "display_data"
    },
    {
     "data": {
      "text/html": [
       "<text style=color:green>i hope they will increase the capacity fast yesterday was such a <text style=color:blue> <i>[trauma]</i></text> . got the fail whale 15 times in 2 hours ... .: -0.2732</text>"
      ],
      "text/plain": [
       "<IPython.core.display.HTML object>"
      ]
     },
     "metadata": {},
     "output_type": "display_data"
    },
    {
     "data": {
      "text/html": [
       "<text style=color:green>i hope they will increase the capacity fast yesterday was such a <text style=color:blue> <i>[pleasure]</i></text> . got the fail whale 15 times in 2 hours ... .: 0.6597</text>"
      ],
      "text/plain": [
       "<IPython.core.display.HTML object>"
      ]
     },
     "metadata": {},
     "output_type": "display_data"
    },
    {
     "data": {
      "text/html": [
       "<text style=color:green>i hope they will increase the capacity fast yesterday was such a pain . got the <text style=color:blue> <i>[agree]</i></text> whale 15 times in 2 hours ... .: 0.5267</text>"
      ],
      "text/plain": [
       "<IPython.core.display.HTML object>"
      ]
     },
     "metadata": {},
     "output_type": "display_data"
    },
    {
     "data": {
      "text/html": [
       "<text style=color:green>i hope they will increase the capacity fast yesterday was such a pain . got the <text style=color:blue> <i>[failed]</i></text> whale 15 times in 2 hours ... .: -0.34</text>"
      ],
      "text/plain": [
       "<IPython.core.display.HTML object>"
      ]
     },
     "metadata": {},
     "output_type": "display_data"
    },
    {
     "data": {
      "text/html": [
       "<text style=color:red>i <text style=color:blue> <i>[come]</i></text> they will increase the capacity fast yesterday was such a pain . got the fail whale 15 times in 2 hours ... .: -0.6705</text>"
      ],
      "text/plain": [
       "<IPython.core.display.HTML object>"
      ]
     },
     "metadata": {},
     "output_type": "display_data"
    },
    {
     "data": {
      "text/html": [
       "<text style=color:red>i <text style=color:blue> <i>[wish]</i></text> they will increase the capacity fast yesterday was such a pain . got the fail whale 15 times in 2 hours ... .: -0.4215</text>"
      ],
      "text/plain": [
       "<IPython.core.display.HTML object>"
      ]
     },
     "metadata": {},
     "output_type": "display_data"
    },
    {
     "data": {
      "text/html": [
       "<text style=color:red>i <text style=color:blue> <i>[despair]</i></text> they will increase the capacity fast yesterday was such a pain . got the fail whale 15 times in 2 hours ... .: -0.7783</text>"
      ],
      "text/plain": [
       "<IPython.core.display.HTML object>"
      ]
     },
     "metadata": {},
     "output_type": "display_data"
    },
    {
     "data": {
      "text/html": [
       "<text style=color:red>i hope they will <text style=color:blue> <i>[increases]</i></text> the capacity fast yesterday was such a pain . got the fail whale 15 times in 2 hours ... .: -0.5994</text>"
      ],
      "text/plain": [
       "<IPython.core.display.HTML object>"
      ]
     },
     "metadata": {},
     "output_type": "display_data"
    },
    {
     "data": {
      "text/html": [
       "<text style=color:red>i hope they will <text style=color:blue> <i>[decrease]</i></text> the capacity fast yesterday was such a pain . got the fail whale 15 times in 2 hours ... .: -0.5994</text>"
      ],
      "text/plain": [
       "<IPython.core.display.HTML object>"
      ]
     },
     "metadata": {},
     "output_type": "display_data"
    },
    {
     "data": {
      "text/html": [
       "<text style=color:red>i hope they will <text style=color:blue> <i>[reduce]</i></text> the capacity fast yesterday was such a pain . got the fail whale 15 times in 2 hours ... .: -0.5994</text>"
      ],
      "text/plain": [
       "<IPython.core.display.HTML object>"
      ]
     },
     "metadata": {},
     "output_type": "display_data"
    },
    {
     "data": {
      "text/html": [
       "<text style=color:red>i hope they will <text style=color:blue> <i>[decrement]</i></text> the capacity fast yesterday was such a pain . got the fail whale 15 times in 2 hours ... .: -0.5994</text>"
      ],
      "text/plain": [
       "<IPython.core.display.HTML object>"
      ]
     },
     "metadata": {},
     "output_type": "display_data"
    },
    {
     "data": {
      "text/html": [
       "<text style=color:red>i hope they will <text style=color:blue> <i>[decrease]</i></text> the capacity fast yesterday was such a pain . got the fail whale 15 times in 2 hours ... .: -0.5994</text>"
      ],
      "text/plain": [
       "<IPython.core.display.HTML object>"
      ]
     },
     "metadata": {},
     "output_type": "display_data"
    },
    {
     "name": "stdout",
     "output_type": "stream",
     "text": [
      "\n",
      "  remember my bum leg strikes back this time its serious :-0.4215\n",
      "\n",
      "Some antonyms for word strikes are ['miss']\n",
      "Word strikes[VBZ] replaced with attacks[VBZ]\n",
      "Word strikes[VBZ] replaced with airstrikes[VBZ]\n",
      "Word strikes[VBZ] replaced with raids[VBZ]\n",
      "Some antonyms for word serious are ['playful', 'frivolous']\n",
      "Word serious[JJ] replaced with possible[JJ]\n",
      "Word serious[JJ] replaced with severe[JJ]\n",
      "Word serious[JJ] replaced with frivolous[JJ]\n"
     ]
    },
    {
     "data": {
      "text/html": [
       "<text style=color:green>remember my bum leg <text style=color:blue> <i>[airstrikes]</i></text> back this time its serious: -0.0772</text>"
      ],
      "text/plain": [
       "<IPython.core.display.HTML object>"
      ]
     },
     "metadata": {},
     "output_type": "display_data"
    },
    {
     "data": {
      "text/html": [
       "<text style=color:green>remember my bum leg <text style=color:blue> <i>[raids]</i></text> back this time its serious: -0.0772</text>"
      ],
      "text/plain": [
       "<IPython.core.display.HTML object>"
      ]
     },
     "metadata": {},
     "output_type": "display_data"
    },
    {
     "data": {
      "text/html": [
       "<text style=color:green>remember my bum leg strikes back this time its <text style=color:blue> <i>[possible]</i></text>: -0.3612</text>"
      ],
      "text/plain": [
       "<IPython.core.display.HTML object>"
      ]
     },
     "metadata": {},
     "output_type": "display_data"
    },
    {
     "data": {
      "text/html": [
       "<text style=color:green>remember my bum leg strikes back this time its <text style=color:blue> <i>[frivolous]</i></text>: -0.3612</text>"
      ],
      "text/plain": [
       "<IPython.core.display.HTML object>"
      ]
     },
     "metadata": {},
     "output_type": "display_data"
    },
    {
     "data": {
      "text/html": [
       "<text style=color:red>remember my bum leg <text style=color:blue> <i>[attacks]</i></text> back this time its serious: -0.4939</text>"
      ],
      "text/plain": [
       "<IPython.core.display.HTML object>"
      ]
     },
     "metadata": {},
     "output_type": "display_data"
    },
    {
     "data": {
      "text/html": [
       "<text style=color:red>remember my bum leg strikes back this time its <text style=color:blue> <i>[severe]</i></text>: -0.6249</text>"
      ],
      "text/plain": [
       "<IPython.core.display.HTML object>"
      ]
     },
     "metadata": {},
     "output_type": "display_data"
    },
    {
     "name": "stdout",
     "output_type": "stream",
     "text": [
      "\n",
      "  cool i will. their are all kinds of complaints about this laptop online about overheating but no recalls :-0.4588\n",
      "\n",
      "Some antonyms for word cool are ['warm', 'heat']\n",
      "Word cool[NN] replaced with warm[NN]\n",
      "Word cool[NN] replaced with cold[NN]\n",
      "Word cool[NN] replaced with chill[NN]\n",
      "Word cool[NN] replaced with warm[NN]\n",
      "Word cool[NN] replaced with heat[NN]\n",
      "No antonyms found for word complaints\n",
      "Word complaints[NNS] replaced with inquiries[NNS]\n",
      "Word complaints[NNS] replaced with allegations[NNS]\n",
      "Word complaints[NNS] replaced with accusations[NNS]\n",
      "Word complaints[NNS] replaced with cases[NNS]\n",
      "Some antonyms for word no are ['all', 'yes']\n",
      "Word no[DT] replaced with any[DT]\n",
      "Word no[DT] replaced with all[DT]\n"
     ]
    },
    {
     "data": {
      "text/html": [
       "<text style=color:green>cool i will . their are all kinds of <text style=color:blue> <i>[inquiries]</i></text> about this laptop online about overheating but no recalls: -0.2846</text>"
      ],
      "text/plain": [
       "<IPython.core.display.HTML object>"
      ]
     },
     "metadata": {},
     "output_type": "display_data"
    },
    {
     "data": {
      "text/html": [
       "<text style=color:green>cool i will . their are all kinds of <text style=color:blue> <i>[allegations]</i></text> about this laptop online about overheating but no recalls: -0.2846</text>"
      ],
      "text/plain": [
       "<IPython.core.display.HTML object>"
      ]
     },
     "metadata": {},
     "output_type": "display_data"
    },
    {
     "data": {
      "text/html": [
       "<text style=color:green>cool i will . their are all kinds of <text style=color:blue> <i>[accusations]</i></text> about this laptop online about overheating but no recalls: -0.4215</text>"
      ],
      "text/plain": [
       "<IPython.core.display.HTML object>"
      ]
     },
     "metadata": {},
     "output_type": "display_data"
    },
    {
     "data": {
      "text/html": [
       "<text style=color:green>cool i will . their are all kinds of <text style=color:blue> <i>[cases]</i></text> about this laptop online about overheating but no recalls: -0.2846</text>"
      ],
      "text/plain": [
       "<IPython.core.display.HTML object>"
      ]
     },
     "metadata": {},
     "output_type": "display_data"
    },
    {
     "data": {
      "text/html": [
       "<text style=color:green>cool i will . their are all kinds of complaints about this laptop online about overheating but <text style=color:blue> <i>[any]</i></text> recalls: -0.0516</text>"
      ],
      "text/plain": [
       "<IPython.core.display.HTML object>"
      ]
     },
     "metadata": {},
     "output_type": "display_data"
    },
    {
     "data": {
      "text/html": [
       "<text style=color:green>cool i will . their are all kinds of complaints about this laptop online about overheating but <text style=color:blue> <i>[all]</i></text> recalls: -0.0516</text>"
      ],
      "text/plain": [
       "<IPython.core.display.HTML object>"
      ]
     },
     "metadata": {},
     "output_type": "display_data"
    },
    {
     "data": {
      "text/html": [
       "<text style=color:red><text style=color:blue> <i>[warm]</i></text> i will . their are all kinds of complaints about this laptop online about overheating but no recalls: -0.4939</text>"
      ],
      "text/plain": [
       "<IPython.core.display.HTML object>"
      ]
     },
     "metadata": {},
     "output_type": "display_data"
    },
    {
     "data": {
      "text/html": [
       "<text style=color:red><text style=color:blue> <i>[cold]</i></text> i will . their are all kinds of complaints about this laptop online about overheating but no recalls: -0.5647</text>"
      ],
      "text/plain": [
       "<IPython.core.display.HTML object>"
      ]
     },
     "metadata": {},
     "output_type": "display_data"
    },
    {
     "data": {
      "text/html": [
       "<text style=color:red><text style=color:blue> <i>[chill]</i></text> i will . their are all kinds of complaints about this laptop online about overheating but no recalls: -0.5647</text>"
      ],
      "text/plain": [
       "<IPython.core.display.HTML object>"
      ]
     },
     "metadata": {},
     "output_type": "display_data"
    },
    {
     "data": {
      "text/html": [
       "<text style=color:red><text style=color:blue> <i>[warm]</i></text> i will . their are all kinds of complaints about this laptop online about overheating but no recalls: -0.4939</text>"
      ],
      "text/plain": [
       "<IPython.core.display.HTML object>"
      ]
     },
     "metadata": {},
     "output_type": "display_data"
    },
    {
     "data": {
      "text/html": [
       "<text style=color:red><text style=color:blue> <i>[heat]</i></text> i will . their are all kinds of complaints about this laptop online about overheating but no recalls: -0.5647</text>"
      ],
      "text/plain": [
       "<IPython.core.display.HTML object>"
      ]
     },
     "metadata": {},
     "output_type": "display_data"
    },
    {
     "name": "stdout",
     "output_type": "stream",
     "text": [
      "\n",
      " emily will be glad when mommy is done training at her new job. she misses her.  :0.2732\n",
      "\n",
      "Some antonyms for word glad are ['sad']\n",
      "Word glad[JJ] replaced with thankful[JJ]\n",
      "Word glad[JJ] replaced with happy[JJ]\n",
      "Word glad[JJ] replaced with sad[JJ]\n",
      "Some antonyms for word misses are ['have', 'attend', 'hit']\n",
      "Word misses[VBZ] replaced with throws[VBZ]\n",
      "Word misses[VBZ] replaced with chances[VBZ]\n",
      "Word misses[VBZ] replaced with kicks[VBZ]\n"
     ]
    },
    {
     "data": {
      "text/html": [
       "<text style=color:green>emily will be <text style=color:blue> <i>[thankful]</i></text> when mommy is done training at her new job . she misses her .: 0.4215</text>"
      ],
      "text/plain": [
       "<IPython.core.display.HTML object>"
      ]
     },
     "metadata": {},
     "output_type": "display_data"
    },
    {
     "data": {
      "text/html": [
       "<text style=color:green>emily will be <text style=color:blue> <i>[happy]</i></text> when mommy is done training at her new job . she misses her .: 0.4215</text>"
      ],
      "text/plain": [
       "<IPython.core.display.HTML object>"
      ]
     },
     "metadata": {},
     "output_type": "display_data"
    },
    {
     "data": {
      "text/html": [
       "<text style=color:green>emily will be glad when mommy is done training at her new job . she <text style=color:blue> <i>[throws]</i></text> her .: 0.4588</text>"
      ],
      "text/plain": [
       "<IPython.core.display.HTML object>"
      ]
     },
     "metadata": {},
     "output_type": "display_data"
    },
    {
     "data": {
      "text/html": [
       "<text style=color:green>emily will be glad when mommy is done training at her new job . she <text style=color:blue> <i>[chances]</i></text> her .: 0.5859</text>"
      ],
      "text/plain": [
       "<IPython.core.display.HTML object>"
      ]
     },
     "metadata": {},
     "output_type": "display_data"
    },
    {
     "data": {
      "text/html": [
       "<text style=color:green>emily will be glad when mommy is done training at her new job . she <text style=color:blue> <i>[kicks]</i></text> her .: 0.4588</text>"
      ],
      "text/plain": [
       "<IPython.core.display.HTML object>"
      ]
     },
     "metadata": {},
     "output_type": "display_data"
    },
    {
     "data": {
      "text/html": [
       "<text style=color:red>emily will be <text style=color:blue> <i>[sad]</i></text> when mommy is done training at her new job . she misses her .: -0.6124</text>"
      ],
      "text/plain": [
       "<IPython.core.display.HTML object>"
      ]
     },
     "metadata": {},
     "output_type": "display_data"
    },
    {
     "name": "stdout",
     "output_type": "stream",
     "text": [
      "\n",
      " would rather the first party send bad messages than the 3rd party send mixed ones  sophmore year all over again:0.2263\n",
      "\n",
      "No antonyms found for word party\n",
      "Word party[NN] replaced with opposition[NN]\n",
      "Word party[NN] replaced with coalition[NN]\n",
      "Word party[NN] replaced with leader[NN]\n",
      "Some antonyms for word bad are ['good', 'unregretful', 'goodness']\n",
      "Word bad[JJ] replaced with good[JJ]\n",
      "Word bad[JJ] replaced with good[JJ]\n",
      "Word bad[JJ] replaced with unregretful[JJ]\n",
      "No antonyms found for word party\n",
      "Word party[NN] replaced with opposition[NN]\n",
      "Word party[NN] replaced with coalition[NN]\n",
      "Word party[NN] replaced with leader[NN]\n"
     ]
    },
    {
     "data": {
      "text/html": [
       "<text style=color:green>would rather the first party send <text style=color:blue> <i>[good]</i></text> messages than the 3rd party send mixed ones sophmore year all over again: 0.8074</text>"
      ],
      "text/plain": [
       "<IPython.core.display.HTML object>"
      ]
     },
     "metadata": {},
     "output_type": "display_data"
    },
    {
     "data": {
      "text/html": [
       "<text style=color:green>would rather the first party send <text style=color:blue> <i>[good]</i></text> messages than the 3rd party send mixed ones sophmore year all over again: 0.8074</text>"
      ],
      "text/plain": [
       "<IPython.core.display.HTML object>"
      ]
     },
     "metadata": {},
     "output_type": "display_data"
    },
    {
     "data": {
      "text/html": [
       "<text style=color:green>would rather the first party send <text style=color:blue> <i>[unregretful]</i></text> messages than the 3rd party send mixed ones sophmore year all over again: 0.6597</text>"
      ],
      "text/plain": [
       "<IPython.core.display.HTML object>"
      ]
     },
     "metadata": {},
     "output_type": "display_data"
    },
    {
     "data": {
      "text/html": [
       "<text style=color:red>would rather the first <text style=color:blue> <i>[opposition]</i></text> send bad messages than the 3rd party send mixed ones sophmore year all over again: -0.2023</text>"
      ],
      "text/plain": [
       "<IPython.core.display.HTML object>"
      ]
     },
     "metadata": {},
     "output_type": "display_data"
    },
    {
     "data": {
      "text/html": [
       "<text style=color:red>would rather the first <text style=color:blue> <i>[coalition]</i></text> send bad messages than the 3rd party send mixed ones sophmore year all over again: -0.2023</text>"
      ],
      "text/plain": [
       "<IPython.core.display.HTML object>"
      ]
     },
     "metadata": {},
     "output_type": "display_data"
    },
    {
     "data": {
      "text/html": [
       "<text style=color:red>would rather the first <text style=color:blue> <i>[leader]</i></text> send bad messages than the 3rd party send mixed ones sophmore year all over again: -0.2023</text>"
      ],
      "text/plain": [
       "<IPython.core.display.HTML object>"
      ]
     },
     "metadata": {},
     "output_type": "display_data"
    },
    {
     "data": {
      "text/html": [
       "<text style=color:red>would rather the first party send bad messages than the 3rd <text style=color:blue> <i>[opposition]</i></text> send mixed ones sophmore year all over again: -0.2023</text>"
      ],
      "text/plain": [
       "<IPython.core.display.HTML object>"
      ]
     },
     "metadata": {},
     "output_type": "display_data"
    },
    {
     "data": {
      "text/html": [
       "<text style=color:red>would rather the first party send bad messages than the 3rd <text style=color:blue> <i>[coalition]</i></text> send mixed ones sophmore year all over again: -0.2023</text>"
      ],
      "text/plain": [
       "<IPython.core.display.HTML object>"
      ]
     },
     "metadata": {},
     "output_type": "display_data"
    },
    {
     "data": {
      "text/html": [
       "<text style=color:red>would rather the first party send bad messages than the 3rd <text style=color:blue> <i>[leader]</i></text> send mixed ones sophmore year all over again: -0.2023</text>"
      ],
      "text/plain": [
       "<IPython.core.display.HTML object>"
      ]
     },
     "metadata": {},
     "output_type": "display_data"
    },
    {
     "name": "stdout",
     "output_type": "stream",
     "text": [
      "\n",
      " laying in bed with no voice.. :-0.296\n",
      "\n",
      "Some antonyms for word no are ['all', 'yes']\n",
      "Word no[DT] replaced with any[DT]\n",
      "Word no[DT] replaced with all[DT]\n"
     ]
    },
    {
     "data": {
      "text/html": [
       "<text style=color:DarkGray>laying in bed with <text style=color:blue> <i>[any]</i></text> voice..: 0.0</text>"
      ],
      "text/plain": [
       "<IPython.core.display.HTML object>"
      ]
     },
     "metadata": {},
     "output_type": "display_data"
    },
    {
     "data": {
      "text/html": [
       "<text style=color:DarkGray>laying in bed with <text style=color:blue> <i>[all]</i></text> voice..: 0.0</text>"
      ],
      "text/plain": [
       "<IPython.core.display.HTML object>"
      ]
     },
     "metadata": {},
     "output_type": "display_data"
    },
    {
     "name": "stdout",
     "output_type": "stream",
     "text": [
      "\n",
      "\n",
      "No tweets found when trying to do Positive=False\n",
      "\n",
      "\n",
      "\n",
      " i am sooo sad!!! they killed off kutner on house  whyyyyyyyy:-0.8582\n",
      "\n",
      "Some antonyms for word sad are ['glad']\n",
      "Word sad[NN] replaced with sorry[NN]\n",
      "Word sad[NN] replaced with tragic[NN]\n",
      "Word sad[NN] replaced with glad[NN]\n",
      "No antonyms found for word killed\n",
      "Word killed[VBD] replaced with wounded[VBD]\n",
      "Word killed[VBD] replaced with dead[VBD]\n",
      "Word killed[VBD] replaced with civilians[VBD]\n"
     ]
    },
    {
     "data": {
      "text/html": [
       "<text style=color:green>i am sooo <text style=color:blue> <i>[sorry]</i></text> ! ! ! they killed off kutner on house whyyyyyyyy: -0.7701</text>"
      ],
      "text/plain": [
       "<IPython.core.display.HTML object>"
      ]
     },
     "metadata": {},
     "output_type": "display_data"
    },
    {
     "data": {
      "text/html": [
       "<text style=color:green>i am sooo <text style=color:blue> <i>[tragic]</i></text> ! ! ! they killed off kutner on house whyyyyyyyy: -0.8547</text>"
      ],
      "text/plain": [
       "<IPython.core.display.HTML object>"
      ]
     },
     "metadata": {},
     "output_type": "display_data"
    },
    {
     "data": {
      "text/html": [
       "<text style=color:green>i am sooo <text style=color:blue> <i>[glad]</i></text> ! ! ! they killed off kutner on house whyyyyyyyy: -0.5229</text>"
      ],
      "text/plain": [
       "<IPython.core.display.HTML object>"
      ]
     },
     "metadata": {},
     "output_type": "display_data"
    },
    {
     "data": {
      "text/html": [
       "<text style=color:green>i am sooo sad ! ! ! they <text style=color:blue> <i>[wounded]</i></text> off kutner on house whyyyyyyyy: -0.6093</text>"
      ],
      "text/plain": [
       "<IPython.core.display.HTML object>"
      ]
     },
     "metadata": {},
     "output_type": "display_data"
    },
    {
     "data": {
      "text/html": [
       "<text style=color:green>i am sooo sad ! ! ! they <text style=color:blue> <i>[dead]</i></text> off kutner on house whyyyyyyyy: -0.851</text>"
      ],
      "text/plain": [
       "<IPython.core.display.HTML object>"
      ]
     },
     "metadata": {},
     "output_type": "display_data"
    },
    {
     "data": {
      "text/html": [
       "<text style=color:green>i am sooo sad ! ! ! they <text style=color:blue> <i>[civilians]</i></text> off kutner on house whyyyyyyyy: -0.6093</text>"
      ],
      "text/plain": [
       "<IPython.core.display.HTML object>"
      ]
     },
     "metadata": {},
     "output_type": "display_data"
    },
    {
     "name": "stdout",
     "output_type": "stream",
     "text": [
      "\n",
      "\n",
      "No tweets found when trying to do Positive=False\n",
      "\n",
      "\n",
      "\n",
      "  sorry  tell them mea culpa from me and that i really am sorry.:-0.1531\n",
      "\n",
      "Some antonyms for word sorry are ['unregretful']\n",
      "Word sorry[NN] replaced with glad[NN]\n",
      "Some antonyms for word sorry are ['unregretful']\n",
      "No POS words found for word sorry with tag NN\n",
      " -- No POS approved words! -- for word sorry\n",
      " some non-POS:['ashamed', \"'m\", 'glad', 'sad']\n"
     ]
    },
    {
     "data": {
      "text/html": [
       "<text style=color:green><text style=color:blue> <i>[glad]</i></text> tell them mea culpa from me and that i really am sorry .: 0.3446</text>"
      ],
      "text/plain": [
       "<IPython.core.display.HTML object>"
      ]
     },
     "metadata": {},
     "output_type": "display_data"
    },
    {
     "name": "stdout",
     "output_type": "stream",
     "text": [
      "\n",
      "\n",
      "No tweets found when trying to do Positive=False\n",
      "\n",
      "\n",
      "\n",
      "  it did not make any sense to me the suicide thing. i refuse to believe that that is actually what happened. :-0.7717\n",
      "\n",
      "No antonyms found for word suicide\n",
      "Word suicide[JJ] replaced with attack[JJ]\n",
      "Word suicide[JJ] replaced with killed[JJ]\n",
      "Some antonyms for word refuse are ['allow', 'admit', 'lend_oneself']\n",
      "Word refuse[VBP] replaced with accept[VBP]\n",
      "Word refuse[VBP] replaced with insist[VBP]\n",
      "Word refuse[VBP] replaced with allow[VBP]\n",
      "Word refuse[VBP] replaced with admit[VBP]\n",
      "Word refuse[VBP] replaced with accept[VBP]\n"
     ]
    },
    {
     "data": {
      "text/html": [
       "<text style=color:green>it did not make any sense to me the <text style=color:blue> <i>[attack]</i></text> thing . i refuse to believe that that is actually what happened .: -0.6486</text>"
      ],
      "text/plain": [
       "<IPython.core.display.HTML object>"
      ]
     },
     "metadata": {},
     "output_type": "display_data"
    },
    {
     "data": {
      "text/html": [
       "<text style=color:green>it did not make any sense to me the suicide thing . i <text style=color:blue> <i>[accept]</i></text> to believe that that is actually what happened .: -0.4404</text>"
      ],
      "text/plain": [
       "<IPython.core.display.HTML object>"
      ]
     },
     "metadata": {},
     "output_type": "display_data"
    },
    {
     "data": {
      "text/html": [
       "<text style=color:green>it did not make any sense to me the suicide thing . i <text style=color:blue> <i>[insist]</i></text> to believe that that is actually what happened .: -0.6705</text>"
      ],
      "text/plain": [
       "<IPython.core.display.HTML object>"
      ]
     },
     "metadata": {},
     "output_type": "display_data"
    },
    {
     "data": {
      "text/html": [
       "<text style=color:green>it did not make any sense to me the suicide thing . i <text style=color:blue> <i>[allow]</i></text> to believe that that is actually what happened .: -0.5574</text>"
      ],
      "text/plain": [
       "<IPython.core.display.HTML object>"
      ]
     },
     "metadata": {},
     "output_type": "display_data"
    },
    {
     "data": {
      "text/html": [
       "<text style=color:green>it did not make any sense to me the suicide thing . i <text style=color:blue> <i>[admit]</i></text> to believe that that is actually what happened .: -0.5719</text>"
      ],
      "text/plain": [
       "<IPython.core.display.HTML object>"
      ]
     },
     "metadata": {},
     "output_type": "display_data"
    },
    {
     "data": {
      "text/html": [
       "<text style=color:green>it did not make any sense to me the suicide thing . i <text style=color:blue> <i>[accept]</i></text> to believe that that is actually what happened .: -0.4404</text>"
      ],
      "text/plain": [
       "<IPython.core.display.HTML object>"
      ]
     },
     "metadata": {},
     "output_type": "display_data"
    },
    {
     "name": "stdout",
     "output_type": "stream",
     "text": [
      "\n",
      "\n",
      "No tweets found when trying to do Positive=False\n",
      "\n",
      "\n",
      "\n",
      "   hope your ok.:0.6249\n",
      "\n",
      "Some antonyms for word hope are ['despair']\n",
      "Word hope[VB] replaced with come[VB]\n",
      "Word hope[VB] replaced with wish[VB]\n",
      "No antonyms found for word ok\n",
      "Word ok[NN] replaced with yeah[NN]\n",
      "Word ok[NN] replaced with okay[NN]\n",
      "\n",
      "\n",
      "No tweets found when trying to do Positive=True\n",
      "\n",
      "\n"
     ]
    },
    {
     "data": {
      "text/html": [
       "<text style=color:red><text style=color:blue> <i>[come]</i></text> your ok .: 0.296</text>"
      ],
      "text/plain": [
       "<IPython.core.display.HTML object>"
      ]
     },
     "metadata": {},
     "output_type": "display_data"
    },
    {
     "data": {
      "text/html": [
       "<text style=color:red><text style=color:blue> <i>[wish]</i></text> your ok .: 0.5994</text>"
      ],
      "text/plain": [
       "<IPython.core.display.HTML object>"
      ]
     },
     "metadata": {},
     "output_type": "display_data"
    },
    {
     "data": {
      "text/html": [
       "<text style=color:red>hope your <text style=color:blue> <i>[okay]</i></text> .: 0.5859</text>"
      ],
      "text/plain": [
       "<IPython.core.display.HTML object>"
      ]
     },
     "metadata": {},
     "output_type": "display_data"
    },
    {
     "name": "stdout",
     "output_type": "stream",
     "text": [
      "\n",
      "  damn! the grind is inspirational and saddening at the same time.  do not want you to stop cuz i like what u do! much love:0.5043\n",
      "\n",
      "Some antonyms for word damn are ['bless']\n",
      "Word damn[NN] replaced with darn[NN]\n",
      "Word damn[NN] replaced with yeah[NN]\n",
      "Word damn[NN] replaced with heck[NN]\n",
      "Word damn[NN] replaced with bless[NN]\n",
      "No antonyms found for word inspirational\n",
      "Word inspirational[JJ] replaced with uplifting[JJ]\n",
      "Word inspirational[JJ] replaced with insightful[JJ]\n",
      "Word inspirational[JJ] replaced with imaginative[JJ]\n",
      "Some antonyms for word saddening are ['gladden']\n",
      "Word saddening[VBG] replaced with gratifying[VBG]\n",
      "Word saddening[VBG] replaced with disheartening[VBG]\n",
      "Word saddening[VBG] replaced with distressing[VBG]\n",
      "Word saddening[VBG] replaced with dismaying[VBG]\n",
      "No antonyms found for word want\n",
      "Word want[VB] replaced with do[VB]\n",
      "Word want[VB] replaced with know[VB]\n",
      "Word want[VB] replaced with get[VB]\n",
      "Some antonyms for word stop are ['continue', 'start', 'begin']\n",
      "Word stop[VB] replaced with stopped[VB]\n",
      "Word stop[VB] replaced with avoid[VB]\n",
      "Word stop[VB] replaced with prevent[VB]\n",
      "Word stop[VB] replaced with continue[VB]\n",
      "Word stop[VB] replaced with start[VB]\n",
      "Word stop[VB] replaced with begin[VB]\n",
      "Word stop[VB] replaced with continuant_consonant[VB]\n",
      "Some antonyms for word like are ['dislike', 'unlike', 'unalike']\n",
      "Word like[IN] replaced with unlike[IN]\n",
      "Some antonyms for word love are ['hate']\n",
      "No POS words found for word love with tag VB\n",
      " -- No POS approved words! -- for word love\n",
      " some non-POS:['me', 'passion', 'my', 'life']\n"
     ]
    },
    {
     "data": {
      "text/html": [
       "<text style=color:green><text style=color:blue> <i>[darn]</i></text> ! the grind is inspirational and saddening at the same time . do not want you to stop cuz i like what u do ! much love: 0.7151</text>"
      ],
      "text/plain": [
       "<IPython.core.display.HTML object>"
      ]
     },
     "metadata": {},
     "output_type": "display_data"
    },
    {
     "data": {
      "text/html": [
       "<text style=color:green><text style=color:blue> <i>[yeah]</i></text> ! the grind is inspirational and saddening at the same time . do not want you to stop cuz i like what u do ! much love: 0.7999</text>"
      ],
      "text/plain": [
       "<IPython.core.display.HTML object>"
      ]
     },
     "metadata": {},
     "output_type": "display_data"
    },
    {
     "data": {
      "text/html": [
       "<text style=color:green><text style=color:blue> <i>[heck]</i></text> ! the grind is inspirational and saddening at the same time . do not want you to stop cuz i like what u do ! much love: 0.7151</text>"
      ],
      "text/plain": [
       "<IPython.core.display.HTML object>"
      ]
     },
     "metadata": {},
     "output_type": "display_data"
    },
    {
     "data": {
      "text/html": [
       "<text style=color:green><text style=color:blue> <i>[bless]</i></text> ! the grind is inspirational and saddening at the same time . do not want you to stop cuz i like what u do ! much love: 0.8299</text>"
      ],
      "text/plain": [
       "<IPython.core.display.HTML object>"
      ]
     },
     "metadata": {},
     "output_type": "display_data"
    },
    {
     "data": {
      "text/html": [
       "<text style=color:green>damn ! the grind is inspirational and <text style=color:blue> <i>[gratifying]</i></text> at the same time . do not want you to stop cuz i like what u do ! much love: 0.8677</text>"
      ],
      "text/plain": [
       "<IPython.core.display.HTML object>"
      ]
     },
     "metadata": {},
     "output_type": "display_data"
    },
    {
     "data": {
      "text/html": [
       "<text style=color:green>damn ! the grind is inspirational and <text style=color:blue> <i>[disheartening]</i></text> at the same time . do not want you to stop cuz i like what u do ! much love: 0.5664</text>"
      ],
      "text/plain": [
       "<IPython.core.display.HTML object>"
      ]
     },
     "metadata": {},
     "output_type": "display_data"
    },
    {
     "data": {
      "text/html": [
       "<text style=color:green>damn ! the grind is inspirational and <text style=color:blue> <i>[distressing]</i></text> at the same time . do not want you to stop cuz i like what u do ! much love: 0.5806</text>"
      ],
      "text/plain": [
       "<IPython.core.display.HTML object>"
      ]
     },
     "metadata": {},
     "output_type": "display_data"
    },
    {
     "data": {
      "text/html": [
       "<text style=color:green>damn ! the grind is inspirational and saddening at the same time . do not <text style=color:blue> <i>[do]</i></text> you to stop cuz i like what u do ! much love: 0.5399</text>"
      ],
      "text/plain": [
       "<IPython.core.display.HTML object>"
      ]
     },
     "metadata": {},
     "output_type": "display_data"
    },
    {
     "data": {
      "text/html": [
       "<text style=color:green>damn ! the grind is inspirational and saddening at the same time . do not <text style=color:blue> <i>[know]</i></text> you to stop cuz i like what u do ! much love: 0.5399</text>"
      ],
      "text/plain": [
       "<IPython.core.display.HTML object>"
      ]
     },
     "metadata": {},
     "output_type": "display_data"
    },
    {
     "data": {
      "text/html": [
       "<text style=color:green>damn ! the grind is inspirational and saddening at the same time . do not <text style=color:blue> <i>[get]</i></text> you to stop cuz i like what u do ! much love: 0.5399</text>"
      ],
      "text/plain": [
       "<IPython.core.display.HTML object>"
      ]
     },
     "metadata": {},
     "output_type": "display_data"
    },
    {
     "data": {
      "text/html": [
       "<text style=color:green>damn ! the grind is inspirational and saddening at the same time . do not want you to <text style=color:blue> <i>[stopped]</i></text> cuz i like what u do ! much love: 0.5517</text>"
      ],
      "text/plain": [
       "<IPython.core.display.HTML object>"
      ]
     },
     "metadata": {},
     "output_type": "display_data"
    },
    {
     "data": {
      "text/html": [
       "<text style=color:green>damn ! the grind is inspirational and saddening at the same time . do not want you to <text style=color:blue> <i>[prevent]</i></text> cuz i like what u do ! much love: 0.6769</text>"
      ],
      "text/plain": [
       "<IPython.core.display.HTML object>"
      ]
     },
     "metadata": {},
     "output_type": "display_data"
    },
    {
     "data": {
      "text/html": [
       "<text style=color:green>damn ! the grind is inspirational and saddening at the same time . do not want you to <text style=color:blue> <i>[continue]</i></text> cuz i like what u do ! much love: 0.6664</text>"
      ],
      "text/plain": [
       "<IPython.core.display.HTML object>"
      ]
     },
     "metadata": {},
     "output_type": "display_data"
    },
    {
     "data": {
      "text/html": [
       "<text style=color:green>damn ! the grind is inspirational and saddening at the same time . do not want you to <text style=color:blue> <i>[start]</i></text> cuz i like what u do ! much love: 0.6664</text>"
      ],
      "text/plain": [
       "<IPython.core.display.HTML object>"
      ]
     },
     "metadata": {},
     "output_type": "display_data"
    },
    {
     "data": {
      "text/html": [
       "<text style=color:green>damn ! the grind is inspirational and saddening at the same time . do not want you to <text style=color:blue> <i>[begin]</i></text> cuz i like what u do ! much love: 0.6664</text>"
      ],
      "text/plain": [
       "<IPython.core.display.HTML object>"
      ]
     },
     "metadata": {},
     "output_type": "display_data"
    },
    {
     "data": {
      "text/html": [
       "<text style=color:green>damn ! the grind is inspirational and saddening at the same time . do not want you to <text style=color:blue> <i>[continuant_consonant]</i></text> cuz i like what u do ! much love: 0.6664</text>"
      ],
      "text/plain": [
       "<IPython.core.display.HTML object>"
      ]
     },
     "metadata": {},
     "output_type": "display_data"
    },
    {
     "data": {
      "text/html": [
       "<text style=color:red>damn ! the grind is <text style=color:blue> <i>[uplifting]</i></text> and saddening at the same time . do not want you to stop cuz i like what u do ! much love: -0.2973</text>"
      ],
      "text/plain": [
       "<IPython.core.display.HTML object>"
      ]
     },
     "metadata": {},
     "output_type": "display_data"
    },
    {
     "data": {
      "text/html": [
       "<text style=color:red>damn ! the grind is <text style=color:blue> <i>[insightful]</i></text> and saddening at the same time . do not want you to stop cuz i like what u do ! much love: -0.2973</text>"
      ],
      "text/plain": [
       "<IPython.core.display.HTML object>"
      ]
     },
     "metadata": {},
     "output_type": "display_data"
    },
    {
     "data": {
      "text/html": [
       "<text style=color:red>damn ! the grind is <text style=color:blue> <i>[imaginative]</i></text> and saddening at the same time . do not want you to stop cuz i like what u do ! much love: -0.2973</text>"
      ],
      "text/plain": [
       "<IPython.core.display.HTML object>"
      ]
     },
     "metadata": {},
     "output_type": "display_data"
    },
    {
     "data": {
      "text/html": [
       "<text style=color:red>damn ! the grind is inspirational and saddening at the same time . do not want you to stop cuz i <text style=color:blue> <i>[unlike]</i></text> what u do ! much love: 0.193</text>"
      ],
      "text/plain": [
       "<IPython.core.display.HTML object>"
      ]
     },
     "metadata": {},
     "output_type": "display_data"
    },
    {
     "name": "stdout",
     "output_type": "stream",
     "text": [
      "\n",
      "  yeah aw but i know i wudnt stand a chance :0.4767\n",
      "\n",
      "No antonyms found for word yeah\n",
      "Word yeah[NN] replaced with hey[NN]\n",
      "Word yeah[NN] replaced with guess[NN]\n",
      "No antonyms found for word chance\n",
      "Word chance[NN] replaced with opportunity[NN]\n",
      "Word chance[NN] replaced with hoping[NN]\n",
      "Word chance[NN] replaced with give[NN]\n",
      "Word chance[NN] replaced with try[NN]\n"
     ]
    },
    {
     "data": {
      "text/html": [
       "<text style=color:green>yeah aw but i know i wudnt stand a <text style=color:blue> <i>[opportunity]</i></text>: 0.6486</text>"
      ],
      "text/plain": [
       "<IPython.core.display.HTML object>"
      ]
     },
     "metadata": {},
     "output_type": "display_data"
    },
    {
     "data": {
      "text/html": [
       "<text style=color:green>yeah aw but i know i wudnt stand a <text style=color:blue> <i>[hoping]</i></text>: 0.6486</text>"
      ],
      "text/plain": [
       "<IPython.core.display.HTML object>"
      ]
     },
     "metadata": {},
     "output_type": "display_data"
    },
    {
     "data": {
      "text/html": [
       "<text style=color:red><text style=color:blue> <i>[hey]</i></text> aw but i know i wudnt stand a chance: 0.3612</text>"
      ],
      "text/plain": [
       "<IPython.core.display.HTML object>"
      ]
     },
     "metadata": {},
     "output_type": "display_data"
    },
    {
     "data": {
      "text/html": [
       "<text style=color:red><text style=color:blue> <i>[guess]</i></text> aw but i know i wudnt stand a chance: 0.3612</text>"
      ],
      "text/plain": [
       "<IPython.core.display.HTML object>"
      ]
     },
     "metadata": {},
     "output_type": "display_data"
    },
    {
     "data": {
      "text/html": [
       "<text style=color:red>yeah aw but i know i wudnt stand a <text style=color:blue> <i>[give]</i></text>: 0.1531</text>"
      ],
      "text/plain": [
       "<IPython.core.display.HTML object>"
      ]
     },
     "metadata": {},
     "output_type": "display_data"
    },
    {
     "data": {
      "text/html": [
       "<text style=color:red>yeah aw but i know i wudnt stand a <text style=color:blue> <i>[try]</i></text>: 0.1531</text>"
      ],
      "text/plain": [
       "<IPython.core.display.HTML object>"
      ]
     },
     "metadata": {},
     "output_type": "display_data"
    },
    {
     "name": "stdout",
     "output_type": "stream",
     "text": [
      "\n",
      " ugh. cant sleep. its 130am. :-0.4215\n",
      "\n",
      "No antonyms found for word ugh\n",
      "No POS words found for word ugh with tag JJ\n",
      " -- No POS approved words! -- for word ugh\n",
      " some non-POS:['omigod', 'yikes', 'ahhh', 'phew']\n",
      " -- No new Strings generated ---\n",
      "\n",
      "\n",
      "\n",
      " hanging in crooners. wanna sing. ca not. sucks. :0.2755\n",
      "\n",
      "Some antonyms for word sucks are ['bottlefeed']\n",
      "Word sucks[NNS] replaced with stinks[NNS]\n",
      "Word sucks[NNS] replaced with pours[NNS]\n",
      "Word sucks[NNS] replaced with bleeds[NNS]\n",
      "\n",
      "\n",
      "No tweets found when trying to do Positive=True\n",
      "\n",
      "\n"
     ]
    },
    {
     "data": {
      "text/html": [
       "<text style=color:red>hanging in crooners . wan na sing . ca not . <text style=color:blue> <i>[stinks]</i></text> .: 0.1877</text>"
      ],
      "text/plain": [
       "<IPython.core.display.HTML object>"
      ]
     },
     "metadata": {},
     "output_type": "display_data"
    },
    {
     "data": {
      "text/html": [
       "<text style=color:DarkGray>hanging in crooners . wan na sing . ca not . <text style=color:blue> <i>[pours]</i></text> .: 0.0</text>"
      ],
      "text/plain": [
       "<IPython.core.display.HTML object>"
      ]
     },
     "metadata": {},
     "output_type": "display_data"
    },
    {
     "data": {
      "text/html": [
       "<text style=color:DarkGray>hanging in crooners . wan na sing . ca not . <text style=color:blue> <i>[bleeds]</i></text> .: 0.0</text>"
      ],
      "text/plain": [
       "<IPython.core.display.HTML object>"
      ]
     },
     "metadata": {},
     "output_type": "display_data"
    },
    {
     "name": "stdout",
     "output_type": "stream",
     "text": [
      "\n",
      "  aaw i miss ya all too.. im leaving to bh tomorrow quotmorningquot i think.. aww i wanna go to the beach w u girls!! :-0.2924\n",
      "\n",
      "Some antonyms for word miss are ['have', 'attend', 'hit']\n",
      "Word miss[VBP] replaced with play[VBP]\n",
      "Word miss[VBP] replaced with have[VBP]\n",
      "Word miss[VBP] replaced with attend[VBP]\n",
      "Word miss[VBP] replaced with attend_to[VBP]\n"
     ]
    },
    {
     "data": {
      "text/html": [
       "<text style=color:green>aaw i <text style=color:blue> <i>[play]</i></text> ya all too.. im leaving to bh tomorrow quotmorningquot i think.. aww i wan na go to the beach w u girls ! !: 0.4559</text>"
      ],
      "text/plain": [
       "<IPython.core.display.HTML object>"
      ]
     },
     "metadata": {},
     "output_type": "display_data"
    },
    {
     "data": {
      "text/html": [
       "<text style=color:DarkGray>aaw i <text style=color:blue> <i>[have]</i></text> ya all too.. im leaving to bh tomorrow quotmorningquot i think.. aww i wan na go to the beach w u girls ! !: 0.0</text>"
      ],
      "text/plain": [
       "<IPython.core.display.HTML object>"
      ]
     },
     "metadata": {},
     "output_type": "display_data"
    },
    {
     "data": {
      "text/html": [
       "<text style=color:DarkGray>aaw i <text style=color:blue> <i>[attend]</i></text> ya all too.. im leaving to bh tomorrow quotmorningquot i think.. aww i wan na go to the beach w u girls ! !: 0.0</text>"
      ],
      "text/plain": [
       "<IPython.core.display.HTML object>"
      ]
     },
     "metadata": {},
     "output_type": "display_data"
    },
    {
     "data": {
      "text/html": [
       "<text style=color:DarkGray>aaw i <text style=color:blue> <i>[attend_to]</i></text> ya all too.. im leaving to bh tomorrow quotmorningquot i think.. aww i wan na go to the beach w u girls ! !: 0.0</text>"
      ],
      "text/plain": [
       "<IPython.core.display.HTML object>"
      ]
     },
     "metadata": {},
     "output_type": "display_data"
    },
    {
     "name": "stdout",
     "output_type": "stream",
     "text": [
      "\n",
      "\n",
      "No tweets found when trying to do Positive=False\n",
      "\n",
      "\n",
      "\n",
      " is pissed off that there is no asba is for a radio station. :-0.7506\n",
      "\n",
      "No antonyms found for word pissed\n",
      "Word pissed[VBN] replaced with bummed[VBN]\n",
      "Word pissed[VBN] replaced with freaked[VBN]\n",
      "Word pissed[VBN] replaced with tickled[VBN]\n",
      "Word pissed[VBN] replaced with pooped[VBN]\n",
      "Some antonyms for word no are ['all', 'yes']\n",
      "Word no[DT] replaced with any[DT]\n",
      "Word no[DT] replaced with all[DT]\n"
     ]
    },
    {
     "data": {
      "text/html": [
       "<text style=color:green>is <text style=color:blue> <i>[bummed]</i></text> off that there is no asba is for a radio station .: -0.296</text>"
      ],
      "text/plain": [
       "<IPython.core.display.HTML object>"
      ]
     },
     "metadata": {},
     "output_type": "display_data"
    },
    {
     "data": {
      "text/html": [
       "<text style=color:green>is <text style=color:blue> <i>[freaked]</i></text> off that there is no asba is for a radio station .: -0.5267</text>"
      ],
      "text/plain": [
       "<IPython.core.display.HTML object>"
      ]
     },
     "metadata": {},
     "output_type": "display_data"
    },
    {
     "data": {
      "text/html": [
       "<text style=color:green>is <text style=color:blue> <i>[tickled]</i></text> off that there is no asba is for a radio station .: -0.296</text>"
      ],
      "text/plain": [
       "<IPython.core.display.HTML object>"
      ]
     },
     "metadata": {},
     "output_type": "display_data"
    },
    {
     "data": {
      "text/html": [
       "<text style=color:green>is <text style=color:blue> <i>[pooped]</i></text> off that there is no asba is for a radio station .: -0.296</text>"
      ],
      "text/plain": [
       "<IPython.core.display.HTML object>"
      ]
     },
     "metadata": {},
     "output_type": "display_data"
    },
    {
     "data": {
      "text/html": [
       "<text style=color:green>is pissed off that there is <text style=color:blue> <i>[any]</i></text> asba is for a radio station .: -0.6369</text>"
      ],
      "text/plain": [
       "<IPython.core.display.HTML object>"
      ]
     },
     "metadata": {},
     "output_type": "display_data"
    },
    {
     "data": {
      "text/html": [
       "<text style=color:green>is pissed off that there is <text style=color:blue> <i>[all]</i></text> asba is for a radio station .: -0.6369</text>"
      ],
      "text/plain": [
       "<IPython.core.display.HTML object>"
      ]
     },
     "metadata": {},
     "output_type": "display_data"
    },
    {
     "name": "stdout",
     "output_type": "stream",
     "text": [
      "\n",
      "\n",
      "No tweets found when trying to do Positive=False\n",
      "\n",
      "\n",
      "\n",
      " i know my life has been flipped upside down when i just thought in my head that some ramen sounds good. :0.4404\n",
      "\n",
      "Some antonyms for word good are ['bad', 'evilness', 'badness']\n",
      "Word good[JJ] replaced with sure[JJ]\n",
      "Word good[JJ] replaced with bad[JJ]\n",
      "Word good[JJ] replaced with evilness[JJ]\n",
      "Word good[JJ] replaced with evil[JJ]\n",
      "\n",
      "\n",
      "No tweets found when trying to do Positive=True\n",
      "\n",
      "\n"
     ]
    },
    {
     "data": {
      "text/html": [
       "<text style=color:red>i know my life has been flipped upside down when i just thought in my head that some ramen sounds <text style=color:blue> <i>[sure]</i></text> .: 0.3182</text>"
      ],
      "text/plain": [
       "<IPython.core.display.HTML object>"
      ]
     },
     "metadata": {},
     "output_type": "display_data"
    },
    {
     "data": {
      "text/html": [
       "<text style=color:red>i know my life has been flipped upside down when i just thought in my head that some ramen sounds <text style=color:blue> <i>[bad]</i></text> .: -0.5423</text>"
      ],
      "text/plain": [
       "<IPython.core.display.HTML object>"
      ]
     },
     "metadata": {},
     "output_type": "display_data"
    },
    {
     "data": {
      "text/html": [
       "<text style=color:red>i know my life has been flipped upside down when i just thought in my head that some ramen sounds <text style=color:blue> <i>[evilness]</i></text> .: -0.6249</text>"
      ],
      "text/plain": [
       "<IPython.core.display.HTML object>"
      ]
     },
     "metadata": {},
     "output_type": "display_data"
    },
    {
     "data": {
      "text/html": [
       "<text style=color:red>i know my life has been flipped upside down when i just thought in my head that some ramen sounds <text style=color:blue> <i>[evil]</i></text> .: -0.6597</text>"
      ],
      "text/plain": [
       "<IPython.core.display.HTML object>"
      ]
     },
     "metadata": {},
     "output_type": "display_data"
    },
    {
     "name": "stdout",
     "output_type": "stream",
     "text": [
      "\n",
      " i am in pain. my back and sides hurt. not to mention crying is made of fail. :-0.8246\n",
      "\n",
      "Some antonyms for word pain are ['pleasure']\n",
      "Word pain[NN] replaced with discomfort[NN]\n",
      "Word pain[NN] replaced with suffering[NN]\n",
      "Word pain[NN] replaced with stress[NN]\n",
      "Word pain[NN] replaced with trauma[NN]\n",
      "Word pain[NN] replaced with pleasure[NN]\n",
      "Some antonyms for word hurt are ['be_well']\n",
      "Word hurt[VBP] replaced with be_well[VBP]\n",
      "Some antonyms for word crying are ['laugh']\n",
      "Word crying[NN] replaced with screaming[NN]\n",
      "Word crying[NN] replaced with yelling[NN]\n",
      "Word crying[NN] replaced with laughing[NN]\n",
      "Word crying[NN] replaced with sobbing[NN]\n",
      "Word crying[NN] replaced with laugh[NN]\n",
      "Some antonyms for word fail are ['succeed', 'manage', 'pass']\n",
      "Word fail[NN] replaced with cannot[NN]\n",
      "Word fail[NN] replaced with agree[NN]\n",
      "Word fail[NN] replaced with manage[NN]\n",
      "Word fail[NN] replaced with pass[NN]\n"
     ]
    },
    {
     "data": {
      "text/html": [
       "<text style=color:green>i am in <text style=color:blue> <i>[discomfort]</i></text> . my back and sides hurt . not to mention crying is made of fail .: -0.799</text>"
      ],
      "text/plain": [
       "<IPython.core.display.HTML object>"
      ]
     },
     "metadata": {},
     "output_type": "display_data"
    },
    {
     "data": {
      "text/html": [
       "<text style=color:green>i am in <text style=color:blue> <i>[suffering]</i></text> . my back and sides hurt . not to mention crying is made of fail .: -0.8149</text>"
      ],
      "text/plain": [
       "<IPython.core.display.HTML object>"
      ]
     },
     "metadata": {},
     "output_type": "display_data"
    },
    {
     "data": {
      "text/html": [
       "<text style=color:green>i am in <text style=color:blue> <i>[stress]</i></text> . my back and sides hurt . not to mention crying is made of fail .: -0.799</text>"
      ],
      "text/plain": [
       "<IPython.core.display.HTML object>"
      ]
     },
     "metadata": {},
     "output_type": "display_data"
    },
    {
     "data": {
      "text/html": [
       "<text style=color:green>i am in <text style=color:blue> <i>[trauma]</i></text> . my back and sides hurt . not to mention crying is made of fail .: -0.799</text>"
      ],
      "text/plain": [
       "<IPython.core.display.HTML object>"
      ]
     },
     "metadata": {},
     "output_type": "display_data"
    },
    {
     "data": {
      "text/html": [
       "<text style=color:green>i am in <text style=color:blue> <i>[pleasure]</i></text> . my back and sides hurt . not to mention crying is made of fail .: -0.1645</text>"
      ],
      "text/plain": [
       "<IPython.core.display.HTML object>"
      ]
     },
     "metadata": {},
     "output_type": "display_data"
    },
    {
     "data": {
      "text/html": [
       "<text style=color:green>i am in pain . my back and sides <text style=color:blue> <i>[be_well]</i></text> . not to mention crying is made of fail .: -0.6423</text>"
      ],
      "text/plain": [
       "<IPython.core.display.HTML object>"
      ]
     },
     "metadata": {},
     "output_type": "display_data"
    },
    {
     "data": {
      "text/html": [
       "<text style=color:green>i am in pain . my back and sides hurt . not to mention crying is made of <text style=color:blue> <i>[cannot]</i></text> .: -0.6305</text>"
      ],
      "text/plain": [
       "<IPython.core.display.HTML object>"
      ]
     },
     "metadata": {},
     "output_type": "display_data"
    },
    {
     "data": {
      "text/html": [
       "<text style=color:green>i am in pain . my back and sides hurt . not to mention crying is made of <text style=color:blue> <i>[agree]</i></text> .: -0.3911</text>"
      ],
      "text/plain": [
       "<IPython.core.display.HTML object>"
      ]
     },
     "metadata": {},
     "output_type": "display_data"
    },
    {
     "data": {
      "text/html": [
       "<text style=color:green>i am in pain . my back and sides hurt . not to mention crying is made of <text style=color:blue> <i>[manage]</i></text> .: -0.6305</text>"
      ],
      "text/plain": [
       "<IPython.core.display.HTML object>"
      ]
     },
     "metadata": {},
     "output_type": "display_data"
    },
    {
     "data": {
      "text/html": [
       "<text style=color:green>i am in pain . my back and sides hurt . not to mention crying is made of <text style=color:blue> <i>[pass]</i></text> .: -0.6305</text>"
      ],
      "text/plain": [
       "<IPython.core.display.HTML object>"
      ]
     },
     "metadata": {},
     "output_type": "display_data"
    },
    {
     "data": {
      "text/html": [
       "<text style=color:red>i am in pain . my back and sides hurt . not to mention <text style=color:blue> <i>[screaming]</i></text> is made of fail .: -0.8408</text>"
      ],
      "text/plain": [
       "<IPython.core.display.HTML object>"
      ]
     },
     "metadata": {},
     "output_type": "display_data"
    },
    {
     "data": {
      "text/html": [
       "<text style=color:red>i am in pain . my back and sides hurt . not to mention <text style=color:blue> <i>[yelling]</i></text> is made of fail .: -0.8807</text>"
      ],
      "text/plain": [
       "<IPython.core.display.HTML object>"
      ]
     },
     "metadata": {},
     "output_type": "display_data"
    },
    {
     "data": {
      "text/html": [
       "<text style=color:red>i am in pain . my back and sides hurt . not to mention <text style=color:blue> <i>[laughing]</i></text> is made of fail .: -0.9157</text>"
      ],
      "text/plain": [
       "<IPython.core.display.HTML object>"
      ]
     },
     "metadata": {},
     "output_type": "display_data"
    },
    {
     "data": {
      "text/html": [
       "<text style=color:red>i am in pain . my back and sides hurt . not to mention <text style=color:blue> <i>[sobbing]</i></text> is made of fail .: -0.8408</text>"
      ],
      "text/plain": [
       "<IPython.core.display.HTML object>"
      ]
     },
     "metadata": {},
     "output_type": "display_data"
    },
    {
     "data": {
      "text/html": [
       "<text style=color:red>i am in pain . my back and sides hurt . not to mention <text style=color:blue> <i>[laugh]</i></text> is made of fail .: -0.9205</text>"
      ],
      "text/plain": [
       "<IPython.core.display.HTML object>"
      ]
     },
     "metadata": {},
     "output_type": "display_data"
    },
    {
     "name": "stdout",
     "output_type": "stream",
     "text": [
      "\n",
      " late night snack glass of oj bc i am quotdown with the sicknessquot then back to sleep...ugh i hate getting sick... :-0.5719\n",
      "\n",
      "No antonyms found for word ugh\n",
      "No POS words found for word ugh with tag IN\n",
      " -- No POS approved words! -- for word ugh\n",
      " some non-POS:['omigod', 'yikes', 'ahhh', 'phew']\n",
      "Some antonyms for word hate are ['love']\n",
      "Word hate[VBP] replaced with racist[VBP]\n",
      "Word hate[VBP] replaced with fear[VBP]\n",
      "Word hate[VBP] replaced with love[VBP]\n",
      "Some antonyms for word sick are ['keep_down', 'well']\n",
      "Word sick[NN] replaced with dying[NN]\n",
      "Word sick[NN] replaced with ill[NN]\n",
      "Word sick[NN] replaced with caring[NN]\n",
      "Word sick[NN] replaced with pregnant[NN]\n",
      "Word sick[NN] replaced with keep_down[NN]\n"
     ]
    },
    {
     "data": {
      "text/html": [
       "<text style=color:green>late night snack glass of oj bc i am quotdown with the sicknessquot then back to sleep ... ugh i <text style=color:blue> <i>[love]</i></text> getting sick ...: -0.2263</text>"
      ],
      "text/plain": [
       "<IPython.core.display.HTML object>"
      ]
     },
     "metadata": {},
     "output_type": "display_data"
    },
    {
     "data": {
      "text/html": [
       "<text style=color:green>late night snack glass of oj bc i am quotdown with the sicknessquot then back to sleep ... ugh i hate getting <text style=color:blue> <i>[caring]</i></text> ...: -0.5106</text>"
      ],
      "text/plain": [
       "<IPython.core.display.HTML object>"
      ]
     },
     "metadata": {},
     "output_type": "display_data"
    },
    {
     "data": {
      "text/html": [
       "<text style=color:red>late night snack glass of oj bc i am quotdown with the sicknessquot then back to sleep ... ugh i <text style=color:blue> <i>[racist]</i></text> getting sick ...: -0.8779</text>"
      ],
      "text/plain": [
       "<IPython.core.display.HTML object>"
      ]
     },
     "metadata": {},
     "output_type": "display_data"
    },
    {
     "data": {
      "text/html": [
       "<text style=color:red>late night snack glass of oj bc i am quotdown with the sicknessquot then back to sleep ... ugh i <text style=color:blue> <i>[fear]</i></text> getting sick ...: -0.8519</text>"
      ],
      "text/plain": [
       "<IPython.core.display.HTML object>"
      ]
     },
     "metadata": {},
     "output_type": "display_data"
    },
    {
     "data": {
      "text/html": [
       "<text style=color:red>late night snack glass of oj bc i am quotdown with the sicknessquot then back to sleep ... ugh i hate getting <text style=color:blue> <i>[dying]</i></text> ...: -0.7579</text>"
      ],
      "text/plain": [
       "<IPython.core.display.HTML object>"
      ]
     },
     "metadata": {},
     "output_type": "display_data"
    },
    {
     "data": {
      "text/html": [
       "<text style=color:red>late night snack glass of oj bc i am quotdown with the sicknessquot then back to sleep ... ugh i hate getting <text style=color:blue> <i>[ill]</i></text> ...: -0.8519</text>"
      ],
      "text/plain": [
       "<IPython.core.display.HTML object>"
      ]
     },
     "metadata": {},
     "output_type": "display_data"
    },
    {
     "data": {
      "text/html": [
       "<text style=color:red>late night snack glass of oj bc i am quotdown with the sicknessquot then back to sleep ... ugh i hate getting <text style=color:blue> <i>[pregnant]</i></text> ...: -0.7579</text>"
      ],
      "text/plain": [
       "<IPython.core.display.HTML object>"
      ]
     },
     "metadata": {},
     "output_type": "display_data"
    },
    {
     "data": {
      "text/html": [
       "<text style=color:red>late night snack glass of oj bc i am quotdown with the sicknessquot then back to sleep ... ugh i hate getting <text style=color:blue> <i>[keep_down]</i></text> ...: -0.7579</text>"
      ],
      "text/plain": [
       "<IPython.core.display.HTML object>"
      ]
     },
     "metadata": {},
     "output_type": "display_data"
    },
    {
     "name": "stdout",
     "output_type": "stream",
     "text": [
      "\n",
      "  but.. but.. but.. i am not a big fan on camilla belle :-0.2411\n",
      "\n",
      "No antonyms found for word fan\n",
      "Word fan[NN] replaced with star[NN]\n",
      "Word fan[NN] replaced with player[NN]\n",
      "Word fan[NN] replaced with crowd[NN]\n",
      "Word fan[NN] replaced with fame[NN]\n"
     ]
    },
    {
     "data": {
      "text/html": [
       "<text style=color:DarkGray>but.. but.. but.. i am not a big <text style=color:blue> <i>[star]</i></text> on camilla belle: 0.0</text>"
      ],
      "text/plain": [
       "<IPython.core.display.HTML object>"
      ]
     },
     "metadata": {},
     "output_type": "display_data"
    },
    {
     "data": {
      "text/html": [
       "<text style=color:DarkGray>but.. but.. but.. i am not a big <text style=color:blue> <i>[player]</i></text> on camilla belle: 0.0</text>"
      ],
      "text/plain": [
       "<IPython.core.display.HTML object>"
      ]
     },
     "metadata": {},
     "output_type": "display_data"
    },
    {
     "data": {
      "text/html": [
       "<text style=color:DarkGray>but.. but.. but.. i am not a big <text style=color:blue> <i>[crowd]</i></text> on camilla belle: 0.0</text>"
      ],
      "text/plain": [
       "<IPython.core.display.HTML object>"
      ]
     },
     "metadata": {},
     "output_type": "display_data"
    },
    {
     "data": {
      "text/html": [
       "<text style=color:red>but.. but.. but.. i am not a big <text style=color:blue> <i>[fame]</i></text> on camilla belle: -0.3412</text>"
      ],
      "text/plain": [
       "<IPython.core.display.HTML object>"
      ]
     },
     "metadata": {},
     "output_type": "display_data"
    },
    {
     "name": "stdout",
     "output_type": "stream",
     "text": [
      "\n",
      "  wah i can not see clip must be elstupido work filters. ca not wait  notill i get a puter. something else 2 blame ex 4. he broke mine :-0.6369\n",
      "\n",
      "Some antonyms for word blame are ['absolve']\n",
      "Word blame[NN] replaced with ignore[NN]\n",
      "Some antonyms for word broke are ['promote', 'make', 'keep']\n",
      "Word broke[VBD] replaced with ended[VBD]\n",
      "Word broke[VBD] replaced with broken[VBD]\n",
      "Word broke[VBD] replaced with pulled[VBD]\n",
      "Word broke[VBD] replaced with promote[VBD]\n",
      "Word broke[VBD] replaced with repair[VBD]\n",
      "Word broke[VBD] replaced with conform_to[VBD]\n"
     ]
    },
    {
     "data": {
      "text/html": [
       "<text style=color:green>wah i can not see clip must be elstupido work filters . ca not wait notill i get a puter . something else 2 blame ex 4. he <text style=color:blue> <i>[ended]</i></text> mine: -0.34</text>"
      ],
      "text/plain": [
       "<IPython.core.display.HTML object>"
      ]
     },
     "metadata": {},
     "output_type": "display_data"
    },
    {
     "data": {
      "text/html": [
       "<text style=color:green>wah i can not see clip must be elstupido work filters . ca not wait notill i get a puter . something else 2 blame ex 4. he <text style=color:blue> <i>[pulled]</i></text> mine: -0.34</text>"
      ],
      "text/plain": [
       "<IPython.core.display.HTML object>"
      ]
     },
     "metadata": {},
     "output_type": "display_data"
    },
    {
     "data": {
      "text/html": [
       "<text style=color:green>wah i can not see clip must be elstupido work filters . ca not wait notill i get a puter . something else 2 blame ex 4. he <text style=color:blue> <i>[promote]</i></text> mine: 0.0516</text>"
      ],
      "text/plain": [
       "<IPython.core.display.HTML object>"
      ]
     },
     "metadata": {},
     "output_type": "display_data"
    },
    {
     "data": {
      "text/html": [
       "<text style=color:green>wah i can not see clip must be elstupido work filters . ca not wait notill i get a puter . something else 2 blame ex 4. he <text style=color:blue> <i>[repair]</i></text> mine: -0.34</text>"
      ],
      "text/plain": [
       "<IPython.core.display.HTML object>"
      ]
     },
     "metadata": {},
     "output_type": "display_data"
    },
    {
     "data": {
      "text/html": [
       "<text style=color:green>wah i can not see clip must be elstupido work filters . ca not wait notill i get a puter . something else 2 blame ex 4. he <text style=color:blue> <i>[conform_to]</i></text> mine: -0.34</text>"
      ],
      "text/plain": [
       "<IPython.core.display.HTML object>"
      ]
     },
     "metadata": {},
     "output_type": "display_data"
    },
    {
     "data": {
      "text/html": [
       "<text style=color:red>wah i can not see clip must be elstupido work filters . ca not wait notill i get a puter . something else 2 <text style=color:blue> <i>[ignore]</i></text> ex 4. he broke mine: -0.6486</text>"
      ],
      "text/plain": [
       "<IPython.core.display.HTML object>"
      ]
     },
     "metadata": {},
     "output_type": "display_data"
    },
    {
     "data": {
      "text/html": [
       "<text style=color:red>wah i can not see clip must be elstupido work filters . ca not wait notill i get a puter . something else 2 blame ex 4. he <text style=color:blue> <i>[broken]</i></text> mine: -0.6705</text>"
      ],
      "text/plain": [
       "<IPython.core.display.HTML object>"
      ]
     },
     "metadata": {},
     "output_type": "display_data"
    },
    {
     "name": "stdout",
     "output_type": "stream",
     "text": [
      "\n",
      "  ehhh do not. weather is gonna take a turn for the ugly tomorrow :-0.5106\n",
      "\n",
      "Some antonyms for word ugly are ['beautiful']\n",
      "No POS words found for word ugly with tag RB\n",
      " -- No POS approved words! -- for word ugly\n",
      " some non-POS:['nasty', 'awful', 'horrible', 'stupid']\n",
      " -- No new Strings generated ---\n",
      "\n",
      "\n",
      "\n",
      "  haha its so cooooold in the d! and no  but you should still go to the show. they do some incredible stuff:0.1759\n",
      "\n",
      "No antonyms found for word haha\n",
      "Word haha[NN] replaced with prude[NN]\n",
      "Word haha[NN] replaced with porpoise[NN]\n",
      "Some antonyms for word no are ['all', 'yes']\n",
      "Word no[DT] replaced with any[DT]\n",
      "Word no[DT] replaced with all[DT]\n"
     ]
    },
    {
     "data": {
      "text/html": [
       "<text style=color:green>haha its so cooooold in the d ! and <text style=color:blue> <i>[any]</i></text> but you should still go to the show . they do some incredible stuff: 0.3164</text>"
      ],
      "text/plain": [
       "<IPython.core.display.HTML object>"
      ]
     },
     "metadata": {},
     "output_type": "display_data"
    },
    {
     "data": {
      "text/html": [
       "<text style=color:green>haha its so cooooold in the d ! and <text style=color:blue> <i>[all]</i></text> but you should still go to the show . they do some incredible stuff: 0.3164</text>"
      ],
      "text/plain": [
       "<IPython.core.display.HTML object>"
      ]
     },
     "metadata": {},
     "output_type": "display_data"
    },
    {
     "data": {
      "text/html": [
       "<text style=color:red><text style=color:blue> <i>[prude]</i></text> its so cooooold in the d ! and no but you should still go to the show . they do some incredible stuff: -0.2244</text>"
      ],
      "text/plain": [
       "<IPython.core.display.HTML object>"
      ]
     },
     "metadata": {},
     "output_type": "display_data"
    },
    {
     "data": {
      "text/html": [
       "<text style=color:red><text style=color:blue> <i>[porpoise]</i></text> its so cooooold in the d ! and no but you should still go to the show . they do some incredible stuff: -0.2244</text>"
      ],
      "text/plain": [
       "<IPython.core.display.HTML object>"
      ]
     },
     "metadata": {},
     "output_type": "display_data"
    },
    {
     "name": "stdout",
     "output_type": "stream",
     "text": [
      "\n",
      " hoping the tummy rumbles go away soon :0.4215\n",
      "\n",
      "Some antonyms for word hoping are ['despair']\n",
      "No POS words found for word hoping with tag VBG\n",
      " -- No POS approved words! -- for word hoping\n",
      " some non-POS:['hopes', 'hoped', 'hope', 'chance']\n",
      " -- No new Strings generated ---\n",
      "\n",
      "\n",
      "\n",
      "  no no notice. they told me i would be working tomorrow and then i called the agency to follow up and they said it was over. :-0.5267\n",
      "\n",
      "Some antonyms for word no are ['all', 'yes']\n",
      "Word no[DT] replaced with any[DT]\n",
      "Word no[DT] replaced with all[DT]\n",
      "Some antonyms for word no are ['all', 'yes']\n",
      "Word no[DT] replaced with any[DT]\n",
      "Word no[DT] replaced with all[DT]\n"
     ]
    },
    {
     "data": {
      "text/html": [
       "<text style=color:green><text style=color:blue> <i>[any]</i></text> no notice . they told me i would be working tomorrow and then i called the agency to follow up and they said it was over .: -0.296</text>"
      ],
      "text/plain": [
       "<IPython.core.display.HTML object>"
      ]
     },
     "metadata": {},
     "output_type": "display_data"
    },
    {
     "data": {
      "text/html": [
       "<text style=color:green><text style=color:blue> <i>[all]</i></text> no notice . they told me i would be working tomorrow and then i called the agency to follow up and they said it was over .: -0.296</text>"
      ],
      "text/plain": [
       "<IPython.core.display.HTML object>"
      ]
     },
     "metadata": {},
     "output_type": "display_data"
    },
    {
     "data": {
      "text/html": [
       "<text style=color:green>no <text style=color:blue> <i>[any]</i></text> notice . they told me i would be working tomorrow and then i called the agency to follow up and they said it was over .: -0.296</text>"
      ],
      "text/plain": [
       "<IPython.core.display.HTML object>"
      ]
     },
     "metadata": {},
     "output_type": "display_data"
    },
    {
     "data": {
      "text/html": [
       "<text style=color:green>no <text style=color:blue> <i>[all]</i></text> notice . they told me i would be working tomorrow and then i called the agency to follow up and they said it was over .: -0.296</text>"
      ],
      "text/plain": [
       "<IPython.core.display.HTML object>"
      ]
     },
     "metadata": {},
     "output_type": "display_data"
    },
    {
     "name": "stdout",
     "output_type": "stream",
     "text": [
      "\n",
      "\n",
      "No tweets found when trying to do Positive=False\n",
      "\n",
      "\n",
      "\n",
      " i am missing you babe..  but as long as your alive i am happy.. ya i am tired my love imma try to sleep hopefully you had a headstart:0.8519\n",
      "\n",
      "Some antonyms for word missing are ['have', 'attend', 'hit']\n",
      "No POS words found for word missing with tag VBG\n",
      " -- No POS approved words! -- for word missing\n",
      " some non-POS:['dead', 'injured', 'trapped', 'rescued']\n",
      "Some antonyms for word alive are ['unanimated', 'dead']\n",
      "Word alive[JJ] replaced with dead[JJ]\n",
      "Word alive[JJ] replaced with unanimated[JJ]\n",
      "Word alive[JJ] replaced with dead[JJ]\n",
      "Some antonyms for word tired are ['rested', 'interest', 'refresh']\n",
      "Word tired[VBN] replaced with scared[VBN]\n",
      "Word tired[VBN] replaced with frustrated[VBN]\n",
      "Word tired[VBN] replaced with rested[VBN]\n",
      "Some antonyms for word love are ['hate']\n",
      "Word love[NN] replaced with passion[NN]\n",
      "Word love[NN] replaced with life[NN]\n",
      "Word love[NN] replaced with dream[NN]\n",
      "Word love[NN] replaced with hate[NN]\n",
      "Some antonyms for word hopefully are ['hopelessly']\n",
      "Word hopefully[RB] replaced with definitely[RB]\n",
      "Word hopefully[RB] replaced with maybe[RB]\n",
      "Word hopefully[RB] replaced with hopelessly[RB]\n"
     ]
    },
    {
     "data": {
      "text/html": [
       "<text style=color:green>i am missing you babe.. but as long as your alive i am happy.. ya i am <text style=color:blue> <i>[rested]</i></text> my love imma try to sleep hopefully you had a headstart: 0.9209</text>"
      ],
      "text/plain": [
       "<IPython.core.display.HTML object>"
      ]
     },
     "metadata": {},
     "output_type": "display_data"
    },
    {
     "data": {
      "text/html": [
       "<text style=color:red>i am missing you babe.. but as long as your <text style=color:blue> <i>[dead]</i></text> i am happy.. ya i am tired my love imma try to sleep hopefully you had a headstart: -0.2617</text>"
      ],
      "text/plain": [
       "<IPython.core.display.HTML object>"
      ]
     },
     "metadata": {},
     "output_type": "display_data"
    },
    {
     "data": {
      "text/html": [
       "<text style=color:red>i am missing you babe.. but as long as your <text style=color:blue> <i>[unanimated]</i></text> i am happy.. ya i am tired my love imma try to sleep hopefully you had a headstart: 0.7096</text>"
      ],
      "text/plain": [
       "<IPython.core.display.HTML object>"
      ]
     },
     "metadata": {},
     "output_type": "display_data"
    },
    {
     "data": {
      "text/html": [
       "<text style=color:red>i am missing you babe.. but as long as your <text style=color:blue> <i>[dead]</i></text> i am happy.. ya i am tired my love imma try to sleep hopefully you had a headstart: -0.2617</text>"
      ],
      "text/plain": [
       "<IPython.core.display.HTML object>"
      ]
     },
     "metadata": {},
     "output_type": "display_data"
    },
    {
     "data": {
      "text/html": [
       "<text style=color:red>i am missing you babe.. but as long as your alive i am happy.. ya i am <text style=color:blue> <i>[frustrated]</i></text> my love imma try to sleep hopefully you had a headstart: 0.8201</text>"
      ],
      "text/plain": [
       "<IPython.core.display.HTML object>"
      ]
     },
     "metadata": {},
     "output_type": "display_data"
    },
    {
     "data": {
      "text/html": [
       "<text style=color:red>i am missing you babe.. but as long as your alive i am happy.. ya i am tired my <text style=color:blue> <i>[passion]</i></text> imma try to sleep hopefully you had a headstart: 0.7579</text>"
      ],
      "text/plain": [
       "<IPython.core.display.HTML object>"
      ]
     },
     "metadata": {},
     "output_type": "display_data"
    },
    {
     "data": {
      "text/html": [
       "<text style=color:red>i am missing you babe.. but as long as your alive i am happy.. ya i am tired my <text style=color:blue> <i>[life]</i></text> imma try to sleep hopefully you had a headstart: 0.3612</text>"
      ],
      "text/plain": [
       "<IPython.core.display.HTML object>"
      ]
     },
     "metadata": {},
     "output_type": "display_data"
    },
    {
     "data": {
      "text/html": [
       "<text style=color:red>i am missing you babe.. but as long as your alive i am happy.. ya i am tired my <text style=color:blue> <i>[dream]</i></text> imma try to sleep hopefully you had a headstart: 0.6124</text>"
      ],
      "text/plain": [
       "<IPython.core.display.HTML object>"
      ]
     },
     "metadata": {},
     "output_type": "display_data"
    },
    {
     "data": {
      "text/html": [
       "<text style=color:red>i am missing you babe.. but as long as your alive i am happy.. ya i am tired my <text style=color:blue> <i>[hate]</i></text> imma try to sleep hopefully you had a headstart: -0.5499</text>"
      ],
      "text/plain": [
       "<IPython.core.display.HTML object>"
      ]
     },
     "metadata": {},
     "output_type": "display_data"
    },
    {
     "data": {
      "text/html": [
       "<text style=color:red>i am missing you babe.. but as long as your alive i am happy.. ya i am tired my love imma try to sleep <text style=color:blue> <i>[maybe]</i></text> you had a headstart: 0.6956</text>"
      ],
      "text/plain": [
       "<IPython.core.display.HTML object>"
      ]
     },
     "metadata": {},
     "output_type": "display_data"
    },
    {
     "data": {
      "text/html": [
       "<text style=color:red>i am missing you babe.. but as long as your alive i am happy.. ya i am tired my love imma try to sleep <text style=color:blue> <i>[hopelessly]</i></text> you had a headstart: 0.1154</text>"
      ],
      "text/plain": [
       "<IPython.core.display.HTML object>"
      ]
     },
     "metadata": {},
     "output_type": "display_data"
    },
    {
     "name": "stdout",
     "output_type": "stream",
     "text": [
      "\n",
      " i miss kenny powers :-0.1531\n",
      "\n",
      "Some antonyms for word miss are ['have', 'attend', 'hit']\n",
      "Word miss[VBP] replaced with play[VBP]\n",
      "Word miss[VBP] replaced with have[VBP]\n",
      "Word miss[VBP] replaced with attend[VBP]\n",
      "Word miss[VBP] replaced with attend_to[VBP]\n"
     ]
    },
    {
     "data": {
      "text/html": [
       "<text style=color:green>i <text style=color:blue> <i>[play]</i></text> kenny powers: 0.34</text>"
      ],
      "text/plain": [
       "<IPython.core.display.HTML object>"
      ]
     },
     "metadata": {},
     "output_type": "display_data"
    },
    {
     "data": {
      "text/html": [
       "<text style=color:DarkGray>i <text style=color:blue> <i>[have]</i></text> kenny powers: 0.0</text>"
      ],
      "text/plain": [
       "<IPython.core.display.HTML object>"
      ]
     },
     "metadata": {},
     "output_type": "display_data"
    },
    {
     "data": {
      "text/html": [
       "<text style=color:DarkGray>i <text style=color:blue> <i>[attend]</i></text> kenny powers: 0.0</text>"
      ],
      "text/plain": [
       "<IPython.core.display.HTML object>"
      ]
     },
     "metadata": {},
     "output_type": "display_data"
    },
    {
     "data": {
      "text/html": [
       "<text style=color:DarkGray>i <text style=color:blue> <i>[attend_to]</i></text> kenny powers: 0.0</text>"
      ],
      "text/plain": [
       "<IPython.core.display.HTML object>"
      ]
     },
     "metadata": {},
     "output_type": "display_data"
    },
    {
     "name": "stdout",
     "output_type": "stream",
     "text": [
      "\n",
      "\n",
      "No tweets found when trying to do Positive=False\n",
      "\n",
      "\n",
      "\n",
      "  thank you for letting people know but now i am sad that the direct message i got was not actually from bridget :-0.5267\n",
      "\n",
      "No antonyms found for word thank\n",
      "Word thank[NN] replaced with grateful[NN]\n",
      "Word thank[NN] replaced with wish[NN]\n",
      "Some antonyms for word sad are ['glad']\n",
      "Word sad[JJ] replaced with awful[JJ]\n",
      "Word sad[JJ] replaced with tragic[JJ]\n",
      "Word sad[JJ] replaced with horrible[JJ]\n",
      "Word sad[JJ] replaced with happy[JJ]\n",
      "Word sad[JJ] replaced with glad[JJ]\n"
     ]
    },
    {
     "data": {
      "text/html": [
       "<text style=color:green><text style=color:blue> <i>[grateful]</i></text> you for letting people know but now i am sad that the direct message i got was not actually from bridget: -0.4854</text>"
      ],
      "text/plain": [
       "<IPython.core.display.HTML object>"
      ]
     },
     "metadata": {},
     "output_type": "display_data"
    },
    {
     "data": {
      "text/html": [
       "<text style=color:green><text style=color:blue> <i>[wish]</i></text> you for letting people know but now i am sad that the direct message i got was not actually from bridget: -0.5106</text>"
      ],
      "text/plain": [
       "<IPython.core.display.HTML object>"
      ]
     },
     "metadata": {},
     "output_type": "display_data"
    },
    {
     "data": {
      "text/html": [
       "<text style=color:green>thank you for letting people know but now i am <text style=color:blue> <i>[awful]</i></text> that the direct message i got was not actually from bridget: -0.5023</text>"
      ],
      "text/plain": [
       "<IPython.core.display.HTML object>"
      ]
     },
     "metadata": {},
     "output_type": "display_data"
    },
    {
     "data": {
      "text/html": [
       "<text style=color:green>thank you for letting people know but now i am <text style=color:blue> <i>[tragic]</i></text> that the direct message i got was not actually from bridget: -0.5023</text>"
      ],
      "text/plain": [
       "<IPython.core.display.HTML object>"
      ]
     },
     "metadata": {},
     "output_type": "display_data"
    },
    {
     "data": {
      "text/html": [
       "<text style=color:green>thank you for letting people know but now i am <text style=color:blue> <i>[happy]</i></text> that the direct message i got was not actually from bridget: 0.7783</text>"
      ],
      "text/plain": [
       "<IPython.core.display.HTML object>"
      ]
     },
     "metadata": {},
     "output_type": "display_data"
    },
    {
     "data": {
      "text/html": [
       "<text style=color:green>thank you for letting people know but now i am <text style=color:blue> <i>[glad]</i></text> that the direct message i got was not actually from bridget: 0.6956</text>"
      ],
      "text/plain": [
       "<IPython.core.display.HTML object>"
      ]
     },
     "metadata": {},
     "output_type": "display_data"
    },
    {
     "data": {
      "text/html": [
       "<text style=color:red>thank you for letting people know but now i am <text style=color:blue> <i>[horrible]</i></text> that the direct message i got was not actually from bridget: -0.6124</text>"
      ],
      "text/plain": [
       "<IPython.core.display.HTML object>"
      ]
     },
     "metadata": {},
     "output_type": "display_data"
    },
    {
     "name": "stdout",
     "output_type": "stream",
     "text": [
      "\n",
      " ...and india missed out its 100th test victory n 10th consecutive win without a loss. :0.5517\n",
      "\n",
      "Some antonyms for word missed are ['have', 'attend', 'hit']\n",
      "Word missed[VBN] replaced with scored[VBN]\n",
      "Word missed[VBN] replaced with hit[VBN]\n",
      "Some antonyms for word win are ['fail', 'fall_back', 'losings']\n",
      "Word win[NN] replaced with victory[NN]\n",
      "Word win[NN] replaced with chance[NN]\n",
      "Word win[NN] replaced with fail[NN]\n",
      "Word win[NN] replaced with fall_back[NN]\n",
      "Word win[NN] replaced with lose[NN]\n",
      "Some antonyms for word loss are ['gain']\n",
      "Word loss[NN] replaced with result[NN]\n",
      "Word loss[NN] replaced with losing[NN]\n",
      "Word loss[NN] replaced with lost[NN]\n",
      "Word loss[NN] replaced with quarter[NN]\n",
      "Word loss[NN] replaced with gain[NN]\n"
     ]
    },
    {
     "data": {
      "text/html": [
       "<text style=color:green>... and india <text style=color:blue> <i>[scored]</i></text> out its 100th test victory n 10th consecutive win without a loss .: 0.6968</text>"
      ],
      "text/plain": [
       "<IPython.core.display.HTML object>"
      ]
     },
     "metadata": {},
     "output_type": "display_data"
    },
    {
     "data": {
      "text/html": [
       "<text style=color:green>... and india <text style=color:blue> <i>[hit]</i></text> out its 100th test victory n 10th consecutive win without a loss .: 0.6968</text>"
      ],
      "text/plain": [
       "<IPython.core.display.HTML object>"
      ]
     },
     "metadata": {},
     "output_type": "display_data"
    },
    {
     "data": {
      "text/html": [
       "<text style=color:green>... and india missed out its 100th test victory n 10th consecutive win without a <text style=color:blue> <i>[losing]</i></text> .: 0.5837</text>"
      ],
      "text/plain": [
       "<IPython.core.display.HTML object>"
      ]
     },
     "metadata": {},
     "output_type": "display_data"
    },
    {
     "data": {
      "text/html": [
       "<text style=color:red>... and india missed out its 100th test victory n 10th consecutive <text style=color:blue> <i>[victory]</i></text> without a loss .: -0.0613</text>"
      ],
      "text/plain": [
       "<IPython.core.display.HTML object>"
      ]
     },
     "metadata": {},
     "output_type": "display_data"
    },
    {
     "data": {
      "text/html": [
       "<text style=color:red>... and india missed out its 100th test victory n 10th consecutive <text style=color:blue> <i>[chance]</i></text> without a loss .: 0.193</text>"
      ],
      "text/plain": [
       "<IPython.core.display.HTML object>"
      ]
     },
     "metadata": {},
     "output_type": "display_data"
    },
    {
     "data": {
      "text/html": [
       "<text style=color:red>... and india missed out its 100th test victory n 10th consecutive <text style=color:blue> <i>[fail]</i></text> without a loss .: -0.5773</text>"
      ],
      "text/plain": [
       "<IPython.core.display.HTML object>"
      ]
     },
     "metadata": {},
     "output_type": "display_data"
    },
    {
     "data": {
      "text/html": [
       "<text style=color:red>... and india missed out its 100th test victory n 10th consecutive <text style=color:blue> <i>[fall_back]</i></text> without a loss .: -0.0613</text>"
      ],
      "text/plain": [
       "<IPython.core.display.HTML object>"
      ]
     },
     "metadata": {},
     "output_type": "display_data"
    },
    {
     "data": {
      "text/html": [
       "<text style=color:red>... and india missed out its 100th test victory n 10th consecutive <text style=color:blue> <i>[lose]</i></text> without a loss .: -0.4475</text>"
      ],
      "text/plain": [
       "<IPython.core.display.HTML object>"
      ]
     },
     "metadata": {},
     "output_type": "display_data"
    },
    {
     "data": {
      "text/html": [
       "<text style=color:red>... and india missed out its 100th test victory n 10th consecutive win without a <text style=color:blue> <i>[result]</i></text> .: 0.3818</text>"
      ],
      "text/plain": [
       "<IPython.core.display.HTML object>"
      ]
     },
     "metadata": {},
     "output_type": "display_data"
    },
    {
     "data": {
      "text/html": [
       "<text style=color:red>... and india missed out its 100th test victory n 10th consecutive win without a <text style=color:blue> <i>[quarter]</i></text> .: 0.3818</text>"
      ],
      "text/plain": [
       "<IPython.core.display.HTML object>"
      ]
     },
     "metadata": {},
     "output_type": "display_data"
    },
    {
     "data": {
      "text/html": [
       "<text style=color:red>... and india missed out its 100th test victory n 10th consecutive win without a <text style=color:blue> <i>[gain]</i></text> .: -0.0454</text>"
      ],
      "text/plain": [
       "<IPython.core.display.HTML object>"
      ]
     },
     "metadata": {},
     "output_type": "display_data"
    },
    {
     "name": "stdout",
     "output_type": "stream",
     "text": [
      "\n",
      "  i guess that is a no then. :-0.296\n",
      "\n",
      "Some antonyms for word no are ['all', 'yes']\n",
      "Word no[DT] replaced with any[DT]\n",
      "Word no[DT] replaced with all[DT]\n"
     ]
    },
    {
     "data": {
      "text/html": [
       "<text style=color:DarkGray>i guess that is a <text style=color:blue> <i>[any]</i></text> then .: 0.0</text>"
      ],
      "text/plain": [
       "<IPython.core.display.HTML object>"
      ]
     },
     "metadata": {},
     "output_type": "display_data"
    },
    {
     "data": {
      "text/html": [
       "<text style=color:DarkGray>i guess that is a <text style=color:blue> <i>[all]</i></text> then .: 0.0</text>"
      ],
      "text/plain": [
       "<IPython.core.display.HTML object>"
      ]
     },
     "metadata": {},
     "output_type": "display_data"
    },
    {
     "name": "stdout",
     "output_type": "stream",
     "text": [
      "\n",
      "\n",
      "No tweets found when trying to do Positive=False\n",
      "\n",
      "\n",
      "\n",
      " sadly is going to bed. :-0.4215\n",
      "\n",
      "Some antonyms for word sadly are ['happily']\n",
      "Word sadly[RB] replaced with thankfully[RB]\n",
      "Word sadly[RB] replaced with terribly[RB]\n",
      "Word sadly[RB] replaced with curiously[RB]\n",
      "Word sadly[RB] replaced with painfully[RB]\n",
      "Word sadly[RB] replaced with happily[RB]\n"
     ]
    },
    {
     "data": {
      "text/html": [
       "<text style=color:green><text style=color:blue> <i>[thankfully]</i></text> is going to bed .: 0.4215</text>"
      ],
      "text/plain": [
       "<IPython.core.display.HTML object>"
      ]
     },
     "metadata": {},
     "output_type": "display_data"
    },
    {
     "data": {
      "text/html": [
       "<text style=color:DarkGray><text style=color:blue> <i>[curiously]</i></text> is going to bed .: 0.0</text>"
      ],
      "text/plain": [
       "<IPython.core.display.HTML object>"
      ]
     },
     "metadata": {},
     "output_type": "display_data"
    },
    {
     "data": {
      "text/html": [
       "<text style=color:green><text style=color:blue> <i>[happily]</i></text> is going to bed .: 0.5574</text>"
      ],
      "text/plain": [
       "<IPython.core.display.HTML object>"
      ]
     },
     "metadata": {},
     "output_type": "display_data"
    },
    {
     "data": {
      "text/html": [
       "<text style=color:red><text style=color:blue> <i>[terribly]</i></text> is going to bed .: -0.5574</text>"
      ],
      "text/plain": [
       "<IPython.core.display.HTML object>"
      ]
     },
     "metadata": {},
     "output_type": "display_data"
    },
    {
     "data": {
      "text/html": [
       "<text style=color:red><text style=color:blue> <i>[painfully]</i></text> is going to bed .: -0.5267</text>"
      ],
      "text/plain": [
       "<IPython.core.display.HTML object>"
      ]
     },
     "metadata": {},
     "output_type": "display_data"
    },
    {
     "name": "stdout",
     "output_type": "stream",
     "text": [
      "\n",
      "  shame to hear this stephan :-0.4767\n",
      "\n",
      "Some antonyms for word shame are ['honor']\n",
      "Word shame[NN] replaced with disgrace[NN]\n",
      "Word shame[NN] replaced with pity[NN]\n",
      "Word shame[NN] replaced with embarrassment[NN]\n",
      "Word shame[NN] replaced with sorrow[NN]\n",
      "Word shame[NN] replaced with sadness[NN]\n",
      "Word shame[NN] replaced with honor[NN]\n"
     ]
    },
    {
     "data": {
      "text/html": [
       "<text style=color:green><text style=color:blue> <i>[pity]</i></text> to hear this stephan: -0.296</text>"
      ],
      "text/plain": [
       "<IPython.core.display.HTML object>"
      ]
     },
     "metadata": {},
     "output_type": "display_data"
    },
    {
     "data": {
      "text/html": [
       "<text style=color:green><text style=color:blue> <i>[embarrassment]</i></text> to hear this stephan: -0.4404</text>"
      ],
      "text/plain": [
       "<IPython.core.display.HTML object>"
      ]
     },
     "metadata": {},
     "output_type": "display_data"
    },
    {
     "data": {
      "text/html": [
       "<text style=color:green><text style=color:blue> <i>[sadness]</i></text> to hear this stephan: -0.4404</text>"
      ],
      "text/plain": [
       "<IPython.core.display.HTML object>"
      ]
     },
     "metadata": {},
     "output_type": "display_data"
    },
    {
     "data": {
      "text/html": [
       "<text style=color:green><text style=color:blue> <i>[honor]</i></text> to hear this stephan: 0.4939</text>"
      ],
      "text/plain": [
       "<IPython.core.display.HTML object>"
      ]
     },
     "metadata": {},
     "output_type": "display_data"
    },
    {
     "data": {
      "text/html": [
       "<text style=color:red><text style=color:blue> <i>[disgrace]</i></text> to hear this stephan: -0.4939</text>"
      ],
      "text/plain": [
       "<IPython.core.display.HTML object>"
      ]
     },
     "metadata": {},
     "output_type": "display_data"
    },
    {
     "data": {
      "text/html": [
       "<text style=color:red><text style=color:blue> <i>[sorrow]</i></text> to hear this stephan: -0.5267</text>"
      ],
      "text/plain": [
       "<IPython.core.display.HTML object>"
      ]
     },
     "metadata": {},
     "output_type": "display_data"
    },
    {
     "name": "stdout",
     "output_type": "stream",
     "text": [
      "\n",
      " was intending to finish editing my 536page novel manuscript tonight but that will probably not happen. and only 12 pages are left :0.1655\n",
      "\n",
      "No antonyms found for word novel\n",
      "No POS words found for word novel with tag JJ\n",
      " -- No POS approved words! -- for word novel\n",
      " some non-POS:['novels', 'fiction', 'book', 'adaptation']\n",
      " -- No new Strings generated ---\n",
      "\n",
      "\n",
      "\n",
      " laid around too much today... now my head hurts :-0.4767\n",
      "\n",
      "Some antonyms for word hurts are ['be_well']\n",
      "Word hurts[NNS] replaced with undermines[NNS]\n",
      "Word hurts[NNS] replaced with bothers[NNS]\n"
     ]
    },
    {
     "data": {
      "text/html": [
       "<text style=color:green>laid around too much today ... now my head <text style=color:blue> <i>[undermines]</i></text>: -0.34</text>"
      ],
      "text/plain": [
       "<IPython.core.display.HTML object>"
      ]
     },
     "metadata": {},
     "output_type": "display_data"
    },
    {
     "data": {
      "text/html": [
       "<text style=color:green>laid around too much today ... now my head <text style=color:blue> <i>[bothers]</i></text>: -0.2023</text>"
      ],
      "text/plain": [
       "<IPython.core.display.HTML object>"
      ]
     },
     "metadata": {},
     "output_type": "display_data"
    },
    {
     "name": "stdout",
     "output_type": "stream",
     "text": [
      "\n",
      "\n",
      "No tweets found when trying to do Positive=False\n",
      "\n",
      "\n",
      "\n",
      "  i still have not read the 9thamp10th princess diaries  saving francesca made me cry at the end. hmm those are easy books.:-0.0516\n",
      "\n",
      "Some antonyms for word cry are ['laugh']\n",
      "Word cry[NN] replaced with shout[NN]\n",
      "Word cry[NN] replaced with scream[NN]\n",
      "Word cry[NN] replaced with laugh[NN]\n",
      "Word cry[NN] replaced with laugh[NN]\n",
      "Some antonyms for word easy are ['uneasy', 'quickly', 'difficult']\n",
      "Word easy[JJ] replaced with quick[JJ]\n",
      "Word easy[JJ] replaced with enough[JJ]\n",
      "Word easy[JJ] replaced with find[JJ]\n",
      "Word easy[JJ] replaced with uneasy[JJ]\n",
      "Word easy[JJ] replaced with difficult[JJ]\n"
     ]
    },
    {
     "data": {
      "text/html": [
       "<text style=color:green>i still have not read the 9thamp10th princess diaries saving francesca made me <text style=color:blue> <i>[shout]</i></text> at the end . hmm those are easy books .: 0.4404</text>"
      ],
      "text/plain": [
       "<IPython.core.display.HTML object>"
      ]
     },
     "metadata": {},
     "output_type": "display_data"
    },
    {
     "data": {
      "text/html": [
       "<text style=color:green>i still have not read the 9thamp10th princess diaries saving francesca made me <text style=color:blue> <i>[scream]</i></text> at the end . hmm those are easy books .: 0.0516</text>"
      ],
      "text/plain": [
       "<IPython.core.display.HTML object>"
      ]
     },
     "metadata": {},
     "output_type": "display_data"
    },
    {
     "data": {
      "text/html": [
       "<text style=color:green>i still have not read the 9thamp10th princess diaries saving francesca made me <text style=color:blue> <i>[laugh]</i></text> at the end . hmm those are easy books .: 0.7579</text>"
      ],
      "text/plain": [
       "<IPython.core.display.HTML object>"
      ]
     },
     "metadata": {},
     "output_type": "display_data"
    },
    {
     "data": {
      "text/html": [
       "<text style=color:green>i still have not read the 9thamp10th princess diaries saving francesca made me <text style=color:blue> <i>[laugh]</i></text> at the end . hmm those are easy books .: 0.7579</text>"
      ],
      "text/plain": [
       "<IPython.core.display.HTML object>"
      ]
     },
     "metadata": {},
     "output_type": "display_data"
    },
    {
     "data": {
      "text/html": [
       "<text style=color:red>i still have not read the 9thamp10th princess diaries saving francesca made me cry at the end . hmm those are <text style=color:blue> <i>[quick]</i></text> books .: -0.4767</text>"
      ],
      "text/plain": [
       "<IPython.core.display.HTML object>"
      ]
     },
     "metadata": {},
     "output_type": "display_data"
    },
    {
     "data": {
      "text/html": [
       "<text style=color:red>i still have not read the 9thamp10th princess diaries saving francesca made me cry at the end . hmm those are <text style=color:blue> <i>[enough]</i></text> books .: -0.4767</text>"
      ],
      "text/plain": [
       "<IPython.core.display.HTML object>"
      ]
     },
     "metadata": {},
     "output_type": "display_data"
    },
    {
     "data": {
      "text/html": [
       "<text style=color:red>i still have not read the 9thamp10th princess diaries saving francesca made me cry at the end . hmm those are <text style=color:blue> <i>[find]</i></text> books .: -0.4767</text>"
      ],
      "text/plain": [
       "<IPython.core.display.HTML object>"
      ]
     },
     "metadata": {},
     "output_type": "display_data"
    },
    {
     "data": {
      "text/html": [
       "<text style=color:red>i still have not read the 9thamp10th princess diaries saving francesca made me cry at the end . hmm those are <text style=color:blue> <i>[uneasy]</i></text> books .: -0.6908</text>"
      ],
      "text/plain": [
       "<IPython.core.display.HTML object>"
      ]
     },
     "metadata": {},
     "output_type": "display_data"
    },
    {
     "data": {
      "text/html": [
       "<text style=color:red>i still have not read the 9thamp10th princess diaries saving francesca made me cry at the end . hmm those are <text style=color:blue> <i>[difficult]</i></text> books .: -0.6808</text>"
      ],
      "text/plain": [
       "<IPython.core.display.HTML object>"
      ]
     },
     "metadata": {},
     "output_type": "display_data"
    },
    {
     "name": "stdout",
     "output_type": "stream",
     "text": [
      "\n",
      " my mom might have breast cancer will not find out anything for. like a week i am so worried! :-0.7234\n",
      "\n",
      "No antonyms found for word cancer\n",
      "Word cancer[NN] replaced with breast[NN]\n",
      "Word cancer[NN] replaced with prostate[NN]\n",
      "Word cancer[NN] replaced with disease[NN]\n",
      "Some antonyms for word like are ['dislike', 'unlike', 'unalike']\n",
      "Word like[IN] replaced with unlike[IN]\n",
      "Word like[IN] replaced with unalike[IN]\n",
      "Some antonyms for word worried are ['reassure']\n",
      "Word worried[JJ] replaced with worry[JJ]\n",
      "Word worried[JJ] replaced with concerned[JJ]\n",
      "Word worried[JJ] replaced with wary[JJ]\n",
      "Word worried[JJ] replaced with anxious[JJ]\n",
      "Word worried[JJ] replaced with afraid[JJ]\n",
      "Word worried[JJ] replaced with reassure[JJ]\n"
     ]
    },
    {
     "data": {
      "text/html": [
       "<text style=color:green>my mom might have breast <text style=color:blue> <i>[breast]</i></text> will not find out anything for . like a week i am so worried !: -0.1676</text>"
      ],
      "text/plain": [
       "<IPython.core.display.HTML object>"
      ]
     },
     "metadata": {},
     "output_type": "display_data"
    },
    {
     "data": {
      "text/html": [
       "<text style=color:green>my mom might have breast <text style=color:blue> <i>[prostate]</i></text> will not find out anything for . like a week i am so worried !: -0.1676</text>"
      ],
      "text/plain": [
       "<IPython.core.display.HTML object>"
      ]
     },
     "metadata": {},
     "output_type": "display_data"
    },
    {
     "data": {
      "text/html": [
       "<text style=color:green>my mom might have breast <text style=color:blue> <i>[disease]</i></text> will not find out anything for . like a week i am so worried !: -0.1676</text>"
      ],
      "text/plain": [
       "<IPython.core.display.HTML object>"
      ]
     },
     "metadata": {},
     "output_type": "display_data"
    },
    {
     "data": {
      "text/html": [
       "<text style=color:green>my mom might have breast cancer will not find out anything for . like a week i am so <text style=color:blue> <i>[concerned]</i></text> !: -0.4926</text>"
      ],
      "text/plain": [
       "<IPython.core.display.HTML object>"
      ]
     },
     "metadata": {},
     "output_type": "display_data"
    },
    {
     "data": {
      "text/html": [
       "<text style=color:green>my mom might have breast cancer will not find out anything for . like a week i am so <text style=color:blue> <i>[wary]</i></text> !: -0.4926</text>"
      ],
      "text/plain": [
       "<IPython.core.display.HTML object>"
      ]
     },
     "metadata": {},
     "output_type": "display_data"
    },
    {
     "data": {
      "text/html": [
       "<text style=color:green>my mom might have breast cancer will not find out anything for . like a week i am so <text style=color:blue> <i>[anxious]</i></text> !: -0.7011</text>"
      ],
      "text/plain": [
       "<IPython.core.display.HTML object>"
      ]
     },
     "metadata": {},
     "output_type": "display_data"
    },
    {
     "data": {
      "text/html": [
       "<text style=color:green>my mom might have breast cancer will not find out anything for . like a week i am so <text style=color:blue> <i>[afraid]</i></text> !: -0.4926</text>"
      ],
      "text/plain": [
       "<IPython.core.display.HTML object>"
      ]
     },
     "metadata": {},
     "output_type": "display_data"
    },
    {
     "data": {
      "text/html": [
       "<text style=color:green>my mom might have breast cancer will not find out anything for . like a week i am so <text style=color:blue> <i>[reassure]</i></text> !: 0.1301</text>"
      ],
      "text/plain": [
       "<IPython.core.display.HTML object>"
      ]
     },
     "metadata": {},
     "output_type": "display_data"
    },
    {
     "data": {
      "text/html": [
       "<text style=color:red>my mom might have breast cancer will not find out anything for . <text style=color:blue> <i>[unlike]</i></text> a week i am so worried !: -0.8205</text>"
      ],
      "text/plain": [
       "<IPython.core.display.HTML object>"
      ]
     },
     "metadata": {},
     "output_type": "display_data"
    },
    {
     "data": {
      "text/html": [
       "<text style=color:red>my mom might have breast cancer will not find out anything for . <text style=color:blue> <i>[unalike]</i></text> a week i am so worried !: -0.8205</text>"
      ],
      "text/plain": [
       "<IPython.core.display.HTML object>"
      ]
     },
     "metadata": {},
     "output_type": "display_data"
    },
    {
     "data": {
      "text/html": [
       "<text style=color:red>my mom might have breast cancer will not find out anything for . like a week i am so <text style=color:blue> <i>[worry]</i></text> !: -0.7866</text>"
      ],
      "text/plain": [
       "<IPython.core.display.HTML object>"
      ]
     },
     "metadata": {},
     "output_type": "display_data"
    },
    {
     "name": "stdout",
     "output_type": "stream",
     "text": [
      "\n",
      " going to sleep. hoping tomorrow is a better day. :0.6908\n",
      "\n",
      "Some antonyms for word hoping are ['despair']\n",
      "No POS words found for word hoping with tag VBG\n",
      " -- No POS approved words! -- for word hoping\n",
      " some non-POS:['hopes', 'hoped', 'hope', 'chance']\n",
      "Some antonyms for word better are ['bad', 'worsen', 'evil']\n",
      "No POS words found for word better with tag JJR\n",
      " -- No POS approved words! -- for word better\n",
      " some non-POS:['good', 'need', 'get', 'make']\n",
      " -- No new Strings generated ---\n",
      "\n",
      "\n",
      "\n",
      "  lol.. wish they understood daylight savings has ended though and breakfast is an hour later  they keep waking the kids up too:0.4019\n",
      "\n",
      "Some antonyms for word wish are ['begrudge']\n",
      "Word wish[NN] replaced with tell[NN]\n",
      "\n",
      "\n",
      "No tweets found when trying to do Positive=True\n",
      "\n",
      "\n"
     ]
    },
    {
     "data": {
      "text/html": [
       "<text style=color:DarkGray>lol.. <text style=color:blue> <i>[tell]</i></text> they understood daylight savings has ended though and breakfast is an hour later they keep waking the kids up too: 0.0</text>"
      ],
      "text/plain": [
       "<IPython.core.display.HTML object>"
      ]
     },
     "metadata": {},
     "output_type": "display_data"
    }
   ],
   "source": [
    "def runThroughTweets():\n",
    "    \n",
    "    tweets_df = pd.read_csv( pathToDatasets + 'cleanedTweets.csv' , nrows=NUM_OF_TWEETS, skiprows=TWEET_START)\n",
    "\n",
    "    tweets = tweets_df.values\n",
    "\n",
    "    listOfObjects = []\n",
    "    for counter,tweet in enumerate(tweets):\n",
    "        tweet = tweet[0]\n",
    "        mainSentiment = senty.polarity_scores(tweet)['compound']\n",
    "        if(mainSentiment == 0):\n",
    "            continue\n",
    "        print(\"\\n {0}:{1}\\n\".format(tweet,mainSentiment))   \n",
    "        sentenceObj = Sentence(tweet, mainSentiment)\n",
    "        sentenceObj = getAlternativeSentences(sentenceObj)\n",
    "        alternateTweets = (sentenceObj.alternateSentences)[:]\n",
    "        if(alternateTweets == [] or alternateTweets == None):\n",
    "            print(\" -- No new Strings generated ---\\n\\n\")\n",
    "            continue\n",
    "        sentenceObj = shiftSentiment(sentenceObj, True);\n",
    "        printStrings(sentenceObj)\n",
    "        sentenceObj = shiftSentiment(sentenceObj, False);\n",
    "        printStrings(sentenceObj)\n",
    "    \n",
    "runThroughTweets()"
   ]
  },
  {
   "cell_type": "markdown",
   "metadata": {},
   "source": [
    "## Testing Code\n"
   ]
  },
  {
   "cell_type": "code",
   "execution_count": 8,
   "metadata": {},
   "outputs": [],
   "source": [
    "specificWord = \"good\"\n",
    "def testOneWord(word=\"\"):\n",
    "    if(word==\"\"):\n",
    "        return\n",
    "    print(word)"
   ]
  },
  {
   "cell_type": "markdown",
   "metadata": {},
   "source": [
    "## Main Cell\n"
   ]
  },
  {
   "cell_type": "code",
   "execution_count": 12,
   "metadata": {
    "scrolled": false
   },
   "outputs": [
    {
     "name": "stdout",
     "output_type": "stream",
     "text": [
      "\n",
      " I really hate hot chocolate, but i enjoy hot coffee!:0.4759\n",
      "\n",
      "Some antonyms for word hate are ['love']\n",
      "Word hate[JJ] replaced with racist[JJ]\n",
      "Word hate[JJ] replaced with fear[JJ]\n",
      "Some antonyms for word enjoy are ['suffer']\n",
      "Word enjoy[VBP] replaced with prefer[VBP]\n",
      "Word enjoy[VBP] replaced with feel[VBP]\n",
      "Word enjoy[VBP] replaced with want[VBP]\n",
      "Word enjoy[VBP] replaced with suffer[VBP]\n"
     ]
    },
    {
     "data": {
      "text/html": [
       "<text style=color:green>i really <text style=color:blue> <i>[fear]</i></text> hot chocolate , but i enjoy hot coffee !: 0.518</text>"
      ],
      "text/plain": [
       "<IPython.core.display.HTML object>"
      ]
     },
     "metadata": {},
     "output_type": "display_data"
    },
    {
     "data": {
      "text/html": [
       "<text style=color:red>i really <text style=color:blue> <i>[racist]</i></text> hot chocolate , but i enjoy hot coffee !: 0.4489</text>"
      ],
      "text/plain": [
       "<IPython.core.display.HTML object>"
      ]
     },
     "metadata": {},
     "output_type": "display_data"
    },
    {
     "data": {
      "text/html": [
       "<text style=color:red>i really hate hot chocolate , but i <text style=color:blue> <i>[prefer]</i></text> hot coffee !: -0.4192</text>"
      ],
      "text/plain": [
       "<IPython.core.display.HTML object>"
      ]
     },
     "metadata": {},
     "output_type": "display_data"
    },
    {
     "data": {
      "text/html": [
       "<text style=color:red>i really hate hot chocolate , but i <text style=color:blue> <i>[feel]</i></text> hot coffee !: -0.4192</text>"
      ],
      "text/plain": [
       "<IPython.core.display.HTML object>"
      ]
     },
     "metadata": {},
     "output_type": "display_data"
    },
    {
     "data": {
      "text/html": [
       "<text style=color:red>i really hate hot chocolate , but i <text style=color:blue> <i>[want]</i></text> hot coffee !: -0.3266</text>"
      ],
      "text/plain": [
       "<IPython.core.display.HTML object>"
      ]
     },
     "metadata": {},
     "output_type": "display_data"
    },
    {
     "data": {
      "text/html": [
       "<text style=color:red>i really hate hot chocolate , but i <text style=color:blue> <i>[suffer]</i></text> hot coffee !: -0.8195</text>"
      ],
      "text/plain": [
       "<IPython.core.display.HTML object>"
      ]
     },
     "metadata": {},
     "output_type": "display_data"
    },
    {
     "name": "stdout",
     "output_type": "stream",
     "text": [
      "\n",
      " I really fucking hate this, what a piece of shit:-0.8347\n",
      "\n",
      "Some antonyms for word hate are ['love']\n",
      "Word hate[NN] replaced with racist[NN]\n",
      "Word hate[NN] replaced with racism[NN]\n",
      "Word hate[NN] replaced with anyone[NN]\n",
      "Word hate[NN] replaced with fear[NN]\n",
      "No antonyms found for word shit\n",
      "Word shit[NN] replaced with fuck[NN]\n",
      "Word shit[NN] replaced with crap[NN]\n",
      "Word shit[NN] replaced with kinda[NN]\n",
      "Word shit[NN] replaced with damn[NN]\n"
     ]
    },
    {
     "data": {
      "text/html": [
       "<text style=color:green>i really fucking <text style=color:blue> <i>[anyone]</i></text> this , what a piece of shit: -0.5574</text>"
      ],
      "text/plain": [
       "<IPython.core.display.HTML object>"
      ]
     },
     "metadata": {},
     "output_type": "display_data"
    },
    {
     "data": {
      "text/html": [
       "<text style=color:green>i really fucking <text style=color:blue> <i>[fear]</i></text> this , what a piece of shit: -0.8111</text>"
      ],
      "text/plain": [
       "<IPython.core.display.HTML object>"
      ]
     },
     "metadata": {},
     "output_type": "display_data"
    },
    {
     "data": {
      "text/html": [
       "<text style=color:green>i really fucking hate this , what a piece of <text style=color:blue> <i>[fuck]</i></text>: -0.8304</text>"
      ],
      "text/plain": [
       "<IPython.core.display.HTML object>"
      ]
     },
     "metadata": {},
     "output_type": "display_data"
    },
    {
     "data": {
      "text/html": [
       "<text style=color:green>i really fucking hate this , what a piece of <text style=color:blue> <i>[crap]</i></text>: -0.7828</text>"
      ],
      "text/plain": [
       "<IPython.core.display.HTML object>"
      ]
     },
     "metadata": {},
     "output_type": "display_data"
    },
    {
     "data": {
      "text/html": [
       "<text style=color:green>i really fucking hate this , what a piece of <text style=color:blue> <i>[kinda]</i></text>: -0.6453</text>"
      ],
      "text/plain": [
       "<IPython.core.display.HTML object>"
      ]
     },
     "metadata": {},
     "output_type": "display_data"
    },
    {
     "data": {
      "text/html": [
       "<text style=color:green>i really fucking hate this , what a piece of <text style=color:blue> <i>[damn]</i></text>: -0.7889</text>"
      ],
      "text/plain": [
       "<IPython.core.display.HTML object>"
      ]
     },
     "metadata": {},
     "output_type": "display_data"
    },
    {
     "data": {
      "text/html": [
       "<text style=color:red>i really fucking <text style=color:blue> <i>[racist]</i></text> this , what a piece of shit: -0.847</text>"
      ],
      "text/plain": [
       "<IPython.core.display.HTML object>"
      ]
     },
     "metadata": {},
     "output_type": "display_data"
    },
    {
     "data": {
      "text/html": [
       "<text style=color:red>i really fucking <text style=color:blue> <i>[racism]</i></text> this , what a piece of shit: -0.8508</text>"
      ],
      "text/plain": [
       "<IPython.core.display.HTML object>"
      ]
     },
     "metadata": {},
     "output_type": "display_data"
    }
   ],
   "source": [
    "specificString = \"\"\n",
    "def specificString(textString=\"\"):\n",
    "    if(textString == \"\" or textString == None):\n",
    "        return\n",
    "    mainSentiment = senty.polarity_scores(textString)['compound']\n",
    "    if(mainSentiment == 0):\n",
    "        print(\"{} \\n No sentiment found in sentence\".format(textString));\n",
    "        return;\n",
    "    print(\"\\n {0}:{1}\\n\".format(textString,mainSentiment))   \n",
    "    sentenceObj = Sentence(textString, mainSentiment)\n",
    "    sentenceObj = getAlternativeSentences(sentenceObj)\n",
    "    alternateTweets = (sentenceObj.alternateSentences)[:]\n",
    "    if(alternateTweets == [] or alternateTweets == None):\n",
    "        print(\" -- No new Strings generated ---\\n\\n\")\n",
    "        return\n",
    "    sentenceObj = shiftSentiment(sentenceObj, True);\n",
    "    printStrings(sentenceObj)\n",
    "    sentenceObj = shiftSentiment(sentenceObj, False);\n",
    "    printStrings(sentenceObj)\n",
    "    \n",
    "# specificString(\"Bristol University has a wonderful worklife balance\")\n",
    "# specificString(\"Bristol University has an incredibly good worklife balance\")\n",
    "# specificString(\"Bristol University has a good worklife balance\")\n",
    "# specificString(\"Bristol University has an incredible worklife balance\")\n",
    "# specificString(\"This was hard but fun to make!\")\n",
    "\n",
    "global VERBOSE_PRINTING\n",
    "VERBOSE_PRINTING = True\n",
    "# specificString(\"I hate bilal i think he's an idiot and I dislike his company\")\n",
    "specificString(\"I really hate hot chocolate, but i enjoy hot coffee!\")\n"
   ]
  },
  {
   "cell_type": "code",
   "execution_count": null,
   "metadata": {},
   "outputs": [],
   "source": []
  }
 ],
 "metadata": {
  "kernelspec": {
   "display_name": "Python 3",
   "language": "python",
   "name": "python3"
  },
  "language_info": {
   "codemirror_mode": {
    "name": "ipython",
    "version": 3
   },
   "file_extension": ".py",
   "mimetype": "text/x-python",
   "name": "python",
   "nbconvert_exporter": "python",
   "pygments_lexer": "ipython3",
   "version": "3.6.5"
  }
 },
 "nbformat": 4,
 "nbformat_minor": 2
}
