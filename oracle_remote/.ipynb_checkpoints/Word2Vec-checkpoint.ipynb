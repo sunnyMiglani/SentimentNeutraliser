{
 "cells": [
  {
   "cell_type": "code",
   "execution_count": 1,
   "metadata": {},
   "outputs": [],
   "source": [
    "import gensim\n",
    "from sklearn.manifold import TSNE\n",
    "from gensim.models import Word2Vec\n",
    "from gensim.models import KeyedVectors\n",
    "import gensim.downloader as api\n",
    "import numpy as np\n",
    "import re\n",
    "import csv\n",
    "\n",
    "import pandas as pd\n",
    "import pprint\n",
    "\n",
    "import string\n",
    "import nltk\n",
    "\n",
    "\n",
    "from IPython.display import HTML\n"
   ]
  },
  {
   "cell_type": "code",
   "execution_count": 2,
   "metadata": {
    "scrolled": true
   },
   "outputs": [
    {
     "name": "stdout",
     "output_type": "stream",
     "text": [
      "[nltk_data] Downloading package vader_lexicon to\n",
      "[nltk_data]     /home/ubuntu/nltk_data...\n",
      "[nltk_data]   Package vader_lexicon is already up-to-date!\n",
      "[nltk_data] Downloading package punkt to /home/ubuntu/nltk_data...\n",
      "[nltk_data]   Package punkt is already up-to-date!\n",
      "[nltk_data] Downloading package averaged_perceptron_tagger to\n",
      "[nltk_data]     /home/ubuntu/nltk_data...\n",
      "[nltk_data]   Package averaged_perceptron_tagger is already up-to-\n",
      "[nltk_data]       date!\n"
     ]
    },
    {
     "data": {
      "text/plain": [
       "True"
      ]
     },
     "execution_count": 2,
     "metadata": {},
     "output_type": "execute_result"
    }
   ],
   "source": [
    "pathToDatasets = '../datasets/'\n",
    "filePath = '../datasets/GoogleNews-vectors-negative300.bin'\n",
    "word_vectors = api.load(\"glove-wiki-gigaword-100\")\n",
    "nltk.download('vader_lexicon')\n",
    "nltk.download('punkt')\n",
    "nltk.download('averaged_perceptron_tagger')"
   ]
  },
  {
   "cell_type": "code",
   "execution_count": 10,
   "metadata": {},
   "outputs": [],
   "source": [
    "from nltk.sentiment.vader import SentimentIntensityAnalyzer\n",
    "from nltk.tokenize import word_tokenize\n",
    "\n",
    "\n",
    "\n",
    "senty = SentimentIntensityAnalyzer()\n",
    "vocabulary = word_vectors.vocab;\n",
    "\n",
    "\n",
    "NUMBER_OF_ALTERNATIVES = 5\n",
    "TWEET_START = 0\n",
    "NUM_OF_TWEETS = 10"
   ]
  },
  {
   "cell_type": "code",
   "execution_count": 4,
   "metadata": {},
   "outputs": [],
   "source": [
    "def cstr(s, color='black'):\n",
    "    return \"<text style=color:{}>{}</text>\".format(color, s)"
   ]
  },
  {
   "cell_type": "markdown",
   "metadata": {},
   "source": [
    "## Utility Code"
   ]
  },
  {
   "cell_type": "code",
   "execution_count": 5,
   "metadata": {},
   "outputs": [],
   "source": [
    "def cleanAndTokenizeText(text):\n",
    "    text = text.lower()\n",
    "    newString = \"\"\n",
    "    for char in text:\n",
    "        if char not in string.punctuation:\n",
    "            newString += char\n",
    "    text = word_tokenize(newString)\n",
    "    return text;\n",
    "\n",
    "def listReplacements(word):\n",
    "    if(word not in vocabulary):\n",
    "        return []\n",
    "    possibleReplacements = [word[0] for word in word_vectors.most_similar(word,topn=NUMBER_OF_ALTERNATIVES)]\n",
    "    return possibleReplacements\n",
    "\n",
    "def getPOSTags(tweet):\n",
    "    tags = nltk.pos_tag(tweet)\n",
    "    return(tags)"
   ]
  },
  {
   "cell_type": "markdown",
   "metadata": {},
   "source": [
    "## NLP Utility Code"
   ]
  },
  {
   "cell_type": "code",
   "execution_count": 6,
   "metadata": {},
   "outputs": [],
   "source": [
    "def listReplacements(word):\n",
    "    if(word not in vocabulary):\n",
    "        return []\n",
    "    possibleReplacements = [word[0] for word in word_vectors.most_similar(word,topn=NUMBER_OF_ALTERNATIVES)]\n",
    "    return possibleReplacements\n",
    "\n",
    "\n",
    "def posApprovedReplacements(alternativeWords, userTokens, indexOfToken):\n",
    "    if(alternativeWords == []):\n",
    "        return []\n",
    "    tempTokens = userTokens[:]\n",
    "    truePOSTokens = getPOSTags(tempTokens)\n",
    "    validWords = []\n",
    "    \n",
    "    mainTag = truePOSTokens[indexOfToken][1]\n",
    "    mainWord = userTokens[indexOfToken]\n",
    "    \n",
    "    for ind,word in enumerate(alternativeWords):\n",
    "        tempTokens[indexOfToken] = word\n",
    "        posTags = getPOSTags(tempTokens)\n",
    "        newTag = (posTags[indexOfToken])[1]\n",
    "\n",
    "        if(str(newTag) == str(mainTag)):\n",
    "            print(\"Word {0}[{1}] replaced with {2}[{3}]\".format(mainWord, mainTag, word,newTag))\n",
    "            validWords.append(word)\n",
    "    return validWords\n",
    "        "
   ]
  },
  {
   "cell_type": "code",
   "execution_count": 7,
   "metadata": {},
   "outputs": [],
   "source": [
    "def getAlternativeSentences(tweet, sentimentOfTweet):\n",
    "    userInputTokens = cleanAndTokenizeText(tweet)\n",
    "    \n",
    "   \n",
    "    alternativeStrings = []\n",
    "    for ind,word in enumerate(userInputTokens):\n",
    "        \n",
    "        score = senty.polarity_scores(word)['compound'] # get the aggregated score!\n",
    "        newUserTokens = userInputTokens[:]\n",
    "        \n",
    "        if(score != 0.0):\n",
    "            replacements = listReplacements(word)       \n",
    "            replacements = posApprovedReplacements(replacements[:], newUserTokens[:], ind)\n",
    "            if(replacements == []):\n",
    "                continue          \n",
    "            print(\"Word changed: {0}\".format(word));\n",
    "            for newWord in replacements:\n",
    "                \n",
    "                newUserTokens[ind] = cstr(\" <i>[{0}]</i> \".format(newWord), 'blue');\n",
    "                newString = ' '.join(newUserTokens)\n",
    "                sentimentOfNewString = senty.polarity_scores(newString)['compound']\n",
    "             \n",
    "            \n",
    "                if(sentimentOfNewString == 0):\n",
    "                    continue\n",
    "                \n",
    "                alternativeStrings.append(newString)\n",
    "    return alternativeStrings;"
   ]
  },
  {
   "cell_type": "markdown",
   "metadata": {},
   "source": [
    "## Main Cells"
   ]
  },
  {
   "cell_type": "code",
   "execution_count": 18,
   "metadata": {
    "scrolled": false
   },
   "outputs": [
    {
     "name": "stdout",
     "output_type": "stream",
     "text": [
      "  - awww that's a bummer.  you shoulda got david carr of third day to do it. ;d\n",
      "Word bummer[NN] replaced with copout[NN]\n",
      "Word bummer[NN] replaced with crapshoot[NN]\n",
      "Word bummer[NN] replaced with stinker[NN]\n",
      "Word bummer[NN] replaced with misnomer[NN]\n",
      "Word bummer[NN] replaced with hogwash[NN]\n",
      "Word changed: bummer\n",
      "is upset that he can't update his facebook by texting it... and might cry as a result  school today also. blah!\n",
      "Word upset[JJ] replaced with surprised[JJ]\n",
      "Word changed: upset\n",
      "Word cry[VB] replaced with shout[VB]\n",
      "Word cry[VB] replaced with scream[VB]\n",
      "Word changed: cry\n",
      "Word blah[VBD] replaced with moo[VBD]\n",
      "Word blah[VBD] replaced with goy[VBD]\n",
      "Word blah[VBD] replaced with huh[VBD]\n",
      "Word blah[VBD] replaced with doo[VBD]\n",
      "Word changed: blah\n",
      "\n",
      "NUM(1) is upset that he can't update his facebook by texting it... and might cry as a result  school today also. blah!:-0.75\n",
      "\n"
     ]
    },
    {
     "data": {
      "text/html": [
       "<text style=color:green>is <text style=color:blue> <i>[surprised]</i> </text> that he cant update his facebook by texting it and might cry as a result school today also blah: -0.5423</text>"
      ],
      "text/plain": [
       "<IPython.core.display.HTML object>"
      ]
     },
     "metadata": {},
     "output_type": "display_data"
    },
    {
     "data": {
      "text/html": [
       "<text style=color:green>is upset that he cant update his facebook by texting it and might <text style=color:blue> <i>[shout]</i> </text> as a result school today also blah: -0.4588</text>"
      ],
      "text/plain": [
       "<IPython.core.display.HTML object>"
      ]
     },
     "metadata": {},
     "output_type": "display_data"
    },
    {
     "data": {
      "text/html": [
       "<text style=color:green>is upset that he cant update his facebook by texting it and might <text style=color:blue> <i>[scream]</i> </text> as a result school today also blah: -0.4588</text>"
      ],
      "text/plain": [
       "<IPython.core.display.HTML object>"
      ]
     },
     "metadata": {},
     "output_type": "display_data"
    },
    {
     "data": {
      "text/html": [
       "<text style=color:green>is upset that he cant update his facebook by texting it and might cry as a result school today also <text style=color:blue> <i>[moo]</i> </text>: -0.6908</text>"
      ],
      "text/plain": [
       "<IPython.core.display.HTML object>"
      ]
     },
     "metadata": {},
     "output_type": "display_data"
    },
    {
     "data": {
      "text/html": [
       "<text style=color:green>is upset that he cant update his facebook by texting it and might cry as a result school today also <text style=color:blue> <i>[goy]</i> </text>: -0.6908</text>"
      ],
      "text/plain": [
       "<IPython.core.display.HTML object>"
      ]
     },
     "metadata": {},
     "output_type": "display_data"
    },
    {
     "data": {
      "text/html": [
       "<text style=color:green>is upset that he cant update his facebook by texting it and might cry as a result school today also <text style=color:blue> <i>[huh]</i> </text>: -0.6908</text>"
      ],
      "text/plain": [
       "<IPython.core.display.HTML object>"
      ]
     },
     "metadata": {},
     "output_type": "display_data"
    },
    {
     "data": {
      "text/html": [
       "<text style=color:green>is upset that he cant update his facebook by texting it and might cry as a result school today also <text style=color:blue> <i>[doo]</i> </text>: -0.6908</text>"
      ],
      "text/plain": [
       "<IPython.core.display.HTML object>"
      ]
     },
     "metadata": {},
     "output_type": "display_data"
    },
    {
     "name": "stdout",
     "output_type": "stream",
     "text": [
      " i dived many times for the ball. managed to save 50%  the rest go out of bounds\n",
      "Word save[VB] replaced with saved[VB]\n",
      "Word save[VB] replaced with help[VB]\n",
      "Word save[VB] replaced with put[VB]\n",
      "Word changed: save\n",
      "my whole body feels itchy and like its on fire \n",
      "Word itchy[VBP] replaced with scratchy[VBP]\n",
      "Word itchy[VBP] replaced with droopy[VBP]\n",
      "Word changed: itchy\n",
      "Word fire[NN] replaced with firing[NN]\n",
      "Word fire[NN] replaced with attack[NN]\n",
      "Word fire[NN] replaced with explosion[NN]\n",
      "Word changed: fire\n",
      "\n",
      "NUM(3) my whole body feels itchy and like its on fire :-0.25\n",
      "\n"
     ]
    },
    {
     "data": {
      "text/html": [
       "<text style=color:green>my whole body feels <text style=color:blue> <i>[scratchy]</i> </text> and like its on fire: 0.0258</text>"
      ],
      "text/plain": [
       "<IPython.core.display.HTML object>"
      ]
     },
     "metadata": {},
     "output_type": "display_data"
    },
    {
     "data": {
      "text/html": [
       "<text style=color:green>my whole body feels <text style=color:blue> <i>[droopy]</i> </text> and like its on fire: 0.0258</text>"
      ],
      "text/plain": [
       "<IPython.core.display.HTML object>"
      ]
     },
     "metadata": {},
     "output_type": "display_data"
    },
    {
     "data": {
      "text/html": [
       "<text style=color:green>my whole body feels itchy and like its on <text style=color:blue> <i>[firing]</i> </text>: 0.1027</text>"
      ],
      "text/plain": [
       "<IPython.core.display.HTML object>"
      ]
     },
     "metadata": {},
     "output_type": "display_data"
    },
    {
     "data": {
      "text/html": [
       "<text style=color:green>my whole body feels itchy and like its on <text style=color:blue> <i>[attack]</i> </text>: 0.1027</text>"
      ],
      "text/plain": [
       "<IPython.core.display.HTML object>"
      ]
     },
     "metadata": {},
     "output_type": "display_data"
    },
    {
     "data": {
      "text/html": [
       "<text style=color:green>my whole body feels itchy and like its on <text style=color:blue> <i>[explosion]</i> </text>: 0.1027</text>"
      ],
      "text/plain": [
       "<IPython.core.display.HTML object>"
      ]
     },
     "metadata": {},
     "output_type": "display_data"
    },
    {
     "name": "stdout",
     "output_type": "stream",
     "text": [
      " no it's not behaving at all. i'm mad. why am i here? because i can't see you all over there. \n",
      "Word no[DT] replaced with any[DT]\n",
      "Word changed: no\n",
      "Word mad[JJ] replaced with crazy[JJ]\n",
      "Word changed: mad\n",
      "\n",
      "NUM(4)  no it's not behaving at all. i'm mad. why am i here? because i can't see you all over there. :-0.6597\n",
      "\n"
     ]
    },
    {
     "data": {
      "text/html": [
       "<text style=color:green><text style=color:blue> <i>[any]</i> </text> its not behaving at all im mad why am i here because i cant see you all over there: -0.4939</text>"
      ],
      "text/plain": [
       "<IPython.core.display.HTML object>"
      ]
     },
     "metadata": {},
     "output_type": "display_data"
    },
    {
     "data": {
      "text/html": [
       "<text style=color:green>no its not behaving at all im <text style=color:blue> <i>[crazy]</i> </text> why am i here because i cant see you all over there: -0.296</text>"
      ],
      "text/plain": [
       "<IPython.core.display.HTML object>"
      ]
     },
     "metadata": {},
     "output_type": "display_data"
    },
    {
     "name": "stdout",
     "output_type": "stream",
     "text": [
      " not the whole crew \n",
      "need a hug \n",
      "Word hug[NN] replaced with hugs[NN]\n",
      "Word hug[NN] replaced with kiss[NN]\n",
      "Word hug[NN] replaced with hugged[NN]\n",
      "Word hug[NN] replaced with goodbye[NN]\n",
      "Word changed: hug\n",
      " hey  long time no see! yes.. rains a bit only a bit  lol  i'm fine thanks  how's you ?\n",
      "Word no[DT] replaced with any[DT]\n",
      "Word changed: no\n",
      "Word yes[RB] replaced with yeah[RB]\n",
      "Word yes[RB] replaced with i[RB]\n",
      "Word changed: yes\n",
      "Word lol[JJ] replaced with coxhill[JJ]\n",
      "Word lol[JJ] replaced with bellowed[JJ]\n",
      "Word lol[JJ] replaced with kaboom[JJ]\n",
      "Word lol[JJ] replaced with shouts[JJ]\n",
      "Word changed: lol\n",
      "Word fine[JJ] replaced with enough[JJ]\n",
      "Word fine[JJ] replaced with good[JJ]\n",
      "Word changed: fine\n",
      "\n",
      "NUM(7)  hey  long time no see! yes.. rains a bit only a bit  lol  i'm fine thanks  how's you ?:0.68\n",
      "\n"
     ]
    },
    {
     "data": {
      "text/html": [
       "<text style=color:green>hey long time <text style=color:blue> <i>[any]</i> </text> see yes rains a bit only a bit lol im fine thanks hows you: 0.8481</text>"
      ],
      "text/plain": [
       "<IPython.core.display.HTML object>"
      ]
     },
     "metadata": {},
     "output_type": "display_data"
    },
    {
     "data": {
      "text/html": [
       "<text style=color:red>hey long time no see <text style=color:blue> <i>[yeah]</i> </text> rains a bit only a bit lol im fine thanks hows you: 0.6486</text>"
      ],
      "text/plain": [
       "<IPython.core.display.HTML object>"
      ]
     },
     "metadata": {},
     "output_type": "display_data"
    },
    {
     "data": {
      "text/html": [
       "<text style=color:red>hey long time no see <text style=color:blue> <i>[i]</i> </text> rains a bit only a bit lol im fine thanks hows you: 0.6486</text>"
      ],
      "text/plain": [
       "<IPython.core.display.HTML object>"
      ]
     },
     "metadata": {},
     "output_type": "display_data"
    },
    {
     "data": {
      "text/html": [
       "<text style=color:red>hey long time no see yes rains a bit only a bit <text style=color:blue> <i>[coxhill]</i> </text> im fine thanks hows you: 0.6369</text>"
      ],
      "text/plain": [
       "<IPython.core.display.HTML object>"
      ]
     },
     "metadata": {},
     "output_type": "display_data"
    },
    {
     "data": {
      "text/html": [
       "<text style=color:red>hey long time no see yes rains a bit only a bit <text style=color:blue> <i>[bellowed]</i> </text> im fine thanks hows you: 0.6369</text>"
      ],
      "text/plain": [
       "<IPython.core.display.HTML object>"
      ]
     },
     "metadata": {},
     "output_type": "display_data"
    },
    {
     "data": {
      "text/html": [
       "<text style=color:red>hey long time no see yes rains a bit only a bit <text style=color:blue> <i>[kaboom]</i> </text> im fine thanks hows you: 0.6369</text>"
      ],
      "text/plain": [
       "<IPython.core.display.HTML object>"
      ]
     },
     "metadata": {},
     "output_type": "display_data"
    },
    {
     "data": {
      "text/html": [
       "<text style=color:red>hey long time no see yes rains a bit only a bit <text style=color:blue> <i>[shouts]</i> </text> im fine thanks hows you: 0.6369</text>"
      ],
      "text/plain": [
       "<IPython.core.display.HTML object>"
      ]
     },
     "metadata": {},
     "output_type": "display_data"
    },
    {
     "data": {
      "text/html": [
       "<text style=color:green>hey long time no see yes rains a bit only a bit lol im <text style=color:blue> <i>[enough]</i> </text> thanks hows you: 0.7351</text>"
      ],
      "text/plain": [
       "<IPython.core.display.HTML object>"
      ]
     },
     "metadata": {},
     "output_type": "display_data"
    },
    {
     "data": {
      "text/html": [
       "<text style=color:green>hey long time no see yes rains a bit only a bit lol im <text style=color:blue> <i>[good]</i> </text> thanks hows you: 0.7351</text>"
      ],
      "text/plain": [
       "<IPython.core.display.HTML object>"
      ]
     },
     "metadata": {},
     "output_type": "display_data"
    },
    {
     "name": "stdout",
     "output_type": "stream",
     "text": [
      " nope they didn't have it \n",
      " que me muera ? \n"
     ]
    }
   ],
   "source": [
    "def runThroughTweets():\n",
    "\n",
    "    tweets_df = pd.read_csv( pathToDatasets + 'cleanedTweets.csv' , nrows=NUM_OF_TWEETS, skiprows=TWEET_START)\n",
    "\n",
    "    tweets = tweets_df.values\n",
    "\n",
    "    \n",
    "    for counter,tweet in enumerate(tweets):\n",
    "        tweet = tweet[0]\n",
    "        mainSentiment = senty.polarity_scores(tweet)['compound']\n",
    "        if(mainSentiment == 0):\n",
    "            continue\n",
    "       \n",
    "        newStrings = getAlternativeSentences(tweet, mainSentiment)\n",
    "        if(newStrings == [] or newStrings == None):\n",
    "            continue\n",
    "        print(\"\\nNUM({2}) {0}:{1}\\n\".format(tweet,mainSentiment, counter))\n",
    "        for alteredTweet in newStrings:\n",
    "            sentimentOfNewString = senty.polarity_scores(alteredTweet)['compound']\n",
    "            if((sentimentOfNewString) >= (mainSentiment)):\n",
    "                display(HTML(cstr(\"{0}: {1}\".format(alteredTweet,sentimentOfNewString),'green')))\n",
    "            else:\n",
    "                display(HTML(cstr(\"{0}: {1}\".format(alteredTweet,sentimentOfNewString),'red')))\n",
    "    \n",
    "    \n",
    "runThroughTweets()"
   ]
  },
  {
   "cell_type": "code",
   "execution_count": null,
   "metadata": {},
   "outputs": [],
   "source": []
  }
 ],
 "metadata": {
  "kernelspec": {
   "display_name": "Python 3",
   "language": "python",
   "name": "python3"
  },
  "language_info": {
   "codemirror_mode": {
    "name": "ipython",
    "version": 3
   },
   "file_extension": ".py",
   "mimetype": "text/x-python",
   "name": "python",
   "nbconvert_exporter": "python",
   "pygments_lexer": "ipython3",
   "version": "3.6.5"
  }
 },
 "nbformat": 4,
 "nbformat_minor": 2
}
