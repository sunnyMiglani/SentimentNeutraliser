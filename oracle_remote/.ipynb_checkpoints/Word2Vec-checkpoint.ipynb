{
 "cells": [
  {
   "cell_type": "code",
   "execution_count": 1,
   "metadata": {},
   "outputs": [],
   "source": [
    "import gensim\n",
    "from sklearn.manifold import TSNE\n",
    "from gensim.models import Word2Vec\n",
    "from gensim.models import KeyedVectors\n",
    "import gensim.downloader as api\n",
    "import numpy as np\n",
    "import re\n",
    "import csv\n",
    "\n",
    "import pandas as pd\n",
    "import pprint\n",
    "\n",
    "import string\n",
    "import nltk\n",
    "\n",
    "\n",
    "from IPython.display import HTML\n"
   ]
  },
  {
   "cell_type": "code",
   "execution_count": 2,
   "metadata": {
    "scrolled": true
   },
   "outputs": [
    {
     "name": "stdout",
     "output_type": "stream",
     "text": [
      "[nltk_data] Downloading package vader_lexicon to\n",
      "[nltk_data]     /home/ubuntu/nltk_data...\n",
      "[nltk_data]   Package vader_lexicon is already up-to-date!\n",
      "[nltk_data] Downloading package punkt to /home/ubuntu/nltk_data...\n",
      "[nltk_data]   Package punkt is already up-to-date!\n",
      "[nltk_data] Downloading package averaged_perceptron_tagger to\n",
      "[nltk_data]     /home/ubuntu/nltk_data...\n",
      "[nltk_data]   Package averaged_perceptron_tagger is already up-to-\n",
      "[nltk_data]       date!\n"
     ]
    },
    {
     "data": {
      "text/plain": [
       "True"
      ]
     },
     "execution_count": 2,
     "metadata": {},
     "output_type": "execute_result"
    }
   ],
   "source": [
    "pathToDatasets = '../datasets/'\n",
    "filePath = '../datasets/GoogleNews-vectors-negative300.bin'\n",
    "word_vectors = api.load(\"glove-wiki-gigaword-100\")\n",
    "nltk.download('vader_lexicon')\n",
    "nltk.download('punkt')\n",
    "nltk.download('averaged_perceptron_tagger')"
   ]
  },
  {
   "cell_type": "code",
   "execution_count": 11,
   "metadata": {},
   "outputs": [],
   "source": [
    "from nltk.sentiment.vader import SentimentIntensityAnalyzer\n",
    "from nltk.tokenize import word_tokenize\n",
    "\n",
    "\n",
    "\n",
    "senty = SentimentIntensityAnalyzer()\n",
    "vocabulary = word_vectors.vocab;\n",
    "\n",
    "\n",
    "NUMBER_OF_ALTERNATIVES = 7\n",
    "TWEET_START = 75\n",
    "NUM_OF_TWEETS = 20\n",
    "\n",
    "punctuation = r\"\\\"#$%&'()+-/:;<=>?@[\\]^_`{|}~\""
   ]
  },
  {
   "cell_type": "code",
   "execution_count": 4,
   "metadata": {
    "scrolled": true
   },
   "outputs": [],
   "source": [
    "def cstr(s, color='black'):\n",
    "    return \"<text style=color:{}>{}</text>\".format(color, s)"
   ]
  },
  {
   "cell_type": "markdown",
   "metadata": {},
   "source": [
    "## Utility Code"
   ]
  },
  {
   "cell_type": "code",
   "execution_count": 5,
   "metadata": {},
   "outputs": [],
   "source": [
    "def cleanAndTokenizeText(text):\n",
    "    text = text.lower()\n",
    "    newString = \"\"\n",
    "    for char in text:\n",
    "        if char not in punctuation:\n",
    "            newString += char\n",
    "    text = word_tokenize(newString)\n",
    "    return text;\n",
    "\n",
    "def listReplacements(word):\n",
    "    if(word not in vocabulary):\n",
    "        return []\n",
    "    possibleReplacements = [word[0] for word in word_vectors.most_similar(word,topn=NUMBER_OF_ALTERNATIVES)]\n",
    "    return possibleReplacements\n",
    "\n",
    "def getPOSTags(tweet):\n",
    "    tags = nltk.pos_tag(tweet)\n",
    "    return(tags)"
   ]
  },
  {
   "cell_type": "markdown",
   "metadata": {},
   "source": [
    "## NLP Utility Code"
   ]
  },
  {
   "cell_type": "code",
   "execution_count": null,
   "metadata": {},
   "outputs": [],
   "source": [
    "def posApprovedReplacements(alternativeWords, userTokens, indexOfToken):\n",
    "    if(alternativeWords == []):\n",
    "        print(\"--- No alternative words! ---\")\n",
    "        return []\n",
    "    tempTokens = userTokens[:]\n",
    "    truePOSTokens = getPOSTags(tempTokens)\n",
    "    validWords = []\n",
    "    \n",
    "    mainTag = truePOSTokens[indexOfToken][1]\n",
    "    mainWord = userTokens[indexOfToken]\n",
    "    \n",
    "    for ind,word in enumerate(alternativeWords):\n",
    "        tempTokens[indexOfToken] = word\n",
    "        posTags = getPOSTags(tempTokens)\n",
    "        newTag = (posTags[indexOfToken])[1]\n",
    "\n",
    "        if(str(newTag) == str(mainTag)):\n",
    "            print(\"Word {0}[{1}] replaced with {2}[{3}]\".format(mainWord, mainTag, word,newTag))\n",
    "            validWords.append(word)\n",
    "    return validWords\n",
    "        "
   ]
  },
  {
   "cell_type": "code",
   "execution_count": 7,
   "metadata": {},
   "outputs": [],
   "source": [
    "def getAlternativeSentences(tweet, sentimentOfTweet):\n",
    "    userInputTokens = cleanAndTokenizeText(tweet)\n",
    "    \n",
    "   \n",
    "    alternativeStrings = []\n",
    "    for ind,word in enumerate(userInputTokens):\n",
    "        \n",
    "        score = senty.polarity_scores(word)['compound'] # get the aggregated score!\n",
    "        newUserTokens = userInputTokens[:]\n",
    "        \n",
    "        if(score != 0.0):\n",
    "            replacements = listReplacements(word)       \n",
    "            replacements = posApprovedReplacements(replacements[:], newUserTokens[:], ind)\n",
    "            \n",
    "            if(replacements == []):\n",
    "                print(\"--- No pos approved words! ---\")\n",
    "                continue          \n",
    "            for newWord in replacements:\n",
    "                \n",
    "                htmlFriendlyTokens = newUserTokens[:]\n",
    "                newUserTokens[ind] = newWord\n",
    "                htmlFriendlyTokens[ind] = cstr(\" <i>[{0}]</i> \".format(newWord), 'blue');\n",
    "                newString = ' '.join(newUserTokens)\n",
    "                sentimentOfNewString = senty.polarity_scores(newString)['compound']\n",
    "                \n",
    "#                 if(sentimentOfNewString == 0):\n",
    "#                     continue\n",
    "                \n",
    "                alternativeStrings.append(' '.join(htmlFriendlyTokens))\n",
    "    return alternativeStrings;"
   ]
  },
  {
   "cell_type": "markdown",
   "metadata": {},
   "source": [
    "## Main Cells"
   ]
  },
  {
   "cell_type": "code",
   "execution_count": 9,
   "metadata": {},
   "outputs": [],
   "source": [
    "specificString = \"\"\n",
    "def specificTextString(textString=\"\"):\n",
    "    if(textString == \"\" or textString == None):\n",
    "        return\n",
    "    mainSentiment = senty.polarity_scores(textString)['compound']\n",
    "    if(mainSentiment == 0):\n",
    "        print(\" Sentiment of String shows completely neutral \");\n",
    "        return\n",
    "    else:\n",
    "        newStrings = getAlternativeSentences(textString, mainSentiment)\n",
    "        if(newStrings == [] or newStrings == None):\n",
    "            print(\"--- No new strings generated ---\")\n",
    "            return\n",
    "        for newStr in newStrings:\n",
    "            sentimentOfNewString = senty.polarity_scores(newStr)['compound']\n",
    "            if(sentimentOfNewString == mainSentiment or sentimentOfNewString == 0):\n",
    "                display(HTML(cstr(\"{0}: {1}\".format(newStr,sentimentOfNewString),'DarkGray')))\n",
    "            elif(sentimentOfNewString > mainSentiment):\n",
    "                display(HTML(cstr(\"{0}: {1}\".format(newStr,sentimentOfNewString),'green')))\n",
    "            else:\n",
    "                display(HTML(cstr(\"{0}: {1}\".format(newStr,sentimentOfNewString),'red')))\n",
    "\n",
    "                \n",
    "                \n",
    "\n",
    "# specificString = \"I bought this for my husband who plays the piano.  \\\n",
    "# He is having a wonderful time playing these old hymns.  \\\n",
    "# The music  is at times hard to read because we think the book was \\\n",
    "# published for singing from more than playing from.  Great purchase though!\"\n",
    "specificTextString(specificString)"
   ]
  },
  {
   "cell_type": "code",
   "execution_count": 12,
   "metadata": {
    "scrolled": false
   },
   "outputs": [
    {
     "name": "stdout",
     "output_type": "stream",
     "text": [
      "\n",
      "NUM(0) no picnic  my phone smells like citrus.:0.0772\n",
      "\n",
      "Word no[DT] replaced with any[DT]\n",
      "--- No pos approved words! ---\n"
     ]
    },
    {
     "data": {
      "text/html": [
       "<text style=color:green><text style=color:blue> <i>[any]</i> </text> picnic my phone smells like citrus .: 0.3612</text>"
      ],
      "text/plain": [
       "<IPython.core.display.HTML object>"
      ]
     },
     "metadata": {},
     "output_type": "display_data"
    },
    {
     "name": "stdout",
     "output_type": "stream",
     "text": [
      "\n",
      "NUM(1)  my donkey is sensitive about such comments. nevertheless he'd (and me'd) be glad to see your mug asap. charger is still awol. :0.1779\n",
      "\n",
      "Word glad[JJ] replaced with thankful[JJ]\n",
      "Word glad[JJ] replaced with happy[JJ]\n",
      "Word glad[JJ] replaced with i[JJ]\n",
      "Word awol[JJ] replaced with unmentioned[JJ]\n",
      "Word awol[JJ] replaced with unreported[JJ]\n",
      "Word awol[JJ] replaced with unrewarded[JJ]\n"
     ]
    },
    {
     "data": {
      "text/html": [
       "<text style=color:red>my donkey is sensitive about such comments . nevertheless hed and med be <text style=color:blue> <i>[thankful]</i> </text> to see your mug asap . charger is still awol .: -0.3182</text>"
      ],
      "text/plain": [
       "<IPython.core.display.HTML object>"
      ]
     },
     "metadata": {},
     "output_type": "display_data"
    },
    {
     "data": {
      "text/html": [
       "<text style=color:red>my donkey is sensitive about such comments . nevertheless hed and med be <text style=color:blue> <i>[happy]</i> </text> to see your mug asap . charger is still awol .: -0.3182</text>"
      ],
      "text/plain": [
       "<IPython.core.display.HTML object>"
      ]
     },
     "metadata": {},
     "output_type": "display_data"
    },
    {
     "data": {
      "text/html": [
       "<text style=color:red>my donkey is sensitive about such comments . nevertheless hed and med be <text style=color:blue> <i>[i]</i> </text> to see your mug asap . charger is still awol .: -0.3182</text>"
      ],
      "text/plain": [
       "<IPython.core.display.HTML object>"
      ]
     },
     "metadata": {},
     "output_type": "display_data"
    },
    {
     "data": {
      "text/html": [
       "<text style=color:green>my donkey is sensitive about such comments . nevertheless hed and med be glad to see your mug asap . charger is still <text style=color:blue> <i>[unmentioned]</i> </text> .: 0.4588</text>"
      ],
      "text/plain": [
       "<IPython.core.display.HTML object>"
      ]
     },
     "metadata": {},
     "output_type": "display_data"
    },
    {
     "data": {
      "text/html": [
       "<text style=color:green>my donkey is sensitive about such comments . nevertheless hed and med be glad to see your mug asap . charger is still <text style=color:blue> <i>[unreported]</i> </text> .: 0.4588</text>"
      ],
      "text/plain": [
       "<IPython.core.display.HTML object>"
      ]
     },
     "metadata": {},
     "output_type": "display_data"
    },
    {
     "data": {
      "text/html": [
       "<text style=color:green>my donkey is sensitive about such comments . nevertheless hed and med be glad to see your mug asap . charger is still <text style=color:blue> <i>[unrewarded]</i> </text> .: 0.4588</text>"
      ],
      "text/plain": [
       "<IPython.core.display.HTML object>"
      ]
     },
     "metadata": {},
     "output_type": "display_data"
    },
    {
     "name": "stdout",
     "output_type": "stream",
     "text": [
      "\n",
      "NUM(2) no new csi tonight.  fml:-0.296\n",
      "\n",
      "Word no[DT] replaced with any[DT]\n"
     ]
    },
    {
     "data": {
      "text/html": [
       "<text style=color:DarkGray><text style=color:blue> <i>[any]</i> </text> new csi tonight . fml: 0.0</text>"
      ],
      "text/plain": [
       "<IPython.core.display.HTML object>"
      ]
     },
     "metadata": {},
     "output_type": "display_data"
    },
    {
     "name": "stdout",
     "output_type": "stream",
     "text": [
      "\n",
      "NUM(3) i think my arms are sore from tennis :-0.3612\n",
      "\n",
      "--- No pos approved words! ---\n",
      "--- No new strings generated ---\n",
      "\n",
      "\n",
      "\n",
      "NUM(4) wonders why someone that u like so much can make you so unhappy in a split seccond . depressed . :-0.6615\n",
      "\n",
      "--- No pos approved words! ---\n",
      "Word unhappy[JJ] replaced with disappointed[JJ]\n",
      "Word unhappy[JJ] replaced with anxious[JJ]\n",
      "Word unhappy[JJ] replaced with happy[JJ]\n",
      "Word depressed[VBN] replaced with distressed[VBN]\n",
      "Word depressed[VBN] replaced with worried[VBN]\n"
     ]
    },
    {
     "data": {
      "text/html": [
       "<text style=color:green>wonders why someone that u like so much can make you so <text style=color:blue> <i>[disappointed]</i> </text> in a split seccond . depressed .: -0.2023</text>"
      ],
      "text/plain": [
       "<IPython.core.display.HTML object>"
      ]
     },
     "metadata": {},
     "output_type": "display_data"
    },
    {
     "data": {
      "text/html": [
       "<text style=color:green>wonders why someone that u like so much can make you so <text style=color:blue> <i>[anxious]</i> </text> in a split seccond . depressed .: -0.2023</text>"
      ],
      "text/plain": [
       "<IPython.core.display.HTML object>"
      ]
     },
     "metadata": {},
     "output_type": "display_data"
    },
    {
     "data": {
      "text/html": [
       "<text style=color:green>wonders why someone that u like so much can make you so <text style=color:blue> <i>[happy]</i> </text> in a split seccond . depressed .: -0.2023</text>"
      ],
      "text/plain": [
       "<IPython.core.display.HTML object>"
      ]
     },
     "metadata": {},
     "output_type": "display_data"
    },
    {
     "data": {
      "text/html": [
       "<text style=color:green>wonders why someone that u like so much can make you so unhappy in a split seccond . <text style=color:blue> <i>[distressed]</i> </text> .: -0.2769</text>"
      ],
      "text/plain": [
       "<IPython.core.display.HTML object>"
      ]
     },
     "metadata": {},
     "output_type": "display_data"
    },
    {
     "data": {
      "text/html": [
       "<text style=color:green>wonders why someone that u like so much can make you so unhappy in a split seccond . <text style=color:blue> <i>[worried]</i> </text> .: -0.2769</text>"
      ],
      "text/plain": [
       "<IPython.core.display.HTML object>"
      ]
     },
     "metadata": {},
     "output_type": "display_data"
    },
    {
     "name": "stdout",
     "output_type": "stream",
     "text": [
      "\n",
      "NUM(5) sleep soon... i just hate saying bye and see you tomorrow for the night. :-0.5719\n",
      "\n",
      "--- No pos approved words! ---\n",
      "--- No new strings generated ---\n",
      "\n",
      "\n",
      "\n",
      "NUM(6)  just got ur newsletter those fares really are unbelievable shame i already booked and paid for mine :-0.315\n",
      "\n",
      "Word unbelievable[JJ] replaced with incredible[JJ]\n",
      "Word unbelievable[JJ] replaced with awesome[JJ]\n",
      "Word unbelievable[JJ] replaced with fantastic[JJ]\n",
      "Word unbelievable[JJ] replaced with awful[JJ]\n",
      "Word unbelievable[JJ] replaced with phenomenal[JJ]\n",
      "Word shame[NN] replaced with disgrace[NN]\n",
      "Word shame[NN] replaced with pity[NN]\n",
      "Word shame[NN] replaced with sorrow[NN]\n",
      "Word shame[NN] replaced with disgust[NN]\n",
      "Word shame[NN] replaced with despair[NN]\n"
     ]
    },
    {
     "data": {
      "text/html": [
       "<text style=color:red>just got ur newsletter those fares really are <text style=color:blue> <i>[incredible]</i> </text> shame i already booked and paid for mine: -0.4767</text>"
      ],
      "text/plain": [
       "<IPython.core.display.HTML object>"
      ]
     },
     "metadata": {},
     "output_type": "display_data"
    },
    {
     "data": {
      "text/html": [
       "<text style=color:red>just got ur newsletter those fares really are <text style=color:blue> <i>[awesome]</i> </text> shame i already booked and paid for mine: -0.4767</text>"
      ],
      "text/plain": [
       "<IPython.core.display.HTML object>"
      ]
     },
     "metadata": {},
     "output_type": "display_data"
    },
    {
     "data": {
      "text/html": [
       "<text style=color:red>just got ur newsletter those fares really are <text style=color:blue> <i>[fantastic]</i> </text> shame i already booked and paid for mine: -0.4767</text>"
      ],
      "text/plain": [
       "<IPython.core.display.HTML object>"
      ]
     },
     "metadata": {},
     "output_type": "display_data"
    },
    {
     "data": {
      "text/html": [
       "<text style=color:red>just got ur newsletter those fares really are <text style=color:blue> <i>[awful]</i> </text> shame i already booked and paid for mine: -0.4767</text>"
      ],
      "text/plain": [
       "<IPython.core.display.HTML object>"
      ]
     },
     "metadata": {},
     "output_type": "display_data"
    },
    {
     "data": {
      "text/html": [
       "<text style=color:red>just got ur newsletter those fares really are <text style=color:blue> <i>[phenomenal]</i> </text> shame i already booked and paid for mine: -0.4767</text>"
      ],
      "text/plain": [
       "<IPython.core.display.HTML object>"
      ]
     },
     "metadata": {},
     "output_type": "display_data"
    },
    {
     "data": {
      "text/html": [
       "<text style=color:green>just got ur newsletter those fares really are unbelievable <text style=color:blue> <i>[disgrace]</i> </text> i already booked and paid for mine: 0.2682</text>"
      ],
      "text/plain": [
       "<IPython.core.display.HTML object>"
      ]
     },
     "metadata": {},
     "output_type": "display_data"
    },
    {
     "data": {
      "text/html": [
       "<text style=color:green>just got ur newsletter those fares really are unbelievable <text style=color:blue> <i>[pity]</i> </text> i already booked and paid for mine: 0.2682</text>"
      ],
      "text/plain": [
       "<IPython.core.display.HTML object>"
      ]
     },
     "metadata": {},
     "output_type": "display_data"
    },
    {
     "data": {
      "text/html": [
       "<text style=color:green>just got ur newsletter those fares really are unbelievable <text style=color:blue> <i>[sorrow]</i> </text> i already booked and paid for mine: 0.2682</text>"
      ],
      "text/plain": [
       "<IPython.core.display.HTML object>"
      ]
     },
     "metadata": {},
     "output_type": "display_data"
    },
    {
     "data": {
      "text/html": [
       "<text style=color:green>just got ur newsletter those fares really are unbelievable <text style=color:blue> <i>[disgust]</i> </text> i already booked and paid for mine: 0.2682</text>"
      ],
      "text/plain": [
       "<IPython.core.display.HTML object>"
      ]
     },
     "metadata": {},
     "output_type": "display_data"
    },
    {
     "data": {
      "text/html": [
       "<text style=color:green>just got ur newsletter those fares really are unbelievable <text style=color:blue> <i>[despair]</i> </text> i already booked and paid for mine: 0.2682</text>"
      ],
      "text/plain": [
       "<IPython.core.display.HTML object>"
      ]
     },
     "metadata": {},
     "output_type": "display_data"
    },
    {
     "name": "stdout",
     "output_type": "stream",
     "text": [
      "\n",
      "NUM(9) damn... i don't have any chalk! my chalkboard is useless :-0.4753\n",
      "\n",
      "Word damn[NN] replaced with darn[NN]\n",
      "Word damn[NN] replaced with yeah[NN]\n",
      "Word damn[NN] replaced with heck[NN]\n",
      "Word useless[JJ] replaced with irrelevant[JJ]\n",
      "Word useless[JJ] replaced with meaningless[JJ]\n",
      "Word useless[JJ] replaced with superfluous[JJ]\n",
      "Word useless[JJ] replaced with impractical[JJ]\n",
      "Word useless[JJ] replaced with pointless[JJ]\n",
      "Word useless[JJ] replaced with worthless[JJ]\n",
      "Word useless[JJ] replaced with harmless[JJ]\n"
     ]
    },
    {
     "data": {
      "text/html": [
       "<text style=color:DarkGray><text style=color:blue> <i>[darn]</i> </text> ... i dont have any chalk ! my chalkboard is useless: -0.4753</text>"
      ],
      "text/plain": [
       "<IPython.core.display.HTML object>"
      ]
     },
     "metadata": {},
     "output_type": "display_data"
    },
    {
     "data": {
      "text/html": [
       "<text style=color:DarkGray><text style=color:blue> <i>[yeah]</i> </text> ... i dont have any chalk ! my chalkboard is useless: -0.4753</text>"
      ],
      "text/plain": [
       "<IPython.core.display.HTML object>"
      ]
     },
     "metadata": {},
     "output_type": "display_data"
    },
    {
     "data": {
      "text/html": [
       "<text style=color:DarkGray><text style=color:blue> <i>[heck]</i> </text> ... i dont have any chalk ! my chalkboard is useless: -0.4753</text>"
      ],
      "text/plain": [
       "<IPython.core.display.HTML object>"
      ]
     },
     "metadata": {},
     "output_type": "display_data"
    },
    {
     "data": {
      "text/html": [
       "<text style=color:green>damn ... i dont have any chalk ! my chalkboard is <text style=color:blue> <i>[irrelevant]</i> </text>: -0.4574</text>"
      ],
      "text/plain": [
       "<IPython.core.display.HTML object>"
      ]
     },
     "metadata": {},
     "output_type": "display_data"
    },
    {
     "data": {
      "text/html": [
       "<text style=color:green>damn ... i dont have any chalk ! my chalkboard is <text style=color:blue> <i>[meaningless]</i> </text>: -0.4574</text>"
      ],
      "text/plain": [
       "<IPython.core.display.HTML object>"
      ]
     },
     "metadata": {},
     "output_type": "display_data"
    },
    {
     "data": {
      "text/html": [
       "<text style=color:green>damn ... i dont have any chalk ! my chalkboard is <text style=color:blue> <i>[superfluous]</i> </text>: -0.4574</text>"
      ],
      "text/plain": [
       "<IPython.core.display.HTML object>"
      ]
     },
     "metadata": {},
     "output_type": "display_data"
    },
    {
     "data": {
      "text/html": [
       "<text style=color:green>damn ... i dont have any chalk ! my chalkboard is <text style=color:blue> <i>[impractical]</i> </text>: -0.4574</text>"
      ],
      "text/plain": [
       "<IPython.core.display.HTML object>"
      ]
     },
     "metadata": {},
     "output_type": "display_data"
    },
    {
     "data": {
      "text/html": [
       "<text style=color:green>damn ... i dont have any chalk ! my chalkboard is <text style=color:blue> <i>[pointless]</i> </text>: -0.4574</text>"
      ],
      "text/plain": [
       "<IPython.core.display.HTML object>"
      ]
     },
     "metadata": {},
     "output_type": "display_data"
    },
    {
     "data": {
      "text/html": [
       "<text style=color:green>damn ... i dont have any chalk ! my chalkboard is <text style=color:blue> <i>[worthless]</i> </text>: -0.4574</text>"
      ],
      "text/plain": [
       "<IPython.core.display.HTML object>"
      ]
     },
     "metadata": {},
     "output_type": "display_data"
    },
    {
     "data": {
      "text/html": [
       "<text style=color:green>damn ... i dont have any chalk ! my chalkboard is <text style=color:blue> <i>[harmless]</i> </text>: -0.4574</text>"
      ],
      "text/plain": [
       "<IPython.core.display.HTML object>"
      ]
     },
     "metadata": {},
     "output_type": "display_data"
    },
    {
     "name": "stdout",
     "output_type": "stream",
     "text": [
      "\n",
      "NUM(10) had a blast at the getty villa but hates that she's had a sore throat all day. it's just getting worse too :-0.9052\n",
      "\n",
      "Word hates[VBZ] replaced with loves[VBZ]\n",
      "Word hates[VBZ] replaced with thinks[VBZ]\n",
      "Word hates[VBZ] replaced with cares[VBZ]\n",
      "Word hates[VBZ] replaced with despises[VBZ]\n",
      "Word hates[VBZ] replaced with likes[VBZ]\n",
      "Word hates[VBZ] replaced with adores[VBZ]\n",
      "Word sore[NN] replaced with shoulder[NN]\n",
      "Word sore[NN] replaced with tendinitis[NN]\n",
      "Word sore[NN] replaced with knee[NN]\n",
      "Word sore[NN] replaced with groin[NN]\n",
      "--- No pos approved words! ---\n"
     ]
    },
    {
     "data": {
      "text/html": [
       "<text style=color:green>had a blast at the getty villa but <text style=color:blue> <i>[loves]</i> </text> that shes had a sore throat all day . its just getting worse too: -0.8126</text>"
      ],
      "text/plain": [
       "<IPython.core.display.HTML object>"
      ]
     },
     "metadata": {},
     "output_type": "display_data"
    },
    {
     "data": {
      "text/html": [
       "<text style=color:green>had a blast at the getty villa but <text style=color:blue> <i>[thinks]</i> </text> that shes had a sore throat all day . its just getting worse too: -0.8126</text>"
      ],
      "text/plain": [
       "<IPython.core.display.HTML object>"
      ]
     },
     "metadata": {},
     "output_type": "display_data"
    },
    {
     "data": {
      "text/html": [
       "<text style=color:green>had a blast at the getty villa but <text style=color:blue> <i>[cares]</i> </text> that shes had a sore throat all day . its just getting worse too: -0.8126</text>"
      ],
      "text/plain": [
       "<IPython.core.display.HTML object>"
      ]
     },
     "metadata": {},
     "output_type": "display_data"
    },
    {
     "data": {
      "text/html": [
       "<text style=color:green>had a blast at the getty villa but <text style=color:blue> <i>[despises]</i> </text> that shes had a sore throat all day . its just getting worse too: -0.8126</text>"
      ],
      "text/plain": [
       "<IPython.core.display.HTML object>"
      ]
     },
     "metadata": {},
     "output_type": "display_data"
    },
    {
     "data": {
      "text/html": [
       "<text style=color:green>had a blast at the getty villa but <text style=color:blue> <i>[likes]</i> </text> that shes had a sore throat all day . its just getting worse too: -0.8126</text>"
      ],
      "text/plain": [
       "<IPython.core.display.HTML object>"
      ]
     },
     "metadata": {},
     "output_type": "display_data"
    },
    {
     "data": {
      "text/html": [
       "<text style=color:green>had a blast at the getty villa but <text style=color:blue> <i>[adores]</i> </text> that shes had a sore throat all day . its just getting worse too: -0.8126</text>"
      ],
      "text/plain": [
       "<IPython.core.display.HTML object>"
      ]
     },
     "metadata": {},
     "output_type": "display_data"
    },
    {
     "data": {
      "text/html": [
       "<text style=color:green>had a blast at the getty villa but hates that shes had a <text style=color:blue> <i>[shoulder]</i> </text> throat all day . its just getting worse too: -0.8402</text>"
      ],
      "text/plain": [
       "<IPython.core.display.HTML object>"
      ]
     },
     "metadata": {},
     "output_type": "display_data"
    },
    {
     "data": {
      "text/html": [
       "<text style=color:green>had a blast at the getty villa but hates that shes had a <text style=color:blue> <i>[tendinitis]</i> </text> throat all day . its just getting worse too: -0.8402</text>"
      ],
      "text/plain": [
       "<IPython.core.display.HTML object>"
      ]
     },
     "metadata": {},
     "output_type": "display_data"
    },
    {
     "data": {
      "text/html": [
       "<text style=color:green>had a blast at the getty villa but hates that shes had a <text style=color:blue> <i>[knee]</i> </text> throat all day . its just getting worse too: -0.8402</text>"
      ],
      "text/plain": [
       "<IPython.core.display.HTML object>"
      ]
     },
     "metadata": {},
     "output_type": "display_data"
    },
    {
     "data": {
      "text/html": [
       "<text style=color:green>had a blast at the getty villa but hates that shes had a <text style=color:blue> <i>[groin]</i> </text> throat all day . its just getting worse too: -0.8402</text>"
      ],
      "text/plain": [
       "<IPython.core.display.HTML object>"
      ]
     },
     "metadata": {},
     "output_type": "display_data"
    },
    {
     "name": "stdout",
     "output_type": "stream",
     "text": [
      "\n",
      "NUM(11)  hey missed ya at the meeting  sup mama:-0.296\n",
      "\n",
      "Word missed[VBD] replaced with scored[VBD]\n",
      "Word missed[VBD] replaced with shot[VBD]\n",
      "Word missed[VBD] replaced with got[VBD]\n"
     ]
    },
    {
     "data": {
      "text/html": [
       "<text style=color:DarkGray>hey <text style=color:blue> <i>[scored]</i> </text> ya at the meeting sup mama: 0.0</text>"
      ],
      "text/plain": [
       "<IPython.core.display.HTML object>"
      ]
     },
     "metadata": {},
     "output_type": "display_data"
    },
    {
     "data": {
      "text/html": [
       "<text style=color:DarkGray>hey <text style=color:blue> <i>[shot]</i> </text> ya at the meeting sup mama: 0.0</text>"
      ],
      "text/plain": [
       "<IPython.core.display.HTML object>"
      ]
     },
     "metadata": {},
     "output_type": "display_data"
    },
    {
     "data": {
      "text/html": [
       "<text style=color:DarkGray>hey <text style=color:blue> <i>[got]</i> </text> ya at the meeting sup mama: 0.0</text>"
      ],
      "text/plain": [
       "<IPython.core.display.HTML object>"
      ]
     },
     "metadata": {},
     "output_type": "display_data"
    },
    {
     "name": "stdout",
     "output_type": "stream",
     "text": [
      "\n",
      "NUM(12) my tummy hurts.  i wonder if the hypnosis has anything to do with it? if so it's working i get it stop smoking!!!:-0.7332\n",
      "\n",
      "Word hurts[VBZ] replaced with weakens[VBZ]\n",
      "--- No pos approved words! ---\n"
     ]
    },
    {
     "data": {
      "text/html": [
       "<text style=color:green>my tummy <text style=color:blue> <i>[weakens]</i> </text> . i wonder if the hypnosis has anything to do with it if so its working i get it stop smoking ! ! !: -0.4724</text>"
      ],
      "text/plain": [
       "<IPython.core.display.HTML object>"
      ]
     },
     "metadata": {},
     "output_type": "display_data"
    },
    {
     "name": "stdout",
     "output_type": "stream",
     "text": [
      "\n",
      "NUM(14)  sorry babe!!  my fam annoys me too. thankfully they're asleep right now. muahaha. *evil laugh*:-0.2225\n",
      "\n",
      "Word sorry[JJ] replaced with glad[JJ]\n",
      "Word sorry[JJ] replaced with sad[JJ]\n",
      "Word sorry[JJ] replaced with disappointed[JJ]\n",
      "Word sorry[JJ] replaced with happy[JJ]\n",
      "Word sorry[JJ] replaced with regret[JJ]\n",
      "--- No pos approved words! ---\n",
      "Word thankfully[RB] replaced with luckily[RB]\n",
      "Word thankfully[RB] replaced with fortunately[RB]\n",
      "Word thankfully[RB] replaced with sadly[RB]\n",
      "Word thankfully[RB] replaced with regrettably[RB]\n",
      "Word thankfully[RB] replaced with admittedly[RB]\n"
     ]
    },
    {
     "data": {
      "text/html": [
       "<text style=color:DarkGray><text style=color:blue> <i>[glad]</i> </text> babe ! ! my fam annoys me too . thankfully theyre asleep right now . muahaha . *evil laugh*: 0.0</text>"
      ],
      "text/plain": [
       "<IPython.core.display.HTML object>"
      ]
     },
     "metadata": {},
     "output_type": "display_data"
    },
    {
     "data": {
      "text/html": [
       "<text style=color:DarkGray><text style=color:blue> <i>[sad]</i> </text> babe ! ! my fam annoys me too . thankfully theyre asleep right now . muahaha . *evil laugh*: 0.0</text>"
      ],
      "text/plain": [
       "<IPython.core.display.HTML object>"
      ]
     },
     "metadata": {},
     "output_type": "display_data"
    },
    {
     "data": {
      "text/html": [
       "<text style=color:DarkGray><text style=color:blue> <i>[disappointed]</i> </text> babe ! ! my fam annoys me too . thankfully theyre asleep right now . muahaha . *evil laugh*: 0.0</text>"
      ],
      "text/plain": [
       "<IPython.core.display.HTML object>"
      ]
     },
     "metadata": {},
     "output_type": "display_data"
    },
    {
     "data": {
      "text/html": [
       "<text style=color:DarkGray><text style=color:blue> <i>[happy]</i> </text> babe ! ! my fam annoys me too . thankfully theyre asleep right now . muahaha . *evil laugh*: 0.0</text>"
      ],
      "text/plain": [
       "<IPython.core.display.HTML object>"
      ]
     },
     "metadata": {},
     "output_type": "display_data"
    },
    {
     "data": {
      "text/html": [
       "<text style=color:DarkGray><text style=color:blue> <i>[regret]</i> </text> babe ! ! my fam annoys me too . thankfully theyre asleep right now . muahaha . *evil laugh*: 0.0</text>"
      ],
      "text/plain": [
       "<IPython.core.display.HTML object>"
      ]
     },
     "metadata": {},
     "output_type": "display_data"
    },
    {
     "data": {
      "text/html": [
       "<text style=color:red>sorry babe ! ! my fam annoys me too . <text style=color:blue> <i>[luckily]</i> </text> theyre asleep right now . muahaha . *evil laugh*: -0.5696</text>"
      ],
      "text/plain": [
       "<IPython.core.display.HTML object>"
      ]
     },
     "metadata": {},
     "output_type": "display_data"
    },
    {
     "data": {
      "text/html": [
       "<text style=color:red>sorry babe ! ! my fam annoys me too . <text style=color:blue> <i>[fortunately]</i> </text> theyre asleep right now . muahaha . *evil laugh*: -0.5696</text>"
      ],
      "text/plain": [
       "<IPython.core.display.HTML object>"
      ]
     },
     "metadata": {},
     "output_type": "display_data"
    },
    {
     "data": {
      "text/html": [
       "<text style=color:red>sorry babe ! ! my fam annoys me too . <text style=color:blue> <i>[sadly]</i> </text> theyre asleep right now . muahaha . *evil laugh*: -0.5696</text>"
      ],
      "text/plain": [
       "<IPython.core.display.HTML object>"
      ]
     },
     "metadata": {},
     "output_type": "display_data"
    },
    {
     "data": {
      "text/html": [
       "<text style=color:red>sorry babe ! ! my fam annoys me too . <text style=color:blue> <i>[regrettably]</i> </text> theyre asleep right now . muahaha . *evil laugh*: -0.5696</text>"
      ],
      "text/plain": [
       "<IPython.core.display.HTML object>"
      ]
     },
     "metadata": {},
     "output_type": "display_data"
    },
    {
     "data": {
      "text/html": [
       "<text style=color:red>sorry babe ! ! my fam annoys me too . <text style=color:blue> <i>[admittedly]</i> </text> theyre asleep right now . muahaha . *evil laugh*: -0.5696</text>"
      ],
      "text/plain": [
       "<IPython.core.display.HTML object>"
      ]
     },
     "metadata": {},
     "output_type": "display_data"
    },
    {
     "name": "stdout",
     "output_type": "stream",
     "text": [
      "\n",
      "NUM(17) poor cameron (the hills) :-0.4767\n",
      "\n",
      "Word poor[JJ] replaced with bad[JJ]\n",
      "Word poor[JJ] replaced with low[JJ]\n"
     ]
    },
    {
     "data": {
      "text/html": [
       "<text style=color:DarkGray><text style=color:blue> <i>[bad]</i> </text> cameron the hills: 0.0</text>"
      ],
      "text/plain": [
       "<IPython.core.display.HTML object>"
      ]
     },
     "metadata": {},
     "output_type": "display_data"
    },
    {
     "data": {
      "text/html": [
       "<text style=color:DarkGray><text style=color:blue> <i>[low]</i> </text> cameron the hills: 0.0</text>"
      ],
      "text/plain": [
       "<IPython.core.display.HTML object>"
      ]
     },
     "metadata": {},
     "output_type": "display_data"
    },
    {
     "name": "stdout",
     "output_type": "stream",
     "text": [
      "\n",
      "NUM(18) pray for me please the ex is threatening to start sh** at my/our babies 1st birthday party. what a jerk. and i still have a headache :0.128\n",
      "\n",
      "Word pray[NN] replaced with prayed[NN]\n",
      "Word pray[NN] replaced with god[NN]\n",
      "Word pray[NN] replaced with mourn[NN]\n",
      "Word pray[NN] replaced with prayer[NN]\n",
      "Word please[VB] replaced with wish[VB]\n",
      "Word please[VB] replaced with call[VB]\n",
      "Word please[VB] replaced with forget[VB]\n",
      "Word threatening[VBG] replaced with causing[VBG]\n",
      "Word party[NN] replaced with opposition[NN]\n",
      "Word party[NN] replaced with coalition[NN]\n",
      "Word party[NN] replaced with leader[NN]\n",
      "Word party[NN] replaced with election[NN]\n",
      "Word party[NN] replaced with candidate[NN]\n",
      "Word jerk[NN] replaced with snatch[NN]\n",
      "Word jerk[NN] replaced with jerked[NN]\n",
      "Word jerk[NN] replaced with kgs[NN]\n",
      "Word jerk[NN] replaced with lifter[NN]\n",
      "Word jerk[NN] replaced with goetschl[NN]\n"
     ]
    },
    {
     "data": {
      "text/html": [
       "<text style=color:red><text style=color:blue> <i>[prayed]</i> </text> for me please the ex is threatening to start sh** at myour babies 1st birthday party . what a jerk . and i still have a headache: -0.2023</text>"
      ],
      "text/plain": [
       "<IPython.core.display.HTML object>"
      ]
     },
     "metadata": {},
     "output_type": "display_data"
    },
    {
     "data": {
      "text/html": [
       "<text style=color:red><text style=color:blue> <i>[god]</i> </text> for me please the ex is threatening to start sh** at myour babies 1st birthday party . what a jerk . and i still have a headache: -0.2023</text>"
      ],
      "text/plain": [
       "<IPython.core.display.HTML object>"
      ]
     },
     "metadata": {},
     "output_type": "display_data"
    },
    {
     "data": {
      "text/html": [
       "<text style=color:red><text style=color:blue> <i>[mourn]</i> </text> for me please the ex is threatening to start sh** at myour babies 1st birthday party . what a jerk . and i still have a headache: -0.2023</text>"
      ],
      "text/plain": [
       "<IPython.core.display.HTML object>"
      ]
     },
     "metadata": {},
     "output_type": "display_data"
    },
    {
     "data": {
      "text/html": [
       "<text style=color:red><text style=color:blue> <i>[prayer]</i> </text> for me please the ex is threatening to start sh** at myour babies 1st birthday party . what a jerk . and i still have a headache: -0.2023</text>"
      ],
      "text/plain": [
       "<IPython.core.display.HTML object>"
      ]
     },
     "metadata": {},
     "output_type": "display_data"
    },
    {
     "data": {
      "text/html": [
       "<text style=color:red>pray for me <text style=color:blue> <i>[wish]</i> </text> the ex is threatening to start sh** at myour babies 1st birthday party . what a jerk . and i still have a headache: -0.2023</text>"
      ],
      "text/plain": [
       "<IPython.core.display.HTML object>"
      ]
     },
     "metadata": {},
     "output_type": "display_data"
    },
    {
     "data": {
      "text/html": [
       "<text style=color:red>pray for me <text style=color:blue> <i>[call]</i> </text> the ex is threatening to start sh** at myour babies 1st birthday party . what a jerk . and i still have a headache: -0.2023</text>"
      ],
      "text/plain": [
       "<IPython.core.display.HTML object>"
      ]
     },
     "metadata": {},
     "output_type": "display_data"
    },
    {
     "data": {
      "text/html": [
       "<text style=color:red>pray for me <text style=color:blue> <i>[forget]</i> </text> the ex is threatening to start sh** at myour babies 1st birthday party . what a jerk . and i still have a headache: -0.2023</text>"
      ],
      "text/plain": [
       "<IPython.core.display.HTML object>"
      ]
     },
     "metadata": {},
     "output_type": "display_data"
    },
    {
     "data": {
      "text/html": [
       "<text style=color:green>pray for me please the ex is <text style=color:blue> <i>[causing]</i> </text> to start sh** at myour babies 1st birthday party . what a jerk . and i still have a headache: 0.5994</text>"
      ],
      "text/plain": [
       "<IPython.core.display.HTML object>"
      ]
     },
     "metadata": {},
     "output_type": "display_data"
    },
    {
     "data": {
      "text/html": [
       "<text style=color:red>pray for me please the ex is threatening to start sh** at myour babies 1st birthday <text style=color:blue> <i>[opposition]</i> </text> . what a jerk . and i still have a headache: -0.296</text>"
      ],
      "text/plain": [
       "<IPython.core.display.HTML object>"
      ]
     },
     "metadata": {},
     "output_type": "display_data"
    },
    {
     "data": {
      "text/html": [
       "<text style=color:red>pray for me please the ex is threatening to start sh** at myour babies 1st birthday <text style=color:blue> <i>[coalition]</i> </text> . what a jerk . and i still have a headache: -0.296</text>"
      ],
      "text/plain": [
       "<IPython.core.display.HTML object>"
      ]
     },
     "metadata": {},
     "output_type": "display_data"
    },
    {
     "data": {
      "text/html": [
       "<text style=color:red>pray for me please the ex is threatening to start sh** at myour babies 1st birthday <text style=color:blue> <i>[leader]</i> </text> . what a jerk . and i still have a headache: -0.296</text>"
      ],
      "text/plain": [
       "<IPython.core.display.HTML object>"
      ]
     },
     "metadata": {},
     "output_type": "display_data"
    },
    {
     "data": {
      "text/html": [
       "<text style=color:red>pray for me please the ex is threatening to start sh** at myour babies 1st birthday <text style=color:blue> <i>[election]</i> </text> . what a jerk . and i still have a headache: -0.296</text>"
      ],
      "text/plain": [
       "<IPython.core.display.HTML object>"
      ]
     },
     "metadata": {},
     "output_type": "display_data"
    },
    {
     "data": {
      "text/html": [
       "<text style=color:red>pray for me please the ex is threatening to start sh** at myour babies 1st birthday <text style=color:blue> <i>[candidate]</i> </text> . what a jerk . and i still have a headache: -0.296</text>"
      ],
      "text/plain": [
       "<IPython.core.display.HTML object>"
      ]
     },
     "metadata": {},
     "output_type": "display_data"
    },
    {
     "data": {
      "text/html": [
       "<text style=color:green>pray for me please the ex is threatening to start sh** at myour babies 1st birthday party . what a <text style=color:blue> <i>[snatch]</i> </text> . and i still have a headache: 0.4404</text>"
      ],
      "text/plain": [
       "<IPython.core.display.HTML object>"
      ]
     },
     "metadata": {},
     "output_type": "display_data"
    },
    {
     "data": {
      "text/html": [
       "<text style=color:green>pray for me please the ex is threatening to start sh** at myour babies 1st birthday party . what a <text style=color:blue> <i>[jerked]</i> </text> . and i still have a headache: 0.4404</text>"
      ],
      "text/plain": [
       "<IPython.core.display.HTML object>"
      ]
     },
     "metadata": {},
     "output_type": "display_data"
    },
    {
     "data": {
      "text/html": [
       "<text style=color:green>pray for me please the ex is threatening to start sh** at myour babies 1st birthday party . what a <text style=color:blue> <i>[kgs]</i> </text> . and i still have a headache: 0.4404</text>"
      ],
      "text/plain": [
       "<IPython.core.display.HTML object>"
      ]
     },
     "metadata": {},
     "output_type": "display_data"
    },
    {
     "data": {
      "text/html": [
       "<text style=color:green>pray for me please the ex is threatening to start sh** at myour babies 1st birthday party . what a <text style=color:blue> <i>[lifter]</i> </text> . and i still have a headache: 0.4404</text>"
      ],
      "text/plain": [
       "<IPython.core.display.HTML object>"
      ]
     },
     "metadata": {},
     "output_type": "display_data"
    },
    {
     "data": {
      "text/html": [
       "<text style=color:green>pray for me please the ex is threatening to start sh** at myour babies 1st birthday party . what a <text style=color:blue> <i>[goetschl]</i> </text> . and i still have a headache: 0.4404</text>"
      ],
      "text/plain": [
       "<IPython.core.display.HTML object>"
      ]
     },
     "metadata": {},
     "output_type": "display_data"
    },
    {
     "name": "stdout",
     "output_type": "stream",
     "text": [
      "\n",
      "NUM(19)  hmm   do u really enjoy being with him ? if the problems are too constants u should think things more  find someone ulike:0.2006\n",
      "\n",
      "Word enjoy[VB] replaced with prefer[VB]\n",
      "Word enjoy[VB] replaced with feel[VB]\n",
      "Word problems[NNS] replaced with difficulties[NNS]\n",
      "Word problems[NNS] replaced with troubles[NNS]\n",
      "Word problems[NNS] replaced with concerns[NNS]\n"
     ]
    },
    {
     "data": {
      "text/html": [
       "<text style=color:red>hmm do u really <text style=color:blue> <i>[prefer]</i> </text> being with him if the problems are too constants u should think things more find someone ulike: -0.4019</text>"
      ],
      "text/plain": [
       "<IPython.core.display.HTML object>"
      ]
     },
     "metadata": {},
     "output_type": "display_data"
    },
    {
     "data": {
      "text/html": [
       "<text style=color:red>hmm do u really <text style=color:blue> <i>[feel]</i> </text> being with him if the problems are too constants u should think things more find someone ulike: -0.4019</text>"
      ],
      "text/plain": [
       "<IPython.core.display.HTML object>"
      ]
     },
     "metadata": {},
     "output_type": "display_data"
    },
    {
     "data": {
      "text/html": [
       "<text style=color:green>hmm do u really enjoy being with him if the <text style=color:blue> <i>[difficulties]</i> </text> are too constants u should think things more find someone ulike: 0.5413</text>"
      ],
      "text/plain": [
       "<IPython.core.display.HTML object>"
      ]
     },
     "metadata": {},
     "output_type": "display_data"
    },
    {
     "data": {
      "text/html": [
       "<text style=color:green>hmm do u really enjoy being with him if the <text style=color:blue> <i>[troubles]</i> </text> are too constants u should think things more find someone ulike: 0.5413</text>"
      ],
      "text/plain": [
       "<IPython.core.display.HTML object>"
      ]
     },
     "metadata": {},
     "output_type": "display_data"
    },
    {
     "data": {
      "text/html": [
       "<text style=color:green>hmm do u really enjoy being with him if the <text style=color:blue> <i>[concerns]</i> </text> are too constants u should think things more find someone ulike: 0.5413</text>"
      ],
      "text/plain": [
       "<IPython.core.display.HTML object>"
      ]
     },
     "metadata": {},
     "output_type": "display_data"
    }
   ],
   "source": [
    "def runThroughTweets():\n",
    "\n",
    "    tweets_df = pd.read_csv( pathToDatasets + 'cleanedTweets.csv' , nrows=NUM_OF_TWEETS, skiprows=TWEET_START)\n",
    "\n",
    "    tweets = tweets_df.values\n",
    "\n",
    "    \n",
    "    for counter,tweet in enumerate(tweets):\n",
    "        tweet = tweet[0]\n",
    "        \n",
    "        mainSentiment = senty.polarity_scores(tweet)['compound']\n",
    "        if(mainSentiment == 0):\n",
    "            continue\n",
    "        print(\"\\nNUM({2}) {0}:{1}\\n\".format(tweet,mainSentiment, counter))       \n",
    "        newStrings = getAlternativeSentences(tweet, mainSentiment)\n",
    "        if(newStrings == [] or newStrings == None):\n",
    "            print(\"--- No new strings generated ---\\n\\n\")\n",
    "            continue\n",
    "        for alteredTweet in newStrings:\n",
    "            sentimentOfNewString = senty.polarity_scores(alteredTweet)['compound']\n",
    "            if(sentimentOfNewString == mainSentiment or sentimentOfNewString == 0):\n",
    "                display(HTML(cstr(\"{0}: {1}\".format(alteredTweet,sentimentOfNewString),'DarkGray')))\n",
    "            elif(sentimentOfNewString > mainSentiment):\n",
    "                display(HTML(cstr(\"{0}: {1}\".format(alteredTweet,sentimentOfNewString),'green')))\n",
    "            else:\n",
    "                display(HTML(cstr(\"{0}: {1}\".format(alteredTweet,sentimentOfNewString),'red')))\n",
    "    \n",
    "    \n",
    "runThroughTweets()"
   ]
  },
  {
   "cell_type": "code",
   "execution_count": null,
   "metadata": {},
   "outputs": [],
   "source": []
  }
 ],
 "metadata": {
  "kernelspec": {
   "display_name": "Python 3",
   "language": "python",
   "name": "python3"
  },
  "language_info": {
   "codemirror_mode": {
    "name": "ipython",
    "version": 3
   },
   "file_extension": ".py",
   "mimetype": "text/x-python",
   "name": "python",
   "nbconvert_exporter": "python",
   "pygments_lexer": "ipython3",
   "version": "3.6.5"
  }
 },
 "nbformat": 4,
 "nbformat_minor": 2
}
